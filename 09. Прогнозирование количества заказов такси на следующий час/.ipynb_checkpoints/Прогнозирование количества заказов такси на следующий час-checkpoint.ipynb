{
 "cells": [
  {
   "cell_type": "markdown",
   "metadata": {
    "toc": true
   },
   "source": [
    "<h1>Содержание<span class=\"tocSkip\"></span></h1>\n",
    "<div class=\"toc\"><ul class=\"toc-item\"><li><span><a href=\"#Подготовка\" data-toc-modified-id=\"Подготовка-1\"><span class=\"toc-item-num\">1&nbsp;&nbsp;</span>Подготовка</a></span></li><li><span><a href=\"#Анализ\" data-toc-modified-id=\"Анализ-2\"><span class=\"toc-item-num\">2&nbsp;&nbsp;</span>Анализ</a></span></li><li><span><a href=\"#Обучение\" data-toc-modified-id=\"Обучение-3\"><span class=\"toc-item-num\">3&nbsp;&nbsp;</span>Обучение</a></span><ul class=\"toc-item\"><li><span><a href=\"#Подготовка-выборок\" data-toc-modified-id=\"Подготовка-выборок-3.1\"><span class=\"toc-item-num\">3.1&nbsp;&nbsp;</span>Подготовка выборок</a></span></li><li><span><a href=\"#Cлучайный-лес\" data-toc-modified-id=\"Cлучайный-лес-3.2\"><span class=\"toc-item-num\">3.2&nbsp;&nbsp;</span>Cлучайный лес</a></span></li><li><span><a href=\"#Линейная-регрессия\" data-toc-modified-id=\"Линейная-регрессия-3.3\"><span class=\"toc-item-num\">3.3&nbsp;&nbsp;</span>Линейная регрессия</a></span></li><li><span><a href=\"#LightGBM\" data-toc-modified-id=\"LightGBM-3.4\"><span class=\"toc-item-num\">3.4&nbsp;&nbsp;</span>LightGBM</a></span></li></ul></li><li><span><a href=\"#Тестирование\" data-toc-modified-id=\"Тестирование-4\"><span class=\"toc-item-num\">4&nbsp;&nbsp;</span>Тестирование</a></span></li><li><span><a href=\"#Выводы\" data-toc-modified-id=\"Выводы-5\"><span class=\"toc-item-num\">5&nbsp;&nbsp;</span>Выводы</a></span></li></ul></div>"
   ]
  },
  {
   "cell_type": "markdown",
   "metadata": {},
   "source": [
    "#  Прогнозирование заказов такси"
   ]
  },
  {
   "cell_type": "markdown",
   "metadata": {},
   "source": [
    "Компания «Чётенькое такси» собрала исторические данные о заказах такси в аэропортах. Чтобы привлекать больше водителей в период пиковой нагрузки, нужно спрогнозировать количество заказов такси на следующий час. Постройте модель для такого предсказания.\n",
    "\n",
    "Требуется:\n",
    "\n",
    "1. Загрузить данные и выполнить их ресемплирование по одному часу.\n",
    "2. Проанализировать данные.\n",
    "3. Обучить разные модели с различными гиперпараметрами. Сделать тестовую выборку размером 10% от исходных данных.\n",
    "4. Проверить данные на тестовой выборке и сделать выводы."
   ]
  },
  {
   "cell_type": "markdown",
   "metadata": {},
   "source": [
    "## Подготовка"
   ]
  },
  {
   "cell_type": "code",
   "execution_count": 123,
   "metadata": {},
   "outputs": [],
   "source": [
    "import pandas as pd\n",
    "from statsmodels.tsa.seasonal import seasonal_decompose\n",
    "from lightgbm import LGBMRegressor\n",
    "\n",
    "from sklearn.model_selection import train_test_split\n",
    "from sklearn.preprocessing import OneHotEncoder, StandardScaler\n",
    "from sklearn.model_selection import GridSearchCV, cross_validate, TimeSeriesSplit\n",
    "from sklearn.metrics import mean_squared_error\n",
    "\n",
    "from sklearn.ensemble import RandomForestRegressor \n",
    "from sklearn.linear_model import LinearRegression \n",
    "from sklearn.dummy import DummyRegressor\n",
    "\n",
    "import matplotlib.pyplot as plt"
   ]
  },
  {
   "cell_type": "code",
   "execution_count": 124,
   "metadata": {},
   "outputs": [],
   "source": [
    "data = pd.read_csv(\"/datasets/taxi.csv\", index_col=[0], parse_dates=[0])"
   ]
  },
  {
   "cell_type": "code",
   "execution_count": 125,
   "metadata": {},
   "outputs": [
    {
     "data": {
      "text/plain": [
       "True"
      ]
     },
     "execution_count": 125,
     "metadata": {},
     "output_type": "execute_result"
    }
   ],
   "source": [
    "data.index.is_monotonic"
   ]
  },
  {
   "cell_type": "code",
   "execution_count": 126,
   "metadata": {},
   "outputs": [
    {
     "data": {
      "text/plain": [
       "num_orders    0\n",
       "dtype: int64"
      ]
     },
     "execution_count": 126,
     "metadata": {},
     "output_type": "execute_result"
    }
   ],
   "source": [
    "data.isna().sum()"
   ]
  },
  {
   "cell_type": "code",
   "execution_count": 127,
   "metadata": {},
   "outputs": [],
   "source": [
    "data.sort_index(inplace=True)"
   ]
  },
  {
   "cell_type": "code",
   "execution_count": 128,
   "metadata": {},
   "outputs": [
    {
     "data": {
      "text/html": [
       "<div>\n",
       "<style scoped>\n",
       "    .dataframe tbody tr th:only-of-type {\n",
       "        vertical-align: middle;\n",
       "    }\n",
       "\n",
       "    .dataframe tbody tr th {\n",
       "        vertical-align: top;\n",
       "    }\n",
       "\n",
       "    .dataframe thead th {\n",
       "        text-align: right;\n",
       "    }\n",
       "</style>\n",
       "<table border=\"1\" class=\"dataframe\">\n",
       "  <thead>\n",
       "    <tr style=\"text-align: right;\">\n",
       "      <th></th>\n",
       "      <th>num_orders</th>\n",
       "    </tr>\n",
       "    <tr>\n",
       "      <th>datetime</th>\n",
       "      <th></th>\n",
       "    </tr>\n",
       "  </thead>\n",
       "  <tbody>\n",
       "    <tr>\n",
       "      <th>2018-03-01 00:00:00</th>\n",
       "      <td>9</td>\n",
       "    </tr>\n",
       "    <tr>\n",
       "      <th>2018-03-01 00:10:00</th>\n",
       "      <td>14</td>\n",
       "    </tr>\n",
       "    <tr>\n",
       "      <th>2018-03-01 00:20:00</th>\n",
       "      <td>28</td>\n",
       "    </tr>\n",
       "    <tr>\n",
       "      <th>2018-03-01 00:30:00</th>\n",
       "      <td>20</td>\n",
       "    </tr>\n",
       "    <tr>\n",
       "      <th>2018-03-01 00:40:00</th>\n",
       "      <td>32</td>\n",
       "    </tr>\n",
       "  </tbody>\n",
       "</table>\n",
       "</div>"
      ],
      "text/plain": [
       "                     num_orders\n",
       "datetime                       \n",
       "2018-03-01 00:00:00           9\n",
       "2018-03-01 00:10:00          14\n",
       "2018-03-01 00:20:00          28\n",
       "2018-03-01 00:30:00          20\n",
       "2018-03-01 00:40:00          32"
      ]
     },
     "execution_count": 128,
     "metadata": {},
     "output_type": "execute_result"
    }
   ],
   "source": [
    "data.head()"
   ]
  },
  {
   "cell_type": "code",
   "execution_count": 129,
   "metadata": {},
   "outputs": [
    {
     "name": "stdout",
     "output_type": "stream",
     "text": [
      "<class 'pandas.core.frame.DataFrame'>\n",
      "DatetimeIndex: 26496 entries, 2018-03-01 00:00:00 to 2018-08-31 23:50:00\n",
      "Data columns (total 1 columns):\n",
      " #   Column      Non-Null Count  Dtype\n",
      "---  ------      --------------  -----\n",
      " 0   num_orders  26496 non-null  int64\n",
      "dtypes: int64(1)\n",
      "memory usage: 414.0 KB\n"
     ]
    }
   ],
   "source": [
    "data.info()"
   ]
  },
  {
   "cell_type": "code",
   "execution_count": 130,
   "metadata": {},
   "outputs": [],
   "source": [
    "data_sum = data.resample('1H').sum() "
   ]
  },
  {
   "cell_type": "code",
   "execution_count": 131,
   "metadata": {},
   "outputs": [
    {
     "data": {
      "text/plain": [
       "(Timestamp('2018-03-01 00:00:00', freq='H'),\n",
       " Timestamp('2018-08-31 23:00:00', freq='H'))"
      ]
     },
     "execution_count": 131,
     "metadata": {},
     "output_type": "execute_result"
    }
   ],
   "source": [
    "data_sum.index.min(), data_sum.index.max() "
   ]
  },
  {
   "cell_type": "code",
   "execution_count": 132,
   "metadata": {},
   "outputs": [],
   "source": [
    "def make_features(data, max_lag, rolling_mean_size, column_name):\n",
    "    data['dayofweek'] = data.index.dayofweek\n",
    "    data['hour'] = data.index.hour\n",
    "    for lag in range(1, max_lag + 1):\n",
    "        data['lag_{}'.format(lag)] = data[column_name].shift(lag)\n",
    "\n",
    "    data['rolling_mean'] = data[column_name].shift().rolling(rolling_mean_size, closed='left').mean()\n",
    "\n"
   ]
  },
  {
   "cell_type": "code",
   "execution_count": 133,
   "metadata": {},
   "outputs": [],
   "source": [
    "make_features(data_sum, 2, 24, 'num_orders')"
   ]
  },
  {
   "cell_type": "code",
   "execution_count": 135,
   "metadata": {},
   "outputs": [
    {
     "data": {
      "text/html": [
       "<div>\n",
       "<style scoped>\n",
       "    .dataframe tbody tr th:only-of-type {\n",
       "        vertical-align: middle;\n",
       "    }\n",
       "\n",
       "    .dataframe tbody tr th {\n",
       "        vertical-align: top;\n",
       "    }\n",
       "\n",
       "    .dataframe thead th {\n",
       "        text-align: right;\n",
       "    }\n",
       "</style>\n",
       "<table border=\"1\" class=\"dataframe\">\n",
       "  <thead>\n",
       "    <tr style=\"text-align: right;\">\n",
       "      <th></th>\n",
       "      <th>num_orders</th>\n",
       "      <th>dayofweek</th>\n",
       "      <th>hour</th>\n",
       "      <th>lag_1</th>\n",
       "      <th>lag_2</th>\n",
       "      <th>rolling_mean</th>\n",
       "    </tr>\n",
       "    <tr>\n",
       "      <th>datetime</th>\n",
       "      <th></th>\n",
       "      <th></th>\n",
       "      <th></th>\n",
       "      <th></th>\n",
       "      <th></th>\n",
       "      <th></th>\n",
       "    </tr>\n",
       "  </thead>\n",
       "  <tbody>\n",
       "    <tr>\n",
       "      <th>2018-03-01 00:00:00</th>\n",
       "      <td>124</td>\n",
       "      <td>3</td>\n",
       "      <td>0</td>\n",
       "      <td>NaN</td>\n",
       "      <td>NaN</td>\n",
       "      <td>NaN</td>\n",
       "    </tr>\n",
       "    <tr>\n",
       "      <th>2018-03-01 01:00:00</th>\n",
       "      <td>85</td>\n",
       "      <td>3</td>\n",
       "      <td>1</td>\n",
       "      <td>124.0</td>\n",
       "      <td>NaN</td>\n",
       "      <td>NaN</td>\n",
       "    </tr>\n",
       "    <tr>\n",
       "      <th>2018-03-01 02:00:00</th>\n",
       "      <td>71</td>\n",
       "      <td>3</td>\n",
       "      <td>2</td>\n",
       "      <td>85.0</td>\n",
       "      <td>124.0</td>\n",
       "      <td>NaN</td>\n",
       "    </tr>\n",
       "    <tr>\n",
       "      <th>2018-03-01 03:00:00</th>\n",
       "      <td>66</td>\n",
       "      <td>3</td>\n",
       "      <td>3</td>\n",
       "      <td>71.0</td>\n",
       "      <td>85.0</td>\n",
       "      <td>NaN</td>\n",
       "    </tr>\n",
       "    <tr>\n",
       "      <th>2018-03-01 04:00:00</th>\n",
       "      <td>43</td>\n",
       "      <td>3</td>\n",
       "      <td>4</td>\n",
       "      <td>66.0</td>\n",
       "      <td>71.0</td>\n",
       "      <td>NaN</td>\n",
       "    </tr>\n",
       "  </tbody>\n",
       "</table>\n",
       "</div>"
      ],
      "text/plain": [
       "                     num_orders  dayofweek  hour  lag_1  lag_2  rolling_mean\n",
       "datetime                                                                    \n",
       "2018-03-01 00:00:00         124          3     0    NaN    NaN           NaN\n",
       "2018-03-01 01:00:00          85          3     1  124.0    NaN           NaN\n",
       "2018-03-01 02:00:00          71          3     2   85.0  124.0           NaN\n",
       "2018-03-01 03:00:00          66          3     3   71.0   85.0           NaN\n",
       "2018-03-01 04:00:00          43          3     4   66.0   71.0           NaN"
      ]
     },
     "execution_count": 135,
     "metadata": {},
     "output_type": "execute_result"
    }
   ],
   "source": [
    "data_sum.head()"
   ]
  },
  {
   "cell_type": "markdown",
   "metadata": {},
   "source": [
    "**Вывод:**\n",
    "1. Сделали ресемплирование по одному часу.\n",
    "2. Добавили в таблицу календарные признаки, «Отстающие значения», скользящее среднее.\n"
   ]
  },
  {
   "cell_type": "markdown",
   "metadata": {},
   "source": [
    "## Анализ"
   ]
  },
  {
   "cell_type": "code",
   "execution_count": 136,
   "metadata": {},
   "outputs": [
    {
     "data": {
      "image/png": "[encoded data removed]",
      "text/plain": [
       "<Figure size 720x432 with 1 Axes>"
      ]
     },
     "metadata": {
      "needs_background": "light"
     },
     "output_type": "display_data"
    }
   ],
   "source": [
    "data_sum[[\"num_orders\", \"rolling_mean\"]].plot(\n",
    "    title=f'График количества заказов и скользящего среднего числа заказов', \n",
    "              xlabel = 'Месяц', ylabel='Число заказов', figsize =(10,6));"
   ]
  },
  {
   "cell_type": "markdown",
   "metadata": {},
   "source": [
    "В целом, заметен рост числа заказов и скользящего среднего числа заказов с каждым следующим месяцем от марта до августа."
   ]
  },
  {
   "cell_type": "code",
   "execution_count": 137,
   "metadata": {},
   "outputs": [
    {
     "data": {
      "image/png": "[encoded data removed]",
      "text/plain": [
       "<Figure size 720x1080 with 3 Axes>"
      ]
     },
     "metadata": {
      "needs_background": "light"
     },
     "output_type": "display_data"
    }
   ],
   "source": [
    "decomposed = seasonal_decompose(data_sum['num_orders'])\n",
    "plt.figure(figsize=(10, 15))\n",
    "plt.subplot(311)\n",
    "decomposed.trend.plot(ax=plt.gca())\n",
    "plt.title('Тренд')\n",
    "plt.subplot(312)\n",
    "decomposed.seasonal.plot(ax=plt.gca()) \n",
    "plt.title('Сезонность')\n",
    "plt.subplot(313)\n",
    "decomposed.resid.plot(ax=plt.gca()) \n",
    "plt.title('Остатки')\n",
    "plt.tight_layout()"
   ]
  },
  {
   "cell_type": "markdown",
   "metadata": {},
   "source": [
    "График тренда показывает рост числа заказов с флуктуациями. По виду графику остатков можно сказать, что ряд остатков близок к стационарному. \n",
    "\n",
    "Рассмотрим более узкий промежуток времени для графика сезонности."
   ]
  },
  {
   "cell_type": "code",
   "execution_count": 138,
   "metadata": {},
   "outputs": [
    {
     "data": {
      "image/png": "[encoded data removed]",
      "text/plain": [
       "<Figure size 720x432 with 1 Axes>"
      ]
     },
     "metadata": {
      "needs_background": "light"
     },
     "output_type": "display_data"
    }
   ],
   "source": [
    "decomposed.seasonal['2018-03-01 00:00:00':'2018-03-04 23:00:00'].\\\n",
    "plot(title='График сезонности для перых четырех дней марта', xlabel = 'Время', ylabel='Число заказов',\n",
    "    grid=True , figsize =(10,6));"
   ]
  },
  {
   "cell_type": "code",
   "execution_count": 139,
   "metadata": {},
   "outputs": [
    {
     "data": {
      "image/png": "[encoded data removed]",
      "text/plain": [
       "<Figure size 720x432 with 1 Axes>"
      ]
     },
     "metadata": {
      "needs_background": "light"
     },
     "output_type": "display_data"
    }
   ],
   "source": [
    "decomposed.seasonal['2018-03-01 00:00:00':'2018-03-02 00:00:00'].\\\n",
    "plot(title='График сезонности для первого марта', xlabel = 'Время', ylabel='Число заказов',\n",
    "    grid=True , figsize =(10,6));"
   ]
  },
  {
   "cell_type": "markdown",
   "metadata": {},
   "source": [
    "По графику сезонности можно сделать вывод, что в 6:00 минимальное число заказов, наибольшее число заказов в 00:00. C 6:00 до 00:00, в целом, число заказов растет, а с 00:00 до 6:00 - падает."
   ]
  },
  {
   "cell_type": "markdown",
   "metadata": {},
   "source": [
    "**Вывод:**\n",
    "1. В целом, заметен рост числа заказов и скользящего среднего числа заказов с каждым следующим месяцем от марта до августа.\n",
    "2. График тренда показывает рост числа заказов с флуктуациями. По виду графику остатков можно сказать, что ряд остатков близок к стационарному. Рассмотрим более узкий промежуток времени для графика сезонности.\n",
    "3. По графику сезонности можно сделать вывод, что в 6:00 минимальное число заказов, наибольшее число заказов в 00:00. C 6:00 до 00:00, в целом, число заказов растет, а с 00:00 до 6:00 - падает."
   ]
  },
  {
   "cell_type": "markdown",
   "metadata": {},
   "source": [
    "## Обучение"
   ]
  },
  {
   "cell_type": "markdown",
   "metadata": {},
   "source": [
    "### Подготовка выборок"
   ]
  },
  {
   "cell_type": "code",
   "execution_count": 140,
   "metadata": {},
   "outputs": [
    {
     "name": "stdout",
     "output_type": "stream",
     "text": [
      "2018-03-02 01:00:00 2018-08-13 13:00:00\n",
      "2018-08-13 14:00:00 2018-08-31 23:00:00\n"
     ]
    }
   ],
   "source": [
    "train, test = train_test_split(data_sum, shuffle=False, test_size=0.1)\n",
    "train = train.dropna()\n",
    "print(train.index.min(), train.index.max())\n",
    "print(test.index.min(), test.index.max())"
   ]
  },
  {
   "cell_type": "code",
   "execution_count": 141,
   "metadata": {},
   "outputs": [],
   "source": [
    "train_features = train.drop(['num_orders'], axis=1)\n",
    "train_target = train['num_orders']\n",
    "\n",
    "test_features = test.drop(['num_orders'], axis=1)\n",
    "test_target = test['num_orders']"
   ]
  },
  {
   "cell_type": "code",
   "execution_count": 142,
   "metadata": {},
   "outputs": [
    {
     "data": {
      "text/plain": [
       "Index(['dayofweek', 'hour', 'lag_1', 'lag_2', 'rolling_mean'], dtype='object')"
      ]
     },
     "execution_count": 142,
     "metadata": {},
     "output_type": "execute_result"
    }
   ],
   "source": [
    "train_features.columns"
   ]
  },
  {
   "cell_type": "code",
   "execution_count": 143,
   "metadata": {},
   "outputs": [],
   "source": [
    "code_columns = ['dayofweek', 'hour'] \n",
    "ohe = OneHotEncoder(drop = 'first') \n",
    "ohe.fit(train_features[code_columns])\n",
    "\n",
    "array_hot_encoded_train = ohe.transform(train_features[code_columns]).toarray()\n",
    "array_hot_encoded_test = ohe.transform(test_features[code_columns]).toarray()\n",
    "\n",
    "data_hot_encoded_train = pd.DataFrame(array_hot_encoded_train, index=train_features.index)\n",
    "data_hot_encoded_test = pd.DataFrame(array_hot_encoded_test, index=test_features.index)\n",
    "\n",
    "data_other_cols_train = train_features.drop(columns=code_columns)\n",
    "data_other_cols_test = test_features.drop(columns=code_columns)\n",
    "\n",
    "train_features_hot_encoded = pd.concat([data_hot_encoded_train, data_other_cols_train], axis=1)\n",
    "test_features_hot_encoded = pd.concat([data_hot_encoded_test, data_other_cols_test], axis=1)"
   ]
  },
  {
   "cell_type": "code",
   "execution_count": 81,
   "metadata": {},
   "outputs": [
    {
     "data": {
      "text/html": [
       "<div>\n",
       "<style scoped>\n",
       "    .dataframe tbody tr th:only-of-type {\n",
       "        vertical-align: middle;\n",
       "    }\n",
       "\n",
       "    .dataframe tbody tr th {\n",
       "        vertical-align: top;\n",
       "    }\n",
       "\n",
       "    .dataframe thead th {\n",
       "        text-align: right;\n",
       "    }\n",
       "</style>\n",
       "<table border=\"1\" class=\"dataframe\">\n",
       "  <thead>\n",
       "    <tr style=\"text-align: right;\">\n",
       "      <th></th>\n",
       "      <th>0</th>\n",
       "      <th>1</th>\n",
       "      <th>2</th>\n",
       "      <th>3</th>\n",
       "      <th>4</th>\n",
       "      <th>5</th>\n",
       "      <th>6</th>\n",
       "      <th>7</th>\n",
       "      <th>8</th>\n",
       "      <th>9</th>\n",
       "      <th>...</th>\n",
       "      <th>22</th>\n",
       "      <th>23</th>\n",
       "      <th>24</th>\n",
       "      <th>25</th>\n",
       "      <th>26</th>\n",
       "      <th>27</th>\n",
       "      <th>28</th>\n",
       "      <th>lag_1</th>\n",
       "      <th>lag_2</th>\n",
       "      <th>rolling_mean</th>\n",
       "    </tr>\n",
       "    <tr>\n",
       "      <th>datetime</th>\n",
       "      <th></th>\n",
       "      <th></th>\n",
       "      <th></th>\n",
       "      <th></th>\n",
       "      <th></th>\n",
       "      <th></th>\n",
       "      <th></th>\n",
       "      <th></th>\n",
       "      <th></th>\n",
       "      <th></th>\n",
       "      <th></th>\n",
       "      <th></th>\n",
       "      <th></th>\n",
       "      <th></th>\n",
       "      <th></th>\n",
       "      <th></th>\n",
       "      <th></th>\n",
       "      <th></th>\n",
       "      <th></th>\n",
       "      <th></th>\n",
       "      <th></th>\n",
       "    </tr>\n",
       "  </thead>\n",
       "  <tbody>\n",
       "    <tr>\n",
       "      <th>2018-03-02 01:00:00</th>\n",
       "      <td>0.0</td>\n",
       "      <td>0.0</td>\n",
       "      <td>0.0</td>\n",
       "      <td>1.0</td>\n",
       "      <td>0.0</td>\n",
       "      <td>0.0</td>\n",
       "      <td>1.0</td>\n",
       "      <td>0.0</td>\n",
       "      <td>0.0</td>\n",
       "      <td>0.0</td>\n",
       "      <td>...</td>\n",
       "      <td>0.0</td>\n",
       "      <td>0.0</td>\n",
       "      <td>0.0</td>\n",
       "      <td>0.0</td>\n",
       "      <td>0.0</td>\n",
       "      <td>0.0</td>\n",
       "      <td>0.0</td>\n",
       "      <td>90.0</td>\n",
       "      <td>58.0</td>\n",
       "      <td>56.833333</td>\n",
       "    </tr>\n",
       "    <tr>\n",
       "      <th>2018-03-02 02:00:00</th>\n",
       "      <td>0.0</td>\n",
       "      <td>0.0</td>\n",
       "      <td>0.0</td>\n",
       "      <td>1.0</td>\n",
       "      <td>0.0</td>\n",
       "      <td>0.0</td>\n",
       "      <td>0.0</td>\n",
       "      <td>1.0</td>\n",
       "      <td>0.0</td>\n",
       "      <td>0.0</td>\n",
       "      <td>...</td>\n",
       "      <td>0.0</td>\n",
       "      <td>0.0</td>\n",
       "      <td>0.0</td>\n",
       "      <td>0.0</td>\n",
       "      <td>0.0</td>\n",
       "      <td>0.0</td>\n",
       "      <td>0.0</td>\n",
       "      <td>120.0</td>\n",
       "      <td>90.0</td>\n",
       "      <td>55.416667</td>\n",
       "    </tr>\n",
       "    <tr>\n",
       "      <th>2018-03-02 03:00:00</th>\n",
       "      <td>0.0</td>\n",
       "      <td>0.0</td>\n",
       "      <td>0.0</td>\n",
       "      <td>1.0</td>\n",
       "      <td>0.0</td>\n",
       "      <td>0.0</td>\n",
       "      <td>0.0</td>\n",
       "      <td>0.0</td>\n",
       "      <td>1.0</td>\n",
       "      <td>0.0</td>\n",
       "      <td>...</td>\n",
       "      <td>0.0</td>\n",
       "      <td>0.0</td>\n",
       "      <td>0.0</td>\n",
       "      <td>0.0</td>\n",
       "      <td>0.0</td>\n",
       "      <td>0.0</td>\n",
       "      <td>0.0</td>\n",
       "      <td>75.0</td>\n",
       "      <td>120.0</td>\n",
       "      <td>56.875000</td>\n",
       "    </tr>\n",
       "    <tr>\n",
       "      <th>2018-03-02 04:00:00</th>\n",
       "      <td>0.0</td>\n",
       "      <td>0.0</td>\n",
       "      <td>0.0</td>\n",
       "      <td>1.0</td>\n",
       "      <td>0.0</td>\n",
       "      <td>0.0</td>\n",
       "      <td>0.0</td>\n",
       "      <td>0.0</td>\n",
       "      <td>0.0</td>\n",
       "      <td>1.0</td>\n",
       "      <td>...</td>\n",
       "      <td>0.0</td>\n",
       "      <td>0.0</td>\n",
       "      <td>0.0</td>\n",
       "      <td>0.0</td>\n",
       "      <td>0.0</td>\n",
       "      <td>0.0</td>\n",
       "      <td>0.0</td>\n",
       "      <td>64.0</td>\n",
       "      <td>75.0</td>\n",
       "      <td>57.041667</td>\n",
       "    </tr>\n",
       "    <tr>\n",
       "      <th>2018-03-02 05:00:00</th>\n",
       "      <td>0.0</td>\n",
       "      <td>0.0</td>\n",
       "      <td>0.0</td>\n",
       "      <td>1.0</td>\n",
       "      <td>0.0</td>\n",
       "      <td>0.0</td>\n",
       "      <td>0.0</td>\n",
       "      <td>0.0</td>\n",
       "      <td>0.0</td>\n",
       "      <td>0.0</td>\n",
       "      <td>...</td>\n",
       "      <td>0.0</td>\n",
       "      <td>0.0</td>\n",
       "      <td>0.0</td>\n",
       "      <td>0.0</td>\n",
       "      <td>0.0</td>\n",
       "      <td>0.0</td>\n",
       "      <td>0.0</td>\n",
       "      <td>20.0</td>\n",
       "      <td>64.0</td>\n",
       "      <td>56.958333</td>\n",
       "    </tr>\n",
       "  </tbody>\n",
       "</table>\n",
       "<p>5 rows × 32 columns</p>\n",
       "</div>"
      ],
      "text/plain": [
       "                       0    1    2    3    4    5    6    7    8    9  ...  \\\n",
       "datetime                                                               ...   \n",
       "2018-03-02 01:00:00  0.0  0.0  0.0  1.0  0.0  0.0  1.0  0.0  0.0  0.0  ...   \n",
       "2018-03-02 02:00:00  0.0  0.0  0.0  1.0  0.0  0.0  0.0  1.0  0.0  0.0  ...   \n",
       "2018-03-02 03:00:00  0.0  0.0  0.0  1.0  0.0  0.0  0.0  0.0  1.0  0.0  ...   \n",
       "2018-03-02 04:00:00  0.0  0.0  0.0  1.0  0.0  0.0  0.0  0.0  0.0  1.0  ...   \n",
       "2018-03-02 05:00:00  0.0  0.0  0.0  1.0  0.0  0.0  0.0  0.0  0.0  0.0  ...   \n",
       "\n",
       "                      22   23   24   25   26   27   28  lag_1  lag_2  \\\n",
       "datetime                                                               \n",
       "2018-03-02 01:00:00  0.0  0.0  0.0  0.0  0.0  0.0  0.0   90.0   58.0   \n",
       "2018-03-02 02:00:00  0.0  0.0  0.0  0.0  0.0  0.0  0.0  120.0   90.0   \n",
       "2018-03-02 03:00:00  0.0  0.0  0.0  0.0  0.0  0.0  0.0   75.0  120.0   \n",
       "2018-03-02 04:00:00  0.0  0.0  0.0  0.0  0.0  0.0  0.0   64.0   75.0   \n",
       "2018-03-02 05:00:00  0.0  0.0  0.0  0.0  0.0  0.0  0.0   20.0   64.0   \n",
       "\n",
       "                     rolling_mean  \n",
       "datetime                           \n",
       "2018-03-02 01:00:00     56.833333  \n",
       "2018-03-02 02:00:00     55.416667  \n",
       "2018-03-02 03:00:00     56.875000  \n",
       "2018-03-02 04:00:00     57.041667  \n",
       "2018-03-02 05:00:00     56.958333  \n",
       "\n",
       "[5 rows x 32 columns]"
      ]
     },
     "execution_count": 81,
     "metadata": {},
     "output_type": "execute_result"
    }
   ],
   "source": [
    "train_features_hot_encoded.head()"
   ]
  },
  {
   "cell_type": "markdown",
   "metadata": {},
   "source": [
    "### Cлучайный лес"
   ]
  },
  {
   "cell_type": "code",
   "execution_count": 82,
   "metadata": {},
   "outputs": [],
   "source": [
    "grid = GridSearchCV( \n",
    "    RandomForestRegressor(),\n",
    "    param_grid={'max_depth':range(12, 17, 2), 'n_estimators':range(90, 101, 10)}, \n",
    "    scoring = 'neg_root_mean_squared_error',\n",
    "    cv = TimeSeriesSplit(8),\n",
    "    n_jobs=-1\n",
    ")"
   ]
  },
  {
   "cell_type": "code",
   "execution_count": 83,
   "metadata": {},
   "outputs": [
    {
     "name": "stdout",
     "output_type": "stream",
     "text": [
      "CPU times: user 26.1 s, sys: 159 ms, total: 26.3 s\n",
      "Wall time: 27.4 s\n"
     ]
    },
    {
     "data": {
      "text/plain": [
       "GridSearchCV(cv=TimeSeriesSplit(gap=0, max_train_size=None, n_splits=8, test_size=None),\n",
       "             estimator=RandomForestRegressor(), n_jobs=-1,\n",
       "             param_grid={'max_depth': range(12, 17, 2),\n",
       "                         'n_estimators': range(90, 101, 10)},\n",
       "             scoring='neg_root_mean_squared_error')"
      ]
     },
     "execution_count": 83,
     "metadata": {},
     "output_type": "execute_result"
    }
   ],
   "source": [
    "%%time\n",
    "grid.fit(train_features, train_target)"
   ]
  },
  {
   "cell_type": "code",
   "execution_count": 84,
   "metadata": {},
   "outputs": [
    {
     "data": {
      "text/plain": [
       "RandomForestRegressor(max_depth=14)"
      ]
     },
     "execution_count": 84,
     "metadata": {},
     "output_type": "execute_result"
    }
   ],
   "source": [
    "best_forest = grid.best_estimator_\n",
    "best_forest"
   ]
  },
  {
   "cell_type": "code",
   "execution_count": 85,
   "metadata": {},
   "outputs": [
    {
     "name": "stdout",
     "output_type": "stream",
     "text": [
      "Значение RMSE для лучших параметров случайного леса на валидационных данных: 24.59707784728394\n"
     ]
    }
   ],
   "source": [
    "score_forest = -grid.best_score_\n",
    "print('Значение RMSE для лучших параметров случайного леса на валидационных данных:', score_forest)"
   ]
  },
  {
   "cell_type": "markdown",
   "metadata": {},
   "source": [
    "### Линейная регрессия"
   ]
  },
  {
   "cell_type": "code",
   "execution_count": 86,
   "metadata": {},
   "outputs": [],
   "source": [
    "model= LinearRegression()"
   ]
  },
  {
   "cell_type": "code",
   "execution_count": 87,
   "metadata": {},
   "outputs": [
    {
     "name": "stdout",
     "output_type": "stream",
     "text": [
      "CPU times: user 563 ms, sys: 1.48 s, total: 2.04 s\n",
      "Wall time: 2.04 s\n"
     ]
    }
   ],
   "source": [
    "%%time\n",
    "lr = cross_validate(model, train_features_hot_encoded, \n",
    "                    train_target, scoring = 'neg_root_mean_squared_error', \n",
    "                    cv = TimeSeriesSplit(8))\n"
   ]
  },
  {
   "cell_type": "code",
   "execution_count": 88,
   "metadata": {},
   "outputs": [
    {
     "name": "stdout",
     "output_type": "stream",
     "text": [
      "Среднее значение RMSE для различных валидационных и тренировочных выборок: 25.02189318705476\n"
     ]
    }
   ],
   "source": [
    "score_lr= -lr['test_score'].mean()\n",
    "print('Среднее значение RMSE для различных валидационных и тренировочных выборок:', score_lr)"
   ]
  },
  {
   "cell_type": "markdown",
   "metadata": {},
   "source": [
    "### LightGBM"
   ]
  },
  {
   "cell_type": "code",
   "execution_count": 89,
   "metadata": {},
   "outputs": [],
   "source": [
    "grid = GridSearchCV( \n",
    "    LGBMRegressor(),\n",
    "    param_grid={'max_depth':range(12, 17, 2), 'n_estimators':range(90, 101, 10)}, \n",
    "    scoring = 'neg_root_mean_squared_error',\n",
    "    cv = TimeSeriesSplit(8),\n",
    "    n_jobs =-1\n",
    ")"
   ]
  },
  {
   "cell_type": "code",
   "execution_count": 90,
   "metadata": {},
   "outputs": [
    {
     "name": "stdout",
     "output_type": "stream",
     "text": [
      "CPU times: user 13min 59s, sys: 2.04 s, total: 14min 1s\n",
      "Wall time: 14min 3s\n"
     ]
    },
    {
     "data": {
      "text/plain": [
       "GridSearchCV(cv=TimeSeriesSplit(gap=0, max_train_size=None, n_splits=8, test_size=None),\n",
       "             estimator=LGBMRegressor(), n_jobs=-1,\n",
       "             param_grid={'max_depth': range(12, 17, 2),\n",
       "                         'n_estimators': range(90, 101, 10)},\n",
       "             scoring='neg_root_mean_squared_error')"
      ]
     },
     "execution_count": 90,
     "metadata": {},
     "output_type": "execute_result"
    }
   ],
   "source": [
    "%%time\n",
    "grid.fit(train_features, train_target)"
   ]
  },
  {
   "cell_type": "code",
   "execution_count": 91,
   "metadata": {},
   "outputs": [
    {
     "data": {
      "text/plain": [
       "LGBMRegressor(max_depth=16, n_estimators=90)"
      ]
     },
     "execution_count": 91,
     "metadata": {},
     "output_type": "execute_result"
    }
   ],
   "source": [
    "best_LGBM = grid.best_estimator_\n",
    "best_LGBM"
   ]
  },
  {
   "cell_type": "code",
   "execution_count": 92,
   "metadata": {},
   "outputs": [
    {
     "name": "stdout",
     "output_type": "stream",
     "text": [
      "Значение RMSE для лучших параметров LightGBM на валидационных данных: 24.629008299516606\n"
     ]
    }
   ],
   "source": [
    "score_LGBM = -grid.best_score_\n",
    "print('Значение RMSE для лучших параметров LightGBM на валидационных данных:', score_LGBM)"
   ]
  },
  {
   "cell_type": "code",
   "execution_count": 117,
   "metadata": {},
   "outputs": [
    {
     "data": {
      "text/html": [
       "<style  type=\"text/css\" >\n",
       "#T_7a2e5_row0_col1{\n",
       "            background-color:  #fff5f0;\n",
       "            color:  #000000;\n",
       "        }#T_7a2e5_row1_col1{\n",
       "            background-color:  #fee8de;\n",
       "            color:  #000000;\n",
       "        }#T_7a2e5_row2_col1{\n",
       "            background-color:  #67000d;\n",
       "            color:  #f1f1f1;\n",
       "        }</style><table id=\"T_7a2e5_\" ><thead>    <tr>        <th class=\"blank level0\" ></th>        <th class=\"col_heading level0 col0\" >Название модели</th>        <th class=\"col_heading level0 col1\" >Значение RMSE</th>    </tr></thead><tbody>\n",
       "                <tr>\n",
       "                        <th id=\"T_7a2e5_level0_row0\" class=\"row_heading level0 row0\" >0</th>\n",
       "                        <td id=\"T_7a2e5_row0_col0\" class=\"data row0 col0\" >RandomForest</td>\n",
       "                        <td id=\"T_7a2e5_row0_col1\" class=\"data row0 col1\" >24.597078</td>\n",
       "            </tr>\n",
       "            <tr>\n",
       "                        <th id=\"T_7a2e5_level0_row1\" class=\"row_heading level0 row1\" >2</th>\n",
       "                        <td id=\"T_7a2e5_row1_col0\" class=\"data row1 col0\" >LightGBM</td>\n",
       "                        <td id=\"T_7a2e5_row1_col1\" class=\"data row1 col1\" >24.629008</td>\n",
       "            </tr>\n",
       "            <tr>\n",
       "                        <th id=\"T_7a2e5_level0_row2\" class=\"row_heading level0 row2\" >1</th>\n",
       "                        <td id=\"T_7a2e5_row2_col0\" class=\"data row2 col0\" >LinearRegression</td>\n",
       "                        <td id=\"T_7a2e5_row2_col1\" class=\"data row2 col1\" >25.021893</td>\n",
       "            </tr>\n",
       "    </tbody></table>"
      ],
      "text/plain": [
       "<pandas.io.formats.style.Styler at 0x7f280b6ae250>"
      ]
     },
     "execution_count": 117,
     "metadata": {},
     "output_type": "execute_result"
    }
   ],
   "source": [
    "model_compare= pd.DataFrame({'Название модели':['RandomForest', 'LinearRegression', 'LightGBM'],\n",
    "                           'Значение RMSE': [score_forest, score_lr, score_LGBM]})\n",
    "\n",
    "model_compare.sort_values(by=['Значение RMSE']).style.background_gradient(cmap='Reds')"
   ]
  },
  {
   "cell_type": "markdown",
   "metadata": {},
   "source": [
    "**Вывод:**\n",
    "Лучшее значение RMSE дает *RandomForest(max_depth=14, n_estimators=100)*."
   ]
  },
  {
   "cell_type": "markdown",
   "metadata": {},
   "source": [
    "## Тестирование"
   ]
  },
  {
   "cell_type": "code",
   "execution_count": 144,
   "metadata": {},
   "outputs": [
    {
     "name": "stdout",
     "output_type": "stream",
     "text": [
      "Значение RMSE для лучшей модели на тестовых данных: 47.206214778635854\n"
     ]
    }
   ],
   "source": [
    "test_prediction = best_forest.predict(test_features)\n",
    "best_model_score = mean_squared_error(best_forest.predict(test_features), test_target, squared=False)\n",
    "print('Значение RMSE для лучшей модели на тестовых данных:', best_model_score)"
   ]
  },
  {
   "cell_type": "code",
   "execution_count": 209,
   "metadata": {},
   "outputs": [
    {
     "data": {
      "image/png": "[encoded data removed]",
      "text/plain": [
       "<Figure size 720x432 with 1 Axes>"
      ]
     },
     "metadata": {
      "needs_background": "light"
     },
     "output_type": "display_data"
    }
   ],
   "source": [
    "\n",
    "results = pd.DataFrame({'test_target':test_target.values, 'prediction':test_prediction}, index = test_target.index)\n",
    "\n",
    "results['2018-08-14 00:00:00':'2018-08-17 00:00:00'].\\\n",
    "plot(title=f'График количества зазазов для тестовой выборки и предсказанного числа заказов за 3 дня', \n",
    "              xlabel = 'Время', ylabel='Число заказов', grid=True, figsize =(10,6));"
   ]
  },
  {
   "cell_type": "code",
   "execution_count": 97,
   "metadata": {},
   "outputs": [
    {
     "name": "stdout",
     "output_type": "stream",
     "text": [
      "Значение RMSE для DummyRegressor на тестовых данных: 84.65205585624815\n"
     ]
    }
   ],
   "source": [
    "model = DummyRegressor(strategy=\"mean\")\n",
    "\n",
    "model.fit(train_features, train_target)\n",
    "\n",
    "predicted_test = model.predict(test_features)\n",
    "dummy_model_score = mean_squared_error(test_target, predicted_test, squared=False)\n",
    "print('Значение RMSE для DummyRegressor на тестовых данных:', dummy_model_score)"
   ]
  },
  {
   "cell_type": "markdown",
   "metadata": {},
   "source": [
    "**Вывод:** Лучшая модель дает значение RMSE < 48 на тестовых данных, значение RMSE для DummyRegressor больше, чем для лучшей модели, это показывает адекватность модели."
   ]
  },
  {
   "cell_type": "markdown",
   "metadata": {},
   "source": [
    "## Выводы"
   ]
  },
  {
   "cell_type": "markdown",
   "metadata": {},
   "source": [
    "1. График тренда показывает рост числа заказов с флуктуациями. По виду графику остатков можно сказать, что ряд остатков близок к стационарному. По графику сезонности можно сделать вывод, что в 6:00 минимальное число заказов, наибольшее число заказов в 00:00. C 6:00 до 00:00, в целом, число заказов растет, а с 00:00 до 6:00 - падает.\n",
    "\n",
    "2. Быстрее всего обучилась модель LinearRegression (DummyRegressor не учитываем), но дала самое большое среднее значение RMSE на валидационных данных. Модель cлучайного леса дала немного меньшее значение RMSE для валидационных данных, чем LightGBM, а также обучилась и сделала предсказания почти гораздо быстрее. Наименьшее значение RMSE для валидационных данных получилось для модели случайного леса, было показано, что эта модель адекватна и дает на тестовых данных RMSE < 48. "
   ]
  }
 ],
 "metadata": {
  "ExecuteTimeLog": [
   {
    "duration": 533,
    "start_time": "2023-01-27T19:29:41.242Z"
   },
   {
    "duration": 127,
    "start_time": "2023-01-27T19:30:01.417Z"
   },
   {
    "duration": 151,
    "start_time": "2023-01-27T19:30:32.136Z"
   },
   {
    "duration": 15,
    "start_time": "2023-01-27T19:30:41.197Z"
   },
   {
    "duration": 17,
    "start_time": "2023-01-27T19:30:51.475Z"
   },
   {
    "duration": 10,
    "start_time": "2023-01-27T19:36:00.955Z"
   },
   {
    "duration": 13,
    "start_time": "2023-01-27T20:10:58.223Z"
   },
   {
    "duration": 8,
    "start_time": "2023-01-27T20:25:26.658Z"
   },
   {
    "duration": 68,
    "start_time": "2023-01-27T20:25:27.117Z"
   },
   {
    "duration": 10,
    "start_time": "2023-01-27T20:25:27.757Z"
   },
   {
    "duration": 86,
    "start_time": "2023-01-27T20:25:50.709Z"
   },
   {
    "duration": 9,
    "start_time": "2023-01-27T20:25:51.649Z"
   },
   {
    "duration": 10,
    "start_time": "2023-01-27T20:25:56.284Z"
   },
   {
    "duration": 3,
    "start_time": "2023-01-27T20:27:39.485Z"
   },
   {
    "duration": 11,
    "start_time": "2023-01-27T20:27:50.707Z"
   },
   {
    "duration": 15,
    "start_time": "2023-01-27T20:27:51.469Z"
   },
   {
    "duration": 7,
    "start_time": "2023-01-27T20:33:08.213Z"
   },
   {
    "duration": 13,
    "start_time": "2023-01-27T20:33:13.868Z"
   },
   {
    "duration": 3,
    "start_time": "2023-01-27T20:33:27.573Z"
   },
   {
    "duration": 8,
    "start_time": "2023-01-27T20:33:39.799Z"
   },
   {
    "duration": 3,
    "start_time": "2023-01-27T20:33:43.879Z"
   },
   {
    "duration": 76,
    "start_time": "2023-01-27T20:33:43.886Z"
   },
   {
    "duration": 4,
    "start_time": "2023-01-27T20:33:43.963Z"
   },
   {
    "duration": 26,
    "start_time": "2023-01-27T20:33:43.968Z"
   },
   {
    "duration": 22,
    "start_time": "2023-01-27T20:33:43.996Z"
   },
   {
    "duration": 9,
    "start_time": "2023-01-27T20:33:48.861Z"
   },
   {
    "duration": 3,
    "start_time": "2023-01-27T20:34:09.776Z"
   },
   {
    "duration": 71,
    "start_time": "2023-01-27T20:34:09.782Z"
   },
   {
    "duration": 4,
    "start_time": "2023-01-27T20:34:09.857Z"
   },
   {
    "duration": 10,
    "start_time": "2023-01-27T20:34:09.864Z"
   },
   {
    "duration": 13,
    "start_time": "2023-01-27T20:34:09.876Z"
   },
   {
    "duration": 10,
    "start_time": "2023-01-27T20:34:15.774Z"
   },
   {
    "duration": 9,
    "start_time": "2023-01-27T20:34:22.758Z"
   },
   {
    "duration": 718,
    "start_time": "2023-01-27T20:34:59.752Z"
   },
   {
    "duration": 259,
    "start_time": "2023-01-27T20:37:18.377Z"
   },
   {
    "duration": 492,
    "start_time": "2023-01-27T20:38:46.486Z"
   },
   {
    "duration": 390,
    "start_time": "2023-01-27T20:41:14.213Z"
   },
   {
    "duration": 251,
    "start_time": "2023-01-27T20:41:29.313Z"
   },
   {
    "duration": 6,
    "start_time": "2023-01-27T20:43:32.098Z"
   },
   {
    "duration": 901,
    "start_time": "2023-01-27T20:43:42.775Z"
   },
   {
    "duration": 797,
    "start_time": "2023-01-27T20:43:51.394Z"
   },
   {
    "duration": 811,
    "start_time": "2023-01-27T20:43:56.373Z"
   },
   {
    "duration": 15,
    "start_time": "2023-01-27T20:44:09.316Z"
   },
   {
    "duration": 298,
    "start_time": "2023-01-27T20:48:01.141Z"
   },
   {
    "duration": 179,
    "start_time": "2023-01-27T20:49:18.834Z"
   },
   {
    "duration": 387,
    "start_time": "2023-01-27T20:51:29.397Z"
   },
   {
    "duration": 416,
    "start_time": "2023-01-27T20:52:51.913Z"
   },
   {
    "duration": 308,
    "start_time": "2023-01-27T20:53:51.861Z"
   },
   {
    "duration": 376,
    "start_time": "2023-01-27T20:55:18.080Z"
   },
   {
    "duration": 342,
    "start_time": "2023-01-27T20:55:52.521Z"
   },
   {
    "duration": 297,
    "start_time": "2023-01-27T20:56:02.122Z"
   },
   {
    "duration": 451,
    "start_time": "2023-01-27T20:56:38.420Z"
   },
   {
    "duration": 13,
    "start_time": "2023-01-27T20:58:48.786Z"
   },
   {
    "duration": 235,
    "start_time": "2023-01-27T20:59:55.995Z"
   },
   {
    "duration": 8,
    "start_time": "2023-01-27T21:00:23.055Z"
   },
   {
    "duration": 239,
    "start_time": "2023-01-27T21:00:58.193Z"
   },
   {
    "duration": 409,
    "start_time": "2023-01-27T21:01:08.692Z"
   },
   {
    "duration": 964,
    "start_time": "2023-01-27T21:02:15.584Z"
   },
   {
    "duration": 51,
    "start_time": "2023-01-27T21:02:26.720Z"
   },
   {
    "duration": 913,
    "start_time": "2023-01-27T21:02:44.986Z"
   },
   {
    "duration": 1303,
    "start_time": "2023-01-27T21:03:06.112Z"
   },
   {
    "duration": 1421,
    "start_time": "2023-01-27T21:03:34.746Z"
   },
   {
    "duration": 1004,
    "start_time": "2023-01-27T21:03:59.166Z"
   },
   {
    "duration": 249,
    "start_time": "2023-01-27T21:09:25.847Z"
   },
   {
    "duration": 13,
    "start_time": "2023-01-27T21:10:54.781Z"
   },
   {
    "duration": 11,
    "start_time": "2023-01-27T21:11:35.919Z"
   },
   {
    "duration": 12,
    "start_time": "2023-01-27T21:11:40.071Z"
   },
   {
    "duration": 14,
    "start_time": "2023-01-27T21:11:50.510Z"
   },
   {
    "duration": 221,
    "start_time": "2023-01-27T21:13:17.294Z"
   },
   {
    "duration": 220,
    "start_time": "2023-01-27T21:16:17.748Z"
   },
   {
    "duration": 238,
    "start_time": "2023-01-27T21:16:22.243Z"
   },
   {
    "duration": 157,
    "start_time": "2023-01-27T21:17:39.040Z"
   },
   {
    "duration": 725,
    "start_time": "2023-01-27T21:17:56.364Z"
   },
   {
    "duration": 172,
    "start_time": "2023-01-27T21:18:01.711Z"
   },
   {
    "duration": 157,
    "start_time": "2023-01-27T21:18:15.315Z"
   },
   {
    "duration": 151,
    "start_time": "2023-01-27T21:18:41.280Z"
   },
   {
    "duration": 160,
    "start_time": "2023-01-27T21:18:48.723Z"
   },
   {
    "duration": 171,
    "start_time": "2023-01-27T21:19:04.538Z"
   },
   {
    "duration": 196,
    "start_time": "2023-01-27T21:20:22.449Z"
   },
   {
    "duration": 192,
    "start_time": "2023-01-27T21:20:34.124Z"
   },
   {
    "duration": 189,
    "start_time": "2023-01-27T21:20:40.648Z"
   },
   {
    "duration": 171,
    "start_time": "2023-01-27T21:20:51.826Z"
   },
   {
    "duration": 195,
    "start_time": "2023-01-27T21:21:04.951Z"
   },
   {
    "duration": 174,
    "start_time": "2023-01-27T21:21:37.815Z"
   },
   {
    "duration": 398,
    "start_time": "2023-01-27T21:21:57.548Z"
   },
   {
    "duration": 182,
    "start_time": "2023-01-27T21:24:47.287Z"
   },
   {
    "duration": 183,
    "start_time": "2023-01-27T21:24:58.994Z"
   },
   {
    "duration": 43,
    "start_time": "2023-01-27T21:28:50.767Z"
   },
   {
    "duration": 220,
    "start_time": "2023-01-27T21:29:00.302Z"
   },
   {
    "duration": 176,
    "start_time": "2023-01-27T21:31:13.356Z"
   },
   {
    "duration": 3035,
    "start_time": "2023-01-27T21:31:26.490Z"
   },
   {
    "duration": 177,
    "start_time": "2023-01-27T21:31:31.472Z"
   },
   {
    "duration": 13076,
    "start_time": "2023-01-27T21:33:32.112Z"
   },
   {
    "duration": 6,
    "start_time": "2023-01-27T21:34:00.086Z"
   },
   {
    "duration": 4,
    "start_time": "2023-01-27T21:34:15.641Z"
   },
   {
    "duration": 8,
    "start_time": "2023-01-27T21:34:31.836Z"
   },
   {
    "duration": 5,
    "start_time": "2023-01-27T21:34:46.243Z"
   },
   {
    "duration": 12723,
    "start_time": "2023-01-27T21:34:56.389Z"
   },
   {
    "duration": 12253,
    "start_time": "2023-01-27T21:35:39.332Z"
   },
   {
    "duration": 173,
    "start_time": "2023-01-27T21:36:00.052Z"
   },
   {
    "duration": 170,
    "start_time": "2023-01-27T21:36:21.915Z"
   },
   {
    "duration": 223,
    "start_time": "2023-01-27T21:36:35.450Z"
   },
   {
    "duration": 191,
    "start_time": "2023-01-27T21:36:56.042Z"
   },
   {
    "duration": 402,
    "start_time": "2023-01-27T21:37:05.243Z"
   },
   {
    "duration": 184,
    "start_time": "2023-01-27T21:37:11.694Z"
   },
   {
    "duration": 162,
    "start_time": "2023-01-27T21:37:36.853Z"
   },
   {
    "duration": 169,
    "start_time": "2023-01-27T21:37:52.139Z"
   },
   {
    "duration": 13049,
    "start_time": "2023-01-27T21:38:08.848Z"
   },
   {
    "duration": 166,
    "start_time": "2023-01-27T21:38:44.056Z"
   },
   {
    "duration": 3866,
    "start_time": "2023-01-27T21:40:03.591Z"
   },
   {
    "duration": 8,
    "start_time": "2023-01-27T21:40:28.435Z"
   },
   {
    "duration": 5,
    "start_time": "2023-01-27T21:40:37.545Z"
   },
   {
    "duration": 199,
    "start_time": "2023-01-27T21:40:46.021Z"
   },
   {
    "duration": 176,
    "start_time": "2023-01-27T21:42:26.785Z"
   },
   {
    "duration": 8,
    "start_time": "2023-01-27T21:52:42.924Z"
   },
   {
    "duration": 5,
    "start_time": "2023-01-27T21:52:52.689Z"
   },
   {
    "duration": 4,
    "start_time": "2023-01-27T21:53:13.658Z"
   },
   {
    "duration": 3,
    "start_time": "2023-01-27T21:53:19.764Z"
   },
   {
    "duration": 55,
    "start_time": "2023-01-27T21:53:19.770Z"
   },
   {
    "duration": 11,
    "start_time": "2023-01-27T21:53:19.829Z"
   },
   {
    "duration": 11,
    "start_time": "2023-01-27T21:53:19.842Z"
   },
   {
    "duration": 13,
    "start_time": "2023-01-27T21:53:19.855Z"
   },
   {
    "duration": 7,
    "start_time": "2023-01-27T21:53:19.869Z"
   },
   {
    "duration": 5,
    "start_time": "2023-01-27T21:53:19.877Z"
   },
   {
    "duration": 5,
    "start_time": "2023-01-27T21:53:22.389Z"
   },
   {
    "duration": 245,
    "start_time": "2023-01-27T21:54:13.155Z"
   },
   {
    "duration": 6,
    "start_time": "2023-01-27T21:54:55.572Z"
   },
   {
    "duration": 14,
    "start_time": "2023-01-27T22:06:23.229Z"
   },
   {
    "duration": 11,
    "start_time": "2023-01-27T22:06:31.101Z"
   },
   {
    "duration": 25,
    "start_time": "2023-01-27T22:06:40.632Z"
   },
   {
    "duration": 17,
    "start_time": "2023-01-27T22:06:49.957Z"
   },
   {
    "duration": 3,
    "start_time": "2023-01-27T22:07:45.465Z"
   },
   {
    "duration": 48,
    "start_time": "2023-01-27T22:07:45.470Z"
   },
   {
    "duration": 3,
    "start_time": "2023-01-27T22:07:45.520Z"
   },
   {
    "duration": 14,
    "start_time": "2023-01-27T22:07:45.526Z"
   },
   {
    "duration": 18,
    "start_time": "2023-01-27T22:07:45.544Z"
   },
   {
    "duration": 9,
    "start_time": "2023-01-27T22:07:45.564Z"
   },
   {
    "duration": 8,
    "start_time": "2023-01-27T22:07:45.576Z"
   },
   {
    "duration": 9,
    "start_time": "2023-01-27T22:07:45.586Z"
   },
   {
    "duration": 33,
    "start_time": "2023-01-27T22:07:45.597Z"
   },
   {
    "duration": 17,
    "start_time": "2023-01-27T22:07:45.632Z"
   },
   {
    "duration": 467,
    "start_time": "2023-01-27T22:07:45.651Z"
   },
   {
    "duration": 899,
    "start_time": "2023-01-27T22:07:46.120Z"
   },
   {
    "duration": 218,
    "start_time": "2023-01-27T22:07:47.021Z"
   },
   {
    "duration": 8,
    "start_time": "2023-01-27T22:07:47.243Z"
   },
   {
    "duration": 8,
    "start_time": "2023-01-27T22:13:08.270Z"
   },
   {
    "duration": 6,
    "start_time": "2023-01-27T22:13:40.965Z"
   },
   {
    "duration": 25,
    "start_time": "2023-01-27T22:22:29.921Z"
   },
   {
    "duration": 3,
    "start_time": "2023-01-27T22:23:26.591Z"
   },
   {
    "duration": 20,
    "start_time": "2023-01-27T22:23:31.624Z"
   },
   {
    "duration": 4,
    "start_time": "2023-01-27T22:23:45.681Z"
   },
   {
    "duration": 59,
    "start_time": "2023-01-27T22:23:45.687Z"
   },
   {
    "duration": 3,
    "start_time": "2023-01-27T22:23:45.748Z"
   },
   {
    "duration": 18,
    "start_time": "2023-01-27T22:23:45.753Z"
   },
   {
    "duration": 17,
    "start_time": "2023-01-27T22:23:45.773Z"
   },
   {
    "duration": 9,
    "start_time": "2023-01-27T22:23:45.792Z"
   },
   {
    "duration": 7,
    "start_time": "2023-01-27T22:23:45.803Z"
   },
   {
    "duration": 23,
    "start_time": "2023-01-27T22:23:45.812Z"
   },
   {
    "duration": 22,
    "start_time": "2023-01-27T22:23:45.838Z"
   },
   {
    "duration": 20,
    "start_time": "2023-01-27T22:23:45.863Z"
   },
   {
    "duration": 303,
    "start_time": "2023-01-27T22:23:45.885Z"
   },
   {
    "duration": 1009,
    "start_time": "2023-01-27T22:23:46.190Z"
   },
   {
    "duration": 196,
    "start_time": "2023-01-27T22:23:47.201Z"
   },
   {
    "duration": 10,
    "start_time": "2023-01-27T22:23:47.399Z"
   },
   {
    "duration": 28,
    "start_time": "2023-01-27T22:23:47.411Z"
   },
   {
    "duration": 7,
    "start_time": "2023-01-27T22:23:47.443Z"
   },
   {
    "duration": 16,
    "start_time": "2023-01-27T22:23:51.953Z"
   },
   {
    "duration": 4,
    "start_time": "2023-01-27T22:24:09.544Z"
   },
   {
    "duration": 9,
    "start_time": "2023-01-27T22:24:38.386Z"
   },
   {
    "duration": 8,
    "start_time": "2023-01-27T22:24:54.823Z"
   },
   {
    "duration": 6,
    "start_time": "2023-01-27T22:24:59.836Z"
   },
   {
    "duration": 5,
    "start_time": "2023-01-27T22:25:00.661Z"
   },
   {
    "duration": 77,
    "start_time": "2023-01-27T22:25:11.729Z"
   },
   {
    "duration": 3,
    "start_time": "2023-01-27T22:27:17.266Z"
   },
   {
    "duration": 43,
    "start_time": "2023-01-27T22:27:17.271Z"
   },
   {
    "duration": 3,
    "start_time": "2023-01-27T22:27:17.315Z"
   },
   {
    "duration": 26,
    "start_time": "2023-01-27T22:27:17.320Z"
   },
   {
    "duration": 19,
    "start_time": "2023-01-27T22:27:17.347Z"
   },
   {
    "duration": 15,
    "start_time": "2023-01-27T22:27:17.368Z"
   },
   {
    "duration": 12,
    "start_time": "2023-01-27T22:27:17.385Z"
   },
   {
    "duration": 100,
    "start_time": "2023-01-27T22:27:17.398Z"
   },
   {
    "duration": 14,
    "start_time": "2023-01-27T22:27:17.500Z"
   },
   {
    "duration": 17,
    "start_time": "2023-01-27T22:27:17.517Z"
   },
   {
    "duration": 321,
    "start_time": "2023-01-27T22:27:17.535Z"
   },
   {
    "duration": 837,
    "start_time": "2023-01-27T22:27:17.858Z"
   },
   {
    "duration": 195,
    "start_time": "2023-01-27T22:27:18.697Z"
   },
   {
    "duration": 9,
    "start_time": "2023-01-27T22:27:18.895Z"
   },
   {
    "duration": 22,
    "start_time": "2023-01-27T22:27:18.906Z"
   },
   {
    "duration": 16,
    "start_time": "2023-01-27T22:27:18.934Z"
   },
   {
    "duration": 80,
    "start_time": "2023-01-27T22:27:22.274Z"
   },
   {
    "duration": 28,
    "start_time": "2023-01-27T22:28:26.177Z"
   },
   {
    "duration": 23,
    "start_time": "2023-01-27T22:28:52.225Z"
   },
   {
    "duration": 20,
    "start_time": "2023-01-27T22:29:08.192Z"
   },
   {
    "duration": 19,
    "start_time": "2023-01-27T22:29:20.274Z"
   },
   {
    "duration": 3,
    "start_time": "2023-01-27T22:30:33.135Z"
   },
   {
    "duration": 47,
    "start_time": "2023-01-27T22:30:33.141Z"
   },
   {
    "duration": 4,
    "start_time": "2023-01-27T22:30:33.189Z"
   },
   {
    "duration": 9,
    "start_time": "2023-01-27T22:30:33.195Z"
   },
   {
    "duration": 13,
    "start_time": "2023-01-27T22:30:33.206Z"
   },
   {
    "duration": 7,
    "start_time": "2023-01-27T22:30:33.221Z"
   },
   {
    "duration": 17,
    "start_time": "2023-01-27T22:30:33.233Z"
   },
   {
    "duration": 4,
    "start_time": "2023-01-27T22:30:33.252Z"
   },
   {
    "duration": 15,
    "start_time": "2023-01-27T22:30:33.258Z"
   },
   {
    "duration": 13,
    "start_time": "2023-01-27T22:30:33.274Z"
   },
   {
    "duration": 301,
    "start_time": "2023-01-27T22:30:33.289Z"
   },
   {
    "duration": 976,
    "start_time": "2023-01-27T22:30:33.592Z"
   },
   {
    "duration": 214,
    "start_time": "2023-01-27T22:30:34.570Z"
   },
   {
    "duration": 10,
    "start_time": "2023-01-27T22:30:34.786Z"
   },
   {
    "duration": 16,
    "start_time": "2023-01-27T22:30:34.798Z"
   },
   {
    "duration": 8,
    "start_time": "2023-01-27T22:30:34.816Z"
   },
   {
    "duration": 28,
    "start_time": "2023-01-27T22:30:34.828Z"
   },
   {
    "duration": 18,
    "start_time": "2023-01-27T22:31:49.189Z"
   },
   {
    "duration": 10,
    "start_time": "2023-01-27T22:40:36.783Z"
   },
   {
    "duration": 6,
    "start_time": "2023-01-27T22:41:32.926Z"
   },
   {
    "duration": 4,
    "start_time": "2023-01-27T22:42:11.853Z"
   },
   {
    "duration": 11,
    "start_time": "2023-01-27T22:42:17.847Z"
   },
   {
    "duration": 48,
    "start_time": "2023-01-27T22:43:02.919Z"
   },
   {
    "duration": 4,
    "start_time": "2023-01-27T22:43:10.244Z"
   },
   {
    "duration": 70,
    "start_time": "2023-01-27T22:43:13.510Z"
   },
   {
    "duration": 9660,
    "start_time": "2023-01-27T22:43:24.519Z"
   },
   {
    "duration": 3,
    "start_time": "2023-01-27T22:43:41.423Z"
   },
   {
    "duration": 33067,
    "start_time": "2023-01-27T22:43:41.927Z"
   },
   {
    "duration": 4,
    "start_time": "2023-01-27T22:44:14.996Z"
   },
   {
    "duration": 23,
    "start_time": "2023-01-27T22:44:15.002Z"
   },
   {
    "duration": 3,
    "start_time": "2023-01-27T22:44:55.335Z"
   },
   {
    "duration": 62,
    "start_time": "2023-01-27T22:45:04.695Z"
   },
   {
    "duration": 1836,
    "start_time": "2023-01-27T22:45:13.815Z"
   },
   {
    "duration": 4,
    "start_time": "2023-01-27T22:45:19.540Z"
   },
   {
    "duration": 4,
    "start_time": "2023-01-27T22:48:33.408Z"
   },
   {
    "duration": 3,
    "start_time": "2023-01-27T22:50:18.953Z"
   },
   {
    "duration": 19,
    "start_time": "2023-01-27T22:50:19.504Z"
   },
   {
    "duration": 47,
    "start_time": "2023-01-27T22:50:24.342Z"
   },
   {
    "duration": 7,
    "start_time": "2023-01-27T22:50:54.540Z"
   },
   {
    "duration": 7,
    "start_time": "2023-01-27T22:51:11.505Z"
   },
   {
    "duration": 3,
    "start_time": "2023-01-27T22:54:54.762Z"
   },
   {
    "duration": 33301,
    "start_time": "2023-01-27T22:54:55.379Z"
   },
   {
    "duration": 5,
    "start_time": "2023-01-27T22:55:28.682Z"
   },
   {
    "duration": 5,
    "start_time": "2023-01-27T22:55:28.689Z"
   },
   {
    "duration": 4,
    "start_time": "2023-01-27T22:55:40.141Z"
   },
   {
    "duration": 3,
    "start_time": "2023-01-27T22:55:46.323Z"
   },
   {
    "duration": 33318,
    "start_time": "2023-01-27T22:55:46.702Z"
   },
   {
    "duration": 18,
    "start_time": "2023-01-27T22:56:20.026Z"
   },
   {
    "duration": 13,
    "start_time": "2023-01-27T22:56:20.046Z"
   },
   {
    "duration": 3,
    "start_time": "2023-01-27T22:56:29.074Z"
   },
   {
    "duration": 290,
    "start_time": "2023-01-27T22:56:29.644Z"
   },
   {
    "duration": 7,
    "start_time": "2023-01-27T22:56:30.203Z"
   },
   {
    "duration": 44,
    "start_time": "2023-01-27T22:56:45.371Z"
   },
   {
    "duration": 11,
    "start_time": "2023-01-27T22:56:55.875Z"
   },
   {
    "duration": 33,
    "start_time": "2023-01-27T22:57:30.859Z"
   },
   {
    "duration": 8,
    "start_time": "2023-01-27T22:57:36.387Z"
   },
   {
    "duration": 784777,
    "start_time": "2023-01-27T22:57:37.328Z"
   },
   {
    "duration": 9,
    "start_time": "2023-01-27T23:10:42.107Z"
   },
   {
    "duration": 0,
    "start_time": "2023-01-27T23:10:42.117Z"
   },
   {
    "duration": 0,
    "start_time": "2023-01-27T23:10:42.119Z"
   },
   {
    "duration": 3,
    "start_time": "2023-01-27T23:11:17.790Z"
   },
   {
    "duration": 40,
    "start_time": "2023-01-27T23:11:18.885Z"
   },
   {
    "duration": 4,
    "start_time": "2023-01-27T23:11:19.429Z"
   },
   {
    "duration": 7,
    "start_time": "2023-01-27T23:11:19.894Z"
   },
   {
    "duration": 13,
    "start_time": "2023-01-27T23:11:20.302Z"
   },
   {
    "duration": 7,
    "start_time": "2023-01-27T23:11:20.796Z"
   },
   {
    "duration": 11,
    "start_time": "2023-01-27T23:11:21.031Z"
   },
   {
    "duration": 4,
    "start_time": "2023-01-27T23:11:21.221Z"
   },
   {
    "duration": 11,
    "start_time": "2023-01-27T23:11:21.387Z"
   },
   {
    "duration": 13,
    "start_time": "2023-01-27T23:11:21.853Z"
   },
   {
    "duration": 295,
    "start_time": "2023-01-27T23:11:22.686Z"
   },
   {
    "duration": 988,
    "start_time": "2023-01-27T23:11:23.060Z"
   },
   {
    "duration": 197,
    "start_time": "2023-01-27T23:11:24.050Z"
   },
   {
    "duration": 8,
    "start_time": "2023-01-27T23:11:31.670Z"
   },
   {
    "duration": 6,
    "start_time": "2023-01-27T23:11:32.143Z"
   },
   {
    "duration": 5,
    "start_time": "2023-01-27T23:11:32.736Z"
   },
   {
    "duration": 17,
    "start_time": "2023-01-27T23:11:35.061Z"
   },
   {
    "duration": 4,
    "start_time": "2023-01-27T23:11:40.901Z"
   },
   {
    "duration": 64,
    "start_time": "2023-01-27T23:11:43.156Z"
   },
   {
    "duration": 4,
    "start_time": "2023-01-27T23:12:00.412Z"
   },
   {
    "duration": 3671,
    "start_time": "2023-01-27T23:12:01.076Z"
   },
   {
    "duration": 4,
    "start_time": "2023-01-27T23:12:09.302Z"
   },
   {
    "duration": 72,
    "start_time": "2023-01-27T23:12:10.709Z"
   },
   {
    "duration": 3,
    "start_time": "2023-01-27T23:12:17.573Z"
   },
   {
    "duration": 21992,
    "start_time": "2023-01-27T23:12:18.156Z"
   },
   {
    "duration": 5,
    "start_time": "2023-01-27T23:12:44.813Z"
   },
   {
    "duration": 4,
    "start_time": "2023-01-27T23:12:45.772Z"
   },
   {
    "duration": 4,
    "start_time": "2023-01-27T23:13:48.021Z"
   },
   {
    "duration": 503080,
    "start_time": "2023-01-27T23:13:48.965Z"
   },
   {
    "duration": 5,
    "start_time": "2023-01-27T23:22:12.049Z"
   },
   {
    "duration": 14,
    "start_time": "2023-01-27T23:22:12.130Z"
   },
   {
    "duration": 3,
    "start_time": "2023-01-27T23:22:35.344Z"
   },
   {
    "duration": 58,
    "start_time": "2023-01-27T23:22:35.860Z"
   },
   {
    "duration": 1328,
    "start_time": "2023-01-27T23:23:21.623Z"
   },
   {
    "duration": 4,
    "start_time": "2023-01-27T23:23:25.902Z"
   },
   {
    "duration": 5,
    "start_time": "2023-01-27T23:23:43.416Z"
   },
   {
    "duration": 4,
    "start_time": "2023-01-27T23:25:20.131Z"
   },
   {
    "duration": 32,
    "start_time": "2023-01-27T23:25:20.653Z"
   },
   {
    "duration": 4,
    "start_time": "2023-01-27T23:25:21.478Z"
   },
   {
    "duration": 6,
    "start_time": "2023-01-27T23:25:45.537Z"
   },
   {
    "duration": 4,
    "start_time": "2023-01-27T23:25:46.218Z"
   },
   {
    "duration": 3,
    "start_time": "2023-01-27T23:25:59.901Z"
   },
   {
    "duration": 31,
    "start_time": "2023-01-27T23:26:00.262Z"
   },
   {
    "duration": 4,
    "start_time": "2023-01-27T23:26:00.654Z"
   },
   {
    "duration": 5,
    "start_time": "2023-01-27T23:26:01.135Z"
   },
   {
    "duration": 41,
    "start_time": "2023-01-27T23:27:44.995Z"
   },
   {
    "duration": 32,
    "start_time": "2023-01-27T23:29:17.275Z"
   },
   {
    "duration": 33,
    "start_time": "2023-01-27T23:29:25.544Z"
   },
   {
    "duration": 2,
    "start_time": "2023-01-27T23:31:28.119Z"
   },
   {
    "duration": 1162,
    "start_time": "2023-01-27T23:31:28.583Z"
   },
   {
    "duration": 7,
    "start_time": "2023-01-27T23:31:33.631Z"
   },
   {
    "duration": 5,
    "start_time": "2023-01-27T23:31:49.655Z"
   },
   {
    "duration": 4,
    "start_time": "2023-01-27T23:31:50.296Z"
   },
   {
    "duration": 18,
    "start_time": "2023-01-27T23:33:05.248Z"
   },
   {
    "duration": 41,
    "start_time": "2023-01-27T23:33:09.624Z"
   },
   {
    "duration": 2,
    "start_time": "2023-01-27T23:33:26.872Z"
   },
   {
    "duration": 1307,
    "start_time": "2023-01-27T23:33:28.922Z"
   },
   {
    "duration": 5,
    "start_time": "2023-01-27T23:33:32.945Z"
   },
   {
    "duration": 4,
    "start_time": "2023-01-27T23:33:48.518Z"
   },
   {
    "duration": 3,
    "start_time": "2023-01-27T23:34:09.508Z"
   },
   {
    "duration": 866,
    "start_time": "2023-01-27T23:34:09.985Z"
   },
   {
    "duration": 7,
    "start_time": "2023-01-27T23:34:10.932Z"
   },
   {
    "duration": 4,
    "start_time": "2023-01-27T23:34:12.352Z"
   },
   {
    "duration": 3,
    "start_time": "2023-01-27T23:34:24.682Z"
   },
   {
    "duration": 701,
    "start_time": "2023-01-27T23:34:25.049Z"
   },
   {
    "duration": 5,
    "start_time": "2023-01-27T23:34:25.826Z"
   },
   {
    "duration": 4,
    "start_time": "2023-01-27T23:34:26.036Z"
   },
   {
    "duration": 4,
    "start_time": "2023-01-27T23:35:14.709Z"
   },
   {
    "duration": 13546,
    "start_time": "2023-01-27T23:35:15.471Z"
   },
   {
    "duration": 9,
    "start_time": "2023-01-27T23:35:29.019Z"
   },
   {
    "duration": 28,
    "start_time": "2023-01-27T23:35:29.033Z"
   },
   {
    "duration": 3,
    "start_time": "2023-01-27T23:35:43.714Z"
   },
   {
    "duration": 21764,
    "start_time": "2023-01-27T23:35:44.121Z"
   },
   {
    "duration": 5,
    "start_time": "2023-01-27T23:36:05.887Z"
   },
   {
    "duration": 21,
    "start_time": "2023-01-27T23:36:05.893Z"
   },
   {
    "duration": 18,
    "start_time": "2023-01-27T23:36:34.488Z"
   },
   {
    "duration": 33,
    "start_time": "2023-01-27T23:36:35.485Z"
   },
   {
    "duration": 3,
    "start_time": "2023-01-27T23:36:48.243Z"
   },
   {
    "duration": 947,
    "start_time": "2023-01-27T23:36:50.095Z"
   },
   {
    "duration": 85,
    "start_time": "2023-01-27T23:36:51.045Z"
   },
   {
    "duration": 4,
    "start_time": "2023-01-27T23:36:51.216Z"
   },
   {
    "duration": 25,
    "start_time": "2023-01-27T23:38:21.770Z"
   },
   {
    "duration": 3,
    "start_time": "2023-01-27T23:38:29.952Z"
   },
   {
    "duration": 602,
    "start_time": "2023-01-27T23:38:30.425Z"
   },
   {
    "duration": 4,
    "start_time": "2023-01-27T23:38:32.096Z"
   },
   {
    "duration": 3,
    "start_time": "2023-01-27T23:38:33.312Z"
   },
   {
    "duration": 15,
    "start_time": "2023-01-27T23:38:47.969Z"
   },
   {
    "duration": 36,
    "start_time": "2023-01-27T23:38:49.709Z"
   },
   {
    "duration": 2,
    "start_time": "2023-01-27T23:38:53.909Z"
   },
   {
    "duration": 621,
    "start_time": "2023-01-27T23:38:54.509Z"
   },
   {
    "duration": 5,
    "start_time": "2023-01-27T23:38:56.056Z"
   },
   {
    "duration": 4,
    "start_time": "2023-01-27T23:38:57.144Z"
   },
   {
    "duration": 822,
    "start_time": "2023-01-27T23:39:10.514Z"
   },
   {
    "duration": 5,
    "start_time": "2023-01-27T23:39:11.341Z"
   },
   {
    "duration": 3,
    "start_time": "2023-01-27T23:39:12.250Z"
   },
   {
    "duration": 882,
    "start_time": "2023-01-27T23:39:17.945Z"
   },
   {
    "duration": 5,
    "start_time": "2023-01-27T23:39:20.056Z"
   },
   {
    "duration": 4,
    "start_time": "2023-01-27T23:39:20.777Z"
   },
   {
    "duration": 17,
    "start_time": "2023-01-27T23:39:51.249Z"
   },
   {
    "duration": 6,
    "start_time": "2023-01-27T23:40:03.308Z"
   },
   {
    "duration": 4,
    "start_time": "2023-01-27T23:41:28.714Z"
   },
   {
    "duration": 46,
    "start_time": "2023-01-27T23:41:28.720Z"
   },
   {
    "duration": 3,
    "start_time": "2023-01-27T23:41:28.768Z"
   },
   {
    "duration": 10,
    "start_time": "2023-01-27T23:41:28.773Z"
   },
   {
    "duration": 11,
    "start_time": "2023-01-27T23:41:28.786Z"
   },
   {
    "duration": 7,
    "start_time": "2023-01-27T23:41:28.799Z"
   },
   {
    "duration": 7,
    "start_time": "2023-01-27T23:41:28.807Z"
   },
   {
    "duration": 4,
    "start_time": "2023-01-27T23:41:28.816Z"
   },
   {
    "duration": 30,
    "start_time": "2023-01-27T23:41:28.822Z"
   },
   {
    "duration": 14,
    "start_time": "2023-01-27T23:41:28.854Z"
   },
   {
    "duration": 295,
    "start_time": "2023-01-27T23:41:28.870Z"
   },
   {
    "duration": 875,
    "start_time": "2023-01-27T23:41:29.167Z"
   },
   {
    "duration": 198,
    "start_time": "2023-01-27T23:41:30.044Z"
   },
   {
    "duration": 12,
    "start_time": "2023-01-27T23:41:30.246Z"
   },
   {
    "duration": 38,
    "start_time": "2023-01-27T23:41:30.260Z"
   },
   {
    "duration": 55,
    "start_time": "2023-01-27T23:41:30.301Z"
   },
   {
    "duration": 40,
    "start_time": "2023-01-27T23:41:30.358Z"
   },
   {
    "duration": 59,
    "start_time": "2023-01-27T23:41:30.400Z"
   },
   {
    "duration": 32,
    "start_time": "2023-01-27T23:41:30.461Z"
   },
   {
    "duration": 26714,
    "start_time": "2023-01-27T23:41:30.495Z"
   },
   {
    "duration": 4,
    "start_time": "2023-01-27T23:41:57.212Z"
   },
   {
    "duration": 13,
    "start_time": "2023-01-27T23:41:57.228Z"
   },
   {
    "duration": 14,
    "start_time": "2023-01-27T23:41:57.244Z"
   },
   {
    "duration": 873,
    "start_time": "2023-01-27T23:41:57.260Z"
   },
   {
    "duration": 8,
    "start_time": "2023-01-27T23:41:58.135Z"
   },
   {
    "duration": 11,
    "start_time": "2023-01-27T23:41:58.145Z"
   },
   {
    "duration": 7,
    "start_time": "2023-01-27T23:41:58.228Z"
   },
   {
    "duration": 1001567,
    "start_time": "2023-01-27T23:41:58.241Z"
   },
   {
    "duration": 11,
    "start_time": "2023-01-27T23:58:39.811Z"
   },
   {
    "duration": 0,
    "start_time": "2023-01-27T23:58:39.824Z"
   },
   {
    "duration": 0,
    "start_time": "2023-01-27T23:58:39.826Z"
   },
   {
    "duration": 0,
    "start_time": "2023-01-27T23:58:39.827Z"
   },
   {
    "duration": 4,
    "start_time": "2023-01-27T23:58:45.778Z"
   },
   {
    "duration": 69,
    "start_time": "2023-01-27T23:58:45.784Z"
   },
   {
    "duration": 3,
    "start_time": "2023-01-27T23:58:45.854Z"
   },
   {
    "duration": 26,
    "start_time": "2023-01-27T23:58:45.859Z"
   },
   {
    "duration": 30,
    "start_time": "2023-01-27T23:58:45.887Z"
   },
   {
    "duration": 21,
    "start_time": "2023-01-27T23:58:45.919Z"
   },
   {
    "duration": 17,
    "start_time": "2023-01-27T23:58:45.942Z"
   },
   {
    "duration": 23,
    "start_time": "2023-01-27T23:58:45.961Z"
   },
   {
    "duration": 23,
    "start_time": "2023-01-27T23:58:45.985Z"
   },
   {
    "duration": 21,
    "start_time": "2023-01-27T23:58:46.010Z"
   },
   {
    "duration": 279,
    "start_time": "2023-01-27T23:58:46.033Z"
   },
   {
    "duration": 934,
    "start_time": "2023-01-27T23:58:46.315Z"
   },
   {
    "duration": 170,
    "start_time": "2023-01-27T23:58:47.251Z"
   },
   {
    "duration": 11,
    "start_time": "2023-01-27T23:58:47.423Z"
   },
   {
    "duration": 17,
    "start_time": "2023-01-27T23:58:47.435Z"
   },
   {
    "duration": 23,
    "start_time": "2023-01-27T23:58:47.454Z"
   },
   {
    "duration": 22,
    "start_time": "2023-01-27T23:58:47.478Z"
   },
   {
    "duration": 27,
    "start_time": "2023-01-27T23:58:47.501Z"
   },
   {
    "duration": 6,
    "start_time": "2023-01-27T23:58:47.530Z"
   },
   {
    "duration": 20528,
    "start_time": "2023-01-27T23:58:47.537Z"
   },
   {
    "duration": 4,
    "start_time": "2023-01-27T23:59:08.067Z"
   },
   {
    "duration": 9,
    "start_time": "2023-01-27T23:59:08.072Z"
   },
   {
    "duration": 4,
    "start_time": "2023-01-27T23:59:08.083Z"
   },
   {
    "duration": 844,
    "start_time": "2023-01-27T23:59:08.088Z"
   },
   {
    "duration": 94,
    "start_time": "2023-01-27T23:59:08.936Z"
   },
   {
    "duration": 31,
    "start_time": "2023-01-27T23:59:09.032Z"
   },
   {
    "duration": 42,
    "start_time": "2023-01-27T23:59:09.065Z"
   },
   {
    "duration": 94008,
    "start_time": "2023-01-27T23:59:09.127Z"
   },
   {
    "duration": 5,
    "start_time": "2023-01-28T00:00:43.137Z"
   },
   {
    "duration": 6,
    "start_time": "2023-01-28T00:00:43.143Z"
   },
   {
    "duration": 77,
    "start_time": "2023-01-28T00:00:43.151Z"
   },
   {
    "duration": 6,
    "start_time": "2023-01-28T00:00:43.229Z"
   },
   {
    "duration": 15,
    "start_time": "2023-01-28T00:00:56.634Z"
   },
   {
    "duration": 6,
    "start_time": "2023-01-28T00:00:57.289Z"
   },
   {
    "duration": 3,
    "start_time": "2023-01-28T00:35:20.576Z"
   },
   {
    "duration": 81,
    "start_time": "2023-01-28T00:35:22.433Z"
   },
   {
    "duration": 342,
    "start_time": "2023-01-28T00:35:26.792Z"
   },
   {
    "duration": 4,
    "start_time": "2023-01-28T00:35:28.985Z"
   },
   {
    "duration": 45,
    "start_time": "2023-01-28T00:35:55.545Z"
   },
   {
    "duration": 47,
    "start_time": "2023-01-28T00:36:07.300Z"
   },
   {
    "duration": 13,
    "start_time": "2023-01-28T00:37:19.072Z"
   },
   {
    "duration": 13,
    "start_time": "2023-01-28T00:38:20.330Z"
   },
   {
    "duration": 4,
    "start_time": "2023-01-28T00:40:30.935Z"
   },
   {
    "duration": 75,
    "start_time": "2023-01-28T00:40:30.941Z"
   },
   {
    "duration": 2,
    "start_time": "2023-01-28T00:40:31.018Z"
   },
   {
    "duration": 21,
    "start_time": "2023-01-28T00:40:31.022Z"
   },
   {
    "duration": 28,
    "start_time": "2023-01-28T00:40:31.044Z"
   },
   {
    "duration": 22,
    "start_time": "2023-01-28T00:40:31.074Z"
   },
   {
    "duration": 13,
    "start_time": "2023-01-28T00:40:31.098Z"
   },
   {
    "duration": 26,
    "start_time": "2023-01-28T00:40:31.113Z"
   },
   {
    "duration": 18,
    "start_time": "2023-01-28T00:40:31.141Z"
   },
   {
    "duration": 10,
    "start_time": "2023-01-28T00:40:31.161Z"
   },
   {
    "duration": 20,
    "start_time": "2023-01-28T00:40:31.173Z"
   },
   {
    "duration": 265,
    "start_time": "2023-01-28T00:40:55.661Z"
   },
   {
    "duration": 870,
    "start_time": "2023-01-28T00:40:57.643Z"
   },
   {
    "duration": 188,
    "start_time": "2023-01-28T00:41:00.283Z"
   },
   {
    "duration": 7,
    "start_time": "2023-01-28T00:41:06.014Z"
   },
   {
    "duration": 5,
    "start_time": "2023-01-28T00:41:06.714Z"
   },
   {
    "duration": 5,
    "start_time": "2023-01-28T00:41:07.945Z"
   },
   {
    "duration": 18,
    "start_time": "2023-01-28T00:41:11.355Z"
   },
   {
    "duration": 28,
    "start_time": "2023-01-28T00:41:12.620Z"
   },
   {
    "duration": 4,
    "start_time": "2023-01-28T00:41:20.923Z"
   },
   {
    "duration": 20527,
    "start_time": "2023-01-28T00:41:21.514Z"
   },
   {
    "duration": 4,
    "start_time": "2023-01-28T00:41:42.043Z"
   },
   {
    "duration": 10,
    "start_time": "2023-01-28T00:41:42.049Z"
   },
   {
    "duration": 4,
    "start_time": "2023-01-28T00:44:46.666Z"
   },
   {
    "duration": 18497,
    "start_time": "2023-01-28T00:44:47.741Z"
   },
   {
    "duration": 4,
    "start_time": "2023-01-28T00:45:06.240Z"
   },
   {
    "duration": 83,
    "start_time": "2023-01-28T00:45:06.245Z"
   },
   {
    "duration": 36,
    "start_time": "2023-01-28T00:45:06.331Z"
   },
   {
    "duration": 5,
    "start_time": "2023-01-28T00:47:52.086Z"
   },
   {
    "duration": 49,
    "start_time": "2023-01-28T00:47:52.093Z"
   },
   {
    "duration": 4,
    "start_time": "2023-01-28T00:47:52.143Z"
   },
   {
    "duration": 22,
    "start_time": "2023-01-28T00:47:52.149Z"
   },
   {
    "duration": 13,
    "start_time": "2023-01-28T00:47:52.173Z"
   },
   {
    "duration": 9,
    "start_time": "2023-01-28T00:47:52.188Z"
   },
   {
    "duration": 8,
    "start_time": "2023-01-28T00:47:52.199Z"
   },
   {
    "duration": 21,
    "start_time": "2023-01-28T00:47:52.208Z"
   },
   {
    "duration": 18,
    "start_time": "2023-01-28T00:47:52.230Z"
   },
   {
    "duration": 2,
    "start_time": "2023-01-28T00:47:52.251Z"
   },
   {
    "duration": 20,
    "start_time": "2023-01-28T00:47:52.255Z"
   },
   {
    "duration": 281,
    "start_time": "2023-01-28T00:47:52.276Z"
   },
   {
    "duration": 793,
    "start_time": "2023-01-28T00:47:52.559Z"
   },
   {
    "duration": 166,
    "start_time": "2023-01-28T00:47:53.354Z"
   },
   {
    "duration": 8,
    "start_time": "2023-01-28T00:47:53.526Z"
   },
   {
    "duration": 8,
    "start_time": "2023-01-28T00:47:53.536Z"
   },
   {
    "duration": 9,
    "start_time": "2023-01-28T00:47:53.545Z"
   },
   {
    "duration": 16,
    "start_time": "2023-01-28T00:47:53.556Z"
   },
   {
    "duration": 25,
    "start_time": "2023-01-28T00:47:53.574Z"
   },
   {
    "duration": 4,
    "start_time": "2023-01-28T00:47:53.600Z"
   },
   {
    "duration": 20613,
    "start_time": "2023-01-28T00:47:53.605Z"
   },
   {
    "duration": 8,
    "start_time": "2023-01-28T00:48:14.219Z"
   },
   {
    "duration": 3,
    "start_time": "2023-01-28T00:48:14.229Z"
   },
   {
    "duration": 5,
    "start_time": "2023-01-28T00:48:14.234Z"
   },
   {
    "duration": 690,
    "start_time": "2023-01-28T00:48:14.240Z"
   },
   {
    "duration": 4,
    "start_time": "2023-01-28T00:48:14.931Z"
   },
   {
    "duration": 6,
    "start_time": "2023-01-28T00:48:14.936Z"
   },
   {
    "duration": 62486,
    "start_time": "2023-01-28T00:48:14.945Z"
   },
   {
    "duration": 4,
    "start_time": "2023-01-28T00:49:17.432Z"
   },
   {
    "duration": 6,
    "start_time": "2023-01-28T00:49:17.437Z"
   },
   {
    "duration": 16,
    "start_time": "2023-01-28T00:49:17.444Z"
   },
   {
    "duration": 65,
    "start_time": "2023-01-28T00:49:17.462Z"
   },
   {
    "duration": 5,
    "start_time": "2023-01-28T00:49:17.529Z"
   },
   {
    "duration": 2670,
    "start_time": "2023-01-28T05:13:26.082Z"
   },
   {
    "duration": 143,
    "start_time": "2023-01-28T05:13:28.754Z"
   },
   {
    "duration": 3,
    "start_time": "2023-01-28T05:14:13.966Z"
   },
   {
    "duration": 12,
    "start_time": "2023-01-28T05:14:16.651Z"
   },
   {
    "duration": 12,
    "start_time": "2023-01-28T05:14:17.480Z"
   },
   {
    "duration": 10,
    "start_time": "2023-01-28T05:14:21.876Z"
   },
   {
    "duration": 4,
    "start_time": "2023-01-28T05:14:23.188Z"
   },
   {
    "duration": 5,
    "start_time": "2023-01-28T05:14:24.793Z"
   },
   {
    "duration": 12,
    "start_time": "2023-01-28T05:14:25.014Z"
   },
   {
    "duration": 16,
    "start_time": "2023-01-28T05:19:04.000Z"
   },
   {
    "duration": 348,
    "start_time": "2023-01-28T05:19:07.246Z"
   },
   {
    "duration": 1032,
    "start_time": "2023-01-28T05:19:08.715Z"
   },
   {
    "duration": 204,
    "start_time": "2023-01-28T05:19:09.750Z"
   },
   {
    "duration": 10,
    "start_time": "2023-01-28T05:20:48.663Z"
   },
   {
    "duration": 7,
    "start_time": "2023-01-28T05:20:49.623Z"
   },
   {
    "duration": 4,
    "start_time": "2023-01-28T05:21:20.471Z"
   },
   {
    "duration": 18,
    "start_time": "2023-01-28T05:21:24.924Z"
   },
   {
    "duration": 5,
    "start_time": "2023-01-28T05:23:51.657Z"
   },
   {
    "duration": 27,
    "start_time": "2023-01-28T05:24:20.298Z"
   },
   {
    "duration": 5,
    "start_time": "2023-01-28T05:24:28.061Z"
   },
   {
    "duration": 24211,
    "start_time": "2023-01-28T05:25:57.245Z"
   },
   {
    "duration": 5,
    "start_time": "2023-01-28T05:26:21.459Z"
   },
   {
    "duration": 18,
    "start_time": "2023-01-28T05:26:21.466Z"
   },
   {
    "duration": 27,
    "start_time": "2023-01-28T05:26:21.487Z"
   },
   {
    "duration": 669,
    "start_time": "2023-01-28T05:26:21.517Z"
   },
   {
    "duration": 4,
    "start_time": "2023-01-28T05:26:22.189Z"
   },
   {
    "duration": 3,
    "start_time": "2023-01-28T05:26:54.727Z"
   },
   {
    "duration": 25692,
    "start_time": "2023-01-28T05:26:57.302Z"
   },
   {
    "duration": 5,
    "start_time": "2023-01-28T05:27:22.996Z"
   },
   {
    "duration": 48,
    "start_time": "2023-01-28T05:27:23.002Z"
   },
   {
    "duration": 79,
    "start_time": "2023-01-28T05:27:23.052Z"
   },
   {
    "duration": 16,
    "start_time": "2023-01-28T05:27:36.059Z"
   },
   {
    "duration": 7,
    "start_time": "2023-01-28T05:27:36.625Z"
   },
   {
    "duration": 1557,
    "start_time": "2023-01-28T09:21:30.776Z"
   },
   {
    "duration": 140,
    "start_time": "2023-01-28T09:21:32.336Z"
   },
   {
    "duration": 11,
    "start_time": "2023-01-28T09:21:32.478Z"
   },
   {
    "duration": 23,
    "start_time": "2023-01-28T09:21:32.490Z"
   },
   {
    "duration": 9,
    "start_time": "2023-01-28T09:21:32.516Z"
   },
   {
    "duration": 138,
    "start_time": "2023-01-28T09:23:10.634Z"
   },
   {
    "duration": 9,
    "start_time": "2023-01-28T09:23:18.844Z"
   },
   {
    "duration": 4,
    "start_time": "2023-01-28T09:24:17.924Z"
   },
   {
    "duration": 4,
    "start_time": "2023-01-28T09:25:38.252Z"
   },
   {
    "duration": 4,
    "start_time": "2023-01-28T09:25:43.753Z"
   },
   {
    "duration": 46,
    "start_time": "2023-01-28T09:25:43.758Z"
   },
   {
    "duration": 6,
    "start_time": "2023-01-28T09:25:43.805Z"
   },
   {
    "duration": 6,
    "start_time": "2023-01-28T09:25:43.813Z"
   },
   {
    "duration": 3,
    "start_time": "2023-01-28T09:25:50.727Z"
   },
   {
    "duration": 4,
    "start_time": "2023-01-28T09:26:12.537Z"
   },
   {
    "duration": 56,
    "start_time": "2023-01-28T09:26:12.543Z"
   },
   {
    "duration": 6,
    "start_time": "2023-01-28T09:26:12.601Z"
   },
   {
    "duration": 30,
    "start_time": "2023-01-28T09:26:12.608Z"
   },
   {
    "duration": 30,
    "start_time": "2023-01-28T09:26:12.640Z"
   },
   {
    "duration": 14,
    "start_time": "2023-01-28T09:26:12.671Z"
   },
   {
    "duration": 3,
    "start_time": "2023-01-28T09:36:48.623Z"
   },
   {
    "duration": 43,
    "start_time": "2023-01-28T09:36:48.628Z"
   },
   {
    "duration": 4,
    "start_time": "2023-01-28T09:36:48.672Z"
   },
   {
    "duration": 3,
    "start_time": "2023-01-28T09:50:05.926Z"
   },
   {
    "duration": 50,
    "start_time": "2023-01-28T09:50:05.931Z"
   },
   {
    "duration": 3,
    "start_time": "2023-01-28T09:50:05.983Z"
   },
   {
    "duration": 6,
    "start_time": "2023-01-28T09:50:05.988Z"
   },
   {
    "duration": 3,
    "start_time": "2023-01-28T09:50:05.996Z"
   },
   {
    "duration": 9,
    "start_time": "2023-01-28T09:50:06.000Z"
   },
   {
    "duration": 13,
    "start_time": "2023-01-28T09:50:06.010Z"
   },
   {
    "duration": 8,
    "start_time": "2023-01-28T09:50:06.025Z"
   },
   {
    "duration": 4,
    "start_time": "2023-01-28T09:50:06.035Z"
   },
   {
    "duration": 8,
    "start_time": "2023-01-28T09:50:06.041Z"
   },
   {
    "duration": 9,
    "start_time": "2023-01-28T09:50:06.051Z"
   },
   {
    "duration": 2,
    "start_time": "2023-01-28T09:50:06.061Z"
   },
   {
    "duration": 10,
    "start_time": "2023-01-28T09:50:06.065Z"
   },
   {
    "duration": 6,
    "start_time": "2023-01-28T10:02:40.730Z"
   },
   {
    "duration": 46,
    "start_time": "2023-01-28T10:02:40.738Z"
   },
   {
    "duration": 4,
    "start_time": "2023-01-28T10:02:40.785Z"
   },
   {
    "duration": 7,
    "start_time": "2023-01-28T10:02:40.790Z"
   },
   {
    "duration": 2,
    "start_time": "2023-01-28T10:02:40.799Z"
   },
   {
    "duration": 8,
    "start_time": "2023-01-28T10:02:40.803Z"
   },
   {
    "duration": 15,
    "start_time": "2023-01-28T10:02:40.813Z"
   },
   {
    "duration": 7,
    "start_time": "2023-01-28T10:02:40.829Z"
   },
   {
    "duration": 5,
    "start_time": "2023-01-28T10:02:40.837Z"
   },
   {
    "duration": 5,
    "start_time": "2023-01-28T10:02:40.844Z"
   },
   {
    "duration": 9,
    "start_time": "2023-01-28T10:02:40.850Z"
   },
   {
    "duration": 2,
    "start_time": "2023-01-28T10:02:40.861Z"
   },
   {
    "duration": 13,
    "start_time": "2023-01-28T10:02:40.864Z"
   },
   {
    "duration": 346,
    "start_time": "2023-01-28T10:02:40.879Z"
   },
   {
    "duration": 967,
    "start_time": "2023-01-28T10:02:41.226Z"
   },
   {
    "duration": 156,
    "start_time": "2023-01-28T10:02:44.947Z"
   },
   {
    "duration": 179,
    "start_time": "2023-01-28T10:03:11.993Z"
   },
   {
    "duration": 150,
    "start_time": "2023-01-28T10:03:33.251Z"
   },
   {
    "duration": 156,
    "start_time": "2023-01-28T10:04:30.443Z"
   },
   {
    "duration": 247,
    "start_time": "2023-01-28T10:05:57.895Z"
   },
   {
    "duration": 169,
    "start_time": "2023-01-28T10:06:09.748Z"
   },
   {
    "duration": 182,
    "start_time": "2023-01-28T10:06:18.331Z"
   },
   {
    "duration": 5,
    "start_time": "2023-01-28T10:10:02.546Z"
   },
   {
    "duration": 77,
    "start_time": "2023-01-28T10:10:02.553Z"
   },
   {
    "duration": 5,
    "start_time": "2023-01-28T10:10:02.632Z"
   },
   {
    "duration": 31,
    "start_time": "2023-01-28T10:10:02.640Z"
   },
   {
    "duration": 20,
    "start_time": "2023-01-28T10:10:02.673Z"
   },
   {
    "duration": 42,
    "start_time": "2023-01-28T10:10:02.695Z"
   },
   {
    "duration": 25,
    "start_time": "2023-01-28T10:10:02.739Z"
   },
   {
    "duration": 48,
    "start_time": "2023-01-28T10:10:02.766Z"
   },
   {
    "duration": 50,
    "start_time": "2023-01-28T10:10:02.816Z"
   },
   {
    "duration": 80,
    "start_time": "2023-01-28T10:10:02.870Z"
   },
   {
    "duration": 51,
    "start_time": "2023-01-28T10:10:02.954Z"
   },
   {
    "duration": 67,
    "start_time": "2023-01-28T10:10:03.007Z"
   },
   {
    "duration": 59,
    "start_time": "2023-01-28T10:10:03.076Z"
   },
   {
    "duration": 445,
    "start_time": "2023-01-28T10:10:03.136Z"
   },
   {
    "duration": 903,
    "start_time": "2023-01-28T10:10:03.583Z"
   },
   {
    "duration": 183,
    "start_time": "2023-01-28T10:10:04.488Z"
   },
   {
    "duration": 202,
    "start_time": "2023-01-28T10:10:04.673Z"
   },
   {
    "duration": 8,
    "start_time": "2023-01-28T10:10:04.876Z"
   },
   {
    "duration": 8,
    "start_time": "2023-01-28T10:10:04.885Z"
   },
   {
    "duration": 22,
    "start_time": "2023-01-28T10:10:04.919Z"
   },
   {
    "duration": 23,
    "start_time": "2023-01-28T10:10:04.943Z"
   },
   {
    "duration": 0,
    "start_time": "2023-01-28T10:10:04.968Z"
   },
   {
    "duration": 0,
    "start_time": "2023-01-28T10:10:04.970Z"
   },
   {
    "duration": 0,
    "start_time": "2023-01-28T10:10:04.971Z"
   },
   {
    "duration": 0,
    "start_time": "2023-01-28T10:10:04.973Z"
   },
   {
    "duration": 0,
    "start_time": "2023-01-28T10:10:04.975Z"
   },
   {
    "duration": 0,
    "start_time": "2023-01-28T10:10:04.976Z"
   },
   {
    "duration": 0,
    "start_time": "2023-01-28T10:10:04.979Z"
   },
   {
    "duration": 0,
    "start_time": "2023-01-28T10:10:04.980Z"
   },
   {
    "duration": 0,
    "start_time": "2023-01-28T10:10:04.982Z"
   },
   {
    "duration": 0,
    "start_time": "2023-01-28T10:10:04.983Z"
   },
   {
    "duration": 0,
    "start_time": "2023-01-28T10:10:04.985Z"
   },
   {
    "duration": 0,
    "start_time": "2023-01-28T10:10:04.986Z"
   },
   {
    "duration": 1,
    "start_time": "2023-01-28T10:10:04.987Z"
   },
   {
    "duration": 0,
    "start_time": "2023-01-28T10:10:05.012Z"
   },
   {
    "duration": 0,
    "start_time": "2023-01-28T10:10:05.013Z"
   },
   {
    "duration": 16,
    "start_time": "2023-01-28T10:10:25.137Z"
   },
   {
    "duration": 33,
    "start_time": "2023-01-28T10:10:31.244Z"
   },
   {
    "duration": 16,
    "start_time": "2023-01-28T10:10:31.279Z"
   },
   {
    "duration": 27450,
    "start_time": "2023-01-28T10:10:31.297Z"
   },
   {
    "duration": 4,
    "start_time": "2023-01-28T10:10:58.748Z"
   },
   {
    "duration": 7,
    "start_time": "2023-01-28T10:10:58.754Z"
   },
   {
    "duration": 7,
    "start_time": "2023-01-28T10:10:58.763Z"
   },
   {
    "duration": 2053,
    "start_time": "2023-01-28T10:10:58.772Z"
   },
   {
    "duration": 79,
    "start_time": "2023-01-28T10:11:00.831Z"
   },
   {
    "duration": 33,
    "start_time": "2023-01-28T10:11:00.912Z"
   },
   {
    "duration": 843464,
    "start_time": "2023-01-28T10:11:00.947Z"
   },
   {
    "duration": 4,
    "start_time": "2023-01-28T10:25:04.413Z"
   },
   {
    "duration": 7,
    "start_time": "2023-01-28T10:25:04.418Z"
   },
   {
    "duration": 92,
    "start_time": "2023-01-28T10:25:04.426Z"
   },
   {
    "duration": 7,
    "start_time": "2023-01-28T10:25:04.520Z"
   },
   {
    "duration": 22,
    "start_time": "2023-01-28T10:25:04.528Z"
   },
   {
    "duration": 21,
    "start_time": "2023-01-28T10:26:53.041Z"
   },
   {
    "duration": 6,
    "start_time": "2023-01-28T10:26:56.521Z"
   },
   {
    "duration": 28,
    "start_time": "2023-01-28T10:44:26.045Z"
   },
   {
    "duration": 118,
    "start_time": "2023-01-28T10:44:32.494Z"
   },
   {
    "duration": 14,
    "start_time": "2023-01-28T10:45:01.632Z"
   },
   {
    "duration": 9,
    "start_time": "2023-01-28T10:45:29.101Z"
   },
   {
    "duration": 190,
    "start_time": "2023-01-28T10:45:37.660Z"
   },
   {
    "duration": 238,
    "start_time": "2023-01-28T10:48:28.353Z"
   },
   {
    "duration": 223,
    "start_time": "2023-01-28T10:48:52.086Z"
   },
   {
    "duration": 23,
    "start_time": "2023-01-28T10:49:24.841Z"
   },
   {
    "duration": 4,
    "start_time": "2023-01-28T10:49:30.102Z"
   },
   {
    "duration": 4,
    "start_time": "2023-01-28T10:49:52.235Z"
   },
   {
    "duration": 3,
    "start_time": "2023-01-28T10:52:40.360Z"
   },
   {
    "duration": 14,
    "start_time": "2023-01-28T10:52:48.336Z"
   },
   {
    "duration": 15,
    "start_time": "2023-01-28T10:53:08.566Z"
   },
   {
    "duration": 3,
    "start_time": "2023-01-28T10:53:21.952Z"
   },
   {
    "duration": 10,
    "start_time": "2023-01-28T10:53:32.136Z"
   },
   {
    "duration": 8,
    "start_time": "2023-01-28T10:53:38.544Z"
   },
   {
    "duration": 6,
    "start_time": "2023-01-28T10:54:10.751Z"
   },
   {
    "duration": 49,
    "start_time": "2023-01-28T10:54:24.695Z"
   },
   {
    "duration": 61,
    "start_time": "2023-01-28T10:54:41.273Z"
   },
   {
    "duration": 12,
    "start_time": "2023-01-28T10:54:51.864Z"
   },
   {
    "duration": 51,
    "start_time": "2023-01-28T10:54:56.795Z"
   },
   {
    "duration": 16,
    "start_time": "2023-01-28T10:55:16.753Z"
   },
   {
    "duration": 6,
    "start_time": "2023-01-28T10:55:22.934Z"
   },
   {
    "duration": 3,
    "start_time": "2023-01-28T10:55:32.537Z"
   },
   {
    "duration": 35,
    "start_time": "2023-01-28T10:55:34.558Z"
   },
   {
    "duration": 5,
    "start_time": "2023-01-28T10:56:40.963Z"
   },
   {
    "duration": 66,
    "start_time": "2023-01-28T10:56:40.971Z"
   },
   {
    "duration": 5,
    "start_time": "2023-01-28T10:56:41.039Z"
   },
   {
    "duration": 13,
    "start_time": "2023-01-28T10:56:41.046Z"
   },
   {
    "duration": 12,
    "start_time": "2023-01-28T10:56:41.061Z"
   },
   {
    "duration": 16,
    "start_time": "2023-01-28T10:56:41.074Z"
   },
   {
    "duration": 20,
    "start_time": "2023-01-28T10:56:41.092Z"
   },
   {
    "duration": 9,
    "start_time": "2023-01-28T10:56:41.117Z"
   },
   {
    "duration": 15,
    "start_time": "2023-01-28T10:56:41.128Z"
   },
   {
    "duration": 14,
    "start_time": "2023-01-28T10:56:41.144Z"
   },
   {
    "duration": 18,
    "start_time": "2023-01-28T10:56:41.160Z"
   },
   {
    "duration": 9,
    "start_time": "2023-01-28T10:56:41.180Z"
   },
   {
    "duration": 23,
    "start_time": "2023-01-28T10:56:41.192Z"
   },
   {
    "duration": 299,
    "start_time": "2023-01-28T10:56:41.217Z"
   },
   {
    "duration": 879,
    "start_time": "2023-01-28T10:56:41.518Z"
   },
   {
    "duration": 257,
    "start_time": "2023-01-28T10:56:42.399Z"
   },
   {
    "duration": 201,
    "start_time": "2023-01-28T10:56:42.658Z"
   },
   {
    "duration": 9,
    "start_time": "2023-01-28T10:56:42.860Z"
   },
   {
    "duration": 15,
    "start_time": "2023-01-28T10:56:42.870Z"
   },
   {
    "duration": 11,
    "start_time": "2023-01-28T10:56:42.887Z"
   },
   {
    "duration": 31,
    "start_time": "2023-01-28T10:56:42.900Z"
   },
   {
    "duration": 35,
    "start_time": "2023-01-28T10:56:51.793Z"
   },
   {
    "duration": 9,
    "start_time": "2023-01-28T10:56:58.736Z"
   },
   {
    "duration": 19,
    "start_time": "2023-01-28T10:57:23.393Z"
   },
   {
    "duration": 6,
    "start_time": "2023-01-28T10:57:38.836Z"
   },
   {
    "duration": 187,
    "start_time": "2023-01-28T10:57:55.333Z"
   },
   {
    "duration": 190,
    "start_time": "2023-01-28T10:58:17.335Z"
   },
   {
    "duration": 227,
    "start_time": "2023-01-28T10:58:41.132Z"
   },
   {
    "duration": 212,
    "start_time": "2023-01-28T11:11:31.047Z"
   },
   {
    "duration": 202,
    "start_time": "2023-01-28T11:11:39.133Z"
   },
   {
    "duration": 8,
    "start_time": "2023-01-28T11:12:27.441Z"
   },
   {
    "duration": 3,
    "start_time": "2023-01-28T11:12:51.487Z"
   },
   {
    "duration": 9,
    "start_time": "2023-01-28T11:12:53.547Z"
   },
   {
    "duration": 8,
    "start_time": "2023-01-28T11:13:43.045Z"
   },
   {
    "duration": 6,
    "start_time": "2023-01-28T11:13:46.872Z"
   },
   {
    "duration": 11,
    "start_time": "2023-01-28T11:14:52.160Z"
   },
   {
    "duration": 13,
    "start_time": "2023-01-28T11:15:17.610Z"
   },
   {
    "duration": 8,
    "start_time": "2023-01-28T11:15:37.760Z"
   },
   {
    "duration": 9,
    "start_time": "2023-01-28T11:15:59.450Z"
   },
   {
    "duration": 12,
    "start_time": "2023-01-28T11:16:09.992Z"
   },
   {
    "duration": 12,
    "start_time": "2023-01-28T11:16:21.445Z"
   },
   {
    "duration": 9,
    "start_time": "2023-01-28T11:16:34.545Z"
   },
   {
    "duration": 560,
    "start_time": "2023-01-28T11:16:39.481Z"
   },
   {
    "duration": 110,
    "start_time": "2023-01-28T11:17:01.149Z"
   },
   {
    "duration": 120,
    "start_time": "2023-01-28T11:17:14.840Z"
   },
   {
    "duration": 114,
    "start_time": "2023-01-28T11:18:36.440Z"
   },
   {
    "duration": 165,
    "start_time": "2023-01-28T11:18:55.061Z"
   },
   {
    "duration": 147,
    "start_time": "2023-01-28T11:19:17.961Z"
   },
   {
    "duration": 148,
    "start_time": "2023-01-28T11:19:42.470Z"
   },
   {
    "duration": 160,
    "start_time": "2023-01-28T11:19:52.744Z"
   },
   {
    "duration": 177,
    "start_time": "2023-01-28T11:20:02.955Z"
   },
   {
    "duration": 9,
    "start_time": "2023-01-28T11:20:35.462Z"
   },
   {
    "duration": 141,
    "start_time": "2023-01-28T11:22:42.255Z"
   },
   {
    "duration": 183,
    "start_time": "2023-01-28T11:23:17.080Z"
   },
   {
    "duration": 164,
    "start_time": "2023-01-28T11:23:36.040Z"
   },
   {
    "duration": 13,
    "start_time": "2023-01-28T11:23:52.043Z"
   },
   {
    "duration": 184,
    "start_time": "2023-01-28T11:25:34.167Z"
   },
   {
    "duration": 10,
    "start_time": "2023-01-28T11:48:24.646Z"
   },
   {
    "duration": 48,
    "start_time": "2023-01-28T11:48:32.400Z"
   },
   {
    "duration": 28,
    "start_time": "2023-01-28T11:48:39.333Z"
   },
   {
    "duration": 8,
    "start_time": "2023-01-28T11:49:09.369Z"
   },
   {
    "duration": 4,
    "start_time": "2023-01-28T11:52:13.668Z"
   },
   {
    "duration": 274,
    "start_time": "2023-01-28T11:52:26.790Z"
   },
   {
    "duration": 11,
    "start_time": "2023-01-28T11:53:43.038Z"
   },
   {
    "duration": 289,
    "start_time": "2023-01-28T11:53:55.450Z"
   },
   {
    "duration": 240,
    "start_time": "2023-01-28T11:54:50.744Z"
   },
   {
    "duration": 342,
    "start_time": "2023-01-28T11:55:48.542Z"
   },
   {
    "duration": 258,
    "start_time": "2023-01-28T11:56:01.299Z"
   },
   {
    "duration": 220,
    "start_time": "2023-01-28T11:56:25.868Z"
   },
   {
    "duration": 230,
    "start_time": "2023-01-28T11:56:32.337Z"
   },
   {
    "duration": 231,
    "start_time": "2023-01-28T11:56:38.040Z"
   },
   {
    "duration": 239,
    "start_time": "2023-01-28T11:56:47.169Z"
   },
   {
    "duration": 251,
    "start_time": "2023-01-28T11:56:52.738Z"
   },
   {
    "duration": 245,
    "start_time": "2023-01-28T11:56:59.694Z"
   },
   {
    "duration": 278,
    "start_time": "2023-01-28T11:57:04.341Z"
   },
   {
    "duration": 150,
    "start_time": "2023-01-28T11:59:04.744Z"
   },
   {
    "duration": 234,
    "start_time": "2023-01-28T11:59:15.872Z"
   },
   {
    "duration": 259,
    "start_time": "2023-01-28T11:59:19.957Z"
   },
   {
    "duration": 315,
    "start_time": "2023-01-28T11:59:36.892Z"
   },
   {
    "duration": 295,
    "start_time": "2023-01-28T12:00:01.195Z"
   },
   {
    "duration": 260,
    "start_time": "2023-01-28T12:00:41.372Z"
   },
   {
    "duration": 240,
    "start_time": "2023-01-28T12:01:11.079Z"
   },
   {
    "duration": 164,
    "start_time": "2023-01-28T12:01:57.872Z"
   },
   {
    "duration": 266,
    "start_time": "2023-01-28T12:02:02.796Z"
   },
   {
    "duration": 446,
    "start_time": "2023-01-28T12:02:33.681Z"
   },
   {
    "duration": 213,
    "start_time": "2023-01-28T12:05:22.531Z"
   },
   {
    "duration": 235,
    "start_time": "2023-01-28T12:05:35.937Z"
   }
  ],
  "kernelspec": {
   "display_name": "Python 3 (ipykernel)",
   "language": "python",
   "name": "python3"
  },
  "language_info": {
   "codemirror_mode": {
    "name": "ipython",
    "version": 3
   },
   "file_extension": ".py",
   "mimetype": "text/x-python",
   "name": "python",
   "nbconvert_exporter": "python",
   "pygments_lexer": "ipython3",
   "version": "3.9.16"
  },
  "toc": {
   "base_numbering": 1,
   "nav_menu": {},
   "number_sections": true,
   "sideBar": true,
   "skip_h1_title": true,
   "title_cell": "Содержание",
   "title_sidebar": "Contents",
   "toc_cell": true,
   "toc_position": {
    "height": "559.2px",
    "left": "95px",
    "top": "110.525px",
    "width": "307.2px"
   },
   "toc_section_display": true,
   "toc_window_display": true
  }
 },
 "nbformat": 4,
 "nbformat_minor": 2
}
