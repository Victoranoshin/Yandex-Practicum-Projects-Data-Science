{
 "cells": [
  {
   "cell_type": "markdown",
   "metadata": {
    "toc": true
   },
   "source": [
    "<h1>Содержание<span class=\"tocSkip\"></span></h1>\n",
    "<div class=\"toc\"><ul class=\"toc-item\"><li><span><a href=\"#Подготовка-данных\" data-toc-modified-id=\"Подготовка-данных-1\"><span class=\"toc-item-num\">1&nbsp;&nbsp;</span>Подготовка данных</a></span></li><li><span><a href=\"#Исследование-задачи\" data-toc-modified-id=\"Исследование-задачи-2\"><span class=\"toc-item-num\">2&nbsp;&nbsp;</span>Исследование задачи</a></span></li><li><span><a href=\"#Борьба-с-дисбалансом\" data-toc-modified-id=\"Борьба-с-дисбалансом-3\"><span class=\"toc-item-num\">3&nbsp;&nbsp;</span>Борьба с дисбалансом</a></span><ul class=\"toc-item\"><li><span><a href=\"#Масштабирование\" data-toc-modified-id=\"Масштабирование-3.1\"><span class=\"toc-item-num\">3.1&nbsp;&nbsp;</span>Масштабирование</a></span></li><li><span><a href=\"#Уменьшение-выборки\" data-toc-modified-id=\"Уменьшение-выборки-3.2\"><span class=\"toc-item-num\">3.2&nbsp;&nbsp;</span>Уменьшение выборки</a></span></li><li><span><a href=\"#Изменение-веса-класса\" data-toc-modified-id=\"Изменение-веса-класса-3.3\"><span class=\"toc-item-num\">3.3&nbsp;&nbsp;</span>Изменение веса класса</a></span></li></ul></li><li><span><a href=\"#Тестирование-модели\" data-toc-modified-id=\"Тестирование-модели-4\"><span class=\"toc-item-num\">4&nbsp;&nbsp;</span>Тестирование модели</a></span></li><li><span><a href=\"#Вывод\" data-toc-modified-id=\"Вывод-5\"><span class=\"toc-item-num\">5&nbsp;&nbsp;</span>Вывод</a></span></li></ul></div>"
   ]
  },
  {
   "cell_type": "markdown",
   "metadata": {},
   "source": [
    "# Отток клиентов"
   ]
  },
  {
   "cell_type": "markdown",
   "metadata": {},
   "source": [
    "Из «Бета-Банка» стали уходить клиенты. Каждый месяц. Банковские маркетологи посчитали: сохранять текущих клиентов дешевле, чем привлекать новых.\n",
    "\n",
    "Нужно спрогнозировать, уйдёт клиент из банка в ближайшее время или нет. Вам предоставлены исторические данные о поведении клиентов и расторжении договоров с банком. \n",
    "\n",
    "Постройте модель с предельно большим значением *F1*-меры. Чтобы сдать проект успешно, нужно довести метрику до 0.59. Проверьте *F1*-меру на тестовой выборке самостоятельно.\n",
    "\n",
    "Дополнительно измеряйте *AUC-ROC*, сравнивайте её значение с *F1*-мерой.\n",
    "\n",
    "Источник данных: [https://www.kaggle.com/barelydedicated/bank-customer-churn-modeling](https://www.kaggle.com/barelydedicated/bank-customer-churn-modeling)"
   ]
  },
  {
   "cell_type": "markdown",
   "metadata": {},
   "source": [
    "# Признаки"
   ]
  },
  {
   "cell_type": "markdown",
   "metadata": {},
   "source": [
    "* RowNumber — индекс строки в данных\n",
    "* CustomerId — уникальный идентификатор клиента\n",
    "* Surname — фамилия\n",
    "* CreditScore — кредитный рейтинг\n",
    "* Geography — страна проживания\n",
    "* Gender — пол\n",
    "* Age — возраст\n",
    "* Tenure — сколько лет человек является клиентом банка\n",
    "* Balance — баланс на счёте\n",
    "* NumOfProducts — количество продуктов банка, используемых клиентом\n",
    "* HasCrCard — наличие кредитной карты\n",
    "* IsActiveMember — активность клиента\n",
    "* EstimatedSalary — предполагаемая зарплата\n",
    "* Целевой признак\n",
    "* Exited — факт ухода клиента"
   ]
  },
  {
   "cell_type": "markdown",
   "metadata": {},
   "source": [
    "## Подготовка данных"
   ]
  },
  {
   "cell_type": "code",
   "execution_count": 84,
   "metadata": {},
   "outputs": [],
   "source": [
    "import pandas as pd\n",
    "import matplotlib.pyplot as plt\n",
    "\n",
    "from sklearn.ensemble import RandomForestClassifier\n",
    "from sklearn.dummy import DummyClassifier\n",
    "from sklearn.model_selection import train_test_split\n",
    "\n",
    "from sklearn.preprocessing import OrdinalEncoder, StandardScaler\n",
    "from sklearn.model_selection import GridSearchCV, KFold, StratifiedKFold\n",
    "from sklearn.utils import shuffle\n",
    "from sklearn.metrics import f1_score, accuracy_score, roc_auc_score, make_scorer"
   ]
  },
  {
   "cell_type": "code",
   "execution_count": 85,
   "metadata": {},
   "outputs": [],
   "source": [
    "data = pd.read_csv(\"/datasets/Churn.csv\")\n"
   ]
  },
  {
   "cell_type": "code",
   "execution_count": 86,
   "metadata": {},
   "outputs": [
    {
     "name": "stdout",
     "output_type": "stream",
     "text": [
      "<class 'pandas.core.frame.DataFrame'>\n",
      "RangeIndex: 10000 entries, 0 to 9999\n",
      "Data columns (total 14 columns):\n",
      " #   Column           Non-Null Count  Dtype  \n",
      "---  ------           --------------  -----  \n",
      " 0   RowNumber        10000 non-null  int64  \n",
      " 1   CustomerId       10000 non-null  int64  \n",
      " 2   Surname          10000 non-null  object \n",
      " 3   CreditScore      10000 non-null  int64  \n",
      " 4   Geography        10000 non-null  object \n",
      " 5   Gender           10000 non-null  object \n",
      " 6   Age              10000 non-null  int64  \n",
      " 7   Tenure           9091 non-null   float64\n",
      " 8   Balance          10000 non-null  float64\n",
      " 9   NumOfProducts    10000 non-null  int64  \n",
      " 10  HasCrCard        10000 non-null  int64  \n",
      " 11  IsActiveMember   10000 non-null  int64  \n",
      " 12  EstimatedSalary  10000 non-null  float64\n",
      " 13  Exited           10000 non-null  int64  \n",
      "dtypes: float64(3), int64(8), object(3)\n",
      "memory usage: 1.1+ MB\n"
     ]
    }
   ],
   "source": [
    "data.info() # информация о данных "
   ]
  },
  {
   "cell_type": "code",
   "execution_count": 87,
   "metadata": {},
   "outputs": [
    {
     "data": {
      "text/html": [
       "<div>\n",
       "<style scoped>\n",
       "    .dataframe tbody tr th:only-of-type {\n",
       "        vertical-align: middle;\n",
       "    }\n",
       "\n",
       "    .dataframe tbody tr th {\n",
       "        vertical-align: top;\n",
       "    }\n",
       "\n",
       "    .dataframe thead th {\n",
       "        text-align: right;\n",
       "    }\n",
       "</style>\n",
       "<table border=\"1\" class=\"dataframe\">\n",
       "  <thead>\n",
       "    <tr style=\"text-align: right;\">\n",
       "      <th></th>\n",
       "      <th>RowNumber</th>\n",
       "      <th>CustomerId</th>\n",
       "      <th>Surname</th>\n",
       "      <th>CreditScore</th>\n",
       "      <th>Geography</th>\n",
       "      <th>Gender</th>\n",
       "      <th>Age</th>\n",
       "      <th>Tenure</th>\n",
       "      <th>Balance</th>\n",
       "      <th>NumOfProducts</th>\n",
       "      <th>HasCrCard</th>\n",
       "      <th>IsActiveMember</th>\n",
       "      <th>EstimatedSalary</th>\n",
       "      <th>Exited</th>\n",
       "    </tr>\n",
       "  </thead>\n",
       "  <tbody>\n",
       "    <tr>\n",
       "      <th>0</th>\n",
       "      <td>1</td>\n",
       "      <td>15634602</td>\n",
       "      <td>Hargrave</td>\n",
       "      <td>619</td>\n",
       "      <td>France</td>\n",
       "      <td>Female</td>\n",
       "      <td>42</td>\n",
       "      <td>2.0</td>\n",
       "      <td>0.00</td>\n",
       "      <td>1</td>\n",
       "      <td>1</td>\n",
       "      <td>1</td>\n",
       "      <td>101348.88</td>\n",
       "      <td>1</td>\n",
       "    </tr>\n",
       "    <tr>\n",
       "      <th>1</th>\n",
       "      <td>2</td>\n",
       "      <td>15647311</td>\n",
       "      <td>Hill</td>\n",
       "      <td>608</td>\n",
       "      <td>Spain</td>\n",
       "      <td>Female</td>\n",
       "      <td>41</td>\n",
       "      <td>1.0</td>\n",
       "      <td>83807.86</td>\n",
       "      <td>1</td>\n",
       "      <td>0</td>\n",
       "      <td>1</td>\n",
       "      <td>112542.58</td>\n",
       "      <td>0</td>\n",
       "    </tr>\n",
       "    <tr>\n",
       "      <th>2</th>\n",
       "      <td>3</td>\n",
       "      <td>15619304</td>\n",
       "      <td>Onio</td>\n",
       "      <td>502</td>\n",
       "      <td>France</td>\n",
       "      <td>Female</td>\n",
       "      <td>42</td>\n",
       "      <td>8.0</td>\n",
       "      <td>159660.80</td>\n",
       "      <td>3</td>\n",
       "      <td>1</td>\n",
       "      <td>0</td>\n",
       "      <td>113931.57</td>\n",
       "      <td>1</td>\n",
       "    </tr>\n",
       "    <tr>\n",
       "      <th>3</th>\n",
       "      <td>4</td>\n",
       "      <td>15701354</td>\n",
       "      <td>Boni</td>\n",
       "      <td>699</td>\n",
       "      <td>France</td>\n",
       "      <td>Female</td>\n",
       "      <td>39</td>\n",
       "      <td>1.0</td>\n",
       "      <td>0.00</td>\n",
       "      <td>2</td>\n",
       "      <td>0</td>\n",
       "      <td>0</td>\n",
       "      <td>93826.63</td>\n",
       "      <td>0</td>\n",
       "    </tr>\n",
       "    <tr>\n",
       "      <th>4</th>\n",
       "      <td>5</td>\n",
       "      <td>15737888</td>\n",
       "      <td>Mitchell</td>\n",
       "      <td>850</td>\n",
       "      <td>Spain</td>\n",
       "      <td>Female</td>\n",
       "      <td>43</td>\n",
       "      <td>2.0</td>\n",
       "      <td>125510.82</td>\n",
       "      <td>1</td>\n",
       "      <td>1</td>\n",
       "      <td>1</td>\n",
       "      <td>79084.10</td>\n",
       "      <td>0</td>\n",
       "    </tr>\n",
       "  </tbody>\n",
       "</table>\n",
       "</div>"
      ],
      "text/plain": [
       "   RowNumber  CustomerId   Surname  CreditScore Geography  Gender  Age  \\\n",
       "0          1    15634602  Hargrave          619    France  Female   42   \n",
       "1          2    15647311      Hill          608     Spain  Female   41   \n",
       "2          3    15619304      Onio          502    France  Female   42   \n",
       "3          4    15701354      Boni          699    France  Female   39   \n",
       "4          5    15737888  Mitchell          850     Spain  Female   43   \n",
       "\n",
       "   Tenure    Balance  NumOfProducts  HasCrCard  IsActiveMember  \\\n",
       "0     2.0       0.00              1          1               1   \n",
       "1     1.0   83807.86              1          0               1   \n",
       "2     8.0  159660.80              3          1               0   \n",
       "3     1.0       0.00              2          0               0   \n",
       "4     2.0  125510.82              1          1               1   \n",
       "\n",
       "   EstimatedSalary  Exited  \n",
       "0        101348.88       1  \n",
       "1        112542.58       0  \n",
       "2        113931.57       1  \n",
       "3         93826.63       0  \n",
       "4         79084.10       0  "
      ]
     },
     "execution_count": 87,
     "metadata": {},
     "output_type": "execute_result"
    }
   ],
   "source": [
    "data.head()"
   ]
  },
  {
   "cell_type": "code",
   "execution_count": 88,
   "metadata": {},
   "outputs": [
    {
     "data": {
      "text/plain": [
       "RowNumber            0\n",
       "CustomerId           0\n",
       "Surname              0\n",
       "CreditScore          0\n",
       "Geography            0\n",
       "Gender               0\n",
       "Age                  0\n",
       "Tenure             909\n",
       "Balance              0\n",
       "NumOfProducts        0\n",
       "HasCrCard            0\n",
       "IsActiveMember       0\n",
       "EstimatedSalary      0\n",
       "Exited               0\n",
       "dtype: int64"
      ]
     },
     "execution_count": 88,
     "metadata": {},
     "output_type": "execute_result"
    }
   ],
   "source": [
    "data.isna().sum() # число пропущенных значений по столбцам"
   ]
  },
  {
   "cell_type": "code",
   "execution_count": 89,
   "metadata": {},
   "outputs": [],
   "source": [
    "data_new = data.drop(['RowNumber', 'CustomerId', 'Surname'], axis=1) # удаяем столбец"
   ]
  },
  {
   "cell_type": "code",
   "execution_count": 90,
   "metadata": {},
   "outputs": [],
   "source": [
    "data_new.columns = [x.lower() for x in data_new.columns] # приведение к нижнему регистру названий колонок"
   ]
  },
  {
   "cell_type": "code",
   "execution_count": 91,
   "metadata": {},
   "outputs": [
    {
     "data": {
      "text/plain": [
       "Index(['creditscore', 'geography', 'gender', 'age', 'tenure', 'balance',\n",
       "       'numofproducts', 'hascrcard', 'isactivemember', 'estimatedsalary',\n",
       "       'exited'],\n",
       "      dtype='object')"
      ]
     },
     "execution_count": 91,
     "metadata": {},
     "output_type": "execute_result"
    }
   ],
   "source": [
    "data_new.columns"
   ]
  },
  {
   "cell_type": "code",
   "execution_count": 92,
   "metadata": {},
   "outputs": [],
   "source": [
    "data_new = data_new.rename(columns={ 'creditscore':'credit_score', \n",
    "                     'numofproducts':'num_of_products', 'hascrcard':'has_cr_card',\n",
    "                     'isactivemember':'is_active_member', 'estimatedsalary':'estimated_salary'})\n",
    "                        # изменение названий колонок\n"
   ]
  },
  {
   "cell_type": "code",
   "execution_count": 93,
   "metadata": {},
   "outputs": [],
   "source": [
    "data_new = data_new.dropna() # удаляем пропуски"
   ]
  },
  {
   "cell_type": "code",
   "execution_count": 94,
   "metadata": {},
   "outputs": [
    {
     "name": "stdout",
     "output_type": "stream",
     "text": [
      "Доля удаленных занчений 0.09089999999999998\n"
     ]
    }
   ],
   "source": [
    "print(\"Доля удаленных занчений\", 1 - data_new.shape[0]/data.shape[0])"
   ]
  },
  {
   "cell_type": "code",
   "execution_count": 95,
   "metadata": {},
   "outputs": [],
   "source": [
    "encoder = OrdinalEncoder() # кодируем категории с помощью техники Ordinal Encoding \n",
    "data_ordinal = pd.DataFrame(encoder.fit_transform(data_new), \n",
    "                                                      columns=data_new.columns) "
   ]
  },
  {
   "cell_type": "code",
   "execution_count": 96,
   "metadata": {},
   "outputs": [
    {
     "data": {
      "text/html": [
       "<div>\n",
       "<style scoped>\n",
       "    .dataframe tbody tr th:only-of-type {\n",
       "        vertical-align: middle;\n",
       "    }\n",
       "\n",
       "    .dataframe tbody tr th {\n",
       "        vertical-align: top;\n",
       "    }\n",
       "\n",
       "    .dataframe thead th {\n",
       "        text-align: right;\n",
       "    }\n",
       "</style>\n",
       "<table border=\"1\" class=\"dataframe\">\n",
       "  <thead>\n",
       "    <tr style=\"text-align: right;\">\n",
       "      <th></th>\n",
       "      <th>credit_score</th>\n",
       "      <th>geography</th>\n",
       "      <th>gender</th>\n",
       "      <th>age</th>\n",
       "      <th>tenure</th>\n",
       "      <th>balance</th>\n",
       "      <th>num_of_products</th>\n",
       "      <th>has_cr_card</th>\n",
       "      <th>is_active_member</th>\n",
       "      <th>estimated_salary</th>\n",
       "      <th>exited</th>\n",
       "    </tr>\n",
       "  </thead>\n",
       "  <tbody>\n",
       "    <tr>\n",
       "      <th>0</th>\n",
       "      <td>226.0</td>\n",
       "      <td>0.0</td>\n",
       "      <td>0.0</td>\n",
       "      <td>24.0</td>\n",
       "      <td>2.0</td>\n",
       "      <td>0.0</td>\n",
       "      <td>0.0</td>\n",
       "      <td>1.0</td>\n",
       "      <td>1.0</td>\n",
       "      <td>4609.0</td>\n",
       "      <td>1.0</td>\n",
       "    </tr>\n",
       "    <tr>\n",
       "      <th>1</th>\n",
       "      <td>215.0</td>\n",
       "      <td>2.0</td>\n",
       "      <td>0.0</td>\n",
       "      <td>23.0</td>\n",
       "      <td>1.0</td>\n",
       "      <td>679.0</td>\n",
       "      <td>0.0</td>\n",
       "      <td>0.0</td>\n",
       "      <td>1.0</td>\n",
       "      <td>5119.0</td>\n",
       "      <td>0.0</td>\n",
       "    </tr>\n",
       "    <tr>\n",
       "      <th>2</th>\n",
       "      <td>109.0</td>\n",
       "      <td>0.0</td>\n",
       "      <td>0.0</td>\n",
       "      <td>24.0</td>\n",
       "      <td>8.0</td>\n",
       "      <td>5277.0</td>\n",
       "      <td>2.0</td>\n",
       "      <td>1.0</td>\n",
       "      <td>0.0</td>\n",
       "      <td>5182.0</td>\n",
       "      <td>1.0</td>\n",
       "    </tr>\n",
       "    <tr>\n",
       "      <th>3</th>\n",
       "      <td>306.0</td>\n",
       "      <td>0.0</td>\n",
       "      <td>0.0</td>\n",
       "      <td>21.0</td>\n",
       "      <td>1.0</td>\n",
       "      <td>0.0</td>\n",
       "      <td>1.0</td>\n",
       "      <td>0.0</td>\n",
       "      <td>0.0</td>\n",
       "      <td>4274.0</td>\n",
       "      <td>0.0</td>\n",
       "    </tr>\n",
       "    <tr>\n",
       "      <th>4</th>\n",
       "      <td>457.0</td>\n",
       "      <td>2.0</td>\n",
       "      <td>0.0</td>\n",
       "      <td>25.0</td>\n",
       "      <td>2.0</td>\n",
       "      <td>3374.0</td>\n",
       "      <td>0.0</td>\n",
       "      <td>1.0</td>\n",
       "      <td>1.0</td>\n",
       "      <td>3559.0</td>\n",
       "      <td>0.0</td>\n",
       "    </tr>\n",
       "  </tbody>\n",
       "</table>\n",
       "</div>"
      ],
      "text/plain": [
       "   credit_score  geography  gender   age  tenure  balance  num_of_products  \\\n",
       "0         226.0        0.0     0.0  24.0     2.0      0.0              0.0   \n",
       "1         215.0        2.0     0.0  23.0     1.0    679.0              0.0   \n",
       "2         109.0        0.0     0.0  24.0     8.0   5277.0              2.0   \n",
       "3         306.0        0.0     0.0  21.0     1.0      0.0              1.0   \n",
       "4         457.0        2.0     0.0  25.0     2.0   3374.0              0.0   \n",
       "\n",
       "   has_cr_card  is_active_member  estimated_salary  exited  \n",
       "0          1.0               1.0            4609.0     1.0  \n",
       "1          0.0               1.0            5119.0     0.0  \n",
       "2          1.0               0.0            5182.0     1.0  \n",
       "3          0.0               0.0            4274.0     0.0  \n",
       "4          1.0               1.0            3559.0     0.0  "
      ]
     },
     "execution_count": 96,
     "metadata": {},
     "output_type": "execute_result"
    }
   ],
   "source": [
    "data_ordinal.head()"
   ]
  },
  {
   "cell_type": "markdown",
   "metadata": {},
   "source": [
    "Удалили столбец `RowNumber`, поскольку индекс строки уже есть в таблице. Также удалим столбец `CustomerId` и `Surname`, потому что информация в этих столбцах нам не нужна.\n",
    "\n",
    "Заменили названия колонок, чтобы они соответствовали стилю *snake_case*.\n",
    "\n",
    "Пропуски наблюдаются только в колонке `tenure`. \n",
    "\n",
    "На число лет, которые человек является клиентом банка влияет множество факторов, которые сложно учесть. Удалив строки с пропусками в данной колонке, мы лишимся около 9 % данных, что является допустимыми потерями.\n",
    "\n",
    "Менять типы данных в столбцах не требуется.\n",
    "\n",
    "Чтобы классификация с помощью случайного леса работала корректно, закодировали категориальные признаки, пользуясь техникой Ordinal Encoding."
   ]
  },
  {
   "cell_type": "markdown",
   "metadata": {},
   "source": [
    "## Исследование задачи"
   ]
  },
  {
   "cell_type": "code",
   "execution_count": 97,
   "metadata": {},
   "outputs": [],
   "source": [
    "features = data_ordinal.drop(['exited'], axis=1) # нужные признаки кроме целевого\n",
    "target = data_ordinal['exited'] # целевой признак\n"
   ]
  },
  {
   "cell_type": "code",
   "execution_count": 98,
   "metadata": {},
   "outputs": [],
   "source": [
    "features_train_valid, features_test, target_train_valid, target_test = train_test_split(\n",
    "    features, target, test_size=0.2, random_state=12345, stratify=target)# отделяем 80% данных для обучающей и валидацианной выборки\n"
   ]
  },
  {
   "cell_type": "code",
   "execution_count": 99,
   "metadata": {},
   "outputs": [
    {
     "name": "stdout",
     "output_type": "stream",
     "text": [
      "(7272, 10)\n",
      "(1819, 10)\n",
      "(7272,)\n",
      "(1819,)\n"
     ]
    }
   ],
   "source": [
    "# код ревьюера\n",
    "print(features_train_valid.shape)\n",
    "print(features_test.shape)\n",
    "print(target_train_valid.shape)\n",
    "print(target_test.shape)"
   ]
  },
  {
   "cell_type": "code",
   "execution_count": 100,
   "metadata": {},
   "outputs": [
    {
     "data": {
      "image/png": "[encoded data removed]",
      "text/plain": [
       "<Figure size 576x576 with 1 Axes>"
      ]
     },
     "metadata": {},
     "output_type": "display_data"
    }
   ],
   "source": [
    "frac = len(target_train_valid[target_train_valid != 0])/len(target_train_valid[target_train_valid == 0])\n",
    "\n",
    "fig = plt.figure(figsize=(8, 8))\n",
    "plt.title('Отношение числа элементов, имеющих значение в столбце exited = 1 (Класс 1), \\\n",
    "к числу элементов, имеющих значение exited = 0 (Класс 0)')\n",
    "plt.pie([len(target_train_valid[target_train_valid != 0]), len(target_train_valid[target_train_valid == 0])],\n",
    "        labels=['Класс 1','Класс 0']);"
   ]
  },
  {
   "cell_type": "markdown",
   "metadata": {},
   "source": [
    "Число элементов, имеющих значение в столбце exited = 1 почти в 4 раза меньше чем элементов, имеющих значение exited = 0. Это говорит о сильном дисбалансе классов."
   ]
  },
  {
   "cell_type": "code",
   "execution_count": 101,
   "metadata": {},
   "outputs": [],
   "source": [
    "scoring = {\n",
    "    'f1': make_scorer(f1_score),   \n",
    "    'roc_auc':make_scorer(roc_auc_score, needs_threshold=True)\n",
    "}"
   ]
  },
  {
   "cell_type": "code",
   "execution_count": 102,
   "metadata": {},
   "outputs": [],
   "source": [
    "grid = GridSearchCV( # для подбора параметров случайного леса\n",
    "    RandomForestClassifier(random_state=12345),\n",
    "    param_grid={'max_depth':range(1, 11), 'n_estimators':range(10, 51, 10)}, # меняем гиперпараметры\n",
    "    scoring = scoring,\n",
    "    refit = 'f1', # максимизируем значение f1\n",
    "    cv = StratifiedKFold(4, shuffle=True, random_state=12345),# разделение данных на 5 частей, одну из них используем как валидационную\n",
    "    n_jobs = -1\n",
    "\n",
    ")\n"
   ]
  },
  {
   "cell_type": "code",
   "execution_count": 103,
   "metadata": {},
   "outputs": [
    {
     "name": "stdout",
     "output_type": "stream",
     "text": [
      "CPU times: user 32.1 s, sys: 104 ms, total: 32.2 s\n",
      "Wall time: 32.5 s\n"
     ]
    },
    {
     "data": {
      "text/plain": [
       "GridSearchCV(cv=StratifiedKFold(n_splits=4, random_state=12345, shuffle=True),\n",
       "             estimator=RandomForestClassifier(random_state=12345), n_jobs=-1,\n",
       "             param_grid={'max_depth': range(1, 11),\n",
       "                         'n_estimators': range(10, 51, 10)},\n",
       "             refit='f1',\n",
       "             scoring={'f1': make_scorer(f1_score),\n",
       "                      'roc_auc': make_scorer(roc_auc_score, needs_threshold=True)})"
      ]
     },
     "execution_count": 103,
     "metadata": {},
     "output_type": "execute_result"
    }
   ],
   "source": [
    "%%time\n",
    "grid.fit(features_train_valid, target_train_valid)"
   ]
  },
  {
   "cell_type": "code",
   "execution_count": 104,
   "metadata": {},
   "outputs": [],
   "source": [
    "best_index = grid.best_index_"
   ]
  },
  {
   "cell_type": "code",
   "execution_count": 105,
   "metadata": {},
   "outputs": [],
   "source": [
    "best_mean_f1 = grid.cv_results_['mean_test_f1'][best_index]\n",
    "best_mean_roc_auc = grid.cv_results_['mean_test_roc_auc'][best_index]"
   ]
  },
  {
   "cell_type": "code",
   "execution_count": 106,
   "metadata": {},
   "outputs": [
    {
     "name": "stdout",
     "output_type": "stream",
     "text": [
      "Нилучшее среднее значение f1 для валидационной выборки: 0.5425143134236596\n",
      "Нилучшее среднее значение roc_auc для валидационной выборки: 0.8498993379548554\n"
     ]
    }
   ],
   "source": [
    "print(\"Нилучшее среднее значение f1 для валидационной выборки:\", best_mean_f1)\n",
    "print(\"Нилучшее среднее значение roc_auc для валидационной выборки:\", best_mean_roc_auc)\n"
   ]
  },
  {
   "cell_type": "markdown",
   "metadata": {},
   "source": [
    "Мення параметры `max_depth` от 1 до 10, `n_estimators` от 10 до 50 с шагом 10, и, выбирая разные группы данных для валидации, была найдена модель с самым высоким средним значением f1 для валидационных выборок."
   ]
  },
  {
   "cell_type": "markdown",
   "metadata": {},
   "source": [
    "## Борьба с дисбалансом"
   ]
  },
  {
   "cell_type": "markdown",
   "metadata": {},
   "source": [
    "### Масштабирование"
   ]
  },
  {
   "cell_type": "code",
   "execution_count": 107,
   "metadata": {},
   "outputs": [],
   "source": [
    "numeric = ['credit_score', 'age', 'tenure', 'balance', 'num_of_products', 'estimated_salary']\n",
    "\n",
    "scaler = StandardScaler() \n",
    "scaler.fit(features_train_valid[numeric])\n",
    "features_train_valid_tmp = features_train_valid.copy()\n",
    "features_train_valid_tmp.loc[:, numeric] = scaler.transform(features_train_valid[numeric]) # масштабирование\n",
    "features_test_tmp = features_test.copy()\n",
    "features_test_tmp.loc[:, numeric] = scaler.transform(features_test[numeric])\n"
   ]
  },
  {
   "cell_type": "markdown",
   "metadata": {},
   "source": [
    "Нужно масштабировать признаки, поскольку значения и их разбросы сильно отличаются в некоторых столбцах."
   ]
  },
  {
   "cell_type": "markdown",
   "metadata": {},
   "source": [
    "### Уменьшение выборки"
   ]
  },
  {
   "cell_type": "code",
   "execution_count": 108,
   "metadata": {},
   "outputs": [],
   "source": [
    "def downsample(features, target, fraction):\n",
    "    features_zeros = features[target == 0]\n",
    "    features_ones = features[target == 1]\n",
    "    target_zeros = target[target == 0]\n",
    "    target_ones = target[target == 1]\n",
    "    features_downsampled  = shuffle(pd.concat( # уменьшили долю элементов класса 0\n",
    "        [features_zeros.sample(frac=fraction, random_state=12345)] + [features_ones]), random_state=12345)\n",
    "    target_downsampled = shuffle(pd.concat(\n",
    "        [target_zeros.sample(frac=fraction, random_state=12345)] + [target_ones]), random_state=12345)\n",
    "    \n",
    "    \n",
    "    return features_downsampled, target_downsampled\n",
    "\n"
   ]
  },
  {
   "cell_type": "code",
   "execution_count": 109,
   "metadata": {},
   "outputs": [],
   "source": [
    "features_train_valid_down, target_train_valid_down =downsample(features_train_valid_tmp, \n",
    "                                                               target_train_valid, frac+0.15)"
   ]
  },
  {
   "cell_type": "code",
   "execution_count": 110,
   "metadata": {},
   "outputs": [
    {
     "data": {
      "image/png": "[encoded data removed]",
      "text/plain": [
       "<Figure size 576x576 with 1 Axes>"
      ]
     },
     "metadata": {},
     "output_type": "display_data"
    }
   ],
   "source": [
    "fig = plt.figure(figsize=(8, 8))\n",
    "plt.title('Отношение числа элементов, имеющих значение в столбце exited = 1 (Класс 1), \\\n",
    "к числу элементов, имеющих значение exited = 0 (Класс 0)')\n",
    "plt.pie([len(target_train_valid_down[target_train_valid_down != 0]), \n",
    "         len(target_train_valid_down[target_train_valid_down == 0])],\n",
    "        labels=['Класс 1','Класс 0']);"
   ]
  },
  {
   "cell_type": "markdown",
   "metadata": {},
   "source": [
    "Уменьшив число элементов, принадлежащих к классу ноль, получили более сбалансированную выборку."
   ]
  },
  {
   "cell_type": "markdown",
   "metadata": {},
   "source": [
    "### Изменение веса класса "
   ]
  },
  {
   "cell_type": "code",
   "execution_count": 127,
   "metadata": {},
   "outputs": [],
   "source": [
    "grid = GridSearchCV( # перебираем гиперпараметры случайного леса\n",
    "    RandomForestClassifier(random_state=12345),\n",
    "    param_grid={'max_depth':range(1, 11), 'n_estimators':range(10, 51, 10), \n",
    "                'class_weight': [{0: w} for w in [0.55, 0.6, 0.65, 0.7]]}, # различные веса для классов\n",
    "    cv = StratifiedKFold(4, shuffle=True, random_state=12345),\n",
    "    scoring = scoring,\n",
    "    refit = 'f1',\n",
    "    \n",
    "    n_jobs = -1\n",
    ") "
   ]
  },
  {
   "cell_type": "code",
   "execution_count": 128,
   "metadata": {},
   "outputs": [
    {
     "name": "stdout",
     "output_type": "stream",
     "text": [
      "CPU times: user 1min 34s, sys: 424 ms, total: 1min 34s\n",
      "Wall time: 1min 37s\n"
     ]
    },
    {
     "data": {
      "text/plain": [
       "GridSearchCV(cv=StratifiedKFold(n_splits=4, random_state=12345, shuffle=True),\n",
       "             estimator=RandomForestClassifier(random_state=12345), n_jobs=-1,\n",
       "             param_grid={'class_weight': [{0: 0.55}, {0: 0.6}, {0: 0.65},\n",
       "                                          {0: 0.7}],\n",
       "                         'max_depth': range(1, 11),\n",
       "                         'n_estimators': range(10, 51, 10)},\n",
       "             refit='f1',\n",
       "             scoring={'f1': make_scorer(f1_score),\n",
       "                      'roc_auc': make_scorer(roc_auc_score, needs_threshold=True)})"
      ]
     },
     "execution_count": 128,
     "metadata": {},
     "output_type": "execute_result"
    }
   ],
   "source": [
    "%%time\n",
    "grid.fit(features_train_valid_down, target_train_valid_down)"
   ]
  },
  {
   "cell_type": "code",
   "execution_count": 129,
   "metadata": {},
   "outputs": [],
   "source": [
    "best_index = grid.best_index_ # индекс элементов для модели с лучшим средним значением f1"
   ]
  },
  {
   "cell_type": "code",
   "execution_count": 130,
   "metadata": {},
   "outputs": [],
   "source": [
    "best_mean_f1 = grid.cv_results_['mean_test_f1'][best_index]\n",
    "best_mean_roc_auc = grid.cv_results_['mean_test_roc_auc'][best_index]"
   ]
  },
  {
   "cell_type": "code",
   "execution_count": 131,
   "metadata": {},
   "outputs": [
    {
     "name": "stdout",
     "output_type": "stream",
     "text": [
      "Нилучшее среднее значение f1 для валидационной выборки: 0.7312134638772592\n",
      "Cреднее значение roc_auc для валидационной выборки для лучшей модели: 0.8585661718092649\n"
     ]
    }
   ],
   "source": [
    "print(\"Нилучшее среднее значение f1 для валидационной выборки:\", best_mean_f1)\n",
    "print(\"Cреднее значение roc_auc для валидационной выборки для лучшей модели:\", best_mean_roc_auc)"
   ]
  },
  {
   "cell_type": "markdown",
   "metadata": {},
   "source": [
    "Подобрали подходящий вес класса 0 и получили модель, которая обучена лучше.\n",
    "\n",
    "Метрики f1 и roc_auc получились выше, чем при обучении модели без учета дисбаланса."
   ]
  },
  {
   "cell_type": "markdown",
   "metadata": {},
   "source": [
    "## Тестирование модели"
   ]
  },
  {
   "cell_type": "code",
   "execution_count": 132,
   "metadata": {},
   "outputs": [
    {
     "name": "stdout",
     "output_type": "stream",
     "text": [
      "Значение f1 лучшего случайного леса для тестовой выборки: 0.5972073039742213\n",
      "Значение roc_auc лучшего случайного леса для тестовой выборки: 0.8551157093714168\n"
     ]
    }
   ],
   "source": [
    "predicted_test = grid.predict(features_test_tmp)\n",
    "probabilities_test = grid.predict_proba(features_test_tmp)\n",
    "print(\"Значение f1 лучшего случайного леса для тестовой выборки:\",f1_score(predicted_test, target_test))\n",
    "print(\"Значение roc_auc лучшего случайного леса для тестовой выборки:\", \n",
    "      roc_auc_score(target_test, probabilities_test[:, 1]))"
   ]
  },
  {
   "cell_type": "code",
   "execution_count": 133,
   "metadata": {},
   "outputs": [
    {
     "data": {
      "text/plain": [
       "RandomForestClassifier(class_weight={0: 0.6}, max_depth=7, n_estimators=40,\n",
       "                       random_state=12345)"
      ]
     },
     "execution_count": 133,
     "metadata": {},
     "output_type": "execute_result"
    }
   ],
   "source": [
    "grid.best_estimator_# лучший лес"
   ]
  },
  {
   "cell_type": "markdown",
   "metadata": {},
   "source": [
    "Максимальное значение f1 получили для леса с гиперпараметрами, указанными выше."
   ]
  },
  {
   "cell_type": "markdown",
   "metadata": {},
   "source": [
    "## Вывод"
   ]
  },
  {
   "cell_type": "markdown",
   "metadata": {},
   "source": [
    "Применив масштабирование, технику downsampling, подобрав вес класса 0, получили модель случайного леса с максимальным средним значением f1 на различных тестовых и валидационных данных. Не используя методы борьбы с дисбалансом, получили модель с более низкми средними показателями метрик. Лучшая модель имеет вес класса 0 = 0.6, максимальную глубину = 7 и число деревьев = 40. \n",
    "\n",
    "Величина roc_auc для найденной модели равна примерно 0.86, что говорит о том, что эта модель значительно отличается от случайной. Значение f1 для этой модели больше, чем 0.59, поэтому можно сделать вывод, что неплохо соблюдается баланс значений метрик Precision и Recall."
   ]
  }
 ],
 "metadata": {
  "ExecuteTimeLog": [
   {
    "duration": 354,
    "start_time": "2022-10-29T10:04:36.054Z"
   },
   {
    "duration": 358,
    "start_time": "2022-10-29T10:05:21.851Z"
   },
   {
    "duration": 162,
    "start_time": "2022-10-29T10:05:50.588Z"
   },
   {
    "duration": 12,
    "start_time": "2022-10-29T10:06:07.672Z"
   },
   {
    "duration": 16,
    "start_time": "2022-10-29T10:06:16.655Z"
   },
   {
    "duration": 6,
    "start_time": "2022-10-29T10:07:20.378Z"
   },
   {
    "duration": 54,
    "start_time": "2022-11-16T14:29:36.082Z"
   },
   {
    "duration": 389,
    "start_time": "2022-11-16T14:29:39.886Z"
   },
   {
    "duration": 80,
    "start_time": "2022-11-16T14:29:40.277Z"
   },
   {
    "duration": 14,
    "start_time": "2022-11-16T14:29:40.359Z"
   },
   {
    "duration": 22,
    "start_time": "2022-11-16T14:29:40.375Z"
   },
   {
    "duration": 7,
    "start_time": "2022-11-16T14:29:40.400Z"
   },
   {
    "duration": 6,
    "start_time": "2022-11-16T14:29:40.409Z"
   },
   {
    "duration": 7,
    "start_time": "2022-11-16T14:29:40.438Z"
   },
   {
    "duration": 5,
    "start_time": "2022-11-16T14:29:48.751Z"
   },
   {
    "duration": 6,
    "start_time": "2022-11-16T14:32:00.810Z"
   },
   {
    "duration": 2,
    "start_time": "2022-11-16T14:32:28.286Z"
   },
   {
    "duration": 37,
    "start_time": "2022-11-16T14:32:28.681Z"
   },
   {
    "duration": 12,
    "start_time": "2022-11-16T14:32:30.132Z"
   },
   {
    "duration": 15,
    "start_time": "2022-11-16T14:32:31.391Z"
   },
   {
    "duration": 8,
    "start_time": "2022-11-16T14:32:34.236Z"
   },
   {
    "duration": 4,
    "start_time": "2022-11-16T14:32:38.339Z"
   },
   {
    "duration": 36,
    "start_time": "2022-11-16T14:35:14.097Z"
   },
   {
    "duration": 14,
    "start_time": "2022-11-16T14:35:19.981Z"
   },
   {
    "duration": 25,
    "start_time": "2022-11-16T14:35:28.673Z"
   },
   {
    "duration": 8,
    "start_time": "2022-11-16T14:35:43.413Z"
   },
   {
    "duration": 4,
    "start_time": "2022-11-16T14:36:39.416Z"
   },
   {
    "duration": 5,
    "start_time": "2022-11-16T14:36:45.011Z"
   },
   {
    "duration": 4,
    "start_time": "2022-11-16T14:37:25.696Z"
   },
   {
    "duration": 14,
    "start_time": "2022-11-16T15:11:35.540Z"
   },
   {
    "duration": 11,
    "start_time": "2022-11-16T15:11:41.182Z"
   },
   {
    "duration": 7,
    "start_time": "2022-11-16T15:12:24.253Z"
   },
   {
    "duration": 17,
    "start_time": "2022-11-16T15:12:37.414Z"
   },
   {
    "duration": 3,
    "start_time": "2022-11-16T15:12:43.019Z"
   },
   {
    "duration": 37,
    "start_time": "2022-11-16T15:12:43.383Z"
   },
   {
    "duration": 14,
    "start_time": "2022-11-16T15:12:43.852Z"
   },
   {
    "duration": 14,
    "start_time": "2022-11-16T15:12:44.685Z"
   },
   {
    "duration": 9,
    "start_time": "2022-11-16T15:12:45.757Z"
   },
   {
    "duration": 8,
    "start_time": "2022-11-16T15:12:47.213Z"
   },
   {
    "duration": 5,
    "start_time": "2022-11-16T15:12:56.139Z"
   },
   {
    "duration": 13,
    "start_time": "2022-11-16T15:13:00.080Z"
   },
   {
    "duration": 11,
    "start_time": "2022-11-16T15:13:10.900Z"
   },
   {
    "duration": 4,
    "start_time": "2022-11-16T15:13:21.001Z"
   },
   {
    "duration": 44,
    "start_time": "2022-11-16T15:13:21.007Z"
   },
   {
    "duration": 13,
    "start_time": "2022-11-16T15:13:21.053Z"
   },
   {
    "duration": 12,
    "start_time": "2022-11-16T15:13:21.068Z"
   },
   {
    "duration": 12,
    "start_time": "2022-11-16T15:13:21.082Z"
   },
   {
    "duration": 4,
    "start_time": "2022-11-16T15:13:21.096Z"
   },
   {
    "duration": 38,
    "start_time": "2022-11-16T15:13:21.101Z"
   },
   {
    "duration": 8,
    "start_time": "2022-11-16T15:13:21.141Z"
   },
   {
    "duration": 4,
    "start_time": "2022-11-16T15:13:21.151Z"
   },
   {
    "duration": 5,
    "start_time": "2022-11-16T16:23:20.137Z"
   },
   {
    "duration": 8,
    "start_time": "2022-11-16T16:27:50.475Z"
   },
   {
    "duration": 352,
    "start_time": "2022-11-16T16:30:09.676Z"
   },
   {
    "duration": 23,
    "start_time": "2022-11-16T16:31:04.564Z"
   },
   {
    "duration": 4,
    "start_time": "2022-11-16T16:31:26.275Z"
   },
   {
    "duration": 33,
    "start_time": "2022-11-16T16:31:28.922Z"
   },
   {
    "duration": 22,
    "start_time": "2022-11-16T16:32:47.148Z"
   },
   {
    "duration": 4,
    "start_time": "2022-11-16T16:32:55.886Z"
   },
   {
    "duration": 7,
    "start_time": "2022-11-16T16:35:01.688Z"
   },
   {
    "duration": 5,
    "start_time": "2022-11-16T18:24:12.537Z"
   },
   {
    "duration": 11,
    "start_time": "2022-11-16T18:25:24.802Z"
   },
   {
    "duration": 6,
    "start_time": "2022-11-16T18:25:35.579Z"
   },
   {
    "duration": 8,
    "start_time": "2022-11-16T18:25:44.227Z"
   },
   {
    "duration": 1215,
    "start_time": "2022-11-16T18:26:10.435Z"
   },
   {
    "duration": 6,
    "start_time": "2022-11-16T18:26:15.924Z"
   },
   {
    "duration": 10,
    "start_time": "2022-11-16T18:26:16.372Z"
   },
   {
    "duration": 62,
    "start_time": "2022-11-16T18:29:54.321Z"
   },
   {
    "duration": 3,
    "start_time": "2022-11-16T18:31:00.148Z"
   },
   {
    "duration": 10,
    "start_time": "2022-11-16T19:22:06.880Z"
   },
   {
    "duration": 3,
    "start_time": "2022-11-16T19:22:16.251Z"
   },
   {
    "duration": 3,
    "start_time": "2022-11-16T19:27:50.681Z"
   },
   {
    "duration": 3,
    "start_time": "2022-11-16T19:29:54.042Z"
   },
   {
    "duration": 26,
    "start_time": "2022-11-16T19:32:41.699Z"
   },
   {
    "duration": 5,
    "start_time": "2022-11-16T19:32:48.387Z"
   },
   {
    "duration": 12,
    "start_time": "2022-11-16T19:32:48.794Z"
   },
   {
    "duration": 4,
    "start_time": "2022-11-16T19:32:49.266Z"
   },
   {
    "duration": 24,
    "start_time": "2022-11-16T19:32:49.948Z"
   },
   {
    "duration": 6,
    "start_time": "2022-11-16T19:33:42.052Z"
   },
   {
    "duration": 14,
    "start_time": "2022-11-16T19:33:42.531Z"
   },
   {
    "duration": 4,
    "start_time": "2022-11-16T19:33:43.052Z"
   },
   {
    "duration": 23,
    "start_time": "2022-11-16T19:33:43.780Z"
   },
   {
    "duration": 5,
    "start_time": "2022-11-16T19:34:57.059Z"
   },
   {
    "duration": 10,
    "start_time": "2022-11-16T19:34:57.755Z"
   },
   {
    "duration": 3,
    "start_time": "2022-11-16T19:35:04.587Z"
   },
   {
    "duration": 24,
    "start_time": "2022-11-16T19:35:05.267Z"
   },
   {
    "duration": 4,
    "start_time": "2022-11-16T19:36:10.395Z"
   },
   {
    "duration": 342,
    "start_time": "2022-11-16T19:36:10.862Z"
   },
   {
    "duration": 4,
    "start_time": "2022-11-16T19:38:26.745Z"
   },
   {
    "duration": 3,
    "start_time": "2022-11-16T19:40:13.053Z"
   },
   {
    "duration": 38,
    "start_time": "2022-11-16T19:40:13.540Z"
   },
   {
    "duration": 15,
    "start_time": "2022-11-16T19:40:14.132Z"
   },
   {
    "duration": 14,
    "start_time": "2022-11-16T19:40:17.445Z"
   },
   {
    "duration": 8,
    "start_time": "2022-11-16T19:40:18.155Z"
   },
   {
    "duration": 5,
    "start_time": "2022-11-16T19:40:22.364Z"
   },
   {
    "duration": 5,
    "start_time": "2022-11-16T19:40:22.764Z"
   },
   {
    "duration": 5,
    "start_time": "2022-11-16T19:40:23.168Z"
   },
   {
    "duration": 6,
    "start_time": "2022-11-16T19:40:23.653Z"
   },
   {
    "duration": 8,
    "start_time": "2022-11-16T19:40:24.181Z"
   },
   {
    "duration": 4,
    "start_time": "2022-11-16T19:40:24.692Z"
   },
   {
    "duration": 5,
    "start_time": "2022-11-16T19:40:31.923Z"
   },
   {
    "duration": 9,
    "start_time": "2022-11-16T19:40:35.605Z"
   },
   {
    "duration": 3,
    "start_time": "2022-11-16T19:40:38.199Z"
   },
   {
    "duration": 22,
    "start_time": "2022-11-16T19:40:47.472Z"
   },
   {
    "duration": 11,
    "start_time": "2022-11-16T19:40:53.135Z"
   },
   {
    "duration": 4,
    "start_time": "2022-11-16T19:40:56.393Z"
   },
   {
    "duration": 3,
    "start_time": "2022-11-16T20:01:54.172Z"
   },
   {
    "duration": 3,
    "start_time": "2022-11-16T20:01:55.621Z"
   },
   {
    "duration": 3,
    "start_time": "2022-11-16T20:02:00.521Z"
   },
   {
    "duration": 24,
    "start_time": "2022-11-16T20:02:01.537Z"
   },
   {
    "duration": 5,
    "start_time": "2022-11-16T20:21:32.269Z"
   },
   {
    "duration": 4,
    "start_time": "2022-11-16T20:21:39.992Z"
   },
   {
    "duration": 9,
    "start_time": "2022-11-16T20:21:40.494Z"
   },
   {
    "duration": 3,
    "start_time": "2022-11-16T20:21:40.973Z"
   },
   {
    "duration": 24,
    "start_time": "2022-11-16T20:21:41.525Z"
   },
   {
    "duration": 6,
    "start_time": "2022-11-16T20:22:46.274Z"
   },
   {
    "duration": 11,
    "start_time": "2022-11-16T20:22:58.176Z"
   },
   {
    "duration": 9,
    "start_time": "2022-11-16T20:23:02.576Z"
   },
   {
    "duration": 10,
    "start_time": "2022-11-16T20:23:12.667Z"
   },
   {
    "duration": 6,
    "start_time": "2022-11-16T20:23:44.504Z"
   },
   {
    "duration": 3,
    "start_time": "2022-11-16T20:57:14.880Z"
   },
   {
    "duration": 41,
    "start_time": "2022-11-16T20:57:14.884Z"
   },
   {
    "duration": 11,
    "start_time": "2022-11-16T20:57:14.926Z"
   },
   {
    "duration": 1161,
    "start_time": "2022-11-16T20:57:14.939Z"
   },
   {
    "duration": 0,
    "start_time": "2022-11-16T20:57:16.102Z"
   },
   {
    "duration": 0,
    "start_time": "2022-11-16T20:57:16.104Z"
   },
   {
    "duration": 0,
    "start_time": "2022-11-16T20:57:16.105Z"
   },
   {
    "duration": 0,
    "start_time": "2022-11-16T20:57:16.107Z"
   },
   {
    "duration": 0,
    "start_time": "2022-11-16T20:57:16.108Z"
   },
   {
    "duration": 0,
    "start_time": "2022-11-16T20:57:16.110Z"
   },
   {
    "duration": 0,
    "start_time": "2022-11-16T20:57:16.111Z"
   },
   {
    "duration": 0,
    "start_time": "2022-11-16T20:57:16.112Z"
   },
   {
    "duration": 9,
    "start_time": "2022-11-16T20:57:18.166Z"
   },
   {
    "duration": 15,
    "start_time": "2022-11-16T20:57:53.374Z"
   },
   {
    "duration": 4,
    "start_time": "2022-11-16T20:59:09.781Z"
   },
   {
    "duration": 35,
    "start_time": "2022-11-16T20:59:10.214Z"
   },
   {
    "duration": 12,
    "start_time": "2022-11-16T20:59:10.806Z"
   },
   {
    "duration": 1112,
    "start_time": "2022-11-16T20:59:11.397Z"
   },
   {
    "duration": 35,
    "start_time": "2022-11-16T20:59:21.181Z"
   },
   {
    "duration": 12,
    "start_time": "2022-11-16T20:59:21.674Z"
   },
   {
    "duration": 12,
    "start_time": "2022-11-16T20:59:31.781Z"
   },
   {
    "duration": 7,
    "start_time": "2022-11-16T20:59:32.318Z"
   },
   {
    "duration": 4,
    "start_time": "2022-11-16T20:59:32.830Z"
   },
   {
    "duration": 3,
    "start_time": "2022-11-16T20:59:33.398Z"
   },
   {
    "duration": 4,
    "start_time": "2022-11-16T20:59:33.781Z"
   },
   {
    "duration": 5,
    "start_time": "2022-11-16T20:59:34.181Z"
   },
   {
    "duration": 6,
    "start_time": "2022-11-16T20:59:34.653Z"
   },
   {
    "duration": 3,
    "start_time": "2022-11-16T20:59:35.446Z"
   },
   {
    "duration": 31,
    "start_time": "2022-11-16T20:59:37.630Z"
   },
   {
    "duration": 32,
    "start_time": "2022-11-16T21:00:00.366Z"
   },
   {
    "duration": 5,
    "start_time": "2022-11-16T21:00:02.485Z"
   },
   {
    "duration": 32,
    "start_time": "2022-11-16T21:00:02.978Z"
   },
   {
    "duration": 29,
    "start_time": "2022-11-16T21:00:22.886Z"
   },
   {
    "duration": 4,
    "start_time": "2022-11-16T21:00:23.743Z"
   },
   {
    "duration": 9,
    "start_time": "2022-11-16T21:00:24.597Z"
   },
   {
    "duration": 3,
    "start_time": "2022-11-16T21:00:25.189Z"
   },
   {
    "duration": 22,
    "start_time": "2022-11-16T21:00:26.142Z"
   },
   {
    "duration": 29,
    "start_time": "2022-11-16T21:00:43.173Z"
   },
   {
    "duration": 4,
    "start_time": "2022-11-16T21:00:43.630Z"
   },
   {
    "duration": 8,
    "start_time": "2022-11-16T21:00:44.174Z"
   },
   {
    "duration": 3,
    "start_time": "2022-11-16T21:00:44.598Z"
   },
   {
    "duration": 26,
    "start_time": "2022-11-16T21:00:45.144Z"
   },
   {
    "duration": 22,
    "start_time": "2022-11-16T21:00:55.672Z"
   },
   {
    "duration": 20,
    "start_time": "2022-11-16T21:01:29.437Z"
   },
   {
    "duration": 3,
    "start_time": "2022-11-16T21:02:11.463Z"
   },
   {
    "duration": 8,
    "start_time": "2022-11-16T21:02:12.014Z"
   },
   {
    "duration": 3,
    "start_time": "2022-11-16T21:02:16.063Z"
   },
   {
    "duration": 21,
    "start_time": "2022-11-16T21:02:16.695Z"
   },
   {
    "duration": 4,
    "start_time": "2022-11-16T21:04:04.999Z"
   },
   {
    "duration": 7,
    "start_time": "2022-11-16T21:04:05.640Z"
   },
   {
    "duration": 3,
    "start_time": "2022-11-16T21:04:06.183Z"
   },
   {
    "duration": 1236,
    "start_time": "2022-11-16T21:04:06.950Z"
   },
   {
    "duration": 9,
    "start_time": "2022-11-16T21:04:44.015Z"
   },
   {
    "duration": 11,
    "start_time": "2022-11-16T21:05:51.150Z"
   },
   {
    "duration": 4,
    "start_time": "2022-11-16T21:07:07.371Z"
   },
   {
    "duration": 4,
    "start_time": "2022-11-16T21:07:20.248Z"
   },
   {
    "duration": 43252,
    "start_time": "2022-11-16T21:07:21.023Z"
   },
   {
    "duration": 3,
    "start_time": "2022-11-16T21:11:20.565Z"
   },
   {
    "duration": 54,
    "start_time": "2022-11-16T21:11:20.570Z"
   },
   {
    "duration": 12,
    "start_time": "2022-11-16T21:11:20.626Z"
   },
   {
    "duration": 16,
    "start_time": "2022-11-16T21:11:20.640Z"
   },
   {
    "duration": 30,
    "start_time": "2022-11-16T21:11:20.659Z"
   },
   {
    "duration": 6,
    "start_time": "2022-11-16T21:11:20.690Z"
   },
   {
    "duration": 20,
    "start_time": "2022-11-16T21:11:20.697Z"
   },
   {
    "duration": 17,
    "start_time": "2022-11-16T21:11:20.718Z"
   },
   {
    "duration": 24,
    "start_time": "2022-11-16T21:11:20.736Z"
   },
   {
    "duration": 9,
    "start_time": "2022-11-16T21:11:20.761Z"
   },
   {
    "duration": 17,
    "start_time": "2022-11-16T21:11:20.772Z"
   },
   {
    "duration": 44,
    "start_time": "2022-11-16T21:11:20.790Z"
   },
   {
    "duration": 5,
    "start_time": "2022-11-16T21:11:20.836Z"
   },
   {
    "duration": 18,
    "start_time": "2022-11-16T21:11:20.843Z"
   },
   {
    "duration": 11,
    "start_time": "2022-11-16T21:11:20.863Z"
   },
   {
    "duration": 53909,
    "start_time": "2022-11-16T21:11:38.489Z"
   },
   {
    "duration": 3,
    "start_time": "2022-11-16T21:24:43.562Z"
   },
   {
    "duration": 18,
    "start_time": "2022-11-16T21:27:22.756Z"
   },
   {
    "duration": 6,
    "start_time": "2022-11-16T21:27:25.777Z"
   },
   {
    "duration": 7,
    "start_time": "2022-11-16T21:28:03.391Z"
   },
   {
    "duration": 3,
    "start_time": "2022-11-16T21:32:22.965Z"
   },
   {
    "duration": 8,
    "start_time": "2022-11-16T21:35:22.051Z"
   },
   {
    "duration": 67,
    "start_time": "2022-11-16T21:37:43.117Z"
   },
   {
    "duration": 67,
    "start_time": "2022-11-16T21:37:47.323Z"
   },
   {
    "duration": 11,
    "start_time": "2022-11-16T21:37:54.531Z"
   },
   {
    "duration": 11,
    "start_time": "2022-11-16T21:37:56.992Z"
   },
   {
    "duration": 5,
    "start_time": "2022-11-16T21:49:53.703Z"
   },
   {
    "duration": 4,
    "start_time": "2022-11-16T21:50:16.775Z"
   },
   {
    "duration": 5,
    "start_time": "2022-11-16T21:55:04.598Z"
   },
   {
    "duration": 46,
    "start_time": "2022-11-16T21:55:04.605Z"
   },
   {
    "duration": 13,
    "start_time": "2022-11-16T21:55:04.653Z"
   },
   {
    "duration": 15,
    "start_time": "2022-11-16T21:55:04.668Z"
   },
   {
    "duration": 8,
    "start_time": "2022-11-16T21:55:04.686Z"
   },
   {
    "duration": 4,
    "start_time": "2022-11-16T21:55:04.696Z"
   },
   {
    "duration": 6,
    "start_time": "2022-11-16T21:55:04.702Z"
   },
   {
    "duration": 4,
    "start_time": "2022-11-16T21:55:04.737Z"
   },
   {
    "duration": 10,
    "start_time": "2022-11-16T21:55:04.743Z"
   },
   {
    "duration": 8,
    "start_time": "2022-11-16T21:55:04.755Z"
   },
   {
    "duration": 5,
    "start_time": "2022-11-16T21:55:04.765Z"
   },
   {
    "duration": 36,
    "start_time": "2022-11-16T21:55:04.772Z"
   },
   {
    "duration": 4,
    "start_time": "2022-11-16T21:55:04.810Z"
   },
   {
    "duration": 8,
    "start_time": "2022-11-16T21:55:04.838Z"
   },
   {
    "duration": 3,
    "start_time": "2022-11-16T21:55:04.848Z"
   },
   {
    "duration": 4,
    "start_time": "2022-11-16T21:55:08.849Z"
   },
   {
    "duration": 51425,
    "start_time": "2022-11-16T21:55:12.648Z"
   },
   {
    "duration": 4,
    "start_time": "2022-11-16T21:56:43.668Z"
   },
   {
    "duration": 4,
    "start_time": "2022-11-16T21:56:54.777Z"
   },
   {
    "duration": 35417,
    "start_time": "2022-11-16T21:56:55.627Z"
   },
   {
    "duration": 9,
    "start_time": "2022-11-16T21:57:40.802Z"
   },
   {
    "duration": 4,
    "start_time": "2022-11-16T21:59:12.955Z"
   },
   {
    "duration": 4,
    "start_time": "2022-11-16T21:59:26.468Z"
   },
   {
    "duration": 4,
    "start_time": "2022-11-16T21:59:31.859Z"
   },
   {
    "duration": 3,
    "start_time": "2022-11-16T22:00:16.632Z"
   },
   {
    "duration": 4,
    "start_time": "2022-11-16T22:00:34.368Z"
   },
   {
    "duration": 4,
    "start_time": "2022-11-16T22:00:42.274Z"
   },
   {
    "duration": 4,
    "start_time": "2022-11-16T22:01:11.577Z"
   },
   {
    "duration": 35827,
    "start_time": "2022-11-16T22:01:19.130Z"
   },
   {
    "duration": 4,
    "start_time": "2022-11-16T22:02:07.130Z"
   },
   {
    "duration": 4,
    "start_time": "2022-11-16T22:02:14.650Z"
   },
   {
    "duration": 9,
    "start_time": "2022-11-16T22:02:34.244Z"
   },
   {
    "duration": 37127,
    "start_time": "2022-11-16T22:02:36.306Z"
   },
   {
    "duration": 3,
    "start_time": "2022-11-16T22:03:57.405Z"
   },
   {
    "duration": 36896,
    "start_time": "2022-11-16T22:03:58.282Z"
   },
   {
    "duration": 12,
    "start_time": "2022-11-16T22:04:43.450Z"
   },
   {
    "duration": 15,
    "start_time": "2022-11-16T22:04:46.838Z"
   },
   {
    "duration": 11,
    "start_time": "2022-11-16T22:04:51.095Z"
   },
   {
    "duration": 4,
    "start_time": "2022-11-16T22:05:13.374Z"
   },
   {
    "duration": 36416,
    "start_time": "2022-11-16T22:05:20.943Z"
   },
   {
    "duration": 6,
    "start_time": "2022-11-16T22:08:38.773Z"
   },
   {
    "duration": 3,
    "start_time": "2022-11-16T22:14:55.902Z"
   },
   {
    "duration": 41,
    "start_time": "2022-11-16T22:14:55.907Z"
   },
   {
    "duration": 13,
    "start_time": "2022-11-16T22:14:55.949Z"
   },
   {
    "duration": 13,
    "start_time": "2022-11-16T22:14:55.963Z"
   },
   {
    "duration": 14,
    "start_time": "2022-11-16T22:14:55.978Z"
   },
   {
    "duration": 5,
    "start_time": "2022-11-16T22:14:55.993Z"
   },
   {
    "duration": 5,
    "start_time": "2022-11-16T22:14:55.999Z"
   },
   {
    "duration": 7,
    "start_time": "2022-11-16T22:14:56.005Z"
   },
   {
    "duration": 25,
    "start_time": "2022-11-16T22:14:56.014Z"
   },
   {
    "duration": 6,
    "start_time": "2022-11-16T22:14:56.041Z"
   },
   {
    "duration": 9,
    "start_time": "2022-11-16T22:14:56.048Z"
   },
   {
    "duration": 36,
    "start_time": "2022-11-16T22:14:56.059Z"
   },
   {
    "duration": 4,
    "start_time": "2022-11-16T22:14:56.097Z"
   },
   {
    "duration": 9,
    "start_time": "2022-11-16T22:14:56.104Z"
   },
   {
    "duration": 4,
    "start_time": "2022-11-16T22:14:56.114Z"
   },
   {
    "duration": 4,
    "start_time": "2022-11-16T22:14:56.138Z"
   },
   {
    "duration": 33963,
    "start_time": "2022-11-16T22:14:56.143Z"
   },
   {
    "duration": 5,
    "start_time": "2022-11-16T22:15:30.107Z"
   },
   {
    "duration": 38,
    "start_time": "2022-11-16T22:15:30.114Z"
   },
   {
    "duration": 3,
    "start_time": "2022-11-16T22:15:30.154Z"
   },
   {
    "duration": 14,
    "start_time": "2022-11-16T22:24:25.294Z"
   },
   {
    "duration": 9,
    "start_time": "2022-11-16T22:25:23.862Z"
   },
   {
    "duration": 9,
    "start_time": "2022-11-16T22:25:29.079Z"
   },
   {
    "duration": 6,
    "start_time": "2022-11-16T22:25:38.096Z"
   },
   {
    "duration": 13,
    "start_time": "2022-11-16T22:25:46.602Z"
   },
   {
    "duration": 5,
    "start_time": "2022-11-16T22:26:18.699Z"
   },
   {
    "duration": 9,
    "start_time": "2022-11-16T22:28:43.280Z"
   },
   {
    "duration": 10,
    "start_time": "2022-11-16T22:29:02.568Z"
   },
   {
    "duration": 9,
    "start_time": "2022-11-16T22:40:42.451Z"
   },
   {
    "duration": 4,
    "start_time": "2022-11-16T22:40:48.546Z"
   },
   {
    "duration": 4,
    "start_time": "2022-11-16T22:41:09.006Z"
   },
   {
    "duration": 40,
    "start_time": "2022-11-16T22:41:09.013Z"
   },
   {
    "duration": 15,
    "start_time": "2022-11-16T22:41:09.054Z"
   },
   {
    "duration": 12,
    "start_time": "2022-11-16T22:41:09.071Z"
   },
   {
    "duration": 9,
    "start_time": "2022-11-16T22:41:09.086Z"
   },
   {
    "duration": 5,
    "start_time": "2022-11-16T22:41:09.097Z"
   },
   {
    "duration": 35,
    "start_time": "2022-11-16T22:41:09.103Z"
   },
   {
    "duration": 7,
    "start_time": "2022-11-16T22:41:09.140Z"
   },
   {
    "duration": 5,
    "start_time": "2022-11-16T22:41:09.149Z"
   },
   {
    "duration": 7,
    "start_time": "2022-11-16T22:41:09.156Z"
   },
   {
    "duration": 5,
    "start_time": "2022-11-16T22:41:09.165Z"
   },
   {
    "duration": 37,
    "start_time": "2022-11-16T22:41:09.172Z"
   },
   {
    "duration": 27,
    "start_time": "2022-11-16T22:41:09.211Z"
   },
   {
    "duration": 9,
    "start_time": "2022-11-16T22:41:09.242Z"
   },
   {
    "duration": 4,
    "start_time": "2022-11-16T22:41:09.252Z"
   },
   {
    "duration": 3,
    "start_time": "2022-11-16T22:41:22.586Z"
   },
   {
    "duration": 4,
    "start_time": "2022-11-16T22:41:23.716Z"
   },
   {
    "duration": 43422,
    "start_time": "2022-11-16T22:41:27.267Z"
   },
   {
    "duration": 4,
    "start_time": "2022-11-16T22:42:21.406Z"
   },
   {
    "duration": 34519,
    "start_time": "2022-11-16T22:42:21.978Z"
   },
   {
    "duration": 16,
    "start_time": "2022-11-16T22:42:56.499Z"
   },
   {
    "duration": 4,
    "start_time": "2022-11-16T22:53:54.781Z"
   },
   {
    "duration": 3,
    "start_time": "2022-11-16T22:54:32.749Z"
   },
   {
    "duration": 4,
    "start_time": "2022-11-16T22:54:34.814Z"
   },
   {
    "duration": 34917,
    "start_time": "2022-11-16T22:54:36.037Z"
   },
   {
    "duration": 18,
    "start_time": "2022-11-16T22:55:26.194Z"
   },
   {
    "duration": 4,
    "start_time": "2022-11-16T23:01:24.798Z"
   },
   {
    "duration": 15,
    "start_time": "2022-11-16T23:01:41.241Z"
   },
   {
    "duration": 10,
    "start_time": "2022-11-16T23:01:43.785Z"
   },
   {
    "duration": 9,
    "start_time": "2022-11-16T23:02:16.139Z"
   },
   {
    "duration": 9,
    "start_time": "2022-11-16T23:02:18.942Z"
   },
   {
    "duration": 11,
    "start_time": "2022-11-16T23:02:23.479Z"
   },
   {
    "duration": 3,
    "start_time": "2022-11-16T23:02:26.658Z"
   },
   {
    "duration": 9,
    "start_time": "2022-11-16T23:02:44.809Z"
   },
   {
    "duration": 9,
    "start_time": "2022-11-16T23:02:50.732Z"
   },
   {
    "duration": 10,
    "start_time": "2022-11-16T23:02:55.873Z"
   },
   {
    "duration": 4,
    "start_time": "2022-11-16T23:03:33.369Z"
   },
   {
    "duration": 4,
    "start_time": "2022-11-16T23:04:47.269Z"
   },
   {
    "duration": 4,
    "start_time": "2022-11-16T23:05:25.944Z"
   },
   {
    "duration": 3,
    "start_time": "2022-11-16T23:05:54.808Z"
   },
   {
    "duration": 18,
    "start_time": "2022-11-16T23:06:43.869Z"
   },
   {
    "duration": 9,
    "start_time": "2022-11-16T23:10:39.217Z"
   },
   {
    "duration": 9,
    "start_time": "2022-11-16T23:10:55.441Z"
   },
   {
    "duration": 3,
    "start_time": "2022-11-16T23:11:02.953Z"
   },
   {
    "duration": 3,
    "start_time": "2022-11-16T23:11:23.135Z"
   },
   {
    "duration": 3,
    "start_time": "2022-11-16T23:11:28.544Z"
   },
   {
    "duration": 8,
    "start_time": "2022-11-16T23:11:38.269Z"
   },
   {
    "duration": 9,
    "start_time": "2022-11-16T23:11:43.617Z"
   },
   {
    "duration": 3,
    "start_time": "2022-11-16T23:11:56.510Z"
   },
   {
    "duration": 2,
    "start_time": "2022-11-16T23:12:07.935Z"
   },
   {
    "duration": 3,
    "start_time": "2022-11-16T23:15:17.587Z"
   },
   {
    "duration": 3,
    "start_time": "2022-11-16T23:19:57.779Z"
   },
   {
    "duration": 10,
    "start_time": "2022-11-16T23:21:03.729Z"
   },
   {
    "duration": 8,
    "start_time": "2022-11-16T23:21:14.010Z"
   },
   {
    "duration": 9,
    "start_time": "2022-11-16T23:21:20.108Z"
   },
   {
    "duration": 2,
    "start_time": "2022-11-16T23:21:42.746Z"
   },
   {
    "duration": 5,
    "start_time": "2022-11-16T23:21:44.186Z"
   },
   {
    "duration": 1959,
    "start_time": "2022-11-20T13:42:09.048Z"
   },
   {
    "duration": 116,
    "start_time": "2022-11-20T13:42:11.010Z"
   },
   {
    "duration": 15,
    "start_time": "2022-11-20T13:42:11.128Z"
   },
   {
    "duration": 30,
    "start_time": "2022-11-20T13:42:11.145Z"
   },
   {
    "duration": 11,
    "start_time": "2022-11-20T13:42:11.181Z"
   },
   {
    "duration": 5,
    "start_time": "2022-11-20T13:42:11.194Z"
   },
   {
    "duration": 6,
    "start_time": "2022-11-20T13:42:11.201Z"
   },
   {
    "duration": 8,
    "start_time": "2022-11-20T13:42:11.209Z"
   },
   {
    "duration": 6,
    "start_time": "2022-11-20T13:42:11.219Z"
   },
   {
    "duration": 11,
    "start_time": "2022-11-20T13:42:11.227Z"
   },
   {
    "duration": 6,
    "start_time": "2022-11-20T13:42:11.255Z"
   },
   {
    "duration": 63,
    "start_time": "2022-11-20T13:42:11.264Z"
   },
   {
    "duration": 4,
    "start_time": "2022-11-20T13:42:11.329Z"
   },
   {
    "duration": 17,
    "start_time": "2022-11-20T13:42:11.336Z"
   },
   {
    "duration": 8,
    "start_time": "2022-11-20T13:42:11.359Z"
   },
   {
    "duration": 15,
    "start_time": "2022-11-20T13:42:11.372Z"
   },
   {
    "duration": 41194,
    "start_time": "2022-11-20T13:42:11.388Z"
   },
   {
    "duration": 3,
    "start_time": "2022-11-20T13:42:52.584Z"
   },
   {
    "duration": 5,
    "start_time": "2022-11-20T13:42:52.590Z"
   },
   {
    "duration": 6,
    "start_time": "2022-11-20T13:42:52.597Z"
   },
   {
    "duration": 158,
    "start_time": "2022-11-20T13:46:14.378Z"
   },
   {
    "duration": 3,
    "start_time": "2022-11-20T13:57:03.138Z"
   },
   {
    "duration": 4,
    "start_time": "2022-11-20T13:57:16.949Z"
   },
   {
    "duration": 9,
    "start_time": "2022-11-20T13:57:17.461Z"
   },
   {
    "duration": 80,
    "start_time": "2022-11-20T13:57:41.905Z"
   },
   {
    "duration": 3,
    "start_time": "2022-11-20T13:58:01.312Z"
   },
   {
    "duration": 4,
    "start_time": "2022-11-20T13:58:01.866Z"
   },
   {
    "duration": 3,
    "start_time": "2022-11-20T14:20:00.726Z"
   },
   {
    "duration": 7,
    "start_time": "2022-11-20T14:20:01.270Z"
   },
   {
    "duration": 50858,
    "start_time": "2022-11-20T14:20:02.063Z"
   },
   {
    "duration": 3,
    "start_time": "2022-11-20T14:21:37.503Z"
   },
   {
    "duration": 5,
    "start_time": "2022-11-20T14:21:52.275Z"
   },
   {
    "duration": 4,
    "start_time": "2022-11-20T14:22:05.034Z"
   },
   {
    "duration": 5,
    "start_time": "2022-11-20T14:24:57.409Z"
   },
   {
    "duration": 66,
    "start_time": "2022-11-20T14:24:57.416Z"
   },
   {
    "duration": 15,
    "start_time": "2022-11-20T14:24:57.484Z"
   },
   {
    "duration": 24,
    "start_time": "2022-11-20T14:24:57.501Z"
   },
   {
    "duration": 23,
    "start_time": "2022-11-20T14:24:57.527Z"
   },
   {
    "duration": 30,
    "start_time": "2022-11-20T14:24:57.553Z"
   },
   {
    "duration": 22,
    "start_time": "2022-11-20T14:24:57.586Z"
   },
   {
    "duration": 17,
    "start_time": "2022-11-20T14:24:57.610Z"
   },
   {
    "duration": 22,
    "start_time": "2022-11-20T14:24:57.630Z"
   },
   {
    "duration": 19,
    "start_time": "2022-11-20T14:24:57.656Z"
   },
   {
    "duration": 29,
    "start_time": "2022-11-20T14:24:57.677Z"
   },
   {
    "duration": 43,
    "start_time": "2022-11-20T14:24:57.709Z"
   },
   {
    "duration": 10,
    "start_time": "2022-11-20T14:24:57.754Z"
   },
   {
    "duration": 50,
    "start_time": "2022-11-20T14:24:57.766Z"
   },
   {
    "duration": 28,
    "start_time": "2022-11-20T14:24:57.821Z"
   },
   {
    "duration": 80,
    "start_time": "2022-11-20T14:24:57.852Z"
   },
   {
    "duration": 40095,
    "start_time": "2022-11-20T14:24:57.935Z"
   },
   {
    "duration": 3,
    "start_time": "2022-11-20T14:25:38.032Z"
   },
   {
    "duration": 9,
    "start_time": "2022-11-20T14:25:38.036Z"
   },
   {
    "duration": 4,
    "start_time": "2022-11-20T14:25:38.055Z"
   },
   {
    "duration": 4,
    "start_time": "2022-11-20T14:25:38.061Z"
   },
   {
    "duration": 6,
    "start_time": "2022-11-20T14:25:38.067Z"
   },
   {
    "duration": 6,
    "start_time": "2022-11-20T14:25:38.075Z"
   },
   {
    "duration": 38288,
    "start_time": "2022-11-20T14:25:38.083Z"
   },
   {
    "duration": 3,
    "start_time": "2022-11-20T14:26:16.373Z"
   },
   {
    "duration": 21,
    "start_time": "2022-11-20T14:26:16.378Z"
   },
   {
    "duration": 11,
    "start_time": "2022-11-20T14:26:16.401Z"
   },
   {
    "duration": 6,
    "start_time": "2022-11-20T14:27:24.771Z"
   },
   {
    "duration": 5,
    "start_time": "2022-11-20T14:28:23.611Z"
   },
   {
    "duration": 69,
    "start_time": "2022-11-20T14:28:23.619Z"
   },
   {
    "duration": 18,
    "start_time": "2022-11-20T14:28:23.691Z"
   },
   {
    "duration": 32,
    "start_time": "2022-11-20T14:28:23.712Z"
   },
   {
    "duration": 20,
    "start_time": "2022-11-20T14:28:23.747Z"
   },
   {
    "duration": 6,
    "start_time": "2022-11-20T14:28:23.769Z"
   },
   {
    "duration": 19,
    "start_time": "2022-11-20T14:28:23.777Z"
   },
   {
    "duration": 11,
    "start_time": "2022-11-20T14:28:23.798Z"
   },
   {
    "duration": 10,
    "start_time": "2022-11-20T14:28:23.811Z"
   },
   {
    "duration": 9,
    "start_time": "2022-11-20T14:28:23.825Z"
   },
   {
    "duration": 5,
    "start_time": "2022-11-20T14:28:23.836Z"
   },
   {
    "duration": 67,
    "start_time": "2022-11-20T14:28:23.843Z"
   },
   {
    "duration": 4,
    "start_time": "2022-11-20T14:28:23.913Z"
   },
   {
    "duration": 19,
    "start_time": "2022-11-20T14:28:23.919Z"
   },
   {
    "duration": 14,
    "start_time": "2022-11-20T14:28:23.941Z"
   },
   {
    "duration": 8,
    "start_time": "2022-11-20T14:28:23.958Z"
   },
   {
    "duration": 38299,
    "start_time": "2022-11-20T14:28:23.968Z"
   },
   {
    "duration": 4,
    "start_time": "2022-11-20T14:29:02.270Z"
   },
   {
    "duration": 32,
    "start_time": "2022-11-20T14:29:02.276Z"
   },
   {
    "duration": 23,
    "start_time": "2022-11-20T14:29:02.310Z"
   },
   {
    "duration": 37,
    "start_time": "2022-11-20T14:29:02.335Z"
   },
   {
    "duration": 17,
    "start_time": "2022-11-20T14:29:02.374Z"
   },
   {
    "duration": 19,
    "start_time": "2022-11-20T14:29:02.393Z"
   },
   {
    "duration": 37384,
    "start_time": "2022-11-20T14:29:02.414Z"
   },
   {
    "duration": 2,
    "start_time": "2022-11-20T14:29:39.800Z"
   },
   {
    "duration": 10,
    "start_time": "2022-11-20T14:29:39.804Z"
   },
   {
    "duration": 9,
    "start_time": "2022-11-20T14:29:39.816Z"
   },
   {
    "duration": 16,
    "start_time": "2022-11-20T14:30:52.689Z"
   },
   {
    "duration": 4,
    "start_time": "2022-11-20T14:31:04.905Z"
   },
   {
    "duration": 14,
    "start_time": "2022-11-20T14:31:30.265Z"
   },
   {
    "duration": 4,
    "start_time": "2022-11-20T14:31:36.920Z"
   },
   {
    "duration": 4,
    "start_time": "2022-11-20T14:56:52.568Z"
   },
   {
    "duration": 68,
    "start_time": "2022-11-20T14:56:52.575Z"
   },
   {
    "duration": 12,
    "start_time": "2022-11-20T14:56:52.644Z"
   },
   {
    "duration": 16,
    "start_time": "2022-11-20T14:56:52.658Z"
   },
   {
    "duration": 39,
    "start_time": "2022-11-20T14:56:52.677Z"
   },
   {
    "duration": 32,
    "start_time": "2022-11-20T14:56:52.717Z"
   },
   {
    "duration": 24,
    "start_time": "2022-11-20T14:56:52.751Z"
   },
   {
    "duration": 29,
    "start_time": "2022-11-20T14:56:52.777Z"
   },
   {
    "duration": 16,
    "start_time": "2022-11-20T14:56:52.807Z"
   },
   {
    "duration": 33,
    "start_time": "2022-11-20T14:56:52.825Z"
   },
   {
    "duration": 18,
    "start_time": "2022-11-20T14:56:52.860Z"
   },
   {
    "duration": 44,
    "start_time": "2022-11-20T14:56:52.880Z"
   },
   {
    "duration": 8,
    "start_time": "2022-11-20T14:56:52.926Z"
   },
   {
    "duration": 20,
    "start_time": "2022-11-20T14:56:52.935Z"
   },
   {
    "duration": 21,
    "start_time": "2022-11-20T14:56:52.957Z"
   },
   {
    "duration": 29,
    "start_time": "2022-11-20T14:56:52.980Z"
   },
   {
    "duration": 10831,
    "start_time": "2022-11-20T14:56:53.010Z"
   },
   {
    "duration": 9,
    "start_time": "2022-11-20T14:57:03.843Z"
   },
   {
    "duration": 0,
    "start_time": "2022-11-20T14:57:03.853Z"
   },
   {
    "duration": 0,
    "start_time": "2022-11-20T14:57:03.854Z"
   },
   {
    "duration": 0,
    "start_time": "2022-11-20T14:57:03.855Z"
   },
   {
    "duration": 0,
    "start_time": "2022-11-20T14:57:03.856Z"
   },
   {
    "duration": 0,
    "start_time": "2022-11-20T14:57:03.857Z"
   },
   {
    "duration": 0,
    "start_time": "2022-11-20T14:57:03.858Z"
   },
   {
    "duration": 0,
    "start_time": "2022-11-20T14:57:03.859Z"
   },
   {
    "duration": 1,
    "start_time": "2022-11-20T14:57:03.860Z"
   },
   {
    "duration": 4,
    "start_time": "2022-11-20T14:57:11.055Z"
   },
   {
    "duration": 57,
    "start_time": "2022-11-20T14:57:11.061Z"
   },
   {
    "duration": 15,
    "start_time": "2022-11-20T14:57:11.120Z"
   },
   {
    "duration": 13,
    "start_time": "2022-11-20T14:57:11.137Z"
   },
   {
    "duration": 11,
    "start_time": "2022-11-20T14:57:11.152Z"
   },
   {
    "duration": 4,
    "start_time": "2022-11-20T14:57:11.164Z"
   },
   {
    "duration": 6,
    "start_time": "2022-11-20T14:57:11.170Z"
   },
   {
    "duration": 8,
    "start_time": "2022-11-20T14:57:11.177Z"
   },
   {
    "duration": 7,
    "start_time": "2022-11-20T14:57:11.187Z"
   },
   {
    "duration": 6,
    "start_time": "2022-11-20T14:57:11.197Z"
   },
   {
    "duration": 6,
    "start_time": "2022-11-20T14:57:11.205Z"
   },
   {
    "duration": 61,
    "start_time": "2022-11-20T14:57:11.213Z"
   },
   {
    "duration": 5,
    "start_time": "2022-11-20T14:57:11.276Z"
   },
   {
    "duration": 14,
    "start_time": "2022-11-20T14:57:11.283Z"
   },
   {
    "duration": 9,
    "start_time": "2022-11-20T14:57:11.298Z"
   },
   {
    "duration": 7,
    "start_time": "2022-11-20T14:57:11.309Z"
   },
   {
    "duration": 37015,
    "start_time": "2022-11-20T14:57:11.317Z"
   },
   {
    "duration": 3,
    "start_time": "2022-11-20T14:57:48.333Z"
   },
   {
    "duration": 18,
    "start_time": "2022-11-20T14:57:48.338Z"
   },
   {
    "duration": 24,
    "start_time": "2022-11-20T14:57:48.358Z"
   },
   {
    "duration": 30,
    "start_time": "2022-11-20T14:57:48.384Z"
   },
   {
    "duration": 3,
    "start_time": "2022-11-20T14:58:16.137Z"
   },
   {
    "duration": 53,
    "start_time": "2022-11-20T14:58:16.142Z"
   },
   {
    "duration": 12,
    "start_time": "2022-11-20T14:58:16.197Z"
   },
   {
    "duration": 13,
    "start_time": "2022-11-20T14:58:16.211Z"
   },
   {
    "duration": 10,
    "start_time": "2022-11-20T14:58:16.226Z"
   },
   {
    "duration": 3,
    "start_time": "2022-11-20T14:58:16.238Z"
   },
   {
    "duration": 15,
    "start_time": "2022-11-20T14:58:16.243Z"
   },
   {
    "duration": 6,
    "start_time": "2022-11-20T14:58:16.259Z"
   },
   {
    "duration": 5,
    "start_time": "2022-11-20T14:58:16.269Z"
   },
   {
    "duration": 6,
    "start_time": "2022-11-20T14:58:16.276Z"
   },
   {
    "duration": 4,
    "start_time": "2022-11-20T14:58:16.284Z"
   },
   {
    "duration": 37,
    "start_time": "2022-11-20T14:58:16.290Z"
   },
   {
    "duration": 27,
    "start_time": "2022-11-20T14:58:16.329Z"
   },
   {
    "duration": 13,
    "start_time": "2022-11-20T14:58:16.357Z"
   },
   {
    "duration": 2,
    "start_time": "2022-11-20T14:58:16.373Z"
   },
   {
    "duration": 7,
    "start_time": "2022-11-20T14:58:16.377Z"
   },
   {
    "duration": 38144,
    "start_time": "2022-11-20T14:58:16.386Z"
   },
   {
    "duration": 4,
    "start_time": "2022-11-20T14:58:54.532Z"
   },
   {
    "duration": 17,
    "start_time": "2022-11-20T14:58:54.538Z"
   },
   {
    "duration": 32,
    "start_time": "2022-11-20T14:58:54.557Z"
   },
   {
    "duration": 16,
    "start_time": "2022-11-20T14:58:54.591Z"
   },
   {
    "duration": 26,
    "start_time": "2022-11-20T14:59:25.545Z"
   },
   {
    "duration": 10,
    "start_time": "2022-11-20T14:59:40.630Z"
   },
   {
    "duration": 10,
    "start_time": "2022-11-20T15:00:33.142Z"
   },
   {
    "duration": 9,
    "start_time": "2022-11-20T15:00:39.595Z"
   },
   {
    "duration": 14,
    "start_time": "2022-11-20T15:00:53.861Z"
   },
   {
    "duration": 5,
    "start_time": "2022-11-20T15:01:08.326Z"
   },
   {
    "duration": 38126,
    "start_time": "2022-11-20T15:01:09.797Z"
   },
   {
    "duration": 3,
    "start_time": "2022-11-20T15:01:47.925Z"
   },
   {
    "duration": 6,
    "start_time": "2022-11-20T15:01:47.930Z"
   },
   {
    "duration": 18,
    "start_time": "2022-11-20T15:01:47.939Z"
   },
   {
    "duration": 23,
    "start_time": "2022-11-20T15:01:47.960Z"
   },
   {
    "duration": 17,
    "start_time": "2022-11-20T15:02:48.978Z"
   },
   {
    "duration": 13,
    "start_time": "2022-11-20T15:12:35.024Z"
   },
   {
    "duration": 5,
    "start_time": "2022-11-20T15:12:57.828Z"
   },
   {
    "duration": 59,
    "start_time": "2022-11-20T15:12:57.835Z"
   },
   {
    "duration": 13,
    "start_time": "2022-11-20T15:12:57.896Z"
   },
   {
    "duration": 12,
    "start_time": "2022-11-20T15:12:57.911Z"
   },
   {
    "duration": 9,
    "start_time": "2022-11-20T15:12:57.926Z"
   },
   {
    "duration": 5,
    "start_time": "2022-11-20T15:12:57.936Z"
   },
   {
    "duration": 7,
    "start_time": "2022-11-20T15:12:57.943Z"
   },
   {
    "duration": 9,
    "start_time": "2022-11-20T15:12:57.952Z"
   },
   {
    "duration": 6,
    "start_time": "2022-11-20T15:12:57.963Z"
   },
   {
    "duration": 6,
    "start_time": "2022-11-20T15:12:57.971Z"
   },
   {
    "duration": 5,
    "start_time": "2022-11-20T15:12:57.979Z"
   },
   {
    "duration": 36,
    "start_time": "2022-11-20T15:12:57.986Z"
   },
   {
    "duration": 4,
    "start_time": "2022-11-20T15:12:58.024Z"
   },
   {
    "duration": 11,
    "start_time": "2022-11-20T15:12:58.054Z"
   },
   {
    "duration": 3,
    "start_time": "2022-11-20T15:12:58.067Z"
   },
   {
    "duration": 27,
    "start_time": "2022-11-20T15:12:58.072Z"
   },
   {
    "duration": 39044,
    "start_time": "2022-11-20T15:12:58.101Z"
   },
   {
    "duration": 8,
    "start_time": "2022-11-20T15:13:37.147Z"
   },
   {
    "duration": 16,
    "start_time": "2022-11-20T15:13:37.156Z"
   },
   {
    "duration": 7,
    "start_time": "2022-11-20T15:13:37.174Z"
   },
   {
    "duration": 6,
    "start_time": "2022-11-20T15:13:37.183Z"
   },
   {
    "duration": 30,
    "start_time": "2022-11-20T15:13:37.191Z"
   },
   {
    "duration": 4,
    "start_time": "2022-11-20T15:13:37.223Z"
   },
   {
    "duration": 38149,
    "start_time": "2022-11-20T15:13:37.229Z"
   },
   {
    "duration": 3,
    "start_time": "2022-11-20T15:14:15.380Z"
   },
   {
    "duration": 7,
    "start_time": "2022-11-20T15:14:15.384Z"
   },
   {
    "duration": 7,
    "start_time": "2022-11-20T15:14:15.393Z"
   },
   {
    "duration": 18,
    "start_time": "2022-11-20T15:14:15.403Z"
   },
   {
    "duration": 15,
    "start_time": "2022-11-20T15:35:34.927Z"
   },
   {
    "duration": 11,
    "start_time": "2022-11-20T15:35:38.050Z"
   },
   {
    "duration": 14,
    "start_time": "2022-11-20T15:35:42.354Z"
   },
   {
    "duration": 4,
    "start_time": "2022-11-20T15:36:26.418Z"
   },
   {
    "duration": 50,
    "start_time": "2022-11-20T15:36:26.425Z"
   },
   {
    "duration": 15,
    "start_time": "2022-11-20T15:36:26.478Z"
   },
   {
    "duration": 14,
    "start_time": "2022-11-20T15:36:26.496Z"
   },
   {
    "duration": 10,
    "start_time": "2022-11-20T15:36:26.512Z"
   },
   {
    "duration": 5,
    "start_time": "2022-11-20T15:36:26.524Z"
   },
   {
    "duration": 25,
    "start_time": "2022-11-20T15:36:26.530Z"
   },
   {
    "duration": 5,
    "start_time": "2022-11-20T15:36:26.557Z"
   },
   {
    "duration": 8,
    "start_time": "2022-11-20T15:36:26.564Z"
   },
   {
    "duration": 12,
    "start_time": "2022-11-20T15:36:26.575Z"
   },
   {
    "duration": 5,
    "start_time": "2022-11-20T15:36:26.589Z"
   },
   {
    "duration": 13,
    "start_time": "2022-11-20T15:36:28.615Z"
   },
   {
    "duration": 6,
    "start_time": "2022-11-20T15:37:44.587Z"
   },
   {
    "duration": 74,
    "start_time": "2022-11-20T15:37:44.595Z"
   },
   {
    "duration": 19,
    "start_time": "2022-11-20T15:37:44.671Z"
   },
   {
    "duration": 36,
    "start_time": "2022-11-20T15:37:44.692Z"
   },
   {
    "duration": 44,
    "start_time": "2022-11-20T15:37:44.730Z"
   },
   {
    "duration": 21,
    "start_time": "2022-11-20T15:38:20.135Z"
   },
   {
    "duration": 11,
    "start_time": "2022-11-20T15:38:26.960Z"
   },
   {
    "duration": 4,
    "start_time": "2022-11-20T15:39:25.375Z"
   },
   {
    "duration": 4,
    "start_time": "2022-11-20T15:40:27.098Z"
   },
   {
    "duration": 49,
    "start_time": "2022-11-20T15:40:27.104Z"
   },
   {
    "duration": 14,
    "start_time": "2022-11-20T15:40:27.155Z"
   },
   {
    "duration": 16,
    "start_time": "2022-11-20T15:40:27.172Z"
   },
   {
    "duration": 10,
    "start_time": "2022-11-20T15:40:27.190Z"
   },
   {
    "duration": 6,
    "start_time": "2022-11-20T15:40:27.202Z"
   },
   {
    "duration": 8,
    "start_time": "2022-11-20T15:40:27.209Z"
   },
   {
    "duration": 8,
    "start_time": "2022-11-20T15:40:27.218Z"
   },
   {
    "duration": 31,
    "start_time": "2022-11-20T15:40:27.227Z"
   },
   {
    "duration": 14,
    "start_time": "2022-11-20T15:40:27.259Z"
   },
   {
    "duration": 0,
    "start_time": "2022-11-20T15:40:27.275Z"
   },
   {
    "duration": 0,
    "start_time": "2022-11-20T15:40:27.276Z"
   },
   {
    "duration": 19,
    "start_time": "2022-11-20T15:40:29.270Z"
   },
   {
    "duration": 5,
    "start_time": "2022-11-20T15:41:10.099Z"
   },
   {
    "duration": 49,
    "start_time": "2022-11-20T15:41:10.106Z"
   },
   {
    "duration": 14,
    "start_time": "2022-11-20T15:41:10.156Z"
   },
   {
    "duration": 14,
    "start_time": "2022-11-20T15:41:10.171Z"
   },
   {
    "duration": 16,
    "start_time": "2022-11-20T15:41:10.187Z"
   },
   {
    "duration": 6,
    "start_time": "2022-11-20T15:41:10.204Z"
   },
   {
    "duration": 9,
    "start_time": "2022-11-20T15:41:10.212Z"
   },
   {
    "duration": 10,
    "start_time": "2022-11-20T15:41:10.223Z"
   },
   {
    "duration": 5,
    "start_time": "2022-11-20T15:41:15.520Z"
   },
   {
    "duration": 11,
    "start_time": "2022-11-20T15:41:17.818Z"
   },
   {
    "duration": 16,
    "start_time": "2022-11-20T15:41:42.607Z"
   },
   {
    "duration": 12,
    "start_time": "2022-11-20T15:41:52.064Z"
   },
   {
    "duration": 13,
    "start_time": "2022-11-20T15:42:05.180Z"
   },
   {
    "duration": 16,
    "start_time": "2022-11-20T15:42:13.103Z"
   },
   {
    "duration": 5,
    "start_time": "2022-11-20T15:43:52.948Z"
   },
   {
    "duration": 72,
    "start_time": "2022-11-20T15:43:52.955Z"
   },
   {
    "duration": 18,
    "start_time": "2022-11-20T15:43:53.029Z"
   },
   {
    "duration": 25,
    "start_time": "2022-11-20T15:43:53.049Z"
   },
   {
    "duration": 13,
    "start_time": "2022-11-20T15:43:53.077Z"
   },
   {
    "duration": 6,
    "start_time": "2022-11-20T15:43:53.092Z"
   },
   {
    "duration": 9,
    "start_time": "2022-11-20T15:43:53.100Z"
   },
   {
    "duration": 11,
    "start_time": "2022-11-20T15:43:53.111Z"
   },
   {
    "duration": 11,
    "start_time": "2022-11-20T15:43:53.124Z"
   },
   {
    "duration": 5,
    "start_time": "2022-11-20T15:43:56.480Z"
   },
   {
    "duration": 5,
    "start_time": "2022-11-20T15:44:22.287Z"
   },
   {
    "duration": 10,
    "start_time": "2022-11-20T15:45:11.913Z"
   },
   {
    "duration": 4,
    "start_time": "2022-11-20T15:45:20.008Z"
   },
   {
    "duration": 13,
    "start_time": "2022-11-20T15:45:24.232Z"
   },
   {
    "duration": 35,
    "start_time": "2022-11-20T15:45:35.769Z"
   },
   {
    "duration": 21,
    "start_time": "2022-11-20T15:45:47.394Z"
   },
   {
    "duration": 5,
    "start_time": "2022-11-20T15:46:32.545Z"
   },
   {
    "duration": 4,
    "start_time": "2022-11-20T15:47:08.233Z"
   },
   {
    "duration": 4,
    "start_time": "2022-11-20T15:47:18.311Z"
   },
   {
    "duration": 5,
    "start_time": "2022-11-20T15:47:30.888Z"
   },
   {
    "duration": 4,
    "start_time": "2022-11-20T15:47:32.000Z"
   },
   {
    "duration": 5,
    "start_time": "2022-11-20T15:47:33.169Z"
   },
   {
    "duration": 4,
    "start_time": "2022-11-20T15:47:39.848Z"
   },
   {
    "duration": 4,
    "start_time": "2022-11-20T15:47:50.248Z"
   },
   {
    "duration": 5,
    "start_time": "2022-11-20T15:47:53.833Z"
   },
   {
    "duration": 5,
    "start_time": "2022-11-20T15:47:54.202Z"
   },
   {
    "duration": 9,
    "start_time": "2022-11-20T15:47:54.705Z"
   },
   {
    "duration": 4,
    "start_time": "2022-11-20T15:47:55.880Z"
   },
   {
    "duration": 14,
    "start_time": "2022-11-20T15:47:59.668Z"
   },
   {
    "duration": 49,
    "start_time": "2022-11-20T15:48:00.944Z"
   },
   {
    "duration": 27,
    "start_time": "2022-11-20T15:48:04.571Z"
   },
   {
    "duration": 15,
    "start_time": "2022-11-20T15:48:05.448Z"
   },
   {
    "duration": 16,
    "start_time": "2022-11-20T15:48:11.392Z"
   },
   {
    "duration": 14,
    "start_time": "2022-11-20T15:49:21.170Z"
   },
   {
    "duration": 4,
    "start_time": "2022-11-20T15:49:51.188Z"
   },
   {
    "duration": 60,
    "start_time": "2022-11-20T15:49:51.194Z"
   },
   {
    "duration": 12,
    "start_time": "2022-11-20T15:49:51.255Z"
   },
   {
    "duration": 28,
    "start_time": "2022-11-20T15:49:51.269Z"
   },
   {
    "duration": 42,
    "start_time": "2022-11-20T15:49:51.298Z"
   },
   {
    "duration": 34,
    "start_time": "2022-11-20T15:49:51.341Z"
   },
   {
    "duration": 27,
    "start_time": "2022-11-20T15:49:51.377Z"
   },
   {
    "duration": 22,
    "start_time": "2022-11-20T15:49:51.406Z"
   },
   {
    "duration": 7,
    "start_time": "2022-11-20T15:49:51.431Z"
   },
   {
    "duration": 30,
    "start_time": "2022-11-20T15:49:51.440Z"
   },
   {
    "duration": 15,
    "start_time": "2022-11-20T15:49:51.472Z"
   },
   {
    "duration": 12,
    "start_time": "2022-11-20T15:49:57.587Z"
   },
   {
    "duration": 43,
    "start_time": "2022-11-20T15:50:00.096Z"
   },
   {
    "duration": 32,
    "start_time": "2022-11-20T15:50:29.041Z"
   },
   {
    "duration": 18,
    "start_time": "2022-11-20T15:50:30.969Z"
   },
   {
    "duration": 4,
    "start_time": "2022-11-20T15:50:34.437Z"
   },
   {
    "duration": 9,
    "start_time": "2022-11-20T15:50:37.801Z"
   },
   {
    "duration": 3,
    "start_time": "2022-11-20T15:50:39.289Z"
   },
   {
    "duration": 4,
    "start_time": "2022-11-20T15:50:39.921Z"
   },
   {
    "duration": 36120,
    "start_time": "2022-11-20T15:50:43.541Z"
   },
   {
    "duration": 2,
    "start_time": "2022-11-20T15:51:19.663Z"
   },
   {
    "duration": 10,
    "start_time": "2022-11-20T15:51:19.667Z"
   },
   {
    "duration": 17,
    "start_time": "2022-11-20T15:51:19.679Z"
   },
   {
    "duration": 16,
    "start_time": "2022-11-20T15:51:19.698Z"
   },
   {
    "duration": 28,
    "start_time": "2022-11-20T15:51:19.715Z"
   },
   {
    "duration": 15,
    "start_time": "2022-11-20T15:51:19.745Z"
   },
   {
    "duration": 36091,
    "start_time": "2022-11-20T15:51:19.761Z"
   },
   {
    "duration": 3,
    "start_time": "2022-11-20T15:51:55.853Z"
   },
   {
    "duration": 40,
    "start_time": "2022-11-20T15:51:55.859Z"
   },
   {
    "duration": 34,
    "start_time": "2022-11-20T15:51:55.901Z"
   },
   {
    "duration": 43,
    "start_time": "2022-11-20T15:51:55.937Z"
   },
   {
    "duration": 5,
    "start_time": "2022-11-20T15:52:57.596Z"
   },
   {
    "duration": 48,
    "start_time": "2022-11-20T15:52:57.604Z"
   },
   {
    "duration": 13,
    "start_time": "2022-11-20T15:52:57.654Z"
   },
   {
    "duration": 14,
    "start_time": "2022-11-20T15:52:57.669Z"
   },
   {
    "duration": 10,
    "start_time": "2022-11-20T15:52:57.685Z"
   },
   {
    "duration": 4,
    "start_time": "2022-11-20T15:52:57.697Z"
   },
   {
    "duration": 5,
    "start_time": "2022-11-20T15:52:57.703Z"
   },
   {
    "duration": 8,
    "start_time": "2022-11-20T15:52:57.710Z"
   },
   {
    "duration": 38,
    "start_time": "2022-11-20T15:52:57.720Z"
   },
   {
    "duration": 8,
    "start_time": "2022-11-20T15:52:57.761Z"
   },
   {
    "duration": 4,
    "start_time": "2022-11-20T15:52:57.771Z"
   },
   {
    "duration": 17,
    "start_time": "2022-11-20T15:52:57.776Z"
   },
   {
    "duration": 36,
    "start_time": "2022-11-20T15:52:57.794Z"
   },
   {
    "duration": 18,
    "start_time": "2022-11-20T15:52:57.854Z"
   },
   {
    "duration": 6,
    "start_time": "2022-11-20T15:52:57.874Z"
   },
   {
    "duration": 11,
    "start_time": "2022-11-20T15:52:57.882Z"
   },
   {
    "duration": 3,
    "start_time": "2022-11-20T15:52:57.895Z"
   },
   {
    "duration": 5,
    "start_time": "2022-11-20T15:52:57.899Z"
   },
   {
    "duration": 36556,
    "start_time": "2022-11-20T15:52:57.906Z"
   },
   {
    "duration": 3,
    "start_time": "2022-11-20T15:53:34.464Z"
   },
   {
    "duration": 31,
    "start_time": "2022-11-20T15:53:34.468Z"
   },
   {
    "duration": 17,
    "start_time": "2022-11-20T15:53:34.501Z"
   },
   {
    "duration": 23,
    "start_time": "2022-11-20T15:53:34.520Z"
   },
   {
    "duration": 61,
    "start_time": "2022-11-20T15:53:34.545Z"
   },
   {
    "duration": 8,
    "start_time": "2022-11-20T15:53:34.608Z"
   },
   {
    "duration": 36685,
    "start_time": "2022-11-20T15:53:34.618Z"
   },
   {
    "duration": 2,
    "start_time": "2022-11-20T15:54:11.305Z"
   },
   {
    "duration": 42,
    "start_time": "2022-11-20T15:54:11.310Z"
   },
   {
    "duration": 23,
    "start_time": "2022-11-20T15:54:11.354Z"
   },
   {
    "duration": 46,
    "start_time": "2022-11-20T15:54:11.378Z"
   },
   {
    "duration": 29,
    "start_time": "2022-11-20T15:58:47.459Z"
   },
   {
    "duration": 32,
    "start_time": "2022-11-20T16:01:53.372Z"
   },
   {
    "duration": 34,
    "start_time": "2022-11-20T16:02:04.948Z"
   },
   {
    "duration": 492,
    "start_time": "2022-11-20T16:28:56.137Z"
   },
   {
    "duration": 12,
    "start_time": "2022-11-20T16:29:18.865Z"
   },
   {
    "duration": 4,
    "start_time": "2022-11-20T16:29:38.114Z"
   },
   {
    "duration": 3,
    "start_time": "2022-11-20T16:58:37.463Z"
   },
   {
    "duration": 40,
    "start_time": "2022-11-20T16:58:38.207Z"
   },
   {
    "duration": 3,
    "start_time": "2022-11-20T16:59:00.239Z"
   },
   {
    "duration": 4,
    "start_time": "2022-11-20T16:59:00.623Z"
   },
   {
    "duration": 4,
    "start_time": "2022-11-20T16:59:21.052Z"
   },
   {
    "duration": 183470,
    "start_time": "2022-11-20T16:59:23.624Z"
   },
   {
    "duration": 2,
    "start_time": "2022-11-20T17:02:27.096Z"
   },
   {
    "duration": 13,
    "start_time": "2022-11-20T17:02:27.100Z"
   },
   {
    "duration": 8,
    "start_time": "2022-11-20T17:02:27.115Z"
   },
   {
    "duration": 4,
    "start_time": "2022-11-20T17:04:06.928Z"
   },
   {
    "duration": 4,
    "start_time": "2022-11-20T17:04:07.545Z"
   },
   {
    "duration": 6,
    "start_time": "2022-11-20T17:04:08.185Z"
   },
   {
    "duration": 57,
    "start_time": "2022-11-20T17:05:13.676Z"
   },
   {
    "duration": 4,
    "start_time": "2022-11-20T17:05:21.713Z"
   },
   {
    "duration": 187256,
    "start_time": "2022-11-20T17:05:23.618Z"
   },
   {
    "duration": 3,
    "start_time": "2022-11-20T17:10:30.491Z"
   },
   {
    "duration": 3,
    "start_time": "2022-11-20T17:10:30.810Z"
   },
   {
    "duration": 4,
    "start_time": "2022-11-20T17:10:31.666Z"
   },
   {
    "duration": 4,
    "start_time": "2022-11-20T17:58:27.603Z"
   },
   {
    "duration": 50,
    "start_time": "2022-11-20T17:58:27.609Z"
   },
   {
    "duration": 12,
    "start_time": "2022-11-20T17:58:27.661Z"
   },
   {
    "duration": 13,
    "start_time": "2022-11-20T17:58:27.675Z"
   },
   {
    "duration": 12,
    "start_time": "2022-11-20T17:58:27.690Z"
   },
   {
    "duration": 5,
    "start_time": "2022-11-20T17:58:27.703Z"
   },
   {
    "duration": 7,
    "start_time": "2022-11-20T17:58:27.710Z"
   },
   {
    "duration": 9,
    "start_time": "2022-11-20T17:58:27.718Z"
   },
   {
    "duration": 29,
    "start_time": "2022-11-20T17:58:27.729Z"
   },
   {
    "duration": 9,
    "start_time": "2022-11-20T17:58:27.760Z"
   },
   {
    "duration": 4,
    "start_time": "2022-11-20T17:58:27.772Z"
   },
   {
    "duration": 16,
    "start_time": "2022-11-20T17:58:27.778Z"
   },
   {
    "duration": 37,
    "start_time": "2022-11-20T17:58:27.795Z"
   },
   {
    "duration": 35,
    "start_time": "2022-11-20T17:58:27.834Z"
   },
   {
    "duration": 8,
    "start_time": "2022-11-20T17:58:27.871Z"
   },
   {
    "duration": 9,
    "start_time": "2022-11-20T17:58:27.881Z"
   },
   {
    "duration": 6,
    "start_time": "2022-11-20T17:58:27.892Z"
   },
   {
    "duration": 9,
    "start_time": "2022-11-20T17:58:27.899Z"
   },
   {
    "duration": 36349,
    "start_time": "2022-11-20T17:58:27.910Z"
   },
   {
    "duration": 3,
    "start_time": "2022-11-20T17:59:04.260Z"
   },
   {
    "duration": 35,
    "start_time": "2022-11-20T17:59:04.265Z"
   },
   {
    "duration": 5,
    "start_time": "2022-11-20T17:59:04.302Z"
   },
   {
    "duration": 6,
    "start_time": "2022-11-20T17:59:04.309Z"
   },
   {
    "duration": 18,
    "start_time": "2022-11-20T17:59:04.316Z"
   },
   {
    "duration": 4,
    "start_time": "2022-11-20T17:59:04.336Z"
   },
   {
    "duration": 181035,
    "start_time": "2022-11-20T17:59:04.341Z"
   },
   {
    "duration": 3,
    "start_time": "2022-11-20T18:02:05.378Z"
   },
   {
    "duration": 9,
    "start_time": "2022-11-20T18:02:05.383Z"
   },
   {
    "duration": 8,
    "start_time": "2022-11-20T18:02:05.396Z"
   },
   {
    "duration": 35,
    "start_time": "2022-11-20T18:02:05.406Z"
   },
   {
    "duration": 24,
    "start_time": "2022-11-20T18:03:49.390Z"
   },
   {
    "duration": 28,
    "start_time": "2022-11-20T18:05:45.016Z"
   },
   {
    "duration": 23,
    "start_time": "2022-11-20T18:09:00.464Z"
   },
   {
    "duration": 27,
    "start_time": "2022-11-20T18:19:14.738Z"
   },
   {
    "duration": 27,
    "start_time": "2022-11-20T18:19:32.668Z"
   },
   {
    "duration": 37,
    "start_time": "2022-11-20T18:19:44.458Z"
   },
   {
    "duration": 39,
    "start_time": "2022-11-20T18:20:11.113Z"
   },
   {
    "duration": 37,
    "start_time": "2022-11-20T18:20:19.554Z"
   },
   {
    "duration": 4,
    "start_time": "2022-11-20T18:25:05.781Z"
   },
   {
    "duration": 46,
    "start_time": "2022-11-20T18:25:05.787Z"
   },
   {
    "duration": 14,
    "start_time": "2022-11-20T18:25:05.835Z"
   },
   {
    "duration": 13,
    "start_time": "2022-11-20T18:25:05.850Z"
   },
   {
    "duration": 9,
    "start_time": "2022-11-20T18:25:05.866Z"
   },
   {
    "duration": 4,
    "start_time": "2022-11-20T18:25:05.877Z"
   },
   {
    "duration": 8,
    "start_time": "2022-11-20T18:25:05.883Z"
   },
   {
    "duration": 10,
    "start_time": "2022-11-20T18:25:05.892Z"
   },
   {
    "duration": 25,
    "start_time": "2022-11-20T18:25:05.904Z"
   },
   {
    "duration": 11,
    "start_time": "2022-11-20T18:25:05.931Z"
   },
   {
    "duration": 13,
    "start_time": "2022-11-20T18:25:05.944Z"
   },
   {
    "duration": 15,
    "start_time": "2022-11-20T18:25:05.958Z"
   },
   {
    "duration": 34,
    "start_time": "2022-11-20T18:25:05.975Z"
   },
   {
    "duration": 43,
    "start_time": "2022-11-20T18:25:06.012Z"
   },
   {
    "duration": 4,
    "start_time": "2022-11-20T18:25:06.057Z"
   },
   {
    "duration": 18,
    "start_time": "2022-11-20T18:25:06.063Z"
   },
   {
    "duration": 3,
    "start_time": "2022-11-20T18:25:06.083Z"
   },
   {
    "duration": 6,
    "start_time": "2022-11-20T18:25:06.087Z"
   },
   {
    "duration": 38903,
    "start_time": "2022-11-20T18:25:06.094Z"
   },
   {
    "duration": 3,
    "start_time": "2022-11-20T18:25:44.999Z"
   },
   {
    "duration": 20,
    "start_time": "2022-11-20T18:25:45.004Z"
   },
   {
    "duration": 7,
    "start_time": "2022-11-20T18:25:45.026Z"
   },
   {
    "duration": 12,
    "start_time": "2022-11-20T18:25:45.035Z"
   },
   {
    "duration": 7,
    "start_time": "2022-11-20T18:25:45.048Z"
   },
   {
    "duration": 194400,
    "start_time": "2022-11-20T18:25:45.056Z"
   },
   {
    "duration": 3,
    "start_time": "2022-11-20T18:28:59.458Z"
   },
   {
    "duration": 8,
    "start_time": "2022-11-20T18:28:59.463Z"
   },
   {
    "duration": 8,
    "start_time": "2022-11-20T18:28:59.473Z"
   },
   {
    "duration": 41,
    "start_time": "2022-11-20T18:28:59.482Z"
   },
   {
    "duration": 34,
    "start_time": "2022-11-20T18:33:14.870Z"
   },
   {
    "duration": 5,
    "start_time": "2022-11-20T18:41:59.978Z"
   },
   {
    "duration": 55,
    "start_time": "2022-11-20T18:41:59.986Z"
   },
   {
    "duration": 14,
    "start_time": "2022-11-20T18:42:00.044Z"
   },
   {
    "duration": 19,
    "start_time": "2022-11-20T18:42:00.061Z"
   },
   {
    "duration": 15,
    "start_time": "2022-11-20T18:42:00.083Z"
   },
   {
    "duration": 6,
    "start_time": "2022-11-20T18:42:00.100Z"
   },
   {
    "duration": 6,
    "start_time": "2022-11-20T18:42:00.108Z"
   },
   {
    "duration": 10,
    "start_time": "2022-11-20T18:42:00.116Z"
   },
   {
    "duration": 42,
    "start_time": "2022-11-20T18:42:00.128Z"
   },
   {
    "duration": 28,
    "start_time": "2022-11-20T18:42:00.174Z"
   },
   {
    "duration": 9,
    "start_time": "2022-11-20T18:42:00.205Z"
   },
   {
    "duration": 31,
    "start_time": "2022-11-20T18:42:00.216Z"
   },
   {
    "duration": 58,
    "start_time": "2022-11-20T18:42:00.250Z"
   },
   {
    "duration": 24,
    "start_time": "2022-11-20T18:42:00.310Z"
   },
   {
    "duration": 32,
    "start_time": "2022-11-20T18:42:00.336Z"
   },
   {
    "duration": 21,
    "start_time": "2022-11-20T18:42:00.370Z"
   },
   {
    "duration": 12,
    "start_time": "2022-11-20T18:42:00.394Z"
   },
   {
    "duration": 32,
    "start_time": "2022-11-20T18:42:00.408Z"
   },
   {
    "duration": 40349,
    "start_time": "2022-11-20T18:42:00.442Z"
   },
   {
    "duration": 4,
    "start_time": "2022-11-20T18:42:40.793Z"
   },
   {
    "duration": 11,
    "start_time": "2022-11-20T18:42:40.799Z"
   },
   {
    "duration": 10,
    "start_time": "2022-11-20T18:42:40.812Z"
   },
   {
    "duration": 6,
    "start_time": "2022-11-20T18:42:40.824Z"
   },
   {
    "duration": 23,
    "start_time": "2022-11-20T18:42:40.832Z"
   },
   {
    "duration": 206429,
    "start_time": "2022-11-20T18:42:40.858Z"
   },
   {
    "duration": 3,
    "start_time": "2022-11-20T18:46:07.289Z"
   },
   {
    "duration": 15,
    "start_time": "2022-11-20T18:46:07.294Z"
   },
   {
    "duration": 4,
    "start_time": "2022-11-20T18:46:07.313Z"
   },
   {
    "duration": 44,
    "start_time": "2022-11-20T18:46:07.319Z"
   },
   {
    "duration": 4,
    "start_time": "2022-11-20T19:51:19.342Z"
   },
   {
    "duration": 46,
    "start_time": "2022-11-20T19:51:19.349Z"
   },
   {
    "duration": 13,
    "start_time": "2022-11-20T19:51:19.396Z"
   },
   {
    "duration": 15,
    "start_time": "2022-11-20T19:51:19.411Z"
   },
   {
    "duration": 9,
    "start_time": "2022-11-20T19:51:19.429Z"
   },
   {
    "duration": 17,
    "start_time": "2022-11-20T19:51:19.439Z"
   },
   {
    "duration": 3,
    "start_time": "2022-11-20T19:51:19.458Z"
   },
   {
    "duration": 6,
    "start_time": "2022-11-20T19:51:19.463Z"
   },
   {
    "duration": 8,
    "start_time": "2022-11-20T19:51:19.471Z"
   },
   {
    "duration": 11,
    "start_time": "2022-11-20T19:51:19.480Z"
   },
   {
    "duration": 4,
    "start_time": "2022-11-20T19:51:19.492Z"
   },
   {
    "duration": 15,
    "start_time": "2022-11-20T19:51:19.497Z"
   },
   {
    "duration": 68,
    "start_time": "2022-11-20T19:51:19.515Z"
   },
   {
    "duration": 17,
    "start_time": "2022-11-20T19:51:19.585Z"
   },
   {
    "duration": 5,
    "start_time": "2022-11-20T19:51:19.604Z"
   },
   {
    "duration": 11,
    "start_time": "2022-11-20T19:51:19.611Z"
   },
   {
    "duration": 3,
    "start_time": "2022-11-20T19:51:19.624Z"
   },
   {
    "duration": 27,
    "start_time": "2022-11-20T19:51:19.628Z"
   },
   {
    "duration": 40495,
    "start_time": "2022-11-20T19:51:19.656Z"
   },
   {
    "duration": 4,
    "start_time": "2022-11-20T19:52:00.154Z"
   },
   {
    "duration": 32,
    "start_time": "2022-11-20T19:52:00.160Z"
   },
   {
    "duration": 31,
    "start_time": "2022-11-20T19:52:00.194Z"
   },
   {
    "duration": 17,
    "start_time": "2022-11-20T19:52:00.227Z"
   },
   {
    "duration": 26,
    "start_time": "2022-11-20T19:52:00.246Z"
   },
   {
    "duration": 195499,
    "start_time": "2022-11-20T19:52:00.274Z"
   },
   {
    "duration": 2,
    "start_time": "2022-11-20T19:55:15.775Z"
   },
   {
    "duration": 6,
    "start_time": "2022-11-20T19:55:15.779Z"
   },
   {
    "duration": 7,
    "start_time": "2022-11-20T19:55:15.787Z"
   },
   {
    "duration": 86,
    "start_time": "2022-11-20T19:55:15.796Z"
   },
   {
    "duration": 5,
    "start_time": "2022-11-20T19:59:48.982Z"
   },
   {
    "duration": 46,
    "start_time": "2022-11-20T19:59:48.991Z"
   },
   {
    "duration": 17,
    "start_time": "2022-11-20T19:59:49.039Z"
   },
   {
    "duration": 17,
    "start_time": "2022-11-20T19:59:49.059Z"
   },
   {
    "duration": 32,
    "start_time": "2022-11-20T19:59:49.079Z"
   },
   {
    "duration": 6,
    "start_time": "2022-11-20T19:59:49.113Z"
   },
   {
    "duration": 7,
    "start_time": "2022-11-20T19:59:49.121Z"
   },
   {
    "duration": 9,
    "start_time": "2022-11-20T19:59:49.130Z"
   },
   {
    "duration": 15,
    "start_time": "2022-11-20T19:59:49.141Z"
   },
   {
    "duration": 20,
    "start_time": "2022-11-20T19:59:49.159Z"
   },
   {
    "duration": 5,
    "start_time": "2022-11-20T19:59:49.182Z"
   },
   {
    "duration": 22,
    "start_time": "2022-11-20T19:59:49.190Z"
   },
   {
    "duration": 54,
    "start_time": "2022-11-20T19:59:49.214Z"
   },
   {
    "duration": 21,
    "start_time": "2022-11-20T19:59:49.270Z"
   },
   {
    "duration": 11,
    "start_time": "2022-11-20T19:59:49.293Z"
   },
   {
    "duration": 23,
    "start_time": "2022-11-20T19:59:49.306Z"
   },
   {
    "duration": 3,
    "start_time": "2022-11-20T19:59:49.331Z"
   },
   {
    "duration": 19,
    "start_time": "2022-11-20T19:59:49.336Z"
   },
   {
    "duration": 38881,
    "start_time": "2022-11-20T19:59:49.357Z"
   },
   {
    "duration": 3,
    "start_time": "2022-11-20T20:00:28.240Z"
   },
   {
    "duration": 13,
    "start_time": "2022-11-20T20:00:28.245Z"
   },
   {
    "duration": 10,
    "start_time": "2022-11-20T20:00:28.259Z"
   },
   {
    "duration": 9,
    "start_time": "2022-11-20T20:00:28.271Z"
   },
   {
    "duration": 5,
    "start_time": "2022-11-20T20:00:28.282Z"
   },
   {
    "duration": 195330,
    "start_time": "2022-11-20T20:00:28.289Z"
   },
   {
    "duration": 4,
    "start_time": "2022-11-20T20:03:43.621Z"
   },
   {
    "duration": 33,
    "start_time": "2022-11-20T20:03:43.628Z"
   },
   {
    "duration": 14,
    "start_time": "2022-11-20T20:03:43.665Z"
   },
   {
    "duration": 42,
    "start_time": "2022-11-20T20:03:43.681Z"
   },
   {
    "duration": 15,
    "start_time": "2022-11-20T20:04:44.566Z"
   },
   {
    "duration": 5,
    "start_time": "2022-11-20T20:06:28.646Z"
   },
   {
    "duration": 53,
    "start_time": "2022-11-20T20:06:28.653Z"
   },
   {
    "duration": 12,
    "start_time": "2022-11-20T20:06:28.708Z"
   },
   {
    "duration": 14,
    "start_time": "2022-11-20T20:06:28.722Z"
   },
   {
    "duration": 10,
    "start_time": "2022-11-20T20:06:28.737Z"
   },
   {
    "duration": 7,
    "start_time": "2022-11-20T20:06:28.749Z"
   },
   {
    "duration": 8,
    "start_time": "2022-11-20T20:06:28.758Z"
   },
   {
    "duration": 8,
    "start_time": "2022-11-20T20:06:28.767Z"
   },
   {
    "duration": 7,
    "start_time": "2022-11-20T20:06:28.777Z"
   },
   {
    "duration": 9,
    "start_time": "2022-11-20T20:06:28.785Z"
   },
   {
    "duration": 4,
    "start_time": "2022-11-20T20:06:28.796Z"
   },
   {
    "duration": 17,
    "start_time": "2022-11-20T20:06:28.801Z"
   },
   {
    "duration": 47,
    "start_time": "2022-11-20T20:06:28.855Z"
   },
   {
    "duration": 18,
    "start_time": "2022-11-20T20:06:28.904Z"
   },
   {
    "duration": 6,
    "start_time": "2022-11-20T20:06:28.924Z"
   },
   {
    "duration": 34,
    "start_time": "2022-11-20T20:06:28.931Z"
   },
   {
    "duration": 4,
    "start_time": "2022-11-20T20:06:28.967Z"
   },
   {
    "duration": 21,
    "start_time": "2022-11-20T20:06:28.974Z"
   },
   {
    "duration": 38952,
    "start_time": "2022-11-20T20:06:28.997Z"
   },
   {
    "duration": 3,
    "start_time": "2022-11-20T20:07:07.955Z"
   },
   {
    "duration": 19,
    "start_time": "2022-11-20T20:07:07.959Z"
   },
   {
    "duration": 13,
    "start_time": "2022-11-20T20:07:07.980Z"
   },
   {
    "duration": 21,
    "start_time": "2022-11-20T20:07:07.994Z"
   },
   {
    "duration": 6,
    "start_time": "2022-11-20T20:07:08.019Z"
   },
   {
    "duration": 196724,
    "start_time": "2022-11-20T20:07:08.027Z"
   },
   {
    "duration": 5,
    "start_time": "2022-11-20T20:10:24.753Z"
   },
   {
    "duration": 55,
    "start_time": "2022-11-20T20:10:24.760Z"
   },
   {
    "duration": 26,
    "start_time": "2022-11-20T20:10:24.818Z"
   },
   {
    "duration": 66,
    "start_time": "2022-11-20T20:10:24.846Z"
   },
   {
    "duration": 5,
    "start_time": "2022-11-20T20:13:39.993Z"
   },
   {
    "duration": 58,
    "start_time": "2022-11-20T20:13:40.000Z"
   },
   {
    "duration": 18,
    "start_time": "2022-11-20T20:13:40.060Z"
   },
   {
    "duration": 29,
    "start_time": "2022-11-20T20:13:40.080Z"
   },
   {
    "duration": 20,
    "start_time": "2022-11-20T20:13:40.112Z"
   },
   {
    "duration": 30,
    "start_time": "2022-11-20T20:13:40.134Z"
   },
   {
    "duration": 26,
    "start_time": "2022-11-20T20:13:40.166Z"
   },
   {
    "duration": 28,
    "start_time": "2022-11-20T20:13:40.194Z"
   },
   {
    "duration": 31,
    "start_time": "2022-11-20T20:13:40.225Z"
   },
   {
    "duration": 22,
    "start_time": "2022-11-20T20:13:40.257Z"
   },
   {
    "duration": 29,
    "start_time": "2022-11-20T20:13:40.281Z"
   },
   {
    "duration": 30,
    "start_time": "2022-11-20T20:13:40.312Z"
   },
   {
    "duration": 54,
    "start_time": "2022-11-20T20:13:40.343Z"
   },
   {
    "duration": 17,
    "start_time": "2022-11-20T20:13:40.400Z"
   },
   {
    "duration": 22,
    "start_time": "2022-11-20T20:13:40.419Z"
   },
   {
    "duration": 26,
    "start_time": "2022-11-20T20:13:40.443Z"
   },
   {
    "duration": 18,
    "start_time": "2022-11-20T20:13:40.471Z"
   },
   {
    "duration": 29,
    "start_time": "2022-11-20T20:13:40.490Z"
   },
   {
    "duration": 0,
    "start_time": "2022-11-20T20:13:40.521Z"
   },
   {
    "duration": 0,
    "start_time": "2022-11-20T20:13:40.522Z"
   },
   {
    "duration": 0,
    "start_time": "2022-11-20T20:13:40.524Z"
   },
   {
    "duration": 0,
    "start_time": "2022-11-20T20:13:40.526Z"
   },
   {
    "duration": 0,
    "start_time": "2022-11-20T20:13:40.527Z"
   },
   {
    "duration": 0,
    "start_time": "2022-11-20T20:13:40.529Z"
   },
   {
    "duration": 1,
    "start_time": "2022-11-20T20:13:40.530Z"
   },
   {
    "duration": 0,
    "start_time": "2022-11-20T20:13:40.532Z"
   },
   {
    "duration": 0,
    "start_time": "2022-11-20T20:13:40.533Z"
   },
   {
    "duration": 0,
    "start_time": "2022-11-20T20:13:40.535Z"
   },
   {
    "duration": 0,
    "start_time": "2022-11-20T20:13:40.537Z"
   },
   {
    "duration": 15,
    "start_time": "2022-11-20T20:14:05.407Z"
   },
   {
    "duration": 4,
    "start_time": "2022-11-20T20:14:09.787Z"
   },
   {
    "duration": 18,
    "start_time": "2022-11-20T20:14:15.085Z"
   },
   {
    "duration": 3,
    "start_time": "2022-11-20T20:14:20.198Z"
   },
   {
    "duration": 4,
    "start_time": "2022-11-20T20:15:12.886Z"
   },
   {
    "duration": 15,
    "start_time": "2022-11-20T20:15:25.620Z"
   },
   {
    "duration": 4,
    "start_time": "2022-11-20T20:19:43.220Z"
   },
   {
    "duration": 50,
    "start_time": "2022-11-20T20:19:43.226Z"
   },
   {
    "duration": 14,
    "start_time": "2022-11-20T20:19:43.277Z"
   },
   {
    "duration": 14,
    "start_time": "2022-11-20T20:19:43.293Z"
   },
   {
    "duration": 11,
    "start_time": "2022-11-20T20:19:43.308Z"
   },
   {
    "duration": 5,
    "start_time": "2022-11-20T20:19:43.321Z"
   },
   {
    "duration": 30,
    "start_time": "2022-11-20T20:19:43.327Z"
   },
   {
    "duration": 9,
    "start_time": "2022-11-20T20:19:43.359Z"
   },
   {
    "duration": 8,
    "start_time": "2022-11-20T20:19:43.370Z"
   },
   {
    "duration": 9,
    "start_time": "2022-11-20T20:19:43.381Z"
   },
   {
    "duration": 6,
    "start_time": "2022-11-20T20:19:43.392Z"
   },
   {
    "duration": 15,
    "start_time": "2022-11-20T20:19:43.399Z"
   },
   {
    "duration": 60,
    "start_time": "2022-11-20T20:19:43.416Z"
   },
   {
    "duration": 19,
    "start_time": "2022-11-20T20:19:43.478Z"
   },
   {
    "duration": 5,
    "start_time": "2022-11-20T20:19:43.499Z"
   },
   {
    "duration": 11,
    "start_time": "2022-11-20T20:19:43.506Z"
   },
   {
    "duration": 4,
    "start_time": "2022-11-20T20:19:43.519Z"
   },
   {
    "duration": 31,
    "start_time": "2022-11-20T20:19:43.525Z"
   },
   {
    "duration": 38638,
    "start_time": "2022-11-20T20:19:43.558Z"
   },
   {
    "duration": 3,
    "start_time": "2022-11-20T20:20:22.197Z"
   },
   {
    "duration": 6,
    "start_time": "2022-11-20T20:20:22.202Z"
   },
   {
    "duration": 6,
    "start_time": "2022-11-20T20:20:22.210Z"
   },
   {
    "duration": 5,
    "start_time": "2022-11-20T20:20:22.218Z"
   },
   {
    "duration": 40,
    "start_time": "2022-11-20T20:20:22.225Z"
   },
   {
    "duration": 0,
    "start_time": "2022-11-20T20:20:22.267Z"
   },
   {
    "duration": 0,
    "start_time": "2022-11-20T20:20:22.269Z"
   },
   {
    "duration": 0,
    "start_time": "2022-11-20T20:20:22.271Z"
   },
   {
    "duration": 0,
    "start_time": "2022-11-20T20:20:22.272Z"
   },
   {
    "duration": 0,
    "start_time": "2022-11-20T20:20:22.274Z"
   },
   {
    "duration": 5,
    "start_time": "2022-11-20T20:20:46.187Z"
   },
   {
    "duration": 194210,
    "start_time": "2022-11-20T20:20:46.194Z"
   },
   {
    "duration": 4,
    "start_time": "2022-11-20T20:24:00.406Z"
   },
   {
    "duration": 10,
    "start_time": "2022-11-20T20:24:00.412Z"
   },
   {
    "duration": 13,
    "start_time": "2022-11-20T20:24:00.425Z"
   },
   {
    "duration": 43,
    "start_time": "2022-11-20T20:24:00.440Z"
   },
   {
    "duration": 4,
    "start_time": "2022-11-20T20:25:58.402Z"
   },
   {
    "duration": 43,
    "start_time": "2022-11-20T20:26:16.529Z"
   },
   {
    "duration": 14,
    "start_time": "2022-11-20T20:26:17.433Z"
   },
   {
    "duration": 13,
    "start_time": "2022-11-20T20:26:18.081Z"
   },
   {
    "duration": 12,
    "start_time": "2022-11-20T20:26:19.090Z"
   },
   {
    "duration": 6,
    "start_time": "2022-11-20T20:26:23.369Z"
   },
   {
    "duration": 3,
    "start_time": "2022-11-20T20:26:23.897Z"
   },
   {
    "duration": 5,
    "start_time": "2022-11-20T20:26:24.408Z"
   },
   {
    "duration": 5,
    "start_time": "2022-11-20T20:26:25.312Z"
   },
   {
    "duration": 8,
    "start_time": "2022-11-20T20:26:26.280Z"
   },
   {
    "duration": 4,
    "start_time": "2022-11-20T20:26:27.433Z"
   },
   {
    "duration": 12,
    "start_time": "2022-11-20T20:26:30.129Z"
   },
   {
    "duration": 38,
    "start_time": "2022-11-20T20:26:46.427Z"
   },
   {
    "duration": 35,
    "start_time": "2022-11-20T20:27:05.970Z"
   },
   {
    "duration": 31,
    "start_time": "2022-11-20T20:27:17.272Z"
   },
   {
    "duration": 4,
    "start_time": "2022-11-20T20:27:23.114Z"
   },
   {
    "duration": 9,
    "start_time": "2022-11-20T20:27:36.028Z"
   },
   {
    "duration": 3,
    "start_time": "2022-11-20T20:27:36.633Z"
   },
   {
    "duration": 4,
    "start_time": "2022-11-20T20:28:15.217Z"
   },
   {
    "duration": 4,
    "start_time": "2022-11-20T20:42:01.741Z"
   },
   {
    "duration": 4,
    "start_time": "2022-11-20T20:42:15.238Z"
   },
   {
    "duration": 40120,
    "start_time": "2022-11-20T20:42:19.236Z"
   },
   {
    "duration": 5,
    "start_time": "2022-11-20T20:43:57.884Z"
   },
   {
    "duration": 42,
    "start_time": "2022-11-20T20:43:57.892Z"
   },
   {
    "duration": 13,
    "start_time": "2022-11-20T20:43:57.936Z"
   },
   {
    "duration": 18,
    "start_time": "2022-11-20T20:43:57.951Z"
   },
   {
    "duration": 7,
    "start_time": "2022-11-20T20:43:57.972Z"
   },
   {
    "duration": 5,
    "start_time": "2022-11-20T20:43:57.981Z"
   },
   {
    "duration": 5,
    "start_time": "2022-11-20T20:43:57.987Z"
   },
   {
    "duration": 6,
    "start_time": "2022-11-20T20:43:57.993Z"
   },
   {
    "duration": 6,
    "start_time": "2022-11-20T20:43:58.001Z"
   },
   {
    "duration": 6,
    "start_time": "2022-11-20T20:43:58.009Z"
   },
   {
    "duration": 3,
    "start_time": "2022-11-20T20:43:58.017Z"
   },
   {
    "duration": 43,
    "start_time": "2022-11-20T20:43:58.022Z"
   },
   {
    "duration": 34,
    "start_time": "2022-11-20T20:43:58.067Z"
   },
   {
    "duration": 17,
    "start_time": "2022-11-20T20:43:58.103Z"
   },
   {
    "duration": 7,
    "start_time": "2022-11-20T20:43:58.121Z"
   },
   {
    "duration": 34,
    "start_time": "2022-11-20T20:43:58.130Z"
   },
   {
    "duration": 6,
    "start_time": "2022-11-20T20:43:58.166Z"
   },
   {
    "duration": 6,
    "start_time": "2022-11-20T20:43:58.173Z"
   },
   {
    "duration": 38664,
    "start_time": "2022-11-20T20:43:58.180Z"
   },
   {
    "duration": 9,
    "start_time": "2022-11-20T20:44:36.846Z"
   },
   {
    "duration": 7,
    "start_time": "2022-11-20T20:44:36.856Z"
   },
   {
    "duration": 7,
    "start_time": "2022-11-20T20:44:36.865Z"
   },
   {
    "duration": 4,
    "start_time": "2022-11-20T20:44:36.874Z"
   },
   {
    "duration": 10,
    "start_time": "2022-11-20T20:44:36.880Z"
   },
   {
    "duration": 194281,
    "start_time": "2022-11-20T20:44:36.892Z"
   },
   {
    "duration": 2,
    "start_time": "2022-11-20T20:47:51.175Z"
   },
   {
    "duration": 15,
    "start_time": "2022-11-20T20:47:51.179Z"
   },
   {
    "duration": 17,
    "start_time": "2022-11-20T20:47:51.196Z"
   },
   {
    "duration": 64,
    "start_time": "2022-11-20T20:47:51.215Z"
   },
   {
    "duration": 36,
    "start_time": "2022-11-20T20:48:42.726Z"
   },
   {
    "duration": 39,
    "start_time": "2022-11-20T20:48:57.454Z"
   },
   {
    "duration": 4,
    "start_time": "2022-11-20T20:49:28.961Z"
   },
   {
    "duration": 45,
    "start_time": "2022-11-20T20:49:28.967Z"
   },
   {
    "duration": 14,
    "start_time": "2022-11-20T20:49:29.014Z"
   },
   {
    "duration": 14,
    "start_time": "2022-11-20T20:49:29.029Z"
   },
   {
    "duration": 13,
    "start_time": "2022-11-20T20:49:29.046Z"
   },
   {
    "duration": 9,
    "start_time": "2022-11-20T20:49:29.061Z"
   },
   {
    "duration": 8,
    "start_time": "2022-11-20T20:49:29.071Z"
   },
   {
    "duration": 8,
    "start_time": "2022-11-20T20:49:29.081Z"
   },
   {
    "duration": 7,
    "start_time": "2022-11-20T20:49:29.091Z"
   },
   {
    "duration": 10,
    "start_time": "2022-11-20T20:49:29.100Z"
   },
   {
    "duration": 4,
    "start_time": "2022-11-20T20:49:29.111Z"
   },
   {
    "duration": 39,
    "start_time": "2022-11-20T20:49:29.116Z"
   },
   {
    "duration": 33,
    "start_time": "2022-11-20T20:49:29.157Z"
   },
   {
    "duration": 17,
    "start_time": "2022-11-20T20:49:29.193Z"
   },
   {
    "duration": 6,
    "start_time": "2022-11-20T20:49:29.212Z"
   },
   {
    "duration": 35,
    "start_time": "2022-11-20T20:49:29.220Z"
   },
   {
    "duration": 3,
    "start_time": "2022-11-20T20:49:29.257Z"
   },
   {
    "duration": 7,
    "start_time": "2022-11-20T20:49:29.261Z"
   },
   {
    "duration": 38037,
    "start_time": "2022-11-20T20:49:29.269Z"
   },
   {
    "duration": 2,
    "start_time": "2022-11-20T20:50:07.308Z"
   },
   {
    "duration": 27,
    "start_time": "2022-11-20T20:50:07.312Z"
   },
   {
    "duration": 15,
    "start_time": "2022-11-20T20:50:07.340Z"
   },
   {
    "duration": 4,
    "start_time": "2022-11-20T20:50:07.357Z"
   },
   {
    "duration": 13,
    "start_time": "2022-11-20T20:50:07.363Z"
   },
   {
    "duration": 190788,
    "start_time": "2022-11-20T20:50:07.378Z"
   },
   {
    "duration": 3,
    "start_time": "2022-11-20T20:53:18.167Z"
   },
   {
    "duration": 8,
    "start_time": "2022-11-20T20:53:18.172Z"
   },
   {
    "duration": 6,
    "start_time": "2022-11-20T20:53:18.182Z"
   },
   {
    "duration": 38,
    "start_time": "2022-11-20T20:53:18.189Z"
   },
   {
    "duration": 3,
    "start_time": "2022-11-20T21:00:15.588Z"
   },
   {
    "duration": 4,
    "start_time": "2022-11-20T21:23:03.148Z"
   },
   {
    "duration": 4,
    "start_time": "2022-11-20T21:23:48.065Z"
   },
   {
    "duration": 189877,
    "start_time": "2022-11-20T21:23:49.102Z"
   },
   {
    "duration": 3,
    "start_time": "2022-11-20T21:26:58.982Z"
   },
   {
    "duration": 15,
    "start_time": "2022-11-20T21:26:58.986Z"
   },
   {
    "duration": 23,
    "start_time": "2022-11-20T21:26:59.004Z"
   },
   {
    "duration": 55,
    "start_time": "2022-11-20T21:26:59.030Z"
   },
   {
    "duration": 4,
    "start_time": "2022-11-20T21:30:30.521Z"
   },
   {
    "duration": 4,
    "start_time": "2022-11-20T21:30:53.137Z"
   },
   {
    "duration": 186978,
    "start_time": "2022-11-20T21:30:53.960Z"
   },
   {
    "duration": 3,
    "start_time": "2022-11-20T21:34:00.941Z"
   },
   {
    "duration": 4,
    "start_time": "2022-11-20T21:34:00.955Z"
   },
   {
    "duration": 10,
    "start_time": "2022-11-20T21:34:00.961Z"
   },
   {
    "duration": 60,
    "start_time": "2022-11-20T21:34:00.972Z"
   },
   {
    "duration": 5,
    "start_time": "2022-11-20T21:34:01.034Z"
   },
   {
    "duration": 4,
    "start_time": "2022-11-20T21:34:30.845Z"
   },
   {
    "duration": 262576,
    "start_time": "2022-11-20T21:34:31.662Z"
   },
   {
    "duration": 3,
    "start_time": "2022-11-20T21:38:54.240Z"
   },
   {
    "duration": 10,
    "start_time": "2022-11-20T21:38:54.245Z"
   },
   {
    "duration": 4,
    "start_time": "2022-11-20T21:38:54.257Z"
   },
   {
    "duration": 34,
    "start_time": "2022-11-20T21:38:54.263Z"
   },
   {
    "duration": 5,
    "start_time": "2022-11-20T21:38:54.298Z"
   },
   {
    "duration": 4,
    "start_time": "2022-11-20T21:39:30.109Z"
   },
   {
    "duration": 338352,
    "start_time": "2022-11-20T21:39:30.695Z"
   },
   {
    "duration": 6,
    "start_time": "2022-11-20T21:45:09.049Z"
   },
   {
    "duration": 16,
    "start_time": "2022-11-20T21:45:09.057Z"
   },
   {
    "duration": 21,
    "start_time": "2022-11-20T21:45:09.075Z"
   },
   {
    "duration": 58,
    "start_time": "2022-11-20T21:45:09.097Z"
   },
   {
    "duration": 4,
    "start_time": "2022-11-20T21:45:09.157Z"
   },
   {
    "duration": 4,
    "start_time": "2022-11-20T21:47:05.948Z"
   },
   {
    "duration": 301051,
    "start_time": "2022-11-20T21:47:06.668Z"
   },
   {
    "duration": 3,
    "start_time": "2022-11-20T21:52:07.721Z"
   },
   {
    "duration": 22,
    "start_time": "2022-11-20T21:52:07.726Z"
   },
   {
    "duration": 27,
    "start_time": "2022-11-20T21:52:07.751Z"
   },
   {
    "duration": 62,
    "start_time": "2022-11-20T21:52:07.780Z"
   },
   {
    "duration": 6,
    "start_time": "2022-11-20T21:52:07.844Z"
   },
   {
    "duration": 63,
    "start_time": "2022-11-20T21:54:27.997Z"
   },
   {
    "duration": 42,
    "start_time": "2022-11-20T21:54:39.077Z"
   },
   {
    "duration": 4,
    "start_time": "2022-11-20T21:55:00.902Z"
   },
   {
    "duration": 262716,
    "start_time": "2022-11-20T21:55:01.518Z"
   },
   {
    "duration": 3,
    "start_time": "2022-11-20T21:59:24.236Z"
   },
   {
    "duration": 4,
    "start_time": "2022-11-20T21:59:24.254Z"
   },
   {
    "duration": 7,
    "start_time": "2022-11-20T21:59:24.260Z"
   },
   {
    "duration": 47,
    "start_time": "2022-11-20T21:59:24.268Z"
   },
   {
    "duration": 4,
    "start_time": "2022-11-20T21:59:24.317Z"
   },
   {
    "duration": 3,
    "start_time": "2022-11-20T22:31:31.106Z"
   },
   {
    "duration": 5,
    "start_time": "2022-11-20T22:34:36.830Z"
   },
   {
    "duration": 15,
    "start_time": "2022-11-20T22:34:38.158Z"
   },
   {
    "duration": 5,
    "start_time": "2022-11-20T22:35:07.998Z"
   },
   {
    "duration": 4,
    "start_time": "2022-11-20T22:35:13.303Z"
   },
   {
    "duration": 4,
    "start_time": "2022-11-20T22:36:28.456Z"
   },
   {
    "duration": 9,
    "start_time": "2022-11-20T22:36:29.055Z"
   },
   {
    "duration": 4,
    "start_time": "2022-11-20T22:37:13.236Z"
   },
   {
    "duration": 9,
    "start_time": "2022-11-20T22:37:13.590Z"
   },
   {
    "duration": 4,
    "start_time": "2022-11-20T22:37:19.638Z"
   },
   {
    "duration": 121066,
    "start_time": "2022-11-20T22:37:22.150Z"
   },
   {
    "duration": 2,
    "start_time": "2022-11-20T22:39:23.219Z"
   },
   {
    "duration": 17,
    "start_time": "2022-11-20T22:39:23.223Z"
   },
   {
    "duration": 9,
    "start_time": "2022-11-20T22:39:23.242Z"
   },
   {
    "duration": 51,
    "start_time": "2022-11-20T22:39:23.254Z"
   },
   {
    "duration": 5,
    "start_time": "2022-11-20T22:39:23.306Z"
   },
   {
    "duration": 49,
    "start_time": "2022-11-20T22:44:20.570Z"
   },
   {
    "duration": 5,
    "start_time": "2022-11-20T22:44:21.737Z"
   },
   {
    "duration": 4,
    "start_time": "2022-11-20T22:45:07.138Z"
   },
   {
    "duration": 8,
    "start_time": "2022-11-20T22:45:07.945Z"
   },
   {
    "duration": 5,
    "start_time": "2022-11-20T22:46:16.361Z"
   },
   {
    "duration": 9,
    "start_time": "2022-11-20T22:46:16.809Z"
   },
   {
    "duration": 4,
    "start_time": "2022-11-20T22:46:20.409Z"
   },
   {
    "duration": 3,
    "start_time": "2022-11-20T22:46:30.817Z"
   },
   {
    "duration": 16995,
    "start_time": "2022-11-20T22:46:31.217Z"
   },
   {
    "duration": 3,
    "start_time": "2022-11-20T22:46:48.213Z"
   },
   {
    "duration": 6,
    "start_time": "2022-11-20T22:46:48.218Z"
   },
   {
    "duration": 5,
    "start_time": "2022-11-20T22:46:48.226Z"
   },
   {
    "duration": 52,
    "start_time": "2022-11-20T22:46:48.233Z"
   },
   {
    "duration": 5,
    "start_time": "2022-11-20T22:47:49.180Z"
   },
   {
    "duration": 47,
    "start_time": "2022-11-20T22:47:49.188Z"
   },
   {
    "duration": 14,
    "start_time": "2022-11-20T22:47:49.237Z"
   },
   {
    "duration": 15,
    "start_time": "2022-11-20T22:47:49.252Z"
   },
   {
    "duration": 10,
    "start_time": "2022-11-20T22:47:49.269Z"
   },
   {
    "duration": 5,
    "start_time": "2022-11-20T22:47:49.280Z"
   },
   {
    "duration": 5,
    "start_time": "2022-11-20T22:47:49.286Z"
   },
   {
    "duration": 7,
    "start_time": "2022-11-20T22:47:49.293Z"
   },
   {
    "duration": 7,
    "start_time": "2022-11-20T22:47:49.301Z"
   },
   {
    "duration": 7,
    "start_time": "2022-11-20T22:47:49.309Z"
   },
   {
    "duration": 4,
    "start_time": "2022-11-20T22:47:49.318Z"
   },
   {
    "duration": 57,
    "start_time": "2022-11-20T22:47:49.324Z"
   },
   {
    "duration": 16,
    "start_time": "2022-11-20T22:47:49.383Z"
   },
   {
    "duration": 7,
    "start_time": "2022-11-20T22:47:49.402Z"
   },
   {
    "duration": 9,
    "start_time": "2022-11-20T22:47:49.410Z"
   },
   {
    "duration": 5,
    "start_time": "2022-11-20T22:47:49.421Z"
   },
   {
    "duration": 5,
    "start_time": "2022-11-20T22:47:49.428Z"
   },
   {
    "duration": 36610,
    "start_time": "2022-11-20T22:47:49.454Z"
   },
   {
    "duration": 2,
    "start_time": "2022-11-20T22:48:26.066Z"
   },
   {
    "duration": 18,
    "start_time": "2022-11-20T22:48:26.070Z"
   },
   {
    "duration": 20,
    "start_time": "2022-11-20T22:48:26.090Z"
   },
   {
    "duration": 16,
    "start_time": "2022-11-20T22:48:26.111Z"
   },
   {
    "duration": 31,
    "start_time": "2022-11-20T22:48:26.128Z"
   },
   {
    "duration": 18,
    "start_time": "2022-11-20T22:48:26.161Z"
   },
   {
    "duration": 36297,
    "start_time": "2022-11-20T22:48:26.181Z"
   },
   {
    "duration": 3,
    "start_time": "2022-11-20T22:49:02.480Z"
   },
   {
    "duration": 16,
    "start_time": "2022-11-20T22:49:02.485Z"
   },
   {
    "duration": 12,
    "start_time": "2022-11-20T22:49:02.502Z"
   },
   {
    "duration": 44,
    "start_time": "2022-11-20T22:49:02.516Z"
   },
   {
    "duration": 4,
    "start_time": "2022-11-20T22:49:02.562Z"
   },
   {
    "duration": 4,
    "start_time": "2022-11-20T22:50:37.994Z"
   },
   {
    "duration": 9,
    "start_time": "2022-11-20T22:50:39.498Z"
   },
   {
    "duration": 18,
    "start_time": "2022-11-20T22:50:50.506Z"
   },
   {
    "duration": 10,
    "start_time": "2022-11-20T22:54:09.363Z"
   },
   {
    "duration": 5,
    "start_time": "2022-11-20T22:54:12.103Z"
   },
   {
    "duration": 11,
    "start_time": "2022-11-20T22:54:38.827Z"
   },
   {
    "duration": 11,
    "start_time": "2022-11-20T22:55:01.676Z"
   },
   {
    "duration": 6,
    "start_time": "2022-11-20T22:55:14.163Z"
   },
   {
    "duration": 5,
    "start_time": "2022-11-20T22:55:23.537Z"
   },
   {
    "duration": 7,
    "start_time": "2022-11-20T22:55:37.473Z"
   },
   {
    "duration": 5,
    "start_time": "2022-11-20T22:57:41.608Z"
   },
   {
    "duration": 6,
    "start_time": "2022-11-20T22:58:34.541Z"
   },
   {
    "duration": 5,
    "start_time": "2022-11-20T22:59:12.413Z"
   },
   {
    "duration": 5,
    "start_time": "2022-11-20T23:04:48.457Z"
   },
   {
    "duration": 5,
    "start_time": "2022-11-20T23:04:49.030Z"
   },
   {
    "duration": 8,
    "start_time": "2022-11-20T23:04:49.846Z"
   },
   {
    "duration": 4,
    "start_time": "2022-11-20T23:04:55.632Z"
   },
   {
    "duration": 5,
    "start_time": "2022-11-20T23:05:07.246Z"
   },
   {
    "duration": 30,
    "start_time": "2022-11-20T23:05:21.166Z"
   },
   {
    "duration": 16,
    "start_time": "2022-11-20T23:05:21.583Z"
   },
   {
    "duration": 4,
    "start_time": "2022-11-20T23:05:22.094Z"
   },
   {
    "duration": 4,
    "start_time": "2022-11-20T23:05:27.014Z"
   },
   {
    "duration": 8,
    "start_time": "2022-11-20T23:05:28.062Z"
   },
   {
    "duration": 2,
    "start_time": "2022-11-20T23:05:29.222Z"
   },
   {
    "duration": 5,
    "start_time": "2022-11-20T23:05:36.814Z"
   },
   {
    "duration": 4,
    "start_time": "2022-11-20T23:05:49.465Z"
   },
   {
    "duration": 46,
    "start_time": "2022-11-20T23:05:49.471Z"
   },
   {
    "duration": 11,
    "start_time": "2022-11-20T23:05:49.519Z"
   },
   {
    "duration": 11,
    "start_time": "2022-11-20T23:05:49.532Z"
   },
   {
    "duration": 8,
    "start_time": "2022-11-20T23:05:49.545Z"
   },
   {
    "duration": 4,
    "start_time": "2022-11-20T23:05:49.555Z"
   },
   {
    "duration": 6,
    "start_time": "2022-11-20T23:05:49.560Z"
   },
   {
    "duration": 6,
    "start_time": "2022-11-20T23:05:49.567Z"
   },
   {
    "duration": 5,
    "start_time": "2022-11-20T23:05:49.575Z"
   },
   {
    "duration": 7,
    "start_time": "2022-11-20T23:05:49.582Z"
   },
   {
    "duration": 4,
    "start_time": "2022-11-20T23:05:49.591Z"
   },
   {
    "duration": 59,
    "start_time": "2022-11-20T23:05:49.596Z"
   },
   {
    "duration": 18,
    "start_time": "2022-11-20T23:05:49.657Z"
   },
   {
    "duration": 6,
    "start_time": "2022-11-20T23:05:49.676Z"
   },
   {
    "duration": 10,
    "start_time": "2022-11-20T23:05:49.684Z"
   },
   {
    "duration": 5,
    "start_time": "2022-11-20T23:05:49.696Z"
   },
   {
    "duration": 5,
    "start_time": "2022-11-20T23:05:49.703Z"
   },
   {
    "duration": 10559,
    "start_time": "2022-11-20T23:05:49.710Z"
   },
   {
    "duration": 10,
    "start_time": "2022-11-20T23:06:00.271Z"
   },
   {
    "duration": 0,
    "start_time": "2022-11-20T23:06:00.282Z"
   },
   {
    "duration": 0,
    "start_time": "2022-11-20T23:06:00.284Z"
   },
   {
    "duration": 5,
    "start_time": "2022-11-20T23:06:05.086Z"
   },
   {
    "duration": 5,
    "start_time": "2022-11-20T23:06:28.710Z"
   },
   {
    "duration": 9,
    "start_time": "2022-11-20T23:06:29.576Z"
   },
   {
    "duration": 5,
    "start_time": "2022-11-20T23:06:32.062Z"
   },
   {
    "duration": 5,
    "start_time": "2022-11-20T23:07:01.113Z"
   },
   {
    "duration": 59,
    "start_time": "2022-11-20T23:07:01.120Z"
   },
   {
    "duration": 14,
    "start_time": "2022-11-20T23:07:01.181Z"
   },
   {
    "duration": 21,
    "start_time": "2022-11-20T23:07:01.196Z"
   },
   {
    "duration": 14,
    "start_time": "2022-11-20T23:07:01.219Z"
   },
   {
    "duration": 20,
    "start_time": "2022-11-20T23:07:01.235Z"
   },
   {
    "duration": 10,
    "start_time": "2022-11-20T23:07:01.257Z"
   },
   {
    "duration": 17,
    "start_time": "2022-11-20T23:07:01.269Z"
   },
   {
    "duration": 9,
    "start_time": "2022-11-20T23:07:01.288Z"
   },
   {
    "duration": 19,
    "start_time": "2022-11-20T23:07:01.298Z"
   },
   {
    "duration": 5,
    "start_time": "2022-11-20T23:07:01.319Z"
   },
   {
    "duration": 37,
    "start_time": "2022-11-20T23:07:01.326Z"
   },
   {
    "duration": 17,
    "start_time": "2022-11-20T23:07:01.365Z"
   },
   {
    "duration": 10,
    "start_time": "2022-11-20T23:07:01.383Z"
   },
   {
    "duration": 21,
    "start_time": "2022-11-20T23:07:01.395Z"
   },
   {
    "duration": 8,
    "start_time": "2022-11-20T23:07:01.418Z"
   },
   {
    "duration": 13,
    "start_time": "2022-11-20T23:07:01.427Z"
   },
   {
    "duration": 8147,
    "start_time": "2022-11-20T23:07:01.442Z"
   },
   {
    "duration": 9,
    "start_time": "2022-11-20T23:07:09.591Z"
   },
   {
    "duration": 0,
    "start_time": "2022-11-20T23:07:09.601Z"
   },
   {
    "duration": 0,
    "start_time": "2022-11-20T23:07:09.602Z"
   },
   {
    "duration": 4,
    "start_time": "2022-11-20T23:07:20.287Z"
   },
   {
    "duration": 4,
    "start_time": "2022-11-20T23:07:23.878Z"
   },
   {
    "duration": 9,
    "start_time": "2022-11-20T23:07:24.374Z"
   },
   {
    "duration": 6,
    "start_time": "2022-11-20T23:07:25.662Z"
   },
   {
    "duration": 4,
    "start_time": "2022-11-20T23:07:41.409Z"
   },
   {
    "duration": 43,
    "start_time": "2022-11-20T23:07:41.415Z"
   },
   {
    "duration": 11,
    "start_time": "2022-11-20T23:07:41.460Z"
   },
   {
    "duration": 14,
    "start_time": "2022-11-20T23:07:41.473Z"
   },
   {
    "duration": 7,
    "start_time": "2022-11-20T23:07:41.489Z"
   },
   {
    "duration": 5,
    "start_time": "2022-11-20T23:07:41.498Z"
   },
   {
    "duration": 6,
    "start_time": "2022-11-20T23:07:41.504Z"
   },
   {
    "duration": 9,
    "start_time": "2022-11-20T23:07:41.511Z"
   },
   {
    "duration": 6,
    "start_time": "2022-11-20T23:07:41.522Z"
   },
   {
    "duration": 29,
    "start_time": "2022-11-20T23:07:41.529Z"
   },
   {
    "duration": 3,
    "start_time": "2022-11-20T23:07:41.559Z"
   },
   {
    "duration": 31,
    "start_time": "2022-11-20T23:07:41.564Z"
   },
   {
    "duration": 18,
    "start_time": "2022-11-20T23:07:41.597Z"
   },
   {
    "duration": 22,
    "start_time": "2022-11-20T23:07:41.616Z"
   },
   {
    "duration": 44,
    "start_time": "2022-11-20T23:07:41.640Z"
   },
   {
    "duration": 21,
    "start_time": "2022-11-20T23:07:41.686Z"
   },
   {
    "duration": 24,
    "start_time": "2022-11-20T23:07:41.708Z"
   },
   {
    "duration": 36303,
    "start_time": "2022-11-20T23:07:41.733Z"
   },
   {
    "duration": 3,
    "start_time": "2022-11-20T23:08:18.038Z"
   },
   {
    "duration": 13,
    "start_time": "2022-11-20T23:08:18.042Z"
   },
   {
    "duration": 21,
    "start_time": "2022-11-20T23:08:18.057Z"
   },
   {
    "duration": 7,
    "start_time": "2022-11-20T23:08:18.080Z"
   },
   {
    "duration": 9,
    "start_time": "2022-11-20T23:08:18.089Z"
   },
   {
    "duration": 11,
    "start_time": "2022-11-20T23:08:18.099Z"
   },
   {
    "duration": 15,
    "start_time": "2022-11-20T23:08:18.112Z"
   },
   {
    "duration": 4,
    "start_time": "2022-11-20T23:09:45.903Z"
   },
   {
    "duration": 5,
    "start_time": "2022-11-20T23:11:36.967Z"
   },
   {
    "duration": 5,
    "start_time": "2022-11-20T23:11:46.418Z"
   },
   {
    "duration": 45,
    "start_time": "2022-11-20T23:11:46.425Z"
   },
   {
    "duration": 13,
    "start_time": "2022-11-20T23:11:46.472Z"
   },
   {
    "duration": 13,
    "start_time": "2022-11-20T23:11:46.487Z"
   },
   {
    "duration": 9,
    "start_time": "2022-11-20T23:11:46.502Z"
   },
   {
    "duration": 6,
    "start_time": "2022-11-20T23:11:46.513Z"
   },
   {
    "duration": 7,
    "start_time": "2022-11-20T23:11:46.520Z"
   },
   {
    "duration": 28,
    "start_time": "2022-11-20T23:11:46.528Z"
   },
   {
    "duration": 4,
    "start_time": "2022-11-20T23:11:46.558Z"
   },
   {
    "duration": 13,
    "start_time": "2022-11-20T23:11:46.564Z"
   },
   {
    "duration": 4,
    "start_time": "2022-11-20T23:11:46.578Z"
   },
   {
    "duration": 30,
    "start_time": "2022-11-20T23:11:46.584Z"
   },
   {
    "duration": 41,
    "start_time": "2022-11-20T23:11:46.616Z"
   },
   {
    "duration": 5,
    "start_time": "2022-11-20T23:11:46.659Z"
   },
   {
    "duration": 11,
    "start_time": "2022-11-20T23:11:46.666Z"
   },
   {
    "duration": 3,
    "start_time": "2022-11-20T23:11:46.678Z"
   },
   {
    "duration": 5,
    "start_time": "2022-11-20T23:11:51.679Z"
   },
   {
    "duration": 5,
    "start_time": "2022-11-20T23:12:15.439Z"
   },
   {
    "duration": 4,
    "start_time": "2022-11-20T23:12:16.759Z"
   },
   {
    "duration": 11,
    "start_time": "2022-11-20T23:12:17.446Z"
   },
   {
    "duration": 5,
    "start_time": "2022-11-20T23:12:20.336Z"
   },
   {
    "duration": 3,
    "start_time": "2022-11-20T23:12:49.700Z"
   },
   {
    "duration": 51,
    "start_time": "2022-11-20T23:12:49.706Z"
   },
   {
    "duration": 12,
    "start_time": "2022-11-20T23:12:49.758Z"
   },
   {
    "duration": 21,
    "start_time": "2022-11-20T23:12:49.772Z"
   },
   {
    "duration": 22,
    "start_time": "2022-11-20T23:12:49.794Z"
   },
   {
    "duration": 26,
    "start_time": "2022-11-20T23:12:49.818Z"
   },
   {
    "duration": 17,
    "start_time": "2022-11-20T23:12:49.845Z"
   },
   {
    "duration": 12,
    "start_time": "2022-11-20T23:12:49.864Z"
   },
   {
    "duration": 24,
    "start_time": "2022-11-20T23:12:49.878Z"
   },
   {
    "duration": 16,
    "start_time": "2022-11-20T23:12:49.904Z"
   },
   {
    "duration": 5,
    "start_time": "2022-11-20T23:12:49.922Z"
   },
   {
    "duration": 43,
    "start_time": "2022-11-20T23:12:49.928Z"
   },
   {
    "duration": 16,
    "start_time": "2022-11-20T23:12:49.973Z"
   },
   {
    "duration": 6,
    "start_time": "2022-11-20T23:12:49.991Z"
   },
   {
    "duration": 10,
    "start_time": "2022-11-20T23:12:49.999Z"
   },
   {
    "duration": 3,
    "start_time": "2022-11-20T23:12:50.011Z"
   },
   {
    "duration": 5,
    "start_time": "2022-11-20T23:13:23.775Z"
   },
   {
    "duration": 4,
    "start_time": "2022-11-20T23:13:39.551Z"
   },
   {
    "duration": 9,
    "start_time": "2022-11-20T23:13:40.416Z"
   },
   {
    "duration": 6,
    "start_time": "2022-11-20T23:13:41.319Z"
   },
   {
    "duration": 4,
    "start_time": "2022-11-20T23:14:08.987Z"
   },
   {
    "duration": 44,
    "start_time": "2022-11-20T23:14:08.993Z"
   },
   {
    "duration": 12,
    "start_time": "2022-11-20T23:14:09.039Z"
   },
   {
    "duration": 18,
    "start_time": "2022-11-20T23:14:09.053Z"
   },
   {
    "duration": 15,
    "start_time": "2022-11-20T23:14:09.073Z"
   },
   {
    "duration": 6,
    "start_time": "2022-11-20T23:14:09.089Z"
   },
   {
    "duration": 5,
    "start_time": "2022-11-20T23:14:09.097Z"
   },
   {
    "duration": 6,
    "start_time": "2022-11-20T23:14:09.103Z"
   },
   {
    "duration": 5,
    "start_time": "2022-11-20T23:14:09.111Z"
   },
   {
    "duration": 7,
    "start_time": "2022-11-20T23:14:09.118Z"
   },
   {
    "duration": 29,
    "start_time": "2022-11-20T23:14:09.126Z"
   },
   {
    "duration": 31,
    "start_time": "2022-11-20T23:14:09.157Z"
   },
   {
    "duration": 22,
    "start_time": "2022-11-20T23:14:09.189Z"
   },
   {
    "duration": 6,
    "start_time": "2022-11-20T23:14:09.213Z"
   },
   {
    "duration": 35,
    "start_time": "2022-11-20T23:14:09.220Z"
   },
   {
    "duration": 3,
    "start_time": "2022-11-20T23:14:09.256Z"
   },
   {
    "duration": 6,
    "start_time": "2022-11-20T23:14:09.260Z"
   },
   {
    "duration": 4,
    "start_time": "2022-11-20T23:14:15.088Z"
   },
   {
    "duration": 4,
    "start_time": "2022-11-20T23:14:18.567Z"
   },
   {
    "duration": 9,
    "start_time": "2022-11-20T23:14:21.433Z"
   },
   {
    "duration": 4,
    "start_time": "2022-11-20T23:14:34.503Z"
   },
   {
    "duration": 8,
    "start_time": "2022-11-20T23:14:35.128Z"
   },
   {
    "duration": 5,
    "start_time": "2022-11-20T23:14:35.703Z"
   },
   {
    "duration": 5,
    "start_time": "2022-11-20T23:15:00.323Z"
   },
   {
    "duration": 59,
    "start_time": "2022-11-20T23:15:00.330Z"
   },
   {
    "duration": 12,
    "start_time": "2022-11-20T23:15:00.390Z"
   },
   {
    "duration": 26,
    "start_time": "2022-11-20T23:15:00.403Z"
   },
   {
    "duration": 22,
    "start_time": "2022-11-20T23:15:00.432Z"
   },
   {
    "duration": 18,
    "start_time": "2022-11-20T23:15:00.456Z"
   },
   {
    "duration": 35,
    "start_time": "2022-11-20T23:15:00.476Z"
   },
   {
    "duration": 15,
    "start_time": "2022-11-20T23:15:00.513Z"
   },
   {
    "duration": 33,
    "start_time": "2022-11-20T23:15:00.530Z"
   },
   {
    "duration": 18,
    "start_time": "2022-11-20T23:15:00.565Z"
   },
   {
    "duration": 8,
    "start_time": "2022-11-20T23:15:00.584Z"
   },
   {
    "duration": 44,
    "start_time": "2022-11-20T23:15:00.593Z"
   },
   {
    "duration": 16,
    "start_time": "2022-11-20T23:15:00.639Z"
   },
   {
    "duration": 24,
    "start_time": "2022-11-20T23:15:00.657Z"
   },
   {
    "duration": 39,
    "start_time": "2022-11-20T23:15:00.683Z"
   },
   {
    "duration": 35,
    "start_time": "2022-11-20T23:15:00.723Z"
   },
   {
    "duration": 25,
    "start_time": "2022-11-20T23:15:00.760Z"
   },
   {
    "duration": 5,
    "start_time": "2022-11-20T23:15:04.263Z"
   },
   {
    "duration": 5,
    "start_time": "2022-11-20T23:15:06.127Z"
   },
   {
    "duration": 4,
    "start_time": "2022-11-20T23:16:16.459Z"
   },
   {
    "duration": 10,
    "start_time": "2022-11-20T23:16:16.993Z"
   },
   {
    "duration": 5,
    "start_time": "2022-11-20T23:16:17.472Z"
   },
   {
    "duration": 4,
    "start_time": "2022-11-20T23:16:27.128Z"
   },
   {
    "duration": 17,
    "start_time": "2022-11-20T23:16:27.616Z"
   },
   {
    "duration": 10,
    "start_time": "2022-11-20T23:16:35.418Z"
   },
   {
    "duration": 4,
    "start_time": "2022-11-20T23:16:39.488Z"
   },
   {
    "duration": 4,
    "start_time": "2022-11-20T23:16:47.528Z"
   },
   {
    "duration": 9,
    "start_time": "2022-11-20T23:16:48.073Z"
   },
   {
    "duration": 5,
    "start_time": "2022-11-20T23:16:48.543Z"
   },
   {
    "duration": 5,
    "start_time": "2022-11-20T23:16:52.752Z"
   },
   {
    "duration": 4,
    "start_time": "2022-11-20T23:17:37.728Z"
   },
   {
    "duration": 9,
    "start_time": "2022-11-20T23:17:38.377Z"
   },
   {
    "duration": 5,
    "start_time": "2022-11-20T23:17:38.896Z"
   },
   {
    "duration": 5,
    "start_time": "2022-11-20T23:18:24.513Z"
   },
   {
    "duration": 9,
    "start_time": "2022-11-20T23:18:24.936Z"
   },
   {
    "duration": 6,
    "start_time": "2022-11-20T23:18:25.419Z"
   },
   {
    "duration": 4,
    "start_time": "2022-11-20T23:18:44.593Z"
   },
   {
    "duration": 9,
    "start_time": "2022-11-20T23:18:45.296Z"
   },
   {
    "duration": 4,
    "start_time": "2022-11-20T23:18:45.800Z"
   },
   {
    "duration": 9,
    "start_time": "2022-11-20T23:19:34.602Z"
   },
   {
    "duration": 4,
    "start_time": "2022-11-20T23:19:35.367Z"
   },
   {
    "duration": 5,
    "start_time": "2022-11-20T23:22:12.435Z"
   },
   {
    "duration": 5,
    "start_time": "2022-11-20T23:22:13.056Z"
   },
   {
    "duration": 14,
    "start_time": "2022-11-20T23:22:14.433Z"
   },
   {
    "duration": 4,
    "start_time": "2022-11-20T23:22:15.042Z"
   },
   {
    "duration": 5,
    "start_time": "2022-11-20T23:22:23.785Z"
   },
   {
    "duration": 119271,
    "start_time": "2022-11-20T23:22:27.354Z"
   },
   {
    "duration": 3,
    "start_time": "2022-11-20T23:24:26.627Z"
   },
   {
    "duration": 27,
    "start_time": "2022-11-20T23:24:26.631Z"
   },
   {
    "duration": 31,
    "start_time": "2022-11-20T23:24:26.660Z"
   },
   {
    "duration": 67,
    "start_time": "2022-11-20T23:24:26.693Z"
   },
   {
    "duration": 5,
    "start_time": "2022-11-20T23:24:26.762Z"
   },
   {
    "duration": 4,
    "start_time": "2022-11-20T23:26:07.619Z"
   },
   {
    "duration": 121001,
    "start_time": "2022-11-20T23:26:09.889Z"
   },
   {
    "duration": 3,
    "start_time": "2022-11-20T23:28:10.891Z"
   },
   {
    "duration": 18,
    "start_time": "2022-11-20T23:28:10.896Z"
   },
   {
    "duration": 20,
    "start_time": "2022-11-20T23:28:10.916Z"
   },
   {
    "duration": 55,
    "start_time": "2022-11-20T23:28:10.939Z"
   },
   {
    "duration": 5,
    "start_time": "2022-11-20T23:28:10.996Z"
   },
   {
    "duration": 4,
    "start_time": "2022-11-20T23:32:28.571Z"
   },
   {
    "duration": 120200,
    "start_time": "2022-11-20T23:32:32.203Z"
   },
   {
    "duration": 3,
    "start_time": "2022-11-20T23:34:32.405Z"
   },
   {
    "duration": 14,
    "start_time": "2022-11-20T23:34:32.410Z"
   },
   {
    "duration": 12,
    "start_time": "2022-11-20T23:34:32.427Z"
   },
   {
    "duration": 53,
    "start_time": "2022-11-20T23:34:32.442Z"
   },
   {
    "duration": 5,
    "start_time": "2022-11-20T23:34:32.497Z"
   },
   {
    "duration": 42,
    "start_time": "2022-11-20T23:34:53.011Z"
   },
   {
    "duration": 4,
    "start_time": "2022-11-20T23:34:53.876Z"
   },
   {
    "duration": 5,
    "start_time": "2022-11-20T23:40:53.813Z"
   },
   {
    "duration": 4,
    "start_time": "2022-11-20T23:40:54.668Z"
   },
   {
    "duration": 8,
    "start_time": "2022-11-20T23:40:55.679Z"
   },
   {
    "duration": 6,
    "start_time": "2022-11-20T23:40:56.493Z"
   },
   {
    "duration": 4,
    "start_time": "2022-11-20T23:41:04.917Z"
   },
   {
    "duration": 129884,
    "start_time": "2022-11-20T23:41:08.581Z"
   },
   {
    "duration": 2,
    "start_time": "2022-11-20T23:43:18.467Z"
   },
   {
    "duration": 26,
    "start_time": "2022-11-20T23:43:18.471Z"
   },
   {
    "duration": 14,
    "start_time": "2022-11-20T23:43:18.499Z"
   },
   {
    "duration": 36,
    "start_time": "2022-11-20T23:43:18.514Z"
   },
   {
    "duration": 5,
    "start_time": "2022-11-20T23:43:18.551Z"
   },
   {
    "duration": 1626,
    "start_time": "2022-11-21T10:22:20.905Z"
   },
   {
    "duration": 5,
    "start_time": "2022-11-21T10:26:45.056Z"
   },
   {
    "duration": 204,
    "start_time": "2022-11-21T10:26:45.063Z"
   },
   {
    "duration": 19,
    "start_time": "2022-11-21T10:26:45.269Z"
   },
   {
    "duration": 23,
    "start_time": "2022-11-21T10:26:45.290Z"
   },
   {
    "duration": 8,
    "start_time": "2022-11-21T10:26:45.316Z"
   },
   {
    "duration": 6,
    "start_time": "2022-11-21T10:26:45.326Z"
   },
   {
    "duration": 17,
    "start_time": "2022-11-21T10:26:45.338Z"
   },
   {
    "duration": 6,
    "start_time": "2022-11-21T10:26:45.356Z"
   },
   {
    "duration": 5,
    "start_time": "2022-11-21T10:26:45.363Z"
   },
   {
    "duration": 8,
    "start_time": "2022-11-21T10:26:45.370Z"
   },
   {
    "duration": 4,
    "start_time": "2022-11-21T10:26:45.379Z"
   },
   {
    "duration": 23,
    "start_time": "2022-11-21T10:26:45.384Z"
   },
   {
    "duration": 42,
    "start_time": "2022-11-21T10:26:45.409Z"
   },
   {
    "duration": 4,
    "start_time": "2022-11-21T10:26:45.454Z"
   },
   {
    "duration": 13,
    "start_time": "2022-11-21T10:26:45.459Z"
   },
   {
    "duration": 3,
    "start_time": "2022-11-21T10:26:45.473Z"
   },
   {
    "duration": 7,
    "start_time": "2022-11-21T10:26:45.477Z"
   },
   {
    "duration": 39289,
    "start_time": "2022-11-21T10:26:45.485Z"
   },
   {
    "duration": 3,
    "start_time": "2022-11-21T10:27:24.775Z"
   },
   {
    "duration": 9,
    "start_time": "2022-11-21T10:27:24.779Z"
   },
   {
    "duration": 6,
    "start_time": "2022-11-21T10:27:24.789Z"
   },
   {
    "duration": 7,
    "start_time": "2022-11-21T10:27:24.797Z"
   },
   {
    "duration": 8,
    "start_time": "2022-11-21T10:27:24.806Z"
   },
   {
    "duration": 26,
    "start_time": "2022-11-21T10:27:24.816Z"
   },
   {
    "duration": 25,
    "start_time": "2022-11-21T10:27:24.844Z"
   },
   {
    "duration": 11,
    "start_time": "2022-11-21T10:27:24.871Z"
   },
   {
    "duration": 7,
    "start_time": "2022-11-21T10:27:24.884Z"
   },
   {
    "duration": 131917,
    "start_time": "2022-11-21T10:27:24.893Z"
   },
   {
    "duration": 3,
    "start_time": "2022-11-21T10:29:36.812Z"
   },
   {
    "duration": 6,
    "start_time": "2022-11-21T10:29:36.817Z"
   },
   {
    "duration": 5,
    "start_time": "2022-11-21T10:29:36.838Z"
   },
   {
    "duration": 47,
    "start_time": "2022-11-21T10:29:36.845Z"
   },
   {
    "duration": 5,
    "start_time": "2022-11-21T10:29:36.894Z"
   },
   {
    "duration": 4,
    "start_time": "2022-11-21T10:44:29.946Z"
   },
   {
    "duration": 57,
    "start_time": "2022-11-21T10:44:29.952Z"
   },
   {
    "duration": 11,
    "start_time": "2022-11-21T10:44:30.011Z"
   },
   {
    "duration": 21,
    "start_time": "2022-11-21T10:44:30.025Z"
   },
   {
    "duration": 35,
    "start_time": "2022-11-21T10:44:30.048Z"
   },
   {
    "duration": 23,
    "start_time": "2022-11-21T10:44:30.084Z"
   },
   {
    "duration": 30,
    "start_time": "2022-11-21T10:44:30.108Z"
   },
   {
    "duration": 39,
    "start_time": "2022-11-21T10:44:30.139Z"
   },
   {
    "duration": 22,
    "start_time": "2022-11-21T10:44:30.179Z"
   },
   {
    "duration": 38,
    "start_time": "2022-11-21T10:44:30.204Z"
   },
   {
    "duration": 24,
    "start_time": "2022-11-21T10:44:30.244Z"
   },
   {
    "duration": 32,
    "start_time": "2022-11-21T10:44:30.269Z"
   },
   {
    "duration": 19,
    "start_time": "2022-11-21T10:44:30.303Z"
   },
   {
    "duration": 19,
    "start_time": "2022-11-21T10:44:30.324Z"
   },
   {
    "duration": 30,
    "start_time": "2022-11-21T10:44:30.345Z"
   },
   {
    "duration": 47,
    "start_time": "2022-11-21T10:44:30.377Z"
   },
   {
    "duration": 32,
    "start_time": "2022-11-21T10:44:30.426Z"
   },
   {
    "duration": 36684,
    "start_time": "2022-11-21T10:44:30.460Z"
   },
   {
    "duration": 3,
    "start_time": "2022-11-21T10:45:07.145Z"
   },
   {
    "duration": 9,
    "start_time": "2022-11-21T10:45:07.149Z"
   },
   {
    "duration": 7,
    "start_time": "2022-11-21T10:45:07.159Z"
   },
   {
    "duration": 10,
    "start_time": "2022-11-21T10:45:07.167Z"
   },
   {
    "duration": 6,
    "start_time": "2022-11-21T10:45:07.178Z"
   },
   {
    "duration": 13,
    "start_time": "2022-11-21T10:45:07.186Z"
   },
   {
    "duration": 4,
    "start_time": "2022-11-21T10:45:07.201Z"
   },
   {
    "duration": 35,
    "start_time": "2022-11-21T10:45:07.207Z"
   },
   {
    "duration": 4,
    "start_time": "2022-11-21T10:45:07.244Z"
   },
   {
    "duration": 124030,
    "start_time": "2022-11-21T10:45:07.251Z"
   },
   {
    "duration": 3,
    "start_time": "2022-11-21T10:47:11.283Z"
   },
   {
    "duration": 7,
    "start_time": "2022-11-21T10:47:11.288Z"
   },
   {
    "duration": 7,
    "start_time": "2022-11-21T10:47:11.297Z"
   },
   {
    "duration": 65,
    "start_time": "2022-11-21T10:47:11.306Z"
   },
   {
    "duration": 5,
    "start_time": "2022-11-21T10:47:11.372Z"
   },
   {
    "duration": 4,
    "start_time": "2022-11-21T10:48:53.018Z"
   },
   {
    "duration": 46,
    "start_time": "2022-11-21T10:48:53.025Z"
   },
   {
    "duration": 17,
    "start_time": "2022-11-21T10:48:53.073Z"
   },
   {
    "duration": 12,
    "start_time": "2022-11-21T10:48:53.093Z"
   },
   {
    "duration": 8,
    "start_time": "2022-11-21T10:48:53.107Z"
   },
   {
    "duration": 23,
    "start_time": "2022-11-21T10:48:53.117Z"
   },
   {
    "duration": 5,
    "start_time": "2022-11-21T10:48:53.142Z"
   },
   {
    "duration": 10,
    "start_time": "2022-11-21T10:48:53.149Z"
   },
   {
    "duration": 8,
    "start_time": "2022-11-21T10:48:53.161Z"
   },
   {
    "duration": 11,
    "start_time": "2022-11-21T10:48:53.170Z"
   },
   {
    "duration": 5,
    "start_time": "2022-11-21T10:48:53.182Z"
   },
   {
    "duration": 22,
    "start_time": "2022-11-21T10:48:53.189Z"
   },
   {
    "duration": 37,
    "start_time": "2022-11-21T10:48:53.213Z"
   },
   {
    "duration": 6,
    "start_time": "2022-11-21T10:48:53.251Z"
   },
   {
    "duration": 11,
    "start_time": "2022-11-21T10:48:53.259Z"
   },
   {
    "duration": 3,
    "start_time": "2022-11-21T10:48:53.272Z"
   },
   {
    "duration": 5,
    "start_time": "2022-11-21T10:48:53.276Z"
   },
   {
    "duration": 34493,
    "start_time": "2022-11-21T10:48:53.282Z"
   },
   {
    "duration": 2,
    "start_time": "2022-11-21T10:49:27.777Z"
   },
   {
    "duration": 5,
    "start_time": "2022-11-21T10:49:27.781Z"
   },
   {
    "duration": 6,
    "start_time": "2022-11-21T10:49:27.788Z"
   },
   {
    "duration": 5,
    "start_time": "2022-11-21T10:49:27.796Z"
   },
   {
    "duration": 5,
    "start_time": "2022-11-21T10:49:27.803Z"
   },
   {
    "duration": 10,
    "start_time": "2022-11-21T10:49:27.838Z"
   },
   {
    "duration": 5,
    "start_time": "2022-11-21T10:49:27.849Z"
   },
   {
    "duration": 14,
    "start_time": "2022-11-21T10:49:27.856Z"
   },
   {
    "duration": 5,
    "start_time": "2022-11-21T10:49:27.873Z"
   },
   {
    "duration": 123826,
    "start_time": "2022-11-21T10:49:27.880Z"
   },
   {
    "duration": 2,
    "start_time": "2022-11-21T10:51:31.708Z"
   },
   {
    "duration": 12,
    "start_time": "2022-11-21T10:51:31.712Z"
   },
   {
    "duration": 14,
    "start_time": "2022-11-21T10:51:31.726Z"
   },
   {
    "duration": 46,
    "start_time": "2022-11-21T10:51:31.742Z"
   },
   {
    "duration": 4,
    "start_time": "2022-11-21T10:51:31.790Z"
   },
   {
    "duration": 4,
    "start_time": "2022-11-21T10:57:13.420Z"
   },
   {
    "duration": 50,
    "start_time": "2022-11-21T10:57:13.426Z"
   },
   {
    "duration": 13,
    "start_time": "2022-11-21T10:57:13.477Z"
   },
   {
    "duration": 12,
    "start_time": "2022-11-21T10:57:13.491Z"
   },
   {
    "duration": 9,
    "start_time": "2022-11-21T10:57:13.504Z"
   },
   {
    "duration": 3,
    "start_time": "2022-11-21T10:57:13.515Z"
   },
   {
    "duration": 39,
    "start_time": "2022-11-21T10:57:13.520Z"
   },
   {
    "duration": 13,
    "start_time": "2022-11-21T10:57:13.561Z"
   },
   {
    "duration": 8,
    "start_time": "2022-11-21T10:57:13.575Z"
   },
   {
    "duration": 9,
    "start_time": "2022-11-21T10:57:13.584Z"
   },
   {
    "duration": 7,
    "start_time": "2022-11-21T10:57:13.594Z"
   },
   {
    "duration": 32,
    "start_time": "2022-11-21T10:57:13.603Z"
   },
   {
    "duration": 23,
    "start_time": "2022-11-21T10:57:13.640Z"
   },
   {
    "duration": 7,
    "start_time": "2022-11-21T10:57:13.665Z"
   },
   {
    "duration": 11,
    "start_time": "2022-11-21T10:57:13.674Z"
   },
   {
    "duration": 5,
    "start_time": "2022-11-21T10:57:13.687Z"
   },
   {
    "duration": 7,
    "start_time": "2022-11-21T10:57:13.694Z"
   },
   {
    "duration": 38971,
    "start_time": "2022-11-21T10:57:13.703Z"
   },
   {
    "duration": 2,
    "start_time": "2022-11-21T10:57:52.676Z"
   },
   {
    "duration": 6,
    "start_time": "2022-11-21T10:57:52.679Z"
   },
   {
    "duration": 6,
    "start_time": "2022-11-21T10:57:52.739Z"
   },
   {
    "duration": 233,
    "start_time": "2022-11-21T10:57:52.748Z"
   },
   {
    "duration": 0,
    "start_time": "2022-11-21T10:57:52.982Z"
   },
   {
    "duration": 0,
    "start_time": "2022-11-21T10:57:52.983Z"
   },
   {
    "duration": 0,
    "start_time": "2022-11-21T10:57:52.984Z"
   },
   {
    "duration": 0,
    "start_time": "2022-11-21T10:57:52.985Z"
   },
   {
    "duration": 0,
    "start_time": "2022-11-21T10:57:52.986Z"
   },
   {
    "duration": 0,
    "start_time": "2022-11-21T10:57:52.987Z"
   },
   {
    "duration": 0,
    "start_time": "2022-11-21T10:57:52.988Z"
   },
   {
    "duration": 0,
    "start_time": "2022-11-21T10:57:52.989Z"
   },
   {
    "duration": 0,
    "start_time": "2022-11-21T10:57:52.990Z"
   },
   {
    "duration": 0,
    "start_time": "2022-11-21T10:57:52.991Z"
   },
   {
    "duration": 0,
    "start_time": "2022-11-21T10:57:52.992Z"
   },
   {
    "duration": 4,
    "start_time": "2022-11-21T10:59:53.619Z"
   },
   {
    "duration": 52,
    "start_time": "2022-11-21T10:59:53.625Z"
   },
   {
    "duration": 12,
    "start_time": "2022-11-21T10:59:53.679Z"
   },
   {
    "duration": 13,
    "start_time": "2022-11-21T10:59:53.693Z"
   },
   {
    "duration": 8,
    "start_time": "2022-11-21T10:59:53.708Z"
   },
   {
    "duration": 4,
    "start_time": "2022-11-21T10:59:53.718Z"
   },
   {
    "duration": 6,
    "start_time": "2022-11-21T10:59:53.723Z"
   },
   {
    "duration": 13,
    "start_time": "2022-11-21T10:59:53.730Z"
   },
   {
    "duration": 11,
    "start_time": "2022-11-21T10:59:53.750Z"
   },
   {
    "duration": 7,
    "start_time": "2022-11-21T10:59:53.763Z"
   },
   {
    "duration": 4,
    "start_time": "2022-11-21T10:59:53.771Z"
   },
   {
    "duration": 25,
    "start_time": "2022-11-21T10:59:53.777Z"
   },
   {
    "duration": 38,
    "start_time": "2022-11-21T10:59:53.803Z"
   },
   {
    "duration": 13,
    "start_time": "2022-11-21T10:59:53.851Z"
   },
   {
    "duration": 12,
    "start_time": "2022-11-21T10:59:53.866Z"
   },
   {
    "duration": 4,
    "start_time": "2022-11-21T10:59:53.881Z"
   },
   {
    "duration": 5,
    "start_time": "2022-11-21T10:59:53.887Z"
   },
   {
    "duration": 34910,
    "start_time": "2022-11-21T10:59:53.894Z"
   },
   {
    "duration": 3,
    "start_time": "2022-11-21T11:00:28.806Z"
   },
   {
    "duration": 11,
    "start_time": "2022-11-21T11:00:28.811Z"
   },
   {
    "duration": 25,
    "start_time": "2022-11-21T11:00:28.825Z"
   },
   {
    "duration": 5,
    "start_time": "2022-11-21T11:00:44.769Z"
   },
   {
    "duration": 19,
    "start_time": "2022-11-21T11:01:48.947Z"
   },
   {
    "duration": 11,
    "start_time": "2022-11-21T11:02:23.139Z"
   },
   {
    "duration": 9,
    "start_time": "2022-11-21T11:02:33.972Z"
   },
   {
    "duration": 12,
    "start_time": "2022-11-21T11:02:59.291Z"
   },
   {
    "duration": 17,
    "start_time": "2022-11-21T11:06:25.384Z"
   },
   {
    "duration": 16,
    "start_time": "2022-11-21T11:06:27.421Z"
   },
   {
    "duration": 5,
    "start_time": "2022-11-21T11:06:41.912Z"
   },
   {
    "duration": 28,
    "start_time": "2022-11-21T11:06:41.919Z"
   },
   {
    "duration": 33,
    "start_time": "2022-11-21T11:06:41.948Z"
   },
   {
    "duration": 5,
    "start_time": "2022-11-21T11:06:41.983Z"
   },
   {
    "duration": 12,
    "start_time": "2022-11-21T11:06:41.990Z"
   },
   {
    "duration": 122663,
    "start_time": "2022-11-21T11:06:42.004Z"
   },
   {
    "duration": 3,
    "start_time": "2022-11-21T11:08:44.669Z"
   },
   {
    "duration": 5,
    "start_time": "2022-11-21T11:08:44.673Z"
   },
   {
    "duration": 6,
    "start_time": "2022-11-21T11:08:44.679Z"
   },
   {
    "duration": 59,
    "start_time": "2022-11-21T11:08:44.686Z"
   },
   {
    "duration": 4,
    "start_time": "2022-11-21T11:08:44.746Z"
   },
   {
    "duration": 14,
    "start_time": "2022-11-21T11:09:24.804Z"
   },
   {
    "duration": 4,
    "start_time": "2022-11-21T11:10:12.079Z"
   },
   {
    "duration": 45,
    "start_time": "2022-11-21T11:10:12.085Z"
   },
   {
    "duration": 12,
    "start_time": "2022-11-21T11:10:12.131Z"
   },
   {
    "duration": 14,
    "start_time": "2022-11-21T11:10:12.144Z"
   },
   {
    "duration": 10,
    "start_time": "2022-11-21T11:10:12.160Z"
   },
   {
    "duration": 4,
    "start_time": "2022-11-21T11:10:12.172Z"
   },
   {
    "duration": 6,
    "start_time": "2022-11-21T11:10:12.178Z"
   },
   {
    "duration": 7,
    "start_time": "2022-11-21T11:10:12.186Z"
   },
   {
    "duration": 6,
    "start_time": "2022-11-21T11:10:12.194Z"
   },
   {
    "duration": 39,
    "start_time": "2022-11-21T11:10:12.201Z"
   },
   {
    "duration": 4,
    "start_time": "2022-11-21T11:10:12.241Z"
   },
   {
    "duration": 35,
    "start_time": "2022-11-21T11:10:12.246Z"
   },
   {
    "duration": 15,
    "start_time": "2022-11-21T11:10:12.283Z"
   },
   {
    "duration": 5,
    "start_time": "2022-11-21T11:10:12.301Z"
   },
   {
    "duration": 16,
    "start_time": "2022-11-21T11:10:12.307Z"
   },
   {
    "duration": 3,
    "start_time": "2022-11-21T11:10:12.325Z"
   },
   {
    "duration": 5,
    "start_time": "2022-11-21T11:10:12.338Z"
   },
   {
    "duration": 35297,
    "start_time": "2022-11-21T11:10:12.344Z"
   },
   {
    "duration": 2,
    "start_time": "2022-11-21T11:10:47.643Z"
   },
   {
    "duration": 7,
    "start_time": "2022-11-21T11:10:47.647Z"
   },
   {
    "duration": 7,
    "start_time": "2022-11-21T11:10:47.656Z"
   },
   {
    "duration": 8,
    "start_time": "2022-11-21T11:10:47.664Z"
   },
   {
    "duration": 16,
    "start_time": "2022-11-21T11:10:47.673Z"
   },
   {
    "duration": 4,
    "start_time": "2022-11-21T11:10:47.691Z"
   },
   {
    "duration": 5,
    "start_time": "2022-11-21T11:10:47.696Z"
   },
   {
    "duration": 36,
    "start_time": "2022-11-21T11:10:47.702Z"
   },
   {
    "duration": 5,
    "start_time": "2022-11-21T11:10:47.739Z"
   },
   {
    "duration": 9,
    "start_time": "2022-11-21T11:10:47.746Z"
   },
   {
    "duration": 122931,
    "start_time": "2022-11-21T11:10:47.757Z"
   },
   {
    "duration": 2,
    "start_time": "2022-11-21T11:12:50.690Z"
   },
   {
    "duration": 8,
    "start_time": "2022-11-21T11:12:50.694Z"
   },
   {
    "duration": 7,
    "start_time": "2022-11-21T11:12:50.704Z"
   },
   {
    "duration": 52,
    "start_time": "2022-11-21T11:12:50.713Z"
   },
   {
    "duration": 4,
    "start_time": "2022-11-21T11:12:50.767Z"
   },
   {
    "duration": 3,
    "start_time": "2022-11-21T11:13:56.602Z"
   },
   {
    "duration": 53,
    "start_time": "2022-11-21T11:13:56.607Z"
   },
   {
    "duration": 12,
    "start_time": "2022-11-21T11:13:56.661Z"
   },
   {
    "duration": 12,
    "start_time": "2022-11-21T11:13:56.674Z"
   },
   {
    "duration": 13,
    "start_time": "2022-11-21T11:13:56.688Z"
   },
   {
    "duration": 11,
    "start_time": "2022-11-21T11:13:56.703Z"
   },
   {
    "duration": 14,
    "start_time": "2022-11-21T11:13:56.715Z"
   },
   {
    "duration": 10,
    "start_time": "2022-11-21T11:13:56.730Z"
   },
   {
    "duration": 17,
    "start_time": "2022-11-21T11:13:56.741Z"
   },
   {
    "duration": 14,
    "start_time": "2022-11-21T11:13:56.760Z"
   },
   {
    "duration": 5,
    "start_time": "2022-11-21T11:13:56.776Z"
   },
   {
    "duration": 31,
    "start_time": "2022-11-21T11:13:56.782Z"
   },
   {
    "duration": 14,
    "start_time": "2022-11-21T11:13:56.816Z"
   },
   {
    "duration": 6,
    "start_time": "2022-11-21T11:13:56.831Z"
   },
   {
    "duration": 16,
    "start_time": "2022-11-21T11:13:56.838Z"
   },
   {
    "duration": 3,
    "start_time": "2022-11-21T11:13:56.856Z"
   },
   {
    "duration": 9,
    "start_time": "2022-11-21T11:13:56.860Z"
   },
   {
    "duration": 34139,
    "start_time": "2022-11-21T11:13:56.870Z"
   },
   {
    "duration": 2,
    "start_time": "2022-11-21T11:14:31.011Z"
   },
   {
    "duration": 36,
    "start_time": "2022-11-21T11:14:31.015Z"
   },
   {
    "duration": 32,
    "start_time": "2022-11-21T11:14:31.053Z"
   },
   {
    "duration": 26,
    "start_time": "2022-11-21T11:14:31.087Z"
   },
   {
    "duration": 16,
    "start_time": "2022-11-21T11:14:36.998Z"
   },
   {
    "duration": 15,
    "start_time": "2022-11-21T11:15:12.879Z"
   },
   {
    "duration": 15,
    "start_time": "2022-11-21T11:15:55.728Z"
   },
   {
    "duration": 12,
    "start_time": "2022-11-21T11:16:02.239Z"
   },
   {
    "duration": 16,
    "start_time": "2022-11-21T11:16:26.139Z"
   },
   {
    "duration": 3,
    "start_time": "2022-11-21T11:18:27.090Z"
   },
   {
    "duration": 49,
    "start_time": "2022-11-21T11:18:27.095Z"
   },
   {
    "duration": 13,
    "start_time": "2022-11-21T11:18:27.146Z"
   },
   {
    "duration": 20,
    "start_time": "2022-11-21T11:18:27.160Z"
   },
   {
    "duration": 9,
    "start_time": "2022-11-21T11:18:27.183Z"
   },
   {
    "duration": 4,
    "start_time": "2022-11-21T11:18:27.194Z"
   },
   {
    "duration": 7,
    "start_time": "2022-11-21T11:18:27.200Z"
   },
   {
    "duration": 7,
    "start_time": "2022-11-21T11:18:27.208Z"
   },
   {
    "duration": 28,
    "start_time": "2022-11-21T11:18:27.217Z"
   },
   {
    "duration": 7,
    "start_time": "2022-11-21T11:18:27.246Z"
   },
   {
    "duration": 3,
    "start_time": "2022-11-21T11:18:27.255Z"
   },
   {
    "duration": 22,
    "start_time": "2022-11-21T11:18:27.260Z"
   },
   {
    "duration": 15,
    "start_time": "2022-11-21T11:18:27.283Z"
   },
   {
    "duration": 6,
    "start_time": "2022-11-21T11:18:27.301Z"
   },
   {
    "duration": 30,
    "start_time": "2022-11-21T11:18:27.308Z"
   },
   {
    "duration": 3,
    "start_time": "2022-11-21T11:18:27.339Z"
   },
   {
    "duration": 7,
    "start_time": "2022-11-21T11:18:27.344Z"
   },
   {
    "duration": 34803,
    "start_time": "2022-11-21T11:18:27.352Z"
   },
   {
    "duration": 3,
    "start_time": "2022-11-21T11:19:02.157Z"
   },
   {
    "duration": 5,
    "start_time": "2022-11-21T11:19:02.162Z"
   },
   {
    "duration": 10,
    "start_time": "2022-11-21T11:19:02.168Z"
   },
   {
    "duration": 22,
    "start_time": "2022-11-21T11:19:02.180Z"
   },
   {
    "duration": 32,
    "start_time": "2022-11-21T11:19:02.204Z"
   },
   {
    "duration": 11,
    "start_time": "2022-11-21T11:19:02.238Z"
   },
   {
    "duration": 25,
    "start_time": "2022-11-21T11:19:02.250Z"
   },
   {
    "duration": 33,
    "start_time": "2022-11-21T11:19:02.277Z"
   },
   {
    "duration": 36,
    "start_time": "2022-11-21T11:19:02.312Z"
   },
   {
    "duration": 29,
    "start_time": "2022-11-21T11:19:02.350Z"
   },
   {
    "duration": 126260,
    "start_time": "2022-11-21T11:19:02.381Z"
   },
   {
    "duration": 2,
    "start_time": "2022-11-21T11:21:08.643Z"
   },
   {
    "duration": 6,
    "start_time": "2022-11-21T11:21:08.646Z"
   },
   {
    "duration": 6,
    "start_time": "2022-11-21T11:21:08.654Z"
   },
   {
    "duration": 47,
    "start_time": "2022-11-21T11:21:08.661Z"
   },
   {
    "duration": 4,
    "start_time": "2022-11-21T11:21:08.709Z"
   },
   {
    "duration": 4,
    "start_time": "2022-11-21T11:27:48.475Z"
   },
   {
    "duration": 48,
    "start_time": "2022-11-21T11:27:48.481Z"
   },
   {
    "duration": 13,
    "start_time": "2022-11-21T11:27:48.531Z"
   },
   {
    "duration": 14,
    "start_time": "2022-11-21T11:27:48.546Z"
   },
   {
    "duration": 24,
    "start_time": "2022-11-21T11:27:48.562Z"
   },
   {
    "duration": 8,
    "start_time": "2022-11-21T11:27:48.588Z"
   },
   {
    "duration": 12,
    "start_time": "2022-11-21T11:27:48.598Z"
   },
   {
    "duration": 8,
    "start_time": "2022-11-21T11:27:48.612Z"
   },
   {
    "duration": 15,
    "start_time": "2022-11-21T11:27:48.622Z"
   },
   {
    "duration": 8,
    "start_time": "2022-11-21T11:27:48.639Z"
   },
   {
    "duration": 18,
    "start_time": "2022-11-21T11:27:48.649Z"
   },
   {
    "duration": 41,
    "start_time": "2022-11-21T11:27:48.669Z"
   },
   {
    "duration": 16,
    "start_time": "2022-11-21T11:27:48.713Z"
   },
   {
    "duration": 9,
    "start_time": "2022-11-21T11:27:48.731Z"
   },
   {
    "duration": 23,
    "start_time": "2022-11-21T11:27:48.742Z"
   },
   {
    "duration": 20,
    "start_time": "2022-11-21T11:27:48.768Z"
   },
   {
    "duration": 16,
    "start_time": "2022-11-21T11:27:48.790Z"
   },
   {
    "duration": 36284,
    "start_time": "2022-11-21T11:27:48.808Z"
   },
   {
    "duration": 3,
    "start_time": "2022-11-21T11:28:25.093Z"
   },
   {
    "duration": 19,
    "start_time": "2022-11-21T11:28:25.098Z"
   },
   {
    "duration": 10,
    "start_time": "2022-11-21T11:28:25.119Z"
   },
   {
    "duration": 13,
    "start_time": "2022-11-21T11:28:25.130Z"
   },
   {
    "duration": 18,
    "start_time": "2022-11-21T11:28:31.343Z"
   },
   {
    "duration": 18,
    "start_time": "2022-11-21T12:11:15.182Z"
   },
   {
    "duration": 31,
    "start_time": "2022-11-21T12:11:43.845Z"
   },
   {
    "duration": 11,
    "start_time": "2022-11-21T12:11:50.267Z"
   },
   {
    "duration": 17,
    "start_time": "2022-11-21T12:12:23.869Z"
   },
   {
    "duration": 15,
    "start_time": "2022-11-21T12:13:34.787Z"
   },
   {
    "duration": 11,
    "start_time": "2022-11-21T12:13:35.747Z"
   },
   {
    "duration": 6,
    "start_time": "2022-11-21T12:14:12.452Z"
   },
   {
    "duration": 19,
    "start_time": "2022-11-21T12:14:39.003Z"
   },
   {
    "duration": 5,
    "start_time": "2022-11-21T12:14:40.034Z"
   },
   {
    "duration": 4,
    "start_time": "2022-11-21T12:14:40.851Z"
   },
   {
    "duration": 8,
    "start_time": "2022-11-21T12:14:41.556Z"
   },
   {
    "duration": 4,
    "start_time": "2022-11-21T12:14:41.995Z"
   },
   {
    "duration": 4,
    "start_time": "2022-11-21T12:28:26.289Z"
   },
   {
    "duration": 50,
    "start_time": "2022-11-21T12:28:26.296Z"
   },
   {
    "duration": 13,
    "start_time": "2022-11-21T12:28:26.347Z"
   },
   {
    "duration": 12,
    "start_time": "2022-11-21T12:28:26.363Z"
   },
   {
    "duration": 15,
    "start_time": "2022-11-21T12:28:26.377Z"
   },
   {
    "duration": 7,
    "start_time": "2022-11-21T12:28:26.393Z"
   },
   {
    "duration": 6,
    "start_time": "2022-11-21T12:28:26.402Z"
   },
   {
    "duration": 29,
    "start_time": "2022-11-21T12:28:26.410Z"
   },
   {
    "duration": 8,
    "start_time": "2022-11-21T12:28:26.441Z"
   },
   {
    "duration": 8,
    "start_time": "2022-11-21T12:28:26.451Z"
   },
   {
    "duration": 5,
    "start_time": "2022-11-21T12:28:26.461Z"
   },
   {
    "duration": 25,
    "start_time": "2022-11-21T12:28:26.467Z"
   },
   {
    "duration": 43,
    "start_time": "2022-11-21T12:28:26.494Z"
   },
   {
    "duration": 6,
    "start_time": "2022-11-21T12:28:26.540Z"
   },
   {
    "duration": 12,
    "start_time": "2022-11-21T12:28:26.548Z"
   },
   {
    "duration": 6,
    "start_time": "2022-11-21T12:28:26.562Z"
   },
   {
    "duration": 5,
    "start_time": "2022-11-21T12:28:26.570Z"
   },
   {
    "duration": 38703,
    "start_time": "2022-11-21T12:28:26.577Z"
   },
   {
    "duration": 3,
    "start_time": "2022-11-21T12:29:05.282Z"
   },
   {
    "duration": 6,
    "start_time": "2022-11-21T12:29:05.286Z"
   },
   {
    "duration": 5,
    "start_time": "2022-11-21T12:29:05.293Z"
   },
   {
    "duration": 38,
    "start_time": "2022-11-21T12:29:05.299Z"
   },
   {
    "duration": 6,
    "start_time": "2022-11-21T12:29:05.340Z"
   },
   {
    "duration": 6,
    "start_time": "2022-11-21T12:29:05.348Z"
   },
   {
    "duration": 14,
    "start_time": "2022-11-21T12:29:05.356Z"
   },
   {
    "duration": 9,
    "start_time": "2022-11-21T12:29:05.372Z"
   },
   {
    "duration": 6,
    "start_time": "2022-11-21T12:29:05.383Z"
   },
   {
    "duration": 133062,
    "start_time": "2022-11-21T12:29:05.392Z"
   },
   {
    "duration": 3,
    "start_time": "2022-11-21T12:31:18.456Z"
   },
   {
    "duration": 7,
    "start_time": "2022-11-21T12:31:18.461Z"
   },
   {
    "duration": 5,
    "start_time": "2022-11-21T12:31:18.470Z"
   },
   {
    "duration": 40,
    "start_time": "2022-11-21T12:31:18.477Z"
   },
   {
    "duration": 40,
    "start_time": "2022-11-21T12:31:37.103Z"
   },
   {
    "duration": 5,
    "start_time": "2022-11-21T12:31:37.641Z"
   },
   {
    "duration": 5,
    "start_time": "2022-11-21T12:32:26.001Z"
   },
   {
    "duration": 127820,
    "start_time": "2022-11-21T12:32:26.472Z"
   },
   {
    "duration": 2,
    "start_time": "2022-11-21T12:34:34.294Z"
   },
   {
    "duration": 5,
    "start_time": "2022-11-21T12:34:34.298Z"
   },
   {
    "duration": 12,
    "start_time": "2022-11-21T12:34:34.305Z"
   },
   {
    "duration": 48,
    "start_time": "2022-11-21T12:34:34.318Z"
   },
   {
    "duration": 4,
    "start_time": "2022-11-21T12:34:34.368Z"
   },
   {
    "duration": 3,
    "start_time": "2022-11-21T12:36:22.642Z"
   },
   {
    "duration": 127195,
    "start_time": "2022-11-21T12:36:30.132Z"
   },
   {
    "duration": 9,
    "start_time": "2022-11-21T12:38:37.329Z"
   },
   {
    "duration": 4,
    "start_time": "2022-11-21T12:38:37.339Z"
   },
   {
    "duration": 6,
    "start_time": "2022-11-21T12:38:37.345Z"
   },
   {
    "duration": 45,
    "start_time": "2022-11-21T12:38:37.353Z"
   },
   {
    "duration": 4,
    "start_time": "2022-11-21T12:38:37.400Z"
   },
   {
    "duration": 38,
    "start_time": "2022-11-21T12:40:47.099Z"
   },
   {
    "duration": 5,
    "start_time": "2022-11-21T12:40:47.658Z"
   },
   {
    "duration": 60,
    "start_time": "2022-11-21T12:43:08.580Z"
   },
   {
    "duration": 4,
    "start_time": "2022-11-21T12:43:11.885Z"
   },
   {
    "duration": 4,
    "start_time": "2022-11-21T12:44:41.471Z"
   },
   {
    "duration": 127114,
    "start_time": "2022-11-21T12:44:42.004Z"
   },
   {
    "duration": 3,
    "start_time": "2022-11-21T12:46:49.121Z"
   },
   {
    "duration": 7,
    "start_time": "2022-11-21T12:46:49.138Z"
   },
   {
    "duration": 6,
    "start_time": "2022-11-21T12:46:49.147Z"
   },
   {
    "duration": 56,
    "start_time": "2022-11-21T12:46:49.155Z"
   },
   {
    "duration": 25,
    "start_time": "2022-11-21T12:46:49.212Z"
   },
   {
    "duration": 5,
    "start_time": "2022-11-21T12:55:17.970Z"
   },
   {
    "duration": 47,
    "start_time": "2022-11-21T12:55:17.977Z"
   },
   {
    "duration": 14,
    "start_time": "2022-11-21T12:55:18.036Z"
   },
   {
    "duration": 15,
    "start_time": "2022-11-21T12:55:18.052Z"
   },
   {
    "duration": 9,
    "start_time": "2022-11-21T12:55:18.069Z"
   },
   {
    "duration": 4,
    "start_time": "2022-11-21T12:55:18.080Z"
   },
   {
    "duration": 5,
    "start_time": "2022-11-21T12:55:18.086Z"
   },
   {
    "duration": 6,
    "start_time": "2022-11-21T12:55:18.092Z"
   },
   {
    "duration": 8,
    "start_time": "2022-11-21T12:55:18.100Z"
   },
   {
    "duration": 8,
    "start_time": "2022-11-21T12:55:18.137Z"
   },
   {
    "duration": 5,
    "start_time": "2022-11-21T12:55:18.146Z"
   },
   {
    "duration": 23,
    "start_time": "2022-11-21T12:55:18.153Z"
   },
   {
    "duration": 15,
    "start_time": "2022-11-21T12:55:18.178Z"
   },
   {
    "duration": 7,
    "start_time": "2022-11-21T12:55:18.195Z"
   },
   {
    "duration": 40,
    "start_time": "2022-11-21T12:55:18.203Z"
   },
   {
    "duration": 11,
    "start_time": "2022-11-21T12:55:18.245Z"
   },
   {
    "duration": 7,
    "start_time": "2022-11-21T12:55:18.257Z"
   },
   {
    "duration": 6,
    "start_time": "2022-11-21T12:55:18.265Z"
   },
   {
    "duration": 34454,
    "start_time": "2022-11-21T12:55:18.272Z"
   },
   {
    "duration": 11,
    "start_time": "2022-11-21T12:55:52.727Z"
   },
   {
    "duration": 3,
    "start_time": "2022-11-21T12:55:52.739Z"
   },
   {
    "duration": 7,
    "start_time": "2022-11-21T12:55:52.743Z"
   },
   {
    "duration": 3,
    "start_time": "2022-11-21T13:32:01.051Z"
   },
   {
    "duration": 62,
    "start_time": "2022-11-21T13:32:01.056Z"
   },
   {
    "duration": 12,
    "start_time": "2022-11-21T13:32:01.120Z"
   },
   {
    "duration": 13,
    "start_time": "2022-11-21T13:32:01.134Z"
   },
   {
    "duration": 12,
    "start_time": "2022-11-21T13:32:01.150Z"
   },
   {
    "duration": 5,
    "start_time": "2022-11-21T13:32:01.163Z"
   },
   {
    "duration": 8,
    "start_time": "2022-11-21T13:32:01.169Z"
   },
   {
    "duration": 8,
    "start_time": "2022-11-21T13:32:01.179Z"
   },
   {
    "duration": 6,
    "start_time": "2022-11-21T13:32:01.189Z"
   },
   {
    "duration": 10,
    "start_time": "2022-11-21T13:32:01.196Z"
   },
   {
    "duration": 7,
    "start_time": "2022-11-21T13:32:01.207Z"
   },
   {
    "duration": 25,
    "start_time": "2022-11-21T13:32:01.238Z"
   },
   {
    "duration": 28,
    "start_time": "2022-11-21T13:32:01.265Z"
   },
   {
    "duration": 8,
    "start_time": "2022-11-21T13:32:01.296Z"
   },
   {
    "duration": 12,
    "start_time": "2022-11-21T13:32:01.306Z"
   },
   {
    "duration": 7,
    "start_time": "2022-11-21T13:32:01.319Z"
   },
   {
    "duration": 12,
    "start_time": "2022-11-21T13:32:01.328Z"
   },
   {
    "duration": 9,
    "start_time": "2022-11-21T13:32:01.342Z"
   },
   {
    "duration": 35086,
    "start_time": "2022-11-21T13:32:01.352Z"
   },
   {
    "duration": 3,
    "start_time": "2022-11-21T13:32:36.440Z"
   },
   {
    "duration": 24,
    "start_time": "2022-11-21T13:32:36.445Z"
   },
   {
    "duration": 44,
    "start_time": "2022-11-21T13:32:36.471Z"
   },
   {
    "duration": 47,
    "start_time": "2022-11-21T13:32:36.516Z"
   },
   {
    "duration": 22,
    "start_time": "2022-11-21T13:32:36.565Z"
   },
   {
    "duration": 38,
    "start_time": "2022-11-21T13:32:36.588Z"
   },
   {
    "duration": 37,
    "start_time": "2022-11-21T13:32:36.628Z"
   },
   {
    "duration": 15,
    "start_time": "2022-11-21T13:32:36.667Z"
   },
   {
    "duration": 124928,
    "start_time": "2022-11-21T13:32:36.683Z"
   },
   {
    "duration": 3,
    "start_time": "2022-11-21T13:34:41.613Z"
   },
   {
    "duration": 19,
    "start_time": "2022-11-21T13:34:41.618Z"
   },
   {
    "duration": 8,
    "start_time": "2022-11-21T13:34:41.639Z"
   },
   {
    "duration": 51,
    "start_time": "2022-11-21T13:34:41.649Z"
   },
   {
    "duration": 4,
    "start_time": "2022-11-21T13:34:41.702Z"
   },
   {
    "duration": 4,
    "start_time": "2022-11-21T13:52:23.350Z"
   },
   {
    "duration": 5,
    "start_time": "2022-11-21T13:54:17.828Z"
   },
   {
    "duration": 59,
    "start_time": "2022-11-21T13:54:17.835Z"
   },
   {
    "duration": 12,
    "start_time": "2022-11-21T13:54:17.895Z"
   },
   {
    "duration": 13,
    "start_time": "2022-11-21T13:54:17.909Z"
   },
   {
    "duration": 10,
    "start_time": "2022-11-21T13:54:17.924Z"
   },
   {
    "duration": 10,
    "start_time": "2022-11-21T13:54:17.936Z"
   },
   {
    "duration": 5,
    "start_time": "2022-11-21T13:54:17.948Z"
   },
   {
    "duration": 8,
    "start_time": "2022-11-21T13:54:17.954Z"
   },
   {
    "duration": 7,
    "start_time": "2022-11-21T13:54:17.964Z"
   },
   {
    "duration": 7,
    "start_time": "2022-11-21T13:54:17.973Z"
   },
   {
    "duration": 9,
    "start_time": "2022-11-21T13:54:17.982Z"
   },
   {
    "duration": 28,
    "start_time": "2022-11-21T13:54:17.993Z"
   },
   {
    "duration": 29,
    "start_time": "2022-11-21T13:54:18.022Z"
   },
   {
    "duration": 8,
    "start_time": "2022-11-21T13:54:18.053Z"
   },
   {
    "duration": 15,
    "start_time": "2022-11-21T13:54:18.063Z"
   },
   {
    "duration": 70,
    "start_time": "2022-11-21T13:54:20.268Z"
   },
   {
    "duration": 69,
    "start_time": "2022-11-21T13:54:30.770Z"
   },
   {
    "duration": 18,
    "start_time": "2022-11-21T13:54:44.545Z"
   },
   {
    "duration": 66,
    "start_time": "2022-11-21T13:54:50.262Z"
   },
   {
    "duration": 70,
    "start_time": "2022-11-21T13:56:14.654Z"
   },
   {
    "duration": 83,
    "start_time": "2022-11-21T13:56:22.406Z"
   },
   {
    "duration": 107,
    "start_time": "2022-11-21T13:56:54.390Z"
   },
   {
    "duration": 98,
    "start_time": "2022-11-21T13:57:03.853Z"
   },
   {
    "duration": 195,
    "start_time": "2022-11-21T13:57:16.629Z"
   },
   {
    "duration": 98,
    "start_time": "2022-11-21T13:57:25.573Z"
   },
   {
    "duration": 99,
    "start_time": "2022-11-21T13:57:34.765Z"
   },
   {
    "duration": 15,
    "start_time": "2022-11-21T13:58:05.161Z"
   },
   {
    "duration": 12,
    "start_time": "2022-11-21T13:58:13.486Z"
   },
   {
    "duration": 16,
    "start_time": "2022-11-21T13:58:32.147Z"
   },
   {
    "duration": 123,
    "start_time": "2022-11-21T13:59:19.565Z"
   },
   {
    "duration": 148,
    "start_time": "2022-11-21T13:59:47.110Z"
   },
   {
    "duration": 5,
    "start_time": "2022-11-21T14:01:13.649Z"
   },
   {
    "duration": 96,
    "start_time": "2022-11-21T14:01:13.655Z"
   },
   {
    "duration": 14,
    "start_time": "2022-11-21T14:01:13.753Z"
   },
   {
    "duration": 28,
    "start_time": "2022-11-21T14:01:13.769Z"
   },
   {
    "duration": 43,
    "start_time": "2022-11-21T14:01:13.799Z"
   },
   {
    "duration": 51,
    "start_time": "2022-11-21T14:01:13.845Z"
   },
   {
    "duration": 55,
    "start_time": "2022-11-21T14:01:13.898Z"
   },
   {
    "duration": 30,
    "start_time": "2022-11-21T14:01:13.954Z"
   },
   {
    "duration": 43,
    "start_time": "2022-11-21T14:01:13.986Z"
   },
   {
    "duration": 40,
    "start_time": "2022-11-21T14:01:14.031Z"
   },
   {
    "duration": 44,
    "start_time": "2022-11-21T14:01:14.073Z"
   },
   {
    "duration": 73,
    "start_time": "2022-11-21T14:01:14.120Z"
   },
   {
    "duration": 22,
    "start_time": "2022-11-21T14:01:14.195Z"
   },
   {
    "duration": 14,
    "start_time": "2022-11-21T14:01:14.219Z"
   },
   {
    "duration": 33,
    "start_time": "2022-11-21T14:01:14.235Z"
   },
   {
    "duration": 154,
    "start_time": "2022-11-21T14:01:14.269Z"
   },
   {
    "duration": 3,
    "start_time": "2022-11-21T14:01:14.424Z"
   },
   {
    "duration": 28,
    "start_time": "2022-11-21T14:01:14.428Z"
   },
   {
    "duration": 37809,
    "start_time": "2022-11-21T14:01:14.458Z"
   },
   {
    "duration": 3,
    "start_time": "2022-11-21T14:01:52.269Z"
   },
   {
    "duration": 8,
    "start_time": "2022-11-21T14:01:52.273Z"
   },
   {
    "duration": 17,
    "start_time": "2022-11-21T14:01:52.283Z"
   },
   {
    "duration": 17,
    "start_time": "2022-11-21T14:01:52.301Z"
   },
   {
    "duration": 10,
    "start_time": "2022-11-21T14:01:52.320Z"
   },
   {
    "duration": 19,
    "start_time": "2022-11-21T14:01:52.331Z"
   },
   {
    "duration": 96,
    "start_time": "2022-11-21T14:01:52.351Z"
   },
   {
    "duration": 103,
    "start_time": "2022-11-21T14:02:24.965Z"
   },
   {
    "duration": 118,
    "start_time": "2022-11-21T14:02:52.827Z"
   },
   {
    "duration": 5,
    "start_time": "2022-11-21T14:03:35.325Z"
   },
   {
    "duration": 128529,
    "start_time": "2022-11-21T14:03:35.501Z"
   },
   {
    "duration": 3,
    "start_time": "2022-11-21T14:05:44.036Z"
   },
   {
    "duration": 6,
    "start_time": "2022-11-21T14:05:44.041Z"
   },
   {
    "duration": 8,
    "start_time": "2022-11-21T14:05:44.049Z"
   },
   {
    "duration": 51,
    "start_time": "2022-11-21T14:05:44.058Z"
   },
   {
    "duration": 4,
    "start_time": "2022-11-21T14:05:44.111Z"
   },
   {
    "duration": 2460,
    "start_time": "2022-11-21T17:54:10.553Z"
   },
   {
    "duration": 47,
    "start_time": "2022-11-21T17:54:13.015Z"
   },
   {
    "duration": 16,
    "start_time": "2022-11-21T17:54:13.064Z"
   },
   {
    "duration": 30,
    "start_time": "2022-11-21T17:54:13.082Z"
   },
   {
    "duration": 8,
    "start_time": "2022-11-21T17:54:13.114Z"
   },
   {
    "duration": 10,
    "start_time": "2022-11-21T17:54:13.123Z"
   },
   {
    "duration": 7,
    "start_time": "2022-11-21T17:54:13.134Z"
   },
   {
    "duration": 6,
    "start_time": "2022-11-21T17:54:13.142Z"
   },
   {
    "duration": 28,
    "start_time": "2022-11-21T17:54:13.150Z"
   },
   {
    "duration": 10,
    "start_time": "2022-11-21T17:54:13.179Z"
   },
   {
    "duration": 4,
    "start_time": "2022-11-21T17:54:13.190Z"
   },
   {
    "duration": 28,
    "start_time": "2022-11-21T17:54:13.195Z"
   },
   {
    "duration": 17,
    "start_time": "2022-11-21T17:54:13.225Z"
   },
   {
    "duration": 33,
    "start_time": "2022-11-21T17:54:13.245Z"
   },
   {
    "duration": 13,
    "start_time": "2022-11-21T17:54:13.280Z"
   },
   {
    "duration": 149,
    "start_time": "2022-11-21T17:54:13.295Z"
   },
   {
    "duration": 4,
    "start_time": "2022-11-21T17:54:13.446Z"
   },
   {
    "duration": 8,
    "start_time": "2022-11-21T17:54:13.451Z"
   },
   {
    "duration": 36683,
    "start_time": "2022-11-21T17:54:13.461Z"
   },
   {
    "duration": 2,
    "start_time": "2022-11-21T17:54:50.145Z"
   },
   {
    "duration": 6,
    "start_time": "2022-11-21T17:54:50.149Z"
   },
   {
    "duration": 6,
    "start_time": "2022-11-21T17:54:50.156Z"
   },
   {
    "duration": 29,
    "start_time": "2022-11-21T17:54:50.163Z"
   },
   {
    "duration": 4,
    "start_time": "2022-11-21T17:54:50.193Z"
   },
   {
    "duration": 12,
    "start_time": "2022-11-21T17:54:50.198Z"
   },
   {
    "duration": 143,
    "start_time": "2022-11-21T17:54:50.212Z"
   },
   {
    "duration": 4,
    "start_time": "2022-11-21T17:54:50.357Z"
   },
   {
    "duration": 130726,
    "start_time": "2022-11-21T17:54:50.363Z"
   },
   {
    "duration": 2,
    "start_time": "2022-11-21T17:57:01.091Z"
   },
   {
    "duration": 11,
    "start_time": "2022-11-21T17:57:01.095Z"
   },
   {
    "duration": 8,
    "start_time": "2022-11-21T17:57:01.108Z"
   },
   {
    "duration": 49,
    "start_time": "2022-11-21T17:57:01.117Z"
   },
   {
    "duration": 4,
    "start_time": "2022-11-21T17:57:01.178Z"
   },
   {
    "duration": 4,
    "start_time": "2022-11-21T18:01:19.465Z"
   },
   {
    "duration": 4,
    "start_time": "2022-11-21T18:02:13.151Z"
   },
   {
    "duration": 144,
    "start_time": "2022-11-21T18:03:35.010Z"
   },
   {
    "duration": 2049,
    "start_time": "2022-11-21T21:44:27.049Z"
   },
   {
    "duration": 193,
    "start_time": "2022-11-21T21:44:29.101Z"
   },
   {
    "duration": 14,
    "start_time": "2022-11-21T21:44:29.296Z"
   },
   {
    "duration": 50,
    "start_time": "2022-11-21T21:44:29.312Z"
   },
   {
    "duration": 22,
    "start_time": "2022-11-21T21:44:29.366Z"
   },
   {
    "duration": 25,
    "start_time": "2022-11-21T21:44:29.390Z"
   },
   {
    "duration": 16,
    "start_time": "2022-11-21T21:44:29.418Z"
   },
   {
    "duration": 45,
    "start_time": "2022-11-21T21:44:29.436Z"
   },
   {
    "duration": 16,
    "start_time": "2022-11-21T21:44:29.483Z"
   },
   {
    "duration": 25,
    "start_time": "2022-11-21T21:44:29.500Z"
   },
   {
    "duration": 16,
    "start_time": "2022-11-21T21:44:29.527Z"
   },
   {
    "duration": 74,
    "start_time": "2022-11-21T21:44:29.545Z"
   },
   {
    "duration": 19,
    "start_time": "2022-11-21T21:44:29.621Z"
   },
   {
    "duration": 51,
    "start_time": "2022-11-21T21:44:29.645Z"
   },
   {
    "duration": 36,
    "start_time": "2022-11-21T21:44:29.698Z"
   },
   {
    "duration": 65,
    "start_time": "2022-11-21T21:44:29.736Z"
   },
   {
    "duration": 230,
    "start_time": "2022-11-21T21:44:29.803Z"
   },
   {
    "duration": 3,
    "start_time": "2022-11-21T21:44:30.035Z"
   },
   {
    "duration": 49,
    "start_time": "2022-11-21T21:44:30.050Z"
   },
   {
    "duration": 40766,
    "start_time": "2022-11-21T21:44:30.101Z"
   },
   {
    "duration": 21,
    "start_time": "2022-11-21T21:45:10.868Z"
   },
   {
    "duration": 2,
    "start_time": "2022-11-21T21:45:10.894Z"
   },
   {
    "duration": 8,
    "start_time": "2022-11-21T21:45:10.898Z"
   },
   {
    "duration": 26,
    "start_time": "2022-11-21T21:45:10.909Z"
   },
   {
    "duration": 6,
    "start_time": "2022-11-21T21:45:10.937Z"
   },
   {
    "duration": 33,
    "start_time": "2022-11-21T21:45:10.959Z"
   },
   {
    "duration": 154,
    "start_time": "2022-11-21T21:45:10.995Z"
   },
   {
    "duration": 14,
    "start_time": "2022-11-21T21:45:11.153Z"
   },
   {
    "duration": 150037,
    "start_time": "2022-11-21T21:45:11.173Z"
   },
   {
    "duration": 3,
    "start_time": "2022-11-21T21:47:41.212Z"
   },
   {
    "duration": 6,
    "start_time": "2022-11-21T21:47:41.217Z"
   },
   {
    "duration": 6,
    "start_time": "2022-11-21T21:47:41.225Z"
   },
   {
    "duration": 89,
    "start_time": "2022-11-21T21:47:41.233Z"
   },
   {
    "duration": 5,
    "start_time": "2022-11-21T21:47:41.324Z"
   },
   {
    "duration": 89,
    "start_time": "2022-11-22T08:55:50.521Z"
   },
   {
    "duration": 2129,
    "start_time": "2022-11-22T20:49:17.464Z"
   },
   {
    "duration": 123,
    "start_time": "2022-11-22T20:49:19.602Z"
   },
   {
    "duration": 21,
    "start_time": "2022-11-22T20:49:19.727Z"
   },
   {
    "duration": 64,
    "start_time": "2022-11-22T20:49:19.750Z"
   },
   {
    "duration": 8,
    "start_time": "2022-11-22T20:49:19.817Z"
   },
   {
    "duration": 14,
    "start_time": "2022-11-22T20:49:19.827Z"
   },
   {
    "duration": 63,
    "start_time": "2022-11-22T20:49:19.845Z"
   },
   {
    "duration": 33,
    "start_time": "2022-11-22T20:49:19.910Z"
   },
   {
    "duration": 57,
    "start_time": "2022-11-22T20:49:19.945Z"
   },
   {
    "duration": 24,
    "start_time": "2022-11-22T20:49:20.004Z"
   },
   {
    "duration": 71,
    "start_time": "2022-11-22T20:49:20.030Z"
   },
   {
    "duration": 38,
    "start_time": "2022-11-22T20:49:20.103Z"
   },
   {
    "duration": 50,
    "start_time": "2022-11-22T20:49:20.143Z"
   },
   {
    "duration": 27,
    "start_time": "2022-11-22T20:49:20.196Z"
   },
   {
    "duration": 74,
    "start_time": "2022-11-22T20:49:20.225Z"
   },
   {
    "duration": 33,
    "start_time": "2022-11-22T20:49:20.301Z"
   },
   {
    "duration": 244,
    "start_time": "2022-11-22T20:49:20.339Z"
   },
   {
    "duration": 6,
    "start_time": "2022-11-22T20:49:20.588Z"
   },
   {
    "duration": 38,
    "start_time": "2022-11-22T20:49:20.596Z"
   },
   {
    "duration": 35193,
    "start_time": "2022-11-22T20:49:20.636Z"
   },
   {
    "duration": 3,
    "start_time": "2022-11-22T20:49:55.831Z"
   },
   {
    "duration": 72,
    "start_time": "2022-11-22T20:49:55.838Z"
   },
   {
    "duration": 12,
    "start_time": "2022-11-22T20:49:55.912Z"
   },
   {
    "duration": 90,
    "start_time": "2022-11-22T20:49:55.926Z"
   },
   {
    "duration": 38,
    "start_time": "2022-11-22T20:49:56.018Z"
   },
   {
    "duration": 83,
    "start_time": "2022-11-22T20:49:56.058Z"
   },
   {
    "duration": 278,
    "start_time": "2022-11-22T20:49:56.143Z"
   },
   {
    "duration": 5,
    "start_time": "2022-11-22T20:49:56.424Z"
   },
   {
    "duration": 121481,
    "start_time": "2022-11-22T20:49:56.431Z"
   },
   {
    "duration": 3,
    "start_time": "2022-11-22T20:51:57.914Z"
   },
   {
    "duration": 8,
    "start_time": "2022-11-22T20:51:57.918Z"
   },
   {
    "duration": 18,
    "start_time": "2022-11-22T20:51:57.928Z"
   },
   {
    "duration": 85,
    "start_time": "2022-11-22T20:51:57.948Z"
   },
   {
    "duration": 9,
    "start_time": "2022-11-22T20:51:58.036Z"
   },
   {
    "duration": 12,
    "start_time": "2022-11-22T20:53:19.477Z"
   },
   {
    "duration": 22499,
    "start_time": "2022-11-22T20:53:20.008Z"
   },
   {
    "duration": 18,
    "start_time": "2022-11-22T20:53:42.509Z"
   },
   {
    "duration": 0,
    "start_time": "2022-11-22T20:53:42.530Z"
   },
   {
    "duration": 0,
    "start_time": "2022-11-22T20:53:42.532Z"
   },
   {
    "duration": 5,
    "start_time": "2022-11-22T20:53:52.219Z"
   },
   {
    "duration": 108,
    "start_time": "2022-11-22T20:53:52.226Z"
   },
   {
    "duration": 18,
    "start_time": "2022-11-22T20:53:52.345Z"
   },
   {
    "duration": 68,
    "start_time": "2022-11-22T20:53:52.366Z"
   },
   {
    "duration": 77,
    "start_time": "2022-11-22T20:53:52.439Z"
   },
   {
    "duration": 47,
    "start_time": "2022-11-22T20:53:52.518Z"
   },
   {
    "duration": 40,
    "start_time": "2022-11-22T20:53:52.573Z"
   },
   {
    "duration": 26,
    "start_time": "2022-11-22T20:53:52.616Z"
   },
   {
    "duration": 114,
    "start_time": "2022-11-22T20:53:52.647Z"
   },
   {
    "duration": 63,
    "start_time": "2022-11-22T20:53:52.764Z"
   },
   {
    "duration": 44,
    "start_time": "2022-11-22T20:53:52.828Z"
   },
   {
    "duration": 47,
    "start_time": "2022-11-22T20:53:52.876Z"
   },
   {
    "duration": 67,
    "start_time": "2022-11-22T20:53:52.925Z"
   },
   {
    "duration": 47,
    "start_time": "2022-11-22T20:53:52.994Z"
   },
   {
    "duration": 71,
    "start_time": "2022-11-22T20:53:53.043Z"
   },
   {
    "duration": 18,
    "start_time": "2022-11-22T20:53:53.116Z"
   },
   {
    "duration": 224,
    "start_time": "2022-11-22T20:53:53.136Z"
   },
   {
    "duration": 4,
    "start_time": "2022-11-22T20:53:53.362Z"
   },
   {
    "duration": 42,
    "start_time": "2022-11-22T20:53:53.368Z"
   },
   {
    "duration": 34892,
    "start_time": "2022-11-22T20:53:53.413Z"
   },
   {
    "duration": 3,
    "start_time": "2022-11-22T20:54:28.307Z"
   },
   {
    "duration": 10,
    "start_time": "2022-11-22T20:54:28.311Z"
   },
   {
    "duration": 27,
    "start_time": "2022-11-22T20:54:28.323Z"
   },
   {
    "duration": 69,
    "start_time": "2022-11-22T20:54:28.352Z"
   },
   {
    "duration": 4,
    "start_time": "2022-11-22T20:54:28.423Z"
   },
   {
    "duration": 76,
    "start_time": "2022-11-22T20:54:28.429Z"
   },
   {
    "duration": 157,
    "start_time": "2022-11-22T20:54:28.507Z"
   },
   {
    "duration": 4,
    "start_time": "2022-11-22T20:54:41.490Z"
   },
   {
    "duration": 120809,
    "start_time": "2022-11-22T20:54:42.201Z"
   },
   {
    "duration": 3,
    "start_time": "2022-11-22T20:56:43.013Z"
   },
   {
    "duration": 35,
    "start_time": "2022-11-22T20:56:43.018Z"
   },
   {
    "duration": 57,
    "start_time": "2022-11-22T20:56:43.056Z"
   },
   {
    "duration": 77,
    "start_time": "2022-11-22T20:56:43.116Z"
   },
   {
    "duration": 7,
    "start_time": "2022-11-22T20:56:43.196Z"
   },
   {
    "duration": 8,
    "start_time": "2022-11-22T21:00:59.159Z"
   },
   {
    "duration": 117193,
    "start_time": "2022-11-22T21:01:00.497Z"
   },
   {
    "duration": 3,
    "start_time": "2022-11-22T21:02:57.692Z"
   },
   {
    "duration": 12,
    "start_time": "2022-11-22T21:02:57.696Z"
   },
   {
    "duration": 8,
    "start_time": "2022-11-22T21:02:57.711Z"
   },
   {
    "duration": 62,
    "start_time": "2022-11-22T21:02:57.720Z"
   },
   {
    "duration": 14,
    "start_time": "2022-11-22T21:02:57.784Z"
   },
   {
    "duration": 8,
    "start_time": "2022-11-22T21:03:46.159Z"
   },
   {
    "duration": 3,
    "start_time": "2022-11-22T21:03:46.560Z"
   },
   {
    "duration": 6,
    "start_time": "2022-11-22T21:03:46.984Z"
   },
   {
    "duration": 37,
    "start_time": "2022-11-22T21:03:49.026Z"
   },
   {
    "duration": 7,
    "start_time": "2022-11-22T21:03:50.409Z"
   },
   {
    "duration": 3,
    "start_time": "2022-11-22T21:04:54.485Z"
   },
   {
    "duration": 67,
    "start_time": "2022-11-22T21:04:54.490Z"
   },
   {
    "duration": 18,
    "start_time": "2022-11-22T21:04:54.559Z"
   },
   {
    "duration": 37,
    "start_time": "2022-11-22T21:04:54.579Z"
   },
   {
    "duration": 67,
    "start_time": "2022-11-22T21:04:54.617Z"
   },
   {
    "duration": 15,
    "start_time": "2022-11-22T21:04:54.693Z"
   },
   {
    "duration": 7,
    "start_time": "2022-11-22T21:04:54.710Z"
   },
   {
    "duration": 47,
    "start_time": "2022-11-22T21:04:54.718Z"
   },
   {
    "duration": 26,
    "start_time": "2022-11-22T21:04:54.767Z"
   },
   {
    "duration": 21,
    "start_time": "2022-11-22T21:04:54.796Z"
   },
   {
    "duration": 20,
    "start_time": "2022-11-22T21:04:54.818Z"
   },
   {
    "duration": 80,
    "start_time": "2022-11-22T21:04:54.840Z"
   },
   {
    "duration": 23,
    "start_time": "2022-11-22T21:04:54.922Z"
   },
   {
    "duration": 49,
    "start_time": "2022-11-22T21:04:54.947Z"
   },
   {
    "duration": 11,
    "start_time": "2022-11-22T21:04:54.997Z"
   },
   {
    "duration": 8,
    "start_time": "2022-11-22T21:04:55.009Z"
   },
   {
    "duration": 179,
    "start_time": "2022-11-22T21:04:55.019Z"
   },
   {
    "duration": 3,
    "start_time": "2022-11-22T21:04:55.200Z"
   },
   {
    "duration": 10,
    "start_time": "2022-11-22T21:04:55.204Z"
   },
   {
    "duration": 32540,
    "start_time": "2022-11-22T21:04:55.215Z"
   },
   {
    "duration": 4,
    "start_time": "2022-11-22T21:05:27.759Z"
   },
   {
    "duration": 31,
    "start_time": "2022-11-22T21:05:27.766Z"
   },
   {
    "duration": 20,
    "start_time": "2022-11-22T21:05:27.800Z"
   },
   {
    "duration": 89,
    "start_time": "2022-11-22T21:05:27.821Z"
   },
   {
    "duration": 8,
    "start_time": "2022-11-22T21:05:27.912Z"
   },
   {
    "duration": 28,
    "start_time": "2022-11-22T21:05:27.922Z"
   },
   {
    "duration": 216,
    "start_time": "2022-11-22T21:05:27.952Z"
   },
   {
    "duration": 15,
    "start_time": "2022-11-22T21:05:28.175Z"
   },
   {
    "duration": 113912,
    "start_time": "2022-11-22T21:05:28.191Z"
   },
   {
    "duration": 3,
    "start_time": "2022-11-22T21:07:22.106Z"
   },
   {
    "duration": 32,
    "start_time": "2022-11-22T21:07:22.111Z"
   },
   {
    "duration": 75,
    "start_time": "2022-11-22T21:07:22.144Z"
   },
   {
    "duration": 85,
    "start_time": "2022-11-22T21:07:22.220Z"
   },
   {
    "duration": 7,
    "start_time": "2022-11-22T21:07:22.307Z"
   },
   {
    "duration": 70,
    "start_time": "2022-11-22T21:07:31.819Z"
   },
   {
    "duration": 4,
    "start_time": "2022-11-22T21:07:32.915Z"
   },
   {
    "duration": 4,
    "start_time": "2022-11-22T21:08:41.620Z"
   },
   {
    "duration": 97867,
    "start_time": "2022-11-22T21:08:42.037Z"
   },
   {
    "duration": 3,
    "start_time": "2022-11-22T21:10:19.907Z"
   },
   {
    "duration": 76,
    "start_time": "2022-11-22T21:10:19.916Z"
   },
   {
    "duration": 30,
    "start_time": "2022-11-22T21:10:19.997Z"
   },
   {
    "duration": 113,
    "start_time": "2022-11-22T21:10:20.029Z"
   },
   {
    "duration": 8,
    "start_time": "2022-11-22T21:10:20.147Z"
   },
   {
    "duration": 5,
    "start_time": "2022-11-22T21:12:13.676Z"
   },
   {
    "duration": 97316,
    "start_time": "2022-11-22T21:12:14.192Z"
   },
   {
    "duration": 3,
    "start_time": "2022-11-22T21:13:51.515Z"
   },
   {
    "duration": 96,
    "start_time": "2022-11-22T21:13:51.520Z"
   },
   {
    "duration": 75,
    "start_time": "2022-11-22T21:13:51.618Z"
   },
   {
    "duration": 101,
    "start_time": "2022-11-22T21:13:51.696Z"
   },
   {
    "duration": 25,
    "start_time": "2022-11-22T21:13:51.805Z"
   }
  ],
  "kernelspec": {
   "display_name": "Python 3 (ipykernel)",
   "language": "python",
   "name": "python3"
  },
  "language_info": {
   "codemirror_mode": {
    "name": "ipython",
    "version": 3
   },
   "file_extension": ".py",
   "mimetype": "text/x-python",
   "name": "python",
   "nbconvert_exporter": "python",
   "pygments_lexer": "ipython3",
   "version": "3.9.16"
  },
  "toc": {
   "base_numbering": 1,
   "nav_menu": {
    "height": "219px",
    "width": "268px"
   },
   "number_sections": true,
   "sideBar": true,
   "skip_h1_title": true,
   "title_cell": "Содержание",
   "title_sidebar": "Contents",
   "toc_cell": true,
   "toc_position": {
    "height": "calc(100% - 180px)",
    "left": "10px",
    "top": "150px",
    "width": "231.2px"
   },
   "toc_section_display": true,
   "toc_window_display": true
  }
 },
 "nbformat": 4,
 "nbformat_minor": 2
}
