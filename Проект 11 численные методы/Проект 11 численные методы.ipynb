{
 "cells": [
  {
   "cell_type": "markdown",
   "metadata": {},
   "source": [
    "<div style=\"border:solid Chocolate 2px; padding: 40px\">\n",
    "    \n",
    " <b>Добрый день, Виктор!</b>\n",
    "    \n",
    "Меня зовут Ксения Цыганова, и я буду комментировать твою работу и помогать тебе сделать ее сильнее. В Практикуме мы общаемся на «ты», но если тебе это будет некомфортно, пожалуйста, скажи, и мы будем обращаться друг к другу на «вы».\n",
    "    \n",
    "Все мои комментарии делятся на три вида:\n",
    "\n",
    "    \n",
    "👍 Здесь все отлично, идем дальше! - <font color='green'> зеленый цвет </font>\n",
    "    \n",
    "💡 Все хорошо, однако, можно оптимизировать или рассмотреть другие способы (необязательно для исполнения, чтобы пройти дальше) - <font color='gold'>желтый цвет</font>\n",
    "    \n",
    "🤔 Необходимо внести исправления, без которых я не смогу принять проект - <font color='red'>красный цвет</font>\n",
    "    \n",
    "    \n",
    "Свои комментарии я буду выделять заголовком «комментарий ревьюера». Пожалуйста, не удаляй их, это поможет сократить время проверки на повторных ревью.Ты также можешь писать свои комментарии к моим и выделять их любым понравившимся способом, отличным от моего. Если у тебя будут возникать вопросы в течение нашей работы, я с радостью на них отвечу.\n",
    "\n",
    "Цель моего ревью не критика и не возможность дать тебе готовые ответы, это способ привести тебя в нужное русло, чтобы ты смог развить собственные идеи и решения. Твой будущий работодатель будет поступать похожим образом. \n",
    "        \n",
    "   <b>У тебя все получится!</b>"
   ]
  },
  {
   "cell_type": "markdown",
   "metadata": {},
   "source": [
    "# Определение стоимости автомобилей"
   ]
  },
  {
   "cell_type": "markdown",
   "metadata": {},
   "source": [
    "Сервис по продаже автомобилей с пробегом «Не бит, не крашен» разрабатывает приложение для привлечения новых клиентов. В нём можно быстро узнать рыночную стоимость своего автомобиля. В вашем распоряжении исторические данные: технические характеристики, комплектации и цены автомобилей. Вам нужно построить модель для определения стоимости. \n",
    "\n",
    "Заказчику важны:\n",
    "\n",
    "- качество предсказания;\n",
    "- скорость предсказания;\n",
    "- время обучения."
   ]
  },
  {
   "cell_type": "markdown",
   "metadata": {},
   "source": [
    "# Инструкция по выполнению проекта"
   ]
  },
  {
   "cell_type": "markdown",
   "metadata": {},
   "source": [
    "Чтобы усилить исследование, не ограничивайтесь градиентным бустингом. Попробуйте более простые модели — иногда они работают лучше. Эти редкие случаи легко пропустить, если всегда применять только бустинг. \n",
    "\n",
    "Поэкспериментируйте и сравните характеристики моделей: время обучения, время предсказания, точность результата."
   ]
  },
  {
   "cell_type": "markdown",
   "metadata": {},
   "source": [
    "# Основные шаги:"
   ]
  },
  {
   "cell_type": "markdown",
   "metadata": {},
   "source": [
    "1. Загрузите данные, путь к файлу:  */datasets/autos.csv*.\n",
    "2. Изучите данные. Заполните пропущенные значения и обработайте аномалии в столбцах. Если среди признаков имеются неинформативные, удалите их.\n",
    "3. Подготовьте выборки для обучения моделей.\n",
    "4. Обучите разные модели, одна из которых — LightGBM, как минимум одна — не бустинг. Для каждой модели попробуйте разные гиперпараметры.\n",
    "5. Проанализируйте время обучения, время предсказания и качество моделей.\n",
    "6. Опираясь на критерии заказчика, выберете лучшую модель, проверьте её качество на тестовой выборке."
   ]
  },
  {
   "cell_type": "markdown",
   "metadata": {},
   "source": [
    "<div class=\"alert alert-success\">\n",
    "<h2> Комментарий ревьюера <a class=\"tocSkip\"> </h2>\n",
    "\n",
    "<b>Все отлично!👍:</b> \n",
    "    \n",
    "Отлично, что есть вступительный комментарий и содержание."
   ]
  },
  {
   "cell_type": "markdown",
   "metadata": {},
   "source": [
    "## Подготовка данных"
   ]
  },
  {
   "cell_type": "code",
   "execution_count": 2,
   "metadata": {},
   "outputs": [],
   "source": [
    "import pandas as pd\n",
    "import numpy as np\n",
    "import seaborn as sns\n",
    "import os\n",
    "import matplotlib.pyplot as plt\n",
    "\n",
    "from datetime import datetime\n",
    "from sklearn.model_selection import train_test_split\n",
    "from sklearn.preprocessing import OrdinalEncoder, OneHotEncoder, StandardScaler, LabelEncoder\n",
    "from sklearn.model_selection import GridSearchCV, KFold, cross_val_score, cross_validate\n",
    "from sklearn.metrics import make_scorer, mean_squared_error\n",
    "from sklearn.tree import DecisionTreeRegressor\n",
    "from sklearn.ensemble import RandomForestRegressor \n",
    "from sklearn.linear_model import LinearRegression \n",
    "from sklearn.dummy import DummyRegressor\n",
    "from sklearn.compose import make_column_transformer\n",
    "\n",
    "from lightgbm import LGBMRegressor\n",
    "\n",
    "\n"
   ]
  },
  {
   "cell_type": "markdown",
   "metadata": {},
   "source": [
    "<div class=\"alert alert-success\">\n",
    "<h2> Комментарий ревьюера <a class=\"tocSkip\"> </h2>\n",
    "\n",
    "<b>Все отлично!👍:</b> \n",
    "    \n",
    "Отлично, что все импорты собраны в одном месте в начале проекта. Это поможет в случае чего сразу увидеть, какие библиотеки следует доустановить."
   ]
  },
  {
   "cell_type": "markdown",
   "metadata": {},
   "source": [
    "<div class=\"alert alert-warning\">\n",
    "    <h2> Комментарий ревьюера <a class=\"tocSkip\"> </h2>\n",
    "    \n",
    "<b>Некоторые замечания и рекомендации💡:</b> \n",
    "        \n",
    "Стоит учитывать рекомендации PEP-8 при оформлении проекта, в том числе импортов. С ними можно познакомиться по ссылке: https://pythonworld.ru/osnovy/pep-8-rukovodstvo-po-napisaniyu-koda-na-python.html"
   ]
  },
  {
   "cell_type": "code",
   "execution_count": 1,
   "metadata": {},
   "outputs": [
    {
     "ename": "NameError",
     "evalue": "name 'os' is not defined",
     "output_type": "error",
     "traceback": [
      "\u001b[0;31m---------------------------------------------------------------------------\u001b[0m",
      "\u001b[0;31mNameError\u001b[0m                                 Traceback (most recent call last)",
      "\u001b[0;32m/tmp/ipykernel_31/2024498370.py\u001b[0m in \u001b[0;36m<module>\u001b[0;34m\u001b[0m\n\u001b[1;32m      1\u001b[0m \u001b[0mpath\u001b[0m \u001b[0;34m=\u001b[0m \u001b[0;34m'/datasets/autos.csv'\u001b[0m\u001b[0;34m\u001b[0m\u001b[0;34m\u001b[0m\u001b[0m\n\u001b[0;32m----> 2\u001b[0;31m \u001b[0;32mif\u001b[0m \u001b[0mos\u001b[0m\u001b[0;34m.\u001b[0m\u001b[0mpath\u001b[0m\u001b[0;34m.\u001b[0m\u001b[0mexists\u001b[0m\u001b[0;34m(\u001b[0m\u001b[0mpath\u001b[0m\u001b[0;34m)\u001b[0m\u001b[0;34m:\u001b[0m\u001b[0;34m\u001b[0m\u001b[0;34m\u001b[0m\u001b[0m\n\u001b[0m\u001b[1;32m      3\u001b[0m     \u001b[0mdata\u001b[0m \u001b[0;34m=\u001b[0m \u001b[0mpd\u001b[0m\u001b[0;34m.\u001b[0m\u001b[0mread_csv\u001b[0m\u001b[0;34m(\u001b[0m\u001b[0mpath\u001b[0m\u001b[0;34m)\u001b[0m\u001b[0;34m\u001b[0m\u001b[0;34m\u001b[0m\u001b[0m\n\u001b[1;32m      4\u001b[0m \u001b[0;32melse\u001b[0m\u001b[0;34m:\u001b[0m\u001b[0;34m\u001b[0m\u001b[0;34m\u001b[0m\u001b[0m\n\u001b[1;32m      5\u001b[0m     \u001b[0mprint\u001b[0m\u001b[0;34m(\u001b[0m\u001b[0;34m'Что-то пошло не так'\u001b[0m\u001b[0;34m)\u001b[0m\u001b[0;34m\u001b[0m\u001b[0;34m\u001b[0m\u001b[0m\n",
      "\u001b[0;31mNameError\u001b[0m: name 'os' is not defined"
     ]
    }
   ],
   "source": [
    "path = '/datasets/autos.csv'\n",
    "if os.path.exists(path):\n",
    "    data = pd.read_csv(path)\n",
    "else:\n",
    "    print('Что-то пошло не так')"
   ]
  },
  {
   "cell_type": "code",
   "execution_count": 3,
   "metadata": {},
   "outputs": [
    {
     "name": "stdout",
     "output_type": "stream",
     "text": [
      "<class 'pandas.core.frame.DataFrame'>\n",
      "RangeIndex: 354369 entries, 0 to 354368\n",
      "Data columns (total 16 columns):\n",
      " #   Column             Non-Null Count   Dtype \n",
      "---  ------             --------------   ----- \n",
      " 0   DateCrawled        354369 non-null  object\n",
      " 1   Price              354369 non-null  int64 \n",
      " 2   VehicleType        316879 non-null  object\n",
      " 3   RegistrationYear   354369 non-null  int64 \n",
      " 4   Gearbox            334536 non-null  object\n",
      " 5   Power              354369 non-null  int64 \n",
      " 6   Model              334664 non-null  object\n",
      " 7   Kilometer          354369 non-null  int64 \n",
      " 8   RegistrationMonth  354369 non-null  int64 \n",
      " 9   FuelType           321474 non-null  object\n",
      " 10  Brand              354369 non-null  object\n",
      " 11  Repaired           283215 non-null  object\n",
      " 12  DateCreated        354369 non-null  object\n",
      " 13  NumberOfPictures   354369 non-null  int64 \n",
      " 14  PostalCode         354369 non-null  int64 \n",
      " 15  LastSeen           354369 non-null  object\n",
      "dtypes: int64(7), object(9)\n",
      "memory usage: 43.3+ MB\n"
     ]
    }
   ],
   "source": [
    "data.info()"
   ]
  },
  {
   "cell_type": "code",
   "execution_count": 4,
   "metadata": {},
   "outputs": [],
   "source": [
    "data_shape0 = data.shape[0]"
   ]
  },
  {
   "cell_type": "code",
   "execution_count": 5,
   "metadata": {},
   "outputs": [
    {
     "data": {
      "text/html": [
       "<div>\n",
       "<style scoped>\n",
       "    .dataframe tbody tr th:only-of-type {\n",
       "        vertical-align: middle;\n",
       "    }\n",
       "\n",
       "    .dataframe tbody tr th {\n",
       "        vertical-align: top;\n",
       "    }\n",
       "\n",
       "    .dataframe thead th {\n",
       "        text-align: right;\n",
       "    }\n",
       "</style>\n",
       "<table border=\"1\" class=\"dataframe\">\n",
       "  <thead>\n",
       "    <tr style=\"text-align: right;\">\n",
       "      <th></th>\n",
       "      <th>DateCrawled</th>\n",
       "      <th>Price</th>\n",
       "      <th>VehicleType</th>\n",
       "      <th>RegistrationYear</th>\n",
       "      <th>Gearbox</th>\n",
       "      <th>Power</th>\n",
       "      <th>Model</th>\n",
       "      <th>Kilometer</th>\n",
       "      <th>RegistrationMonth</th>\n",
       "      <th>FuelType</th>\n",
       "      <th>Brand</th>\n",
       "      <th>Repaired</th>\n",
       "      <th>DateCreated</th>\n",
       "      <th>NumberOfPictures</th>\n",
       "      <th>PostalCode</th>\n",
       "      <th>LastSeen</th>\n",
       "    </tr>\n",
       "  </thead>\n",
       "  <tbody>\n",
       "    <tr>\n",
       "      <th>0</th>\n",
       "      <td>2016-03-24 11:52:17</td>\n",
       "      <td>480</td>\n",
       "      <td>NaN</td>\n",
       "      <td>1993</td>\n",
       "      <td>manual</td>\n",
       "      <td>0</td>\n",
       "      <td>golf</td>\n",
       "      <td>150000</td>\n",
       "      <td>0</td>\n",
       "      <td>petrol</td>\n",
       "      <td>volkswagen</td>\n",
       "      <td>NaN</td>\n",
       "      <td>2016-03-24 00:00:00</td>\n",
       "      <td>0</td>\n",
       "      <td>70435</td>\n",
       "      <td>2016-04-07 03:16:57</td>\n",
       "    </tr>\n",
       "    <tr>\n",
       "      <th>1</th>\n",
       "      <td>2016-03-24 10:58:45</td>\n",
       "      <td>18300</td>\n",
       "      <td>coupe</td>\n",
       "      <td>2011</td>\n",
       "      <td>manual</td>\n",
       "      <td>190</td>\n",
       "      <td>NaN</td>\n",
       "      <td>125000</td>\n",
       "      <td>5</td>\n",
       "      <td>gasoline</td>\n",
       "      <td>audi</td>\n",
       "      <td>yes</td>\n",
       "      <td>2016-03-24 00:00:00</td>\n",
       "      <td>0</td>\n",
       "      <td>66954</td>\n",
       "      <td>2016-04-07 01:46:50</td>\n",
       "    </tr>\n",
       "    <tr>\n",
       "      <th>2</th>\n",
       "      <td>2016-03-14 12:52:21</td>\n",
       "      <td>9800</td>\n",
       "      <td>suv</td>\n",
       "      <td>2004</td>\n",
       "      <td>auto</td>\n",
       "      <td>163</td>\n",
       "      <td>grand</td>\n",
       "      <td>125000</td>\n",
       "      <td>8</td>\n",
       "      <td>gasoline</td>\n",
       "      <td>jeep</td>\n",
       "      <td>NaN</td>\n",
       "      <td>2016-03-14 00:00:00</td>\n",
       "      <td>0</td>\n",
       "      <td>90480</td>\n",
       "      <td>2016-04-05 12:47:46</td>\n",
       "    </tr>\n",
       "    <tr>\n",
       "      <th>3</th>\n",
       "      <td>2016-03-17 16:54:04</td>\n",
       "      <td>1500</td>\n",
       "      <td>small</td>\n",
       "      <td>2001</td>\n",
       "      <td>manual</td>\n",
       "      <td>75</td>\n",
       "      <td>golf</td>\n",
       "      <td>150000</td>\n",
       "      <td>6</td>\n",
       "      <td>petrol</td>\n",
       "      <td>volkswagen</td>\n",
       "      <td>no</td>\n",
       "      <td>2016-03-17 00:00:00</td>\n",
       "      <td>0</td>\n",
       "      <td>91074</td>\n",
       "      <td>2016-03-17 17:40:17</td>\n",
       "    </tr>\n",
       "    <tr>\n",
       "      <th>4</th>\n",
       "      <td>2016-03-31 17:25:20</td>\n",
       "      <td>3600</td>\n",
       "      <td>small</td>\n",
       "      <td>2008</td>\n",
       "      <td>manual</td>\n",
       "      <td>69</td>\n",
       "      <td>fabia</td>\n",
       "      <td>90000</td>\n",
       "      <td>7</td>\n",
       "      <td>gasoline</td>\n",
       "      <td>skoda</td>\n",
       "      <td>no</td>\n",
       "      <td>2016-03-31 00:00:00</td>\n",
       "      <td>0</td>\n",
       "      <td>60437</td>\n",
       "      <td>2016-04-06 10:17:21</td>\n",
       "    </tr>\n",
       "  </tbody>\n",
       "</table>\n",
       "</div>"
      ],
      "text/plain": [
       "           DateCrawled  Price VehicleType  RegistrationYear Gearbox  Power  \\\n",
       "0  2016-03-24 11:52:17    480         NaN              1993  manual      0   \n",
       "1  2016-03-24 10:58:45  18300       coupe              2011  manual    190   \n",
       "2  2016-03-14 12:52:21   9800         suv              2004    auto    163   \n",
       "3  2016-03-17 16:54:04   1500       small              2001  manual     75   \n",
       "4  2016-03-31 17:25:20   3600       small              2008  manual     69   \n",
       "\n",
       "   Model  Kilometer  RegistrationMonth  FuelType       Brand Repaired  \\\n",
       "0   golf     150000                  0    petrol  volkswagen      NaN   \n",
       "1    NaN     125000                  5  gasoline        audi      yes   \n",
       "2  grand     125000                  8  gasoline        jeep      NaN   \n",
       "3   golf     150000                  6    petrol  volkswagen       no   \n",
       "4  fabia      90000                  7  gasoline       skoda       no   \n",
       "\n",
       "           DateCreated  NumberOfPictures  PostalCode             LastSeen  \n",
       "0  2016-03-24 00:00:00                 0       70435  2016-04-07 03:16:57  \n",
       "1  2016-03-24 00:00:00                 0       66954  2016-04-07 01:46:50  \n",
       "2  2016-03-14 00:00:00                 0       90480  2016-04-05 12:47:46  \n",
       "3  2016-03-17 00:00:00                 0       91074  2016-03-17 17:40:17  \n",
       "4  2016-03-31 00:00:00                 0       60437  2016-04-06 10:17:21  "
      ]
     },
     "execution_count": 5,
     "metadata": {},
     "output_type": "execute_result"
    }
   ],
   "source": [
    "data.head()"
   ]
  },
  {
   "cell_type": "code",
   "execution_count": 6,
   "metadata": {},
   "outputs": [],
   "source": [
    "data = data.rename(columns={'DateCrawled': 'date_crawled', 'VehicleType': 'vehicle_type', \n",
    "                            'RegistrationMonth':'registration_month', 'FuelType':'fuel_type',\n",
    "                           'DateCreated':'date_created', 'NumberOfPictures':'number_of_pictures',\n",
    "                           'PostalCode':'postal_code', 'LastSeen':'last_seen', 'RegistrationYear':'registration_year'})"
   ]
  },
  {
   "cell_type": "markdown",
   "metadata": {},
   "source": [
    "<div class=\"alert alert-success\">\n",
    "<h2> Комментарий ревьюера <a class=\"tocSkip\"> </h2>\n",
    "\n",
    "<b>Все отлично!👍:</b> \n",
    "    \n",
    "Отлично, что работаешь со стилем."
   ]
  },
  {
   "cell_type": "code",
   "execution_count": 7,
   "metadata": {},
   "outputs": [],
   "source": [
    "data.columns = [column.lower() for column in data.columns]"
   ]
  },
  {
   "cell_type": "code",
   "execution_count": 8,
   "metadata": {},
   "outputs": [
    {
     "data": {
      "text/plain": [
       "date_crawled              0\n",
       "price                     0\n",
       "vehicle_type          37490\n",
       "registration_year         0\n",
       "gearbox               19833\n",
       "power                     0\n",
       "model                 19705\n",
       "kilometer                 0\n",
       "registration_month        0\n",
       "fuel_type             32895\n",
       "brand                     0\n",
       "repaired              71154\n",
       "date_created              0\n",
       "number_of_pictures        0\n",
       "postal_code               0\n",
       "last_seen                 0\n",
       "dtype: int64"
      ]
     },
     "execution_count": 8,
     "metadata": {},
     "output_type": "execute_result"
    }
   ],
   "source": [
    "data.isna().sum()# число пропущенных значений"
   ]
  },
  {
   "cell_type": "code",
   "execution_count": 9,
   "metadata": {},
   "outputs": [
    {
     "data": {
      "text/plain": [
       "4"
      ]
     },
     "execution_count": 9,
     "metadata": {},
     "output_type": "execute_result"
    }
   ],
   "source": [
    "data.duplicated().sum() # число дубликатов"
   ]
  },
  {
   "cell_type": "code",
   "execution_count": 10,
   "metadata": {},
   "outputs": [],
   "source": [
    "data_date_created = data['date_created']"
   ]
  },
  {
   "cell_type": "code",
   "execution_count": 11,
   "metadata": {},
   "outputs": [],
   "source": [
    "data = data.drop(columns=['date_crawled','date_created', 'postal_code', 'number_of_pictures', 'last_seen'])"
   ]
  },
  {
   "cell_type": "code",
   "execution_count": 12,
   "metadata": {},
   "outputs": [
    {
     "data": {
      "text/plain": [
       "(array([nan, 'coupe', 'suv', 'small', 'sedan', 'convertible', 'bus',\n",
       "        'wagon', 'other'], dtype=object),\n",
       " array(['petrol', 'gasoline', nan, 'lpg', 'other', 'hybrid', 'cng',\n",
       "        'electric'], dtype=object),\n",
       " array(['manual', 'auto', nan], dtype=object),\n",
       " array(['golf', nan, 'grand', 'fabia', '3er', '2_reihe', 'other', 'c_max',\n",
       "        '3_reihe', 'passat', 'navara', 'ka', 'polo', 'twingo', 'a_klasse',\n",
       "        'scirocco', '5er', 'meriva', 'arosa', 'c4', 'civic', 'transporter',\n",
       "        'punto', 'e_klasse', 'clio', 'kadett', 'kangoo', 'corsa', 'one',\n",
       "        'fortwo', '1er', 'b_klasse', 'signum', 'astra', 'a8', 'jetta',\n",
       "        'fiesta', 'c_klasse', 'micra', 'vito', 'sprinter', '156', 'escort',\n",
       "        'forester', 'xc_reihe', 'scenic', 'a4', 'a1', 'insignia', 'combo',\n",
       "        'focus', 'tt', 'a6', 'jazz', 'omega', 'slk', '7er', '80', '147',\n",
       "        '100', 'z_reihe', 'sportage', 'sorento', 'v40', 'ibiza', 'mustang',\n",
       "        'eos', 'touran', 'getz', 'a3', 'almera', 'megane', 'lupo', 'r19',\n",
       "        'zafira', 'caddy', 'mondeo', 'cordoba', 'colt', 'impreza',\n",
       "        'vectra', 'berlingo', 'tiguan', 'i_reihe', 'espace', 'sharan',\n",
       "        '6_reihe', 'panda', 'up', 'seicento', 'ceed', '5_reihe', 'yeti',\n",
       "        'octavia', 'mii', 'rx_reihe', '6er', 'modus', 'fox', 'matiz',\n",
       "        'beetle', 'c1', 'rio', 'touareg', 'logan', 'spider', 'cuore',\n",
       "        's_max', 'a2', 'galaxy', 'c3', 'viano', 's_klasse', '1_reihe',\n",
       "        'avensis', 'roomster', 'sl', 'kaefer', 'santa', 'cooper', 'leon',\n",
       "        '4_reihe', 'a5', '500', 'laguna', 'ptcruiser', 'clk', 'primera',\n",
       "        'x_reihe', 'exeo', '159', 'transit', 'juke', 'qashqai', 'carisma',\n",
       "        'accord', 'corolla', 'lanos', 'phaeton', 'verso', 'swift', 'rav',\n",
       "        'picanto', 'boxster', 'kalos', 'superb', 'stilo', 'alhambra',\n",
       "        'mx_reihe', 'roadster', 'ypsilon', 'cayenne', 'galant', 'justy',\n",
       "        '90', 'sirion', 'crossfire', 'agila', 'duster', 'cr_reihe', 'v50',\n",
       "        'c_reihe', 'v_klasse', 'm_klasse', 'yaris', 'c5', 'aygo', 'cc',\n",
       "        'carnival', 'fusion', '911', 'bora', 'forfour', 'm_reihe', 'cl',\n",
       "        'tigra', '300c', 'spark', 'v70', 'kuga', 'x_type', 'ducato',\n",
       "        's_type', 'x_trail', 'toledo', 'altea', 'voyager', 'calibra',\n",
       "        'bravo', 'antara', 'tucson', 'citigo', 'jimny', 'wrangler',\n",
       "        'lybra', 'q7', 'lancer', 'captiva', 'c2', 'discovery',\n",
       "        'freelander', 'sandero', 'note', '900', 'cherokee', 'clubman',\n",
       "        'samara', 'defender', '601', 'cx_reihe', 'legacy', 'pajero',\n",
       "        'auris', 'niva', 's60', 'nubira', 'vivaro', 'g_klasse', 'lodgy',\n",
       "        '850', 'range_rover', 'q3', 'serie_2', 'glk', 'charade', 'croma',\n",
       "        'outlander', 'doblo', 'musa', 'move', '9000', 'v60', '145', 'aveo',\n",
       "        '200', 'b_max', 'range_rover_sport', 'terios', 'rangerover', 'q5',\n",
       "        'range_rover_evoque', 'materia', 'delta', 'gl', 'kalina', 'amarok',\n",
       "        'elefantino', 'i3', 'kappa', 'serie_3', 'serie_1'], dtype=object),\n",
       " array(['volkswagen', 'audi', 'jeep', 'skoda', 'bmw', 'peugeot', 'ford',\n",
       "        'mazda', 'nissan', 'renault', 'mercedes_benz', 'opel', 'seat',\n",
       "        'citroen', 'honda', 'fiat', 'mini', 'smart', 'hyundai',\n",
       "        'sonstige_autos', 'alfa_romeo', 'subaru', 'volvo', 'mitsubishi',\n",
       "        'kia', 'suzuki', 'lancia', 'toyota', 'chevrolet', 'dacia',\n",
       "        'daihatsu', 'trabant', 'saab', 'chrysler', 'jaguar', 'daewoo',\n",
       "        'porsche', 'rover', 'land_rover', 'lada'], dtype=object))"
      ]
     },
     "execution_count": 12,
     "metadata": {},
     "output_type": "execute_result"
    }
   ],
   "source": [
    "data['vehicle_type'].unique(), data['fuel_type'].unique(), data['gearbox'].unique(),\\\n",
    "data['model'].unique(), data['brand'].unique()"
   ]
  },
  {
   "cell_type": "code",
   "execution_count": 13,
   "metadata": {},
   "outputs": [],
   "source": [
    "data[['vehicle_type', 'fuel_type', 'model']] = data[['vehicle_type', 'fuel_type', 'model']].fillna('other')\n"
   ]
  },
  {
   "cell_type": "markdown",
   "metadata": {},
   "source": [
    "<div class=\"alert alert-block alert-danger\">\n",
    "<h2> Комментарий ревьюера <a class=\"tocSkip\"></h2>\n",
    "\n",
    "    \n",
    "<b>На доработку🤔:</b>\n",
    "    \n",
    "Здесь 2 раза используется fuel_type для заполнения."
   ]
  },
  {
   "cell_type": "code",
   "execution_count": 14,
   "metadata": {},
   "outputs": [],
   "source": [
    "np.random.seed(1234)\n",
    "data['repaired'] = data['repaired'].fillna(pd.Series(np.random.randint(0, 2, size=len(data)), index=data.index))# заполенение случайными значениями\n",
    "data['repaired'] = data['repaired'].replace(['yes', 'no'],[1, 0]) # заполняем пропуски в столбеце случайными значениями"
   ]
  },
  {
   "cell_type": "code",
   "execution_count": 15,
   "metadata": {},
   "outputs": [],
   "source": [
    "np.random.seed(12345)\n",
    "random_int = np.random.randint(0, 2, size=len(data))\n",
    "data['gearbox'] = data['gearbox'].fillna(pd.Series([['manual', 'auto'][i] for i in random_int] , index=data.index))# заполенение случайными значениями "
   ]
  },
  {
   "cell_type": "code",
   "execution_count": 16,
   "metadata": {},
   "outputs": [
    {
     "data": {
      "text/plain": [
       "0"
      ]
     },
     "execution_count": 16,
     "metadata": {},
     "output_type": "execute_result"
    }
   ],
   "source": [
    "data.isna().sum().sum()# суммарное число пропусков"
   ]
  },
  {
   "cell_type": "code",
   "execution_count": 17,
   "metadata": {},
   "outputs": [],
   "source": [
    "# le = LabelEncoder()\n",
    "# code_columns = ['model', 'brand', 'vehicle_type', 'fuel_type', 'gearbox']\n",
    "# data[code_columns] = data[code_columns].apply(lambda col: le.fit_transform(col)) #кодировка code_columns при помощи LabelEncoder"
   ]
  },
  {
   "cell_type": "code",
   "execution_count": 18,
   "metadata": {},
   "outputs": [
    {
     "name": "stdout",
     "output_type": "stream",
     "text": [
      "<class 'pandas.core.frame.DataFrame'>\n",
      "RangeIndex: 354369 entries, 0 to 354368\n",
      "Data columns (total 11 columns):\n",
      " #   Column              Non-Null Count   Dtype \n",
      "---  ------              --------------   ----- \n",
      " 0   price               354369 non-null  int64 \n",
      " 1   vehicle_type        354369 non-null  object\n",
      " 2   registration_year   354369 non-null  int64 \n",
      " 3   gearbox             354369 non-null  object\n",
      " 4   power               354369 non-null  int64 \n",
      " 5   model               354369 non-null  object\n",
      " 6   kilometer           354369 non-null  int64 \n",
      " 7   registration_month  354369 non-null  int64 \n",
      " 8   fuel_type           354369 non-null  object\n",
      " 9   brand               354369 non-null  object\n",
      " 10  repaired            354369 non-null  int64 \n",
      "dtypes: int64(6), object(5)\n",
      "memory usage: 29.7+ MB\n"
     ]
    }
   ],
   "source": [
    "data.info()# информация о данных"
   ]
  },
  {
   "cell_type": "code",
   "execution_count": 19,
   "metadata": {},
   "outputs": [],
   "source": [
    "# ohe = OneHotEncoder(drop = 'first') # кодируем категориальные данные с помощью OHE\n",
    "# array_hot_encoded = ohe.fit_transform(data[code_columns[1:]]).toarray()\n",
    "\n",
    "\n",
    "# data_hot_encoded = pd.DataFrame(array_hot_encoded, index=data.index)\n",
    "\n",
    "\n",
    "# data_other_cols = data.drop(columns=code_columns[1:])\n",
    "\n",
    "# data_cod = pd.concat([data_hot_encoded, data_other_cols], axis=1)"
   ]
  },
  {
   "cell_type": "markdown",
   "metadata": {},
   "source": [
    "<div class=\"alert alert-block alert-danger\">\n",
    "<h2> Комментарий ревьюера <a class=\"tocSkip\"></h2>\n",
    "\n",
    "    \n",
    "<b>На доработку🤔:</b>\n",
    "    \n",
    "Обрати, пожалуйста, внимание:\n",
    "    \n",
    "если ты проводишь кодирование с помощью кодировщиков типа OrdinalEncoder и OneHotEncoder, то стоит это делать после разделения на выборки. То есть по аналогии со StandardScaler: обучаем кодер только на тренировочной выборки, а  трансформируем все с помощью него."
   ]
  },
  {
   "cell_type": "code",
   "execution_count": 20,
   "metadata": {},
   "outputs": [
    {
     "data": {
      "text/html": [
       "<div>\n",
       "<style scoped>\n",
       "    .dataframe tbody tr th:only-of-type {\n",
       "        vertical-align: middle;\n",
       "    }\n",
       "\n",
       "    .dataframe tbody tr th {\n",
       "        vertical-align: top;\n",
       "    }\n",
       "\n",
       "    .dataframe thead th {\n",
       "        text-align: right;\n",
       "    }\n",
       "</style>\n",
       "<table border=\"1\" class=\"dataframe\">\n",
       "  <thead>\n",
       "    <tr style=\"text-align: right;\">\n",
       "      <th></th>\n",
       "      <th>price</th>\n",
       "      <th>registration_year</th>\n",
       "      <th>power</th>\n",
       "      <th>registration_month</th>\n",
       "    </tr>\n",
       "  </thead>\n",
       "  <tbody>\n",
       "    <tr>\n",
       "      <th>count</th>\n",
       "      <td>354369.000000</td>\n",
       "      <td>354369.000000</td>\n",
       "      <td>354369.000000</td>\n",
       "      <td>354369.000000</td>\n",
       "    </tr>\n",
       "    <tr>\n",
       "      <th>mean</th>\n",
       "      <td>4416.656776</td>\n",
       "      <td>2004.234448</td>\n",
       "      <td>110.094337</td>\n",
       "      <td>5.714645</td>\n",
       "    </tr>\n",
       "    <tr>\n",
       "      <th>std</th>\n",
       "      <td>4514.158514</td>\n",
       "      <td>90.227958</td>\n",
       "      <td>189.850405</td>\n",
       "      <td>3.726421</td>\n",
       "    </tr>\n",
       "    <tr>\n",
       "      <th>min</th>\n",
       "      <td>0.000000</td>\n",
       "      <td>1000.000000</td>\n",
       "      <td>0.000000</td>\n",
       "      <td>0.000000</td>\n",
       "    </tr>\n",
       "    <tr>\n",
       "      <th>25%</th>\n",
       "      <td>1050.000000</td>\n",
       "      <td>1999.000000</td>\n",
       "      <td>69.000000</td>\n",
       "      <td>3.000000</td>\n",
       "    </tr>\n",
       "    <tr>\n",
       "      <th>50%</th>\n",
       "      <td>2700.000000</td>\n",
       "      <td>2003.000000</td>\n",
       "      <td>105.000000</td>\n",
       "      <td>6.000000</td>\n",
       "    </tr>\n",
       "    <tr>\n",
       "      <th>75%</th>\n",
       "      <td>6400.000000</td>\n",
       "      <td>2008.000000</td>\n",
       "      <td>143.000000</td>\n",
       "      <td>9.000000</td>\n",
       "    </tr>\n",
       "    <tr>\n",
       "      <th>max</th>\n",
       "      <td>20000.000000</td>\n",
       "      <td>9999.000000</td>\n",
       "      <td>20000.000000</td>\n",
       "      <td>12.000000</td>\n",
       "    </tr>\n",
       "  </tbody>\n",
       "</table>\n",
       "</div>"
      ],
      "text/plain": [
       "               price  registration_year          power  registration_month\n",
       "count  354369.000000      354369.000000  354369.000000       354369.000000\n",
       "mean     4416.656776        2004.234448     110.094337            5.714645\n",
       "std      4514.158514          90.227958     189.850405            3.726421\n",
       "min         0.000000        1000.000000       0.000000            0.000000\n",
       "25%      1050.000000        1999.000000      69.000000            3.000000\n",
       "50%      2700.000000        2003.000000     105.000000            6.000000\n",
       "75%      6400.000000        2008.000000     143.000000            9.000000\n",
       "max     20000.000000        9999.000000   20000.000000           12.000000"
      ]
     },
     "execution_count": 20,
     "metadata": {},
     "output_type": "execute_result"
    }
   ],
   "source": [
    "numeric = ['price', 'registration_year', 'power',\n",
    "       'registration_month'] # переведем kilometer в категориальные признаки \n",
    "data[numeric].describe()# информация о столбцах numeric"
   ]
  },
  {
   "cell_type": "markdown",
   "metadata": {},
   "source": [
    "<div class=\"alert alert-warning\">\n",
    "    <h2> Комментарий ревьюера <a class=\"tocSkip\"> </h2>\n",
    "    \n",
    "<b>Некоторые замечания и рекомендации💡:</b> \n",
    "        \n",
    "    \n",
    "Model - это не численный признак"
   ]
  },
  {
   "cell_type": "code",
   "execution_count": 21,
   "metadata": {},
   "outputs": [
    {
     "data": {
      "text/plain": [
       "0"
      ]
     },
     "execution_count": 21,
     "metadata": {},
     "output_type": "execute_result"
    }
   ],
   "source": [
    "data.isna().sum().sum()# число пропущенных значений"
   ]
  },
  {
   "cell_type": "code",
   "execution_count": 22,
   "metadata": {
    "scrolled": true
   },
   "outputs": [
    {
     "data": {
      "text/plain": [
       "array([150000, 125000,  90000,  40000,  30000,  70000,   5000, 100000,\n",
       "        60000,  20000,  80000,  50000,  10000])"
      ]
     },
     "execution_count": 22,
     "metadata": {},
     "output_type": "execute_result"
    }
   ],
   "source": [
    "data['kilometer'].unique()"
   ]
  },
  {
   "cell_type": "code",
   "execution_count": 23,
   "metadata": {},
   "outputs": [],
   "source": [
    "data_date_created = pd.to_datetime(data_date_created, format='%Y-%m-%d %H:%M:%S')"
   ]
  },
  {
   "cell_type": "code",
   "execution_count": 24,
   "metadata": {},
   "outputs": [],
   "source": [
    "data_cut = data.loc[data['registration_year']<= data_date_created.dt.year]"
   ]
  },
  {
   "cell_type": "code",
   "execution_count": 25,
   "metadata": {
    "scrolled": false
   },
   "outputs": [
    {
     "data": {
      "image/png": "[encoded data removed]",
      "text/plain": [
       "<Figure size 648x2880 with 4 Axes>"
      ]
     },
     "metadata": {
      "needs_background": "light"
     },
     "output_type": "display_data"
    }
   ],
   "source": [
    "fig, axes = plt.subplots(4, 1, figsize=(9, 40))\n",
    "i = 1\n",
    "for name in numeric: # boxplot для колонок из numeric\n",
    "    plt.subplot(4, 1, i)\n",
    "    data_cut[[name]].boxplot(figsize=(14, 6));\n",
    "    i += 1"
   ]
  },
  {
   "cell_type": "markdown",
   "metadata": {},
   "source": [
    "<div class=\"alert alert-success\">\n",
    "<h2> Комментарий ревьюера <a class=\"tocSkip\"> </h2>\n",
    "\n",
    "<b>Все отлично!👍:</b> \n",
    "    \n",
    "Молодец, что визуализируешь выбросы."
   ]
  },
  {
   "cell_type": "markdown",
   "metadata": {},
   "source": [
    "<div class=\"alert alert-warning\">\n",
    "    <h2> Комментарий ревьюера <a class=\"tocSkip\"> </h2>\n",
    "    \n",
    "<b>Некоторые замечания и рекомендации💡:</b> \n",
    "        \n",
    "Здесь интересно посмотреть на то, какие есть уникальные значения у Kilometer.\n",
    "        \n",
    "Они только строго определенные и круглые. Возможно, это связано с особенностями заполнения анкеты.\n",
    "        \n",
    "Есть гипотеза, что можно попробовать в связи с этим перевести этот признак в категориальные. Но надо смотреть, какой из положительно отразится на метрике."
   ]
  },
  {
   "cell_type": "code",
   "execution_count": 26,
   "metadata": {},
   "outputs": [],
   "source": [
    "data_cut = data_cut.query('0 < price< 16500 and power < 1250 and registration_year > 1950')# удаляем часть выбросов"
   ]
  },
  {
   "cell_type": "markdown",
   "metadata": {},
   "source": [
    "\n",
    "<div class=\"alert alert-block alert-danger\">\n",
    "<h2> Комментарий ревьюера <a class=\"tocSkip\"></h2>\n",
    "\n",
    "    \n",
    "<b>На доработку🤔:</b>\n",
    "    \n",
    "Здесь стоит обратить внимание на даты, которые есть в датасете, чтобы выбрать верхнюю границу года регистрации. Год регистрации автомобиля не может быть больше даты создания объявления, например.\n",
    "    \n",
    "Кроме того стоит обработать нудевые значения в price, так как это может напрямую влиять на ответ модели."
   ]
  },
  {
   "cell_type": "code",
   "execution_count": 27,
   "metadata": {},
   "outputs": [
    {
     "name": "stdout",
     "output_type": "stream",
     "text": [
      "<class 'pandas.core.frame.DataFrame'>\n",
      "Int64Index: 319155 entries, 0 to 354368\n",
      "Data columns (total 11 columns):\n",
      " #   Column              Non-Null Count   Dtype \n",
      "---  ------              --------------   ----- \n",
      " 0   price               319155 non-null  int64 \n",
      " 1   vehicle_type        319155 non-null  object\n",
      " 2   registration_year   319155 non-null  int64 \n",
      " 3   gearbox             319155 non-null  object\n",
      " 4   power               319155 non-null  int64 \n",
      " 5   model               319155 non-null  object\n",
      " 6   kilometer           319155 non-null  int64 \n",
      " 7   registration_month  319155 non-null  int64 \n",
      " 8   fuel_type           319155 non-null  object\n",
      " 9   brand               319155 non-null  object\n",
      " 10  repaired            319155 non-null  int64 \n",
      "dtypes: int64(6), object(5)\n",
      "memory usage: 29.2+ MB\n"
     ]
    }
   ],
   "source": [
    "data_cut.info()"
   ]
  },
  {
   "cell_type": "code",
   "execution_count": 28,
   "metadata": {},
   "outputs": [
    {
     "data": {
      "text/plain": [
       "0.09937099464117916"
      ]
     },
     "execution_count": 28,
     "metadata": {},
     "output_type": "execute_result"
    }
   ],
   "source": [
    "1 - data_cut.shape[0]/data_shape0 # доля потерь"
   ]
  },
  {
   "cell_type": "code",
   "execution_count": 29,
   "metadata": {},
   "outputs": [
    {
     "data": {
      "image/png": "[encoded data removed]",
      "text/plain": [
       "<Figure size 720x720 with 20 Axes>"
      ]
     },
     "metadata": {
      "needs_background": "light"
     },
     "output_type": "display_data"
    }
   ],
   "source": [
    "sns.pairplot(data_cut[numeric]);"
   ]
  },
  {
   "cell_type": "code",
   "execution_count": 30,
   "metadata": {},
   "outputs": [
    {
     "data": {
      "text/html": [
       "<div>\n",
       "<style scoped>\n",
       "    .dataframe tbody tr th:only-of-type {\n",
       "        vertical-align: middle;\n",
       "    }\n",
       "\n",
       "    .dataframe tbody tr th {\n",
       "        vertical-align: top;\n",
       "    }\n",
       "\n",
       "    .dataframe thead th {\n",
       "        text-align: right;\n",
       "    }\n",
       "</style>\n",
       "<table border=\"1\" class=\"dataframe\">\n",
       "  <thead>\n",
       "    <tr style=\"text-align: right;\">\n",
       "      <th></th>\n",
       "      <th>price</th>\n",
       "      <th>registration_year</th>\n",
       "      <th>power</th>\n",
       "      <th>registration_month</th>\n",
       "    </tr>\n",
       "  </thead>\n",
       "  <tbody>\n",
       "    <tr>\n",
       "      <th>price</th>\n",
       "      <td>1.000000</td>\n",
       "      <td>0.447703</td>\n",
       "      <td>0.453077</td>\n",
       "      <td>0.098260</td>\n",
       "    </tr>\n",
       "    <tr>\n",
       "      <th>registration_year</th>\n",
       "      <td>0.447703</td>\n",
       "      <td>1.000000</td>\n",
       "      <td>0.128173</td>\n",
       "      <td>0.063408</td>\n",
       "    </tr>\n",
       "    <tr>\n",
       "      <th>power</th>\n",
       "      <td>0.453077</td>\n",
       "      <td>0.128173</td>\n",
       "      <td>1.000000</td>\n",
       "      <td>0.109332</td>\n",
       "    </tr>\n",
       "    <tr>\n",
       "      <th>registration_month</th>\n",
       "      <td>0.098260</td>\n",
       "      <td>0.063408</td>\n",
       "      <td>0.109332</td>\n",
       "      <td>1.000000</td>\n",
       "    </tr>\n",
       "  </tbody>\n",
       "</table>\n",
       "</div>"
      ],
      "text/plain": [
       "                       price  registration_year     power  registration_month\n",
       "price               1.000000           0.447703  0.453077            0.098260\n",
       "registration_year   0.447703           1.000000  0.128173            0.063408\n",
       "power               0.453077           0.128173  1.000000            0.109332\n",
       "registration_month  0.098260           0.063408  0.109332            1.000000"
      ]
     },
     "execution_count": 30,
     "metadata": {},
     "output_type": "execute_result"
    }
   ],
   "source": [
    "data_cut[numeric].corr()"
   ]
  },
  {
   "cell_type": "markdown",
   "metadata": {},
   "source": [
    "1. Теоретически некоторые данные могут совпадать, поэтому удалять дубликаты не требуется.\n",
    "2. Удалим столбцы, которые не нужны для предсказания стоимости автомобиля. \n",
    "3. Заполним пропущенные значения в столбце `repaired` случайными значениями 0 или 1 и заменим строки *yes* и *no* на 1 и 0 соответственно.  Пропущенные значения в столбце `gearbox` заменим в случайном порядке строками *manual* или *auto*. Пропущенные значения в столбцах `vehicle_type`, `fuel_type` и `model` отнесем к категории *other*. \n",
    "4. Удалили выбросы, доля потерь не превышает 10%.\n",
    "5. Распределения численных признаков схожи с распределением Пуассона, наибольшая корреляция для численных признаков наблюдается между ценой и годом регистрации, ценой и мощностью автомобиля."
   ]
  },
  {
   "cell_type": "markdown",
   "metadata": {},
   "source": [
    "<div class=\"alert alert-success\">\n",
    "<h2> Комментарий ревьюера <a class=\"tocSkip\"> </h2>\n",
    "\n",
    "<b>Все отлично!👍:</b> \n",
    "    \n",
    "Молодец, что пишешь промежуточный вывод."
   ]
  },
  {
   "cell_type": "markdown",
   "metadata": {},
   "source": [
    "<div class=\"alert alert-warning\">\n",
    "    <h2> Комментарий ревьюера <a class=\"tocSkip\"> </h2>\n",
    "    \n",
    "<b>Некоторые замечания и рекомендации💡:</b> \n",
    "        \n",
    "Можно также построить диаграммы рассеяния для численных переменных, чтобы более подробно изучить характер взаимосвязи между переменными, и провести корреляционный анализ.\n",
    "        \n",
    "Также можно посмотреть на распределения на гистограммах численных признаков."
   ]
  },
  {
   "cell_type": "markdown",
   "metadata": {},
   "source": [
    "## Обучение моделей"
   ]
  },
  {
   "cell_type": "markdown",
   "metadata": {},
   "source": [
    "### Разделение и подготовка выборок "
   ]
  },
  {
   "cell_type": "code",
   "execution_count": 31,
   "metadata": {},
   "outputs": [],
   "source": [
    "features = data_cut.drop(['price'], axis=1)\n",
    "target = data_cut['price']"
   ]
  },
  {
   "cell_type": "code",
   "execution_count": 32,
   "metadata": {},
   "outputs": [],
   "source": [
    "features_train_valid, features_test, target_train_valid, target_test = train_test_split(\n",
    "    features, target, test_size=0.2, random_state=12345)# отделяем 80% данных для обучающей и валидацианной выборки\n"
   ]
  },
  {
   "cell_type": "code",
   "execution_count": 33,
   "metadata": {},
   "outputs": [
    {
     "name": "stdout",
     "output_type": "stream",
     "text": [
      "(255324, 10)\n",
      "(63831, 10)\n",
      "(255324,)\n",
      "(63831,)\n"
     ]
    }
   ],
   "source": [
    "print(features_train_valid.shape)\n",
    "print(features_test.shape)\n",
    "print(target_train_valid.shape)\n",
    "print(target_test.shape)"
   ]
  },
  {
   "cell_type": "code",
   "execution_count": 34,
   "metadata": {},
   "outputs": [],
   "source": [
    "numeric_features = numeric[1:]\n",
    "\n",
    "scaler = StandardScaler() \n",
    "scaler.fit(features_train_valid[numeric_features])\n",
    "\n",
    "features_train_valid_tmp = features_train_valid.copy().reset_index(drop=True)\n",
    "features_train_valid_tmp.loc[:, numeric_features] = scaler.transform(features_train_valid[numeric_features]) # масштабирование\n",
    "features_test_tmp = features_test.copy().reset_index(drop=True)\n",
    "features_test_tmp.loc[:, numeric_features] = scaler.transform(features_test[numeric_features])\n"
   ]
  },
  {
   "cell_type": "code",
   "execution_count": 35,
   "metadata": {},
   "outputs": [],
   "source": [
    "le = LabelEncoder()#unknown_value=-1\n",
    "code_columns = ['model', 'brand', 'vehicle_type', 'fuel_type', 'gearbox', 'kilometer'] # добавил kilometer\n",
    "\n",
    "\n",
    "features_train_valid_labeled = features_train_valid_tmp.copy()\n",
    "features_test_labeled = features_test_tmp.copy()\n",
    "\n",
    "for col in code_columns:\n",
    "    le.fit(features_train_valid_tmp[col])\n",
    "    features_train_valid_labeled[col] = le.transform(features_train_valid_tmp[col]) # масштабирование\n",
    "    features_test_labeled[col] = le.transform(features_test_tmp[col])"
   ]
  },
  {
   "cell_type": "code",
   "execution_count": 36,
   "metadata": {},
   "outputs": [],
   "source": [
    "ohe = OneHotEncoder(drop = 'first') # кодируем категориальные данные с помощью OHE\n",
    "ohe.fit(features_train_valid_labeled[code_columns[1:]])\n",
    "\n",
    "array_hot_encoded_train_valid = ohe.transform(features_train_valid_labeled[code_columns[1:]]).toarray()\n",
    "array_hot_encoded_test = ohe.transform(features_test_labeled[code_columns[1:]]).toarray()\n",
    "\n",
    "data_hot_encoded_train_valid = pd.DataFrame(array_hot_encoded_train_valid, index=features_train_valid_labeled.index)\n",
    "data_hot_encoded_test = pd.DataFrame(array_hot_encoded_test, index=features_test_labeled.index)\n",
    "\n",
    "data_other_cols_train_valid = features_train_valid_labeled.drop(columns=code_columns[1:])\n",
    "data_other_cols_test = features_test_labeled.drop(columns=code_columns[1:])\n",
    "\n",
    "features_train_valid_hot_encoded = pd.concat([data_hot_encoded_train_valid, data_other_cols_train_valid], axis=1)\n",
    "features_test_hot_encoded = pd.concat([data_hot_encoded_test, data_other_cols_test], axis=1)"
   ]
  },
  {
   "cell_type": "code",
   "execution_count": 37,
   "metadata": {
    "scrolled": true
   },
   "outputs": [
    {
     "data": {
      "text/html": [
       "<div>\n",
       "<style scoped>\n",
       "    .dataframe tbody tr th:only-of-type {\n",
       "        vertical-align: middle;\n",
       "    }\n",
       "\n",
       "    .dataframe tbody tr th {\n",
       "        vertical-align: top;\n",
       "    }\n",
       "\n",
       "    .dataframe thead th {\n",
       "        text-align: right;\n",
       "    }\n",
       "</style>\n",
       "<table border=\"1\" class=\"dataframe\">\n",
       "  <thead>\n",
       "    <tr style=\"text-align: right;\">\n",
       "      <th></th>\n",
       "      <th>0</th>\n",
       "      <th>1</th>\n",
       "      <th>2</th>\n",
       "      <th>3</th>\n",
       "      <th>4</th>\n",
       "      <th>5</th>\n",
       "      <th>6</th>\n",
       "      <th>7</th>\n",
       "      <th>8</th>\n",
       "      <th>9</th>\n",
       "      <th>...</th>\n",
       "      <th>60</th>\n",
       "      <th>61</th>\n",
       "      <th>62</th>\n",
       "      <th>63</th>\n",
       "      <th>64</th>\n",
       "      <th>registration_year</th>\n",
       "      <th>power</th>\n",
       "      <th>model</th>\n",
       "      <th>registration_month</th>\n",
       "      <th>repaired</th>\n",
       "    </tr>\n",
       "  </thead>\n",
       "  <tbody>\n",
       "    <tr>\n",
       "      <th>0</th>\n",
       "      <td>0.0</td>\n",
       "      <td>0.0</td>\n",
       "      <td>0.0</td>\n",
       "      <td>0.0</td>\n",
       "      <td>0.0</td>\n",
       "      <td>0.0</td>\n",
       "      <td>0.0</td>\n",
       "      <td>0.0</td>\n",
       "      <td>0.0</td>\n",
       "      <td>0.0</td>\n",
       "      <td>...</td>\n",
       "      <td>1.0</td>\n",
       "      <td>0.0</td>\n",
       "      <td>0.0</td>\n",
       "      <td>0.0</td>\n",
       "      <td>0.0</td>\n",
       "      <td>0.539794</td>\n",
       "      <td>-0.502888</td>\n",
       "      <td>75</td>\n",
       "      <td>-1.304706</td>\n",
       "      <td>0</td>\n",
       "    </tr>\n",
       "    <tr>\n",
       "      <th>1</th>\n",
       "      <td>0.0</td>\n",
       "      <td>0.0</td>\n",
       "      <td>0.0</td>\n",
       "      <td>0.0</td>\n",
       "      <td>0.0</td>\n",
       "      <td>0.0</td>\n",
       "      <td>0.0</td>\n",
       "      <td>0.0</td>\n",
       "      <td>0.0</td>\n",
       "      <td>0.0</td>\n",
       "      <td>...</td>\n",
       "      <td>0.0</td>\n",
       "      <td>0.0</td>\n",
       "      <td>0.0</td>\n",
       "      <td>0.0</td>\n",
       "      <td>1.0</td>\n",
       "      <td>1.145270</td>\n",
       "      <td>-0.263669</td>\n",
       "      <td>119</td>\n",
       "      <td>-0.490742</td>\n",
       "      <td>0</td>\n",
       "    </tr>\n",
       "    <tr>\n",
       "      <th>2</th>\n",
       "      <td>0.0</td>\n",
       "      <td>0.0</td>\n",
       "      <td>0.0</td>\n",
       "      <td>0.0</td>\n",
       "      <td>0.0</td>\n",
       "      <td>0.0</td>\n",
       "      <td>0.0</td>\n",
       "      <td>0.0</td>\n",
       "      <td>0.0</td>\n",
       "      <td>0.0</td>\n",
       "      <td>...</td>\n",
       "      <td>0.0</td>\n",
       "      <td>0.0</td>\n",
       "      <td>0.0</td>\n",
       "      <td>0.0</td>\n",
       "      <td>0.0</td>\n",
       "      <td>1.750746</td>\n",
       "      <td>-0.598576</td>\n",
       "      <td>173</td>\n",
       "      <td>-1.304706</td>\n",
       "      <td>0</td>\n",
       "    </tr>\n",
       "    <tr>\n",
       "      <th>3</th>\n",
       "      <td>0.0</td>\n",
       "      <td>0.0</td>\n",
       "      <td>0.0</td>\n",
       "      <td>0.0</td>\n",
       "      <td>0.0</td>\n",
       "      <td>0.0</td>\n",
       "      <td>0.0</td>\n",
       "      <td>0.0</td>\n",
       "      <td>0.0</td>\n",
       "      <td>0.0</td>\n",
       "      <td>...</td>\n",
       "      <td>0.0</td>\n",
       "      <td>0.0</td>\n",
       "      <td>0.0</td>\n",
       "      <td>0.0</td>\n",
       "      <td>0.0</td>\n",
       "      <td>1.448008</td>\n",
       "      <td>0.039342</td>\n",
       "      <td>187</td>\n",
       "      <td>0.594544</td>\n",
       "      <td>0</td>\n",
       "    </tr>\n",
       "    <tr>\n",
       "      <th>4</th>\n",
       "      <td>1.0</td>\n",
       "      <td>0.0</td>\n",
       "      <td>0.0</td>\n",
       "      <td>0.0</td>\n",
       "      <td>0.0</td>\n",
       "      <td>0.0</td>\n",
       "      <td>0.0</td>\n",
       "      <td>0.0</td>\n",
       "      <td>0.0</td>\n",
       "      <td>0.0</td>\n",
       "      <td>...</td>\n",
       "      <td>0.0</td>\n",
       "      <td>0.0</td>\n",
       "      <td>0.0</td>\n",
       "      <td>0.0</td>\n",
       "      <td>1.0</td>\n",
       "      <td>0.691163</td>\n",
       "      <td>0.533728</td>\n",
       "      <td>28</td>\n",
       "      <td>1.679829</td>\n",
       "      <td>0</td>\n",
       "    </tr>\n",
       "  </tbody>\n",
       "</table>\n",
       "<p>5 rows × 70 columns</p>\n",
       "</div>"
      ],
      "text/plain": [
       "     0    1    2    3    4    5    6    7    8    9  ...   60   61   62   63  \\\n",
       "0  0.0  0.0  0.0  0.0  0.0  0.0  0.0  0.0  0.0  0.0  ...  1.0  0.0  0.0  0.0   \n",
       "1  0.0  0.0  0.0  0.0  0.0  0.0  0.0  0.0  0.0  0.0  ...  0.0  0.0  0.0  0.0   \n",
       "2  0.0  0.0  0.0  0.0  0.0  0.0  0.0  0.0  0.0  0.0  ...  0.0  0.0  0.0  0.0   \n",
       "3  0.0  0.0  0.0  0.0  0.0  0.0  0.0  0.0  0.0  0.0  ...  0.0  0.0  0.0  0.0   \n",
       "4  1.0  0.0  0.0  0.0  0.0  0.0  0.0  0.0  0.0  0.0  ...  0.0  0.0  0.0  0.0   \n",
       "\n",
       "    64  registration_year     power  model  registration_month  repaired  \n",
       "0  0.0           0.539794 -0.502888     75           -1.304706         0  \n",
       "1  1.0           1.145270 -0.263669    119           -0.490742         0  \n",
       "2  0.0           1.750746 -0.598576    173           -1.304706         0  \n",
       "3  0.0           1.448008  0.039342    187            0.594544         0  \n",
       "4  1.0           0.691163  0.533728     28            1.679829         0  \n",
       "\n",
       "[5 rows x 70 columns]"
      ]
     },
     "execution_count": 37,
     "metadata": {},
     "output_type": "execute_result"
    }
   ],
   "source": [
    "features_train_valid_hot_encoded.head()"
   ]
  },
  {
   "cell_type": "markdown",
   "metadata": {},
   "source": [
    "<div class=\"alert alert-info\"> <b>Комментарий студента:</b>\n",
    "Привет. Столбец model я пробовал преобразовать методом OHE, но тогда при переходе к ячейке с train_test_split ядро умирает.\n",
    "\n",
    "</div>\n",
    "\n",
    "\n"
   ]
  },
  {
   "cell_type": "code",
   "execution_count": 38,
   "metadata": {},
   "outputs": [],
   "source": [
    "target_test = target_test.reset_index(drop=True)\n",
    "target_train_valid = target_train_valid.reset_index(drop=True)"
   ]
  },
  {
   "cell_type": "markdown",
   "metadata": {},
   "source": [
    "<div class=\"alert alert-warning\">\n",
    "    <h2> Комментарий ревьюера <a class=\"tocSkip\"> </h2>\n",
    "    \n",
    "<b>Некоторые замечания и рекомендации💡:</b> \n",
    "        \n",
    "Привет! Можно попробовать применить только к model порядковое кодирование, а к остальным one-hot кодирование для обучения линейной регрессии."
   ]
  },
  {
   "cell_type": "markdown",
   "metadata": {},
   "source": [
    "<div class=\"alert alert-success\">\n",
    "<h2> Комментарий ревьюера <a class=\"tocSkip\"> </h2>\n",
    "\n",
    "<b>Все отлично!👍:</b> \n",
    "    \n",
    "Масштабирование проведено корректно."
   ]
  },
  {
   "cell_type": "code",
   "execution_count": 39,
   "metadata": {},
   "outputs": [],
   "source": [
    "del data, features_train_valid, features_test, features, target"
   ]
  },
  {
   "cell_type": "markdown",
   "metadata": {},
   "source": [
    "Разделили данные на выборки, сделали масштабирование признаков, создали выборки с категориальными значениями, закодированными с помощью LabelEncoder и OHE отдельно."
   ]
  },
  {
   "cell_type": "markdown",
   "metadata": {},
   "source": [
    "### Случайный лес\n"
   ]
  },
  {
   "cell_type": "markdown",
   "metadata": {},
   "source": [
    "\n",
    "\n",
    "        \n",
    "<div class=\"alert alert-warning\">\n",
    "    <h2> Комментарий ревьюера <a class=\"tocSkip\"> </h2>\n",
    "    \n",
    "<b>Некоторые замечания и рекомендации💡:</b> \n",
    "        \n",
    "Для моделей на основе деревьев решений лучше использовать порядковое кодирование категориальных признаков. Можно отдельно подготовить выборки для этой модели."
   ]
  },
  {
   "cell_type": "code",
   "execution_count": 40,
   "metadata": {},
   "outputs": [],
   "source": [
    "grid = GridSearchCV( # для подбора параметров случайного леса\n",
    "    RandomForestRegressor(random_state=12345),\n",
    "    param_grid={'max_depth':range(12, 17, 2), 'n_estimators':range(90, 101, 10)}, # меняем гиперпараметры\n",
    "    scoring = 'neg_mean_squared_error', \n",
    "    cv = 4, # разделение данных на 4 части, одну из них используем как валидационную\n",
    "    n_jobs=-1\n",
    ")\n"
   ]
  },
  {
   "cell_type": "markdown",
   "metadata": {},
   "source": [
    "<div class=\"alert alert-success\">\n",
    "<h2> Комментарий ревьюера <a class=\"tocSkip\"> </h2>\n",
    "\n",
    "<b>Все отлично!👍:</b> \n",
    "    \n",
    "Молодец, что перебираешь гиперпараметры."
   ]
  },
  {
   "cell_type": "code",
   "execution_count": 41,
   "metadata": {},
   "outputs": [
    {
     "ename": "KeyboardInterrupt",
     "evalue": "",
     "output_type": "error",
     "traceback": [
      "\u001b[0;31m---------------------------------------------------------------------------\u001b[0m",
      "\u001b[0;31mKeyboardInterrupt\u001b[0m                         Traceback (most recent call last)",
      "\u001b[0;32m<timed eval>\u001b[0m in \u001b[0;36m<module>\u001b[0;34m\u001b[0m\n",
      "\u001b[0;32m/opt/conda/lib/python3.9/site-packages/sklearn/utils/validation.py\u001b[0m in \u001b[0;36minner_f\u001b[0;34m(*args, **kwargs)\u001b[0m\n\u001b[1;32m     61\u001b[0m             \u001b[0mextra_args\u001b[0m \u001b[0;34m=\u001b[0m \u001b[0mlen\u001b[0m\u001b[0;34m(\u001b[0m\u001b[0margs\u001b[0m\u001b[0;34m)\u001b[0m \u001b[0;34m-\u001b[0m \u001b[0mlen\u001b[0m\u001b[0;34m(\u001b[0m\u001b[0mall_args\u001b[0m\u001b[0;34m)\u001b[0m\u001b[0;34m\u001b[0m\u001b[0;34m\u001b[0m\u001b[0m\n\u001b[1;32m     62\u001b[0m             \u001b[0;32mif\u001b[0m \u001b[0mextra_args\u001b[0m \u001b[0;34m<=\u001b[0m \u001b[0;36m0\u001b[0m\u001b[0;34m:\u001b[0m\u001b[0;34m\u001b[0m\u001b[0;34m\u001b[0m\u001b[0m\n\u001b[0;32m---> 63\u001b[0;31m                 \u001b[0;32mreturn\u001b[0m \u001b[0mf\u001b[0m\u001b[0;34m(\u001b[0m\u001b[0;34m*\u001b[0m\u001b[0margs\u001b[0m\u001b[0;34m,\u001b[0m \u001b[0;34m**\u001b[0m\u001b[0mkwargs\u001b[0m\u001b[0;34m)\u001b[0m\u001b[0;34m\u001b[0m\u001b[0;34m\u001b[0m\u001b[0m\n\u001b[0m\u001b[1;32m     64\u001b[0m \u001b[0;34m\u001b[0m\u001b[0m\n\u001b[1;32m     65\u001b[0m             \u001b[0;31m# extra_args > 0\u001b[0m\u001b[0;34m\u001b[0m\u001b[0;34m\u001b[0m\u001b[0;34m\u001b[0m\u001b[0m\n",
      "\u001b[0;32m/opt/conda/lib/python3.9/site-packages/sklearn/model_selection/_search.py\u001b[0m in \u001b[0;36mfit\u001b[0;34m(self, X, y, groups, **fit_params)\u001b[0m\n\u001b[1;32m    839\u001b[0m                 \u001b[0;32mreturn\u001b[0m \u001b[0mresults\u001b[0m\u001b[0;34m\u001b[0m\u001b[0;34m\u001b[0m\u001b[0m\n\u001b[1;32m    840\u001b[0m \u001b[0;34m\u001b[0m\u001b[0m\n\u001b[0;32m--> 841\u001b[0;31m             \u001b[0mself\u001b[0m\u001b[0;34m.\u001b[0m\u001b[0m_run_search\u001b[0m\u001b[0;34m(\u001b[0m\u001b[0mevaluate_candidates\u001b[0m\u001b[0;34m)\u001b[0m\u001b[0;34m\u001b[0m\u001b[0;34m\u001b[0m\u001b[0m\n\u001b[0m\u001b[1;32m    842\u001b[0m \u001b[0;34m\u001b[0m\u001b[0m\n\u001b[1;32m    843\u001b[0m             \u001b[0;31m# multimetric is determined here because in the case of a callable\u001b[0m\u001b[0;34m\u001b[0m\u001b[0;34m\u001b[0m\u001b[0;34m\u001b[0m\u001b[0m\n",
      "\u001b[0;32m/opt/conda/lib/python3.9/site-packages/sklearn/model_selection/_search.py\u001b[0m in \u001b[0;36m_run_search\u001b[0;34m(self, evaluate_candidates)\u001b[0m\n\u001b[1;32m   1286\u001b[0m     \u001b[0;32mdef\u001b[0m \u001b[0m_run_search\u001b[0m\u001b[0;34m(\u001b[0m\u001b[0mself\u001b[0m\u001b[0;34m,\u001b[0m \u001b[0mevaluate_candidates\u001b[0m\u001b[0;34m)\u001b[0m\u001b[0;34m:\u001b[0m\u001b[0;34m\u001b[0m\u001b[0;34m\u001b[0m\u001b[0m\n\u001b[1;32m   1287\u001b[0m         \u001b[0;34m\"\"\"Search all candidates in param_grid\"\"\"\u001b[0m\u001b[0;34m\u001b[0m\u001b[0;34m\u001b[0m\u001b[0m\n\u001b[0;32m-> 1288\u001b[0;31m         \u001b[0mevaluate_candidates\u001b[0m\u001b[0;34m(\u001b[0m\u001b[0mParameterGrid\u001b[0m\u001b[0;34m(\u001b[0m\u001b[0mself\u001b[0m\u001b[0;34m.\u001b[0m\u001b[0mparam_grid\u001b[0m\u001b[0;34m)\u001b[0m\u001b[0;34m)\u001b[0m\u001b[0;34m\u001b[0m\u001b[0;34m\u001b[0m\u001b[0m\n\u001b[0m\u001b[1;32m   1289\u001b[0m \u001b[0;34m\u001b[0m\u001b[0m\n\u001b[1;32m   1290\u001b[0m \u001b[0;34m\u001b[0m\u001b[0m\n",
      "\u001b[0;32m/opt/conda/lib/python3.9/site-packages/sklearn/model_selection/_search.py\u001b[0m in \u001b[0;36mevaluate_candidates\u001b[0;34m(candidate_params, cv, more_results)\u001b[0m\n\u001b[1;32m    793\u001b[0m                               n_splits, n_candidates, n_candidates * n_splits))\n\u001b[1;32m    794\u001b[0m \u001b[0;34m\u001b[0m\u001b[0m\n\u001b[0;32m--> 795\u001b[0;31m                 out = parallel(delayed(_fit_and_score)(clone(base_estimator),\n\u001b[0m\u001b[1;32m    796\u001b[0m                                                        \u001b[0mX\u001b[0m\u001b[0;34m,\u001b[0m \u001b[0my\u001b[0m\u001b[0;34m,\u001b[0m\u001b[0;34m\u001b[0m\u001b[0;34m\u001b[0m\u001b[0m\n\u001b[1;32m    797\u001b[0m                                                        \u001b[0mtrain\u001b[0m\u001b[0;34m=\u001b[0m\u001b[0mtrain\u001b[0m\u001b[0;34m,\u001b[0m \u001b[0mtest\u001b[0m\u001b[0;34m=\u001b[0m\u001b[0mtest\u001b[0m\u001b[0;34m,\u001b[0m\u001b[0;34m\u001b[0m\u001b[0;34m\u001b[0m\u001b[0m\n",
      "\u001b[0;32m/opt/conda/lib/python3.9/site-packages/joblib/parallel.py\u001b[0m in \u001b[0;36m__call__\u001b[0;34m(self, iterable)\u001b[0m\n\u001b[1;32m   1044\u001b[0m                 \u001b[0mself\u001b[0m\u001b[0;34m.\u001b[0m\u001b[0m_iterating\u001b[0m \u001b[0;34m=\u001b[0m \u001b[0mself\u001b[0m\u001b[0;34m.\u001b[0m\u001b[0m_original_iterator\u001b[0m \u001b[0;32mis\u001b[0m \u001b[0;32mnot\u001b[0m \u001b[0;32mNone\u001b[0m\u001b[0;34m\u001b[0m\u001b[0;34m\u001b[0m\u001b[0m\n\u001b[1;32m   1045\u001b[0m \u001b[0;34m\u001b[0m\u001b[0m\n\u001b[0;32m-> 1046\u001b[0;31m             \u001b[0;32mwhile\u001b[0m \u001b[0mself\u001b[0m\u001b[0;34m.\u001b[0m\u001b[0mdispatch_one_batch\u001b[0m\u001b[0;34m(\u001b[0m\u001b[0miterator\u001b[0m\u001b[0;34m)\u001b[0m\u001b[0;34m:\u001b[0m\u001b[0;34m\u001b[0m\u001b[0;34m\u001b[0m\u001b[0m\n\u001b[0m\u001b[1;32m   1047\u001b[0m                 \u001b[0;32mpass\u001b[0m\u001b[0;34m\u001b[0m\u001b[0;34m\u001b[0m\u001b[0m\n\u001b[1;32m   1048\u001b[0m \u001b[0;34m\u001b[0m\u001b[0m\n",
      "\u001b[0;32m/opt/conda/lib/python3.9/site-packages/joblib/parallel.py\u001b[0m in \u001b[0;36mdispatch_one_batch\u001b[0;34m(self, iterator)\u001b[0m\n\u001b[1;32m    859\u001b[0m                 \u001b[0;32mreturn\u001b[0m \u001b[0;32mFalse\u001b[0m\u001b[0;34m\u001b[0m\u001b[0;34m\u001b[0m\u001b[0m\n\u001b[1;32m    860\u001b[0m             \u001b[0;32melse\u001b[0m\u001b[0;34m:\u001b[0m\u001b[0;34m\u001b[0m\u001b[0;34m\u001b[0m\u001b[0m\n\u001b[0;32m--> 861\u001b[0;31m                 \u001b[0mself\u001b[0m\u001b[0;34m.\u001b[0m\u001b[0m_dispatch\u001b[0m\u001b[0;34m(\u001b[0m\u001b[0mtasks\u001b[0m\u001b[0;34m)\u001b[0m\u001b[0;34m\u001b[0m\u001b[0;34m\u001b[0m\u001b[0m\n\u001b[0m\u001b[1;32m    862\u001b[0m                 \u001b[0;32mreturn\u001b[0m \u001b[0;32mTrue\u001b[0m\u001b[0;34m\u001b[0m\u001b[0;34m\u001b[0m\u001b[0m\n\u001b[1;32m    863\u001b[0m \u001b[0;34m\u001b[0m\u001b[0m\n",
      "\u001b[0;32m/opt/conda/lib/python3.9/site-packages/joblib/parallel.py\u001b[0m in \u001b[0;36m_dispatch\u001b[0;34m(self, batch)\u001b[0m\n\u001b[1;32m    777\u001b[0m         \u001b[0;32mwith\u001b[0m \u001b[0mself\u001b[0m\u001b[0;34m.\u001b[0m\u001b[0m_lock\u001b[0m\u001b[0;34m:\u001b[0m\u001b[0;34m\u001b[0m\u001b[0;34m\u001b[0m\u001b[0m\n\u001b[1;32m    778\u001b[0m             \u001b[0mjob_idx\u001b[0m \u001b[0;34m=\u001b[0m \u001b[0mlen\u001b[0m\u001b[0;34m(\u001b[0m\u001b[0mself\u001b[0m\u001b[0;34m.\u001b[0m\u001b[0m_jobs\u001b[0m\u001b[0;34m)\u001b[0m\u001b[0;34m\u001b[0m\u001b[0;34m\u001b[0m\u001b[0m\n\u001b[0;32m--> 779\u001b[0;31m             \u001b[0mjob\u001b[0m \u001b[0;34m=\u001b[0m \u001b[0mself\u001b[0m\u001b[0;34m.\u001b[0m\u001b[0m_backend\u001b[0m\u001b[0;34m.\u001b[0m\u001b[0mapply_async\u001b[0m\u001b[0;34m(\u001b[0m\u001b[0mbatch\u001b[0m\u001b[0;34m,\u001b[0m \u001b[0mcallback\u001b[0m\u001b[0;34m=\u001b[0m\u001b[0mcb\u001b[0m\u001b[0;34m)\u001b[0m\u001b[0;34m\u001b[0m\u001b[0;34m\u001b[0m\u001b[0m\n\u001b[0m\u001b[1;32m    780\u001b[0m             \u001b[0;31m# A job can complete so quickly than its callback is\u001b[0m\u001b[0;34m\u001b[0m\u001b[0;34m\u001b[0m\u001b[0;34m\u001b[0m\u001b[0m\n\u001b[1;32m    781\u001b[0m             \u001b[0;31m# called before we get here, causing self._jobs to\u001b[0m\u001b[0;34m\u001b[0m\u001b[0;34m\u001b[0m\u001b[0;34m\u001b[0m\u001b[0m\n",
      "\u001b[0;32m/opt/conda/lib/python3.9/site-packages/joblib/_parallel_backends.py\u001b[0m in \u001b[0;36mapply_async\u001b[0;34m(self, func, callback)\u001b[0m\n\u001b[1;32m    206\u001b[0m     \u001b[0;32mdef\u001b[0m \u001b[0mapply_async\u001b[0m\u001b[0;34m(\u001b[0m\u001b[0mself\u001b[0m\u001b[0;34m,\u001b[0m \u001b[0mfunc\u001b[0m\u001b[0;34m,\u001b[0m \u001b[0mcallback\u001b[0m\u001b[0;34m=\u001b[0m\u001b[0;32mNone\u001b[0m\u001b[0;34m)\u001b[0m\u001b[0;34m:\u001b[0m\u001b[0;34m\u001b[0m\u001b[0;34m\u001b[0m\u001b[0m\n\u001b[1;32m    207\u001b[0m         \u001b[0;34m\"\"\"Schedule a func to be run\"\"\"\u001b[0m\u001b[0;34m\u001b[0m\u001b[0;34m\u001b[0m\u001b[0m\n\u001b[0;32m--> 208\u001b[0;31m         \u001b[0mresult\u001b[0m \u001b[0;34m=\u001b[0m \u001b[0mImmediateResult\u001b[0m\u001b[0;34m(\u001b[0m\u001b[0mfunc\u001b[0m\u001b[0;34m)\u001b[0m\u001b[0;34m\u001b[0m\u001b[0;34m\u001b[0m\u001b[0m\n\u001b[0m\u001b[1;32m    209\u001b[0m         \u001b[0;32mif\u001b[0m \u001b[0mcallback\u001b[0m\u001b[0;34m:\u001b[0m\u001b[0;34m\u001b[0m\u001b[0;34m\u001b[0m\u001b[0m\n\u001b[1;32m    210\u001b[0m             \u001b[0mcallback\u001b[0m\u001b[0;34m(\u001b[0m\u001b[0mresult\u001b[0m\u001b[0;34m)\u001b[0m\u001b[0;34m\u001b[0m\u001b[0;34m\u001b[0m\u001b[0m\n",
      "\u001b[0;32m/opt/conda/lib/python3.9/site-packages/joblib/_parallel_backends.py\u001b[0m in \u001b[0;36m__init__\u001b[0;34m(self, batch)\u001b[0m\n\u001b[1;32m    570\u001b[0m         \u001b[0;31m# Don't delay the application, to avoid keeping the input\u001b[0m\u001b[0;34m\u001b[0m\u001b[0;34m\u001b[0m\u001b[0;34m\u001b[0m\u001b[0m\n\u001b[1;32m    571\u001b[0m         \u001b[0;31m# arguments in memory\u001b[0m\u001b[0;34m\u001b[0m\u001b[0;34m\u001b[0m\u001b[0;34m\u001b[0m\u001b[0m\n\u001b[0;32m--> 572\u001b[0;31m         \u001b[0mself\u001b[0m\u001b[0;34m.\u001b[0m\u001b[0mresults\u001b[0m \u001b[0;34m=\u001b[0m \u001b[0mbatch\u001b[0m\u001b[0;34m(\u001b[0m\u001b[0;34m)\u001b[0m\u001b[0;34m\u001b[0m\u001b[0;34m\u001b[0m\u001b[0m\n\u001b[0m\u001b[1;32m    573\u001b[0m \u001b[0;34m\u001b[0m\u001b[0m\n\u001b[1;32m    574\u001b[0m     \u001b[0;32mdef\u001b[0m \u001b[0mget\u001b[0m\u001b[0;34m(\u001b[0m\u001b[0mself\u001b[0m\u001b[0;34m)\u001b[0m\u001b[0;34m:\u001b[0m\u001b[0;34m\u001b[0m\u001b[0;34m\u001b[0m\u001b[0m\n",
      "\u001b[0;32m/opt/conda/lib/python3.9/site-packages/joblib/parallel.py\u001b[0m in \u001b[0;36m__call__\u001b[0;34m(self)\u001b[0m\n\u001b[1;32m    260\u001b[0m         \u001b[0;31m# change the default number of processes to -1\u001b[0m\u001b[0;34m\u001b[0m\u001b[0;34m\u001b[0m\u001b[0;34m\u001b[0m\u001b[0m\n\u001b[1;32m    261\u001b[0m         \u001b[0;32mwith\u001b[0m \u001b[0mparallel_backend\u001b[0m\u001b[0;34m(\u001b[0m\u001b[0mself\u001b[0m\u001b[0;34m.\u001b[0m\u001b[0m_backend\u001b[0m\u001b[0;34m,\u001b[0m \u001b[0mn_jobs\u001b[0m\u001b[0;34m=\u001b[0m\u001b[0mself\u001b[0m\u001b[0;34m.\u001b[0m\u001b[0m_n_jobs\u001b[0m\u001b[0;34m)\u001b[0m\u001b[0;34m:\u001b[0m\u001b[0;34m\u001b[0m\u001b[0;34m\u001b[0m\u001b[0m\n\u001b[0;32m--> 262\u001b[0;31m             return [func(*args, **kwargs)\n\u001b[0m\u001b[1;32m    263\u001b[0m                     for func, args, kwargs in self.items]\n\u001b[1;32m    264\u001b[0m \u001b[0;34m\u001b[0m\u001b[0m\n",
      "\u001b[0;32m/opt/conda/lib/python3.9/site-packages/joblib/parallel.py\u001b[0m in \u001b[0;36m<listcomp>\u001b[0;34m(.0)\u001b[0m\n\u001b[1;32m    260\u001b[0m         \u001b[0;31m# change the default number of processes to -1\u001b[0m\u001b[0;34m\u001b[0m\u001b[0;34m\u001b[0m\u001b[0;34m\u001b[0m\u001b[0m\n\u001b[1;32m    261\u001b[0m         \u001b[0;32mwith\u001b[0m \u001b[0mparallel_backend\u001b[0m\u001b[0;34m(\u001b[0m\u001b[0mself\u001b[0m\u001b[0;34m.\u001b[0m\u001b[0m_backend\u001b[0m\u001b[0;34m,\u001b[0m \u001b[0mn_jobs\u001b[0m\u001b[0;34m=\u001b[0m\u001b[0mself\u001b[0m\u001b[0;34m.\u001b[0m\u001b[0m_n_jobs\u001b[0m\u001b[0;34m)\u001b[0m\u001b[0;34m:\u001b[0m\u001b[0;34m\u001b[0m\u001b[0;34m\u001b[0m\u001b[0m\n\u001b[0;32m--> 262\u001b[0;31m             return [func(*args, **kwargs)\n\u001b[0m\u001b[1;32m    263\u001b[0m                     for func, args, kwargs in self.items]\n\u001b[1;32m    264\u001b[0m \u001b[0;34m\u001b[0m\u001b[0m\n",
      "\u001b[0;32m/opt/conda/lib/python3.9/site-packages/sklearn/utils/fixes.py\u001b[0m in \u001b[0;36m__call__\u001b[0;34m(self, *args, **kwargs)\u001b[0m\n\u001b[1;32m    220\u001b[0m     \u001b[0;32mdef\u001b[0m \u001b[0m__call__\u001b[0m\u001b[0;34m(\u001b[0m\u001b[0mself\u001b[0m\u001b[0;34m,\u001b[0m \u001b[0;34m*\u001b[0m\u001b[0margs\u001b[0m\u001b[0;34m,\u001b[0m \u001b[0;34m**\u001b[0m\u001b[0mkwargs\u001b[0m\u001b[0;34m)\u001b[0m\u001b[0;34m:\u001b[0m\u001b[0;34m\u001b[0m\u001b[0;34m\u001b[0m\u001b[0m\n\u001b[1;32m    221\u001b[0m         \u001b[0;32mwith\u001b[0m \u001b[0mconfig_context\u001b[0m\u001b[0;34m(\u001b[0m\u001b[0;34m**\u001b[0m\u001b[0mself\u001b[0m\u001b[0;34m.\u001b[0m\u001b[0mconfig\u001b[0m\u001b[0;34m)\u001b[0m\u001b[0;34m:\u001b[0m\u001b[0;34m\u001b[0m\u001b[0;34m\u001b[0m\u001b[0m\n\u001b[0;32m--> 222\u001b[0;31m             \u001b[0;32mreturn\u001b[0m \u001b[0mself\u001b[0m\u001b[0;34m.\u001b[0m\u001b[0mfunction\u001b[0m\u001b[0;34m(\u001b[0m\u001b[0;34m*\u001b[0m\u001b[0margs\u001b[0m\u001b[0;34m,\u001b[0m \u001b[0;34m**\u001b[0m\u001b[0mkwargs\u001b[0m\u001b[0;34m)\u001b[0m\u001b[0;34m\u001b[0m\u001b[0;34m\u001b[0m\u001b[0m\n\u001b[0m",
      "\u001b[0;32m/opt/conda/lib/python3.9/site-packages/sklearn/model_selection/_validation.py\u001b[0m in \u001b[0;36m_fit_and_score\u001b[0;34m(estimator, X, y, scorer, train, test, verbose, parameters, fit_params, return_train_score, return_parameters, return_n_test_samples, return_times, return_estimator, split_progress, candidate_progress, error_score)\u001b[0m\n\u001b[1;32m    591\u001b[0m             \u001b[0mestimator\u001b[0m\u001b[0;34m.\u001b[0m\u001b[0mfit\u001b[0m\u001b[0;34m(\u001b[0m\u001b[0mX_train\u001b[0m\u001b[0;34m,\u001b[0m \u001b[0;34m**\u001b[0m\u001b[0mfit_params\u001b[0m\u001b[0;34m)\u001b[0m\u001b[0;34m\u001b[0m\u001b[0;34m\u001b[0m\u001b[0m\n\u001b[1;32m    592\u001b[0m         \u001b[0;32melse\u001b[0m\u001b[0;34m:\u001b[0m\u001b[0;34m\u001b[0m\u001b[0;34m\u001b[0m\u001b[0m\n\u001b[0;32m--> 593\u001b[0;31m             \u001b[0mestimator\u001b[0m\u001b[0;34m.\u001b[0m\u001b[0mfit\u001b[0m\u001b[0;34m(\u001b[0m\u001b[0mX_train\u001b[0m\u001b[0;34m,\u001b[0m \u001b[0my_train\u001b[0m\u001b[0;34m,\u001b[0m \u001b[0;34m**\u001b[0m\u001b[0mfit_params\u001b[0m\u001b[0;34m)\u001b[0m\u001b[0;34m\u001b[0m\u001b[0;34m\u001b[0m\u001b[0m\n\u001b[0m\u001b[1;32m    594\u001b[0m \u001b[0;34m\u001b[0m\u001b[0m\n\u001b[1;32m    595\u001b[0m     \u001b[0;32mexcept\u001b[0m \u001b[0mException\u001b[0m \u001b[0;32mas\u001b[0m \u001b[0me\u001b[0m\u001b[0;34m:\u001b[0m\u001b[0;34m\u001b[0m\u001b[0;34m\u001b[0m\u001b[0m\n",
      "\u001b[0;32m/opt/conda/lib/python3.9/site-packages/sklearn/ensemble/_forest.py\u001b[0m in \u001b[0;36mfit\u001b[0;34m(self, X, y, sample_weight)\u001b[0m\n\u001b[1;32m    385\u001b[0m             \u001b[0;31m# parallel_backend contexts set at a higher level,\u001b[0m\u001b[0;34m\u001b[0m\u001b[0;34m\u001b[0m\u001b[0;34m\u001b[0m\u001b[0m\n\u001b[1;32m    386\u001b[0m             \u001b[0;31m# since correctness does not rely on using threads.\u001b[0m\u001b[0;34m\u001b[0m\u001b[0;34m\u001b[0m\u001b[0;34m\u001b[0m\u001b[0m\n\u001b[0;32m--> 387\u001b[0;31m             trees = Parallel(n_jobs=self.n_jobs, verbose=self.verbose,\n\u001b[0m\u001b[1;32m    388\u001b[0m                              \u001b[0;34m**\u001b[0m\u001b[0m_joblib_parallel_args\u001b[0m\u001b[0;34m(\u001b[0m\u001b[0mprefer\u001b[0m\u001b[0;34m=\u001b[0m\u001b[0;34m'threads'\u001b[0m\u001b[0;34m)\u001b[0m\u001b[0;34m)\u001b[0m\u001b[0;34m(\u001b[0m\u001b[0;34m\u001b[0m\u001b[0;34m\u001b[0m\u001b[0m\n\u001b[1;32m    389\u001b[0m                 delayed(_parallel_build_trees)(\n",
      "\u001b[0;32m/opt/conda/lib/python3.9/site-packages/joblib/parallel.py\u001b[0m in \u001b[0;36m__call__\u001b[0;34m(self, iterable)\u001b[0m\n\u001b[1;32m   1044\u001b[0m                 \u001b[0mself\u001b[0m\u001b[0;34m.\u001b[0m\u001b[0m_iterating\u001b[0m \u001b[0;34m=\u001b[0m \u001b[0mself\u001b[0m\u001b[0;34m.\u001b[0m\u001b[0m_original_iterator\u001b[0m \u001b[0;32mis\u001b[0m \u001b[0;32mnot\u001b[0m \u001b[0;32mNone\u001b[0m\u001b[0;34m\u001b[0m\u001b[0;34m\u001b[0m\u001b[0m\n\u001b[1;32m   1045\u001b[0m \u001b[0;34m\u001b[0m\u001b[0m\n\u001b[0;32m-> 1046\u001b[0;31m             \u001b[0;32mwhile\u001b[0m \u001b[0mself\u001b[0m\u001b[0;34m.\u001b[0m\u001b[0mdispatch_one_batch\u001b[0m\u001b[0;34m(\u001b[0m\u001b[0miterator\u001b[0m\u001b[0;34m)\u001b[0m\u001b[0;34m:\u001b[0m\u001b[0;34m\u001b[0m\u001b[0;34m\u001b[0m\u001b[0m\n\u001b[0m\u001b[1;32m   1047\u001b[0m                 \u001b[0;32mpass\u001b[0m\u001b[0;34m\u001b[0m\u001b[0;34m\u001b[0m\u001b[0m\n\u001b[1;32m   1048\u001b[0m \u001b[0;34m\u001b[0m\u001b[0m\n",
      "\u001b[0;32m/opt/conda/lib/python3.9/site-packages/joblib/parallel.py\u001b[0m in \u001b[0;36mdispatch_one_batch\u001b[0;34m(self, iterator)\u001b[0m\n\u001b[1;32m    859\u001b[0m                 \u001b[0;32mreturn\u001b[0m \u001b[0;32mFalse\u001b[0m\u001b[0;34m\u001b[0m\u001b[0;34m\u001b[0m\u001b[0m\n\u001b[1;32m    860\u001b[0m             \u001b[0;32melse\u001b[0m\u001b[0;34m:\u001b[0m\u001b[0;34m\u001b[0m\u001b[0;34m\u001b[0m\u001b[0m\n\u001b[0;32m--> 861\u001b[0;31m                 \u001b[0mself\u001b[0m\u001b[0;34m.\u001b[0m\u001b[0m_dispatch\u001b[0m\u001b[0;34m(\u001b[0m\u001b[0mtasks\u001b[0m\u001b[0;34m)\u001b[0m\u001b[0;34m\u001b[0m\u001b[0;34m\u001b[0m\u001b[0m\n\u001b[0m\u001b[1;32m    862\u001b[0m                 \u001b[0;32mreturn\u001b[0m \u001b[0;32mTrue\u001b[0m\u001b[0;34m\u001b[0m\u001b[0;34m\u001b[0m\u001b[0m\n\u001b[1;32m    863\u001b[0m \u001b[0;34m\u001b[0m\u001b[0m\n",
      "\u001b[0;32m/opt/conda/lib/python3.9/site-packages/joblib/parallel.py\u001b[0m in \u001b[0;36m_dispatch\u001b[0;34m(self, batch)\u001b[0m\n\u001b[1;32m    777\u001b[0m         \u001b[0;32mwith\u001b[0m \u001b[0mself\u001b[0m\u001b[0;34m.\u001b[0m\u001b[0m_lock\u001b[0m\u001b[0;34m:\u001b[0m\u001b[0;34m\u001b[0m\u001b[0;34m\u001b[0m\u001b[0m\n\u001b[1;32m    778\u001b[0m             \u001b[0mjob_idx\u001b[0m \u001b[0;34m=\u001b[0m \u001b[0mlen\u001b[0m\u001b[0;34m(\u001b[0m\u001b[0mself\u001b[0m\u001b[0;34m.\u001b[0m\u001b[0m_jobs\u001b[0m\u001b[0;34m)\u001b[0m\u001b[0;34m\u001b[0m\u001b[0;34m\u001b[0m\u001b[0m\n\u001b[0;32m--> 779\u001b[0;31m             \u001b[0mjob\u001b[0m \u001b[0;34m=\u001b[0m \u001b[0mself\u001b[0m\u001b[0;34m.\u001b[0m\u001b[0m_backend\u001b[0m\u001b[0;34m.\u001b[0m\u001b[0mapply_async\u001b[0m\u001b[0;34m(\u001b[0m\u001b[0mbatch\u001b[0m\u001b[0;34m,\u001b[0m \u001b[0mcallback\u001b[0m\u001b[0;34m=\u001b[0m\u001b[0mcb\u001b[0m\u001b[0;34m)\u001b[0m\u001b[0;34m\u001b[0m\u001b[0;34m\u001b[0m\u001b[0m\n\u001b[0m\u001b[1;32m    780\u001b[0m             \u001b[0;31m# A job can complete so quickly than its callback is\u001b[0m\u001b[0;34m\u001b[0m\u001b[0;34m\u001b[0m\u001b[0;34m\u001b[0m\u001b[0m\n\u001b[1;32m    781\u001b[0m             \u001b[0;31m# called before we get here, causing self._jobs to\u001b[0m\u001b[0;34m\u001b[0m\u001b[0;34m\u001b[0m\u001b[0;34m\u001b[0m\u001b[0m\n",
      "\u001b[0;32m/opt/conda/lib/python3.9/site-packages/joblib/_parallel_backends.py\u001b[0m in \u001b[0;36mapply_async\u001b[0;34m(self, func, callback)\u001b[0m\n\u001b[1;32m    206\u001b[0m     \u001b[0;32mdef\u001b[0m \u001b[0mapply_async\u001b[0m\u001b[0;34m(\u001b[0m\u001b[0mself\u001b[0m\u001b[0;34m,\u001b[0m \u001b[0mfunc\u001b[0m\u001b[0;34m,\u001b[0m \u001b[0mcallback\u001b[0m\u001b[0;34m=\u001b[0m\u001b[0;32mNone\u001b[0m\u001b[0;34m)\u001b[0m\u001b[0;34m:\u001b[0m\u001b[0;34m\u001b[0m\u001b[0;34m\u001b[0m\u001b[0m\n\u001b[1;32m    207\u001b[0m         \u001b[0;34m\"\"\"Schedule a func to be run\"\"\"\u001b[0m\u001b[0;34m\u001b[0m\u001b[0;34m\u001b[0m\u001b[0m\n\u001b[0;32m--> 208\u001b[0;31m         \u001b[0mresult\u001b[0m \u001b[0;34m=\u001b[0m \u001b[0mImmediateResult\u001b[0m\u001b[0;34m(\u001b[0m\u001b[0mfunc\u001b[0m\u001b[0;34m)\u001b[0m\u001b[0;34m\u001b[0m\u001b[0;34m\u001b[0m\u001b[0m\n\u001b[0m\u001b[1;32m    209\u001b[0m         \u001b[0;32mif\u001b[0m \u001b[0mcallback\u001b[0m\u001b[0;34m:\u001b[0m\u001b[0;34m\u001b[0m\u001b[0;34m\u001b[0m\u001b[0m\n\u001b[1;32m    210\u001b[0m             \u001b[0mcallback\u001b[0m\u001b[0;34m(\u001b[0m\u001b[0mresult\u001b[0m\u001b[0;34m)\u001b[0m\u001b[0;34m\u001b[0m\u001b[0;34m\u001b[0m\u001b[0m\n",
      "\u001b[0;32m/opt/conda/lib/python3.9/site-packages/joblib/_parallel_backends.py\u001b[0m in \u001b[0;36m__init__\u001b[0;34m(self, batch)\u001b[0m\n\u001b[1;32m    570\u001b[0m         \u001b[0;31m# Don't delay the application, to avoid keeping the input\u001b[0m\u001b[0;34m\u001b[0m\u001b[0;34m\u001b[0m\u001b[0;34m\u001b[0m\u001b[0m\n\u001b[1;32m    571\u001b[0m         \u001b[0;31m# arguments in memory\u001b[0m\u001b[0;34m\u001b[0m\u001b[0;34m\u001b[0m\u001b[0;34m\u001b[0m\u001b[0m\n\u001b[0;32m--> 572\u001b[0;31m         \u001b[0mself\u001b[0m\u001b[0;34m.\u001b[0m\u001b[0mresults\u001b[0m \u001b[0;34m=\u001b[0m \u001b[0mbatch\u001b[0m\u001b[0;34m(\u001b[0m\u001b[0;34m)\u001b[0m\u001b[0;34m\u001b[0m\u001b[0;34m\u001b[0m\u001b[0m\n\u001b[0m\u001b[1;32m    573\u001b[0m \u001b[0;34m\u001b[0m\u001b[0m\n\u001b[1;32m    574\u001b[0m     \u001b[0;32mdef\u001b[0m \u001b[0mget\u001b[0m\u001b[0;34m(\u001b[0m\u001b[0mself\u001b[0m\u001b[0;34m)\u001b[0m\u001b[0;34m:\u001b[0m\u001b[0;34m\u001b[0m\u001b[0;34m\u001b[0m\u001b[0m\n",
      "\u001b[0;32m/opt/conda/lib/python3.9/site-packages/joblib/parallel.py\u001b[0m in \u001b[0;36m__call__\u001b[0;34m(self)\u001b[0m\n\u001b[1;32m    260\u001b[0m         \u001b[0;31m# change the default number of processes to -1\u001b[0m\u001b[0;34m\u001b[0m\u001b[0;34m\u001b[0m\u001b[0;34m\u001b[0m\u001b[0m\n\u001b[1;32m    261\u001b[0m         \u001b[0;32mwith\u001b[0m \u001b[0mparallel_backend\u001b[0m\u001b[0;34m(\u001b[0m\u001b[0mself\u001b[0m\u001b[0;34m.\u001b[0m\u001b[0m_backend\u001b[0m\u001b[0;34m,\u001b[0m \u001b[0mn_jobs\u001b[0m\u001b[0;34m=\u001b[0m\u001b[0mself\u001b[0m\u001b[0;34m.\u001b[0m\u001b[0m_n_jobs\u001b[0m\u001b[0;34m)\u001b[0m\u001b[0;34m:\u001b[0m\u001b[0;34m\u001b[0m\u001b[0;34m\u001b[0m\u001b[0m\n\u001b[0;32m--> 262\u001b[0;31m             return [func(*args, **kwargs)\n\u001b[0m\u001b[1;32m    263\u001b[0m                     for func, args, kwargs in self.items]\n\u001b[1;32m    264\u001b[0m \u001b[0;34m\u001b[0m\u001b[0m\n",
      "\u001b[0;32m/opt/conda/lib/python3.9/site-packages/joblib/parallel.py\u001b[0m in \u001b[0;36m<listcomp>\u001b[0;34m(.0)\u001b[0m\n\u001b[1;32m    260\u001b[0m         \u001b[0;31m# change the default number of processes to -1\u001b[0m\u001b[0;34m\u001b[0m\u001b[0;34m\u001b[0m\u001b[0;34m\u001b[0m\u001b[0m\n\u001b[1;32m    261\u001b[0m         \u001b[0;32mwith\u001b[0m \u001b[0mparallel_backend\u001b[0m\u001b[0;34m(\u001b[0m\u001b[0mself\u001b[0m\u001b[0;34m.\u001b[0m\u001b[0m_backend\u001b[0m\u001b[0;34m,\u001b[0m \u001b[0mn_jobs\u001b[0m\u001b[0;34m=\u001b[0m\u001b[0mself\u001b[0m\u001b[0;34m.\u001b[0m\u001b[0m_n_jobs\u001b[0m\u001b[0;34m)\u001b[0m\u001b[0;34m:\u001b[0m\u001b[0;34m\u001b[0m\u001b[0;34m\u001b[0m\u001b[0m\n\u001b[0;32m--> 262\u001b[0;31m             return [func(*args, **kwargs)\n\u001b[0m\u001b[1;32m    263\u001b[0m                     for func, args, kwargs in self.items]\n\u001b[1;32m    264\u001b[0m \u001b[0;34m\u001b[0m\u001b[0m\n",
      "\u001b[0;32m/opt/conda/lib/python3.9/site-packages/sklearn/utils/fixes.py\u001b[0m in \u001b[0;36m__call__\u001b[0;34m(self, *args, **kwargs)\u001b[0m\n\u001b[1;32m    220\u001b[0m     \u001b[0;32mdef\u001b[0m \u001b[0m__call__\u001b[0m\u001b[0;34m(\u001b[0m\u001b[0mself\u001b[0m\u001b[0;34m,\u001b[0m \u001b[0;34m*\u001b[0m\u001b[0margs\u001b[0m\u001b[0;34m,\u001b[0m \u001b[0;34m**\u001b[0m\u001b[0mkwargs\u001b[0m\u001b[0;34m)\u001b[0m\u001b[0;34m:\u001b[0m\u001b[0;34m\u001b[0m\u001b[0;34m\u001b[0m\u001b[0m\n\u001b[1;32m    221\u001b[0m         \u001b[0;32mwith\u001b[0m \u001b[0mconfig_context\u001b[0m\u001b[0;34m(\u001b[0m\u001b[0;34m**\u001b[0m\u001b[0mself\u001b[0m\u001b[0;34m.\u001b[0m\u001b[0mconfig\u001b[0m\u001b[0;34m)\u001b[0m\u001b[0;34m:\u001b[0m\u001b[0;34m\u001b[0m\u001b[0;34m\u001b[0m\u001b[0m\n\u001b[0;32m--> 222\u001b[0;31m             \u001b[0;32mreturn\u001b[0m \u001b[0mself\u001b[0m\u001b[0;34m.\u001b[0m\u001b[0mfunction\u001b[0m\u001b[0;34m(\u001b[0m\u001b[0;34m*\u001b[0m\u001b[0margs\u001b[0m\u001b[0;34m,\u001b[0m \u001b[0;34m**\u001b[0m\u001b[0mkwargs\u001b[0m\u001b[0;34m)\u001b[0m\u001b[0;34m\u001b[0m\u001b[0;34m\u001b[0m\u001b[0m\n\u001b[0m",
      "\u001b[0;32m/opt/conda/lib/python3.9/site-packages/sklearn/ensemble/_forest.py\u001b[0m in \u001b[0;36m_parallel_build_trees\u001b[0;34m(tree, forest, X, y, sample_weight, tree_idx, n_trees, verbose, class_weight, n_samples_bootstrap)\u001b[0m\n\u001b[1;32m    167\u001b[0m                                                         indices=indices)\n\u001b[1;32m    168\u001b[0m \u001b[0;34m\u001b[0m\u001b[0m\n\u001b[0;32m--> 169\u001b[0;31m         \u001b[0mtree\u001b[0m\u001b[0;34m.\u001b[0m\u001b[0mfit\u001b[0m\u001b[0;34m(\u001b[0m\u001b[0mX\u001b[0m\u001b[0;34m,\u001b[0m \u001b[0my\u001b[0m\u001b[0;34m,\u001b[0m \u001b[0msample_weight\u001b[0m\u001b[0;34m=\u001b[0m\u001b[0mcurr_sample_weight\u001b[0m\u001b[0;34m,\u001b[0m \u001b[0mcheck_input\u001b[0m\u001b[0;34m=\u001b[0m\u001b[0;32mFalse\u001b[0m\u001b[0;34m)\u001b[0m\u001b[0;34m\u001b[0m\u001b[0;34m\u001b[0m\u001b[0m\n\u001b[0m\u001b[1;32m    170\u001b[0m     \u001b[0;32melse\u001b[0m\u001b[0;34m:\u001b[0m\u001b[0;34m\u001b[0m\u001b[0;34m\u001b[0m\u001b[0m\n\u001b[1;32m    171\u001b[0m         \u001b[0mtree\u001b[0m\u001b[0;34m.\u001b[0m\u001b[0mfit\u001b[0m\u001b[0;34m(\u001b[0m\u001b[0mX\u001b[0m\u001b[0;34m,\u001b[0m \u001b[0my\u001b[0m\u001b[0;34m,\u001b[0m \u001b[0msample_weight\u001b[0m\u001b[0;34m=\u001b[0m\u001b[0msample_weight\u001b[0m\u001b[0;34m,\u001b[0m \u001b[0mcheck_input\u001b[0m\u001b[0;34m=\u001b[0m\u001b[0;32mFalse\u001b[0m\u001b[0;34m)\u001b[0m\u001b[0;34m\u001b[0m\u001b[0;34m\u001b[0m\u001b[0m\n",
      "\u001b[0;32m/opt/conda/lib/python3.9/site-packages/sklearn/tree/_classes.py\u001b[0m in \u001b[0;36mfit\u001b[0;34m(self, X, y, sample_weight, check_input, X_idx_sorted)\u001b[0m\n\u001b[1;32m   1245\u001b[0m         \"\"\"\n\u001b[1;32m   1246\u001b[0m \u001b[0;34m\u001b[0m\u001b[0m\n\u001b[0;32m-> 1247\u001b[0;31m         super().fit(\n\u001b[0m\u001b[1;32m   1248\u001b[0m             \u001b[0mX\u001b[0m\u001b[0;34m,\u001b[0m \u001b[0my\u001b[0m\u001b[0;34m,\u001b[0m\u001b[0;34m\u001b[0m\u001b[0;34m\u001b[0m\u001b[0m\n\u001b[1;32m   1249\u001b[0m             \u001b[0msample_weight\u001b[0m\u001b[0;34m=\u001b[0m\u001b[0msample_weight\u001b[0m\u001b[0;34m,\u001b[0m\u001b[0;34m\u001b[0m\u001b[0;34m\u001b[0m\u001b[0m\n",
      "\u001b[0;32m/opt/conda/lib/python3.9/site-packages/sklearn/tree/_classes.py\u001b[0m in \u001b[0;36mfit\u001b[0;34m(self, X, y, sample_weight, check_input, X_idx_sorted)\u001b[0m\n\u001b[1;32m    387\u001b[0m                                            min_impurity_split)\n\u001b[1;32m    388\u001b[0m \u001b[0;34m\u001b[0m\u001b[0m\n\u001b[0;32m--> 389\u001b[0;31m         \u001b[0mbuilder\u001b[0m\u001b[0;34m.\u001b[0m\u001b[0mbuild\u001b[0m\u001b[0;34m(\u001b[0m\u001b[0mself\u001b[0m\u001b[0;34m.\u001b[0m\u001b[0mtree_\u001b[0m\u001b[0;34m,\u001b[0m \u001b[0mX\u001b[0m\u001b[0;34m,\u001b[0m \u001b[0my\u001b[0m\u001b[0;34m,\u001b[0m \u001b[0msample_weight\u001b[0m\u001b[0;34m)\u001b[0m\u001b[0;34m\u001b[0m\u001b[0;34m\u001b[0m\u001b[0m\n\u001b[0m\u001b[1;32m    390\u001b[0m \u001b[0;34m\u001b[0m\u001b[0m\n\u001b[1;32m    391\u001b[0m         \u001b[0;32mif\u001b[0m \u001b[0mself\u001b[0m\u001b[0;34m.\u001b[0m\u001b[0mn_outputs_\u001b[0m \u001b[0;34m==\u001b[0m \u001b[0;36m1\u001b[0m \u001b[0;32mand\u001b[0m \u001b[0mis_classifier\u001b[0m\u001b[0;34m(\u001b[0m\u001b[0mself\u001b[0m\u001b[0;34m)\u001b[0m\u001b[0;34m:\u001b[0m\u001b[0;34m\u001b[0m\u001b[0;34m\u001b[0m\u001b[0m\n",
      "\u001b[0;31mKeyboardInterrupt\u001b[0m: "
     ]
    }
   ],
   "source": [
    "%%time\n",
    "grid.fit(features_train_valid_labeled, target_train_valid)\n"
   ]
  },
  {
   "cell_type": "code",
   "execution_count": 42,
   "metadata": {},
   "outputs": [
    {
     "ename": "AttributeError",
     "evalue": "'GridSearchCV' object has no attribute 'best_estimator_'",
     "output_type": "error",
     "traceback": [
      "\u001b[0;31m---------------------------------------------------------------------------\u001b[0m",
      "\u001b[0;31mAttributeError\u001b[0m                            Traceback (most recent call last)",
      "\u001b[0;32m/tmp/ipykernel_48/373025350.py\u001b[0m in \u001b[0;36m<module>\u001b[0;34m\u001b[0m\n\u001b[0;32m----> 1\u001b[0;31m \u001b[0mbest_forest\u001b[0m \u001b[0;34m=\u001b[0m \u001b[0mgrid\u001b[0m\u001b[0;34m.\u001b[0m\u001b[0mbest_estimator_\u001b[0m\u001b[0;31m# лучший лес\u001b[0m\u001b[0;34m\u001b[0m\u001b[0;34m\u001b[0m\u001b[0m\n\u001b[0m",
      "\u001b[0;31mAttributeError\u001b[0m: 'GridSearchCV' object has no attribute 'best_estimator_'"
     ]
    }
   ],
   "source": [
    "best_forest = grid.best_estimator_# лучший лес"
   ]
  },
  {
   "cell_type": "code",
   "execution_count": null,
   "metadata": {},
   "outputs": [],
   "source": [
    "best_forest"
   ]
  },
  {
   "cell_type": "code",
   "execution_count": null,
   "metadata": {},
   "outputs": [],
   "source": [
    "forest_mean_fit_time = grid.cv_results_['mean_fit_time']\n",
    "forest_mean_score_time = grid.cv_results_['mean_score_time']"
   ]
  },
  {
   "cell_type": "code",
   "execution_count": null,
   "metadata": {},
   "outputs": [],
   "source": [
    "print(\"Cреднее время обучения для одной выборки при разных наборах параметров в секундах:\", forest_mean_fit_time)\n",
    "print(\"Cреднее время предсказания для одной выборки при разных наборах параметров в секундах:\", forest_mean_score_time)"
   ]
  },
  {
   "cell_type": "code",
   "execution_count": null,
   "metadata": {},
   "outputs": [],
   "source": [
    "best_index_forest = np.argmin(grid.cv_results_['rank_test_score'])\n",
    "print(\"Cреднее время обучения для одной выборки при лучшем наборе параметров в секундах:\", \n",
    "      forest_mean_fit_time[best_index_forest])\n",
    "print(\"Cреднее время предсказания для одной выборки при лучшем наборе параметров в секундах:\", \n",
    "      forest_mean_score_time[best_index_forest])"
   ]
  },
  {
   "cell_type": "code",
   "execution_count": null,
   "metadata": {},
   "outputs": [],
   "source": [
    "score_forest = (-grid.best_score_)**0.5\n",
    "print('Значение RMSE для лучших параметров случайного леса на валидационных данных:', score_forest)"
   ]
  },
  {
   "cell_type": "markdown",
   "metadata": {},
   "source": [
    "<div class=\"alert alert-success\">\n",
    "<h2> Комментарий ревьюера <a class=\"tocSkip\"> </h2>\n",
    "\n",
    "<b>Все отлично!👍:</b> \n",
    "    \n",
    "Молодец, что оцениваешь качество на кросс-валидации."
   ]
  },
  {
   "cell_type": "markdown",
   "metadata": {},
   "source": [
    "<div class=\"alert alert-block alert-danger\">\n",
    "<h2> Комментарий ревьюера <a class=\"tocSkip\"></h2>\n",
    "\n",
    "    \n",
    "<b>На доработку🤔:</b>\n",
    "    \n",
    "Для каждой изучаемой тобой модели стоит отдельно измерить время на predict на тренировочной выборке. "
   ]
  },
  {
   "cell_type": "markdown",
   "metadata": {},
   "source": [
    "### Линейная регрессия "
   ]
  },
  {
   "cell_type": "markdown",
   "metadata": {},
   "source": [
    "<div class=\"alert alert-block alert-danger\">\n",
    "<h2> Комментарий ревьюера <a class=\"tocSkip\"></h2>\n",
    "\n",
    "    \n",
    "<b>На доработку🤔:</b>\n",
    "\n",
    "Для линейной регрессии стоит использовать one-hot кодирование категориальных переменных."
   ]
  },
  {
   "cell_type": "code",
   "execution_count": null,
   "metadata": {},
   "outputs": [],
   "source": [
    "model = LinearRegression()"
   ]
  },
  {
   "cell_type": "code",
   "execution_count": null,
   "metadata": {},
   "outputs": [],
   "source": [
    "%%time\n",
    "lr = cross_validate(model, features_train_valid_hot_encoded, \n",
    "                         target_train_valid, scoring = 'neg_mean_squared_error', cv = 4, return_train_score=True)"
   ]
  },
  {
   "cell_type": "code",
   "execution_count": null,
   "metadata": {},
   "outputs": [],
   "source": [
    "lr.keys()"
   ]
  },
  {
   "cell_type": "code",
   "execution_count": null,
   "metadata": {},
   "outputs": [],
   "source": [
    "lr_fit_time = lr['fit_time']\n",
    "lr_score_time = lr['score_time']\n",
    "print(\"Cреднее время обучения для одной выборки в секундах:\", lr_fit_time.mean())\n",
    "print(\"Cреднее время предсказания для одной выборки в секундах:\", lr_score_time.mean())"
   ]
  },
  {
   "cell_type": "code",
   "execution_count": null,
   "metadata": {},
   "outputs": [],
   "source": [
    "score_lr= (-lr['test_score'].mean())**0.5\n",
    "print('Среднее значение RMSE для различных валидационных и тренировочных выборок:', score_lr)"
   ]
  },
  {
   "cell_type": "markdown",
   "metadata": {},
   "source": [
    "### LightGBM"
   ]
  },
  {
   "cell_type": "markdown",
   "metadata": {},
   "source": [
    "<div class=\"alert alert-block alert-danger\">\n",
    "<h2> Комментарий ревьюера <a class=\"tocSkip\"></h2>\n",
    "\n",
    "    \n",
    "<b>На доработку🤔:</b>\n",
    "    \n",
    "Для LightGBM стоит использовать порядковое кодирование категориальных переменных.\n",
    "    \n",
    "Либо воспользоваться внутренним алгоритмом кодирования, то есть подавать в модель незакодированные предварительно фичи.\n",
    "    \n",
    "Пример:\n",
    "    \n",
    "https://www.kaggle.com/code/mlisovyi/beware-of-categorical-features-in-lgbm"
   ]
  },
  {
   "cell_type": "code",
   "execution_count": null,
   "metadata": {},
   "outputs": [],
   "source": [
    "grid = GridSearchCV( # для подбора параметров случайного леса\n",
    "    LGBMRegressor(random_state=12345),\n",
    "    param_grid={'max_depth':range(12, 17, 2), 'n_estimators':range(90, 101, 10)}, # меняем гиперпараметры\n",
    "    scoring = 'neg_mean_squared_error', \n",
    "    cv = 4, # разделение данных на 4 части, одну из них используем как валидационную\n",
    "    n_jobs =-1\n",
    ")\n",
    "\n"
   ]
  },
  {
   "cell_type": "code",
   "execution_count": null,
   "metadata": {},
   "outputs": [],
   "source": [
    "%%time\n",
    "grid.fit(features_train_valid_labeled, target_train_valid)"
   ]
  },
  {
   "cell_type": "code",
   "execution_count": null,
   "metadata": {},
   "outputs": [],
   "source": [
    "best_LGBM = grid.best_estimator_"
   ]
  },
  {
   "cell_type": "code",
   "execution_count": null,
   "metadata": {},
   "outputs": [],
   "source": [
    "best_LGBM"
   ]
  },
  {
   "cell_type": "code",
   "execution_count": null,
   "metadata": {},
   "outputs": [],
   "source": [
    "LGBM_mean_fit_time = grid.cv_results_['mean_fit_time']\n",
    "LGBM_mean_score_time = grid.cv_results_['mean_score_time']"
   ]
  },
  {
   "cell_type": "code",
   "execution_count": null,
   "metadata": {},
   "outputs": [],
   "source": [
    "print(\"Cреднее время обучения для одной выборки при разных наборах параметров в секундах:\", LGBM_mean_fit_time)\n",
    "print(\"Cреднее время предсказания для одной выборки при разных наборах параметров в секундах:\", LGBM_mean_score_time)"
   ]
  },
  {
   "cell_type": "code",
   "execution_count": null,
   "metadata": {},
   "outputs": [],
   "source": [
    "best_index_LGBM = np.argmin(grid.cv_results_['rank_test_score'])\n",
    "print(\"Cреднее время обучения для одной выборки при лучшем наборе параметров в секундах:\", LGBM_mean_fit_time[best_index_LGBM])\n",
    "print(\"Cреднее время предсказания для одной выборки при лучшем наборе параметров в секундах:\", \n",
    "      LGBM_mean_score_time[best_index_LGBM])"
   ]
  },
  {
   "cell_type": "code",
   "execution_count": null,
   "metadata": {},
   "outputs": [],
   "source": [
    "score_LGBM = (-grid.best_score_)**0.5\n",
    "print('Значение RMSE для лучших параметров LightGBM на валидационных данных:', score_LGBM)"
   ]
  },
  {
   "cell_type": "markdown",
   "metadata": {},
   "source": [
    "Минимальное значение RMSE на валидационных данных дает модель случайного леса, но она обучается медленнее других."
   ]
  },
  {
   "cell_type": "code",
   "execution_count": null,
   "metadata": {},
   "outputs": [],
   "source": [
    "model_compare= pd.DataFrame({'Название модели':['RandomForest', 'LinearRegression', 'LightGBM'],\n",
    "                           'Время обучения в секундах для лучших значений параметров для одной выборки':\n",
    "                           [forest_mean_fit_time[best_index_forest], lr_fit_time.mean(), \n",
    "                            LGBM_mean_fit_time[best_index_LGBM]],\n",
    "                          'Время предсказания в секундах для лучших значений параметров для одной выборки':\n",
    "                          [forest_mean_score_time[best_index_forest], lr_score_time.mean(), \n",
    "                           LGBM_mean_score_time[best_index_LGBM]],\n",
    "                          'Суммарное время обучения и предсказания в секундах при переборе параметров для одной выборки':\n",
    "                          [(forest_mean_fit_time+forest_mean_score_time).sum(), (lr_fit_time+lr_score_time).mean(),\n",
    "                          (LGBM_mean_fit_time+LGBM_mean_score_time).sum()]})\n",
    "\n",
    "model_compare.style.background_gradient(cmap='Reds')"
   ]
  },
  {
   "cell_type": "markdown",
   "metadata": {},
   "source": [
    "\n",
    "        \n",
    "<div class=\"alert alert-warning\">\n",
    "    <h2> Комментарий ревьюера <a class=\"tocSkip\"> </h2>\n",
    "    \n",
    "<b>Некоторые замечания и рекомендации💡:</b> \n",
    "        \n",
    "После того, как провел исследование всех моделей можно свести все полученные результаты по врменени обучения и предсказания и по качеству на кросс-валидации в одну таблицу, чтобы выбор лучшей модели был более наглядным.\n",
    "        "
   ]
  },
  {
   "cell_type": "markdown",
   "metadata": {},
   "source": [
    "## Анализ моделей"
   ]
  },
  {
   "cell_type": "code",
   "execution_count": null,
   "metadata": {},
   "outputs": [],
   "source": [
    "best_model_score = mean_squared_error(best_forest.predict(features_test_labeled), target_test, squared=False)\n",
    "print('Значение RMSE для лучшей модели на тестовых данных:', best_model_score)"
   ]
  },
  {
   "cell_type": "markdown",
   "metadata": {},
   "source": [
    "<div class=\"alert alert-success\">\n",
    "<h2> Комментарий ревьюера <a class=\"tocSkip\"> </h2>\n",
    "\n",
    "<b>Все отлично!👍:</b> \n",
    "    \n",
    "Отлично, что проверяешь только лучшую модель на тестовых данных"
   ]
  },
  {
   "cell_type": "code",
   "execution_count": null,
   "metadata": {},
   "outputs": [],
   "source": [
    "model = DummyRegressor(strategy=\"mean\")\n",
    "\n",
    "model.fit(features_train_valid_labeled, target_train_valid)\n",
    "\n",
    "predicted_test = model.predict(features_test_labeled)\n",
    "dummy_model_score = mean_squared_error(target_test, predicted_test, squared=False)\n",
    "print('Значение RMSE для DummyRegressor на тестовых данных:', dummy_model_score)"
   ]
  },
  {
   "cell_type": "markdown",
   "metadata": {},
   "source": [
    "<div class=\"alert alert-success\">\n",
    "<h2> Комментарий ревьюера <a class=\"tocSkip\"> </h2>\n",
    "\n",
    "<b>Все отлично!👍:</b> \n",
    "    \n",
    "Отлично, что есть сравнение с константной моделью."
   ]
  },
  {
   "cell_type": "markdown",
   "metadata": {},
   "source": [
    "Лучшая модель дает значение RMSE < 2500 на тестовых данных, значение RMSE для DummyRegressor больше чем для лучшей модели, это показывает адекватность модели."
   ]
  },
  {
   "cell_type": "markdown",
   "metadata": {},
   "source": [
    "## Вывод"
   ]
  },
  {
   "cell_type": "markdown",
   "metadata": {},
   "source": [
    "Быстрее всего обучилась модель LinearRegression (DummyRegressor не учитываем), но дала самое большое среднее значение RMSE на валидационных данных. Модель LightGBM дала немного больше значение RMSE для валидационных данных и обучалась почти в 4 раза дольше. Наименьшее значение RMSE для валидационных данных получилось для модели случайного леса, было показано, что эта модель адекватна и дает на тестовых данных RMSE < 2500. "
   ]
  },
  {
   "cell_type": "markdown",
   "metadata": {},
   "source": [
    "<div class=\"alert alert-success\">\n",
    "<h2> Комментарий ревьюера <a class=\"tocSkip\"> </h2>\n",
    "\n",
    "<b>Все отлично!👍</b> \n",
    "    \n"
   ]
  },
  {
   "cell_type": "markdown",
   "metadata": {},
   "source": [
    "<div class=\"alert alert-warning\">\n",
    "    <h2> Комментарий ревьюера <a class=\"tocSkip\"> </h2>\n",
    "    \n",
    "<b>Некоторые замечания и рекомендации💡:</b> \n",
    "        \n",
    "Здесь я оставлю несколько интересных и полезных ссылок по теме:\n",
    "        \n",
    "        \n",
    "1. \"XGBoost, LightGBM or CatBoost — which boosting algorithm should I use?\"\n",
    "\n",
    "https://medium.com/riskified-technology/xgboost-lightgbm-or-catboost-which-boosting-algorithm-should-i-use-e7fda7bb36bc\n",
    "        \n",
    "        \n",
    "2. \"Transforming categorical features to numerical features\"\n",
    "        \n",
    "https://catboost.ai/en/docs/concepts/algorithm-main-stages_cat-to-numberic\n",
    "        \n",
    "        \n",
    "3. \"Градиентный Бустинг: самый частый вопрос на собеседовании на дата саентиста\"\n",
    "        \n",
    "https://www.youtube.com/watch?v=ZNJ3lKyI-EY\n",
    "        \n",
    "4. \"Tutorial: CatBoost Overview\"\n",
    "        \n",
    "https://www.kaggle.com/code/mitribunskiy/tutorial-catboost-overview/notebook\n",
    "        \n",
    "5. \"Gradient Boosting from scratch\"\n",
    "        \n",
    "https://blog.mlreview.com/gradient-boosting-from-scratch-1e317ae4587d"
   ]
  },
  {
   "cell_type": "markdown",
   "metadata": {},
   "source": [
    "<div style=\"border:solid Chocolate 2px; padding: 40px\">\n",
    "    \n",
    "<b>Общий вывод по проекту</b>\n",
    "\n",
    "Виктор, спасибо за работу! Проект хороший, продуманный, структурно выдержанный. Однако стоит внести некоторые исправления, чтобы можно было считать проект завершенным. Также, пожалуйста, напиши комментарии в Markdown ячейках, чтобы можно было слудить за ходом твоих рассуждений.\n",
    "\n",
    "**Положительные моменты проекта, которые хочу еще раз подчеркнуть:**\n",
    "\n",
    "1. Удалены все лишние признаки и константный признак\n",
    "2. Есть обработка некорректных и пропущенных значений\n",
    "3. Кодирование категориальных признаков осуществляется.\n",
    "4. Есть анализ времени обучения моделей, а также их качества\n",
    "5. Предложена модель с учетом времени обучения, а также качества работы\n",
    "6. Масштабирование численных призаков осуществляется корректно\n",
    "    \n",
    "**Замечания, на которые стоит обратить внимание при будущей работе:**\n",
    "    \n",
    "    1. Кодировать после разделения на выборки\n",
    "    2. Для LightGBM и линейной регрессии стоит использовать соответствующие методы кодирования\n",
    "    3. Время предсказания, когда есть только тренировочная и тестовая выборки, стоит измерять на тренировочной выборке (стоит измерить его для всех моделей)\n",
    "    4. Стоит исправить обработку аномалий\n",
    "\n",
    "    \n",
    "    \n",
    "Остальные комментарии ты найдешь выше.\n",
    "\n",
    "**Желаю удачи и жду твой проект на повторное ревью!**"
   ]
  },
  {
   "cell_type": "markdown",
   "metadata": {},
   "source": [
    "<div style=\"border:solid Chocolate 2px; padding: 40px\">\n",
    "    \n",
    "<b>Общий вывод по проекту №2</b>\n",
    "\n",
    "    \n",
    "Виктор, спасибо за работу!\n",
    "    \n",
    "**Все хорошо, проект принимаю и желаю успехов в дальнейшем обучении!**"
   ]
  },
  {
   "cell_type": "markdown",
   "metadata": {},
   "source": [
    "## Чек-лист проверки"
   ]
  },
  {
   "cell_type": "markdown",
   "metadata": {},
   "source": [
    "Поставьте 'x' в выполненных пунктах. Далее нажмите Shift+Enter."
   ]
  },
  {
   "cell_type": "markdown",
   "metadata": {},
   "source": [
    "- [x]  Jupyter Notebook открыт\n",
    "- [x]  Весь код выполняется без ошибок\n",
    "- [x]  Ячейки с кодом расположены в порядке исполнения\n",
    "- [x]  Выполнена загрузка и подготовка данных\n",
    "- [x]  Выполнено обучение моделей\n",
    "- [x]  Есть анализ скорости работы и качества моделей"
   ]
  }
 ],
 "metadata": {
  "ExecuteTimeLog": [
   {
    "duration": 1016,
    "start_time": "2023-01-16T17:19:25.538Z"
   },
   {
    "duration": 2825,
    "start_time": "2023-01-16T17:19:27.382Z"
   },
   {
    "duration": 123,
    "start_time": "2023-01-16T17:19:33.442Z"
   },
   {
    "duration": 19,
    "start_time": "2023-01-16T17:19:51.810Z"
   },
   {
    "duration": 12,
    "start_time": "2023-01-16T17:26:43.564Z"
   },
   {
    "duration": 56,
    "start_time": "2023-01-16T17:26:45.389Z"
   },
   {
    "duration": 118,
    "start_time": "2023-01-16T17:26:59.958Z"
   },
   {
    "duration": 436,
    "start_time": "2023-01-16T17:29:08.260Z"
   },
   {
    "duration": 115,
    "start_time": "2023-01-16T17:48:18.147Z"
   },
   {
    "duration": 3,
    "start_time": "2023-01-16T17:49:49.847Z"
   },
   {
    "duration": 114,
    "start_time": "2023-01-16T17:49:52.999Z"
   },
   {
    "duration": 432,
    "start_time": "2023-01-16T17:49:53.800Z"
   },
   {
    "duration": 117,
    "start_time": "2023-01-16T18:03:08.209Z"
   },
   {
    "duration": 4,
    "start_time": "2023-01-16T18:05:23.402Z"
   },
   {
    "duration": 3,
    "start_time": "2023-01-16T18:08:52.029Z"
   },
   {
    "duration": 782,
    "start_time": "2023-01-16T18:08:52.034Z"
   },
   {
    "duration": 133,
    "start_time": "2023-01-16T18:08:52.817Z"
   },
   {
    "duration": 12,
    "start_time": "2023-01-16T18:08:52.953Z"
   },
   {
    "duration": 72,
    "start_time": "2023-01-16T18:08:52.967Z"
   },
   {
    "duration": 3,
    "start_time": "2023-01-16T18:08:53.041Z"
   },
   {
    "duration": 125,
    "start_time": "2023-01-16T18:08:53.046Z"
   },
   {
    "duration": 433,
    "start_time": "2023-01-16T18:08:53.173Z"
   },
   {
    "duration": 33,
    "start_time": "2023-01-16T18:28:11.158Z"
   },
   {
    "duration": 99,
    "start_time": "2023-01-16T18:28:43.416Z"
   },
   {
    "duration": 3,
    "start_time": "2023-01-16T18:28:58.589Z"
   },
   {
    "duration": 716,
    "start_time": "2023-01-16T18:28:58.594Z"
   },
   {
    "duration": 127,
    "start_time": "2023-01-16T18:28:59.312Z"
   },
   {
    "duration": 12,
    "start_time": "2023-01-16T18:28:59.440Z"
   },
   {
    "duration": 23,
    "start_time": "2023-01-16T18:28:59.454Z"
   },
   {
    "duration": 3,
    "start_time": "2023-01-16T18:28:59.479Z"
   },
   {
    "duration": 137,
    "start_time": "2023-01-16T18:28:59.483Z"
   },
   {
    "duration": 440,
    "start_time": "2023-01-16T18:28:59.621Z"
   },
   {
    "duration": 28,
    "start_time": "2023-01-16T18:29:00.062Z"
   },
   {
    "duration": 36,
    "start_time": "2023-01-16T20:39:52.463Z"
   },
   {
    "duration": 3,
    "start_time": "2023-01-16T20:39:56.000Z"
   },
   {
    "duration": 933,
    "start_time": "2023-01-16T20:39:56.005Z"
   },
   {
    "duration": 129,
    "start_time": "2023-01-16T20:39:56.940Z"
   },
   {
    "duration": 13,
    "start_time": "2023-01-16T20:39:57.071Z"
   },
   {
    "duration": 25,
    "start_time": "2023-01-16T20:39:57.086Z"
   },
   {
    "duration": 3,
    "start_time": "2023-01-16T20:39:57.113Z"
   },
   {
    "duration": 139,
    "start_time": "2023-01-16T20:39:57.118Z"
   },
   {
    "duration": 413,
    "start_time": "2023-01-16T20:39:57.259Z"
   },
   {
    "duration": 24,
    "start_time": "2023-01-16T20:39:57.674Z"
   },
   {
    "duration": 9,
    "start_time": "2023-01-16T20:39:57.700Z"
   },
   {
    "duration": 2,
    "start_time": "2023-01-16T20:40:40.119Z"
   },
   {
    "duration": 735,
    "start_time": "2023-01-16T20:40:40.573Z"
   },
   {
    "duration": 130,
    "start_time": "2023-01-16T20:40:41.310Z"
   },
   {
    "duration": 12,
    "start_time": "2023-01-16T20:40:41.449Z"
   },
   {
    "duration": 28,
    "start_time": "2023-01-16T20:40:41.463Z"
   },
   {
    "duration": 3,
    "start_time": "2023-01-16T20:40:41.559Z"
   },
   {
    "duration": 115,
    "start_time": "2023-01-16T20:40:41.765Z"
   },
   {
    "duration": 398,
    "start_time": "2023-01-16T20:40:41.965Z"
   },
   {
    "duration": 24,
    "start_time": "2023-01-16T20:40:42.365Z"
   },
   {
    "duration": 9,
    "start_time": "2023-01-16T20:40:42.652Z"
   },
   {
    "duration": 34,
    "start_time": "2023-01-16T20:41:05.909Z"
   },
   {
    "duration": 6,
    "start_time": "2023-01-16T20:42:10.653Z"
   },
   {
    "duration": 25,
    "start_time": "2023-01-16T20:47:46.105Z"
   },
   {
    "duration": 23,
    "start_time": "2023-01-16T20:47:53.881Z"
   },
   {
    "duration": 24,
    "start_time": "2023-01-16T20:48:04.379Z"
   },
   {
    "duration": 28,
    "start_time": "2023-01-16T20:50:31.229Z"
   },
   {
    "duration": 8,
    "start_time": "2023-01-16T20:50:43.101Z"
   },
   {
    "duration": 8,
    "start_time": "2023-01-16T20:50:47.515Z"
   },
   {
    "duration": 8,
    "start_time": "2023-01-16T20:50:50.490Z"
   },
   {
    "duration": 9,
    "start_time": "2023-01-16T20:50:53.330Z"
   },
   {
    "duration": 3,
    "start_time": "2023-01-16T20:50:59.332Z"
   },
   {
    "duration": 743,
    "start_time": "2023-01-16T20:50:59.336Z"
   },
   {
    "duration": 125,
    "start_time": "2023-01-16T20:51:00.080Z"
   },
   {
    "duration": 12,
    "start_time": "2023-01-16T20:51:00.207Z"
   },
   {
    "duration": 81,
    "start_time": "2023-01-16T20:51:00.221Z"
   },
   {
    "duration": 3,
    "start_time": "2023-01-16T20:51:00.304Z"
   },
   {
    "duration": 140,
    "start_time": "2023-01-16T20:51:00.308Z"
   },
   {
    "duration": 415,
    "start_time": "2023-01-16T20:51:00.450Z"
   },
   {
    "duration": 29,
    "start_time": "2023-01-16T20:51:00.867Z"
   },
   {
    "duration": 34,
    "start_time": "2023-01-16T20:51:00.898Z"
   },
   {
    "duration": 413,
    "start_time": "2023-01-16T20:51:39.461Z"
   },
   {
    "duration": 9,
    "start_time": "2023-01-16T20:53:16.443Z"
   },
   {
    "duration": 3,
    "start_time": "2023-01-16T20:53:26.046Z"
   },
   {
    "duration": 782,
    "start_time": "2023-01-16T20:53:26.051Z"
   },
   {
    "duration": 121,
    "start_time": "2023-01-16T20:53:26.835Z"
   },
   {
    "duration": 11,
    "start_time": "2023-01-16T20:53:26.958Z"
   },
   {
    "duration": 52,
    "start_time": "2023-01-16T20:53:26.971Z"
   },
   {
    "duration": 3,
    "start_time": "2023-01-16T20:53:27.024Z"
   },
   {
    "duration": 135,
    "start_time": "2023-01-16T20:53:27.028Z"
   },
   {
    "duration": 409,
    "start_time": "2023-01-16T20:53:27.165Z"
   },
   {
    "duration": 33,
    "start_time": "2023-01-16T20:53:27.575Z"
   },
   {
    "duration": 55,
    "start_time": "2023-01-16T20:53:27.610Z"
   },
   {
    "duration": 10,
    "start_time": "2023-01-16T20:55:28.054Z"
   },
   {
    "duration": 5,
    "start_time": "2023-01-16T20:55:44.008Z"
   },
   {
    "duration": 3,
    "start_time": "2023-01-16T20:55:55.568Z"
   },
   {
    "duration": 828,
    "start_time": "2023-01-16T20:55:55.574Z"
   },
   {
    "duration": 132,
    "start_time": "2023-01-16T20:55:56.403Z"
   },
   {
    "duration": 14,
    "start_time": "2023-01-16T20:55:56.537Z"
   },
   {
    "duration": 25,
    "start_time": "2023-01-16T20:55:56.553Z"
   },
   {
    "duration": 3,
    "start_time": "2023-01-16T20:55:56.579Z"
   },
   {
    "duration": 132,
    "start_time": "2023-01-16T20:55:56.584Z"
   },
   {
    "duration": 403,
    "start_time": "2023-01-16T20:55:56.718Z"
   },
   {
    "duration": 30,
    "start_time": "2023-01-16T20:55:57.123Z"
   },
   {
    "duration": 121,
    "start_time": "2023-01-16T20:55:57.155Z"
   },
   {
    "duration": 121,
    "start_time": "2023-01-16T20:59:16.622Z"
   },
   {
    "duration": 64,
    "start_time": "2023-01-16T20:59:34.773Z"
   },
   {
    "duration": 70,
    "start_time": "2023-01-16T21:19:11.602Z"
   },
   {
    "duration": 2,
    "start_time": "2023-01-16T21:19:23.011Z"
   },
   {
    "duration": 706,
    "start_time": "2023-01-16T21:19:23.015Z"
   },
   {
    "duration": 127,
    "start_time": "2023-01-16T21:19:23.723Z"
   },
   {
    "duration": 12,
    "start_time": "2023-01-16T21:19:23.852Z"
   },
   {
    "duration": 56,
    "start_time": "2023-01-16T21:19:23.866Z"
   },
   {
    "duration": 3,
    "start_time": "2023-01-16T21:19:23.923Z"
   },
   {
    "duration": 132,
    "start_time": "2023-01-16T21:19:23.928Z"
   },
   {
    "duration": 390,
    "start_time": "2023-01-16T21:19:24.061Z"
   },
   {
    "duration": 24,
    "start_time": "2023-01-16T21:19:24.453Z"
   },
   {
    "duration": 134,
    "start_time": "2023-01-16T21:19:24.479Z"
   },
   {
    "duration": 66,
    "start_time": "2023-01-16T21:19:24.615Z"
   },
   {
    "duration": 18,
    "start_time": "2023-01-16T21:24:31.417Z"
   },
   {
    "duration": 9,
    "start_time": "2023-01-16T21:25:08.003Z"
   },
   {
    "duration": 5,
    "start_time": "2023-01-16T21:25:11.040Z"
   },
   {
    "duration": 24,
    "start_time": "2023-01-16T21:25:42.845Z"
   },
   {
    "duration": 40,
    "start_time": "2023-01-16T21:31:59.276Z"
   },
   {
    "duration": 63,
    "start_time": "2023-01-16T21:32:00.836Z"
   },
   {
    "duration": 9,
    "start_time": "2023-01-16T21:33:42.884Z"
   },
   {
    "duration": 4,
    "start_time": "2023-01-16T21:38:01.178Z"
   },
   {
    "duration": 58,
    "start_time": "2023-01-16T21:38:06.606Z"
   },
   {
    "duration": 3,
    "start_time": "2023-01-16T21:38:53.575Z"
   },
   {
    "duration": 682,
    "start_time": "2023-01-16T21:38:53.581Z"
   },
   {
    "duration": 120,
    "start_time": "2023-01-16T21:38:54.264Z"
   },
   {
    "duration": 12,
    "start_time": "2023-01-16T21:38:54.386Z"
   },
   {
    "duration": 68,
    "start_time": "2023-01-16T21:38:54.399Z"
   },
   {
    "duration": 3,
    "start_time": "2023-01-16T21:38:54.468Z"
   },
   {
    "duration": 132,
    "start_time": "2023-01-16T21:38:54.473Z"
   },
   {
    "duration": 367,
    "start_time": "2023-01-16T21:38:54.607Z"
   },
   {
    "duration": 26,
    "start_time": "2023-01-16T21:38:54.976Z"
   },
   {
    "duration": 134,
    "start_time": "2023-01-16T21:38:55.004Z"
   },
   {
    "duration": 170,
    "start_time": "2023-01-16T21:38:55.139Z"
   },
   {
    "duration": 0,
    "start_time": "2023-01-16T21:38:55.311Z"
   },
   {
    "duration": 0,
    "start_time": "2023-01-16T21:38:55.312Z"
   },
   {
    "duration": 3,
    "start_time": "2023-01-16T21:39:10.176Z"
   },
   {
    "duration": 734,
    "start_time": "2023-01-16T21:39:10.181Z"
   },
   {
    "duration": 121,
    "start_time": "2023-01-16T21:39:10.917Z"
   },
   {
    "duration": 20,
    "start_time": "2023-01-16T21:39:11.040Z"
   },
   {
    "duration": 55,
    "start_time": "2023-01-16T21:39:11.061Z"
   },
   {
    "duration": 3,
    "start_time": "2023-01-16T21:39:11.118Z"
   },
   {
    "duration": 130,
    "start_time": "2023-01-16T21:39:11.122Z"
   },
   {
    "duration": 405,
    "start_time": "2023-01-16T21:39:11.253Z"
   },
   {
    "duration": 25,
    "start_time": "2023-01-16T21:39:11.660Z"
   },
   {
    "duration": 131,
    "start_time": "2023-01-16T21:39:11.687Z"
   },
   {
    "duration": 225,
    "start_time": "2023-01-16T21:39:11.820Z"
   },
   {
    "duration": 678,
    "start_time": "2023-01-16T21:39:12.046Z"
   },
   {
    "duration": 0,
    "start_time": "2023-01-16T21:39:12.726Z"
   },
   {
    "duration": 3,
    "start_time": "2023-01-16T21:40:10.210Z"
   },
   {
    "duration": 696,
    "start_time": "2023-01-16T21:40:10.215Z"
   },
   {
    "duration": 125,
    "start_time": "2023-01-16T21:40:10.913Z"
   },
   {
    "duration": 18,
    "start_time": "2023-01-16T21:40:11.040Z"
   },
   {
    "duration": 56,
    "start_time": "2023-01-16T21:40:11.059Z"
   },
   {
    "duration": 3,
    "start_time": "2023-01-16T21:40:11.117Z"
   },
   {
    "duration": 128,
    "start_time": "2023-01-16T21:40:11.121Z"
   },
   {
    "duration": 415,
    "start_time": "2023-01-16T21:40:11.250Z"
   },
   {
    "duration": 25,
    "start_time": "2023-01-16T21:40:11.667Z"
   },
   {
    "duration": 132,
    "start_time": "2023-01-16T21:40:11.694Z"
   },
   {
    "duration": 47,
    "start_time": "2023-01-16T21:40:11.828Z"
   },
   {
    "duration": 75,
    "start_time": "2023-01-16T21:40:11.877Z"
   },
   {
    "duration": 20,
    "start_time": "2023-01-16T21:41:42.559Z"
   },
   {
    "duration": 3,
    "start_time": "2023-01-16T21:42:01.864Z"
   },
   {
    "duration": 839,
    "start_time": "2023-01-16T21:42:01.869Z"
   },
   {
    "duration": 131,
    "start_time": "2023-01-16T21:42:02.709Z"
   },
   {
    "duration": 16,
    "start_time": "2023-01-16T21:42:02.842Z"
   },
   {
    "duration": 33,
    "start_time": "2023-01-16T21:42:02.860Z"
   },
   {
    "duration": 3,
    "start_time": "2023-01-16T21:42:02.895Z"
   },
   {
    "duration": 130,
    "start_time": "2023-01-16T21:42:02.899Z"
   },
   {
    "duration": 439,
    "start_time": "2023-01-16T21:42:03.031Z"
   },
   {
    "duration": 37,
    "start_time": "2023-01-16T21:42:03.471Z"
   },
   {
    "duration": 135,
    "start_time": "2023-01-16T21:42:03.510Z"
   },
   {
    "duration": 41,
    "start_time": "2023-01-16T21:42:03.647Z"
   },
   {
    "duration": 21,
    "start_time": "2023-01-16T21:42:03.689Z"
   },
   {
    "duration": 0,
    "start_time": "2023-01-16T21:42:03.712Z"
   },
   {
    "duration": 13,
    "start_time": "2023-01-16T21:43:09.344Z"
   },
   {
    "duration": 13,
    "start_time": "2023-01-16T21:44:37.488Z"
   },
   {
    "duration": 13,
    "start_time": "2023-01-16T21:45:08.824Z"
   },
   {
    "duration": 17,
    "start_time": "2023-01-16T21:45:15.370Z"
   },
   {
    "duration": 4,
    "start_time": "2023-01-17T10:47:17.731Z"
   },
   {
    "duration": 727,
    "start_time": "2023-01-17T10:47:17.737Z"
   },
   {
    "duration": 130,
    "start_time": "2023-01-17T10:47:18.465Z"
   },
   {
    "duration": 13,
    "start_time": "2023-01-17T10:47:18.596Z"
   },
   {
    "duration": 25,
    "start_time": "2023-01-17T10:47:18.611Z"
   },
   {
    "duration": 3,
    "start_time": "2023-01-17T10:47:18.647Z"
   },
   {
    "duration": 145,
    "start_time": "2023-01-17T10:47:18.652Z"
   },
   {
    "duration": 410,
    "start_time": "2023-01-17T10:47:18.799Z"
   },
   {
    "duration": 24,
    "start_time": "2023-01-17T10:47:19.211Z"
   },
   {
    "duration": 138,
    "start_time": "2023-01-17T10:47:19.236Z"
   },
   {
    "duration": 11,
    "start_time": "2023-01-17T10:47:19.376Z"
   },
   {
    "duration": 0,
    "start_time": "2023-01-17T10:47:19.388Z"
   },
   {
    "duration": 0,
    "start_time": "2023-01-17T10:47:19.389Z"
   },
   {
    "duration": 16,
    "start_time": "2023-01-17T10:47:57.896Z"
   },
   {
    "duration": 13,
    "start_time": "2023-01-17T10:48:12.932Z"
   },
   {
    "duration": 10,
    "start_time": "2023-01-17T10:48:37.585Z"
   },
   {
    "duration": 14,
    "start_time": "2023-01-17T10:49:01.941Z"
   },
   {
    "duration": 814,
    "start_time": "2023-01-17T10:54:02.201Z"
   },
   {
    "duration": 50,
    "start_time": "2023-01-17T10:54:11.872Z"
   },
   {
    "duration": 69,
    "start_time": "2023-01-17T10:54:12.491Z"
   },
   {
    "duration": 4,
    "start_time": "2023-01-17T10:56:34.147Z"
   },
   {
    "duration": 723,
    "start_time": "2023-01-17T10:56:34.153Z"
   },
   {
    "duration": 130,
    "start_time": "2023-01-17T10:56:34.879Z"
   },
   {
    "duration": 13,
    "start_time": "2023-01-17T10:56:35.011Z"
   },
   {
    "duration": 37,
    "start_time": "2023-01-17T10:56:35.025Z"
   },
   {
    "duration": 2,
    "start_time": "2023-01-17T10:56:35.064Z"
   },
   {
    "duration": 126,
    "start_time": "2023-01-17T10:56:35.068Z"
   },
   {
    "duration": 451,
    "start_time": "2023-01-17T10:56:35.195Z"
   },
   {
    "duration": 23,
    "start_time": "2023-01-17T10:56:35.649Z"
   },
   {
    "duration": 129,
    "start_time": "2023-01-17T10:56:35.673Z"
   },
   {
    "duration": 2,
    "start_time": "2023-01-17T10:56:35.804Z"
   },
   {
    "duration": 53,
    "start_time": "2023-01-17T10:56:35.808Z"
   },
   {
    "duration": 78,
    "start_time": "2023-01-17T10:56:35.863Z"
   },
   {
    "duration": 792,
    "start_time": "2023-01-17T10:57:20.657Z"
   },
   {
    "duration": 13,
    "start_time": "2023-01-17T10:57:31.629Z"
   },
   {
    "duration": 4,
    "start_time": "2023-01-17T10:57:34.092Z"
   },
   {
    "duration": 661,
    "start_time": "2023-01-17T10:57:53.388Z"
   },
   {
    "duration": 3,
    "start_time": "2023-01-17T10:58:22.163Z"
   },
   {
    "duration": 684,
    "start_time": "2023-01-17T10:58:22.168Z"
   },
   {
    "duration": 144,
    "start_time": "2023-01-17T10:58:22.854Z"
   },
   {
    "duration": 11,
    "start_time": "2023-01-17T10:58:23.000Z"
   },
   {
    "duration": 110,
    "start_time": "2023-01-17T10:58:23.013Z"
   },
   {
    "duration": 2,
    "start_time": "2023-01-17T10:58:23.125Z"
   },
   {
    "duration": 127,
    "start_time": "2023-01-17T10:58:23.129Z"
   },
   {
    "duration": 379,
    "start_time": "2023-01-17T10:58:23.258Z"
   },
   {
    "duration": 26,
    "start_time": "2023-01-17T10:58:23.638Z"
   },
   {
    "duration": 125,
    "start_time": "2023-01-17T10:58:23.666Z"
   },
   {
    "duration": 12,
    "start_time": "2023-01-17T10:58:23.793Z"
   },
   {
    "duration": 0,
    "start_time": "2023-01-17T10:58:23.807Z"
   },
   {
    "duration": 0,
    "start_time": "2023-01-17T10:58:23.808Z"
   },
   {
    "duration": 10,
    "start_time": "2023-01-17T10:59:01.820Z"
   },
   {
    "duration": 11,
    "start_time": "2023-01-17T11:01:16.615Z"
   },
   {
    "duration": 10,
    "start_time": "2023-01-17T11:01:38.366Z"
   },
   {
    "duration": 11,
    "start_time": "2023-01-17T11:03:18.113Z"
   },
   {
    "duration": 3,
    "start_time": "2023-01-17T11:03:23.717Z"
   },
   {
    "duration": 697,
    "start_time": "2023-01-17T11:03:23.722Z"
   },
   {
    "duration": 128,
    "start_time": "2023-01-17T11:03:24.420Z"
   },
   {
    "duration": 12,
    "start_time": "2023-01-17T11:03:24.550Z"
   },
   {
    "duration": 23,
    "start_time": "2023-01-17T11:03:24.563Z"
   },
   {
    "duration": 2,
    "start_time": "2023-01-17T11:03:24.588Z"
   },
   {
    "duration": 132,
    "start_time": "2023-01-17T11:03:24.592Z"
   },
   {
    "duration": 382,
    "start_time": "2023-01-17T11:03:24.725Z"
   },
   {
    "duration": 32,
    "start_time": "2023-01-17T11:03:25.108Z"
   },
   {
    "duration": 126,
    "start_time": "2023-01-17T11:03:25.149Z"
   },
   {
    "duration": 10,
    "start_time": "2023-01-17T11:03:25.276Z"
   },
   {
    "duration": 0,
    "start_time": "2023-01-17T11:03:25.287Z"
   },
   {
    "duration": 0,
    "start_time": "2023-01-17T11:03:25.288Z"
   },
   {
    "duration": 2,
    "start_time": "2023-01-17T11:04:08.334Z"
   },
   {
    "duration": 10,
    "start_time": "2023-01-17T11:04:11.763Z"
   },
   {
    "duration": 13,
    "start_time": "2023-01-17T11:04:44.510Z"
   },
   {
    "duration": 19,
    "start_time": "2023-01-17T11:05:01.382Z"
   },
   {
    "duration": 196,
    "start_time": "2023-01-17T11:23:47.789Z"
   },
   {
    "duration": 60,
    "start_time": "2023-01-17T11:25:28.167Z"
   },
   {
    "duration": 2,
    "start_time": "2023-01-17T11:28:24.537Z"
   },
   {
    "duration": 686,
    "start_time": "2023-01-17T11:28:24.542Z"
   },
   {
    "duration": 142,
    "start_time": "2023-01-17T11:28:25.230Z"
   },
   {
    "duration": 15,
    "start_time": "2023-01-17T11:28:25.374Z"
   },
   {
    "duration": 76,
    "start_time": "2023-01-17T11:28:25.392Z"
   },
   {
    "duration": 4,
    "start_time": "2023-01-17T11:28:25.470Z"
   },
   {
    "duration": 139,
    "start_time": "2023-01-17T11:28:25.476Z"
   },
   {
    "duration": 380,
    "start_time": "2023-01-17T11:28:25.617Z"
   },
   {
    "duration": 23,
    "start_time": "2023-01-17T11:28:25.999Z"
   },
   {
    "duration": 131,
    "start_time": "2023-01-17T11:28:26.024Z"
   },
   {
    "duration": 2,
    "start_time": "2023-01-17T11:28:26.157Z"
   },
   {
    "duration": 48,
    "start_time": "2023-01-17T11:28:26.160Z"
   },
   {
    "duration": 0,
    "start_time": "2023-01-17T11:28:26.209Z"
   },
   {
    "duration": 66,
    "start_time": "2023-01-17T11:28:38.126Z"
   },
   {
    "duration": 41,
    "start_time": "2023-01-17T11:29:09.987Z"
   },
   {
    "duration": 39,
    "start_time": "2023-01-17T11:29:33.511Z"
   },
   {
    "duration": 46,
    "start_time": "2023-01-17T11:30:53.310Z"
   },
   {
    "duration": 47,
    "start_time": "2023-01-17T11:31:00.703Z"
   },
   {
    "duration": 25,
    "start_time": "2023-01-17T11:31:20.126Z"
   },
   {
    "duration": 41,
    "start_time": "2023-01-17T11:31:48.090Z"
   },
   {
    "duration": 3,
    "start_time": "2023-01-17T11:49:26.153Z"
   },
   {
    "duration": 699,
    "start_time": "2023-01-17T11:49:26.159Z"
   },
   {
    "duration": 128,
    "start_time": "2023-01-17T11:49:26.859Z"
   },
   {
    "duration": 26,
    "start_time": "2023-01-17T11:49:26.989Z"
   },
   {
    "duration": 59,
    "start_time": "2023-01-17T11:49:27.016Z"
   },
   {
    "duration": 2,
    "start_time": "2023-01-17T11:49:27.077Z"
   },
   {
    "duration": 126,
    "start_time": "2023-01-17T11:49:27.081Z"
   },
   {
    "duration": 380,
    "start_time": "2023-01-17T11:49:27.209Z"
   },
   {
    "duration": 22,
    "start_time": "2023-01-17T11:49:27.591Z"
   },
   {
    "duration": 128,
    "start_time": "2023-01-17T11:49:27.615Z"
   },
   {
    "duration": 203,
    "start_time": "2023-01-17T11:49:27.749Z"
   },
   {
    "duration": 3,
    "start_time": "2023-01-17T11:49:27.953Z"
   },
   {
    "duration": 68,
    "start_time": "2023-01-17T11:49:27.958Z"
   },
   {
    "duration": 992,
    "start_time": "2023-01-17T11:58:01.863Z"
   },
   {
    "duration": 3,
    "start_time": "2023-01-17T11:58:06.938Z"
   },
   {
    "duration": 710,
    "start_time": "2023-01-17T11:58:06.942Z"
   },
   {
    "duration": 126,
    "start_time": "2023-01-17T11:58:07.654Z"
   },
   {
    "duration": 13,
    "start_time": "2023-01-17T11:58:07.782Z"
   },
   {
    "duration": 69,
    "start_time": "2023-01-17T11:58:07.798Z"
   },
   {
    "duration": 2,
    "start_time": "2023-01-17T11:58:07.869Z"
   },
   {
    "duration": 139,
    "start_time": "2023-01-17T11:58:07.873Z"
   },
   {
    "duration": 378,
    "start_time": "2023-01-17T11:58:08.013Z"
   },
   {
    "duration": 25,
    "start_time": "2023-01-17T11:58:08.393Z"
   },
   {
    "duration": 135,
    "start_time": "2023-01-17T11:58:08.420Z"
   },
   {
    "duration": 19,
    "start_time": "2023-01-17T11:58:08.557Z"
   },
   {
    "duration": 208,
    "start_time": "2023-01-17T11:58:08.578Z"
   },
   {
    "duration": 2,
    "start_time": "2023-01-17T11:58:08.788Z"
   },
   {
    "duration": 76,
    "start_time": "2023-01-17T11:58:08.791Z"
   },
   {
    "duration": 3,
    "start_time": "2023-01-17T12:08:23.535Z"
   },
   {
    "duration": 2,
    "start_time": "2023-01-17T12:08:26.351Z"
   },
   {
    "duration": 61,
    "start_time": "2023-01-17T12:08:27.285Z"
   },
   {
    "duration": 4,
    "start_time": "2023-01-17T12:08:39.441Z"
   },
   {
    "duration": 2,
    "start_time": "2023-01-17T12:08:40.831Z"
   },
   {
    "duration": 7,
    "start_time": "2023-01-17T12:08:41.332Z"
   },
   {
    "duration": 4,
    "start_time": "2023-01-17T12:09:13.109Z"
   },
   {
    "duration": 712,
    "start_time": "2023-01-17T12:09:13.116Z"
   },
   {
    "duration": 135,
    "start_time": "2023-01-17T12:09:13.830Z"
   },
   {
    "duration": 12,
    "start_time": "2023-01-17T12:09:13.966Z"
   },
   {
    "duration": 73,
    "start_time": "2023-01-17T12:09:13.980Z"
   },
   {
    "duration": 4,
    "start_time": "2023-01-17T12:09:14.055Z"
   },
   {
    "duration": 139,
    "start_time": "2023-01-17T12:09:14.060Z"
   },
   {
    "duration": 391,
    "start_time": "2023-01-17T12:09:14.201Z"
   },
   {
    "duration": 24,
    "start_time": "2023-01-17T12:09:14.594Z"
   },
   {
    "duration": 133,
    "start_time": "2023-01-17T12:09:14.619Z"
   },
   {
    "duration": 20,
    "start_time": "2023-01-17T12:09:14.754Z"
   },
   {
    "duration": 255,
    "start_time": "2023-01-17T12:09:14.775Z"
   },
   {
    "duration": 4,
    "start_time": "2023-01-17T12:09:15.032Z"
   },
   {
    "duration": 10,
    "start_time": "2023-01-17T12:09:15.038Z"
   },
   {
    "duration": 65,
    "start_time": "2023-01-17T12:09:15.050Z"
   },
   {
    "duration": 4,
    "start_time": "2023-01-17T12:09:26.875Z"
   },
   {
    "duration": 2,
    "start_time": "2023-01-17T12:09:27.323Z"
   },
   {
    "duration": 63,
    "start_time": "2023-01-17T12:09:27.898Z"
   },
   {
    "duration": 3,
    "start_time": "2023-01-17T12:09:56.964Z"
   },
   {
    "duration": 3,
    "start_time": "2023-01-17T12:09:57.595Z"
   },
   {
    "duration": 70,
    "start_time": "2023-01-17T12:09:58.148Z"
   },
   {
    "duration": 4,
    "start_time": "2023-01-17T12:10:42.955Z"
   },
   {
    "duration": 2,
    "start_time": "2023-01-17T12:10:43.499Z"
   },
   {
    "duration": 59,
    "start_time": "2023-01-17T12:10:43.956Z"
   },
   {
    "duration": 3,
    "start_time": "2023-01-17T12:10:50.894Z"
   },
   {
    "duration": 689,
    "start_time": "2023-01-17T12:10:50.900Z"
   },
   {
    "duration": 126,
    "start_time": "2023-01-17T12:10:51.590Z"
   },
   {
    "duration": 30,
    "start_time": "2023-01-17T12:10:51.718Z"
   },
   {
    "duration": 52,
    "start_time": "2023-01-17T12:10:51.750Z"
   },
   {
    "duration": 3,
    "start_time": "2023-01-17T12:10:51.804Z"
   },
   {
    "duration": 145,
    "start_time": "2023-01-17T12:10:51.809Z"
   },
   {
    "duration": 368,
    "start_time": "2023-01-17T12:10:51.956Z"
   },
   {
    "duration": 28,
    "start_time": "2023-01-17T12:10:52.325Z"
   },
   {
    "duration": 122,
    "start_time": "2023-01-17T12:10:52.355Z"
   },
   {
    "duration": 20,
    "start_time": "2023-01-17T12:10:52.479Z"
   },
   {
    "duration": 213,
    "start_time": "2023-01-17T12:10:52.500Z"
   },
   {
    "duration": 4,
    "start_time": "2023-01-17T12:10:52.714Z"
   },
   {
    "duration": 5,
    "start_time": "2023-01-17T12:10:52.720Z"
   },
   {
    "duration": 73,
    "start_time": "2023-01-17T12:10:52.727Z"
   },
   {
    "duration": 20,
    "start_time": "2023-01-17T12:15:40.473Z"
   },
   {
    "duration": 3,
    "start_time": "2023-01-17T12:17:23.854Z"
   },
   {
    "duration": 724,
    "start_time": "2023-01-17T12:17:23.859Z"
   },
   {
    "duration": 130,
    "start_time": "2023-01-17T12:17:24.585Z"
   },
   {
    "duration": 13,
    "start_time": "2023-01-17T12:17:24.717Z"
   },
   {
    "duration": 80,
    "start_time": "2023-01-17T12:17:24.747Z"
   },
   {
    "duration": 2,
    "start_time": "2023-01-17T12:17:24.829Z"
   },
   {
    "duration": 131,
    "start_time": "2023-01-17T12:17:24.833Z"
   },
   {
    "duration": 371,
    "start_time": "2023-01-17T12:17:24.966Z"
   },
   {
    "duration": 25,
    "start_time": "2023-01-17T12:17:25.339Z"
   },
   {
    "duration": 131,
    "start_time": "2023-01-17T12:17:25.366Z"
   },
   {
    "duration": 20,
    "start_time": "2023-01-17T12:17:25.500Z"
   },
   {
    "duration": 769,
    "start_time": "2023-01-17T12:17:47.160Z"
   },
   {
    "duration": 4,
    "start_time": "2023-01-17T12:33:43.604Z"
   },
   {
    "duration": 781,
    "start_time": "2023-01-17T12:33:43.610Z"
   },
   {
    "duration": 120,
    "start_time": "2023-01-17T12:33:44.393Z"
   },
   {
    "duration": 14,
    "start_time": "2023-01-17T12:33:44.515Z"
   },
   {
    "duration": 69,
    "start_time": "2023-01-17T12:33:44.531Z"
   },
   {
    "duration": 3,
    "start_time": "2023-01-17T12:33:44.602Z"
   },
   {
    "duration": 133,
    "start_time": "2023-01-17T12:33:44.606Z"
   },
   {
    "duration": 392,
    "start_time": "2023-01-17T12:33:44.741Z"
   },
   {
    "duration": 37,
    "start_time": "2023-01-17T12:33:45.135Z"
   },
   {
    "duration": 138,
    "start_time": "2023-01-17T12:33:45.174Z"
   },
   {
    "duration": 27,
    "start_time": "2023-01-17T12:33:45.314Z"
   },
   {
    "duration": 19,
    "start_time": "2023-01-17T12:33:56.771Z"
   },
   {
    "duration": 76,
    "start_time": "2023-01-17T12:34:04.456Z"
   },
   {
    "duration": 3,
    "start_time": "2023-01-17T12:34:25.987Z"
   },
   {
    "duration": 743,
    "start_time": "2023-01-17T12:34:25.992Z"
   },
   {
    "duration": 127,
    "start_time": "2023-01-17T12:34:26.737Z"
   },
   {
    "duration": 11,
    "start_time": "2023-01-17T12:34:26.866Z"
   },
   {
    "duration": 84,
    "start_time": "2023-01-17T12:34:26.879Z"
   },
   {
    "duration": 3,
    "start_time": "2023-01-17T12:34:26.965Z"
   },
   {
    "duration": 136,
    "start_time": "2023-01-17T12:34:26.970Z"
   },
   {
    "duration": 372,
    "start_time": "2023-01-17T12:34:27.108Z"
   },
   {
    "duration": 30,
    "start_time": "2023-01-17T12:34:27.482Z"
   },
   {
    "duration": 138,
    "start_time": "2023-01-17T12:34:27.513Z"
   },
   {
    "duration": 19,
    "start_time": "2023-01-17T12:34:27.653Z"
   },
   {
    "duration": 20,
    "start_time": "2023-01-17T12:34:27.674Z"
   },
   {
    "duration": 673,
    "start_time": "2023-01-17T12:34:30.018Z"
   },
   {
    "duration": 5,
    "start_time": "2023-01-17T12:37:36.659Z"
   },
   {
    "duration": 3,
    "start_time": "2023-01-17T12:37:37.329Z"
   },
   {
    "duration": 52,
    "start_time": "2023-01-17T12:37:37.811Z"
   },
   {
    "duration": 19,
    "start_time": "2023-01-17T12:37:57.086Z"
   },
   {
    "duration": 3,
    "start_time": "2023-01-17T12:40:20.605Z"
   },
   {
    "duration": 710,
    "start_time": "2023-01-17T12:40:20.610Z"
   },
   {
    "duration": 120,
    "start_time": "2023-01-17T12:40:21.321Z"
   },
   {
    "duration": 11,
    "start_time": "2023-01-17T12:40:21.448Z"
   },
   {
    "duration": 102,
    "start_time": "2023-01-17T12:40:21.461Z"
   },
   {
    "duration": 4,
    "start_time": "2023-01-17T12:40:21.565Z"
   },
   {
    "duration": 142,
    "start_time": "2023-01-17T12:40:21.571Z"
   },
   {
    "duration": 442,
    "start_time": "2023-01-17T12:40:21.715Z"
   },
   {
    "duration": 28,
    "start_time": "2023-01-17T12:40:22.159Z"
   },
   {
    "duration": 137,
    "start_time": "2023-01-17T12:40:22.189Z"
   },
   {
    "duration": 23,
    "start_time": "2023-01-17T12:40:22.327Z"
   },
   {
    "duration": 21,
    "start_time": "2023-01-17T12:40:22.351Z"
   },
   {
    "duration": 24,
    "start_time": "2023-01-17T12:40:22.374Z"
   },
   {
    "duration": 817,
    "start_time": "2023-01-17T12:40:22.401Z"
   },
   {
    "duration": 4,
    "start_time": "2023-01-17T12:40:23.219Z"
   },
   {
    "duration": 6,
    "start_time": "2023-01-17T12:40:23.224Z"
   },
   {
    "duration": 61,
    "start_time": "2023-01-17T12:40:23.232Z"
   },
   {
    "duration": 19,
    "start_time": "2023-01-17T12:40:23.294Z"
   },
   {
    "duration": 4,
    "start_time": "2023-01-17T12:42:49.650Z"
   },
   {
    "duration": 693,
    "start_time": "2023-01-17T12:42:49.656Z"
   },
   {
    "duration": 128,
    "start_time": "2023-01-17T12:42:50.351Z"
   },
   {
    "duration": 14,
    "start_time": "2023-01-17T12:42:50.482Z"
   },
   {
    "duration": 89,
    "start_time": "2023-01-17T12:42:50.497Z"
   },
   {
    "duration": 4,
    "start_time": "2023-01-17T12:42:50.587Z"
   },
   {
    "duration": 132,
    "start_time": "2023-01-17T12:42:50.593Z"
   },
   {
    "duration": 369,
    "start_time": "2023-01-17T12:42:50.727Z"
   },
   {
    "duration": 50,
    "start_time": "2023-01-17T12:42:51.098Z"
   },
   {
    "duration": 144,
    "start_time": "2023-01-17T12:42:51.151Z"
   },
   {
    "duration": 21,
    "start_time": "2023-01-17T12:42:51.296Z"
   },
   {
    "duration": 34,
    "start_time": "2023-01-17T12:42:51.319Z"
   },
   {
    "duration": 40,
    "start_time": "2023-01-17T12:42:51.355Z"
   },
   {
    "duration": 732,
    "start_time": "2023-01-17T12:42:51.396Z"
   },
   {
    "duration": 13,
    "start_time": "2023-01-17T12:42:58.169Z"
   },
   {
    "duration": 3,
    "start_time": "2023-01-17T12:43:06.451Z"
   },
   {
    "duration": 804,
    "start_time": "2023-01-17T12:43:06.457Z"
   },
   {
    "duration": 121,
    "start_time": "2023-01-17T12:43:07.262Z"
   },
   {
    "duration": 11,
    "start_time": "2023-01-17T12:43:07.385Z"
   },
   {
    "duration": 82,
    "start_time": "2023-01-17T12:43:07.399Z"
   },
   {
    "duration": 2,
    "start_time": "2023-01-17T12:43:07.483Z"
   },
   {
    "duration": 126,
    "start_time": "2023-01-17T12:43:07.487Z"
   },
   {
    "duration": 412,
    "start_time": "2023-01-17T12:43:07.615Z"
   },
   {
    "duration": 30,
    "start_time": "2023-01-17T12:43:08.028Z"
   },
   {
    "duration": 143,
    "start_time": "2023-01-17T12:43:08.060Z"
   },
   {
    "duration": 19,
    "start_time": "2023-01-17T12:43:08.205Z"
   },
   {
    "duration": 27,
    "start_time": "2023-01-17T12:43:08.226Z"
   },
   {
    "duration": 36,
    "start_time": "2023-01-17T12:43:08.255Z"
   },
   {
    "duration": 53,
    "start_time": "2023-01-17T12:43:20.803Z"
   },
   {
    "duration": 1082,
    "start_time": "2023-01-17T12:43:26.170Z"
   },
   {
    "duration": 2887,
    "start_time": "2023-01-17T12:43:27.255Z"
   },
   {
    "duration": 135,
    "start_time": "2023-01-17T12:43:30.144Z"
   },
   {
    "duration": 30,
    "start_time": "2023-01-17T12:43:30.281Z"
   },
   {
    "duration": 114,
    "start_time": "2023-01-17T12:43:30.313Z"
   },
   {
    "duration": 3,
    "start_time": "2023-01-17T12:43:30.429Z"
   },
   {
    "duration": 144,
    "start_time": "2023-01-17T12:43:30.434Z"
   },
   {
    "duration": 462,
    "start_time": "2023-01-17T12:43:30.580Z"
   },
   {
    "duration": 40,
    "start_time": "2023-01-17T12:43:31.043Z"
   },
   {
    "duration": 146,
    "start_time": "2023-01-17T12:43:31.085Z"
   },
   {
    "duration": 22,
    "start_time": "2023-01-17T12:43:31.233Z"
   },
   {
    "duration": 31,
    "start_time": "2023-01-17T12:43:31.257Z"
   },
   {
    "duration": 49,
    "start_time": "2023-01-17T12:43:31.290Z"
   },
   {
    "duration": 490,
    "start_time": "2023-01-17T12:43:31.342Z"
   },
   {
    "duration": 4,
    "start_time": "2023-01-17T12:43:31.834Z"
   },
   {
    "duration": 11,
    "start_time": "2023-01-17T12:43:31.839Z"
   },
   {
    "duration": 61,
    "start_time": "2023-01-17T12:43:31.851Z"
   },
   {
    "duration": 20,
    "start_time": "2023-01-17T12:43:31.914Z"
   },
   {
    "duration": 898,
    "start_time": "2023-01-17T12:47:32.202Z"
   },
   {
    "duration": 693,
    "start_time": "2023-01-17T12:47:36.731Z"
   },
   {
    "duration": 3,
    "start_time": "2023-01-17T12:48:04.275Z"
   },
   {
    "duration": 790,
    "start_time": "2023-01-17T12:48:04.280Z"
   },
   {
    "duration": 145,
    "start_time": "2023-01-17T12:48:05.071Z"
   },
   {
    "duration": 14,
    "start_time": "2023-01-17T12:48:05.219Z"
   },
   {
    "duration": 32,
    "start_time": "2023-01-17T12:48:05.249Z"
   },
   {
    "duration": 4,
    "start_time": "2023-01-17T12:48:05.283Z"
   },
   {
    "duration": 153,
    "start_time": "2023-01-17T12:48:05.288Z"
   },
   {
    "duration": 475,
    "start_time": "2023-01-17T12:48:05.449Z"
   },
   {
    "duration": 31,
    "start_time": "2023-01-17T12:48:05.926Z"
   },
   {
    "duration": 137,
    "start_time": "2023-01-17T12:48:05.959Z"
   },
   {
    "duration": 20,
    "start_time": "2023-01-17T12:48:06.098Z"
   },
   {
    "duration": 49,
    "start_time": "2023-01-17T12:48:06.119Z"
   },
   {
    "duration": 41,
    "start_time": "2023-01-17T12:48:06.169Z"
   },
   {
    "duration": 518,
    "start_time": "2023-01-17T12:48:06.211Z"
   },
   {
    "duration": 4,
    "start_time": "2023-01-17T12:48:06.730Z"
   },
   {
    "duration": 8,
    "start_time": "2023-01-17T12:48:06.737Z"
   },
   {
    "duration": 67,
    "start_time": "2023-01-17T12:48:06.747Z"
   },
   {
    "duration": 3,
    "start_time": "2023-01-17T12:48:25.669Z"
   },
   {
    "duration": 791,
    "start_time": "2023-01-17T12:48:25.674Z"
   },
   {
    "duration": 121,
    "start_time": "2023-01-17T12:48:26.466Z"
   },
   {
    "duration": 13,
    "start_time": "2023-01-17T12:48:26.589Z"
   },
   {
    "duration": 64,
    "start_time": "2023-01-17T12:48:26.604Z"
   },
   {
    "duration": 3,
    "start_time": "2023-01-17T12:48:26.669Z"
   },
   {
    "duration": 128,
    "start_time": "2023-01-17T12:48:26.673Z"
   },
   {
    "duration": 406,
    "start_time": "2023-01-17T12:48:26.803Z"
   },
   {
    "duration": 26,
    "start_time": "2023-01-17T12:48:27.210Z"
   },
   {
    "duration": 134,
    "start_time": "2023-01-17T12:48:27.237Z"
   },
   {
    "duration": 50,
    "start_time": "2023-01-17T12:48:27.373Z"
   },
   {
    "duration": 49,
    "start_time": "2023-01-17T12:48:27.424Z"
   },
   {
    "duration": 437,
    "start_time": "2023-01-17T12:48:27.475Z"
   },
   {
    "duration": 5,
    "start_time": "2023-01-17T12:48:27.916Z"
   },
   {
    "duration": 37,
    "start_time": "2023-01-17T12:48:27.924Z"
   },
   {
    "duration": 55,
    "start_time": "2023-01-17T12:48:27.963Z"
   },
   {
    "duration": 5,
    "start_time": "2023-01-17T14:22:35.625Z"
   },
   {
    "duration": 3,
    "start_time": "2023-01-17T14:27:27.263Z"
   },
   {
    "duration": 677,
    "start_time": "2023-01-17T14:27:27.268Z"
   },
   {
    "duration": 125,
    "start_time": "2023-01-17T14:27:27.947Z"
   },
   {
    "duration": 12,
    "start_time": "2023-01-17T14:27:28.074Z"
   },
   {
    "duration": 60,
    "start_time": "2023-01-17T14:27:28.087Z"
   },
   {
    "duration": 3,
    "start_time": "2023-01-17T14:27:28.149Z"
   },
   {
    "duration": 120,
    "start_time": "2023-01-17T14:27:28.154Z"
   },
   {
    "duration": 388,
    "start_time": "2023-01-17T14:27:28.275Z"
   },
   {
    "duration": 23,
    "start_time": "2023-01-17T14:27:28.665Z"
   },
   {
    "duration": 132,
    "start_time": "2023-01-17T14:27:28.690Z"
   },
   {
    "duration": 60,
    "start_time": "2023-01-17T14:27:28.823Z"
   },
   {
    "duration": 38,
    "start_time": "2023-01-17T14:27:28.885Z"
   },
   {
    "duration": 32,
    "start_time": "2023-01-17T14:27:33.356Z"
   },
   {
    "duration": 30,
    "start_time": "2023-01-17T14:27:34.237Z"
   },
   {
    "duration": 78,
    "start_time": "2023-01-17T14:28:22.836Z"
   },
   {
    "duration": 471,
    "start_time": "2023-01-17T14:28:27.822Z"
   },
   {
    "duration": 4,
    "start_time": "2023-01-17T14:28:28.940Z"
   },
   {
    "duration": 3,
    "start_time": "2023-01-17T14:28:37.124Z"
   },
   {
    "duration": 51,
    "start_time": "2023-01-17T14:28:37.597Z"
   },
   {
    "duration": 3,
    "start_time": "2023-01-17T14:37:59.137Z"
   },
   {
    "duration": 710,
    "start_time": "2023-01-17T14:37:59.142Z"
   },
   {
    "duration": 136,
    "start_time": "2023-01-17T14:37:59.854Z"
   },
   {
    "duration": 12,
    "start_time": "2023-01-17T14:37:59.991Z"
   },
   {
    "duration": 66,
    "start_time": "2023-01-17T14:38:00.005Z"
   },
   {
    "duration": 4,
    "start_time": "2023-01-17T14:38:00.072Z"
   },
   {
    "duration": 179,
    "start_time": "2023-01-17T14:38:00.078Z"
   },
   {
    "duration": 393,
    "start_time": "2023-01-17T14:38:00.258Z"
   },
   {
    "duration": 27,
    "start_time": "2023-01-17T14:38:00.653Z"
   },
   {
    "duration": 137,
    "start_time": "2023-01-17T14:38:00.682Z"
   },
   {
    "duration": 58,
    "start_time": "2023-01-17T14:38:00.821Z"
   },
   {
    "duration": 55,
    "start_time": "2023-01-17T14:38:00.881Z"
   },
   {
    "duration": 79,
    "start_time": "2023-01-17T14:38:00.938Z"
   },
   {
    "duration": 98,
    "start_time": "2023-01-17T14:38:01.020Z"
   },
   {
    "duration": 465,
    "start_time": "2023-01-17T14:38:01.120Z"
   },
   {
    "duration": 4,
    "start_time": "2023-01-17T14:38:01.587Z"
   },
   {
    "duration": 11,
    "start_time": "2023-01-17T14:38:01.593Z"
   },
   {
    "duration": 51,
    "start_time": "2023-01-17T14:38:01.606Z"
   },
   {
    "duration": 3,
    "start_time": "2023-01-17T15:08:45.176Z"
   },
   {
    "duration": 777,
    "start_time": "2023-01-17T15:08:45.181Z"
   },
   {
    "duration": 126,
    "start_time": "2023-01-17T15:08:45.960Z"
   },
   {
    "duration": 11,
    "start_time": "2023-01-17T15:08:46.088Z"
   },
   {
    "duration": 67,
    "start_time": "2023-01-17T15:08:46.101Z"
   },
   {
    "duration": 3,
    "start_time": "2023-01-17T15:08:46.169Z"
   },
   {
    "duration": 122,
    "start_time": "2023-01-17T15:08:46.173Z"
   },
   {
    "duration": 389,
    "start_time": "2023-01-17T15:08:46.297Z"
   },
   {
    "duration": 25,
    "start_time": "2023-01-17T15:08:46.688Z"
   },
   {
    "duration": 134,
    "start_time": "2023-01-17T15:08:46.714Z"
   },
   {
    "duration": 52,
    "start_time": "2023-01-17T15:08:46.850Z"
   },
   {
    "duration": 46,
    "start_time": "2023-01-17T15:08:46.903Z"
   },
   {
    "duration": 72,
    "start_time": "2023-01-17T15:08:46.951Z"
   },
   {
    "duration": 104,
    "start_time": "2023-01-17T15:08:47.024Z"
   },
   {
    "duration": 439,
    "start_time": "2023-01-17T15:08:47.129Z"
   },
   {
    "duration": 3,
    "start_time": "2023-01-17T15:08:47.570Z"
   },
   {
    "duration": 11,
    "start_time": "2023-01-17T15:08:47.575Z"
   },
   {
    "duration": 42,
    "start_time": "2023-01-17T15:08:47.588Z"
   },
   {
    "duration": 3,
    "start_time": "2023-01-17T15:18:11.974Z"
   },
   {
    "duration": 706,
    "start_time": "2023-01-17T15:18:11.979Z"
   },
   {
    "duration": 127,
    "start_time": "2023-01-17T15:18:12.687Z"
   },
   {
    "duration": 16,
    "start_time": "2023-01-17T15:18:12.816Z"
   },
   {
    "duration": 58,
    "start_time": "2023-01-17T15:18:12.834Z"
   },
   {
    "duration": 3,
    "start_time": "2023-01-17T15:18:12.894Z"
   },
   {
    "duration": 129,
    "start_time": "2023-01-17T15:18:12.898Z"
   },
   {
    "duration": 393,
    "start_time": "2023-01-17T15:18:13.029Z"
   },
   {
    "duration": 31,
    "start_time": "2023-01-17T15:18:13.424Z"
   },
   {
    "duration": 126,
    "start_time": "2023-01-17T15:18:13.456Z"
   },
   {
    "duration": 49,
    "start_time": "2023-01-17T15:18:13.584Z"
   },
   {
    "duration": 42,
    "start_time": "2023-01-17T15:18:13.635Z"
   },
   {
    "duration": 73,
    "start_time": "2023-01-17T15:18:13.679Z"
   },
   {
    "duration": 103,
    "start_time": "2023-01-17T15:18:13.754Z"
   },
   {
    "duration": 454,
    "start_time": "2023-01-17T15:18:13.859Z"
   },
   {
    "duration": 45,
    "start_time": "2023-01-17T15:18:14.314Z"
   },
   {
    "duration": 0,
    "start_time": "2023-01-17T15:18:14.360Z"
   },
   {
    "duration": 0,
    "start_time": "2023-01-17T15:18:14.362Z"
   },
   {
    "duration": 13,
    "start_time": "2023-01-17T15:20:38.838Z"
   },
   {
    "duration": 2,
    "start_time": "2023-01-17T15:20:42.398Z"
   },
   {
    "duration": 691,
    "start_time": "2023-01-17T15:20:42.402Z"
   },
   {
    "duration": 131,
    "start_time": "2023-01-17T15:20:43.095Z"
   },
   {
    "duration": 23,
    "start_time": "2023-01-17T15:20:43.228Z"
   },
   {
    "duration": 60,
    "start_time": "2023-01-17T15:20:43.253Z"
   },
   {
    "duration": 3,
    "start_time": "2023-01-17T15:20:43.315Z"
   },
   {
    "duration": 131,
    "start_time": "2023-01-17T15:20:43.319Z"
   },
   {
    "duration": 393,
    "start_time": "2023-01-17T15:20:43.452Z"
   },
   {
    "duration": 24,
    "start_time": "2023-01-17T15:20:43.848Z"
   },
   {
    "duration": 138,
    "start_time": "2023-01-17T15:20:43.873Z"
   },
   {
    "duration": 56,
    "start_time": "2023-01-17T15:20:44.013Z"
   },
   {
    "duration": 45,
    "start_time": "2023-01-17T15:20:44.070Z"
   },
   {
    "duration": 85,
    "start_time": "2023-01-17T15:20:44.117Z"
   },
   {
    "duration": 108,
    "start_time": "2023-01-17T15:20:44.204Z"
   },
   {
    "duration": 447,
    "start_time": "2023-01-17T15:20:44.314Z"
   },
   {
    "duration": 3,
    "start_time": "2023-01-17T15:20:44.763Z"
   },
   {
    "duration": 7,
    "start_time": "2023-01-17T15:20:44.767Z"
   },
   {
    "duration": 45,
    "start_time": "2023-01-17T15:20:44.775Z"
   },
   {
    "duration": 4,
    "start_time": "2023-01-17T15:22:14.379Z"
   },
   {
    "duration": 3,
    "start_time": "2023-01-17T15:28:59.096Z"
   },
   {
    "duration": 694,
    "start_time": "2023-01-17T15:28:59.101Z"
   },
   {
    "duration": 160,
    "start_time": "2023-01-17T15:28:59.797Z"
   },
   {
    "duration": 12,
    "start_time": "2023-01-17T15:28:59.959Z"
   },
   {
    "duration": 178,
    "start_time": "2023-01-17T15:28:59.972Z"
   },
   {
    "duration": 3,
    "start_time": "2023-01-17T15:29:00.152Z"
   },
   {
    "duration": 129,
    "start_time": "2023-01-17T15:29:00.156Z"
   },
   {
    "duration": 414,
    "start_time": "2023-01-17T15:29:00.286Z"
   },
   {
    "duration": 24,
    "start_time": "2023-01-17T15:29:00.703Z"
   },
   {
    "duration": 129,
    "start_time": "2023-01-17T15:29:00.729Z"
   },
   {
    "duration": 58,
    "start_time": "2023-01-17T15:29:00.860Z"
   },
   {
    "duration": 53,
    "start_time": "2023-01-17T15:29:00.920Z"
   },
   {
    "duration": 91,
    "start_time": "2023-01-17T15:29:00.974Z"
   },
   {
    "duration": 109,
    "start_time": "2023-01-17T15:29:01.066Z"
   },
   {
    "duration": 197,
    "start_time": "2023-01-17T15:29:03.926Z"
   },
   {
    "duration": 4,
    "start_time": "2023-01-17T15:32:23.010Z"
   },
   {
    "duration": 703,
    "start_time": "2023-01-17T15:32:23.015Z"
   },
   {
    "duration": 120,
    "start_time": "2023-01-17T15:32:23.719Z"
   },
   {
    "duration": 17,
    "start_time": "2023-01-17T15:32:23.841Z"
   },
   {
    "duration": 57,
    "start_time": "2023-01-17T15:32:23.860Z"
   },
   {
    "duration": 3,
    "start_time": "2023-01-17T15:32:23.919Z"
   },
   {
    "duration": 132,
    "start_time": "2023-01-17T15:32:23.923Z"
   },
   {
    "duration": 402,
    "start_time": "2023-01-17T15:32:24.057Z"
   },
   {
    "duration": 27,
    "start_time": "2023-01-17T15:32:24.461Z"
   },
   {
    "duration": 125,
    "start_time": "2023-01-17T15:32:24.489Z"
   },
   {
    "duration": 51,
    "start_time": "2023-01-17T15:32:24.615Z"
   },
   {
    "duration": 35,
    "start_time": "2023-01-17T15:32:24.667Z"
   },
   {
    "duration": 82,
    "start_time": "2023-01-17T15:32:24.704Z"
   },
   {
    "duration": 105,
    "start_time": "2023-01-17T15:32:24.788Z"
   },
   {
    "duration": 442,
    "start_time": "2023-01-17T15:32:24.895Z"
   },
   {
    "duration": 3,
    "start_time": "2023-01-17T15:32:25.338Z"
   },
   {
    "duration": 6,
    "start_time": "2023-01-17T15:32:25.343Z"
   },
   {
    "duration": 49,
    "start_time": "2023-01-17T15:32:25.350Z"
   },
   {
    "duration": 3,
    "start_time": "2023-01-17T15:36:40.923Z"
   },
   {
    "duration": 724,
    "start_time": "2023-01-17T15:36:40.928Z"
   },
   {
    "duration": 129,
    "start_time": "2023-01-17T15:36:41.654Z"
   },
   {
    "duration": 11,
    "start_time": "2023-01-17T15:36:41.785Z"
   },
   {
    "duration": 68,
    "start_time": "2023-01-17T15:36:41.798Z"
   },
   {
    "duration": 3,
    "start_time": "2023-01-17T15:36:41.867Z"
   },
   {
    "duration": 124,
    "start_time": "2023-01-17T15:36:41.872Z"
   },
   {
    "duration": 376,
    "start_time": "2023-01-17T15:36:41.997Z"
   },
   {
    "duration": 23,
    "start_time": "2023-01-17T15:36:42.374Z"
   },
   {
    "duration": 131,
    "start_time": "2023-01-17T15:36:42.399Z"
   },
   {
    "duration": 69,
    "start_time": "2023-01-17T15:36:47.113Z"
   },
   {
    "duration": 3,
    "start_time": "2023-01-17T15:57:09.791Z"
   },
   {
    "duration": 687,
    "start_time": "2023-01-17T15:57:09.796Z"
   },
   {
    "duration": 127,
    "start_time": "2023-01-17T15:57:10.485Z"
   },
   {
    "duration": 12,
    "start_time": "2023-01-17T15:57:10.615Z"
   },
   {
    "duration": 62,
    "start_time": "2023-01-17T15:57:10.628Z"
   },
   {
    "duration": 3,
    "start_time": "2023-01-17T15:57:10.692Z"
   },
   {
    "duration": 124,
    "start_time": "2023-01-17T15:57:10.696Z"
   },
   {
    "duration": 386,
    "start_time": "2023-01-17T15:57:10.822Z"
   },
   {
    "duration": 27,
    "start_time": "2023-01-17T15:57:11.209Z"
   },
   {
    "duration": 128,
    "start_time": "2023-01-17T15:57:11.238Z"
   },
   {
    "duration": 66,
    "start_time": "2023-01-17T15:57:11.368Z"
   },
   {
    "duration": 57,
    "start_time": "2023-01-17T15:57:11.435Z"
   },
   {
    "duration": 87,
    "start_time": "2023-01-17T15:57:11.494Z"
   },
   {
    "duration": 120,
    "start_time": "2023-01-17T15:57:11.583Z"
   },
   {
    "duration": 103,
    "start_time": "2023-01-17T15:57:11.704Z"
   },
   {
    "duration": 475,
    "start_time": "2023-01-17T15:57:11.808Z"
   },
   {
    "duration": 4,
    "start_time": "2023-01-17T15:57:12.284Z"
   },
   {
    "duration": 5,
    "start_time": "2023-01-17T15:57:12.289Z"
   },
   {
    "duration": 34,
    "start_time": "2023-01-17T15:57:12.296Z"
   },
   {
    "duration": 14,
    "start_time": "2023-01-17T15:57:38.189Z"
   },
   {
    "duration": 3,
    "start_time": "2023-01-17T15:57:41.263Z"
   },
   {
    "duration": 698,
    "start_time": "2023-01-17T15:57:41.269Z"
   },
   {
    "duration": 119,
    "start_time": "2023-01-17T15:57:41.969Z"
   },
   {
    "duration": 14,
    "start_time": "2023-01-17T15:57:42.090Z"
   },
   {
    "duration": 72,
    "start_time": "2023-01-17T15:57:42.106Z"
   },
   {
    "duration": 3,
    "start_time": "2023-01-17T15:57:42.180Z"
   },
   {
    "duration": 126,
    "start_time": "2023-01-17T15:57:42.184Z"
   },
   {
    "duration": 399,
    "start_time": "2023-01-17T15:57:42.311Z"
   },
   {
    "duration": 26,
    "start_time": "2023-01-17T15:57:42.712Z"
   },
   {
    "duration": 152,
    "start_time": "2023-01-17T15:57:42.739Z"
   },
   {
    "duration": 81,
    "start_time": "2023-01-17T15:57:42.893Z"
   },
   {
    "duration": 52,
    "start_time": "2023-01-17T15:57:42.976Z"
   },
   {
    "duration": 85,
    "start_time": "2023-01-17T15:57:43.030Z"
   },
   {
    "duration": 118,
    "start_time": "2023-01-17T15:57:43.117Z"
   },
   {
    "duration": 120,
    "start_time": "2023-01-17T15:57:43.238Z"
   },
   {
    "duration": 492,
    "start_time": "2023-01-17T15:57:43.360Z"
   },
   {
    "duration": 3,
    "start_time": "2023-01-17T15:57:43.853Z"
   },
   {
    "duration": 5,
    "start_time": "2023-01-17T15:57:43.858Z"
   },
   {
    "duration": 48,
    "start_time": "2023-01-17T15:57:43.865Z"
   },
   {
    "duration": 4,
    "start_time": "2023-01-17T15:58:42.687Z"
   },
   {
    "duration": 726,
    "start_time": "2023-01-17T15:58:42.692Z"
   },
   {
    "duration": 131,
    "start_time": "2023-01-17T15:58:43.420Z"
   },
   {
    "duration": 11,
    "start_time": "2023-01-17T15:58:43.552Z"
   },
   {
    "duration": 57,
    "start_time": "2023-01-17T15:58:43.565Z"
   },
   {
    "duration": 3,
    "start_time": "2023-01-17T15:58:43.624Z"
   },
   {
    "duration": 149,
    "start_time": "2023-01-17T15:58:43.628Z"
   },
   {
    "duration": 392,
    "start_time": "2023-01-17T15:58:43.779Z"
   },
   {
    "duration": 26,
    "start_time": "2023-01-17T15:58:44.173Z"
   },
   {
    "duration": 149,
    "start_time": "2023-01-17T15:58:44.201Z"
   },
   {
    "duration": 74,
    "start_time": "2023-01-17T15:58:44.352Z"
   },
   {
    "duration": 28,
    "start_time": "2023-01-17T15:58:44.428Z"
   },
   {
    "duration": 65,
    "start_time": "2023-01-17T15:59:17.274Z"
   },
   {
    "duration": 67,
    "start_time": "2023-01-17T15:59:28.223Z"
   },
   {
    "duration": 4,
    "start_time": "2023-01-17T15:59:40.320Z"
   },
   {
    "duration": 680,
    "start_time": "2023-01-17T15:59:40.326Z"
   },
   {
    "duration": 131,
    "start_time": "2023-01-17T15:59:41.008Z"
   },
   {
    "duration": 14,
    "start_time": "2023-01-17T15:59:41.147Z"
   },
   {
    "duration": 59,
    "start_time": "2023-01-17T15:59:41.163Z"
   },
   {
    "duration": 3,
    "start_time": "2023-01-17T15:59:41.224Z"
   },
   {
    "duration": 133,
    "start_time": "2023-01-17T15:59:41.228Z"
   },
   {
    "duration": 391,
    "start_time": "2023-01-17T15:59:41.363Z"
   },
   {
    "duration": 26,
    "start_time": "2023-01-17T15:59:41.756Z"
   },
   {
    "duration": 132,
    "start_time": "2023-01-17T15:59:41.784Z"
   },
   {
    "duration": 77,
    "start_time": "2023-01-17T15:59:41.918Z"
   },
   {
    "duration": 66,
    "start_time": "2023-01-17T15:59:41.997Z"
   },
   {
    "duration": 76,
    "start_time": "2023-01-17T15:59:42.064Z"
   },
   {
    "duration": 100,
    "start_time": "2023-01-17T15:59:42.148Z"
   },
   {
    "duration": 89,
    "start_time": "2023-01-17T15:59:42.249Z"
   },
   {
    "duration": 458,
    "start_time": "2023-01-17T15:59:42.348Z"
   },
   {
    "duration": 5,
    "start_time": "2023-01-17T15:59:42.808Z"
   },
   {
    "duration": 10,
    "start_time": "2023-01-17T15:59:42.815Z"
   },
   {
    "duration": 39,
    "start_time": "2023-01-17T15:59:42.826Z"
   },
   {
    "duration": 36,
    "start_time": "2023-01-17T16:01:00.237Z"
   },
   {
    "duration": 829,
    "start_time": "2023-01-17T16:01:36.235Z"
   },
   {
    "duration": 3,
    "start_time": "2023-01-17T16:01:43.510Z"
   },
   {
    "duration": 717,
    "start_time": "2023-01-17T16:01:43.515Z"
   },
   {
    "duration": 125,
    "start_time": "2023-01-17T16:01:44.234Z"
   },
   {
    "duration": 12,
    "start_time": "2023-01-17T16:01:44.362Z"
   },
   {
    "duration": 73,
    "start_time": "2023-01-17T16:01:44.375Z"
   },
   {
    "duration": 3,
    "start_time": "2023-01-17T16:01:44.450Z"
   },
   {
    "duration": 125,
    "start_time": "2023-01-17T16:01:44.455Z"
   },
   {
    "duration": 378,
    "start_time": "2023-01-17T16:01:44.581Z"
   },
   {
    "duration": 30,
    "start_time": "2023-01-17T16:01:44.961Z"
   },
   {
    "duration": 128,
    "start_time": "2023-01-17T16:01:44.993Z"
   },
   {
    "duration": 90,
    "start_time": "2023-01-17T16:02:04.069Z"
   },
   {
    "duration": 3,
    "start_time": "2023-01-17T16:04:47.617Z"
   },
   {
    "duration": 704,
    "start_time": "2023-01-17T16:04:47.621Z"
   },
   {
    "duration": 130,
    "start_time": "2023-01-17T16:04:48.327Z"
   },
   {
    "duration": 14,
    "start_time": "2023-01-17T16:04:48.459Z"
   },
   {
    "duration": 49,
    "start_time": "2023-01-17T16:04:48.475Z"
   },
   {
    "duration": 3,
    "start_time": "2023-01-17T16:04:48.526Z"
   },
   {
    "duration": 133,
    "start_time": "2023-01-17T16:04:48.530Z"
   },
   {
    "duration": 409,
    "start_time": "2023-01-17T16:04:48.664Z"
   },
   {
    "duration": 37,
    "start_time": "2023-01-17T16:04:49.076Z"
   },
   {
    "duration": 142,
    "start_time": "2023-01-17T16:04:49.116Z"
   },
   {
    "duration": 92,
    "start_time": "2023-01-17T16:04:49.260Z"
   },
   {
    "duration": 780,
    "start_time": "2023-01-17T16:04:58.380Z"
   },
   {
    "duration": 11,
    "start_time": "2023-01-17T16:05:06.451Z"
   },
   {
    "duration": 85,
    "start_time": "2023-01-17T16:05:26.596Z"
   },
   {
    "duration": 3,
    "start_time": "2023-01-17T16:08:22.680Z"
   },
   {
    "duration": 688,
    "start_time": "2023-01-17T16:08:22.686Z"
   },
   {
    "duration": 123,
    "start_time": "2023-01-17T16:08:23.376Z"
   },
   {
    "duration": 13,
    "start_time": "2023-01-17T16:08:23.500Z"
   },
   {
    "duration": 75,
    "start_time": "2023-01-17T16:08:23.515Z"
   },
   {
    "duration": 3,
    "start_time": "2023-01-17T16:08:23.592Z"
   },
   {
    "duration": 123,
    "start_time": "2023-01-17T16:08:23.596Z"
   },
   {
    "duration": 405,
    "start_time": "2023-01-17T16:08:23.721Z"
   },
   {
    "duration": 36,
    "start_time": "2023-01-17T16:08:24.128Z"
   },
   {
    "duration": 135,
    "start_time": "2023-01-17T16:08:24.166Z"
   },
   {
    "duration": 88,
    "start_time": "2023-01-17T16:08:24.302Z"
   },
   {
    "duration": 98,
    "start_time": "2023-01-17T16:08:24.391Z"
   },
   {
    "duration": 73,
    "start_time": "2023-01-17T16:08:24.491Z"
   },
   {
    "duration": 102,
    "start_time": "2023-01-17T16:08:24.566Z"
   },
   {
    "duration": 176,
    "start_time": "2023-01-17T16:08:24.669Z"
   },
   {
    "duration": 426,
    "start_time": "2023-01-17T16:08:26.507Z"
   },
   {
    "duration": 4,
    "start_time": "2023-01-17T16:08:34.766Z"
   },
   {
    "duration": 2,
    "start_time": "2023-01-17T16:08:35.308Z"
   },
   {
    "duration": 17,
    "start_time": "2023-01-17T16:08:35.804Z"
   },
   {
    "duration": 23,
    "start_time": "2023-01-17T16:08:36.916Z"
   },
   {
    "duration": 3,
    "start_time": "2023-01-17T16:10:36.422Z"
   },
   {
    "duration": 680,
    "start_time": "2023-01-17T16:10:36.427Z"
   },
   {
    "duration": 144,
    "start_time": "2023-01-17T16:10:37.109Z"
   },
   {
    "duration": 12,
    "start_time": "2023-01-17T16:10:37.255Z"
   },
   {
    "duration": 56,
    "start_time": "2023-01-17T16:10:37.269Z"
   },
   {
    "duration": 2,
    "start_time": "2023-01-17T16:10:37.327Z"
   },
   {
    "duration": 118,
    "start_time": "2023-01-17T16:10:37.348Z"
   },
   {
    "duration": 373,
    "start_time": "2023-01-17T16:10:37.468Z"
   },
   {
    "duration": 31,
    "start_time": "2023-01-17T16:10:37.847Z"
   },
   {
    "duration": 129,
    "start_time": "2023-01-17T16:10:37.880Z"
   },
   {
    "duration": 86,
    "start_time": "2023-01-17T16:10:41.412Z"
   },
   {
    "duration": 3,
    "start_time": "2023-01-17T16:18:41.376Z"
   },
   {
    "duration": 680,
    "start_time": "2023-01-17T16:18:41.381Z"
   },
   {
    "duration": 126,
    "start_time": "2023-01-17T16:18:42.063Z"
   },
   {
    "duration": 12,
    "start_time": "2023-01-17T16:18:42.191Z"
   },
   {
    "duration": 71,
    "start_time": "2023-01-17T16:18:42.205Z"
   },
   {
    "duration": 2,
    "start_time": "2023-01-17T16:18:42.278Z"
   },
   {
    "duration": 121,
    "start_time": "2023-01-17T16:18:42.282Z"
   },
   {
    "duration": 372,
    "start_time": "2023-01-17T16:18:42.404Z"
   },
   {
    "duration": 32,
    "start_time": "2023-01-17T16:18:42.777Z"
   },
   {
    "duration": 142,
    "start_time": "2023-01-17T16:18:42.811Z"
   },
   {
    "duration": 86,
    "start_time": "2023-01-17T16:18:42.954Z"
   },
   {
    "duration": 100,
    "start_time": "2023-01-17T16:18:43.048Z"
   },
   {
    "duration": 80,
    "start_time": "2023-01-17T16:18:43.149Z"
   },
   {
    "duration": 121,
    "start_time": "2023-01-17T16:18:43.231Z"
   },
   {
    "duration": 189,
    "start_time": "2023-01-17T16:18:43.354Z"
   },
   {
    "duration": 119,
    "start_time": "2023-01-17T16:18:43.545Z"
   },
   {
    "duration": 150,
    "start_time": "2023-01-17T16:18:43.665Z"
   },
   {
    "duration": 77,
    "start_time": "2023-01-17T16:18:43.816Z"
   },
   {
    "duration": 4,
    "start_time": "2023-01-17T16:18:43.895Z"
   },
   {
    "duration": 3,
    "start_time": "2023-01-17T16:18:54.360Z"
   },
   {
    "duration": 694,
    "start_time": "2023-01-17T16:18:54.365Z"
   },
   {
    "duration": 126,
    "start_time": "2023-01-17T16:18:55.061Z"
   },
   {
    "duration": 12,
    "start_time": "2023-01-17T16:18:55.189Z"
   },
   {
    "duration": 27,
    "start_time": "2023-01-17T16:18:55.202Z"
   },
   {
    "duration": 3,
    "start_time": "2023-01-17T16:18:55.231Z"
   },
   {
    "duration": 149,
    "start_time": "2023-01-17T16:18:55.248Z"
   },
   {
    "duration": 390,
    "start_time": "2023-01-17T16:18:55.399Z"
   },
   {
    "duration": 24,
    "start_time": "2023-01-17T16:18:55.791Z"
   },
   {
    "duration": 140,
    "start_time": "2023-01-17T16:18:55.816Z"
   },
   {
    "duration": 92,
    "start_time": "2023-01-17T16:18:55.958Z"
   },
   {
    "duration": 85,
    "start_time": "2023-01-17T16:18:56.052Z"
   },
   {
    "duration": 73,
    "start_time": "2023-01-17T16:18:56.149Z"
   },
   {
    "duration": 110,
    "start_time": "2023-01-17T16:18:56.223Z"
   },
   {
    "duration": 186,
    "start_time": "2023-01-17T16:18:56.335Z"
   },
   {
    "duration": 121,
    "start_time": "2023-01-17T16:18:56.523Z"
   },
   {
    "duration": 147,
    "start_time": "2023-01-17T16:18:56.646Z"
   },
   {
    "duration": 80,
    "start_time": "2023-01-17T16:18:56.795Z"
   },
   {
    "duration": 4,
    "start_time": "2023-01-17T16:18:56.876Z"
   },
   {
    "duration": 123,
    "start_time": "2023-01-17T16:18:56.881Z"
   },
   {
    "duration": 3,
    "start_time": "2023-01-17T16:19:11.319Z"
   },
   {
    "duration": 692,
    "start_time": "2023-01-17T16:19:11.324Z"
   },
   {
    "duration": 122,
    "start_time": "2023-01-17T16:19:12.017Z"
   },
   {
    "duration": 18,
    "start_time": "2023-01-17T16:19:12.141Z"
   },
   {
    "duration": 57,
    "start_time": "2023-01-17T16:19:12.161Z"
   },
   {
    "duration": 2,
    "start_time": "2023-01-17T16:19:12.220Z"
   },
   {
    "duration": 133,
    "start_time": "2023-01-17T16:19:12.224Z"
   },
   {
    "duration": 383,
    "start_time": "2023-01-17T16:19:12.358Z"
   },
   {
    "duration": 32,
    "start_time": "2023-01-17T16:19:12.744Z"
   },
   {
    "duration": 145,
    "start_time": "2023-01-17T16:19:12.778Z"
   },
   {
    "duration": 98,
    "start_time": "2023-01-17T16:19:12.924Z"
   },
   {
    "duration": 105,
    "start_time": "2023-01-17T16:19:13.024Z"
   },
   {
    "duration": 84,
    "start_time": "2023-01-17T16:19:13.131Z"
   },
   {
    "duration": 101,
    "start_time": "2023-01-17T16:19:13.216Z"
   },
   {
    "duration": 180,
    "start_time": "2023-01-17T16:19:13.318Z"
   },
   {
    "duration": 111,
    "start_time": "2023-01-17T16:19:13.500Z"
   },
   {
    "duration": 146,
    "start_time": "2023-01-17T16:19:13.612Z"
   },
   {
    "duration": 61,
    "start_time": "2023-01-17T16:19:13.760Z"
   },
   {
    "duration": 125,
    "start_time": "2023-01-17T16:19:13.823Z"
   },
   {
    "duration": 3,
    "start_time": "2023-01-17T16:24:03.137Z"
   },
   {
    "duration": 683,
    "start_time": "2023-01-17T16:24:03.142Z"
   },
   {
    "duration": 127,
    "start_time": "2023-01-17T16:24:03.826Z"
   },
   {
    "duration": 11,
    "start_time": "2023-01-17T16:24:03.955Z"
   },
   {
    "duration": 57,
    "start_time": "2023-01-17T16:24:03.968Z"
   },
   {
    "duration": 3,
    "start_time": "2023-01-17T16:24:04.027Z"
   },
   {
    "duration": 133,
    "start_time": "2023-01-17T16:24:04.048Z"
   },
   {
    "duration": 377,
    "start_time": "2023-01-17T16:24:04.183Z"
   },
   {
    "duration": 29,
    "start_time": "2023-01-17T16:24:04.561Z"
   },
   {
    "duration": 134,
    "start_time": "2023-01-17T16:24:04.594Z"
   },
   {
    "duration": 88,
    "start_time": "2023-01-17T16:24:04.730Z"
   },
   {
    "duration": 106,
    "start_time": "2023-01-17T16:24:04.820Z"
   },
   {
    "duration": 74,
    "start_time": "2023-01-17T16:24:04.927Z"
   },
   {
    "duration": 104,
    "start_time": "2023-01-17T16:24:05.003Z"
   },
   {
    "duration": 218,
    "start_time": "2023-01-17T16:24:05.108Z"
   },
   {
    "duration": 139,
    "start_time": "2023-01-17T16:24:05.327Z"
   },
   {
    "duration": 151,
    "start_time": "2023-01-17T16:24:05.468Z"
   },
   {
    "duration": 68,
    "start_time": "2023-01-17T16:24:05.621Z"
   },
   {
    "duration": 125,
    "start_time": "2023-01-17T16:24:05.691Z"
   },
   {
    "duration": 133,
    "start_time": "2023-01-17T16:24:05.817Z"
   },
   {
    "duration": 17,
    "start_time": "2023-01-17T16:24:05.952Z"
   },
   {
    "duration": 24,
    "start_time": "2023-01-17T16:24:05.971Z"
   },
   {
    "duration": 3,
    "start_time": "2023-01-17T16:34:49.456Z"
   },
   {
    "duration": 277,
    "start_time": "2023-01-17T16:38:20.370Z"
   },
   {
    "duration": 488,
    "start_time": "2023-01-17T16:39:35.762Z"
   },
   {
    "duration": 480,
    "start_time": "2023-01-17T16:40:08.860Z"
   },
   {
    "duration": 453,
    "start_time": "2023-01-17T16:41:08.441Z"
   },
   {
    "duration": 923,
    "start_time": "2023-01-17T16:41:14.267Z"
   },
   {
    "duration": 474,
    "start_time": "2023-01-17T16:41:26.005Z"
   },
   {
    "duration": 43,
    "start_time": "2023-01-18T16:17:39.837Z"
   },
   {
    "duration": 980,
    "start_time": "2023-01-18T16:17:45.275Z"
   },
   {
    "duration": 2876,
    "start_time": "2023-01-18T16:17:46.257Z"
   },
   {
    "duration": 124,
    "start_time": "2023-01-18T16:17:49.134Z"
   },
   {
    "duration": 20,
    "start_time": "2023-01-18T16:17:49.261Z"
   },
   {
    "duration": 65,
    "start_time": "2023-01-18T16:17:49.283Z"
   },
   {
    "duration": 3,
    "start_time": "2023-01-18T16:17:49.350Z"
   },
   {
    "duration": 125,
    "start_time": "2023-01-18T16:17:49.354Z"
   },
   {
    "duration": 429,
    "start_time": "2023-01-18T16:17:49.480Z"
   },
   {
    "duration": 37,
    "start_time": "2023-01-18T16:17:49.910Z"
   },
   {
    "duration": 159,
    "start_time": "2023-01-18T16:17:49.949Z"
   },
   {
    "duration": 97,
    "start_time": "2023-01-18T16:17:50.111Z"
   },
   {
    "duration": 106,
    "start_time": "2023-01-18T16:17:50.210Z"
   },
   {
    "duration": 76,
    "start_time": "2023-01-18T16:17:50.318Z"
   },
   {
    "duration": 141,
    "start_time": "2023-01-18T16:17:50.395Z"
   },
   {
    "duration": 196,
    "start_time": "2023-01-18T16:17:50.538Z"
   },
   {
    "duration": 120,
    "start_time": "2023-01-18T16:17:50.735Z"
   },
   {
    "duration": 158,
    "start_time": "2023-01-18T16:17:50.857Z"
   },
   {
    "duration": 87,
    "start_time": "2023-01-18T16:17:51.017Z"
   },
   {
    "duration": 5,
    "start_time": "2023-01-18T16:17:51.106Z"
   },
   {
    "duration": 285,
    "start_time": "2023-01-18T16:17:51.112Z"
   },
   {
    "duration": 93,
    "start_time": "2023-01-18T16:17:51.398Z"
   },
   {
    "duration": 16,
    "start_time": "2023-01-18T16:17:51.492Z"
   },
   {
    "duration": 34,
    "start_time": "2023-01-18T16:17:51.510Z"
   },
   {
    "duration": 119,
    "start_time": "2023-01-18T16:18:30.363Z"
   },
   {
    "duration": 4,
    "start_time": "2023-01-18T16:29:22.847Z"
   },
   {
    "duration": 749,
    "start_time": "2023-01-18T16:29:22.853Z"
   },
   {
    "duration": 132,
    "start_time": "2023-01-18T16:29:23.604Z"
   },
   {
    "duration": 15,
    "start_time": "2023-01-18T16:29:23.744Z"
   },
   {
    "duration": 28,
    "start_time": "2023-01-18T16:29:23.762Z"
   },
   {
    "duration": 3,
    "start_time": "2023-01-18T16:29:23.792Z"
   },
   {
    "duration": 143,
    "start_time": "2023-01-18T16:29:23.796Z"
   },
   {
    "duration": 525,
    "start_time": "2023-01-18T16:29:23.940Z"
   },
   {
    "duration": 23,
    "start_time": "2023-01-18T16:29:24.467Z"
   },
   {
    "duration": 111,
    "start_time": "2023-01-18T16:29:24.492Z"
   },
   {
    "duration": 121,
    "start_time": "2023-01-18T16:29:24.605Z"
   },
   {
    "duration": 183,
    "start_time": "2023-01-18T16:29:24.728Z"
   },
   {
    "duration": 112,
    "start_time": "2023-01-18T16:29:24.913Z"
   },
   {
    "duration": 145,
    "start_time": "2023-01-18T16:29:25.027Z"
   },
   {
    "duration": 223,
    "start_time": "2023-01-18T16:29:25.175Z"
   },
   {
    "duration": 122,
    "start_time": "2023-01-18T16:29:25.399Z"
   },
   {
    "duration": 167,
    "start_time": "2023-01-18T16:29:25.522Z"
   },
   {
    "duration": 81,
    "start_time": "2023-01-18T16:29:25.691Z"
   },
   {
    "duration": 126,
    "start_time": "2023-01-18T16:29:25.774Z"
   },
   {
    "duration": 22,
    "start_time": "2023-01-18T16:29:25.901Z"
   },
   {
    "duration": 41,
    "start_time": "2023-01-18T16:29:25.925Z"
   },
   {
    "duration": 3,
    "start_time": "2023-01-18T16:31:56.078Z"
   },
   {
    "duration": 749,
    "start_time": "2023-01-18T16:31:56.084Z"
   },
   {
    "duration": 138,
    "start_time": "2023-01-18T16:31:56.835Z"
   },
   {
    "duration": 18,
    "start_time": "2023-01-18T16:31:56.975Z"
   },
   {
    "duration": 28,
    "start_time": "2023-01-18T16:31:56.995Z"
   },
   {
    "duration": 4,
    "start_time": "2023-01-18T16:31:57.044Z"
   },
   {
    "duration": 133,
    "start_time": "2023-01-18T16:31:57.049Z"
   },
   {
    "duration": 412,
    "start_time": "2023-01-18T16:31:57.184Z"
   },
   {
    "duration": 26,
    "start_time": "2023-01-18T16:31:57.598Z"
   },
   {
    "duration": 117,
    "start_time": "2023-01-18T16:31:57.627Z"
   },
   {
    "duration": 87,
    "start_time": "2023-01-18T16:31:57.745Z"
   },
   {
    "duration": 75,
    "start_time": "2023-01-18T16:31:57.833Z"
   },
   {
    "duration": 0,
    "start_time": "2023-01-18T16:31:57.910Z"
   },
   {
    "duration": 0,
    "start_time": "2023-01-18T16:31:57.912Z"
   },
   {
    "duration": 0,
    "start_time": "2023-01-18T16:31:57.913Z"
   },
   {
    "duration": 0,
    "start_time": "2023-01-18T16:31:57.914Z"
   },
   {
    "duration": 0,
    "start_time": "2023-01-18T16:31:57.916Z"
   },
   {
    "duration": 0,
    "start_time": "2023-01-18T16:31:57.917Z"
   },
   {
    "duration": 0,
    "start_time": "2023-01-18T16:31:57.919Z"
   },
   {
    "duration": 0,
    "start_time": "2023-01-18T16:31:57.944Z"
   },
   {
    "duration": 0,
    "start_time": "2023-01-18T16:31:57.947Z"
   },
   {
    "duration": 0,
    "start_time": "2023-01-18T16:31:57.949Z"
   },
   {
    "duration": 3,
    "start_time": "2023-01-18T16:32:14.729Z"
   },
   {
    "duration": 145,
    "start_time": "2023-01-18T16:32:17.116Z"
   },
   {
    "duration": 76,
    "start_time": "2023-01-18T16:32:17.782Z"
   },
   {
    "duration": 108,
    "start_time": "2023-01-18T16:32:18.723Z"
   },
   {
    "duration": 192,
    "start_time": "2023-01-18T16:32:18.987Z"
   },
   {
    "duration": 125,
    "start_time": "2023-01-18T16:32:19.228Z"
   },
   {
    "duration": 153,
    "start_time": "2023-01-18T16:32:19.669Z"
   },
   {
    "duration": 91,
    "start_time": "2023-01-18T16:32:20.138Z"
   },
   {
    "duration": 118,
    "start_time": "2023-01-18T16:32:20.669Z"
   },
   {
    "duration": 16,
    "start_time": "2023-01-18T16:32:21.172Z"
   },
   {
    "duration": 26,
    "start_time": "2023-01-18T16:32:24.124Z"
   },
   {
    "duration": 5,
    "start_time": "2023-01-18T16:32:50.265Z"
   },
   {
    "duration": 7,
    "start_time": "2023-01-18T16:32:57.014Z"
   },
   {
    "duration": 7,
    "start_time": "2023-01-18T16:33:05.863Z"
   },
   {
    "duration": 10,
    "start_time": "2023-01-18T16:33:31.105Z"
   },
   {
    "duration": 11,
    "start_time": "2023-01-18T16:33:41.172Z"
   },
   {
    "duration": 12,
    "start_time": "2023-01-18T16:33:43.339Z"
   },
   {
    "duration": 42,
    "start_time": "2023-01-18T16:34:02.580Z"
   },
   {
    "duration": 5,
    "start_time": "2023-01-18T16:34:10.867Z"
   },
   {
    "duration": 6,
    "start_time": "2023-01-18T16:34:13.115Z"
   },
   {
    "duration": 5,
    "start_time": "2023-01-18T16:34:23.374Z"
   },
   {
    "duration": 5,
    "start_time": "2023-01-18T16:34:25.436Z"
   },
   {
    "duration": 6,
    "start_time": "2023-01-18T16:34:27.236Z"
   },
   {
    "duration": 7,
    "start_time": "2023-01-18T16:34:53.308Z"
   },
   {
    "duration": 5,
    "start_time": "2023-01-18T16:35:13.388Z"
   },
   {
    "duration": 6,
    "start_time": "2023-01-18T16:35:19.083Z"
   },
   {
    "duration": 6,
    "start_time": "2023-01-18T16:35:20.870Z"
   },
   {
    "duration": 5,
    "start_time": "2023-01-18T16:35:23.099Z"
   },
   {
    "duration": 4,
    "start_time": "2023-01-18T16:35:29.131Z"
   },
   {
    "duration": 6,
    "start_time": "2023-01-18T16:35:32.049Z"
   },
   {
    "duration": 6,
    "start_time": "2023-01-18T16:35:34.170Z"
   },
   {
    "duration": 7,
    "start_time": "2023-01-18T16:35:39.083Z"
   },
   {
    "duration": 7,
    "start_time": "2023-01-18T16:35:43.663Z"
   },
   {
    "duration": 4,
    "start_time": "2023-01-18T16:36:26.845Z"
   },
   {
    "duration": 687,
    "start_time": "2023-01-18T16:36:26.851Z"
   },
   {
    "duration": 127,
    "start_time": "2023-01-18T16:36:27.540Z"
   },
   {
    "duration": 12,
    "start_time": "2023-01-18T16:36:27.669Z"
   },
   {
    "duration": 25,
    "start_time": "2023-01-18T16:36:27.682Z"
   },
   {
    "duration": 3,
    "start_time": "2023-01-18T16:36:27.708Z"
   },
   {
    "duration": 138,
    "start_time": "2023-01-18T16:36:27.713Z"
   },
   {
    "duration": 389,
    "start_time": "2023-01-18T16:36:27.852Z"
   },
   {
    "duration": 25,
    "start_time": "2023-01-18T16:36:28.243Z"
   },
   {
    "duration": 96,
    "start_time": "2023-01-18T16:36:28.270Z"
   },
   {
    "duration": 82,
    "start_time": "2023-01-18T16:36:28.367Z"
   },
   {
    "duration": 124,
    "start_time": "2023-01-18T16:36:28.451Z"
   },
   {
    "duration": 74,
    "start_time": "2023-01-18T16:36:28.576Z"
   },
   {
    "duration": 104,
    "start_time": "2023-01-18T16:36:28.652Z"
   },
   {
    "duration": 180,
    "start_time": "2023-01-18T16:36:28.758Z"
   },
   {
    "duration": 121,
    "start_time": "2023-01-18T16:36:28.944Z"
   },
   {
    "duration": 160,
    "start_time": "2023-01-18T16:36:29.066Z"
   },
   {
    "duration": 85,
    "start_time": "2023-01-18T16:36:29.227Z"
   },
   {
    "duration": 110,
    "start_time": "2023-01-18T16:36:29.314Z"
   },
   {
    "duration": 24,
    "start_time": "2023-01-18T16:36:29.425Z"
   },
   {
    "duration": 23,
    "start_time": "2023-01-18T16:36:29.450Z"
   },
   {
    "duration": 105,
    "start_time": "2023-01-18T16:38:49.992Z"
   },
   {
    "duration": 4,
    "start_time": "2023-01-18T16:40:44.591Z"
   },
   {
    "duration": 775,
    "start_time": "2023-01-18T16:40:44.597Z"
   },
   {
    "duration": 126,
    "start_time": "2023-01-18T16:40:45.374Z"
   },
   {
    "duration": 11,
    "start_time": "2023-01-18T16:40:45.502Z"
   },
   {
    "duration": 37,
    "start_time": "2023-01-18T16:40:45.514Z"
   },
   {
    "duration": 3,
    "start_time": "2023-01-18T16:40:45.553Z"
   },
   {
    "duration": 134,
    "start_time": "2023-01-18T16:40:45.558Z"
   },
   {
    "duration": 366,
    "start_time": "2023-01-18T16:40:45.693Z"
   },
   {
    "duration": 28,
    "start_time": "2023-01-18T16:40:46.061Z"
   },
   {
    "duration": 101,
    "start_time": "2023-01-18T16:40:46.091Z"
   },
   {
    "duration": 85,
    "start_time": "2023-01-18T16:40:46.193Z"
   },
   {
    "duration": 126,
    "start_time": "2023-01-18T16:40:46.280Z"
   },
   {
    "duration": 72,
    "start_time": "2023-01-18T16:40:46.408Z"
   },
   {
    "duration": 110,
    "start_time": "2023-01-18T16:40:46.482Z"
   },
   {
    "duration": 171,
    "start_time": "2023-01-18T16:40:46.594Z"
   },
   {
    "duration": 113,
    "start_time": "2023-01-18T16:40:46.767Z"
   },
   {
    "duration": 151,
    "start_time": "2023-01-18T16:40:46.882Z"
   },
   {
    "duration": 75,
    "start_time": "2023-01-18T16:40:47.035Z"
   },
   {
    "duration": 98,
    "start_time": "2023-01-18T16:40:47.112Z"
   },
   {
    "duration": 16,
    "start_time": "2023-01-18T16:40:47.212Z"
   },
   {
    "duration": 36,
    "start_time": "2023-01-18T16:40:47.229Z"
   },
   {
    "duration": 1172,
    "start_time": "2023-01-18T21:18:29.892Z"
   },
   {
    "duration": 1053,
    "start_time": "2023-01-18T21:18:31.066Z"
   },
   {
    "duration": 112,
    "start_time": "2023-01-18T21:18:32.121Z"
   },
   {
    "duration": 18,
    "start_time": "2023-01-18T21:18:32.235Z"
   },
   {
    "duration": 69,
    "start_time": "2023-01-18T21:18:32.256Z"
   },
   {
    "duration": 3,
    "start_time": "2023-01-18T21:18:32.327Z"
   },
   {
    "duration": 108,
    "start_time": "2023-01-18T21:18:32.331Z"
   },
   {
    "duration": 479,
    "start_time": "2023-01-18T21:18:32.441Z"
   },
   {
    "duration": 38,
    "start_time": "2023-01-18T21:18:32.921Z"
   },
   {
    "duration": 95,
    "start_time": "2023-01-18T21:18:32.961Z"
   },
   {
    "duration": 103,
    "start_time": "2023-01-18T21:18:33.057Z"
   },
   {
    "duration": 123,
    "start_time": "2023-01-18T21:18:33.162Z"
   },
   {
    "duration": 74,
    "start_time": "2023-01-18T21:18:33.287Z"
   },
   {
    "duration": 101,
    "start_time": "2023-01-18T21:18:33.364Z"
   },
   {
    "duration": 192,
    "start_time": "2023-01-18T21:18:33.467Z"
   },
   {
    "duration": 155,
    "start_time": "2023-01-18T21:18:33.661Z"
   },
   {
    "duration": 167,
    "start_time": "2023-01-18T21:18:33.818Z"
   },
   {
    "duration": 89,
    "start_time": "2023-01-18T21:18:33.986Z"
   },
   {
    "duration": 133,
    "start_time": "2023-01-18T21:18:34.077Z"
   },
   {
    "duration": 27,
    "start_time": "2023-01-18T21:18:34.212Z"
   },
   {
    "duration": 27,
    "start_time": "2023-01-18T21:18:34.240Z"
   },
   {
    "duration": 27,
    "start_time": "2023-01-18T21:18:34.268Z"
   },
   {
    "duration": 145,
    "start_time": "2023-01-18T21:18:34.297Z"
   },
   {
    "duration": 0,
    "start_time": "2023-01-18T21:18:34.443Z"
   },
   {
    "duration": 0,
    "start_time": "2023-01-18T21:18:34.445Z"
   },
   {
    "duration": 92,
    "start_time": "2023-01-18T21:19:12.000Z"
   },
   {
    "duration": 4,
    "start_time": "2023-01-18T21:19:16.273Z"
   },
   {
    "duration": 15,
    "start_time": "2023-01-18T21:19:31.425Z"
   },
   {
    "duration": 380,
    "start_time": "2023-01-18T21:19:46.074Z"
   },
   {
    "duration": 4,
    "start_time": "2023-01-18T21:22:16.977Z"
   },
   {
    "duration": 511,
    "start_time": "2023-01-18T21:25:17.337Z"
   },
   {
    "duration": 4,
    "start_time": "2023-01-18T21:25:33.356Z"
   },
   {
    "duration": 811,
    "start_time": "2023-01-18T21:25:33.362Z"
   },
   {
    "duration": 124,
    "start_time": "2023-01-18T21:25:34.174Z"
   },
   {
    "duration": 25,
    "start_time": "2023-01-18T21:25:34.300Z"
   },
   {
    "duration": 42,
    "start_time": "2023-01-18T21:25:34.327Z"
   },
   {
    "duration": 3,
    "start_time": "2023-01-18T21:25:34.370Z"
   },
   {
    "duration": 153,
    "start_time": "2023-01-18T21:25:34.375Z"
   },
   {
    "duration": 468,
    "start_time": "2023-01-18T21:25:34.530Z"
   },
   {
    "duration": 36,
    "start_time": "2023-01-18T21:25:35.000Z"
   },
   {
    "duration": 99,
    "start_time": "2023-01-18T21:25:35.040Z"
   },
   {
    "duration": 97,
    "start_time": "2023-01-18T21:25:35.141Z"
   },
   {
    "duration": 136,
    "start_time": "2023-01-18T21:25:35.241Z"
   },
   {
    "duration": 84,
    "start_time": "2023-01-18T21:25:35.379Z"
   },
   {
    "duration": 110,
    "start_time": "2023-01-18T21:25:35.466Z"
   },
   {
    "duration": 192,
    "start_time": "2023-01-18T21:25:35.578Z"
   },
   {
    "duration": 129,
    "start_time": "2023-01-18T21:25:35.772Z"
   },
   {
    "duration": 180,
    "start_time": "2023-01-18T21:25:35.902Z"
   },
   {
    "duration": 84,
    "start_time": "2023-01-18T21:25:36.084Z"
   },
   {
    "duration": 121,
    "start_time": "2023-01-18T21:25:36.170Z"
   },
   {
    "duration": 19,
    "start_time": "2023-01-18T21:25:36.293Z"
   },
   {
    "duration": 40,
    "start_time": "2023-01-18T21:25:36.314Z"
   },
   {
    "duration": 2380,
    "start_time": "2023-01-18T21:25:40.011Z"
   },
   {
    "duration": 432,
    "start_time": "2023-01-18T21:41:18.714Z"
   },
   {
    "duration": 3,
    "start_time": "2023-01-18T21:42:38.330Z"
   },
   {
    "duration": 726,
    "start_time": "2023-01-18T21:42:38.335Z"
   },
   {
    "duration": 107,
    "start_time": "2023-01-18T21:42:39.062Z"
   },
   {
    "duration": 13,
    "start_time": "2023-01-18T21:42:39.171Z"
   },
   {
    "duration": 42,
    "start_time": "2023-01-18T21:42:39.186Z"
   },
   {
    "duration": 3,
    "start_time": "2023-01-18T21:42:39.230Z"
   },
   {
    "duration": 114,
    "start_time": "2023-01-18T21:42:39.234Z"
   },
   {
    "duration": 412,
    "start_time": "2023-01-18T21:42:39.350Z"
   },
   {
    "duration": 26,
    "start_time": "2023-01-18T21:42:39.764Z"
   },
   {
    "duration": 96,
    "start_time": "2023-01-18T21:42:39.792Z"
   },
   {
    "duration": 89,
    "start_time": "2023-01-18T21:42:39.889Z"
   },
   {
    "duration": 121,
    "start_time": "2023-01-18T21:42:39.980Z"
   },
   {
    "duration": 79,
    "start_time": "2023-01-18T21:42:40.103Z"
   },
   {
    "duration": 128,
    "start_time": "2023-01-18T21:42:40.183Z"
   },
   {
    "duration": 191,
    "start_time": "2023-01-18T21:42:40.313Z"
   },
   {
    "duration": 112,
    "start_time": "2023-01-18T21:42:40.506Z"
   },
   {
    "duration": 161,
    "start_time": "2023-01-18T21:42:40.620Z"
   },
   {
    "duration": 86,
    "start_time": "2023-01-18T21:42:40.783Z"
   },
   {
    "duration": 107,
    "start_time": "2023-01-18T21:42:42.623Z"
   },
   {
    "duration": 2008,
    "start_time": "2023-01-18T21:43:14.416Z"
   },
   {
    "duration": 530,
    "start_time": "2023-01-18T21:46:10.598Z"
   },
   {
    "duration": 10,
    "start_time": "2023-01-18T21:49:48.945Z"
   },
   {
    "duration": 3,
    "start_time": "2023-01-18T21:50:10.697Z"
   },
   {
    "duration": 2731,
    "start_time": "2023-01-18T21:50:18.777Z"
   },
   {
    "duration": 2545,
    "start_time": "2023-01-18T21:50:44.137Z"
   },
   {
    "duration": 2823,
    "start_time": "2023-01-18T21:51:04.313Z"
   },
   {
    "duration": 2626,
    "start_time": "2023-01-18T21:51:18.570Z"
   },
   {
    "duration": 2646,
    "start_time": "2023-01-18T21:51:26.425Z"
   },
   {
    "duration": 3036,
    "start_time": "2023-01-18T21:51:51.289Z"
   },
   {
    "duration": 2953,
    "start_time": "2023-01-18T21:53:59.514Z"
   },
   {
    "duration": 3580,
    "start_time": "2023-01-18T21:56:01.426Z"
   },
   {
    "duration": 3204,
    "start_time": "2023-01-18T21:56:31.333Z"
   },
   {
    "duration": 3131,
    "start_time": "2023-01-18T21:56:50.762Z"
   },
   {
    "duration": 3073,
    "start_time": "2023-01-18T21:57:38.130Z"
   },
   {
    "duration": 2933,
    "start_time": "2023-01-18T21:57:54.402Z"
   },
   {
    "duration": 11,
    "start_time": "2023-01-18T22:02:03.995Z"
   },
   {
    "duration": 30,
    "start_time": "2023-01-18T22:02:23.259Z"
   },
   {
    "duration": 24,
    "start_time": "2023-01-18T22:02:51.419Z"
   },
   {
    "duration": 5,
    "start_time": "2023-01-18T22:04:08.872Z"
   },
   {
    "duration": 700,
    "start_time": "2023-01-18T22:04:08.879Z"
   },
   {
    "duration": 108,
    "start_time": "2023-01-18T22:04:09.580Z"
   },
   {
    "duration": 14,
    "start_time": "2023-01-18T22:04:09.690Z"
   },
   {
    "duration": 39,
    "start_time": "2023-01-18T22:04:09.706Z"
   },
   {
    "duration": 3,
    "start_time": "2023-01-18T22:04:09.747Z"
   },
   {
    "duration": 126,
    "start_time": "2023-01-18T22:04:09.752Z"
   },
   {
    "duration": 434,
    "start_time": "2023-01-18T22:04:09.880Z"
   },
   {
    "duration": 35,
    "start_time": "2023-01-18T22:04:10.316Z"
   },
   {
    "duration": 111,
    "start_time": "2023-01-18T22:04:10.353Z"
   },
   {
    "duration": 85,
    "start_time": "2023-01-18T22:04:10.466Z"
   },
   {
    "duration": 134,
    "start_time": "2023-01-18T22:04:10.552Z"
   },
   {
    "duration": 80,
    "start_time": "2023-01-18T22:04:10.687Z"
   },
   {
    "duration": 96,
    "start_time": "2023-01-18T22:04:10.769Z"
   },
   {
    "duration": 166,
    "start_time": "2023-01-18T22:04:10.867Z"
   },
   {
    "duration": 118,
    "start_time": "2023-01-18T22:04:11.034Z"
   },
   {
    "duration": 166,
    "start_time": "2023-01-18T22:04:11.154Z"
   },
   {
    "duration": 130,
    "start_time": "2023-01-18T22:04:11.322Z"
   },
   {
    "duration": 113,
    "start_time": "2023-01-18T22:04:11.454Z"
   },
   {
    "duration": 19,
    "start_time": "2023-01-18T22:04:11.569Z"
   },
   {
    "duration": 41,
    "start_time": "2023-01-18T22:04:11.589Z"
   },
   {
    "duration": 2100,
    "start_time": "2023-01-18T22:04:14.244Z"
   },
   {
    "duration": 1170,
    "start_time": "2023-01-18T22:04:42.238Z"
   },
   {
    "duration": 761,
    "start_time": "2023-01-18T22:06:18.684Z"
   },
   {
    "duration": 4,
    "start_time": "2023-01-18T22:06:31.983Z"
   },
   {
    "duration": 720,
    "start_time": "2023-01-18T22:06:31.989Z"
   },
   {
    "duration": 116,
    "start_time": "2023-01-18T22:06:32.711Z"
   },
   {
    "duration": 15,
    "start_time": "2023-01-18T22:06:32.829Z"
   },
   {
    "duration": 66,
    "start_time": "2023-01-18T22:06:32.846Z"
   },
   {
    "duration": 3,
    "start_time": "2023-01-18T22:06:32.914Z"
   },
   {
    "duration": 108,
    "start_time": "2023-01-18T22:06:32.918Z"
   },
   {
    "duration": 409,
    "start_time": "2023-01-18T22:06:33.027Z"
   },
   {
    "duration": 26,
    "start_time": "2023-01-18T22:06:33.438Z"
   },
   {
    "duration": 97,
    "start_time": "2023-01-18T22:06:33.467Z"
   },
   {
    "duration": 80,
    "start_time": "2023-01-18T22:06:33.566Z"
   },
   {
    "duration": 126,
    "start_time": "2023-01-18T22:06:33.648Z"
   },
   {
    "duration": 76,
    "start_time": "2023-01-18T22:06:33.776Z"
   },
   {
    "duration": 112,
    "start_time": "2023-01-18T22:06:33.853Z"
   },
   {
    "duration": 175,
    "start_time": "2023-01-18T22:06:33.966Z"
   },
   {
    "duration": 118,
    "start_time": "2023-01-18T22:06:34.142Z"
   },
   {
    "duration": 156,
    "start_time": "2023-01-18T22:06:34.262Z"
   },
   {
    "duration": 82,
    "start_time": "2023-01-18T22:06:34.420Z"
   },
   {
    "duration": 107,
    "start_time": "2023-01-18T22:06:34.503Z"
   },
   {
    "duration": 27,
    "start_time": "2023-01-18T22:06:34.611Z"
   },
   {
    "duration": 26,
    "start_time": "2023-01-18T22:06:34.639Z"
   },
   {
    "duration": 1182,
    "start_time": "2023-01-18T22:06:34.667Z"
   },
   {
    "duration": 11,
    "start_time": "2023-01-18T22:07:26.628Z"
   },
   {
    "duration": 5,
    "start_time": "2023-01-18T22:09:35.616Z"
   },
   {
    "duration": 711,
    "start_time": "2023-01-18T22:09:35.623Z"
   },
   {
    "duration": 131,
    "start_time": "2023-01-18T22:09:36.336Z"
   },
   {
    "duration": 12,
    "start_time": "2023-01-18T22:09:36.469Z"
   },
   {
    "duration": 65,
    "start_time": "2023-01-18T22:09:36.483Z"
   },
   {
    "duration": 3,
    "start_time": "2023-01-18T22:09:36.550Z"
   },
   {
    "duration": 138,
    "start_time": "2023-01-18T22:09:36.554Z"
   },
   {
    "duration": 418,
    "start_time": "2023-01-18T22:09:36.693Z"
   },
   {
    "duration": 30,
    "start_time": "2023-01-18T22:09:37.113Z"
   },
   {
    "duration": 96,
    "start_time": "2023-01-18T22:09:37.145Z"
   },
   {
    "duration": 73,
    "start_time": "2023-01-18T22:09:37.242Z"
   },
   {
    "duration": 119,
    "start_time": "2023-01-18T22:09:37.327Z"
   },
   {
    "duration": 69,
    "start_time": "2023-01-18T22:09:37.448Z"
   },
   {
    "duration": 108,
    "start_time": "2023-01-18T22:09:37.527Z"
   },
   {
    "duration": 170,
    "start_time": "2023-01-18T22:09:37.637Z"
   },
   {
    "duration": 128,
    "start_time": "2023-01-18T22:09:37.809Z"
   },
   {
    "duration": 149,
    "start_time": "2023-01-18T22:09:37.939Z"
   },
   {
    "duration": 102,
    "start_time": "2023-01-18T22:09:38.090Z"
   },
   {
    "duration": 119,
    "start_time": "2023-01-18T22:09:38.194Z"
   },
   {
    "duration": 25,
    "start_time": "2023-01-18T22:09:38.315Z"
   },
   {
    "duration": 3072,
    "start_time": "2023-01-18T22:09:42.079Z"
   },
   {
    "duration": 26,
    "start_time": "2023-01-18T22:09:50.405Z"
   },
   {
    "duration": 5,
    "start_time": "2023-01-18T22:11:14.169Z"
   },
   {
    "duration": 738,
    "start_time": "2023-01-18T22:11:14.176Z"
   },
   {
    "duration": 115,
    "start_time": "2023-01-18T22:11:14.916Z"
   },
   {
    "duration": 14,
    "start_time": "2023-01-18T22:11:15.032Z"
   },
   {
    "duration": 51,
    "start_time": "2023-01-18T22:11:15.048Z"
   },
   {
    "duration": 3,
    "start_time": "2023-01-18T22:11:15.102Z"
   },
   {
    "duration": 108,
    "start_time": "2023-01-18T22:11:15.127Z"
   },
   {
    "duration": 414,
    "start_time": "2023-01-18T22:11:15.237Z"
   },
   {
    "duration": 25,
    "start_time": "2023-01-18T22:11:15.653Z"
   },
   {
    "duration": 99,
    "start_time": "2023-01-18T22:11:15.680Z"
   },
   {
    "duration": 81,
    "start_time": "2023-01-18T22:11:15.781Z"
   },
   {
    "duration": 117,
    "start_time": "2023-01-18T22:11:15.864Z"
   },
   {
    "duration": 79,
    "start_time": "2023-01-18T22:11:15.983Z"
   },
   {
    "duration": 96,
    "start_time": "2023-01-18T22:11:16.065Z"
   },
   {
    "duration": 173,
    "start_time": "2023-01-18T22:11:16.163Z"
   },
   {
    "duration": 129,
    "start_time": "2023-01-18T22:11:16.339Z"
   },
   {
    "duration": 188,
    "start_time": "2023-01-18T22:11:16.470Z"
   },
   {
    "duration": 102,
    "start_time": "2023-01-18T22:11:16.660Z"
   },
   {
    "duration": 111,
    "start_time": "2023-01-18T22:11:16.764Z"
   },
   {
    "duration": 19,
    "start_time": "2023-01-18T22:11:16.877Z"
   },
   {
    "duration": 73,
    "start_time": "2023-01-18T22:11:22.529Z"
   },
   {
    "duration": 2792,
    "start_time": "2023-01-18T22:11:32.490Z"
   },
   {
    "duration": 21,
    "start_time": "2023-01-18T22:11:39.064Z"
   },
   {
    "duration": 4,
    "start_time": "2023-01-18T22:15:51.040Z"
   },
   {
    "duration": 718,
    "start_time": "2023-01-18T22:15:51.046Z"
   },
   {
    "duration": 105,
    "start_time": "2023-01-18T22:15:51.766Z"
   },
   {
    "duration": 14,
    "start_time": "2023-01-18T22:15:51.873Z"
   },
   {
    "duration": 67,
    "start_time": "2023-01-18T22:15:51.889Z"
   },
   {
    "duration": 2,
    "start_time": "2023-01-18T22:15:51.958Z"
   },
   {
    "duration": 115,
    "start_time": "2023-01-18T22:15:51.962Z"
   },
   {
    "duration": 387,
    "start_time": "2023-01-18T22:15:52.078Z"
   },
   {
    "duration": 26,
    "start_time": "2023-01-18T22:15:52.466Z"
   },
   {
    "duration": 91,
    "start_time": "2023-01-18T22:15:52.494Z"
   },
   {
    "duration": 99,
    "start_time": "2023-01-18T22:15:52.587Z"
   },
   {
    "duration": 117,
    "start_time": "2023-01-18T22:15:52.687Z"
   },
   {
    "duration": 74,
    "start_time": "2023-01-18T22:15:52.805Z"
   },
   {
    "duration": 99,
    "start_time": "2023-01-18T22:15:52.880Z"
   },
   {
    "duration": 169,
    "start_time": "2023-01-18T22:15:52.981Z"
   },
   {
    "duration": 115,
    "start_time": "2023-01-18T22:15:53.151Z"
   },
   {
    "duration": 162,
    "start_time": "2023-01-18T22:15:53.268Z"
   },
   {
    "duration": 88,
    "start_time": "2023-01-18T22:15:53.432Z"
   },
   {
    "duration": 114,
    "start_time": "2023-01-18T22:15:53.527Z"
   },
   {
    "duration": 17,
    "start_time": "2023-01-18T22:15:53.643Z"
   },
   {
    "duration": 2927,
    "start_time": "2023-01-18T22:15:53.661Z"
   },
   {
    "duration": 93,
    "start_time": "2023-01-18T22:16:00.901Z"
   },
   {
    "duration": 13,
    "start_time": "2023-01-18T22:16:07.542Z"
   },
   {
    "duration": 19,
    "start_time": "2023-01-18T22:17:25.451Z"
   },
   {
    "duration": 13,
    "start_time": "2023-01-18T22:17:49.534Z"
   },
   {
    "duration": 14,
    "start_time": "2023-01-18T22:18:19.549Z"
   },
   {
    "duration": 12,
    "start_time": "2023-01-18T22:19:47.224Z"
   },
   {
    "duration": 3,
    "start_time": "2023-01-18T22:20:23.670Z"
   },
   {
    "duration": 693,
    "start_time": "2023-01-18T22:20:23.675Z"
   },
   {
    "duration": 115,
    "start_time": "2023-01-18T22:20:24.369Z"
   },
   {
    "duration": 12,
    "start_time": "2023-01-18T22:20:24.487Z"
   },
   {
    "duration": 63,
    "start_time": "2023-01-18T22:20:24.501Z"
   },
   {
    "duration": 3,
    "start_time": "2023-01-18T22:20:24.566Z"
   },
   {
    "duration": 116,
    "start_time": "2023-01-18T22:20:24.571Z"
   },
   {
    "duration": 394,
    "start_time": "2023-01-18T22:20:24.689Z"
   },
   {
    "duration": 25,
    "start_time": "2023-01-18T22:20:25.087Z"
   },
   {
    "duration": 112,
    "start_time": "2023-01-18T22:20:25.115Z"
   },
   {
    "duration": 78,
    "start_time": "2023-01-18T22:20:25.229Z"
   },
   {
    "duration": 121,
    "start_time": "2023-01-18T22:20:25.309Z"
   },
   {
    "duration": 74,
    "start_time": "2023-01-18T22:20:25.432Z"
   },
   {
    "duration": 100,
    "start_time": "2023-01-18T22:20:25.508Z"
   },
   {
    "duration": 179,
    "start_time": "2023-01-18T22:20:25.610Z"
   },
   {
    "duration": 113,
    "start_time": "2023-01-18T22:20:25.791Z"
   },
   {
    "duration": 165,
    "start_time": "2023-01-18T22:20:25.905Z"
   },
   {
    "duration": 94,
    "start_time": "2023-01-18T22:20:26.071Z"
   },
   {
    "duration": 112,
    "start_time": "2023-01-18T22:20:26.167Z"
   },
   {
    "duration": 18,
    "start_time": "2023-01-18T22:20:26.281Z"
   },
   {
    "duration": 2898,
    "start_time": "2023-01-18T22:20:26.301Z"
   },
   {
    "duration": 36,
    "start_time": "2023-01-18T22:20:29.201Z"
   },
   {
    "duration": 20,
    "start_time": "2023-01-18T22:20:29.239Z"
   },
   {
    "duration": 4,
    "start_time": "2023-01-18T22:21:57.889Z"
   },
   {
    "duration": 734,
    "start_time": "2023-01-18T22:21:57.895Z"
   },
   {
    "duration": 119,
    "start_time": "2023-01-18T22:21:58.631Z"
   },
   {
    "duration": 20,
    "start_time": "2023-01-18T22:21:58.752Z"
   },
   {
    "duration": 60,
    "start_time": "2023-01-18T22:21:58.775Z"
   },
   {
    "duration": 3,
    "start_time": "2023-01-18T22:21:58.837Z"
   },
   {
    "duration": 140,
    "start_time": "2023-01-18T22:21:58.842Z"
   },
   {
    "duration": 411,
    "start_time": "2023-01-18T22:21:58.983Z"
   },
   {
    "duration": 32,
    "start_time": "2023-01-18T22:21:59.395Z"
   },
   {
    "duration": 83,
    "start_time": "2023-01-18T22:21:59.429Z"
   },
   {
    "duration": 72,
    "start_time": "2023-01-18T22:21:59.527Z"
   },
   {
    "duration": 126,
    "start_time": "2023-01-18T22:21:59.601Z"
   },
   {
    "duration": 70,
    "start_time": "2023-01-18T22:21:59.729Z"
   },
   {
    "duration": 104,
    "start_time": "2023-01-18T22:21:59.801Z"
   },
   {
    "duration": 175,
    "start_time": "2023-01-18T22:21:59.906Z"
   },
   {
    "duration": 110,
    "start_time": "2023-01-18T22:22:00.083Z"
   },
   {
    "duration": 195,
    "start_time": "2023-01-18T22:22:00.195Z"
   },
   {
    "duration": 95,
    "start_time": "2023-01-18T22:22:00.393Z"
   },
   {
    "duration": 119,
    "start_time": "2023-01-18T22:22:00.490Z"
   },
   {
    "duration": 32,
    "start_time": "2023-01-18T22:22:00.611Z"
   },
   {
    "duration": 2876,
    "start_time": "2023-01-18T22:22:00.645Z"
   },
   {
    "duration": 34,
    "start_time": "2023-01-18T22:22:03.526Z"
   },
   {
    "duration": 24,
    "start_time": "2023-01-18T22:22:03.561Z"
   },
   {
    "duration": 4,
    "start_time": "2023-01-18T22:24:26.522Z"
   },
   {
    "duration": 764,
    "start_time": "2023-01-18T22:24:26.528Z"
   },
   {
    "duration": 105,
    "start_time": "2023-01-18T22:24:27.294Z"
   },
   {
    "duration": 13,
    "start_time": "2023-01-18T22:24:27.401Z"
   },
   {
    "duration": 49,
    "start_time": "2023-01-18T22:24:27.428Z"
   },
   {
    "duration": 2,
    "start_time": "2023-01-18T22:24:27.479Z"
   },
   {
    "duration": 119,
    "start_time": "2023-01-18T22:24:27.483Z"
   },
   {
    "duration": 385,
    "start_time": "2023-01-18T22:24:27.603Z"
   },
   {
    "duration": 37,
    "start_time": "2023-01-18T22:24:27.990Z"
   },
   {
    "duration": 86,
    "start_time": "2023-01-18T22:24:28.029Z"
   },
   {
    "duration": 77,
    "start_time": "2023-01-18T22:24:28.126Z"
   },
   {
    "duration": 122,
    "start_time": "2023-01-18T22:24:28.205Z"
   },
   {
    "duration": 72,
    "start_time": "2023-01-18T22:24:28.329Z"
   },
   {
    "duration": 99,
    "start_time": "2023-01-18T22:24:28.403Z"
   },
   {
    "duration": 179,
    "start_time": "2023-01-18T22:24:28.504Z"
   },
   {
    "duration": 111,
    "start_time": "2023-01-18T22:24:28.685Z"
   },
   {
    "duration": 157,
    "start_time": "2023-01-18T22:24:28.798Z"
   },
   {
    "duration": 72,
    "start_time": "2023-01-18T22:24:28.956Z"
   },
   {
    "duration": 105,
    "start_time": "2023-01-18T22:24:29.030Z"
   },
   {
    "duration": 20,
    "start_time": "2023-01-18T22:24:29.137Z"
   },
   {
    "duration": 2872,
    "start_time": "2023-01-18T22:24:29.159Z"
   },
   {
    "duration": 33,
    "start_time": "2023-01-18T22:24:32.033Z"
   },
   {
    "duration": 0,
    "start_time": "2023-01-18T22:24:32.067Z"
   },
   {
    "duration": 4,
    "start_time": "2023-01-18T22:25:02.306Z"
   },
   {
    "duration": 724,
    "start_time": "2023-01-18T22:25:02.311Z"
   },
   {
    "duration": 108,
    "start_time": "2023-01-18T22:25:03.037Z"
   },
   {
    "duration": 24,
    "start_time": "2023-01-18T22:25:03.147Z"
   },
   {
    "duration": 68,
    "start_time": "2023-01-18T22:25:03.173Z"
   },
   {
    "duration": 3,
    "start_time": "2023-01-18T22:25:03.243Z"
   },
   {
    "duration": 103,
    "start_time": "2023-01-18T22:25:03.248Z"
   },
   {
    "duration": 417,
    "start_time": "2023-01-18T22:25:03.353Z"
   },
   {
    "duration": 25,
    "start_time": "2023-01-18T22:25:03.772Z"
   },
   {
    "duration": 94,
    "start_time": "2023-01-18T22:25:03.799Z"
   },
   {
    "duration": 93,
    "start_time": "2023-01-18T22:25:03.895Z"
   },
   {
    "duration": 123,
    "start_time": "2023-01-18T22:25:03.990Z"
   },
   {
    "duration": 75,
    "start_time": "2023-01-18T22:25:04.115Z"
   },
   {
    "duration": 116,
    "start_time": "2023-01-18T22:25:04.192Z"
   },
   {
    "duration": 175,
    "start_time": "2023-01-18T22:25:04.310Z"
   },
   {
    "duration": 123,
    "start_time": "2023-01-18T22:25:04.486Z"
   },
   {
    "duration": 162,
    "start_time": "2023-01-18T22:25:04.611Z"
   },
   {
    "duration": 74,
    "start_time": "2023-01-18T22:25:04.774Z"
   },
   {
    "duration": 114,
    "start_time": "2023-01-18T22:25:04.849Z"
   },
   {
    "duration": 17,
    "start_time": "2023-01-18T22:25:04.964Z"
   },
   {
    "duration": 3279,
    "start_time": "2023-01-18T22:25:04.983Z"
   },
   {
    "duration": 38,
    "start_time": "2023-01-18T22:25:08.264Z"
   },
   {
    "duration": 40,
    "start_time": "2023-01-18T22:25:08.304Z"
   },
   {
    "duration": 4,
    "start_time": "2023-01-18T22:26:29.548Z"
   },
   {
    "duration": 748,
    "start_time": "2023-01-18T22:26:29.553Z"
   },
   {
    "duration": 143,
    "start_time": "2023-01-18T22:26:30.304Z"
   },
   {
    "duration": 51,
    "start_time": "2023-01-18T22:26:30.450Z"
   },
   {
    "duration": 87,
    "start_time": "2023-01-18T22:26:30.503Z"
   },
   {
    "duration": 3,
    "start_time": "2023-01-18T22:26:30.591Z"
   },
   {
    "duration": 165,
    "start_time": "2023-01-18T22:26:30.596Z"
   },
   {
    "duration": 444,
    "start_time": "2023-01-18T22:26:30.763Z"
   },
   {
    "duration": 31,
    "start_time": "2023-01-18T22:26:31.209Z"
   },
   {
    "duration": 94,
    "start_time": "2023-01-18T22:26:31.242Z"
   },
   {
    "duration": 87,
    "start_time": "2023-01-18T22:26:31.340Z"
   },
   {
    "duration": 115,
    "start_time": "2023-01-18T22:26:31.429Z"
   },
   {
    "duration": 70,
    "start_time": "2023-01-18T22:26:31.546Z"
   },
   {
    "duration": 96,
    "start_time": "2023-01-18T22:26:31.617Z"
   },
   {
    "duration": 173,
    "start_time": "2023-01-18T22:26:31.714Z"
   },
   {
    "duration": 114,
    "start_time": "2023-01-18T22:26:31.888Z"
   },
   {
    "duration": 154,
    "start_time": "2023-01-18T22:26:32.004Z"
   },
   {
    "duration": 86,
    "start_time": "2023-01-18T22:26:32.160Z"
   },
   {
    "duration": 111,
    "start_time": "2023-01-18T22:26:32.247Z"
   },
   {
    "duration": 18,
    "start_time": "2023-01-18T22:26:32.359Z"
   },
   {
    "duration": 2846,
    "start_time": "2023-01-18T22:26:32.378Z"
   },
   {
    "duration": 26,
    "start_time": "2023-01-18T22:26:35.227Z"
   },
   {
    "duration": 24,
    "start_time": "2023-01-18T22:26:35.255Z"
   },
   {
    "duration": 3,
    "start_time": "2023-01-18T22:28:24.996Z"
   },
   {
    "duration": 720,
    "start_time": "2023-01-18T22:28:25.001Z"
   },
   {
    "duration": 110,
    "start_time": "2023-01-18T22:28:25.723Z"
   },
   {
    "duration": 13,
    "start_time": "2023-01-18T22:28:25.836Z"
   },
   {
    "duration": 25,
    "start_time": "2023-01-18T22:28:25.851Z"
   },
   {
    "duration": 4,
    "start_time": "2023-01-18T22:28:25.877Z"
   },
   {
    "duration": 126,
    "start_time": "2023-01-18T22:28:25.883Z"
   },
   {
    "duration": 419,
    "start_time": "2023-01-18T22:28:26.011Z"
   },
   {
    "duration": 25,
    "start_time": "2023-01-18T22:28:26.432Z"
   },
   {
    "duration": 88,
    "start_time": "2023-01-18T22:28:26.459Z"
   },
   {
    "duration": 89,
    "start_time": "2023-01-18T22:28:26.549Z"
   },
   {
    "duration": 127,
    "start_time": "2023-01-18T22:28:26.640Z"
   },
   {
    "duration": 76,
    "start_time": "2023-01-18T22:28:26.769Z"
   },
   {
    "duration": 104,
    "start_time": "2023-01-18T22:28:26.847Z"
   },
   {
    "duration": 169,
    "start_time": "2023-01-18T22:28:26.953Z"
   },
   {
    "duration": 116,
    "start_time": "2023-01-18T22:28:27.124Z"
   },
   {
    "duration": 156,
    "start_time": "2023-01-18T22:28:27.241Z"
   },
   {
    "duration": 83,
    "start_time": "2023-01-18T22:28:27.399Z"
   },
   {
    "duration": 113,
    "start_time": "2023-01-18T22:28:27.484Z"
   },
   {
    "duration": 18,
    "start_time": "2023-01-18T22:28:27.599Z"
   },
   {
    "duration": 2947,
    "start_time": "2023-01-18T22:28:27.618Z"
   },
   {
    "duration": 25,
    "start_time": "2023-01-18T22:28:30.566Z"
   },
   {
    "duration": 34,
    "start_time": "2023-01-18T22:28:30.593Z"
   },
   {
    "duration": 4,
    "start_time": "2023-01-18T22:28:52.540Z"
   },
   {
    "duration": 703,
    "start_time": "2023-01-18T22:28:52.546Z"
   },
   {
    "duration": 101,
    "start_time": "2023-01-18T22:28:53.251Z"
   },
   {
    "duration": 18,
    "start_time": "2023-01-18T22:28:53.354Z"
   },
   {
    "duration": 40,
    "start_time": "2023-01-18T22:28:53.374Z"
   },
   {
    "duration": 3,
    "start_time": "2023-01-18T22:28:53.416Z"
   },
   {
    "duration": 102,
    "start_time": "2023-01-18T22:28:53.420Z"
   },
   {
    "duration": 378,
    "start_time": "2023-01-18T22:28:53.524Z"
   },
   {
    "duration": 33,
    "start_time": "2023-01-18T22:28:53.905Z"
   },
   {
    "duration": 88,
    "start_time": "2023-01-18T22:28:53.940Z"
   },
   {
    "duration": 75,
    "start_time": "2023-01-18T22:28:54.030Z"
   },
   {
    "duration": 127,
    "start_time": "2023-01-18T22:28:54.106Z"
   },
   {
    "duration": 72,
    "start_time": "2023-01-18T22:28:54.235Z"
   },
   {
    "duration": 97,
    "start_time": "2023-01-18T22:28:54.308Z"
   },
   {
    "duration": 304,
    "start_time": "2023-01-18T22:28:54.407Z"
   },
   {
    "duration": 114,
    "start_time": "2023-01-18T22:28:54.713Z"
   },
   {
    "duration": 157,
    "start_time": "2023-01-18T22:28:54.828Z"
   },
   {
    "duration": 81,
    "start_time": "2023-01-18T22:28:54.987Z"
   },
   {
    "duration": 104,
    "start_time": "2023-01-18T22:28:55.069Z"
   },
   {
    "duration": 19,
    "start_time": "2023-01-18T22:28:55.175Z"
   },
   {
    "duration": 2816,
    "start_time": "2023-01-18T22:28:55.195Z"
   },
   {
    "duration": 40,
    "start_time": "2023-01-18T22:28:58.012Z"
   },
   {
    "duration": 23,
    "start_time": "2023-01-18T22:28:58.054Z"
   },
   {
    "duration": 3,
    "start_time": "2023-01-18T22:29:57.923Z"
   },
   {
    "duration": 723,
    "start_time": "2023-01-18T22:29:57.928Z"
   },
   {
    "duration": 115,
    "start_time": "2023-01-18T22:29:58.653Z"
   },
   {
    "duration": 13,
    "start_time": "2023-01-18T22:29:58.770Z"
   },
   {
    "duration": 30,
    "start_time": "2023-01-18T22:29:58.784Z"
   },
   {
    "duration": 11,
    "start_time": "2023-01-18T22:29:58.816Z"
   },
   {
    "duration": 106,
    "start_time": "2023-01-18T22:29:58.828Z"
   },
   {
    "duration": 384,
    "start_time": "2023-01-18T22:29:58.935Z"
   },
   {
    "duration": 26,
    "start_time": "2023-01-18T22:29:59.322Z"
   },
   {
    "duration": 93,
    "start_time": "2023-01-18T22:29:59.350Z"
   },
   {
    "duration": 90,
    "start_time": "2023-01-18T22:29:59.445Z"
   },
   {
    "duration": 118,
    "start_time": "2023-01-18T22:29:59.537Z"
   },
   {
    "duration": 75,
    "start_time": "2023-01-18T22:29:59.657Z"
   },
   {
    "duration": 95,
    "start_time": "2023-01-18T22:29:59.734Z"
   },
   {
    "duration": 171,
    "start_time": "2023-01-18T22:29:59.831Z"
   },
   {
    "duration": 115,
    "start_time": "2023-01-18T22:30:00.004Z"
   },
   {
    "duration": 159,
    "start_time": "2023-01-18T22:30:00.121Z"
   },
   {
    "duration": 97,
    "start_time": "2023-01-18T22:30:00.282Z"
   },
   {
    "duration": 122,
    "start_time": "2023-01-18T22:30:00.382Z"
   },
   {
    "duration": 27,
    "start_time": "2023-01-18T22:30:00.506Z"
   },
   {
    "duration": 2933,
    "start_time": "2023-01-18T22:30:00.534Z"
   },
   {
    "duration": 34,
    "start_time": "2023-01-18T22:30:03.468Z"
   },
   {
    "duration": 43,
    "start_time": "2023-01-18T22:30:03.504Z"
   },
   {
    "duration": 3,
    "start_time": "2023-01-18T22:32:37.927Z"
   },
   {
    "duration": 731,
    "start_time": "2023-01-18T22:32:37.932Z"
   },
   {
    "duration": 107,
    "start_time": "2023-01-18T22:32:38.665Z"
   },
   {
    "duration": 12,
    "start_time": "2023-01-18T22:32:38.774Z"
   },
   {
    "duration": 73,
    "start_time": "2023-01-18T22:32:38.788Z"
   },
   {
    "duration": 3,
    "start_time": "2023-01-18T22:32:38.863Z"
   },
   {
    "duration": 110,
    "start_time": "2023-01-18T22:32:38.868Z"
   },
   {
    "duration": 387,
    "start_time": "2023-01-18T22:32:38.981Z"
   },
   {
    "duration": 26,
    "start_time": "2023-01-18T22:32:39.370Z"
   },
   {
    "duration": 97,
    "start_time": "2023-01-18T22:32:39.397Z"
   },
   {
    "duration": 88,
    "start_time": "2023-01-18T22:32:39.496Z"
   },
   {
    "duration": 121,
    "start_time": "2023-01-18T22:32:39.585Z"
   },
   {
    "duration": 73,
    "start_time": "2023-01-18T22:32:39.708Z"
   },
   {
    "duration": 100,
    "start_time": "2023-01-18T22:32:39.783Z"
   },
   {
    "duration": 165,
    "start_time": "2023-01-18T22:32:39.885Z"
   },
   {
    "duration": 121,
    "start_time": "2023-01-18T22:32:40.052Z"
   },
   {
    "duration": 184,
    "start_time": "2023-01-18T22:32:40.175Z"
   },
   {
    "duration": 76,
    "start_time": "2023-01-18T22:32:40.362Z"
   },
   {
    "duration": 104,
    "start_time": "2023-01-18T22:32:40.441Z"
   },
   {
    "duration": 18,
    "start_time": "2023-01-18T22:32:40.546Z"
   },
   {
    "duration": 2903,
    "start_time": "2023-01-18T22:32:40.565Z"
   },
   {
    "duration": 38,
    "start_time": "2023-01-18T22:32:43.470Z"
   },
   {
    "duration": 35,
    "start_time": "2023-01-18T22:32:43.510Z"
   },
   {
    "duration": 4,
    "start_time": "2023-01-18T22:35:24.895Z"
   },
   {
    "duration": 731,
    "start_time": "2023-01-18T22:35:24.901Z"
   },
   {
    "duration": 111,
    "start_time": "2023-01-18T22:35:25.634Z"
   },
   {
    "duration": 14,
    "start_time": "2023-01-18T22:35:25.747Z"
   },
   {
    "duration": 67,
    "start_time": "2023-01-18T22:35:25.763Z"
   },
   {
    "duration": 4,
    "start_time": "2023-01-18T22:35:25.831Z"
   },
   {
    "duration": 109,
    "start_time": "2023-01-18T22:35:25.837Z"
   },
   {
    "duration": 405,
    "start_time": "2023-01-18T22:35:25.948Z"
   },
   {
    "duration": 26,
    "start_time": "2023-01-18T22:35:26.355Z"
   },
   {
    "duration": 108,
    "start_time": "2023-01-18T22:35:26.382Z"
   },
   {
    "duration": 85,
    "start_time": "2023-01-18T22:35:26.491Z"
   },
   {
    "duration": 120,
    "start_time": "2023-01-18T22:35:26.578Z"
   },
   {
    "duration": 79,
    "start_time": "2023-01-18T22:35:26.700Z"
   },
   {
    "duration": 94,
    "start_time": "2023-01-18T22:35:26.781Z"
   },
   {
    "duration": 175,
    "start_time": "2023-01-18T22:35:26.876Z"
   },
   {
    "duration": 113,
    "start_time": "2023-01-18T22:35:27.053Z"
   },
   {
    "duration": 147,
    "start_time": "2023-01-18T22:35:27.168Z"
   },
   {
    "duration": 73,
    "start_time": "2023-01-18T22:35:27.317Z"
   },
   {
    "duration": 115,
    "start_time": "2023-01-18T22:35:27.392Z"
   },
   {
    "duration": 21,
    "start_time": "2023-01-18T22:35:27.509Z"
   },
   {
    "duration": 2997,
    "start_time": "2023-01-18T22:35:27.532Z"
   },
   {
    "duration": 39,
    "start_time": "2023-01-18T22:35:30.531Z"
   },
   {
    "duration": 24,
    "start_time": "2023-01-18T22:35:30.572Z"
   },
   {
    "duration": 4,
    "start_time": "2023-01-18T22:36:25.208Z"
   },
   {
    "duration": 735,
    "start_time": "2023-01-18T22:36:25.214Z"
   },
   {
    "duration": 112,
    "start_time": "2023-01-18T22:36:25.951Z"
   },
   {
    "duration": 14,
    "start_time": "2023-01-18T22:36:26.065Z"
   },
   {
    "duration": 68,
    "start_time": "2023-01-18T22:36:26.080Z"
   },
   {
    "duration": 3,
    "start_time": "2023-01-18T22:36:26.150Z"
   },
   {
    "duration": 118,
    "start_time": "2023-01-18T22:36:26.154Z"
   },
   {
    "duration": 423,
    "start_time": "2023-01-18T22:36:26.274Z"
   },
   {
    "duration": 33,
    "start_time": "2023-01-18T22:36:26.700Z"
   },
   {
    "duration": 80,
    "start_time": "2023-01-18T22:36:26.735Z"
   },
   {
    "duration": 88,
    "start_time": "2023-01-18T22:36:26.816Z"
   },
   {
    "duration": 134,
    "start_time": "2023-01-18T22:36:26.907Z"
   },
   {
    "duration": 67,
    "start_time": "2023-01-18T22:36:27.043Z"
   },
   {
    "duration": 101,
    "start_time": "2023-01-18T22:36:27.111Z"
   },
   {
    "duration": 173,
    "start_time": "2023-01-18T22:36:27.214Z"
   },
   {
    "duration": 115,
    "start_time": "2023-01-18T22:36:27.388Z"
   },
   {
    "duration": 156,
    "start_time": "2023-01-18T22:36:27.504Z"
   },
   {
    "duration": 75,
    "start_time": "2023-01-18T22:36:27.661Z"
   },
   {
    "duration": 104,
    "start_time": "2023-01-18T22:36:27.737Z"
   },
   {
    "duration": 18,
    "start_time": "2023-01-18T22:36:27.843Z"
   },
   {
    "duration": 3092,
    "start_time": "2023-01-18T22:36:27.862Z"
   },
   {
    "duration": 40,
    "start_time": "2023-01-18T22:36:30.956Z"
   },
   {
    "duration": 39,
    "start_time": "2023-01-18T22:36:30.998Z"
   },
   {
    "duration": 4,
    "start_time": "2023-01-18T22:38:31.736Z"
   },
   {
    "duration": 722,
    "start_time": "2023-01-18T22:38:31.742Z"
   },
   {
    "duration": 106,
    "start_time": "2023-01-18T22:38:32.466Z"
   },
   {
    "duration": 30,
    "start_time": "2023-01-18T22:38:32.573Z"
   },
   {
    "duration": 86,
    "start_time": "2023-01-18T22:38:32.605Z"
   },
   {
    "duration": 2,
    "start_time": "2023-01-18T22:38:32.693Z"
   },
   {
    "duration": 145,
    "start_time": "2023-01-18T22:38:32.697Z"
   },
   {
    "duration": 389,
    "start_time": "2023-01-18T22:38:32.843Z"
   },
   {
    "duration": 25,
    "start_time": "2023-01-18T22:38:33.234Z"
   },
   {
    "duration": 95,
    "start_time": "2023-01-18T22:38:33.261Z"
   },
   {
    "duration": 78,
    "start_time": "2023-01-18T22:38:33.358Z"
   },
   {
    "duration": 115,
    "start_time": "2023-01-18T22:38:33.438Z"
   },
   {
    "duration": 74,
    "start_time": "2023-01-18T22:38:33.555Z"
   },
   {
    "duration": 96,
    "start_time": "2023-01-18T22:38:33.631Z"
   },
   {
    "duration": 174,
    "start_time": "2023-01-18T22:38:33.729Z"
   },
   {
    "duration": 112,
    "start_time": "2023-01-18T22:38:33.904Z"
   },
   {
    "duration": 161,
    "start_time": "2023-01-18T22:38:34.018Z"
   },
   {
    "duration": 72,
    "start_time": "2023-01-18T22:38:34.180Z"
   },
   {
    "duration": 105,
    "start_time": "2023-01-18T22:38:34.254Z"
   },
   {
    "duration": 17,
    "start_time": "2023-01-18T22:38:34.360Z"
   },
   {
    "duration": 2894,
    "start_time": "2023-01-18T22:38:34.378Z"
   },
   {
    "duration": 39,
    "start_time": "2023-01-18T22:38:37.274Z"
   },
   {
    "duration": 32,
    "start_time": "2023-01-18T22:38:37.315Z"
   },
   {
    "duration": 4,
    "start_time": "2023-01-18T22:39:49.104Z"
   },
   {
    "duration": 754,
    "start_time": "2023-01-18T22:39:49.110Z"
   },
   {
    "duration": 109,
    "start_time": "2023-01-18T22:39:49.866Z"
   },
   {
    "duration": 68,
    "start_time": "2023-01-18T22:39:49.977Z"
   },
   {
    "duration": 77,
    "start_time": "2023-01-18T22:39:50.047Z"
   },
   {
    "duration": 3,
    "start_time": "2023-01-18T22:39:50.126Z"
   },
   {
    "duration": 124,
    "start_time": "2023-01-18T22:39:50.131Z"
   },
   {
    "duration": 436,
    "start_time": "2023-01-18T22:39:50.257Z"
   },
   {
    "duration": 35,
    "start_time": "2023-01-18T22:39:50.695Z"
   },
   {
    "duration": 86,
    "start_time": "2023-01-18T22:39:50.732Z"
   },
   {
    "duration": 77,
    "start_time": "2023-01-18T22:39:50.827Z"
   },
   {
    "duration": 126,
    "start_time": "2023-01-18T22:39:50.906Z"
   },
   {
    "duration": 71,
    "start_time": "2023-01-18T22:39:51.033Z"
   },
   {
    "duration": 102,
    "start_time": "2023-01-18T22:39:51.106Z"
   },
   {
    "duration": 173,
    "start_time": "2023-01-18T22:39:51.210Z"
   },
   {
    "duration": 112,
    "start_time": "2023-01-18T22:39:51.384Z"
   },
   {
    "duration": 152,
    "start_time": "2023-01-18T22:39:51.498Z"
   },
   {
    "duration": 78,
    "start_time": "2023-01-18T22:39:51.651Z"
   },
   {
    "duration": 105,
    "start_time": "2023-01-18T22:39:51.731Z"
   },
   {
    "duration": 18,
    "start_time": "2023-01-18T22:39:51.838Z"
   },
   {
    "duration": 3037,
    "start_time": "2023-01-18T22:39:51.858Z"
   },
   {
    "duration": 34,
    "start_time": "2023-01-18T22:39:54.897Z"
   },
   {
    "duration": 16,
    "start_time": "2023-01-18T22:39:54.933Z"
   },
   {
    "duration": 4,
    "start_time": "2023-01-18T22:40:32.242Z"
   },
   {
    "duration": 723,
    "start_time": "2023-01-18T22:40:32.248Z"
   },
   {
    "duration": 103,
    "start_time": "2023-01-18T22:40:32.973Z"
   },
   {
    "duration": 13,
    "start_time": "2023-01-18T22:40:33.078Z"
   },
   {
    "duration": 71,
    "start_time": "2023-01-18T22:40:33.093Z"
   },
   {
    "duration": 3,
    "start_time": "2023-01-18T22:40:33.166Z"
   },
   {
    "duration": 114,
    "start_time": "2023-01-18T22:40:33.171Z"
   },
   {
    "duration": 405,
    "start_time": "2023-01-18T22:40:33.286Z"
   },
   {
    "duration": 35,
    "start_time": "2023-01-18T22:40:33.693Z"
   },
   {
    "duration": 96,
    "start_time": "2023-01-18T22:40:33.731Z"
   },
   {
    "duration": 78,
    "start_time": "2023-01-18T22:40:33.829Z"
   },
   {
    "duration": 125,
    "start_time": "2023-01-18T22:40:33.908Z"
   },
   {
    "duration": 68,
    "start_time": "2023-01-18T22:40:34.035Z"
   },
   {
    "duration": 105,
    "start_time": "2023-01-18T22:40:34.105Z"
   },
   {
    "duration": 182,
    "start_time": "2023-01-18T22:40:34.212Z"
   },
   {
    "duration": 109,
    "start_time": "2023-01-18T22:40:34.396Z"
   },
   {
    "duration": 159,
    "start_time": "2023-01-18T22:40:34.507Z"
   },
   {
    "duration": 70,
    "start_time": "2023-01-18T22:40:34.668Z"
   },
   {
    "duration": 109,
    "start_time": "2023-01-18T22:40:34.740Z"
   },
   {
    "duration": 19,
    "start_time": "2023-01-18T22:40:34.850Z"
   },
   {
    "duration": 2841,
    "start_time": "2023-01-18T22:40:34.870Z"
   },
   {
    "duration": 47,
    "start_time": "2023-01-18T22:40:37.712Z"
   },
   {
    "duration": 22,
    "start_time": "2023-01-18T22:40:37.761Z"
   },
   {
    "duration": 4,
    "start_time": "2023-01-18T22:42:18.610Z"
   },
   {
    "duration": 757,
    "start_time": "2023-01-18T22:42:18.616Z"
   },
   {
    "duration": 105,
    "start_time": "2023-01-18T22:42:19.375Z"
   },
   {
    "duration": 13,
    "start_time": "2023-01-18T22:42:19.482Z"
   },
   {
    "duration": 72,
    "start_time": "2023-01-18T22:42:19.496Z"
   },
   {
    "duration": 3,
    "start_time": "2023-01-18T22:42:19.570Z"
   },
   {
    "duration": 105,
    "start_time": "2023-01-18T22:42:19.575Z"
   },
   {
    "duration": 421,
    "start_time": "2023-01-18T22:42:19.682Z"
   },
   {
    "duration": 36,
    "start_time": "2023-01-18T22:42:20.107Z"
   },
   {
    "duration": 99,
    "start_time": "2023-01-18T22:42:20.145Z"
   },
   {
    "duration": 104,
    "start_time": "2023-01-18T22:42:20.246Z"
   },
   {
    "duration": 144,
    "start_time": "2023-01-18T22:42:20.353Z"
   },
   {
    "duration": 84,
    "start_time": "2023-01-18T22:42:20.499Z"
   },
   {
    "duration": 108,
    "start_time": "2023-01-18T22:42:20.585Z"
   },
   {
    "duration": 178,
    "start_time": "2023-01-18T22:42:20.695Z"
   },
   {
    "duration": 117,
    "start_time": "2023-01-18T22:42:20.875Z"
   },
   {
    "duration": 161,
    "start_time": "2023-01-18T22:42:20.993Z"
   },
   {
    "duration": 78,
    "start_time": "2023-01-18T22:42:21.156Z"
   },
   {
    "duration": 115,
    "start_time": "2023-01-18T22:42:21.236Z"
   },
   {
    "duration": 19,
    "start_time": "2023-01-18T22:42:21.353Z"
   },
   {
    "duration": 3301,
    "start_time": "2023-01-18T22:42:21.374Z"
   },
   {
    "duration": 40,
    "start_time": "2023-01-18T22:42:24.677Z"
   },
   {
    "duration": 24,
    "start_time": "2023-01-18T22:42:24.727Z"
   },
   {
    "duration": 3,
    "start_time": "2023-01-18T22:43:13.916Z"
   },
   {
    "duration": 723,
    "start_time": "2023-01-18T22:43:13.921Z"
   },
   {
    "duration": 113,
    "start_time": "2023-01-18T22:43:14.646Z"
   },
   {
    "duration": 13,
    "start_time": "2023-01-18T22:43:14.760Z"
   },
   {
    "duration": 69,
    "start_time": "2023-01-18T22:43:14.775Z"
   },
   {
    "duration": 4,
    "start_time": "2023-01-18T22:43:14.845Z"
   },
   {
    "duration": 124,
    "start_time": "2023-01-18T22:43:14.851Z"
   },
   {
    "duration": 387,
    "start_time": "2023-01-18T22:43:14.977Z"
   },
   {
    "duration": 25,
    "start_time": "2023-01-18T22:43:15.366Z"
   },
   {
    "duration": 94,
    "start_time": "2023-01-18T22:43:15.393Z"
   },
   {
    "duration": 88,
    "start_time": "2023-01-18T22:43:15.490Z"
   },
   {
    "duration": 120,
    "start_time": "2023-01-18T22:43:15.580Z"
   },
   {
    "duration": 79,
    "start_time": "2023-01-18T22:43:15.701Z"
   },
   {
    "duration": 97,
    "start_time": "2023-01-18T22:43:15.782Z"
   },
   {
    "duration": 170,
    "start_time": "2023-01-18T22:43:15.880Z"
   },
   {
    "duration": 121,
    "start_time": "2023-01-18T22:43:16.052Z"
   },
   {
    "duration": 167,
    "start_time": "2023-01-18T22:43:16.174Z"
   },
   {
    "duration": 71,
    "start_time": "2023-01-18T22:43:16.342Z"
   },
   {
    "duration": 117,
    "start_time": "2023-01-18T22:43:16.415Z"
   },
   {
    "duration": 18,
    "start_time": "2023-01-18T22:43:16.534Z"
   },
   {
    "duration": 2891,
    "start_time": "2023-01-18T22:43:16.554Z"
   },
   {
    "duration": 39,
    "start_time": "2023-01-18T22:43:19.447Z"
   },
   {
    "duration": 38,
    "start_time": "2023-01-18T22:43:19.489Z"
   },
   {
    "duration": 3,
    "start_time": "2023-01-18T22:44:51.045Z"
   },
   {
    "duration": 783,
    "start_time": "2023-01-18T22:44:51.051Z"
   },
   {
    "duration": 110,
    "start_time": "2023-01-18T22:44:51.836Z"
   },
   {
    "duration": 14,
    "start_time": "2023-01-18T22:44:51.947Z"
   },
   {
    "duration": 68,
    "start_time": "2023-01-18T22:44:51.963Z"
   },
   {
    "duration": 3,
    "start_time": "2023-01-18T22:44:52.033Z"
   },
   {
    "duration": 110,
    "start_time": "2023-01-18T22:44:52.038Z"
   },
   {
    "duration": 413,
    "start_time": "2023-01-18T22:44:52.150Z"
   },
   {
    "duration": 28,
    "start_time": "2023-01-18T22:44:52.565Z"
   },
   {
    "duration": 113,
    "start_time": "2023-01-18T22:44:52.595Z"
   },
   {
    "duration": 105,
    "start_time": "2023-01-18T22:44:52.711Z"
   },
   {
    "duration": 117,
    "start_time": "2023-01-18T22:44:52.818Z"
   },
   {
    "duration": 71,
    "start_time": "2023-01-18T22:44:52.937Z"
   },
   {
    "duration": 97,
    "start_time": "2023-01-18T22:44:53.010Z"
   },
   {
    "duration": 179,
    "start_time": "2023-01-18T22:44:53.109Z"
   },
   {
    "duration": 114,
    "start_time": "2023-01-18T22:44:53.290Z"
   },
   {
    "duration": 157,
    "start_time": "2023-01-18T22:44:53.405Z"
   },
   {
    "duration": 77,
    "start_time": "2023-01-18T22:44:53.564Z"
   },
   {
    "duration": 108,
    "start_time": "2023-01-18T22:44:53.642Z"
   },
   {
    "duration": 19,
    "start_time": "2023-01-18T22:44:53.751Z"
   },
   {
    "duration": 3024,
    "start_time": "2023-01-18T22:44:53.772Z"
   },
   {
    "duration": 58,
    "start_time": "2023-01-18T22:44:56.798Z"
   },
   {
    "duration": 24,
    "start_time": "2023-01-18T22:44:56.860Z"
   },
   {
    "duration": 4,
    "start_time": "2023-01-18T22:46:22.619Z"
   },
   {
    "duration": 737,
    "start_time": "2023-01-18T22:46:22.625Z"
   },
   {
    "duration": 98,
    "start_time": "2023-01-18T22:46:23.364Z"
   },
   {
    "duration": 13,
    "start_time": "2023-01-18T22:46:23.464Z"
   },
   {
    "duration": 68,
    "start_time": "2023-01-18T22:46:23.478Z"
   },
   {
    "duration": 3,
    "start_time": "2023-01-18T22:46:23.548Z"
   },
   {
    "duration": 103,
    "start_time": "2023-01-18T22:46:23.552Z"
   },
   {
    "duration": 401,
    "start_time": "2023-01-18T22:46:23.657Z"
   },
   {
    "duration": 26,
    "start_time": "2023-01-18T22:46:24.061Z"
   },
   {
    "duration": 98,
    "start_time": "2023-01-18T22:46:24.090Z"
   },
   {
    "duration": 93,
    "start_time": "2023-01-18T22:46:24.189Z"
   },
   {
    "duration": 121,
    "start_time": "2023-01-18T22:46:24.284Z"
   },
   {
    "duration": 78,
    "start_time": "2023-01-18T22:46:24.407Z"
   },
   {
    "duration": 101,
    "start_time": "2023-01-18T22:46:24.486Z"
   },
   {
    "duration": 182,
    "start_time": "2023-01-18T22:46:24.589Z"
   },
   {
    "duration": 116,
    "start_time": "2023-01-18T22:46:24.773Z"
   },
   {
    "duration": 158,
    "start_time": "2023-01-18T22:46:24.890Z"
   },
   {
    "duration": 66,
    "start_time": "2023-01-18T22:46:25.050Z"
   },
   {
    "duration": 249,
    "start_time": "2023-01-18T22:46:25.127Z"
   },
   {
    "duration": 19,
    "start_time": "2023-01-18T22:46:25.378Z"
   },
   {
    "duration": 2892,
    "start_time": "2023-01-18T22:46:25.399Z"
   },
   {
    "duration": 51,
    "start_time": "2023-01-18T22:46:28.293Z"
   },
   {
    "duration": 24,
    "start_time": "2023-01-18T22:46:28.346Z"
   },
   {
    "duration": 4,
    "start_time": "2023-01-18T22:47:26.454Z"
   },
   {
    "duration": 753,
    "start_time": "2023-01-18T22:47:26.460Z"
   },
   {
    "duration": 119,
    "start_time": "2023-01-18T22:47:27.215Z"
   },
   {
    "duration": 12,
    "start_time": "2023-01-18T22:47:27.337Z"
   },
   {
    "duration": 54,
    "start_time": "2023-01-18T22:47:27.351Z"
   },
   {
    "duration": 20,
    "start_time": "2023-01-18T22:47:27.407Z"
   },
   {
    "duration": 105,
    "start_time": "2023-01-18T22:47:27.429Z"
   },
   {
    "duration": 388,
    "start_time": "2023-01-18T22:47:27.535Z"
   },
   {
    "duration": 26,
    "start_time": "2023-01-18T22:47:27.925Z"
   },
   {
    "duration": 96,
    "start_time": "2023-01-18T22:47:27.954Z"
   },
   {
    "duration": 89,
    "start_time": "2023-01-18T22:47:28.051Z"
   },
   {
    "duration": 113,
    "start_time": "2023-01-18T22:47:28.142Z"
   },
   {
    "duration": 76,
    "start_time": "2023-01-18T22:47:28.257Z"
   },
   {
    "duration": 94,
    "start_time": "2023-01-18T22:47:28.335Z"
   },
   {
    "duration": 166,
    "start_time": "2023-01-18T22:47:28.431Z"
   },
   {
    "duration": 122,
    "start_time": "2023-01-18T22:47:28.599Z"
   },
   {
    "duration": 147,
    "start_time": "2023-01-18T22:47:28.723Z"
   },
   {
    "duration": 75,
    "start_time": "2023-01-18T22:47:28.872Z"
   },
   {
    "duration": 105,
    "start_time": "2023-01-18T22:47:28.949Z"
   },
   {
    "duration": 17,
    "start_time": "2023-01-18T22:47:29.056Z"
   },
   {
    "duration": 3069,
    "start_time": "2023-01-18T22:47:29.075Z"
   },
   {
    "duration": 41,
    "start_time": "2023-01-18T22:47:32.145Z"
   },
   {
    "duration": 23,
    "start_time": "2023-01-18T22:47:32.188Z"
   },
   {
    "duration": 3,
    "start_time": "2023-01-18T22:48:37.734Z"
   },
   {
    "duration": 723,
    "start_time": "2023-01-18T22:48:37.740Z"
   },
   {
    "duration": 107,
    "start_time": "2023-01-18T22:48:38.465Z"
   },
   {
    "duration": 13,
    "start_time": "2023-01-18T22:48:38.574Z"
   },
   {
    "duration": 66,
    "start_time": "2023-01-18T22:48:38.588Z"
   },
   {
    "duration": 3,
    "start_time": "2023-01-18T22:48:38.655Z"
   },
   {
    "duration": 108,
    "start_time": "2023-01-18T22:48:38.659Z"
   },
   {
    "duration": 393,
    "start_time": "2023-01-18T22:48:38.768Z"
   },
   {
    "duration": 28,
    "start_time": "2023-01-18T22:48:39.163Z"
   },
   {
    "duration": 100,
    "start_time": "2023-01-18T22:48:39.194Z"
   },
   {
    "duration": 90,
    "start_time": "2023-01-18T22:48:39.296Z"
   },
   {
    "duration": 120,
    "start_time": "2023-01-18T22:48:39.387Z"
   },
   {
    "duration": 74,
    "start_time": "2023-01-18T22:48:39.508Z"
   },
   {
    "duration": 98,
    "start_time": "2023-01-18T22:48:39.584Z"
   },
   {
    "duration": 165,
    "start_time": "2023-01-18T22:48:39.684Z"
   },
   {
    "duration": 112,
    "start_time": "2023-01-18T22:48:39.851Z"
   },
   {
    "duration": 154,
    "start_time": "2023-01-18T22:48:39.965Z"
   },
   {
    "duration": 72,
    "start_time": "2023-01-18T22:48:40.121Z"
   },
   {
    "duration": 126,
    "start_time": "2023-01-18T22:48:40.194Z"
   },
   {
    "duration": 22,
    "start_time": "2023-01-18T22:48:40.326Z"
   },
   {
    "duration": 2994,
    "start_time": "2023-01-18T22:48:40.350Z"
   },
   {
    "duration": 26,
    "start_time": "2023-01-18T22:48:43.346Z"
   },
   {
    "duration": 302,
    "start_time": "2023-01-18T22:48:43.373Z"
   },
   {
    "duration": 4,
    "start_time": "2023-01-18T22:49:36.535Z"
   },
   {
    "duration": 699,
    "start_time": "2023-01-18T22:49:36.540Z"
   },
   {
    "duration": 105,
    "start_time": "2023-01-18T22:49:37.241Z"
   },
   {
    "duration": 13,
    "start_time": "2023-01-18T22:49:37.348Z"
   },
   {
    "duration": 26,
    "start_time": "2023-01-18T22:49:37.363Z"
   },
   {
    "duration": 3,
    "start_time": "2023-01-18T22:49:37.390Z"
   },
   {
    "duration": 121,
    "start_time": "2023-01-18T22:49:37.395Z"
   },
   {
    "duration": 387,
    "start_time": "2023-01-18T22:49:37.517Z"
   },
   {
    "duration": 34,
    "start_time": "2023-01-18T22:49:37.905Z"
   },
   {
    "duration": 88,
    "start_time": "2023-01-18T22:49:37.942Z"
   },
   {
    "duration": 75,
    "start_time": "2023-01-18T22:49:38.032Z"
   },
   {
    "duration": 122,
    "start_time": "2023-01-18T22:49:38.109Z"
   },
   {
    "duration": 72,
    "start_time": "2023-01-18T22:49:38.233Z"
   },
   {
    "duration": 98,
    "start_time": "2023-01-18T22:49:38.307Z"
   },
   {
    "duration": 173,
    "start_time": "2023-01-18T22:49:38.407Z"
   },
   {
    "duration": 123,
    "start_time": "2023-01-18T22:49:38.582Z"
   },
   {
    "duration": 164,
    "start_time": "2023-01-18T22:49:38.707Z"
   },
   {
    "duration": 74,
    "start_time": "2023-01-18T22:49:38.873Z"
   },
   {
    "duration": 112,
    "start_time": "2023-01-18T22:49:38.949Z"
   },
   {
    "duration": 19,
    "start_time": "2023-01-18T22:49:39.063Z"
   },
   {
    "duration": 2984,
    "start_time": "2023-01-18T22:49:39.084Z"
   },
   {
    "duration": 38,
    "start_time": "2023-01-18T22:49:42.070Z"
   },
   {
    "duration": 288,
    "start_time": "2023-01-18T22:49:42.110Z"
   },
   {
    "duration": 41,
    "start_time": "2023-01-18T22:49:42.399Z"
   },
   {
    "duration": 3,
    "start_time": "2023-01-18T22:49:59.542Z"
   },
   {
    "duration": 723,
    "start_time": "2023-01-18T22:49:59.548Z"
   },
   {
    "duration": 129,
    "start_time": "2023-01-18T22:50:00.273Z"
   },
   {
    "duration": 45,
    "start_time": "2023-01-18T22:50:00.405Z"
   },
   {
    "duration": 92,
    "start_time": "2023-01-18T22:50:00.452Z"
   },
   {
    "duration": 3,
    "start_time": "2023-01-18T22:50:00.546Z"
   },
   {
    "duration": 146,
    "start_time": "2023-01-18T22:50:00.551Z"
   },
   {
    "duration": 413,
    "start_time": "2023-01-18T22:50:00.699Z"
   },
   {
    "duration": 25,
    "start_time": "2023-01-18T22:50:01.116Z"
   },
   {
    "duration": 96,
    "start_time": "2023-01-18T22:50:01.143Z"
   },
   {
    "duration": 92,
    "start_time": "2023-01-18T22:50:01.241Z"
   },
   {
    "duration": 113,
    "start_time": "2023-01-18T22:50:01.334Z"
   },
   {
    "duration": 79,
    "start_time": "2023-01-18T22:50:01.449Z"
   },
   {
    "duration": 103,
    "start_time": "2023-01-18T22:50:01.530Z"
   },
   {
    "duration": 331,
    "start_time": "2023-01-18T22:50:01.635Z"
   },
   {
    "duration": 113,
    "start_time": "2023-01-18T22:50:01.967Z"
   },
   {
    "duration": 161,
    "start_time": "2023-01-18T22:50:02.082Z"
   },
   {
    "duration": 67,
    "start_time": "2023-01-18T22:50:02.245Z"
   },
   {
    "duration": 123,
    "start_time": "2023-01-18T22:50:02.314Z"
   },
   {
    "duration": 19,
    "start_time": "2023-01-18T22:50:02.439Z"
   },
   {
    "duration": 2918,
    "start_time": "2023-01-18T22:50:02.460Z"
   },
   {
    "duration": 49,
    "start_time": "2023-01-18T22:50:05.379Z"
   },
   {
    "duration": 298,
    "start_time": "2023-01-18T22:50:05.429Z"
   },
   {
    "duration": 25,
    "start_time": "2023-01-18T22:50:05.729Z"
   },
   {
    "duration": 5,
    "start_time": "2023-01-18T22:51:03.390Z"
   },
   {
    "duration": 725,
    "start_time": "2023-01-18T22:51:03.397Z"
   },
   {
    "duration": 114,
    "start_time": "2023-01-18T22:51:04.124Z"
   },
   {
    "duration": 14,
    "start_time": "2023-01-18T22:51:04.240Z"
   },
   {
    "duration": 57,
    "start_time": "2023-01-18T22:51:04.255Z"
   },
   {
    "duration": 13,
    "start_time": "2023-01-18T22:51:04.314Z"
   },
   {
    "duration": 121,
    "start_time": "2023-01-18T22:51:04.329Z"
   },
   {
    "duration": 382,
    "start_time": "2023-01-18T22:51:04.452Z"
   },
   {
    "duration": 25,
    "start_time": "2023-01-18T22:51:04.836Z"
   },
   {
    "duration": 93,
    "start_time": "2023-01-18T22:51:04.863Z"
   },
   {
    "duration": 86,
    "start_time": "2023-01-18T22:51:04.957Z"
   },
   {
    "duration": 124,
    "start_time": "2023-01-18T22:51:05.045Z"
   },
   {
    "duration": 82,
    "start_time": "2023-01-18T22:51:05.171Z"
   },
   {
    "duration": 96,
    "start_time": "2023-01-18T22:51:05.255Z"
   },
   {
    "duration": 179,
    "start_time": "2023-01-18T22:51:05.353Z"
   },
   {
    "duration": 112,
    "start_time": "2023-01-18T22:51:05.534Z"
   },
   {
    "duration": 157,
    "start_time": "2023-01-18T22:51:05.648Z"
   },
   {
    "duration": 80,
    "start_time": "2023-01-18T22:51:05.807Z"
   },
   {
    "duration": 115,
    "start_time": "2023-01-18T22:51:05.888Z"
   },
   {
    "duration": 22,
    "start_time": "2023-01-18T22:51:06.005Z"
   },
   {
    "duration": 3080,
    "start_time": "2023-01-18T22:51:06.029Z"
   },
   {
    "duration": 50,
    "start_time": "2023-01-18T22:51:09.110Z"
   },
   {
    "duration": 438,
    "start_time": "2023-01-18T22:51:09.162Z"
   },
   {
    "duration": 29,
    "start_time": "2023-01-18T22:51:09.603Z"
   },
   {
    "duration": 3,
    "start_time": "2023-01-18T22:51:30.336Z"
   },
   {
    "duration": 798,
    "start_time": "2023-01-18T22:51:30.341Z"
   },
   {
    "duration": 107,
    "start_time": "2023-01-18T22:51:31.141Z"
   },
   {
    "duration": 31,
    "start_time": "2023-01-18T22:51:31.250Z"
   },
   {
    "duration": 72,
    "start_time": "2023-01-18T22:51:31.283Z"
   },
   {
    "duration": 4,
    "start_time": "2023-01-18T22:51:31.356Z"
   },
   {
    "duration": 132,
    "start_time": "2023-01-18T22:51:31.361Z"
   },
   {
    "duration": 371,
    "start_time": "2023-01-18T22:51:31.495Z"
   },
   {
    "duration": 24,
    "start_time": "2023-01-18T22:51:31.868Z"
   },
   {
    "duration": 92,
    "start_time": "2023-01-18T22:51:31.894Z"
   },
   {
    "duration": 85,
    "start_time": "2023-01-18T22:51:31.989Z"
   },
   {
    "duration": 119,
    "start_time": "2023-01-18T22:51:32.075Z"
   },
   {
    "duration": 79,
    "start_time": "2023-01-18T22:51:32.195Z"
   },
   {
    "duration": 94,
    "start_time": "2023-01-18T22:51:32.276Z"
   },
   {
    "duration": 176,
    "start_time": "2023-01-18T22:51:32.372Z"
   },
   {
    "duration": 122,
    "start_time": "2023-01-18T22:51:32.550Z"
   },
   {
    "duration": 181,
    "start_time": "2023-01-18T22:51:32.673Z"
   },
   {
    "duration": 1356,
    "start_time": "2023-01-18T22:51:44.839Z"
   },
   {
    "duration": 1046,
    "start_time": "2023-01-18T22:51:46.197Z"
   },
   {
    "duration": 114,
    "start_time": "2023-01-18T22:51:47.244Z"
   },
   {
    "duration": 15,
    "start_time": "2023-01-18T22:51:47.360Z"
   },
   {
    "duration": 62,
    "start_time": "2023-01-18T22:51:47.377Z"
   },
   {
    "duration": 3,
    "start_time": "2023-01-18T22:51:47.440Z"
   },
   {
    "duration": 108,
    "start_time": "2023-01-18T22:51:47.444Z"
   },
   {
    "duration": 449,
    "start_time": "2023-01-18T22:51:47.554Z"
   },
   {
    "duration": 40,
    "start_time": "2023-01-18T22:51:48.005Z"
   },
   {
    "duration": 94,
    "start_time": "2023-01-18T22:51:48.047Z"
   },
   {
    "duration": 87,
    "start_time": "2023-01-18T22:51:48.142Z"
   },
   {
    "duration": 124,
    "start_time": "2023-01-18T22:51:48.230Z"
   },
   {
    "duration": 71,
    "start_time": "2023-01-18T22:51:48.356Z"
   },
   {
    "duration": 106,
    "start_time": "2023-01-18T22:51:48.428Z"
   },
   {
    "duration": 172,
    "start_time": "2023-01-18T22:51:48.536Z"
   },
   {
    "duration": 139,
    "start_time": "2023-01-18T22:51:48.710Z"
   },
   {
    "duration": 160,
    "start_time": "2023-01-18T22:51:48.851Z"
   },
   {
    "duration": 70,
    "start_time": "2023-01-18T22:51:49.013Z"
   },
   {
    "duration": 116,
    "start_time": "2023-01-18T22:51:49.084Z"
   },
   {
    "duration": 27,
    "start_time": "2023-01-18T22:51:49.202Z"
   },
   {
    "duration": 2497,
    "start_time": "2023-01-18T22:51:49.230Z"
   },
   {
    "duration": 39,
    "start_time": "2023-01-18T22:51:51.728Z"
   },
   {
    "duration": 285,
    "start_time": "2023-01-18T22:51:51.768Z"
   },
   {
    "duration": 23,
    "start_time": "2023-01-18T22:51:52.055Z"
   },
   {
    "duration": 4,
    "start_time": "2023-01-18T22:52:31.119Z"
   },
   {
    "duration": 730,
    "start_time": "2023-01-18T22:52:31.125Z"
   },
   {
    "duration": 101,
    "start_time": "2023-01-18T22:52:31.857Z"
   },
   {
    "duration": 51,
    "start_time": "2023-01-18T22:52:31.960Z"
   },
   {
    "duration": 57,
    "start_time": "2023-01-18T22:52:32.012Z"
   },
   {
    "duration": 26,
    "start_time": "2023-01-18T22:52:32.071Z"
   },
   {
    "duration": 131,
    "start_time": "2023-01-18T22:52:32.098Z"
   },
   {
    "duration": 418,
    "start_time": "2023-01-18T22:52:32.230Z"
   },
   {
    "duration": 25,
    "start_time": "2023-01-18T22:52:32.652Z"
   },
   {
    "duration": 156,
    "start_time": "2023-01-18T22:52:32.679Z"
   },
   {
    "duration": 168,
    "start_time": "2023-01-18T22:52:32.837Z"
   },
   {
    "duration": 121,
    "start_time": "2023-01-18T22:52:33.006Z"
   },
   {
    "duration": 72,
    "start_time": "2023-01-18T22:52:33.128Z"
   },
   {
    "duration": 187,
    "start_time": "2023-01-18T22:52:33.202Z"
   },
   {
    "duration": 166,
    "start_time": "2023-01-18T22:52:33.391Z"
   },
   {
    "duration": 112,
    "start_time": "2023-01-18T22:52:33.558Z"
   },
   {
    "duration": 160,
    "start_time": "2023-01-18T22:52:33.672Z"
   },
   {
    "duration": 81,
    "start_time": "2023-01-18T22:52:33.833Z"
   },
   {
    "duration": 124,
    "start_time": "2023-01-18T22:52:33.915Z"
   },
   {
    "duration": 17,
    "start_time": "2023-01-18T22:52:34.041Z"
   },
   {
    "duration": 2621,
    "start_time": "2023-01-18T22:52:34.060Z"
   },
   {
    "duration": 47,
    "start_time": "2023-01-18T22:52:36.683Z"
   },
   {
    "duration": 279,
    "start_time": "2023-01-18T22:52:36.732Z"
   },
   {
    "duration": 28,
    "start_time": "2023-01-18T22:52:37.014Z"
   },
   {
    "duration": 5,
    "start_time": "2023-01-18T22:54:00.128Z"
   },
   {
    "duration": 847,
    "start_time": "2023-01-18T22:54:00.135Z"
   },
   {
    "duration": 111,
    "start_time": "2023-01-18T22:54:00.984Z"
   },
   {
    "duration": 32,
    "start_time": "2023-01-18T22:54:01.097Z"
   },
   {
    "duration": 66,
    "start_time": "2023-01-18T22:54:01.132Z"
   },
   {
    "duration": 29,
    "start_time": "2023-01-18T22:54:01.199Z"
   },
   {
    "duration": 137,
    "start_time": "2023-01-18T22:54:01.229Z"
   },
   {
    "duration": 438,
    "start_time": "2023-01-18T22:54:01.367Z"
   },
   {
    "duration": 28,
    "start_time": "2023-01-18T22:54:01.807Z"
   },
   {
    "duration": 90,
    "start_time": "2023-01-18T22:54:01.837Z"
   },
   {
    "duration": 80,
    "start_time": "2023-01-18T22:54:01.929Z"
   },
   {
    "duration": 123,
    "start_time": "2023-01-18T22:54:02.011Z"
   },
   {
    "duration": 73,
    "start_time": "2023-01-18T22:54:02.136Z"
   },
   {
    "duration": 106,
    "start_time": "2023-01-18T22:54:02.210Z"
   },
   {
    "duration": 171,
    "start_time": "2023-01-18T22:54:02.317Z"
   },
   {
    "duration": 121,
    "start_time": "2023-01-18T22:54:02.490Z"
   },
   {
    "duration": 157,
    "start_time": "2023-01-18T22:54:02.612Z"
   },
   {
    "duration": 98,
    "start_time": "2023-01-18T22:54:02.771Z"
   },
   {
    "duration": 114,
    "start_time": "2023-01-18T22:54:02.870Z"
   },
   {
    "duration": 17,
    "start_time": "2023-01-18T22:54:02.986Z"
   },
   {
    "duration": 2703,
    "start_time": "2023-01-18T22:54:03.005Z"
   },
   {
    "duration": 51,
    "start_time": "2023-01-18T22:54:05.710Z"
   },
   {
    "duration": 395,
    "start_time": "2023-01-18T22:54:05.763Z"
   },
   {
    "duration": 24,
    "start_time": "2023-01-18T22:54:06.160Z"
   },
   {
    "duration": 4,
    "start_time": "2023-01-18T22:54:27.552Z"
   },
   {
    "duration": 735,
    "start_time": "2023-01-18T22:54:27.558Z"
   },
   {
    "duration": 107,
    "start_time": "2023-01-18T22:54:28.295Z"
   },
   {
    "duration": 25,
    "start_time": "2023-01-18T22:54:28.404Z"
   },
   {
    "duration": 36,
    "start_time": "2023-01-18T22:54:28.431Z"
   },
   {
    "duration": 3,
    "start_time": "2023-01-18T22:54:28.469Z"
   },
   {
    "duration": 107,
    "start_time": "2023-01-18T22:54:28.474Z"
   },
   {
    "duration": 430,
    "start_time": "2023-01-18T22:54:28.582Z"
   },
   {
    "duration": 30,
    "start_time": "2023-01-18T22:54:29.014Z"
   },
   {
    "duration": 93,
    "start_time": "2023-01-18T22:54:29.046Z"
   },
   {
    "duration": 91,
    "start_time": "2023-01-18T22:54:29.141Z"
   },
   {
    "duration": 119,
    "start_time": "2023-01-18T22:54:29.234Z"
   },
   {
    "duration": 74,
    "start_time": "2023-01-18T22:54:29.354Z"
   },
   {
    "duration": 101,
    "start_time": "2023-01-18T22:54:29.430Z"
   },
   {
    "duration": 183,
    "start_time": "2023-01-18T22:54:29.533Z"
   },
   {
    "duration": 120,
    "start_time": "2023-01-18T22:54:29.718Z"
   },
   {
    "duration": 154,
    "start_time": "2023-01-18T22:54:29.840Z"
   },
   {
    "duration": 86,
    "start_time": "2023-01-18T22:54:29.996Z"
   },
   {
    "duration": 120,
    "start_time": "2023-01-18T22:54:30.083Z"
   },
   {
    "duration": 24,
    "start_time": "2023-01-18T22:54:30.204Z"
   },
   {
    "duration": 2834,
    "start_time": "2023-01-18T22:54:30.229Z"
   },
   {
    "duration": 27,
    "start_time": "2023-01-18T22:54:33.065Z"
   },
   {
    "duration": 285,
    "start_time": "2023-01-18T22:54:33.094Z"
   },
   {
    "duration": 24,
    "start_time": "2023-01-18T22:54:33.382Z"
   },
   {
    "duration": 24,
    "start_time": "2023-01-18T22:54:38.997Z"
   },
   {
    "duration": 4,
    "start_time": "2023-01-18T22:55:28.033Z"
   },
   {
    "duration": 733,
    "start_time": "2023-01-18T22:55:28.039Z"
   },
   {
    "duration": 113,
    "start_time": "2023-01-18T22:55:28.774Z"
   },
   {
    "duration": 18,
    "start_time": "2023-01-18T22:55:28.889Z"
   },
   {
    "duration": 35,
    "start_time": "2023-01-18T22:55:28.908Z"
   },
   {
    "duration": 3,
    "start_time": "2023-01-18T22:55:28.945Z"
   },
   {
    "duration": 112,
    "start_time": "2023-01-18T22:55:28.949Z"
   },
   {
    "duration": 406,
    "start_time": "2023-01-18T22:55:29.062Z"
   },
   {
    "duration": 26,
    "start_time": "2023-01-18T22:55:29.470Z"
   },
   {
    "duration": 93,
    "start_time": "2023-01-18T22:55:29.498Z"
   },
   {
    "duration": 88,
    "start_time": "2023-01-18T22:55:29.592Z"
   },
   {
    "duration": 123,
    "start_time": "2023-01-18T22:55:29.682Z"
   },
   {
    "duration": 78,
    "start_time": "2023-01-18T22:55:29.807Z"
   },
   {
    "duration": 104,
    "start_time": "2023-01-18T22:55:29.886Z"
   },
   {
    "duration": 168,
    "start_time": "2023-01-18T22:55:29.992Z"
   },
   {
    "duration": 121,
    "start_time": "2023-01-18T22:55:30.161Z"
   },
   {
    "duration": 188,
    "start_time": "2023-01-18T22:55:30.283Z"
   },
   {
    "duration": 96,
    "start_time": "2023-01-18T22:55:30.474Z"
   },
   {
    "duration": 116,
    "start_time": "2023-01-18T22:55:30.572Z"
   },
   {
    "duration": 18,
    "start_time": "2023-01-18T22:55:30.690Z"
   },
   {
    "duration": 2844,
    "start_time": "2023-01-18T22:55:30.709Z"
   },
   {
    "duration": 37,
    "start_time": "2023-01-18T22:55:33.554Z"
   },
   {
    "duration": 281,
    "start_time": "2023-01-18T22:55:33.593Z"
   },
   {
    "duration": 24,
    "start_time": "2023-01-18T22:55:33.876Z"
   },
   {
    "duration": 4,
    "start_time": "2023-01-18T22:57:46.986Z"
   },
   {
    "duration": 731,
    "start_time": "2023-01-18T22:57:46.991Z"
   },
   {
    "duration": 111,
    "start_time": "2023-01-18T22:57:47.724Z"
   },
   {
    "duration": 2,
    "start_time": "2023-01-18T22:57:47.837Z"
   },
   {
    "duration": 20,
    "start_time": "2023-01-18T22:57:47.841Z"
   },
   {
    "duration": 27,
    "start_time": "2023-01-18T22:57:47.863Z"
   },
   {
    "duration": 2,
    "start_time": "2023-01-18T22:57:47.892Z"
   },
   {
    "duration": 115,
    "start_time": "2023-01-18T22:57:47.896Z"
   },
   {
    "duration": 399,
    "start_time": "2023-01-18T22:57:48.013Z"
   },
   {
    "duration": 34,
    "start_time": "2023-01-18T22:57:48.414Z"
   },
   {
    "duration": 93,
    "start_time": "2023-01-18T22:57:48.450Z"
   },
   {
    "duration": 85,
    "start_time": "2023-01-18T22:57:48.544Z"
   },
   {
    "duration": 131,
    "start_time": "2023-01-18T22:57:48.631Z"
   },
   {
    "duration": 74,
    "start_time": "2023-01-18T22:57:48.764Z"
   },
   {
    "duration": 100,
    "start_time": "2023-01-18T22:57:48.840Z"
   },
   {
    "duration": 165,
    "start_time": "2023-01-18T22:57:48.942Z"
   },
   {
    "duration": 121,
    "start_time": "2023-01-18T22:57:49.108Z"
   },
   {
    "duration": 153,
    "start_time": "2023-01-18T22:57:49.231Z"
   },
   {
    "duration": 102,
    "start_time": "2023-01-18T22:57:49.386Z"
   },
   {
    "duration": 107,
    "start_time": "2023-01-18T22:57:49.490Z"
   },
   {
    "duration": 29,
    "start_time": "2023-01-18T22:57:49.598Z"
   },
   {
    "duration": 2742,
    "start_time": "2023-01-18T22:57:49.629Z"
   },
   {
    "duration": 27,
    "start_time": "2023-01-18T22:57:52.373Z"
   },
   {
    "duration": 37,
    "start_time": "2023-01-18T22:57:52.401Z"
   },
   {
    "duration": 4,
    "start_time": "2023-01-18T22:57:52.439Z"
   },
   {
    "duration": 4,
    "start_time": "2023-01-18T23:00:10.636Z"
   },
   {
    "duration": 742,
    "start_time": "2023-01-18T23:00:10.642Z"
   },
   {
    "duration": 110,
    "start_time": "2023-01-18T23:00:11.385Z"
   },
   {
    "duration": 3,
    "start_time": "2023-01-18T23:00:11.498Z"
   },
   {
    "duration": 29,
    "start_time": "2023-01-18T23:00:11.502Z"
   },
   {
    "duration": 27,
    "start_time": "2023-01-18T23:00:11.533Z"
   },
   {
    "duration": 3,
    "start_time": "2023-01-18T23:00:11.562Z"
   },
   {
    "duration": 109,
    "start_time": "2023-01-18T23:00:11.566Z"
   },
   {
    "duration": 392,
    "start_time": "2023-01-18T23:00:11.678Z"
   },
   {
    "duration": 26,
    "start_time": "2023-01-18T23:00:12.071Z"
   },
   {
    "duration": 94,
    "start_time": "2023-01-18T23:00:12.099Z"
   },
   {
    "duration": 85,
    "start_time": "2023-01-18T23:00:12.195Z"
   },
   {
    "duration": 122,
    "start_time": "2023-01-18T23:00:12.282Z"
   },
   {
    "duration": 74,
    "start_time": "2023-01-18T23:00:12.406Z"
   },
   {
    "duration": 96,
    "start_time": "2023-01-18T23:00:12.482Z"
   },
   {
    "duration": 169,
    "start_time": "2023-01-18T23:00:12.579Z"
   },
   {
    "duration": 115,
    "start_time": "2023-01-18T23:00:12.750Z"
   },
   {
    "duration": 163,
    "start_time": "2023-01-18T23:00:12.867Z"
   },
   {
    "duration": 88,
    "start_time": "2023-01-18T23:00:13.032Z"
   },
   {
    "duration": 109,
    "start_time": "2023-01-18T23:00:13.127Z"
   },
   {
    "duration": 18,
    "start_time": "2023-01-18T23:00:13.237Z"
   },
   {
    "duration": 2912,
    "start_time": "2023-01-18T23:00:13.257Z"
   },
   {
    "duration": 38,
    "start_time": "2023-01-18T23:00:16.170Z"
   },
   {
    "duration": 39,
    "start_time": "2023-01-18T23:00:16.212Z"
   },
   {
    "duration": 5,
    "start_time": "2023-01-18T23:00:16.252Z"
   },
   {
    "duration": 36,
    "start_time": "2023-01-18T23:00:16.258Z"
   },
   {
    "duration": 97,
    "start_time": "2023-01-18T23:00:16.296Z"
   },
   {
    "duration": 5,
    "start_time": "2023-01-18T23:00:16.395Z"
   },
   {
    "duration": 390,
    "start_time": "2023-01-18T23:00:16.401Z"
   },
   {
    "duration": 4,
    "start_time": "2023-01-18T23:01:28.477Z"
   },
   {
    "duration": 752,
    "start_time": "2023-01-18T23:01:28.483Z"
   },
   {
    "duration": 129,
    "start_time": "2023-01-18T23:01:29.237Z"
   },
   {
    "duration": 2,
    "start_time": "2023-01-18T23:01:29.369Z"
   },
   {
    "duration": 19,
    "start_time": "2023-01-18T23:01:29.373Z"
   },
   {
    "duration": 39,
    "start_time": "2023-01-18T23:01:29.393Z"
   },
   {
    "duration": 3,
    "start_time": "2023-01-18T23:01:29.434Z"
   },
   {
    "duration": 109,
    "start_time": "2023-01-18T23:01:29.439Z"
   },
   {
    "duration": 446,
    "start_time": "2023-01-18T23:01:29.550Z"
   },
   {
    "duration": 44,
    "start_time": "2023-01-18T23:01:29.999Z"
   },
   {
    "duration": 95,
    "start_time": "2023-01-18T23:01:30.045Z"
   },
   {
    "duration": 87,
    "start_time": "2023-01-18T23:01:30.141Z"
   },
   {
    "duration": 123,
    "start_time": "2023-01-18T23:01:30.229Z"
   },
   {
    "duration": 101,
    "start_time": "2023-01-18T23:01:30.354Z"
   },
   {
    "duration": 115,
    "start_time": "2023-01-18T23:01:30.457Z"
   },
   {
    "duration": 177,
    "start_time": "2023-01-18T23:01:30.574Z"
   },
   {
    "duration": 124,
    "start_time": "2023-01-18T23:01:30.752Z"
   },
   {
    "duration": 167,
    "start_time": "2023-01-18T23:01:30.878Z"
   },
   {
    "duration": 104,
    "start_time": "2023-01-18T23:01:31.047Z"
   },
   {
    "duration": 113,
    "start_time": "2023-01-18T23:01:31.153Z"
   },
   {
    "duration": 18,
    "start_time": "2023-01-18T23:01:31.268Z"
   },
   {
    "duration": 2770,
    "start_time": "2023-01-18T23:01:31.288Z"
   },
   {
    "duration": 38,
    "start_time": "2023-01-18T23:01:34.060Z"
   },
   {
    "duration": 36,
    "start_time": "2023-01-18T23:01:34.100Z"
   },
   {
    "duration": 4,
    "start_time": "2023-01-18T23:01:34.138Z"
   },
   {
    "duration": 18,
    "start_time": "2023-01-18T23:01:34.144Z"
   },
   {
    "duration": 95,
    "start_time": "2023-01-18T23:01:34.164Z"
   },
   {
    "duration": 4,
    "start_time": "2023-01-18T23:01:34.263Z"
   },
   {
    "duration": 350,
    "start_time": "2023-01-18T23:01:34.269Z"
   },
   {
    "duration": 1475,
    "start_time": "2023-01-20T14:27:09.647Z"
   },
   {
    "duration": 2735,
    "start_time": "2023-01-20T14:27:11.124Z"
   },
   {
    "duration": 131,
    "start_time": "2023-01-20T14:27:13.861Z"
   },
   {
    "duration": 3,
    "start_time": "2023-01-20T14:27:13.994Z"
   },
   {
    "duration": 20,
    "start_time": "2023-01-20T14:27:13.999Z"
   },
   {
    "duration": 62,
    "start_time": "2023-01-20T14:27:14.021Z"
   },
   {
    "duration": 4,
    "start_time": "2023-01-20T14:27:14.085Z"
   },
   {
    "duration": 159,
    "start_time": "2023-01-20T14:27:14.090Z"
   },
   {
    "duration": 461,
    "start_time": "2023-01-20T14:27:14.251Z"
   },
   {
    "duration": 43,
    "start_time": "2023-01-20T14:27:14.714Z"
   },
   {
    "duration": 90,
    "start_time": "2023-01-20T14:27:14.759Z"
   },
   {
    "duration": 99,
    "start_time": "2023-01-20T14:27:14.850Z"
   },
   {
    "duration": 123,
    "start_time": "2023-01-20T14:27:14.950Z"
   },
   {
    "duration": 80,
    "start_time": "2023-01-20T14:27:15.077Z"
   },
   {
    "duration": 139,
    "start_time": "2023-01-20T14:27:15.158Z"
   },
   {
    "duration": 208,
    "start_time": "2023-01-20T14:27:15.299Z"
   },
   {
    "duration": 151,
    "start_time": "2023-01-20T14:27:15.509Z"
   },
   {
    "duration": 157,
    "start_time": "2023-01-20T14:27:15.661Z"
   },
   {
    "duration": 88,
    "start_time": "2023-01-20T14:27:15.819Z"
   },
   {
    "duration": 117,
    "start_time": "2023-01-20T14:27:15.909Z"
   },
   {
    "duration": 22,
    "start_time": "2023-01-20T14:27:16.028Z"
   },
   {
    "duration": 2610,
    "start_time": "2023-01-20T14:27:16.051Z"
   },
   {
    "duration": 38,
    "start_time": "2023-01-20T14:27:18.662Z"
   },
   {
    "duration": 23,
    "start_time": "2023-01-20T14:27:18.702Z"
   },
   {
    "duration": 23,
    "start_time": "2023-01-20T14:27:18.726Z"
   },
   {
    "duration": 18,
    "start_time": "2023-01-20T14:27:18.751Z"
   },
   {
    "duration": 89,
    "start_time": "2023-01-20T14:27:18.770Z"
   },
   {
    "duration": 4,
    "start_time": "2023-01-20T14:27:18.860Z"
   },
   {
    "duration": 310,
    "start_time": "2023-01-20T14:27:18.866Z"
   },
   {
    "duration": 123,
    "start_time": "2023-01-20T14:27:19.178Z"
   },
   {
    "duration": 5,
    "start_time": "2023-01-20T14:28:08.254Z"
   },
   {
    "duration": 5,
    "start_time": "2023-01-20T14:28:14.845Z"
   },
   {
    "duration": 112,
    "start_time": "2023-01-20T14:28:18.671Z"
   },
   {
    "duration": 5,
    "start_time": "2023-01-20T14:28:48.477Z"
   },
   {
    "duration": 5,
    "start_time": "2023-01-20T14:28:53.255Z"
   },
   {
    "duration": 39,
    "start_time": "2023-01-20T14:52:15.131Z"
   },
   {
    "duration": 3,
    "start_time": "2023-01-20T15:42:53.285Z"
   },
   {
    "duration": 709,
    "start_time": "2023-01-20T15:42:53.290Z"
   },
   {
    "duration": 120,
    "start_time": "2023-01-20T15:42:54.001Z"
   },
   {
    "duration": 3,
    "start_time": "2023-01-20T15:42:54.123Z"
   },
   {
    "duration": 35,
    "start_time": "2023-01-20T15:42:54.128Z"
   },
   {
    "duration": 66,
    "start_time": "2023-01-20T15:42:54.165Z"
   },
   {
    "duration": 3,
    "start_time": "2023-01-20T15:42:54.233Z"
   },
   {
    "duration": 119,
    "start_time": "2023-01-20T15:42:54.237Z"
   },
   {
    "duration": 386,
    "start_time": "2023-01-20T15:42:54.359Z"
   },
   {
    "duration": 26,
    "start_time": "2023-01-20T15:42:54.747Z"
   },
   {
    "duration": 99,
    "start_time": "2023-01-20T15:42:54.775Z"
   },
   {
    "duration": 82,
    "start_time": "2023-01-20T15:42:54.875Z"
   },
   {
    "duration": 119,
    "start_time": "2023-01-20T15:42:54.959Z"
   },
   {
    "duration": 79,
    "start_time": "2023-01-20T15:42:55.079Z"
   },
   {
    "duration": 99,
    "start_time": "2023-01-20T15:42:55.160Z"
   },
   {
    "duration": 112,
    "start_time": "2023-01-20T15:42:55.261Z"
   },
   {
    "duration": 4,
    "start_time": "2023-01-20T15:43:17.776Z"
   },
   {
    "duration": 155,
    "start_time": "2023-01-20T15:44:05.881Z"
   },
   {
    "duration": 191,
    "start_time": "2023-01-20T15:44:18.008Z"
   },
   {
    "duration": 6,
    "start_time": "2023-01-20T15:44:23.711Z"
   },
   {
    "duration": 139,
    "start_time": "2023-01-20T15:46:38.296Z"
   },
   {
    "duration": 3,
    "start_time": "2023-01-20T15:56:57.340Z"
   },
   {
    "duration": 726,
    "start_time": "2023-01-20T15:56:57.346Z"
   },
   {
    "duration": 124,
    "start_time": "2023-01-20T15:56:58.074Z"
   },
   {
    "duration": 3,
    "start_time": "2023-01-20T15:56:58.200Z"
   },
   {
    "duration": 16,
    "start_time": "2023-01-20T15:56:58.204Z"
   },
   {
    "duration": 39,
    "start_time": "2023-01-20T15:56:58.222Z"
   },
   {
    "duration": 3,
    "start_time": "2023-01-20T15:56:58.263Z"
   },
   {
    "duration": 129,
    "start_time": "2023-01-20T15:56:58.267Z"
   },
   {
    "duration": 477,
    "start_time": "2023-01-20T15:56:58.398Z"
   },
   {
    "duration": 24,
    "start_time": "2023-01-20T15:56:58.877Z"
   },
   {
    "duration": 95,
    "start_time": "2023-01-20T15:56:58.903Z"
   },
   {
    "duration": 92,
    "start_time": "2023-01-20T15:56:58.999Z"
   },
   {
    "duration": 123,
    "start_time": "2023-01-20T15:56:59.093Z"
   },
   {
    "duration": 77,
    "start_time": "2023-01-20T15:56:59.218Z"
   },
   {
    "duration": 17,
    "start_time": "2023-01-20T15:56:59.297Z"
   },
   {
    "duration": 314,
    "start_time": "2023-01-20T15:57:16.685Z"
   },
   {
    "duration": 6,
    "start_time": "2023-01-20T16:03:12.180Z"
   },
   {
    "duration": 4,
    "start_time": "2023-01-20T16:11:54.480Z"
   },
   {
    "duration": 663,
    "start_time": "2023-01-20T16:11:54.485Z"
   },
   {
    "duration": 119,
    "start_time": "2023-01-20T16:11:55.149Z"
   },
   {
    "duration": 2,
    "start_time": "2023-01-20T16:11:55.270Z"
   },
   {
    "duration": 17,
    "start_time": "2023-01-20T16:11:55.273Z"
   },
   {
    "duration": 60,
    "start_time": "2023-01-20T16:11:55.291Z"
   },
   {
    "duration": 3,
    "start_time": "2023-01-20T16:11:55.352Z"
   },
   {
    "duration": 121,
    "start_time": "2023-01-20T16:11:55.356Z"
   },
   {
    "duration": 428,
    "start_time": "2023-01-20T16:11:55.479Z"
   },
   {
    "duration": 26,
    "start_time": "2023-01-20T16:11:55.910Z"
   },
   {
    "duration": 93,
    "start_time": "2023-01-20T16:11:55.938Z"
   },
   {
    "duration": 93,
    "start_time": "2023-01-20T16:11:56.032Z"
   },
   {
    "duration": 122,
    "start_time": "2023-01-20T16:11:56.127Z"
   },
   {
    "duration": 70,
    "start_time": "2023-01-20T16:11:56.251Z"
   },
   {
    "duration": 346,
    "start_time": "2023-01-20T16:11:56.323Z"
   },
   {
    "duration": 12,
    "start_time": "2023-01-20T16:11:56.671Z"
   },
   {
    "duration": 12361,
    "start_time": "2023-01-20T16:12:13.662Z"
   },
   {
    "duration": 7,
    "start_time": "2023-01-20T16:16:58.669Z"
   },
   {
    "duration": 4,
    "start_time": "2023-01-20T16:17:51.458Z"
   },
   {
    "duration": 747,
    "start_time": "2023-01-20T16:17:51.464Z"
   },
   {
    "duration": 124,
    "start_time": "2023-01-20T16:17:52.213Z"
   },
   {
    "duration": 9,
    "start_time": "2023-01-20T16:17:52.339Z"
   },
   {
    "duration": 14,
    "start_time": "2023-01-20T16:17:52.350Z"
   },
   {
    "duration": 24,
    "start_time": "2023-01-20T16:17:52.365Z"
   },
   {
    "duration": 4,
    "start_time": "2023-01-20T16:17:52.391Z"
   },
   {
    "duration": 129,
    "start_time": "2023-01-20T16:17:52.396Z"
   },
   {
    "duration": 415,
    "start_time": "2023-01-20T16:17:52.526Z"
   },
   {
    "duration": 26,
    "start_time": "2023-01-20T16:17:52.943Z"
   },
   {
    "duration": 101,
    "start_time": "2023-01-20T16:17:52.970Z"
   },
   {
    "duration": 83,
    "start_time": "2023-01-20T16:17:53.072Z"
   },
   {
    "duration": 121,
    "start_time": "2023-01-20T16:17:53.157Z"
   },
   {
    "duration": 76,
    "start_time": "2023-01-20T16:17:53.280Z"
   },
   {
    "duration": 317,
    "start_time": "2023-01-20T16:17:53.357Z"
   },
   {
    "duration": 11,
    "start_time": "2023-01-20T16:17:54.919Z"
   },
   {
    "duration": 5,
    "start_time": "2023-01-20T16:20:32.832Z"
   },
   {
    "duration": 4,
    "start_time": "2023-01-20T16:22:28.332Z"
   },
   {
    "duration": 668,
    "start_time": "2023-01-20T16:22:28.338Z"
   },
   {
    "duration": 119,
    "start_time": "2023-01-20T16:22:29.007Z"
   },
   {
    "duration": 3,
    "start_time": "2023-01-20T16:22:29.127Z"
   },
   {
    "duration": 24,
    "start_time": "2023-01-20T16:22:29.132Z"
   },
   {
    "duration": 27,
    "start_time": "2023-01-20T16:22:29.158Z"
   },
   {
    "duration": 2,
    "start_time": "2023-01-20T16:22:29.187Z"
   },
   {
    "duration": 127,
    "start_time": "2023-01-20T16:22:29.191Z"
   },
   {
    "duration": 413,
    "start_time": "2023-01-20T16:22:29.319Z"
   },
   {
    "duration": 24,
    "start_time": "2023-01-20T16:22:29.733Z"
   },
   {
    "duration": 96,
    "start_time": "2023-01-20T16:22:29.759Z"
   },
   {
    "duration": 81,
    "start_time": "2023-01-20T16:22:29.856Z"
   },
   {
    "duration": 122,
    "start_time": "2023-01-20T16:22:29.948Z"
   },
   {
    "duration": 76,
    "start_time": "2023-01-20T16:22:30.073Z"
   },
   {
    "duration": 324,
    "start_time": "2023-01-20T16:22:30.150Z"
   },
   {
    "duration": 11,
    "start_time": "2023-01-20T16:22:30.476Z"
   },
   {
    "duration": 12191,
    "start_time": "2023-01-20T16:23:05.957Z"
   },
   {
    "duration": 5,
    "start_time": "2023-01-20T16:25:46.500Z"
   },
   {
    "duration": 715,
    "start_time": "2023-01-20T16:25:46.507Z"
   },
   {
    "duration": 132,
    "start_time": "2023-01-20T16:25:47.224Z"
   },
   {
    "duration": 3,
    "start_time": "2023-01-20T16:25:47.359Z"
   },
   {
    "duration": 15,
    "start_time": "2023-01-20T16:25:47.363Z"
   },
   {
    "duration": 25,
    "start_time": "2023-01-20T16:25:47.379Z"
   },
   {
    "duration": 3,
    "start_time": "2023-01-20T16:25:47.406Z"
   },
   {
    "duration": 142,
    "start_time": "2023-01-20T16:25:47.410Z"
   },
   {
    "duration": 439,
    "start_time": "2023-01-20T16:25:47.554Z"
   },
   {
    "duration": 25,
    "start_time": "2023-01-20T16:25:47.995Z"
   },
   {
    "duration": 101,
    "start_time": "2023-01-20T16:25:48.021Z"
   },
   {
    "duration": 89,
    "start_time": "2023-01-20T16:25:48.124Z"
   },
   {
    "duration": 125,
    "start_time": "2023-01-20T16:25:48.214Z"
   },
   {
    "duration": 71,
    "start_time": "2023-01-20T16:25:48.341Z"
   },
   {
    "duration": 321,
    "start_time": "2023-01-20T16:25:48.413Z"
   },
   {
    "duration": 19,
    "start_time": "2023-01-20T16:25:48.736Z"
   },
   {
    "duration": 312,
    "start_time": "2023-01-20T16:25:52.076Z"
   },
   {
    "duration": 3,
    "start_time": "2023-01-20T16:26:10.234Z"
   },
   {
    "duration": 12531,
    "start_time": "2023-01-20T16:26:52.298Z"
   },
   {
    "duration": 253,
    "start_time": "2023-01-20T16:27:40.692Z"
   },
   {
    "duration": 11864,
    "start_time": "2023-01-20T16:28:12.588Z"
   },
   {
    "duration": 56,
    "start_time": "2023-01-20T16:34:15.998Z"
   },
   {
    "duration": 12230,
    "start_time": "2023-01-20T16:34:26.454Z"
   },
   {
    "duration": 10,
    "start_time": "2023-01-20T16:35:39.917Z"
   },
   {
    "duration": 4,
    "start_time": "2023-01-20T16:35:41.954Z"
   },
   {
    "duration": 9,
    "start_time": "2023-01-20T16:36:41.760Z"
   },
   {
    "duration": 7,
    "start_time": "2023-01-20T16:36:46.473Z"
   },
   {
    "duration": 6,
    "start_time": "2023-01-20T16:36:55.178Z"
   },
   {
    "duration": 6,
    "start_time": "2023-01-20T16:36:59.895Z"
   },
   {
    "duration": 12227,
    "start_time": "2023-01-20T16:37:14.934Z"
   },
   {
    "duration": 4,
    "start_time": "2023-01-20T16:38:23.986Z"
   },
   {
    "duration": 11715,
    "start_time": "2023-01-20T16:39:35.985Z"
   },
   {
    "duration": 3,
    "start_time": "2023-01-20T16:40:21.742Z"
   },
   {
    "duration": 4,
    "start_time": "2023-01-20T16:40:39.496Z"
   },
   {
    "duration": 12,
    "start_time": "2023-01-20T16:40:52.623Z"
   },
   {
    "duration": 12,
    "start_time": "2023-01-20T16:40:54.983Z"
   },
   {
    "duration": 3,
    "start_time": "2023-01-20T16:41:10.483Z"
   },
   {
    "duration": 675,
    "start_time": "2023-01-20T16:41:10.488Z"
   },
   {
    "duration": 120,
    "start_time": "2023-01-20T16:41:11.165Z"
   },
   {
    "duration": 2,
    "start_time": "2023-01-20T16:41:11.287Z"
   },
   {
    "duration": 20,
    "start_time": "2023-01-20T16:41:11.291Z"
   },
   {
    "duration": 38,
    "start_time": "2023-01-20T16:41:11.312Z"
   },
   {
    "duration": 3,
    "start_time": "2023-01-20T16:41:11.352Z"
   },
   {
    "duration": 126,
    "start_time": "2023-01-20T16:41:11.357Z"
   },
   {
    "duration": 368,
    "start_time": "2023-01-20T16:41:11.486Z"
   },
   {
    "duration": 22,
    "start_time": "2023-01-20T16:41:11.856Z"
   },
   {
    "duration": 100,
    "start_time": "2023-01-20T16:41:11.880Z"
   },
   {
    "duration": 82,
    "start_time": "2023-01-20T16:41:11.981Z"
   },
   {
    "duration": 117,
    "start_time": "2023-01-20T16:41:12.065Z"
   },
   {
    "duration": 75,
    "start_time": "2023-01-20T16:41:12.184Z"
   },
   {
    "duration": 314,
    "start_time": "2023-01-20T16:41:12.260Z"
   },
   {
    "duration": 11,
    "start_time": "2023-01-20T16:41:12.576Z"
   },
   {
    "duration": 309,
    "start_time": "2023-01-20T16:41:12.589Z"
   },
   {
    "duration": 14,
    "start_time": "2023-01-20T16:41:15.247Z"
   },
   {
    "duration": 12578,
    "start_time": "2023-01-20T16:41:25.239Z"
   },
   {
    "duration": 0,
    "start_time": "2023-01-20T16:41:37.818Z"
   },
   {
    "duration": 9,
    "start_time": "2023-01-20T16:43:34.607Z"
   },
   {
    "duration": 4,
    "start_time": "2023-01-20T16:43:48.535Z"
   },
   {
    "duration": 4,
    "start_time": "2023-01-20T16:43:57.617Z"
   },
   {
    "duration": 3,
    "start_time": "2023-01-20T16:44:00.960Z"
   },
   {
    "duration": 4,
    "start_time": "2023-01-20T16:44:04.035Z"
   },
   {
    "duration": 4,
    "start_time": "2023-01-20T16:44:08.043Z"
   },
   {
    "duration": 9,
    "start_time": "2023-01-20T16:46:37.218Z"
   },
   {
    "duration": 9,
    "start_time": "2023-01-20T16:48:58.102Z"
   },
   {
    "duration": 9,
    "start_time": "2023-01-20T16:49:19.526Z"
   },
   {
    "duration": 78,
    "start_time": "2023-01-20T16:49:26.697Z"
   },
   {
    "duration": 7,
    "start_time": "2023-01-20T16:49:27.338Z"
   },
   {
    "duration": 12150,
    "start_time": "2023-01-20T16:49:28.258Z"
   },
   {
    "duration": 9,
    "start_time": "2023-01-20T16:50:26.000Z"
   },
   {
    "duration": 9,
    "start_time": "2023-01-20T16:50:32.545Z"
   },
   {
    "duration": 7,
    "start_time": "2023-01-20T16:51:09.827Z"
   },
   {
    "duration": 7,
    "start_time": "2023-01-20T16:51:17.867Z"
   },
   {
    "duration": 80,
    "start_time": "2023-01-20T16:51:56.418Z"
   },
   {
    "duration": 78,
    "start_time": "2023-01-20T16:52:02.610Z"
   },
   {
    "duration": 8,
    "start_time": "2023-01-20T16:52:03.426Z"
   },
   {
    "duration": 11842,
    "start_time": "2023-01-20T16:52:09.345Z"
   },
   {
    "duration": 3,
    "start_time": "2023-01-20T16:52:21.189Z"
   },
   {
    "duration": 11,
    "start_time": "2023-01-20T16:52:21.193Z"
   },
   {
    "duration": 13,
    "start_time": "2023-01-20T16:53:35.195Z"
   },
   {
    "duration": 4,
    "start_time": "2023-01-20T16:55:54.666Z"
   },
   {
    "duration": 4,
    "start_time": "2023-01-20T16:56:01.181Z"
   },
   {
    "duration": 4,
    "start_time": "2023-01-20T16:56:08.575Z"
   },
   {
    "duration": 1367,
    "start_time": "2023-01-20T16:58:03.079Z"
   },
   {
    "duration": 2814,
    "start_time": "2023-01-20T16:58:04.448Z"
   },
   {
    "duration": 121,
    "start_time": "2023-01-20T16:58:07.264Z"
   },
   {
    "duration": 2,
    "start_time": "2023-01-20T16:58:07.387Z"
   },
   {
    "duration": 22,
    "start_time": "2023-01-20T16:58:07.392Z"
   },
   {
    "duration": 64,
    "start_time": "2023-01-20T16:58:07.416Z"
   },
   {
    "duration": 4,
    "start_time": "2023-01-20T16:58:07.481Z"
   },
   {
    "duration": 122,
    "start_time": "2023-01-20T16:58:07.487Z"
   },
   {
    "duration": 441,
    "start_time": "2023-01-20T16:58:07.611Z"
   },
   {
    "duration": 38,
    "start_time": "2023-01-20T16:58:08.054Z"
   },
   {
    "duration": 98,
    "start_time": "2023-01-20T16:58:08.094Z"
   },
   {
    "duration": 88,
    "start_time": "2023-01-20T16:58:08.194Z"
   },
   {
    "duration": 135,
    "start_time": "2023-01-20T16:58:08.283Z"
   },
   {
    "duration": 75,
    "start_time": "2023-01-20T16:58:08.421Z"
   },
   {
    "duration": 344,
    "start_time": "2023-01-20T16:58:08.498Z"
   },
   {
    "duration": 10,
    "start_time": "2023-01-20T16:58:08.843Z"
   },
   {
    "duration": 5051,
    "start_time": "2023-01-20T16:58:12.051Z"
   },
   {
    "duration": 108,
    "start_time": "2023-01-20T16:58:59.804Z"
   },
   {
    "duration": 177,
    "start_time": "2023-01-20T17:04:34.814Z"
   },
   {
    "duration": 2,
    "start_time": "2023-01-20T17:04:38.422Z"
   },
   {
    "duration": 20,
    "start_time": "2023-01-20T17:04:39.454Z"
   },
   {
    "duration": 5045,
    "start_time": "2023-01-20T17:05:54.607Z"
   },
   {
    "duration": 3,
    "start_time": "2023-01-20T17:05:59.654Z"
   },
   {
    "duration": 20,
    "start_time": "2023-01-20T17:06:01.821Z"
   },
   {
    "duration": 110,
    "start_time": "2023-01-20T17:06:12.983Z"
   },
   {
    "duration": 63,
    "start_time": "2023-01-20T17:06:32.351Z"
   },
   {
    "duration": 2085,
    "start_time": "2023-01-20T17:06:40.574Z"
   },
   {
    "duration": 231,
    "start_time": "2023-01-20T17:06:44.885Z"
   },
   {
    "duration": 85,
    "start_time": "2023-01-20T17:06:53.751Z"
   },
   {
    "duration": 1312,
    "start_time": "2023-01-20T17:06:55.105Z"
   },
   {
    "duration": 18,
    "start_time": "2023-01-20T17:06:59.525Z"
   },
   {
    "duration": 1502,
    "start_time": "2023-01-20T17:07:32.771Z"
   },
   {
    "duration": 2875,
    "start_time": "2023-01-20T17:07:34.275Z"
   },
   {
    "duration": 131,
    "start_time": "2023-01-20T17:07:37.151Z"
   },
   {
    "duration": 3,
    "start_time": "2023-01-20T17:07:37.284Z"
   },
   {
    "duration": 28,
    "start_time": "2023-01-20T17:07:37.289Z"
   },
   {
    "duration": 65,
    "start_time": "2023-01-20T17:07:37.319Z"
   },
   {
    "duration": 3,
    "start_time": "2023-01-20T17:07:37.385Z"
   },
   {
    "duration": 137,
    "start_time": "2023-01-20T17:07:37.390Z"
   },
   {
    "duration": 466,
    "start_time": "2023-01-20T17:07:37.529Z"
   },
   {
    "duration": 38,
    "start_time": "2023-01-20T17:07:37.997Z"
   },
   {
    "duration": 89,
    "start_time": "2023-01-20T17:07:38.047Z"
   },
   {
    "duration": 101,
    "start_time": "2023-01-20T17:07:38.147Z"
   },
   {
    "duration": 125,
    "start_time": "2023-01-20T17:07:38.250Z"
   },
   {
    "duration": 82,
    "start_time": "2023-01-20T17:07:38.377Z"
   },
   {
    "duration": 340,
    "start_time": "2023-01-20T17:07:38.461Z"
   },
   {
    "duration": 5499,
    "start_time": "2023-01-20T17:07:38.803Z"
   },
   {
    "duration": 3,
    "start_time": "2023-01-20T17:07:44.303Z"
   },
   {
    "duration": 27,
    "start_time": "2023-01-20T17:07:44.307Z"
   },
   {
    "duration": 81,
    "start_time": "2023-01-20T17:07:44.336Z"
   },
   {
    "duration": 226,
    "start_time": "2023-01-20T17:07:48.151Z"
   },
   {
    "duration": 1989,
    "start_time": "2023-01-20T17:07:54.487Z"
   },
   {
    "duration": 447,
    "start_time": "2023-01-20T17:08:01.454Z"
   },
   {
    "duration": 17,
    "start_time": "2023-01-20T17:08:04.601Z"
   },
   {
    "duration": 4,
    "start_time": "2023-01-20T17:08:27.935Z"
   },
   {
    "duration": 293,
    "start_time": "2023-01-20T17:08:35.440Z"
   },
   {
    "duration": 45,
    "start_time": "2023-01-20T17:08:43.938Z"
   },
   {
    "duration": 1430,
    "start_time": "2023-01-20T17:08:51.689Z"
   },
   {
    "duration": 2800,
    "start_time": "2023-01-20T17:08:53.121Z"
   },
   {
    "duration": 122,
    "start_time": "2023-01-20T17:08:55.923Z"
   },
   {
    "duration": 72,
    "start_time": "2023-01-20T17:08:56.047Z"
   },
   {
    "duration": 21,
    "start_time": "2023-01-20T17:08:56.122Z"
   },
   {
    "duration": 49,
    "start_time": "2023-01-20T17:08:56.144Z"
   },
   {
    "duration": 3,
    "start_time": "2023-01-20T17:08:56.195Z"
   },
   {
    "duration": 125,
    "start_time": "2023-01-20T17:08:56.199Z"
   },
   {
    "duration": 457,
    "start_time": "2023-01-20T17:08:56.325Z"
   },
   {
    "duration": 36,
    "start_time": "2023-01-20T17:08:56.784Z"
   },
   {
    "duration": 98,
    "start_time": "2023-01-20T17:08:56.822Z"
   },
   {
    "duration": 90,
    "start_time": "2023-01-20T17:08:56.922Z"
   },
   {
    "duration": 125,
    "start_time": "2023-01-20T17:08:57.013Z"
   },
   {
    "duration": 69,
    "start_time": "2023-01-20T17:08:57.147Z"
   },
   {
    "duration": 337,
    "start_time": "2023-01-20T17:08:57.218Z"
   },
   {
    "duration": 5664,
    "start_time": "2023-01-20T17:08:57.557Z"
   },
   {
    "duration": 3,
    "start_time": "2023-01-20T17:09:03.222Z"
   },
   {
    "duration": 49,
    "start_time": "2023-01-20T17:09:03.226Z"
   },
   {
    "duration": 89,
    "start_time": "2023-01-20T17:09:03.277Z"
   },
   {
    "duration": 218,
    "start_time": "2023-01-20T17:09:03.367Z"
   },
   {
    "duration": 2052,
    "start_time": "2023-01-20T17:09:03.587Z"
   },
   {
    "duration": 444,
    "start_time": "2023-01-20T17:09:05.641Z"
   },
   {
    "duration": 17,
    "start_time": "2023-01-20T17:09:06.087Z"
   },
   {
    "duration": 8,
    "start_time": "2023-01-20T17:09:06.106Z"
   },
   {
    "duration": 301,
    "start_time": "2023-01-20T17:09:06.115Z"
   },
   {
    "duration": 48,
    "start_time": "2023-01-20T17:11:11.160Z"
   },
   {
    "duration": 1427,
    "start_time": "2023-01-20T17:11:48.740Z"
   },
   {
    "duration": 2737,
    "start_time": "2023-01-20T17:11:50.169Z"
   },
   {
    "duration": 130,
    "start_time": "2023-01-20T17:11:52.908Z"
   },
   {
    "duration": 3,
    "start_time": "2023-01-20T17:11:53.040Z"
   },
   {
    "duration": 17,
    "start_time": "2023-01-20T17:11:53.047Z"
   },
   {
    "duration": 54,
    "start_time": "2023-01-20T17:11:53.065Z"
   },
   {
    "duration": 3,
    "start_time": "2023-01-20T17:11:53.121Z"
   },
   {
    "duration": 150,
    "start_time": "2023-01-20T17:11:53.125Z"
   },
   {
    "duration": 445,
    "start_time": "2023-01-20T17:11:53.276Z"
   },
   {
    "duration": 38,
    "start_time": "2023-01-20T17:11:53.723Z"
   },
   {
    "duration": 95,
    "start_time": "2023-01-20T17:11:53.763Z"
   },
   {
    "duration": 104,
    "start_time": "2023-01-20T17:11:53.859Z"
   },
   {
    "duration": 148,
    "start_time": "2023-01-20T17:11:53.965Z"
   },
   {
    "duration": 92,
    "start_time": "2023-01-20T17:11:54.116Z"
   },
   {
    "duration": 345,
    "start_time": "2023-01-20T17:11:54.210Z"
   },
   {
    "duration": 15,
    "start_time": "2023-01-20T17:11:55.231Z"
   },
   {
    "duration": 5,
    "start_time": "2023-01-20T17:12:48.590Z"
   },
   {
    "duration": 770,
    "start_time": "2023-01-20T17:12:48.596Z"
   },
   {
    "duration": 134,
    "start_time": "2023-01-20T17:12:49.368Z"
   },
   {
    "duration": 3,
    "start_time": "2023-01-20T17:12:49.504Z"
   },
   {
    "duration": 16,
    "start_time": "2023-01-20T17:12:49.509Z"
   },
   {
    "duration": 43,
    "start_time": "2023-01-20T17:12:49.527Z"
   },
   {
    "duration": 3,
    "start_time": "2023-01-20T17:12:49.572Z"
   },
   {
    "duration": 143,
    "start_time": "2023-01-20T17:12:49.576Z"
   },
   {
    "duration": 435,
    "start_time": "2023-01-20T17:12:49.721Z"
   },
   {
    "duration": 27,
    "start_time": "2023-01-20T17:12:50.158Z"
   },
   {
    "duration": 103,
    "start_time": "2023-01-20T17:12:50.186Z"
   },
   {
    "duration": 95,
    "start_time": "2023-01-20T17:12:50.290Z"
   },
   {
    "duration": 132,
    "start_time": "2023-01-20T17:12:50.386Z"
   },
   {
    "duration": 85,
    "start_time": "2023-01-20T17:12:50.520Z"
   },
   {
    "duration": 86,
    "start_time": "2023-01-20T17:12:50.607Z"
   },
   {
    "duration": 66,
    "start_time": "2023-01-20T17:13:09.279Z"
   },
   {
    "duration": 64,
    "start_time": "2023-01-20T17:13:16.666Z"
   },
   {
    "duration": 515,
    "start_time": "2023-01-20T17:14:50.896Z"
   },
   {
    "duration": 4,
    "start_time": "2023-01-20T17:15:06.963Z"
   },
   {
    "duration": 803,
    "start_time": "2023-01-20T17:15:06.969Z"
   },
   {
    "duration": 137,
    "start_time": "2023-01-20T17:15:07.774Z"
   },
   {
    "duration": 3,
    "start_time": "2023-01-20T17:15:07.913Z"
   },
   {
    "duration": 16,
    "start_time": "2023-01-20T17:15:07.919Z"
   },
   {
    "duration": 49,
    "start_time": "2023-01-20T17:15:07.937Z"
   },
   {
    "duration": 3,
    "start_time": "2023-01-20T17:15:07.988Z"
   },
   {
    "duration": 145,
    "start_time": "2023-01-20T17:15:07.993Z"
   },
   {
    "duration": 453,
    "start_time": "2023-01-20T17:15:08.140Z"
   },
   {
    "duration": 25,
    "start_time": "2023-01-20T17:15:08.595Z"
   },
   {
    "duration": 127,
    "start_time": "2023-01-20T17:15:08.622Z"
   },
   {
    "duration": 86,
    "start_time": "2023-01-20T17:15:08.751Z"
   },
   {
    "duration": 156,
    "start_time": "2023-01-20T17:15:08.840Z"
   },
   {
    "duration": 87,
    "start_time": "2023-01-20T17:15:08.997Z"
   },
   {
    "duration": 73,
    "start_time": "2023-01-20T17:15:09.085Z"
   },
   {
    "duration": 358,
    "start_time": "2023-01-20T17:15:09.160Z"
   },
   {
    "duration": 16,
    "start_time": "2023-01-20T17:15:09.520Z"
   },
   {
    "duration": 4943,
    "start_time": "2023-01-20T17:15:09.538Z"
   },
   {
    "duration": 3,
    "start_time": "2023-01-20T17:15:14.482Z"
   },
   {
    "duration": 21,
    "start_time": "2023-01-20T17:15:14.486Z"
   },
   {
    "duration": 78,
    "start_time": "2023-01-20T17:15:14.509Z"
   },
   {
    "duration": 226,
    "start_time": "2023-01-20T17:15:14.588Z"
   },
   {
    "duration": 2141,
    "start_time": "2023-01-20T17:15:14.816Z"
   },
   {
    "duration": 374,
    "start_time": "2023-01-20T17:15:16.962Z"
   },
   {
    "duration": 23,
    "start_time": "2023-01-20T17:15:17.338Z"
   },
   {
    "duration": 15,
    "start_time": "2023-01-20T17:15:17.364Z"
   },
   {
    "duration": 4,
    "start_time": "2023-01-20T17:18:05.090Z"
   },
   {
    "duration": 821,
    "start_time": "2023-01-20T17:18:05.096Z"
   },
   {
    "duration": 146,
    "start_time": "2023-01-20T17:18:05.919Z"
   },
   {
    "duration": 3,
    "start_time": "2023-01-20T17:18:06.067Z"
   },
   {
    "duration": 18,
    "start_time": "2023-01-20T17:18:06.072Z"
   },
   {
    "duration": 58,
    "start_time": "2023-01-20T17:18:06.092Z"
   },
   {
    "duration": 4,
    "start_time": "2023-01-20T17:18:06.153Z"
   },
   {
    "duration": 139,
    "start_time": "2023-01-20T17:18:06.159Z"
   },
   {
    "duration": 419,
    "start_time": "2023-01-20T17:18:06.299Z"
   },
   {
    "duration": 30,
    "start_time": "2023-01-20T17:18:06.720Z"
   },
   {
    "duration": 106,
    "start_time": "2023-01-20T17:18:06.752Z"
   },
   {
    "duration": 94,
    "start_time": "2023-01-20T17:18:06.860Z"
   },
   {
    "duration": 144,
    "start_time": "2023-01-20T17:18:06.956Z"
   },
   {
    "duration": 91,
    "start_time": "2023-01-20T17:18:07.103Z"
   },
   {
    "duration": 80,
    "start_time": "2023-01-20T17:18:07.196Z"
   },
   {
    "duration": 367,
    "start_time": "2023-01-20T17:18:07.277Z"
   },
   {
    "duration": 19,
    "start_time": "2023-01-20T17:18:07.646Z"
   },
   {
    "duration": 3909,
    "start_time": "2023-01-20T17:18:07.666Z"
   },
   {
    "duration": 2,
    "start_time": "2023-01-20T17:18:11.576Z"
   },
   {
    "duration": 30,
    "start_time": "2023-01-20T17:18:11.580Z"
   },
   {
    "duration": 72,
    "start_time": "2023-01-20T17:18:11.611Z"
   },
   {
    "duration": 229,
    "start_time": "2023-01-20T17:18:11.684Z"
   },
   {
    "duration": 1982,
    "start_time": "2023-01-20T17:18:11.916Z"
   },
   {
    "duration": 386,
    "start_time": "2023-01-20T17:18:13.900Z"
   },
   {
    "duration": 16,
    "start_time": "2023-01-20T17:18:14.287Z"
   },
   {
    "duration": 8,
    "start_time": "2023-01-20T17:18:14.305Z"
   },
   {
    "duration": 1467,
    "start_time": "2023-01-20T17:18:22.362Z"
   },
   {
    "duration": 3094,
    "start_time": "2023-01-20T17:18:23.831Z"
   },
   {
    "duration": 124,
    "start_time": "2023-01-20T17:18:26.926Z"
   },
   {
    "duration": 3,
    "start_time": "2023-01-20T17:18:27.051Z"
   },
   {
    "duration": 17,
    "start_time": "2023-01-20T17:18:27.056Z"
   },
   {
    "duration": 50,
    "start_time": "2023-01-20T17:18:27.074Z"
   },
   {
    "duration": 23,
    "start_time": "2023-01-20T17:18:27.125Z"
   },
   {
    "duration": 120,
    "start_time": "2023-01-20T17:18:27.150Z"
   },
   {
    "duration": 443,
    "start_time": "2023-01-20T17:18:27.271Z"
   },
   {
    "duration": 43,
    "start_time": "2023-01-20T17:18:27.715Z"
   },
   {
    "duration": 90,
    "start_time": "2023-01-20T17:18:27.760Z"
   },
   {
    "duration": 96,
    "start_time": "2023-01-20T17:18:27.852Z"
   },
   {
    "duration": 127,
    "start_time": "2023-01-20T17:18:27.950Z"
   },
   {
    "duration": 74,
    "start_time": "2023-01-20T17:18:28.080Z"
   },
   {
    "duration": 63,
    "start_time": "2023-01-20T17:18:28.156Z"
   },
   {
    "duration": 356,
    "start_time": "2023-01-20T17:18:28.221Z"
   },
   {
    "duration": 17,
    "start_time": "2023-01-20T17:18:28.579Z"
   },
   {
    "duration": 5159,
    "start_time": "2023-01-20T17:18:28.598Z"
   },
   {
    "duration": 3,
    "start_time": "2023-01-20T17:18:33.758Z"
   },
   {
    "duration": 63,
    "start_time": "2023-01-20T17:18:33.762Z"
   },
   {
    "duration": 82,
    "start_time": "2023-01-20T17:18:33.827Z"
   },
   {
    "duration": 230,
    "start_time": "2023-01-20T17:18:33.910Z"
   },
   {
    "duration": 1930,
    "start_time": "2023-01-20T17:18:34.142Z"
   },
   {
    "duration": 363,
    "start_time": "2023-01-20T17:18:36.074Z"
   },
   {
    "duration": 19,
    "start_time": "2023-01-20T17:18:36.438Z"
   },
   {
    "duration": 7,
    "start_time": "2023-01-20T17:18:36.458Z"
   },
   {
    "duration": 299,
    "start_time": "2023-01-20T17:18:36.466Z"
   },
   {
    "duration": 1485,
    "start_time": "2023-01-20T17:22:11.439Z"
   },
   {
    "duration": 2999,
    "start_time": "2023-01-20T17:22:12.926Z"
   },
   {
    "duration": 139,
    "start_time": "2023-01-20T17:22:15.927Z"
   },
   {
    "duration": 2,
    "start_time": "2023-01-20T17:22:16.068Z"
   },
   {
    "duration": 16,
    "start_time": "2023-01-20T17:22:16.073Z"
   },
   {
    "duration": 71,
    "start_time": "2023-01-20T17:22:16.091Z"
   },
   {
    "duration": 3,
    "start_time": "2023-01-20T17:22:16.164Z"
   },
   {
    "duration": 132,
    "start_time": "2023-01-20T17:22:16.168Z"
   },
   {
    "duration": 449,
    "start_time": "2023-01-20T17:22:16.302Z"
   },
   {
    "duration": 38,
    "start_time": "2023-01-20T17:22:16.753Z"
   },
   {
    "duration": 108,
    "start_time": "2023-01-20T17:22:16.793Z"
   },
   {
    "duration": 109,
    "start_time": "2023-01-20T17:22:16.903Z"
   },
   {
    "duration": 129,
    "start_time": "2023-01-20T17:22:17.014Z"
   },
   {
    "duration": 79,
    "start_time": "2023-01-20T17:22:17.146Z"
   },
   {
    "duration": 81,
    "start_time": "2023-01-20T17:22:17.226Z"
   },
   {
    "duration": 379,
    "start_time": "2023-01-20T17:22:17.309Z"
   },
   {
    "duration": 15,
    "start_time": "2023-01-20T17:22:17.690Z"
   },
   {
    "duration": 4404,
    "start_time": "2023-01-20T17:22:17.707Z"
   },
   {
    "duration": 2,
    "start_time": "2023-01-20T17:22:22.113Z"
   },
   {
    "duration": 33,
    "start_time": "2023-01-20T17:22:22.117Z"
   },
   {
    "duration": 84,
    "start_time": "2023-01-20T17:22:22.152Z"
   },
   {
    "duration": 232,
    "start_time": "2023-01-20T17:22:22.238Z"
   },
   {
    "duration": 2007,
    "start_time": "2023-01-20T17:22:22.472Z"
   },
   {
    "duration": 367,
    "start_time": "2023-01-20T17:22:24.481Z"
   },
   {
    "duration": 23,
    "start_time": "2023-01-20T17:22:24.851Z"
   },
   {
    "duration": 7,
    "start_time": "2023-01-20T17:22:24.875Z"
   },
   {
    "duration": 314,
    "start_time": "2023-01-20T17:22:24.884Z"
   },
   {
    "duration": 1418,
    "start_time": "2023-01-20T17:22:53.460Z"
   },
   {
    "duration": 2772,
    "start_time": "2023-01-20T17:22:54.880Z"
   },
   {
    "duration": 131,
    "start_time": "2023-01-20T17:22:57.654Z"
   },
   {
    "duration": 3,
    "start_time": "2023-01-20T17:22:57.787Z"
   },
   {
    "duration": 16,
    "start_time": "2023-01-20T17:22:57.792Z"
   },
   {
    "duration": 66,
    "start_time": "2023-01-20T17:22:57.810Z"
   },
   {
    "duration": 2,
    "start_time": "2023-01-20T17:22:57.878Z"
   },
   {
    "duration": 152,
    "start_time": "2023-01-20T17:22:57.882Z"
   },
   {
    "duration": 448,
    "start_time": "2023-01-20T17:22:58.036Z"
   },
   {
    "duration": 38,
    "start_time": "2023-01-20T17:22:58.485Z"
   },
   {
    "duration": 98,
    "start_time": "2023-01-20T17:22:58.525Z"
   },
   {
    "duration": 97,
    "start_time": "2023-01-20T17:22:58.625Z"
   },
   {
    "duration": 129,
    "start_time": "2023-01-20T17:22:58.724Z"
   },
   {
    "duration": 69,
    "start_time": "2023-01-20T17:22:58.856Z"
   },
   {
    "duration": 75,
    "start_time": "2023-01-20T17:22:58.927Z"
   },
   {
    "duration": 333,
    "start_time": "2023-01-20T17:22:59.003Z"
   },
   {
    "duration": 18,
    "start_time": "2023-01-20T17:22:59.337Z"
   },
   {
    "duration": 4659,
    "start_time": "2023-01-20T17:22:59.356Z"
   },
   {
    "duration": 2,
    "start_time": "2023-01-20T17:23:04.017Z"
   },
   {
    "duration": 27,
    "start_time": "2023-01-20T17:23:04.021Z"
   },
   {
    "duration": 71,
    "start_time": "2023-01-20T17:23:04.049Z"
   },
   {
    "duration": 229,
    "start_time": "2023-01-20T17:23:04.122Z"
   },
   {
    "duration": 1889,
    "start_time": "2023-01-20T17:23:04.353Z"
   },
   {
    "duration": 358,
    "start_time": "2023-01-20T17:23:06.244Z"
   },
   {
    "duration": 16,
    "start_time": "2023-01-20T17:23:06.603Z"
   },
   {
    "duration": 6,
    "start_time": "2023-01-20T17:23:06.621Z"
   },
   {
    "duration": 296,
    "start_time": "2023-01-20T17:23:06.629Z"
   },
   {
    "duration": 1459,
    "start_time": "2023-01-20T17:23:20.326Z"
   },
   {
    "duration": 2910,
    "start_time": "2023-01-20T17:23:21.787Z"
   },
   {
    "duration": 120,
    "start_time": "2023-01-20T17:23:24.699Z"
   },
   {
    "duration": 3,
    "start_time": "2023-01-20T17:23:24.820Z"
   },
   {
    "duration": 24,
    "start_time": "2023-01-20T17:23:24.825Z"
   },
   {
    "duration": 50,
    "start_time": "2023-01-20T17:23:24.850Z"
   },
   {
    "duration": 3,
    "start_time": "2023-01-20T17:23:24.901Z"
   },
   {
    "duration": 143,
    "start_time": "2023-01-20T17:23:24.905Z"
   },
   {
    "duration": 464,
    "start_time": "2023-01-20T17:23:25.049Z"
   },
   {
    "duration": 44,
    "start_time": "2023-01-20T17:23:25.515Z"
   },
   {
    "duration": 91,
    "start_time": "2023-01-20T17:23:25.561Z"
   },
   {
    "duration": 80,
    "start_time": "2023-01-20T17:23:25.654Z"
   },
   {
    "duration": 129,
    "start_time": "2023-01-20T17:23:25.736Z"
   },
   {
    "duration": 82,
    "start_time": "2023-01-20T17:23:25.868Z"
   },
   {
    "duration": 71,
    "start_time": "2023-01-20T17:23:25.951Z"
   },
   {
    "duration": 347,
    "start_time": "2023-01-20T17:23:26.023Z"
   },
   {
    "duration": 15,
    "start_time": "2023-01-20T17:23:26.371Z"
   },
   {
    "duration": 4355,
    "start_time": "2023-01-20T17:23:26.387Z"
   },
   {
    "duration": 2,
    "start_time": "2023-01-20T17:23:30.744Z"
   },
   {
    "duration": 41,
    "start_time": "2023-01-20T17:23:30.748Z"
   },
   {
    "duration": 69,
    "start_time": "2023-01-20T17:23:35.891Z"
   },
   {
    "duration": 207,
    "start_time": "2023-01-20T17:23:38.380Z"
   },
   {
    "duration": 1905,
    "start_time": "2023-01-20T17:23:41.795Z"
   },
   {
    "duration": 353,
    "start_time": "2023-01-20T17:23:50.749Z"
   },
   {
    "duration": 15,
    "start_time": "2023-01-20T17:23:53.518Z"
   },
   {
    "duration": 4,
    "start_time": "2023-01-20T17:23:56.258Z"
   },
   {
    "duration": 286,
    "start_time": "2023-01-20T17:23:58.690Z"
   },
   {
    "duration": 44,
    "start_time": "2023-01-20T17:24:14.475Z"
   },
   {
    "duration": 1437,
    "start_time": "2023-01-20T17:24:21.954Z"
   },
   {
    "duration": 2785,
    "start_time": "2023-01-20T17:24:23.393Z"
   },
   {
    "duration": 125,
    "start_time": "2023-01-20T17:24:26.180Z"
   },
   {
    "duration": 3,
    "start_time": "2023-01-20T17:24:26.307Z"
   },
   {
    "duration": 24,
    "start_time": "2023-01-20T17:24:26.312Z"
   },
   {
    "duration": 55,
    "start_time": "2023-01-20T17:24:26.338Z"
   },
   {
    "duration": 2,
    "start_time": "2023-01-20T17:24:26.395Z"
   },
   {
    "duration": 128,
    "start_time": "2023-01-20T17:24:26.399Z"
   },
   {
    "duration": 435,
    "start_time": "2023-01-20T17:24:26.528Z"
   },
   {
    "duration": 37,
    "start_time": "2023-01-20T17:24:26.965Z"
   },
   {
    "duration": 97,
    "start_time": "2023-01-20T17:24:27.003Z"
   },
   {
    "duration": 87,
    "start_time": "2023-01-20T17:24:27.101Z"
   },
   {
    "duration": 131,
    "start_time": "2023-01-20T17:24:27.190Z"
   },
   {
    "duration": 83,
    "start_time": "2023-01-20T17:24:27.323Z"
   },
   {
    "duration": 72,
    "start_time": "2023-01-20T17:24:27.408Z"
   },
   {
    "duration": 336,
    "start_time": "2023-01-20T17:24:27.482Z"
   },
   {
    "duration": 15,
    "start_time": "2023-01-20T17:24:27.820Z"
   },
   {
    "duration": 4475,
    "start_time": "2023-01-20T17:24:27.836Z"
   },
   {
    "duration": 3,
    "start_time": "2023-01-20T17:24:32.312Z"
   },
   {
    "duration": 27,
    "start_time": "2023-01-20T17:24:32.316Z"
   },
   {
    "duration": 65,
    "start_time": "2023-01-20T17:24:32.348Z"
   },
   {
    "duration": 222,
    "start_time": "2023-01-20T17:24:32.414Z"
   },
   {
    "duration": 1814,
    "start_time": "2023-01-20T17:24:32.637Z"
   },
   {
    "duration": 363,
    "start_time": "2023-01-20T17:24:34.453Z"
   },
   {
    "duration": 19,
    "start_time": "2023-01-20T17:24:34.818Z"
   },
   {
    "duration": 5,
    "start_time": "2023-01-20T17:24:34.849Z"
   },
   {
    "duration": 302,
    "start_time": "2023-01-20T17:24:34.855Z"
   },
   {
    "duration": 1507,
    "start_time": "2023-01-20T17:28:54.864Z"
   },
   {
    "duration": 3015,
    "start_time": "2023-01-20T17:28:56.374Z"
   },
   {
    "duration": 128,
    "start_time": "2023-01-20T17:28:59.391Z"
   },
   {
    "duration": 3,
    "start_time": "2023-01-20T17:28:59.521Z"
   },
   {
    "duration": 23,
    "start_time": "2023-01-20T17:28:59.526Z"
   },
   {
    "duration": 53,
    "start_time": "2023-01-20T17:28:59.551Z"
   },
   {
    "duration": 3,
    "start_time": "2023-01-20T17:28:59.605Z"
   },
   {
    "duration": 195,
    "start_time": "2023-01-20T17:28:59.609Z"
   },
   {
    "duration": 510,
    "start_time": "2023-01-20T17:28:59.805Z"
   },
   {
    "duration": 50,
    "start_time": "2023-01-20T17:29:00.317Z"
   },
   {
    "duration": 100,
    "start_time": "2023-01-20T17:29:00.368Z"
   },
   {
    "duration": 98,
    "start_time": "2023-01-20T17:29:00.470Z"
   },
   {
    "duration": 139,
    "start_time": "2023-01-20T17:29:00.570Z"
   },
   {
    "duration": 95,
    "start_time": "2023-01-20T17:29:00.712Z"
   },
   {
    "duration": 82,
    "start_time": "2023-01-20T17:29:00.808Z"
   },
   {
    "duration": 409,
    "start_time": "2023-01-20T17:29:00.891Z"
   },
   {
    "duration": 16,
    "start_time": "2023-01-20T17:29:01.302Z"
   },
   {
    "duration": 4687,
    "start_time": "2023-01-20T17:29:01.319Z"
   },
   {
    "duration": 2,
    "start_time": "2023-01-20T17:29:06.008Z"
   },
   {
    "duration": 23,
    "start_time": "2023-01-20T17:29:06.011Z"
   },
   {
    "duration": 79,
    "start_time": "2023-01-20T17:29:06.036Z"
   },
   {
    "duration": 220,
    "start_time": "2023-01-20T17:29:06.116Z"
   },
   {
    "duration": 1941,
    "start_time": "2023-01-20T17:29:06.338Z"
   },
   {
    "duration": 375,
    "start_time": "2023-01-20T17:29:08.280Z"
   },
   {
    "duration": 16,
    "start_time": "2023-01-20T17:29:08.660Z"
   },
   {
    "duration": 10,
    "start_time": "2023-01-20T17:29:08.678Z"
   },
   {
    "duration": 318,
    "start_time": "2023-01-20T17:29:08.689Z"
   },
   {
    "duration": 2113,
    "start_time": "2023-01-20T18:36:08.181Z"
   },
   {
    "duration": 1475,
    "start_time": "2023-01-20T18:36:10.297Z"
   },
   {
    "duration": 111,
    "start_time": "2023-01-20T18:36:11.774Z"
   },
   {
    "duration": 34,
    "start_time": "2023-01-20T18:36:11.887Z"
   },
   {
    "duration": 43,
    "start_time": "2023-01-20T18:36:11.923Z"
   },
   {
    "duration": 129,
    "start_time": "2023-01-20T18:36:11.968Z"
   },
   {
    "duration": 5,
    "start_time": "2023-01-20T18:36:12.099Z"
   },
   {
    "duration": 151,
    "start_time": "2023-01-20T18:36:12.109Z"
   },
   {
    "duration": 497,
    "start_time": "2023-01-20T18:36:12.262Z"
   },
   {
    "duration": 77,
    "start_time": "2023-01-20T18:36:12.761Z"
   },
   {
    "duration": 150,
    "start_time": "2023-01-20T18:36:12.840Z"
   },
   {
    "duration": 126,
    "start_time": "2023-01-20T18:36:12.992Z"
   },
   {
    "duration": 159,
    "start_time": "2023-01-20T18:36:13.122Z"
   },
   {
    "duration": 89,
    "start_time": "2023-01-20T18:36:13.284Z"
   },
   {
    "duration": 64,
    "start_time": "2023-01-20T18:36:13.375Z"
   },
   {
    "duration": 408,
    "start_time": "2023-01-20T18:36:13.441Z"
   },
   {
    "duration": 16,
    "start_time": "2023-01-20T18:36:13.851Z"
   },
   {
    "duration": 6758,
    "start_time": "2023-01-20T18:36:13.868Z"
   },
   {
    "duration": 4,
    "start_time": "2023-01-20T18:36:20.635Z"
   },
   {
    "duration": 60,
    "start_time": "2023-01-20T18:36:20.641Z"
   },
   {
    "duration": 130,
    "start_time": "2023-01-20T18:36:20.702Z"
   },
   {
    "duration": 414,
    "start_time": "2023-01-20T18:36:20.834Z"
   },
   {
    "duration": 2039,
    "start_time": "2023-01-20T18:36:21.250Z"
   },
   {
    "duration": 1700,
    "start_time": "2023-01-20T18:36:23.291Z"
   },
   {
    "duration": 30,
    "start_time": "2023-01-20T18:36:24.993Z"
   },
   {
    "duration": 37,
    "start_time": "2023-01-20T18:36:25.025Z"
   },
   {
    "duration": 1280,
    "start_time": "2023-01-20T18:36:25.063Z"
   },
   {
    "duration": 1709,
    "start_time": "2023-01-20T18:44:16.878Z"
   },
   {
    "duration": 1178,
    "start_time": "2023-01-20T18:44:18.589Z"
   },
   {
    "duration": 128,
    "start_time": "2023-01-20T18:44:19.769Z"
   },
   {
    "duration": 8,
    "start_time": "2023-01-20T18:44:19.899Z"
   },
   {
    "duration": 27,
    "start_time": "2023-01-20T18:44:19.911Z"
   },
   {
    "duration": 55,
    "start_time": "2023-01-20T18:44:19.940Z"
   },
   {
    "duration": 10,
    "start_time": "2023-01-20T18:44:19.997Z"
   },
   {
    "duration": 131,
    "start_time": "2023-01-20T18:44:20.009Z"
   },
   {
    "duration": 549,
    "start_time": "2023-01-20T18:44:20.141Z"
   },
   {
    "duration": 48,
    "start_time": "2023-01-20T18:44:20.693Z"
   },
   {
    "duration": 95,
    "start_time": "2023-01-20T18:44:20.743Z"
   },
   {
    "duration": 102,
    "start_time": "2023-01-20T18:44:20.839Z"
   },
   {
    "duration": 133,
    "start_time": "2023-01-20T18:44:20.943Z"
   },
   {
    "duration": 88,
    "start_time": "2023-01-20T18:44:21.078Z"
   },
   {
    "duration": 65,
    "start_time": "2023-01-20T18:44:21.168Z"
   },
   {
    "duration": 372,
    "start_time": "2023-01-20T18:44:21.235Z"
   },
   {
    "duration": 21,
    "start_time": "2023-01-20T18:44:21.612Z"
   },
   {
    "duration": 819,
    "start_time": "2023-01-20T18:44:21.634Z"
   },
   {
    "duration": 3,
    "start_time": "2023-01-20T18:44:22.456Z"
   },
   {
    "duration": 52,
    "start_time": "2023-01-20T18:44:22.461Z"
   },
   {
    "duration": 95,
    "start_time": "2023-01-20T18:44:22.519Z"
   },
   {
    "duration": 45,
    "start_time": "2023-01-20T18:44:22.616Z"
   },
   {
    "duration": 2132,
    "start_time": "2023-01-20T18:44:22.663Z"
   },
   {
    "duration": 91,
    "start_time": "2023-01-20T18:44:24.797Z"
   },
   {
    "duration": 83,
    "start_time": "2023-01-20T18:44:24.889Z"
   },
   {
    "duration": 4,
    "start_time": "2023-01-20T18:44:24.974Z"
   },
   {
    "duration": 168,
    "start_time": "2023-01-20T18:44:24.980Z"
   },
   {
    "duration": 420,
    "start_time": "2023-01-20T18:44:25.153Z"
   },
   {
    "duration": 4,
    "start_time": "2023-01-20T18:44:25.575Z"
   },
   {
    "duration": 433,
    "start_time": "2023-01-20T18:44:25.581Z"
   },
   {
    "duration": 3,
    "start_time": "2023-01-20T18:44:26.017Z"
   },
   {
    "duration": 29,
    "start_time": "2023-01-20T18:45:05.136Z"
   },
   {
    "duration": 4,
    "start_time": "2023-01-20T20:32:40.114Z"
   },
   {
    "duration": 856,
    "start_time": "2023-01-20T20:32:40.119Z"
   },
   {
    "duration": 111,
    "start_time": "2023-01-20T20:32:40.977Z"
   },
   {
    "duration": 3,
    "start_time": "2023-01-20T20:32:41.090Z"
   },
   {
    "duration": 19,
    "start_time": "2023-01-20T20:32:41.094Z"
   },
   {
    "duration": 53,
    "start_time": "2023-01-20T20:32:41.114Z"
   },
   {
    "duration": 3,
    "start_time": "2023-01-20T20:32:41.169Z"
   },
   {
    "duration": 119,
    "start_time": "2023-01-20T20:32:41.174Z"
   },
   {
    "duration": 457,
    "start_time": "2023-01-20T20:32:41.296Z"
   },
   {
    "duration": 27,
    "start_time": "2023-01-20T20:32:41.754Z"
   },
   {
    "duration": 93,
    "start_time": "2023-01-20T20:32:41.783Z"
   },
   {
    "duration": 89,
    "start_time": "2023-01-20T20:32:41.878Z"
   },
   {
    "duration": 117,
    "start_time": "2023-01-20T20:32:41.968Z"
   },
   {
    "duration": 77,
    "start_time": "2023-01-20T20:32:42.087Z"
   },
   {
    "duration": 58,
    "start_time": "2023-01-20T20:32:42.165Z"
   },
   {
    "duration": 331,
    "start_time": "2023-01-20T20:32:42.224Z"
   },
   {
    "duration": 15,
    "start_time": "2023-01-20T20:32:42.557Z"
   },
   {
    "duration": 877,
    "start_time": "2023-01-20T20:32:42.573Z"
   },
   {
    "duration": 2,
    "start_time": "2023-01-20T20:32:43.452Z"
   },
   {
    "duration": 35,
    "start_time": "2023-01-20T20:32:43.456Z"
   },
   {
    "duration": 75,
    "start_time": "2023-01-20T20:32:43.492Z"
   },
   {
    "duration": 46,
    "start_time": "2023-01-20T20:32:43.568Z"
   },
   {
    "duration": 2002,
    "start_time": "2023-01-20T20:32:43.615Z"
   },
   {
    "duration": 91,
    "start_time": "2023-01-20T20:32:45.619Z"
   },
   {
    "duration": 50,
    "start_time": "2023-01-20T20:32:45.711Z"
   },
   {
    "duration": 4,
    "start_time": "2023-01-20T20:32:45.763Z"
   },
   {
    "duration": 83,
    "start_time": "2023-01-20T20:32:45.769Z"
   },
   {
    "duration": 225,
    "start_time": "2023-01-20T20:32:45.854Z"
   },
   {
    "duration": 4,
    "start_time": "2023-01-20T20:32:46.081Z"
   },
   {
    "duration": 262,
    "start_time": "2023-01-20T20:32:46.086Z"
   },
   {
    "duration": 23,
    "start_time": "2023-01-20T20:32:46.350Z"
   },
   {
    "duration": 3,
    "start_time": "2023-01-20T20:32:46.375Z"
   },
   {
    "duration": 4,
    "start_time": "2023-01-20T20:32:55.616Z"
   },
   {
    "duration": 120,
    "start_time": "2023-01-20T20:33:21.893Z"
   },
   {
    "duration": 1529,
    "start_time": "2023-01-20T20:33:26.785Z"
   },
   {
    "duration": 1029,
    "start_time": "2023-01-20T20:33:28.316Z"
   },
   {
    "duration": 105,
    "start_time": "2023-01-20T20:33:29.347Z"
   },
   {
    "duration": 2,
    "start_time": "2023-01-20T20:33:29.455Z"
   },
   {
    "duration": 23,
    "start_time": "2023-01-20T20:33:29.459Z"
   },
   {
    "duration": 64,
    "start_time": "2023-01-20T20:33:29.483Z"
   },
   {
    "duration": 3,
    "start_time": "2023-01-20T20:33:29.549Z"
   },
   {
    "duration": 113,
    "start_time": "2023-01-20T20:33:29.553Z"
   },
   {
    "duration": 484,
    "start_time": "2023-01-20T20:33:29.668Z"
   },
   {
    "duration": 37,
    "start_time": "2023-01-20T20:33:30.155Z"
   },
   {
    "duration": 91,
    "start_time": "2023-01-20T20:33:30.194Z"
   },
   {
    "duration": 88,
    "start_time": "2023-01-20T20:33:30.287Z"
   },
   {
    "duration": 131,
    "start_time": "2023-01-20T20:33:30.377Z"
   },
   {
    "duration": 67,
    "start_time": "2023-01-20T20:33:30.510Z"
   },
   {
    "duration": 60,
    "start_time": "2023-01-20T20:33:30.579Z"
   },
   {
    "duration": 349,
    "start_time": "2023-01-20T20:33:30.641Z"
   },
   {
    "duration": 19,
    "start_time": "2023-01-20T20:33:30.992Z"
   },
   {
    "duration": 896,
    "start_time": "2023-01-20T20:33:31.013Z"
   },
   {
    "duration": 2,
    "start_time": "2023-01-20T20:33:31.911Z"
   },
   {
    "duration": 25,
    "start_time": "2023-01-20T20:33:31.915Z"
   },
   {
    "duration": 87,
    "start_time": "2023-01-20T20:33:31.941Z"
   },
   {
    "duration": 40,
    "start_time": "2023-01-20T20:33:32.030Z"
   },
   {
    "duration": 1852,
    "start_time": "2023-01-20T20:33:32.072Z"
   },
   {
    "duration": 88,
    "start_time": "2023-01-20T20:33:33.926Z"
   },
   {
    "duration": 58,
    "start_time": "2023-01-20T20:33:34.016Z"
   },
   {
    "duration": 4,
    "start_time": "2023-01-20T20:33:34.076Z"
   },
   {
    "duration": 77,
    "start_time": "2023-01-20T20:33:34.081Z"
   },
   {
    "duration": 218,
    "start_time": "2023-01-20T20:33:34.161Z"
   },
   {
    "duration": 5,
    "start_time": "2023-01-20T20:33:34.381Z"
   },
   {
    "duration": 292,
    "start_time": "2023-01-20T20:33:34.402Z"
   },
   {
    "duration": 26,
    "start_time": "2023-01-20T20:33:34.696Z"
   },
   {
    "duration": 17,
    "start_time": "2023-01-20T20:33:34.724Z"
   },
   {
    "duration": 10,
    "start_time": "2023-01-20T20:33:34.742Z"
   },
   {
    "duration": 3,
    "start_time": "2023-01-20T20:33:41.534Z"
   },
   {
    "duration": 1490,
    "start_time": "2023-01-21T15:39:35.263Z"
   },
   {
    "duration": 3219,
    "start_time": "2023-01-21T15:39:36.755Z"
   },
   {
    "duration": 134,
    "start_time": "2023-01-21T15:39:39.975Z"
   },
   {
    "duration": 2,
    "start_time": "2023-01-21T15:39:40.110Z"
   },
   {
    "duration": 18,
    "start_time": "2023-01-21T15:39:40.114Z"
   },
   {
    "duration": 59,
    "start_time": "2023-01-21T15:39:40.133Z"
   },
   {
    "duration": 3,
    "start_time": "2023-01-21T15:39:40.194Z"
   },
   {
    "duration": 133,
    "start_time": "2023-01-21T15:39:40.198Z"
   },
   {
    "duration": 399,
    "start_time": "2023-01-21T15:39:40.333Z"
   },
   {
    "duration": 37,
    "start_time": "2023-01-21T15:39:40.733Z"
   },
   {
    "duration": 91,
    "start_time": "2023-01-21T15:39:40.772Z"
   },
   {
    "duration": 92,
    "start_time": "2023-01-21T15:39:40.864Z"
   },
   {
    "duration": 128,
    "start_time": "2023-01-21T15:39:40.958Z"
   },
   {
    "duration": 76,
    "start_time": "2023-01-21T15:39:41.089Z"
   },
   {
    "duration": 66,
    "start_time": "2023-01-21T15:39:41.166Z"
   },
   {
    "duration": 346,
    "start_time": "2023-01-21T15:39:41.244Z"
   },
   {
    "duration": 19,
    "start_time": "2023-01-21T15:39:41.592Z"
   },
   {
    "duration": 742,
    "start_time": "2023-01-21T15:39:41.612Z"
   },
   {
    "duration": 2,
    "start_time": "2023-01-21T15:39:42.356Z"
   },
   {
    "duration": 23,
    "start_time": "2023-01-21T15:39:42.360Z"
   },
   {
    "duration": 82,
    "start_time": "2023-01-21T15:39:42.384Z"
   },
   {
    "duration": 38,
    "start_time": "2023-01-21T15:39:42.468Z"
   },
   {
    "duration": 1775,
    "start_time": "2023-01-21T15:39:42.508Z"
   },
   {
    "duration": 92,
    "start_time": "2023-01-21T15:39:44.284Z"
   },
   {
    "duration": 56,
    "start_time": "2023-01-21T15:39:44.377Z"
   },
   {
    "duration": 3,
    "start_time": "2023-01-21T15:39:44.443Z"
   },
   {
    "duration": 61,
    "start_time": "2023-01-21T15:39:44.448Z"
   },
   {
    "duration": 193,
    "start_time": "2023-01-21T15:39:44.511Z"
   },
   {
    "duration": 5,
    "start_time": "2023-01-21T15:39:44.706Z"
   },
   {
    "duration": 307,
    "start_time": "2023-01-21T15:39:44.712Z"
   },
   {
    "duration": 33,
    "start_time": "2023-01-21T15:39:45.021Z"
   },
   {
    "duration": 4,
    "start_time": "2023-01-21T15:39:45.057Z"
   },
   {
    "duration": 8,
    "start_time": "2023-01-21T15:39:45.063Z"
   },
   {
    "duration": 1337,
    "start_time": "2023-01-21T15:40:08.209Z"
   },
   {
    "duration": 2800,
    "start_time": "2023-01-21T15:40:09.548Z"
   },
   {
    "duration": 126,
    "start_time": "2023-01-21T15:40:12.350Z"
   },
   {
    "duration": 3,
    "start_time": "2023-01-21T15:40:12.478Z"
   },
   {
    "duration": 17,
    "start_time": "2023-01-21T15:40:12.482Z"
   },
   {
    "duration": 63,
    "start_time": "2023-01-21T15:40:12.501Z"
   },
   {
    "duration": 3,
    "start_time": "2023-01-21T15:40:12.565Z"
   },
   {
    "duration": 149,
    "start_time": "2023-01-21T15:40:12.570Z"
   },
   {
    "duration": 430,
    "start_time": "2023-01-21T15:40:12.721Z"
   },
   {
    "duration": 34,
    "start_time": "2023-01-21T15:40:13.152Z"
   },
   {
    "duration": 98,
    "start_time": "2023-01-21T15:40:13.187Z"
   },
   {
    "duration": 84,
    "start_time": "2023-01-21T15:40:13.287Z"
   },
   {
    "duration": 124,
    "start_time": "2023-01-21T15:40:13.373Z"
   },
   {
    "duration": 71,
    "start_time": "2023-01-21T15:40:13.499Z"
   },
   {
    "duration": 76,
    "start_time": "2023-01-21T15:40:13.571Z"
   },
   {
    "duration": 355,
    "start_time": "2023-01-21T15:40:13.649Z"
   },
   {
    "duration": 15,
    "start_time": "2023-01-21T15:40:14.008Z"
   },
   {
    "duration": 680,
    "start_time": "2023-01-21T15:40:14.025Z"
   },
   {
    "duration": 2,
    "start_time": "2023-01-21T15:40:14.706Z"
   },
   {
    "duration": 26,
    "start_time": "2023-01-21T15:40:14.710Z"
   },
   {
    "duration": 66,
    "start_time": "2023-01-21T15:40:14.738Z"
   },
   {
    "duration": 45,
    "start_time": "2023-01-21T15:40:14.805Z"
   },
   {
    "duration": 1869,
    "start_time": "2023-01-21T15:40:14.851Z"
   },
   {
    "duration": 89,
    "start_time": "2023-01-21T15:40:16.722Z"
   },
   {
    "duration": 66,
    "start_time": "2023-01-21T15:40:16.814Z"
   },
   {
    "duration": 4,
    "start_time": "2023-01-21T15:40:16.882Z"
   },
   {
    "duration": 71,
    "start_time": "2023-01-21T15:40:16.887Z"
   },
   {
    "duration": 185,
    "start_time": "2023-01-21T15:40:16.960Z"
   },
   {
    "duration": 4,
    "start_time": "2023-01-21T15:40:17.147Z"
   },
   {
    "duration": 273,
    "start_time": "2023-01-21T15:40:17.153Z"
   },
   {
    "duration": 31,
    "start_time": "2023-01-21T15:40:17.428Z"
   },
   {
    "duration": 3,
    "start_time": "2023-01-21T15:40:17.461Z"
   },
   {
    "duration": 9,
    "start_time": "2023-01-21T15:40:17.466Z"
   },
   {
    "duration": 3,
    "start_time": "2023-01-21T15:40:24.911Z"
   },
   {
    "duration": 82,
    "start_time": "2023-01-21T15:40:32.952Z"
   },
   {
    "duration": 1321,
    "start_time": "2023-01-21T15:40:36.400Z"
   },
   {
    "duration": 3011,
    "start_time": "2023-01-21T15:40:37.722Z"
   },
   {
    "duration": 124,
    "start_time": "2023-01-21T15:40:40.735Z"
   },
   {
    "duration": 2,
    "start_time": "2023-01-21T15:40:40.861Z"
   },
   {
    "duration": 16,
    "start_time": "2023-01-21T15:40:40.865Z"
   },
   {
    "duration": 68,
    "start_time": "2023-01-21T15:40:40.882Z"
   },
   {
    "duration": 3,
    "start_time": "2023-01-21T15:40:40.952Z"
   },
   {
    "duration": 133,
    "start_time": "2023-01-21T15:40:40.957Z"
   },
   {
    "duration": 421,
    "start_time": "2023-01-21T15:40:41.092Z"
   },
   {
    "duration": 32,
    "start_time": "2023-01-21T15:40:41.515Z"
   },
   {
    "duration": 101,
    "start_time": "2023-01-21T15:40:41.548Z"
   },
   {
    "duration": 97,
    "start_time": "2023-01-21T15:40:41.651Z"
   },
   {
    "duration": 122,
    "start_time": "2023-01-21T15:40:41.750Z"
   },
   {
    "duration": 76,
    "start_time": "2023-01-21T15:40:41.874Z"
   },
   {
    "duration": 68,
    "start_time": "2023-01-21T15:40:41.951Z"
   },
   {
    "duration": 341,
    "start_time": "2023-01-21T15:40:42.020Z"
   },
   {
    "duration": 14,
    "start_time": "2023-01-21T15:40:42.363Z"
   },
   {
    "duration": 696,
    "start_time": "2023-01-21T15:40:42.378Z"
   },
   {
    "duration": 3,
    "start_time": "2023-01-21T15:40:43.075Z"
   },
   {
    "duration": 31,
    "start_time": "2023-01-21T15:40:43.079Z"
   },
   {
    "duration": 77,
    "start_time": "2023-01-21T15:40:43.112Z"
   },
   {
    "duration": 40,
    "start_time": "2023-01-21T15:40:43.191Z"
   },
   {
    "duration": 1926,
    "start_time": "2023-01-21T15:40:43.243Z"
   },
   {
    "duration": 88,
    "start_time": "2023-01-21T15:40:45.179Z"
   },
   {
    "duration": 54,
    "start_time": "2023-01-21T15:40:45.268Z"
   },
   {
    "duration": 3,
    "start_time": "2023-01-21T15:40:45.324Z"
   },
   {
    "duration": 59,
    "start_time": "2023-01-21T15:40:45.344Z"
   },
   {
    "duration": 206,
    "start_time": "2023-01-21T15:40:45.404Z"
   },
   {
    "duration": 4,
    "start_time": "2023-01-21T15:40:45.612Z"
   },
   {
    "duration": 282,
    "start_time": "2023-01-21T15:40:45.618Z"
   },
   {
    "duration": 24,
    "start_time": "2023-01-21T15:40:45.902Z"
   },
   {
    "duration": 17,
    "start_time": "2023-01-21T15:40:45.927Z"
   },
   {
    "duration": 7,
    "start_time": "2023-01-21T15:40:45.946Z"
   },
   {
    "duration": 5,
    "start_time": "2023-01-21T15:41:24.740Z"
   },
   {
    "duration": 777,
    "start_time": "2023-01-21T15:41:24.747Z"
   },
   {
    "duration": 138,
    "start_time": "2023-01-21T15:41:25.526Z"
   },
   {
    "duration": 2,
    "start_time": "2023-01-21T15:41:25.666Z"
   },
   {
    "duration": 18,
    "start_time": "2023-01-21T15:41:25.669Z"
   },
   {
    "duration": 24,
    "start_time": "2023-01-21T15:41:25.688Z"
   },
   {
    "duration": 3,
    "start_time": "2023-01-21T15:41:25.713Z"
   },
   {
    "duration": 131,
    "start_time": "2023-01-21T15:41:25.717Z"
   },
   {
    "duration": 389,
    "start_time": "2023-01-21T15:41:25.849Z"
   },
   {
    "duration": 22,
    "start_time": "2023-01-21T15:41:26.243Z"
   },
   {
    "duration": 97,
    "start_time": "2023-01-21T15:41:26.267Z"
   },
   {
    "duration": 87,
    "start_time": "2023-01-21T15:41:26.366Z"
   },
   {
    "duration": 134,
    "start_time": "2023-01-21T15:41:26.455Z"
   },
   {
    "duration": 83,
    "start_time": "2023-01-21T15:41:26.591Z"
   },
   {
    "duration": 73,
    "start_time": "2023-01-21T15:41:26.675Z"
   },
   {
    "duration": 350,
    "start_time": "2023-01-21T15:41:26.750Z"
   },
   {
    "duration": 14,
    "start_time": "2023-01-21T15:41:27.104Z"
   },
   {
    "duration": 713,
    "start_time": "2023-01-21T15:41:27.120Z"
   },
   {
    "duration": 2,
    "start_time": "2023-01-21T15:41:27.835Z"
   },
   {
    "duration": 40,
    "start_time": "2023-01-21T15:41:27.843Z"
   },
   {
    "duration": 71,
    "start_time": "2023-01-21T15:41:27.884Z"
   },
   {
    "duration": 41,
    "start_time": "2023-01-21T15:41:27.956Z"
   },
   {
    "duration": 1967,
    "start_time": "2023-01-21T15:41:27.998Z"
   },
   {
    "duration": 92,
    "start_time": "2023-01-21T15:41:29.967Z"
   },
   {
    "duration": 56,
    "start_time": "2023-01-21T15:41:30.061Z"
   },
   {
    "duration": 4,
    "start_time": "2023-01-21T15:41:30.119Z"
   },
   {
    "duration": 77,
    "start_time": "2023-01-21T15:41:30.124Z"
   },
   {
    "duration": 200,
    "start_time": "2023-01-21T15:41:30.204Z"
   },
   {
    "duration": 4,
    "start_time": "2023-01-21T15:41:30.406Z"
   },
   {
    "duration": 287,
    "start_time": "2023-01-21T15:41:30.411Z"
   },
   {
    "duration": 25,
    "start_time": "2023-01-21T15:41:30.700Z"
   },
   {
    "duration": 34,
    "start_time": "2023-01-21T15:41:30.727Z"
   },
   {
    "duration": 37,
    "start_time": "2023-01-21T15:41:30.763Z"
   },
   {
    "duration": 1352,
    "start_time": "2023-01-21T15:41:42.211Z"
   },
   {
    "duration": 2856,
    "start_time": "2023-01-21T15:41:43.565Z"
   },
   {
    "duration": 141,
    "start_time": "2023-01-21T15:41:46.423Z"
   },
   {
    "duration": 3,
    "start_time": "2023-01-21T15:41:46.565Z"
   },
   {
    "duration": 34,
    "start_time": "2023-01-21T15:41:46.570Z"
   },
   {
    "duration": 52,
    "start_time": "2023-01-21T15:41:46.605Z"
   },
   {
    "duration": 3,
    "start_time": "2023-01-21T15:41:46.659Z"
   },
   {
    "duration": 127,
    "start_time": "2023-01-21T15:41:46.663Z"
   },
   {
    "duration": 432,
    "start_time": "2023-01-21T15:41:46.792Z"
   },
   {
    "duration": 38,
    "start_time": "2023-01-21T15:41:47.226Z"
   },
   {
    "duration": 118,
    "start_time": "2023-01-21T15:41:47.266Z"
   },
   {
    "duration": 93,
    "start_time": "2023-01-21T15:41:47.386Z"
   },
   {
    "duration": 125,
    "start_time": "2023-01-21T15:41:47.480Z"
   },
   {
    "duration": 75,
    "start_time": "2023-01-21T15:41:47.608Z"
   },
   {
    "duration": 69,
    "start_time": "2023-01-21T15:41:47.685Z"
   },
   {
    "duration": 339,
    "start_time": "2023-01-21T15:41:47.756Z"
   },
   {
    "duration": 15,
    "start_time": "2023-01-21T15:41:48.097Z"
   },
   {
    "duration": 723,
    "start_time": "2023-01-21T15:41:48.114Z"
   },
   {
    "duration": 3,
    "start_time": "2023-01-21T15:41:48.838Z"
   },
   {
    "duration": 25,
    "start_time": "2023-01-21T15:41:48.842Z"
   },
   {
    "duration": 80,
    "start_time": "2023-01-21T15:41:48.869Z"
   },
   {
    "duration": 40,
    "start_time": "2023-01-21T15:41:48.950Z"
   },
   {
    "duration": 1860,
    "start_time": "2023-01-21T15:41:48.991Z"
   },
   {
    "duration": 91,
    "start_time": "2023-01-21T15:41:50.853Z"
   },
   {
    "duration": 54,
    "start_time": "2023-01-21T15:41:50.946Z"
   },
   {
    "duration": 4,
    "start_time": "2023-01-21T15:41:51.002Z"
   },
   {
    "duration": 70,
    "start_time": "2023-01-21T15:41:51.007Z"
   },
   {
    "duration": 199,
    "start_time": "2023-01-21T15:41:51.078Z"
   },
   {
    "duration": 4,
    "start_time": "2023-01-21T15:41:51.279Z"
   },
   {
    "duration": 264,
    "start_time": "2023-01-21T15:41:51.284Z"
   },
   {
    "duration": 22,
    "start_time": "2023-01-21T15:41:51.550Z"
   },
   {
    "duration": 3,
    "start_time": "2023-01-21T15:41:51.573Z"
   },
   {
    "duration": 16,
    "start_time": "2023-01-21T15:41:51.577Z"
   },
   {
    "duration": 45,
    "start_time": "2023-01-21T15:42:19.336Z"
   },
   {
    "duration": 1351,
    "start_time": "2023-01-21T15:42:24.014Z"
   },
   {
    "duration": 2787,
    "start_time": "2023-01-21T15:42:25.367Z"
   },
   {
    "duration": 132,
    "start_time": "2023-01-21T15:42:28.155Z"
   },
   {
    "duration": 2,
    "start_time": "2023-01-21T15:42:28.289Z"
   },
   {
    "duration": 29,
    "start_time": "2023-01-21T15:42:28.294Z"
   },
   {
    "duration": 53,
    "start_time": "2023-01-21T15:42:28.325Z"
   },
   {
    "duration": 4,
    "start_time": "2023-01-21T15:42:28.379Z"
   },
   {
    "duration": 126,
    "start_time": "2023-01-21T15:42:28.384Z"
   },
   {
    "duration": 419,
    "start_time": "2023-01-21T15:42:28.512Z"
   },
   {
    "duration": 34,
    "start_time": "2023-01-21T15:42:28.933Z"
   },
   {
    "duration": 98,
    "start_time": "2023-01-21T15:42:28.969Z"
   },
   {
    "duration": 79,
    "start_time": "2023-01-21T15:42:29.069Z"
   },
   {
    "duration": 119,
    "start_time": "2023-01-21T15:42:29.149Z"
   },
   {
    "duration": 78,
    "start_time": "2023-01-21T15:42:29.271Z"
   },
   {
    "duration": 64,
    "start_time": "2023-01-21T15:42:29.351Z"
   },
   {
    "duration": 347,
    "start_time": "2023-01-21T15:42:29.416Z"
   },
   {
    "duration": 15,
    "start_time": "2023-01-21T15:42:29.764Z"
   },
   {
    "duration": 748,
    "start_time": "2023-01-21T15:42:29.780Z"
   },
   {
    "duration": 2,
    "start_time": "2023-01-21T15:42:30.530Z"
   },
   {
    "duration": 55,
    "start_time": "2023-01-21T15:42:30.534Z"
   },
   {
    "duration": 120,
    "start_time": "2023-01-21T15:42:30.590Z"
   },
   {
    "duration": 51,
    "start_time": "2023-01-21T15:42:30.713Z"
   },
   {
    "duration": 1827,
    "start_time": "2023-01-21T15:42:30.765Z"
   },
   {
    "duration": 92,
    "start_time": "2023-01-21T15:42:32.593Z"
   },
   {
    "duration": 65,
    "start_time": "2023-01-21T15:42:32.687Z"
   },
   {
    "duration": 4,
    "start_time": "2023-01-21T15:42:32.754Z"
   },
   {
    "duration": 70,
    "start_time": "2023-01-21T15:42:32.760Z"
   },
   {
    "duration": 189,
    "start_time": "2023-01-21T15:42:32.832Z"
   },
   {
    "duration": 4,
    "start_time": "2023-01-21T15:42:33.022Z"
   },
   {
    "duration": 278,
    "start_time": "2023-01-21T15:42:33.028Z"
   },
   {
    "duration": 23,
    "start_time": "2023-01-21T15:42:33.307Z"
   },
   {
    "duration": 3,
    "start_time": "2023-01-21T15:42:33.344Z"
   },
   {
    "duration": 18,
    "start_time": "2023-01-21T15:42:33.349Z"
   },
   {
    "duration": 1388,
    "start_time": "2023-01-21T15:43:10.612Z"
   },
   {
    "duration": 2882,
    "start_time": "2023-01-21T15:43:12.001Z"
   },
   {
    "duration": 127,
    "start_time": "2023-01-21T15:43:14.885Z"
   },
   {
    "duration": 12,
    "start_time": "2023-01-21T15:43:15.014Z"
   },
   {
    "duration": 58,
    "start_time": "2023-01-21T15:43:15.028Z"
   },
   {
    "duration": 53,
    "start_time": "2023-01-21T15:43:15.088Z"
   },
   {
    "duration": 3,
    "start_time": "2023-01-21T15:43:15.143Z"
   },
   {
    "duration": 129,
    "start_time": "2023-01-21T15:43:15.147Z"
   },
   {
    "duration": 428,
    "start_time": "2023-01-21T15:43:15.278Z"
   },
   {
    "duration": 37,
    "start_time": "2023-01-21T15:43:15.708Z"
   },
   {
    "duration": 97,
    "start_time": "2023-01-21T15:43:15.747Z"
   },
   {
    "duration": 99,
    "start_time": "2023-01-21T15:43:15.846Z"
   },
   {
    "duration": 137,
    "start_time": "2023-01-21T15:43:15.947Z"
   },
   {
    "duration": 77,
    "start_time": "2023-01-21T15:43:16.087Z"
   },
   {
    "duration": 65,
    "start_time": "2023-01-21T15:43:16.166Z"
   },
   {
    "duration": 336,
    "start_time": "2023-01-21T15:43:16.233Z"
   },
   {
    "duration": 14,
    "start_time": "2023-01-21T15:43:16.571Z"
   },
   {
    "duration": 771,
    "start_time": "2023-01-21T15:43:16.587Z"
   },
   {
    "duration": 2,
    "start_time": "2023-01-21T15:43:17.360Z"
   },
   {
    "duration": 26,
    "start_time": "2023-01-21T15:43:17.363Z"
   },
   {
    "duration": 84,
    "start_time": "2023-01-21T15:43:17.390Z"
   },
   {
    "duration": 40,
    "start_time": "2023-01-21T15:43:17.476Z"
   },
   {
    "duration": 1939,
    "start_time": "2023-01-21T15:43:17.518Z"
   },
   {
    "duration": 92,
    "start_time": "2023-01-21T15:43:19.458Z"
   },
   {
    "duration": 65,
    "start_time": "2023-01-21T15:43:19.553Z"
   },
   {
    "duration": 5,
    "start_time": "2023-01-21T15:43:19.620Z"
   },
   {
    "duration": 126,
    "start_time": "2023-01-21T15:43:19.627Z"
   },
   {
    "duration": 207,
    "start_time": "2023-01-21T15:43:19.755Z"
   },
   {
    "duration": 4,
    "start_time": "2023-01-21T15:43:19.963Z"
   },
   {
    "duration": 259,
    "start_time": "2023-01-21T15:43:19.969Z"
   },
   {
    "duration": 26,
    "start_time": "2023-01-21T15:43:20.229Z"
   },
   {
    "duration": 3,
    "start_time": "2023-01-21T15:43:20.256Z"
   },
   {
    "duration": 11,
    "start_time": "2023-01-21T15:43:20.260Z"
   },
   {
    "duration": 49,
    "start_time": "2023-01-21T15:47:41.567Z"
   },
   {
    "duration": 1334,
    "start_time": "2023-01-21T15:47:45.466Z"
   },
   {
    "duration": 2848,
    "start_time": "2023-01-21T15:47:46.802Z"
   },
   {
    "duration": 122,
    "start_time": "2023-01-21T15:47:49.651Z"
   },
   {
    "duration": 2,
    "start_time": "2023-01-21T15:47:49.776Z"
   },
   {
    "duration": 21,
    "start_time": "2023-01-21T15:47:49.780Z"
   },
   {
    "duration": 66,
    "start_time": "2023-01-21T15:47:49.803Z"
   },
   {
    "duration": 3,
    "start_time": "2023-01-21T15:47:49.871Z"
   },
   {
    "duration": 133,
    "start_time": "2023-01-21T15:47:49.875Z"
   },
   {
    "duration": 437,
    "start_time": "2023-01-21T15:47:50.010Z"
   },
   {
    "duration": 38,
    "start_time": "2023-01-21T15:47:50.450Z"
   },
   {
    "duration": 104,
    "start_time": "2023-01-21T15:47:50.490Z"
   },
   {
    "duration": 89,
    "start_time": "2023-01-21T15:47:50.596Z"
   },
   {
    "duration": 134,
    "start_time": "2023-01-21T15:47:50.687Z"
   },
   {
    "duration": 73,
    "start_time": "2023-01-21T15:47:50.823Z"
   },
   {
    "duration": 70,
    "start_time": "2023-01-21T15:47:50.897Z"
   },
   {
    "duration": 335,
    "start_time": "2023-01-21T15:47:50.969Z"
   },
   {
    "duration": 17,
    "start_time": "2023-01-21T15:47:51.305Z"
   },
   {
    "duration": 824,
    "start_time": "2023-01-21T15:47:51.324Z"
   },
   {
    "duration": 2,
    "start_time": "2023-01-21T15:47:52.150Z"
   },
   {
    "duration": 35,
    "start_time": "2023-01-21T15:47:52.153Z"
   },
   {
    "duration": 70,
    "start_time": "2023-01-21T15:47:52.189Z"
   },
   {
    "duration": 39,
    "start_time": "2023-01-21T15:47:52.260Z"
   },
   {
    "duration": 1806,
    "start_time": "2023-01-21T15:47:52.300Z"
   },
   {
    "duration": 93,
    "start_time": "2023-01-21T15:47:54.108Z"
   },
   {
    "duration": 64,
    "start_time": "2023-01-21T15:47:54.203Z"
   },
   {
    "duration": 5,
    "start_time": "2023-01-21T15:47:54.269Z"
   },
   {
    "duration": 72,
    "start_time": "2023-01-21T15:47:54.275Z"
   },
   {
    "duration": 194,
    "start_time": "2023-01-21T15:47:54.350Z"
   },
   {
    "duration": 4,
    "start_time": "2023-01-21T15:47:54.546Z"
   },
   {
    "duration": 302,
    "start_time": "2023-01-21T15:47:54.552Z"
   },
   {
    "duration": 31,
    "start_time": "2023-01-21T15:47:54.856Z"
   },
   {
    "duration": 25,
    "start_time": "2023-01-21T15:47:54.889Z"
   },
   {
    "duration": 17,
    "start_time": "2023-01-21T15:47:54.916Z"
   },
   {
    "duration": 15618,
    "start_time": "2023-01-21T15:47:57.359Z"
   },
   {
    "duration": 789,
    "start_time": "2023-01-21T15:48:59.744Z"
   },
   {
    "duration": 5,
    "start_time": "2023-01-21T15:49:15.368Z"
   },
   {
    "duration": 789,
    "start_time": "2023-01-21T15:49:18.880Z"
   },
   {
    "duration": 780,
    "start_time": "2023-01-21T15:49:31.138Z"
   },
   {
    "duration": 39,
    "start_time": "2023-01-21T15:49:58.610Z"
   },
   {
    "duration": 11,
    "start_time": "2023-01-21T15:50:28.536Z"
   },
   {
    "duration": 6,
    "start_time": "2023-01-21T15:50:34.144Z"
   },
   {
    "duration": 10,
    "start_time": "2023-01-21T15:52:28.516Z"
   },
   {
    "duration": 57,
    "start_time": "2023-01-21T15:54:05.306Z"
   },
   {
    "duration": 1382,
    "start_time": "2023-01-21T15:54:12.230Z"
   },
   {
    "duration": 3198,
    "start_time": "2023-01-21T15:54:13.615Z"
   },
   {
    "duration": 132,
    "start_time": "2023-01-21T15:54:16.815Z"
   },
   {
    "duration": 3,
    "start_time": "2023-01-21T15:54:16.949Z"
   },
   {
    "duration": 16,
    "start_time": "2023-01-21T15:54:16.954Z"
   },
   {
    "duration": 73,
    "start_time": "2023-01-21T15:54:16.971Z"
   },
   {
    "duration": 3,
    "start_time": "2023-01-21T15:54:17.046Z"
   },
   {
    "duration": 131,
    "start_time": "2023-01-21T15:54:17.050Z"
   },
   {
    "duration": 462,
    "start_time": "2023-01-21T15:54:17.182Z"
   },
   {
    "duration": 26,
    "start_time": "2023-01-21T15:54:17.645Z"
   },
   {
    "duration": 102,
    "start_time": "2023-01-21T15:54:17.673Z"
   },
   {
    "duration": 101,
    "start_time": "2023-01-21T15:54:17.777Z"
   },
   {
    "duration": 134,
    "start_time": "2023-01-21T15:54:17.880Z"
   },
   {
    "duration": 85,
    "start_time": "2023-01-21T15:54:18.017Z"
   },
   {
    "duration": 77,
    "start_time": "2023-01-21T15:54:18.104Z"
   },
   {
    "duration": 351,
    "start_time": "2023-01-21T15:54:18.183Z"
   },
   {
    "duration": 19,
    "start_time": "2023-01-21T15:54:18.537Z"
   },
   {
    "duration": 765,
    "start_time": "2023-01-21T15:54:18.557Z"
   },
   {
    "duration": 3,
    "start_time": "2023-01-21T15:54:19.323Z"
   },
   {
    "duration": 27,
    "start_time": "2023-01-21T15:54:19.327Z"
   },
   {
    "duration": 66,
    "start_time": "2023-01-21T15:54:19.356Z"
   },
   {
    "duration": 51,
    "start_time": "2023-01-21T15:54:19.423Z"
   },
   {
    "duration": 1891,
    "start_time": "2023-01-21T15:54:19.475Z"
   },
   {
    "duration": 91,
    "start_time": "2023-01-21T15:54:21.367Z"
   },
   {
    "duration": 58,
    "start_time": "2023-01-21T15:54:21.459Z"
   },
   {
    "duration": 4,
    "start_time": "2023-01-21T15:54:21.518Z"
   },
   {
    "duration": 77,
    "start_time": "2023-01-21T15:54:21.524Z"
   },
   {
    "duration": 204,
    "start_time": "2023-01-21T15:54:21.603Z"
   },
   {
    "duration": 4,
    "start_time": "2023-01-21T15:54:21.809Z"
   },
   {
    "duration": 270,
    "start_time": "2023-01-21T15:54:21.815Z"
   },
   {
    "duration": 118,
    "start_time": "2023-01-21T15:54:22.087Z"
   },
   {
    "duration": 2,
    "start_time": "2023-01-21T15:54:22.207Z"
   },
   {
    "duration": 5,
    "start_time": "2023-01-21T15:54:22.211Z"
   },
   {
    "duration": 1312,
    "start_time": "2023-01-21T16:04:51.204Z"
   },
   {
    "duration": 2905,
    "start_time": "2023-01-21T16:04:52.518Z"
   },
   {
    "duration": 138,
    "start_time": "2023-01-21T16:04:55.425Z"
   },
   {
    "duration": 2,
    "start_time": "2023-01-21T16:04:55.565Z"
   },
   {
    "duration": 20,
    "start_time": "2023-01-21T16:04:55.570Z"
   },
   {
    "duration": 65,
    "start_time": "2023-01-21T16:04:55.592Z"
   },
   {
    "duration": 3,
    "start_time": "2023-01-21T16:04:55.659Z"
   },
   {
    "duration": 131,
    "start_time": "2023-01-21T16:04:55.663Z"
   },
   {
    "duration": 488,
    "start_time": "2023-01-21T16:04:55.795Z"
   },
   {
    "duration": 37,
    "start_time": "2023-01-21T16:04:56.284Z"
   },
   {
    "duration": 103,
    "start_time": "2023-01-21T16:04:56.323Z"
   },
   {
    "duration": 99,
    "start_time": "2023-01-21T16:04:56.428Z"
   },
   {
    "duration": 132,
    "start_time": "2023-01-21T16:04:56.529Z"
   },
   {
    "duration": 80,
    "start_time": "2023-01-21T16:04:56.664Z"
   },
   {
    "duration": 69,
    "start_time": "2023-01-21T16:04:56.745Z"
   },
   {
    "duration": 353,
    "start_time": "2023-01-21T16:04:56.815Z"
   },
   {
    "duration": 16,
    "start_time": "2023-01-21T16:04:57.169Z"
   },
   {
    "duration": 849,
    "start_time": "2023-01-21T16:04:57.187Z"
   },
   {
    "duration": 3,
    "start_time": "2023-01-21T16:04:58.038Z"
   },
   {
    "duration": 24,
    "start_time": "2023-01-21T16:04:58.044Z"
   },
   {
    "duration": 89,
    "start_time": "2023-01-21T16:04:58.070Z"
   },
   {
    "duration": 41,
    "start_time": "2023-01-21T16:04:58.161Z"
   },
   {
    "duration": 1966,
    "start_time": "2023-01-21T16:04:58.204Z"
   },
   {
    "duration": 93,
    "start_time": "2023-01-21T16:05:00.172Z"
   },
   {
    "duration": 60,
    "start_time": "2023-01-21T16:05:00.267Z"
   },
   {
    "duration": 15,
    "start_time": "2023-01-21T16:05:00.329Z"
   },
   {
    "duration": 95,
    "start_time": "2023-01-21T16:05:00.346Z"
   },
   {
    "duration": 270,
    "start_time": "2023-01-21T16:05:00.443Z"
   },
   {
    "duration": 4,
    "start_time": "2023-01-21T16:05:00.715Z"
   },
   {
    "duration": 290,
    "start_time": "2023-01-21T16:05:00.720Z"
   },
   {
    "duration": 124,
    "start_time": "2023-01-21T16:05:01.011Z"
   },
   {
    "duration": 2,
    "start_time": "2023-01-21T16:05:01.144Z"
   },
   {
    "duration": 24,
    "start_time": "2023-01-21T16:05:01.148Z"
   },
   {
    "duration": 236599,
    "start_time": "2023-01-21T16:05:04.148Z"
   },
   {
    "duration": 3,
    "start_time": "2023-01-21T16:09:05.278Z"
   },
   {
    "duration": 743,
    "start_time": "2023-01-21T16:09:05.283Z"
   },
   {
    "duration": 129,
    "start_time": "2023-01-21T16:09:06.028Z"
   },
   {
    "duration": 7,
    "start_time": "2023-01-21T16:09:06.159Z"
   },
   {
    "duration": 25,
    "start_time": "2023-01-21T16:09:06.168Z"
   },
   {
    "duration": 50,
    "start_time": "2023-01-21T16:09:06.194Z"
   },
   {
    "duration": 3,
    "start_time": "2023-01-21T16:09:06.246Z"
   },
   {
    "duration": 125,
    "start_time": "2023-01-21T16:09:06.251Z"
   },
   {
    "duration": 408,
    "start_time": "2023-01-21T16:09:06.378Z"
   },
   {
    "duration": 23,
    "start_time": "2023-01-21T16:09:06.788Z"
   },
   {
    "duration": 96,
    "start_time": "2023-01-21T16:09:06.813Z"
   },
   {
    "duration": 94,
    "start_time": "2023-01-21T16:09:06.911Z"
   },
   {
    "duration": 126,
    "start_time": "2023-01-21T16:09:07.008Z"
   },
   {
    "duration": 79,
    "start_time": "2023-01-21T16:09:07.136Z"
   },
   {
    "duration": 84,
    "start_time": "2023-01-21T16:09:07.217Z"
   },
   {
    "duration": 343,
    "start_time": "2023-01-21T16:09:07.302Z"
   },
   {
    "duration": 17,
    "start_time": "2023-01-21T16:09:07.647Z"
   },
   {
    "duration": 700,
    "start_time": "2023-01-21T16:09:07.665Z"
   },
   {
    "duration": 2,
    "start_time": "2023-01-21T16:09:08.367Z"
   },
   {
    "duration": 33,
    "start_time": "2023-01-21T16:09:08.371Z"
   },
   {
    "duration": 79,
    "start_time": "2023-01-21T16:09:08.406Z"
   },
   {
    "duration": 58,
    "start_time": "2023-01-21T16:09:08.487Z"
   },
   {
    "duration": 2048,
    "start_time": "2023-01-21T16:09:08.546Z"
   },
   {
    "duration": 92,
    "start_time": "2023-01-21T16:09:10.596Z"
   },
   {
    "duration": 65,
    "start_time": "2023-01-21T16:09:10.689Z"
   },
   {
    "duration": 4,
    "start_time": "2023-01-21T16:09:10.756Z"
   },
   {
    "duration": 62,
    "start_time": "2023-01-21T16:09:10.762Z"
   },
   {
    "duration": 196,
    "start_time": "2023-01-21T16:09:10.826Z"
   },
   {
    "duration": 4,
    "start_time": "2023-01-21T16:09:11.024Z"
   },
   {
    "duration": 261,
    "start_time": "2023-01-21T16:09:11.029Z"
   },
   {
    "duration": 118,
    "start_time": "2023-01-21T16:09:11.292Z"
   },
   {
    "duration": 3,
    "start_time": "2023-01-21T16:09:11.411Z"
   },
   {
    "duration": 7,
    "start_time": "2023-01-21T16:09:11.415Z"
   },
   {
    "duration": 9,
    "start_time": "2023-01-21T16:09:11.423Z"
   },
   {
    "duration": 9,
    "start_time": "2023-01-21T16:09:17.236Z"
   },
   {
    "duration": 1309,
    "start_time": "2023-01-21T16:09:41.086Z"
   },
   {
    "duration": 2851,
    "start_time": "2023-01-21T16:09:42.397Z"
   },
   {
    "duration": 125,
    "start_time": "2023-01-21T16:09:45.250Z"
   },
   {
    "duration": 2,
    "start_time": "2023-01-21T16:09:45.377Z"
   },
   {
    "duration": 19,
    "start_time": "2023-01-21T16:09:45.380Z"
   },
   {
    "duration": 61,
    "start_time": "2023-01-21T16:09:45.401Z"
   },
   {
    "duration": 3,
    "start_time": "2023-01-21T16:09:45.464Z"
   },
   {
    "duration": 139,
    "start_time": "2023-01-21T16:09:45.469Z"
   },
   {
    "duration": 465,
    "start_time": "2023-01-21T16:09:45.610Z"
   },
   {
    "duration": 38,
    "start_time": "2023-01-21T16:09:46.077Z"
   },
   {
    "duration": 95,
    "start_time": "2023-01-21T16:09:46.117Z"
   },
   {
    "duration": 91,
    "start_time": "2023-01-21T16:09:46.213Z"
   },
   {
    "duration": 124,
    "start_time": "2023-01-21T16:09:46.305Z"
   },
   {
    "duration": 74,
    "start_time": "2023-01-21T16:09:46.430Z"
   },
   {
    "duration": 75,
    "start_time": "2023-01-21T16:09:46.505Z"
   },
   {
    "duration": 352,
    "start_time": "2023-01-21T16:09:46.582Z"
   },
   {
    "duration": 19,
    "start_time": "2023-01-21T16:09:46.936Z"
   },
   {
    "duration": 798,
    "start_time": "2023-01-21T16:09:46.956Z"
   },
   {
    "duration": 3,
    "start_time": "2023-01-21T16:09:47.755Z"
   },
   {
    "duration": 31,
    "start_time": "2023-01-21T16:09:47.760Z"
   },
   {
    "duration": 79,
    "start_time": "2023-01-21T16:09:47.792Z"
   },
   {
    "duration": 44,
    "start_time": "2023-01-21T16:09:47.873Z"
   },
   {
    "duration": 1871,
    "start_time": "2023-01-21T16:09:47.919Z"
   },
   {
    "duration": 94,
    "start_time": "2023-01-21T16:09:49.792Z"
   },
   {
    "duration": 64,
    "start_time": "2023-01-21T16:09:49.887Z"
   },
   {
    "duration": 3,
    "start_time": "2023-01-21T16:09:49.952Z"
   },
   {
    "duration": 63,
    "start_time": "2023-01-21T16:09:49.957Z"
   },
   {
    "duration": 201,
    "start_time": "2023-01-21T16:09:50.023Z"
   },
   {
    "duration": 4,
    "start_time": "2023-01-21T16:09:50.225Z"
   },
   {
    "duration": 273,
    "start_time": "2023-01-21T16:09:50.230Z"
   },
   {
    "duration": 129,
    "start_time": "2023-01-21T16:09:50.505Z"
   },
   {
    "duration": 2,
    "start_time": "2023-01-21T16:09:50.636Z"
   },
   {
    "duration": 3,
    "start_time": "2023-01-21T16:09:50.644Z"
   },
   {
    "duration": 20,
    "start_time": "2023-01-21T16:09:50.648Z"
   },
   {
    "duration": 4,
    "start_time": "2023-01-21T16:13:15.863Z"
   },
   {
    "duration": 714,
    "start_time": "2023-01-21T16:13:15.869Z"
   },
   {
    "duration": 122,
    "start_time": "2023-01-21T16:13:16.585Z"
   },
   {
    "duration": 2,
    "start_time": "2023-01-21T16:13:16.709Z"
   },
   {
    "duration": 16,
    "start_time": "2023-01-21T16:13:16.713Z"
   },
   {
    "duration": 48,
    "start_time": "2023-01-21T16:13:16.744Z"
   },
   {
    "duration": 3,
    "start_time": "2023-01-21T16:13:16.793Z"
   },
   {
    "duration": 130,
    "start_time": "2023-01-21T16:13:16.797Z"
   },
   {
    "duration": 425,
    "start_time": "2023-01-21T16:13:16.929Z"
   },
   {
    "duration": 26,
    "start_time": "2023-01-21T16:13:17.356Z"
   },
   {
    "duration": 93,
    "start_time": "2023-01-21T16:13:17.383Z"
   },
   {
    "duration": 88,
    "start_time": "2023-01-21T16:13:17.477Z"
   },
   {
    "duration": 128,
    "start_time": "2023-01-21T16:13:17.566Z"
   },
   {
    "duration": 70,
    "start_time": "2023-01-21T16:13:17.697Z"
   },
   {
    "duration": 62,
    "start_time": "2023-01-21T16:13:17.769Z"
   },
   {
    "duration": 328,
    "start_time": "2023-01-21T16:13:17.844Z"
   },
   {
    "duration": 15,
    "start_time": "2023-01-21T16:13:18.174Z"
   },
   {
    "duration": 769,
    "start_time": "2023-01-21T16:13:18.190Z"
   },
   {
    "duration": 2,
    "start_time": "2023-01-21T16:13:18.961Z"
   },
   {
    "duration": 59,
    "start_time": "2023-01-21T16:13:18.965Z"
   },
   {
    "duration": 71,
    "start_time": "2023-01-21T16:13:19.025Z"
   },
   {
    "duration": 41,
    "start_time": "2023-01-21T16:13:19.097Z"
   },
   {
    "duration": 1979,
    "start_time": "2023-01-21T16:13:19.144Z"
   },
   {
    "duration": 89,
    "start_time": "2023-01-21T16:13:21.125Z"
   },
   {
    "duration": 56,
    "start_time": "2023-01-21T16:13:21.216Z"
   },
   {
    "duration": 4,
    "start_time": "2023-01-21T16:13:21.273Z"
   },
   {
    "duration": 81,
    "start_time": "2023-01-21T16:13:21.278Z"
   },
   {
    "duration": 182,
    "start_time": "2023-01-21T16:13:21.361Z"
   },
   {
    "duration": 4,
    "start_time": "2023-01-21T16:13:21.544Z"
   },
   {
    "duration": 290,
    "start_time": "2023-01-21T16:13:21.549Z"
   },
   {
    "duration": 117,
    "start_time": "2023-01-21T16:13:21.841Z"
   },
   {
    "duration": 3,
    "start_time": "2023-01-21T16:13:21.959Z"
   },
   {
    "duration": 11,
    "start_time": "2023-01-21T16:13:21.963Z"
   },
   {
    "duration": 10,
    "start_time": "2023-01-21T16:13:21.975Z"
   },
   {
    "duration": 9,
    "start_time": "2023-01-21T16:17:22.519Z"
   },
   {
    "duration": 47,
    "start_time": "2023-01-21T16:27:36.555Z"
   },
   {
    "duration": 1308,
    "start_time": "2023-01-21T16:27:39.408Z"
   },
   {
    "duration": 2843,
    "start_time": "2023-01-21T16:27:40.718Z"
   },
   {
    "duration": 130,
    "start_time": "2023-01-21T16:27:43.563Z"
   },
   {
    "duration": 2,
    "start_time": "2023-01-21T16:27:43.695Z"
   },
   {
    "duration": 21,
    "start_time": "2023-01-21T16:27:43.700Z"
   },
   {
    "duration": 61,
    "start_time": "2023-01-21T16:27:43.722Z"
   },
   {
    "duration": 3,
    "start_time": "2023-01-21T16:27:43.784Z"
   },
   {
    "duration": 139,
    "start_time": "2023-01-21T16:27:43.789Z"
   },
   {
    "duration": 468,
    "start_time": "2023-01-21T16:27:43.930Z"
   },
   {
    "duration": 37,
    "start_time": "2023-01-21T16:27:44.400Z"
   },
   {
    "duration": 91,
    "start_time": "2023-01-21T16:27:44.444Z"
   },
   {
    "duration": 84,
    "start_time": "2023-01-21T16:27:44.544Z"
   },
   {
    "duration": 178,
    "start_time": "2023-01-21T16:27:44.630Z"
   },
   {
    "duration": 103,
    "start_time": "2023-01-21T16:27:44.812Z"
   },
   {
    "duration": 75,
    "start_time": "2023-01-21T16:27:44.917Z"
   },
   {
    "duration": 357,
    "start_time": "2023-01-21T16:27:44.994Z"
   },
   {
    "duration": 14,
    "start_time": "2023-01-21T16:27:45.353Z"
   },
   {
    "duration": 843,
    "start_time": "2023-01-21T16:27:45.369Z"
   },
   {
    "duration": 3,
    "start_time": "2023-01-21T16:27:46.214Z"
   },
   {
    "duration": 29,
    "start_time": "2023-01-21T16:27:46.218Z"
   },
   {
    "duration": 89,
    "start_time": "2023-01-21T16:27:46.249Z"
   },
   {
    "duration": 41,
    "start_time": "2023-01-21T16:27:46.344Z"
   },
   {
    "duration": 1916,
    "start_time": "2023-01-21T16:27:46.387Z"
   },
   {
    "duration": 96,
    "start_time": "2023-01-21T16:27:48.304Z"
   },
   {
    "duration": 63,
    "start_time": "2023-01-21T16:27:48.401Z"
   },
   {
    "duration": 4,
    "start_time": "2023-01-21T16:27:48.466Z"
   },
   {
    "duration": 75,
    "start_time": "2023-01-21T16:27:48.471Z"
   },
   {
    "duration": 187,
    "start_time": "2023-01-21T16:27:48.548Z"
   },
   {
    "duration": 7,
    "start_time": "2023-01-21T16:27:48.737Z"
   },
   {
    "duration": 277,
    "start_time": "2023-01-21T16:27:48.746Z"
   },
   {
    "duration": 122,
    "start_time": "2023-01-21T16:27:49.024Z"
   },
   {
    "duration": 3,
    "start_time": "2023-01-21T16:27:49.147Z"
   },
   {
    "duration": 80,
    "start_time": "2023-01-21T16:28:10.564Z"
   },
   {
    "duration": 116,
    "start_time": "2023-01-21T16:37:01.303Z"
   },
   {
    "duration": 4,
    "start_time": "2023-01-21T16:39:36.955Z"
   },
   {
    "duration": 865,
    "start_time": "2023-01-21T16:39:36.961Z"
   },
   {
    "duration": 133,
    "start_time": "2023-01-21T16:39:37.828Z"
   },
   {
    "duration": 3,
    "start_time": "2023-01-21T16:39:37.963Z"
   },
   {
    "duration": 20,
    "start_time": "2023-01-21T16:39:37.969Z"
   },
   {
    "duration": 32,
    "start_time": "2023-01-21T16:39:37.991Z"
   },
   {
    "duration": 4,
    "start_time": "2023-01-21T16:39:38.025Z"
   },
   {
    "duration": 139,
    "start_time": "2023-01-21T16:39:38.031Z"
   },
   {
    "duration": 395,
    "start_time": "2023-01-21T16:39:38.172Z"
   },
   {
    "duration": 22,
    "start_time": "2023-01-21T16:39:38.569Z"
   },
   {
    "duration": 94,
    "start_time": "2023-01-21T16:39:38.593Z"
   },
   {
    "duration": 82,
    "start_time": "2023-01-21T16:39:38.688Z"
   },
   {
    "duration": 113,
    "start_time": "2023-01-21T16:39:38.772Z"
   },
   {
    "duration": 76,
    "start_time": "2023-01-21T16:39:38.887Z"
   },
   {
    "duration": 66,
    "start_time": "2023-01-21T16:39:38.965Z"
   },
   {
    "duration": 318,
    "start_time": "2023-01-21T16:39:39.044Z"
   },
   {
    "duration": 13,
    "start_time": "2023-01-21T16:39:39.364Z"
   },
   {
    "duration": 649,
    "start_time": "2023-01-21T16:39:39.380Z"
   },
   {
    "duration": 3,
    "start_time": "2023-01-21T16:39:40.030Z"
   },
   {
    "duration": 29,
    "start_time": "2023-01-21T16:39:40.034Z"
   },
   {
    "duration": 67,
    "start_time": "2023-01-21T16:39:40.065Z"
   },
   {
    "duration": 48,
    "start_time": "2023-01-21T16:39:40.134Z"
   },
   {
    "duration": 1843,
    "start_time": "2023-01-21T16:39:40.183Z"
   },
   {
    "duration": 86,
    "start_time": "2023-01-21T16:39:42.027Z"
   },
   {
    "duration": 52,
    "start_time": "2023-01-21T16:39:42.115Z"
   },
   {
    "duration": 3,
    "start_time": "2023-01-21T16:39:42.169Z"
   },
   {
    "duration": 76,
    "start_time": "2023-01-21T16:39:42.173Z"
   },
   {
    "duration": 176,
    "start_time": "2023-01-21T16:39:42.252Z"
   },
   {
    "duration": 4,
    "start_time": "2023-01-21T16:39:42.429Z"
   },
   {
    "duration": 253,
    "start_time": "2023-01-21T16:39:42.434Z"
   },
   {
    "duration": 86,
    "start_time": "2023-01-21T16:39:42.689Z"
   },
   {
    "duration": 2,
    "start_time": "2023-01-21T16:39:42.776Z"
   },
   {
    "duration": 6,
    "start_time": "2023-01-21T16:39:42.780Z"
   },
   {
    "duration": 6,
    "start_time": "2023-01-21T16:39:42.787Z"
   },
   {
    "duration": 54,
    "start_time": "2023-01-21T16:39:50.918Z"
   },
   {
    "duration": 3,
    "start_time": "2023-01-21T16:42:12.856Z"
   },
   {
    "duration": 4,
    "start_time": "2023-01-21T16:42:13.919Z"
   },
   {
    "duration": 9,
    "start_time": "2023-01-21T16:42:18.801Z"
   },
   {
    "duration": 73,
    "start_time": "2023-01-21T16:42:21.800Z"
   },
   {
    "duration": 3,
    "start_time": "2023-01-21T16:42:43.546Z"
   },
   {
    "duration": 3,
    "start_time": "2023-01-21T16:42:54.253Z"
   },
   {
    "duration": 53,
    "start_time": "2023-01-21T16:43:01.216Z"
   },
   {
    "duration": 4,
    "start_time": "2023-01-21T16:45:52.136Z"
   },
   {
    "duration": 26177,
    "start_time": "2023-01-21T16:45:55.660Z"
   },
   {
    "duration": 4,
    "start_time": "2023-01-21T16:48:48.751Z"
   },
   {
    "duration": 729,
    "start_time": "2023-01-21T16:48:48.757Z"
   },
   {
    "duration": 157,
    "start_time": "2023-01-21T16:48:49.488Z"
   },
   {
    "duration": 3,
    "start_time": "2023-01-21T16:48:49.647Z"
   },
   {
    "duration": 17,
    "start_time": "2023-01-21T16:48:49.651Z"
   },
   {
    "duration": 58,
    "start_time": "2023-01-21T16:48:49.669Z"
   },
   {
    "duration": 16,
    "start_time": "2023-01-21T16:48:49.729Z"
   },
   {
    "duration": 125,
    "start_time": "2023-01-21T16:48:49.746Z"
   },
   {
    "duration": 409,
    "start_time": "2023-01-21T16:48:49.874Z"
   },
   {
    "duration": 24,
    "start_time": "2023-01-21T16:48:50.285Z"
   },
   {
    "duration": 94,
    "start_time": "2023-01-21T16:48:50.310Z"
   },
   {
    "duration": 97,
    "start_time": "2023-01-21T16:48:50.406Z"
   },
   {
    "duration": 136,
    "start_time": "2023-01-21T16:48:50.505Z"
   },
   {
    "duration": 83,
    "start_time": "2023-01-21T16:48:50.644Z"
   },
   {
    "duration": 75,
    "start_time": "2023-01-21T16:48:50.728Z"
   },
   {
    "duration": 332,
    "start_time": "2023-01-21T16:48:50.804Z"
   },
   {
    "duration": 19,
    "start_time": "2023-01-21T16:48:51.138Z"
   },
   {
    "duration": 795,
    "start_time": "2023-01-21T16:48:51.159Z"
   },
   {
    "duration": 3,
    "start_time": "2023-01-21T16:48:51.956Z"
   },
   {
    "duration": 28,
    "start_time": "2023-01-21T16:48:51.960Z"
   },
   {
    "duration": 89,
    "start_time": "2023-01-21T16:48:51.990Z"
   },
   {
    "duration": 41,
    "start_time": "2023-01-21T16:48:52.081Z"
   },
   {
    "duration": 1957,
    "start_time": "2023-01-21T16:48:52.124Z"
   },
   {
    "duration": 87,
    "start_time": "2023-01-21T16:48:54.084Z"
   },
   {
    "duration": 49,
    "start_time": "2023-01-21T16:48:54.172Z"
   },
   {
    "duration": 4,
    "start_time": "2023-01-21T16:48:54.222Z"
   },
   {
    "duration": 62,
    "start_time": "2023-01-21T16:48:54.243Z"
   },
   {
    "duration": 193,
    "start_time": "2023-01-21T16:48:54.306Z"
   },
   {
    "duration": 6,
    "start_time": "2023-01-21T16:48:54.501Z"
   },
   {
    "duration": 395,
    "start_time": "2023-01-21T16:48:54.509Z"
   },
   {
    "duration": 91,
    "start_time": "2023-01-21T16:48:54.906Z"
   },
   {
    "duration": 3,
    "start_time": "2023-01-21T16:49:00.970Z"
   },
   {
    "duration": 4,
    "start_time": "2023-01-21T16:49:04.861Z"
   },
   {
    "duration": 5,
    "start_time": "2023-01-21T16:49:05.721Z"
   },
   {
    "duration": 15217,
    "start_time": "2023-01-21T16:49:09.019Z"
   },
   {
    "duration": 19045,
    "start_time": "2023-01-21T16:49:31.317Z"
   },
   {
    "duration": 3409,
    "start_time": "2023-01-21T16:50:07.673Z"
   },
   {
    "duration": 3,
    "start_time": "2023-01-21T16:50:47.098Z"
   },
   {
    "duration": 100613,
    "start_time": "2023-01-21T16:50:49.785Z"
   },
   {
    "duration": 11,
    "start_time": "2023-01-21T16:52:32.069Z"
   },
   {
    "duration": 4,
    "start_time": "2023-01-21T16:52:42.025Z"
   },
   {
    "duration": 2,
    "start_time": "2023-01-21T16:52:59.122Z"
   },
   {
    "duration": 3,
    "start_time": "2023-01-21T16:54:38.818Z"
   },
   {
    "duration": 3,
    "start_time": "2023-01-21T16:54:47.226Z"
   },
   {
    "duration": 4,
    "start_time": "2023-01-21T16:55:03.426Z"
   },
   {
    "duration": 52,
    "start_time": "2023-01-21T16:55:06.843Z"
   },
   {
    "duration": 3,
    "start_time": "2023-01-21T16:55:30.894Z"
   },
   {
    "duration": 36533,
    "start_time": "2023-01-21T16:55:34.021Z"
   },
   {
    "duration": 10,
    "start_time": "2023-01-21T16:57:40.672Z"
   },
   {
    "duration": 9,
    "start_time": "2023-01-21T16:57:44.345Z"
   },
   {
    "duration": 5,
    "start_time": "2023-01-21T16:58:22.117Z"
   },
   {
    "duration": 4,
    "start_time": "2023-01-21T16:58:34.163Z"
   },
   {
    "duration": 12,
    "start_time": "2023-01-21T16:59:05.577Z"
   },
   {
    "duration": 12,
    "start_time": "2023-01-21T16:59:11.708Z"
   },
   {
    "duration": 6,
    "start_time": "2023-01-21T16:59:21.789Z"
   },
   {
    "duration": 711,
    "start_time": "2023-01-21T16:59:21.797Z"
   },
   {
    "duration": 120,
    "start_time": "2023-01-21T16:59:22.510Z"
   },
   {
    "duration": 3,
    "start_time": "2023-01-21T16:59:22.644Z"
   },
   {
    "duration": 20,
    "start_time": "2023-01-21T16:59:22.649Z"
   },
   {
    "duration": 34,
    "start_time": "2023-01-21T16:59:22.671Z"
   },
   {
    "duration": 3,
    "start_time": "2023-01-21T16:59:22.707Z"
   },
   {
    "duration": 133,
    "start_time": "2023-01-21T16:59:22.712Z"
   },
   {
    "duration": 401,
    "start_time": "2023-01-21T16:59:22.847Z"
   },
   {
    "duration": 24,
    "start_time": "2023-01-21T16:59:23.250Z"
   },
   {
    "duration": 106,
    "start_time": "2023-01-21T16:59:23.275Z"
   },
   {
    "duration": 87,
    "start_time": "2023-01-21T16:59:23.383Z"
   },
   {
    "duration": 121,
    "start_time": "2023-01-21T16:59:23.472Z"
   },
   {
    "duration": 88,
    "start_time": "2023-01-21T16:59:23.596Z"
   },
   {
    "duration": 76,
    "start_time": "2023-01-21T16:59:23.685Z"
   },
   {
    "duration": 363,
    "start_time": "2023-01-21T16:59:23.762Z"
   },
   {
    "duration": 27,
    "start_time": "2023-01-21T16:59:24.126Z"
   },
   {
    "duration": 670,
    "start_time": "2023-01-21T16:59:24.159Z"
   },
   {
    "duration": 3,
    "start_time": "2023-01-21T16:59:24.831Z"
   },
   {
    "duration": 40,
    "start_time": "2023-01-21T16:59:24.836Z"
   },
   {
    "duration": 91,
    "start_time": "2023-01-21T16:59:24.878Z"
   },
   {
    "duration": 54,
    "start_time": "2023-01-21T16:59:24.971Z"
   },
   {
    "duration": 2147,
    "start_time": "2023-01-21T16:59:25.027Z"
   },
   {
    "duration": 92,
    "start_time": "2023-01-21T16:59:27.176Z"
   },
   {
    "duration": 58,
    "start_time": "2023-01-21T16:59:27.270Z"
   },
   {
    "duration": 17,
    "start_time": "2023-01-21T16:59:27.330Z"
   },
   {
    "duration": 66,
    "start_time": "2023-01-21T16:59:27.349Z"
   },
   {
    "duration": 185,
    "start_time": "2023-01-21T16:59:27.417Z"
   },
   {
    "duration": 5,
    "start_time": "2023-01-21T16:59:27.604Z"
   },
   {
    "duration": 322,
    "start_time": "2023-01-21T16:59:27.611Z"
   },
   {
    "duration": 79,
    "start_time": "2023-01-21T16:59:27.934Z"
   },
   {
    "duration": 3,
    "start_time": "2023-01-21T16:59:28.014Z"
   },
   {
    "duration": 26,
    "start_time": "2023-01-21T16:59:28.018Z"
   },
   {
    "duration": 10,
    "start_time": "2023-01-21T16:59:28.045Z"
   },
   {
    "duration": 6,
    "start_time": "2023-01-21T16:59:34.500Z"
   },
   {
    "duration": 737,
    "start_time": "2023-01-21T16:59:34.508Z"
   },
   {
    "duration": 121,
    "start_time": "2023-01-21T16:59:35.247Z"
   },
   {
    "duration": 3,
    "start_time": "2023-01-21T16:59:35.370Z"
   },
   {
    "duration": 30,
    "start_time": "2023-01-21T16:59:35.374Z"
   },
   {
    "duration": 24,
    "start_time": "2023-01-21T16:59:35.405Z"
   },
   {
    "duration": 3,
    "start_time": "2023-01-21T16:59:35.431Z"
   },
   {
    "duration": 132,
    "start_time": "2023-01-21T16:59:35.443Z"
   },
   {
    "duration": 406,
    "start_time": "2023-01-21T16:59:35.577Z"
   },
   {
    "duration": 24,
    "start_time": "2023-01-21T16:59:35.985Z"
   },
   {
    "duration": 151,
    "start_time": "2023-01-21T16:59:36.012Z"
   },
   {
    "duration": 88,
    "start_time": "2023-01-21T16:59:36.165Z"
   },
   {
    "duration": 128,
    "start_time": "2023-01-21T16:59:36.256Z"
   },
   {
    "duration": 84,
    "start_time": "2023-01-21T16:59:36.385Z"
   },
   {
    "duration": 76,
    "start_time": "2023-01-21T16:59:36.470Z"
   },
   {
    "duration": 335,
    "start_time": "2023-01-21T16:59:36.549Z"
   },
   {
    "duration": 15,
    "start_time": "2023-01-21T16:59:36.886Z"
   },
   {
    "duration": 749,
    "start_time": "2023-01-21T16:59:36.903Z"
   },
   {
    "duration": 3,
    "start_time": "2023-01-21T16:59:37.654Z"
   },
   {
    "duration": 29,
    "start_time": "2023-01-21T16:59:37.660Z"
   },
   {
    "duration": 65,
    "start_time": "2023-01-21T16:59:37.691Z"
   },
   {
    "duration": 39,
    "start_time": "2023-01-21T16:59:37.758Z"
   },
   {
    "duration": 1948,
    "start_time": "2023-01-21T16:59:37.798Z"
   },
   {
    "duration": 79,
    "start_time": "2023-01-21T16:59:39.748Z"
   },
   {
    "duration": 58,
    "start_time": "2023-01-21T16:59:39.829Z"
   },
   {
    "duration": 3,
    "start_time": "2023-01-21T16:59:39.889Z"
   },
   {
    "duration": 74,
    "start_time": "2023-01-21T16:59:39.894Z"
   },
   {
    "duration": 219,
    "start_time": "2023-01-21T16:59:39.970Z"
   },
   {
    "duration": 5,
    "start_time": "2023-01-21T16:59:40.191Z"
   },
   {
    "duration": 326,
    "start_time": "2023-01-21T16:59:40.197Z"
   },
   {
    "duration": 86,
    "start_time": "2023-01-21T16:59:40.525Z"
   },
   {
    "duration": 3,
    "start_time": "2023-01-21T16:59:40.613Z"
   },
   {
    "duration": 7,
    "start_time": "2023-01-21T16:59:40.617Z"
   },
   {
    "duration": 20,
    "start_time": "2023-01-21T16:59:40.626Z"
   },
   {
    "duration": 6,
    "start_time": "2023-01-21T17:00:13.035Z"
   },
   {
    "duration": 4,
    "start_time": "2023-01-21T17:01:15.717Z"
   },
   {
    "duration": 82,
    "start_time": "2023-01-21T17:01:17.724Z"
   },
   {
    "duration": 5,
    "start_time": "2023-01-21T17:01:21.075Z"
   },
   {
    "duration": 4,
    "start_time": "2023-01-21T17:01:25.621Z"
   },
   {
    "duration": 17245,
    "start_time": "2023-01-21T17:01:32.091Z"
   },
   {
    "duration": 39,
    "start_time": "2023-01-21T17:01:53.723Z"
   },
   {
    "duration": 7,
    "start_time": "2023-01-21T17:02:07.535Z"
   },
   {
    "duration": 2,
    "start_time": "2023-01-21T17:04:22.173Z"
   },
   {
    "duration": 3,
    "start_time": "2023-01-21T17:04:22.636Z"
   },
   {
    "duration": 54,
    "start_time": "2023-01-21T17:04:26.317Z"
   },
   {
    "duration": 3,
    "start_time": "2023-01-21T17:04:42.964Z"
   },
   {
    "duration": 4,
    "start_time": "2023-01-21T17:04:43.503Z"
   },
   {
    "duration": 6,
    "start_time": "2023-01-21T17:04:44.715Z"
   },
   {
    "duration": 60,
    "start_time": "2023-01-21T17:04:45.731Z"
   },
   {
    "duration": 3,
    "start_time": "2023-01-21T17:05:00.388Z"
   },
   {
    "duration": 6,
    "start_time": "2023-01-21T17:05:01.134Z"
   },
   {
    "duration": 33108,
    "start_time": "2023-01-21T17:05:01.820Z"
   },
   {
    "duration": 4,
    "start_time": "2023-01-21T17:07:49.195Z"
   },
   {
    "duration": 10,
    "start_time": "2023-01-21T17:08:15.661Z"
   },
   {
    "duration": 8,
    "start_time": "2023-01-21T17:09:42.700Z"
   },
   {
    "duration": 8,
    "start_time": "2023-01-21T17:09:47.077Z"
   },
   {
    "duration": 3,
    "start_time": "2023-01-21T17:10:26.941Z"
   },
   {
    "duration": 4879,
    "start_time": "2023-01-21T17:10:57.990Z"
   },
   {
    "duration": 3,
    "start_time": "2023-01-21T17:11:16.251Z"
   },
   {
    "duration": 10,
    "start_time": "2023-01-21T17:11:55.397Z"
   },
   {
    "duration": 3,
    "start_time": "2023-01-21T17:12:02.902Z"
   },
   {
    "duration": 4,
    "start_time": "2023-01-21T17:12:21.589Z"
   },
   {
    "duration": 6,
    "start_time": "2023-01-21T17:12:22.264Z"
   },
   {
    "duration": 52644,
    "start_time": "2023-01-21T17:12:23.337Z"
   },
   {
    "duration": 38,
    "start_time": "2023-01-21T17:13:30.482Z"
   },
   {
    "duration": 6,
    "start_time": "2023-01-21T17:13:44.783Z"
   },
   {
    "duration": 60,
    "start_time": "2023-01-21T17:14:04.103Z"
   },
   {
    "duration": 79,
    "start_time": "2023-01-21T17:14:16.659Z"
   },
   {
    "duration": 6,
    "start_time": "2023-01-21T17:14:34.221Z"
   },
   {
    "duration": 41,
    "start_time": "2023-01-21T17:14:52.687Z"
   },
   {
    "duration": 6,
    "start_time": "2023-01-21T17:15:00.474Z"
   },
   {
    "duration": 6,
    "start_time": "2023-01-21T17:16:32.814Z"
   },
   {
    "duration": 50800,
    "start_time": "2023-01-21T17:16:43.839Z"
   },
   {
    "duration": 3,
    "start_time": "2023-01-21T17:22:50.593Z"
   },
   {
    "duration": 45,
    "start_time": "2023-01-21T17:22:57.025Z"
   },
   {
    "duration": 738,
    "start_time": "2023-01-21T17:23:10.815Z"
   },
   {
    "duration": 693,
    "start_time": "2023-01-21T17:23:31.121Z"
   },
   {
    "duration": 664,
    "start_time": "2023-01-21T17:23:39.209Z"
   },
   {
    "duration": 11,
    "start_time": "2023-01-21T17:23:48.605Z"
   },
   {
    "duration": 0,
    "start_time": "2023-01-21T17:23:48.618Z"
   },
   {
    "duration": 0,
    "start_time": "2023-01-21T17:23:48.619Z"
   },
   {
    "duration": 0,
    "start_time": "2023-01-21T17:23:48.621Z"
   },
   {
    "duration": 0,
    "start_time": "2023-01-21T17:23:48.622Z"
   },
   {
    "duration": 0,
    "start_time": "2023-01-21T17:23:48.623Z"
   },
   {
    "duration": 0,
    "start_time": "2023-01-21T17:23:48.624Z"
   },
   {
    "duration": 0,
    "start_time": "2023-01-21T17:23:48.625Z"
   },
   {
    "duration": 52,
    "start_time": "2023-01-21T17:23:48.628Z"
   },
   {
    "duration": 17,
    "start_time": "2023-01-21T17:23:48.681Z"
   },
   {
    "duration": 0,
    "start_time": "2023-01-21T17:23:48.700Z"
   },
   {
    "duration": 0,
    "start_time": "2023-01-21T17:23:48.703Z"
   },
   {
    "duration": 0,
    "start_time": "2023-01-21T17:23:48.704Z"
   },
   {
    "duration": 0,
    "start_time": "2023-01-21T17:23:48.705Z"
   },
   {
    "duration": 0,
    "start_time": "2023-01-21T17:23:48.707Z"
   },
   {
    "duration": 0,
    "start_time": "2023-01-21T17:23:48.709Z"
   },
   {
    "duration": 0,
    "start_time": "2023-01-21T17:23:48.710Z"
   },
   {
    "duration": 0,
    "start_time": "2023-01-21T17:23:48.711Z"
   },
   {
    "duration": 0,
    "start_time": "2023-01-21T17:23:48.712Z"
   },
   {
    "duration": 0,
    "start_time": "2023-01-21T17:23:48.744Z"
   },
   {
    "duration": 0,
    "start_time": "2023-01-21T17:23:48.745Z"
   },
   {
    "duration": 0,
    "start_time": "2023-01-21T17:23:48.746Z"
   },
   {
    "duration": 0,
    "start_time": "2023-01-21T17:23:48.747Z"
   },
   {
    "duration": 0,
    "start_time": "2023-01-21T17:23:48.748Z"
   },
   {
    "duration": 11,
    "start_time": "2023-01-21T17:24:00.101Z"
   },
   {
    "duration": 0,
    "start_time": "2023-01-21T17:24:00.114Z"
   },
   {
    "duration": 0,
    "start_time": "2023-01-21T17:24:00.115Z"
   },
   {
    "duration": 0,
    "start_time": "2023-01-21T17:24:00.116Z"
   },
   {
    "duration": 0,
    "start_time": "2023-01-21T17:24:00.117Z"
   },
   {
    "duration": 0,
    "start_time": "2023-01-21T17:24:00.118Z"
   },
   {
    "duration": 0,
    "start_time": "2023-01-21T17:24:00.119Z"
   },
   {
    "duration": 0,
    "start_time": "2023-01-21T17:24:00.120Z"
   },
   {
    "duration": 0,
    "start_time": "2023-01-21T17:24:00.121Z"
   },
   {
    "duration": 0,
    "start_time": "2023-01-21T17:24:00.122Z"
   },
   {
    "duration": 0,
    "start_time": "2023-01-21T17:24:00.123Z"
   },
   {
    "duration": 0,
    "start_time": "2023-01-21T17:24:00.124Z"
   },
   {
    "duration": 0,
    "start_time": "2023-01-21T17:24:00.125Z"
   },
   {
    "duration": 59,
    "start_time": "2023-01-21T17:24:00.129Z"
   },
   {
    "duration": 10,
    "start_time": "2023-01-21T17:24:00.190Z"
   },
   {
    "duration": 92,
    "start_time": "2023-01-21T17:24:00.202Z"
   },
   {
    "duration": 13,
    "start_time": "2023-01-21T17:24:00.295Z"
   },
   {
    "duration": 816,
    "start_time": "2023-01-21T17:24:00.310Z"
   },
   {
    "duration": 3,
    "start_time": "2023-01-21T17:24:01.128Z"
   },
   {
    "duration": 69,
    "start_time": "2023-01-21T17:24:01.133Z"
   },
   {
    "duration": 116,
    "start_time": "2023-01-21T17:24:01.203Z"
   },
   {
    "duration": 44,
    "start_time": "2023-01-21T17:24:01.320Z"
   },
   {
    "duration": 1966,
    "start_time": "2023-01-21T17:24:01.365Z"
   },
   {
    "duration": 77,
    "start_time": "2023-01-21T17:24:20.065Z"
   },
   {
    "duration": 164,
    "start_time": "2023-01-21T17:24:28.417Z"
   },
   {
    "duration": 4,
    "start_time": "2023-01-21T17:24:37.545Z"
   },
   {
    "duration": 170,
    "start_time": "2023-01-21T17:24:50.033Z"
   },
   {
    "duration": 3,
    "start_time": "2023-01-21T17:25:03.458Z"
   },
   {
    "duration": 47,
    "start_time": "2023-01-21T17:25:07.753Z"
   },
   {
    "duration": 6,
    "start_time": "2023-01-21T17:25:23.113Z"
   },
   {
    "duration": 4,
    "start_time": "2023-01-21T17:25:28.921Z"
   },
   {
    "duration": 47,
    "start_time": "2023-01-21T17:25:31.057Z"
   },
   {
    "duration": 4,
    "start_time": "2023-01-21T17:25:37.331Z"
   },
   {
    "duration": 11,
    "start_time": "2023-01-21T17:26:08.841Z"
   },
   {
    "duration": 0,
    "start_time": "2023-01-21T17:26:08.854Z"
   },
   {
    "duration": 0,
    "start_time": "2023-01-21T17:26:08.855Z"
   },
   {
    "duration": 0,
    "start_time": "2023-01-21T17:26:08.856Z"
   },
   {
    "duration": 0,
    "start_time": "2023-01-21T17:26:08.857Z"
   },
   {
    "duration": 0,
    "start_time": "2023-01-21T17:26:08.858Z"
   },
   {
    "duration": 0,
    "start_time": "2023-01-21T17:26:08.859Z"
   },
   {
    "duration": 0,
    "start_time": "2023-01-21T17:26:08.860Z"
   },
   {
    "duration": 0,
    "start_time": "2023-01-21T17:26:08.861Z"
   },
   {
    "duration": 12,
    "start_time": "2023-01-21T17:26:08.863Z"
   },
   {
    "duration": 0,
    "start_time": "2023-01-21T17:26:08.877Z"
   },
   {
    "duration": 0,
    "start_time": "2023-01-21T17:26:08.878Z"
   },
   {
    "duration": 0,
    "start_time": "2023-01-21T17:26:08.879Z"
   },
   {
    "duration": 0,
    "start_time": "2023-01-21T17:26:08.880Z"
   },
   {
    "duration": 0,
    "start_time": "2023-01-21T17:26:08.881Z"
   },
   {
    "duration": 0,
    "start_time": "2023-01-21T17:26:08.882Z"
   },
   {
    "duration": 0,
    "start_time": "2023-01-21T17:26:08.884Z"
   },
   {
    "duration": 0,
    "start_time": "2023-01-21T17:26:08.885Z"
   },
   {
    "duration": 0,
    "start_time": "2023-01-21T17:26:08.886Z"
   },
   {
    "duration": 0,
    "start_time": "2023-01-21T17:26:08.888Z"
   },
   {
    "duration": 158,
    "start_time": "2023-01-21T17:26:08.890Z"
   },
   {
    "duration": 38,
    "start_time": "2023-01-21T17:26:09.050Z"
   },
   {
    "duration": 1888,
    "start_time": "2023-01-21T17:26:09.090Z"
   },
   {
    "duration": 90,
    "start_time": "2023-01-21T17:26:10.981Z"
   },
   {
    "duration": 3,
    "start_time": "2023-01-21T17:26:11.072Z"
   },
   {
    "duration": 58,
    "start_time": "2023-01-21T17:26:11.076Z"
   },
   {
    "duration": 4,
    "start_time": "2023-01-21T17:26:11.135Z"
   },
   {
    "duration": 62,
    "start_time": "2023-01-21T17:26:11.143Z"
   },
   {
    "duration": 182,
    "start_time": "2023-01-21T17:26:11.207Z"
   },
   {
    "duration": 3,
    "start_time": "2023-01-21T17:26:11.390Z"
   },
   {
    "duration": 360,
    "start_time": "2023-01-21T17:26:11.395Z"
   },
   {
    "duration": 4,
    "start_time": "2023-01-21T17:26:11.758Z"
   },
   {
    "duration": 14,
    "start_time": "2023-01-21T17:26:11.764Z"
   },
   {
    "duration": 16,
    "start_time": "2023-01-21T17:26:11.780Z"
   },
   {
    "duration": 13,
    "start_time": "2023-01-21T17:26:11.797Z"
   },
   {
    "duration": 19,
    "start_time": "2023-01-21T17:26:11.811Z"
   },
   {
    "duration": 51047,
    "start_time": "2023-01-21T17:26:15.177Z"
   },
   {
    "duration": 692,
    "start_time": "2023-01-21T17:27:22.893Z"
   },
   {
    "duration": 12,
    "start_time": "2023-01-21T17:27:30.415Z"
   },
   {
    "duration": 4,
    "start_time": "2023-01-21T17:33:51.445Z"
   },
   {
    "duration": 6,
    "start_time": "2023-01-21T17:33:54.927Z"
   },
   {
    "duration": 53718,
    "start_time": "2023-01-21T17:33:56.597Z"
   },
   {
    "duration": 4,
    "start_time": "2023-01-21T17:34:53.058Z"
   },
   {
    "duration": 3,
    "start_time": "2023-01-21T17:38:06.183Z"
   },
   {
    "duration": 46,
    "start_time": "2023-01-21T17:38:30.448Z"
   },
   {
    "duration": 1325,
    "start_time": "2023-01-21T17:38:33.196Z"
   },
   {
    "duration": 0,
    "start_time": "2023-01-21T17:38:34.524Z"
   },
   {
    "duration": 0,
    "start_time": "2023-01-21T17:38:34.524Z"
   },
   {
    "duration": 1,
    "start_time": "2023-01-21T17:38:34.525Z"
   },
   {
    "duration": 0,
    "start_time": "2023-01-21T17:38:34.526Z"
   },
   {
    "duration": 0,
    "start_time": "2023-01-21T17:38:34.527Z"
   },
   {
    "duration": 0,
    "start_time": "2023-01-21T17:38:34.528Z"
   },
   {
    "duration": 0,
    "start_time": "2023-01-21T17:38:34.530Z"
   },
   {
    "duration": 0,
    "start_time": "2023-01-21T17:38:34.543Z"
   },
   {
    "duration": 0,
    "start_time": "2023-01-21T17:38:34.544Z"
   },
   {
    "duration": 0,
    "start_time": "2023-01-21T17:38:34.545Z"
   },
   {
    "duration": 0,
    "start_time": "2023-01-21T17:38:34.546Z"
   },
   {
    "duration": 0,
    "start_time": "2023-01-21T17:38:34.547Z"
   },
   {
    "duration": 0,
    "start_time": "2023-01-21T17:38:34.548Z"
   },
   {
    "duration": 0,
    "start_time": "2023-01-21T17:38:34.549Z"
   },
   {
    "duration": 0,
    "start_time": "2023-01-21T17:38:34.550Z"
   },
   {
    "duration": 0,
    "start_time": "2023-01-21T17:38:34.551Z"
   },
   {
    "duration": 0,
    "start_time": "2023-01-21T17:38:34.552Z"
   },
   {
    "duration": 0,
    "start_time": "2023-01-21T17:38:34.553Z"
   },
   {
    "duration": 0,
    "start_time": "2023-01-21T17:38:34.554Z"
   },
   {
    "duration": 0,
    "start_time": "2023-01-21T17:38:34.555Z"
   },
   {
    "duration": 0,
    "start_time": "2023-01-21T17:38:34.556Z"
   },
   {
    "duration": 0,
    "start_time": "2023-01-21T17:38:34.557Z"
   },
   {
    "duration": 0,
    "start_time": "2023-01-21T17:38:34.558Z"
   },
   {
    "duration": 0,
    "start_time": "2023-01-21T17:38:34.558Z"
   },
   {
    "duration": 0,
    "start_time": "2023-01-21T17:38:34.559Z"
   },
   {
    "duration": 0,
    "start_time": "2023-01-21T17:38:34.560Z"
   },
   {
    "duration": 0,
    "start_time": "2023-01-21T17:38:34.562Z"
   },
   {
    "duration": 0,
    "start_time": "2023-01-21T17:38:34.562Z"
   },
   {
    "duration": 0,
    "start_time": "2023-01-21T17:38:34.563Z"
   },
   {
    "duration": 0,
    "start_time": "2023-01-21T17:38:34.564Z"
   },
   {
    "duration": 1,
    "start_time": "2023-01-21T17:38:34.564Z"
   },
   {
    "duration": 0,
    "start_time": "2023-01-21T17:38:34.565Z"
   },
   {
    "duration": 0,
    "start_time": "2023-01-21T17:38:34.566Z"
   },
   {
    "duration": 12,
    "start_time": "2023-01-21T17:38:47.494Z"
   },
   {
    "duration": 0,
    "start_time": "2023-01-21T17:38:47.508Z"
   },
   {
    "duration": 0,
    "start_time": "2023-01-21T17:38:47.509Z"
   },
   {
    "duration": 0,
    "start_time": "2023-01-21T17:38:47.510Z"
   },
   {
    "duration": 0,
    "start_time": "2023-01-21T17:38:47.511Z"
   },
   {
    "duration": 0,
    "start_time": "2023-01-21T17:38:47.512Z"
   },
   {
    "duration": 10,
    "start_time": "2023-01-21T17:38:47.515Z"
   },
   {
    "duration": 0,
    "start_time": "2023-01-21T17:38:47.527Z"
   },
   {
    "duration": 0,
    "start_time": "2023-01-21T17:38:47.529Z"
   },
   {
    "duration": 0,
    "start_time": "2023-01-21T17:38:47.529Z"
   },
   {
    "duration": 0,
    "start_time": "2023-01-21T17:38:47.531Z"
   },
   {
    "duration": 0,
    "start_time": "2023-01-21T17:38:47.532Z"
   },
   {
    "duration": 0,
    "start_time": "2023-01-21T17:38:47.533Z"
   },
   {
    "duration": 10,
    "start_time": "2023-01-21T17:38:47.535Z"
   },
   {
    "duration": 0,
    "start_time": "2023-01-21T17:38:47.547Z"
   },
   {
    "duration": 0,
    "start_time": "2023-01-21T17:38:47.548Z"
   },
   {
    "duration": 0,
    "start_time": "2023-01-21T17:38:47.549Z"
   },
   {
    "duration": 0,
    "start_time": "2023-01-21T17:38:47.550Z"
   },
   {
    "duration": 2,
    "start_time": "2023-01-21T17:38:47.552Z"
   },
   {
    "duration": 8,
    "start_time": "2023-01-21T17:38:47.557Z"
   },
   {
    "duration": 0,
    "start_time": "2023-01-21T17:38:47.566Z"
   },
   {
    "duration": 0,
    "start_time": "2023-01-21T17:38:47.567Z"
   },
   {
    "duration": 499,
    "start_time": "2023-01-21T17:38:47.569Z"
   },
   {
    "duration": 0,
    "start_time": "2023-01-21T17:38:48.070Z"
   },
   {
    "duration": 0,
    "start_time": "2023-01-21T17:38:48.072Z"
   },
   {
    "duration": 0,
    "start_time": "2023-01-21T17:38:48.073Z"
   },
   {
    "duration": 0,
    "start_time": "2023-01-21T17:38:48.074Z"
   },
   {
    "duration": 0,
    "start_time": "2023-01-21T17:38:48.076Z"
   },
   {
    "duration": 0,
    "start_time": "2023-01-21T17:38:48.077Z"
   },
   {
    "duration": 0,
    "start_time": "2023-01-21T17:38:48.079Z"
   },
   {
    "duration": 0,
    "start_time": "2023-01-21T17:38:48.080Z"
   },
   {
    "duration": 0,
    "start_time": "2023-01-21T17:38:48.081Z"
   },
   {
    "duration": 0,
    "start_time": "2023-01-21T17:38:48.082Z"
   },
   {
    "duration": 0,
    "start_time": "2023-01-21T17:38:48.084Z"
   },
   {
    "duration": 12,
    "start_time": "2023-01-21T17:38:56.628Z"
   },
   {
    "duration": 0,
    "start_time": "2023-01-21T17:38:56.642Z"
   },
   {
    "duration": 0,
    "start_time": "2023-01-21T17:38:56.643Z"
   },
   {
    "duration": 0,
    "start_time": "2023-01-21T17:38:56.644Z"
   },
   {
    "duration": 0,
    "start_time": "2023-01-21T17:38:56.645Z"
   },
   {
    "duration": 0,
    "start_time": "2023-01-21T17:38:56.646Z"
   },
   {
    "duration": 0,
    "start_time": "2023-01-21T17:38:56.647Z"
   },
   {
    "duration": 7,
    "start_time": "2023-01-21T17:38:56.649Z"
   },
   {
    "duration": 0,
    "start_time": "2023-01-21T17:38:56.658Z"
   },
   {
    "duration": 0,
    "start_time": "2023-01-21T17:38:56.660Z"
   },
   {
    "duration": 0,
    "start_time": "2023-01-21T17:38:56.661Z"
   },
   {
    "duration": 0,
    "start_time": "2023-01-21T17:38:56.663Z"
   },
   {
    "duration": 0,
    "start_time": "2023-01-21T17:38:56.664Z"
   },
   {
    "duration": 11,
    "start_time": "2023-01-21T17:38:56.666Z"
   },
   {
    "duration": 0,
    "start_time": "2023-01-21T17:38:56.679Z"
   },
   {
    "duration": 0,
    "start_time": "2023-01-21T17:38:56.680Z"
   },
   {
    "duration": 0,
    "start_time": "2023-01-21T17:38:56.682Z"
   },
   {
    "duration": 0,
    "start_time": "2023-01-21T17:38:56.683Z"
   },
   {
    "duration": 59,
    "start_time": "2023-01-21T17:38:56.685Z"
   },
   {
    "duration": 12,
    "start_time": "2023-01-21T17:38:56.747Z"
   },
   {
    "duration": 0,
    "start_time": "2023-01-21T17:38:56.761Z"
   },
   {
    "duration": 0,
    "start_time": "2023-01-21T17:38:56.762Z"
   },
   {
    "duration": 0,
    "start_time": "2023-01-21T17:38:56.763Z"
   },
   {
    "duration": 0,
    "start_time": "2023-01-21T17:38:56.765Z"
   },
   {
    "duration": 0,
    "start_time": "2023-01-21T17:38:56.765Z"
   },
   {
    "duration": 0,
    "start_time": "2023-01-21T17:38:56.767Z"
   },
   {
    "duration": 0,
    "start_time": "2023-01-21T17:38:56.767Z"
   },
   {
    "duration": 0,
    "start_time": "2023-01-21T17:38:56.768Z"
   },
   {
    "duration": 0,
    "start_time": "2023-01-21T17:38:56.769Z"
   },
   {
    "duration": 0,
    "start_time": "2023-01-21T17:38:56.770Z"
   },
   {
    "duration": 0,
    "start_time": "2023-01-21T17:38:56.772Z"
   },
   {
    "duration": 0,
    "start_time": "2023-01-21T17:38:56.773Z"
   },
   {
    "duration": 0,
    "start_time": "2023-01-21T17:38:56.774Z"
   },
   {
    "duration": 0,
    "start_time": "2023-01-21T17:38:56.775Z"
   },
   {
    "duration": 89,
    "start_time": "2023-01-21T17:39:24.255Z"
   },
   {
    "duration": 2822,
    "start_time": "2023-01-21T17:39:24.346Z"
   },
   {
    "duration": 121,
    "start_time": "2023-01-21T17:39:27.169Z"
   },
   {
    "duration": 2,
    "start_time": "2023-01-21T17:39:27.292Z"
   },
   {
    "duration": 36,
    "start_time": "2023-01-21T17:39:27.296Z"
   },
   {
    "duration": 72,
    "start_time": "2023-01-21T17:39:27.333Z"
   },
   {
    "duration": 3,
    "start_time": "2023-01-21T17:39:27.406Z"
   },
   {
    "duration": 123,
    "start_time": "2023-01-21T17:39:27.410Z"
   },
   {
    "duration": 423,
    "start_time": "2023-01-21T17:39:27.534Z"
   },
   {
    "duration": 36,
    "start_time": "2023-01-21T17:39:27.959Z"
   },
   {
    "duration": 123,
    "start_time": "2023-01-21T17:39:27.997Z"
   },
   {
    "duration": 92,
    "start_time": "2023-01-21T17:39:28.122Z"
   },
   {
    "duration": 123,
    "start_time": "2023-01-21T17:39:28.215Z"
   },
   {
    "duration": 78,
    "start_time": "2023-01-21T17:39:28.343Z"
   },
   {
    "duration": 81,
    "start_time": "2023-01-21T17:39:28.423Z"
   },
   {
    "duration": 351,
    "start_time": "2023-01-21T17:39:28.506Z"
   },
   {
    "duration": 13,
    "start_time": "2023-01-21T17:39:28.859Z"
   },
   {
    "duration": 739,
    "start_time": "2023-01-21T17:39:28.873Z"
   },
   {
    "duration": 2,
    "start_time": "2023-01-21T17:39:29.613Z"
   },
   {
    "duration": 29,
    "start_time": "2023-01-21T17:39:29.617Z"
   },
   {
    "duration": 63,
    "start_time": "2023-01-21T17:39:29.648Z"
   },
   {
    "duration": 53,
    "start_time": "2023-01-21T17:39:29.713Z"
   },
   {
    "duration": 1885,
    "start_time": "2023-01-21T17:39:29.768Z"
   },
   {
    "duration": 91,
    "start_time": "2023-01-21T17:39:31.655Z"
   },
   {
    "duration": 4,
    "start_time": "2023-01-21T17:39:31.748Z"
   },
   {
    "duration": 62,
    "start_time": "2023-01-21T17:39:31.754Z"
   },
   {
    "duration": 4,
    "start_time": "2023-01-21T17:39:31.818Z"
   },
   {
    "duration": 78,
    "start_time": "2023-01-21T17:39:31.823Z"
   },
   {
    "duration": 180,
    "start_time": "2023-01-21T17:39:31.902Z"
   },
   {
    "duration": 4,
    "start_time": "2023-01-21T17:39:32.084Z"
   },
   {
    "duration": 326,
    "start_time": "2023-01-21T17:39:32.089Z"
   },
   {
    "duration": 3,
    "start_time": "2023-01-21T17:39:32.417Z"
   },
   {
    "duration": 8,
    "start_time": "2023-01-21T17:39:32.421Z"
   },
   {
    "duration": 14,
    "start_time": "2023-01-21T17:39:32.430Z"
   },
   {
    "duration": 3,
    "start_time": "2023-01-21T17:39:36.744Z"
   },
   {
    "duration": 417438,
    "start_time": "2023-01-21T17:39:37.546Z"
   },
   {
    "duration": 11,
    "start_time": "2023-01-21T17:46:51.497Z"
   },
   {
    "duration": 4,
    "start_time": "2023-01-21T17:47:11.539Z"
   },
   {
    "duration": 12337,
    "start_time": "2023-01-21T17:47:13.283Z"
   },
   {
    "duration": 4,
    "start_time": "2023-01-21T17:47:39.345Z"
   },
   {
    "duration": 22074,
    "start_time": "2023-01-21T17:47:40.323Z"
   },
   {
    "duration": 15097,
    "start_time": "2023-01-21T17:49:33.228Z"
   },
   {
    "duration": 4,
    "start_time": "2023-01-21T17:50:51.178Z"
   },
   {
    "duration": 3,
    "start_time": "2023-01-21T17:51:01.100Z"
   },
   {
    "duration": 15755,
    "start_time": "2023-01-21T17:51:01.659Z"
   },
   {
    "duration": 3,
    "start_time": "2023-01-21T17:55:11.917Z"
   },
   {
    "duration": 54,
    "start_time": "2023-01-21T17:56:24.573Z"
   },
   {
    "duration": 1352,
    "start_time": "2023-01-21T17:56:35.596Z"
   },
   {
    "duration": 3077,
    "start_time": "2023-01-21T17:56:36.949Z"
   },
   {
    "duration": 126,
    "start_time": "2023-01-21T17:56:40.028Z"
   },
   {
    "duration": 6,
    "start_time": "2023-01-21T17:56:40.156Z"
   },
   {
    "duration": 30,
    "start_time": "2023-01-21T17:56:40.164Z"
   },
   {
    "duration": 69,
    "start_time": "2023-01-21T17:56:40.196Z"
   },
   {
    "duration": 4,
    "start_time": "2023-01-21T17:56:40.267Z"
   },
   {
    "duration": 138,
    "start_time": "2023-01-21T17:56:40.272Z"
   },
   {
    "duration": 467,
    "start_time": "2023-01-21T17:56:40.412Z"
   },
   {
    "duration": 41,
    "start_time": "2023-01-21T17:56:40.882Z"
   },
   {
    "duration": 101,
    "start_time": "2023-01-21T17:56:40.925Z"
   },
   {
    "duration": 95,
    "start_time": "2023-01-21T17:56:41.028Z"
   },
   {
    "duration": 160,
    "start_time": "2023-01-21T17:56:41.125Z"
   },
   {
    "duration": 92,
    "start_time": "2023-01-21T17:56:41.287Z"
   },
   {
    "duration": 102,
    "start_time": "2023-01-21T17:56:41.381Z"
   },
   {
    "duration": 407,
    "start_time": "2023-01-21T17:56:41.484Z"
   },
   {
    "duration": 19,
    "start_time": "2023-01-21T17:56:41.893Z"
   },
   {
    "duration": 928,
    "start_time": "2023-01-21T17:56:41.914Z"
   },
   {
    "duration": 3,
    "start_time": "2023-01-21T17:56:42.844Z"
   },
   {
    "duration": 57,
    "start_time": "2023-01-21T17:56:42.849Z"
   },
   {
    "duration": 103,
    "start_time": "2023-01-21T17:56:42.908Z"
   },
   {
    "duration": 48,
    "start_time": "2023-01-21T17:56:43.013Z"
   },
   {
    "duration": 2142,
    "start_time": "2023-01-21T17:56:43.063Z"
   },
   {
    "duration": 178,
    "start_time": "2023-01-21T17:56:45.206Z"
   },
   {
    "duration": 3,
    "start_time": "2023-01-21T17:56:45.386Z"
   },
   {
    "duration": 66,
    "start_time": "2023-01-21T17:56:45.390Z"
   },
   {
    "duration": 4,
    "start_time": "2023-01-21T17:56:45.458Z"
   },
   {
    "duration": 78,
    "start_time": "2023-01-21T17:56:45.466Z"
   },
   {
    "duration": 215,
    "start_time": "2023-01-21T17:56:45.546Z"
   },
   {
    "duration": 4,
    "start_time": "2023-01-21T17:56:45.763Z"
   },
   {
    "duration": 372,
    "start_time": "2023-01-21T17:56:45.769Z"
   },
   {
    "duration": 4,
    "start_time": "2023-01-21T17:56:46.143Z"
   },
   {
    "duration": 11,
    "start_time": "2023-01-21T17:56:46.148Z"
   },
   {
    "duration": 9,
    "start_time": "2023-01-21T17:56:46.160Z"
   },
   {
    "duration": 4,
    "start_time": "2023-01-21T17:57:00.316Z"
   },
   {
    "duration": 1375,
    "start_time": "2023-01-21T17:57:47.105Z"
   },
   {
    "duration": 2809,
    "start_time": "2023-01-21T17:57:48.482Z"
   },
   {
    "duration": 121,
    "start_time": "2023-01-21T17:57:51.293Z"
   },
   {
    "duration": 3,
    "start_time": "2023-01-21T17:57:51.416Z"
   },
   {
    "duration": 27,
    "start_time": "2023-01-21T17:57:51.420Z"
   },
   {
    "duration": 49,
    "start_time": "2023-01-21T17:57:51.448Z"
   },
   {
    "duration": 3,
    "start_time": "2023-01-21T17:57:51.499Z"
   },
   {
    "duration": 151,
    "start_time": "2023-01-21T17:57:51.504Z"
   },
   {
    "duration": 507,
    "start_time": "2023-01-21T17:57:51.657Z"
   },
   {
    "duration": 38,
    "start_time": "2023-01-21T17:57:52.166Z"
   },
   {
    "duration": 108,
    "start_time": "2023-01-21T17:57:52.206Z"
   },
   {
    "duration": 96,
    "start_time": "2023-01-21T17:57:52.315Z"
   },
   {
    "duration": 144,
    "start_time": "2023-01-21T17:57:52.412Z"
   },
   {
    "duration": 72,
    "start_time": "2023-01-21T17:57:52.558Z"
   },
   {
    "duration": 73,
    "start_time": "2023-01-21T17:57:52.632Z"
   },
   {
    "duration": 358,
    "start_time": "2023-01-21T17:57:52.707Z"
   },
   {
    "duration": 16,
    "start_time": "2023-01-21T17:57:53.066Z"
   },
   {
    "duration": 811,
    "start_time": "2023-01-21T17:57:53.083Z"
   },
   {
    "duration": 2,
    "start_time": "2023-01-21T17:57:53.896Z"
   },
   {
    "duration": 32,
    "start_time": "2023-01-21T17:57:53.899Z"
   },
   {
    "duration": 86,
    "start_time": "2023-01-21T17:57:53.933Z"
   },
   {
    "duration": 54,
    "start_time": "2023-01-21T17:57:54.023Z"
   },
   {
    "duration": 2008,
    "start_time": "2023-01-21T17:57:54.079Z"
   },
   {
    "duration": 168,
    "start_time": "2023-01-21T17:57:56.089Z"
   },
   {
    "duration": 3,
    "start_time": "2023-01-21T17:57:56.258Z"
   },
   {
    "duration": 59,
    "start_time": "2023-01-21T17:57:56.264Z"
   },
   {
    "duration": 4,
    "start_time": "2023-01-21T17:57:56.324Z"
   },
   {
    "duration": 60,
    "start_time": "2023-01-21T17:57:56.343Z"
   },
   {
    "duration": 198,
    "start_time": "2023-01-21T17:57:56.405Z"
   },
   {
    "duration": 4,
    "start_time": "2023-01-21T17:57:56.604Z"
   },
   {
    "duration": 359,
    "start_time": "2023-01-21T17:57:56.609Z"
   },
   {
    "duration": 4,
    "start_time": "2023-01-21T17:57:56.970Z"
   },
   {
    "duration": 20,
    "start_time": "2023-01-21T17:57:56.975Z"
   },
   {
    "duration": 12,
    "start_time": "2023-01-21T17:57:56.997Z"
   },
   {
    "duration": 3,
    "start_time": "2023-01-21T17:58:00.743Z"
   },
   {
    "duration": 57,
    "start_time": "2023-01-21T17:58:17.253Z"
   },
   {
    "duration": 1429,
    "start_time": "2023-01-21T17:58:23.986Z"
   },
   {
    "duration": 3014,
    "start_time": "2023-01-21T17:58:25.417Z"
   },
   {
    "duration": 127,
    "start_time": "2023-01-21T17:58:28.433Z"
   },
   {
    "duration": 2,
    "start_time": "2023-01-21T17:58:28.562Z"
   },
   {
    "duration": 24,
    "start_time": "2023-01-21T17:58:28.566Z"
   },
   {
    "duration": 67,
    "start_time": "2023-01-21T17:58:28.591Z"
   },
   {
    "duration": 3,
    "start_time": "2023-01-21T17:58:28.660Z"
   },
   {
    "duration": 130,
    "start_time": "2023-01-21T17:58:28.664Z"
   },
   {
    "duration": 464,
    "start_time": "2023-01-21T17:58:28.795Z"
   },
   {
    "duration": 37,
    "start_time": "2023-01-21T17:58:29.261Z"
   },
   {
    "duration": 105,
    "start_time": "2023-01-21T17:58:29.300Z"
   },
   {
    "duration": 88,
    "start_time": "2023-01-21T17:58:29.406Z"
   },
   {
    "duration": 148,
    "start_time": "2023-01-21T17:58:29.496Z"
   },
   {
    "duration": 73,
    "start_time": "2023-01-21T17:58:29.645Z"
   },
   {
    "duration": 78,
    "start_time": "2023-01-21T17:58:29.720Z"
   },
   {
    "duration": 355,
    "start_time": "2023-01-21T17:58:29.800Z"
   },
   {
    "duration": 14,
    "start_time": "2023-01-21T17:58:30.157Z"
   },
   {
    "duration": 863,
    "start_time": "2023-01-21T17:58:30.173Z"
   },
   {
    "duration": 2,
    "start_time": "2023-01-21T17:58:31.038Z"
   },
   {
    "duration": 27,
    "start_time": "2023-01-21T17:58:31.044Z"
   },
   {
    "duration": 91,
    "start_time": "2023-01-21T17:58:31.073Z"
   },
   {
    "duration": 40,
    "start_time": "2023-01-21T17:58:31.165Z"
   },
   {
    "duration": 1905,
    "start_time": "2023-01-21T17:58:31.206Z"
   },
   {
    "duration": 177,
    "start_time": "2023-01-21T17:58:33.113Z"
   },
   {
    "duration": 3,
    "start_time": "2023-01-21T17:58:33.292Z"
   },
   {
    "duration": 70,
    "start_time": "2023-01-21T17:58:33.296Z"
   },
   {
    "duration": 4,
    "start_time": "2023-01-21T17:58:33.367Z"
   },
   {
    "duration": 86,
    "start_time": "2023-01-21T17:58:33.374Z"
   },
   {
    "duration": 198,
    "start_time": "2023-01-21T17:58:33.462Z"
   },
   {
    "duration": 4,
    "start_time": "2023-01-21T17:58:33.662Z"
   },
   {
    "duration": 383,
    "start_time": "2023-01-21T17:58:33.668Z"
   },
   {
    "duration": 5,
    "start_time": "2023-01-21T17:58:34.053Z"
   },
   {
    "duration": 9,
    "start_time": "2023-01-21T17:58:34.059Z"
   },
   {
    "duration": 15,
    "start_time": "2023-01-21T17:58:34.069Z"
   },
   {
    "duration": 3,
    "start_time": "2023-01-21T17:58:36.567Z"
   },
   {
    "duration": 778484,
    "start_time": "2023-01-21T17:58:38.118Z"
   },
   {
    "duration": 3,
    "start_time": "2023-01-21T18:11:36.604Z"
   },
   {
    "duration": 96,
    "start_time": "2023-01-21T18:11:36.609Z"
   },
   {
    "duration": 4,
    "start_time": "2023-01-21T18:15:13.600Z"
   },
   {
    "duration": 5,
    "start_time": "2023-01-21T18:17:53.999Z"
   },
   {
    "duration": 1420,
    "start_time": "2023-01-21T18:18:43.116Z"
   },
   {
    "duration": 2951,
    "start_time": "2023-01-21T18:18:44.538Z"
   },
   {
    "duration": 125,
    "start_time": "2023-01-21T18:18:47.491Z"
   },
   {
    "duration": 3,
    "start_time": "2023-01-21T18:18:47.617Z"
   },
   {
    "duration": 31,
    "start_time": "2023-01-21T18:18:47.622Z"
   },
   {
    "duration": 49,
    "start_time": "2023-01-21T18:18:47.655Z"
   },
   {
    "duration": 2,
    "start_time": "2023-01-21T18:18:47.706Z"
   },
   {
    "duration": 129,
    "start_time": "2023-01-21T18:18:47.710Z"
   },
   {
    "duration": 449,
    "start_time": "2023-01-21T18:18:47.844Z"
   },
   {
    "duration": 37,
    "start_time": "2023-01-21T18:18:48.294Z"
   },
   {
    "duration": 87,
    "start_time": "2023-01-21T18:18:48.344Z"
   },
   {
    "duration": 84,
    "start_time": "2023-01-21T18:18:48.433Z"
   },
   {
    "duration": 131,
    "start_time": "2023-01-21T18:18:48.519Z"
   },
   {
    "duration": 68,
    "start_time": "2023-01-21T18:18:48.652Z"
   },
   {
    "duration": 71,
    "start_time": "2023-01-21T18:18:48.721Z"
   },
   {
    "duration": 352,
    "start_time": "2023-01-21T18:18:48.794Z"
   },
   {
    "duration": 16,
    "start_time": "2023-01-21T18:18:49.148Z"
   },
   {
    "duration": 781,
    "start_time": "2023-01-21T18:18:49.166Z"
   },
   {
    "duration": 2,
    "start_time": "2023-01-21T18:18:49.949Z"
   },
   {
    "duration": 50,
    "start_time": "2023-01-21T18:18:49.953Z"
   },
   {
    "duration": 84,
    "start_time": "2023-01-21T18:18:50.004Z"
   },
   {
    "duration": 39,
    "start_time": "2023-01-21T18:18:50.089Z"
   },
   {
    "duration": 1842,
    "start_time": "2023-01-21T18:18:50.130Z"
   },
   {
    "duration": 172,
    "start_time": "2023-01-21T18:18:51.974Z"
   },
   {
    "duration": 3,
    "start_time": "2023-01-21T18:18:52.147Z"
   },
   {
    "duration": 62,
    "start_time": "2023-01-21T18:18:52.151Z"
   },
   {
    "duration": 4,
    "start_time": "2023-01-21T18:18:52.215Z"
   },
   {
    "duration": 70,
    "start_time": "2023-01-21T18:18:52.220Z"
   },
   {
    "duration": 185,
    "start_time": "2023-01-21T18:18:52.292Z"
   },
   {
    "duration": 4,
    "start_time": "2023-01-21T18:18:52.479Z"
   },
   {
    "duration": 330,
    "start_time": "2023-01-21T18:18:52.484Z"
   },
   {
    "duration": 4,
    "start_time": "2023-01-21T18:18:52.816Z"
   },
   {
    "duration": 12,
    "start_time": "2023-01-21T18:18:52.821Z"
   },
   {
    "duration": 14,
    "start_time": "2023-01-21T18:18:52.834Z"
   },
   {
    "duration": 3,
    "start_time": "2023-01-21T18:19:07.608Z"
   },
   {
    "duration": 1922,
    "start_time": "2023-01-21T18:19:29.197Z"
   },
   {
    "duration": 2952,
    "start_time": "2023-01-21T18:19:31.122Z"
   },
   {
    "duration": 123,
    "start_time": "2023-01-21T18:19:34.076Z"
   },
   {
    "duration": 2,
    "start_time": "2023-01-21T18:19:34.201Z"
   },
   {
    "duration": 19,
    "start_time": "2023-01-21T18:19:34.205Z"
   },
   {
    "duration": 69,
    "start_time": "2023-01-21T18:19:34.226Z"
   },
   {
    "duration": 2,
    "start_time": "2023-01-21T18:19:34.297Z"
   },
   {
    "duration": 134,
    "start_time": "2023-01-21T18:19:34.301Z"
   },
   {
    "duration": 512,
    "start_time": "2023-01-21T18:19:34.437Z"
   },
   {
    "duration": 35,
    "start_time": "2023-01-21T18:19:34.950Z"
   },
   {
    "duration": 103,
    "start_time": "2023-01-21T18:19:34.987Z"
   },
   {
    "duration": 92,
    "start_time": "2023-01-21T18:19:35.092Z"
   },
   {
    "duration": 134,
    "start_time": "2023-01-21T18:19:35.186Z"
   },
   {
    "duration": 77,
    "start_time": "2023-01-21T18:19:35.323Z"
   },
   {
    "duration": 658,
    "start_time": "2023-01-21T18:19:35.401Z"
   },
   {
    "duration": 869,
    "start_time": "2023-01-21T18:19:36.061Z"
   },
   {
    "duration": 22,
    "start_time": "2023-01-21T18:19:36.931Z"
   },
   {
    "duration": 837,
    "start_time": "2023-01-21T18:19:36.954Z"
   },
   {
    "duration": 2,
    "start_time": "2023-01-21T18:19:37.793Z"
   },
   {
    "duration": 25,
    "start_time": "2023-01-21T18:19:37.797Z"
   },
   {
    "duration": 92,
    "start_time": "2023-01-21T18:19:37.823Z"
   },
   {
    "duration": 54,
    "start_time": "2023-01-21T18:19:37.917Z"
   },
   {
    "duration": 1896,
    "start_time": "2023-01-21T18:19:37.972Z"
   },
   {
    "duration": 178,
    "start_time": "2023-01-21T18:19:39.869Z"
   },
   {
    "duration": 3,
    "start_time": "2023-01-21T18:19:40.049Z"
   },
   {
    "duration": 63,
    "start_time": "2023-01-21T18:19:40.054Z"
   },
   {
    "duration": 4,
    "start_time": "2023-01-21T18:19:40.119Z"
   },
   {
    "duration": 60,
    "start_time": "2023-01-21T18:19:40.144Z"
   },
   {
    "duration": 193,
    "start_time": "2023-01-21T18:19:40.205Z"
   },
   {
    "duration": 4,
    "start_time": "2023-01-21T18:19:40.400Z"
   },
   {
    "duration": 347,
    "start_time": "2023-01-21T18:19:40.406Z"
   },
   {
    "duration": 5,
    "start_time": "2023-01-21T18:19:40.755Z"
   },
   {
    "duration": 9,
    "start_time": "2023-01-21T18:19:40.762Z"
   },
   {
    "duration": 4,
    "start_time": "2023-01-21T18:33:24.196Z"
   },
   {
    "duration": 736,
    "start_time": "2023-01-21T18:33:24.202Z"
   },
   {
    "duration": 118,
    "start_time": "2023-01-21T18:33:24.940Z"
   },
   {
    "duration": 2,
    "start_time": "2023-01-21T18:33:25.060Z"
   },
   {
    "duration": 15,
    "start_time": "2023-01-21T18:33:25.065Z"
   },
   {
    "duration": 24,
    "start_time": "2023-01-21T18:33:25.082Z"
   },
   {
    "duration": 3,
    "start_time": "2023-01-21T18:33:25.107Z"
   },
   {
    "duration": 141,
    "start_time": "2023-01-21T18:33:25.112Z"
   },
   {
    "duration": 384,
    "start_time": "2023-01-21T18:33:25.255Z"
   },
   {
    "duration": 23,
    "start_time": "2023-01-21T18:33:25.644Z"
   },
   {
    "duration": 96,
    "start_time": "2023-01-21T18:33:25.669Z"
   },
   {
    "duration": 82,
    "start_time": "2023-01-21T18:33:25.767Z"
   },
   {
    "duration": 114,
    "start_time": "2023-01-21T18:33:25.851Z"
   },
   {
    "duration": 67,
    "start_time": "2023-01-21T18:33:25.967Z"
   },
   {
    "duration": 64,
    "start_time": "2023-01-21T18:33:26.043Z"
   },
   {
    "duration": 320,
    "start_time": "2023-01-21T18:33:26.108Z"
   },
   {
    "duration": 22,
    "start_time": "2023-01-21T18:33:26.429Z"
   },
   {
    "duration": 771,
    "start_time": "2023-01-21T18:33:26.453Z"
   },
   {
    "duration": 2,
    "start_time": "2023-01-21T18:33:27.226Z"
   },
   {
    "duration": 26,
    "start_time": "2023-01-21T18:33:27.229Z"
   },
   {
    "duration": 69,
    "start_time": "2023-01-21T18:33:27.257Z"
   },
   {
    "duration": 57,
    "start_time": "2023-01-21T18:33:27.328Z"
   },
   {
    "duration": 1803,
    "start_time": "2023-01-21T18:33:27.388Z"
   },
   {
    "duration": 88,
    "start_time": "2023-01-21T18:33:29.192Z"
   },
   {
    "duration": 3,
    "start_time": "2023-01-21T18:33:29.282Z"
   },
   {
    "duration": 60,
    "start_time": "2023-01-21T18:33:29.286Z"
   },
   {
    "duration": 4,
    "start_time": "2023-01-21T18:33:29.347Z"
   },
   {
    "duration": 60,
    "start_time": "2023-01-21T18:33:29.352Z"
   },
   {
    "duration": 189,
    "start_time": "2023-01-21T18:33:29.414Z"
   },
   {
    "duration": 3,
    "start_time": "2023-01-21T18:33:29.605Z"
   },
   {
    "duration": 338,
    "start_time": "2023-01-21T18:33:29.610Z"
   },
   {
    "duration": 4,
    "start_time": "2023-01-21T18:33:29.950Z"
   },
   {
    "duration": 12,
    "start_time": "2023-01-21T18:33:29.955Z"
   },
   {
    "duration": 4,
    "start_time": "2023-01-21T18:33:36.692Z"
   },
   {
    "duration": 1492,
    "start_time": "2023-01-21T18:35:14.745Z"
   },
   {
    "duration": 3038,
    "start_time": "2023-01-21T18:35:16.240Z"
   },
   {
    "duration": 119,
    "start_time": "2023-01-21T18:35:19.280Z"
   },
   {
    "duration": 6,
    "start_time": "2023-01-21T18:35:19.401Z"
   },
   {
    "duration": 41,
    "start_time": "2023-01-21T18:35:19.408Z"
   },
   {
    "duration": 59,
    "start_time": "2023-01-21T18:35:19.452Z"
   },
   {
    "duration": 4,
    "start_time": "2023-01-21T18:35:19.512Z"
   },
   {
    "duration": 137,
    "start_time": "2023-01-21T18:35:19.518Z"
   },
   {
    "duration": 454,
    "start_time": "2023-01-21T18:35:19.657Z"
   },
   {
    "duration": 38,
    "start_time": "2023-01-21T18:35:20.113Z"
   },
   {
    "duration": 96,
    "start_time": "2023-01-21T18:35:20.153Z"
   },
   {
    "duration": 79,
    "start_time": "2023-01-21T18:35:20.251Z"
   },
   {
    "duration": 156,
    "start_time": "2023-01-21T18:35:20.332Z"
   },
   {
    "duration": 84,
    "start_time": "2023-01-21T18:35:20.490Z"
   },
   {
    "duration": 70,
    "start_time": "2023-01-21T18:35:20.576Z"
   },
   {
    "duration": 346,
    "start_time": "2023-01-21T18:35:20.648Z"
   },
   {
    "duration": 16,
    "start_time": "2023-01-21T18:35:20.996Z"
   },
   {
    "duration": 818,
    "start_time": "2023-01-21T18:35:21.014Z"
   },
   {
    "duration": 3,
    "start_time": "2023-01-21T18:35:21.833Z"
   },
   {
    "duration": 28,
    "start_time": "2023-01-21T18:35:21.837Z"
   },
   {
    "duration": 79,
    "start_time": "2023-01-21T18:35:21.866Z"
   },
   {
    "duration": 48,
    "start_time": "2023-01-21T18:35:21.946Z"
   },
   {
    "duration": 1943,
    "start_time": "2023-01-21T18:35:21.995Z"
   },
   {
    "duration": 171,
    "start_time": "2023-01-21T18:35:23.943Z"
   },
   {
    "duration": 3,
    "start_time": "2023-01-21T18:35:24.116Z"
   },
   {
    "duration": 65,
    "start_time": "2023-01-21T18:35:24.120Z"
   },
   {
    "duration": 4,
    "start_time": "2023-01-21T18:35:24.187Z"
   },
   {
    "duration": 72,
    "start_time": "2023-01-21T18:35:24.193Z"
   },
   {
    "duration": 190,
    "start_time": "2023-01-21T18:35:24.266Z"
   },
   {
    "duration": 4,
    "start_time": "2023-01-21T18:35:24.457Z"
   },
   {
    "duration": 346,
    "start_time": "2023-01-21T18:35:24.463Z"
   },
   {
    "duration": 3,
    "start_time": "2023-01-21T18:35:24.811Z"
   },
   {
    "duration": 14,
    "start_time": "2023-01-21T18:35:24.816Z"
   },
   {
    "duration": 108,
    "start_time": "2023-01-21T18:47:43.121Z"
   },
   {
    "duration": 4,
    "start_time": "2023-01-21T18:48:08.376Z"
   },
   {
    "duration": 4,
    "start_time": "2023-01-21T18:48:36.596Z"
   },
   {
    "duration": 690,
    "start_time": "2023-01-21T18:48:36.602Z"
   },
   {
    "duration": 134,
    "start_time": "2023-01-21T18:48:37.294Z"
   },
   {
    "duration": 4,
    "start_time": "2023-01-21T18:48:37.430Z"
   },
   {
    "duration": 16,
    "start_time": "2023-01-21T18:48:37.445Z"
   },
   {
    "duration": 24,
    "start_time": "2023-01-21T18:48:37.463Z"
   },
   {
    "duration": 4,
    "start_time": "2023-01-21T18:48:37.489Z"
   },
   {
    "duration": 138,
    "start_time": "2023-01-21T18:48:37.494Z"
   },
   {
    "duration": 432,
    "start_time": "2023-01-21T18:48:37.633Z"
   },
   {
    "duration": 25,
    "start_time": "2023-01-21T18:48:38.067Z"
   },
   {
    "duration": 101,
    "start_time": "2023-01-21T18:48:38.093Z"
   },
   {
    "duration": 83,
    "start_time": "2023-01-21T18:48:38.196Z"
   },
   {
    "duration": 125,
    "start_time": "2023-01-21T18:48:38.281Z"
   },
   {
    "duration": 76,
    "start_time": "2023-01-21T18:48:38.409Z"
   },
   {
    "duration": 70,
    "start_time": "2023-01-21T18:48:38.487Z"
   },
   {
    "duration": 325,
    "start_time": "2023-01-21T18:48:38.558Z"
   },
   {
    "duration": 15,
    "start_time": "2023-01-21T18:48:38.885Z"
   },
   {
    "duration": 852,
    "start_time": "2023-01-21T18:48:38.901Z"
   },
   {
    "duration": 2,
    "start_time": "2023-01-21T18:48:39.754Z"
   },
   {
    "duration": 22,
    "start_time": "2023-01-21T18:48:39.759Z"
   },
   {
    "duration": 75,
    "start_time": "2023-01-21T18:48:39.783Z"
   },
   {
    "duration": 41,
    "start_time": "2023-01-21T18:48:39.860Z"
   },
   {
    "duration": 1877,
    "start_time": "2023-01-21T18:48:39.903Z"
   },
   {
    "duration": 91,
    "start_time": "2023-01-21T18:48:41.782Z"
   },
   {
    "duration": 3,
    "start_time": "2023-01-21T18:48:41.874Z"
   },
   {
    "duration": 53,
    "start_time": "2023-01-21T18:48:41.879Z"
   },
   {
    "duration": 13,
    "start_time": "2023-01-21T18:48:41.933Z"
   },
   {
    "duration": 61,
    "start_time": "2023-01-21T18:48:41.948Z"
   },
   {
    "duration": 184,
    "start_time": "2023-01-21T18:48:42.011Z"
   },
   {
    "duration": 4,
    "start_time": "2023-01-21T18:48:42.197Z"
   },
   {
    "duration": 344,
    "start_time": "2023-01-21T18:48:42.203Z"
   },
   {
    "duration": 4,
    "start_time": "2023-01-21T18:48:42.549Z"
   },
   {
    "duration": 9,
    "start_time": "2023-01-21T18:48:42.554Z"
   },
   {
    "duration": 3,
    "start_time": "2023-01-21T18:48:52.104Z"
   },
   {
    "duration": 3867875,
    "start_time": "2023-01-21T18:48:52.784Z"
   },
   {
    "duration": 2,
    "start_time": "2023-01-21T19:54:34.482Z"
   },
   {
    "duration": 4,
    "start_time": "2023-01-21T19:54:47.169Z"
   },
   {
    "duration": 4,
    "start_time": "2023-01-21T19:54:55.914Z"
   },
   {
    "duration": 4,
    "start_time": "2023-01-21T19:55:05.969Z"
   },
   {
    "duration": 4,
    "start_time": "2023-01-21T19:55:14.085Z"
   },
   {
    "duration": 265,
    "start_time": "2023-01-21T19:55:36.180Z"
   },
   {
    "duration": 10,
    "start_time": "2023-01-21T19:56:28.969Z"
   },
   {
    "duration": 2,
    "start_time": "2023-01-21T19:56:43.290Z"
   },
   {
    "duration": 11,
    "start_time": "2023-01-21T19:56:44.755Z"
   },
   {
    "duration": 4,
    "start_time": "2023-01-21T19:57:44.453Z"
   },
   {
    "duration": 9954,
    "start_time": "2023-01-21T19:57:52.398Z"
   },
   {
    "duration": 10893,
    "start_time": "2023-01-21T19:58:06.357Z"
   },
   {
    "duration": 91,
    "start_time": "2023-01-21T19:58:17.255Z"
   },
   {
    "duration": 3,
    "start_time": "2023-01-21T19:58:27.896Z"
   },
   {
    "duration": 10,
    "start_time": "2023-01-21T19:58:55.959Z"
   },
   {
    "duration": 6,
    "start_time": "2023-01-21T19:59:18.423Z"
   },
   {
    "duration": 4,
    "start_time": "2023-01-21T20:02:03.966Z"
   },
   {
    "duration": 679,
    "start_time": "2023-01-21T20:02:03.971Z"
   },
   {
    "duration": 128,
    "start_time": "2023-01-21T20:02:04.652Z"
   },
   {
    "duration": 28,
    "start_time": "2023-01-21T20:02:04.781Z"
   },
   {
    "duration": 37,
    "start_time": "2023-01-21T20:02:04.812Z"
   },
   {
    "duration": 29,
    "start_time": "2023-01-21T20:02:04.852Z"
   },
   {
    "duration": 4,
    "start_time": "2023-01-21T20:02:04.883Z"
   },
   {
    "duration": 171,
    "start_time": "2023-01-21T20:02:04.889Z"
   },
   {
    "duration": 382,
    "start_time": "2023-01-21T20:02:05.062Z"
   },
   {
    "duration": 23,
    "start_time": "2023-01-21T20:02:05.446Z"
   },
   {
    "duration": 98,
    "start_time": "2023-01-21T20:02:05.471Z"
   },
   {
    "duration": 93,
    "start_time": "2023-01-21T20:02:05.571Z"
   },
   {
    "duration": 121,
    "start_time": "2023-01-21T20:02:05.666Z"
   },
   {
    "duration": 75,
    "start_time": "2023-01-21T20:02:05.788Z"
   },
   {
    "duration": 63,
    "start_time": "2023-01-21T20:02:05.864Z"
   },
   {
    "duration": 323,
    "start_time": "2023-01-21T20:02:05.929Z"
   },
   {
    "duration": 14,
    "start_time": "2023-01-21T20:02:06.253Z"
   },
   {
    "duration": 780,
    "start_time": "2023-01-21T20:02:06.269Z"
   },
   {
    "duration": 3,
    "start_time": "2023-01-21T20:02:07.050Z"
   },
   {
    "duration": 29,
    "start_time": "2023-01-21T20:02:07.054Z"
   },
   {
    "duration": 67,
    "start_time": "2023-01-21T20:02:07.085Z"
   },
   {
    "duration": 40,
    "start_time": "2023-01-21T20:02:07.154Z"
   },
   {
    "duration": 41,
    "start_time": "2023-01-21T20:02:09.596Z"
   },
   {
    "duration": 1786,
    "start_time": "2023-01-21T20:02:10.554Z"
   },
   {
    "duration": 2009,
    "start_time": "2023-01-21T20:02:22.858Z"
   },
   {
    "duration": 2043,
    "start_time": "2023-01-21T20:02:41.666Z"
   },
   {
    "duration": 1910,
    "start_time": "2023-01-21T20:02:53.862Z"
   },
   {
    "duration": 2079,
    "start_time": "2023-01-21T20:03:05.203Z"
   },
   {
    "duration": 2102,
    "start_time": "2023-01-21T20:03:12.800Z"
   },
   {
    "duration": 4,
    "start_time": "2023-01-21T20:10:22.840Z"
   },
   {
    "duration": 659,
    "start_time": "2023-01-21T20:10:22.846Z"
   },
   {
    "duration": 138,
    "start_time": "2023-01-21T20:10:23.507Z"
   },
   {
    "duration": 3,
    "start_time": "2023-01-21T20:10:23.647Z"
   },
   {
    "duration": 22,
    "start_time": "2023-01-21T20:10:23.651Z"
   },
   {
    "duration": 27,
    "start_time": "2023-01-21T20:10:23.674Z"
   },
   {
    "duration": 3,
    "start_time": "2023-01-21T20:10:23.703Z"
   },
   {
    "duration": 128,
    "start_time": "2023-01-21T20:10:23.708Z"
   },
   {
    "duration": 375,
    "start_time": "2023-01-21T20:10:23.837Z"
   },
   {
    "duration": 31,
    "start_time": "2023-01-21T20:10:24.214Z"
   },
   {
    "duration": 84,
    "start_time": "2023-01-21T20:10:24.247Z"
   },
   {
    "duration": 82,
    "start_time": "2023-01-21T20:10:24.333Z"
   },
   {
    "duration": 126,
    "start_time": "2023-01-21T20:10:24.417Z"
   },
   {
    "duration": 72,
    "start_time": "2023-01-21T20:10:24.545Z"
   },
   {
    "duration": 74,
    "start_time": "2023-01-21T20:10:24.618Z"
   },
   {
    "duration": 386,
    "start_time": "2023-01-21T20:10:24.694Z"
   },
   {
    "duration": 15,
    "start_time": "2023-01-21T20:10:25.082Z"
   },
   {
    "duration": 761,
    "start_time": "2023-01-21T20:10:25.099Z"
   },
   {
    "duration": 2,
    "start_time": "2023-01-21T20:10:25.861Z"
   },
   {
    "duration": 22,
    "start_time": "2023-01-21T20:10:25.865Z"
   },
   {
    "duration": 76,
    "start_time": "2023-01-21T20:10:33.839Z"
   },
   {
    "duration": 39,
    "start_time": "2023-01-21T20:10:37.811Z"
   },
   {
    "duration": 2254,
    "start_time": "2023-01-21T20:10:39.829Z"
   },
   {
    "duration": 82,
    "start_time": "2023-01-21T20:10:54.428Z"
   },
   {
    "duration": 47,
    "start_time": "2023-01-21T20:10:55.293Z"
   },
   {
    "duration": 4,
    "start_time": "2023-01-21T20:10:58.460Z"
   },
   {
    "duration": 59,
    "start_time": "2023-01-21T20:11:05.251Z"
   },
   {
    "duration": 174,
    "start_time": "2023-01-21T20:11:05.912Z"
   },
   {
    "duration": 4,
    "start_time": "2023-01-21T20:11:09.147Z"
   },
   {
    "duration": 394,
    "start_time": "2023-01-21T20:11:10.044Z"
   },
   {
    "duration": 3,
    "start_time": "2023-01-21T20:11:11.505Z"
   },
   {
    "duration": 5,
    "start_time": "2023-01-21T20:11:12.331Z"
   },
   {
    "duration": 2,
    "start_time": "2023-01-21T20:11:24.416Z"
   },
   {
    "duration": 9756,
    "start_time": "2023-01-21T20:11:25.189Z"
   },
   {
    "duration": 4,
    "start_time": "2023-01-21T20:11:34.948Z"
   },
   {
    "duration": 4,
    "start_time": "2023-01-21T20:12:53.031Z"
   },
   {
    "duration": 322185,
    "start_time": "2023-01-21T20:12:56.035Z"
   },
   {
    "duration": 8,
    "start_time": "2023-01-21T20:18:18.222Z"
   },
   {
    "duration": 0,
    "start_time": "2023-01-21T20:18:18.232Z"
   },
   {
    "duration": 0,
    "start_time": "2023-01-21T20:18:18.233Z"
   },
   {
    "duration": 9,
    "start_time": "2023-01-21T20:18:43.561Z"
   },
   {
    "duration": 5,
    "start_time": "2023-01-21T20:18:50.226Z"
   },
   {
    "duration": 704,
    "start_time": "2023-01-21T20:18:50.232Z"
   },
   {
    "duration": 130,
    "start_time": "2023-01-21T20:18:50.938Z"
   },
   {
    "duration": 3,
    "start_time": "2023-01-21T20:18:51.069Z"
   },
   {
    "duration": 18,
    "start_time": "2023-01-21T20:18:51.074Z"
   },
   {
    "duration": 24,
    "start_time": "2023-01-21T20:18:51.093Z"
   },
   {
    "duration": 3,
    "start_time": "2023-01-21T20:18:51.119Z"
   },
   {
    "duration": 135,
    "start_time": "2023-01-21T20:18:51.123Z"
   },
   {
    "duration": 378,
    "start_time": "2023-01-21T20:18:51.259Z"
   },
   {
    "duration": 29,
    "start_time": "2023-01-21T20:18:51.638Z"
   },
   {
    "duration": 103,
    "start_time": "2023-01-21T20:18:51.669Z"
   },
   {
    "duration": 86,
    "start_time": "2023-01-21T20:18:51.773Z"
   },
   {
    "duration": 122,
    "start_time": "2023-01-21T20:18:51.861Z"
   },
   {
    "duration": 77,
    "start_time": "2023-01-21T20:18:51.985Z"
   },
   {
    "duration": 63,
    "start_time": "2023-01-21T20:18:52.064Z"
   },
   {
    "duration": 324,
    "start_time": "2023-01-21T20:18:52.129Z"
   },
   {
    "duration": 16,
    "start_time": "2023-01-21T20:18:52.455Z"
   },
   {
    "duration": 803,
    "start_time": "2023-01-21T20:18:52.473Z"
   },
   {
    "duration": 2,
    "start_time": "2023-01-21T20:18:53.278Z"
   },
   {
    "duration": 28,
    "start_time": "2023-01-21T20:18:53.282Z"
   },
   {
    "duration": 84,
    "start_time": "2023-01-21T20:18:53.312Z"
   },
   {
    "duration": 48,
    "start_time": "2023-01-21T20:18:53.397Z"
   },
   {
    "duration": 2341,
    "start_time": "2023-01-21T20:18:53.446Z"
   },
   {
    "duration": 202,
    "start_time": "2023-01-21T20:18:55.788Z"
   },
   {
    "duration": 79,
    "start_time": "2023-01-21T20:19:00.306Z"
   },
   {
    "duration": 2786,
    "start_time": "2023-01-21T20:19:00.998Z"
   },
   {
    "duration": 4,
    "start_time": "2023-01-21T20:22:11.967Z"
   },
   {
    "duration": 693,
    "start_time": "2023-01-21T20:22:11.973Z"
   },
   {
    "duration": 129,
    "start_time": "2023-01-21T20:22:12.667Z"
   },
   {
    "duration": 3,
    "start_time": "2023-01-21T20:22:12.798Z"
   },
   {
    "duration": 20,
    "start_time": "2023-01-21T20:22:12.804Z"
   },
   {
    "duration": 53,
    "start_time": "2023-01-21T20:22:12.826Z"
   },
   {
    "duration": 3,
    "start_time": "2023-01-21T20:22:12.880Z"
   },
   {
    "duration": 135,
    "start_time": "2023-01-21T20:22:12.885Z"
   },
   {
    "duration": 385,
    "start_time": "2023-01-21T20:22:13.022Z"
   },
   {
    "duration": 35,
    "start_time": "2023-01-21T20:22:13.409Z"
   },
   {
    "duration": 88,
    "start_time": "2023-01-21T20:22:13.445Z"
   },
   {
    "duration": 97,
    "start_time": "2023-01-21T20:22:13.535Z"
   },
   {
    "duration": 124,
    "start_time": "2023-01-21T20:22:13.634Z"
   },
   {
    "duration": 86,
    "start_time": "2023-01-21T20:22:13.761Z"
   },
   {
    "duration": 74,
    "start_time": "2023-01-21T20:22:13.849Z"
   },
   {
    "duration": 351,
    "start_time": "2023-01-21T20:22:13.925Z"
   },
   {
    "duration": 14,
    "start_time": "2023-01-21T20:22:14.278Z"
   },
   {
    "duration": 803,
    "start_time": "2023-01-21T20:22:14.294Z"
   },
   {
    "duration": 2,
    "start_time": "2023-01-21T20:22:15.099Z"
   },
   {
    "duration": 31,
    "start_time": "2023-01-21T20:22:15.103Z"
   },
   {
    "duration": 98,
    "start_time": "2023-01-21T20:22:15.138Z"
   },
   {
    "duration": 38,
    "start_time": "2023-01-21T20:22:15.237Z"
   },
   {
    "duration": 2155,
    "start_time": "2023-01-21T20:22:15.276Z"
   },
   {
    "duration": 84,
    "start_time": "2023-01-21T20:22:17.432Z"
   },
   {
    "duration": 2451,
    "start_time": "2023-01-21T20:22:17.517Z"
   },
   {
    "duration": 5134,
    "start_time": "2023-01-21T20:23:01.614Z"
   },
   {
    "duration": 47,
    "start_time": "2023-01-21T20:24:04.827Z"
   },
   {
    "duration": 7599,
    "start_time": "2023-01-21T20:24:09.510Z"
   },
   {
    "duration": 5069,
    "start_time": "2023-01-21T20:24:24.198Z"
   },
   {
    "duration": 4975,
    "start_time": "2023-01-21T20:25:04.953Z"
   },
   {
    "duration": 2615,
    "start_time": "2023-01-21T20:25:37.586Z"
   },
   {
    "duration": 702,
    "start_time": "2023-01-21T20:29:10.386Z"
   },
   {
    "duration": 58,
    "start_time": "2023-01-21T20:29:18.442Z"
   },
   {
    "duration": 6,
    "start_time": "2023-01-21T20:29:58.749Z"
   },
   {
    "duration": 753,
    "start_time": "2023-01-21T20:29:58.757Z"
   },
   {
    "duration": 146,
    "start_time": "2023-01-21T20:29:59.512Z"
   },
   {
    "duration": 3,
    "start_time": "2023-01-21T20:29:59.660Z"
   },
   {
    "duration": 37,
    "start_time": "2023-01-21T20:29:59.665Z"
   },
   {
    "duration": 51,
    "start_time": "2023-01-21T20:29:59.704Z"
   },
   {
    "duration": 8,
    "start_time": "2023-01-21T20:29:59.757Z"
   },
   {
    "duration": 146,
    "start_time": "2023-01-21T20:29:59.767Z"
   },
   {
    "duration": 411,
    "start_time": "2023-01-21T20:29:59.915Z"
   },
   {
    "duration": 33,
    "start_time": "2023-01-21T20:30:00.328Z"
   },
   {
    "duration": 126,
    "start_time": "2023-01-21T20:30:00.362Z"
   },
   {
    "duration": 90,
    "start_time": "2023-01-21T20:30:00.490Z"
   },
   {
    "duration": 125,
    "start_time": "2023-01-21T20:30:00.582Z"
   },
   {
    "duration": 77,
    "start_time": "2023-01-21T20:30:00.711Z"
   },
   {
    "duration": 81,
    "start_time": "2023-01-21T20:30:00.789Z"
   },
   {
    "duration": 360,
    "start_time": "2023-01-21T20:30:00.872Z"
   },
   {
    "duration": 22,
    "start_time": "2023-01-21T20:30:01.235Z"
   },
   {
    "duration": 853,
    "start_time": "2023-01-21T20:30:01.259Z"
   },
   {
    "duration": 3,
    "start_time": "2023-01-21T20:30:02.113Z"
   },
   {
    "duration": 101,
    "start_time": "2023-01-21T20:30:02.117Z"
   },
   {
    "duration": 156,
    "start_time": "2023-01-21T20:30:02.219Z"
   },
   {
    "duration": 41,
    "start_time": "2023-01-21T20:30:02.377Z"
   },
   {
    "duration": 2485,
    "start_time": "2023-01-21T20:30:02.419Z"
   },
   {
    "duration": 85,
    "start_time": "2023-01-21T20:30:04.906Z"
   },
   {
    "duration": 63,
    "start_time": "2023-01-21T20:30:04.993Z"
   },
   {
    "duration": 46,
    "start_time": "2023-01-21T20:30:05.057Z"
   },
   {
    "duration": 5,
    "start_time": "2023-01-21T20:30:05.104Z"
   },
   {
    "duration": 78,
    "start_time": "2023-01-21T20:30:05.110Z"
   },
   {
    "duration": 174,
    "start_time": "2023-01-21T20:30:05.190Z"
   },
   {
    "duration": 4,
    "start_time": "2023-01-21T20:30:05.366Z"
   },
   {
    "duration": 412,
    "start_time": "2023-01-21T20:30:05.372Z"
   },
   {
    "duration": 5,
    "start_time": "2023-01-21T20:30:05.786Z"
   },
   {
    "duration": 12,
    "start_time": "2023-01-21T20:30:05.792Z"
   },
   {
    "duration": 3,
    "start_time": "2023-01-21T20:30:14.199Z"
   },
   {
    "duration": 9235,
    "start_time": "2023-01-21T20:30:16.619Z"
   },
   {
    "duration": 5,
    "start_time": "2023-01-21T20:30:25.945Z"
   },
   {
    "duration": 3,
    "start_time": "2023-01-21T20:30:53.207Z"
   },
   {
    "duration": 1931427,
    "start_time": "2023-01-21T20:30:54.118Z"
   },
   {
    "duration": 3,
    "start_time": "2023-01-21T21:03:05.546Z"
   },
   {
    "duration": 13,
    "start_time": "2023-01-21T21:03:05.551Z"
   },
   {
    "duration": 17,
    "start_time": "2023-01-21T21:03:05.566Z"
   },
   {
    "duration": 24,
    "start_time": "2023-01-21T21:03:05.585Z"
   },
   {
    "duration": 9337,
    "start_time": "2023-01-21T21:03:05.613Z"
   },
   {
    "duration": 5,
    "start_time": "2023-01-21T21:03:14.952Z"
   },
   {
    "duration": 3,
    "start_time": "2023-01-21T21:13:55.505Z"
   },
   {
    "duration": 3,
    "start_time": "2023-01-21T21:14:35.839Z"
   },
   {
    "duration": 8987,
    "start_time": "2023-01-21T21:14:36.559Z"
   },
   {
    "duration": 93,
    "start_time": "2023-01-21T21:14:45.551Z"
   },
   {
    "duration": 3,
    "start_time": "2023-01-21T21:15:05.694Z"
   },
   {
    "duration": 5,
    "start_time": "2023-01-21T21:15:06.520Z"
   },
   {
    "duration": 3,
    "start_time": "2023-01-21T21:15:10.952Z"
   },
   {
    "duration": 3,
    "start_time": "2023-01-21T21:15:20.639Z"
   },
   {
    "duration": 11739,
    "start_time": "2023-01-21T21:15:35.011Z"
   },
   {
    "duration": 96,
    "start_time": "2023-01-21T21:15:46.752Z"
   },
   {
    "duration": 4,
    "start_time": "2023-01-21T21:16:05.086Z"
   },
   {
    "duration": 3,
    "start_time": "2023-01-21T21:16:49.929Z"
   },
   {
    "duration": 4,
    "start_time": "2023-01-21T21:17:22.594Z"
   },
   {
    "duration": 1034249,
    "start_time": "2023-01-21T21:17:26.348Z"
   },
   {
    "duration": 8,
    "start_time": "2023-01-21T21:34:40.599Z"
   },
   {
    "duration": 0,
    "start_time": "2023-01-21T21:34:40.609Z"
   },
   {
    "duration": 0,
    "start_time": "2023-01-21T21:34:40.611Z"
   },
   {
    "duration": 0,
    "start_time": "2023-01-21T21:34:40.612Z"
   },
   {
    "duration": 0,
    "start_time": "2023-01-21T21:34:40.612Z"
   },
   {
    "duration": 0,
    "start_time": "2023-01-21T21:34:40.613Z"
   },
   {
    "duration": 0,
    "start_time": "2023-01-21T21:34:40.614Z"
   },
   {
    "duration": 0,
    "start_time": "2023-01-21T21:34:40.615Z"
   },
   {
    "duration": 0,
    "start_time": "2023-01-21T21:34:40.617Z"
   },
   {
    "duration": 0,
    "start_time": "2023-01-21T21:34:40.618Z"
   },
   {
    "duration": 0,
    "start_time": "2023-01-21T21:34:40.618Z"
   },
   {
    "duration": 0,
    "start_time": "2023-01-21T21:34:40.620Z"
   },
   {
    "duration": 0,
    "start_time": "2023-01-21T21:34:40.620Z"
   },
   {
    "duration": 0,
    "start_time": "2023-01-21T21:34:40.622Z"
   },
   {
    "duration": 0,
    "start_time": "2023-01-21T21:34:40.622Z"
   },
   {
    "duration": 0,
    "start_time": "2023-01-21T21:34:40.623Z"
   },
   {
    "duration": 0,
    "start_time": "2023-01-21T21:34:40.644Z"
   },
   {
    "duration": 0,
    "start_time": "2023-01-21T21:34:40.645Z"
   },
   {
    "duration": 0,
    "start_time": "2023-01-21T21:34:40.646Z"
   },
   {
    "duration": 0,
    "start_time": "2023-01-21T21:34:40.648Z"
   },
   {
    "duration": 0,
    "start_time": "2023-01-21T21:34:40.649Z"
   },
   {
    "duration": 0,
    "start_time": "2023-01-21T21:34:40.650Z"
   },
   {
    "duration": 0,
    "start_time": "2023-01-21T21:34:40.651Z"
   },
   {
    "duration": 0,
    "start_time": "2023-01-21T21:34:40.652Z"
   },
   {
    "duration": 0,
    "start_time": "2023-01-21T21:34:40.653Z"
   },
   {
    "duration": 0,
    "start_time": "2023-01-21T21:34:40.654Z"
   },
   {
    "duration": 0,
    "start_time": "2023-01-21T21:34:40.655Z"
   },
   {
    "duration": 0,
    "start_time": "2023-01-21T21:34:40.656Z"
   },
   {
    "duration": 0,
    "start_time": "2023-01-21T21:34:40.657Z"
   },
   {
    "duration": 0,
    "start_time": "2023-01-21T21:34:40.657Z"
   },
   {
    "duration": 4,
    "start_time": "2023-01-21T21:35:36.586Z"
   },
   {
    "duration": 741,
    "start_time": "2023-01-21T21:35:36.592Z"
   },
   {
    "duration": 132,
    "start_time": "2023-01-21T21:35:37.336Z"
   },
   {
    "duration": 3,
    "start_time": "2023-01-21T21:35:37.470Z"
   },
   {
    "duration": 25,
    "start_time": "2023-01-21T21:35:37.475Z"
   },
   {
    "duration": 28,
    "start_time": "2023-01-21T21:35:37.501Z"
   },
   {
    "duration": 3,
    "start_time": "2023-01-21T21:35:37.531Z"
   },
   {
    "duration": 128,
    "start_time": "2023-01-21T21:35:37.543Z"
   },
   {
    "duration": 434,
    "start_time": "2023-01-21T21:35:37.672Z"
   },
   {
    "duration": 25,
    "start_time": "2023-01-21T21:35:38.108Z"
   },
   {
    "duration": 87,
    "start_time": "2023-01-21T21:35:38.145Z"
   },
   {
    "duration": 84,
    "start_time": "2023-01-21T21:35:38.234Z"
   },
   {
    "duration": 125,
    "start_time": "2023-01-21T21:35:38.321Z"
   },
   {
    "duration": 70,
    "start_time": "2023-01-21T21:35:38.448Z"
   },
   {
    "duration": 78,
    "start_time": "2023-01-21T21:35:38.519Z"
   },
   {
    "duration": 338,
    "start_time": "2023-01-21T21:35:38.598Z"
   },
   {
    "duration": 20,
    "start_time": "2023-01-21T21:35:38.938Z"
   },
   {
    "duration": 870,
    "start_time": "2023-01-21T21:35:38.960Z"
   },
   {
    "duration": 2,
    "start_time": "2023-01-21T21:35:39.832Z"
   },
   {
    "duration": 20,
    "start_time": "2023-01-21T21:35:39.843Z"
   },
   {
    "duration": 85,
    "start_time": "2023-01-21T21:35:39.865Z"
   },
   {
    "duration": 37,
    "start_time": "2023-01-21T21:35:39.952Z"
   },
   {
    "duration": 2494,
    "start_time": "2023-01-21T21:35:39.990Z"
   },
   {
    "duration": 100,
    "start_time": "2023-01-21T21:35:42.486Z"
   },
   {
    "duration": 91,
    "start_time": "2023-01-21T21:35:42.588Z"
   },
   {
    "duration": 44,
    "start_time": "2023-01-21T21:35:42.681Z"
   },
   {
    "duration": 4,
    "start_time": "2023-01-21T21:35:42.726Z"
   },
   {
    "duration": 62,
    "start_time": "2023-01-21T21:35:42.731Z"
   },
   {
    "duration": 163,
    "start_time": "2023-01-21T21:35:42.796Z"
   },
   {
    "duration": 4,
    "start_time": "2023-01-21T21:35:42.961Z"
   },
   {
    "duration": 418,
    "start_time": "2023-01-21T21:35:42.966Z"
   },
   {
    "duration": 4,
    "start_time": "2023-01-21T21:35:43.385Z"
   },
   {
    "duration": 57,
    "start_time": "2023-01-21T21:35:43.390Z"
   },
   {
    "duration": 7,
    "start_time": "2023-01-21T21:35:43.448Z"
   },
   {
    "duration": 1922522,
    "start_time": "2023-01-21T21:35:43.456Z"
   },
   {
    "duration": 2,
    "start_time": "2023-01-21T22:07:45.980Z"
   },
   {
    "duration": 9,
    "start_time": "2023-01-21T22:07:45.984Z"
   },
   {
    "duration": 11,
    "start_time": "2023-01-21T22:07:45.994Z"
   },
   {
    "duration": 16,
    "start_time": "2023-01-21T22:07:46.006Z"
   },
   {
    "duration": 9830,
    "start_time": "2023-01-21T22:07:46.023Z"
   },
   {
    "duration": 4,
    "start_time": "2023-01-21T22:07:55.855Z"
   },
   {
    "duration": 3,
    "start_time": "2023-01-21T22:13:09.317Z"
   },
   {
    "duration": 10708,
    "start_time": "2023-01-21T22:13:10.548Z"
   },
   {
    "duration": 4,
    "start_time": "2023-01-21T22:13:21.349Z"
   },
   {
    "duration": 3,
    "start_time": "2023-01-21T22:13:42.324Z"
   },
   {
    "duration": 4,
    "start_time": "2023-01-21T22:13:42.908Z"
   },
   {
    "duration": 4,
    "start_time": "2023-01-21T22:13:44.181Z"
   },
   {
    "duration": 13,
    "start_time": "2023-01-21T22:14:32.694Z"
   },
   {
    "duration": 3,
    "start_time": "2023-01-21T22:14:37.980Z"
   },
   {
    "duration": 10005,
    "start_time": "2023-01-21T22:14:39.247Z"
   },
   {
    "duration": 92,
    "start_time": "2023-01-21T22:14:49.255Z"
   },
   {
    "duration": 1182,
    "start_time": "2023-01-21T22:15:28.221Z"
   },
   {
    "duration": 7,
    "start_time": "2023-01-21T22:15:36.702Z"
   },
   {
    "duration": 6,
    "start_time": "2023-01-21T22:16:06.886Z"
   },
   {
    "duration": 4,
    "start_time": "2023-01-21T22:16:38.774Z"
   },
   {
    "duration": 1140390,
    "start_time": "2023-01-21T22:16:39.959Z"
   },
   {
    "duration": 2,
    "start_time": "2023-01-21T22:35:40.351Z"
   },
   {
    "duration": 24,
    "start_time": "2023-01-21T22:35:40.354Z"
   },
   {
    "duration": 14,
    "start_time": "2023-01-21T22:35:40.380Z"
   },
   {
    "duration": 5,
    "start_time": "2023-01-21T22:48:28.253Z"
   },
   {
    "duration": 4,
    "start_time": "2023-01-21T22:59:31.446Z"
   },
   {
    "duration": 726,
    "start_time": "2023-01-21T22:59:31.451Z"
   },
   {
    "duration": 123,
    "start_time": "2023-01-21T22:59:32.178Z"
   },
   {
    "duration": 4,
    "start_time": "2023-01-21T22:59:32.303Z"
   },
   {
    "duration": 27,
    "start_time": "2023-01-21T22:59:32.309Z"
   },
   {
    "duration": 32,
    "start_time": "2023-01-21T22:59:32.338Z"
   },
   {
    "duration": 3,
    "start_time": "2023-01-21T22:59:32.371Z"
   },
   {
    "duration": 123,
    "start_time": "2023-01-21T22:59:32.376Z"
   },
   {
    "duration": 421,
    "start_time": "2023-01-21T22:59:32.500Z"
   },
   {
    "duration": 41,
    "start_time": "2023-01-21T22:59:32.923Z"
   },
   {
    "duration": 99,
    "start_time": "2023-01-21T22:59:32.966Z"
   },
   {
    "duration": 88,
    "start_time": "2023-01-21T22:59:33.067Z"
   },
   {
    "duration": 114,
    "start_time": "2023-01-21T22:59:33.157Z"
   },
   {
    "duration": 78,
    "start_time": "2023-01-21T22:59:33.273Z"
   },
   {
    "duration": 63,
    "start_time": "2023-01-21T22:59:33.353Z"
   },
   {
    "duration": 331,
    "start_time": "2023-01-21T22:59:33.417Z"
   },
   {
    "duration": 15,
    "start_time": "2023-01-21T22:59:33.750Z"
   },
   {
    "duration": 847,
    "start_time": "2023-01-21T22:59:33.767Z"
   },
   {
    "duration": 29,
    "start_time": "2023-01-21T22:59:34.616Z"
   },
   {
    "duration": 95,
    "start_time": "2023-01-21T22:59:34.647Z"
   },
   {
    "duration": 36,
    "start_time": "2023-01-21T22:59:34.744Z"
   },
   {
    "duration": 2214,
    "start_time": "2023-01-21T22:59:34.782Z"
   },
   {
    "duration": 87,
    "start_time": "2023-01-21T22:59:36.997Z"
   },
   {
    "duration": 58,
    "start_time": "2023-01-21T22:59:37.086Z"
   },
   {
    "duration": 5,
    "start_time": "2023-01-21T22:59:37.145Z"
   },
   {
    "duration": 77,
    "start_time": "2023-01-21T22:59:37.151Z"
   },
   {
    "duration": 198,
    "start_time": "2023-01-21T22:59:37.230Z"
   },
   {
    "duration": 3,
    "start_time": "2023-01-21T22:59:37.431Z"
   },
   {
    "duration": 50,
    "start_time": "2023-01-21T23:00:04.169Z"
   },
   {
    "duration": 1353,
    "start_time": "2023-01-21T23:00:11.357Z"
   },
   {
    "duration": 2857,
    "start_time": "2023-01-21T23:00:12.712Z"
   },
   {
    "duration": 127,
    "start_time": "2023-01-21T23:00:15.571Z"
   },
   {
    "duration": 4,
    "start_time": "2023-01-21T23:00:15.700Z"
   },
   {
    "duration": 17,
    "start_time": "2023-01-21T23:00:15.706Z"
   },
   {
    "duration": 56,
    "start_time": "2023-01-21T23:00:15.725Z"
   },
   {
    "duration": 2,
    "start_time": "2023-01-21T23:00:15.783Z"
   },
   {
    "duration": 128,
    "start_time": "2023-01-21T23:00:15.787Z"
   },
   {
    "duration": 468,
    "start_time": "2023-01-21T23:00:15.916Z"
   },
   {
    "duration": 38,
    "start_time": "2023-01-21T23:00:16.385Z"
   },
   {
    "duration": 97,
    "start_time": "2023-01-21T23:00:16.425Z"
   },
   {
    "duration": 88,
    "start_time": "2023-01-21T23:00:16.524Z"
   },
   {
    "duration": 125,
    "start_time": "2023-01-21T23:00:16.613Z"
   },
   {
    "duration": 71,
    "start_time": "2023-01-21T23:00:16.745Z"
   },
   {
    "duration": 74,
    "start_time": "2023-01-21T23:00:16.817Z"
   },
   {
    "duration": 340,
    "start_time": "2023-01-21T23:00:16.893Z"
   },
   {
    "duration": 20,
    "start_time": "2023-01-21T23:00:17.235Z"
   },
   {
    "duration": 912,
    "start_time": "2023-01-21T23:00:17.257Z"
   },
   {
    "duration": 20,
    "start_time": "2023-01-21T23:00:18.171Z"
   },
   {
    "duration": 103,
    "start_time": "2023-01-21T23:00:18.193Z"
   },
   {
    "duration": 38,
    "start_time": "2023-01-21T23:00:18.298Z"
   },
   {
    "duration": 2189,
    "start_time": "2023-01-21T23:00:18.344Z"
   },
   {
    "duration": 166,
    "start_time": "2023-01-21T23:00:20.535Z"
   },
   {
    "duration": 54,
    "start_time": "2023-01-21T23:00:20.703Z"
   },
   {
    "duration": 4,
    "start_time": "2023-01-21T23:00:20.759Z"
   },
   {
    "duration": 61,
    "start_time": "2023-01-21T23:00:20.764Z"
   },
   {
    "duration": 182,
    "start_time": "2023-01-21T23:00:20.826Z"
   },
   {
    "duration": 3,
    "start_time": "2023-01-21T23:00:21.010Z"
   },
   {
    "duration": 372,
    "start_time": "2023-01-21T23:00:21.015Z"
   },
   {
    "duration": 3,
    "start_time": "2023-01-21T23:00:21.389Z"
   },
   {
    "duration": 11,
    "start_time": "2023-01-21T23:00:21.394Z"
   },
   {
    "duration": 1938,
    "start_time": "2023-01-22T20:48:39.311Z"
   },
   {
    "duration": 1357,
    "start_time": "2023-01-22T20:48:41.259Z"
   },
   {
    "duration": 155,
    "start_time": "2023-01-22T20:48:42.618Z"
   },
   {
    "duration": 13,
    "start_time": "2023-01-22T20:48:42.775Z"
   },
   {
    "duration": 39,
    "start_time": "2023-01-22T20:48:42.789Z"
   },
   {
    "duration": 84,
    "start_time": "2023-01-22T20:48:42.830Z"
   },
   {
    "duration": 4,
    "start_time": "2023-01-22T20:48:42.916Z"
   },
   {
    "duration": 175,
    "start_time": "2023-01-22T20:48:42.922Z"
   },
   {
    "duration": 567,
    "start_time": "2023-01-22T20:48:43.099Z"
   },
   {
    "duration": 37,
    "start_time": "2023-01-22T20:48:43.670Z"
   },
   {
    "duration": 128,
    "start_time": "2023-01-22T20:48:43.709Z"
   },
   {
    "duration": 108,
    "start_time": "2023-01-22T20:48:43.844Z"
   },
   {
    "duration": 147,
    "start_time": "2023-01-22T20:48:43.956Z"
   },
   {
    "duration": 146,
    "start_time": "2023-01-22T20:48:44.105Z"
   },
   {
    "duration": 75,
    "start_time": "2023-01-22T20:48:44.259Z"
   },
   {
    "duration": 464,
    "start_time": "2023-01-22T20:48:44.336Z"
   },
   {
    "duration": 16,
    "start_time": "2023-01-22T20:48:44.802Z"
   },
   {
    "duration": 852,
    "start_time": "2023-01-22T20:48:44.820Z"
   },
   {
    "duration": 24,
    "start_time": "2023-01-22T20:48:45.674Z"
   },
   {
    "duration": 109,
    "start_time": "2023-01-22T20:48:45.699Z"
   },
   {
    "duration": 51,
    "start_time": "2023-01-22T20:48:45.810Z"
   },
   {
    "duration": 2767,
    "start_time": "2023-01-22T20:48:45.863Z"
   },
   {
    "duration": 173,
    "start_time": "2023-01-22T20:48:48.632Z"
   },
   {
    "duration": 80,
    "start_time": "2023-01-22T20:48:48.807Z"
   },
   {
    "duration": 5,
    "start_time": "2023-01-22T20:48:48.889Z"
   },
   {
    "duration": 88,
    "start_time": "2023-01-22T20:48:48.897Z"
   },
   {
    "duration": 236,
    "start_time": "2023-01-22T20:48:48.988Z"
   },
   {
    "duration": 17,
    "start_time": "2023-01-22T20:48:49.228Z"
   },
   {
    "duration": 427,
    "start_time": "2023-01-22T20:48:49.255Z"
   },
   {
    "duration": 4,
    "start_time": "2023-01-22T20:48:49.685Z"
   },
   {
    "duration": 7,
    "start_time": "2023-01-22T20:48:49.691Z"
   },
   {
    "duration": 6,
    "start_time": "2023-01-22T20:48:49.699Z"
   },
   {
    "duration": 118,
    "start_time": "2023-01-24T14:10:15.937Z"
   },
   {
    "duration": 1761,
    "start_time": "2023-01-25T10:13:07.297Z"
   },
   {
    "duration": 5,
    "start_time": "2023-01-25T10:14:11.529Z"
   },
   {
    "duration": 5,
    "start_time": "2023-01-25T10:14:35.165Z"
   },
   {
    "duration": 3132,
    "start_time": "2023-01-25T10:14:35.172Z"
   },
   {
    "duration": 121,
    "start_time": "2023-01-25T10:14:38.306Z"
   },
   {
    "duration": 3,
    "start_time": "2023-01-25T10:14:38.429Z"
   },
   {
    "duration": 23,
    "start_time": "2023-01-25T10:14:38.433Z"
   },
   {
    "duration": 64,
    "start_time": "2023-01-25T10:14:38.457Z"
   },
   {
    "duration": 3,
    "start_time": "2023-01-25T10:14:38.522Z"
   },
   {
    "duration": 118,
    "start_time": "2023-01-25T10:14:38.527Z"
   },
   {
    "duration": 504,
    "start_time": "2023-01-25T10:14:38.648Z"
   },
   {
    "duration": 2,
    "start_time": "2023-01-25T10:14:39.154Z"
   },
   {
    "duration": 36,
    "start_time": "2023-01-25T10:14:39.158Z"
   },
   {
    "duration": 104,
    "start_time": "2023-01-25T10:14:39.196Z"
   },
   {
    "duration": 56,
    "start_time": "2023-01-25T10:14:39.305Z"
   },
   {
    "duration": 171,
    "start_time": "2023-01-25T10:14:39.363Z"
   },
   {
    "duration": 96,
    "start_time": "2023-01-25T10:14:39.537Z"
   },
   {
    "duration": 63,
    "start_time": "2023-01-25T10:14:39.635Z"
   },
   {
    "duration": 11,
    "start_time": "2023-01-25T10:14:39.699Z"
   },
   {
    "duration": 75,
    "start_time": "2023-01-25T10:14:39.712Z"
   },
   {
    "duration": 3,
    "start_time": "2023-01-25T10:14:39.789Z"
   },
   {
    "duration": 133,
    "start_time": "2023-01-25T10:14:39.794Z"
   },
   {
    "duration": 0,
    "start_time": "2023-01-25T10:14:39.929Z"
   },
   {
    "duration": 0,
    "start_time": "2023-01-25T10:14:39.930Z"
   },
   {
    "duration": 0,
    "start_time": "2023-01-25T10:14:39.932Z"
   },
   {
    "duration": 0,
    "start_time": "2023-01-25T10:14:39.933Z"
   },
   {
    "duration": 96,
    "start_time": "2023-01-25T10:15:08.407Z"
   },
   {
    "duration": 60,
    "start_time": "2023-01-25T10:15:17.382Z"
   },
   {
    "duration": 2103,
    "start_time": "2023-01-25T10:15:17.950Z"
   },
   {
    "duration": 35,
    "start_time": "2023-01-25T10:15:29.006Z"
   },
   {
    "duration": 1940,
    "start_time": "2023-01-25T10:15:39.974Z"
   },
   {
    "duration": 4,
    "start_time": "2023-01-25T10:24:43.656Z"
   },
   {
    "duration": 1250,
    "start_time": "2023-01-25T10:24:43.662Z"
   },
   {
    "duration": 110,
    "start_time": "2023-01-25T10:24:44.914Z"
   },
   {
    "duration": 15,
    "start_time": "2023-01-25T10:24:45.027Z"
   },
   {
    "duration": 40,
    "start_time": "2023-01-25T10:24:45.045Z"
   },
   {
    "duration": 43,
    "start_time": "2023-01-25T10:24:45.087Z"
   },
   {
    "duration": 4,
    "start_time": "2023-01-25T10:24:45.132Z"
   },
   {
    "duration": 126,
    "start_time": "2023-01-25T10:24:45.138Z"
   },
   {
    "duration": 434,
    "start_time": "2023-01-25T10:24:45.266Z"
   },
   {
    "duration": 5,
    "start_time": "2023-01-25T10:24:45.702Z"
   },
   {
    "duration": 29,
    "start_time": "2023-01-25T10:24:45.709Z"
   },
   {
    "duration": 86,
    "start_time": "2023-01-25T10:24:45.740Z"
   },
   {
    "duration": 60,
    "start_time": "2023-01-25T10:24:45.829Z"
   },
   {
    "duration": 112,
    "start_time": "2023-01-25T10:24:45.890Z"
   },
   {
    "duration": 81,
    "start_time": "2023-01-25T10:24:46.004Z"
   },
   {
    "duration": 56,
    "start_time": "2023-01-25T10:24:46.087Z"
   },
   {
    "duration": 15,
    "start_time": "2023-01-25T10:24:46.144Z"
   },
   {
    "duration": 88,
    "start_time": "2023-01-25T10:24:46.161Z"
   },
   {
    "duration": 14,
    "start_time": "2023-01-25T10:24:46.251Z"
   },
   {
    "duration": 99,
    "start_time": "2023-01-25T10:24:46.267Z"
   },
   {
    "duration": 60,
    "start_time": "2023-01-25T10:24:46.368Z"
   },
   {
    "duration": 1999,
    "start_time": "2023-01-25T10:24:46.430Z"
   },
   {
    "duration": 32,
    "start_time": "2023-01-25T10:24:48.431Z"
   },
   {
    "duration": 71,
    "start_time": "2023-01-25T10:24:48.465Z"
   },
   {
    "duration": 1702,
    "start_time": "2023-01-26T14:09:04.120Z"
   },
   {
    "duration": 1133,
    "start_time": "2023-01-26T14:09:05.824Z"
   },
   {
    "duration": 143,
    "start_time": "2023-01-26T14:09:06.958Z"
   },
   {
    "duration": 3,
    "start_time": "2023-01-26T14:09:07.103Z"
   },
   {
    "duration": 19,
    "start_time": "2023-01-26T14:09:07.108Z"
   },
   {
    "duration": 74,
    "start_time": "2023-01-26T14:09:07.129Z"
   },
   {
    "duration": 3,
    "start_time": "2023-01-26T14:09:07.205Z"
   },
   {
    "duration": 147,
    "start_time": "2023-01-26T14:09:07.209Z"
   },
   {
    "duration": 502,
    "start_time": "2023-01-26T14:09:07.357Z"
   },
   {
    "duration": 3,
    "start_time": "2023-01-26T14:09:07.860Z"
   },
   {
    "duration": 34,
    "start_time": "2023-01-26T14:09:07.865Z"
   },
   {
    "duration": 133,
    "start_time": "2023-01-26T14:09:07.901Z"
   },
   {
    "duration": 109,
    "start_time": "2023-01-26T14:09:08.036Z"
   },
   {
    "duration": 147,
    "start_time": "2023-01-26T14:09:08.153Z"
   },
   {
    "duration": 83,
    "start_time": "2023-01-26T14:09:08.302Z"
   },
   {
    "duration": 75,
    "start_time": "2023-01-26T14:09:08.387Z"
   },
   {
    "duration": 3,
    "start_time": "2023-01-26T14:09:08.463Z"
   },
   {
    "duration": 94,
    "start_time": "2023-01-26T14:09:08.467Z"
   },
   {
    "duration": 3,
    "start_time": "2023-01-26T14:09:08.563Z"
   },
   {
    "duration": 106,
    "start_time": "2023-01-26T14:09:08.567Z"
   },
   {
    "duration": 84,
    "start_time": "2023-01-26T14:09:08.675Z"
   },
   {
    "duration": 2081,
    "start_time": "2023-01-26T14:09:08.760Z"
   },
   {
    "duration": 34,
    "start_time": "2023-01-26T14:09:10.843Z"
   },
   {
    "duration": 76,
    "start_time": "2023-01-26T14:09:10.878Z"
   },
   {
    "duration": 210,
    "start_time": "2023-01-26T14:09:10.956Z"
   },
   {
    "duration": 5,
    "start_time": "2023-01-26T14:10:13.466Z"
   },
   {
    "duration": 817,
    "start_time": "2023-01-26T14:10:13.474Z"
   },
   {
    "duration": 146,
    "start_time": "2023-01-26T14:10:14.293Z"
   },
   {
    "duration": 12,
    "start_time": "2023-01-26T14:10:14.441Z"
   },
   {
    "duration": 30,
    "start_time": "2023-01-26T14:10:14.455Z"
   },
   {
    "duration": 34,
    "start_time": "2023-01-26T14:10:14.487Z"
   },
   {
    "duration": 3,
    "start_time": "2023-01-26T14:10:14.523Z"
   },
   {
    "duration": 133,
    "start_time": "2023-01-26T14:10:14.527Z"
   },
   {
    "duration": 443,
    "start_time": "2023-01-26T14:10:14.663Z"
   },
   {
    "duration": 2,
    "start_time": "2023-01-26T14:10:15.108Z"
   },
   {
    "duration": 21,
    "start_time": "2023-01-26T14:10:15.112Z"
   },
   {
    "duration": 106,
    "start_time": "2023-01-26T14:10:15.135Z"
   },
   {
    "duration": 67,
    "start_time": "2023-01-26T14:10:15.243Z"
   },
   {
    "duration": 147,
    "start_time": "2023-01-26T14:10:15.312Z"
   },
   {
    "duration": 82,
    "start_time": "2023-01-26T14:10:15.461Z"
   },
   {
    "duration": 83,
    "start_time": "2023-01-26T14:10:15.553Z"
   },
   {
    "duration": 3,
    "start_time": "2023-01-26T14:10:15.638Z"
   },
   {
    "duration": 94,
    "start_time": "2023-01-26T14:10:15.642Z"
   },
   {
    "duration": 16,
    "start_time": "2023-01-26T14:10:15.738Z"
   },
   {
    "duration": 81,
    "start_time": "2023-01-26T14:10:15.756Z"
   },
   {
    "duration": 85,
    "start_time": "2023-01-26T14:10:15.839Z"
   },
   {
    "duration": 2199,
    "start_time": "2023-01-26T14:10:15.925Z"
   },
   {
    "duration": 66,
    "start_time": "2023-01-26T14:10:18.125Z"
   },
   {
    "duration": 23,
    "start_time": "2023-01-26T14:10:18.194Z"
   },
   {
    "duration": 18,
    "start_time": "2023-01-26T14:10:23.043Z"
   },
   {
    "duration": 6,
    "start_time": "2023-01-26T14:11:16.202Z"
   },
   {
    "duration": 14,
    "start_time": "2023-01-26T14:11:41.602Z"
   },
   {
    "duration": 6,
    "start_time": "2023-01-26T14:12:26.578Z"
   },
   {
    "duration": 5,
    "start_time": "2023-01-26T14:12:45.731Z"
   },
   {
    "duration": 33,
    "start_time": "2023-01-26T14:15:08.076Z"
   },
   {
    "duration": 48,
    "start_time": "2023-01-26T14:15:24.523Z"
   },
   {
    "duration": 25,
    "start_time": "2023-01-26T14:15:26.707Z"
   },
   {
    "duration": 81,
    "start_time": "2023-01-26T14:15:48.375Z"
   },
   {
    "duration": 11,
    "start_time": "2023-01-26T14:15:49.491Z"
   },
   {
    "duration": 4,
    "start_time": "2023-01-26T14:15:54.835Z"
   },
   {
    "duration": 6,
    "start_time": "2023-01-26T14:16:28.442Z"
   },
   {
    "duration": 811,
    "start_time": "2023-01-26T14:16:28.451Z"
   },
   {
    "duration": 137,
    "start_time": "2023-01-26T14:16:29.263Z"
   },
   {
    "duration": 2,
    "start_time": "2023-01-26T14:16:29.402Z"
   },
   {
    "duration": 26,
    "start_time": "2023-01-26T14:16:29.406Z"
   },
   {
    "duration": 34,
    "start_time": "2023-01-26T14:16:29.434Z"
   },
   {
    "duration": 3,
    "start_time": "2023-01-26T14:16:29.470Z"
   },
   {
    "duration": 159,
    "start_time": "2023-01-26T14:16:29.475Z"
   },
   {
    "duration": 430,
    "start_time": "2023-01-26T14:16:29.635Z"
   },
   {
    "duration": 3,
    "start_time": "2023-01-26T14:16:30.068Z"
   },
   {
    "duration": 46,
    "start_time": "2023-01-26T14:16:30.072Z"
   },
   {
    "duration": 95,
    "start_time": "2023-01-26T14:16:30.120Z"
   },
   {
    "duration": 64,
    "start_time": "2023-01-26T14:16:30.217Z"
   },
   {
    "duration": 130,
    "start_time": "2023-01-26T14:16:30.282Z"
   },
   {
    "duration": 82,
    "start_time": "2023-01-26T14:16:30.414Z"
   },
   {
    "duration": 74,
    "start_time": "2023-01-26T14:16:30.498Z"
   },
   {
    "duration": 37,
    "start_time": "2023-01-26T14:16:30.574Z"
   },
   {
    "duration": 98,
    "start_time": "2023-01-26T14:16:30.612Z"
   },
   {
    "duration": 22,
    "start_time": "2023-01-26T14:16:30.711Z"
   },
   {
    "duration": 119,
    "start_time": "2023-01-26T14:16:30.735Z"
   },
   {
    "duration": 67,
    "start_time": "2023-01-26T14:16:30.855Z"
   },
   {
    "duration": 2089,
    "start_time": "2023-01-26T14:16:30.924Z"
   },
   {
    "duration": 70,
    "start_time": "2023-01-26T14:16:33.015Z"
   },
   {
    "duration": 51,
    "start_time": "2023-01-26T14:16:33.087Z"
   },
   {
    "duration": 29,
    "start_time": "2023-01-26T14:16:33.140Z"
   },
   {
    "duration": 83,
    "start_time": "2023-01-26T14:16:33.171Z"
   },
   {
    "duration": 4,
    "start_time": "2023-01-26T14:16:35.467Z"
   },
   {
    "duration": 4,
    "start_time": "2023-01-26T14:17:00.891Z"
   },
   {
    "duration": 787,
    "start_time": "2023-01-26T14:17:00.897Z"
   },
   {
    "duration": 137,
    "start_time": "2023-01-26T14:17:01.685Z"
   },
   {
    "duration": 3,
    "start_time": "2023-01-26T14:17:01.824Z"
   },
   {
    "duration": 39,
    "start_time": "2023-01-26T14:17:01.828Z"
   },
   {
    "duration": 38,
    "start_time": "2023-01-26T14:17:01.869Z"
   },
   {
    "duration": 7,
    "start_time": "2023-01-26T14:17:01.909Z"
   },
   {
    "duration": 144,
    "start_time": "2023-01-26T14:17:01.917Z"
   },
   {
    "duration": 448,
    "start_time": "2023-01-26T14:17:02.063Z"
   },
   {
    "duration": 2,
    "start_time": "2023-01-26T14:17:02.513Z"
   },
   {
    "duration": 32,
    "start_time": "2023-01-26T14:17:02.517Z"
   },
   {
    "duration": 103,
    "start_time": "2023-01-26T14:17:02.551Z"
   },
   {
    "duration": 58,
    "start_time": "2023-01-26T14:17:02.656Z"
   },
   {
    "duration": 132,
    "start_time": "2023-01-26T14:17:02.716Z"
   },
   {
    "duration": 77,
    "start_time": "2023-01-26T14:17:02.850Z"
   },
   {
    "duration": 81,
    "start_time": "2023-01-26T14:17:02.929Z"
   },
   {
    "duration": 17,
    "start_time": "2023-01-26T14:17:03.012Z"
   },
   {
    "duration": 86,
    "start_time": "2023-01-26T14:17:03.031Z"
   },
   {
    "duration": 3,
    "start_time": "2023-01-26T14:17:03.119Z"
   },
   {
    "duration": 92,
    "start_time": "2023-01-26T14:17:03.123Z"
   },
   {
    "duration": 74,
    "start_time": "2023-01-26T14:17:03.216Z"
   },
   {
    "duration": 2295,
    "start_time": "2023-01-26T14:17:03.292Z"
   },
   {
    "duration": 77,
    "start_time": "2023-01-26T14:17:05.589Z"
   },
   {
    "duration": 57,
    "start_time": "2023-01-26T14:17:05.671Z"
   },
   {
    "duration": 2,
    "start_time": "2023-01-26T14:17:05.730Z"
   },
   {
    "duration": 103,
    "start_time": "2023-01-26T14:17:05.734Z"
   },
   {
    "duration": 4,
    "start_time": "2023-01-26T14:17:05.838Z"
   },
   {
    "duration": 4,
    "start_time": "2023-01-26T14:17:09.817Z"
   },
   {
    "duration": 5,
    "start_time": "2023-01-26T14:18:16.890Z"
   },
   {
    "duration": 827,
    "start_time": "2023-01-26T14:18:16.897Z"
   },
   {
    "duration": 147,
    "start_time": "2023-01-26T14:18:17.725Z"
   },
   {
    "duration": 3,
    "start_time": "2023-01-26T14:18:17.874Z"
   },
   {
    "duration": 29,
    "start_time": "2023-01-26T14:18:17.879Z"
   },
   {
    "duration": 32,
    "start_time": "2023-01-26T14:18:17.910Z"
   },
   {
    "duration": 4,
    "start_time": "2023-01-26T14:18:17.944Z"
   },
   {
    "duration": 134,
    "start_time": "2023-01-26T14:18:17.952Z"
   },
   {
    "duration": 416,
    "start_time": "2023-01-26T14:18:18.087Z"
   },
   {
    "duration": 3,
    "start_time": "2023-01-26T14:18:18.505Z"
   },
   {
    "duration": 35,
    "start_time": "2023-01-26T14:18:18.510Z"
   },
   {
    "duration": 100,
    "start_time": "2023-01-26T14:18:18.546Z"
   },
   {
    "duration": 70,
    "start_time": "2023-01-26T14:18:18.648Z"
   },
   {
    "duration": 146,
    "start_time": "2023-01-26T14:18:18.720Z"
   },
   {
    "duration": 88,
    "start_time": "2023-01-26T14:18:18.868Z"
   },
   {
    "duration": 70,
    "start_time": "2023-01-26T14:18:18.958Z"
   },
   {
    "duration": 2,
    "start_time": "2023-01-26T14:18:19.030Z"
   },
   {
    "duration": 102,
    "start_time": "2023-01-26T14:18:19.034Z"
   },
   {
    "duration": 21,
    "start_time": "2023-01-26T14:18:19.138Z"
   },
   {
    "duration": 113,
    "start_time": "2023-01-26T14:18:19.161Z"
   },
   {
    "duration": 85,
    "start_time": "2023-01-26T14:18:19.276Z"
   },
   {
    "duration": 61,
    "start_time": "2023-01-26T14:18:19.363Z"
   },
   {
    "duration": 72,
    "start_time": "2023-01-26T14:18:19.427Z"
   },
   {
    "duration": 2120,
    "start_time": "2023-01-26T14:18:19.501Z"
   },
   {
    "duration": 26,
    "start_time": "2023-01-26T14:19:45.386Z"
   },
   {
    "duration": 67,
    "start_time": "2023-01-26T14:19:46.584Z"
   },
   {
    "duration": 4,
    "start_time": "2023-01-26T14:19:49.347Z"
   },
   {
    "duration": 24,
    "start_time": "2023-01-26T14:20:20.341Z"
   },
   {
    "duration": 74,
    "start_time": "2023-01-26T14:20:23.275Z"
   },
   {
    "duration": 4,
    "start_time": "2023-01-26T14:20:26.899Z"
   },
   {
    "duration": 23,
    "start_time": "2023-01-26T14:21:20.487Z"
   },
   {
    "duration": 68,
    "start_time": "2023-01-26T14:21:21.636Z"
   },
   {
    "duration": 4,
    "start_time": "2023-01-26T14:21:25.316Z"
   },
   {
    "duration": 6,
    "start_time": "2023-01-26T14:21:29.483Z"
   },
   {
    "duration": 806,
    "start_time": "2023-01-26T14:21:29.491Z"
   },
   {
    "duration": 146,
    "start_time": "2023-01-26T14:21:30.299Z"
   },
   {
    "duration": 133,
    "start_time": "2023-01-26T14:21:30.452Z"
   },
   {
    "duration": 70,
    "start_time": "2023-01-26T14:21:30.586Z"
   },
   {
    "duration": 58,
    "start_time": "2023-01-26T14:21:30.658Z"
   },
   {
    "duration": 14,
    "start_time": "2023-01-26T14:21:30.718Z"
   },
   {
    "duration": 173,
    "start_time": "2023-01-26T14:21:30.734Z"
   },
   {
    "duration": 448,
    "start_time": "2023-01-26T14:21:30.909Z"
   },
   {
    "duration": 3,
    "start_time": "2023-01-26T14:21:31.360Z"
   },
   {
    "duration": 27,
    "start_time": "2023-01-26T14:21:31.364Z"
   },
   {
    "duration": 121,
    "start_time": "2023-01-26T14:21:31.394Z"
   },
   {
    "duration": 69,
    "start_time": "2023-01-26T14:21:31.517Z"
   },
   {
    "duration": 141,
    "start_time": "2023-01-26T14:21:31.587Z"
   },
   {
    "duration": 86,
    "start_time": "2023-01-26T14:21:31.730Z"
   },
   {
    "duration": 76,
    "start_time": "2023-01-26T14:21:31.818Z"
   },
   {
    "duration": 13,
    "start_time": "2023-01-26T14:21:31.895Z"
   },
   {
    "duration": 110,
    "start_time": "2023-01-26T14:21:31.910Z"
   },
   {
    "duration": 13,
    "start_time": "2023-01-26T14:21:32.022Z"
   },
   {
    "duration": 93,
    "start_time": "2023-01-26T14:21:32.037Z"
   },
   {
    "duration": 149,
    "start_time": "2023-01-26T14:21:32.132Z"
   },
   {
    "duration": 84,
    "start_time": "2023-01-26T14:21:32.283Z"
   },
   {
    "duration": 49,
    "start_time": "2023-01-26T14:21:32.368Z"
   },
   {
    "duration": 2150,
    "start_time": "2023-01-26T14:21:32.419Z"
   },
   {
    "duration": 26,
    "start_time": "2023-01-26T14:21:34.572Z"
   },
   {
    "duration": 88,
    "start_time": "2023-01-26T14:21:34.600Z"
   },
   {
    "duration": 4,
    "start_time": "2023-01-26T14:21:34.690Z"
   },
   {
    "duration": 5,
    "start_time": "2023-01-26T14:21:57.396Z"
   },
   {
    "duration": 844,
    "start_time": "2023-01-26T14:21:57.403Z"
   },
   {
    "duration": 132,
    "start_time": "2023-01-26T14:21:58.249Z"
   },
   {
    "duration": 3,
    "start_time": "2023-01-26T14:21:58.383Z"
   },
   {
    "duration": 25,
    "start_time": "2023-01-26T14:21:58.388Z"
   },
   {
    "duration": 38,
    "start_time": "2023-01-26T14:21:58.416Z"
   },
   {
    "duration": 4,
    "start_time": "2023-01-26T14:21:58.456Z"
   },
   {
    "duration": 133,
    "start_time": "2023-01-26T14:21:58.462Z"
   },
   {
    "duration": 437,
    "start_time": "2023-01-26T14:21:58.598Z"
   },
   {
    "duration": 3,
    "start_time": "2023-01-26T14:21:59.039Z"
   },
   {
    "duration": 16,
    "start_time": "2023-01-26T14:21:59.054Z"
   },
   {
    "duration": 109,
    "start_time": "2023-01-26T14:21:59.071Z"
   },
   {
    "duration": 71,
    "start_time": "2023-01-26T14:21:59.182Z"
   },
   {
    "duration": 127,
    "start_time": "2023-01-26T14:21:59.255Z"
   },
   {
    "duration": 85,
    "start_time": "2023-01-26T14:21:59.384Z"
   },
   {
    "duration": 86,
    "start_time": "2023-01-26T14:21:59.471Z"
   },
   {
    "duration": 2,
    "start_time": "2023-01-26T14:21:59.559Z"
   },
   {
    "duration": 104,
    "start_time": "2023-01-26T14:21:59.562Z"
   },
   {
    "duration": 2,
    "start_time": "2023-01-26T14:21:59.668Z"
   },
   {
    "duration": 95,
    "start_time": "2023-01-26T14:21:59.672Z"
   },
   {
    "duration": 86,
    "start_time": "2023-01-26T14:21:59.770Z"
   },
   {
    "duration": 62,
    "start_time": "2023-01-26T14:21:59.857Z"
   },
   {
    "duration": 60,
    "start_time": "2023-01-26T14:21:59.921Z"
   },
   {
    "duration": 2280,
    "start_time": "2023-01-26T14:21:59.983Z"
   },
   {
    "duration": 24,
    "start_time": "2023-01-26T14:22:02.264Z"
   },
   {
    "duration": 91,
    "start_time": "2023-01-26T14:22:02.290Z"
   },
   {
    "duration": 4,
    "start_time": "2023-01-26T14:22:02.382Z"
   },
   {
    "duration": 4,
    "start_time": "2023-01-26T14:22:09.301Z"
   },
   {
    "duration": 4,
    "start_time": "2023-01-26T14:23:11.803Z"
   },
   {
    "duration": 724,
    "start_time": "2023-01-26T14:23:11.810Z"
   },
   {
    "duration": 138,
    "start_time": "2023-01-26T14:23:12.536Z"
   },
   {
    "duration": 8,
    "start_time": "2023-01-26T14:23:12.677Z"
   },
   {
    "duration": 32,
    "start_time": "2023-01-26T14:23:12.686Z"
   },
   {
    "duration": 50,
    "start_time": "2023-01-26T14:23:12.720Z"
   },
   {
    "duration": 3,
    "start_time": "2023-01-26T14:23:12.772Z"
   },
   {
    "duration": 158,
    "start_time": "2023-01-26T14:23:12.776Z"
   },
   {
    "duration": 435,
    "start_time": "2023-01-26T14:23:12.936Z"
   },
   {
    "duration": 3,
    "start_time": "2023-01-26T14:23:13.374Z"
   },
   {
    "duration": 25,
    "start_time": "2023-01-26T14:23:13.378Z"
   },
   {
    "duration": 148,
    "start_time": "2023-01-26T14:23:13.405Z"
   },
   {
    "duration": 67,
    "start_time": "2023-01-26T14:23:13.555Z"
   },
   {
    "duration": 153,
    "start_time": "2023-01-26T14:23:13.625Z"
   },
   {
    "duration": 88,
    "start_time": "2023-01-26T14:23:13.780Z"
   },
   {
    "duration": 90,
    "start_time": "2023-01-26T14:23:13.870Z"
   },
   {
    "duration": 2,
    "start_time": "2023-01-26T14:23:13.962Z"
   },
   {
    "duration": 88,
    "start_time": "2023-01-26T14:23:13.966Z"
   },
   {
    "duration": 3,
    "start_time": "2023-01-26T14:23:14.055Z"
   },
   {
    "duration": 105,
    "start_time": "2023-01-26T14:23:14.059Z"
   },
   {
    "duration": 73,
    "start_time": "2023-01-26T14:23:14.167Z"
   },
   {
    "duration": 93,
    "start_time": "2023-01-26T14:23:14.242Z"
   },
   {
    "duration": 50,
    "start_time": "2023-01-26T14:23:14.337Z"
   },
   {
    "duration": 2174,
    "start_time": "2023-01-26T14:23:14.389Z"
   },
   {
    "duration": 23,
    "start_time": "2023-01-26T14:23:16.564Z"
   },
   {
    "duration": 85,
    "start_time": "2023-01-26T14:23:16.589Z"
   },
   {
    "duration": 4,
    "start_time": "2023-01-26T14:23:16.675Z"
   },
   {
    "duration": 25,
    "start_time": "2023-01-26T14:23:45.229Z"
   },
   {
    "duration": 68,
    "start_time": "2023-01-26T14:23:46.756Z"
   },
   {
    "duration": 5,
    "start_time": "2023-01-26T14:23:47.631Z"
   },
   {
    "duration": 5,
    "start_time": "2023-01-26T14:23:53.573Z"
   },
   {
    "duration": 782,
    "start_time": "2023-01-26T14:23:53.580Z"
   },
   {
    "duration": 136,
    "start_time": "2023-01-26T14:23:54.363Z"
   },
   {
    "duration": 3,
    "start_time": "2023-01-26T14:23:54.501Z"
   },
   {
    "duration": 20,
    "start_time": "2023-01-26T14:23:54.505Z"
   },
   {
    "duration": 71,
    "start_time": "2023-01-26T14:23:54.527Z"
   },
   {
    "duration": 3,
    "start_time": "2023-01-26T14:23:54.600Z"
   },
   {
    "duration": 150,
    "start_time": "2023-01-26T14:23:54.605Z"
   },
   {
    "duration": 466,
    "start_time": "2023-01-26T14:23:54.757Z"
   },
   {
    "duration": 3,
    "start_time": "2023-01-26T14:23:55.225Z"
   },
   {
    "duration": 33,
    "start_time": "2023-01-26T14:23:55.230Z"
   },
   {
    "duration": 108,
    "start_time": "2023-01-26T14:23:55.265Z"
   },
   {
    "duration": 64,
    "start_time": "2023-01-26T14:23:55.375Z"
   },
   {
    "duration": 138,
    "start_time": "2023-01-26T14:23:55.454Z"
   },
   {
    "duration": 90,
    "start_time": "2023-01-26T14:23:55.594Z"
   },
   {
    "duration": 84,
    "start_time": "2023-01-26T14:23:55.686Z"
   },
   {
    "duration": 2,
    "start_time": "2023-01-26T14:23:55.772Z"
   },
   {
    "duration": 97,
    "start_time": "2023-01-26T14:23:55.776Z"
   },
   {
    "duration": 3,
    "start_time": "2023-01-26T14:23:55.874Z"
   },
   {
    "duration": 105,
    "start_time": "2023-01-26T14:23:55.878Z"
   },
   {
    "duration": 84,
    "start_time": "2023-01-26T14:23:55.984Z"
   },
   {
    "duration": 62,
    "start_time": "2023-01-26T14:23:56.070Z"
   },
   {
    "duration": 68,
    "start_time": "2023-01-26T14:23:56.134Z"
   },
   {
    "duration": 2359,
    "start_time": "2023-01-26T14:23:56.205Z"
   },
   {
    "duration": 26,
    "start_time": "2023-01-26T14:23:58.565Z"
   },
   {
    "duration": 77,
    "start_time": "2023-01-26T14:23:58.593Z"
   },
   {
    "duration": 15,
    "start_time": "2023-01-26T14:23:58.672Z"
   },
   {
    "duration": 3,
    "start_time": "2023-01-26T14:24:09.177Z"
   },
   {
    "duration": 23,
    "start_time": "2023-01-26T14:24:29.438Z"
   },
   {
    "duration": 73,
    "start_time": "2023-01-26T14:24:30.652Z"
   },
   {
    "duration": 5,
    "start_time": "2023-01-26T14:24:31.420Z"
   },
   {
    "duration": 24,
    "start_time": "2023-01-26T14:25:40.621Z"
   },
   {
    "duration": 70,
    "start_time": "2023-01-26T14:25:41.686Z"
   },
   {
    "duration": 4,
    "start_time": "2023-01-26T14:25:42.512Z"
   },
   {
    "duration": 22,
    "start_time": "2023-01-26T14:25:52.709Z"
   },
   {
    "duration": 69,
    "start_time": "2023-01-26T14:25:54.214Z"
   },
   {
    "duration": 4,
    "start_time": "2023-01-26T14:25:57.087Z"
   },
   {
    "duration": 23,
    "start_time": "2023-01-26T14:26:36.366Z"
   },
   {
    "duration": 74,
    "start_time": "2023-01-26T14:26:37.628Z"
   },
   {
    "duration": 5,
    "start_time": "2023-01-26T14:26:40.661Z"
   },
   {
    "duration": 23,
    "start_time": "2023-01-26T14:26:54.424Z"
   },
   {
    "duration": 76,
    "start_time": "2023-01-26T14:26:55.592Z"
   },
   {
    "duration": 5,
    "start_time": "2023-01-26T14:26:56.229Z"
   },
   {
    "duration": 24,
    "start_time": "2023-01-26T14:27:05.278Z"
   },
   {
    "duration": 75,
    "start_time": "2023-01-26T14:27:06.093Z"
   },
   {
    "duration": 5,
    "start_time": "2023-01-26T14:27:06.471Z"
   },
   {
    "duration": 25,
    "start_time": "2023-01-26T14:27:14.693Z"
   },
   {
    "duration": 77,
    "start_time": "2023-01-26T14:27:15.733Z"
   },
   {
    "duration": 69,
    "start_time": "2023-01-26T14:27:18.829Z"
   },
   {
    "duration": 4,
    "start_time": "2023-01-26T14:27:21.246Z"
   },
   {
    "duration": 25,
    "start_time": "2023-01-26T14:28:10.030Z"
   },
   {
    "duration": 70,
    "start_time": "2023-01-26T14:28:11.388Z"
   },
   {
    "duration": 5,
    "start_time": "2023-01-26T14:28:16.661Z"
   },
   {
    "duration": 25,
    "start_time": "2023-01-26T14:28:32.334Z"
   },
   {
    "duration": 71,
    "start_time": "2023-01-26T14:28:33.334Z"
   },
   {
    "duration": 4,
    "start_time": "2023-01-26T14:28:34.031Z"
   },
   {
    "duration": 25,
    "start_time": "2023-01-26T14:28:58.822Z"
   },
   {
    "duration": 72,
    "start_time": "2023-01-26T14:28:59.999Z"
   },
   {
    "duration": 4,
    "start_time": "2023-01-26T14:29:03.550Z"
   },
   {
    "duration": 26,
    "start_time": "2023-01-26T14:29:20.685Z"
   },
   {
    "duration": 70,
    "start_time": "2023-01-26T14:29:21.766Z"
   },
   {
    "duration": 4,
    "start_time": "2023-01-26T14:29:22.669Z"
   },
   {
    "duration": 4,
    "start_time": "2023-01-26T14:29:26.357Z"
   },
   {
    "duration": 26,
    "start_time": "2023-01-26T14:29:51.369Z"
   },
   {
    "duration": 78,
    "start_time": "2023-01-26T14:29:52.451Z"
   },
   {
    "duration": 4,
    "start_time": "2023-01-26T14:29:53.235Z"
   },
   {
    "duration": 25,
    "start_time": "2023-01-26T14:30:41.981Z"
   },
   {
    "duration": 74,
    "start_time": "2023-01-26T14:30:43.375Z"
   },
   {
    "duration": 4,
    "start_time": "2023-01-26T14:30:44.385Z"
   },
   {
    "duration": 27,
    "start_time": "2023-01-26T14:31:14.077Z"
   },
   {
    "duration": 73,
    "start_time": "2023-01-26T14:31:15.351Z"
   },
   {
    "duration": 69,
    "start_time": "2023-01-26T14:31:19.141Z"
   },
   {
    "duration": 5,
    "start_time": "2023-01-26T14:31:20.221Z"
   },
   {
    "duration": 27,
    "start_time": "2023-01-26T14:31:58.823Z"
   },
   {
    "duration": 73,
    "start_time": "2023-01-26T14:31:59.869Z"
   },
   {
    "duration": 4,
    "start_time": "2023-01-26T14:32:03.366Z"
   },
   {
    "duration": 25,
    "start_time": "2023-01-26T14:32:53.070Z"
   },
   {
    "duration": 68,
    "start_time": "2023-01-26T14:32:54.172Z"
   },
   {
    "duration": 4,
    "start_time": "2023-01-26T14:32:54.815Z"
   },
   {
    "duration": 13,
    "start_time": "2023-01-26T14:33:38.270Z"
   },
   {
    "duration": 61,
    "start_time": "2023-01-26T14:33:38.767Z"
   },
   {
    "duration": 812,
    "start_time": "2023-01-26T14:41:09.594Z"
   },
   {
    "duration": 5,
    "start_time": "2023-01-26T14:41:30.271Z"
   },
   {
    "duration": 327,
    "start_time": "2023-01-26T14:46:16.849Z"
   },
   {
    "duration": 105,
    "start_time": "2023-01-26T14:46:42.545Z"
   },
   {
    "duration": 23,
    "start_time": "2023-01-26T16:18:07.204Z"
   },
   {
    "duration": 90,
    "start_time": "2023-01-26T16:20:09.046Z"
   },
   {
    "duration": 347,
    "start_time": "2023-01-26T16:20:56.950Z"
   },
   {
    "duration": 4,
    "start_time": "2023-01-26T17:46:44.717Z"
   },
   {
    "duration": 876,
    "start_time": "2023-01-26T17:46:44.723Z"
   },
   {
    "duration": 168,
    "start_time": "2023-01-26T17:46:45.601Z"
   },
   {
    "duration": 2,
    "start_time": "2023-01-26T17:46:45.772Z"
   },
   {
    "duration": 15,
    "start_time": "2023-01-26T17:46:45.777Z"
   },
   {
    "duration": 27,
    "start_time": "2023-01-26T17:46:45.793Z"
   },
   {
    "duration": 3,
    "start_time": "2023-01-26T17:46:45.822Z"
   },
   {
    "duration": 169,
    "start_time": "2023-01-26T17:46:45.827Z"
   },
   {
    "duration": 465,
    "start_time": "2023-01-26T17:46:45.998Z"
   },
   {
    "duration": 3,
    "start_time": "2023-01-26T17:46:46.465Z"
   },
   {
    "duration": 23,
    "start_time": "2023-01-26T17:46:46.470Z"
   },
   {
    "duration": 122,
    "start_time": "2023-01-26T17:46:46.495Z"
   },
   {
    "duration": 96,
    "start_time": "2023-01-26T17:46:46.619Z"
   },
   {
    "duration": 173,
    "start_time": "2023-01-26T17:46:46.718Z"
   },
   {
    "duration": 87,
    "start_time": "2023-01-26T17:46:46.893Z"
   },
   {
    "duration": 118,
    "start_time": "2023-01-26T17:46:46.982Z"
   },
   {
    "duration": 7,
    "start_time": "2023-01-26T17:46:47.157Z"
   },
   {
    "duration": 113,
    "start_time": "2023-01-26T17:46:47.167Z"
   },
   {
    "duration": 2,
    "start_time": "2023-01-26T17:46:47.282Z"
   },
   {
    "duration": 131,
    "start_time": "2023-01-26T17:46:47.286Z"
   },
   {
    "duration": 119,
    "start_time": "2023-01-26T17:46:47.418Z"
   },
   {
    "duration": 73,
    "start_time": "2023-01-26T17:46:47.539Z"
   },
   {
    "duration": 60,
    "start_time": "2023-01-26T17:46:47.614Z"
   },
   {
    "duration": 2569,
    "start_time": "2023-01-26T17:46:47.676Z"
   },
   {
    "duration": 35,
    "start_time": "2023-01-26T17:46:50.247Z"
   },
   {
    "duration": 88,
    "start_time": "2023-01-26T17:46:50.284Z"
   },
   {
    "duration": 14,
    "start_time": "2023-01-26T17:46:50.374Z"
   },
   {
    "duration": 8,
    "start_time": "2023-01-26T17:46:50.390Z"
   },
   {
    "duration": 14,
    "start_time": "2023-01-26T17:46:50.400Z"
   },
   {
    "duration": 80,
    "start_time": "2023-01-26T17:46:50.415Z"
   },
   {
    "duration": 369,
    "start_time": "2023-01-26T17:46:50.496Z"
   },
   {
    "duration": 657,
    "start_time": "2023-01-26T17:46:50.868Z"
   },
   {
    "duration": 675,
    "start_time": "2023-01-26T17:46:53.770Z"
   },
   {
    "duration": 715,
    "start_time": "2023-01-26T17:50:50.450Z"
   },
   {
    "duration": 828,
    "start_time": "2023-01-26T17:55:33.763Z"
   },
   {
    "duration": 22,
    "start_time": "2023-01-26T17:56:04.206Z"
   },
   {
    "duration": 23,
    "start_time": "2023-01-26T17:57:18.822Z"
   },
   {
    "duration": 5,
    "start_time": "2023-01-26T18:06:07.218Z"
   },
   {
    "duration": 911,
    "start_time": "2023-01-26T18:06:07.225Z"
   },
   {
    "duration": 150,
    "start_time": "2023-01-26T18:06:08.138Z"
   },
   {
    "duration": 2,
    "start_time": "2023-01-26T18:06:08.290Z"
   },
   {
    "duration": 18,
    "start_time": "2023-01-26T18:06:08.294Z"
   },
   {
    "duration": 83,
    "start_time": "2023-01-26T18:06:08.314Z"
   },
   {
    "duration": 3,
    "start_time": "2023-01-26T18:06:08.399Z"
   },
   {
    "duration": 165,
    "start_time": "2023-01-26T18:06:08.404Z"
   },
   {
    "duration": 450,
    "start_time": "2023-01-26T18:06:08.571Z"
   },
   {
    "duration": 3,
    "start_time": "2023-01-26T18:06:09.023Z"
   },
   {
    "duration": 32,
    "start_time": "2023-01-26T18:06:09.029Z"
   },
   {
    "duration": 132,
    "start_time": "2023-01-26T18:06:09.063Z"
   },
   {
    "duration": 73,
    "start_time": "2023-01-26T18:06:09.197Z"
   },
   {
    "duration": 135,
    "start_time": "2023-01-26T18:06:09.271Z"
   },
   {
    "duration": 90,
    "start_time": "2023-01-26T18:06:09.407Z"
   },
   {
    "duration": 96,
    "start_time": "2023-01-26T18:06:09.499Z"
   },
   {
    "duration": 4,
    "start_time": "2023-01-26T18:06:09.596Z"
   },
   {
    "duration": 112,
    "start_time": "2023-01-26T18:06:09.601Z"
   },
   {
    "duration": 2,
    "start_time": "2023-01-26T18:06:09.715Z"
   },
   {
    "duration": 112,
    "start_time": "2023-01-26T18:06:09.719Z"
   },
   {
    "duration": 89,
    "start_time": "2023-01-26T18:06:09.834Z"
   },
   {
    "duration": 71,
    "start_time": "2023-01-26T18:06:09.925Z"
   },
   {
    "duration": 66,
    "start_time": "2023-01-26T18:06:09.998Z"
   },
   {
    "duration": 2449,
    "start_time": "2023-01-26T18:06:10.069Z"
   },
   {
    "duration": 48,
    "start_time": "2023-01-26T18:06:12.520Z"
   },
   {
    "duration": 74,
    "start_time": "2023-01-26T18:06:12.572Z"
   },
   {
    "duration": 27,
    "start_time": "2023-01-26T18:06:12.647Z"
   },
   {
    "duration": 31,
    "start_time": "2023-01-26T18:06:12.675Z"
   },
   {
    "duration": 58,
    "start_time": "2023-01-26T18:06:12.710Z"
   },
   {
    "duration": 80,
    "start_time": "2023-01-26T18:06:12.770Z"
   },
   {
    "duration": 10,
    "start_time": "2023-01-26T18:06:12.856Z"
   },
   {
    "duration": 305,
    "start_time": "2023-01-26T18:06:12.867Z"
   },
   {
    "duration": 397,
    "start_time": "2023-01-26T18:06:13.174Z"
   },
   {
    "duration": 829,
    "start_time": "2023-01-26T18:06:13.577Z"
   },
   {
    "duration": 36,
    "start_time": "2023-01-26T18:06:14.408Z"
   },
   {
    "duration": 27,
    "start_time": "2023-01-26T18:06:14.445Z"
   },
   {
    "duration": 13,
    "start_time": "2023-01-26T18:06:42.252Z"
   },
   {
    "duration": 11,
    "start_time": "2023-01-26T18:06:53.715Z"
   },
   {
    "duration": 4,
    "start_time": "2023-01-26T18:10:57.435Z"
   },
   {
    "duration": 877,
    "start_time": "2023-01-26T18:10:57.443Z"
   },
   {
    "duration": 152,
    "start_time": "2023-01-26T18:10:58.323Z"
   },
   {
    "duration": 3,
    "start_time": "2023-01-26T18:10:58.478Z"
   },
   {
    "duration": 21,
    "start_time": "2023-01-26T18:10:58.483Z"
   },
   {
    "duration": 70,
    "start_time": "2023-01-26T18:10:58.506Z"
   },
   {
    "duration": 4,
    "start_time": "2023-01-26T18:10:58.578Z"
   },
   {
    "duration": 181,
    "start_time": "2023-01-26T18:10:58.585Z"
   },
   {
    "duration": 451,
    "start_time": "2023-01-26T18:10:58.769Z"
   },
   {
    "duration": 3,
    "start_time": "2023-01-26T18:10:59.222Z"
   },
   {
    "duration": 41,
    "start_time": "2023-01-26T18:10:59.228Z"
   },
   {
    "duration": 99,
    "start_time": "2023-01-26T18:10:59.271Z"
   },
   {
    "duration": 62,
    "start_time": "2023-01-26T18:10:59.372Z"
   },
   {
    "duration": 182,
    "start_time": "2023-01-26T18:10:59.435Z"
   },
   {
    "duration": 101,
    "start_time": "2023-01-26T18:10:59.619Z"
   },
   {
    "duration": 90,
    "start_time": "2023-01-26T18:10:59.723Z"
   },
   {
    "duration": 3,
    "start_time": "2023-01-26T18:10:59.815Z"
   },
   {
    "duration": 126,
    "start_time": "2023-01-26T18:10:59.820Z"
   },
   {
    "duration": 15,
    "start_time": "2023-01-26T18:10:59.948Z"
   },
   {
    "duration": 82,
    "start_time": "2023-01-26T18:10:59.966Z"
   },
   {
    "duration": 106,
    "start_time": "2023-01-26T18:11:00.050Z"
   },
   {
    "duration": 81,
    "start_time": "2023-01-26T18:11:00.158Z"
   },
   {
    "duration": 56,
    "start_time": "2023-01-26T18:11:00.241Z"
   },
   {
    "duration": 2439,
    "start_time": "2023-01-26T18:11:00.299Z"
   },
   {
    "duration": 43,
    "start_time": "2023-01-26T18:11:02.739Z"
   },
   {
    "duration": 87,
    "start_time": "2023-01-26T18:11:02.783Z"
   },
   {
    "duration": 23,
    "start_time": "2023-01-26T18:11:02.872Z"
   },
   {
    "duration": 32,
    "start_time": "2023-01-26T18:11:02.897Z"
   },
   {
    "duration": 41,
    "start_time": "2023-01-26T18:11:02.933Z"
   },
   {
    "duration": 98,
    "start_time": "2023-01-26T18:11:02.975Z"
   },
   {
    "duration": 4,
    "start_time": "2023-01-26T18:11:03.075Z"
   },
   {
    "duration": 308,
    "start_time": "2023-01-26T18:11:03.081Z"
   },
   {
    "duration": 369,
    "start_time": "2023-01-26T18:11:03.391Z"
   },
   {
    "duration": 852,
    "start_time": "2023-01-26T18:11:03.766Z"
   },
   {
    "duration": 22,
    "start_time": "2023-01-26T18:11:04.620Z"
   },
   {
    "duration": 48,
    "start_time": "2023-01-26T18:11:04.643Z"
   },
   {
    "duration": 4,
    "start_time": "2023-01-26T18:39:07.177Z"
   },
   {
    "duration": 804,
    "start_time": "2023-01-26T18:39:07.183Z"
   },
   {
    "duration": 130,
    "start_time": "2023-01-26T18:39:07.989Z"
   },
   {
    "duration": 3,
    "start_time": "2023-01-26T18:39:08.121Z"
   },
   {
    "duration": 29,
    "start_time": "2023-01-26T18:39:08.125Z"
   },
   {
    "duration": 50,
    "start_time": "2023-01-26T18:39:08.156Z"
   },
   {
    "duration": 3,
    "start_time": "2023-01-26T18:39:08.208Z"
   },
   {
    "duration": 136,
    "start_time": "2023-01-26T18:39:08.213Z"
   },
   {
    "duration": 404,
    "start_time": "2023-01-26T18:39:08.355Z"
   },
   {
    "duration": 3,
    "start_time": "2023-01-26T18:39:08.761Z"
   },
   {
    "duration": 26,
    "start_time": "2023-01-26T18:39:08.766Z"
   },
   {
    "duration": 96,
    "start_time": "2023-01-26T18:39:08.794Z"
   },
   {
    "duration": 71,
    "start_time": "2023-01-26T18:39:08.892Z"
   },
   {
    "duration": 127,
    "start_time": "2023-01-26T18:39:08.965Z"
   },
   {
    "duration": 82,
    "start_time": "2023-01-26T18:39:09.094Z"
   },
   {
    "duration": 76,
    "start_time": "2023-01-26T18:39:09.178Z"
   },
   {
    "duration": 9,
    "start_time": "2023-01-26T18:39:09.255Z"
   },
   {
    "duration": 82,
    "start_time": "2023-01-26T18:39:09.266Z"
   },
   {
    "duration": 8,
    "start_time": "2023-01-26T18:39:09.349Z"
   },
   {
    "duration": 102,
    "start_time": "2023-01-26T18:39:09.359Z"
   },
   {
    "duration": 69,
    "start_time": "2023-01-26T18:39:09.463Z"
   },
   {
    "duration": 79,
    "start_time": "2023-01-26T18:39:09.534Z"
   },
   {
    "duration": 58,
    "start_time": "2023-01-26T18:39:09.617Z"
   },
   {
    "duration": 2159,
    "start_time": "2023-01-26T18:39:09.678Z"
   },
   {
    "duration": 35,
    "start_time": "2023-01-26T18:39:11.839Z"
   },
   {
    "duration": 77,
    "start_time": "2023-01-26T18:39:11.876Z"
   },
   {
    "duration": 8,
    "start_time": "2023-01-26T18:39:11.955Z"
   },
   {
    "duration": 14,
    "start_time": "2023-01-26T18:39:11.965Z"
   },
   {
    "duration": 47,
    "start_time": "2023-01-26T18:39:11.981Z"
   },
   {
    "duration": 77,
    "start_time": "2023-01-26T18:39:12.030Z"
   },
   {
    "duration": 3,
    "start_time": "2023-01-26T18:39:12.109Z"
   },
   {
    "duration": 274,
    "start_time": "2023-01-26T18:39:12.114Z"
   },
   {
    "duration": 356,
    "start_time": "2023-01-26T18:39:12.389Z"
   },
   {
    "duration": 712,
    "start_time": "2023-01-26T18:39:12.747Z"
   },
   {
    "duration": 26,
    "start_time": "2023-01-26T18:39:13.462Z"
   },
   {
    "duration": 4,
    "start_time": "2023-01-26T18:39:13.491Z"
   },
   {
    "duration": 19,
    "start_time": "2023-01-26T18:39:13.497Z"
   },
   {
    "duration": 16,
    "start_time": "2023-01-26T18:39:13.518Z"
   },
   {
    "duration": 974574,
    "start_time": "2023-01-26T18:39:13.536Z"
   },
   {
    "duration": 2,
    "start_time": "2023-01-26T18:55:28.112Z"
   },
   {
    "duration": 10,
    "start_time": "2023-01-26T18:55:28.116Z"
   },
   {
    "duration": 20,
    "start_time": "2023-01-26T18:55:28.127Z"
   },
   {
    "duration": 0,
    "start_time": "2023-01-26T18:55:28.148Z"
   },
   {
    "duration": 0,
    "start_time": "2023-01-26T18:55:28.153Z"
   },
   {
    "duration": 0,
    "start_time": "2023-01-26T18:55:28.155Z"
   },
   {
    "duration": 0,
    "start_time": "2023-01-26T18:55:28.156Z"
   },
   {
    "duration": 0,
    "start_time": "2023-01-26T18:55:28.157Z"
   },
   {
    "duration": 0,
    "start_time": "2023-01-26T18:55:28.158Z"
   },
   {
    "duration": 0,
    "start_time": "2023-01-26T18:55:28.159Z"
   },
   {
    "duration": 0,
    "start_time": "2023-01-26T18:55:28.161Z"
   },
   {
    "duration": 0,
    "start_time": "2023-01-26T18:55:28.162Z"
   },
   {
    "duration": 0,
    "start_time": "2023-01-26T18:55:28.163Z"
   },
   {
    "duration": 0,
    "start_time": "2023-01-26T18:55:28.164Z"
   },
   {
    "duration": 0,
    "start_time": "2023-01-26T18:55:28.165Z"
   },
   {
    "duration": 0,
    "start_time": "2023-01-26T18:55:28.166Z"
   },
   {
    "duration": 10,
    "start_time": "2023-01-26T19:22:25.451Z"
   },
   {
    "duration": 9,
    "start_time": "2023-01-26T19:22:40.134Z"
   },
   {
    "duration": 10,
    "start_time": "2023-01-26T19:22:43.645Z"
   },
   {
    "duration": 9,
    "start_time": "2023-01-26T19:22:45.717Z"
   },
   {
    "duration": 12,
    "start_time": "2023-01-26T19:23:49.755Z"
   },
   {
    "duration": 3,
    "start_time": "2023-01-26T19:24:10.417Z"
   },
   {
    "duration": 3,
    "start_time": "2023-01-26T19:24:24.136Z"
   },
   {
    "duration": 3,
    "start_time": "2023-01-26T19:24:28.620Z"
   },
   {
    "duration": 10079,
    "start_time": "2023-01-26T19:25:23.476Z"
   },
   {
    "duration": 9,
    "start_time": "2023-01-26T19:25:36.564Z"
   },
   {
    "duration": 10,
    "start_time": "2023-01-26T19:26:45.452Z"
   },
   {
    "duration": 9,
    "start_time": "2023-01-26T19:28:10.088Z"
   },
   {
    "duration": 5,
    "start_time": "2023-01-26T19:29:25.485Z"
   },
   {
    "duration": 4,
    "start_time": "2023-01-26T19:29:45.068Z"
   },
   {
    "duration": 10266,
    "start_time": "2023-01-26T19:29:45.789Z"
   },
   {
    "duration": 10114,
    "start_time": "2023-01-26T19:30:23.149Z"
   },
   {
    "duration": 10,
    "start_time": "2023-01-26T19:30:37.046Z"
   },
   {
    "duration": 7925,
    "start_time": "2023-01-26T19:31:21.350Z"
   },
   {
    "duration": 9683,
    "start_time": "2023-01-26T19:31:30.685Z"
   },
   {
    "duration": 3,
    "start_time": "2023-01-26T19:31:44.015Z"
   },
   {
    "duration": 10,
    "start_time": "2023-01-26T19:32:05.790Z"
   },
   {
    "duration": 12468,
    "start_time": "2023-01-26T19:32:22.092Z"
   },
   {
    "duration": 2,
    "start_time": "2023-01-26T19:32:52.413Z"
   },
   {
    "duration": 11446,
    "start_time": "2023-01-26T19:36:23.607Z"
   },
   {
    "duration": 7,
    "start_time": "2023-01-26T19:36:35.060Z"
   },
   {
    "duration": 6,
    "start_time": "2023-01-26T19:37:38.753Z"
   },
   {
    "duration": 5,
    "start_time": "2023-01-26T19:37:51.950Z"
   },
   {
    "duration": 4,
    "start_time": "2023-01-26T19:38:03.754Z"
   },
   {
    "duration": 4,
    "start_time": "2023-01-26T19:38:56.342Z"
   },
   {
    "duration": 5,
    "start_time": "2023-01-26T19:39:07.566Z"
   },
   {
    "duration": 4,
    "start_time": "2023-01-26T19:39:14.837Z"
   },
   {
    "duration": 3,
    "start_time": "2023-01-26T19:39:28.120Z"
   },
   {
    "duration": 4,
    "start_time": "2023-01-26T19:39:34.583Z"
   },
   {
    "duration": 5,
    "start_time": "2023-01-26T19:39:51.039Z"
   },
   {
    "duration": 4,
    "start_time": "2023-01-26T19:41:14.312Z"
   },
   {
    "duration": 5,
    "start_time": "2023-01-26T19:44:31.048Z"
   },
   {
    "duration": 5,
    "start_time": "2023-01-26T19:44:51.259Z"
   },
   {
    "duration": 42,
    "start_time": "2023-01-26T19:48:34.119Z"
   },
   {
    "duration": 5,
    "start_time": "2023-01-26T19:48:45.377Z"
   },
   {
    "duration": 10,
    "start_time": "2023-01-26T19:49:21.946Z"
   },
   {
    "duration": 8,
    "start_time": "2023-01-26T19:49:31.731Z"
   },
   {
    "duration": 7,
    "start_time": "2023-01-26T19:49:51.424Z"
   },
   {
    "duration": 5,
    "start_time": "2023-01-26T19:55:44.167Z"
   },
   {
    "duration": 5,
    "start_time": "2023-01-26T19:57:16.549Z"
   },
   {
    "duration": 4,
    "start_time": "2023-01-26T19:58:07.167Z"
   },
   {
    "duration": 171249,
    "start_time": "2023-01-26T19:58:07.708Z"
   },
   {
    "duration": 3,
    "start_time": "2023-01-26T20:00:58.958Z"
   },
   {
    "duration": 8,
    "start_time": "2023-01-26T20:00:58.962Z"
   },
   {
    "duration": 9,
    "start_time": "2023-01-26T20:00:58.972Z"
   },
   {
    "duration": 6,
    "start_time": "2023-01-26T20:00:58.983Z"
   },
   {
    "duration": 6,
    "start_time": "2023-01-26T20:00:58.991Z"
   },
   {
    "duration": 8,
    "start_time": "2023-01-26T20:00:58.999Z"
   },
   {
    "duration": 3,
    "start_time": "2023-01-26T20:03:44.781Z"
   },
   {
    "duration": 5,
    "start_time": "2023-01-26T20:03:45.520Z"
   },
   {
    "duration": 3,
    "start_time": "2023-01-26T20:03:46.942Z"
   },
   {
    "duration": 4,
    "start_time": "2023-01-26T20:03:48.095Z"
   },
   {
    "duration": 4,
    "start_time": "2023-01-26T20:03:57.653Z"
   },
   {
    "duration": 4,
    "start_time": "2023-01-26T20:03:59.173Z"
   },
   {
    "duration": 4,
    "start_time": "2023-01-26T20:04:43.270Z"
   },
   {
    "duration": 3,
    "start_time": "2023-01-26T20:04:56.246Z"
   },
   {
    "duration": 3,
    "start_time": "2023-01-26T20:05:42.104Z"
   },
   {
    "duration": 3,
    "start_time": "2023-01-26T20:07:26.322Z"
   },
   {
    "duration": 13696,
    "start_time": "2023-01-26T20:07:26.758Z"
   },
   {
    "duration": 6,
    "start_time": "2023-01-26T20:07:40.456Z"
   },
   {
    "duration": 101,
    "start_time": "2023-01-26T20:07:40.465Z"
   },
   {
    "duration": 16,
    "start_time": "2023-01-26T20:07:40.568Z"
   },
   {
    "duration": 6,
    "start_time": "2023-01-26T20:12:25.731Z"
   },
   {
    "duration": 7,
    "start_time": "2023-01-26T20:13:18.115Z"
   },
   {
    "duration": 5,
    "start_time": "2023-01-26T20:15:29.879Z"
   },
   {
    "duration": 771,
    "start_time": "2023-01-26T20:15:29.887Z"
   },
   {
    "duration": 133,
    "start_time": "2023-01-26T20:15:30.661Z"
   },
   {
    "duration": 7,
    "start_time": "2023-01-26T20:15:30.797Z"
   },
   {
    "duration": 32,
    "start_time": "2023-01-26T20:15:30.806Z"
   },
   {
    "duration": 81,
    "start_time": "2023-01-26T20:15:30.840Z"
   },
   {
    "duration": 3,
    "start_time": "2023-01-26T20:15:30.923Z"
   },
   {
    "duration": 156,
    "start_time": "2023-01-26T20:15:30.928Z"
   },
   {
    "duration": 456,
    "start_time": "2023-01-26T20:15:31.087Z"
   },
   {
    "duration": 3,
    "start_time": "2023-01-26T20:15:31.553Z"
   },
   {
    "duration": 30,
    "start_time": "2023-01-26T20:15:31.558Z"
   },
   {
    "duration": 124,
    "start_time": "2023-01-26T20:15:31.590Z"
   },
   {
    "duration": 64,
    "start_time": "2023-01-26T20:15:31.716Z"
   },
   {
    "duration": 131,
    "start_time": "2023-01-26T20:15:31.781Z"
   },
   {
    "duration": 79,
    "start_time": "2023-01-26T20:15:31.913Z"
   },
   {
    "duration": 74,
    "start_time": "2023-01-26T20:15:31.994Z"
   },
   {
    "duration": 15,
    "start_time": "2023-01-26T20:15:32.070Z"
   },
   {
    "duration": 123,
    "start_time": "2023-01-26T20:15:32.087Z"
   },
   {
    "duration": 7,
    "start_time": "2023-01-26T20:15:32.211Z"
   },
   {
    "duration": 82,
    "start_time": "2023-01-26T20:15:32.220Z"
   },
   {
    "duration": 73,
    "start_time": "2023-01-26T20:15:32.303Z"
   },
   {
    "duration": 17,
    "start_time": "2023-01-26T20:15:32.384Z"
   },
   {
    "duration": 65,
    "start_time": "2023-01-26T20:15:32.403Z"
   },
   {
    "duration": 49,
    "start_time": "2023-01-26T20:15:32.469Z"
   },
   {
    "duration": 1642,
    "start_time": "2023-01-26T20:15:32.520Z"
   },
   {
    "duration": 26,
    "start_time": "2023-01-26T20:15:34.164Z"
   },
   {
    "duration": 84,
    "start_time": "2023-01-26T20:15:34.191Z"
   },
   {
    "duration": 4,
    "start_time": "2023-01-26T20:15:34.278Z"
   },
   {
    "duration": 5,
    "start_time": "2023-01-26T20:15:44.927Z"
   },
   {
    "duration": 4,
    "start_time": "2023-01-26T20:16:48.644Z"
   },
   {
    "duration": 730,
    "start_time": "2023-01-26T20:16:48.650Z"
   },
   {
    "duration": 132,
    "start_time": "2023-01-26T20:16:49.381Z"
   },
   {
    "duration": 3,
    "start_time": "2023-01-26T20:16:49.514Z"
   },
   {
    "duration": 22,
    "start_time": "2023-01-26T20:16:49.519Z"
   },
   {
    "duration": 51,
    "start_time": "2023-01-26T20:16:49.553Z"
   },
   {
    "duration": 4,
    "start_time": "2023-01-26T20:16:49.606Z"
   },
   {
    "duration": 141,
    "start_time": "2023-01-26T20:16:49.612Z"
   },
   {
    "duration": 445,
    "start_time": "2023-01-26T20:16:49.755Z"
   },
   {
    "duration": 3,
    "start_time": "2023-01-26T20:16:50.201Z"
   },
   {
    "duration": 20,
    "start_time": "2023-01-26T20:16:50.205Z"
   },
   {
    "duration": 108,
    "start_time": "2023-01-26T20:16:50.227Z"
   },
   {
    "duration": 74,
    "start_time": "2023-01-26T20:16:50.336Z"
   },
   {
    "duration": 133,
    "start_time": "2023-01-26T20:16:50.413Z"
   },
   {
    "duration": 79,
    "start_time": "2023-01-26T20:16:50.548Z"
   },
   {
    "duration": 81,
    "start_time": "2023-01-26T20:16:50.629Z"
   },
   {
    "duration": 2,
    "start_time": "2023-01-26T20:16:50.712Z"
   },
   {
    "duration": 90,
    "start_time": "2023-01-26T20:16:50.716Z"
   },
   {
    "duration": 4,
    "start_time": "2023-01-26T20:16:50.808Z"
   },
   {
    "duration": 90,
    "start_time": "2023-01-26T20:16:50.814Z"
   },
   {
    "duration": 75,
    "start_time": "2023-01-26T20:16:50.906Z"
   },
   {
    "duration": 7,
    "start_time": "2023-01-26T20:16:50.983Z"
   },
   {
    "duration": 77,
    "start_time": "2023-01-26T20:16:50.992Z"
   },
   {
    "duration": 50,
    "start_time": "2023-01-26T20:16:51.071Z"
   },
   {
    "duration": 1692,
    "start_time": "2023-01-26T20:16:51.123Z"
   },
   {
    "duration": 26,
    "start_time": "2023-01-26T20:16:52.817Z"
   },
   {
    "duration": 70,
    "start_time": "2023-01-26T20:16:52.854Z"
   },
   {
    "duration": 4,
    "start_time": "2023-01-26T20:16:52.925Z"
   },
   {
    "duration": 27,
    "start_time": "2023-01-26T20:18:04.760Z"
   },
   {
    "duration": 73,
    "start_time": "2023-01-26T20:18:06.200Z"
   },
   {
    "duration": 4,
    "start_time": "2023-01-26T20:18:09.266Z"
   },
   {
    "duration": 5,
    "start_time": "2023-01-26T20:20:21.724Z"
   },
   {
    "duration": 801,
    "start_time": "2023-01-26T20:20:21.731Z"
   },
   {
    "duration": 133,
    "start_time": "2023-01-26T20:20:22.534Z"
   },
   {
    "duration": 4,
    "start_time": "2023-01-26T20:20:22.669Z"
   },
   {
    "duration": 15,
    "start_time": "2023-01-26T20:20:22.675Z"
   },
   {
    "duration": 25,
    "start_time": "2023-01-26T20:20:22.691Z"
   },
   {
    "duration": 3,
    "start_time": "2023-01-26T20:20:22.718Z"
   },
   {
    "duration": 156,
    "start_time": "2023-01-26T20:20:22.723Z"
   },
   {
    "duration": 454,
    "start_time": "2023-01-26T20:20:22.881Z"
   },
   {
    "duration": 4,
    "start_time": "2023-01-26T20:20:23.337Z"
   },
   {
    "duration": 144,
    "start_time": "2023-01-26T20:20:23.353Z"
   },
   {
    "duration": 107,
    "start_time": "2023-01-26T20:20:23.499Z"
   },
   {
    "duration": 72,
    "start_time": "2023-01-26T20:20:23.608Z"
   },
   {
    "duration": 134,
    "start_time": "2023-01-26T20:20:23.683Z"
   },
   {
    "duration": 81,
    "start_time": "2023-01-26T20:20:23.819Z"
   },
   {
    "duration": 77,
    "start_time": "2023-01-26T20:20:23.902Z"
   },
   {
    "duration": 6,
    "start_time": "2023-01-26T20:20:23.981Z"
   },
   {
    "duration": 81,
    "start_time": "2023-01-26T20:20:23.988Z"
   },
   {
    "duration": 4,
    "start_time": "2023-01-26T20:20:24.071Z"
   },
   {
    "duration": 82,
    "start_time": "2023-01-26T20:20:24.076Z"
   },
   {
    "duration": 68,
    "start_time": "2023-01-26T20:20:24.160Z"
   },
   {
    "duration": 24,
    "start_time": "2023-01-26T20:20:24.230Z"
   },
   {
    "duration": 62,
    "start_time": "2023-01-26T20:20:24.256Z"
   },
   {
    "duration": 80,
    "start_time": "2023-01-26T20:20:24.320Z"
   },
   {
    "duration": 1701,
    "start_time": "2023-01-26T20:20:24.402Z"
   },
   {
    "duration": 27,
    "start_time": "2023-01-26T20:20:26.105Z"
   },
   {
    "duration": 1743,
    "start_time": "2023-01-26T20:20:26.134Z"
   },
   {
    "duration": 34,
    "start_time": "2023-01-26T20:22:00.753Z"
   },
   {
    "duration": 4,
    "start_time": "2023-01-26T20:23:56.042Z"
   },
   {
    "duration": 780,
    "start_time": "2023-01-26T20:23:56.048Z"
   },
   {
    "duration": 134,
    "start_time": "2023-01-26T20:23:56.830Z"
   },
   {
    "duration": 2,
    "start_time": "2023-01-26T20:23:56.966Z"
   },
   {
    "duration": 30,
    "start_time": "2023-01-26T20:23:56.970Z"
   },
   {
    "duration": 54,
    "start_time": "2023-01-26T20:23:57.002Z"
   },
   {
    "duration": 4,
    "start_time": "2023-01-26T20:23:57.058Z"
   },
   {
    "duration": 130,
    "start_time": "2023-01-26T20:23:57.064Z"
   },
   {
    "duration": 465,
    "start_time": "2023-01-26T20:23:57.198Z"
   },
   {
    "duration": 3,
    "start_time": "2023-01-26T20:23:57.666Z"
   },
   {
    "duration": 23,
    "start_time": "2023-01-26T20:23:57.671Z"
   },
   {
    "duration": 119,
    "start_time": "2023-01-26T20:23:57.696Z"
   },
   {
    "duration": 68,
    "start_time": "2023-01-26T20:23:57.816Z"
   },
   {
    "duration": 129,
    "start_time": "2023-01-26T20:23:57.886Z"
   },
   {
    "duration": 84,
    "start_time": "2023-01-26T20:23:58.017Z"
   },
   {
    "duration": 88,
    "start_time": "2023-01-26T20:23:58.102Z"
   },
   {
    "duration": 2,
    "start_time": "2023-01-26T20:23:58.192Z"
   },
   {
    "duration": 84,
    "start_time": "2023-01-26T20:23:58.195Z"
   },
   {
    "duration": 2,
    "start_time": "2023-01-26T20:23:58.281Z"
   },
   {
    "duration": 82,
    "start_time": "2023-01-26T20:23:58.285Z"
   },
   {
    "duration": 75,
    "start_time": "2023-01-26T20:23:58.369Z"
   },
   {
    "duration": 10,
    "start_time": "2023-01-26T20:23:58.454Z"
   },
   {
    "duration": 67,
    "start_time": "2023-01-26T20:23:58.466Z"
   },
   {
    "duration": 60,
    "start_time": "2023-01-26T20:23:58.537Z"
   },
   {
    "duration": 1720,
    "start_time": "2023-01-26T20:23:58.599Z"
   },
   {
    "duration": 34,
    "start_time": "2023-01-26T20:24:00.320Z"
   },
   {
    "duration": 1656,
    "start_time": "2023-01-26T20:24:00.356Z"
   },
   {
    "duration": 68,
    "start_time": "2023-01-26T20:24:24.515Z"
   },
   {
    "duration": 4,
    "start_time": "2023-01-26T20:24:25.353Z"
   },
   {
    "duration": 25,
    "start_time": "2023-01-26T20:24:45.658Z"
   },
   {
    "duration": 1747,
    "start_time": "2023-01-26T20:24:46.648Z"
   },
   {
    "duration": 86,
    "start_time": "2023-01-26T20:24:58.265Z"
   },
   {
    "duration": 4,
    "start_time": "2023-01-26T20:24:58.856Z"
   },
   {
    "duration": 24,
    "start_time": "2023-01-26T20:25:14.393Z"
   },
   {
    "duration": 66,
    "start_time": "2023-01-26T20:25:15.689Z"
   },
   {
    "duration": 5,
    "start_time": "2023-01-26T20:25:16.385Z"
   },
   {
    "duration": 23,
    "start_time": "2023-01-26T20:25:20.425Z"
   },
   {
    "duration": 74,
    "start_time": "2023-01-26T20:25:21.490Z"
   },
   {
    "duration": 4,
    "start_time": "2023-01-26T20:25:22.185Z"
   },
   {
    "duration": 25,
    "start_time": "2023-01-26T20:25:46.388Z"
   },
   {
    "duration": 102,
    "start_time": "2023-01-26T20:25:47.553Z"
   },
   {
    "duration": 4,
    "start_time": "2023-01-26T20:25:48.225Z"
   },
   {
    "duration": 26,
    "start_time": "2023-01-26T20:25:54.630Z"
   },
   {
    "duration": 103,
    "start_time": "2023-01-26T20:25:57.497Z"
   },
   {
    "duration": 4,
    "start_time": "2023-01-26T20:25:58.169Z"
   },
   {
    "duration": 4,
    "start_time": "2023-01-26T20:26:08.641Z"
   },
   {
    "duration": 755,
    "start_time": "2023-01-26T20:26:08.647Z"
   },
   {
    "duration": 149,
    "start_time": "2023-01-26T20:26:09.404Z"
   },
   {
    "duration": 3,
    "start_time": "2023-01-26T20:26:09.557Z"
   },
   {
    "duration": 22,
    "start_time": "2023-01-26T20:26:09.562Z"
   },
   {
    "duration": 71,
    "start_time": "2023-01-26T20:26:09.586Z"
   },
   {
    "duration": 3,
    "start_time": "2023-01-26T20:26:09.659Z"
   },
   {
    "duration": 156,
    "start_time": "2023-01-26T20:26:09.664Z"
   },
   {
    "duration": 413,
    "start_time": "2023-01-26T20:26:09.822Z"
   },
   {
    "duration": 3,
    "start_time": "2023-01-26T20:26:10.237Z"
   },
   {
    "duration": 24,
    "start_time": "2023-01-26T20:26:10.241Z"
   },
   {
    "duration": 100,
    "start_time": "2023-01-26T20:26:10.267Z"
   },
   {
    "duration": 65,
    "start_time": "2023-01-26T20:26:10.370Z"
   },
   {
    "duration": 145,
    "start_time": "2023-01-26T20:26:10.437Z"
   },
   {
    "duration": 83,
    "start_time": "2023-01-26T20:26:10.584Z"
   },
   {
    "duration": 67,
    "start_time": "2023-01-26T20:26:10.669Z"
   },
   {
    "duration": 15,
    "start_time": "2023-01-26T20:26:10.738Z"
   },
   {
    "duration": 75,
    "start_time": "2023-01-26T20:26:10.755Z"
   },
   {
    "duration": 3,
    "start_time": "2023-01-26T20:26:10.831Z"
   },
   {
    "duration": 84,
    "start_time": "2023-01-26T20:26:10.835Z"
   },
   {
    "duration": 72,
    "start_time": "2023-01-26T20:26:10.921Z"
   },
   {
    "duration": 6,
    "start_time": "2023-01-26T20:26:10.995Z"
   },
   {
    "duration": 78,
    "start_time": "2023-01-26T20:26:11.003Z"
   },
   {
    "duration": 50,
    "start_time": "2023-01-26T20:26:11.085Z"
   },
   {
    "duration": 1690,
    "start_time": "2023-01-26T20:26:11.136Z"
   },
   {
    "duration": 34,
    "start_time": "2023-01-26T20:26:12.828Z"
   },
   {
    "duration": 72,
    "start_time": "2023-01-26T20:26:12.864Z"
   },
   {
    "duration": 16,
    "start_time": "2023-01-26T20:26:12.938Z"
   },
   {
    "duration": 4,
    "start_time": "2023-01-26T20:26:17.434Z"
   },
   {
    "duration": 24,
    "start_time": "2023-01-26T20:26:26.730Z"
   },
   {
    "duration": 77,
    "start_time": "2023-01-26T20:26:27.715Z"
   },
   {
    "duration": 4,
    "start_time": "2023-01-26T20:26:28.345Z"
   },
   {
    "duration": 24,
    "start_time": "2023-01-26T20:26:42.825Z"
   },
   {
    "duration": 67,
    "start_time": "2023-01-26T20:26:44.033Z"
   },
   {
    "duration": 4,
    "start_time": "2023-01-26T20:26:44.722Z"
   },
   {
    "duration": 24,
    "start_time": "2023-01-26T20:26:54.154Z"
   },
   {
    "duration": 74,
    "start_time": "2023-01-26T20:26:55.281Z"
   },
   {
    "duration": 3,
    "start_time": "2023-01-26T20:26:55.841Z"
   },
   {
    "duration": 354,
    "start_time": "2023-01-26T20:29:22.169Z"
   },
   {
    "duration": 4,
    "start_time": "2023-01-26T20:30:01.323Z"
   },
   {
    "duration": 794,
    "start_time": "2023-01-26T20:30:01.329Z"
   },
   {
    "duration": 140,
    "start_time": "2023-01-26T20:30:02.125Z"
   },
   {
    "duration": 80,
    "start_time": "2023-01-26T20:30:02.267Z"
   },
   {
    "duration": 61,
    "start_time": "2023-01-26T20:30:02.348Z"
   },
   {
    "duration": 90,
    "start_time": "2023-01-26T20:30:02.410Z"
   },
   {
    "duration": 3,
    "start_time": "2023-01-26T20:30:02.501Z"
   },
   {
    "duration": 154,
    "start_time": "2023-01-26T20:30:02.506Z"
   },
   {
    "duration": 462,
    "start_time": "2023-01-26T20:30:02.662Z"
   },
   {
    "duration": 3,
    "start_time": "2023-01-26T20:30:03.126Z"
   },
   {
    "duration": 39,
    "start_time": "2023-01-26T20:30:03.131Z"
   },
   {
    "duration": 101,
    "start_time": "2023-01-26T20:30:03.172Z"
   },
   {
    "duration": 58,
    "start_time": "2023-01-26T20:30:03.275Z"
   },
   {
    "duration": 148,
    "start_time": "2023-01-26T20:30:03.335Z"
   },
   {
    "duration": 86,
    "start_time": "2023-01-26T20:30:03.485Z"
   },
   {
    "duration": 69,
    "start_time": "2023-01-26T20:30:03.573Z"
   },
   {
    "duration": 6,
    "start_time": "2023-01-26T20:30:03.654Z"
   },
   {
    "duration": 100,
    "start_time": "2023-01-26T20:30:03.662Z"
   },
   {
    "duration": 11,
    "start_time": "2023-01-26T20:30:03.764Z"
   },
   {
    "duration": 91,
    "start_time": "2023-01-26T20:30:03.777Z"
   },
   {
    "duration": 71,
    "start_time": "2023-01-26T20:30:03.870Z"
   },
   {
    "duration": 20,
    "start_time": "2023-01-26T20:30:03.954Z"
   },
   {
    "duration": 84,
    "start_time": "2023-01-26T20:30:03.976Z"
   },
   {
    "duration": 48,
    "start_time": "2023-01-26T20:30:04.062Z"
   },
   {
    "duration": 1651,
    "start_time": "2023-01-26T20:30:04.111Z"
   },
   {
    "duration": 26,
    "start_time": "2023-01-26T20:30:05.763Z"
   },
   {
    "duration": 111,
    "start_time": "2023-01-26T20:30:05.791Z"
   },
   {
    "duration": 5,
    "start_time": "2023-01-26T20:30:05.907Z"
   },
   {
    "duration": 30,
    "start_time": "2023-01-26T20:30:05.914Z"
   },
   {
    "duration": 84,
    "start_time": "2023-01-26T20:30:05.946Z"
   },
   {
    "duration": 4,
    "start_time": "2023-01-26T20:30:06.031Z"
   },
   {
    "duration": 212,
    "start_time": "2023-01-26T20:30:06.037Z"
   },
   {
    "duration": 89,
    "start_time": "2023-01-26T20:30:06.254Z"
   },
   {
    "duration": 0,
    "start_time": "2023-01-26T20:30:06.345Z"
   },
   {
    "duration": 0,
    "start_time": "2023-01-26T20:30:06.346Z"
   },
   {
    "duration": 0,
    "start_time": "2023-01-26T20:30:06.353Z"
   },
   {
    "duration": 0,
    "start_time": "2023-01-26T20:30:06.355Z"
   },
   {
    "duration": 0,
    "start_time": "2023-01-26T20:30:06.355Z"
   },
   {
    "duration": 0,
    "start_time": "2023-01-26T20:30:06.356Z"
   },
   {
    "duration": 0,
    "start_time": "2023-01-26T20:30:06.357Z"
   },
   {
    "duration": 0,
    "start_time": "2023-01-26T20:30:06.358Z"
   },
   {
    "duration": 0,
    "start_time": "2023-01-26T20:30:06.359Z"
   },
   {
    "duration": 0,
    "start_time": "2023-01-26T20:30:06.360Z"
   },
   {
    "duration": 0,
    "start_time": "2023-01-26T20:30:06.361Z"
   },
   {
    "duration": 0,
    "start_time": "2023-01-26T20:30:06.362Z"
   },
   {
    "duration": 0,
    "start_time": "2023-01-26T20:30:06.363Z"
   },
   {
    "duration": 0,
    "start_time": "2023-01-26T20:30:06.364Z"
   },
   {
    "duration": 0,
    "start_time": "2023-01-26T20:30:06.365Z"
   },
   {
    "duration": 0,
    "start_time": "2023-01-26T20:30:06.366Z"
   },
   {
    "duration": 0,
    "start_time": "2023-01-26T20:30:06.367Z"
   },
   {
    "duration": 0,
    "start_time": "2023-01-26T20:30:06.368Z"
   },
   {
    "duration": 0,
    "start_time": "2023-01-26T20:30:06.369Z"
   },
   {
    "duration": 0,
    "start_time": "2023-01-26T20:30:06.370Z"
   },
   {
    "duration": 0,
    "start_time": "2023-01-26T20:30:06.371Z"
   },
   {
    "duration": 0,
    "start_time": "2023-01-26T20:30:06.372Z"
   },
   {
    "duration": 0,
    "start_time": "2023-01-26T20:30:06.372Z"
   },
   {
    "duration": 0,
    "start_time": "2023-01-26T20:30:06.373Z"
   },
   {
    "duration": 0,
    "start_time": "2023-01-26T20:30:06.374Z"
   },
   {
    "duration": 90,
    "start_time": "2023-01-26T20:30:54.627Z"
   },
   {
    "duration": 5,
    "start_time": "2023-01-26T20:31:04.058Z"
   },
   {
    "duration": 748,
    "start_time": "2023-01-26T20:31:04.066Z"
   },
   {
    "duration": 140,
    "start_time": "2023-01-26T20:31:04.816Z"
   },
   {
    "duration": 3,
    "start_time": "2023-01-26T20:31:04.959Z"
   },
   {
    "duration": 28,
    "start_time": "2023-01-26T20:31:04.964Z"
   },
   {
    "duration": 60,
    "start_time": "2023-01-26T20:31:04.994Z"
   },
   {
    "duration": 4,
    "start_time": "2023-01-26T20:31:05.056Z"
   },
   {
    "duration": 134,
    "start_time": "2023-01-26T20:31:05.062Z"
   },
   {
    "duration": 426,
    "start_time": "2023-01-26T20:31:05.198Z"
   },
   {
    "duration": 3,
    "start_time": "2023-01-26T20:31:05.628Z"
   },
   {
    "duration": 28,
    "start_time": "2023-01-26T20:31:05.633Z"
   },
   {
    "duration": 107,
    "start_time": "2023-01-26T20:31:05.663Z"
   },
   {
    "duration": 59,
    "start_time": "2023-01-26T20:31:05.771Z"
   },
   {
    "duration": 136,
    "start_time": "2023-01-26T20:31:05.832Z"
   },
   {
    "duration": 91,
    "start_time": "2023-01-26T20:31:05.970Z"
   },
   {
    "duration": 72,
    "start_time": "2023-01-26T20:31:06.063Z"
   },
   {
    "duration": 16,
    "start_time": "2023-01-26T20:31:06.137Z"
   },
   {
    "duration": 75,
    "start_time": "2023-01-26T20:31:06.155Z"
   },
   {
    "duration": 20,
    "start_time": "2023-01-26T20:31:06.232Z"
   },
   {
    "duration": 78,
    "start_time": "2023-01-26T20:31:06.255Z"
   },
   {
    "duration": 79,
    "start_time": "2023-01-26T20:31:06.334Z"
   },
   {
    "duration": 6,
    "start_time": "2023-01-26T20:31:06.415Z"
   },
   {
    "duration": 79,
    "start_time": "2023-01-26T20:31:06.422Z"
   },
   {
    "duration": 56,
    "start_time": "2023-01-26T20:31:06.503Z"
   },
   {
    "duration": 1825,
    "start_time": "2023-01-26T20:31:06.561Z"
   },
   {
    "duration": 26,
    "start_time": "2023-01-26T20:31:08.387Z"
   },
   {
    "duration": 82,
    "start_time": "2023-01-26T20:31:08.414Z"
   },
   {
    "duration": 4,
    "start_time": "2023-01-26T20:31:08.500Z"
   },
   {
    "duration": 21,
    "start_time": "2023-01-26T20:31:08.505Z"
   },
   {
    "duration": 84,
    "start_time": "2023-01-26T20:31:08.528Z"
   },
   {
    "duration": 4,
    "start_time": "2023-01-26T20:31:08.614Z"
   },
   {
    "duration": 197,
    "start_time": "2023-01-26T20:31:08.620Z"
   },
   {
    "duration": 90,
    "start_time": "2023-01-26T20:31:13.051Z"
   },
   {
    "duration": 4,
    "start_time": "2023-01-26T20:49:20.982Z"
   },
   {
    "duration": 788,
    "start_time": "2023-01-26T20:49:20.988Z"
   },
   {
    "duration": 130,
    "start_time": "2023-01-26T20:49:21.778Z"
   },
   {
    "duration": 3,
    "start_time": "2023-01-26T20:49:21.910Z"
   },
   {
    "duration": 19,
    "start_time": "2023-01-26T20:49:21.915Z"
   },
   {
    "duration": 59,
    "start_time": "2023-01-26T20:49:21.953Z"
   },
   {
    "duration": 3,
    "start_time": "2023-01-26T20:49:22.014Z"
   },
   {
    "duration": 138,
    "start_time": "2023-01-26T20:49:22.019Z"
   },
   {
    "duration": 418,
    "start_time": "2023-01-26T20:49:22.159Z"
   },
   {
    "duration": 4,
    "start_time": "2023-01-26T20:49:22.578Z"
   },
   {
    "duration": 30,
    "start_time": "2023-01-26T20:49:22.585Z"
   },
   {
    "duration": 89,
    "start_time": "2023-01-26T20:49:22.617Z"
   },
   {
    "duration": 66,
    "start_time": "2023-01-26T20:49:22.708Z"
   },
   {
    "duration": 128,
    "start_time": "2023-01-26T20:49:22.776Z"
   },
   {
    "duration": 83,
    "start_time": "2023-01-26T20:49:22.906Z"
   },
   {
    "duration": 74,
    "start_time": "2023-01-26T20:49:22.991Z"
   },
   {
    "duration": 2,
    "start_time": "2023-01-26T20:49:23.067Z"
   },
   {
    "duration": 84,
    "start_time": "2023-01-26T20:49:23.071Z"
   },
   {
    "duration": 2,
    "start_time": "2023-01-26T20:49:23.157Z"
   },
   {
    "duration": 69,
    "start_time": "2023-01-26T20:49:23.161Z"
   },
   {
    "duration": 78,
    "start_time": "2023-01-26T20:49:23.231Z"
   },
   {
    "duration": 18,
    "start_time": "2023-01-26T20:49:23.311Z"
   },
   {
    "duration": 60,
    "start_time": "2023-01-26T20:49:23.331Z"
   },
   {
    "duration": 46,
    "start_time": "2023-01-26T20:49:23.393Z"
   },
   {
    "duration": 1651,
    "start_time": "2023-01-26T20:49:23.453Z"
   },
   {
    "duration": 27,
    "start_time": "2023-01-26T20:49:25.106Z"
   },
   {
    "duration": 81,
    "start_time": "2023-01-26T20:49:25.135Z"
   },
   {
    "duration": 5,
    "start_time": "2023-01-26T20:49:25.218Z"
   },
   {
    "duration": 4,
    "start_time": "2023-01-26T20:49:30.285Z"
   },
   {
    "duration": 16,
    "start_time": "2023-01-26T20:49:38.314Z"
   },
   {
    "duration": 65,
    "start_time": "2023-01-26T20:49:38.751Z"
   },
   {
    "duration": 4,
    "start_time": "2023-01-26T20:49:39.134Z"
   },
   {
    "duration": 174,
    "start_time": "2023-01-26T20:49:42.392Z"
   },
   {
    "duration": 375,
    "start_time": "2023-01-26T20:49:43.307Z"
   },
   {
    "duration": 366,
    "start_time": "2023-01-26T20:49:54.304Z"
   },
   {
    "duration": 851,
    "start_time": "2023-01-26T20:50:01.567Z"
   },
   {
    "duration": 34,
    "start_time": "2023-01-26T20:50:27.604Z"
   },
   {
    "duration": 4,
    "start_time": "2023-01-26T20:51:08.671Z"
   },
   {
    "duration": 2,
    "start_time": "2023-01-26T20:51:10.392Z"
   },
   {
    "duration": 3,
    "start_time": "2023-01-26T20:51:12.415Z"
   },
   {
    "duration": 1515,
    "start_time": "2023-01-26T21:09:48.647Z"
   },
   {
    "duration": 2775,
    "start_time": "2023-01-26T21:09:50.164Z"
   },
   {
    "duration": 125,
    "start_time": "2023-01-26T21:09:52.940Z"
   },
   {
    "duration": 2,
    "start_time": "2023-01-26T21:09:53.067Z"
   },
   {
    "duration": 24,
    "start_time": "2023-01-26T21:09:53.071Z"
   },
   {
    "duration": 53,
    "start_time": "2023-01-26T21:09:53.096Z"
   },
   {
    "duration": 3,
    "start_time": "2023-01-26T21:09:53.150Z"
   },
   {
    "duration": 135,
    "start_time": "2023-01-26T21:09:53.155Z"
   },
   {
    "duration": 448,
    "start_time": "2023-01-26T21:09:53.291Z"
   },
   {
    "duration": 2,
    "start_time": "2023-01-26T21:09:53.741Z"
   },
   {
    "duration": 30,
    "start_time": "2023-01-26T21:09:53.745Z"
   },
   {
    "duration": 101,
    "start_time": "2023-01-26T21:09:53.777Z"
   },
   {
    "duration": 70,
    "start_time": "2023-01-26T21:09:53.879Z"
   },
   {
    "duration": 141,
    "start_time": "2023-01-26T21:09:53.952Z"
   },
   {
    "duration": 68,
    "start_time": "2023-01-26T21:09:54.095Z"
   },
   {
    "duration": 71,
    "start_time": "2023-01-26T21:09:54.165Z"
   },
   {
    "duration": 2,
    "start_time": "2023-01-26T21:09:54.238Z"
   },
   {
    "duration": 84,
    "start_time": "2023-01-26T21:09:54.241Z"
   },
   {
    "duration": 2,
    "start_time": "2023-01-26T21:09:54.327Z"
   },
   {
    "duration": 85,
    "start_time": "2023-01-26T21:09:54.331Z"
   },
   {
    "duration": 75,
    "start_time": "2023-01-26T21:09:54.417Z"
   },
   {
    "duration": 5,
    "start_time": "2023-01-26T21:09:54.494Z"
   },
   {
    "duration": 59,
    "start_time": "2023-01-26T21:09:54.500Z"
   },
   {
    "duration": 60,
    "start_time": "2023-01-26T21:09:54.561Z"
   },
   {
    "duration": 1493,
    "start_time": "2023-01-26T21:09:54.623Z"
   },
   {
    "duration": 31,
    "start_time": "2023-01-26T21:09:56.117Z"
   },
   {
    "duration": 76,
    "start_time": "2023-01-26T21:09:56.149Z"
   },
   {
    "duration": 4,
    "start_time": "2023-01-26T21:09:56.227Z"
   },
   {
    "duration": 24,
    "start_time": "2023-01-26T21:09:56.233Z"
   },
   {
    "duration": 89,
    "start_time": "2023-01-26T21:09:56.259Z"
   },
   {
    "duration": 6,
    "start_time": "2023-01-26T21:09:56.351Z"
   },
   {
    "duration": 219,
    "start_time": "2023-01-26T21:09:56.359Z"
   },
   {
    "duration": 325,
    "start_time": "2023-01-26T21:09:56.580Z"
   },
   {
    "duration": 849,
    "start_time": "2023-01-26T21:09:56.906Z"
   },
   {
    "duration": 24,
    "start_time": "2023-01-26T21:09:57.757Z"
   },
   {
    "duration": 19,
    "start_time": "2023-01-26T21:09:57.782Z"
   },
   {
    "duration": 9,
    "start_time": "2023-01-26T21:09:57.802Z"
   },
   {
    "duration": 9,
    "start_time": "2023-01-26T21:09:57.812Z"
   },
   {
    "duration": 865861,
    "start_time": "2023-01-26T21:10:08.899Z"
   },
   {
    "duration": 7,
    "start_time": "2023-01-26T21:24:34.762Z"
   },
   {
    "duration": 15,
    "start_time": "2023-01-26T21:24:34.772Z"
   },
   {
    "duration": 20,
    "start_time": "2023-01-26T21:24:34.792Z"
   },
   {
    "duration": 17,
    "start_time": "2023-01-26T21:24:34.815Z"
   },
   {
    "duration": 16,
    "start_time": "2023-01-26T21:24:34.834Z"
   },
   {
    "duration": 12,
    "start_time": "2023-01-26T21:24:34.853Z"
   },
   {
    "duration": 7,
    "start_time": "2023-01-26T21:24:34.867Z"
   },
   {
    "duration": 17825,
    "start_time": "2023-01-26T21:24:34.876Z"
   },
   {
    "duration": 10,
    "start_time": "2023-01-26T21:24:52.709Z"
   },
   {
    "duration": 95,
    "start_time": "2023-01-26T21:24:52.723Z"
   },
   {
    "duration": 12,
    "start_time": "2023-01-26T21:24:52.820Z"
   },
   {
    "duration": 10,
    "start_time": "2023-01-26T21:24:52.834Z"
   },
   {
    "duration": 3999493,
    "start_time": "2023-01-26T21:24:52.845Z"
   },
   {
    "duration": 13,
    "start_time": "2023-01-26T22:31:32.340Z"
   },
   {
    "duration": 0,
    "start_time": "2023-01-26T22:31:32.355Z"
   },
   {
    "duration": 0,
    "start_time": "2023-01-26T22:31:32.356Z"
   },
   {
    "duration": 0,
    "start_time": "2023-01-26T22:31:32.358Z"
   },
   {
    "duration": 0,
    "start_time": "2023-01-26T22:31:32.359Z"
   },
   {
    "duration": 0,
    "start_time": "2023-01-26T22:31:32.360Z"
   },
   {
    "duration": 4,
    "start_time": "2023-01-26T22:31:35.765Z"
   },
   {
    "duration": 6,
    "start_time": "2023-01-26T22:32:06.123Z"
   },
   {
    "duration": 1035,
    "start_time": "2023-01-26T22:32:06.131Z"
   },
   {
    "duration": 187,
    "start_time": "2023-01-26T22:32:07.168Z"
   },
   {
    "duration": 6,
    "start_time": "2023-01-26T22:32:07.357Z"
   },
   {
    "duration": 36,
    "start_time": "2023-01-26T22:32:07.365Z"
   },
   {
    "duration": 76,
    "start_time": "2023-01-26T22:32:07.403Z"
   },
   {
    "duration": 3,
    "start_time": "2023-01-26T22:32:07.481Z"
   },
   {
    "duration": 193,
    "start_time": "2023-01-26T22:32:07.486Z"
   },
   {
    "duration": 481,
    "start_time": "2023-01-26T22:32:07.681Z"
   },
   {
    "duration": 3,
    "start_time": "2023-01-26T22:32:08.165Z"
   },
   {
    "duration": 29,
    "start_time": "2023-01-26T22:32:08.169Z"
   },
   {
    "duration": 118,
    "start_time": "2023-01-26T22:32:08.200Z"
   },
   {
    "duration": 77,
    "start_time": "2023-01-26T22:32:08.320Z"
   },
   {
    "duration": 220,
    "start_time": "2023-01-26T22:32:08.399Z"
   },
   {
    "duration": 76,
    "start_time": "2023-01-26T22:32:08.621Z"
   },
   {
    "duration": 95,
    "start_time": "2023-01-26T22:32:08.713Z"
   },
   {
    "duration": 10,
    "start_time": "2023-01-26T22:32:08.810Z"
   },
   {
    "duration": 85,
    "start_time": "2023-01-26T22:32:08.822Z"
   },
   {
    "duration": 3,
    "start_time": "2023-01-26T22:32:08.910Z"
   },
   {
    "duration": 82,
    "start_time": "2023-01-26T22:32:08.917Z"
   },
   {
    "duration": 77,
    "start_time": "2023-01-26T22:32:09.001Z"
   },
   {
    "duration": 9,
    "start_time": "2023-01-26T22:32:09.091Z"
   },
   {
    "duration": 79,
    "start_time": "2023-01-26T22:32:09.102Z"
   },
   {
    "duration": 58,
    "start_time": "2023-01-26T22:32:09.182Z"
   },
   {
    "duration": 1785,
    "start_time": "2023-01-26T22:32:09.242Z"
   },
   {
    "duration": 35,
    "start_time": "2023-01-26T22:32:11.032Z"
   },
   {
    "duration": 100,
    "start_time": "2023-01-26T22:32:11.069Z"
   },
   {
    "duration": 17,
    "start_time": "2023-01-26T22:32:11.175Z"
   },
   {
    "duration": 38,
    "start_time": "2023-01-26T22:32:11.194Z"
   },
   {
    "duration": 84,
    "start_time": "2023-01-26T22:32:11.234Z"
   },
   {
    "duration": 5,
    "start_time": "2023-01-26T22:32:11.319Z"
   },
   {
    "duration": 201,
    "start_time": "2023-01-26T22:32:11.328Z"
   },
   {
    "duration": 428,
    "start_time": "2023-01-26T22:32:11.531Z"
   },
   {
    "duration": 763,
    "start_time": "2023-01-26T22:32:11.961Z"
   },
   {
    "duration": 31,
    "start_time": "2023-01-26T22:32:12.726Z"
   },
   {
    "duration": 6,
    "start_time": "2023-01-26T22:32:12.759Z"
   },
   {
    "duration": 12,
    "start_time": "2023-01-26T22:32:12.767Z"
   },
   {
    "duration": 13,
    "start_time": "2023-01-26T22:32:12.780Z"
   },
   {
    "duration": 1715,
    "start_time": "2023-01-26T22:39:26.216Z"
   },
   {
    "duration": 922,
    "start_time": "2023-01-26T22:39:27.934Z"
   },
   {
    "duration": 150,
    "start_time": "2023-01-26T22:39:28.858Z"
   },
   {
    "duration": 11,
    "start_time": "2023-01-26T22:39:29.010Z"
   },
   {
    "duration": 24,
    "start_time": "2023-01-26T22:39:29.024Z"
   },
   {
    "duration": 61,
    "start_time": "2023-01-26T22:39:29.049Z"
   },
   {
    "duration": 4,
    "start_time": "2023-01-26T22:39:29.112Z"
   },
   {
    "duration": 147,
    "start_time": "2023-01-26T22:39:29.117Z"
   },
   {
    "duration": 516,
    "start_time": "2023-01-26T22:39:29.266Z"
   },
   {
    "duration": 4,
    "start_time": "2023-01-26T22:39:29.784Z"
   },
   {
    "duration": 33,
    "start_time": "2023-01-26T22:39:29.795Z"
   },
   {
    "duration": 170,
    "start_time": "2023-01-26T22:39:29.829Z"
   },
   {
    "duration": 79,
    "start_time": "2023-01-26T22:39:30.000Z"
   },
   {
    "duration": 167,
    "start_time": "2023-01-26T22:39:30.082Z"
   },
   {
    "duration": 117,
    "start_time": "2023-01-26T22:39:30.251Z"
   },
   {
    "duration": 81,
    "start_time": "2023-01-26T22:39:30.369Z"
   },
   {
    "duration": 25,
    "start_time": "2023-01-26T22:39:30.453Z"
   },
   {
    "duration": 108,
    "start_time": "2023-01-26T22:39:30.480Z"
   },
   {
    "duration": 31,
    "start_time": "2023-01-26T22:39:30.590Z"
   },
   {
    "duration": 102,
    "start_time": "2023-01-26T22:39:30.624Z"
   },
   {
    "duration": 87,
    "start_time": "2023-01-26T22:39:30.728Z"
   },
   {
    "duration": 21,
    "start_time": "2023-01-26T22:39:30.817Z"
   },
   {
    "duration": 72,
    "start_time": "2023-01-26T22:39:30.841Z"
   },
   {
    "duration": 78,
    "start_time": "2023-01-26T22:39:30.916Z"
   },
   {
    "duration": 1832,
    "start_time": "2023-01-26T22:39:30.996Z"
   },
   {
    "duration": 43,
    "start_time": "2023-01-26T22:39:32.831Z"
   },
   {
    "duration": 145,
    "start_time": "2023-01-26T22:39:32.876Z"
   },
   {
    "duration": 20,
    "start_time": "2023-01-26T22:39:33.027Z"
   },
   {
    "duration": 21,
    "start_time": "2023-01-26T22:39:33.050Z"
   },
   {
    "duration": 113,
    "start_time": "2023-01-26T22:39:33.073Z"
   },
   {
    "duration": 5,
    "start_time": "2023-01-26T22:39:33.188Z"
   },
   {
    "duration": 262,
    "start_time": "2023-01-26T22:39:33.195Z"
   },
   {
    "duration": 488,
    "start_time": "2023-01-26T22:39:33.460Z"
   },
   {
    "duration": 929,
    "start_time": "2023-01-26T22:39:33.950Z"
   },
   {
    "duration": 41,
    "start_time": "2023-01-26T22:39:34.881Z"
   },
   {
    "duration": 5,
    "start_time": "2023-01-26T22:39:34.924Z"
   },
   {
    "duration": 9,
    "start_time": "2023-01-26T22:39:34.931Z"
   },
   {
    "duration": 6,
    "start_time": "2023-01-26T22:39:34.942Z"
   },
   {
    "duration": 908780,
    "start_time": "2023-01-26T22:39:34.950Z"
   },
   {
    "duration": 2,
    "start_time": "2023-01-26T22:54:43.732Z"
   },
   {
    "duration": 5,
    "start_time": "2023-01-26T22:54:43.739Z"
   },
   {
    "duration": 5,
    "start_time": "2023-01-26T22:54:43.745Z"
   },
   {
    "duration": 6,
    "start_time": "2023-01-26T22:54:43.752Z"
   },
   {
    "duration": 5,
    "start_time": "2023-01-26T22:54:43.759Z"
   },
   {
    "duration": 28,
    "start_time": "2023-01-26T22:54:43.765Z"
   },
   {
    "duration": 7,
    "start_time": "2023-01-26T22:54:43.796Z"
   },
   {
    "duration": 15587,
    "start_time": "2023-01-26T22:54:43.805Z"
   },
   {
    "duration": 5,
    "start_time": "2023-01-26T22:54:59.395Z"
   },
   {
    "duration": 95,
    "start_time": "2023-01-26T22:54:59.403Z"
   },
   {
    "duration": 8,
    "start_time": "2023-01-26T22:54:59.500Z"
   },
   {
    "duration": 7,
    "start_time": "2023-01-26T22:54:59.510Z"
   },
   {
    "duration": 4654200,
    "start_time": "2023-01-26T22:54:59.519Z"
   },
   {
    "duration": 41,
    "start_time": "2023-01-27T00:12:33.721Z"
   },
   {
    "duration": 0,
    "start_time": "2023-01-27T00:12:33.764Z"
   },
   {
    "duration": 0,
    "start_time": "2023-01-27T00:12:33.765Z"
   },
   {
    "duration": 0,
    "start_time": "2023-01-27T00:12:33.766Z"
   },
   {
    "duration": 0,
    "start_time": "2023-01-27T00:12:33.767Z"
   },
   {
    "duration": 0,
    "start_time": "2023-01-27T00:12:33.768Z"
   },
   {
    "duration": 0,
    "start_time": "2023-01-27T00:12:33.769Z"
   },
   {
    "duration": 12,
    "start_time": "2023-01-27T00:12:36.177Z"
   },
   {
    "duration": 3,
    "start_time": "2023-01-27T00:12:48.866Z"
   },
   {
    "duration": 546502,
    "start_time": "2023-01-27T00:12:49.614Z"
   },
   {
    "duration": 11,
    "start_time": "2023-01-27T00:21:56.119Z"
   },
   {
    "duration": 1,
    "start_time": "2023-01-27T00:21:56.133Z"
   },
   {
    "duration": 0,
    "start_time": "2023-01-27T00:21:56.136Z"
   },
   {
    "duration": 0,
    "start_time": "2023-01-27T00:21:56.137Z"
   },
   {
    "duration": 0,
    "start_time": "2023-01-27T00:21:56.139Z"
   },
   {
    "duration": 0,
    "start_time": "2023-01-27T00:21:56.143Z"
   },
   {
    "duration": 0,
    "start_time": "2023-01-27T00:21:56.145Z"
   },
   {
    "duration": 4,
    "start_time": "2023-01-27T00:27:03.813Z"
   },
   {
    "duration": 717,
    "start_time": "2023-01-27T00:27:03.819Z"
   },
   {
    "duration": 134,
    "start_time": "2023-01-27T00:27:04.537Z"
   },
   {
    "duration": 3,
    "start_time": "2023-01-27T00:27:04.673Z"
   },
   {
    "duration": 28,
    "start_time": "2023-01-27T00:27:04.677Z"
   },
   {
    "duration": 25,
    "start_time": "2023-01-27T00:27:04.708Z"
   },
   {
    "duration": 3,
    "start_time": "2023-01-27T00:27:04.734Z"
   },
   {
    "duration": 156,
    "start_time": "2023-01-27T00:27:04.739Z"
   },
   {
    "duration": 427,
    "start_time": "2023-01-27T00:27:04.900Z"
   },
   {
    "duration": 3,
    "start_time": "2023-01-27T00:27:05.328Z"
   },
   {
    "duration": 23,
    "start_time": "2023-01-27T00:27:05.333Z"
   },
   {
    "duration": 116,
    "start_time": "2023-01-27T00:27:05.358Z"
   },
   {
    "duration": 67,
    "start_time": "2023-01-27T00:27:05.476Z"
   },
   {
    "duration": 128,
    "start_time": "2023-01-27T00:27:05.545Z"
   },
   {
    "duration": 88,
    "start_time": "2023-01-27T00:27:05.675Z"
   },
   {
    "duration": 85,
    "start_time": "2023-01-27T00:27:05.765Z"
   },
   {
    "duration": 5,
    "start_time": "2023-01-27T00:27:05.852Z"
   },
   {
    "duration": 102,
    "start_time": "2023-01-27T00:27:05.858Z"
   },
   {
    "duration": 3,
    "start_time": "2023-01-27T00:27:05.961Z"
   },
   {
    "duration": 83,
    "start_time": "2023-01-27T00:27:05.966Z"
   },
   {
    "duration": 82,
    "start_time": "2023-01-27T00:27:06.051Z"
   },
   {
    "duration": 5,
    "start_time": "2023-01-27T00:27:06.135Z"
   },
   {
    "duration": 88,
    "start_time": "2023-01-27T00:27:06.142Z"
   },
   {
    "duration": 67,
    "start_time": "2023-01-27T00:27:06.232Z"
   },
   {
    "duration": 1653,
    "start_time": "2023-01-27T00:27:06.300Z"
   },
   {
    "duration": 42,
    "start_time": "2023-01-27T00:27:07.955Z"
   },
   {
    "duration": 74,
    "start_time": "2023-01-27T00:27:07.998Z"
   },
   {
    "duration": 5,
    "start_time": "2023-01-27T00:27:08.074Z"
   },
   {
    "duration": 9839,
    "start_time": "2023-01-27T00:27:08.092Z"
   },
   {
    "duration": 9602,
    "start_time": "2023-01-27T00:29:17.661Z"
   },
   {
    "duration": 9586,
    "start_time": "2023-01-27T00:29:30.135Z"
   },
   {
    "duration": 70,
    "start_time": "2023-01-27T00:29:39.722Z"
   },
   {
    "duration": 6,
    "start_time": "2023-01-27T00:37:25.886Z"
   },
   {
    "duration": 810,
    "start_time": "2023-01-27T00:37:25.894Z"
   },
   {
    "duration": 135,
    "start_time": "2023-01-27T00:37:26.706Z"
   },
   {
    "duration": 3,
    "start_time": "2023-01-27T00:37:26.843Z"
   },
   {
    "duration": 15,
    "start_time": "2023-01-27T00:37:26.848Z"
   },
   {
    "duration": 79,
    "start_time": "2023-01-27T00:37:26.864Z"
   },
   {
    "duration": 3,
    "start_time": "2023-01-27T00:37:26.945Z"
   },
   {
    "duration": 148,
    "start_time": "2023-01-27T00:37:26.950Z"
   },
   {
    "duration": 401,
    "start_time": "2023-01-27T00:37:27.104Z"
   },
   {
    "duration": 3,
    "start_time": "2023-01-27T00:37:27.507Z"
   },
   {
    "duration": 18,
    "start_time": "2023-01-27T00:37:27.511Z"
   },
   {
    "duration": 104,
    "start_time": "2023-01-27T00:37:27.531Z"
   },
   {
    "duration": 77,
    "start_time": "2023-01-27T00:37:27.637Z"
   },
   {
    "duration": 143,
    "start_time": "2023-01-27T00:37:27.717Z"
   },
   {
    "duration": 93,
    "start_time": "2023-01-27T00:37:27.861Z"
   },
   {
    "duration": 78,
    "start_time": "2023-01-27T00:37:27.955Z"
   },
   {
    "duration": 2,
    "start_time": "2023-01-27T00:37:28.035Z"
   },
   {
    "duration": 110,
    "start_time": "2023-01-27T00:37:28.039Z"
   },
   {
    "duration": 2,
    "start_time": "2023-01-27T00:37:28.151Z"
   },
   {
    "duration": 85,
    "start_time": "2023-01-27T00:37:28.155Z"
   },
   {
    "duration": 87,
    "start_time": "2023-01-27T00:37:28.241Z"
   },
   {
    "duration": 13,
    "start_time": "2023-01-27T00:37:28.329Z"
   },
   {
    "duration": 70,
    "start_time": "2023-01-27T00:37:28.343Z"
   },
   {
    "duration": 44,
    "start_time": "2023-01-27T00:37:28.414Z"
   },
   {
    "duration": 1744,
    "start_time": "2023-01-27T00:37:28.460Z"
   },
   {
    "duration": 28,
    "start_time": "2023-01-27T00:37:30.206Z"
   },
   {
    "duration": 98,
    "start_time": "2023-01-27T00:37:30.236Z"
   },
   {
    "duration": 25,
    "start_time": "2023-01-27T00:37:30.336Z"
   },
   {
    "duration": 9408,
    "start_time": "2023-01-27T00:37:30.363Z"
   },
   {
    "duration": 49,
    "start_time": "2023-01-27T00:37:39.772Z"
   },
   {
    "duration": 16,
    "start_time": "2023-01-27T00:37:39.823Z"
   },
   {
    "duration": 97,
    "start_time": "2023-01-27T00:37:39.841Z"
   },
   {
    "duration": 4,
    "start_time": "2023-01-27T00:37:39.939Z"
   },
   {
    "duration": 196,
    "start_time": "2023-01-27T00:37:39.945Z"
   },
   {
    "duration": 325,
    "start_time": "2023-01-27T00:37:40.143Z"
   },
   {
    "duration": 757,
    "start_time": "2023-01-27T00:37:40.470Z"
   },
   {
    "duration": 23,
    "start_time": "2023-01-27T00:37:41.229Z"
   },
   {
    "duration": 3,
    "start_time": "2023-01-27T00:37:41.254Z"
   },
   {
    "duration": 44,
    "start_time": "2023-01-27T00:37:41.259Z"
   },
   {
    "duration": 4,
    "start_time": "2023-01-27T00:39:36.512Z"
   },
   {
    "duration": 3518637,
    "start_time": "2023-01-27T00:39:39.161Z"
   },
   {
    "duration": 3,
    "start_time": "2023-01-27T01:38:17.800Z"
   },
   {
    "duration": 7,
    "start_time": "2023-01-27T01:38:17.805Z"
   },
   {
    "duration": 4,
    "start_time": "2023-01-27T01:38:17.814Z"
   },
   {
    "duration": 9,
    "start_time": "2023-01-27T01:38:17.820Z"
   },
   {
    "duration": 64,
    "start_time": "2023-01-27T01:38:17.830Z"
   },
   {
    "duration": 4,
    "start_time": "2023-01-27T01:38:17.895Z"
   },
   {
    "duration": 5,
    "start_time": "2023-01-27T01:48:20.481Z"
   },
   {
    "duration": 11,
    "start_time": "2023-01-27T01:48:37.041Z"
   },
   {
    "duration": 10,
    "start_time": "2023-01-27T01:50:13.795Z"
   },
   {
    "duration": 10,
    "start_time": "2023-01-27T01:50:24.278Z"
   },
   {
    "duration": 10,
    "start_time": "2023-01-27T01:50:38.606Z"
   },
   {
    "duration": 14,
    "start_time": "2023-01-27T01:54:03.106Z"
   },
   {
    "duration": 18,
    "start_time": "2023-01-27T01:54:09.613Z"
   },
   {
    "duration": 12,
    "start_time": "2023-01-27T01:54:15.863Z"
   },
   {
    "duration": 19,
    "start_time": "2023-01-27T01:54:26.589Z"
   },
   {
    "duration": 7,
    "start_time": "2023-01-27T01:54:35.624Z"
   },
   {
    "duration": 14,
    "start_time": "2023-01-27T01:55:13.323Z"
   },
   {
    "duration": 11,
    "start_time": "2023-01-27T01:55:53.660Z"
   },
   {
    "duration": 43,
    "start_time": "2023-01-27T01:56:21.481Z"
   },
   {
    "duration": 18,
    "start_time": "2023-01-27T01:57:05.514Z"
   },
   {
    "duration": 16,
    "start_time": "2023-01-27T01:57:59.859Z"
   },
   {
    "duration": 76,
    "start_time": "2023-01-27T01:58:12.034Z"
   },
   {
    "duration": 4,
    "start_time": "2023-01-27T01:59:27.416Z"
   },
   {
    "duration": 10,
    "start_time": "2023-01-27T01:59:49.757Z"
   },
   {
    "duration": 39,
    "start_time": "2023-01-27T02:00:08.035Z"
   },
   {
    "duration": 1095,
    "start_time": "2023-01-27T02:11:17.664Z"
   },
   {
    "duration": 12,
    "start_time": "2023-01-27T02:12:57.758Z"
   },
   {
    "duration": 5,
    "start_time": "2023-01-27T02:13:32.313Z"
   },
   {
    "duration": 1836,
    "start_time": "2023-01-27T19:00:26.197Z"
   },
   {
    "duration": 1200,
    "start_time": "2023-01-27T19:00:28.035Z"
   },
   {
    "duration": 119,
    "start_time": "2023-01-27T19:00:29.236Z"
   },
   {
    "duration": 17,
    "start_time": "2023-01-27T19:00:29.357Z"
   },
   {
    "duration": 20,
    "start_time": "2023-01-27T19:00:29.376Z"
   },
   {
    "duration": 60,
    "start_time": "2023-01-27T19:00:29.398Z"
   },
   {
    "duration": 3,
    "start_time": "2023-01-27T19:00:29.460Z"
   },
   {
    "duration": 116,
    "start_time": "2023-01-27T19:00:29.464Z"
   },
   {
    "duration": 491,
    "start_time": "2023-01-27T19:00:29.582Z"
   },
   {
    "duration": 3,
    "start_time": "2023-01-27T19:00:30.075Z"
   },
   {
    "duration": 52,
    "start_time": "2023-01-27T19:00:30.080Z"
   },
   {
    "duration": 162,
    "start_time": "2023-01-27T19:00:30.134Z"
   },
   {
    "duration": 84,
    "start_time": "2023-01-27T19:00:30.298Z"
   },
   {
    "duration": 128,
    "start_time": "2023-01-27T19:00:30.384Z"
   },
   {
    "duration": 85,
    "start_time": "2023-01-27T19:00:30.514Z"
   },
   {
    "duration": 66,
    "start_time": "2023-01-27T19:00:30.601Z"
   },
   {
    "duration": 48,
    "start_time": "2023-01-27T19:00:30.669Z"
   },
   {
    "duration": 113,
    "start_time": "2023-01-27T19:00:30.718Z"
   },
   {
    "duration": 35,
    "start_time": "2023-01-27T19:00:30.833Z"
   },
   {
    "duration": 127,
    "start_time": "2023-01-27T19:00:30.870Z"
   },
   {
    "duration": 61,
    "start_time": "2023-01-27T19:00:30.999Z"
   },
   {
    "duration": 46,
    "start_time": "2023-01-27T19:00:31.063Z"
   },
   {
    "duration": 99,
    "start_time": "2023-01-27T19:00:31.110Z"
   },
   {
    "duration": 54,
    "start_time": "2023-01-27T19:00:31.210Z"
   },
   {
    "duration": 1461,
    "start_time": "2023-01-27T19:00:31.266Z"
   },
   {
    "duration": 44,
    "start_time": "2023-01-27T19:00:32.729Z"
   },
   {
    "duration": 60,
    "start_time": "2023-01-27T19:00:32.775Z"
   },
   {
    "duration": 21,
    "start_time": "2023-01-27T19:00:32.836Z"
   },
   {
    "duration": 9861,
    "start_time": "2023-01-27T19:00:32.859Z"
   },
   {
    "duration": 41,
    "start_time": "2023-01-27T19:00:42.722Z"
   },
   {
    "duration": 14,
    "start_time": "2023-01-27T19:00:42.765Z"
   },
   {
    "duration": 75,
    "start_time": "2023-01-27T19:00:42.781Z"
   },
   {
    "duration": 4,
    "start_time": "2023-01-27T19:00:42.857Z"
   },
   {
    "duration": 183,
    "start_time": "2023-01-27T19:00:42.863Z"
   },
   {
    "duration": 302,
    "start_time": "2023-01-27T19:00:43.048Z"
   },
   {
    "duration": 795,
    "start_time": "2023-01-27T19:00:43.355Z"
   },
   {
    "duration": 28,
    "start_time": "2023-01-27T19:00:44.153Z"
   },
   {
    "duration": 3,
    "start_time": "2023-01-27T19:00:44.182Z"
   },
   {
    "duration": 11,
    "start_time": "2023-01-27T19:00:44.187Z"
   },
   {
    "duration": 6,
    "start_time": "2023-01-27T19:00:44.199Z"
   },
   {
    "duration": 602581,
    "start_time": "2023-01-27T19:00:44.208Z"
   },
   {
    "duration": 11,
    "start_time": "2023-01-27T19:10:46.790Z"
   },
   {
    "duration": 0,
    "start_time": "2023-01-27T19:10:46.802Z"
   },
   {
    "duration": 0,
    "start_time": "2023-01-27T19:10:46.804Z"
   },
   {
    "duration": 0,
    "start_time": "2023-01-27T19:10:46.805Z"
   },
   {
    "duration": 0,
    "start_time": "2023-01-27T19:10:46.805Z"
   },
   {
    "duration": 0,
    "start_time": "2023-01-27T19:10:46.807Z"
   },
   {
    "duration": 0,
    "start_time": "2023-01-27T19:10:46.807Z"
   },
   {
    "duration": 0,
    "start_time": "2023-01-27T19:10:46.808Z"
   },
   {
    "duration": 0,
    "start_time": "2023-01-27T19:10:46.810Z"
   },
   {
    "duration": 0,
    "start_time": "2023-01-27T19:10:46.811Z"
   },
   {
    "duration": 0,
    "start_time": "2023-01-27T19:10:46.812Z"
   },
   {
    "duration": 0,
    "start_time": "2023-01-27T19:10:46.813Z"
   },
   {
    "duration": 0,
    "start_time": "2023-01-27T19:10:46.814Z"
   },
   {
    "duration": 0,
    "start_time": "2023-01-27T19:10:46.815Z"
   },
   {
    "duration": 0,
    "start_time": "2023-01-27T19:10:46.816Z"
   },
   {
    "duration": 0,
    "start_time": "2023-01-27T19:10:46.817Z"
   },
   {
    "duration": 0,
    "start_time": "2023-01-27T19:10:46.818Z"
   },
   {
    "duration": 0,
    "start_time": "2023-01-27T19:10:46.819Z"
   },
   {
    "duration": 0,
    "start_time": "2023-01-27T19:10:46.820Z"
   },
   {
    "duration": 0,
    "start_time": "2023-01-27T19:10:46.821Z"
   },
   {
    "duration": 0,
    "start_time": "2023-01-27T19:10:46.823Z"
   },
   {
    "duration": 0,
    "start_time": "2023-01-27T19:10:46.841Z"
   },
   {
    "duration": 49,
    "start_time": "2023-03-13T15:56:24.255Z"
   },
   {
    "duration": 1826,
    "start_time": "2023-03-13T15:56:28.694Z"
   }
  ],
  "kernelspec": {
   "display_name": "Python 3 (ipykernel)",
   "language": "python",
   "name": "python3"
  },
  "language_info": {
   "codemirror_mode": {
    "name": "ipython",
    "version": 3
   },
   "file_extension": ".py",
   "mimetype": "text/x-python",
   "name": "python",
   "nbconvert_exporter": "python",
   "pygments_lexer": "ipython3",
   "version": "3.9.5"
  },
  "toc": {
   "base_numbering": 1,
   "nav_menu": {},
   "number_sections": true,
   "sideBar": true,
   "skip_h1_title": true,
   "title_cell": "Table of Contents",
   "title_sidebar": "Contents",
   "toc_cell": false,
   "toc_position": {},
   "toc_section_display": true,
   "toc_window_display": false
  }
 },
 "nbformat": 4,
 "nbformat_minor": 2
}
