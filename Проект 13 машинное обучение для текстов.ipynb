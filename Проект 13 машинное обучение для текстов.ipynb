{
 "cells": [
  {
   "cell_type": "markdown",
   "metadata": {},
   "source": [
    "<div class=\"alert alert-info\">\n",
    "<font size=\"5\"><b>Комментарий ревьюера</b></font>\n",
    "\n",
    "Привет Виктор! Меня зовут Марат, и я буду твоим ревьюером. Спешу сообщить что все ключевые этапы в работе выполнены,  с задачей тебе удалось справиться. По поводу обращения - в IT сфере принято общаться на «ты» :) Но, если привычней на «вы», дай знать. Как ревьюера моя задача помочь тебе в развитии, дав хорошие советы. Я внимательно посмотрю твой код, ознакомлюсь с твоими выводами и оставлю комментарии. Где то могу предложить небольшие исправление в коде, но ненавязчиво. Где потребуются уточнения, я оставлю много наводящих вопросов. Они помогут тебя с поиском верного решения.\n",
    "\n",
    "Все мои комментарии размечены по цветам, для лучшего восприятия. \n",
    "    \n",
    "<div class=\"alert alert-success\">Зеленым цветом и словом «Успех» отмечены особо удачные и элегантные решения, которыми ты можешь гордиться. </div>\n",
    "        \n",
    "<div class=\"alert alert-warning\">Желтым и значком словом «Совет», помечены решения у которых есть альтернативные решения, более оптимальные. Ты можешь найти их сразу и доработать проект, или отложить это на потом, для будущих проектах. Проект будет принят и без их доработки. </div>\n",
    "        \n",
    "<div class=\"alert alert-danger\"> Красным цветом и значком словом «Ошибка» помечу твои решения, на которые стоит обратить внимание прежде всего. После их доработки проект будет принят. </div>\n",
    "        \n",
    "Залог успеха - работа сообща, взаимное уважение и работа в диалоге. Поэтому, помечай свои ответные комментарии на мои реплики заметным цветом или курсивом, так мне будет легче их отслеживать. Пожалуйста, не изменяй и не удаляй мои комментарии. Все это поможет выполнить повторную проверку быстрей.\n",
    "\n",
    "</div>"
   ]
  },
  {
   "cell_type": "markdown",
   "metadata": {
    "toc": true
   },
   "source": [
    "<h1>Содержание<span class=\"tocSkip\"></span></h1>\n",
    "<div class=\"toc\"><ul class=\"toc-item\"><li><span><a href=\"#Подготовка\" data-toc-modified-id=\"Подготовка-1\"><span class=\"toc-item-num\">1&nbsp;&nbsp;</span>Подготовка</a></span></li><li><span><a href=\"#Обучение\" data-toc-modified-id=\"Обучение-2\"><span class=\"toc-item-num\">2&nbsp;&nbsp;</span>Обучение</a></span><ul class=\"toc-item\"><li><span><a href=\"#Случайный-лес\" data-toc-modified-id=\"Случайный-лес-2.1\"><span class=\"toc-item-num\">2.1&nbsp;&nbsp;</span>Случайный лес</a></span></li><li><span><a href=\"#Логистическая-регрессия\" data-toc-modified-id=\"Логистическая-регрессия-2.2\"><span class=\"toc-item-num\">2.2&nbsp;&nbsp;</span>Логистическая регрессия</a></span></li><li><span><a href=\"#LightGBM\" data-toc-modified-id=\"LightGBM-2.3\"><span class=\"toc-item-num\">2.3&nbsp;&nbsp;</span>LightGBM</a></span></li></ul></li><li><span><a href=\"#Тестирование\" data-toc-modified-id=\"Тестирование-3\"><span class=\"toc-item-num\">3&nbsp;&nbsp;</span>Тестирование</a></span></li><li><span><a href=\"#Выводы\" data-toc-modified-id=\"Выводы-4\"><span class=\"toc-item-num\">4&nbsp;&nbsp;</span>Выводы</a></span></li><li><span><a href=\"#Чек-лист-проверки\" data-toc-modified-id=\"Чек-лист-проверки-5\"><span class=\"toc-item-num\">5&nbsp;&nbsp;</span>Чек-лист проверки</a></span></li></ul></div>"
   ]
  },
  {
   "cell_type": "markdown",
   "metadata": {},
   "source": [
    "# Проект для «Викишоп» c BERT"
   ]
  },
  {
   "cell_type": "markdown",
   "metadata": {},
   "source": [
    "Интернет-магазин «Викишоп» запускает новый сервис. Теперь пользователи могут редактировать и дополнять описания товаров, как в вики-сообществах. То есть клиенты предлагают свои правки и комментируют изменения других. Магазину нужен инструмент, который будет искать токсичные комментарии и отправлять их на модерацию. \n",
    "\n",
    "Обучите модель классифицировать комментарии на позитивные и негативные. В вашем распоряжении набор данных с разметкой о токсичности правок.\n",
    "\n",
    "Постройте модель со значением метрики качества *F1* не меньше 0.75. \n",
    "\n",
    "**Инструкция по выполнению проекта**\n",
    "\n",
    "1. Загрузите и подготовьте данные.\n",
    "2. Обучите разные модели. \n",
    "3. Сделайте выводы.\n",
    "\n",
    "Для выполнения проекта применять *BERT* необязательно, но вы можете попробовать.\n",
    "\n",
    "**Описание данных**\n",
    "\n",
    "Данные находятся в файле `toxic_comments.csv`. Столбец *text* в нём содержит текст комментария, а *toxic* — целевой признак."
   ]
  },
  {
   "cell_type": "markdown",
   "metadata": {},
   "source": [
    "<div class=\"alert alert-success\">\n",
    "<font size=\"5\"><b>Комментарий ревьюера</b></font>\n",
    "\n",
    "Успех:\n",
    "\n",
    "Вступление в работу очень важно, так человек, который смотрит твой проект (и на работе в том числе) будет сразу введен в курс дела. \n",
    "     \n",
    "    \n",
    " \n",
    "\n",
    "<div class=\"alert alert-warning\">\n",
    "\n",
    "\n",
    "Совет: \n",
    "   \n",
    "Вопросик, при желании можешь ответить )\n",
    "    \n",
    "    \n",
    "- а почему по твоему была выбрана метрика f1? \n",
    "    \n",
    "    \n",
    "- а что если бы нам было нужно найти как можно больше токсичных комментариев, в этом случаи на какую метрику мы бы ориентировались?\n",
    "    \n",
    "    \n",
    "- каким образом мы можем изменить функцию ошибки в модели, чтобы она максимизировала интересующую нас метрику (accuracy, f1, precision, roc-auc итп)?    \n",
    "\n",
    "\n",
    "\n",
    "</div>"
   ]
  },
  {
   "cell_type": "markdown",
   "metadata": {},
   "source": [
    "## Подготовка"
   ]
  },
  {
   "cell_type": "code",
   "execution_count": 51,
   "metadata": {
    "scrolled": true
   },
   "outputs": [],
   "source": [
    "import pandas as pd\n",
    "import numpy as np\n",
    "import seaborn as sns\n",
    "import os\n",
    "import matplotlib.pyplot as plt\n",
    "import torch\n",
    "import transformers\n",
    "import re\n",
    "from tqdm import notebook\n",
    "from joblib import Parallel, delayed\n",
    "\n",
    "from sklearn.model_selection import train_test_split, GridSearchCV, StratifiedKFold\n",
    "from sklearn.metrics import f1_score\n",
    "from sklearn.ensemble import RandomForestClassifier \n",
    "from sklearn.dummy import DummyClassifier\n",
    "from sklearn.linear_model import LogisticRegression\n",
    "from lightgbm import LGBMClassifier\n",
    "\n",
    "from imblearn.pipeline import Pipeline, make_pipeline\n",
    "from imblearn.over_sampling import SMOTE"
   ]
  },
  {
   "cell_type": "code",
   "execution_count": 52,
   "metadata": {},
   "outputs": [],
   "source": [
    "path = 'datasets/toxic_comments.csv'# убрал /\n",
    "if os.path.exists(path):\n",
    "    data = pd.read_csv(path, index_col=0)\n",
    "else:\n",
    "    print('Что-то пошло не так')"
   ]
  },
  {
   "cell_type": "markdown",
   "metadata": {},
   "source": [
    "<div class=\"alert alert-warning\">\n",
    "<font size=\"5\"><b>Комментарий ревьюера</b></font>\n",
    "\n",
    "Совет: \n",
    "\n",
    "\n",
    "Если не знаешь - чтобы не было столбца  `Unnamed: 0` при чтении файла можно так:\n",
    "\n",
    "\n",
    "    pd.read_csv(..., index_col=0)\n",
    "\n",
    "    \n",
    "(`Unnamed: 0` появляется при не совсем корректном сохранении файла)    \n",
    "\n",
    "<div>"
   ]
  },
  {
   "cell_type": "code",
   "execution_count": 53,
   "metadata": {},
   "outputs": [],
   "source": [
    "data.info()"
   ]
  },
  {
   "cell_type": "code",
   "execution_count": 54,
   "metadata": {
    "scrolled": false
   },
   "outputs": [
    {
     "data": {},
     "execution_count": 54,
     "metadata": {},
     "output_type": "execute_result"
    }
   ],
   "source": [
    "data.sample(5, random_state=12345)"
   ]
  },
  {
   "cell_type": "code",
   "execution_count": 55,
   "metadata": {},
   "outputs": [
    {
     "data": {},
     "execution_count": 55,
     "metadata": {},
     "output_type": "execute_result"
    }
   ],
   "source": [
    "data.isna().sum().sum()"
   ]
  },
  {
   "cell_type": "code",
   "execution_count": 56,
   "metadata": {},
   "outputs": [
    {
     "data": {},
     "execution_count": 56,
     "metadata": {},
     "output_type": "execute_result"
    }
   ],
   "source": [
    "data.duplicated().sum()"
   ]
  },
  {
   "cell_type": "markdown",
   "metadata": {},
   "source": [
    "<div class=\"alert alert-success\">\n",
    "<font size=\"5\"><b>Комментарий ревьюера</b></font>\n",
    "\n",
    "Успех:\n",
    "\n",
    "Данные изучены. Небольшой EDA не помешает, так как это аналитический проект. \n",
    "\n",
    "\n",
    "Плюс за\n",
    "\n",
    "    \n",
    "\n",
    "    \n",
    "-  проверку на сбалансированность (ниже)\n",
    "\n",
    "\n",
    "\n",
    "\n",
    "<div class=\"alert alert-warning\">\n",
    "\n",
    "Совет: \n",
    "\n",
    "\n",
    "    \n",
    "- .sample вместо .head, ведь если данные каким то образом упорядоченны, то шансы увидеть что то разнообразное через .sample чуть выше чем через .head (или .tail)     \n",
    "   \n",
    "\n",
    "\n",
    "\n",
    "\n",
    "\n",
    "</div>\n",
    "\n",
    "\n"
   ]
  },
  {
   "cell_type": "code",
   "execution_count": 57,
   "metadata": {},
   "outputs": [],
   "source": [
    "def clear_text(text):\n",
    "    new_text = re.sub(r'[^a-zA-Z ]', ' ', text) \n",
    "    return \" \".join(new_text.split())"
   ]
  },
  {
   "cell_type": "code",
   "execution_count": 58,
   "metadata": {},
   "outputs": [
    {
     "data": {
      "application/vnd.jupyter.widget-view+json": {
       "model_id": "d07b26c69d7c419888e98bd26d66ec0d",
       "version_major": 2,
       "version_minor": 0
      }
     },
     "metadata": {},
     "output_type": "display_data"
    }
   ],
   "source": [
    "notebook.tqdm.pandas()\n",
    "data['cleared_text'] = data['text'].progress_apply(clear_text) #очистка текстов"
   ]
  },
  {
   "cell_type": "markdown",
   "metadata": {},
   "source": [
    "<div class=\"alert alert-success\">\n",
    "<font size=\"5\"><b>Комментарий ревьюера</b></font>\n",
    "\n",
    "Успех:\n",
    "\n",
    "\n",
    "\n",
    "\n",
    "\n",
    "- Плюс за использование apply, неэффективные циклы нам ни к чему.\n",
    "\n",
    "\n",
    "\n",
    "<div class=\"alert alert-warning\">\n",
    "\n",
    "\n",
    "Совет: \n",
    "\n",
    "\n",
    "- попробуй .progress_apply, делает что .apply, но еще и показывает на какой итерации находится процесс\n",
    "\n",
    "\n",
    "\n"
   ]
  },
  {
   "cell_type": "code",
   "execution_count": 59,
   "metadata": {},
   "outputs": [
    {
     "data": {
      "image/png": "[encoded data removed]"
     },
     "metadata": {},
     "output_type": "display_data"
    }
   ],
   "source": [
    "\n",
    "fig = plt.figure(figsize=(8, 8))\n",
    "plt.title('Отношение числа элементов, имеющих значение в столбце toxic = 1 (Класс 1), \\\n",
    "к числу элементов, имеющих значение toxic = 0 (Класс 0)')\n",
    "plt.pie([len(data.loc[data['toxic'] != 0, 'toxic']), len(data.loc[data['toxic'] == 0, 'toxic'])],\n",
    "        labels=['Класс 1','Класс 0']);"
   ]
  },
  {
   "cell_type": "code",
   "execution_count": 60,
   "metadata": {},
   "outputs": [],
   "source": [
    "data_sample = data.sample(2400, random_state=12345).reset_index(drop=True)# берем sample 2400 строк"
   ]
  },
  {
   "cell_type": "markdown",
   "metadata": {},
   "source": [
    "\n",
    "<div class=\"alert alert-danger\">\n",
    "<font size=\"5\"><b>Комментарий ревьюера</b></font>\n",
    "\n",
    "    \n",
    "    \n",
    "    \n",
    "Ошибка:  \n",
    "    \n",
    "    \n",
    "Получается ты и тестовую выборку oversample, тем самым полностью исказив результаты (тут простая логика - реальные данные будут содержать дисбаланс, а test это имитация реального прогноза)\n",
    "    \n",
    "    \n",
    "\n",
    "    \n",
    "    \n",
    "<div class=\"alert alert-warning\">\n",
    "\n",
    "    \n",
    "    \n",
    "    \n",
    "Совет:\n",
    "    \n",
    "    \n",
    "- Кстати валидационная тоже должна сохранить первоначальную диспропорцию. Можно [почитать](https://datascience.xyz/practice/kak-delat-kross-validaciju-pri-apsemplinge-dannyh.html) как надо делать (pipeline!)\n",
    "    \n",
    "    \n",
    "- И так ли нам нужен oversampling!? Это скользкая дорожка, критический взгляд на [oversampling](https://habr.com/ru/post/349078/), "
   ]
  },
  {
   "cell_type": "markdown",
   "metadata": {},
   "source": [
    "<div class=\"alert alert-info\"> \n",
    "    Привет, Марат! Спасибо, исправил.</div>"
   ]
  },
  {
   "cell_type": "markdown",
   "metadata": {},
   "source": [
    "<div class=\"alert alert-success\">\n",
    "<font size=\"5\"><b>Комментарий ревьюераV2</b></font>\n",
    "\n",
    "\n",
    "\n",
    "Успех 👍:\n",
    "\n",
    "\n",
    "\n",
    "Привет Виктор!  \n",
    "\n",
    "\n",
    "\n",
    "</div>\n"
   ]
  },
  {
   "cell_type": "code",
   "execution_count": 61,
   "metadata": {},
   "outputs": [],
   "source": [
    "tokenizer = transformers.BertTokenizer.from_pretrained('unitary/toxic-bert') #  обученый токенизатор для BERT"
   ]
  },
  {
   "cell_type": "code",
   "execution_count": 62,
   "metadata": {},
   "outputs": [],
   "source": [
    "tokenized = data_sample['cleared_text'].apply( # применяем токенизатор, ограничивая число токенов и укорачивая слишком длинный текст\n",
    "    lambda x: tokenizer.encode(x, truncation=True, add_special_tokens=True, max_length=512))"
   ]
  },
  {
   "cell_type": "code",
   "execution_count": 63,
   "metadata": {},
   "outputs": [],
   "source": [
    "max_len = 0\n",
    "for i in tokenized.values:\n",
    "    if len(i) > max_len:\n",
    "        max_len = len(i)# Пусть стандартной длиной векторов будет длина наибольшего во всём датасете вектора.\n",
    "\n",
    "padded = np.array([i + [0]*(max_len - len(i)) for i in tokenized.values])\n",
    "\n",
    "attention_mask = np.where(padded != 0, 1, 0) #укажем нулевые и не нулевые значения токенов для вектора внимания"
   ]
  },
  {
   "cell_type": "code",
   "execution_count": 64,
   "metadata": {},
   "outputs": [],
   "source": [
    "model = transformers.BertModel.from_pretrained('unitary/toxic-bert')#bert-base-uncased "
   ]
  },
  {
   "cell_type": "code",
   "execution_count": 65,
   "metadata": {},
   "outputs": [],
   "source": [
    "def batch_embedding(i, batch_size, attention_mask, model):\n",
    "    batch = torch.LongTensor(padded[batch_size*i:batch_size*(i+1)]) # преобразуем данные в формат тензоров\n",
    "    attention_mask_batch = torch.LongTensor(attention_mask[batch_size*i:batch_size*(i+1)])\n",
    "        \n",
    "    with torch.no_grad():\n",
    "        batch_embeddings = model(batch, attention_mask=attention_mask_batch) #эмбеддинги для батча\n",
    "        \n",
    "    return batch_embeddings[0][:,0,:].numpy()\n",
    "    \n",
    "    "
   ]
  },
  {
   "cell_type": "code",
   "execution_count": 66,
   "metadata": {},
   "outputs": [
    {
     "data": {
      "application/vnd.jupyter.widget-view+json": {
       "model_id": "86b3f60b518f474c888c947a4cc67075",
       "version_major": 2,
       "version_minor": 0
      }
     },
     "metadata": {},
     "output_type": "display_data"
    }
   ],
   "source": [
    "\n",
    "batch_size = 32 # размер батча\n",
    "embeddings = Parallel(n_jobs=6)(delayed(batch_embedding)(i, batch_size, attention_mask, model) \n",
    "                                for i in notebook.tqdm(range(padded.shape[0] // batch_size)))#список для хранения эмбеддингов    \n",
    " \n"
   ]
  },
  {
   "cell_type": "markdown",
   "metadata": {},
   "source": [
    "<div class=\"alert alert-warning\">\n",
    "<font size=\"5\"><b>Комментарий ревьюера</b></font>\n",
    "\n",
    "Совет: \n",
    "\n",
    "\n",
    "Обычно размер батча ставят 32 или 64 (кратное 2 в степени натурального числа).   Думаю это сократит время исполнения в кода"
   ]
  },
  {
   "cell_type": "markdown",
   "metadata": {},
   "source": [
    "\n",
    "<div class=\"alert alert-success\">\n",
    "<font size=\"5\"><b>Комментарий ревьюера</b></font>\n",
    "\n",
    "Успех:\n",
    "\n",
    "Здорово что пробуешь Распараллелить процесс\n",
    "\n",
    "<div class=\"alert alert-warning\">\n",
    "\n",
    "\n",
    "\n",
    "Совет 🤔:\n",
    "\n",
    "\n",
    "    \n",
    "Для ускорения можно использовать Колабе полоджив модель и джанные на GPU\n",
    "    \n",
    "[Google Colab для эффективного обучения](https://colab.research.google.com/)\n",
    "    \n",
    "[Как включить GPU в Google Colab](https://www.tutorialspoint.com/google_colab/google_colab_using_free_gpu.htm)\n",
    "    \n",
    "[Как BERT обучать на GPU](https://huggingface.co/docs/transformers/performance)    "
   ]
  },
  {
   "cell_type": "code",
   "execution_count": 67,
   "metadata": {},
   "outputs": [],
   "source": [
    "features = np.concatenate(embeddings)\n",
    "target = data_sample['toxic']"
   ]
  },
  {
   "cell_type": "code",
   "execution_count": 69,
   "metadata": {},
   "outputs": [],
   "source": [
    "features_train_valid, features_test, target_train_valid, target_test = train_test_split(\n",
    "    features, target, test_size=0.2, random_state=12345, stratify=target)# отделяем 80% данных для обучающей и валидацианной выборки\n"
   ]
  },
  {
   "cell_type": "code",
   "execution_count": 70,
   "metadata": {},
   "outputs": [
    {
     "data": {},
     "execution_count": 70,
     "metadata": {},
     "output_type": "execute_result"
    }
   ],
   "source": [
    "features_train_valid.shape"
   ]
  },
  {
   "cell_type": "markdown",
   "metadata": {},
   "source": [
    "<div class=\"alert alert-success\">\n",
    "<font size=\"5\"><b>Комментарий ревьюера</b></font>\n",
    "\n",
    "Успех:\n",
    "\n",
    "\n",
    "- random_state на месте\n",
    "\n",
    "\n",
    "    \n",
    "- плюс за  проверку\n",
    "    \n",
    "    \n",
    "- здорово что используешь stratify    \n",
    "\n"
   ]
  },
  {
   "cell_type": "markdown",
   "metadata": {},
   "source": [
    "1. Удален столбец `Unnamed: 0`, поскольку он не нужен для обучения моделей.\n",
    "2. Получена выборка из 2400 строк таблицы.\n",
    "3. Очистили тексты и создали признаки с помощью модели BERT.\n",
    "4. Разделили данные на выборки для обучения, валидации и тестирования."
   ]
  },
  {
   "cell_type": "markdown",
   "metadata": {},
   "source": [
    "## Обучение"
   ]
  },
  {
   "cell_type": "markdown",
   "metadata": {},
   "source": [
    "### Случайный лес"
   ]
  },
  {
   "cell_type": "code",
   "execution_count": 72,
   "metadata": {},
   "outputs": [],
   "source": [
    "imba_pipeline = make_pipeline(SMOTE(random_state=12345), # для обучения на сбалансированных данных\n",
    "                              RandomForestClassifier(random_state=12345))# cоздаем конвеер\n",
    "params = {'max_depth':range(10, 20, 2), 'n_estimators':range(120, 200, 10)}\n",
    "new_params = {'randomforestclassifier__' + key: params[key] for key in params}\n",
    "\n",
    "grid_imba = GridSearchCV(imba_pipeline, param_grid=new_params, cv=\n",
    "                         StratifiedKFold(4, shuffle=True, random_state=12345), scoring='f1', n_jobs=-1)"
   ]
  },
  {
   "cell_type": "markdown",
   "metadata": {},
   "source": [
    "<div class=\"alert alert-success\">\n",
    "<font size=\"5\"><b>Комментарий ревьюераV2</b></font>\n",
    "\n",
    "\n",
    "\n",
    "Успех 👍:\n",
    "\n",
    "\n",
    "Отличная реализация, теперь без утечки информации\n",
    "\n",
    "\n",
    "\n",
    "\n",
    "</div>\n"
   ]
  },
  {
   "cell_type": "code",
   "execution_count": 73,
   "metadata": {},
   "outputs": [
    {
     "data": {},
     "execution_count": 73,
     "metadata": {},
     "output_type": "execute_result"
    }
   ],
   "source": [
    "%%time\n",
    "grid_imba.fit(features_train_valid, target_train_valid)"
   ]
  },
  {
   "cell_type": "code",
   "execution_count": 74,
   "metadata": {},
   "outputs": [
    {
     "data": {},
     "execution_count": 74,
     "metadata": {},
     "output_type": "execute_result"
    }
   ],
   "source": [
    "best_forest = grid_imba.best_estimator_.named_steps['randomforestclassifier']# лучший лес\n",
    "best_forest"
   ]
  },
  {
   "cell_type": "code",
   "execution_count": 75,
   "metadata": {},
   "outputs": [],
   "source": [
    "score_forest = grid_imba.best_score_\n",
    "print('Значение f1 для лучших параметров случайного леса на валидационных данных:', score_forest)"
   ]
  },
  {
   "cell_type": "markdown",
   "metadata": {},
   "source": [
    "<div class=\"alert alert-success\">\n",
    "<font size=\"5\"><b>Комментарий ревьюера</b></font>\n",
    "\n",
    "Успех:\n",
    "\n",
    "Корректно использован GridSearch \n",
    "\n",
    "\n",
    "- не забыт random_state\n",
    "\n",
    "\n",
    "- scoring = 'f1'\n",
    "\n",
    "\n"
   ]
  },
  {
   "cell_type": "markdown",
   "metadata": {},
   "source": [
    "### Логистическая регрессия"
   ]
  },
  {
   "cell_type": "code",
   "execution_count": 98,
   "metadata": {},
   "outputs": [],
   "source": [
    "imba_pipeline = make_pipeline(SMOTE(random_state=12345), \n",
    "                              LogisticRegression(max_iter=1000, random_state=12345))\n",
    "params = {'solver':['lbfgs', 'liblinear']}\n",
    "new_params = {'logisticregression__' + key: params[key] for key in params}\n",
    "\n",
    "grid_imba = GridSearchCV(imba_pipeline, param_grid=new_params, cv=\n",
    "                         StratifiedKFold(4, shuffle=True, random_state=12345), scoring='f1', n_jobs=-1)"
   ]
  },
  {
   "cell_type": "code",
   "execution_count": 100,
   "metadata": {},
   "outputs": [
    {
     "data": {},
     "execution_count": 100,
     "metadata": {},
     "output_type": "execute_result"
    }
   ],
   "source": [
    "%%time\n",
    "grid_imba.fit(features_train_valid, target_train_valid)\n"
   ]
  },
  {
   "cell_type": "code",
   "execution_count": 101,
   "metadata": {},
   "outputs": [
    {
     "data": {},
     "execution_count": 101,
     "metadata": {},
     "output_type": "execute_result"
    }
   ],
   "source": [
    "best_lr = grid_imba.best_estimator_.named_steps['logisticregression']# лучшая регрессия\n",
    "best_lr"
   ]
  },
  {
   "cell_type": "code",
   "execution_count": 102,
   "metadata": {},
   "outputs": [],
   "source": [
    "score_lr = grid_imba.best_score_\n",
    "print('Значение f1 для лучших параметров линейной регрессии на валидационных данных:', score_lr)"
   ]
  },
  {
   "cell_type": "markdown",
   "metadata": {},
   "source": [
    "### LightGBM"
   ]
  },
  {
   "cell_type": "code",
   "execution_count": 105,
   "metadata": {},
   "outputs": [],
   "source": [
    "imba_pipeline = make_pipeline(SMOTE(random_state=12345), \n",
    "                              LGBMClassifier(random_state=12345))\n",
    "params = {'max_depth':range(10, 20, 2), 'n_estimators':range(120, 200, 10) }\n",
    "new_params = {'lgbmclassifier__' + key: params[key] for key in params}\n",
    "\n",
    "grid_imba = GridSearchCV(imba_pipeline, param_grid=new_params, cv=\n",
    "                         StratifiedKFold(4, shuffle=True, random_state=12345), scoring='f1', n_jobs=-1)"
   ]
  },
  {
   "cell_type": "code",
   "execution_count": 106,
   "metadata": {},
   "outputs": [
    {
     "data": {},
     "execution_count": 106,
     "metadata": {},
     "output_type": "execute_result"
    }
   ],
   "source": [
    "%%time\n",
    "grid_imba.fit(features_train_valid, target_train_valid)"
   ]
  },
  {
   "cell_type": "code",
   "execution_count": 107,
   "metadata": {},
   "outputs": [
    {
     "data": {},
     "execution_count": 107,
     "metadata": {},
     "output_type": "execute_result"
    }
   ],
   "source": [
    "best_LGBM = grid_imba.best_estimator_.named_steps['lgbmclassifier']\n",
    "best_LGBM"
   ]
  },
  {
   "cell_type": "code",
   "execution_count": 108,
   "metadata": {
    "scrolled": true
   },
   "outputs": [],
   "source": [
    "score_LGBM = grid_imba.best_score_\n",
    "print('Значение f1 для лучших параметров LightGBM на валидационных данных:', score_LGBM)"
   ]
  },
  {
   "cell_type": "markdown",
   "metadata": {},
   "source": [
    "<div class=\"alert alert-warning\">\n",
    "<font size=\"5\"><b>Комментарий ревьюера</b></font>\n",
    "\n",
    "\n",
    "\n",
    "Совет 🤔:\n",
    "\n",
    "\n",
    "Только не RMSE\n",
    "</div>\n"
   ]
  },
  {
   "cell_type": "code",
   "execution_count": 116,
   "metadata": {},
   "outputs": [
    {
     "data": {},
     "execution_count": 116,
     "metadata": {},
     "output_type": "execute_result"
    }
   ],
   "source": [
    "model_compare= pd.DataFrame({'Название модели':['RandomForestClassifier', 'LogisticRegression', 'LGBMClassifier'],\n",
    "                           'Значение f1': [score_forest, score_lr, score_LGBM]})\n",
    "\n",
    "model_compare.sort_values(by=['Значение f1'], ascending=False).reset_index(drop=True).style.background_gradient(cmap='Reds')"
   ]
  },
  {
   "cell_type": "markdown",
   "metadata": {},
   "source": [
    "## Тестирование"
   ]
  },
  {
   "cell_type": "code",
   "execution_count": 117,
   "metadata": {
    "scrolled": true
   },
   "outputs": [],
   "source": [
    "test_prediction = best_LGBM.predict(features_test)\n",
    "best_model_score = f1_score(target_test, test_prediction)\n",
    "print('Значение f1 для лучшей модели на тестовых данных:', best_model_score)"
   ]
  },
  {
   "cell_type": "markdown",
   "metadata": {},
   "source": [
    "<div class=\"alert alert-success\">\n",
    "<font size=\"5\"><b>Комментарий ревьюера</b></font>\n",
    "\n",
    "Успех: \n",
    "\n",
    "- Все верно, логика моделирования не нарушена, тут тестируем только лучшую модель отобранную на валидации, или парочку лучших, если на валидации результаты близки\n",
    "\n",
    "- Если студент получил на тесте f1 выше 0,75, это считается приемлемым результатом \n",
    "\n"
   ]
  },
  {
   "cell_type": "code",
   "execution_count": 120,
   "metadata": {},
   "outputs": [],
   "source": [
    "model = DummyClassifier(strategy='stratified', random_state=12345)\n",
    "\n",
    "model.fit(features_train_valid, target_train_valid)\n",
    "\n",
    "predicted_test = model.predict(features_test)\n",
    "dummy_model_score = f1_score(target_test, predicted_test)\n",
    "print('Значение f1 для DummyRegressor на тестовых данных:', dummy_model_score)"
   ]
  },
  {
   "cell_type": "markdown",
   "metadata": {},
   "source": [
    "Лучшая модель дает значение f1 > 75 на тестовых данных, поэтому можно сделать вывод, что неплохо соблюдается баланс значений метрик Precision и Recall. Значение f1 для DummyClassifier меньше, чем для лучшей модели, это показывает адекватность модели."
   ]
  },
  {
   "cell_type": "markdown",
   "metadata": {},
   "source": [
    "## Выводы"
   ]
  },
  {
   "cell_type": "markdown",
   "metadata": {},
   "source": [
    "Сделали сбалансированную выборку из 2400 строк, создали признаки с помощью модели BERT.\n",
    "Быстрее всего обучилась модель LogisticRegression (DummyClassifier не учитываем) и дала самое маленькое значение f1 на валидационных данных. Модель RandomForest дала меньшее значение f1 для валидационных данных, чем LightGBM, обучалась и делала предсказания почти в 4 раз быстрее. LightGBM дала наибольшее значение f1 для валидационных данных, было показано, что эта модель адекватна и дает на тестовых данных f1 > 75, поэтому можно сделать вывод, что неплохо соблюдается баланс значений метрик Precision и Recall. \n",
    "\n",
    "(Recall используется для оценки доли ложно-отрицательных значений предсказания, если бы нам было нужно найти как можно больше токсичных комментариев, нужно было бы использовать эту метрику. Для максимизации Precision функция ошибок должна определять все положительные предсказания как истинно-положительное, для максимизации Recall функция ошибок должна определять все отрицательные предсказания как истинно-отрицательные. Если два условия, указанные выше, одновременно выполняются, то будет максимизация значения f1.)  "
   ]
  },
  {
   "cell_type": "markdown",
   "metadata": {},
   "source": [
    "<div class=\"alert alert-warning\">\n",
    "<font size=\"5\"><b>Комментарий ревьюера</b></font>\n",
    "\n",
    "\n",
    "\n",
    "Совет 🤔:\n",
    "\n",
    "\n",
    "только у нас задачи классификации, поэтому никаких LinearRegression и DummyRegressor\n",
    "</div>\n"
   ]
  },
  {
   "cell_type": "markdown",
   "metadata": {},
   "source": [
    "\n",
    "<div class=\"alert alert-info\">\n",
    "<font size=\"5\"><b>Комментарий ревьюера</b></font>\n",
    "\n",
    "\n",
    "Здорово что использован модель Берт, очень модная тема сейчас, позволяющая получить отличные метрики.  Логика моделирования не нарушена, GS использован корректно\n",
    "\n",
    "\n",
    "\n",
    "\n",
    "Что осталось из красного:\n",
    "\n",
    "\n",
    "    \n",
    "    \n",
    "- oversample делаем только на тренировочном датасете    \n",
    "    \n",
    "    \n",
    "Жду исправления для принятия проекта    "
   ]
  },
  {
   "cell_type": "markdown",
   "metadata": {},
   "source": [
    "\n",
    "<div class=\"alert alert-info\">\n",
    "<font size=\"5\"><b>Комментарий ревьюераV2</b></font>\n",
    "\n",
    "Спасибо за работу!    \n",
    "\n",
    "    \n",
    "Красное исправлено, желтые советы использованы (это все было по желанию), значит стремишься развиваться, а желание и интерес это главное. Надеюсь мои советы и вопросики были полезны и в копилочку знаний упало что то новое, а проект стал лучше, и симпатичней.\n",
    "\n",
    "\n",
    "\n",
    "  \n",
    "Отличная работа Виктор. Желаю успехов в дальнейшей учебе!\n"
   ]
  },
  {
   "cell_type": "markdown",
   "metadata": {},
   "source": [
    "## Чек-лист проверки"
   ]
  },
  {
   "cell_type": "markdown",
   "metadata": {},
   "source": [
    "- [x]  Jupyter Notebook открыт\n",
    "- [x]  Весь код выполняется без ошибок\n",
    "- [x]  Ячейки с кодом расположены в порядке исполнения\n",
    "- [x]  Данные загружены и подготовлены\n",
    "- [x]  Модели обучены\n",
    "- [x]  Значение метрики *F1* не меньше 0.75\n",
    "- [x]  Выводы написаны"
   ]
  }
 ],
 "metadata": {
  "ExecuteTimeLog": [
   {
    "duration": 1818,
    "start_time": "2023-01-28T17:59:52.093Z"
   },
   {
    "duration": 2279,
    "start_time": "2023-01-28T18:00:49.086Z"
   },
   {
    "duration": 32,
    "start_time": "2023-01-28T18:01:02.728Z"
   },
   {
    "duration": 11,
    "start_time": "2023-01-28T18:01:17.283Z"
   },
   {
    "duration": 5,
    "start_time": "2023-01-28T18:02:36.818Z"
   },
   {
    "duration": 7,
    "start_time": "2023-01-28T18:02:54.193Z"
   },
   {
    "duration": 6,
    "start_time": "2023-01-28T18:03:18.796Z"
   },
   {
    "duration": 106,
    "start_time": "2023-01-28T18:03:39.031Z"
   },
   {
    "duration": 13,
    "start_time": "2023-01-28T18:03:42.802Z"
   },
   {
    "duration": 12,
    "start_time": "2023-01-28T18:03:52.539Z"
   },
   {
    "duration": 13,
    "start_time": "2023-01-28T18:04:03.859Z"
   },
   {
    "duration": 20,
    "start_time": "2023-01-28T18:06:23.957Z"
   },
   {
    "duration": 18,
    "start_time": "2023-01-28T18:06:53.791Z"
   },
   {
    "duration": 16,
    "start_time": "2023-01-28T18:06:59.116Z"
   },
   {
    "duration": 17,
    "start_time": "2023-01-28T18:07:14.011Z"
   },
   {
    "duration": 12,
    "start_time": "2023-01-28T18:08:22.665Z"
   },
   {
    "duration": 16,
    "start_time": "2023-01-28T18:08:29.861Z"
   },
   {
    "duration": 17,
    "start_time": "2023-01-28T18:08:36.440Z"
   },
   {
    "duration": 5,
    "start_time": "2023-01-28T18:08:41.025Z"
   },
   {
    "duration": 690,
    "start_time": "2023-01-28T18:08:41.032Z"
   },
   {
    "duration": 24,
    "start_time": "2023-01-28T18:08:41.724Z"
   },
   {
    "duration": 6,
    "start_time": "2023-01-28T18:08:41.751Z"
   },
   {
    "duration": 14,
    "start_time": "2023-01-28T18:08:43.921Z"
   },
   {
    "duration": 13,
    "start_time": "2023-01-28T18:09:04.814Z"
   },
   {
    "duration": 16,
    "start_time": "2023-01-28T18:09:07.579Z"
   },
   {
    "duration": 12,
    "start_time": "2023-01-28T18:09:25.312Z"
   },
   {
    "duration": 4,
    "start_time": "2023-01-28T18:09:28.106Z"
   },
   {
    "duration": 726,
    "start_time": "2023-01-28T18:09:28.112Z"
   },
   {
    "duration": 25,
    "start_time": "2023-01-28T18:09:28.840Z"
   },
   {
    "duration": 15,
    "start_time": "2023-01-28T18:09:28.867Z"
   },
   {
    "duration": 12,
    "start_time": "2023-01-28T18:09:31.344Z"
   },
   {
    "duration": 330,
    "start_time": "2023-01-28T18:13:27.150Z"
   },
   {
    "duration": 205,
    "start_time": "2023-01-28T18:14:01.975Z"
   },
   {
    "duration": 3,
    "start_time": "2023-01-28T18:14:20.957Z"
   },
   {
    "duration": 6,
    "start_time": "2023-01-28T20:53:46.256Z"
   },
   {
    "duration": 25,
    "start_time": "2023-01-28T21:07:15.901Z"
   },
   {
    "duration": 25,
    "start_time": "2023-01-28T21:07:52.115Z"
   },
   {
    "duration": 2,
    "start_time": "2023-01-28T21:07:54.976Z"
   },
   {
    "duration": 300,
    "start_time": "2023-01-28T21:07:55.574Z"
   },
   {
    "duration": 313,
    "start_time": "2023-01-28T21:07:58.955Z"
   },
   {
    "duration": 0,
    "start_time": "2023-01-28T21:09:16.932Z"
   },
   {
    "duration": 5,
    "start_time": "2023-01-28T21:09:23.328Z"
   },
   {
    "duration": 712,
    "start_time": "2023-01-28T21:09:23.335Z"
   },
   {
    "duration": 34,
    "start_time": "2023-01-28T21:09:24.048Z"
   },
   {
    "duration": 7,
    "start_time": "2023-01-28T21:09:24.083Z"
   },
   {
    "duration": 13,
    "start_time": "2023-01-28T21:09:24.092Z"
   },
   {
    "duration": 2,
    "start_time": "2023-01-28T21:09:24.107Z"
   },
   {
    "duration": 2,
    "start_time": "2023-01-28T21:09:33.416Z"
   },
   {
    "duration": 1051280,
    "start_time": "2023-01-28T21:10:12.942Z"
   }
  ],
  "kernelspec": {
   "display_name": "Python 3 (ipykernel)",
   "language": "python",
   "name": "python3"
  },
  "language_info": {
   "codemirror_mode": {
    "name": "ipython",
    "version": 3
   },
   "file_extension": ".py",
   "mimetype": "text/x-python",
   "name": "python",
   "nbconvert_exporter": "python",
   "pygments_lexer": "ipython3",
   "version": "3.9.5"
  },
  "toc": {
   "base_numbering": 1,
   "nav_menu": {},
   "number_sections": true,
   "sideBar": true,
   "skip_h1_title": true,
   "title_cell": "Содержание",
   "title_sidebar": "Contents",
   "toc_cell": true,
   "toc_position": {
    "height": "calc(100% - 180px)",
    "left": "10px",
    "top": "150px",
    "width": "302.391px"
   },
   "toc_section_display": true,
   "toc_window_display": false
  }
 },
 "nbformat": 4,
 "nbformat_minor": 2
}
