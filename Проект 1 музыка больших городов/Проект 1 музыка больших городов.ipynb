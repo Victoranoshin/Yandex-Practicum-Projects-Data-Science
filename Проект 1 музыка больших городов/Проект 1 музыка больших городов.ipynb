{
 "cells": [
  {
   "cell_type": "markdown",
   "metadata": {
    "deletable": false,
    "editable": false,
    "id": "E0vqbgi9ay0H"
   },
   "source": [
    "# Яндекс Музыка"
   ]
  },
  {
   "cell_type": "markdown",
   "metadata": {
    "id": "Ml1hmfXC_Zcs"
   },
   "source": [
    "## Обзор данных\n",
    "\n",
    "\n",
    "\n"
   ]
  },
  {
   "cell_type": "code",
   "execution_count": 141,
   "metadata": {
    "deletable": false,
    "id": "AXN7PHPN_Zcs"
   },
   "outputs": [],
   "source": [
    "import pandas as pd# импорт библиотеки pandas"
   ]
  },
  {
   "cell_type": "code",
   "execution_count": 142,
   "metadata": {
    "deletable": false,
    "id": "fFVu7vqh_Zct"
   },
   "outputs": [],
   "source": [
    "df = pd.read_csv(\"/datasets/yandex_music_project.csv\")# чтение файла с данными и сохранение в df"
   ]
  },
  {
   "cell_type": "code",
   "execution_count": 143,
   "metadata": {
    "deletable": false,
    "id": "oWTVX3gW_Zct"
   },
   "outputs": [
    {
     "data": {
      "text/html": [
       "<div>\n",
       "<style scoped>\n",
       "    .dataframe tbody tr th:only-of-type {\n",
       "        vertical-align: middle;\n",
       "    }\n",
       "\n",
       "    .dataframe tbody tr th {\n",
       "        vertical-align: top;\n",
       "    }\n",
       "\n",
       "    .dataframe thead th {\n",
       "        text-align: right;\n",
       "    }\n",
       "</style>\n",
       "<table border=\"1\" class=\"dataframe\">\n",
       "  <thead>\n",
       "    <tr style=\"text-align: right;\">\n",
       "      <th></th>\n",
       "      <th>userID</th>\n",
       "      <th>Track</th>\n",
       "      <th>artist</th>\n",
       "      <th>genre</th>\n",
       "      <th>City</th>\n",
       "      <th>time</th>\n",
       "      <th>Day</th>\n",
       "    </tr>\n",
       "  </thead>\n",
       "  <tbody>\n",
       "    <tr>\n",
       "      <th>0</th>\n",
       "      <td>FFB692EC</td>\n",
       "      <td>Kamigata To Boots</td>\n",
       "      <td>The Mass Missile</td>\n",
       "      <td>rock</td>\n",
       "      <td>Saint-Petersburg</td>\n",
       "      <td>20:28:33</td>\n",
       "      <td>Wednesday</td>\n",
       "    </tr>\n",
       "    <tr>\n",
       "      <th>1</th>\n",
       "      <td>55204538</td>\n",
       "      <td>Delayed Because of Accident</td>\n",
       "      <td>Andreas Rönnberg</td>\n",
       "      <td>rock</td>\n",
       "      <td>Moscow</td>\n",
       "      <td>14:07:09</td>\n",
       "      <td>Friday</td>\n",
       "    </tr>\n",
       "    <tr>\n",
       "      <th>2</th>\n",
       "      <td>20EC38</td>\n",
       "      <td>Funiculì funiculà</td>\n",
       "      <td>Mario Lanza</td>\n",
       "      <td>pop</td>\n",
       "      <td>Saint-Petersburg</td>\n",
       "      <td>20:58:07</td>\n",
       "      <td>Wednesday</td>\n",
       "    </tr>\n",
       "    <tr>\n",
       "      <th>3</th>\n",
       "      <td>A3DD03C9</td>\n",
       "      <td>Dragons in the Sunset</td>\n",
       "      <td>Fire + Ice</td>\n",
       "      <td>folk</td>\n",
       "      <td>Saint-Petersburg</td>\n",
       "      <td>08:37:09</td>\n",
       "      <td>Monday</td>\n",
       "    </tr>\n",
       "    <tr>\n",
       "      <th>4</th>\n",
       "      <td>E2DC1FAE</td>\n",
       "      <td>Soul People</td>\n",
       "      <td>Space Echo</td>\n",
       "      <td>dance</td>\n",
       "      <td>Moscow</td>\n",
       "      <td>08:34:34</td>\n",
       "      <td>Monday</td>\n",
       "    </tr>\n",
       "    <tr>\n",
       "      <th>5</th>\n",
       "      <td>842029A1</td>\n",
       "      <td>Преданная</td>\n",
       "      <td>IMPERVTOR</td>\n",
       "      <td>rusrap</td>\n",
       "      <td>Saint-Petersburg</td>\n",
       "      <td>13:09:41</td>\n",
       "      <td>Friday</td>\n",
       "    </tr>\n",
       "    <tr>\n",
       "      <th>6</th>\n",
       "      <td>4CB90AA5</td>\n",
       "      <td>True</td>\n",
       "      <td>Roman Messer</td>\n",
       "      <td>dance</td>\n",
       "      <td>Moscow</td>\n",
       "      <td>13:00:07</td>\n",
       "      <td>Wednesday</td>\n",
       "    </tr>\n",
       "    <tr>\n",
       "      <th>7</th>\n",
       "      <td>F03E1C1F</td>\n",
       "      <td>Feeling This Way</td>\n",
       "      <td>Polina Griffith</td>\n",
       "      <td>dance</td>\n",
       "      <td>Moscow</td>\n",
       "      <td>20:47:49</td>\n",
       "      <td>Wednesday</td>\n",
       "    </tr>\n",
       "    <tr>\n",
       "      <th>8</th>\n",
       "      <td>8FA1D3BE</td>\n",
       "      <td>И вновь продолжается бой</td>\n",
       "      <td>NaN</td>\n",
       "      <td>ruspop</td>\n",
       "      <td>Moscow</td>\n",
       "      <td>09:17:40</td>\n",
       "      <td>Friday</td>\n",
       "    </tr>\n",
       "    <tr>\n",
       "      <th>9</th>\n",
       "      <td>E772D5C0</td>\n",
       "      <td>Pessimist</td>\n",
       "      <td>NaN</td>\n",
       "      <td>dance</td>\n",
       "      <td>Saint-Petersburg</td>\n",
       "      <td>21:20:49</td>\n",
       "      <td>Wednesday</td>\n",
       "    </tr>\n",
       "  </tbody>\n",
       "</table>\n",
       "</div>"
      ],
      "text/plain": [
       "     userID                        Track            artist   genre  \\\n",
       "0  FFB692EC            Kamigata To Boots  The Mass Missile    rock   \n",
       "1  55204538  Delayed Because of Accident  Andreas Rönnberg    rock   \n",
       "2    20EC38            Funiculì funiculà       Mario Lanza     pop   \n",
       "3  A3DD03C9        Dragons in the Sunset        Fire + Ice    folk   \n",
       "4  E2DC1FAE                  Soul People        Space Echo   dance   \n",
       "5  842029A1                    Преданная         IMPERVTOR  rusrap   \n",
       "6  4CB90AA5                         True      Roman Messer   dance   \n",
       "7  F03E1C1F             Feeling This Way   Polina Griffith   dance   \n",
       "8  8FA1D3BE     И вновь продолжается бой               NaN  ruspop   \n",
       "9  E772D5C0                    Pessimist               NaN   dance   \n",
       "\n",
       "             City        time        Day  \n",
       "0  Saint-Petersburg  20:28:33  Wednesday  \n",
       "1            Moscow  14:07:09     Friday  \n",
       "2  Saint-Petersburg  20:58:07  Wednesday  \n",
       "3  Saint-Petersburg  08:37:09     Monday  \n",
       "4            Moscow  08:34:34     Monday  \n",
       "5  Saint-Petersburg  13:09:41     Friday  \n",
       "6            Moscow  13:00:07  Wednesday  \n",
       "7            Moscow  20:47:49  Wednesday  \n",
       "8            Moscow  09:17:40     Friday  \n",
       "9  Saint-Petersburg  21:20:49  Wednesday  "
      ]
     },
     "execution_count": 143,
     "metadata": {},
     "output_type": "execute_result"
    }
   ],
   "source": [
    "df.head(10)# получение первых 10 строк таблицы df"
   ]
  },
  {
   "cell_type": "code",
   "execution_count": 144,
   "metadata": {
    "deletable": false,
    "id": "DSf2kIb-_Zct"
   },
   "outputs": [
    {
     "name": "stdout",
     "output_type": "stream",
     "text": [
      "<class 'pandas.core.frame.DataFrame'>\n",
      "RangeIndex: 65079 entries, 0 to 65078\n",
      "Data columns (total 7 columns):\n",
      " #   Column    Non-Null Count  Dtype \n",
      "---  ------    --------------  ----- \n",
      " 0     userID  65079 non-null  object\n",
      " 1   Track     63848 non-null  object\n",
      " 2   artist    57876 non-null  object\n",
      " 3   genre     63881 non-null  object\n",
      " 4     City    65079 non-null  object\n",
      " 5   time      65079 non-null  object\n",
      " 6   Day       65079 non-null  object\n",
      "dtypes: object(7)\n",
      "memory usage: 3.5+ MB\n"
     ]
    }
   ],
   "source": [
    "df.info()# получение общей информации о данных в таблице df"
   ]
  },
  {
   "cell_type": "markdown",
   "metadata": {
    "id": "TaQ2Iwbr_Zct"
   },
   "source": [
    "Количество значений в столбцах различается. Значит, в данных есть пропущенные значения."
   ]
  },
  {
   "cell_type": "markdown",
   "metadata": {
    "id": "rAfziTBDmf2h",
    "tags": [
     "start_task"
    ]
   },
   "source": [
    "В названиях колонок видны нарушения стиля:\n",
    "* Строчные буквы сочетаются с прописными.\n",
    "* Встречаются пробелы."
   ]
  },
  {
   "cell_type": "markdown",
   "metadata": {
    "id": "MCB6-dXG_Zct"
   },
   "source": [
    "**Выводы**\n",
    "\n",
    "В каждой строке таблицы — данные о прослушанном треке.\n",
    "Встречаются пропуски в данных, а в названиях колонок — расхождения с хорошим стилем.\n",
    "Чтобы двигаться дальше, нужно устранить проблемы в данных."
   ]
  },
  {
   "cell_type": "markdown",
   "metadata": {
    "id": "SjYF6Ub9_Zct"
   },
   "source": [
    "## Предобработка данных"
   ]
  },
  {
   "cell_type": "markdown",
   "metadata": {
    "id": "dIaKXr29_Zct",
    "tags": [
     "start_task"
    ]
   },
   "source": [
    "### Стиль заголовков"
   ]
  },
  {
   "cell_type": "code",
   "execution_count": 146,
   "metadata": {
    "deletable": false,
    "id": "oKOTdF_Q_Zct"
   },
   "outputs": [
    {
     "data": {
      "text/plain": [
       "Index(['  userID', 'Track', 'artist', 'genre', '  City  ', 'time', 'Day'], dtype='object')"
      ]
     },
     "execution_count": 146,
     "metadata": {},
     "output_type": "execute_result"
    }
   ],
   "source": [
    "df.columns# перечень названий столбцов таблицы df"
   ]
  },
  {
   "cell_type": "code",
   "execution_count": 147,
   "metadata": {
    "deletable": false,
    "id": "ISlFqs5y_Zct"
   },
   "outputs": [],
   "source": [
    "df = df.rename(columns = {'  userID': 'user_id', 'Track':'track', '  City  ':'city', 'Day':'day'}) # переименование столбцов"
   ]
  },
  {
   "cell_type": "code",
   "execution_count": 148,
   "metadata": {
    "deletable": false,
    "id": "d4NOAmTW_Zct"
   },
   "outputs": [
    {
     "data": {
      "text/plain": [
       "Index(['user_id', 'track', 'artist', 'genre', 'city', 'time', 'day'], dtype='object')"
      ]
     },
     "execution_count": 148,
     "metadata": {},
     "output_type": "execute_result"
    }
   ],
   "source": [
    "df.columns# проверка результатов - перечень названий столбцов"
   ]
  },
  {
   "cell_type": "markdown",
   "metadata": {
    "id": "5ISfbcfY_Zct",
    "tags": [
     "start_task"
    ]
   },
   "source": [
    "### Пропуски значений\n"
   ]
  },
  {
   "cell_type": "code",
   "execution_count": 149,
   "metadata": {
    "deletable": false,
    "id": "RskX29qr_Zct"
   },
   "outputs": [
    {
     "data": {
      "text/plain": [
       "user_id       0\n",
       "track      1231\n",
       "artist     7203\n",
       "genre      1198\n",
       "city          0\n",
       "time          0\n",
       "day           0\n",
       "dtype: int64"
      ]
     },
     "execution_count": 149,
     "metadata": {},
     "output_type": "execute_result"
    }
   ],
   "source": [
    "df.isna().sum() # подсчёт пропусков"
   ]
  },
  {
   "cell_type": "code",
   "execution_count": 150,
   "metadata": {
    "deletable": false,
    "id": "KplB5qWs_Zct"
   },
   "outputs": [],
   "source": [
    "columns_to_replace = ['track', 'artist', 'genre']\n",
    "for column in columns_to_replace:# перебор названий столбцов в цикле и замена пропущенных значений на 'unknown'artist\n",
    "    df[column] = df[column].fillna('unknown')"
   ]
  },
  {
   "cell_type": "code",
   "execution_count": 151,
   "metadata": {
    "deletable": false,
    "id": "Tq4nYRX4_Zct"
   },
   "outputs": [
    {
     "data": {
      "text/plain": [
       "user_id    0\n",
       "track      0\n",
       "artist     0\n",
       "genre      0\n",
       "city       0\n",
       "time       0\n",
       "day        0\n",
       "dtype: int64"
      ]
     },
     "execution_count": 151,
     "metadata": {},
     "output_type": "execute_result"
    }
   ],
   "source": [
    "df.isna().sum() # подсчёт пропусков"
   ]
  },
  {
   "cell_type": "markdown",
   "metadata": {
    "id": "BWKRtBJ3_Zct",
    "tags": [
     "start_task"
    ]
   },
   "source": [
    "### Дубликаты\n"
   ]
  },
  {
   "cell_type": "code",
   "execution_count": 152,
   "metadata": {
    "deletable": false,
    "id": "36eES_S0_Zct"
   },
   "outputs": [
    {
     "data": {
      "text/plain": [
       "3826"
      ]
     },
     "execution_count": 152,
     "metadata": {},
     "output_type": "execute_result"
    }
   ],
   "source": [
    "df.duplicated().sum() # подсчёт явных дубликатов"
   ]
  },
  {
   "cell_type": "code",
   "execution_count": 153,
   "metadata": {
    "deletable": false,
    "id": "exFHq6tt_Zct"
   },
   "outputs": [],
   "source": [
    "df = df.drop_duplicates() # удаление явных дубликатов"
   ]
  },
  {
   "cell_type": "code",
   "execution_count": 154,
   "metadata": {
    "deletable": false,
    "id": "-8PuNWQ0_Zct"
   },
   "outputs": [
    {
     "data": {
      "text/plain": [
       "0"
      ]
     },
     "execution_count": 154,
     "metadata": {},
     "output_type": "execute_result"
    }
   ],
   "source": [
    "df.duplicated().sum() # проверка на отсутствие дубликатов"
   ]
  },
  {
   "cell_type": "code",
   "execution_count": 155,
   "metadata": {
    "deletable": false,
    "id": "JIUcqzZN_Zct"
   },
   "outputs": [
    {
     "data": {
      "text/plain": [
       "array(['acid', 'acoustic', 'action', 'adult', 'africa', 'afrikaans',\n",
       "       'alternative', 'alternativepunk', 'ambient', 'americana',\n",
       "       'animated', 'anime', 'arabesk', 'arabic', 'arena',\n",
       "       'argentinetango', 'art', 'audiobook', 'author', 'avantgarde',\n",
       "       'axé', 'baile', 'balkan', 'beats', 'bigroom', 'black', 'bluegrass',\n",
       "       'blues', 'bollywood', 'bossa', 'brazilian', 'breakbeat', 'breaks',\n",
       "       'broadway', 'cantautori', 'cantopop', 'canzone', 'caribbean',\n",
       "       'caucasian', 'celtic', 'chamber', 'chanson', 'children', 'chill',\n",
       "       'chinese', 'choral', 'christian', 'christmas', 'classical',\n",
       "       'classicmetal', 'club', 'colombian', 'comedy', 'conjazz',\n",
       "       'contemporary', 'country', 'cuban', 'dance', 'dancehall',\n",
       "       'dancepop', 'dark', 'death', 'deep', 'deutschrock', 'deutschspr',\n",
       "       'dirty', 'disco', 'dnb', 'documentary', 'downbeat', 'downtempo',\n",
       "       'drum', 'dub', 'dubstep', 'eastern', 'easy', 'electronic',\n",
       "       'electropop', 'emo', 'entehno', 'epicmetal', 'estrada', 'ethnic',\n",
       "       'eurofolk', 'european', 'experimental', 'extrememetal', 'fado',\n",
       "       'fairytail', 'film', 'fitness', 'flamenco', 'folk', 'folklore',\n",
       "       'folkmetal', 'folkrock', 'folktronica', 'forró', 'frankreich',\n",
       "       'französisch', 'french', 'funk', 'future', 'gangsta', 'garage',\n",
       "       'german', 'ghazal', 'gitarre', 'glitch', 'gospel', 'gothic',\n",
       "       'grime', 'grunge', 'gypsy', 'handsup', \"hard'n'heavy\", 'hardcore',\n",
       "       'hardstyle', 'hardtechno', 'hip', 'hip-hop', 'hiphop',\n",
       "       'historisch', 'holiday', 'hop', 'horror', 'house', 'hymn', 'idm',\n",
       "       'independent', 'indian', 'indie', 'indipop', 'industrial',\n",
       "       'inspirational', 'instrumental', 'international', 'irish', 'jam',\n",
       "       'japanese', 'jazz', 'jewish', 'jpop', 'jungle', 'k-pop',\n",
       "       'karadeniz', 'karaoke', 'kayokyoku', 'korean', 'laiko', 'latin',\n",
       "       'latino', 'leftfield', 'local', 'lounge', 'loungeelectronic',\n",
       "       'lovers', 'malaysian', 'mandopop', 'marschmusik', 'meditative',\n",
       "       'mediterranean', 'melodic', 'metal', 'metalcore', 'mexican',\n",
       "       'middle', 'minimal', 'miscellaneous', 'modern', 'mood', 'mpb',\n",
       "       'muslim', 'native', 'neoklassik', 'neue', 'new', 'newage',\n",
       "       'newwave', 'nu', 'nujazz', 'numetal', 'oceania', 'old', 'opera',\n",
       "       'orchestral', 'other', 'piano', 'podcasts', 'pop', 'popdance',\n",
       "       'popelectronic', 'popeurodance', 'poprussian', 'post',\n",
       "       'posthardcore', 'postrock', 'power', 'progmetal', 'progressive',\n",
       "       'psychedelic', 'punjabi', 'punk', 'quebecois', 'ragga', 'ram',\n",
       "       'rancheras', 'rap', 'rave', 'reggae', 'reggaeton', 'regional',\n",
       "       'relax', 'religious', 'retro', 'rhythm', 'rnb', 'rnr', 'rock',\n",
       "       'rockabilly', 'rockalternative', 'rockindie', 'rockother',\n",
       "       'romance', 'roots', 'ruspop', 'rusrap', 'rusrock', 'russian',\n",
       "       'salsa', 'samba', 'scenic', 'schlager', 'self', 'sertanejo',\n",
       "       'shanson', 'shoegazing', 'showtunes', 'singer', 'ska', 'skarock',\n",
       "       'slow', 'smooth', 'soft', 'soul', 'soulful', 'sound', 'soundtrack',\n",
       "       'southern', 'specialty', 'speech', 'spiritual', 'sport',\n",
       "       'stonerrock', 'surf', 'swing', 'synthpop', 'synthrock',\n",
       "       'sängerportrait', 'tango', 'tanzorchester', 'taraftar', 'tatar',\n",
       "       'tech', 'techno', 'teen', 'thrash', 'top', 'traditional',\n",
       "       'tradjazz', 'trance', 'tribal', 'trip', 'triphop', 'tropical',\n",
       "       'türk', 'türkçe', 'ukrrock', 'unknown', 'urban', 'uzbek',\n",
       "       'variété', 'vi', 'videogame', 'vocal', 'western', 'world',\n",
       "       'worldbeat', 'ïîï', 'электроника'], dtype=object)"
      ]
     },
     "execution_count": 155,
     "metadata": {},
     "output_type": "execute_result"
    }
   ],
   "source": [
    "df['genre'].sort_values().unique() # Просмотр уникальных названий жанров"
   ]
  },
  {
   "cell_type": "code",
   "execution_count": 156,
   "metadata": {
    "deletable": false,
    "id": "ErNDkmns_Zct"
   },
   "outputs": [],
   "source": [
    "# Устранение неявных дубликатов\n",
    "duplicates = ['hip', 'hop', 'hip-hop']\n",
    "df = df.replace(duplicates, 'hiphop')"
   ]
  },
  {
   "cell_type": "code",
   "execution_count": 157,
   "metadata": {
    "deletable": false,
    "id": "wvixALnFG15m"
   },
   "outputs": [
    {
     "data": {
      "text/plain": [
       "array(['acid', 'acoustic', 'action', 'adult', 'africa', 'afrikaans',\n",
       "       'alternative', 'alternativepunk', 'ambient', 'americana',\n",
       "       'animated', 'anime', 'arabesk', 'arabic', 'arena',\n",
       "       'argentinetango', 'art', 'audiobook', 'author', 'avantgarde',\n",
       "       'axé', 'baile', 'balkan', 'beats', 'bigroom', 'black', 'bluegrass',\n",
       "       'blues', 'bollywood', 'bossa', 'brazilian', 'breakbeat', 'breaks',\n",
       "       'broadway', 'cantautori', 'cantopop', 'canzone', 'caribbean',\n",
       "       'caucasian', 'celtic', 'chamber', 'chanson', 'children', 'chill',\n",
       "       'chinese', 'choral', 'christian', 'christmas', 'classical',\n",
       "       'classicmetal', 'club', 'colombian', 'comedy', 'conjazz',\n",
       "       'contemporary', 'country', 'cuban', 'dance', 'dancehall',\n",
       "       'dancepop', 'dark', 'death', 'deep', 'deutschrock', 'deutschspr',\n",
       "       'dirty', 'disco', 'dnb', 'documentary', 'downbeat', 'downtempo',\n",
       "       'drum', 'dub', 'dubstep', 'eastern', 'easy', 'electronic',\n",
       "       'electropop', 'emo', 'entehno', 'epicmetal', 'estrada', 'ethnic',\n",
       "       'eurofolk', 'european', 'experimental', 'extrememetal', 'fado',\n",
       "       'fairytail', 'film', 'fitness', 'flamenco', 'folk', 'folklore',\n",
       "       'folkmetal', 'folkrock', 'folktronica', 'forró', 'frankreich',\n",
       "       'französisch', 'french', 'funk', 'future', 'gangsta', 'garage',\n",
       "       'german', 'ghazal', 'gitarre', 'glitch', 'gospel', 'gothic',\n",
       "       'grime', 'grunge', 'gypsy', 'handsup', \"hard'n'heavy\", 'hardcore',\n",
       "       'hardstyle', 'hardtechno', 'hiphop', 'historisch', 'holiday',\n",
       "       'horror', 'house', 'hymn', 'idm', 'independent', 'indian', 'indie',\n",
       "       'indipop', 'industrial', 'inspirational', 'instrumental',\n",
       "       'international', 'irish', 'jam', 'japanese', 'jazz', 'jewish',\n",
       "       'jpop', 'jungle', 'k-pop', 'karadeniz', 'karaoke', 'kayokyoku',\n",
       "       'korean', 'laiko', 'latin', 'latino', 'leftfield', 'local',\n",
       "       'lounge', 'loungeelectronic', 'lovers', 'malaysian', 'mandopop',\n",
       "       'marschmusik', 'meditative', 'mediterranean', 'melodic', 'metal',\n",
       "       'metalcore', 'mexican', 'middle', 'minimal', 'miscellaneous',\n",
       "       'modern', 'mood', 'mpb', 'muslim', 'native', 'neoklassik', 'neue',\n",
       "       'new', 'newage', 'newwave', 'nu', 'nujazz', 'numetal', 'oceania',\n",
       "       'old', 'opera', 'orchestral', 'other', 'piano', 'podcasts', 'pop',\n",
       "       'popdance', 'popelectronic', 'popeurodance', 'poprussian', 'post',\n",
       "       'posthardcore', 'postrock', 'power', 'progmetal', 'progressive',\n",
       "       'psychedelic', 'punjabi', 'punk', 'quebecois', 'ragga', 'ram',\n",
       "       'rancheras', 'rap', 'rave', 'reggae', 'reggaeton', 'regional',\n",
       "       'relax', 'religious', 'retro', 'rhythm', 'rnb', 'rnr', 'rock',\n",
       "       'rockabilly', 'rockalternative', 'rockindie', 'rockother',\n",
       "       'romance', 'roots', 'ruspop', 'rusrap', 'rusrock', 'russian',\n",
       "       'salsa', 'samba', 'scenic', 'schlager', 'self', 'sertanejo',\n",
       "       'shanson', 'shoegazing', 'showtunes', 'singer', 'ska', 'skarock',\n",
       "       'slow', 'smooth', 'soft', 'soul', 'soulful', 'sound', 'soundtrack',\n",
       "       'southern', 'specialty', 'speech', 'spiritual', 'sport',\n",
       "       'stonerrock', 'surf', 'swing', 'synthpop', 'synthrock',\n",
       "       'sängerportrait', 'tango', 'tanzorchester', 'taraftar', 'tatar',\n",
       "       'tech', 'techno', 'teen', 'thrash', 'top', 'traditional',\n",
       "       'tradjazz', 'trance', 'tribal', 'trip', 'triphop', 'tropical',\n",
       "       'türk', 'türkçe', 'ukrrock', 'unknown', 'urban', 'uzbek',\n",
       "       'variété', 'vi', 'videogame', 'vocal', 'western', 'world',\n",
       "       'worldbeat', 'ïîï', 'электроника'], dtype=object)"
      ]
     },
     "execution_count": 157,
     "metadata": {},
     "output_type": "execute_result"
    }
   ],
   "source": [
    "df['genre'].sort_values().unique() # Проверка на неявные дубликаты"
   ]
  },
  {
   "cell_type": "markdown",
   "metadata": {
    "id": "jz6a9-7HQUDd"
   },
   "source": [
    "**Выводы**\n",
    "\n",
    "Предобработка обнаружила три проблемы в данных:\n",
    "\n",
    "- нарушения в стиле заголовков,\n",
    "- пропущенные значения,\n",
    "- дубликаты — явные и неявные.\n",
    "\n",
    "Были исправлены названия заголовков, чтобы упростить работу с таблицей, удалены дубликаты.\n",
    "\n",
    "Пропущенные значения были заменены на `'unknown'`."
   ]
  },
  {
   "cell_type": "markdown",
   "metadata": {
    "deletable": false,
    "editable": false,
    "id": "WttZHXH0SqKk"
   },
   "source": [
    "## Проверка гипотез"
   ]
  },
  {
   "cell_type": "markdown",
   "metadata": {
    "deletable": false,
    "editable": false,
    "id": "Im936VVi_Zcu"
   },
   "source": [
    "### Сравнение поведения пользователей двух столиц"
   ]
  },
  {
   "cell_type": "markdown",
   "metadata": {
    "id": "nwt_MuaL_Zcu"
   },
   "source": [
    "Первая гипотеза утверждает, что пользователи по-разному слушают музыку в Москве и Санкт-Петербурге. Проверим это предположение по данным о трёх днях недели — понедельнике, среде и пятнице. \n"
   ]
  },
  {
   "cell_type": "code",
   "execution_count": 158,
   "metadata": {
    "deletable": false,
    "id": "0_Qs96oh_Zcu"
   },
   "outputs": [
    {
     "data": {
      "text/plain": [
       "city\n",
       "Moscow              42741\n",
       "Saint-Petersburg    18512\n",
       "Name: user_id, dtype: int64"
      ]
     },
     "execution_count": 158,
     "metadata": {},
     "output_type": "execute_result"
    }
   ],
   "source": [
    "df_city_activity = df.groupby('city')['user_id'].count() # Подсчёт прослушиваний в каждом городе\n",
    "df_city_activity"
   ]
  },
  {
   "cell_type": "code",
   "execution_count": 159,
   "metadata": {
    "deletable": false,
    "id": "uZMKjiJz_Zcu"
   },
   "outputs": [
    {
     "data": {
      "text/plain": [
       "day\n",
       "Friday       21840\n",
       "Monday       21354\n",
       "Wednesday    18059\n",
       "Name: user_id, dtype: int64"
      ]
     },
     "execution_count": 159,
     "metadata": {},
     "output_type": "execute_result"
    }
   ],
   "source": [
    "df_days_activity = df.groupby('day')['user_id'].count()# Подсчёт прослушиваний в каждый из трёх дней\n",
    "df_days_activity"
   ]
  },
  {
   "cell_type": "markdown",
   "metadata": {
    "deletable": false,
    "editable": false,
    "id": "cC2tNrlL_Zcu"
   },
   "source": [
    "В среднем пользователи из двух городов менее активны по средам. Но картина может измениться, если рассмотреть каждый город в отдельности."
   ]
  },
  {
   "cell_type": "code",
   "execution_count": 2,
   "metadata": {
    "deletable": false,
    "id": "Nz3GdQB1_Zcu"
   },
   "outputs": [],
   "source": [
    "# Функция для подсчёта прослушиваний для конкретного города и дня.\n",
    "\n",
    "\n",
    "def number_tracks(day, city):\n",
    "    track_list = df[df['day'] == day]\n",
    "    track_list = track_list[track_list['city'] == city]\n",
    "    track_list_count = track_list['user_id'].count()\n",
    "    return track_list_count\n",
    "\n"
   ]
  },
  {
   "cell_type": "code",
   "execution_count": 161,
   "metadata": {
    "deletable": false,
    "id": "rJcRATNQ_Zcu"
   },
   "outputs": [],
   "source": [
    "number_tracks_monday_moscow = number_tracks('Monday', 'Moscow')# количество прослушиваний в Москве по понедельникам"
   ]
  },
  {
   "cell_type": "code",
   "execution_count": 162,
   "metadata": {
    "deletable": false,
    "id": "hq_ncZ5T_Zcu"
   },
   "outputs": [],
   "source": [
    "number_tracks_monday_spb = number_tracks('Monday', 'Saint-Petersburg')# количество прослушиваний в Санкт-Петербурге по понедельникам"
   ]
  },
  {
   "cell_type": "code",
   "execution_count": 163,
   "metadata": {
    "deletable": false,
    "id": "_NTy2VPU_Zcu"
   },
   "outputs": [],
   "source": [
    "number_tracks_wednesday_moscow = number_tracks('Wednesday', 'Moscow')# количество прослушиваний в Москве по средам"
   ]
  },
  {
   "cell_type": "code",
   "execution_count": 164,
   "metadata": {
    "deletable": false,
    "id": "j2y3TAwo_Zcu"
   },
   "outputs": [],
   "source": [
    "number_tracks_wednesday_spb = number_tracks('Wednesday', 'Saint-Petersburg')# количество прослушиваний в Санкт-Петербурге по средам"
   ]
  },
  {
   "cell_type": "code",
   "execution_count": 165,
   "metadata": {
    "deletable": false,
    "id": "vYDw5u_K_Zcu"
   },
   "outputs": [],
   "source": [
    "number_tracks_friday_moscow = number_tracks('Friday', 'Moscow')# количество прослушиваний в Москве по пятницам"
   ]
  },
  {
   "cell_type": "code",
   "execution_count": 166,
   "metadata": {
    "deletable": false,
    "id": "8_yzFtW3_Zcu"
   },
   "outputs": [],
   "source": [
    "number_tracks_friday_spb = number_tracks('Friday', 'Saint-Petersburg')# количество прослушиваний в Санкт-Петербурге по пятницам"
   ]
  },
  {
   "cell_type": "code",
   "execution_count": 167,
   "metadata": {
    "deletable": false,
    "id": "APAcLpOr_Zcu"
   },
   "outputs": [
    {
     "data": {
      "text/html": [
       "<div>\n",
       "<style scoped>\n",
       "    .dataframe tbody tr th:only-of-type {\n",
       "        vertical-align: middle;\n",
       "    }\n",
       "\n",
       "    .dataframe tbody tr th {\n",
       "        vertical-align: top;\n",
       "    }\n",
       "\n",
       "    .dataframe thead th {\n",
       "        text-align: right;\n",
       "    }\n",
       "</style>\n",
       "<table border=\"1\" class=\"dataframe\">\n",
       "  <thead>\n",
       "    <tr style=\"text-align: right;\">\n",
       "      <th></th>\n",
       "      <th>city</th>\n",
       "      <th>monday</th>\n",
       "      <th>wednesday</th>\n",
       "      <th>friday</th>\n",
       "    </tr>\n",
       "  </thead>\n",
       "  <tbody>\n",
       "    <tr>\n",
       "      <th>0</th>\n",
       "      <td>Москва</td>\n",
       "      <td>15740</td>\n",
       "      <td>11056</td>\n",
       "      <td>15945</td>\n",
       "    </tr>\n",
       "    <tr>\n",
       "      <th>1</th>\n",
       "      <td>Санкт-Петербург</td>\n",
       "      <td>5614</td>\n",
       "      <td>7003</td>\n",
       "      <td>5895</td>\n",
       "    </tr>\n",
       "  </tbody>\n",
       "</table>\n",
       "</div>"
      ],
      "text/plain": [
       "              city  monday  wednesday  friday\n",
       "0           Москва   15740      11056   15945\n",
       "1  Санкт-Петербург    5614       7003    5895"
      ]
     },
     "execution_count": 167,
     "metadata": {},
     "output_type": "execute_result"
    }
   ],
   "source": [
    "column_names =['city', 'monday', 'wednesday', 'friday'] # Таблица с результатами\n",
    "info = pd.DataFrame(data = [['Москва', number_tracks_monday_moscow,number_tracks_wednesday_moscow,\n",
    "                            number_tracks_friday_moscow],\n",
    "                            ['Санкт-Петербург', number_tracks_monday_spb,number_tracks_wednesday_spb,\n",
    "                            number_tracks_friday_spb]], columns = column_names)\n",
    "info"
   ]
  },
  {
   "cell_type": "markdown",
   "metadata": {
    "deletable": false,
    "editable": false,
    "id": "-EgPIHYu_Zcu"
   },
   "source": [
    "**Выводы**\n",
    "\n",
    "Данные показывают разницу поведения пользователей:\n",
    "\n",
    "- В Москве пик прослушиваний приходится на понедельник и пятницу, а в среду заметен спад.\n",
    "- В Петербурге, наоборот, больше слушают музыку по средам. Активность в понедельник и пятницу здесь почти в равной мере уступает среде.\n",
    "\n",
    "Значит, данные говорят в пользу первой гипотезы."
   ]
  },
  {
   "cell_type": "markdown",
   "metadata": {
    "deletable": false,
    "editable": false,
    "id": "atZAxtq4_Zcu"
   },
   "source": [
    "### Музыка в начале и в конце недели"
   ]
  },
  {
   "cell_type": "markdown",
   "metadata": {
    "deletable": false,
    "editable": false,
    "id": "eXrQqXFH_Zcu"
   },
   "source": [
    "Согласно второй гипотезе, утром в понедельник в Москве преобладают одни жанры, а в Петербурге — другие. Так же и вечером пятницы преобладают разные жанры — в зависимости от города."
   ]
  },
  {
   "cell_type": "code",
   "execution_count": 168,
   "metadata": {
    "deletable": false,
    "id": "qeaFfM_P_Zcu"
   },
   "outputs": [],
   "source": [
    "# получение таблицы moscow_general из тех строк таблицы df, \n",
    "# для которых значение в столбце 'city' равно 'Moscow'\n",
    "moscow_general = df[df['city'] == 'Moscow']"
   ]
  },
  {
   "cell_type": "code",
   "execution_count": 169,
   "metadata": {
    "deletable": false,
    "id": "ORaVRKto_Zcu"
   },
   "outputs": [],
   "source": [
    "# получение таблицы spb_general из тех строк таблицы df,\n",
    "# для которых значение в столбце 'city' равно 'Saint-Petersburg'\n",
    "spb_general = df[df['city'] == 'Saint-Petersburg']"
   ]
  },
  {
   "cell_type": "code",
   "execution_count": 170,
   "metadata": {
    "deletable": false,
    "id": "laJT9BYl_Zcu"
   },
   "outputs": [],
   "source": [
    "# Объявление функции genre_weekday() с параметрами table, day, time1, time2,\n",
    "# которая возвращает информацию о самых популярных жанрах в указанный день в\n",
    "# заданное время\n",
    "def genre_weekday(df, day, time1, time2):\n",
    "    # последовательная фильтрация\n",
    "    # оставляем в genre_df только те строки df, у которых день равен day\n",
    "    genre_df = df[df['day'] == day]\n",
    "    # оставляем в genre_df только те строки genre_df, у которых время меньше time2\n",
    "    genre_df = genre_df[genre_df['time'] < time2 ]\n",
    "    # оставляем в genre_df только те строки genre_df, у которых время больше time1\n",
    "    genre_df = genre_df[genre_df['time'] > time1 ]# ваш код здесь\n",
    "    # сгруппируем отфильтрованный датафрейм по столбцу с названиями жанров, возьмём столбец genre и посчитаем кол-во строк для каждого жанра методом count()\n",
    "    genre_df_grouped = genre_df.groupby('genre')['genre'].count() # ваш код здесь\n",
    "    # отсортируем результат по убыванию (чтобы в начале Series оказались самые популярные жанры)\n",
    "    genre_df_sorted = genre_df_grouped.sort_values(ascending=False)# ваш код здесь\n",
    "    # вернём Series с 10 самыми популярными жанрами в указанный отрезок времени заданного дня\n",
    "    return genre_df_sorted[:10]"
   ]
  },
  {
   "cell_type": "code",
   "execution_count": 171,
   "metadata": {
    "deletable": false,
    "id": "yz7itPUQ_Zcu"
   },
   "outputs": [
    {
     "data": {
      "text/plain": [
       "genre\n",
       "pop            781\n",
       "dance          549\n",
       "electronic     480\n",
       "rock           474\n",
       "hiphop         286\n",
       "ruspop         186\n",
       "world          181\n",
       "rusrap         175\n",
       "alternative    164\n",
       "unknown        161\n",
       "Name: genre, dtype: int64"
      ]
     },
     "execution_count": 171,
     "metadata": {},
     "output_type": "execute_result"
    }
   ],
   "source": [
    "# вызов функции для утра понедельника в Москве \n",
    "# объекты, хранящие время, являются строками и сравниваются как строки\n",
    "genre_weekday(moscow_general, 'Monday', '07:00', '11:00')"
   ]
  },
  {
   "cell_type": "code",
   "execution_count": 172,
   "metadata": {
    "deletable": false,
    "id": "kwUcHPdy_Zcu"
   },
   "outputs": [
    {
     "data": {
      "text/plain": [
       "genre\n",
       "pop            218\n",
       "dance          182\n",
       "rock           162\n",
       "electronic     147\n",
       "hiphop          80\n",
       "ruspop          64\n",
       "alternative     58\n",
       "rusrap          55\n",
       "jazz            44\n",
       "classical       40\n",
       "Name: genre, dtype: int64"
      ]
     },
     "execution_count": 172,
     "metadata": {},
     "output_type": "execute_result"
    }
   ],
   "source": [
    "# вызов функции для утра понедельника в Петербурге (вместо df — таблица spb_general)\n",
    "genre_weekday(spb_general, 'Monday', '07:00', '11:00')"
   ]
  },
  {
   "cell_type": "code",
   "execution_count": 173,
   "metadata": {
    "deletable": false,
    "id": "EzXVRE1o_Zcu"
   },
   "outputs": [
    {
     "data": {
      "text/plain": [
       "genre\n",
       "pop            713\n",
       "rock           517\n",
       "dance          495\n",
       "electronic     482\n",
       "hiphop         273\n",
       "world          208\n",
       "ruspop         170\n",
       "alternative    163\n",
       "classical      163\n",
       "rusrap         142\n",
       "Name: genre, dtype: int64"
      ]
     },
     "execution_count": 173,
     "metadata": {},
     "output_type": "execute_result"
    }
   ],
   "source": [
    "# вызов функции для вечера пятницы в Москве\n",
    "genre_weekday(moscow_general, 'Friday', '17:00', '23:00')"
   ]
  },
  {
   "cell_type": "code",
   "execution_count": 174,
   "metadata": {
    "deletable": false,
    "id": "JZaEKu5v_Zcu"
   },
   "outputs": [
    {
     "data": {
      "text/plain": [
       "genre\n",
       "pop            256\n",
       "electronic     216\n",
       "rock           216\n",
       "dance          210\n",
       "hiphop          97\n",
       "alternative     63\n",
       "jazz            61\n",
       "classical       60\n",
       "rusrap          59\n",
       "world           54\n",
       "Name: genre, dtype: int64"
      ]
     },
     "execution_count": 174,
     "metadata": {},
     "output_type": "execute_result"
    }
   ],
   "source": [
    "genre_weekday(spb_general, 'Friday', '17:00', '23:00')# вызов функции для вечера пятницы в Петербурге"
   ]
  },
  {
   "cell_type": "markdown",
   "metadata": {
    "deletable": false,
    "editable": false,
    "id": "wrCe4MNX_Zcu"
   },
   "source": [
    "**Выводы**\n",
    "\n",
    "Если сравнить топ-10 жанров в понедельник утром, можно сделать такие выводы:\n",
    "\n",
    "1. В Москве и Петербурге слушают похожую музыку. Единственное отличие — в московский рейтинг вошёл жанр “world”, а в петербургский — джаз и классика.\n",
    "\n",
    "2. В Москве пропущенных значений оказалось так много, что значение `'unknown'` заняло десятое место среди самых популярных жанров. Значит, пропущенные значения занимают существенную долю в данных и угрожают достоверности исследования.\n",
    "\n",
    "Вечер пятницы не меняет эту картину. Некоторые жанры поднимаются немного выше, другие спускаются, но в целом топ-10 остаётся тем же самым.\n",
    "\n",
    "Таким образом, вторая гипотеза подтвердилась лишь частично:\n",
    "* Пользователи слушают похожую музыку в начале недели и в конце.\n",
    "* Разница между Москвой и Петербургом не слишком выражена. В Москве чаще слушают русскую популярную музыку, в Петербурге — джаз.\n",
    "\n",
    "Однако пропуски в данных ставят под сомнение этот результат. В Москве их так много, что рейтинг топ-10 мог бы выглядеть иначе, если бы не утерянные  данные о жанрах."
   ]
  },
  {
   "cell_type": "markdown",
   "metadata": {
    "id": "JolODAqr_Zcu"
   },
   "source": [
    "### Жанровые предпочтения в Москве и Петербурге\n",
    "\n",
    "Гипотеза: Рэп в Санкт Петербурге слушают чаще, чем в Москве. А в Москве преобладает поп-музыка."
   ]
  },
  {
   "cell_type": "code",
   "execution_count": 177,
   "metadata": {
    "deletable": false,
    "id": "r19lIPke_Zcu"
   },
   "outputs": [],
   "source": [
    "moscow_genres = moscow_general.groupby('genre')# одной строкой: группировка таблицы moscow_general по столбцу 'genre', \n",
    "moscow_genres = moscow_genres['genre'].count() # подсчёт числа значений 'genre' в этой группировке методом count(), \n",
    "moscow_genres = moscow_genres.sort_values(ascending = False)# сортировка получившегося Series в порядке убывания и сохранение в moscow_genres"
   ]
  },
  {
   "cell_type": "code",
   "execution_count": 178,
   "metadata": {
    "deletable": false,
    "id": "WhCSooF8_Zcv"
   },
   "outputs": [
    {
     "data": {
      "text/plain": [
       "genre\n",
       "pop            5892\n",
       "dance          4435\n",
       "rock           3965\n",
       "electronic     3786\n",
       "hiphop         2096\n",
       "classical      1616\n",
       "world          1432\n",
       "alternative    1379\n",
       "ruspop         1372\n",
       "rusrap         1161\n",
       "Name: genre, dtype: int64"
      ]
     },
     "execution_count": 178,
     "metadata": {},
     "output_type": "execute_result"
    }
   ],
   "source": [
    "moscow_genres[:10]# просмотр первых 10 строк moscow_genres"
   ]
  },
  {
   "cell_type": "code",
   "execution_count": 179,
   "metadata": {
    "deletable": false,
    "id": "gluLIpE7_Zcv"
   },
   "outputs": [],
   "source": [
    "spb_genres = spb_general.groupby('genre')# одной строкой: группировка таблицы spb_general по столбцу 'genre', \n",
    "spb_genres = spb_genres['genre'].count()# подсчёт числа значений 'genre' в этой группировке методом count(), \n",
    "spb_genres = spb_genres.sort_values(ascending = False)# сортировка получившегося Series в порядке убывания и сохранение в spb_genres"
   ]
  },
  {
   "cell_type": "code",
   "execution_count": 180,
   "metadata": {
    "deletable": false,
    "id": "uaGJHjVU_Zcv"
   },
   "outputs": [
    {
     "data": {
      "text/plain": [
       "genre\n",
       "pop            2431\n",
       "dance          1932\n",
       "rock           1879\n",
       "electronic     1736\n",
       "hiphop          960\n",
       "alternative     649\n",
       "classical       646\n",
       "rusrap          564\n",
       "ruspop          538\n",
       "world           515\n",
       "Name: genre, dtype: int64"
      ]
     },
     "execution_count": 180,
     "metadata": {},
     "output_type": "execute_result"
    }
   ],
   "source": [
    "spb_genres[:10]# просмотр первых 10 строк spb_genres"
   ]
  },
  {
   "cell_type": "markdown",
   "metadata": {
    "deletable": false,
    "editable": false,
    "id": "RY51YJYu_Zcv"
   },
   "source": [
    "**Выводы**"
   ]
  },
  {
   "cell_type": "markdown",
   "metadata": {
    "id": "nVhnJEm__Zcv"
   },
   "source": [
    "Гипотеза частично подтвердилась:\n",
    "* Поп-музыка — самый популярный жанр в Москве, как и предполагала гипотеза. Более того, в топ-10 жанров встречается близкий жанр — русская популярная музыка.\n",
    "* Рэп одинаково популярен в Москве и Петербурге. \n"
   ]
  },
  {
   "cell_type": "markdown",
   "metadata": {
    "id": "ykKQ0N65_Zcv"
   },
   "source": [
    "## Итоги исследования"
   ]
  },
  {
   "cell_type": "markdown",
   "metadata": {
    "id": "tjUwbHb3_Zcv"
   },
   "source": [
    "Были проверены три гипотезы:\n",
    "\n",
    "1. День недели по-разному влияет на активность пользователей в Москве и Петербурге. \n",
    "2. Музыкальные предпочтения не сильно меняются в течение недели — будь то Москва или Петербург. Небольшие различия заметны в начале недели, по понедельникам:\n",
    "* в Москве слушают музыку жанра “world”,\n",
    "* в Петербурге — джаз и классику.\n",
    "3. Во вкусах пользователей Москвы и Петербурга больше общего чем различий. Вопреки ожиданиям, предпочтения жанров в Петербурге напоминают московские.\n",
    "В резултате:\n",
    "1. Первая гипотеза полностью подтвердилась.\n",
    "2. Вторая гипотеза подтвердилась лишь отчасти. Этот результат мог оказаться иным, если бы не пропуски в данных.\n",
    "3. Третья гипотеза не подтвердилась. Если различия в предпочтениях и существуют, на основной массе пользователей они незаметны."
   ]
  }
 ],
 "metadata": {
  "ExecuteTimeLog": [
   {
    "duration": 45,
    "start_time": "2022-08-01T09:31:25.908Z"
   },
   {
    "duration": 7,
    "start_time": "2022-08-01T09:31:34.602Z"
   },
   {
    "duration": 349,
    "start_time": "2022-08-01T09:31:43.347Z"
   },
   {
    "duration": 230,
    "start_time": "2022-08-01T09:31:45.108Z"
   },
   {
    "duration": 16,
    "start_time": "2022-08-01T09:31:47.085Z"
   },
   {
    "duration": 10,
    "start_time": "2022-08-01T09:32:12.712Z"
   },
   {
    "duration": 9,
    "start_time": "2022-08-01T09:32:46.659Z"
   },
   {
    "duration": 10,
    "start_time": "2022-08-01T09:33:33.114Z"
   },
   {
    "duration": 45,
    "start_time": "2022-08-01T09:34:07.955Z"
   },
   {
    "duration": 26,
    "start_time": "2022-08-01T09:39:31.395Z"
   },
   {
    "duration": 4,
    "start_time": "2022-08-01T09:39:38.583Z"
   },
   {
    "duration": 47,
    "start_time": "2022-08-01T09:42:31.451Z"
   },
   {
    "duration": 30,
    "start_time": "2022-08-01T09:42:45.178Z"
   },
   {
    "duration": 37,
    "start_time": "2022-08-01T09:42:47.563Z"
   },
   {
    "duration": 43,
    "start_time": "2022-08-01T09:53:33.929Z"
   },
   {
    "duration": 17,
    "start_time": "2022-08-01T09:53:53.982Z"
   },
   {
    "duration": 19,
    "start_time": "2022-08-01T09:54:07.071Z"
   },
   {
    "duration": 161,
    "start_time": "2022-08-01T09:54:33.620Z"
   },
   {
    "duration": 17,
    "start_time": "2022-08-01T09:54:46.402Z"
   },
   {
    "duration": 2,
    "start_time": "2022-08-01T09:55:30.752Z"
   },
   {
    "duration": 184,
    "start_time": "2022-08-01T09:55:30.756Z"
   },
   {
    "duration": 11,
    "start_time": "2022-08-01T09:55:30.942Z"
   },
   {
    "duration": 43,
    "start_time": "2022-08-01T09:55:30.955Z"
   },
   {
    "duration": 6,
    "start_time": "2022-08-01T09:55:31.001Z"
   },
   {
    "duration": 39,
    "start_time": "2022-08-01T09:55:31.008Z"
   },
   {
    "duration": 31,
    "start_time": "2022-08-01T09:55:31.049Z"
   },
   {
    "duration": 11,
    "start_time": "2022-08-01T09:55:31.082Z"
   },
   {
    "duration": 10,
    "start_time": "2022-08-01T09:55:31.094Z"
   },
   {
    "duration": 26,
    "start_time": "2022-08-01T09:55:31.105Z"
   },
   {
    "duration": 14,
    "start_time": "2022-08-01T09:55:31.134Z"
   },
   {
    "duration": 24,
    "start_time": "2022-08-01T09:55:31.149Z"
   },
   {
    "duration": 25,
    "start_time": "2022-08-01T09:55:31.174Z"
   },
   {
    "duration": 18,
    "start_time": "2022-08-01T09:55:31.201Z"
   },
   {
    "duration": 14,
    "start_time": "2022-08-01T09:55:31.221Z"
   },
   {
    "duration": 9,
    "start_time": "2022-08-01T09:55:31.236Z"
   },
   {
    "duration": 41,
    "start_time": "2022-08-01T09:55:31.247Z"
   },
   {
    "duration": 7,
    "start_time": "2022-08-01T09:55:31.289Z"
   },
   {
    "duration": 10,
    "start_time": "2022-08-01T09:55:31.297Z"
   },
   {
    "duration": 6,
    "start_time": "2022-08-01T09:55:31.308Z"
   },
   {
    "duration": 17,
    "start_time": "2022-08-01T09:55:31.315Z"
   },
   {
    "duration": 9,
    "start_time": "2022-08-01T09:55:31.334Z"
   },
   {
    "duration": 6,
    "start_time": "2022-08-01T09:55:31.345Z"
   },
   {
    "duration": 9,
    "start_time": "2022-08-01T09:55:31.352Z"
   },
   {
    "duration": 9,
    "start_time": "2022-08-01T09:55:31.363Z"
   },
   {
    "duration": 29,
    "start_time": "2022-08-01T09:55:31.373Z"
   },
   {
    "duration": 41,
    "start_time": "2022-08-01T09:55:31.403Z"
   },
   {
    "duration": 26,
    "start_time": "2022-08-01T09:55:31.447Z"
   },
   {
    "duration": 16,
    "start_time": "2022-08-01T09:55:31.477Z"
   },
   {
    "duration": 59,
    "start_time": "2022-08-01T09:55:31.495Z"
   },
   {
    "duration": 0,
    "start_time": "2022-08-01T09:55:31.556Z"
   },
   {
    "duration": 0,
    "start_time": "2022-08-01T09:55:31.558Z"
   },
   {
    "duration": 0,
    "start_time": "2022-08-01T09:55:31.559Z"
   },
   {
    "duration": 0,
    "start_time": "2022-08-01T09:55:31.560Z"
   },
   {
    "duration": 0,
    "start_time": "2022-08-01T09:55:31.561Z"
   },
   {
    "duration": 0,
    "start_time": "2022-08-01T09:55:31.562Z"
   },
   {
    "duration": 0,
    "start_time": "2022-08-01T09:55:31.564Z"
   },
   {
    "duration": 0,
    "start_time": "2022-08-01T09:55:31.565Z"
   },
   {
    "duration": 16,
    "start_time": "2022-08-01T09:57:19.000Z"
   },
   {
    "duration": 7,
    "start_time": "2022-08-01T09:57:57.109Z"
   },
   {
    "duration": 4,
    "start_time": "2022-08-01T09:58:00.557Z"
   },
   {
    "duration": 15,
    "start_time": "2022-08-01T09:58:07.167Z"
   },
   {
    "duration": 4,
    "start_time": "2022-08-01T09:58:19.849Z"
   },
   {
    "duration": 16,
    "start_time": "2022-08-01T09:58:24.725Z"
   },
   {
    "duration": 3,
    "start_time": "2022-08-01T09:58:27.429Z"
   },
   {
    "duration": 22,
    "start_time": "2022-08-01T09:59:24.243Z"
   },
   {
    "duration": 18,
    "start_time": "2022-08-01T09:59:37.672Z"
   },
   {
    "duration": 11,
    "start_time": "2022-08-01T09:59:41.628Z"
   },
   {
    "duration": 22,
    "start_time": "2022-08-01T09:59:49.393Z"
   },
   {
    "duration": 6,
    "start_time": "2022-08-01T10:00:01.210Z"
   },
   {
    "duration": 26,
    "start_time": "2022-08-01T10:21:18.681Z"
   },
   {
    "duration": 834,
    "start_time": "2022-08-01T10:25:08.762Z"
   },
   {
    "duration": 16,
    "start_time": "2022-08-01T10:26:29.531Z"
   },
   {
    "duration": 23,
    "start_time": "2022-08-01T10:27:05.589Z"
   },
   {
    "duration": 8,
    "start_time": "2022-08-01T10:27:56.897Z"
   },
   {
    "duration": 8,
    "start_time": "2022-08-01T10:28:04.416Z"
   },
   {
    "duration": 65,
    "start_time": "2022-08-01T10:28:07.353Z"
   },
   {
    "duration": 55,
    "start_time": "2022-08-01T10:28:31.685Z"
   },
   {
    "duration": 9,
    "start_time": "2022-08-01T10:29:05.591Z"
   },
   {
    "duration": 8,
    "start_time": "2022-08-01T10:29:26.464Z"
   },
   {
    "duration": 8,
    "start_time": "2022-08-01T10:29:32.510Z"
   },
   {
    "duration": 10,
    "start_time": "2022-08-01T10:29:35.385Z"
   },
   {
    "duration": 67,
    "start_time": "2022-08-01T10:29:53.626Z"
   },
   {
    "duration": 63,
    "start_time": "2022-08-01T10:30:19.760Z"
   },
   {
    "duration": 87,
    "start_time": "2022-08-01T10:30:23.262Z"
   },
   {
    "duration": 61,
    "start_time": "2022-08-01T10:30:27.360Z"
   },
   {
    "duration": 63,
    "start_time": "2022-08-01T10:30:31.808Z"
   },
   {
    "duration": 63,
    "start_time": "2022-08-01T10:30:34.146Z"
   },
   {
    "duration": 8,
    "start_time": "2022-08-01T10:31:44.744Z"
   },
   {
    "duration": 8,
    "start_time": "2022-08-01T10:32:15.460Z"
   },
   {
    "duration": 60,
    "start_time": "2022-08-01T10:32:39.574Z"
   },
   {
    "duration": 8,
    "start_time": "2022-08-01T10:32:43.192Z"
   },
   {
    "duration": 7,
    "start_time": "2022-08-01T10:32:57.732Z"
   },
   {
    "duration": 27,
    "start_time": "2022-08-01T10:33:03.181Z"
   },
   {
    "duration": 20,
    "start_time": "2022-08-01T10:33:10.904Z"
   },
   {
    "duration": 29,
    "start_time": "2022-08-01T10:34:03.234Z"
   },
   {
    "duration": 40,
    "start_time": "2022-08-01T10:34:12.975Z"
   },
   {
    "duration": 3,
    "start_time": "2022-08-01T10:36:03.401Z"
   },
   {
    "duration": 97,
    "start_time": "2022-08-01T10:36:44.404Z"
   },
   {
    "duration": 31,
    "start_time": "2022-08-01T10:37:02.991Z"
   },
   {
    "duration": 7,
    "start_time": "2022-08-01T10:37:10.817Z"
   },
   {
    "duration": 7,
    "start_time": "2022-08-01T10:37:31.318Z"
   },
   {
    "duration": 9,
    "start_time": "2022-08-01T10:37:36.579Z"
   },
   {
    "duration": 8,
    "start_time": "2022-08-01T10:37:40.572Z"
   },
   {
    "duration": 6,
    "start_time": "2022-08-01T10:37:56.054Z"
   },
   {
    "duration": 10,
    "start_time": "2022-08-01T10:38:08.370Z"
   },
   {
    "duration": 3,
    "start_time": "2022-08-01T10:38:21.939Z"
   },
   {
    "duration": 162,
    "start_time": "2022-08-01T10:38:21.944Z"
   },
   {
    "duration": 16,
    "start_time": "2022-08-01T10:38:22.108Z"
   },
   {
    "duration": 26,
    "start_time": "2022-08-01T10:38:22.125Z"
   },
   {
    "duration": 20,
    "start_time": "2022-08-01T10:38:22.154Z"
   },
   {
    "duration": 9,
    "start_time": "2022-08-01T10:38:22.179Z"
   },
   {
    "duration": 9,
    "start_time": "2022-08-01T10:38:22.189Z"
   },
   {
    "duration": 4,
    "start_time": "2022-08-01T10:38:22.199Z"
   },
   {
    "duration": 25,
    "start_time": "2022-08-01T10:38:22.205Z"
   },
   {
    "duration": 18,
    "start_time": "2022-08-01T10:38:22.231Z"
   },
   {
    "duration": 44,
    "start_time": "2022-08-01T10:38:22.251Z"
   },
   {
    "duration": 57,
    "start_time": "2022-08-01T10:38:22.296Z"
   },
   {
    "duration": 86,
    "start_time": "2022-08-01T10:38:22.354Z"
   },
   {
    "duration": 58,
    "start_time": "2022-08-01T10:38:22.444Z"
   },
   {
    "duration": 34,
    "start_time": "2022-08-01T10:38:22.504Z"
   },
   {
    "duration": 100,
    "start_time": "2022-08-01T10:38:22.539Z"
   },
   {
    "duration": 3,
    "start_time": "2022-08-01T10:38:22.641Z"
   },
   {
    "duration": 7,
    "start_time": "2022-08-01T10:38:22.645Z"
   },
   {
    "duration": 7,
    "start_time": "2022-08-01T10:38:22.653Z"
   },
   {
    "duration": 20,
    "start_time": "2022-08-01T10:38:22.661Z"
   },
   {
    "duration": 14,
    "start_time": "2022-08-01T10:38:22.682Z"
   },
   {
    "duration": 5,
    "start_time": "2022-08-01T10:38:22.697Z"
   },
   {
    "duration": 6,
    "start_time": "2022-08-01T10:38:22.704Z"
   },
   {
    "duration": 12,
    "start_time": "2022-08-01T10:38:22.711Z"
   },
   {
    "duration": 9,
    "start_time": "2022-08-01T10:38:22.724Z"
   },
   {
    "duration": 5,
    "start_time": "2022-08-01T10:38:22.734Z"
   },
   {
    "duration": 6,
    "start_time": "2022-08-01T10:38:22.740Z"
   },
   {
    "duration": 6,
    "start_time": "2022-08-01T10:38:22.747Z"
   },
   {
    "duration": 5,
    "start_time": "2022-08-01T10:38:22.755Z"
   },
   {
    "duration": 76,
    "start_time": "2022-08-01T10:38:22.762Z"
   },
   {
    "duration": 0,
    "start_time": "2022-08-01T10:38:22.839Z"
   },
   {
    "duration": 0,
    "start_time": "2022-08-01T10:38:22.841Z"
   },
   {
    "duration": 0,
    "start_time": "2022-08-01T10:38:22.841Z"
   },
   {
    "duration": 0,
    "start_time": "2022-08-01T10:38:22.842Z"
   },
   {
    "duration": 0,
    "start_time": "2022-08-01T10:38:22.844Z"
   },
   {
    "duration": 0,
    "start_time": "2022-08-01T10:38:22.845Z"
   },
   {
    "duration": 0,
    "start_time": "2022-08-01T10:38:22.846Z"
   },
   {
    "duration": 0,
    "start_time": "2022-08-01T10:38:22.847Z"
   },
   {
    "duration": 81,
    "start_time": "2022-08-01T10:38:39.147Z"
   },
   {
    "duration": 38,
    "start_time": "2022-08-01T10:38:59.072Z"
   },
   {
    "duration": 25,
    "start_time": "2022-08-01T14:54:06.266Z"
   },
   {
    "duration": 7,
    "start_time": "2022-08-01T14:54:29.458Z"
   },
   {
    "duration": 3,
    "start_time": "2022-08-01T14:54:41.522Z"
   },
   {
    "duration": 230,
    "start_time": "2022-08-01T14:54:41.527Z"
   },
   {
    "duration": 18,
    "start_time": "2022-08-01T14:54:41.759Z"
   },
   {
    "duration": 47,
    "start_time": "2022-08-01T14:54:41.779Z"
   },
   {
    "duration": 8,
    "start_time": "2022-08-01T14:54:41.828Z"
   },
   {
    "duration": 17,
    "start_time": "2022-08-01T14:54:41.838Z"
   },
   {
    "duration": 26,
    "start_time": "2022-08-01T14:54:41.857Z"
   },
   {
    "duration": 18,
    "start_time": "2022-08-01T14:54:41.884Z"
   },
   {
    "duration": 38,
    "start_time": "2022-08-01T14:54:41.903Z"
   },
   {
    "duration": 23,
    "start_time": "2022-08-01T14:54:41.943Z"
   },
   {
    "duration": 45,
    "start_time": "2022-08-01T14:54:41.967Z"
   },
   {
    "duration": 75,
    "start_time": "2022-08-01T14:54:42.014Z"
   },
   {
    "duration": 61,
    "start_time": "2022-08-01T14:54:42.091Z"
   },
   {
    "duration": 61,
    "start_time": "2022-08-01T14:54:42.156Z"
   },
   {
    "duration": 33,
    "start_time": "2022-08-01T14:54:42.218Z"
   },
   {
    "duration": 80,
    "start_time": "2022-08-01T14:54:42.252Z"
   },
   {
    "duration": 33,
    "start_time": "2022-08-01T14:54:42.333Z"
   },
   {
    "duration": 2,
    "start_time": "2022-08-01T14:54:42.367Z"
   },
   {
    "duration": 5,
    "start_time": "2022-08-01T14:54:42.371Z"
   },
   {
    "duration": 5,
    "start_time": "2022-08-01T14:54:42.377Z"
   },
   {
    "duration": 17,
    "start_time": "2022-08-01T14:54:42.384Z"
   },
   {
    "duration": 2,
    "start_time": "2022-08-01T14:54:42.402Z"
   },
   {
    "duration": 4,
    "start_time": "2022-08-01T14:54:42.406Z"
   },
   {
    "duration": 5,
    "start_time": "2022-08-01T14:54:42.411Z"
   },
   {
    "duration": 7,
    "start_time": "2022-08-01T14:54:42.418Z"
   },
   {
    "duration": 17,
    "start_time": "2022-08-01T14:54:42.426Z"
   },
   {
    "duration": 7,
    "start_time": "2022-08-01T14:54:42.445Z"
   },
   {
    "duration": 5,
    "start_time": "2022-08-01T14:54:42.453Z"
   },
   {
    "duration": 7,
    "start_time": "2022-08-01T14:54:42.460Z"
   },
   {
    "duration": 78,
    "start_time": "2022-08-01T14:54:42.468Z"
   },
   {
    "duration": 0,
    "start_time": "2022-08-01T14:54:42.547Z"
   },
   {
    "duration": 0,
    "start_time": "2022-08-01T14:54:42.548Z"
   },
   {
    "duration": 0,
    "start_time": "2022-08-01T14:54:42.549Z"
   },
   {
    "duration": 0,
    "start_time": "2022-08-01T14:54:42.550Z"
   },
   {
    "duration": 0,
    "start_time": "2022-08-01T14:54:42.551Z"
   },
   {
    "duration": 0,
    "start_time": "2022-08-01T14:54:42.552Z"
   },
   {
    "duration": 0,
    "start_time": "2022-08-01T14:54:42.553Z"
   },
   {
    "duration": 0,
    "start_time": "2022-08-01T14:54:42.554Z"
   },
   {
    "duration": 3,
    "start_time": "2022-08-01T14:54:51.289Z"
   },
   {
    "duration": 3,
    "start_time": "2022-08-01T14:54:54.031Z"
   },
   {
    "duration": 4271,
    "start_time": "2022-08-01T14:55:21.830Z"
   },
   {
    "duration": 4108,
    "start_time": "2022-08-01T14:55:32.905Z"
   },
   {
    "duration": 4289,
    "start_time": "2022-08-01T14:55:48.552Z"
   },
   {
    "duration": 4,
    "start_time": "2022-08-01T14:56:31.255Z"
   },
   {
    "duration": 3,
    "start_time": "2022-08-01T14:56:34.540Z"
   },
   {
    "duration": 4,
    "start_time": "2022-08-01T14:56:48.070Z"
   },
   {
    "duration": 4,
    "start_time": "2022-08-01T14:56:50.499Z"
   },
   {
    "duration": 11,
    "start_time": "2022-08-01T14:58:03.810Z"
   },
   {
    "duration": 12,
    "start_time": "2022-08-01T14:59:06.456Z"
   },
   {
    "duration": 9,
    "start_time": "2022-08-01T15:00:41.813Z"
   },
   {
    "duration": 11,
    "start_time": "2022-08-01T15:00:49.623Z"
   },
   {
    "duration": 12,
    "start_time": "2022-08-01T15:05:04.424Z"
   },
   {
    "duration": 10,
    "start_time": "2022-08-02T12:48:33.942Z"
   },
   {
    "duration": 56,
    "start_time": "2022-08-02T12:53:21.131Z"
   },
   {
    "duration": 391,
    "start_time": "2022-08-02T12:53:36.135Z"
   },
   {
    "duration": 249,
    "start_time": "2022-08-02T12:53:36.529Z"
   },
   {
    "duration": 26,
    "start_time": "2022-08-02T12:53:36.780Z"
   },
   {
    "duration": 35,
    "start_time": "2022-08-02T12:53:36.808Z"
   },
   {
    "duration": 2,
    "start_time": "2022-08-02T12:53:36.846Z"
   },
   {
    "duration": 6,
    "start_time": "2022-08-02T12:53:36.850Z"
   },
   {
    "duration": 12,
    "start_time": "2022-08-02T12:53:36.858Z"
   },
   {
    "duration": 31,
    "start_time": "2022-08-02T12:53:36.872Z"
   },
   {
    "duration": 26,
    "start_time": "2022-08-02T12:53:36.904Z"
   },
   {
    "duration": 21,
    "start_time": "2022-08-02T12:53:36.931Z"
   },
   {
    "duration": 50,
    "start_time": "2022-08-02T12:53:36.954Z"
   },
   {
    "duration": 74,
    "start_time": "2022-08-02T12:53:37.005Z"
   },
   {
    "duration": 92,
    "start_time": "2022-08-02T12:53:37.081Z"
   },
   {
    "duration": 89,
    "start_time": "2022-08-02T12:53:37.176Z"
   },
   {
    "duration": 51,
    "start_time": "2022-08-02T12:53:37.267Z"
   },
   {
    "duration": 106,
    "start_time": "2022-08-02T12:53:37.320Z"
   },
   {
    "duration": 47,
    "start_time": "2022-08-02T12:53:37.428Z"
   },
   {
    "duration": 34,
    "start_time": "2022-08-02T12:53:37.478Z"
   },
   {
    "duration": 14,
    "start_time": "2022-08-02T12:53:37.514Z"
   },
   {
    "duration": 8,
    "start_time": "2022-08-02T12:53:37.530Z"
   },
   {
    "duration": 36,
    "start_time": "2022-08-02T12:53:37.540Z"
   },
   {
    "duration": 45,
    "start_time": "2022-08-02T12:53:37.578Z"
   },
   {
    "duration": 26,
    "start_time": "2022-08-02T12:53:37.625Z"
   },
   {
    "duration": 3,
    "start_time": "2022-08-02T12:53:37.654Z"
   },
   {
    "duration": 6,
    "start_time": "2022-08-02T12:53:37.659Z"
   },
   {
    "duration": 7,
    "start_time": "2022-08-02T12:53:37.667Z"
   },
   {
    "duration": 8,
    "start_time": "2022-08-02T12:53:37.676Z"
   },
   {
    "duration": 19,
    "start_time": "2022-08-02T12:53:37.685Z"
   },
   {
    "duration": 7,
    "start_time": "2022-08-02T12:53:37.706Z"
   },
   {
    "duration": 54,
    "start_time": "2022-08-02T12:53:37.715Z"
   },
   {
    "duration": 0,
    "start_time": "2022-08-02T12:53:37.771Z"
   },
   {
    "duration": 0,
    "start_time": "2022-08-02T12:53:37.773Z"
   },
   {
    "duration": 0,
    "start_time": "2022-08-02T12:53:37.775Z"
   },
   {
    "duration": 0,
    "start_time": "2022-08-02T12:53:37.776Z"
   },
   {
    "duration": 0,
    "start_time": "2022-08-02T12:53:37.778Z"
   },
   {
    "duration": 0,
    "start_time": "2022-08-02T12:53:37.780Z"
   },
   {
    "duration": 0,
    "start_time": "2022-08-02T12:53:37.782Z"
   },
   {
    "duration": 0,
    "start_time": "2022-08-02T12:53:37.784Z"
   },
   {
    "duration": 16,
    "start_time": "2022-08-02T12:54:04.339Z"
   },
   {
    "duration": 29,
    "start_time": "2022-08-02T12:54:34.931Z"
   },
   {
    "duration": 25,
    "start_time": "2022-08-02T12:54:37.453Z"
   },
   {
    "duration": 20,
    "start_time": "2022-08-02T13:03:42.273Z"
   },
   {
    "duration": 15,
    "start_time": "2022-08-02T13:03:42.873Z"
   },
   {
    "duration": 17,
    "start_time": "2022-08-02T13:03:43.267Z"
   },
   {
    "duration": 17,
    "start_time": "2022-08-02T13:03:43.675Z"
   },
   {
    "duration": 18,
    "start_time": "2022-08-02T13:03:44.229Z"
   },
   {
    "duration": 16,
    "start_time": "2022-08-02T13:03:44.791Z"
   },
   {
    "duration": 6,
    "start_time": "2022-08-02T13:08:08.716Z"
   },
   {
    "duration": 12,
    "start_time": "2022-08-02T13:08:14.054Z"
   },
   {
    "duration": 6,
    "start_time": "2022-08-02T13:17:35.359Z"
   },
   {
    "duration": 7,
    "start_time": "2022-08-02T13:21:54.646Z"
   },
   {
    "duration": 31,
    "start_time": "2022-08-02T13:23:53.695Z"
   },
   {
    "duration": 3,
    "start_time": "2022-08-02T13:24:07.311Z"
   },
   {
    "duration": 212,
    "start_time": "2022-08-02T13:24:07.317Z"
   },
   {
    "duration": 14,
    "start_time": "2022-08-02T13:24:07.531Z"
   },
   {
    "duration": 38,
    "start_time": "2022-08-02T13:24:07.548Z"
   },
   {
    "duration": 3,
    "start_time": "2022-08-02T13:24:07.602Z"
   },
   {
    "duration": 12,
    "start_time": "2022-08-02T13:24:07.607Z"
   },
   {
    "duration": 12,
    "start_time": "2022-08-02T13:24:07.621Z"
   },
   {
    "duration": 11,
    "start_time": "2022-08-02T13:24:07.635Z"
   },
   {
    "duration": 35,
    "start_time": "2022-08-02T13:24:07.648Z"
   },
   {
    "duration": 34,
    "start_time": "2022-08-02T13:24:07.686Z"
   },
   {
    "duration": 35,
    "start_time": "2022-08-02T13:24:07.722Z"
   },
   {
    "duration": 83,
    "start_time": "2022-08-02T13:24:07.758Z"
   },
   {
    "duration": 92,
    "start_time": "2022-08-02T13:24:07.843Z"
   },
   {
    "duration": 77,
    "start_time": "2022-08-02T13:24:07.937Z"
   },
   {
    "duration": 38,
    "start_time": "2022-08-02T13:24:08.016Z"
   },
   {
    "duration": 102,
    "start_time": "2022-08-02T13:24:08.055Z"
   },
   {
    "duration": 45,
    "start_time": "2022-08-02T13:24:08.159Z"
   },
   {
    "duration": 13,
    "start_time": "2022-08-02T13:24:08.206Z"
   },
   {
    "duration": 12,
    "start_time": "2022-08-02T13:24:08.221Z"
   },
   {
    "duration": 4,
    "start_time": "2022-08-02T13:24:08.235Z"
   },
   {
    "duration": 22,
    "start_time": "2022-08-02T13:24:08.241Z"
   },
   {
    "duration": 42,
    "start_time": "2022-08-02T13:24:08.265Z"
   },
   {
    "duration": 14,
    "start_time": "2022-08-02T13:24:08.309Z"
   },
   {
    "duration": 34,
    "start_time": "2022-08-02T13:24:08.325Z"
   },
   {
    "duration": 19,
    "start_time": "2022-08-02T13:24:08.361Z"
   },
   {
    "duration": 21,
    "start_time": "2022-08-02T13:24:08.382Z"
   },
   {
    "duration": 10,
    "start_time": "2022-08-02T13:24:08.405Z"
   },
   {
    "duration": 23,
    "start_time": "2022-08-02T13:24:08.420Z"
   },
   {
    "duration": 12,
    "start_time": "2022-08-02T13:24:08.445Z"
   },
   {
    "duration": 19,
    "start_time": "2022-08-02T13:24:08.459Z"
   },
   {
    "duration": 24,
    "start_time": "2022-08-02T13:24:08.479Z"
   },
   {
    "duration": 8,
    "start_time": "2022-08-02T13:24:08.505Z"
   },
   {
    "duration": 6,
    "start_time": "2022-08-02T13:24:08.515Z"
   },
   {
    "duration": 5,
    "start_time": "2022-08-02T13:24:08.523Z"
   },
   {
    "duration": 10,
    "start_time": "2022-08-02T13:24:08.529Z"
   },
   {
    "duration": 11,
    "start_time": "2022-08-02T13:24:08.541Z"
   },
   {
    "duration": 10,
    "start_time": "2022-08-02T13:24:08.554Z"
   },
   {
    "duration": 7,
    "start_time": "2022-08-02T13:24:08.566Z"
   },
   {
    "duration": 19,
    "start_time": "2022-08-02T13:24:16.541Z"
   },
   {
    "duration": 18,
    "start_time": "2022-08-02T13:24:26.037Z"
   },
   {
    "duration": 21,
    "start_time": "2022-08-02T13:24:30.685Z"
   },
   {
    "duration": 32,
    "start_time": "2022-08-02T13:25:14.058Z"
   },
   {
    "duration": 21,
    "start_time": "2022-08-02T13:25:24.673Z"
   },
   {
    "duration": 21,
    "start_time": "2022-08-02T13:25:42.034Z"
   },
   {
    "duration": 21,
    "start_time": "2022-08-02T13:26:32.700Z"
   },
   {
    "duration": 19,
    "start_time": "2022-08-02T13:26:41.558Z"
   },
   {
    "duration": 20,
    "start_time": "2022-08-02T13:27:23.808Z"
   },
   {
    "duration": 20,
    "start_time": "2022-08-02T13:27:55.398Z"
   },
   {
    "duration": 21,
    "start_time": "2022-08-02T13:28:02.667Z"
   },
   {
    "duration": 3,
    "start_time": "2022-08-02T13:28:46.062Z"
   },
   {
    "duration": 192,
    "start_time": "2022-08-02T13:28:46.067Z"
   },
   {
    "duration": 12,
    "start_time": "2022-08-02T13:28:46.261Z"
   },
   {
    "duration": 46,
    "start_time": "2022-08-02T13:28:46.275Z"
   },
   {
    "duration": 3,
    "start_time": "2022-08-02T13:28:46.323Z"
   },
   {
    "duration": 8,
    "start_time": "2022-08-02T13:28:46.328Z"
   },
   {
    "duration": 15,
    "start_time": "2022-08-02T13:28:46.338Z"
   },
   {
    "duration": 7,
    "start_time": "2022-08-02T13:28:46.355Z"
   },
   {
    "duration": 49,
    "start_time": "2022-08-02T13:28:46.364Z"
   },
   {
    "duration": 20,
    "start_time": "2022-08-02T13:28:46.416Z"
   },
   {
    "duration": 33,
    "start_time": "2022-08-02T13:28:46.438Z"
   },
   {
    "duration": 106,
    "start_time": "2022-08-02T13:28:46.473Z"
   },
   {
    "duration": 78,
    "start_time": "2022-08-02T13:28:46.581Z"
   },
   {
    "duration": 76,
    "start_time": "2022-08-02T13:28:46.661Z"
   },
   {
    "duration": 41,
    "start_time": "2022-08-02T13:28:46.739Z"
   },
   {
    "duration": 163,
    "start_time": "2022-08-02T13:28:46.782Z"
   },
   {
    "duration": 38,
    "start_time": "2022-08-02T13:28:46.947Z"
   },
   {
    "duration": 26,
    "start_time": "2022-08-02T13:28:46.987Z"
   },
   {
    "duration": 14,
    "start_time": "2022-08-02T13:28:47.015Z"
   },
   {
    "duration": 5,
    "start_time": "2022-08-02T13:28:47.031Z"
   },
   {
    "duration": 28,
    "start_time": "2022-08-02T13:28:47.038Z"
   },
   {
    "duration": 43,
    "start_time": "2022-08-02T13:28:47.068Z"
   },
   {
    "duration": 15,
    "start_time": "2022-08-02T13:28:47.113Z"
   },
   {
    "duration": 14,
    "start_time": "2022-08-02T13:28:47.129Z"
   },
   {
    "duration": 17,
    "start_time": "2022-08-02T13:28:47.145Z"
   },
   {
    "duration": 48,
    "start_time": "2022-08-02T13:28:47.164Z"
   },
   {
    "duration": 9,
    "start_time": "2022-08-02T13:28:47.215Z"
   },
   {
    "duration": 20,
    "start_time": "2022-08-02T13:28:47.227Z"
   },
   {
    "duration": 15,
    "start_time": "2022-08-02T13:28:47.249Z"
   },
   {
    "duration": 38,
    "start_time": "2022-08-02T13:28:47.266Z"
   },
   {
    "duration": 19,
    "start_time": "2022-08-02T13:28:50.545Z"
   },
   {
    "duration": 25,
    "start_time": "2022-08-02T13:29:03.710Z"
   },
   {
    "duration": 26,
    "start_time": "2022-08-02T13:29:06.539Z"
   },
   {
    "duration": 20,
    "start_time": "2022-08-02T13:29:15.243Z"
   },
   {
    "duration": 8,
    "start_time": "2022-08-02T13:29:52.143Z"
   },
   {
    "duration": 8,
    "start_time": "2022-08-02T13:29:58.789Z"
   },
   {
    "duration": 28,
    "start_time": "2022-08-02T13:30:06.215Z"
   },
   {
    "duration": 27,
    "start_time": "2022-08-02T13:30:10.560Z"
   },
   {
    "duration": 27,
    "start_time": "2022-08-02T13:32:18.371Z"
   },
   {
    "duration": 6,
    "start_time": "2022-08-02T13:32:23.871Z"
   },
   {
    "duration": 17,
    "start_time": "2022-08-02T13:33:42.342Z"
   },
   {
    "duration": 13,
    "start_time": "2022-08-02T13:34:07.360Z"
   },
   {
    "duration": 21,
    "start_time": "2022-08-02T13:34:42.343Z"
   },
   {
    "duration": 16,
    "start_time": "2022-08-02T13:35:19.441Z"
   },
   {
    "duration": 49,
    "start_time": "2022-08-02T13:46:10.573Z"
   },
   {
    "duration": 4,
    "start_time": "2022-08-02T13:46:25.436Z"
   },
   {
    "duration": 195,
    "start_time": "2022-08-02T13:46:25.443Z"
   },
   {
    "duration": 13,
    "start_time": "2022-08-02T13:46:25.640Z"
   },
   {
    "duration": 49,
    "start_time": "2022-08-02T13:46:25.655Z"
   },
   {
    "duration": 3,
    "start_time": "2022-08-02T13:46:25.707Z"
   },
   {
    "duration": 13,
    "start_time": "2022-08-02T13:46:25.712Z"
   },
   {
    "duration": 9,
    "start_time": "2022-08-02T13:46:25.727Z"
   },
   {
    "duration": 4,
    "start_time": "2022-08-02T13:46:25.738Z"
   },
   {
    "duration": 28,
    "start_time": "2022-08-02T13:46:25.744Z"
   },
   {
    "duration": 45,
    "start_time": "2022-08-02T13:46:25.774Z"
   },
   {
    "duration": 27,
    "start_time": "2022-08-02T13:46:25.821Z"
   },
   {
    "duration": 90,
    "start_time": "2022-08-02T13:46:25.850Z"
   },
   {
    "duration": 80,
    "start_time": "2022-08-02T13:46:25.942Z"
   },
   {
    "duration": 61,
    "start_time": "2022-08-02T13:46:26.025Z"
   },
   {
    "duration": 49,
    "start_time": "2022-08-02T13:46:26.087Z"
   },
   {
    "duration": 103,
    "start_time": "2022-08-02T13:46:26.137Z"
   },
   {
    "duration": 37,
    "start_time": "2022-08-02T13:46:26.242Z"
   },
   {
    "duration": 28,
    "start_time": "2022-08-02T13:46:26.281Z"
   },
   {
    "duration": 12,
    "start_time": "2022-08-02T13:46:26.310Z"
   },
   {
    "duration": 12,
    "start_time": "2022-08-02T13:46:26.324Z"
   },
   {
    "duration": 52,
    "start_time": "2022-08-02T13:46:26.337Z"
   },
   {
    "duration": 60,
    "start_time": "2022-08-02T13:46:26.393Z"
   },
   {
    "duration": 42,
    "start_time": "2022-08-02T13:46:26.455Z"
   },
   {
    "duration": 28,
    "start_time": "2022-08-02T13:46:26.499Z"
   },
   {
    "duration": 23,
    "start_time": "2022-08-02T13:46:26.529Z"
   },
   {
    "duration": 16,
    "start_time": "2022-08-02T13:46:26.554Z"
   },
   {
    "duration": 11,
    "start_time": "2022-08-02T13:46:26.572Z"
   },
   {
    "duration": 27,
    "start_time": "2022-08-02T13:46:26.603Z"
   },
   {
    "duration": 27,
    "start_time": "2022-08-02T13:46:26.631Z"
   },
   {
    "duration": 7,
    "start_time": "2022-08-02T13:46:26.660Z"
   },
   {
    "duration": 37,
    "start_time": "2022-08-02T13:46:26.669Z"
   },
   {
    "duration": 22,
    "start_time": "2022-08-02T13:46:26.708Z"
   },
   {
    "duration": 34,
    "start_time": "2022-08-02T13:46:26.732Z"
   },
   {
    "duration": 18,
    "start_time": "2022-08-02T13:46:26.767Z"
   },
   {
    "duration": 29,
    "start_time": "2022-08-02T13:46:28.243Z"
   },
   {
    "duration": 34,
    "start_time": "2022-08-02T13:46:58.877Z"
   },
   {
    "duration": 13,
    "start_time": "2022-08-02T13:47:22.798Z"
   },
   {
    "duration": 7,
    "start_time": "2022-08-02T13:47:51.044Z"
   },
   {
    "duration": 7,
    "start_time": "2022-08-02T13:49:01.176Z"
   },
   {
    "duration": 6,
    "start_time": "2022-08-02T13:49:21.504Z"
   },
   {
    "duration": 435,
    "start_time": "2022-10-23T16:56:08.356Z"
   },
   {
    "duration": 512,
    "start_time": "2022-10-23T16:56:31.169Z"
   },
   {
    "duration": 493,
    "start_time": "2022-10-23T17:45:25.831Z"
   }
  ],
  "celltoolbar": "Редактировать метаданные",
  "colab": {
   "collapsed_sections": [
    "E0vqbgi9ay0H",
    "VUC88oWjTJw2"
   ],
   "name": "automatization_template_upd4.ipynb",
   "provenance": []
  },
  "kernelspec": {
   "display_name": "Python 3 (ipykernel)",
   "language": "python",
   "name": "python3"
  },
  "language_info": {
   "codemirror_mode": {
    "name": "ipython",
    "version": 3
   },
   "file_extension": ".py",
   "mimetype": "text/x-python",
   "name": "python",
   "nbconvert_exporter": "python",
   "pygments_lexer": "ipython3",
   "version": "3.9.16"
  },
  "toc": {
   "base_numbering": 1,
   "nav_menu": {
    "height": "215px",
    "width": "403px"
   },
   "number_sections": true,
   "sideBar": true,
   "skip_h1_title": true,
   "title_cell": "Table of Contents",
   "title_sidebar": "Contents",
   "toc_cell": false,
   "toc_position": {
    "height": "calc(100% - 180px)",
    "left": "10px",
    "top": "150px",
    "width": "285.825px"
   },
   "toc_section_display": true,
   "toc_window_display": false
  }
 },
 "nbformat": 4,
 "nbformat_minor": 1
}
