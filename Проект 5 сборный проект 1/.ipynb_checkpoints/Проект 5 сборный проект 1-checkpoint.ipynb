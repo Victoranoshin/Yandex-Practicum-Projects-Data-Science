{
 "cells": [
  {
   "cell_type": "markdown",
   "metadata": {
    "toc": true
   },
   "source": [
    "<h1>Содержание<span class=\"tocSkip\"></span></h1>\n",
    "<div class=\"toc\"><ul class=\"toc-item\"><li><span><a href=\"#Открыть-файл-с-данными-и-изучите-общую-информацию\" data-toc-modified-id=\"Открыть-файл-с-данными-и-изучите-общую-информацию-1\"><span class=\"toc-item-num\">1&nbsp;&nbsp;</span>Открыть файл с данными и изучите общую информацию</a></span></li><li><span><a href=\"#Подготовка-данных\" data-toc-modified-id=\"Подготовка-данных-2\"><span class=\"toc-item-num\">2&nbsp;&nbsp;</span>Подготовка данных</a></span><ul class=\"toc-item\"><li><span><a href=\"#Преобразование-данных-в-нужные-типы-и-обработка-пропусков\" data-toc-modified-id=\"Преобразование-данных-в-нужные-типы-и-обработка-пропусков-2.1\"><span class=\"toc-item-num\">2.1&nbsp;&nbsp;</span>Преобразование данных в нужные типы и обработка пропусков</a></span></li><li><span><a href=\"#Обработка-пропусков\" data-toc-modified-id=\"Обработка-пропусков-2.2\"><span class=\"toc-item-num\">2.2&nbsp;&nbsp;</span>Обработка пропусков</a></span></li></ul></li><li><span><a href=\"#Исследовательский-анализ-данных\" data-toc-modified-id=\"Исследовательский-анализ-данных-3\"><span class=\"toc-item-num\">3&nbsp;&nbsp;</span>Исследовательский анализ данных</a></span><ul class=\"toc-item\"><li><span><a href=\"#Выяснить,-сколько-игр-выпускалось-в-разные-годы.-Важны-ли-данные-за-все-периоды?\" data-toc-modified-id=\"Выяснить,-сколько-игр-выпускалось-в-разные-годы.-Важны-ли-данные-за-все-периоды?-3.1\"><span class=\"toc-item-num\">3.1&nbsp;&nbsp;</span>Выяснить, сколько игр выпускалось в разные годы. Важны ли данные за все периоды?</a></span></li><li><span><a href=\"#Посмотреть,-как-менялись-продажи-по-платформам.\" data-toc-modified-id=\"Посмотреть,-как-менялись-продажи-по-платформам.-3.2\"><span class=\"toc-item-num\">3.2&nbsp;&nbsp;</span>Посмотреть, как менялись продажи по платформам.</a></span></li><li><span><a href=\"#Взять-данные-за-соответствующий-актуальный-период.\" data-toc-modified-id=\"Взять-данные-за-соответствующий-актуальный-период.-3.3\"><span class=\"toc-item-num\">3.3&nbsp;&nbsp;</span>Взять данные за соответствующий актуальный период.</a></span></li><li><span><a href=\"#Какие-платформы-лидируют-по-продажам,-растут-или-падают?\" data-toc-modified-id=\"Какие-платформы-лидируют-по-продажам,-растут-или-падают?-3.4\"><span class=\"toc-item-num\">3.4&nbsp;&nbsp;</span>Какие платформы лидируют по продажам, растут или падают?</a></span></li><li><span><a href=\"#Построить-график-«ящик-с-усами»-по-глобальным-продажам-игр-в-разбивке-по-платформам\" data-toc-modified-id=\"Построить-график-«ящик-с-усами»-по-глобальным-продажам-игр-в-разбивке-по-платформам-3.5\"><span class=\"toc-item-num\">3.5&nbsp;&nbsp;</span>Построить график «ящик с усами» по глобальным продажам игр в разбивке по платформам</a></span></li><li><span><a href=\"#Посмотреть,-как-влияют-на-продажи-внутри-одной-популярной-платформы-отзывы-пользователей-и-критиков\" data-toc-modified-id=\"Посмотреть,-как-влияют-на-продажи-внутри-одной-популярной-платформы-отзывы-пользователей-и-критиков-3.6\"><span class=\"toc-item-num\">3.6&nbsp;&nbsp;</span>Посмотреть, как влияют на продажи внутри одной популярной платформы отзывы пользователей и критиков</a></span><ul class=\"toc-item\"><li><span><a href=\"#Платформа-PS4\" data-toc-modified-id=\"Платформа-PS4-3.6.1\"><span class=\"toc-item-num\">3.6.1&nbsp;&nbsp;</span>Платформа PS4</a></span></li><li><span><a href=\"#Платформа-XOne\" data-toc-modified-id=\"Платформа-XOne-3.6.2\"><span class=\"toc-item-num\">3.6.2&nbsp;&nbsp;</span>Платформа XOne</a></span></li><li><span><a href=\"#Платформа-3DS\" data-toc-modified-id=\"Платформа-3DS-3.6.3\"><span class=\"toc-item-num\">3.6.3&nbsp;&nbsp;</span>Платформа 3DS</a></span></li></ul></li><li><span><a href=\"#Посмотреть-на-общее-распределение-игр-по-жанрам.-Что-можно-сказать-о-самых-прибыльных-жанрах?\" data-toc-modified-id=\"Посмотреть-на-общее-распределение-игр-по-жанрам.-Что-можно-сказать-о-самых-прибыльных-жанрах?-3.7\"><span class=\"toc-item-num\">3.7&nbsp;&nbsp;</span>Посмотреть на общее распределение игр по жанрам. Что можно сказать о самых прибыльных жанрах?</a></span></li></ul></li><li><span><a href=\"#Составить-портрет-пользователя-каждого-региона--(NA,-EU,-JP)\" data-toc-modified-id=\"Составить-портрет-пользователя-каждого-региона--(NA,-EU,-JP)-4\"><span class=\"toc-item-num\">4&nbsp;&nbsp;</span>Составить портрет пользователя каждого региона  (NA, EU, JP)</a></span><ul class=\"toc-item\"><li><span><a href=\"#Регион-NA\" data-toc-modified-id=\"Регион-NA-4.1\"><span class=\"toc-item-num\">4.1&nbsp;&nbsp;</span>Регион NA</a></span></li><li><span><a href=\"#Регион-EU\" data-toc-modified-id=\"Регион-EU-4.2\"><span class=\"toc-item-num\">4.2&nbsp;&nbsp;</span>Регион EU</a></span></li><li><span><a href=\"#Регион-JP\" data-toc-modified-id=\"Регион-JP-4.3\"><span class=\"toc-item-num\">4.3&nbsp;&nbsp;</span>Регион JP</a></span></li></ul></li><li><span><a href=\"#Проверка-гипотез\" data-toc-modified-id=\"Проверка-гипотез-5\"><span class=\"toc-item-num\">5&nbsp;&nbsp;</span>Проверка гипотез</a></span><ul class=\"toc-item\"><li><span><a href=\"#Гипотеза-1\" data-toc-modified-id=\"Гипотеза-1-5.1\"><span class=\"toc-item-num\">5.1&nbsp;&nbsp;</span>Гипотеза 1</a></span></li><li><span><a href=\"#Гипотеза-2\" data-toc-modified-id=\"Гипотеза-2-5.2\"><span class=\"toc-item-num\">5.2&nbsp;&nbsp;</span>Гипотеза 2</a></span></li></ul></li><li><span><a href=\"#Вывод\" data-toc-modified-id=\"Вывод-6\"><span class=\"toc-item-num\">6&nbsp;&nbsp;</span>Вывод</a></span></li></ul></div>"
   ]
  },
  {
   "cell_type": "markdown",
   "metadata": {},
   "source": [
    "# Описание проекта"
   ]
  },
  {
   "cell_type": "markdown",
   "metadata": {},
   "source": [
    "Вы работаете в интернет-магазине «Стримчик», который продаёт по всему миру компьютерные игры. \n",
    "\n",
    "Из открытых источников доступны исторические данные о продажах игр, оценки пользователей и экспертов, жанры и платформы. Вам нужно выявить закономерности, определяющие успешность игры. Это позволит сделать ставку на потенциально популярный продукт и спланировать рекламные кампании.\n",
    "\n",
    "Перед вами данные до 2016 года. Представим, что сейчас декабрь 2016 г., и вы планируете кампанию на 2017-й. Нужно отработать принцип работы с данными.\n",
    "\n",
    "В наборе данных попадается аббревиатура ESRB (Entertainment Software Rating Board) — это ассоциация, определяющая возрастной рейтинг компьютерных игр. ESRB оценивает игровой контент и присваивает ему подходящую возрастную категорию, например, «Для взрослых», «Для детей младшего возраста» или «Для подростков»."
   ]
  },
  {
   "cell_type": "markdown",
   "metadata": {},
   "source": [
    "# Порядок выполнения проекта"
   ]
  },
  {
   "cell_type": "markdown",
   "metadata": {},
   "source": [
    "<b> Шаг 1. Открыть файл с данными и изучите общую информацию </b>\n",
    "\n",
    "<b>Шаг 2. Подготовить данные</b>\n",
    "1. Заменить названия столбцов (приведите к нижнему регистру);\n",
    "2. Преобразовать данные в нужные типы. Описать, в каких столбцах заменили тип данных и почему;\n",
    "3. Обработать пропуски при необходимости:\n",
    "    - Объяснить, почему пропуски заполенены определённым образом или почему не стали это делать;\n",
    "    - Описать причины, которые могли привести к пропускам;\n",
    "    \n",
    "4. Посчитайть суммарные продажи во всех регионах и запишите их в отдельный столбец.\n",
    "\n",
    "<b>Шаг 3. Провести исследовательский анализ данных</b>\n",
    "1. Посмотреть, сколько игр выпускалось в разные годы. \n",
    "2. Посмотреть, как менялись продажи по платформам. Выберать платформы с наибольшими суммарными продажами и построить распределение по годам. За какой характерный срок появляются новые и исчезают старые платформы?\n",
    "3. Возять данные за соответствующий актуальный период. Определить актуальный период. Основной фактор — эти данные помогут построить прогноз на 2017 год.\n",
    "4. Не учитывать в работе данные за предыдущие годы.\n",
    "5. Какие платформы лидируют по продажам, растут или падают? Выберать несколько потенциально прибыльных платформ.\n",
    "6. Построить график «ящик с усами» по глобальным продажам игр в разбивке по платформам. Опишисать результат.\n",
    "7. Посмотреть, как влияют на продажи внутри одной популярной платформы отзывы пользователей и критиков. Построить диаграмму рассеяния и посчитайте корреляцию между отзывами и продажами. Сформулировать выводы.\n",
    "8. Соотнести выводы с продажами игр на других платформах.\n",
    "9. Посмотреть на общее распределение игр по жанрам. Что можно сказать о самых прибыльных жанрах? Выделяются ли жанры с высокими и низкими продажами?\n",
    "\n",
    "<b> Шаг 4. Составить портрет пользователя каждого региона </b>\n",
    "Определить для пользователя каждого региона (NA, EU, JP):\n",
    "- Самые популярные платформы (топ-5). Описать различия в долях продаж.\n",
    "- Самые популярные жанры (топ-5). Пояснить разницу.\n",
    "- Влияет ли рейтинг ESRB на продажи в отдельном регионе?\n",
    "    \n",
    "<b> Шаг 5. Проверьте гипотезы </b>\n",
    "- Средние пользовательские рейтинги платформ Xbox One и PC одинаковые;\n",
    "- Средние пользовательские рейтинги жанров Action (англ. «действие», экшен-игры) и Sports (англ. «спортивные соревнования») разные.\n",
    "\n",
    "Задайть пороговое значение alpha.\n",
    "Поясните:\n",
    "- Как формулировалась нулевая и альтернативная гипотезы;\n",
    "- Какой критерий применили для проверки гипотез и почему.\n",
    "\n",
    "<b> Шаг 6. Написать общий вывод </b>"
   ]
  },
  {
   "cell_type": "markdown",
   "metadata": {},
   "source": [
    "## Открыть файл с данными и изучите общую информацию"
   ]
  },
  {
   "cell_type": "code",
   "execution_count": 60,
   "metadata": {},
   "outputs": [],
   "source": [
    "import pandas as pd\n",
    "import numpy as np\n",
    "import matplotlib.pyplot as plt\n",
    "from scipy import stats as stat\n",
    "import seaborn as sns"
   ]
  },
  {
   "cell_type": "code",
   "execution_count": 61,
   "metadata": {},
   "outputs": [],
   "source": [
    "data = pd.read_csv('/datasets/games.csv')\n"
   ]
  },
  {
   "cell_type": "code",
   "execution_count": 62,
   "metadata": {},
   "outputs": [
    {
     "name": "stdout",
     "output_type": "stream",
     "text": [
      "<class 'pandas.core.frame.DataFrame'>\n",
      "RangeIndex: 16715 entries, 0 to 16714\n",
      "Data columns (total 11 columns):\n",
      " #   Column           Non-Null Count  Dtype  \n",
      "---  ------           --------------  -----  \n",
      " 0   Name             16713 non-null  object \n",
      " 1   Platform         16715 non-null  object \n",
      " 2   Year_of_Release  16446 non-null  float64\n",
      " 3   Genre            16713 non-null  object \n",
      " 4   NA_sales         16715 non-null  float64\n",
      " 5   EU_sales         16715 non-null  float64\n",
      " 6   JP_sales         16715 non-null  float64\n",
      " 7   Other_sales      16715 non-null  float64\n",
      " 8   Critic_Score     8137 non-null   float64\n",
      " 9   User_Score       10014 non-null  object \n",
      " 10  Rating           9949 non-null   object \n",
      "dtypes: float64(6), object(5)\n",
      "memory usage: 1.4+ MB\n"
     ]
    }
   ],
   "source": [
    "data_shape0 = data.shape[0]\n",
    "data.info()"
   ]
  },
  {
   "cell_type": "code",
   "execution_count": 63,
   "metadata": {
    "scrolled": false
   },
   "outputs": [
    {
     "data": {
      "text/html": [
       "<div>\n",
       "<style scoped>\n",
       "    .dataframe tbody tr th:only-of-type {\n",
       "        vertical-align: middle;\n",
       "    }\n",
       "\n",
       "    .dataframe tbody tr th {\n",
       "        vertical-align: top;\n",
       "    }\n",
       "\n",
       "    .dataframe thead th {\n",
       "        text-align: right;\n",
       "    }\n",
       "</style>\n",
       "<table border=\"1\" class=\"dataframe\">\n",
       "  <thead>\n",
       "    <tr style=\"text-align: right;\">\n",
       "      <th></th>\n",
       "      <th>Name</th>\n",
       "      <th>Platform</th>\n",
       "      <th>Year_of_Release</th>\n",
       "      <th>Genre</th>\n",
       "      <th>NA_sales</th>\n",
       "      <th>EU_sales</th>\n",
       "      <th>JP_sales</th>\n",
       "      <th>Other_sales</th>\n",
       "      <th>Critic_Score</th>\n",
       "      <th>User_Score</th>\n",
       "      <th>Rating</th>\n",
       "    </tr>\n",
       "  </thead>\n",
       "  <tbody>\n",
       "    <tr>\n",
       "      <th>0</th>\n",
       "      <td>Wii Sports</td>\n",
       "      <td>Wii</td>\n",
       "      <td>2006.0</td>\n",
       "      <td>Sports</td>\n",
       "      <td>41.36</td>\n",
       "      <td>28.96</td>\n",
       "      <td>3.77</td>\n",
       "      <td>8.45</td>\n",
       "      <td>76.0</td>\n",
       "      <td>8</td>\n",
       "      <td>E</td>\n",
       "    </tr>\n",
       "    <tr>\n",
       "      <th>1</th>\n",
       "      <td>Super Mario Bros.</td>\n",
       "      <td>NES</td>\n",
       "      <td>1985.0</td>\n",
       "      <td>Platform</td>\n",
       "      <td>29.08</td>\n",
       "      <td>3.58</td>\n",
       "      <td>6.81</td>\n",
       "      <td>0.77</td>\n",
       "      <td>NaN</td>\n",
       "      <td>NaN</td>\n",
       "      <td>NaN</td>\n",
       "    </tr>\n",
       "    <tr>\n",
       "      <th>2</th>\n",
       "      <td>Mario Kart Wii</td>\n",
       "      <td>Wii</td>\n",
       "      <td>2008.0</td>\n",
       "      <td>Racing</td>\n",
       "      <td>15.68</td>\n",
       "      <td>12.76</td>\n",
       "      <td>3.79</td>\n",
       "      <td>3.29</td>\n",
       "      <td>82.0</td>\n",
       "      <td>8.3</td>\n",
       "      <td>E</td>\n",
       "    </tr>\n",
       "    <tr>\n",
       "      <th>3</th>\n",
       "      <td>Wii Sports Resort</td>\n",
       "      <td>Wii</td>\n",
       "      <td>2009.0</td>\n",
       "      <td>Sports</td>\n",
       "      <td>15.61</td>\n",
       "      <td>10.93</td>\n",
       "      <td>3.28</td>\n",
       "      <td>2.95</td>\n",
       "      <td>80.0</td>\n",
       "      <td>8</td>\n",
       "      <td>E</td>\n",
       "    </tr>\n",
       "    <tr>\n",
       "      <th>4</th>\n",
       "      <td>Pokemon Red/Pokemon Blue</td>\n",
       "      <td>GB</td>\n",
       "      <td>1996.0</td>\n",
       "      <td>Role-Playing</td>\n",
       "      <td>11.27</td>\n",
       "      <td>8.89</td>\n",
       "      <td>10.22</td>\n",
       "      <td>1.00</td>\n",
       "      <td>NaN</td>\n",
       "      <td>NaN</td>\n",
       "      <td>NaN</td>\n",
       "    </tr>\n",
       "  </tbody>\n",
       "</table>\n",
       "</div>"
      ],
      "text/plain": [
       "                       Name Platform  Year_of_Release         Genre  NA_sales  \\\n",
       "0                Wii Sports      Wii           2006.0        Sports     41.36   \n",
       "1         Super Mario Bros.      NES           1985.0      Platform     29.08   \n",
       "2            Mario Kart Wii      Wii           2008.0        Racing     15.68   \n",
       "3         Wii Sports Resort      Wii           2009.0        Sports     15.61   \n",
       "4  Pokemon Red/Pokemon Blue       GB           1996.0  Role-Playing     11.27   \n",
       "\n",
       "   EU_sales  JP_sales  Other_sales  Critic_Score User_Score Rating  \n",
       "0     28.96      3.77         8.45          76.0          8      E  \n",
       "1      3.58      6.81         0.77           NaN        NaN    NaN  \n",
       "2     12.76      3.79         3.29          82.0        8.3      E  \n",
       "3     10.93      3.28         2.95          80.0          8      E  \n",
       "4      8.89     10.22         1.00           NaN        NaN    NaN  "
      ]
     },
     "execution_count": 63,
     "metadata": {},
     "output_type": "execute_result"
    }
   ],
   "source": [
    "data.head(5)"
   ]
  },
  {
   "cell_type": "code",
   "execution_count": 64,
   "metadata": {},
   "outputs": [],
   "source": [
    "data.columns = [x.lower() for x in data.columns] # приведение к нижнему регистру названий колонок"
   ]
  },
  {
   "cell_type": "code",
   "execution_count": 65,
   "metadata": {
    "scrolled": true
   },
   "outputs": [
    {
     "data": {
      "text/plain": [
       "name                  2\n",
       "platform              0\n",
       "year_of_release     269\n",
       "genre                 2\n",
       "na_sales              0\n",
       "eu_sales              0\n",
       "jp_sales              0\n",
       "other_sales           0\n",
       "critic_score       8578\n",
       "user_score         6701\n",
       "rating             6766\n",
       "dtype: int64"
      ]
     },
     "execution_count": 65,
     "metadata": {},
     "output_type": "execute_result"
    }
   ],
   "source": [
    "data.isna().sum() # подсчет количества пропущенных значений "
   ]
  },
  {
   "cell_type": "markdown",
   "metadata": {},
   "source": [
    "## Подготовка данных"
   ]
  },
  {
   "cell_type": "markdown",
   "metadata": {},
   "source": [
    "### Преобразование данных в нужные типы и обработка пропусков"
   ]
  },
  {
   "cell_type": "code",
   "execution_count": 66,
   "metadata": {},
   "outputs": [],
   "source": [
    "data = data.dropna(subset =['year_of_release', 'name']) # удаление пропусков из столбца year_of_release"
   ]
  },
  {
   "cell_type": "markdown",
   "metadata": {},
   "source": [
    "В столбцах `year_of_release` и `name` есть пропуски, скорее всего, они появились из-за ошибки ввода данных. \n",
    "\n",
    "Количество пропусков в столбцах `year_of_release` и `name` небольшое, поэтому строки с пропусками в этих столбцах можно удалить."
   ]
  },
  {
   "cell_type": "code",
   "execution_count": 67,
   "metadata": {},
   "outputs": [],
   "source": [
    "data.loc[data['user_score'].str.isalpha() ==True, 'user_score'] = np.nan # замена значения \"tbd\" пустыми значениями "
   ]
  },
  {
   "cell_type": "code",
   "execution_count": 68,
   "metadata": {},
   "outputs": [],
   "source": [
    "data = data.astype({'year_of_release': 'int64'}, errors='ignore')# изменение типа данных столбца year_of_release"
   ]
  },
  {
   "cell_type": "code",
   "execution_count": 69,
   "metadata": {},
   "outputs": [],
   "source": [
    "data['user_score'] = pd.to_numeric(data['user_score'], errors='coerce')"
   ]
  },
  {
   "cell_type": "code",
   "execution_count": 70,
   "metadata": {},
   "outputs": [
    {
     "name": "stdout",
     "output_type": "stream",
     "text": [
      "<class 'pandas.core.frame.DataFrame'>\n",
      "Int64Index: 16444 entries, 0 to 16714\n",
      "Data columns (total 11 columns):\n",
      " #   Column           Non-Null Count  Dtype  \n",
      "---  ------           --------------  -----  \n",
      " 0   name             16444 non-null  object \n",
      " 1   platform         16444 non-null  object \n",
      " 2   year_of_release  16444 non-null  int64  \n",
      " 3   genre            16444 non-null  object \n",
      " 4   na_sales         16444 non-null  float64\n",
      " 5   eu_sales         16444 non-null  float64\n",
      " 6   jp_sales         16444 non-null  float64\n",
      " 7   other_sales      16444 non-null  float64\n",
      " 8   critic_score     7983 non-null   float64\n",
      " 9   user_score       7463 non-null   float64\n",
      " 10  rating           9768 non-null   object \n",
      "dtypes: float64(6), int64(1), object(4)\n",
      "memory usage: 1.5+ MB\n"
     ]
    }
   ],
   "source": [
    "data.info()"
   ]
  },
  {
   "cell_type": "markdown",
   "metadata": {},
   "source": [
    "Значения `tbd`в столбце `user_score` можно заменить на значение `Nan`, поскольку скорее всего это аббревиатура от английского To Be Determined (будет определено).\n",
    "\n",
    "Нужно заменить тип данных в столбце `year_of_release`, поскольку год выпуска игры может быть только целым числом.\n",
    "\n",
    "Также необходимо заменить тип данных в столбце `user_score` на `float`, поскольку рейтинг является дробным числом."
   ]
  },
  {
   "cell_type": "markdown",
   "metadata": {},
   "source": [
    "Не будем заполнять пропуски в столбцах `critic_score` и `user_score`, поскольку на значения в этих столбцах может влиять множество факторов, оценить которые довольно трудно. Пропуски в столбце `rating` могли появится, поскольку рейтинговое агентство американское, следовательно, количество оценённых игр, не созданных в США, меньше."
   ]
  },
  {
   "cell_type": "code",
   "execution_count": 71,
   "metadata": {},
   "outputs": [],
   "source": [
    "data['rating'] = data['rating'].fillna('no_information')"
   ]
  },
  {
   "cell_type": "markdown",
   "metadata": {},
   "source": [
    "Пропуски в столбцах `critic_score` и `user_score` заполнены медианными значениями, полученными при группировке по значениям стобца `genre`.\n",
    "\n",
    "Пропуски в столбце `rating` заполним строкой 'no_information'. "
   ]
  },
  {
   "cell_type": "code",
   "execution_count": 13,
   "metadata": {},
   "outputs": [
    {
     "data": {
      "text/plain": [
       "name                  0\n",
       "platform              0\n",
       "year_of_release       0\n",
       "genre                 0\n",
       "na_sales              0\n",
       "eu_sales              0\n",
       "jp_sales              0\n",
       "other_sales           0\n",
       "critic_score       8461\n",
       "user_score         8981\n",
       "rating                0\n",
       "dtype: int64"
      ]
     },
     "execution_count": 13,
     "metadata": {},
     "output_type": "execute_result"
    }
   ],
   "source": [
    "data.isna().sum()"
   ]
  },
  {
   "cell_type": "code",
   "execution_count": 14,
   "metadata": {},
   "outputs": [
    {
     "data": {
      "text/plain": [
       "0.016212982351181626"
      ]
     },
     "execution_count": 14,
     "metadata": {},
     "output_type": "execute_result"
    }
   ],
   "source": [
    "1 - data.shape[0] / data_shape0 # доля потерь после удаления строк"
   ]
  },
  {
   "cell_type": "code",
   "execution_count": 16,
   "metadata": {},
   "outputs": [],
   "source": [
    "data['sum_sales'] = data[['na_sales','eu_sales','jp_sales', 'other_sales']].sum(axis='columns') # суммарные продажи"
   ]
  },
  {
   "cell_type": "markdown",
   "metadata": {},
   "source": [
    "### Обработка пропусков"
   ]
  },
  {
   "cell_type": "markdown",
   "metadata": {},
   "source": [
    "<b>Найдем неявные дубликаты."
   ]
  },
  {
   "cell_type": "code",
   "execution_count": 18,
   "metadata": {},
   "outputs": [
    {
     "data": {
      "text/plain": [
       "array(['2600', '3DO', '3DS', 'DC', 'DS', 'GB', 'GBA', 'GC', 'GEN', 'GG',\n",
       "       'N64', 'NES', 'NG', 'PC', 'PCFX', 'PS', 'PS2', 'PS3', 'PS4', 'PSP',\n",
       "       'PSV', 'SAT', 'SCD', 'SNES', 'TG16', 'WS', 'Wii', 'WiiU', 'X360',\n",
       "       'XB', 'XOne'], dtype=object)"
      ]
     },
     "execution_count": 18,
     "metadata": {},
     "output_type": "execute_result"
    }
   ],
   "source": [
    "np.sort(data['platform'].unique())"
   ]
  },
  {
   "cell_type": "markdown",
   "metadata": {},
   "source": [
    "Явных дубликатов в столбце `platform` нет."
   ]
  },
  {
   "cell_type": "code",
   "execution_count": 19,
   "metadata": {},
   "outputs": [
    {
     "data": {
      "text/plain": [
       "array(['AO', 'E', 'E10+', 'EC', 'K-A', 'M', 'RP', 'T', 'no_information'],\n",
       "      dtype=object)"
      ]
     },
     "execution_count": 19,
     "metadata": {},
     "output_type": "execute_result"
    }
   ],
   "source": [
    "np.sort(data['rating'].unique())"
   ]
  },
  {
   "cell_type": "markdown",
   "metadata": {},
   "source": [
    "Явных дубликатов в столбце `platform` нет."
   ]
  },
  {
   "cell_type": "markdown",
   "metadata": {},
   "source": [
    "<b> Найдем явные дубликаты."
   ]
  },
  {
   "cell_type": "code",
   "execution_count": 20,
   "metadata": {},
   "outputs": [
    {
     "data": {
      "text/html": [
       "<div>\n",
       "<style scoped>\n",
       "    .dataframe tbody tr th:only-of-type {\n",
       "        vertical-align: middle;\n",
       "    }\n",
       "\n",
       "    .dataframe tbody tr th {\n",
       "        vertical-align: top;\n",
       "    }\n",
       "\n",
       "    .dataframe thead th {\n",
       "        text-align: right;\n",
       "    }\n",
       "</style>\n",
       "<table border=\"1\" class=\"dataframe\">\n",
       "  <thead>\n",
       "    <tr style=\"text-align: right;\">\n",
       "      <th></th>\n",
       "      <th>name</th>\n",
       "      <th>platform</th>\n",
       "      <th>year_of_release</th>\n",
       "      <th>genre</th>\n",
       "      <th>na_sales</th>\n",
       "      <th>eu_sales</th>\n",
       "      <th>jp_sales</th>\n",
       "      <th>other_sales</th>\n",
       "      <th>critic_score</th>\n",
       "      <th>user_score</th>\n",
       "      <th>rating</th>\n",
       "      <th>sum_sales</th>\n",
       "    </tr>\n",
       "  </thead>\n",
       "  <tbody>\n",
       "    <tr>\n",
       "      <th>1190</th>\n",
       "      <td>Need for Speed: Most Wanted</td>\n",
       "      <td>X360</td>\n",
       "      <td>2012</td>\n",
       "      <td>Racing</td>\n",
       "      <td>0.62</td>\n",
       "      <td>0.78</td>\n",
       "      <td>0.01</td>\n",
       "      <td>0.15</td>\n",
       "      <td>83.0</td>\n",
       "      <td>8.5</td>\n",
       "      <td>T</td>\n",
       "      <td>1.56</td>\n",
       "    </tr>\n",
       "    <tr>\n",
       "      <th>1591</th>\n",
       "      <td>Need for Speed: Most Wanted</td>\n",
       "      <td>X360</td>\n",
       "      <td>2005</td>\n",
       "      <td>Racing</td>\n",
       "      <td>1.00</td>\n",
       "      <td>0.13</td>\n",
       "      <td>0.02</td>\n",
       "      <td>0.10</td>\n",
       "      <td>83.0</td>\n",
       "      <td>8.5</td>\n",
       "      <td>T</td>\n",
       "      <td>1.25</td>\n",
       "    </tr>\n",
       "  </tbody>\n",
       "</table>\n",
       "</div>"
      ],
      "text/plain": [
       "                             name platform  year_of_release   genre  na_sales  \\\n",
       "1190  Need for Speed: Most Wanted     X360             2012  Racing      0.62   \n",
       "1591  Need for Speed: Most Wanted     X360             2005  Racing      1.00   \n",
       "\n",
       "      eu_sales  jp_sales  other_sales  critic_score  user_score rating  \\\n",
       "1190      0.78      0.01         0.15          83.0         8.5      T   \n",
       "1591      0.13      0.02         0.10          83.0         8.5      T   \n",
       "\n",
       "      sum_sales  \n",
       "1190       1.56  \n",
       "1591       1.25  "
      ]
     },
     "metadata": {},
     "output_type": "display_data"
    },
    {
     "data": {
      "text/html": [
       "<div>\n",
       "<style scoped>\n",
       "    .dataframe tbody tr th:only-of-type {\n",
       "        vertical-align: middle;\n",
       "    }\n",
       "\n",
       "    .dataframe tbody tr th {\n",
       "        vertical-align: top;\n",
       "    }\n",
       "\n",
       "    .dataframe thead th {\n",
       "        text-align: right;\n",
       "    }\n",
       "</style>\n",
       "<table border=\"1\" class=\"dataframe\">\n",
       "  <thead>\n",
       "    <tr style=\"text-align: right;\">\n",
       "      <th></th>\n",
       "      <th>name</th>\n",
       "      <th>platform</th>\n",
       "      <th>year_of_release</th>\n",
       "      <th>genre</th>\n",
       "      <th>na_sales</th>\n",
       "      <th>eu_sales</th>\n",
       "      <th>jp_sales</th>\n",
       "      <th>other_sales</th>\n",
       "      <th>critic_score</th>\n",
       "      <th>user_score</th>\n",
       "      <th>rating</th>\n",
       "      <th>sum_sales</th>\n",
       "    </tr>\n",
       "  </thead>\n",
       "  <tbody>\n",
       "    <tr>\n",
       "      <th>5972</th>\n",
       "      <td>Need for Speed: Most Wanted</td>\n",
       "      <td>PC</td>\n",
       "      <td>2005</td>\n",
       "      <td>Racing</td>\n",
       "      <td>0.02</td>\n",
       "      <td>0.23</td>\n",
       "      <td>0.0</td>\n",
       "      <td>0.04</td>\n",
       "      <td>82.0</td>\n",
       "      <td>8.5</td>\n",
       "      <td>T</td>\n",
       "      <td>0.29</td>\n",
       "    </tr>\n",
       "    <tr>\n",
       "      <th>11715</th>\n",
       "      <td>Need for Speed: Most Wanted</td>\n",
       "      <td>PC</td>\n",
       "      <td>2012</td>\n",
       "      <td>Racing</td>\n",
       "      <td>0.00</td>\n",
       "      <td>0.06</td>\n",
       "      <td>0.0</td>\n",
       "      <td>0.02</td>\n",
       "      <td>82.0</td>\n",
       "      <td>8.5</td>\n",
       "      <td>T</td>\n",
       "      <td>0.08</td>\n",
       "    </tr>\n",
       "  </tbody>\n",
       "</table>\n",
       "</div>"
      ],
      "text/plain": [
       "                              name platform  year_of_release   genre  \\\n",
       "5972   Need for Speed: Most Wanted       PC             2005  Racing   \n",
       "11715  Need for Speed: Most Wanted       PC             2012  Racing   \n",
       "\n",
       "       na_sales  eu_sales  jp_sales  other_sales  critic_score  user_score  \\\n",
       "5972       0.02      0.23       0.0         0.04          82.0         8.5   \n",
       "11715      0.00      0.06       0.0         0.02          82.0         8.5   \n",
       "\n",
       "      rating  sum_sales  \n",
       "5972       T       0.29  \n",
       "11715      T       0.08  "
      ]
     },
     "metadata": {},
     "output_type": "display_data"
    },
    {
     "data": {
      "text/html": [
       "<div>\n",
       "<style scoped>\n",
       "    .dataframe tbody tr th:only-of-type {\n",
       "        vertical-align: middle;\n",
       "    }\n",
       "\n",
       "    .dataframe tbody tr th {\n",
       "        vertical-align: top;\n",
       "    }\n",
       "\n",
       "    .dataframe thead th {\n",
       "        text-align: right;\n",
       "    }\n",
       "</style>\n",
       "<table border=\"1\" class=\"dataframe\">\n",
       "  <thead>\n",
       "    <tr style=\"text-align: right;\">\n",
       "      <th></th>\n",
       "      <th>name</th>\n",
       "      <th>platform</th>\n",
       "      <th>year_of_release</th>\n",
       "      <th>genre</th>\n",
       "      <th>na_sales</th>\n",
       "      <th>eu_sales</th>\n",
       "      <th>jp_sales</th>\n",
       "      <th>other_sales</th>\n",
       "      <th>critic_score</th>\n",
       "      <th>user_score</th>\n",
       "      <th>rating</th>\n",
       "      <th>sum_sales</th>\n",
       "    </tr>\n",
       "  </thead>\n",
       "  <tbody>\n",
       "    <tr>\n",
       "      <th>604</th>\n",
       "      <td>Madden NFL 13</td>\n",
       "      <td>PS3</td>\n",
       "      <td>2012</td>\n",
       "      <td>Sports</td>\n",
       "      <td>2.11</td>\n",
       "      <td>0.22</td>\n",
       "      <td>0.0</td>\n",
       "      <td>0.23</td>\n",
       "      <td>83.0</td>\n",
       "      <td>5.5</td>\n",
       "      <td>E</td>\n",
       "      <td>2.56</td>\n",
       "    </tr>\n",
       "    <tr>\n",
       "      <th>16230</th>\n",
       "      <td>Madden NFL 13</td>\n",
       "      <td>PS3</td>\n",
       "      <td>2012</td>\n",
       "      <td>Sports</td>\n",
       "      <td>0.00</td>\n",
       "      <td>0.01</td>\n",
       "      <td>0.0</td>\n",
       "      <td>0.00</td>\n",
       "      <td>83.0</td>\n",
       "      <td>5.5</td>\n",
       "      <td>E</td>\n",
       "      <td>0.01</td>\n",
       "    </tr>\n",
       "  </tbody>\n",
       "</table>\n",
       "</div>"
      ],
      "text/plain": [
       "                name platform  year_of_release   genre  na_sales  eu_sales  \\\n",
       "604    Madden NFL 13      PS3             2012  Sports      2.11      0.22   \n",
       "16230  Madden NFL 13      PS3             2012  Sports      0.00      0.01   \n",
       "\n",
       "       jp_sales  other_sales  critic_score  user_score rating  sum_sales  \n",
       "604         0.0         0.23          83.0         5.5      E       2.56  \n",
       "16230       0.0         0.00          83.0         5.5      E       0.01  "
      ]
     },
     "metadata": {},
     "output_type": "display_data"
    }
   ],
   "source": [
    "duplicates = data.loc[data.duplicated(subset=['name', 'platform'])][['name', 'platform']]\n",
    "\n",
    "for name, platform in zip(duplicates['name'], duplicates['platform']): # вывод дубликатов для пары столбцов 'name' и 'platform'\n",
    "    display(data.query('(name  == @name) & (platform == @platform)'))\n"
   ]
  },
  {
   "cell_type": "markdown",
   "metadata": {},
   "source": [
    "Для игр `Need for Speed: Most Wanted` для платформы `X360` и `Need for Speed: Most Wanted` для `PC` существуют две записи в таблице, у которых различается год выпуска. Возможно, поздние версии игр, выпущенные в 2012 году, являются ремастерами старых, поэтому эти дубликаты лучше не удалять.\n",
    "\n",
    "Для игры `Madden NFL 13` для платформы `PS3` год выпуска совпадает. Однако, для записи с большим индексом, суммы продаж подозрительно малы, возможно, произошла ошибка при записи данных, поэтому удалим эту строку.\n",
    "\n"
   ]
  },
  {
   "cell_type": "code",
   "execution_count": 21,
   "metadata": {},
   "outputs": [],
   "source": [
    "data.drop(labels = [16230], axis = 0); #удаляем строку"
   ]
  },
  {
   "cell_type": "markdown",
   "metadata": {},
   "source": [
    "## Исследовательский анализ данных"
   ]
  },
  {
   "cell_type": "markdown",
   "metadata": {},
   "source": [
    "### Выяснить, сколько игр выпускалось в разные годы. Важны ли данные за все периоды?"
   ]
  },
  {
   "cell_type": "markdown",
   "metadata": {},
   "source": [
    "Для подсчета числа игр, появившихся в указанный год, не будем учитывать количество платформ, на которых вышла игра. "
   ]
  },
  {
   "cell_type": "code",
   "execution_count": 23,
   "metadata": {},
   "outputs": [
    {
     "data": {
      "image/png": "[encoded data removed]",
      "text/plain": [
       "<Figure size 1080x720 with 1 Axes>"
      ]
     },
     "metadata": {
      "needs_background": "light"
     },
     "output_type": "display_data"
    }
   ],
   "source": [
    "data_groupb_year_of_release = data.\\\n",
    "drop_duplicates(subset=['name', 'year_of_release']).groupby(by = 'year_of_release')['name'].count()# подсчет выпущенных игр по годам\n",
    "data_groupb_year_of_release.plot(grid=True, figsize=(15, 10), \n",
    "                                 xticks=data_groupb_year_of_release.index, rot= 45); # график количества выпушенных игр по годам\n",
    "plt.title('Количество выпущенных игр по годам', fontsize = 17);"
   ]
  },
  {
   "cell_type": "markdown",
   "metadata": {},
   "source": [
    "Игры выпущенных до 1993 относительно мало, поэтому можно удалить информацию о них."
   ]
  },
  {
   "cell_type": "code",
   "execution_count": 24,
   "metadata": {},
   "outputs": [],
   "source": [
    "data = data.query('year_of_release >= 1993') # исключаем информацию об играх до 1993"
   ]
  },
  {
   "cell_type": "markdown",
   "metadata": {},
   "source": [
    "### Посмотреть, как менялись продажи по платформам. "
   ]
  },
  {
   "cell_type": "code",
   "execution_count": 25,
   "metadata": {},
   "outputs": [
    {
     "data": {
      "image/png": "[encoded data removed]",
      "text/plain": [
       "<Figure size 1368x1080 with 1 Axes>"
      ]
     },
     "metadata": {
      "needs_background": "light"
     },
     "output_type": "display_data"
    }
   ],
   "source": [
    "pivot_table_platform_sum_sales = data.pivot_table(index='platform', values='sum_sales', aggfunc='sum').\\\n",
    "sort_values(by='sum_sales', ascending=False) # сводная таблица суммарных продаж для каждой платформы\n",
    "\n",
    "pivot_table_platform_sum_sales.plot(kind= 'barh', figsize=(19,15),  rot = -5,legend = False, fontsize = 16).\\\n",
    "set_title('Cумма продаж для каждой платформы' + '\\n', fontsize = 22, color = 'Blue'); # график суммарных продаж по платформам"
   ]
  },
  {
   "cell_type": "code",
   "execution_count": 26,
   "metadata": {},
   "outputs": [
    {
     "name": "stdout",
     "output_type": "stream",
     "text": [
      "Среднее время существования платформы среди 15 платформ с наибольшей суммой продаж в годах: 9.7\n"
     ]
    },
    {
     "data": {
      "image/png": "[encoded data removed]",
      "text/plain": [
       "<Figure size 1440x720 with 1 Axes>"
      ]
     },
     "metadata": {
      "needs_background": "light"
     },
     "output_type": "display_data"
    }
   ],
   "source": [
    "platforms_best_sails = pivot_table_platform_sum_sales.head(15).index # 15 лучших платформ по продажам\n",
    "plt.figure(figsize=(20, 10))\n",
    "plt.grid(True)\n",
    "plt.title('График количества продаж 15 платформ с наибольшей суммой продаж по годам', fontsize=15)\n",
    "\n",
    "count_elements_of_pivote_table = [] # список для подсчета длительности существования платформ\n",
    "color_index = 0 # индекс для цвета линий графика\n",
    "colors = ['black', 'silver', 'firebrick', 'sandybrown', 'gold',\n",
    "              'olivedrab', 'chartreuse', 'green', 'cyan', 'darkblue', 'coral',\n",
    "              'orange', 'yellow', 'red', 'greenyellow'] # цвета линий графика\n",
    "\n",
    "for platform in platforms_best_sails:\n",
    "    platform_sum_sails_per_year = data.query('platform == @platform').\\\n",
    "    pivot_table(index='year_of_release', values='sum_sales', aggfunc='sum') # таблица продаж для указанной платформы по годам\n",
    "    \n",
    "    count_elements_of_pivote_table.append(platform_sum_sails_per_year.shape[0]) # подсчет длительности существования кажой платформы до 2016 года\n",
    "    \n",
    "    plt.plot(platform_sum_sails_per_year, \n",
    "             label=platform, alpha=0.7,  marker=\"o\", color=colors[color_index])# грфик продаж для платформы по годам\n",
    "    \n",
    "    color_index +=1\n",
    "    \n",
    "plt.legend()\n",
    "\n",
    "print('Среднее время существования платформы среди 15 платформ с наибольшей суммой продаж в годах:', \n",
    "      round(np.mean(count_elements_of_pivote_table), 1))"
   ]
  },
  {
   "cell_type": "markdown",
   "metadata": {},
   "source": [
    "### Взять данные за соответствующий актуальный период."
   ]
  },
  {
   "cell_type": "markdown",
   "metadata": {},
   "source": [
    "Предположим, что актуальный период начинается с 2012 года, поскольку по всем платформам, существующим в 2012 году есть данные о продажах в 2016 году. Также корректно учитывать данные по играм в близкий к 2017 году период времени. "
   ]
  },
  {
   "cell_type": "code",
   "execution_count": 27,
   "metadata": {},
   "outputs": [],
   "source": [
    "data_actual = data.query('2011 < year_of_release') # актуальные данные"
   ]
  },
  {
   "cell_type": "markdown",
   "metadata": {},
   "source": [
    "### Какие платформы лидируют по продажам, растут или падают?"
   ]
  },
  {
   "cell_type": "code",
   "execution_count": 28,
   "metadata": {},
   "outputs": [
    {
     "data": {
      "image/png": "[encoded data removed]",
      "text/plain": [
       "<Figure size 1440x720 with 1 Axes>"
      ]
     },
     "metadata": {
      "needs_background": "light"
     },
     "output_type": "display_data"
    }
   ],
   "source": [
    "\n",
    "plt.figure(figsize=(20, 10))\n",
    "plt.grid(True)\n",
    "plt.title('График суммы продаж игр по платформам с 2012 года', fontsize=15) # создание названия графика\n",
    "\n",
    "\n",
    "actual_platform_sum_sails_per_year = data_actual.pivot_table(index=['platform','year_of_release'],\n",
    "                                                             values='sum_sales', aggfunc='sum').reset_index() # сводная таблица\n",
    "\n",
    "\n",
    "color_index = 0 # индекс для цвета линий графика\n",
    "for platform_actual in actual_platform_sum_sails_per_year['platform'].unique():\n",
    "    \n",
    "    platform_sum_sails_per_year = actual_platform_sum_sails_per_year.\\\n",
    "    query('platform == @platform_actual')[['year_of_release', 'sum_sales']] # суммарные продажи по годам для выбранной платформы\n",
    "    \n",
    "    plt.plot(platform_sum_sails_per_year['year_of_release'], platform_sum_sails_per_year['sum_sales'], \n",
    "             label=platform_actual, alpha=0.7,  marker=\"o\", color=colors[color_index])# график продаж для платформы\n",
    "    color_index += 1\n",
    "\n",
    "plt.legend();"
   ]
  },
  {
   "cell_type": "markdown",
   "metadata": {},
   "source": [
    "Продажи игр большинства платформ падают с 2013 года. \n",
    "\n",
    "Продажи игр платформ `PS4` и `XOne` растут с 2013 года по 2015, но в следующие года падают.\n",
    "\n",
    "Платформы `PS4`, `XOne` и `3DS` можно считать потенциально прибыльными, поскольку у игр данных платформ самые высокие продажи на 2016 год."
   ]
  },
  {
   "cell_type": "markdown",
   "metadata": {},
   "source": [
    "### Построить график «ящик с усами» по глобальным продажам игр в разбивке по платформам"
   ]
  },
  {
   "cell_type": "code",
   "execution_count": 29,
   "metadata": {
    "scrolled": false
   },
   "outputs": [
    {
     "name": "stdout",
     "output_type": "stream",
     "text": [
      "Платформа 3DS\n",
      "count    396.000000\n",
      "mean       0.491439\n",
      "std        1.387161\n",
      "min        0.010000\n",
      "25%        0.040000\n",
      "50%        0.110000\n",
      "75%        0.312500\n",
      "max       14.600000\n",
      "Name: sum_sales, dtype: float64\n",
      "Платформа DS\n",
      "count    31.000000\n",
      "mean      0.404839\n",
      "std       1.439245\n",
      "min       0.010000\n",
      "25%       0.020000\n",
      "50%       0.050000\n",
      "75%       0.185000\n",
      "max       8.060000\n",
      "Name: sum_sales, dtype: float64\n",
      "Платформа PC\n",
      "count    250.00000\n",
      "mean       0.25060\n",
      "std        0.49464\n",
      "min        0.01000\n",
      "25%        0.03000\n",
      "50%        0.08000\n",
      "75%        0.24000\n",
      "max        5.14000\n",
      "Name: sum_sales, dtype: float64\n",
      "Платформа PS3\n",
      "count    493.000000\n",
      "mean       0.585781\n",
      "std        1.462855\n",
      "min        0.010000\n",
      "25%        0.050000\n",
      "50%        0.200000\n",
      "75%        0.610000\n",
      "max       21.050000\n",
      "Name: sum_sales, dtype: float64\n",
      "Платформа PS4\n",
      "count    392.000000\n",
      "mean       0.801378\n",
      "std        1.609456\n",
      "min        0.010000\n",
      "25%        0.060000\n",
      "50%        0.200000\n",
      "75%        0.730000\n",
      "max       14.630000\n",
      "Name: sum_sales, dtype: float64\n",
      "Платформа PSP\n",
      "count    173.000000\n",
      "mean       0.064682\n",
      "std        0.071296\n",
      "min        0.010000\n",
      "25%        0.020000\n",
      "50%        0.030000\n",
      "75%        0.090000\n",
      "max        0.360000\n",
      "Name: sum_sales, dtype: float64\n",
      "Платформа PSV\n",
      "count    411.000000\n",
      "mean       0.119659\n",
      "std        0.203011\n",
      "min        0.010000\n",
      "25%        0.020000\n",
      "50%        0.050000\n",
      "75%        0.120000\n",
      "max        1.960000\n",
      "Name: sum_sales, dtype: float64\n",
      "Платформа Wii\n",
      "count    54.000000\n",
      "mean      0.655000\n",
      "std       1.165447\n",
      "min       0.010000\n",
      "25%       0.062500\n",
      "50%       0.180000\n",
      "75%       0.687500\n",
      "max       6.760000\n",
      "Name: sum_sales, dtype: float64\n",
      "Платформа WiiU\n",
      "count    147.000000\n",
      "mean       0.559116\n",
      "std        1.058836\n",
      "min        0.010000\n",
      "25%        0.080000\n",
      "50%        0.220000\n",
      "75%        0.525000\n",
      "max        7.090000\n",
      "Name: sum_sales, dtype: float64\n",
      "Платформа X360\n",
      "count    292.000000\n",
      "mean       0.810068\n",
      "std        1.712069\n",
      "min        0.010000\n",
      "25%        0.100000\n",
      "50%        0.310000\n",
      "75%        0.870000\n",
      "max       16.270000\n",
      "Name: sum_sales, dtype: float64\n",
      "Платформа XOne\n",
      "count    247.000000\n",
      "mean       0.645020\n",
      "std        1.036139\n",
      "min        0.010000\n",
      "25%        0.060000\n",
      "50%        0.220000\n",
      "75%        0.685000\n",
      "max        7.390000\n",
      "Name: sum_sales, dtype: float64\n"
     ]
    }
   ],
   "source": [
    "data_actual_platform = data_actual.groupby('platform')# группировка актуальных данных по платформам\n",
    "\n",
    "for name_platform, datas in data_actual_platform:\n",
    "    print(\"Платформа \" + name_platform)\n",
    "    print(datas['sum_sales'].describe()) # числовое описание данных\n"
   ]
  },
  {
   "cell_type": "code",
   "execution_count": 30,
   "metadata": {},
   "outputs": [
    {
     "data": {
      "image/png": "[encoded data removed]",
      "text/plain": [
       "<Figure size 432x288 with 1 Axes>"
      ]
     },
     "metadata": {
      "needs_background": "light"
     },
     "output_type": "display_data"
    }
   ],
   "source": [
    "plt.title('\"Графики с усами\" для суммарных продаж с разбивкой по платформам')\n",
    "boxes = sns.boxplot(x='sum_sales', y='platform', data=data_actual, orient='h').set_xlim(0,1)"
   ]
  },
  {
   "cell_type": "markdown",
   "metadata": {},
   "source": [
    "У суммарных продаж игр для платформ `X360` и `PS4`наибольший межквартильный размах, у суммарных продаж игр для платформы `PSP` наименьший межквартильный размах. Большая часть суммарных продаж игр для всех платформ меньше 0.9."
   ]
  },
  {
   "cell_type": "code",
   "execution_count": 31,
   "metadata": {},
   "outputs": [
    {
     "data": {
      "image/png": "[encoded data removed]",
      "text/plain": [
       "<Figure size 432x288 with 1 Axes>"
      ]
     },
     "metadata": {
      "needs_background": "light"
     },
     "output_type": "display_data"
    }
   ],
   "source": [
    "plt.title('\"Графики с усами\" для суммарных продаж с разбивкой по платформам')\n",
    "boxes = sns.boxplot(x='sum_sales', y='platform', data=data_actual, orient='h')"
   ]
  },
  {
   "cell_type": "markdown",
   "metadata": {},
   "source": [
    "У суммарных продаж игр платформ `PS3`, `X360`, `PS4`, `XOne` много выбросов с большим значением `sum_sales` и широкий межквартильный размах.\n",
    "У суммарных продаж игры для платформы `Wii` широкий межквартильный размах, но мало выбросов. "
   ]
  },
  {
   "cell_type": "markdown",
   "metadata": {},
   "source": [
    "Для всех платформ общая сумма продаж распределена неравномерно, со смещением влево. \n",
    "\n",
    "1. Для платформы `3DS` общая сумма продажи большинстава игр находится между 0.01 и 0.312.\n",
    "2. Для платформы `DS` общая сумма продажи большинстава игр находится между 0.01 и 0.185.\n",
    "3. Для платформы `PC` общая сумма продажи большинстава игр находится между 0.01 и 0.24.\n",
    "4. Для платформы `PS3` общая сумма продажи большинстава игр находится между 0.01 и 0.61.\n",
    "5. Для платформы `PS4` общая сумма продажи большинстава игр находится между 0.01 и 0.73.\n",
    "6. Для платформы `PSP` общая сумма продажи большинстава игр находится между 0.01 и 0.09.\n",
    "7. Для платформы `PSV` общая сумма продажи большинстава игр находится между 0.01 и 0.12.\n",
    "8. Для платформы `Wii` общая сумма продажи большинстава игр находится между 0.01 и 0.687\n",
    "9. Для платформы `WiiU` общая сумма продажи большинстава игр находится между 0.01 и 0.525.\n",
    "10. Для платформы `X360` общая сумма продажи большинстава игр находится между 0.01 и 0.87.\n",
    "11. Для платформы `XOne` общая сумма продажи большинстава игр находится между 0.01 и 0.685."
   ]
  },
  {
   "cell_type": "markdown",
   "metadata": {},
   "source": [
    "### Посмотреть, как влияют на продажи внутри одной популярной платформы отзывы пользователей и критиков"
   ]
  },
  {
   "cell_type": "markdown",
   "metadata": {},
   "source": [
    "#### Платформа PS4"
   ]
  },
  {
   "cell_type": "code",
   "execution_count": 32,
   "metadata": {},
   "outputs": [
    {
     "data": {
      "image/png": "[encoded data removed]",
      "text/plain": [
       "<Figure size 720x504 with 1 Axes>"
      ]
     },
     "metadata": {
      "needs_background": "light"
     },
     "output_type": "display_data"
    }
   ],
   "source": [
    "data_actual_PS4_user_score = data_actual.query('platform == \"PS4\"')[['user_score', 'sum_sales']]\n",
    "data_actual_PS4_user_score.plot(x='user_score', y='sum_sales',\n",
    "                                kind='scatter', figsize=(10, 7), alpha = 0.7)#диаграмма рассеяния\n",
    "plt.title('Диаграмма рассеяния зависимости суммы продаж от оценок пользователей для платформы \"PS4\"');"
   ]
  },
  {
   "cell_type": "code",
   "execution_count": 33,
   "metadata": {},
   "outputs": [
    {
     "name": "stdout",
     "output_type": "stream",
     "text": [
      "Коэффициент корреляции Пирсона для колонок sum_sales и user_score -0.031957110204556376\n"
     ]
    }
   ],
   "source": [
    "print(\"Коэффициент корреляции Пирсона для колонок sum_sales и user_score\", \n",
    "      data_actual_PS4_user_score['sum_sales'].corr(data_actual_PS4_user_score['user_score']))"
   ]
  },
  {
   "cell_type": "markdown",
   "metadata": {},
   "source": [
    "Коэффициент корреляции близок к нулю, что означает, что корреляция практически отсутствует."
   ]
  },
  {
   "cell_type": "markdown",
   "metadata": {},
   "source": [
    "По виду диаграммы рассеяния можно сделать вывод, что при увеличении оценки пользователей, увеличивается количество проданных игр и их суммарная стоимость. Большинство игр имеют оценки пользователей от 5 до 9 из 10."
   ]
  },
  {
   "cell_type": "code",
   "execution_count": 34,
   "metadata": {},
   "outputs": [
    {
     "data": {
      "image/png": "[encoded data removed]",
      "text/plain": [
       "<Figure size 720x504 with 1 Axes>"
      ]
     },
     "metadata": {
      "needs_background": "light"
     },
     "output_type": "display_data"
    }
   ],
   "source": [
    "data_actual_PS4_critic_score = data_actual.query('platform == \"PS4\"')[['critic_score', 'sum_sales']]\n",
    "data_actual_PS4_critic_score.plot(x='critic_score', y='sum_sales',\n",
    "                                  kind='scatter', figsize=(10, 7), alpha = 0.7)#диаграмма рассеяния\n",
    "plt.title('Диаграмма рассеяния зависимости суммы продаж от оценок критиков для платформы \"PS4\"');"
   ]
  },
  {
   "cell_type": "code",
   "execution_count": 35,
   "metadata": {},
   "outputs": [
    {
     "name": "stdout",
     "output_type": "stream",
     "text": [
      "Коэффициент корреляции Пирсона для колонок sum_sales и critic_score 0.406567902061781\n"
     ]
    }
   ],
   "source": [
    "print(\"Коэффициент корреляции Пирсона для колонок sum_sales и critic_score\", \n",
    "      data_actual_PS4_critic_score['sum_sales'].corr(data_actual_PS4_critic_score['critic_score']))"
   ]
  },
  {
   "cell_type": "markdown",
   "metadata": {},
   "source": [
    "Коэффициент корреляции небольшой, поэтому существует несильная прямая зависимость между суммами продаж и оценками критиков для платформы `PS4`."
   ]
  },
  {
   "cell_type": "markdown",
   "metadata": {},
   "source": [
    "По виду диаграммы рассеяния можно сделать вывод, что при увеличении оценки критиков, увеличивается количество проданных игр и их суммарная стоимость. Большинство игр имеют оценки критиков от 60 до 90 из 100."
   ]
  },
  {
   "cell_type": "markdown",
   "metadata": {},
   "source": [
    "#### Платформа XOne"
   ]
  },
  {
   "cell_type": "code",
   "execution_count": 36,
   "metadata": {},
   "outputs": [
    {
     "data": {
      "image/png": "[encoded data removed]",
      "text/plain": [
       "<Figure size 720x504 with 1 Axes>"
      ]
     },
     "metadata": {
      "needs_background": "light"
     },
     "output_type": "display_data"
    }
   ],
   "source": [
    "data_actual_XOne_user_score = data_actual.query('platform == \"XOne\"')[['user_score', 'sum_sales']]\n",
    "data_actual_XOne_user_score.plot(x='user_score', y='sum_sales',\n",
    "                                kind='scatter', figsize=(10, 7), alpha = 0.7)#диаграмма рассеяния\n",
    "plt.title('Диаграмма рассеяния зависимости суммы продаж от оценок пользователей для платформы \"XOne\"');"
   ]
  },
  {
   "cell_type": "code",
   "execution_count": 37,
   "metadata": {},
   "outputs": [
    {
     "name": "stdout",
     "output_type": "stream",
     "text": [
      "Коэффициент корреляции Пирсона для колонок sum_sales и user_score -0.06892505328279412\n"
     ]
    }
   ],
   "source": [
    "print(\"Коэффициент корреляции Пирсона для колонок sum_sales и user_score\", \n",
    "      data_actual_XOne_user_score['sum_sales'].corr(data_actual_XOne_user_score['user_score']))"
   ]
  },
  {
   "cell_type": "markdown",
   "metadata": {},
   "source": [
    "Коэффициент корреляции небольшой, поэтому существует несильная прямая зависимость между суммами продаж и оценками критиков для платформы `XOne`."
   ]
  },
  {
   "cell_type": "markdown",
   "metadata": {},
   "source": [
    "Так же как и для игр для платформы `PS4`, большинство игр для платформы `XOne` имеют оценки пользователей от 5 до 9 из 10."
   ]
  },
  {
   "cell_type": "code",
   "execution_count": 38,
   "metadata": {},
   "outputs": [
    {
     "data": {
      "image/png": "[encoded data removed]",
      "text/plain": [
       "<Figure size 720x504 with 1 Axes>"
      ]
     },
     "metadata": {
      "needs_background": "light"
     },
     "output_type": "display_data"
    }
   ],
   "source": [
    "data_actual_XOne_critic_score = data_actual.query('platform == \"XOne\"')[['critic_score', 'sum_sales']]\n",
    "data_actual_XOne_critic_score.plot(x='critic_score', y='sum_sales',\n",
    "                                  kind='scatter', figsize=(10, 7), alpha = 0.7)#диаграмма рассеяния\n",
    "plt.title('Диаграмма рассеяния зависимости суммы продаж от оценок критиков для платформы \"XOne\"');"
   ]
  },
  {
   "cell_type": "code",
   "execution_count": 39,
   "metadata": {},
   "outputs": [
    {
     "name": "stdout",
     "output_type": "stream",
     "text": [
      "Коэффициент корреляции Пирсона для колонок sum_sales и critic_score 0.41699832800840175\n"
     ]
    }
   ],
   "source": [
    "print(\"Коэффициент корреляции Пирсона для колонок sum_sales и critic_score\", \n",
    "      data_actual_XOne_critic_score['sum_sales'].corr(data_actual_XOne_critic_score['critic_score']))"
   ]
  },
  {
   "cell_type": "markdown",
   "metadata": {},
   "source": [
    "Коэффициент корреляции небольшой, поэтому существует несильная прямая зависимость между суммами продаж и оценками критиков для платформы `XOne`."
   ]
  },
  {
   "cell_type": "markdown",
   "metadata": {},
   "source": [
    "По виду диаграммы рассеяния можно сделать вывод, что при увеличении оценки критиков, увеличивается количество проданных игр и их суммарная стоимость. Большинство игр имеют оценки критиков от 70 до 90 из 100."
   ]
  },
  {
   "cell_type": "markdown",
   "metadata": {},
   "source": [
    "#### Платформа 3DS"
   ]
  },
  {
   "cell_type": "code",
   "execution_count": 40,
   "metadata": {},
   "outputs": [
    {
     "data": {
      "image/png": "[encoded data removed]",
      "text/plain": [
       "<Figure size 720x504 with 1 Axes>"
      ]
     },
     "metadata": {
      "needs_background": "light"
     },
     "output_type": "display_data"
    }
   ],
   "source": [
    "data_actual_3DS_user_score = data_actual.query('platform == \"3DS\"')[['user_score', 'sum_sales']]\n",
    "data_actual_3DS_user_score.plot(x='user_score', y='sum_sales',\n",
    "                                kind='scatter', figsize=(10, 7), alpha = 0.7)#диаграмма рассеяния\n",
    "plt.title('Диаграмма рассеяния зависимости суммы продаж от оценок пользователей для платформы \"3DS\"');"
   ]
  },
  {
   "cell_type": "code",
   "execution_count": 41,
   "metadata": {},
   "outputs": [
    {
     "name": "stdout",
     "output_type": "stream",
     "text": [
      "Коэффициент корреляции Пирсона для колонок sum_sales и user_score 0.19758263411038596\n"
     ]
    }
   ],
   "source": [
    "print(\"Коэффициент корреляции Пирсона для колонок sum_sales и user_score\", \n",
    "      data_actual_3DS_user_score['sum_sales'].corr(data_actual_3DS_user_score['user_score']))"
   ]
  },
  {
   "cell_type": "markdown",
   "metadata": {},
   "source": [
    "Коэффициент корреляции небольшой, поэтому существует несильная прямая зависимость между суммами продаж и оценками пользователей для платформы `3DS`."
   ]
  },
  {
   "cell_type": "markdown",
   "metadata": {},
   "source": [
    "Так же как и для игр для платформы `PS4`, большинство игр для платформы `3DS` имеют оценки пользователей от 5 до 9 из 10."
   ]
  },
  {
   "cell_type": "code",
   "execution_count": 42,
   "metadata": {},
   "outputs": [
    {
     "data": {
      "image/png": "[encoded data removed]",
      "text/plain": [
       "<Figure size 720x504 with 1 Axes>"
      ]
     },
     "metadata": {
      "needs_background": "light"
     },
     "output_type": "display_data"
    }
   ],
   "source": [
    "data_actual_3DS_critic_score = data_actual.query('platform == \"3DS\"')[['critic_score', 'sum_sales']]\n",
    "data_actual_3DS_critic_score.plot(x='critic_score', y='sum_sales',\n",
    "                                  kind='scatter', figsize=(10, 7), alpha = 0.7)#диаграмма рассеяния\n",
    "plt.title('Диаграмма рассеяния зависимости суммы продаж от оценок критиков для платформы \"3DS\"');"
   ]
  },
  {
   "cell_type": "code",
   "execution_count": 43,
   "metadata": {},
   "outputs": [
    {
     "name": "stdout",
     "output_type": "stream",
     "text": [
      "Коэффициент корреляции Пирсона для колонок sum_sales и critic_score 0.32080286953607845\n"
     ]
    }
   ],
   "source": [
    "print(\"Коэффициент корреляции Пирсона для колонок sum_sales и critic_score\", \n",
    "      data_actual_3DS_critic_score['sum_sales'].corr(data_actual_3DS_critic_score['critic_score']))"
   ]
  },
  {
   "cell_type": "markdown",
   "metadata": {},
   "source": [
    "Коэффициент корреляции небольшой, поэтому существует несильная прямая зависимость между суммами продаж и оценками критиков для платформы `3DS`."
   ]
  },
  {
   "cell_type": "markdown",
   "metadata": {},
   "source": [
    "По виду диаграммы рассеяния можно сделать вывод, что при увеличении оценки критиков, увеличивается количество проданных игр и их суммарная стоимость. Большинство игр имеют оценки критиков от 60 до 85 из 100."
   ]
  },
  {
   "cell_type": "markdown",
   "metadata": {},
   "source": [
    "<b>Вывод: </b> Мы сравнили диаграммы рассеяния стоимости игр и оценок пользователей и критиков для трех платформ, они оказались похожи. Логично предположить, что так же, как и для игр на платформах `PS4`, `XOne`, `3DS`, для игр на других платформах, при увеличении оценки пользователей и критиков, увеличивается количество проданных игр и их суммарная стоимость."
   ]
  },
  {
   "cell_type": "markdown",
   "metadata": {},
   "source": [
    "### Посмотреть на общее распределение игр по жанрам. Что можно сказать о самых прибыльных жанрах?"
   ]
  },
  {
   "cell_type": "code",
   "execution_count": 44,
   "metadata": {},
   "outputs": [
    {
     "data": {
      "image/png": "[encoded data removed]",
      "text/plain": [
       "<Figure size 432x288 with 1 Axes>"
      ]
     },
     "metadata": {
      "needs_background": "light"
     },
     "output_type": "display_data"
    }
   ],
   "source": [
    "data_actual.pivot_table(index='genre', values='sum_sales', aggfunc='median').\\\n",
    "sort_values(by='sum_sales', ascending=False).plot(kind='bar') # распределение суммарных продаж по жанрам в актуальный период\n",
    "plt.title('График распределения суммарных продаж по жанрам');"
   ]
  },
  {
   "cell_type": "markdown",
   "metadata": {},
   "source": [
    "`Action` и `Sports` - самые прибыльные жанры. Игры жанров `Adventure`, `Puzzle` приносят меньше всего денег."
   ]
  },
  {
   "cell_type": "markdown",
   "metadata": {},
   "source": [
    "## Составить портрет пользователя каждого региона  (NA, EU, JP)"
   ]
  },
  {
   "cell_type": "markdown",
   "metadata": {},
   "source": [
    "### Регион NA"
   ]
  },
  {
   "cell_type": "code",
   "execution_count": 45,
   "metadata": {},
   "outputs": [
    {
     "name": "stdout",
     "output_type": "stream",
     "text": [
      "Самые популярные платформы по продажам в NA\n"
     ]
    },
    {
     "data": {
      "text/html": [
       "<div>\n",
       "<style scoped>\n",
       "    .dataframe tbody tr th:only-of-type {\n",
       "        vertical-align: middle;\n",
       "    }\n",
       "\n",
       "    .dataframe tbody tr th {\n",
       "        vertical-align: top;\n",
       "    }\n",
       "\n",
       "    .dataframe thead th {\n",
       "        text-align: right;\n",
       "    }\n",
       "</style>\n",
       "<table border=\"1\" class=\"dataframe\">\n",
       "  <thead>\n",
       "    <tr style=\"text-align: right;\">\n",
       "      <th></th>\n",
       "      <th>na_sales</th>\n",
       "    </tr>\n",
       "    <tr>\n",
       "      <th>platform</th>\n",
       "      <th></th>\n",
       "    </tr>\n",
       "  </thead>\n",
       "  <tbody>\n",
       "    <tr>\n",
       "      <th>X360</th>\n",
       "      <td>140.05</td>\n",
       "    </tr>\n",
       "    <tr>\n",
       "      <th>PS4</th>\n",
       "      <td>108.74</td>\n",
       "    </tr>\n",
       "    <tr>\n",
       "      <th>PS3</th>\n",
       "      <td>103.38</td>\n",
       "    </tr>\n",
       "    <tr>\n",
       "      <th>XOne</th>\n",
       "      <td>93.12</td>\n",
       "    </tr>\n",
       "    <tr>\n",
       "      <th>3DS</th>\n",
       "      <td>55.31</td>\n",
       "    </tr>\n",
       "  </tbody>\n",
       "</table>\n",
       "</div>"
      ],
      "text/plain": [
       "          na_sales\n",
       "platform          \n",
       "X360        140.05\n",
       "PS4         108.74\n",
       "PS3         103.38\n",
       "XOne         93.12\n",
       "3DS          55.31"
      ]
     },
     "execution_count": 45,
     "metadata": {},
     "output_type": "execute_result"
    }
   ],
   "source": [
    "print('Самые популярные платформы по продажам в NA')\n",
    "data_actual.pivot_table(index='platform', values='na_sales', aggfunc='sum').\\\n",
    "sort_values(by = 'na_sales', ascending=False).head()"
   ]
  },
  {
   "cell_type": "markdown",
   "metadata": {},
   "source": [
    "Самые популярные платформы в Северной Америке - `X360`и `PS4`, пятая по популярности платформа `3DS`."
   ]
  },
  {
   "cell_type": "code",
   "execution_count": 46,
   "metadata": {},
   "outputs": [
    {
     "name": "stdout",
     "output_type": "stream",
     "text": [
      "Самые популярные жанры по продажам в NA\n"
     ]
    },
    {
     "data": {
      "text/html": [
       "<div>\n",
       "<style scoped>\n",
       "    .dataframe tbody tr th:only-of-type {\n",
       "        vertical-align: middle;\n",
       "    }\n",
       "\n",
       "    .dataframe tbody tr th {\n",
       "        vertical-align: top;\n",
       "    }\n",
       "\n",
       "    .dataframe thead th {\n",
       "        text-align: right;\n",
       "    }\n",
       "</style>\n",
       "<table border=\"1\" class=\"dataframe\">\n",
       "  <thead>\n",
       "    <tr style=\"text-align: right;\">\n",
       "      <th></th>\n",
       "      <th>na_sales</th>\n",
       "    </tr>\n",
       "    <tr>\n",
       "      <th>genre</th>\n",
       "      <th></th>\n",
       "    </tr>\n",
       "  </thead>\n",
       "  <tbody>\n",
       "    <tr>\n",
       "      <th>Action</th>\n",
       "      <td>177.84</td>\n",
       "    </tr>\n",
       "    <tr>\n",
       "      <th>Shooter</th>\n",
       "      <td>144.77</td>\n",
       "    </tr>\n",
       "    <tr>\n",
       "      <th>Sports</th>\n",
       "      <td>81.53</td>\n",
       "    </tr>\n",
       "    <tr>\n",
       "      <th>Role-Playing</th>\n",
       "      <td>64.00</td>\n",
       "    </tr>\n",
       "    <tr>\n",
       "      <th>Misc</th>\n",
       "      <td>38.19</td>\n",
       "    </tr>\n",
       "  </tbody>\n",
       "</table>\n",
       "</div>"
      ],
      "text/plain": [
       "              na_sales\n",
       "genre                 \n",
       "Action          177.84\n",
       "Shooter         144.77\n",
       "Sports           81.53\n",
       "Role-Playing     64.00\n",
       "Misc             38.19"
      ]
     },
     "execution_count": 46,
     "metadata": {},
     "output_type": "execute_result"
    }
   ],
   "source": [
    "print('Самые популярные жанры по продажам в NA')\n",
    "data_actual.pivot_table(index='genre', values='na_sales', aggfunc='sum').\\\n",
    "sort_values(by = 'na_sales', ascending=False).head()"
   ]
  },
  {
   "cell_type": "markdown",
   "metadata": {},
   "source": [
    "Самый популярный жанр в Северной Америке - `Action`, пятый по популярности жанр - `Misc`."
   ]
  },
  {
   "cell_type": "code",
   "execution_count": 47,
   "metadata": {},
   "outputs": [
    {
     "name": "stdout",
     "output_type": "stream",
     "text": [
      "Соответствие rating_digit и rating: 0:M 1:no_information 2:E 3:E10+ 4:T \n"
     ]
    },
    {
     "data": {
      "image/png": "[encoded data removed]",
      "text/plain": [
       "<Figure size 720x504 with 1 Axes>"
      ]
     },
     "metadata": {
      "needs_background": "light"
     },
     "output_type": "display_data"
    }
   ],
   "source": [
    "data_actual_ESRB_kinds = data_actual['rating'].unique() # получение видов рейтинга\n",
    "i = 0 \n",
    "data_actual_tmp = data_actual.copy()\n",
    "st = 'Соответствие rating_digit и rating: '\n",
    "for kind_name in data_actual_ESRB_kinds:\n",
    "    data_actual_tmp.loc[(data_actual_tmp['rating'] == kind_name), 'rating_digit'] = i\n",
    "    \n",
    "    st = st + str(i) + ':' + kind_name +' '\n",
    "    i+=1\n",
    "    \n",
    "\n",
    "\n",
    "\n",
    "data_actual_tmp.plot(x = 'rating_digit', y = 'na_sales', kind='scatter', figsize=(10, 7), alpha = 0.7);\n",
    "print(st)"
   ]
  },
  {
   "cell_type": "code",
   "execution_count": 48,
   "metadata": {},
   "outputs": [
    {
     "data": {
      "text/html": [
       "<div>\n",
       "<style scoped>\n",
       "    .dataframe tbody tr th:only-of-type {\n",
       "        vertical-align: middle;\n",
       "    }\n",
       "\n",
       "    .dataframe tbody tr th {\n",
       "        vertical-align: top;\n",
       "    }\n",
       "\n",
       "    .dataframe thead th {\n",
       "        text-align: right;\n",
       "    }\n",
       "</style>\n",
       "<table border=\"1\" class=\"dataframe\">\n",
       "  <thead>\n",
       "    <tr style=\"text-align: right;\">\n",
       "      <th></th>\n",
       "      <th>na_sales</th>\n",
       "    </tr>\n",
       "    <tr>\n",
       "      <th>rating</th>\n",
       "      <th></th>\n",
       "    </tr>\n",
       "  </thead>\n",
       "  <tbody>\n",
       "    <tr>\n",
       "      <th>M</th>\n",
       "      <td>231.57</td>\n",
       "    </tr>\n",
       "    <tr>\n",
       "      <th>E</th>\n",
       "      <td>114.37</td>\n",
       "    </tr>\n",
       "    <tr>\n",
       "      <th>no_information</th>\n",
       "      <td>103.31</td>\n",
       "    </tr>\n",
       "    <tr>\n",
       "      <th>E10+</th>\n",
       "      <td>75.70</td>\n",
       "    </tr>\n",
       "    <tr>\n",
       "      <th>T</th>\n",
       "      <td>66.02</td>\n",
       "    </tr>\n",
       "  </tbody>\n",
       "</table>\n",
       "</div>"
      ],
      "text/plain": [
       "                na_sales\n",
       "rating                  \n",
       "M                 231.57\n",
       "E                 114.37\n",
       "no_information    103.31\n",
       "E10+               75.70\n",
       "T                  66.02"
      ]
     },
     "execution_count": 48,
     "metadata": {},
     "output_type": "execute_result"
    }
   ],
   "source": [
    "data_actual.pivot_table(index='rating', values='na_sales', aggfunc='sum').\\\n",
    "sort_values(by='na_sales', ascending=False)"
   ]
  },
  {
   "cell_type": "markdown",
   "metadata": {},
   "source": [
    "Больше всего дорогих игр имеют рейтинг `M`, меньше всего дорогих игр в ктегориях `E10+` и `T`.\n",
    "\n",
    "Больше всего игр в категориях `M` и `E`, меньше всего - в категории `T`."
   ]
  },
  {
   "cell_type": "markdown",
   "metadata": {},
   "source": [
    "Чаще всего люди в Северной Америке покупают игры для платформы `X360` жанра `Action` c рейтингом `M`."
   ]
  },
  {
   "cell_type": "markdown",
   "metadata": {},
   "source": [
    "### Регион EU"
   ]
  },
  {
   "cell_type": "code",
   "execution_count": 49,
   "metadata": {},
   "outputs": [
    {
     "name": "stdout",
     "output_type": "stream",
     "text": [
      "Самые популярные платформы по продажам в EU\n"
     ]
    },
    {
     "data": {
      "text/html": [
       "<div>\n",
       "<style scoped>\n",
       "    .dataframe tbody tr th:only-of-type {\n",
       "        vertical-align: middle;\n",
       "    }\n",
       "\n",
       "    .dataframe tbody tr th {\n",
       "        vertical-align: top;\n",
       "    }\n",
       "\n",
       "    .dataframe thead th {\n",
       "        text-align: right;\n",
       "    }\n",
       "</style>\n",
       "<table border=\"1\" class=\"dataframe\">\n",
       "  <thead>\n",
       "    <tr style=\"text-align: right;\">\n",
       "      <th></th>\n",
       "      <th>eu_sales</th>\n",
       "    </tr>\n",
       "    <tr>\n",
       "      <th>platform</th>\n",
       "      <th></th>\n",
       "    </tr>\n",
       "  </thead>\n",
       "  <tbody>\n",
       "    <tr>\n",
       "      <th>PS4</th>\n",
       "      <td>141.09</td>\n",
       "    </tr>\n",
       "    <tr>\n",
       "      <th>PS3</th>\n",
       "      <td>106.86</td>\n",
       "    </tr>\n",
       "    <tr>\n",
       "      <th>X360</th>\n",
       "      <td>74.52</td>\n",
       "    </tr>\n",
       "    <tr>\n",
       "      <th>XOne</th>\n",
       "      <td>51.59</td>\n",
       "    </tr>\n",
       "    <tr>\n",
       "      <th>3DS</th>\n",
       "      <td>42.64</td>\n",
       "    </tr>\n",
       "  </tbody>\n",
       "</table>\n",
       "</div>"
      ],
      "text/plain": [
       "          eu_sales\n",
       "platform          \n",
       "PS4         141.09\n",
       "PS3         106.86\n",
       "X360         74.52\n",
       "XOne         51.59\n",
       "3DS          42.64"
      ]
     },
     "execution_count": 49,
     "metadata": {},
     "output_type": "execute_result"
    }
   ],
   "source": [
    "print('Самые популярные платформы по продажам в EU')\n",
    "data_actual.pivot_table(index='platform', values='eu_sales', aggfunc='sum').\\\n",
    "sort_values(by = 'eu_sales', ascending=False).head()"
   ]
  },
  {
   "cell_type": "markdown",
   "metadata": {},
   "source": [
    "Самые популярные платформы в Европе - `PS4` и `PS3`, пятая по популярности платформа - `3DS`."
   ]
  },
  {
   "cell_type": "code",
   "execution_count": 50,
   "metadata": {},
   "outputs": [
    {
     "name": "stdout",
     "output_type": "stream",
     "text": [
      "Самые популярные жанры по продажам в EU\n"
     ]
    },
    {
     "data": {
      "text/html": [
       "<div>\n",
       "<style scoped>\n",
       "    .dataframe tbody tr th:only-of-type {\n",
       "        vertical-align: middle;\n",
       "    }\n",
       "\n",
       "    .dataframe tbody tr th {\n",
       "        vertical-align: top;\n",
       "    }\n",
       "\n",
       "    .dataframe thead th {\n",
       "        text-align: right;\n",
       "    }\n",
       "</style>\n",
       "<table border=\"1\" class=\"dataframe\">\n",
       "  <thead>\n",
       "    <tr style=\"text-align: right;\">\n",
       "      <th></th>\n",
       "      <th>eu_sales</th>\n",
       "    </tr>\n",
       "    <tr>\n",
       "      <th>genre</th>\n",
       "      <th></th>\n",
       "    </tr>\n",
       "  </thead>\n",
       "  <tbody>\n",
       "    <tr>\n",
       "      <th>Action</th>\n",
       "      <td>159.34</td>\n",
       "    </tr>\n",
       "    <tr>\n",
       "      <th>Shooter</th>\n",
       "      <td>113.47</td>\n",
       "    </tr>\n",
       "    <tr>\n",
       "      <th>Sports</th>\n",
       "      <td>69.09</td>\n",
       "    </tr>\n",
       "    <tr>\n",
       "      <th>Role-Playing</th>\n",
       "      <td>48.53</td>\n",
       "    </tr>\n",
       "    <tr>\n",
       "      <th>Racing</th>\n",
       "      <td>27.29</td>\n",
       "    </tr>\n",
       "  </tbody>\n",
       "</table>\n",
       "</div>"
      ],
      "text/plain": [
       "              eu_sales\n",
       "genre                 \n",
       "Action          159.34\n",
       "Shooter         113.47\n",
       "Sports           69.09\n",
       "Role-Playing     48.53\n",
       "Racing           27.29"
      ]
     },
     "execution_count": 50,
     "metadata": {},
     "output_type": "execute_result"
    }
   ],
   "source": [
    "print('Самые популярные жанры по продажам в EU')\n",
    "data_actual.pivot_table(index='genre', values='eu_sales', aggfunc='sum').\\\n",
    "sort_values(by = 'eu_sales', ascending=False).head()"
   ]
  },
  {
   "cell_type": "markdown",
   "metadata": {},
   "source": [
    "Самый популярный жанр в Европе - `Action`, пятый по популярности жанр - `Racing`."
   ]
  },
  {
   "cell_type": "code",
   "execution_count": 51,
   "metadata": {},
   "outputs": [
    {
     "name": "stdout",
     "output_type": "stream",
     "text": [
      "Соответствие rating_digit и rating: 0:M 1:no_information 2:E 3:E10+ 4:T \n"
     ]
    },
    {
     "data": {
      "image/png": "[encoded data removed]",
      "text/plain": [
       "<Figure size 720x504 with 1 Axes>"
      ]
     },
     "metadata": {
      "needs_background": "light"
     },
     "output_type": "display_data"
    }
   ],
   "source": [
    "data_actual_tmp.plot(x = 'rating_digit', y = 'eu_sales', kind='scatter', figsize=(10, 7), alpha = 0.7);\n",
    "print(st)\n",
    "\n"
   ]
  },
  {
   "cell_type": "code",
   "execution_count": 52,
   "metadata": {},
   "outputs": [
    {
     "data": {
      "text/html": [
       "<div>\n",
       "<style scoped>\n",
       "    .dataframe tbody tr th:only-of-type {\n",
       "        vertical-align: middle;\n",
       "    }\n",
       "\n",
       "    .dataframe tbody tr th {\n",
       "        vertical-align: top;\n",
       "    }\n",
       "\n",
       "    .dataframe thead th {\n",
       "        text-align: right;\n",
       "    }\n",
       "</style>\n",
       "<table border=\"1\" class=\"dataframe\">\n",
       "  <thead>\n",
       "    <tr style=\"text-align: right;\">\n",
       "      <th></th>\n",
       "      <th>eu_sales</th>\n",
       "    </tr>\n",
       "    <tr>\n",
       "      <th>rating</th>\n",
       "      <th></th>\n",
       "    </tr>\n",
       "  </thead>\n",
       "  <tbody>\n",
       "    <tr>\n",
       "      <th>M</th>\n",
       "      <td>193.96</td>\n",
       "    </tr>\n",
       "    <tr>\n",
       "      <th>E</th>\n",
       "      <td>113.03</td>\n",
       "    </tr>\n",
       "    <tr>\n",
       "      <th>no_information</th>\n",
       "      <td>91.50</td>\n",
       "    </tr>\n",
       "    <tr>\n",
       "      <th>E10+</th>\n",
       "      <td>55.37</td>\n",
       "    </tr>\n",
       "    <tr>\n",
       "      <th>T</th>\n",
       "      <td>52.96</td>\n",
       "    </tr>\n",
       "  </tbody>\n",
       "</table>\n",
       "</div>"
      ],
      "text/plain": [
       "                eu_sales\n",
       "rating                  \n",
       "M                 193.96\n",
       "E                 113.03\n",
       "no_information     91.50\n",
       "E10+               55.37\n",
       "T                  52.96"
      ]
     },
     "execution_count": 52,
     "metadata": {},
     "output_type": "execute_result"
    }
   ],
   "source": [
    "data_actual.pivot_table(index='rating', values='eu_sales', aggfunc='sum').\\\n",
    "sort_values(by='eu_sales', ascending=False)"
   ]
  },
  {
   "cell_type": "markdown",
   "metadata": {},
   "source": [
    "Больше всего дорогих игр имеют рейтинг `M`, меньше всего дорогих игр в ктегориях `E10+` и `T`.\n",
    "\n",
    "Больше всего игр в категориях `M` и `E`, меньше всего - в категории `T`."
   ]
  },
  {
   "cell_type": "markdown",
   "metadata": {},
   "source": [
    "Чаще всего люди в Европе  покупают игры для платформы `PS4` жанра `Action` c рейтингом `M`."
   ]
  },
  {
   "cell_type": "markdown",
   "metadata": {},
   "source": [
    "### Регион JP"
   ]
  },
  {
   "cell_type": "code",
   "execution_count": 53,
   "metadata": {},
   "outputs": [
    {
     "name": "stdout",
     "output_type": "stream",
     "text": [
      "Самые популярные платформы по продажам в JP\n"
     ]
    },
    {
     "data": {
      "text/html": [
       "<div>\n",
       "<style scoped>\n",
       "    .dataframe tbody tr th:only-of-type {\n",
       "        vertical-align: middle;\n",
       "    }\n",
       "\n",
       "    .dataframe tbody tr th {\n",
       "        vertical-align: top;\n",
       "    }\n",
       "\n",
       "    .dataframe thead th {\n",
       "        text-align: right;\n",
       "    }\n",
       "</style>\n",
       "<table border=\"1\" class=\"dataframe\">\n",
       "  <thead>\n",
       "    <tr style=\"text-align: right;\">\n",
       "      <th></th>\n",
       "      <th>jp_sales</th>\n",
       "    </tr>\n",
       "    <tr>\n",
       "      <th>platform</th>\n",
       "      <th></th>\n",
       "    </tr>\n",
       "  </thead>\n",
       "  <tbody>\n",
       "    <tr>\n",
       "      <th>3DS</th>\n",
       "      <td>87.79</td>\n",
       "    </tr>\n",
       "    <tr>\n",
       "      <th>PS3</th>\n",
       "      <td>35.29</td>\n",
       "    </tr>\n",
       "    <tr>\n",
       "      <th>PSV</th>\n",
       "      <td>21.04</td>\n",
       "    </tr>\n",
       "    <tr>\n",
       "      <th>PS4</th>\n",
       "      <td>15.96</td>\n",
       "    </tr>\n",
       "    <tr>\n",
       "      <th>WiiU</th>\n",
       "      <td>13.01</td>\n",
       "    </tr>\n",
       "  </tbody>\n",
       "</table>\n",
       "</div>"
      ],
      "text/plain": [
       "          jp_sales\n",
       "platform          \n",
       "3DS          87.79\n",
       "PS3          35.29\n",
       "PSV          21.04\n",
       "PS4          15.96\n",
       "WiiU         13.01"
      ]
     },
     "execution_count": 53,
     "metadata": {},
     "output_type": "execute_result"
    }
   ],
   "source": [
    "print('Самые популярные платформы по продажам в JP')\n",
    "data_actual.pivot_table(index='platform', values='jp_sales', aggfunc='sum').\\\n",
    "sort_values(by = 'jp_sales', ascending=False).head()"
   ]
  },
  {
   "cell_type": "markdown",
   "metadata": {},
   "source": [
    "Самые популярные платформы в Японии - `3DS` и `PS3`, пятая по популярности платформа - `WiiU`."
   ]
  },
  {
   "cell_type": "code",
   "execution_count": 54,
   "metadata": {},
   "outputs": [
    {
     "name": "stdout",
     "output_type": "stream",
     "text": [
      "Самые популярные жанры по продажам в JP\n"
     ]
    },
    {
     "data": {
      "text/html": [
       "<div>\n",
       "<style scoped>\n",
       "    .dataframe tbody tr th:only-of-type {\n",
       "        vertical-align: middle;\n",
       "    }\n",
       "\n",
       "    .dataframe tbody tr th {\n",
       "        vertical-align: top;\n",
       "    }\n",
       "\n",
       "    .dataframe thead th {\n",
       "        text-align: right;\n",
       "    }\n",
       "</style>\n",
       "<table border=\"1\" class=\"dataframe\">\n",
       "  <thead>\n",
       "    <tr style=\"text-align: right;\">\n",
       "      <th></th>\n",
       "      <th>jp_sales</th>\n",
       "    </tr>\n",
       "    <tr>\n",
       "      <th>genre</th>\n",
       "      <th></th>\n",
       "    </tr>\n",
       "  </thead>\n",
       "  <tbody>\n",
       "    <tr>\n",
       "      <th>Role-Playing</th>\n",
       "      <td>65.44</td>\n",
       "    </tr>\n",
       "    <tr>\n",
       "      <th>Action</th>\n",
       "      <td>52.80</td>\n",
       "    </tr>\n",
       "    <tr>\n",
       "      <th>Misc</th>\n",
       "      <td>12.86</td>\n",
       "    </tr>\n",
       "    <tr>\n",
       "      <th>Simulation</th>\n",
       "      <td>10.41</td>\n",
       "    </tr>\n",
       "    <tr>\n",
       "      <th>Fighting</th>\n",
       "      <td>9.44</td>\n",
       "    </tr>\n",
       "  </tbody>\n",
       "</table>\n",
       "</div>"
      ],
      "text/plain": [
       "              jp_sales\n",
       "genre                 \n",
       "Role-Playing     65.44\n",
       "Action           52.80\n",
       "Misc             12.86\n",
       "Simulation       10.41\n",
       "Fighting          9.44"
      ]
     },
     "execution_count": 54,
     "metadata": {},
     "output_type": "execute_result"
    }
   ],
   "source": [
    "print('Самые популярные жанры по продажам в JP')\n",
    "data_actual.pivot_table(index='genre', values='jp_sales', aggfunc='sum').\\\n",
    "sort_values(by = 'jp_sales', ascending=False).head()"
   ]
  },
  {
   "cell_type": "markdown",
   "metadata": {},
   "source": [
    "Самый популярный жанр в Японии - `Role-Playing`, пятый по популярности жанр - `Fighting`."
   ]
  },
  {
   "cell_type": "code",
   "execution_count": 55,
   "metadata": {},
   "outputs": [
    {
     "name": "stdout",
     "output_type": "stream",
     "text": [
      "Соответствие rating_digit и rating: 0:M 1:no_information 2:E 3:E10+ 4:T \n"
     ]
    },
    {
     "data": {
      "image/png": "[encoded data removed]",
      "text/plain": [
       "<Figure size 720x504 with 1 Axes>"
      ]
     },
     "metadata": {
      "needs_background": "light"
     },
     "output_type": "display_data"
    }
   ],
   "source": [
    "data_actual_tmp.plot(x = 'rating_digit', y = 'jp_sales', kind='scatter', figsize=(10, 7), alpha = 0.7);\n",
    "print(st)"
   ]
  },
  {
   "cell_type": "code",
   "execution_count": 56,
   "metadata": {},
   "outputs": [
    {
     "data": {
      "text/html": [
       "<div>\n",
       "<style scoped>\n",
       "    .dataframe tbody tr th:only-of-type {\n",
       "        vertical-align: middle;\n",
       "    }\n",
       "\n",
       "    .dataframe tbody tr th {\n",
       "        vertical-align: top;\n",
       "    }\n",
       "\n",
       "    .dataframe thead th {\n",
       "        text-align: right;\n",
       "    }\n",
       "</style>\n",
       "<table border=\"1\" class=\"dataframe\">\n",
       "  <thead>\n",
       "    <tr style=\"text-align: right;\">\n",
       "      <th></th>\n",
       "      <th>jp_sales</th>\n",
       "    </tr>\n",
       "    <tr>\n",
       "      <th>rating</th>\n",
       "      <th></th>\n",
       "    </tr>\n",
       "  </thead>\n",
       "  <tbody>\n",
       "    <tr>\n",
       "      <th>no_information</th>\n",
       "      <td>108.84</td>\n",
       "    </tr>\n",
       "    <tr>\n",
       "      <th>E</th>\n",
       "      <td>28.33</td>\n",
       "    </tr>\n",
       "    <tr>\n",
       "      <th>T</th>\n",
       "      <td>26.02</td>\n",
       "    </tr>\n",
       "    <tr>\n",
       "      <th>M</th>\n",
       "      <td>21.20</td>\n",
       "    </tr>\n",
       "    <tr>\n",
       "      <th>E10+</th>\n",
       "      <td>8.19</td>\n",
       "    </tr>\n",
       "  </tbody>\n",
       "</table>\n",
       "</div>"
      ],
      "text/plain": [
       "                jp_sales\n",
       "rating                  \n",
       "no_information    108.84\n",
       "E                  28.33\n",
       "T                  26.02\n",
       "M                  21.20\n",
       "E10+                8.19"
      ]
     },
     "execution_count": 56,
     "metadata": {},
     "output_type": "execute_result"
    }
   ],
   "source": [
    "data_actual.pivot_table(index='rating', values='jp_sales', aggfunc='sum').\\\n",
    "sort_values(by='jp_sales', ascending=False)"
   ]
  },
  {
   "cell_type": "markdown",
   "metadata": {},
   "source": [
    "Для большой части игр в Японии нет информации об их рейтинге, поэтому оценивать распределение игр по рейтингу довольно сложно."
   ]
  },
  {
   "cell_type": "markdown",
   "metadata": {},
   "source": [
    "Чаще всего люди в Японии  покупают игры для платформы `3DS` жанра `Role-Playing`."
   ]
  },
  {
   "cell_type": "markdown",
   "metadata": {},
   "source": [
    "## Проверка гипотез"
   ]
  },
  {
   "cell_type": "markdown",
   "metadata": {},
   "source": [
    "### Гипотеза 1"
   ]
  },
  {
   "cell_type": "markdown",
   "metadata": {},
   "source": [
    "H_0: *Средние пользовательские рейтинги платформ Xbox One и PC равны.*\n",
    "\n",
    "H_1: *Средние пользовательские рейтинги платформ Xbox One и PC не равны.*"
   ]
  },
  {
   "cell_type": "markdown",
   "metadata": {},
   "source": [
    "Гипотезу H_0 формулируем, пользуясь условием задания. Гипотезу H_1 получаем при отрицании гипотезы H_0. "
   ]
  },
  {
   "cell_type": "markdown",
   "metadata": {},
   "source": [
    "Возьмем случайные 50 значений колонки `user_score` для платформ `XOne` и `PC`. \n",
    "\n",
    "Используем метод для проверки гипотезы о равенстве среднего двух генеральных совокупностей по взятым из них выборкам: `st.ttest_ind`.\n",
    "\n",
    "Поскольку количество элементов выборок одинаково, больше 30 и у нас нет оснований предполагать, что дисперсии для выборок отличаются, оставим значение параметра `equal_var` = True."
   ]
  },
  {
   "cell_type": "code",
   "execution_count": 57,
   "metadata": {},
   "outputs": [],
   "source": [
    "not_nan_user_score = ~data_actual['user_score'].isna()"
   ]
  },
  {
   "cell_type": "code",
   "execution_count": 58,
   "metadata": {},
   "outputs": [
    {
     "name": "stdout",
     "output_type": "stream",
     "text": [
      "p-значение: 0.1311986025424943\n",
      "Не получилось отвергнуть нулевую гипотезу\n"
     ]
    }
   ],
   "source": [
    "\n",
    "\n",
    "random_user_score_xone = np.random.choice(data_actual.\\\n",
    "                                          loc[not_nan_user_score].\\\n",
    "                                          query('platform == \"XOne\"')['user_score'], \n",
    "                                          size=50, replace=False)\n",
    "random_user_score_pc = np.random.choice(data_actual.\\\n",
    "                                        loc[not_nan_user_score].\\\n",
    "                                        query('platform == \"PC\"')['user_score'], \n",
    "                                        size=50, replace=False)\n",
    "\n",
    "alpha = 0.01 # критический уровень статистической значимости\n",
    "results = stat.ttest_ind(random_user_score_xone, random_user_score_pc)# проверка гипотезы H_0\n",
    "print('p-значение:', results.pvalue)\n",
    "\n",
    "if results.pvalue < alpha:# сравниваем получившееся p-значение с заданным уровнем статистической значимости \n",
    "    print(\"Отвергаем нулевую гипотезу\")\n",
    "else:\n",
    "    print(\"Не получилось отвергнуть нулевую гипотезу\")"
   ]
  },
  {
   "cell_type": "markdown",
   "metadata": {},
   "source": [
    "Сравнив p-значение c уровнем статистической значимости 0.01, не получилось отвергнуть гипотезу H_0."
   ]
  },
  {
   "cell_type": "markdown",
   "metadata": {},
   "source": [
    "### Гипотеза 2"
   ]
  },
  {
   "cell_type": "markdown",
   "metadata": {},
   "source": [
    "H_0: *Средние пользовательские оценки жанров Action и Sports равны.*\n",
    "\n",
    "H_1: *Средние пользовательские оценки жанров Action и Sports не равны.*"
   ]
  },
  {
   "cell_type": "markdown",
   "metadata": {},
   "source": [
    "Гипотезу H_0 формулируем, пользуясь условием задания. Гипотезу H_1 получаем при отрицании гипотезы H_0. "
   ]
  },
  {
   "cell_type": "markdown",
   "metadata": {},
   "source": [
    "Возьмем случайные 50 значений колонки `user_score` для жанров `Action` и `Sports`. \n",
    "\n",
    "Используем метод для проверки гипотезы о равенстве среднего двух генеральных совокупностей по взятым из них выборкам: `st.ttest_ind`.\n",
    "\n",
    "Предположим, что дисперсии для выборок отличаются, зададим значение параметра `equal_var` = False.  "
   ]
  },
  {
   "cell_type": "code",
   "execution_count": 59,
   "metadata": {},
   "outputs": [
    {
     "name": "stdout",
     "output_type": "stream",
     "text": [
      "p-значение: 7.638461996040776e-06\n",
      "Отвергаем нулевую гипотезу\n"
     ]
    }
   ],
   "source": [
    "random_user_score_action = np.random.choice(data_actual.\\\n",
    "                                            loc[not_nan_user_score].\\\n",
    "                                            query('genre == \"Action\"')['user_score'], \n",
    "                                            size=50, replace=False)\n",
    "\n",
    "random_user_score_sports = np.random.choice(data_actual.\\\n",
    "                                            loc[not_nan_user_score].\\\n",
    "                                            query('genre == \"Sports\"')['user_score'], \n",
    "                                            size=50, replace=False)\n",
    "\n",
    "alpha = 0.01 # критический уровень статистической значимости\n",
    "results = stat.ttest_ind(random_user_score_action, random_user_score_sports, equal_var = False)# проверка гипотезы H_0\n",
    "print('p-значение:', results.pvalue)\n",
    "\n",
    "if results.pvalue < alpha:# сравниваем получившееся p-значение с заданным уровнем статистической значимости \n",
    "    print(\"Отвергаем нулевую гипотезу\")\n",
    "else:\n",
    "    print(\"Не получилось отвергнуть нулевую гипотезу\")"
   ]
  },
  {
   "cell_type": "markdown",
   "metadata": {},
   "source": [
    "Сравнив p-значение c уровнем статистической значимости 0.01, отвергаем гипотезу H_0."
   ]
  },
  {
   "cell_type": "markdown",
   "metadata": {},
   "source": [
    "## Вывод"
   ]
  },
  {
   "cell_type": "markdown",
   "metadata": {},
   "source": [
    "1. Начиная с 2008 года количество выпущенных игр падает. \n",
    "\n",
    "2. В среднем, игровая платформа существует около 10 лет. Больше всего сумма продаж для игр платформ `PS2` и `X360`.\n",
    "\n",
    "3. Платформа `PS4` появилась относительно недавно (2013 г.) и уже стоит на 7 месте по сумме продаж игр в разбивке по платформам. \n",
    "\n",
    "4. На 2016 год игры платформ `PS4` и `PS3` лидируют по продажам.\n",
    "\n",
    "5. Продажи игр платформ `PS4` и `XOne` растут с 2013 года по 2015, но в следующие года падают. Платформы `PS4`, `XOne` и `3DS` можно считать потенциально прибыльными, поскольку у игр данных платформ самые высокие продажи на 2016 год.\n",
    "\n",
    "6. У суммарных продаж игр для платформ `X360` и `PS4`наибольший межквартильный размах, у суммарных продаж игр для платформы `PSP` наименьший межквартильный размах. Большая часть суммарных продаж игр для всех платформ меньше 0.9.\n",
    "\n",
    "7. У суммарных продаж игр платформ `PS3`, `X360`, `PS4`, `XOne` много выбросов с большим значением `sum_sales` и широкий межквартильный размах. У суммарных продаж игры для платформы `Wii` широкий межквартильный размах, но мало выбросов.\n",
    "\n",
    "8. Логично предположить, что так же, как и для игр на платформах `PS4`, `XOne`, `3DS`, для игр на других платформах, при увеличении оценки пользователей и критиков, увеличивается количество проданных игр и их суммарная стоимость. Больше всего проданных игр с оценками пользователей > 5 и оценками критиков > 60. \n",
    "\n",
    "9. `Action` и `Sports` - самые прибыльные жанры. Игры жанров `Adventure`, `Puzzle` приносят меньше всего денег.\n",
    "\n",
    "<b>Совет магазину 1:</b> В первую очередь стоит обратить внимание на игры платформ `PS4` и `XOne`, поскольку эти платформы появились недавно, у игр этих платформ большая сумма продаж, сильный разброс стоимости игр (покупатели с разным финансовым положением смогут купить игру), люди покупают много дорогих игр. Лучше всего продавать игры жанров `Action` и `Sports` с оценками пользователей > 5 и оценками критиков > 60. "
   ]
  },
  {
   "cell_type": "markdown",
   "metadata": {},
   "source": [
    "1. Самые популярные платформы в Северной Америке - `X360`и `PS4`, пятая по популярности платформа `3DS`.\n",
    "2. Самый популярный жанр в Северной Америке - `Action`, пятый по популярности жанр - `Misc`.\n",
    "3. Больше всего дорогих игр в Северной Америке имеют рейтинг `M`, меньше всего дорогих игр в ктегориях `E10+` и `T`. Больше всего игр в категориях `M` и `E`, меньше всего - в категории `T`.\n",
    "\n",
    "<b>Совет магазину 2:</b> Лучше всего в Северной Америке продавать игры для платформы `X360` и `PS4` жанра `Action` c рейтингом `M`."
   ]
  },
  {
   "cell_type": "markdown",
   "metadata": {},
   "source": [
    "1. Самые популярные платформы в Европе - `PS4` и `PS3`, пятая по популярности платформа - `3DS`.\n",
    "2. Самый популярный жанр в Европе - `Action`, пятый по популярности жанр - `Racing`.\n",
    "3. Больше всего дорогих игр имеют рейтинг `M`, меньше всего дорогих игр в ктегориях `E10+` и `T`. Больше всего игр в категориях `M` и `E`, меньше всего - в категории `T`.\n",
    "\n",
    "<b>Совет магазину 3:</b> Лучше всего в Европе продавать игры для платформ `PS4` и `PS3` жанра `Action` c рейтингом `M`.\n"
   ]
  },
  {
   "cell_type": "markdown",
   "metadata": {},
   "source": [
    "1. Самые популярные платформы в Японии - `3DS` и `PS3`, пятая по популярности платформа - `WiiU`.\n",
    "2. Самый популярный жанр в Японии - `Role-Playing`, пятый по популярности жанр - `Fighting`.\n",
    "3. Для большой части игр в Японии нет информации об их рейтинге, поэтому оценивать распределение игр по рейтингу довольно сложно.\n",
    "\n",
    "<b>Совет магазину 4:</b> Лучше всего в Японии продавать игры для платформ `3DS` и `PS3` жанра `Role-Playing`."
   ]
  },
  {
   "cell_type": "markdown",
   "metadata": {},
   "source": [
    "1. Гипотезу \"Средние пользовательские рейтинги платформ Xbox One и PC равны\" не получилось отвергнуть.\n",
    "2. Гипотезу \"Средние пользовательские оценки жанров Action и Sports равны\" нужно отвергнуть."
   ]
  }
 ],
 "metadata": {
  "ExecuteTimeLog": [
   {
    "duration": 567,
    "start_time": "2022-09-22T12:43:31.135Z"
   },
   {
    "duration": 3,
    "start_time": "2022-09-22T12:43:40.673Z"
   },
   {
    "duration": 53,
    "start_time": "2022-09-22T12:43:42.603Z"
   },
   {
    "duration": 16,
    "start_time": "2022-09-22T12:45:12.690Z"
   },
   {
    "duration": 28,
    "start_time": "2022-09-22T12:46:17.257Z"
   },
   {
    "duration": 23,
    "start_time": "2022-09-22T12:54:55.441Z"
   },
   {
    "duration": 4,
    "start_time": "2022-09-22T12:55:07.857Z"
   },
   {
    "duration": 61,
    "start_time": "2022-09-22T12:57:11.331Z"
   },
   {
    "duration": 13,
    "start_time": "2022-09-22T12:58:09.635Z"
   },
   {
    "duration": 9,
    "start_time": "2022-09-22T12:58:15.822Z"
   },
   {
    "duration": 15,
    "start_time": "2022-09-22T12:58:40.138Z"
   },
   {
    "duration": 9,
    "start_time": "2022-09-22T12:59:09.691Z"
   },
   {
    "duration": 5,
    "start_time": "2022-09-22T13:00:21.103Z"
   },
   {
    "duration": 15,
    "start_time": "2022-09-22T15:13:04.975Z"
   },
   {
    "duration": 8,
    "start_time": "2022-09-22T15:14:27.232Z"
   },
   {
    "duration": 27,
    "start_time": "2022-09-22T15:14:30.741Z"
   },
   {
    "duration": 8,
    "start_time": "2022-09-22T15:14:38.458Z"
   },
   {
    "duration": 2,
    "start_time": "2022-09-22T15:16:48.864Z"
   },
   {
    "duration": 56,
    "start_time": "2022-09-22T15:16:48.868Z"
   },
   {
    "duration": 15,
    "start_time": "2022-09-22T15:16:48.926Z"
   },
   {
    "duration": 21,
    "start_time": "2022-09-22T15:16:48.942Z"
   },
   {
    "duration": 7,
    "start_time": "2022-09-22T15:16:48.966Z"
   },
   {
    "duration": 28,
    "start_time": "2022-09-22T15:16:48.974Z"
   },
   {
    "duration": 11,
    "start_time": "2022-09-22T15:16:49.004Z"
   },
   {
    "duration": 7,
    "start_time": "2022-09-22T15:16:51.671Z"
   },
   {
    "duration": 3,
    "start_time": "2022-09-22T15:18:32.297Z"
   },
   {
    "duration": 55,
    "start_time": "2022-09-22T15:18:32.301Z"
   },
   {
    "duration": 13,
    "start_time": "2022-09-22T15:18:32.358Z"
   },
   {
    "duration": 20,
    "start_time": "2022-09-22T15:18:32.373Z"
   },
   {
    "duration": 8,
    "start_time": "2022-09-22T15:18:32.395Z"
   },
   {
    "duration": 12,
    "start_time": "2022-09-22T15:18:32.405Z"
   },
   {
    "duration": 7,
    "start_time": "2022-09-22T15:18:32.419Z"
   },
   {
    "duration": 7,
    "start_time": "2022-09-22T15:18:32.428Z"
   },
   {
    "duration": 3,
    "start_time": "2022-09-22T15:18:32.437Z"
   },
   {
    "duration": 4,
    "start_time": "2022-09-22T15:18:47.892Z"
   },
   {
    "duration": 3,
    "start_time": "2022-09-22T15:23:34.128Z"
   },
   {
    "duration": 3,
    "start_time": "2022-09-22T15:30:34.700Z"
   },
   {
    "duration": 4,
    "start_time": "2022-09-22T15:30:42.279Z"
   },
   {
    "duration": 24,
    "start_time": "2022-09-22T15:30:48.465Z"
   },
   {
    "duration": 15,
    "start_time": "2022-09-22T15:33:57.334Z"
   },
   {
    "duration": 20,
    "start_time": "2022-09-22T15:34:30.876Z"
   },
   {
    "duration": 19,
    "start_time": "2022-09-22T15:34:48.700Z"
   },
   {
    "duration": 15,
    "start_time": "2022-09-22T15:36:13.546Z"
   },
   {
    "duration": 15,
    "start_time": "2022-09-22T15:36:21.623Z"
   },
   {
    "duration": 8,
    "start_time": "2022-09-22T15:37:24.645Z"
   },
   {
    "duration": 8,
    "start_time": "2022-09-22T15:37:34.478Z"
   },
   {
    "duration": 9,
    "start_time": "2022-09-22T15:37:37.166Z"
   },
   {
    "duration": 9,
    "start_time": "2022-09-22T15:38:18.739Z"
   },
   {
    "duration": 8,
    "start_time": "2022-09-22T15:38:25.757Z"
   },
   {
    "duration": 27,
    "start_time": "2022-09-22T15:38:56.375Z"
   },
   {
    "duration": 16,
    "start_time": "2022-09-22T15:39:05.761Z"
   },
   {
    "duration": 15,
    "start_time": "2022-09-22T15:39:51.585Z"
   },
   {
    "duration": 21,
    "start_time": "2022-09-22T15:41:47.437Z"
   },
   {
    "duration": 23,
    "start_time": "2022-09-22T15:42:01.083Z"
   },
   {
    "duration": 82,
    "start_time": "2022-09-22T15:42:49.035Z"
   },
   {
    "duration": 20,
    "start_time": "2022-09-22T15:43:02.203Z"
   },
   {
    "duration": 20,
    "start_time": "2022-09-22T15:43:07.238Z"
   },
   {
    "duration": 3,
    "start_time": "2022-09-22T15:44:11.359Z"
   },
   {
    "duration": 52,
    "start_time": "2022-09-22T15:44:11.364Z"
   },
   {
    "duration": 15,
    "start_time": "2022-09-22T15:44:11.418Z"
   },
   {
    "duration": 22,
    "start_time": "2022-09-22T15:44:11.434Z"
   },
   {
    "duration": 9,
    "start_time": "2022-09-22T15:44:11.459Z"
   },
   {
    "duration": 27,
    "start_time": "2022-09-22T15:44:11.470Z"
   },
   {
    "duration": 8,
    "start_time": "2022-09-22T15:44:11.500Z"
   },
   {
    "duration": 11,
    "start_time": "2022-09-22T15:44:11.510Z"
   },
   {
    "duration": 19,
    "start_time": "2022-09-22T15:44:15.245Z"
   },
   {
    "duration": 27,
    "start_time": "2022-09-22T15:44:39.464Z"
   },
   {
    "duration": 15,
    "start_time": "2022-09-22T15:44:59.442Z"
   },
   {
    "duration": 21,
    "start_time": "2022-09-22T15:45:14.337Z"
   },
   {
    "duration": 3,
    "start_time": "2022-09-22T15:46:51.858Z"
   },
   {
    "duration": 71,
    "start_time": "2022-09-22T15:46:51.863Z"
   },
   {
    "duration": 14,
    "start_time": "2022-09-22T15:46:51.935Z"
   },
   {
    "duration": 32,
    "start_time": "2022-09-22T15:46:51.950Z"
   },
   {
    "duration": 6,
    "start_time": "2022-09-22T15:46:51.985Z"
   },
   {
    "duration": 35,
    "start_time": "2022-09-22T15:46:51.993Z"
   },
   {
    "duration": 16,
    "start_time": "2022-09-22T15:46:52.030Z"
   },
   {
    "duration": 428,
    "start_time": "2022-09-22T15:46:52.047Z"
   },
   {
    "duration": 0,
    "start_time": "2022-09-22T15:46:52.477Z"
   },
   {
    "duration": 0,
    "start_time": "2022-09-22T15:46:52.478Z"
   },
   {
    "duration": 17,
    "start_time": "2022-09-22T15:47:06.691Z"
   },
   {
    "duration": 9,
    "start_time": "2022-09-22T15:47:57.628Z"
   },
   {
    "duration": 16,
    "start_time": "2022-09-22T15:48:10.835Z"
   },
   {
    "duration": 24,
    "start_time": "2022-09-22T15:51:13.496Z"
   },
   {
    "duration": 3,
    "start_time": "2022-09-22T15:51:22.404Z"
   },
   {
    "duration": 59,
    "start_time": "2022-09-22T15:51:22.409Z"
   },
   {
    "duration": 21,
    "start_time": "2022-09-22T15:51:22.470Z"
   },
   {
    "duration": 28,
    "start_time": "2022-09-22T15:51:22.495Z"
   },
   {
    "duration": 4,
    "start_time": "2022-09-22T15:51:22.525Z"
   },
   {
    "duration": 11,
    "start_time": "2022-09-22T15:51:22.530Z"
   },
   {
    "duration": 8,
    "start_time": "2022-09-22T15:51:22.542Z"
   },
   {
    "duration": 7,
    "start_time": "2022-09-22T15:51:22.552Z"
   },
   {
    "duration": 44,
    "start_time": "2022-09-22T15:51:22.561Z"
   },
   {
    "duration": 24,
    "start_time": "2022-09-22T15:51:22.607Z"
   },
   {
    "duration": 0,
    "start_time": "2022-09-22T15:51:22.633Z"
   },
   {
    "duration": 6,
    "start_time": "2022-09-22T15:52:42.168Z"
   },
   {
    "duration": 12,
    "start_time": "2022-09-22T15:52:46.379Z"
   },
   {
    "duration": 23,
    "start_time": "2022-09-22T15:52:50.324Z"
   },
   {
    "duration": 7,
    "start_time": "2022-09-22T15:53:44.665Z"
   },
   {
    "duration": 14,
    "start_time": "2022-09-22T15:53:47.344Z"
   },
   {
    "duration": 7,
    "start_time": "2022-09-22T15:53:57.448Z"
   },
   {
    "duration": 14,
    "start_time": "2022-09-22T15:54:00.605Z"
   },
   {
    "duration": 9,
    "start_time": "2022-09-22T15:54:08.104Z"
   },
   {
    "duration": 14,
    "start_time": "2022-09-22T15:54:10.566Z"
   },
   {
    "duration": 13,
    "start_time": "2022-09-22T16:00:42.953Z"
   },
   {
    "duration": 7,
    "start_time": "2022-09-22T16:00:47.094Z"
   },
   {
    "duration": 5,
    "start_time": "2022-09-22T16:01:14.827Z"
   },
   {
    "duration": 4,
    "start_time": "2022-09-22T16:01:30.538Z"
   },
   {
    "duration": 9,
    "start_time": "2022-09-22T16:01:51.227Z"
   },
   {
    "duration": 7,
    "start_time": "2022-09-22T16:02:03.480Z"
   },
   {
    "duration": 13,
    "start_time": "2022-09-22T16:02:06.456Z"
   },
   {
    "duration": 586,
    "start_time": "2022-09-22T16:05:07.635Z"
   },
   {
    "duration": 708,
    "start_time": "2022-09-22T16:05:13.263Z"
   },
   {
    "duration": 6,
    "start_time": "2022-09-22T16:05:51.307Z"
   },
   {
    "duration": 9,
    "start_time": "2022-09-22T16:08:48.832Z"
   },
   {
    "duration": 8,
    "start_time": "2022-09-22T16:08:54.263Z"
   },
   {
    "duration": 20,
    "start_time": "2022-09-22T16:09:01.288Z"
   },
   {
    "duration": 8,
    "start_time": "2022-09-22T16:09:08.933Z"
   },
   {
    "duration": 9,
    "start_time": "2022-09-22T16:09:15.667Z"
   },
   {
    "duration": 18,
    "start_time": "2022-09-22T16:09:43.949Z"
   },
   {
    "duration": 27,
    "start_time": "2022-09-22T16:09:49.185Z"
   },
   {
    "duration": 27,
    "start_time": "2022-09-22T16:10:00.991Z"
   },
   {
    "duration": 11,
    "start_time": "2022-09-22T16:10:08.117Z"
   },
   {
    "duration": 14,
    "start_time": "2022-09-22T16:10:57.756Z"
   },
   {
    "duration": 10,
    "start_time": "2022-09-22T16:11:14.354Z"
   },
   {
    "duration": 4,
    "start_time": "2022-09-22T16:11:41.268Z"
   },
   {
    "duration": 6,
    "start_time": "2022-09-22T16:11:54.929Z"
   },
   {
    "duration": 8,
    "start_time": "2022-09-22T16:12:32.871Z"
   },
   {
    "duration": 8,
    "start_time": "2022-09-22T16:12:43.273Z"
   },
   {
    "duration": 9,
    "start_time": "2022-09-22T16:13:05.727Z"
   },
   {
    "duration": 9,
    "start_time": "2022-09-22T16:13:27.175Z"
   },
   {
    "duration": 14,
    "start_time": "2022-09-22T16:13:44.538Z"
   },
   {
    "duration": 25,
    "start_time": "2022-09-22T16:14:01.631Z"
   },
   {
    "duration": 16,
    "start_time": "2022-09-22T16:14:58.092Z"
   },
   {
    "duration": 9,
    "start_time": "2022-09-22T16:15:02.045Z"
   },
   {
    "duration": 10,
    "start_time": "2022-09-22T16:16:00.958Z"
   },
   {
    "duration": 25,
    "start_time": "2022-09-22T16:16:14.451Z"
   },
   {
    "duration": 69,
    "start_time": "2022-09-22T16:18:15.467Z"
   },
   {
    "duration": 10,
    "start_time": "2022-09-22T16:18:18.109Z"
   },
   {
    "duration": 7,
    "start_time": "2022-09-22T16:18:45.127Z"
   },
   {
    "duration": 8,
    "start_time": "2022-09-22T16:18:52.881Z"
   },
   {
    "duration": 7,
    "start_time": "2022-09-22T16:18:58.072Z"
   },
   {
    "duration": 11,
    "start_time": "2022-09-22T16:19:03.983Z"
   },
   {
    "duration": 13,
    "start_time": "2022-09-22T16:20:08.206Z"
   },
   {
    "duration": 9,
    "start_time": "2022-09-22T16:20:37.096Z"
   },
   {
    "duration": 12,
    "start_time": "2022-09-22T16:20:44.194Z"
   },
   {
    "duration": 4,
    "start_time": "2022-09-22T16:20:49.138Z"
   },
   {
    "duration": 7,
    "start_time": "2022-09-22T16:21:59.202Z"
   },
   {
    "duration": 7,
    "start_time": "2022-09-22T16:23:11.806Z"
   },
   {
    "duration": 947,
    "start_time": "2022-09-22T16:23:31.534Z"
   },
   {
    "duration": 1077,
    "start_time": "2022-09-22T16:23:42.480Z"
   },
   {
    "duration": 2,
    "start_time": "2022-09-22T16:23:57.490Z"
   },
   {
    "duration": 55,
    "start_time": "2022-09-22T16:23:57.494Z"
   },
   {
    "duration": 13,
    "start_time": "2022-09-22T16:23:57.551Z"
   },
   {
    "duration": 22,
    "start_time": "2022-09-22T16:23:57.566Z"
   },
   {
    "duration": 5,
    "start_time": "2022-09-22T16:23:57.592Z"
   },
   {
    "duration": 12,
    "start_time": "2022-09-22T16:23:57.599Z"
   },
   {
    "duration": 9,
    "start_time": "2022-09-22T16:23:57.612Z"
   },
   {
    "duration": 9,
    "start_time": "2022-09-22T16:23:57.622Z"
   },
   {
    "duration": 9,
    "start_time": "2022-09-22T16:23:57.633Z"
   },
   {
    "duration": 15,
    "start_time": "2022-09-22T16:23:57.644Z"
   },
   {
    "duration": 10,
    "start_time": "2022-09-22T16:24:00.944Z"
   },
   {
    "duration": 8,
    "start_time": "2022-09-22T16:24:05.869Z"
   },
   {
    "duration": 22,
    "start_time": "2022-09-22T16:24:15.272Z"
   },
   {
    "duration": 10,
    "start_time": "2022-09-22T16:24:57.511Z"
   },
   {
    "duration": 21,
    "start_time": "2022-09-22T16:25:01.541Z"
   },
   {
    "duration": 14,
    "start_time": "2022-09-22T16:25:15.433Z"
   },
   {
    "duration": 11,
    "start_time": "2022-09-22T16:25:49.605Z"
   },
   {
    "duration": 8,
    "start_time": "2022-09-22T16:25:51.757Z"
   },
   {
    "duration": 3,
    "start_time": "2022-09-22T16:26:05.335Z"
   },
   {
    "duration": 56,
    "start_time": "2022-09-22T16:26:05.340Z"
   },
   {
    "duration": 14,
    "start_time": "2022-09-22T16:26:05.398Z"
   },
   {
    "duration": 22,
    "start_time": "2022-09-22T16:26:05.413Z"
   },
   {
    "duration": 8,
    "start_time": "2022-09-22T16:26:05.437Z"
   },
   {
    "duration": 12,
    "start_time": "2022-09-22T16:26:05.447Z"
   },
   {
    "duration": 7,
    "start_time": "2022-09-22T16:26:05.461Z"
   },
   {
    "duration": 30,
    "start_time": "2022-09-22T16:26:05.470Z"
   },
   {
    "duration": 7,
    "start_time": "2022-09-22T16:26:05.502Z"
   },
   {
    "duration": 7,
    "start_time": "2022-09-22T16:26:08.587Z"
   },
   {
    "duration": 15,
    "start_time": "2022-09-22T16:26:10.831Z"
   },
   {
    "duration": 12,
    "start_time": "2022-09-22T16:26:45.509Z"
   },
   {
    "duration": 11,
    "start_time": "2022-09-22T16:26:49.158Z"
   },
   {
    "duration": 397,
    "start_time": "2022-09-22T18:08:36.718Z"
   },
   {
    "duration": 183,
    "start_time": "2022-09-22T18:08:37.118Z"
   },
   {
    "duration": 14,
    "start_time": "2022-09-22T18:08:37.303Z"
   },
   {
    "duration": 28,
    "start_time": "2022-09-22T18:08:37.319Z"
   },
   {
    "duration": 5,
    "start_time": "2022-09-22T18:08:37.349Z"
   },
   {
    "duration": 19,
    "start_time": "2022-09-22T18:08:37.355Z"
   },
   {
    "duration": 11,
    "start_time": "2022-09-22T18:08:37.376Z"
   },
   {
    "duration": 17,
    "start_time": "2022-09-22T18:08:37.389Z"
   },
   {
    "duration": 18,
    "start_time": "2022-09-22T18:08:37.407Z"
   },
   {
    "duration": 13,
    "start_time": "2022-09-22T18:08:37.427Z"
   },
   {
    "duration": 22,
    "start_time": "2022-09-22T18:08:37.442Z"
   },
   {
    "duration": 4,
    "start_time": "2022-09-22T18:08:37.465Z"
   },
   {
    "duration": 2,
    "start_time": "2022-09-22T18:14:44.475Z"
   },
   {
    "duration": 3,
    "start_time": "2022-09-22T18:15:01.602Z"
   },
   {
    "duration": 70,
    "start_time": "2022-09-22T18:15:01.607Z"
   },
   {
    "duration": 14,
    "start_time": "2022-09-22T18:15:01.679Z"
   },
   {
    "duration": 35,
    "start_time": "2022-09-22T18:15:01.694Z"
   },
   {
    "duration": 12,
    "start_time": "2022-09-22T18:15:01.731Z"
   },
   {
    "duration": 19,
    "start_time": "2022-09-22T18:15:01.745Z"
   },
   {
    "duration": 19,
    "start_time": "2022-09-22T18:15:01.765Z"
   },
   {
    "duration": 27,
    "start_time": "2022-09-22T18:15:01.785Z"
   },
   {
    "duration": 22,
    "start_time": "2022-09-22T18:15:01.814Z"
   },
   {
    "duration": 7,
    "start_time": "2022-09-22T18:15:06.912Z"
   },
   {
    "duration": 13,
    "start_time": "2022-09-22T18:15:09.090Z"
   },
   {
    "duration": 18,
    "start_time": "2022-09-22T18:15:29.036Z"
   },
   {
    "duration": 4,
    "start_time": "2022-09-22T18:15:34.111Z"
   },
   {
    "duration": 59,
    "start_time": "2022-09-22T18:18:34.149Z"
   },
   {
    "duration": 7,
    "start_time": "2022-09-22T18:18:40.259Z"
   },
   {
    "duration": 3,
    "start_time": "2022-09-22T18:18:43.601Z"
   },
   {
    "duration": 51,
    "start_time": "2022-09-22T18:18:43.606Z"
   },
   {
    "duration": 12,
    "start_time": "2022-09-22T18:18:43.659Z"
   },
   {
    "duration": 29,
    "start_time": "2022-09-22T18:18:43.674Z"
   },
   {
    "duration": 7,
    "start_time": "2022-09-22T18:18:43.705Z"
   },
   {
    "duration": 14,
    "start_time": "2022-09-22T18:18:43.714Z"
   },
   {
    "duration": 9,
    "start_time": "2022-09-22T18:18:43.730Z"
   },
   {
    "duration": 8,
    "start_time": "2022-09-22T18:18:43.741Z"
   },
   {
    "duration": 6,
    "start_time": "2022-09-22T18:18:43.751Z"
   },
   {
    "duration": 13,
    "start_time": "2022-09-22T18:18:43.759Z"
   },
   {
    "duration": 16,
    "start_time": "2022-09-22T18:18:43.773Z"
   },
   {
    "duration": 4,
    "start_time": "2022-09-22T18:18:43.821Z"
   },
   {
    "duration": 14,
    "start_time": "2022-09-22T18:21:26.437Z"
   },
   {
    "duration": 13,
    "start_time": "2022-09-22T18:21:29.245Z"
   },
   {
    "duration": 22,
    "start_time": "2022-09-22T18:21:34.593Z"
   },
   {
    "duration": 29,
    "start_time": "2022-09-22T18:21:38.718Z"
   },
   {
    "duration": 21,
    "start_time": "2022-09-22T18:21:43.521Z"
   },
   {
    "duration": 26,
    "start_time": "2022-09-22T18:21:45.800Z"
   },
   {
    "duration": 16,
    "start_time": "2022-09-22T18:32:23.620Z"
   },
   {
    "duration": 24,
    "start_time": "2022-09-22T18:32:26.863Z"
   },
   {
    "duration": 39,
    "start_time": "2022-09-22T18:32:29.213Z"
   },
   {
    "duration": 20,
    "start_time": "2022-09-22T18:32:33.339Z"
   },
   {
    "duration": 17,
    "start_time": "2022-09-22T18:32:37.279Z"
   },
   {
    "duration": 15,
    "start_time": "2022-09-22T18:33:14.657Z"
   },
   {
    "duration": 13,
    "start_time": "2022-09-22T18:33:16.431Z"
   },
   {
    "duration": 47,
    "start_time": "2022-09-23T06:13:39.729Z"
   },
   {
    "duration": 374,
    "start_time": "2022-09-23T06:13:49.703Z"
   },
   {
    "duration": 201,
    "start_time": "2022-09-23T06:13:50.079Z"
   },
   {
    "duration": 14,
    "start_time": "2022-09-23T06:13:50.281Z"
   },
   {
    "duration": 28,
    "start_time": "2022-09-23T06:13:50.296Z"
   },
   {
    "duration": 3,
    "start_time": "2022-09-23T06:13:50.326Z"
   },
   {
    "duration": 20,
    "start_time": "2022-09-23T06:13:50.331Z"
   },
   {
    "duration": 21,
    "start_time": "2022-09-23T06:13:50.352Z"
   },
   {
    "duration": 15,
    "start_time": "2022-09-23T06:13:50.374Z"
   },
   {
    "duration": 16,
    "start_time": "2022-09-23T06:13:50.391Z"
   },
   {
    "duration": 15,
    "start_time": "2022-09-23T06:13:50.409Z"
   },
   {
    "duration": 18,
    "start_time": "2022-09-23T06:13:50.425Z"
   },
   {
    "duration": 4,
    "start_time": "2022-09-23T06:13:50.444Z"
   },
   {
    "duration": 34,
    "start_time": "2022-09-23T06:17:41.493Z"
   },
   {
    "duration": 570,
    "start_time": "2022-09-23T06:18:37.160Z"
   },
   {
    "duration": 29,
    "start_time": "2022-09-23T06:19:40.319Z"
   },
   {
    "duration": 45,
    "start_time": "2022-09-23T06:32:49.820Z"
   },
   {
    "duration": 4,
    "start_time": "2022-09-23T06:32:52.689Z"
   },
   {
    "duration": 43,
    "start_time": "2022-09-23T06:32:55.646Z"
   },
   {
    "duration": 13,
    "start_time": "2022-09-23T06:39:01.657Z"
   },
   {
    "duration": 8,
    "start_time": "2022-09-23T06:39:26.612Z"
   },
   {
    "duration": 22,
    "start_time": "2022-09-23T06:40:06.093Z"
   },
   {
    "duration": 5,
    "start_time": "2022-09-23T06:40:11.894Z"
   },
   {
    "duration": 5,
    "start_time": "2022-09-23T06:40:14.214Z"
   },
   {
    "duration": 5,
    "start_time": "2022-09-23T06:40:20.050Z"
   },
   {
    "duration": 4,
    "start_time": "2022-09-23T06:40:21.852Z"
   },
   {
    "duration": 3,
    "start_time": "2022-09-23T06:40:28.318Z"
   },
   {
    "duration": 64,
    "start_time": "2022-09-23T06:40:28.322Z"
   },
   {
    "duration": 12,
    "start_time": "2022-09-23T06:40:28.387Z"
   },
   {
    "duration": 19,
    "start_time": "2022-09-23T06:40:28.412Z"
   },
   {
    "duration": 4,
    "start_time": "2022-09-23T06:40:28.434Z"
   },
   {
    "duration": 9,
    "start_time": "2022-09-23T06:40:28.439Z"
   },
   {
    "duration": 7,
    "start_time": "2022-09-23T06:40:28.449Z"
   },
   {
    "duration": 7,
    "start_time": "2022-09-23T06:40:28.458Z"
   },
   {
    "duration": 7,
    "start_time": "2022-09-23T06:40:28.466Z"
   },
   {
    "duration": 45,
    "start_time": "2022-09-23T06:40:28.474Z"
   },
   {
    "duration": 47,
    "start_time": "2022-09-23T06:40:28.520Z"
   },
   {
    "duration": 4,
    "start_time": "2022-09-23T06:40:28.569Z"
   },
   {
    "duration": 5,
    "start_time": "2022-09-23T06:40:28.575Z"
   },
   {
    "duration": 9,
    "start_time": "2022-09-23T06:40:59.836Z"
   },
   {
    "duration": 12,
    "start_time": "2022-09-23T06:43:37.966Z"
   },
   {
    "duration": 10,
    "start_time": "2022-09-23T06:44:07.298Z"
   },
   {
    "duration": 7,
    "start_time": "2022-09-23T06:44:09.587Z"
   },
   {
    "duration": 4,
    "start_time": "2022-09-23T06:44:13.361Z"
   },
   {
    "duration": 8,
    "start_time": "2022-09-23T06:48:05.911Z"
   },
   {
    "duration": 4,
    "start_time": "2022-09-23T06:48:11.437Z"
   },
   {
    "duration": 76,
    "start_time": "2022-09-23T06:48:11.443Z"
   },
   {
    "duration": 14,
    "start_time": "2022-09-23T06:48:11.521Z"
   },
   {
    "duration": 18,
    "start_time": "2022-09-23T06:48:11.537Z"
   },
   {
    "duration": 5,
    "start_time": "2022-09-23T06:48:11.556Z"
   },
   {
    "duration": 9,
    "start_time": "2022-09-23T06:48:11.562Z"
   },
   {
    "duration": 10,
    "start_time": "2022-09-23T06:48:11.572Z"
   },
   {
    "duration": 29,
    "start_time": "2022-09-23T06:48:11.584Z"
   },
   {
    "duration": 9,
    "start_time": "2022-09-23T06:48:11.615Z"
   },
   {
    "duration": 15,
    "start_time": "2022-09-23T06:48:11.626Z"
   },
   {
    "duration": 62,
    "start_time": "2022-09-23T06:48:11.643Z"
   },
   {
    "duration": 9,
    "start_time": "2022-09-23T06:48:11.712Z"
   },
   {
    "duration": 9,
    "start_time": "2022-09-23T06:48:11.722Z"
   },
   {
    "duration": 52,
    "start_time": "2022-09-23T06:51:31.873Z"
   },
   {
    "duration": 863,
    "start_time": "2022-09-23T06:56:53.190Z"
   },
   {
    "duration": 1031,
    "start_time": "2022-09-23T06:57:28.245Z"
   },
   {
    "duration": 3,
    "start_time": "2022-09-23T06:57:40.330Z"
   },
   {
    "duration": 49,
    "start_time": "2022-09-23T06:57:40.335Z"
   },
   {
    "duration": 12,
    "start_time": "2022-09-23T06:57:40.385Z"
   },
   {
    "duration": 33,
    "start_time": "2022-09-23T06:57:40.399Z"
   },
   {
    "duration": 8,
    "start_time": "2022-09-23T06:57:40.434Z"
   },
   {
    "duration": 10,
    "start_time": "2022-09-23T06:57:40.443Z"
   },
   {
    "duration": 10,
    "start_time": "2022-09-23T06:57:40.455Z"
   },
   {
    "duration": 9,
    "start_time": "2022-09-23T06:57:40.467Z"
   },
   {
    "duration": 7,
    "start_time": "2022-09-23T06:57:40.478Z"
   },
   {
    "duration": 29,
    "start_time": "2022-09-23T06:57:40.487Z"
   },
   {
    "duration": 47,
    "start_time": "2022-09-23T06:57:40.518Z"
   },
   {
    "duration": 8,
    "start_time": "2022-09-23T06:57:40.567Z"
   },
   {
    "duration": 10,
    "start_time": "2022-09-23T06:57:40.577Z"
   },
   {
    "duration": 21,
    "start_time": "2022-09-23T06:57:40.588Z"
   },
   {
    "duration": 48,
    "start_time": "2022-09-23T07:00:25.423Z"
   },
   {
    "duration": 8,
    "start_time": "2022-09-23T07:23:43.982Z"
   },
   {
    "duration": 8,
    "start_time": "2022-09-23T07:23:53.364Z"
   },
   {
    "duration": 644,
    "start_time": "2022-09-23T08:16:19.981Z"
   },
   {
    "duration": 408,
    "start_time": "2022-09-23T08:16:45.287Z"
   },
   {
    "duration": 388,
    "start_time": "2022-09-23T08:17:26.054Z"
   },
   {
    "duration": 41,
    "start_time": "2022-09-23T08:19:55.127Z"
   },
   {
    "duration": 159,
    "start_time": "2022-09-23T08:20:00.082Z"
   },
   {
    "duration": 282,
    "start_time": "2022-09-23T08:21:56.176Z"
   },
   {
    "duration": 341,
    "start_time": "2022-09-23T08:22:10.937Z"
   },
   {
    "duration": 322,
    "start_time": "2022-09-23T08:22:24.707Z"
   },
   {
    "duration": 198,
    "start_time": "2022-09-23T08:23:33.640Z"
   },
   {
    "duration": 346,
    "start_time": "2022-09-23T08:23:41.566Z"
   },
   {
    "duration": 280,
    "start_time": "2022-09-23T08:23:55.807Z"
   },
   {
    "duration": 301,
    "start_time": "2022-09-23T08:24:29.165Z"
   },
   {
    "duration": 39,
    "start_time": "2022-09-23T08:27:30.731Z"
   },
   {
    "duration": 2,
    "start_time": "2022-09-23T08:27:44.756Z"
   },
   {
    "duration": 52,
    "start_time": "2022-09-23T08:27:44.760Z"
   },
   {
    "duration": 12,
    "start_time": "2022-09-23T08:27:44.813Z"
   },
   {
    "duration": 18,
    "start_time": "2022-09-23T08:27:44.827Z"
   },
   {
    "duration": 8,
    "start_time": "2022-09-23T08:27:44.847Z"
   },
   {
    "duration": 11,
    "start_time": "2022-09-23T08:27:44.857Z"
   },
   {
    "duration": 6,
    "start_time": "2022-09-23T08:27:44.870Z"
   },
   {
    "duration": 27,
    "start_time": "2022-09-23T08:27:44.878Z"
   },
   {
    "duration": 7,
    "start_time": "2022-09-23T08:27:44.907Z"
   },
   {
    "duration": 15,
    "start_time": "2022-09-23T08:27:44.915Z"
   },
   {
    "duration": 41,
    "start_time": "2022-09-23T08:27:44.932Z"
   },
   {
    "duration": 26,
    "start_time": "2022-09-23T08:27:44.975Z"
   },
   {
    "duration": 5,
    "start_time": "2022-09-23T08:27:45.002Z"
   },
   {
    "duration": 20,
    "start_time": "2022-09-23T08:27:45.010Z"
   },
   {
    "duration": 357,
    "start_time": "2022-09-23T08:27:45.032Z"
   },
   {
    "duration": 31,
    "start_time": "2022-09-23T08:27:45.391Z"
   },
   {
    "duration": 25,
    "start_time": "2022-09-23T08:28:06.760Z"
   },
   {
    "duration": 6,
    "start_time": "2022-09-23T08:28:16.430Z"
   },
   {
    "duration": 7,
    "start_time": "2022-09-23T08:28:32.152Z"
   },
   {
    "duration": 7,
    "start_time": "2022-09-23T08:30:19.475Z"
   },
   {
    "duration": 7,
    "start_time": "2022-09-23T08:39:17.768Z"
   },
   {
    "duration": 79,
    "start_time": "2022-09-23T08:40:24.132Z"
   },
   {
    "duration": 8,
    "start_time": "2022-09-23T08:40:41.611Z"
   },
   {
    "duration": 17,
    "start_time": "2022-09-23T08:40:44.399Z"
   },
   {
    "duration": 13,
    "start_time": "2022-09-23T08:47:36.917Z"
   },
   {
    "duration": 14,
    "start_time": "2022-09-23T08:47:44.313Z"
   },
   {
    "duration": 16,
    "start_time": "2022-09-23T08:47:47.413Z"
   },
   {
    "duration": 14,
    "start_time": "2022-09-23T08:49:55.464Z"
   },
   {
    "duration": 16,
    "start_time": "2022-09-23T08:50:48.047Z"
   },
   {
    "duration": 16,
    "start_time": "2022-09-23T08:51:04.491Z"
   },
   {
    "duration": 14,
    "start_time": "2022-09-23T08:51:21.554Z"
   },
   {
    "duration": 261,
    "start_time": "2022-09-23T08:58:59.366Z"
   },
   {
    "duration": 260,
    "start_time": "2022-09-23T08:59:30.856Z"
   },
   {
    "duration": 315,
    "start_time": "2022-09-23T08:59:45.258Z"
   },
   {
    "duration": 311,
    "start_time": "2022-09-23T09:00:46.918Z"
   },
   {
    "duration": 7,
    "start_time": "2022-09-23T09:01:21.036Z"
   },
   {
    "duration": 7,
    "start_time": "2022-09-23T09:01:40.260Z"
   },
   {
    "duration": 8,
    "start_time": "2022-09-23T09:01:55.632Z"
   },
   {
    "duration": 301,
    "start_time": "2022-09-23T09:02:19.664Z"
   },
   {
    "duration": 313,
    "start_time": "2022-09-23T09:02:25.206Z"
   },
   {
    "duration": 8,
    "start_time": "2022-09-23T09:02:29.718Z"
   },
   {
    "duration": 318,
    "start_time": "2022-09-23T09:02:38.460Z"
   },
   {
    "duration": 316,
    "start_time": "2022-09-23T09:02:46.080Z"
   },
   {
    "duration": 299,
    "start_time": "2022-09-23T09:03:06.164Z"
   },
   {
    "duration": 436,
    "start_time": "2022-09-23T09:04:24.270Z"
   },
   {
    "duration": 324,
    "start_time": "2022-09-23T09:04:35.200Z"
   },
   {
    "duration": 16,
    "start_time": "2022-09-23T09:04:37.642Z"
   },
   {
    "duration": 323,
    "start_time": "2022-09-23T09:04:39.955Z"
   },
   {
    "duration": 7,
    "start_time": "2022-09-23T09:04:52.228Z"
   },
   {
    "duration": 328,
    "start_time": "2022-09-23T09:05:43.137Z"
   },
   {
    "duration": 7,
    "start_time": "2022-09-23T09:05:48.303Z"
   },
   {
    "duration": 7,
    "start_time": "2022-09-23T09:05:54.925Z"
   },
   {
    "duration": 7,
    "start_time": "2022-09-23T09:07:08.314Z"
   },
   {
    "duration": 8,
    "start_time": "2022-09-23T09:07:37.076Z"
   },
   {
    "duration": 4,
    "start_time": "2022-09-23T09:08:11.133Z"
   },
   {
    "duration": 327,
    "start_time": "2022-09-23T09:15:20.317Z"
   },
   {
    "duration": 3,
    "start_time": "2022-09-23T09:15:46.728Z"
   },
   {
    "duration": 338,
    "start_time": "2022-09-23T09:16:30.430Z"
   },
   {
    "duration": 3,
    "start_time": "2022-09-23T09:20:08.150Z"
   },
   {
    "duration": 3,
    "start_time": "2022-09-23T09:28:18.925Z"
   },
   {
    "duration": 3,
    "start_time": "2022-09-23T09:28:21.262Z"
   },
   {
    "duration": 3,
    "start_time": "2022-09-23T09:28:29.069Z"
   },
   {
    "duration": 5,
    "start_time": "2022-09-23T09:28:32.078Z"
   },
   {
    "duration": 18,
    "start_time": "2022-09-23T09:29:18.440Z"
   },
   {
    "duration": 14,
    "start_time": "2022-09-23T09:29:38.423Z"
   },
   {
    "duration": 3,
    "start_time": "2022-09-23T09:30:14.759Z"
   },
   {
    "duration": 3,
    "start_time": "2022-09-23T09:30:19.113Z"
   },
   {
    "duration": 5,
    "start_time": "2022-09-23T09:30:29.177Z"
   },
   {
    "duration": 4,
    "start_time": "2022-09-23T09:30:49.103Z"
   },
   {
    "duration": 63,
    "start_time": "2022-09-23T10:12:44.934Z"
   },
   {
    "duration": 16,
    "start_time": "2022-09-23T10:12:52.782Z"
   },
   {
    "duration": 3325,
    "start_time": "2022-09-23T10:13:09.505Z"
   },
   {
    "duration": 2,
    "start_time": "2022-09-23T10:20:17.740Z"
   },
   {
    "duration": 224,
    "start_time": "2022-09-23T10:22:46.490Z"
   },
   {
    "duration": 115,
    "start_time": "2022-09-23T10:23:09.353Z"
   },
   {
    "duration": 139,
    "start_time": "2022-09-23T10:23:14.400Z"
   },
   {
    "duration": 1785,
    "start_time": "2022-09-23T10:25:01.190Z"
   },
   {
    "duration": 219,
    "start_time": "2022-09-23T10:25:12.290Z"
   },
   {
    "duration": 233,
    "start_time": "2022-09-23T10:25:27.259Z"
   },
   {
    "duration": 253,
    "start_time": "2022-09-23T10:26:26.995Z"
   },
   {
    "duration": 373,
    "start_time": "2022-09-23T10:26:37.358Z"
   },
   {
    "duration": 201,
    "start_time": "2022-09-23T10:27:04.675Z"
   },
   {
    "duration": 359,
    "start_time": "2022-09-23T10:27:12.192Z"
   },
   {
    "duration": 435,
    "start_time": "2022-09-23T10:42:06.171Z"
   },
   {
    "duration": 198,
    "start_time": "2022-09-23T10:46:06.779Z"
   },
   {
    "duration": 370,
    "start_time": "2022-09-23T10:48:10.982Z"
   },
   {
    "duration": 389,
    "start_time": "2022-09-23T10:48:32.253Z"
   },
   {
    "duration": 403,
    "start_time": "2022-09-23T10:48:43.702Z"
   },
   {
    "duration": 485,
    "start_time": "2022-09-23T10:48:57.149Z"
   },
   {
    "duration": 351,
    "start_time": "2022-09-23T10:49:03.755Z"
   },
   {
    "duration": 408,
    "start_time": "2022-09-23T10:50:14.110Z"
   },
   {
    "duration": 359,
    "start_time": "2022-09-23T10:51:51.896Z"
   },
   {
    "duration": 351,
    "start_time": "2022-09-23T10:52:01.610Z"
   },
   {
    "duration": 404,
    "start_time": "2022-09-23T10:52:05.385Z"
   },
   {
    "duration": 435,
    "start_time": "2022-09-23T10:52:14.972Z"
   },
   {
    "duration": 208,
    "start_time": "2022-09-23T10:54:09.229Z"
   },
   {
    "duration": 192,
    "start_time": "2022-09-23T10:54:13.721Z"
   },
   {
    "duration": 186,
    "start_time": "2022-09-23T10:54:18.656Z"
   },
   {
    "duration": 192,
    "start_time": "2022-09-23T10:55:42.770Z"
   },
   {
    "duration": 3,
    "start_time": "2022-09-23T10:55:54.157Z"
   },
   {
    "duration": 60,
    "start_time": "2022-09-23T10:55:54.162Z"
   },
   {
    "duration": 12,
    "start_time": "2022-09-23T10:55:54.223Z"
   },
   {
    "duration": 19,
    "start_time": "2022-09-23T10:55:54.237Z"
   },
   {
    "duration": 5,
    "start_time": "2022-09-23T10:55:54.258Z"
   },
   {
    "duration": 9,
    "start_time": "2022-09-23T10:55:54.264Z"
   },
   {
    "duration": 7,
    "start_time": "2022-09-23T10:55:54.274Z"
   },
   {
    "duration": 8,
    "start_time": "2022-09-23T10:55:54.300Z"
   },
   {
    "duration": 13,
    "start_time": "2022-09-23T10:55:54.310Z"
   },
   {
    "duration": 12,
    "start_time": "2022-09-23T10:55:54.324Z"
   },
   {
    "duration": 50,
    "start_time": "2022-09-23T10:55:54.337Z"
   },
   {
    "duration": 20,
    "start_time": "2022-09-23T10:55:54.389Z"
   },
   {
    "duration": 6,
    "start_time": "2022-09-23T10:55:54.410Z"
   },
   {
    "duration": 23,
    "start_time": "2022-09-23T10:55:54.419Z"
   },
   {
    "duration": 323,
    "start_time": "2022-09-23T10:55:54.444Z"
   },
   {
    "duration": 7,
    "start_time": "2022-09-23T10:55:54.768Z"
   },
   {
    "duration": 310,
    "start_time": "2022-09-23T10:55:54.776Z"
   },
   {
    "duration": 205,
    "start_time": "2022-09-23T10:55:55.088Z"
   },
   {
    "duration": 368,
    "start_time": "2022-09-23T10:56:01.268Z"
   },
   {
    "duration": 186,
    "start_time": "2022-09-23T11:00:16.064Z"
   },
   {
    "duration": 257,
    "start_time": "2022-09-23T11:00:24.615Z"
   },
   {
    "duration": 375,
    "start_time": "2022-09-23T11:00:33.094Z"
   },
   {
    "duration": 11,
    "start_time": "2022-09-26T09:19:11.210Z"
   },
   {
    "duration": 54,
    "start_time": "2022-09-26T09:19:18.642Z"
   },
   {
    "duration": 794,
    "start_time": "2022-09-26T09:19:29.062Z"
   },
   {
    "duration": 194,
    "start_time": "2022-09-26T09:19:29.858Z"
   },
   {
    "duration": 17,
    "start_time": "2022-09-26T09:19:30.054Z"
   },
   {
    "duration": 33,
    "start_time": "2022-09-26T09:19:30.072Z"
   },
   {
    "duration": 4,
    "start_time": "2022-09-26T09:19:30.107Z"
   },
   {
    "duration": 25,
    "start_time": "2022-09-26T09:19:30.112Z"
   },
   {
    "duration": 18,
    "start_time": "2022-09-26T09:19:30.139Z"
   },
   {
    "duration": 42,
    "start_time": "2022-09-26T09:19:30.159Z"
   },
   {
    "duration": 29,
    "start_time": "2022-09-26T09:19:30.203Z"
   },
   {
    "duration": 28,
    "start_time": "2022-09-26T09:19:30.233Z"
   },
   {
    "duration": 58,
    "start_time": "2022-09-26T09:19:30.262Z"
   },
   {
    "duration": 9,
    "start_time": "2022-09-26T09:19:30.321Z"
   },
   {
    "duration": 35,
    "start_time": "2022-09-26T09:19:30.332Z"
   },
   {
    "duration": 17,
    "start_time": "2022-09-26T09:19:30.369Z"
   },
   {
    "duration": 343,
    "start_time": "2022-09-26T09:19:30.388Z"
   },
   {
    "duration": 8,
    "start_time": "2022-09-26T09:19:30.733Z"
   },
   {
    "duration": 366,
    "start_time": "2022-09-26T09:19:30.742Z"
   },
   {
    "duration": 474,
    "start_time": "2022-09-26T09:19:31.110Z"
   },
   {
    "duration": 665,
    "start_time": "2022-09-26T09:20:20.648Z"
   },
   {
    "duration": 574,
    "start_time": "2022-09-26T09:21:15.347Z"
   },
   {
    "duration": 649,
    "start_time": "2022-09-26T09:22:35.081Z"
   },
   {
    "duration": 304,
    "start_time": "2022-09-26T09:23:40.990Z"
   },
   {
    "duration": 549,
    "start_time": "2022-09-26T09:23:49.546Z"
   },
   {
    "duration": 597,
    "start_time": "2022-09-26T09:24:14.976Z"
   },
   {
    "duration": 575,
    "start_time": "2022-09-26T09:26:41.670Z"
   },
   {
    "duration": 498,
    "start_time": "2022-09-26T09:31:15.687Z"
   },
   {
    "duration": 488,
    "start_time": "2022-09-26T09:31:23.839Z"
   },
   {
    "duration": 516,
    "start_time": "2022-09-26T09:31:33.659Z"
   },
   {
    "duration": 577,
    "start_time": "2022-09-26T09:31:43.692Z"
   },
   {
    "duration": 457,
    "start_time": "2022-09-26T09:37:56.942Z"
   },
   {
    "duration": 195,
    "start_time": "2022-09-26T09:43:18.166Z"
   },
   {
    "duration": 441,
    "start_time": "2022-09-26T09:43:24.251Z"
   },
   {
    "duration": 552,
    "start_time": "2022-09-26T09:43:30.791Z"
   },
   {
    "duration": 158,
    "start_time": "2022-09-26T09:43:35.489Z"
   },
   {
    "duration": 486,
    "start_time": "2022-09-26T09:43:58.252Z"
   },
   {
    "duration": 454,
    "start_time": "2022-09-26T09:44:30.145Z"
   },
   {
    "duration": 561,
    "start_time": "2022-09-26T09:50:43.769Z"
   },
   {
    "duration": 171,
    "start_time": "2022-09-26T09:53:31.276Z"
   },
   {
    "duration": 471,
    "start_time": "2022-09-26T09:53:40.871Z"
   },
   {
    "duration": 464,
    "start_time": "2022-09-26T09:53:45.184Z"
   },
   {
    "duration": 468,
    "start_time": "2022-09-26T09:56:14.008Z"
   },
   {
    "duration": 528,
    "start_time": "2022-09-26T09:56:33.686Z"
   },
   {
    "duration": 521,
    "start_time": "2022-09-26T09:56:46.236Z"
   },
   {
    "duration": 462,
    "start_time": "2022-09-26T09:56:53.236Z"
   },
   {
    "duration": 102,
    "start_time": "2022-09-26T10:01:47.127Z"
   },
   {
    "duration": 590,
    "start_time": "2022-09-26T10:01:52.041Z"
   },
   {
    "duration": 458,
    "start_time": "2022-09-26T10:02:22.924Z"
   },
   {
    "duration": 470,
    "start_time": "2022-09-26T10:03:49.195Z"
   },
   {
    "duration": 513,
    "start_time": "2022-09-26T10:04:46.249Z"
   },
   {
    "duration": 569,
    "start_time": "2022-09-26T10:04:57.855Z"
   },
   {
    "duration": 480,
    "start_time": "2022-09-26T10:05:50.120Z"
   },
   {
    "duration": 496,
    "start_time": "2022-09-26T10:07:23.145Z"
   },
   {
    "duration": 152,
    "start_time": "2022-09-26T10:08:20.065Z"
   },
   {
    "duration": 570,
    "start_time": "2022-09-26T10:09:18.783Z"
   },
   {
    "duration": 503,
    "start_time": "2022-09-26T10:09:27.023Z"
   },
   {
    "duration": 492,
    "start_time": "2022-09-26T10:10:15.037Z"
   },
   {
    "duration": 15,
    "start_time": "2022-09-26T10:31:46.106Z"
   },
   {
    "duration": 6,
    "start_time": "2022-09-26T10:32:05.136Z"
   },
   {
    "duration": 6,
    "start_time": "2022-09-26T10:32:15.226Z"
   },
   {
    "duration": 7,
    "start_time": "2022-09-26T10:32:50.504Z"
   },
   {
    "duration": 776,
    "start_time": "2022-09-26T16:38:32.277Z"
   },
   {
    "duration": 99,
    "start_time": "2022-09-26T16:38:33.055Z"
   },
   {
    "duration": 15,
    "start_time": "2022-09-26T16:38:33.155Z"
   },
   {
    "duration": 21,
    "start_time": "2022-09-26T16:38:33.172Z"
   },
   {
    "duration": 3,
    "start_time": "2022-09-26T16:38:33.195Z"
   },
   {
    "duration": 11,
    "start_time": "2022-09-26T16:38:33.199Z"
   },
   {
    "duration": 9,
    "start_time": "2022-09-26T16:38:33.211Z"
   },
   {
    "duration": 9,
    "start_time": "2022-09-26T16:38:33.222Z"
   },
   {
    "duration": 22,
    "start_time": "2022-09-26T16:38:33.232Z"
   },
   {
    "duration": 16,
    "start_time": "2022-09-26T16:38:33.256Z"
   },
   {
    "duration": 51,
    "start_time": "2022-09-26T16:38:33.274Z"
   },
   {
    "duration": 9,
    "start_time": "2022-09-26T16:38:33.326Z"
   },
   {
    "duration": 6,
    "start_time": "2022-09-26T16:38:33.337Z"
   },
   {
    "duration": 9,
    "start_time": "2022-09-26T16:38:33.346Z"
   },
   {
    "duration": 341,
    "start_time": "2022-09-26T16:38:33.357Z"
   },
   {
    "duration": 7,
    "start_time": "2022-09-26T16:38:33.700Z"
   },
   {
    "duration": 318,
    "start_time": "2022-09-26T16:38:33.708Z"
   },
   {
    "duration": 571,
    "start_time": "2022-09-26T16:38:34.028Z"
   },
   {
    "duration": 6,
    "start_time": "2022-09-26T16:38:34.602Z"
   },
   {
    "duration": 6,
    "start_time": "2022-09-26T16:55:15.212Z"
   },
   {
    "duration": 463,
    "start_time": "2022-09-26T16:55:17.773Z"
   },
   {
    "duration": 50,
    "start_time": "2022-09-26T16:57:34.912Z"
   },
   {
    "duration": 53,
    "start_time": "2022-09-26T16:58:00.988Z"
   },
   {
    "duration": 190,
    "start_time": "2022-09-26T16:59:53.076Z"
   },
   {
    "duration": 250,
    "start_time": "2022-09-26T17:04:03.707Z"
   },
   {
    "duration": 158,
    "start_time": "2022-09-26T17:06:27.887Z"
   },
   {
    "duration": 188,
    "start_time": "2022-09-26T17:06:34.235Z"
   },
   {
    "duration": 163,
    "start_time": "2022-09-26T17:06:59.918Z"
   },
   {
    "duration": 165,
    "start_time": "2022-09-26T17:07:07.846Z"
   },
   {
    "duration": 223,
    "start_time": "2022-09-26T17:07:26.879Z"
   },
   {
    "duration": 165,
    "start_time": "2022-09-26T17:08:08.495Z"
   },
   {
    "duration": 178,
    "start_time": "2022-09-26T17:10:27.873Z"
   },
   {
    "duration": 156,
    "start_time": "2022-09-26T17:10:39.049Z"
   },
   {
    "duration": 178,
    "start_time": "2022-09-26T17:13:29.143Z"
   },
   {
    "duration": 164,
    "start_time": "2022-09-26T17:16:49.164Z"
   },
   {
    "duration": 174,
    "start_time": "2022-09-26T17:17:10.803Z"
   },
   {
    "duration": 194,
    "start_time": "2022-09-26T17:17:14.308Z"
   },
   {
    "duration": 170,
    "start_time": "2022-09-26T17:17:19.049Z"
   },
   {
    "duration": 153,
    "start_time": "2022-09-26T17:18:01.114Z"
   },
   {
    "duration": 164,
    "start_time": "2022-09-26T17:18:31.862Z"
   },
   {
    "duration": 242,
    "start_time": "2022-09-26T17:18:36.688Z"
   },
   {
    "duration": 168,
    "start_time": "2022-09-26T17:18:46.831Z"
   },
   {
    "duration": 155,
    "start_time": "2022-09-26T17:18:50.412Z"
   },
   {
    "duration": 184,
    "start_time": "2022-09-26T17:18:55.046Z"
   },
   {
    "duration": 213,
    "start_time": "2022-09-26T17:19:14.521Z"
   },
   {
    "duration": 164,
    "start_time": "2022-09-26T17:25:45.005Z"
   },
   {
    "duration": 161,
    "start_time": "2022-09-26T17:25:48.662Z"
   },
   {
    "duration": 164,
    "start_time": "2022-09-26T17:25:51.590Z"
   },
   {
    "duration": 222,
    "start_time": "2022-09-26T17:25:54.355Z"
   },
   {
    "duration": 165,
    "start_time": "2022-09-26T17:25:59.105Z"
   },
   {
    "duration": 1133,
    "start_time": "2022-09-26T17:27:34.034Z"
   },
   {
    "duration": 219,
    "start_time": "2022-09-26T17:29:27.750Z"
   },
   {
    "duration": 193,
    "start_time": "2022-09-26T17:32:55.336Z"
   },
   {
    "duration": 208,
    "start_time": "2022-09-26T17:33:04.463Z"
   },
   {
    "duration": 180,
    "start_time": "2022-09-26T17:33:37.501Z"
   },
   {
    "duration": 169,
    "start_time": "2022-09-26T17:34:00.938Z"
   },
   {
    "duration": 156,
    "start_time": "2022-09-26T17:34:21.442Z"
   },
   {
    "duration": 44,
    "start_time": "2022-09-26T17:34:31.202Z"
   },
   {
    "duration": 158,
    "start_time": "2022-09-26T17:34:39.505Z"
   },
   {
    "duration": 173,
    "start_time": "2022-09-26T17:34:51.829Z"
   },
   {
    "duration": 167,
    "start_time": "2022-09-26T17:35:02.848Z"
   },
   {
    "duration": 315,
    "start_time": "2022-09-26T17:35:40.598Z"
   },
   {
    "duration": 177,
    "start_time": "2022-09-26T17:36:05.484Z"
   },
   {
    "duration": 289,
    "start_time": "2022-09-26T17:36:13.339Z"
   },
   {
    "duration": 210,
    "start_time": "2022-09-26T17:36:26.490Z"
   },
   {
    "duration": 198,
    "start_time": "2022-09-26T17:37:16.047Z"
   },
   {
    "duration": 196,
    "start_time": "2022-09-26T17:38:05.304Z"
   },
   {
    "duration": 227,
    "start_time": "2022-09-26T17:38:17.773Z"
   },
   {
    "duration": 383,
    "start_time": "2022-09-26T17:38:29.082Z"
   },
   {
    "duration": 208,
    "start_time": "2022-09-26T17:39:22.284Z"
   },
   {
    "duration": 318,
    "start_time": "2022-09-26T17:40:31.799Z"
   },
   {
    "duration": 328,
    "start_time": "2022-09-26T17:41:32.623Z"
   },
   {
    "duration": 311,
    "start_time": "2022-09-26T17:41:36.762Z"
   },
   {
    "duration": 384,
    "start_time": "2022-09-26T17:41:55.466Z"
   },
   {
    "duration": 202,
    "start_time": "2022-09-26T17:59:07.398Z"
   },
   {
    "duration": 331,
    "start_time": "2022-09-26T17:59:12.048Z"
   },
   {
    "duration": 333,
    "start_time": "2022-09-26T17:59:38.966Z"
   },
   {
    "duration": 313,
    "start_time": "2022-09-26T18:04:50.196Z"
   },
   {
    "duration": 398,
    "start_time": "2022-09-26T18:10:04.567Z"
   },
   {
    "duration": 426,
    "start_time": "2022-09-26T18:13:07.921Z"
   },
   {
    "duration": 328,
    "start_time": "2022-09-26T18:13:26.234Z"
   },
   {
    "duration": 4,
    "start_time": "2022-09-26T18:19:17.163Z"
   },
   {
    "duration": 20,
    "start_time": "2022-09-26T18:20:57.848Z"
   },
   {
    "duration": 9,
    "start_time": "2022-09-26T20:39:59.462Z"
   },
   {
    "duration": 7,
    "start_time": "2022-09-26T20:40:04.917Z"
   },
   {
    "duration": 3,
    "start_time": "2022-09-26T20:41:05.929Z"
   },
   {
    "duration": 49,
    "start_time": "2022-09-26T20:41:05.934Z"
   },
   {
    "duration": 15,
    "start_time": "2022-09-26T20:41:05.984Z"
   },
   {
    "duration": 20,
    "start_time": "2022-09-26T20:41:06.001Z"
   },
   {
    "duration": 13,
    "start_time": "2022-09-26T20:41:06.022Z"
   },
   {
    "duration": 11,
    "start_time": "2022-09-26T20:41:06.037Z"
   },
   {
    "duration": 8,
    "start_time": "2022-09-26T20:41:06.049Z"
   },
   {
    "duration": 9,
    "start_time": "2022-09-26T20:41:06.059Z"
   },
   {
    "duration": 14,
    "start_time": "2022-09-26T20:41:06.069Z"
   },
   {
    "duration": 30,
    "start_time": "2022-09-26T20:41:06.085Z"
   },
   {
    "duration": 44,
    "start_time": "2022-09-26T20:41:06.117Z"
   },
   {
    "duration": 9,
    "start_time": "2022-09-26T20:41:06.163Z"
   },
   {
    "duration": 10,
    "start_time": "2022-09-26T20:41:06.173Z"
   },
   {
    "duration": 20,
    "start_time": "2022-09-26T20:41:06.184Z"
   },
   {
    "duration": 308,
    "start_time": "2022-09-26T20:41:06.206Z"
   },
   {
    "duration": 7,
    "start_time": "2022-09-26T20:41:06.516Z"
   },
   {
    "duration": 324,
    "start_time": "2022-09-26T20:41:06.524Z"
   },
   {
    "duration": 409,
    "start_time": "2022-09-26T20:41:06.850Z"
   },
   {
    "duration": 7,
    "start_time": "2022-09-26T20:41:07.261Z"
   },
   {
    "duration": 423,
    "start_time": "2022-09-26T20:41:07.269Z"
   },
   {
    "duration": 14,
    "start_time": "2022-09-26T20:41:07.694Z"
   },
   {
    "duration": 118,
    "start_time": "2022-09-26T20:41:37.870Z"
   },
   {
    "duration": 95,
    "start_time": "2022-09-26T20:41:43.846Z"
   },
   {
    "duration": 2070,
    "start_time": "2022-09-26T20:42:35.908Z"
   },
   {
    "duration": 12,
    "start_time": "2022-09-26T20:44:31.708Z"
   },
   {
    "duration": 258,
    "start_time": "2022-09-26T20:44:50.047Z"
   },
   {
    "duration": 1019,
    "start_time": "2022-09-26T20:45:00.327Z"
   },
   {
    "duration": 1303,
    "start_time": "2022-09-26T20:45:30.214Z"
   },
   {
    "duration": 59,
    "start_time": "2022-09-26T20:45:44.843Z"
   },
   {
    "duration": 1213,
    "start_time": "2022-09-26T20:46:03.469Z"
   },
   {
    "duration": 4,
    "start_time": "2022-09-26T20:58:00.405Z"
   },
   {
    "duration": 25,
    "start_time": "2022-09-26T20:58:08.024Z"
   },
   {
    "duration": 23,
    "start_time": "2022-09-26T20:58:48.996Z"
   },
   {
    "duration": 21,
    "start_time": "2022-09-26T20:58:55.863Z"
   },
   {
    "duration": 4,
    "start_time": "2022-09-26T20:59:03.062Z"
   },
   {
    "duration": 1390,
    "start_time": "2022-09-26T21:00:13.433Z"
   },
   {
    "duration": 3,
    "start_time": "2022-09-26T21:01:16.492Z"
   },
   {
    "duration": 61,
    "start_time": "2022-09-26T21:01:16.498Z"
   },
   {
    "duration": 13,
    "start_time": "2022-09-26T21:01:16.561Z"
   },
   {
    "duration": 18,
    "start_time": "2022-09-26T21:01:16.576Z"
   },
   {
    "duration": 8,
    "start_time": "2022-09-26T21:01:16.596Z"
   },
   {
    "duration": 13,
    "start_time": "2022-09-26T21:01:16.605Z"
   },
   {
    "duration": 10,
    "start_time": "2022-09-26T21:01:16.619Z"
   },
   {
    "duration": 11,
    "start_time": "2022-09-26T21:01:16.630Z"
   },
   {
    "duration": 7,
    "start_time": "2022-09-26T21:01:16.643Z"
   },
   {
    "duration": 12,
    "start_time": "2022-09-26T21:01:16.651Z"
   },
   {
    "duration": 70,
    "start_time": "2022-09-26T21:01:16.664Z"
   },
   {
    "duration": 9,
    "start_time": "2022-09-26T21:01:16.735Z"
   },
   {
    "duration": 11,
    "start_time": "2022-09-26T21:01:16.745Z"
   },
   {
    "duration": 6,
    "start_time": "2022-09-26T21:01:16.760Z"
   },
   {
    "duration": 336,
    "start_time": "2022-09-26T21:01:16.767Z"
   },
   {
    "duration": 7,
    "start_time": "2022-09-26T21:01:17.105Z"
   },
   {
    "duration": 327,
    "start_time": "2022-09-26T21:01:17.113Z"
   },
   {
    "duration": 435,
    "start_time": "2022-09-26T21:01:17.442Z"
   },
   {
    "duration": 7,
    "start_time": "2022-09-26T21:01:17.879Z"
   },
   {
    "duration": 413,
    "start_time": "2022-09-26T21:01:17.887Z"
   },
   {
    "duration": 1133,
    "start_time": "2022-09-26T21:01:18.302Z"
   },
   {
    "duration": 1088,
    "start_time": "2022-09-26T21:04:07.605Z"
   },
   {
    "duration": 1171,
    "start_time": "2022-09-26T21:04:21.371Z"
   },
   {
    "duration": 1215,
    "start_time": "2022-09-26T21:05:36.056Z"
   },
   {
    "duration": 1296,
    "start_time": "2022-09-26T21:08:23.842Z"
   },
   {
    "duration": 1333,
    "start_time": "2022-09-26T21:09:31.561Z"
   },
   {
    "duration": 1404,
    "start_time": "2022-09-26T21:09:45.943Z"
   },
   {
    "duration": 1489,
    "start_time": "2022-09-26T21:09:59.283Z"
   },
   {
    "duration": 1205,
    "start_time": "2022-09-26T21:10:27.658Z"
   },
   {
    "duration": 1301,
    "start_time": "2022-09-26T21:10:42.879Z"
   },
   {
    "duration": 77,
    "start_time": "2022-09-26T21:11:06.948Z"
   },
   {
    "duration": 1247,
    "start_time": "2022-09-26T21:11:10.082Z"
   },
   {
    "duration": 22,
    "start_time": "2022-09-26T21:51:08.079Z"
   },
   {
    "duration": 12,
    "start_time": "2022-09-26T21:53:47.894Z"
   },
   {
    "duration": 930,
    "start_time": "2022-09-26T21:54:10.660Z"
   },
   {
    "duration": 748,
    "start_time": "2022-09-26T21:54:25.869Z"
   },
   {
    "duration": 14,
    "start_time": "2022-09-26T21:54:29.597Z"
   },
   {
    "duration": 649,
    "start_time": "2022-09-26T21:54:33.926Z"
   },
   {
    "duration": 13,
    "start_time": "2022-09-26T21:54:44.581Z"
   },
   {
    "duration": 12,
    "start_time": "2022-09-26T21:54:49.094Z"
   },
   {
    "duration": 11,
    "start_time": "2022-09-26T21:55:01.296Z"
   },
   {
    "duration": 12,
    "start_time": "2022-09-26T21:55:29.146Z"
   },
   {
    "duration": 15,
    "start_time": "2022-09-26T21:56:49.838Z"
   },
   {
    "duration": 128,
    "start_time": "2022-09-26T21:57:35.785Z"
   },
   {
    "duration": 133,
    "start_time": "2022-09-26T21:57:43.294Z"
   },
   {
    "duration": 125,
    "start_time": "2022-09-26T21:58:24.986Z"
   },
   {
    "duration": 132,
    "start_time": "2022-09-26T21:58:31.131Z"
   },
   {
    "duration": 145,
    "start_time": "2022-09-26T22:00:13.595Z"
   },
   {
    "duration": 159,
    "start_time": "2022-09-26T22:00:37.932Z"
   },
   {
    "duration": 154,
    "start_time": "2022-09-26T22:00:47.952Z"
   },
   {
    "duration": 152,
    "start_time": "2022-09-26T22:00:59.226Z"
   },
   {
    "duration": 146,
    "start_time": "2022-09-26T22:01:36.439Z"
   },
   {
    "duration": 234,
    "start_time": "2022-09-26T22:06:16.157Z"
   },
   {
    "duration": 184,
    "start_time": "2022-09-26T22:06:24.293Z"
   },
   {
    "duration": 227,
    "start_time": "2022-09-26T22:13:20.590Z"
   },
   {
    "duration": 235,
    "start_time": "2022-09-26T22:13:25.174Z"
   },
   {
    "duration": 238,
    "start_time": "2022-09-26T22:13:37.799Z"
   },
   {
    "duration": 237,
    "start_time": "2022-09-26T22:13:41.920Z"
   },
   {
    "duration": 229,
    "start_time": "2022-09-26T22:13:46.019Z"
   },
   {
    "duration": 367,
    "start_time": "2022-09-26T22:14:23.568Z"
   },
   {
    "duration": 387,
    "start_time": "2022-09-26T22:14:38.547Z"
   },
   {
    "duration": 175,
    "start_time": "2022-09-26T22:19:09.288Z"
   },
   {
    "duration": 161,
    "start_time": "2022-09-26T22:19:14.556Z"
   },
   {
    "duration": 230,
    "start_time": "2022-09-26T22:19:20.464Z"
   },
   {
    "duration": 55,
    "start_time": "2022-09-27T08:36:58.279Z"
   },
   {
    "duration": 876,
    "start_time": "2022-09-27T08:37:04.080Z"
   },
   {
    "duration": 104,
    "start_time": "2022-09-27T08:37:04.958Z"
   },
   {
    "duration": 14,
    "start_time": "2022-09-27T08:37:05.064Z"
   },
   {
    "duration": 23,
    "start_time": "2022-09-27T08:37:05.080Z"
   },
   {
    "duration": 3,
    "start_time": "2022-09-27T08:37:05.106Z"
   },
   {
    "duration": 15,
    "start_time": "2022-09-27T08:37:05.111Z"
   },
   {
    "duration": 13,
    "start_time": "2022-09-27T08:37:05.128Z"
   },
   {
    "duration": 12,
    "start_time": "2022-09-27T08:37:05.142Z"
   },
   {
    "duration": 8,
    "start_time": "2022-09-27T08:37:05.156Z"
   },
   {
    "duration": 15,
    "start_time": "2022-09-27T08:37:05.165Z"
   },
   {
    "duration": 73,
    "start_time": "2022-09-27T08:37:05.182Z"
   },
   {
    "duration": 7,
    "start_time": "2022-09-27T08:37:05.257Z"
   },
   {
    "duration": 5,
    "start_time": "2022-09-27T08:37:05.265Z"
   },
   {
    "duration": 12,
    "start_time": "2022-09-27T08:37:05.273Z"
   },
   {
    "duration": 359,
    "start_time": "2022-09-27T08:37:05.286Z"
   },
   {
    "duration": 8,
    "start_time": "2022-09-27T08:37:05.647Z"
   },
   {
    "duration": 333,
    "start_time": "2022-09-27T08:37:05.656Z"
   },
   {
    "duration": 457,
    "start_time": "2022-09-27T08:37:05.991Z"
   },
   {
    "duration": 5,
    "start_time": "2022-09-27T08:37:06.450Z"
   },
   {
    "duration": 389,
    "start_time": "2022-09-27T08:37:06.456Z"
   },
   {
    "duration": 1311,
    "start_time": "2022-09-27T08:37:06.846Z"
   },
   {
    "duration": 190,
    "start_time": "2022-09-27T08:37:08.159Z"
   },
   {
    "duration": 12,
    "start_time": "2022-09-27T08:37:08.351Z"
   },
   {
    "duration": 164,
    "start_time": "2022-09-27T08:38:01.820Z"
   },
   {
    "duration": 41,
    "start_time": "2022-09-27T08:38:13.742Z"
   },
   {
    "duration": 160,
    "start_time": "2022-09-27T08:38:27.591Z"
   },
   {
    "duration": 14,
    "start_time": "2022-09-27T08:38:40.725Z"
   },
   {
    "duration": 168,
    "start_time": "2022-09-27T08:38:51.284Z"
   },
   {
    "duration": 176,
    "start_time": "2022-09-27T08:39:46.247Z"
   },
   {
    "duration": 155,
    "start_time": "2022-09-27T08:39:51.309Z"
   },
   {
    "duration": 173,
    "start_time": "2022-09-27T08:40:28.871Z"
   },
   {
    "duration": 168,
    "start_time": "2022-09-27T08:40:38.443Z"
   },
   {
    "duration": 188,
    "start_time": "2022-09-27T08:40:41.177Z"
   },
   {
    "duration": 161,
    "start_time": "2022-09-27T08:40:43.631Z"
   },
   {
    "duration": 218,
    "start_time": "2022-09-27T08:47:58.170Z"
   },
   {
    "duration": 175,
    "start_time": "2022-09-27T08:48:05.375Z"
   },
   {
    "duration": 6,
    "start_time": "2022-09-27T08:49:30.181Z"
   },
   {
    "duration": 5,
    "start_time": "2022-09-27T08:49:46.832Z"
   },
   {
    "duration": 5,
    "start_time": "2022-09-27T08:49:55.358Z"
   },
   {
    "duration": 5,
    "start_time": "2022-09-27T09:00:38.956Z"
   },
   {
    "duration": 14,
    "start_time": "2022-09-27T09:09:23.360Z"
   },
   {
    "duration": 12,
    "start_time": "2022-09-27T09:09:46.977Z"
   },
   {
    "duration": 1351,
    "start_time": "2022-09-27T09:10:22.586Z"
   },
   {
    "duration": 186,
    "start_time": "2022-09-27T09:10:57.515Z"
   },
   {
    "duration": 4,
    "start_time": "2022-09-27T09:13:50.591Z"
   },
   {
    "duration": 13,
    "start_time": "2022-09-27T09:35:47.919Z"
   },
   {
    "duration": 16,
    "start_time": "2022-09-27T09:36:08.684Z"
   },
   {
    "duration": 12,
    "start_time": "2022-09-27T09:36:27.521Z"
   },
   {
    "duration": 14,
    "start_time": "2022-09-27T09:36:51.433Z"
   },
   {
    "duration": 13,
    "start_time": "2022-09-27T09:37:14.360Z"
   },
   {
    "duration": 14,
    "start_time": "2022-09-27T09:37:46.720Z"
   },
   {
    "duration": 12,
    "start_time": "2022-09-27T09:38:12.628Z"
   },
   {
    "duration": 10,
    "start_time": "2022-09-27T09:38:29.179Z"
   },
   {
    "duration": 10,
    "start_time": "2022-09-27T09:38:43.517Z"
   },
   {
    "duration": 9,
    "start_time": "2022-09-27T09:39:56.785Z"
   },
   {
    "duration": 9,
    "start_time": "2022-09-27T09:39:59.054Z"
   },
   {
    "duration": 13,
    "start_time": "2022-09-27T09:40:00.893Z"
   },
   {
    "duration": 9,
    "start_time": "2022-09-27T09:44:35.085Z"
   },
   {
    "duration": 13,
    "start_time": "2022-09-27T09:44:43.271Z"
   },
   {
    "duration": 18,
    "start_time": "2022-09-27T09:45:20.342Z"
   },
   {
    "duration": 13,
    "start_time": "2022-09-27T09:45:34.761Z"
   },
   {
    "duration": 14,
    "start_time": "2022-09-27T09:45:41.478Z"
   },
   {
    "duration": 18,
    "start_time": "2022-09-27T09:46:04.791Z"
   },
   {
    "duration": 12,
    "start_time": "2022-09-27T10:03:51.768Z"
   },
   {
    "duration": 126,
    "start_time": "2022-09-27T10:05:23.514Z"
   },
   {
    "duration": 35516,
    "start_time": "2022-09-27T10:05:57.135Z"
   },
   {
    "duration": 350,
    "start_time": "2022-09-27T10:16:57.028Z"
   },
   {
    "duration": 67,
    "start_time": "2022-09-28T12:21:45.362Z"
   },
   {
    "duration": 899,
    "start_time": "2022-09-28T12:21:48.538Z"
   },
   {
    "duration": 107,
    "start_time": "2022-09-28T12:21:49.440Z"
   },
   {
    "duration": 20,
    "start_time": "2022-09-28T12:21:49.549Z"
   },
   {
    "duration": 24,
    "start_time": "2022-09-28T12:21:49.571Z"
   },
   {
    "duration": 4,
    "start_time": "2022-09-28T12:21:49.597Z"
   },
   {
    "duration": 10,
    "start_time": "2022-09-28T12:21:49.603Z"
   },
   {
    "duration": 11,
    "start_time": "2022-09-28T12:21:49.615Z"
   },
   {
    "duration": 9,
    "start_time": "2022-09-28T12:21:49.627Z"
   },
   {
    "duration": 45,
    "start_time": "2022-09-28T12:21:49.638Z"
   },
   {
    "duration": 13,
    "start_time": "2022-09-28T12:21:49.685Z"
   },
   {
    "duration": 77,
    "start_time": "2022-09-28T12:21:49.700Z"
   },
   {
    "duration": 10,
    "start_time": "2022-09-28T12:21:49.779Z"
   },
   {
    "duration": 8,
    "start_time": "2022-09-28T12:21:49.791Z"
   },
   {
    "duration": 7,
    "start_time": "2022-09-28T12:21:49.802Z"
   },
   {
    "duration": 374,
    "start_time": "2022-09-28T12:21:49.810Z"
   },
   {
    "duration": 11,
    "start_time": "2022-09-28T12:21:50.186Z"
   },
   {
    "duration": 373,
    "start_time": "2022-09-28T12:21:50.198Z"
   },
   {
    "duration": 476,
    "start_time": "2022-09-28T12:21:50.573Z"
   },
   {
    "duration": 7,
    "start_time": "2022-09-28T12:21:51.051Z"
   },
   {
    "duration": 411,
    "start_time": "2022-09-28T12:21:51.077Z"
   },
   {
    "duration": 1399,
    "start_time": "2022-09-28T12:21:51.490Z"
   },
   {
    "duration": 199,
    "start_time": "2022-09-28T12:21:52.892Z"
   },
   {
    "duration": 5,
    "start_time": "2022-09-28T12:21:53.093Z"
   },
   {
    "duration": 234,
    "start_time": "2022-09-28T12:21:53.100Z"
   },
   {
    "duration": 5,
    "start_time": "2022-09-28T12:21:53.335Z"
   },
   {
    "duration": 190,
    "start_time": "2022-09-28T12:21:53.341Z"
   },
   {
    "duration": 16,
    "start_time": "2022-09-28T12:21:53.533Z"
   },
   {
    "duration": 34,
    "start_time": "2022-09-28T12:21:53.551Z"
   },
   {
    "duration": 3,
    "start_time": "2022-09-28T12:21:53.587Z"
   },
   {
    "duration": 3,
    "start_time": "2022-09-28T12:21:58.345Z"
   },
   {
    "duration": 5,
    "start_time": "2022-09-28T12:22:06.571Z"
   },
   {
    "duration": 4,
    "start_time": "2022-09-28T12:28:01.419Z"
   },
   {
    "duration": 4,
    "start_time": "2022-09-28T12:28:14.195Z"
   },
   {
    "duration": 5,
    "start_time": "2022-09-28T12:28:20.176Z"
   },
   {
    "duration": 3,
    "start_time": "2022-09-28T12:28:25.645Z"
   },
   {
    "duration": 65,
    "start_time": "2022-09-28T12:28:25.651Z"
   },
   {
    "duration": 19,
    "start_time": "2022-09-28T12:28:25.718Z"
   },
   {
    "duration": 23,
    "start_time": "2022-09-28T12:28:25.739Z"
   },
   {
    "duration": 5,
    "start_time": "2022-09-28T12:28:25.777Z"
   },
   {
    "duration": 18,
    "start_time": "2022-09-28T12:28:25.784Z"
   },
   {
    "duration": 16,
    "start_time": "2022-09-28T12:28:25.804Z"
   },
   {
    "duration": 16,
    "start_time": "2022-09-28T12:28:25.822Z"
   },
   {
    "duration": 13,
    "start_time": "2022-09-28T12:28:25.840Z"
   },
   {
    "duration": 39,
    "start_time": "2022-09-28T12:28:25.854Z"
   },
   {
    "duration": 66,
    "start_time": "2022-09-28T12:28:25.895Z"
   },
   {
    "duration": 16,
    "start_time": "2022-09-28T12:28:25.962Z"
   },
   {
    "duration": 14,
    "start_time": "2022-09-28T12:28:25.980Z"
   },
   {
    "duration": 17,
    "start_time": "2022-09-28T12:28:25.998Z"
   },
   {
    "duration": 9,
    "start_time": "2022-09-28T12:28:26.017Z"
   },
   {
    "duration": 494,
    "start_time": "2022-09-28T12:28:26.028Z"
   },
   {
    "duration": 10,
    "start_time": "2022-09-28T12:28:26.524Z"
   },
   {
    "duration": 458,
    "start_time": "2022-09-28T12:28:26.535Z"
   },
   {
    "duration": 524,
    "start_time": "2022-09-28T12:28:26.995Z"
   },
   {
    "duration": 7,
    "start_time": "2022-09-28T12:28:27.521Z"
   },
   {
    "duration": 400,
    "start_time": "2022-09-28T12:28:27.530Z"
   },
   {
    "duration": 1656,
    "start_time": "2022-09-28T12:28:27.933Z"
   },
   {
    "duration": 206,
    "start_time": "2022-09-28T12:28:29.591Z"
   },
   {
    "duration": 6,
    "start_time": "2022-09-28T12:28:29.800Z"
   },
   {
    "duration": 279,
    "start_time": "2022-09-28T12:28:29.808Z"
   },
   {
    "duration": 4,
    "start_time": "2022-09-28T12:28:30.089Z"
   },
   {
    "duration": 208,
    "start_time": "2022-09-28T12:28:30.095Z"
   },
   {
    "duration": 15,
    "start_time": "2022-09-28T12:28:30.304Z"
   },
   {
    "duration": 34,
    "start_time": "2022-09-28T12:28:30.321Z"
   },
   {
    "duration": 14,
    "start_time": "2022-09-28T12:28:30.356Z"
   },
   {
    "duration": 1374,
    "start_time": "2022-09-28T12:31:14.775Z"
   },
   {
    "duration": 12,
    "start_time": "2022-09-28T12:32:03.317Z"
   },
   {
    "duration": 12,
    "start_time": "2022-09-28T12:32:24.356Z"
   },
   {
    "duration": 10,
    "start_time": "2022-09-28T12:32:36.282Z"
   },
   {
    "duration": 34,
    "start_time": "2022-09-28T12:33:51.551Z"
   },
   {
    "duration": 184,
    "start_time": "2022-09-28T12:34:41.144Z"
   },
   {
    "duration": 134,
    "start_time": "2022-09-28T12:34:44.221Z"
   },
   {
    "duration": 11,
    "start_time": "2022-09-28T12:35:28.057Z"
   },
   {
    "duration": 5,
    "start_time": "2022-09-28T12:36:01.196Z"
   },
   {
    "duration": 9,
    "start_time": "2022-09-28T12:36:03.226Z"
   },
   {
    "duration": 14,
    "start_time": "2022-09-28T12:36:51.404Z"
   },
   {
    "duration": 165,
    "start_time": "2022-09-28T12:36:58.829Z"
   },
   {
    "duration": 11,
    "start_time": "2022-09-28T13:00:07.862Z"
   },
   {
    "duration": 186,
    "start_time": "2022-09-28T13:00:26.998Z"
   },
   {
    "duration": 182,
    "start_time": "2022-09-28T13:01:18.825Z"
   },
   {
    "duration": 184,
    "start_time": "2022-09-28T13:01:52.715Z"
   },
   {
    "duration": 172,
    "start_time": "2022-09-28T13:02:04.326Z"
   },
   {
    "duration": 175,
    "start_time": "2022-09-28T13:03:29.966Z"
   },
   {
    "duration": 172,
    "start_time": "2022-09-28T13:07:22.116Z"
   },
   {
    "duration": 167,
    "start_time": "2022-09-28T13:11:22.908Z"
   },
   {
    "duration": 42,
    "start_time": "2022-09-28T13:20:01.567Z"
   },
   {
    "duration": 15,
    "start_time": "2022-09-28T13:20:12.940Z"
   },
   {
    "duration": 14,
    "start_time": "2022-09-28T13:20:22.361Z"
   },
   {
    "duration": 15,
    "start_time": "2022-09-28T13:20:32.243Z"
   },
   {
    "duration": 18,
    "start_time": "2022-09-28T13:25:10.528Z"
   },
   {
    "duration": 15,
    "start_time": "2022-09-28T13:25:20.618Z"
   },
   {
    "duration": 16,
    "start_time": "2022-09-28T13:28:51.931Z"
   },
   {
    "duration": 194,
    "start_time": "2022-09-28T13:30:35.455Z"
   },
   {
    "duration": 17,
    "start_time": "2022-09-28T13:31:26.808Z"
   },
   {
    "duration": 19,
    "start_time": "2022-09-28T13:31:35.408Z"
   },
   {
    "duration": 25,
    "start_time": "2022-09-28T13:42:58.609Z"
   },
   {
    "duration": 18,
    "start_time": "2022-09-28T13:44:23.749Z"
   },
   {
    "duration": 170,
    "start_time": "2022-09-28T13:46:37.973Z"
   },
   {
    "duration": 14,
    "start_time": "2022-09-28T13:47:10.246Z"
   },
   {
    "duration": 1209,
    "start_time": "2022-09-29T07:06:20.882Z"
   },
   {
    "duration": 103,
    "start_time": "2022-09-29T07:06:22.093Z"
   },
   {
    "duration": 19,
    "start_time": "2022-09-29T07:06:22.197Z"
   },
   {
    "duration": 27,
    "start_time": "2022-09-29T07:06:22.219Z"
   },
   {
    "duration": 4,
    "start_time": "2022-09-29T07:06:22.249Z"
   },
   {
    "duration": 12,
    "start_time": "2022-09-29T07:06:22.254Z"
   },
   {
    "duration": 11,
    "start_time": "2022-09-29T07:06:22.267Z"
   },
   {
    "duration": 9,
    "start_time": "2022-09-29T07:06:22.280Z"
   },
   {
    "duration": 11,
    "start_time": "2022-09-29T07:06:22.291Z"
   },
   {
    "duration": 37,
    "start_time": "2022-09-29T07:06:22.304Z"
   },
   {
    "duration": 48,
    "start_time": "2022-09-29T07:06:22.343Z"
   },
   {
    "duration": 4,
    "start_time": "2022-09-29T07:06:22.392Z"
   },
   {
    "duration": 17,
    "start_time": "2022-09-29T07:06:22.398Z"
   },
   {
    "duration": 4,
    "start_time": "2022-09-29T07:06:22.434Z"
   },
   {
    "duration": 7,
    "start_time": "2022-09-29T07:06:22.439Z"
   },
   {
    "duration": 347,
    "start_time": "2022-09-29T07:06:22.448Z"
   },
   {
    "duration": 9,
    "start_time": "2022-09-29T07:06:22.797Z"
   },
   {
    "duration": 348,
    "start_time": "2022-09-29T07:06:22.808Z"
   },
   {
    "duration": 451,
    "start_time": "2022-09-29T07:06:23.158Z"
   },
   {
    "duration": 6,
    "start_time": "2022-09-29T07:06:23.611Z"
   },
   {
    "duration": 336,
    "start_time": "2022-09-29T07:06:23.618Z"
   },
   {
    "duration": 1309,
    "start_time": "2022-09-29T07:06:23.956Z"
   },
   {
    "duration": 224,
    "start_time": "2022-09-29T07:06:25.267Z"
   },
   {
    "duration": 4,
    "start_time": "2022-09-29T07:06:25.493Z"
   },
   {
    "duration": 221,
    "start_time": "2022-09-29T07:06:25.498Z"
   },
   {
    "duration": 4,
    "start_time": "2022-09-29T07:06:25.721Z"
   },
   {
    "duration": 200,
    "start_time": "2022-09-29T07:06:25.727Z"
   },
   {
    "duration": 20,
    "start_time": "2022-09-29T07:06:25.929Z"
   },
   {
    "duration": 27,
    "start_time": "2022-09-29T07:06:25.951Z"
   },
   {
    "duration": 172,
    "start_time": "2022-09-29T07:06:25.980Z"
   },
   {
    "duration": 15,
    "start_time": "2022-09-29T07:06:26.154Z"
   },
   {
    "duration": 24,
    "start_time": "2022-09-29T07:06:26.171Z"
   },
   {
    "duration": 43,
    "start_time": "2022-09-29T07:06:26.197Z"
   },
   {
    "duration": 279,
    "start_time": "2022-09-29T07:06:26.243Z"
   },
   {
    "duration": 18,
    "start_time": "2022-09-29T07:06:26.524Z"
   },
   {
    "duration": 31,
    "start_time": "2022-09-29T07:06:26.544Z"
   },
   {
    "duration": 20,
    "start_time": "2022-09-29T07:06:26.577Z"
   },
   {
    "duration": 147,
    "start_time": "2022-09-29T07:06:26.598Z"
   },
   {
    "duration": 14,
    "start_time": "2022-09-29T07:06:26.747Z"
   },
   {
    "duration": 3,
    "start_time": "2022-09-29T08:13:49.644Z"
   },
   {
    "duration": 79,
    "start_time": "2022-09-29T08:13:49.649Z"
   },
   {
    "duration": 14,
    "start_time": "2022-09-29T08:13:49.729Z"
   },
   {
    "duration": 33,
    "start_time": "2022-09-29T08:13:49.745Z"
   },
   {
    "duration": 28,
    "start_time": "2022-09-29T08:13:49.780Z"
   },
   {
    "duration": 26,
    "start_time": "2022-09-29T08:13:49.810Z"
   },
   {
    "duration": 22,
    "start_time": "2022-09-29T08:13:49.837Z"
   },
   {
    "duration": 23,
    "start_time": "2022-09-29T08:13:49.861Z"
   },
   {
    "duration": 18,
    "start_time": "2022-09-29T08:13:49.885Z"
   },
   {
    "duration": 32,
    "start_time": "2022-09-29T08:13:49.905Z"
   },
   {
    "duration": 56,
    "start_time": "2022-09-29T08:13:49.938Z"
   },
   {
    "duration": 4,
    "start_time": "2022-09-29T08:13:49.996Z"
   },
   {
    "duration": 23,
    "start_time": "2022-09-29T08:13:50.002Z"
   },
   {
    "duration": 21,
    "start_time": "2022-09-29T08:13:50.028Z"
   },
   {
    "duration": 32,
    "start_time": "2022-09-29T08:13:50.050Z"
   },
   {
    "duration": 339,
    "start_time": "2022-09-29T08:13:50.084Z"
   },
   {
    "duration": 6,
    "start_time": "2022-09-29T08:13:50.433Z"
   },
   {
    "duration": 346,
    "start_time": "2022-09-29T08:13:50.441Z"
   },
   {
    "duration": 414,
    "start_time": "2022-09-29T08:13:50.789Z"
   },
   {
    "duration": 6,
    "start_time": "2022-09-29T08:13:51.205Z"
   },
   {
    "duration": 350,
    "start_time": "2022-09-29T08:13:51.212Z"
   },
   {
    "duration": 1275,
    "start_time": "2022-09-29T08:13:51.564Z"
   },
   {
    "duration": 174,
    "start_time": "2022-09-29T08:13:52.841Z"
   },
   {
    "duration": 4,
    "start_time": "2022-09-29T08:13:53.017Z"
   },
   {
    "duration": 177,
    "start_time": "2022-09-29T08:13:53.023Z"
   },
   {
    "duration": 4,
    "start_time": "2022-09-29T08:13:53.202Z"
   },
   {
    "duration": 181,
    "start_time": "2022-09-29T08:13:53.208Z"
   },
   {
    "duration": 14,
    "start_time": "2022-09-29T08:13:53.391Z"
   },
   {
    "duration": 29,
    "start_time": "2022-09-29T08:13:53.407Z"
   },
   {
    "duration": 163,
    "start_time": "2022-09-29T08:13:53.437Z"
   },
   {
    "duration": 13,
    "start_time": "2022-09-29T08:13:53.602Z"
   },
   {
    "duration": 28,
    "start_time": "2022-09-29T08:13:53.617Z"
   },
   {
    "duration": 13,
    "start_time": "2022-09-29T08:13:53.647Z"
   },
   {
    "duration": 234,
    "start_time": "2022-09-29T08:13:53.662Z"
   },
   {
    "duration": 13,
    "start_time": "2022-09-29T08:13:53.898Z"
   },
   {
    "duration": 31,
    "start_time": "2022-09-29T08:13:53.913Z"
   },
   {
    "duration": 14,
    "start_time": "2022-09-29T08:13:53.946Z"
   },
   {
    "duration": 165,
    "start_time": "2022-09-29T08:13:53.962Z"
   },
   {
    "duration": 16,
    "start_time": "2022-09-29T08:13:54.128Z"
   },
   {
    "duration": 3,
    "start_time": "2022-09-29T08:37:12.244Z"
   },
   {
    "duration": 52,
    "start_time": "2022-09-29T08:37:12.249Z"
   },
   {
    "duration": 12,
    "start_time": "2022-09-29T08:37:12.303Z"
   },
   {
    "duration": 17,
    "start_time": "2022-09-29T08:37:12.317Z"
   },
   {
    "duration": 6,
    "start_time": "2022-09-29T08:37:12.336Z"
   },
   {
    "duration": 10,
    "start_time": "2022-09-29T08:37:12.344Z"
   },
   {
    "duration": 8,
    "start_time": "2022-09-29T08:37:12.355Z"
   },
   {
    "duration": 8,
    "start_time": "2022-09-29T08:37:12.364Z"
   },
   {
    "duration": 9,
    "start_time": "2022-09-29T08:37:12.374Z"
   },
   {
    "duration": 12,
    "start_time": "2022-09-29T08:37:12.385Z"
   },
   {
    "duration": 71,
    "start_time": "2022-09-29T08:37:12.398Z"
   },
   {
    "duration": 6,
    "start_time": "2022-09-29T08:37:12.471Z"
   },
   {
    "duration": 11,
    "start_time": "2022-09-29T08:37:12.478Z"
   },
   {
    "duration": 3,
    "start_time": "2022-09-29T08:37:12.492Z"
   },
   {
    "duration": 8,
    "start_time": "2022-09-29T08:37:12.497Z"
   },
   {
    "duration": 313,
    "start_time": "2022-09-29T08:37:12.506Z"
   },
   {
    "duration": 16,
    "start_time": "2022-09-29T08:37:12.820Z"
   },
   {
    "duration": 319,
    "start_time": "2022-09-29T08:37:12.837Z"
   },
   {
    "duration": 399,
    "start_time": "2022-09-29T08:37:13.157Z"
   },
   {
    "duration": 6,
    "start_time": "2022-09-29T08:37:13.557Z"
   },
   {
    "duration": 338,
    "start_time": "2022-09-29T08:37:13.564Z"
   },
   {
    "duration": 1243,
    "start_time": "2022-09-29T08:37:13.904Z"
   },
   {
    "duration": 174,
    "start_time": "2022-09-29T08:37:15.149Z"
   },
   {
    "duration": 11,
    "start_time": "2022-09-29T08:37:15.324Z"
   },
   {
    "duration": 174,
    "start_time": "2022-09-29T08:37:15.337Z"
   },
   {
    "duration": 5,
    "start_time": "2022-09-29T08:37:15.513Z"
   },
   {
    "duration": 173,
    "start_time": "2022-09-29T08:37:15.521Z"
   },
   {
    "duration": 14,
    "start_time": "2022-09-29T08:37:15.696Z"
   },
   {
    "duration": 28,
    "start_time": "2022-09-29T08:37:15.711Z"
   },
   {
    "duration": 154,
    "start_time": "2022-09-29T08:37:15.740Z"
   },
   {
    "duration": 15,
    "start_time": "2022-09-29T08:37:15.896Z"
   },
   {
    "duration": 32,
    "start_time": "2022-09-29T08:37:15.913Z"
   },
   {
    "duration": 13,
    "start_time": "2022-09-29T08:37:15.946Z"
   },
   {
    "duration": 227,
    "start_time": "2022-09-29T08:37:15.960Z"
   },
   {
    "duration": 15,
    "start_time": "2022-09-29T08:37:16.189Z"
   },
   {
    "duration": 28,
    "start_time": "2022-09-29T08:37:16.206Z"
   },
   {
    "duration": 16,
    "start_time": "2022-09-29T08:37:16.236Z"
   },
   {
    "duration": 205,
    "start_time": "2022-09-29T08:37:16.254Z"
   },
   {
    "duration": 16,
    "start_time": "2022-09-29T08:37:16.461Z"
   },
   {
    "duration": 8,
    "start_time": "2022-09-29T08:37:16.480Z"
   },
   {
    "duration": 7,
    "start_time": "2022-09-29T08:38:40.374Z"
   },
   {
    "duration": 100,
    "start_time": "2022-09-29T08:47:22.250Z"
   },
   {
    "duration": 3,
    "start_time": "2022-09-29T08:48:44.325Z"
   },
   {
    "duration": 57,
    "start_time": "2022-09-29T08:48:44.329Z"
   },
   {
    "duration": 12,
    "start_time": "2022-09-29T08:48:44.388Z"
   },
   {
    "duration": 19,
    "start_time": "2022-09-29T08:48:44.402Z"
   },
   {
    "duration": 6,
    "start_time": "2022-09-29T08:48:44.423Z"
   },
   {
    "duration": 13,
    "start_time": "2022-09-29T08:48:44.430Z"
   },
   {
    "duration": 8,
    "start_time": "2022-09-29T08:48:44.445Z"
   },
   {
    "duration": 11,
    "start_time": "2022-09-29T08:48:44.454Z"
   },
   {
    "duration": 9,
    "start_time": "2022-09-29T08:48:44.467Z"
   },
   {
    "duration": 15,
    "start_time": "2022-09-29T08:48:44.477Z"
   },
   {
    "duration": 56,
    "start_time": "2022-09-29T08:48:44.494Z"
   },
   {
    "duration": 4,
    "start_time": "2022-09-29T08:48:44.552Z"
   },
   {
    "duration": 15,
    "start_time": "2022-09-29T08:48:44.557Z"
   },
   {
    "duration": 8,
    "start_time": "2022-09-29T08:48:44.573Z"
   },
   {
    "duration": 7,
    "start_time": "2022-09-29T08:48:44.582Z"
   },
   {
    "duration": 316,
    "start_time": "2022-09-29T08:48:44.590Z"
   },
   {
    "duration": 7,
    "start_time": "2022-09-29T08:48:44.908Z"
   },
   {
    "duration": 330,
    "start_time": "2022-09-29T08:48:44.916Z"
   },
   {
    "duration": 430,
    "start_time": "2022-09-29T08:48:45.248Z"
   },
   {
    "duration": 7,
    "start_time": "2022-09-29T08:48:45.679Z"
   },
   {
    "duration": 343,
    "start_time": "2022-09-29T08:48:45.687Z"
   },
   {
    "duration": 1355,
    "start_time": "2022-09-29T08:48:46.032Z"
   },
   {
    "duration": 178,
    "start_time": "2022-09-29T08:48:47.389Z"
   },
   {
    "duration": 4,
    "start_time": "2022-09-29T08:48:47.570Z"
   },
   {
    "duration": 201,
    "start_time": "2022-09-29T08:48:47.576Z"
   },
   {
    "duration": 5,
    "start_time": "2022-09-29T08:48:47.779Z"
   },
   {
    "duration": 187,
    "start_time": "2022-09-29T08:48:47.786Z"
   },
   {
    "duration": 14,
    "start_time": "2022-09-29T08:48:47.975Z"
   },
   {
    "duration": 16,
    "start_time": "2022-09-29T08:48:47.991Z"
   },
   {
    "duration": 266,
    "start_time": "2022-09-29T08:48:48.008Z"
   },
   {
    "duration": 14,
    "start_time": "2022-09-29T08:48:48.276Z"
   },
   {
    "duration": 14,
    "start_time": "2022-09-29T08:48:48.291Z"
   },
   {
    "duration": 30,
    "start_time": "2022-09-29T08:48:48.306Z"
   },
   {
    "duration": 152,
    "start_time": "2022-09-29T08:48:48.337Z"
   },
   {
    "duration": 14,
    "start_time": "2022-09-29T08:48:48.490Z"
   },
   {
    "duration": 29,
    "start_time": "2022-09-29T08:48:48.505Z"
   },
   {
    "duration": 14,
    "start_time": "2022-09-29T08:48:48.536Z"
   },
   {
    "duration": 161,
    "start_time": "2022-09-29T08:48:48.551Z"
   },
   {
    "duration": 23,
    "start_time": "2022-09-29T08:48:48.714Z"
   },
   {
    "duration": 15,
    "start_time": "2022-09-29T08:48:48.739Z"
   },
   {
    "duration": 3,
    "start_time": "2022-09-29T08:49:13.862Z"
   },
   {
    "duration": 8,
    "start_time": "2022-09-29T08:49:21.400Z"
   },
   {
    "duration": 15,
    "start_time": "2022-09-29T08:50:36.205Z"
   },
   {
    "duration": 8,
    "start_time": "2022-09-29T09:06:12.030Z"
   },
   {
    "duration": 11,
    "start_time": "2022-09-29T09:06:26.426Z"
   },
   {
    "duration": 10,
    "start_time": "2022-09-29T09:06:40.980Z"
   },
   {
    "duration": 11,
    "start_time": "2022-09-29T09:06:53.220Z"
   },
   {
    "duration": 10,
    "start_time": "2022-09-29T09:06:54.585Z"
   },
   {
    "duration": 15,
    "start_time": "2022-09-29T09:06:55.510Z"
   },
   {
    "duration": 10,
    "start_time": "2022-09-29T09:06:55.932Z"
   },
   {
    "duration": 13,
    "start_time": "2022-09-29T09:06:56.326Z"
   },
   {
    "duration": 9,
    "start_time": "2022-09-29T09:06:56.674Z"
   },
   {
    "duration": 9,
    "start_time": "2022-09-29T09:06:57.485Z"
   },
   {
    "duration": 10,
    "start_time": "2022-09-29T09:06:58.093Z"
   },
   {
    "duration": 10,
    "start_time": "2022-09-29T09:06:58.668Z"
   },
   {
    "duration": 10,
    "start_time": "2022-09-29T09:07:46.000Z"
   },
   {
    "duration": 10,
    "start_time": "2022-09-29T09:07:48.228Z"
   },
   {
    "duration": 11,
    "start_time": "2022-09-29T09:07:56.685Z"
   },
   {
    "duration": 10,
    "start_time": "2022-09-29T09:07:57.769Z"
   },
   {
    "duration": 9,
    "start_time": "2022-09-29T09:07:58.665Z"
   },
   {
    "duration": 9,
    "start_time": "2022-09-29T09:07:59.231Z"
   },
   {
    "duration": 10,
    "start_time": "2022-09-29T09:07:59.761Z"
   },
   {
    "duration": 11,
    "start_time": "2022-09-29T09:08:00.296Z"
   },
   {
    "duration": 10,
    "start_time": "2022-09-29T09:08:00.799Z"
   },
   {
    "duration": 10,
    "start_time": "2022-09-29T09:08:01.270Z"
   },
   {
    "duration": 10,
    "start_time": "2022-09-29T09:08:01.831Z"
   },
   {
    "duration": 10,
    "start_time": "2022-09-29T09:08:02.354Z"
   },
   {
    "duration": 10,
    "start_time": "2022-09-29T09:08:11.540Z"
   },
   {
    "duration": 9,
    "start_time": "2022-09-29T09:08:14.254Z"
   },
   {
    "duration": 12,
    "start_time": "2022-09-29T09:08:15.024Z"
   },
   {
    "duration": 13,
    "start_time": "2022-09-29T09:08:16.019Z"
   },
   {
    "duration": 14,
    "start_time": "2022-09-29T09:08:17.141Z"
   },
   {
    "duration": 12,
    "start_time": "2022-09-29T09:08:18.145Z"
   },
   {
    "duration": 14,
    "start_time": "2022-09-29T09:08:19.103Z"
   },
   {
    "duration": 13,
    "start_time": "2022-09-29T09:08:19.835Z"
   },
   {
    "duration": 11,
    "start_time": "2022-09-29T09:08:20.532Z"
   },
   {
    "duration": 9,
    "start_time": "2022-09-29T09:08:21.921Z"
   },
   {
    "duration": 11,
    "start_time": "2022-09-29T09:08:23.058Z"
   },
   {
    "duration": 10,
    "start_time": "2022-09-29T09:08:23.654Z"
   },
   {
    "duration": 13,
    "start_time": "2022-09-29T09:08:24.255Z"
   },
   {
    "duration": 12,
    "start_time": "2022-09-29T09:08:24.827Z"
   },
   {
    "duration": 13,
    "start_time": "2022-09-29T09:08:25.351Z"
   },
   {
    "duration": 13,
    "start_time": "2022-09-29T09:08:26.330Z"
   },
   {
    "duration": 10,
    "start_time": "2022-09-29T09:08:26.865Z"
   },
   {
    "duration": 12,
    "start_time": "2022-09-29T09:08:27.331Z"
   },
   {
    "duration": 10,
    "start_time": "2022-09-29T09:08:27.901Z"
   },
   {
    "duration": 10,
    "start_time": "2022-09-29T09:08:28.505Z"
   },
   {
    "duration": 11,
    "start_time": "2022-09-29T09:08:29.004Z"
   },
   {
    "duration": 11,
    "start_time": "2022-09-29T09:08:29.592Z"
   },
   {
    "duration": 11,
    "start_time": "2022-09-29T09:16:47.322Z"
   },
   {
    "duration": 10,
    "start_time": "2022-09-29T09:16:55.275Z"
   },
   {
    "duration": 10,
    "start_time": "2022-09-29T09:16:57.289Z"
   },
   {
    "duration": 10,
    "start_time": "2022-09-29T09:16:57.984Z"
   },
   {
    "duration": 12,
    "start_time": "2022-09-29T09:16:58.467Z"
   },
   {
    "duration": 12,
    "start_time": "2022-09-29T09:16:58.892Z"
   },
   {
    "duration": 10,
    "start_time": "2022-09-29T09:16:59.276Z"
   },
   {
    "duration": 12,
    "start_time": "2022-09-29T09:16:59.930Z"
   },
   {
    "duration": 12,
    "start_time": "2022-09-29T09:17:00.432Z"
   },
   {
    "duration": 11,
    "start_time": "2022-09-29T09:17:00.851Z"
   },
   {
    "duration": 10,
    "start_time": "2022-09-29T09:17:01.937Z"
   },
   {
    "duration": 12,
    "start_time": "2022-09-29T09:17:02.383Z"
   },
   {
    "duration": 9,
    "start_time": "2022-09-29T09:17:13.302Z"
   },
   {
    "duration": 11,
    "start_time": "2022-09-29T09:17:13.939Z"
   },
   {
    "duration": 11,
    "start_time": "2022-09-29T09:17:14.255Z"
   },
   {
    "duration": 10,
    "start_time": "2022-09-29T09:17:14.526Z"
   },
   {
    "duration": 9,
    "start_time": "2022-09-29T09:17:15.305Z"
   },
   {
    "duration": 10,
    "start_time": "2022-09-29T09:17:19.871Z"
   },
   {
    "duration": 11,
    "start_time": "2022-09-29T09:17:20.329Z"
   },
   {
    "duration": 11,
    "start_time": "2022-09-29T09:17:20.922Z"
   },
   {
    "duration": 2,
    "start_time": "2022-09-29T09:21:15.644Z"
   },
   {
    "duration": 3,
    "start_time": "2022-09-29T09:22:50.269Z"
   },
   {
    "duration": 68,
    "start_time": "2022-09-29T09:22:50.274Z"
   },
   {
    "duration": 17,
    "start_time": "2022-09-29T09:22:50.344Z"
   },
   {
    "duration": 26,
    "start_time": "2022-09-29T09:22:50.362Z"
   },
   {
    "duration": 15,
    "start_time": "2022-09-29T09:22:50.391Z"
   },
   {
    "duration": 27,
    "start_time": "2022-09-29T09:22:50.408Z"
   },
   {
    "duration": 23,
    "start_time": "2022-09-29T09:22:50.437Z"
   },
   {
    "duration": 11,
    "start_time": "2022-09-29T09:22:50.462Z"
   },
   {
    "duration": 9,
    "start_time": "2022-09-29T09:22:50.475Z"
   },
   {
    "duration": 13,
    "start_time": "2022-09-29T09:22:50.486Z"
   },
   {
    "duration": 67,
    "start_time": "2022-09-29T09:22:50.501Z"
   },
   {
    "duration": 5,
    "start_time": "2022-09-29T09:22:50.569Z"
   },
   {
    "duration": 15,
    "start_time": "2022-09-29T09:22:50.576Z"
   },
   {
    "duration": 3,
    "start_time": "2022-09-29T09:22:50.595Z"
   },
   {
    "duration": 11,
    "start_time": "2022-09-29T09:22:50.599Z"
   },
   {
    "duration": 345,
    "start_time": "2022-09-29T09:22:50.612Z"
   },
   {
    "duration": 7,
    "start_time": "2022-09-29T09:22:50.959Z"
   },
   {
    "duration": 366,
    "start_time": "2022-09-29T09:22:50.967Z"
   },
   {
    "duration": 414,
    "start_time": "2022-09-29T09:22:51.335Z"
   },
   {
    "duration": 7,
    "start_time": "2022-09-29T09:22:51.751Z"
   },
   {
    "duration": 366,
    "start_time": "2022-09-29T09:22:51.760Z"
   },
   {
    "duration": 1265,
    "start_time": "2022-09-29T09:22:52.128Z"
   },
   {
    "duration": 185,
    "start_time": "2022-09-29T09:22:53.394Z"
   },
   {
    "duration": 4,
    "start_time": "2022-09-29T09:22:53.581Z"
   },
   {
    "duration": 181,
    "start_time": "2022-09-29T09:22:53.587Z"
   },
   {
    "duration": 4,
    "start_time": "2022-09-29T09:22:53.770Z"
   },
   {
    "duration": 183,
    "start_time": "2022-09-29T09:22:53.776Z"
   },
   {
    "duration": 13,
    "start_time": "2022-09-29T09:22:53.961Z"
   },
   {
    "duration": 15,
    "start_time": "2022-09-29T09:22:53.976Z"
   },
   {
    "duration": 244,
    "start_time": "2022-09-29T09:22:53.992Z"
   },
   {
    "duration": 13,
    "start_time": "2022-09-29T09:22:54.238Z"
   },
   {
    "duration": 14,
    "start_time": "2022-09-29T09:22:54.252Z"
   },
   {
    "duration": 15,
    "start_time": "2022-09-29T09:22:54.268Z"
   },
   {
    "duration": 170,
    "start_time": "2022-09-29T09:22:54.285Z"
   },
   {
    "duration": 13,
    "start_time": "2022-09-29T09:22:54.457Z"
   },
   {
    "duration": 17,
    "start_time": "2022-09-29T09:22:54.472Z"
   },
   {
    "duration": 13,
    "start_time": "2022-09-29T09:22:54.490Z"
   },
   {
    "duration": 163,
    "start_time": "2022-09-29T09:22:54.504Z"
   },
   {
    "duration": 13,
    "start_time": "2022-09-29T09:22:54.668Z"
   },
   {
    "duration": 17,
    "start_time": "2022-09-29T09:22:54.682Z"
   },
   {
    "duration": 0,
    "start_time": "2022-09-29T09:22:54.700Z"
   },
   {
    "duration": 3,
    "start_time": "2022-09-29T09:23:17.045Z"
   },
   {
    "duration": 151,
    "start_time": "2022-09-29T09:23:31.996Z"
   },
   {
    "duration": 147,
    "start_time": "2022-09-29T09:23:32.858Z"
   },
   {
    "duration": 14,
    "start_time": "2022-09-29T09:23:41.207Z"
   },
   {
    "duration": 15,
    "start_time": "2022-09-29T09:23:54.044Z"
   },
   {
    "duration": 15,
    "start_time": "2022-09-29T09:23:54.808Z"
   },
   {
    "duration": 19,
    "start_time": "2022-09-29T09:24:12.257Z"
   },
   {
    "duration": 4,
    "start_time": "2022-09-29T09:24:26.999Z"
   },
   {
    "duration": 9,
    "start_time": "2022-09-29T09:24:40.324Z"
   },
   {
    "duration": 12,
    "start_time": "2022-09-29T09:24:49.693Z"
   },
   {
    "duration": 45,
    "start_time": "2022-09-29T17:46:09.988Z"
   },
   {
    "duration": 7,
    "start_time": "2022-09-29T17:46:31.356Z"
   },
   {
    "duration": 1054,
    "start_time": "2022-09-29T17:46:36.651Z"
   },
   {
    "duration": 47,
    "start_time": "2022-09-29T17:46:37.707Z"
   },
   {
    "duration": 16,
    "start_time": "2022-09-29T17:46:37.756Z"
   },
   {
    "duration": 22,
    "start_time": "2022-09-29T17:46:37.775Z"
   },
   {
    "duration": 7,
    "start_time": "2022-09-29T17:46:37.798Z"
   },
   {
    "duration": 9,
    "start_time": "2022-09-29T17:46:37.806Z"
   },
   {
    "duration": 9,
    "start_time": "2022-09-29T17:46:37.816Z"
   },
   {
    "duration": 9,
    "start_time": "2022-09-29T17:46:37.826Z"
   },
   {
    "duration": 11,
    "start_time": "2022-09-29T17:46:37.836Z"
   },
   {
    "duration": 36,
    "start_time": "2022-09-29T17:46:37.850Z"
   },
   {
    "duration": 42,
    "start_time": "2022-09-29T17:46:37.887Z"
   },
   {
    "duration": 4,
    "start_time": "2022-09-29T17:46:37.931Z"
   },
   {
    "duration": 15,
    "start_time": "2022-09-29T17:46:37.937Z"
   },
   {
    "duration": 23,
    "start_time": "2022-09-29T17:46:37.954Z"
   },
   {
    "duration": 4,
    "start_time": "2022-09-29T17:46:37.979Z"
   },
   {
    "duration": 323,
    "start_time": "2022-09-29T17:46:37.985Z"
   },
   {
    "duration": 8,
    "start_time": "2022-09-29T17:46:38.310Z"
   },
   {
    "duration": 329,
    "start_time": "2022-09-29T17:46:38.320Z"
   },
   {
    "duration": 429,
    "start_time": "2022-09-29T17:46:38.651Z"
   },
   {
    "duration": 5,
    "start_time": "2022-09-29T17:46:39.082Z"
   },
   {
    "duration": 341,
    "start_time": "2022-09-29T17:46:39.089Z"
   },
   {
    "duration": 1240,
    "start_time": "2022-09-29T17:46:39.431Z"
   },
   {
    "duration": 160,
    "start_time": "2022-09-29T17:46:40.677Z"
   },
   {
    "duration": 4,
    "start_time": "2022-09-29T17:46:40.839Z"
   },
   {
    "duration": 187,
    "start_time": "2022-09-29T17:46:40.844Z"
   },
   {
    "duration": 4,
    "start_time": "2022-09-29T17:46:41.033Z"
   },
   {
    "duration": 194,
    "start_time": "2022-09-29T17:46:41.038Z"
   },
   {
    "duration": 13,
    "start_time": "2022-09-29T17:46:41.235Z"
   },
   {
    "duration": 28,
    "start_time": "2022-09-29T17:46:41.249Z"
   },
   {
    "duration": 160,
    "start_time": "2022-09-29T17:46:41.279Z"
   },
   {
    "duration": 12,
    "start_time": "2022-09-29T17:46:41.441Z"
   },
   {
    "duration": 28,
    "start_time": "2022-09-29T17:46:41.455Z"
   },
   {
    "duration": 16,
    "start_time": "2022-09-29T17:46:41.484Z"
   },
   {
    "duration": 249,
    "start_time": "2022-09-29T17:46:41.501Z"
   },
   {
    "duration": 14,
    "start_time": "2022-09-29T17:46:41.752Z"
   },
   {
    "duration": 21,
    "start_time": "2022-09-29T17:46:41.767Z"
   },
   {
    "duration": 14,
    "start_time": "2022-09-29T17:46:41.790Z"
   },
   {
    "duration": 166,
    "start_time": "2022-09-29T17:46:41.805Z"
   },
   {
    "duration": 13,
    "start_time": "2022-09-29T17:46:41.977Z"
   },
   {
    "duration": 66,
    "start_time": "2022-09-29T17:46:41.992Z"
   },
   {
    "duration": 0,
    "start_time": "2022-09-29T17:46:42.060Z"
   },
   {
    "duration": 147,
    "start_time": "2022-09-29T17:47:54.284Z"
   },
   {
    "duration": 167,
    "start_time": "2022-09-29T17:53:13.860Z"
   },
   {
    "duration": 3,
    "start_time": "2022-09-29T17:53:23.030Z"
   },
   {
    "duration": 53,
    "start_time": "2022-09-29T17:53:23.035Z"
   },
   {
    "duration": 13,
    "start_time": "2022-09-29T17:53:23.089Z"
   },
   {
    "duration": 18,
    "start_time": "2022-09-29T17:53:23.104Z"
   },
   {
    "duration": 6,
    "start_time": "2022-09-29T17:53:23.124Z"
   },
   {
    "duration": 13,
    "start_time": "2022-09-29T17:53:23.131Z"
   },
   {
    "duration": 7,
    "start_time": "2022-09-29T17:53:23.145Z"
   },
   {
    "duration": 27,
    "start_time": "2022-09-29T17:53:23.154Z"
   },
   {
    "duration": 10,
    "start_time": "2022-09-29T17:53:23.182Z"
   },
   {
    "duration": 11,
    "start_time": "2022-09-29T17:53:23.194Z"
   },
   {
    "duration": 42,
    "start_time": "2022-09-29T17:53:23.206Z"
   },
   {
    "duration": 3,
    "start_time": "2022-09-29T17:53:23.250Z"
   },
   {
    "duration": 7,
    "start_time": "2022-09-29T17:53:23.277Z"
   },
   {
    "duration": 3,
    "start_time": "2022-09-29T17:53:23.286Z"
   },
   {
    "duration": 8,
    "start_time": "2022-09-29T17:53:23.291Z"
   },
   {
    "duration": 305,
    "start_time": "2022-09-29T17:53:23.300Z"
   },
   {
    "duration": 7,
    "start_time": "2022-09-29T17:53:23.606Z"
   },
   {
    "duration": 315,
    "start_time": "2022-09-29T17:53:23.614Z"
   },
   {
    "duration": 388,
    "start_time": "2022-09-29T17:53:23.931Z"
   },
   {
    "duration": 6,
    "start_time": "2022-09-29T17:53:24.320Z"
   },
   {
    "duration": 318,
    "start_time": "2022-09-29T17:53:24.327Z"
   },
   {
    "duration": 1261,
    "start_time": "2022-09-29T17:53:24.646Z"
   },
   {
    "duration": 162,
    "start_time": "2022-09-29T17:53:25.909Z"
   },
   {
    "duration": 4,
    "start_time": "2022-09-29T17:53:26.076Z"
   },
   {
    "duration": 173,
    "start_time": "2022-09-29T17:53:26.082Z"
   },
   {
    "duration": 4,
    "start_time": "2022-09-29T17:53:26.257Z"
   },
   {
    "duration": 172,
    "start_time": "2022-09-29T17:53:26.262Z"
   },
   {
    "duration": 13,
    "start_time": "2022-09-29T17:53:26.436Z"
   },
   {
    "duration": 31,
    "start_time": "2022-09-29T17:53:26.451Z"
   },
   {
    "duration": 227,
    "start_time": "2022-09-29T17:53:28.556Z"
   },
   {
    "duration": 144,
    "start_time": "2022-09-29T17:54:07.371Z"
   },
   {
    "duration": 157,
    "start_time": "2022-09-29T17:54:14.626Z"
   },
   {
    "duration": 3,
    "start_time": "2022-09-29T17:54:19.001Z"
   },
   {
    "duration": 55,
    "start_time": "2022-09-29T17:54:19.005Z"
   },
   {
    "duration": 12,
    "start_time": "2022-09-29T17:54:19.061Z"
   },
   {
    "duration": 18,
    "start_time": "2022-09-29T17:54:19.075Z"
   },
   {
    "duration": 6,
    "start_time": "2022-09-29T17:54:19.095Z"
   },
   {
    "duration": 10,
    "start_time": "2022-09-29T17:54:19.102Z"
   },
   {
    "duration": 9,
    "start_time": "2022-09-29T17:54:19.113Z"
   },
   {
    "duration": 12,
    "start_time": "2022-09-29T17:54:19.123Z"
   },
   {
    "duration": 11,
    "start_time": "2022-09-29T17:54:19.136Z"
   },
   {
    "duration": 14,
    "start_time": "2022-09-29T17:54:19.149Z"
   },
   {
    "duration": 51,
    "start_time": "2022-09-29T17:54:19.165Z"
   },
   {
    "duration": 4,
    "start_time": "2022-09-29T17:54:19.218Z"
   },
   {
    "duration": 12,
    "start_time": "2022-09-29T17:54:19.223Z"
   },
   {
    "duration": 4,
    "start_time": "2022-09-29T17:54:19.238Z"
   },
   {
    "duration": 6,
    "start_time": "2022-09-29T17:54:19.243Z"
   },
   {
    "duration": 309,
    "start_time": "2022-09-29T17:54:19.250Z"
   },
   {
    "duration": 6,
    "start_time": "2022-09-29T17:54:19.561Z"
   },
   {
    "duration": 316,
    "start_time": "2022-09-29T17:54:19.568Z"
   },
   {
    "duration": 392,
    "start_time": "2022-09-29T17:54:19.885Z"
   },
   {
    "duration": 6,
    "start_time": "2022-09-29T17:54:20.278Z"
   },
   {
    "duration": 321,
    "start_time": "2022-09-29T17:54:20.285Z"
   },
   {
    "duration": 1161,
    "start_time": "2022-09-29T17:54:20.607Z"
   },
   {
    "duration": 161,
    "start_time": "2022-09-29T17:54:21.777Z"
   },
   {
    "duration": 4,
    "start_time": "2022-09-29T17:54:21.939Z"
   },
   {
    "duration": 163,
    "start_time": "2022-09-29T17:54:21.944Z"
   },
   {
    "duration": 4,
    "start_time": "2022-09-29T17:54:22.108Z"
   },
   {
    "duration": 168,
    "start_time": "2022-09-29T17:54:22.114Z"
   },
   {
    "duration": 13,
    "start_time": "2022-09-29T17:54:22.284Z"
   },
   {
    "duration": 12,
    "start_time": "2022-09-29T17:54:22.299Z"
   },
   {
    "duration": 209,
    "start_time": "2022-09-29T17:54:26.041Z"
   },
   {
    "duration": 146,
    "start_time": "2022-09-29T17:55:53.788Z"
   },
   {
    "duration": 152,
    "start_time": "2022-09-29T17:56:09.127Z"
   },
   {
    "duration": 143,
    "start_time": "2022-09-29T18:00:28.406Z"
   },
   {
    "duration": 145,
    "start_time": "2022-09-29T18:00:29.981Z"
   },
   {
    "duration": 152,
    "start_time": "2022-09-29T18:01:00.255Z"
   },
   {
    "duration": 2,
    "start_time": "2022-09-29T18:01:04.781Z"
   },
   {
    "duration": 56,
    "start_time": "2022-09-29T18:01:04.785Z"
   },
   {
    "duration": 13,
    "start_time": "2022-09-29T18:01:04.843Z"
   },
   {
    "duration": 17,
    "start_time": "2022-09-29T18:01:04.858Z"
   },
   {
    "duration": 4,
    "start_time": "2022-09-29T18:01:04.877Z"
   },
   {
    "duration": 10,
    "start_time": "2022-09-29T18:01:04.883Z"
   },
   {
    "duration": 9,
    "start_time": "2022-09-29T18:01:04.894Z"
   },
   {
    "duration": 17,
    "start_time": "2022-09-29T18:01:04.904Z"
   },
   {
    "duration": 9,
    "start_time": "2022-09-29T18:01:04.923Z"
   },
   {
    "duration": 12,
    "start_time": "2022-09-29T18:01:04.934Z"
   },
   {
    "duration": 57,
    "start_time": "2022-09-29T18:01:04.948Z"
   },
   {
    "duration": 3,
    "start_time": "2022-09-29T18:01:05.007Z"
   },
   {
    "duration": 11,
    "start_time": "2022-09-29T18:01:05.012Z"
   },
   {
    "duration": 17,
    "start_time": "2022-09-29T18:01:05.026Z"
   },
   {
    "duration": 13,
    "start_time": "2022-09-29T18:01:05.044Z"
   },
   {
    "duration": 401,
    "start_time": "2022-09-29T18:01:05.059Z"
   },
   {
    "duration": 7,
    "start_time": "2022-09-29T18:01:05.461Z"
   },
   {
    "duration": 347,
    "start_time": "2022-09-29T18:01:05.469Z"
   },
   {
    "duration": 429,
    "start_time": "2022-09-29T18:01:05.818Z"
   },
   {
    "duration": 7,
    "start_time": "2022-09-29T18:01:06.248Z"
   },
   {
    "duration": 420,
    "start_time": "2022-09-29T18:01:06.257Z"
   },
   {
    "duration": 1263,
    "start_time": "2022-09-29T18:01:06.679Z"
   },
   {
    "duration": 179,
    "start_time": "2022-09-29T18:01:07.943Z"
   },
   {
    "duration": 5,
    "start_time": "2022-09-29T18:01:08.124Z"
   },
   {
    "duration": 183,
    "start_time": "2022-09-29T18:01:08.131Z"
   },
   {
    "duration": 4,
    "start_time": "2022-09-29T18:01:08.316Z"
   },
   {
    "duration": 182,
    "start_time": "2022-09-29T18:01:08.322Z"
   },
   {
    "duration": 14,
    "start_time": "2022-09-29T18:01:08.505Z"
   },
   {
    "duration": 18,
    "start_time": "2022-09-29T18:01:08.520Z"
   },
   {
    "duration": 144,
    "start_time": "2022-09-29T18:01:48.756Z"
   },
   {
    "duration": 17,
    "start_time": "2022-09-29T18:10:12.712Z"
   },
   {
    "duration": 14,
    "start_time": "2022-09-29T18:10:19.979Z"
   },
   {
    "duration": 2,
    "start_time": "2022-09-29T18:10:30.885Z"
   },
   {
    "duration": 143,
    "start_time": "2022-09-29T18:10:53.696Z"
   },
   {
    "duration": 14,
    "start_time": "2022-09-29T18:11:07.947Z"
   },
   {
    "duration": 15,
    "start_time": "2022-09-29T18:11:11.588Z"
   },
   {
    "duration": 14,
    "start_time": "2022-09-29T18:11:12.109Z"
   },
   {
    "duration": 15,
    "start_time": "2022-09-29T18:11:12.288Z"
   },
   {
    "duration": 14,
    "start_time": "2022-09-29T18:11:12.456Z"
   },
   {
    "duration": 15,
    "start_time": "2022-09-29T18:11:12.642Z"
   },
   {
    "duration": 15,
    "start_time": "2022-09-29T18:11:12.826Z"
   },
   {
    "duration": 19,
    "start_time": "2022-09-29T18:11:12.995Z"
   },
   {
    "duration": 14,
    "start_time": "2022-09-29T18:11:13.178Z"
   },
   {
    "duration": 14,
    "start_time": "2022-09-29T18:11:13.340Z"
   },
   {
    "duration": 17,
    "start_time": "2022-09-29T18:11:25.261Z"
   },
   {
    "duration": 13,
    "start_time": "2022-09-29T18:11:27.997Z"
   },
   {
    "duration": 3,
    "start_time": "2022-09-29T18:11:33.437Z"
   },
   {
    "duration": 3,
    "start_time": "2022-09-29T18:11:35.664Z"
   },
   {
    "duration": 11,
    "start_time": "2022-09-29T18:12:04.275Z"
   },
   {
    "duration": 3,
    "start_time": "2022-09-29T18:59:11.160Z"
   },
   {
    "duration": 53,
    "start_time": "2022-09-29T18:59:11.166Z"
   },
   {
    "duration": 13,
    "start_time": "2022-09-29T18:59:11.220Z"
   },
   {
    "duration": 18,
    "start_time": "2022-09-29T18:59:11.235Z"
   },
   {
    "duration": 5,
    "start_time": "2022-09-29T18:59:11.254Z"
   },
   {
    "duration": 10,
    "start_time": "2022-09-29T18:59:11.260Z"
   },
   {
    "duration": 10,
    "start_time": "2022-09-29T18:59:11.271Z"
   },
   {
    "duration": 7,
    "start_time": "2022-09-29T18:59:11.283Z"
   },
   {
    "duration": 10,
    "start_time": "2022-09-29T18:59:11.291Z"
   },
   {
    "duration": 11,
    "start_time": "2022-09-29T18:59:11.303Z"
   },
   {
    "duration": 63,
    "start_time": "2022-09-29T18:59:11.315Z"
   },
   {
    "duration": 4,
    "start_time": "2022-09-29T18:59:11.380Z"
   },
   {
    "duration": 14,
    "start_time": "2022-09-29T18:59:11.385Z"
   },
   {
    "duration": 4,
    "start_time": "2022-09-29T18:59:11.401Z"
   },
   {
    "duration": 11,
    "start_time": "2022-09-29T18:59:11.406Z"
   },
   {
    "duration": 359,
    "start_time": "2022-09-29T18:59:11.419Z"
   },
   {
    "duration": 7,
    "start_time": "2022-09-29T18:59:11.779Z"
   },
   {
    "duration": 330,
    "start_time": "2022-09-29T18:59:11.788Z"
   },
   {
    "duration": 398,
    "start_time": "2022-09-29T18:59:12.120Z"
   },
   {
    "duration": 6,
    "start_time": "2022-09-29T18:59:12.520Z"
   },
   {
    "duration": 366,
    "start_time": "2022-09-29T18:59:12.528Z"
   },
   {
    "duration": 1288,
    "start_time": "2022-09-29T18:59:12.896Z"
   },
   {
    "duration": 184,
    "start_time": "2022-09-29T18:59:14.186Z"
   },
   {
    "duration": 7,
    "start_time": "2022-09-29T18:59:14.371Z"
   },
   {
    "duration": 265,
    "start_time": "2022-09-29T18:59:14.380Z"
   },
   {
    "duration": 5,
    "start_time": "2022-09-29T18:59:14.647Z"
   },
   {
    "duration": 186,
    "start_time": "2022-09-29T18:59:14.654Z"
   },
   {
    "duration": 14,
    "start_time": "2022-09-29T18:59:14.843Z"
   },
   {
    "duration": 27,
    "start_time": "2022-09-29T18:59:14.860Z"
   },
   {
    "duration": 151,
    "start_time": "2022-09-29T18:59:17.434Z"
   },
   {
    "duration": 15,
    "start_time": "2022-09-29T19:01:01.441Z"
   },
   {
    "duration": 4,
    "start_time": "2022-09-29T19:09:35.090Z"
   },
   {
    "duration": 50,
    "start_time": "2022-09-29T19:09:35.096Z"
   },
   {
    "duration": 17,
    "start_time": "2022-09-29T19:09:35.148Z"
   },
   {
    "duration": 31,
    "start_time": "2022-09-29T19:09:35.168Z"
   },
   {
    "duration": 6,
    "start_time": "2022-09-29T19:09:35.201Z"
   },
   {
    "duration": 13,
    "start_time": "2022-09-29T19:09:35.208Z"
   },
   {
    "duration": 19,
    "start_time": "2022-09-29T19:09:35.223Z"
   },
   {
    "duration": 16,
    "start_time": "2022-09-29T19:09:35.244Z"
   },
   {
    "duration": 39,
    "start_time": "2022-09-29T19:09:35.262Z"
   },
   {
    "duration": 17,
    "start_time": "2022-09-29T19:09:35.303Z"
   },
   {
    "duration": 54,
    "start_time": "2022-09-29T19:09:35.323Z"
   },
   {
    "duration": 7,
    "start_time": "2022-09-29T19:09:35.379Z"
   },
   {
    "duration": 27,
    "start_time": "2022-09-29T19:09:35.389Z"
   },
   {
    "duration": 11,
    "start_time": "2022-09-29T19:09:35.420Z"
   },
   {
    "duration": 11,
    "start_time": "2022-09-29T19:09:35.432Z"
   },
   {
    "duration": 307,
    "start_time": "2022-09-29T19:09:35.445Z"
   },
   {
    "duration": 8,
    "start_time": "2022-09-29T19:09:35.753Z"
   },
   {
    "duration": 347,
    "start_time": "2022-09-29T19:09:35.763Z"
   },
   {
    "duration": 412,
    "start_time": "2022-09-29T19:09:36.112Z"
   },
   {
    "duration": 8,
    "start_time": "2022-09-29T19:09:36.526Z"
   },
   {
    "duration": 370,
    "start_time": "2022-09-29T19:09:36.535Z"
   },
   {
    "duration": 1298,
    "start_time": "2022-09-29T19:09:36.907Z"
   },
   {
    "duration": 170,
    "start_time": "2022-09-29T19:09:38.207Z"
   },
   {
    "duration": 9,
    "start_time": "2022-09-29T19:09:38.385Z"
   },
   {
    "duration": 179,
    "start_time": "2022-09-29T19:09:38.395Z"
   },
   {
    "duration": 9,
    "start_time": "2022-09-29T19:09:38.577Z"
   },
   {
    "duration": 177,
    "start_time": "2022-09-29T19:09:38.589Z"
   },
   {
    "duration": 23,
    "start_time": "2022-09-29T19:09:38.767Z"
   },
   {
    "duration": 20,
    "start_time": "2022-09-29T19:09:38.791Z"
   },
   {
    "duration": 222,
    "start_time": "2022-09-29T19:09:38.813Z"
   },
   {
    "duration": 14,
    "start_time": "2022-09-29T19:09:39.036Z"
   },
   {
    "duration": 33,
    "start_time": "2022-09-29T19:09:39.052Z"
   },
   {
    "duration": 20,
    "start_time": "2022-09-29T19:09:39.090Z"
   },
   {
    "duration": 142,
    "start_time": "2022-09-29T19:09:39.112Z"
   },
   {
    "duration": 32,
    "start_time": "2022-09-29T19:09:39.255Z"
   },
   {
    "duration": 13,
    "start_time": "2022-09-29T19:09:39.292Z"
   },
   {
    "duration": 19,
    "start_time": "2022-09-29T19:09:39.307Z"
   },
   {
    "duration": 154,
    "start_time": "2022-09-29T19:09:39.327Z"
   },
   {
    "duration": 17,
    "start_time": "2022-09-29T19:09:39.483Z"
   },
   {
    "duration": 17,
    "start_time": "2022-09-29T19:09:39.502Z"
   },
   {
    "duration": 0,
    "start_time": "2022-09-29T19:09:39.521Z"
   },
   {
    "duration": 19,
    "start_time": "2022-09-29T19:09:46.068Z"
   },
   {
    "duration": 15,
    "start_time": "2022-09-29T19:09:46.543Z"
   },
   {
    "duration": 16,
    "start_time": "2022-09-29T19:09:46.721Z"
   },
   {
    "duration": 19,
    "start_time": "2022-09-29T19:09:46.897Z"
   },
   {
    "duration": 19,
    "start_time": "2022-09-29T19:09:47.063Z"
   },
   {
    "duration": 3,
    "start_time": "2022-09-29T19:09:54.841Z"
   },
   {
    "duration": 2,
    "start_time": "2022-09-29T19:09:55.436Z"
   },
   {
    "duration": 3,
    "start_time": "2022-09-29T19:09:55.730Z"
   },
   {
    "duration": 3,
    "start_time": "2022-09-29T19:09:55.968Z"
   },
   {
    "duration": 11,
    "start_time": "2022-09-29T19:10:00.057Z"
   },
   {
    "duration": 31,
    "start_time": "2022-09-29T19:10:05.180Z"
   },
   {
    "duration": 254,
    "start_time": "2022-09-29T19:13:31.593Z"
   },
   {
    "duration": 1020,
    "start_time": "2022-09-30T10:53:23.426Z"
   },
   {
    "duration": 49,
    "start_time": "2022-09-30T10:53:24.448Z"
   },
   {
    "duration": 13,
    "start_time": "2022-09-30T10:53:24.499Z"
   },
   {
    "duration": 30,
    "start_time": "2022-09-30T10:53:24.514Z"
   },
   {
    "duration": 7,
    "start_time": "2022-09-30T10:53:24.546Z"
   },
   {
    "duration": 12,
    "start_time": "2022-09-30T10:53:24.555Z"
   },
   {
    "duration": 11,
    "start_time": "2022-09-30T10:53:24.568Z"
   },
   {
    "duration": 8,
    "start_time": "2022-09-30T10:53:24.580Z"
   },
   {
    "duration": 11,
    "start_time": "2022-09-30T10:53:24.589Z"
   },
   {
    "duration": 16,
    "start_time": "2022-09-30T10:53:24.601Z"
   },
   {
    "duration": 45,
    "start_time": "2022-09-30T10:53:24.619Z"
   },
   {
    "duration": 3,
    "start_time": "2022-09-30T10:53:24.666Z"
   },
   {
    "duration": 10,
    "start_time": "2022-09-30T10:53:24.671Z"
   },
   {
    "duration": 4,
    "start_time": "2022-09-30T10:53:24.684Z"
   },
   {
    "duration": 8,
    "start_time": "2022-09-30T10:53:24.689Z"
   },
   {
    "duration": 339,
    "start_time": "2022-09-30T10:53:24.698Z"
   },
   {
    "duration": 8,
    "start_time": "2022-09-30T10:53:25.038Z"
   },
   {
    "duration": 346,
    "start_time": "2022-09-30T10:53:25.047Z"
   },
   {
    "duration": 414,
    "start_time": "2022-09-30T10:53:25.395Z"
   },
   {
    "duration": 14,
    "start_time": "2022-09-30T10:53:25.811Z"
   },
   {
    "duration": 363,
    "start_time": "2022-09-30T10:53:25.826Z"
   },
   {
    "duration": 1246,
    "start_time": "2022-09-30T10:53:26.192Z"
   },
   {
    "duration": 165,
    "start_time": "2022-09-30T10:53:27.440Z"
   },
   {
    "duration": 15,
    "start_time": "2022-09-30T10:53:27.607Z"
   },
   {
    "duration": 161,
    "start_time": "2022-09-30T10:53:27.623Z"
   },
   {
    "duration": 4,
    "start_time": "2022-09-30T10:53:27.787Z"
   },
   {
    "duration": 181,
    "start_time": "2022-09-30T10:53:27.793Z"
   },
   {
    "duration": 14,
    "start_time": "2022-09-30T10:53:27.976Z"
   },
   {
    "duration": 12,
    "start_time": "2022-09-30T10:53:27.992Z"
   },
   {
    "duration": 149,
    "start_time": "2022-09-30T10:53:28.022Z"
   },
   {
    "duration": 13,
    "start_time": "2022-09-30T10:53:28.173Z"
   },
   {
    "duration": 13,
    "start_time": "2022-09-30T10:53:28.187Z"
   },
   {
    "duration": 31,
    "start_time": "2022-09-30T10:53:28.201Z"
   },
   {
    "duration": 209,
    "start_time": "2022-09-30T10:53:28.234Z"
   },
   {
    "duration": 13,
    "start_time": "2022-09-30T10:53:28.445Z"
   },
   {
    "duration": 14,
    "start_time": "2022-09-30T10:53:28.459Z"
   },
   {
    "duration": 12,
    "start_time": "2022-09-30T10:53:28.474Z"
   },
   {
    "duration": 154,
    "start_time": "2022-09-30T10:53:28.488Z"
   },
   {
    "duration": 12,
    "start_time": "2022-09-30T10:53:28.644Z"
   },
   {
    "duration": 106,
    "start_time": "2022-09-30T10:53:28.657Z"
   },
   {
    "duration": 0,
    "start_time": "2022-09-30T10:53:28.764Z"
   },
   {
    "duration": 1145,
    "start_time": "2022-09-30T13:22:27.801Z"
   },
   {
    "duration": 100,
    "start_time": "2022-09-30T13:22:28.948Z"
   },
   {
    "duration": 14,
    "start_time": "2022-09-30T13:22:29.050Z"
   },
   {
    "duration": 21,
    "start_time": "2022-09-30T13:22:29.066Z"
   },
   {
    "duration": 4,
    "start_time": "2022-09-30T13:22:29.089Z"
   },
   {
    "duration": 10,
    "start_time": "2022-09-30T13:22:29.094Z"
   },
   {
    "duration": 8,
    "start_time": "2022-09-30T13:22:29.105Z"
   },
   {
    "duration": 8,
    "start_time": "2022-09-30T13:22:29.115Z"
   },
   {
    "duration": 8,
    "start_time": "2022-09-30T13:22:29.125Z"
   },
   {
    "duration": 11,
    "start_time": "2022-09-30T13:22:29.134Z"
   },
   {
    "duration": 62,
    "start_time": "2022-09-30T13:22:29.147Z"
   },
   {
    "duration": 4,
    "start_time": "2022-09-30T13:22:29.211Z"
   },
   {
    "duration": 12,
    "start_time": "2022-09-30T13:22:29.216Z"
   },
   {
    "duration": 3,
    "start_time": "2022-09-30T13:22:29.231Z"
   },
   {
    "duration": 6,
    "start_time": "2022-09-30T13:22:29.236Z"
   },
   {
    "duration": 324,
    "start_time": "2022-09-30T13:22:29.243Z"
   },
   {
    "duration": 8,
    "start_time": "2022-09-30T13:22:29.568Z"
   },
   {
    "duration": 330,
    "start_time": "2022-09-30T13:22:29.577Z"
   },
   {
    "duration": 426,
    "start_time": "2022-09-30T13:22:29.909Z"
   },
   {
    "duration": 6,
    "start_time": "2022-09-30T13:22:30.336Z"
   },
   {
    "duration": 324,
    "start_time": "2022-09-30T13:22:30.343Z"
   },
   {
    "duration": 1202,
    "start_time": "2022-09-30T13:22:30.669Z"
   },
   {
    "duration": 154,
    "start_time": "2022-09-30T13:22:31.872Z"
   },
   {
    "duration": 8,
    "start_time": "2022-09-30T13:22:32.038Z"
   },
   {
    "duration": 160,
    "start_time": "2022-09-30T13:22:32.047Z"
   },
   {
    "duration": 4,
    "start_time": "2022-09-30T13:22:32.210Z"
   },
   {
    "duration": 177,
    "start_time": "2022-09-30T13:22:32.215Z"
   },
   {
    "duration": 17,
    "start_time": "2022-09-30T13:22:32.394Z"
   },
   {
    "duration": 15,
    "start_time": "2022-09-30T13:22:32.413Z"
   },
   {
    "duration": 196,
    "start_time": "2022-09-30T13:22:32.430Z"
   },
   {
    "duration": 15,
    "start_time": "2022-09-30T13:22:32.627Z"
   },
   {
    "duration": 12,
    "start_time": "2022-09-30T13:22:32.643Z"
   },
   {
    "duration": 15,
    "start_time": "2022-09-30T13:22:32.657Z"
   },
   {
    "duration": 238,
    "start_time": "2022-09-30T13:22:32.673Z"
   },
   {
    "duration": 12,
    "start_time": "2022-09-30T13:22:32.912Z"
   },
   {
    "duration": 13,
    "start_time": "2022-09-30T13:22:32.926Z"
   },
   {
    "duration": 11,
    "start_time": "2022-09-30T13:22:32.940Z"
   },
   {
    "duration": 169,
    "start_time": "2022-09-30T13:22:32.953Z"
   },
   {
    "duration": 13,
    "start_time": "2022-09-30T13:22:33.123Z"
   },
   {
    "duration": 105,
    "start_time": "2022-09-30T13:22:33.137Z"
   },
   {
    "duration": 0,
    "start_time": "2022-09-30T13:22:33.243Z"
   },
   {
    "duration": 2,
    "start_time": "2022-09-30T13:34:01.001Z"
   },
   {
    "duration": 60,
    "start_time": "2022-09-30T13:34:01.008Z"
   },
   {
    "duration": 14,
    "start_time": "2022-09-30T13:34:01.070Z"
   },
   {
    "duration": 32,
    "start_time": "2022-09-30T13:34:01.086Z"
   },
   {
    "duration": 65,
    "start_time": "2022-09-30T13:34:01.120Z"
   },
   {
    "duration": 41,
    "start_time": "2022-09-30T13:34:01.186Z"
   },
   {
    "duration": 34,
    "start_time": "2022-09-30T13:34:01.229Z"
   },
   {
    "duration": 28,
    "start_time": "2022-09-30T13:34:01.264Z"
   },
   {
    "duration": 32,
    "start_time": "2022-09-30T13:34:01.293Z"
   },
   {
    "duration": 30,
    "start_time": "2022-09-30T13:34:01.327Z"
   },
   {
    "duration": 57,
    "start_time": "2022-09-30T13:34:01.359Z"
   },
   {
    "duration": 4,
    "start_time": "2022-09-30T13:34:01.418Z"
   },
   {
    "duration": 36,
    "start_time": "2022-09-30T13:34:01.424Z"
   },
   {
    "duration": 25,
    "start_time": "2022-09-30T13:34:01.462Z"
   },
   {
    "duration": 0,
    "start_time": "2022-09-30T13:34:01.489Z"
   },
   {
    "duration": 3,
    "start_time": "2022-09-30T13:34:06.645Z"
   },
   {
    "duration": 1030,
    "start_time": "2022-09-30T14:04:56.699Z"
   },
   {
    "duration": 49,
    "start_time": "2022-09-30T14:04:57.730Z"
   },
   {
    "duration": 14,
    "start_time": "2022-09-30T14:04:57.781Z"
   },
   {
    "duration": 24,
    "start_time": "2022-09-30T14:04:57.797Z"
   },
   {
    "duration": 3,
    "start_time": "2022-09-30T14:04:57.824Z"
   },
   {
    "duration": 14,
    "start_time": "2022-09-30T14:04:57.829Z"
   },
   {
    "duration": 8,
    "start_time": "2022-09-30T14:04:57.844Z"
   },
   {
    "duration": 8,
    "start_time": "2022-09-30T14:04:57.853Z"
   },
   {
    "duration": 14,
    "start_time": "2022-09-30T14:04:57.863Z"
   },
   {
    "duration": 28,
    "start_time": "2022-09-30T14:04:57.879Z"
   },
   {
    "duration": 45,
    "start_time": "2022-09-30T14:04:57.908Z"
   },
   {
    "duration": 4,
    "start_time": "2022-09-30T14:04:57.954Z"
   },
   {
    "duration": 11,
    "start_time": "2022-09-30T14:04:57.960Z"
   },
   {
    "duration": 19,
    "start_time": "2022-09-30T14:04:58.000Z"
   },
   {
    "duration": 8,
    "start_time": "2022-09-30T14:04:58.021Z"
   },
   {
    "duration": 318,
    "start_time": "2022-09-30T14:04:58.030Z"
   },
   {
    "duration": 7,
    "start_time": "2022-09-30T14:04:58.350Z"
   },
   {
    "duration": 329,
    "start_time": "2022-09-30T14:04:58.359Z"
   },
   {
    "duration": 469,
    "start_time": "2022-09-30T14:04:58.690Z"
   },
   {
    "duration": 7,
    "start_time": "2022-09-30T14:04:59.161Z"
   },
   {
    "duration": 331,
    "start_time": "2022-09-30T14:04:59.169Z"
   },
   {
    "duration": 1266,
    "start_time": "2022-09-30T14:04:59.502Z"
   },
   {
    "duration": 166,
    "start_time": "2022-09-30T14:05:00.770Z"
   },
   {
    "duration": 4,
    "start_time": "2022-09-30T14:05:00.938Z"
   },
   {
    "duration": 196,
    "start_time": "2022-09-30T14:05:00.944Z"
   },
   {
    "duration": 4,
    "start_time": "2022-09-30T14:05:01.142Z"
   },
   {
    "duration": 188,
    "start_time": "2022-09-30T14:05:01.148Z"
   },
   {
    "duration": 13,
    "start_time": "2022-09-30T14:05:01.338Z"
   },
   {
    "duration": 57,
    "start_time": "2022-09-30T14:05:01.352Z"
   },
   {
    "duration": 252,
    "start_time": "2022-09-30T14:05:01.411Z"
   },
   {
    "duration": 13,
    "start_time": "2022-09-30T14:05:01.664Z"
   },
   {
    "duration": 99,
    "start_time": "2022-09-30T14:05:01.678Z"
   },
   {
    "duration": 72,
    "start_time": "2022-09-30T14:05:01.779Z"
   },
   {
    "duration": 260,
    "start_time": "2022-09-30T14:05:01.853Z"
   },
   {
    "duration": 13,
    "start_time": "2022-09-30T14:05:02.115Z"
   },
   {
    "duration": 103,
    "start_time": "2022-09-30T14:05:02.130Z"
   },
   {
    "duration": 16,
    "start_time": "2022-09-30T14:05:02.235Z"
   },
   {
    "duration": 149,
    "start_time": "2022-09-30T14:05:02.253Z"
   },
   {
    "duration": 14,
    "start_time": "2022-09-30T14:05:02.404Z"
   },
   {
    "duration": 107,
    "start_time": "2022-09-30T14:05:02.420Z"
   },
   {
    "duration": 0,
    "start_time": "2022-09-30T14:05:02.529Z"
   },
   {
    "duration": 2,
    "start_time": "2022-09-30T14:06:49.700Z"
   },
   {
    "duration": 49,
    "start_time": "2022-09-30T14:06:49.704Z"
   },
   {
    "duration": 13,
    "start_time": "2022-09-30T14:06:49.754Z"
   },
   {
    "duration": 20,
    "start_time": "2022-09-30T14:06:49.769Z"
   },
   {
    "duration": 5,
    "start_time": "2022-09-30T14:06:49.791Z"
   },
   {
    "duration": 9,
    "start_time": "2022-09-30T14:06:49.800Z"
   },
   {
    "duration": 8,
    "start_time": "2022-09-30T14:06:49.810Z"
   },
   {
    "duration": 11,
    "start_time": "2022-09-30T14:06:49.820Z"
   },
   {
    "duration": 11,
    "start_time": "2022-09-30T14:06:49.833Z"
   },
   {
    "duration": 11,
    "start_time": "2022-09-30T14:06:49.846Z"
   },
   {
    "duration": 66,
    "start_time": "2022-09-30T14:06:49.859Z"
   },
   {
    "duration": 4,
    "start_time": "2022-09-30T14:06:49.928Z"
   },
   {
    "duration": 12,
    "start_time": "2022-09-30T14:06:49.934Z"
   },
   {
    "duration": 4,
    "start_time": "2022-09-30T14:06:49.948Z"
   },
   {
    "duration": 8,
    "start_time": "2022-09-30T14:06:49.954Z"
   },
   {
    "duration": 316,
    "start_time": "2022-09-30T14:06:49.963Z"
   },
   {
    "duration": 8,
    "start_time": "2022-09-30T14:06:50.280Z"
   },
   {
    "duration": 327,
    "start_time": "2022-09-30T14:06:50.300Z"
   },
   {
    "duration": 398,
    "start_time": "2022-09-30T14:06:50.629Z"
   },
   {
    "duration": 6,
    "start_time": "2022-09-30T14:06:51.028Z"
   },
   {
    "duration": 329,
    "start_time": "2022-09-30T14:06:51.035Z"
   },
   {
    "duration": 1306,
    "start_time": "2022-09-30T14:06:51.366Z"
   },
   {
    "duration": 166,
    "start_time": "2022-09-30T14:06:52.674Z"
   },
   {
    "duration": 4,
    "start_time": "2022-09-30T14:06:52.843Z"
   },
   {
    "duration": 208,
    "start_time": "2022-09-30T14:06:52.849Z"
   },
   {
    "duration": 4,
    "start_time": "2022-09-30T14:06:53.059Z"
   },
   {
    "duration": 188,
    "start_time": "2022-09-30T14:06:53.064Z"
   },
   {
    "duration": 13,
    "start_time": "2022-09-30T14:06:53.254Z"
   },
   {
    "duration": 37,
    "start_time": "2022-09-30T14:06:53.268Z"
   },
   {
    "duration": 2,
    "start_time": "2022-09-30T14:06:57.346Z"
   },
   {
    "duration": 2,
    "start_time": "2022-09-30T14:06:58.342Z"
   },
   {
    "duration": 11,
    "start_time": "2022-09-30T14:06:59.007Z"
   },
   {
    "duration": 9,
    "start_time": "2022-09-30T14:07:11.944Z"
   },
   {
    "duration": 1062,
    "start_time": "2022-09-30T14:07:30.450Z"
   },
   {
    "duration": 49,
    "start_time": "2022-09-30T14:07:31.514Z"
   },
   {
    "duration": 14,
    "start_time": "2022-09-30T14:07:31.565Z"
   },
   {
    "duration": 28,
    "start_time": "2022-09-30T14:07:31.581Z"
   },
   {
    "duration": 4,
    "start_time": "2022-09-30T14:07:31.610Z"
   },
   {
    "duration": 10,
    "start_time": "2022-09-30T14:07:31.615Z"
   },
   {
    "duration": 8,
    "start_time": "2022-09-30T14:07:31.626Z"
   },
   {
    "duration": 12,
    "start_time": "2022-09-30T14:07:31.636Z"
   },
   {
    "duration": 10,
    "start_time": "2022-09-30T14:07:31.649Z"
   },
   {
    "duration": 11,
    "start_time": "2022-09-30T14:07:31.662Z"
   },
   {
    "duration": 64,
    "start_time": "2022-09-30T14:07:31.674Z"
   },
   {
    "duration": 5,
    "start_time": "2022-09-30T14:07:31.739Z"
   },
   {
    "duration": 12,
    "start_time": "2022-09-30T14:07:31.745Z"
   },
   {
    "duration": 8,
    "start_time": "2022-09-30T14:07:31.758Z"
   },
   {
    "duration": 5,
    "start_time": "2022-09-30T14:07:31.768Z"
   },
   {
    "duration": 321,
    "start_time": "2022-09-30T14:07:31.775Z"
   },
   {
    "duration": 9,
    "start_time": "2022-09-30T14:07:32.097Z"
   },
   {
    "duration": 316,
    "start_time": "2022-09-30T14:07:32.107Z"
   },
   {
    "duration": 434,
    "start_time": "2022-09-30T14:07:32.425Z"
   },
   {
    "duration": 7,
    "start_time": "2022-09-30T14:07:32.860Z"
   },
   {
    "duration": 653,
    "start_time": "2022-09-30T14:07:32.868Z"
   },
   {
    "duration": 1831,
    "start_time": "2022-09-30T14:07:33.523Z"
   },
   {
    "duration": 214,
    "start_time": "2022-09-30T14:07:35.356Z"
   },
   {
    "duration": 5,
    "start_time": "2022-09-30T14:07:35.571Z"
   },
   {
    "duration": 169,
    "start_time": "2022-09-30T14:07:35.577Z"
   },
   {
    "duration": 5,
    "start_time": "2022-09-30T14:07:35.748Z"
   },
   {
    "duration": 175,
    "start_time": "2022-09-30T14:07:35.755Z"
   },
   {
    "duration": 14,
    "start_time": "2022-09-30T14:07:35.933Z"
   },
   {
    "duration": 13,
    "start_time": "2022-09-30T14:07:35.948Z"
   },
   {
    "duration": 9,
    "start_time": "2022-09-30T14:07:35.963Z"
   },
   {
    "duration": 5,
    "start_time": "2022-09-30T14:07:35.974Z"
   },
   {
    "duration": 24,
    "start_time": "2022-09-30T14:07:35.980Z"
   },
   {
    "duration": 233,
    "start_time": "2022-09-30T14:07:36.006Z"
   },
   {
    "duration": 15,
    "start_time": "2022-09-30T14:07:36.241Z"
   },
   {
    "duration": 16,
    "start_time": "2022-09-30T14:07:36.257Z"
   },
   {
    "duration": 35,
    "start_time": "2022-09-30T14:07:36.275Z"
   },
   {
    "duration": 230,
    "start_time": "2022-09-30T14:07:36.311Z"
   },
   {
    "duration": 13,
    "start_time": "2022-09-30T14:07:36.543Z"
   },
   {
    "duration": 14,
    "start_time": "2022-09-30T14:07:36.558Z"
   },
   {
    "duration": 34,
    "start_time": "2022-09-30T14:07:36.573Z"
   },
   {
    "duration": 161,
    "start_time": "2022-09-30T14:07:36.609Z"
   },
   {
    "duration": 13,
    "start_time": "2022-09-30T14:07:36.771Z"
   },
   {
    "duration": 103,
    "start_time": "2022-09-30T14:07:36.786Z"
   },
   {
    "duration": 0,
    "start_time": "2022-09-30T14:07:36.891Z"
   },
   {
    "duration": 1029,
    "start_time": "2022-09-30T14:08:02.899Z"
   },
   {
    "duration": 50,
    "start_time": "2022-09-30T14:08:03.930Z"
   },
   {
    "duration": 13,
    "start_time": "2022-09-30T14:08:03.982Z"
   },
   {
    "duration": 22,
    "start_time": "2022-09-30T14:08:03.997Z"
   },
   {
    "duration": 3,
    "start_time": "2022-09-30T14:08:04.021Z"
   },
   {
    "duration": 11,
    "start_time": "2022-09-30T14:08:04.026Z"
   },
   {
    "duration": 14,
    "start_time": "2022-09-30T14:08:04.039Z"
   },
   {
    "duration": 11,
    "start_time": "2022-09-30T14:08:04.055Z"
   },
   {
    "duration": 9,
    "start_time": "2022-09-30T14:08:04.067Z"
   },
   {
    "duration": 31,
    "start_time": "2022-09-30T14:08:04.079Z"
   },
   {
    "duration": 69,
    "start_time": "2022-09-30T14:08:04.112Z"
   },
   {
    "duration": 5,
    "start_time": "2022-09-30T14:08:04.183Z"
   },
   {
    "duration": 26,
    "start_time": "2022-09-30T14:08:04.190Z"
   },
   {
    "duration": 5,
    "start_time": "2022-09-30T14:08:04.217Z"
   },
   {
    "duration": 8,
    "start_time": "2022-09-30T14:08:04.223Z"
   },
   {
    "duration": 381,
    "start_time": "2022-09-30T14:08:04.233Z"
   },
   {
    "duration": 10,
    "start_time": "2022-09-30T14:08:04.615Z"
   },
   {
    "duration": 356,
    "start_time": "2022-09-30T14:08:04.628Z"
   },
   {
    "duration": 413,
    "start_time": "2022-09-30T14:08:04.986Z"
   },
   {
    "duration": 6,
    "start_time": "2022-09-30T14:08:05.401Z"
   },
   {
    "duration": 352,
    "start_time": "2022-09-30T14:08:05.409Z"
   },
   {
    "duration": 2275,
    "start_time": "2022-09-30T14:08:05.763Z"
   },
   {
    "duration": 182,
    "start_time": "2022-09-30T14:08:08.040Z"
   },
   {
    "duration": 4,
    "start_time": "2022-09-30T14:08:08.224Z"
   },
   {
    "duration": 192,
    "start_time": "2022-09-30T14:08:08.230Z"
   },
   {
    "duration": 5,
    "start_time": "2022-09-30T14:08:08.423Z"
   },
   {
    "duration": 180,
    "start_time": "2022-09-30T14:08:08.429Z"
   },
   {
    "duration": 14,
    "start_time": "2022-09-30T14:08:08.612Z"
   },
   {
    "duration": 16,
    "start_time": "2022-09-30T14:08:08.627Z"
   },
   {
    "duration": 103,
    "start_time": "2022-09-30T14:08:08.645Z"
   },
   {
    "duration": 0,
    "start_time": "2022-09-30T14:08:08.750Z"
   },
   {
    "duration": 0,
    "start_time": "2022-09-30T14:08:08.752Z"
   },
   {
    "duration": 0,
    "start_time": "2022-09-30T14:08:08.753Z"
   },
   {
    "duration": 0,
    "start_time": "2022-09-30T14:08:08.754Z"
   },
   {
    "duration": 0,
    "start_time": "2022-09-30T14:08:08.755Z"
   },
   {
    "duration": 0,
    "start_time": "2022-09-30T14:08:08.756Z"
   },
   {
    "duration": 1,
    "start_time": "2022-09-30T14:08:08.757Z"
   },
   {
    "duration": 0,
    "start_time": "2022-09-30T14:08:08.759Z"
   },
   {
    "duration": 0,
    "start_time": "2022-09-30T14:08:08.760Z"
   },
   {
    "duration": 0,
    "start_time": "2022-09-30T14:08:08.760Z"
   },
   {
    "duration": 0,
    "start_time": "2022-09-30T14:08:08.762Z"
   },
   {
    "duration": 0,
    "start_time": "2022-09-30T14:08:08.763Z"
   },
   {
    "duration": 0,
    "start_time": "2022-09-30T14:08:08.764Z"
   },
   {
    "duration": 0,
    "start_time": "2022-09-30T14:08:08.765Z"
   },
   {
    "duration": 1105,
    "start_time": "2022-09-30T14:10:07.115Z"
   },
   {
    "duration": 49,
    "start_time": "2022-09-30T14:10:08.222Z"
   },
   {
    "duration": 15,
    "start_time": "2022-09-30T14:10:08.272Z"
   },
   {
    "duration": 41,
    "start_time": "2022-09-30T14:10:08.288Z"
   },
   {
    "duration": 16,
    "start_time": "2022-09-30T14:10:08.332Z"
   },
   {
    "duration": 32,
    "start_time": "2022-09-30T14:10:08.349Z"
   },
   {
    "duration": 34,
    "start_time": "2022-09-30T14:10:08.383Z"
   },
   {
    "duration": 16,
    "start_time": "2022-09-30T14:10:08.419Z"
   },
   {
    "duration": 40,
    "start_time": "2022-09-30T14:10:08.436Z"
   },
   {
    "duration": 29,
    "start_time": "2022-09-30T14:10:08.478Z"
   },
   {
    "duration": 54,
    "start_time": "2022-09-30T14:10:08.509Z"
   },
   {
    "duration": 4,
    "start_time": "2022-09-30T14:10:08.565Z"
   },
   {
    "duration": 20,
    "start_time": "2022-09-30T14:10:08.570Z"
   },
   {
    "duration": 12,
    "start_time": "2022-09-30T14:10:08.593Z"
   },
   {
    "duration": 25,
    "start_time": "2022-09-30T14:10:08.607Z"
   },
   {
    "duration": 324,
    "start_time": "2022-09-30T14:10:08.633Z"
   },
   {
    "duration": 8,
    "start_time": "2022-09-30T14:10:08.958Z"
   },
   {
    "duration": 356,
    "start_time": "2022-09-30T14:10:08.967Z"
   },
   {
    "duration": 455,
    "start_time": "2022-09-30T14:10:09.324Z"
   },
   {
    "duration": 5,
    "start_time": "2022-09-30T14:10:09.781Z"
   },
   {
    "duration": 534,
    "start_time": "2022-09-30T14:10:09.788Z"
   },
   {
    "duration": 2276,
    "start_time": "2022-09-30T14:10:10.324Z"
   },
   {
    "duration": 166,
    "start_time": "2022-09-30T14:10:12.602Z"
   },
   {
    "duration": 37,
    "start_time": "2022-09-30T14:10:12.770Z"
   },
   {
    "duration": 166,
    "start_time": "2022-09-30T14:10:12.809Z"
   },
   {
    "duration": 4,
    "start_time": "2022-09-30T14:10:12.976Z"
   },
   {
    "duration": 175,
    "start_time": "2022-09-30T14:10:12.982Z"
   },
   {
    "duration": 14,
    "start_time": "2022-09-30T14:10:13.159Z"
   },
   {
    "duration": 33,
    "start_time": "2022-09-30T14:10:13.175Z"
   },
   {
    "duration": 182,
    "start_time": "2022-09-30T14:10:13.210Z"
   },
   {
    "duration": 234,
    "start_time": "2022-09-30T14:10:13.393Z"
   },
   {
    "duration": 13,
    "start_time": "2022-09-30T14:10:13.628Z"
   },
   {
    "duration": 12,
    "start_time": "2022-09-30T14:10:13.643Z"
   },
   {
    "duration": 12,
    "start_time": "2022-09-30T14:10:13.657Z"
   },
   {
    "duration": 146,
    "start_time": "2022-09-30T14:10:13.701Z"
   },
   {
    "duration": 13,
    "start_time": "2022-09-30T14:10:13.849Z"
   },
   {
    "duration": 20,
    "start_time": "2022-09-30T14:10:13.863Z"
   },
   {
    "duration": 30,
    "start_time": "2022-09-30T14:10:13.885Z"
   },
   {
    "duration": 201,
    "start_time": "2022-09-30T14:10:13.916Z"
   },
   {
    "duration": 15,
    "start_time": "2022-09-30T14:10:14.119Z"
   },
   {
    "duration": 118,
    "start_time": "2022-09-30T14:10:14.137Z"
   },
   {
    "duration": 0,
    "start_time": "2022-09-30T14:10:14.257Z"
   },
   {
    "duration": 1067,
    "start_time": "2022-09-30T14:10:49.768Z"
   },
   {
    "duration": 55,
    "start_time": "2022-09-30T14:10:50.837Z"
   },
   {
    "duration": 21,
    "start_time": "2022-09-30T14:10:50.894Z"
   },
   {
    "duration": 33,
    "start_time": "2022-09-30T14:10:50.917Z"
   },
   {
    "duration": 5,
    "start_time": "2022-09-30T14:10:50.951Z"
   },
   {
    "duration": 35,
    "start_time": "2022-09-30T14:10:50.957Z"
   },
   {
    "duration": 51,
    "start_time": "2022-09-30T14:10:50.993Z"
   },
   {
    "duration": 11,
    "start_time": "2022-09-30T14:10:51.045Z"
   },
   {
    "duration": 30,
    "start_time": "2022-09-30T14:10:51.058Z"
   },
   {
    "duration": 21,
    "start_time": "2022-09-30T14:10:51.091Z"
   },
   {
    "duration": 58,
    "start_time": "2022-09-30T14:10:51.113Z"
   },
   {
    "duration": 8,
    "start_time": "2022-09-30T14:10:51.173Z"
   },
   {
    "duration": 20,
    "start_time": "2022-09-30T14:10:51.183Z"
   },
   {
    "duration": 22,
    "start_time": "2022-09-30T14:10:51.205Z"
   },
   {
    "duration": 14,
    "start_time": "2022-09-30T14:10:51.229Z"
   },
   {
    "duration": 333,
    "start_time": "2022-09-30T14:10:51.245Z"
   },
   {
    "duration": 9,
    "start_time": "2022-09-30T14:10:51.581Z"
   },
   {
    "duration": 331,
    "start_time": "2022-09-30T14:10:51.600Z"
   },
   {
    "duration": 442,
    "start_time": "2022-09-30T14:10:51.933Z"
   },
   {
    "duration": 8,
    "start_time": "2022-09-30T14:10:52.377Z"
   },
   {
    "duration": 355,
    "start_time": "2022-09-30T14:10:52.387Z"
   },
   {
    "duration": 1271,
    "start_time": "2022-09-30T14:10:52.743Z"
   },
   {
    "duration": 193,
    "start_time": "2022-09-30T14:10:54.016Z"
   },
   {
    "duration": 5,
    "start_time": "2022-09-30T14:10:54.212Z"
   },
   {
    "duration": 198,
    "start_time": "2022-09-30T14:10:54.219Z"
   },
   {
    "duration": 5,
    "start_time": "2022-09-30T14:10:54.419Z"
   },
   {
    "duration": 219,
    "start_time": "2022-09-30T14:10:54.427Z"
   },
   {
    "duration": 19,
    "start_time": "2022-09-30T14:10:54.651Z"
   },
   {
    "duration": 35,
    "start_time": "2022-09-30T14:10:54.672Z"
   },
   {
    "duration": 186,
    "start_time": "2022-09-30T14:10:54.709Z"
   },
   {
    "duration": 233,
    "start_time": "2022-09-30T14:10:54.899Z"
   },
   {
    "duration": 14,
    "start_time": "2022-09-30T14:10:55.134Z"
   },
   {
    "duration": 14,
    "start_time": "2022-09-30T14:10:55.149Z"
   },
   {
    "duration": 37,
    "start_time": "2022-09-30T14:10:55.164Z"
   },
   {
    "duration": 147,
    "start_time": "2022-09-30T14:10:55.203Z"
   },
   {
    "duration": 18,
    "start_time": "2022-09-30T14:10:55.352Z"
   },
   {
    "duration": 30,
    "start_time": "2022-09-30T14:10:55.372Z"
   },
   {
    "duration": 21,
    "start_time": "2022-09-30T14:10:55.405Z"
   },
   {
    "duration": 164,
    "start_time": "2022-09-30T14:10:55.428Z"
   },
   {
    "duration": 18,
    "start_time": "2022-09-30T14:10:55.595Z"
   },
   {
    "duration": 109,
    "start_time": "2022-09-30T14:10:55.615Z"
   },
   {
    "duration": 0,
    "start_time": "2022-09-30T14:10:55.726Z"
   },
   {
    "duration": 999,
    "start_time": "2022-09-30T14:17:46.442Z"
   },
   {
    "duration": 57,
    "start_time": "2022-09-30T14:17:47.443Z"
   },
   {
    "duration": 19,
    "start_time": "2022-09-30T14:17:47.501Z"
   },
   {
    "duration": 85,
    "start_time": "2022-09-30T14:17:47.522Z"
   },
   {
    "duration": 4,
    "start_time": "2022-09-30T14:17:47.611Z"
   },
   {
    "duration": 18,
    "start_time": "2022-09-30T14:17:47.616Z"
   },
   {
    "duration": 65,
    "start_time": "2022-09-30T14:17:47.635Z"
   },
   {
    "duration": 8,
    "start_time": "2022-09-30T14:17:47.702Z"
   },
   {
    "duration": 13,
    "start_time": "2022-09-30T14:17:47.712Z"
   },
   {
    "duration": 11,
    "start_time": "2022-09-30T14:17:47.726Z"
   },
   {
    "duration": 92,
    "start_time": "2022-09-30T14:17:47.739Z"
   },
   {
    "duration": 4,
    "start_time": "2022-09-30T14:17:47.832Z"
   },
   {
    "duration": 63,
    "start_time": "2022-09-30T14:17:47.838Z"
   },
   {
    "duration": 3,
    "start_time": "2022-09-30T14:17:47.904Z"
   },
   {
    "duration": 11,
    "start_time": "2022-09-30T14:17:47.909Z"
   },
   {
    "duration": 621,
    "start_time": "2022-09-30T14:17:47.922Z"
   },
   {
    "duration": 58,
    "start_time": "2022-09-30T14:17:48.545Z"
   },
   {
    "duration": 624,
    "start_time": "2022-09-30T14:17:48.605Z"
   },
   {
    "duration": 461,
    "start_time": "2022-09-30T14:17:49.230Z"
   },
   {
    "duration": 6,
    "start_time": "2022-09-30T14:17:49.693Z"
   },
   {
    "duration": 330,
    "start_time": "2022-09-30T14:17:49.700Z"
   },
   {
    "duration": 1257,
    "start_time": "2022-09-30T14:17:50.032Z"
   },
   {
    "duration": 165,
    "start_time": "2022-09-30T14:17:51.292Z"
   },
   {
    "duration": 6,
    "start_time": "2022-09-30T14:17:51.459Z"
   },
   {
    "duration": 173,
    "start_time": "2022-09-30T14:17:51.466Z"
   },
   {
    "duration": 4,
    "start_time": "2022-09-30T14:17:51.640Z"
   },
   {
    "duration": 167,
    "start_time": "2022-09-30T14:17:51.645Z"
   },
   {
    "duration": 13,
    "start_time": "2022-09-30T14:17:51.813Z"
   },
   {
    "duration": 14,
    "start_time": "2022-09-30T14:17:51.827Z"
   },
   {
    "duration": 162,
    "start_time": "2022-09-30T14:17:51.842Z"
   },
   {
    "duration": 221,
    "start_time": "2022-09-30T14:17:52.005Z"
   },
   {
    "duration": 17,
    "start_time": "2022-09-30T14:17:52.227Z"
   },
   {
    "duration": 14,
    "start_time": "2022-09-30T14:17:52.245Z"
   },
   {
    "duration": 14,
    "start_time": "2022-09-30T14:17:52.260Z"
   },
   {
    "duration": 143,
    "start_time": "2022-09-30T14:17:52.300Z"
   },
   {
    "duration": 13,
    "start_time": "2022-09-30T14:17:52.445Z"
   },
   {
    "duration": 14,
    "start_time": "2022-09-30T14:17:52.460Z"
   },
   {
    "duration": 13,
    "start_time": "2022-09-30T14:17:52.501Z"
   },
   {
    "duration": 149,
    "start_time": "2022-09-30T14:17:52.515Z"
   },
   {
    "duration": 13,
    "start_time": "2022-09-30T14:17:52.665Z"
   },
   {
    "duration": 107,
    "start_time": "2022-09-30T14:17:52.682Z"
   },
   {
    "duration": 0,
    "start_time": "2022-09-30T14:17:52.791Z"
   },
   {
    "duration": 4,
    "start_time": "2022-09-30T14:19:31.856Z"
   },
   {
    "duration": 8,
    "start_time": "2022-09-30T14:19:44.687Z"
   },
   {
    "duration": 3,
    "start_time": "2022-09-30T14:19:54.853Z"
   },
   {
    "duration": 4,
    "start_time": "2022-09-30T14:20:13.798Z"
   },
   {
    "duration": 4,
    "start_time": "2022-09-30T14:24:09.022Z"
   },
   {
    "duration": 1010,
    "start_time": "2022-09-30T14:24:40.033Z"
   },
   {
    "duration": 50,
    "start_time": "2022-09-30T14:24:41.045Z"
   },
   {
    "duration": 16,
    "start_time": "2022-09-30T14:24:41.097Z"
   },
   {
    "duration": 22,
    "start_time": "2022-09-30T14:24:41.115Z"
   },
   {
    "duration": 4,
    "start_time": "2022-09-30T14:24:41.139Z"
   },
   {
    "duration": 13,
    "start_time": "2022-09-30T14:24:41.145Z"
   },
   {
    "duration": 10,
    "start_time": "2022-09-30T14:24:41.160Z"
   },
   {
    "duration": 32,
    "start_time": "2022-09-30T14:24:41.171Z"
   },
   {
    "duration": 11,
    "start_time": "2022-09-30T14:24:41.204Z"
   },
   {
    "duration": 11,
    "start_time": "2022-09-30T14:24:41.217Z"
   },
   {
    "duration": 42,
    "start_time": "2022-09-30T14:24:41.230Z"
   },
   {
    "duration": 4,
    "start_time": "2022-09-30T14:24:41.273Z"
   },
   {
    "duration": 8,
    "start_time": "2022-09-30T14:24:41.300Z"
   },
   {
    "duration": 7,
    "start_time": "2022-09-30T14:24:41.311Z"
   },
   {
    "duration": 6,
    "start_time": "2022-09-30T14:24:41.320Z"
   },
   {
    "duration": 339,
    "start_time": "2022-09-30T14:24:41.327Z"
   },
   {
    "duration": 8,
    "start_time": "2022-09-30T14:24:41.667Z"
   },
   {
    "duration": 340,
    "start_time": "2022-09-30T14:24:41.676Z"
   },
   {
    "duration": 438,
    "start_time": "2022-09-30T14:24:42.017Z"
   },
   {
    "duration": 48,
    "start_time": "2022-09-30T14:24:42.457Z"
   },
   {
    "duration": 694,
    "start_time": "2022-09-30T14:24:42.507Z"
   },
   {
    "duration": 1785,
    "start_time": "2022-09-30T14:24:43.203Z"
   },
   {
    "duration": 168,
    "start_time": "2022-09-30T14:24:44.990Z"
   },
   {
    "duration": 5,
    "start_time": "2022-09-30T14:24:45.160Z"
   },
   {
    "duration": 182,
    "start_time": "2022-09-30T14:24:45.167Z"
   },
   {
    "duration": 5,
    "start_time": "2022-09-30T14:24:45.351Z"
   },
   {
    "duration": 174,
    "start_time": "2022-09-30T14:24:45.358Z"
   },
   {
    "duration": 14,
    "start_time": "2022-09-30T14:24:45.534Z"
   },
   {
    "duration": 13,
    "start_time": "2022-09-30T14:24:45.549Z"
   },
   {
    "duration": 166,
    "start_time": "2022-09-30T14:24:45.564Z"
   },
   {
    "duration": 15,
    "start_time": "2022-09-30T14:24:45.732Z"
   },
   {
    "duration": 14,
    "start_time": "2022-09-30T14:24:45.749Z"
   },
   {
    "duration": 41,
    "start_time": "2022-09-30T14:24:45.764Z"
   },
   {
    "duration": 248,
    "start_time": "2022-09-30T14:24:45.808Z"
   },
   {
    "duration": 12,
    "start_time": "2022-09-30T14:24:46.058Z"
   },
   {
    "duration": 30,
    "start_time": "2022-09-30T14:24:46.071Z"
   },
   {
    "duration": 14,
    "start_time": "2022-09-30T14:24:46.102Z"
   },
   {
    "duration": 158,
    "start_time": "2022-09-30T14:24:46.117Z"
   },
   {
    "duration": 24,
    "start_time": "2022-09-30T14:24:46.277Z"
   },
   {
    "duration": 5,
    "start_time": "2022-09-30T14:24:46.302Z"
   },
   {
    "duration": 102,
    "start_time": "2022-09-30T14:24:46.310Z"
   },
   {
    "duration": 0,
    "start_time": "2022-09-30T14:24:46.414Z"
   },
   {
    "duration": 50,
    "start_time": "2022-10-01T08:22:10.133Z"
   },
   {
    "duration": 1351,
    "start_time": "2022-10-01T08:22:14.007Z"
   },
   {
    "duration": 103,
    "start_time": "2022-10-01T08:22:15.360Z"
   },
   {
    "duration": 17,
    "start_time": "2022-10-01T08:22:15.464Z"
   },
   {
    "duration": 21,
    "start_time": "2022-10-01T08:22:15.483Z"
   },
   {
    "duration": 6,
    "start_time": "2022-10-01T08:22:15.506Z"
   },
   {
    "duration": 17,
    "start_time": "2022-10-01T08:22:15.514Z"
   },
   {
    "duration": 13,
    "start_time": "2022-10-01T08:22:15.533Z"
   },
   {
    "duration": 22,
    "start_time": "2022-10-01T08:22:15.549Z"
   },
   {
    "duration": 14,
    "start_time": "2022-10-01T08:22:15.573Z"
   },
   {
    "duration": 13,
    "start_time": "2022-10-01T08:22:15.590Z"
   },
   {
    "duration": 55,
    "start_time": "2022-10-01T08:22:15.606Z"
   },
   {
    "duration": 4,
    "start_time": "2022-10-01T08:22:15.663Z"
   },
   {
    "duration": 11,
    "start_time": "2022-10-01T08:22:15.669Z"
   },
   {
    "duration": 4,
    "start_time": "2022-10-01T08:22:15.682Z"
   },
   {
    "duration": 7,
    "start_time": "2022-10-01T08:22:15.688Z"
   },
   {
    "duration": 394,
    "start_time": "2022-10-01T08:22:15.697Z"
   },
   {
    "duration": 9,
    "start_time": "2022-10-01T08:22:16.092Z"
   },
   {
    "duration": 380,
    "start_time": "2022-10-01T08:22:16.103Z"
   },
   {
    "duration": 762,
    "start_time": "2022-10-01T08:22:16.485Z"
   },
   {
    "duration": 6,
    "start_time": "2022-10-01T08:22:17.249Z"
   },
   {
    "duration": 777,
    "start_time": "2022-10-01T08:22:17.257Z"
   },
   {
    "duration": 1843,
    "start_time": "2022-10-01T08:22:18.036Z"
   },
   {
    "duration": 200,
    "start_time": "2022-10-01T08:22:19.881Z"
   },
   {
    "duration": 4,
    "start_time": "2022-10-01T08:22:20.083Z"
   },
   {
    "duration": 197,
    "start_time": "2022-10-01T08:22:20.089Z"
   },
   {
    "duration": 5,
    "start_time": "2022-10-01T08:22:20.287Z"
   },
   {
    "duration": 200,
    "start_time": "2022-10-01T08:22:20.294Z"
   },
   {
    "duration": 26,
    "start_time": "2022-10-01T08:22:20.497Z"
   },
   {
    "duration": 20,
    "start_time": "2022-10-01T08:22:20.525Z"
   },
   {
    "duration": 203,
    "start_time": "2022-10-01T08:22:20.546Z"
   },
   {
    "duration": 15,
    "start_time": "2022-10-01T08:22:20.750Z"
   },
   {
    "duration": 15,
    "start_time": "2022-10-01T08:22:20.767Z"
   },
   {
    "duration": 41,
    "start_time": "2022-10-01T08:22:20.784Z"
   },
   {
    "duration": 257,
    "start_time": "2022-10-01T08:22:20.827Z"
   },
   {
    "duration": 16,
    "start_time": "2022-10-01T08:22:21.085Z"
   },
   {
    "duration": 32,
    "start_time": "2022-10-01T08:22:21.103Z"
   },
   {
    "duration": 15,
    "start_time": "2022-10-01T08:22:21.137Z"
   },
   {
    "duration": 177,
    "start_time": "2022-10-01T08:22:21.154Z"
   },
   {
    "duration": 15,
    "start_time": "2022-10-01T08:22:21.332Z"
   },
   {
    "duration": 93,
    "start_time": "2022-10-01T08:22:21.349Z"
   },
   {
    "duration": 0,
    "start_time": "2022-10-01T08:22:21.444Z"
   },
   {
    "duration": 51,
    "start_time": "2022-10-01T16:15:50.644Z"
   },
   {
    "duration": 73,
    "start_time": "2022-10-01T16:15:54.731Z"
   },
   {
    "duration": 1289,
    "start_time": "2022-10-01T17:08:55.633Z"
   },
   {
    "duration": 97,
    "start_time": "2022-10-01T17:08:56.924Z"
   },
   {
    "duration": 18,
    "start_time": "2022-10-01T17:08:57.022Z"
   },
   {
    "duration": 28,
    "start_time": "2022-10-01T17:08:57.041Z"
   },
   {
    "duration": 6,
    "start_time": "2022-10-01T17:08:57.071Z"
   },
   {
    "duration": 18,
    "start_time": "2022-10-01T17:08:57.078Z"
   },
   {
    "duration": 19,
    "start_time": "2022-10-01T17:08:57.097Z"
   },
   {
    "duration": 21,
    "start_time": "2022-10-01T17:08:57.118Z"
   },
   {
    "duration": 15,
    "start_time": "2022-10-01T17:08:57.140Z"
   },
   {
    "duration": 18,
    "start_time": "2022-10-01T17:08:57.157Z"
   },
   {
    "duration": 9,
    "start_time": "2022-10-01T17:08:57.176Z"
   },
   {
    "duration": 17,
    "start_time": "2022-10-01T17:08:57.186Z"
   },
   {
    "duration": 9,
    "start_time": "2022-10-01T17:08:57.205Z"
   },
   {
    "duration": 12,
    "start_time": "2022-10-01T17:08:57.215Z"
   },
   {
    "duration": 97,
    "start_time": "2022-10-01T17:11:13.433Z"
   },
   {
    "duration": 4,
    "start_time": "2022-10-01T17:11:20.399Z"
   },
   {
    "duration": 3,
    "start_time": "2022-10-01T17:11:29.496Z"
   },
   {
    "duration": 61,
    "start_time": "2022-10-01T17:11:29.502Z"
   },
   {
    "duration": 20,
    "start_time": "2022-10-01T17:11:29.564Z"
   },
   {
    "duration": 22,
    "start_time": "2022-10-01T17:11:29.587Z"
   },
   {
    "duration": 8,
    "start_time": "2022-10-01T17:11:29.611Z"
   },
   {
    "duration": 11,
    "start_time": "2022-10-01T17:11:33.088Z"
   },
   {
    "duration": 15,
    "start_time": "2022-10-01T17:13:24.410Z"
   },
   {
    "duration": 5,
    "start_time": "2022-10-01T17:13:48.232Z"
   },
   {
    "duration": 4,
    "start_time": "2022-10-01T17:13:52.440Z"
   },
   {
    "duration": 4,
    "start_time": "2022-10-01T17:13:56.712Z"
   },
   {
    "duration": 13,
    "start_time": "2022-10-01T17:14:39.361Z"
   },
   {
    "duration": 9,
    "start_time": "2022-10-01T17:15:25.533Z"
   },
   {
    "duration": 15,
    "start_time": "2022-10-01T17:15:28.166Z"
   },
   {
    "duration": 2,
    "start_time": "2022-10-01T17:18:44.948Z"
   },
   {
    "duration": 57,
    "start_time": "2022-10-01T17:18:44.955Z"
   },
   {
    "duration": 14,
    "start_time": "2022-10-01T17:18:45.014Z"
   },
   {
    "duration": 27,
    "start_time": "2022-10-01T17:18:45.030Z"
   },
   {
    "duration": 40,
    "start_time": "2022-10-01T17:18:45.060Z"
   },
   {
    "duration": 28,
    "start_time": "2022-10-01T17:18:45.102Z"
   },
   {
    "duration": 9,
    "start_time": "2022-10-01T17:18:45.132Z"
   },
   {
    "duration": 12,
    "start_time": "2022-10-01T17:18:45.142Z"
   },
   {
    "duration": 17,
    "start_time": "2022-10-01T17:18:45.156Z"
   },
   {
    "duration": 4,
    "start_time": "2022-10-01T17:18:48.562Z"
   },
   {
    "duration": 14,
    "start_time": "2022-10-01T17:18:50.853Z"
   },
   {
    "duration": 3,
    "start_time": "2022-10-01T17:32:00.992Z"
   },
   {
    "duration": 67,
    "start_time": "2022-10-01T17:32:00.997Z"
   },
   {
    "duration": 14,
    "start_time": "2022-10-01T17:32:01.066Z"
   },
   {
    "duration": 30,
    "start_time": "2022-10-01T17:32:01.082Z"
   },
   {
    "duration": 28,
    "start_time": "2022-10-01T17:32:01.114Z"
   },
   {
    "duration": 39,
    "start_time": "2022-10-01T17:32:01.144Z"
   },
   {
    "duration": 64,
    "start_time": "2022-10-01T17:32:01.185Z"
   },
   {
    "duration": 41,
    "start_time": "2022-10-01T17:32:01.251Z"
   },
   {
    "duration": 46,
    "start_time": "2022-10-01T17:32:01.294Z"
   },
   {
    "duration": 41,
    "start_time": "2022-10-01T17:32:01.342Z"
   },
   {
    "duration": 31,
    "start_time": "2022-10-01T17:32:01.385Z"
   },
   {
    "duration": 47,
    "start_time": "2022-10-01T17:32:01.417Z"
   },
   {
    "duration": 9,
    "start_time": "2022-10-01T17:32:03.732Z"
   },
   {
    "duration": 6,
    "start_time": "2022-10-01T17:37:30.499Z"
   },
   {
    "duration": 11,
    "start_time": "2022-10-01T17:37:39.795Z"
   },
   {
    "duration": 8,
    "start_time": "2022-10-01T17:37:43.407Z"
   },
   {
    "duration": 9,
    "start_time": "2022-10-01T17:37:55.013Z"
   },
   {
    "duration": 9,
    "start_time": "2022-10-01T17:38:07.269Z"
   },
   {
    "duration": 18,
    "start_time": "2022-10-01T17:38:49.341Z"
   },
   {
    "duration": 9,
    "start_time": "2022-10-01T17:40:19.007Z"
   },
   {
    "duration": 10,
    "start_time": "2022-10-01T17:40:24.740Z"
   },
   {
    "duration": 9,
    "start_time": "2022-10-01T17:40:29.085Z"
   },
   {
    "duration": 19,
    "start_time": "2022-10-01T17:42:35.220Z"
   },
   {
    "duration": 10,
    "start_time": "2022-10-01T17:43:19.281Z"
   },
   {
    "duration": 9,
    "start_time": "2022-10-01T17:43:26.042Z"
   },
   {
    "duration": 17,
    "start_time": "2022-10-01T17:43:56.123Z"
   },
   {
    "duration": 9,
    "start_time": "2022-10-01T17:45:51.996Z"
   },
   {
    "duration": 9,
    "start_time": "2022-10-01T17:46:03.721Z"
   },
   {
    "duration": 12,
    "start_time": "2022-10-01T17:46:42.510Z"
   },
   {
    "duration": 10,
    "start_time": "2022-10-01T17:47:08.492Z"
   },
   {
    "duration": 10,
    "start_time": "2022-10-01T17:47:30.688Z"
   },
   {
    "duration": 15,
    "start_time": "2022-10-01T17:50:31.620Z"
   },
   {
    "duration": 37,
    "start_time": "2022-10-01T17:51:51.794Z"
   },
   {
    "duration": 22,
    "start_time": "2022-10-01T17:52:05.206Z"
   },
   {
    "duration": 56,
    "start_time": "2022-10-01T17:56:00.118Z"
   },
   {
    "duration": 16,
    "start_time": "2022-10-01T17:56:06.959Z"
   },
   {
    "duration": 21,
    "start_time": "2022-10-01T17:56:36.157Z"
   },
   {
    "duration": 48,
    "start_time": "2022-10-01T17:57:41.857Z"
   },
   {
    "duration": 50,
    "start_time": "2022-10-01T18:01:02.901Z"
   },
   {
    "duration": 9,
    "start_time": "2022-10-01T18:29:54.296Z"
   },
   {
    "duration": 22,
    "start_time": "2022-10-01T18:29:58.826Z"
   },
   {
    "duration": 9,
    "start_time": "2022-10-01T18:30:19.670Z"
   },
   {
    "duration": 8,
    "start_time": "2022-10-01T18:30:43.974Z"
   },
   {
    "duration": 7,
    "start_time": "2022-10-01T18:30:47.683Z"
   },
   {
    "duration": 5,
    "start_time": "2022-10-01T18:31:02.621Z"
   },
   {
    "duration": 46,
    "start_time": "2022-10-01T19:00:21.486Z"
   },
   {
    "duration": 6,
    "start_time": "2022-10-01T19:01:35.963Z"
   },
   {
    "duration": 12,
    "start_time": "2022-10-01T19:01:47.424Z"
   },
   {
    "duration": 7,
    "start_time": "2022-10-01T19:01:57.053Z"
   },
   {
    "duration": 6,
    "start_time": "2022-10-01T19:02:11.803Z"
   },
   {
    "duration": 6,
    "start_time": "2022-10-01T19:02:18.562Z"
   },
   {
    "duration": 4,
    "start_time": "2022-10-01T19:02:42.160Z"
   },
   {
    "duration": 10,
    "start_time": "2022-10-01T19:02:46.942Z"
   },
   {
    "duration": 4,
    "start_time": "2022-10-01T19:02:52.009Z"
   },
   {
    "duration": 10,
    "start_time": "2022-10-01T19:02:56.433Z"
   },
   {
    "duration": 5,
    "start_time": "2022-10-01T19:03:00.609Z"
   },
   {
    "duration": 5,
    "start_time": "2022-10-01T19:03:03.988Z"
   },
   {
    "duration": 6,
    "start_time": "2022-10-01T19:03:09.250Z"
   },
   {
    "duration": 13,
    "start_time": "2022-10-01T19:03:18.907Z"
   },
   {
    "duration": 5,
    "start_time": "2022-10-01T19:03:28.694Z"
   },
   {
    "duration": 6,
    "start_time": "2022-10-01T19:04:45.232Z"
   },
   {
    "duration": 1137,
    "start_time": "2022-10-01T19:06:49.463Z"
   },
   {
    "duration": 5,
    "start_time": "2022-10-01T19:06:55.097Z"
   },
   {
    "duration": 6,
    "start_time": "2022-10-01T19:07:19.530Z"
   },
   {
    "duration": 5,
    "start_time": "2022-10-01T19:08:07.930Z"
   },
   {
    "duration": 12,
    "start_time": "2022-10-01T19:09:28.393Z"
   },
   {
    "duration": 18,
    "start_time": "2022-10-01T19:09:35.884Z"
   },
   {
    "duration": 18,
    "start_time": "2022-10-01T19:09:39.697Z"
   },
   {
    "duration": 3,
    "start_time": "2022-10-01T19:26:30.855Z"
   },
   {
    "duration": 86,
    "start_time": "2022-10-01T19:26:30.860Z"
   },
   {
    "duration": 20,
    "start_time": "2022-10-01T19:26:30.948Z"
   },
   {
    "duration": 28,
    "start_time": "2022-10-01T19:26:30.970Z"
   },
   {
    "duration": 44,
    "start_time": "2022-10-01T19:26:31.001Z"
   },
   {
    "duration": 42,
    "start_time": "2022-10-01T19:26:31.046Z"
   },
   {
    "duration": 21,
    "start_time": "2022-10-01T19:26:31.090Z"
   },
   {
    "duration": 25,
    "start_time": "2022-10-01T19:26:31.113Z"
   },
   {
    "duration": 18,
    "start_time": "2022-10-01T19:26:31.139Z"
   },
   {
    "duration": 17,
    "start_time": "2022-10-01T19:26:31.159Z"
   },
   {
    "duration": 27,
    "start_time": "2022-10-01T19:26:31.177Z"
   },
   {
    "duration": 7,
    "start_time": "2022-10-01T19:26:31.206Z"
   },
   {
    "duration": 30,
    "start_time": "2022-10-01T19:26:31.214Z"
   },
   {
    "duration": 8,
    "start_time": "2022-10-01T19:26:31.247Z"
   },
   {
    "duration": 23,
    "start_time": "2022-10-01T19:26:31.257Z"
   },
   {
    "duration": 20,
    "start_time": "2022-10-01T19:26:31.282Z"
   },
   {
    "duration": 12,
    "start_time": "2022-10-01T19:26:31.303Z"
   },
   {
    "duration": 76,
    "start_time": "2022-10-01T19:26:31.316Z"
   },
   {
    "duration": 6,
    "start_time": "2022-10-01T19:26:31.393Z"
   },
   {
    "duration": 461,
    "start_time": "2022-10-01T19:26:31.401Z"
   },
   {
    "duration": 7,
    "start_time": "2022-10-01T19:26:31.864Z"
   },
   {
    "duration": 383,
    "start_time": "2022-10-01T19:26:31.873Z"
   },
   {
    "duration": 526,
    "start_time": "2022-10-01T19:26:32.258Z"
   },
   {
    "duration": 7,
    "start_time": "2022-10-01T19:26:32.786Z"
   },
   {
    "duration": 467,
    "start_time": "2022-10-01T19:26:32.794Z"
   },
   {
    "duration": 8,
    "start_time": "2022-10-01T19:28:58.140Z"
   },
   {
    "duration": 3,
    "start_time": "2022-10-01T19:29:09.541Z"
   },
   {
    "duration": 4,
    "start_time": "2022-10-01T19:29:12.093Z"
   },
   {
    "duration": 6,
    "start_time": "2022-10-01T19:29:42.367Z"
   },
   {
    "duration": 5,
    "start_time": "2022-10-01T19:29:53.305Z"
   },
   {
    "duration": 18,
    "start_time": "2022-10-01T19:30:00.651Z"
   },
   {
    "duration": 40,
    "start_time": "2022-10-01T19:30:33.827Z"
   },
   {
    "duration": 39,
    "start_time": "2022-10-01T19:30:43.939Z"
   },
   {
    "duration": 6,
    "start_time": "2022-10-01T19:31:05.368Z"
   },
   {
    "duration": 1431,
    "start_time": "2022-10-01T19:33:34.406Z"
   },
   {
    "duration": 369,
    "start_time": "2022-10-01T19:33:39.688Z"
   },
   {
    "duration": 441,
    "start_time": "2022-10-01T19:33:54.893Z"
   },
   {
    "duration": 365,
    "start_time": "2022-10-01T19:34:32.293Z"
   },
   {
    "duration": 121,
    "start_time": "2022-10-01T19:37:32.275Z"
   },
   {
    "duration": 382,
    "start_time": "2022-10-01T19:41:55.909Z"
   },
   {
    "duration": 15,
    "start_time": "2022-10-01T19:42:57.094Z"
   },
   {
    "duration": 13,
    "start_time": "2022-10-01T19:43:25.020Z"
   },
   {
    "duration": 19,
    "start_time": "2022-10-01T19:43:31.333Z"
   },
   {
    "duration": 34,
    "start_time": "2022-10-01T19:50:55.143Z"
   },
   {
    "duration": 13,
    "start_time": "2022-10-01T19:53:27.351Z"
   },
   {
    "duration": 108,
    "start_time": "2022-10-01T19:53:45.857Z"
   },
   {
    "duration": 101,
    "start_time": "2022-10-01T19:54:43.125Z"
   },
   {
    "duration": 110,
    "start_time": "2022-10-01T19:54:53.015Z"
   },
   {
    "duration": 111,
    "start_time": "2022-10-01T19:55:11.955Z"
   },
   {
    "duration": 469,
    "start_time": "2022-10-01T19:55:27.441Z"
   },
   {
    "duration": 359,
    "start_time": "2022-10-01T19:56:45.926Z"
   },
   {
    "duration": 373,
    "start_time": "2022-10-01T19:56:55.273Z"
   },
   {
    "duration": 0,
    "start_time": "2022-10-01T19:57:44.987Z"
   },
   {
    "duration": 43,
    "start_time": "2022-10-01T19:59:34.092Z"
   },
   {
    "duration": 11,
    "start_time": "2022-10-01T19:59:44.334Z"
   },
   {
    "duration": 541,
    "start_time": "2022-10-01T20:00:31.357Z"
   },
   {
    "duration": 229,
    "start_time": "2022-10-01T20:00:52.018Z"
   },
   {
    "duration": 253,
    "start_time": "2022-10-01T20:02:33.918Z"
   },
   {
    "duration": 236,
    "start_time": "2022-10-01T20:02:45.968Z"
   },
   {
    "duration": 230,
    "start_time": "2022-10-01T20:02:57.002Z"
   },
   {
    "duration": 249,
    "start_time": "2022-10-01T20:03:13.880Z"
   },
   {
    "duration": 271,
    "start_time": "2022-10-01T20:03:30.544Z"
   },
   {
    "duration": 256,
    "start_time": "2022-10-01T20:03:44.532Z"
   },
   {
    "duration": 266,
    "start_time": "2022-10-01T20:03:51.746Z"
   },
   {
    "duration": 224,
    "start_time": "2022-10-01T20:04:14.768Z"
   },
   {
    "duration": 4,
    "start_time": "2022-10-01T20:04:33.082Z"
   },
   {
    "duration": 5,
    "start_time": "2022-10-01T20:04:38.897Z"
   },
   {
    "duration": 272,
    "start_time": "2022-10-01T20:05:30.658Z"
   },
   {
    "duration": 238,
    "start_time": "2022-10-01T20:05:42.913Z"
   },
   {
    "duration": 241,
    "start_time": "2022-10-01T20:05:48.661Z"
   },
   {
    "duration": 232,
    "start_time": "2022-10-01T20:06:04.514Z"
   },
   {
    "duration": 225,
    "start_time": "2022-10-01T20:06:13.257Z"
   },
   {
    "duration": 126,
    "start_time": "2022-10-01T20:08:10.269Z"
   },
   {
    "duration": 224,
    "start_time": "2022-10-01T20:09:42.386Z"
   },
   {
    "duration": 117,
    "start_time": "2022-10-01T20:09:53.609Z"
   },
   {
    "duration": 234,
    "start_time": "2022-10-01T20:10:08.811Z"
   },
   {
    "duration": 116,
    "start_time": "2022-10-01T20:11:03.883Z"
   },
   {
    "duration": 231,
    "start_time": "2022-10-01T20:11:15.180Z"
   },
   {
    "duration": 270,
    "start_time": "2022-10-01T20:12:15.128Z"
   },
   {
    "duration": 227,
    "start_time": "2022-10-01T20:13:05.311Z"
   },
   {
    "duration": 39,
    "start_time": "2022-10-01T20:13:08.288Z"
   },
   {
    "duration": 256,
    "start_time": "2022-10-01T20:13:51.244Z"
   },
   {
    "duration": 235,
    "start_time": "2022-10-01T20:14:28.181Z"
   },
   {
    "duration": 244,
    "start_time": "2022-10-01T20:14:41.030Z"
   },
   {
    "duration": 246,
    "start_time": "2022-10-01T20:16:06.433Z"
   },
   {
    "duration": 249,
    "start_time": "2022-10-01T20:16:13.317Z"
   },
   {
    "duration": 246,
    "start_time": "2022-10-01T20:16:22.965Z"
   },
   {
    "duration": 265,
    "start_time": "2022-10-01T20:17:17.617Z"
   },
   {
    "duration": 268,
    "start_time": "2022-10-01T20:17:25.368Z"
   },
   {
    "duration": 182,
    "start_time": "2022-10-01T20:21:15.943Z"
   },
   {
    "duration": 5,
    "start_time": "2022-10-01T20:22:46.066Z"
   },
   {
    "duration": 163,
    "start_time": "2022-10-01T20:51:43.434Z"
   },
   {
    "duration": 5,
    "start_time": "2022-10-01T20:53:47.710Z"
   },
   {
    "duration": 77,
    "start_time": "2022-10-01T20:56:00.959Z"
   },
   {
    "duration": 182,
    "start_time": "2022-10-01T21:09:51.922Z"
   },
   {
    "duration": 5,
    "start_time": "2022-10-01T21:13:19.719Z"
   },
   {
    "duration": 182,
    "start_time": "2022-10-01T21:20:47.315Z"
   },
   {
    "duration": 163,
    "start_time": "2022-10-01T21:21:34.440Z"
   },
   {
    "duration": 163,
    "start_time": "2022-10-01T21:21:39.913Z"
   },
   {
    "duration": 5,
    "start_time": "2022-10-01T21:24:24.122Z"
   },
   {
    "duration": 205,
    "start_time": "2022-10-01T21:54:31.865Z"
   },
   {
    "duration": 5,
    "start_time": "2022-10-01T21:55:27.521Z"
   },
   {
    "duration": 3,
    "start_time": "2022-10-01T22:09:57.869Z"
   },
   {
    "duration": 10,
    "start_time": "2022-10-01T22:10:47.629Z"
   },
   {
    "duration": 3,
    "start_time": "2022-10-01T22:11:01.155Z"
   },
   {
    "duration": 65,
    "start_time": "2022-10-01T22:11:01.160Z"
   },
   {
    "duration": 15,
    "start_time": "2022-10-01T22:11:01.226Z"
   },
   {
    "duration": 27,
    "start_time": "2022-10-01T22:11:01.242Z"
   },
   {
    "duration": 34,
    "start_time": "2022-10-01T22:11:01.271Z"
   },
   {
    "duration": 40,
    "start_time": "2022-10-01T22:11:01.307Z"
   },
   {
    "duration": 31,
    "start_time": "2022-10-01T22:11:01.349Z"
   },
   {
    "duration": 37,
    "start_time": "2022-10-01T22:11:01.381Z"
   },
   {
    "duration": 16,
    "start_time": "2022-10-01T22:11:01.420Z"
   },
   {
    "duration": 32,
    "start_time": "2022-10-01T22:11:01.438Z"
   },
   {
    "duration": 49,
    "start_time": "2022-10-01T22:11:01.472Z"
   },
   {
    "duration": 5,
    "start_time": "2022-10-01T22:11:01.524Z"
   },
   {
    "duration": 48,
    "start_time": "2022-10-01T22:11:01.531Z"
   },
   {
    "duration": 12,
    "start_time": "2022-10-01T22:11:01.583Z"
   },
   {
    "duration": 16,
    "start_time": "2022-10-01T22:11:01.597Z"
   },
   {
    "duration": 52,
    "start_time": "2022-10-01T22:11:01.615Z"
   },
   {
    "duration": 32,
    "start_time": "2022-10-01T22:11:01.670Z"
   },
   {
    "duration": 72,
    "start_time": "2022-10-01T22:11:01.704Z"
   },
   {
    "duration": 7,
    "start_time": "2022-10-01T22:11:01.778Z"
   },
   {
    "duration": 367,
    "start_time": "2022-10-01T22:11:01.787Z"
   },
   {
    "duration": 7,
    "start_time": "2022-10-01T22:11:02.156Z"
   },
   {
    "duration": 972,
    "start_time": "2022-10-01T22:11:02.164Z"
   },
   {
    "duration": 439,
    "start_time": "2022-10-01T22:11:03.138Z"
   },
   {
    "duration": 7,
    "start_time": "2022-10-01T22:11:03.578Z"
   },
   {
    "duration": 359,
    "start_time": "2022-10-01T22:11:03.586Z"
   },
   {
    "duration": 44,
    "start_time": "2022-10-01T22:11:03.946Z"
   },
   {
    "duration": 262,
    "start_time": "2022-10-01T22:11:03.992Z"
   },
   {
    "duration": 252,
    "start_time": "2022-10-01T22:11:04.255Z"
   },
   {
    "duration": 194,
    "start_time": "2022-10-01T22:11:04.509Z"
   },
   {
    "duration": 6,
    "start_time": "2022-10-01T22:11:04.704Z"
   },
   {
    "duration": 200,
    "start_time": "2022-10-01T22:11:04.711Z"
   },
   {
    "duration": 4,
    "start_time": "2022-10-01T22:11:04.914Z"
   },
   {
    "duration": 172,
    "start_time": "2022-10-01T22:11:04.920Z"
   },
   {
    "duration": 5,
    "start_time": "2022-10-01T22:11:05.094Z"
   },
   {
    "duration": 196,
    "start_time": "2022-10-01T22:11:05.100Z"
   },
   {
    "duration": 5,
    "start_time": "2022-10-01T22:11:05.297Z"
   },
   {
    "duration": 173,
    "start_time": "2022-10-01T22:11:05.304Z"
   },
   {
    "duration": 5,
    "start_time": "2022-10-01T22:11:05.479Z"
   },
   {
    "duration": 184,
    "start_time": "2022-10-01T22:11:05.486Z"
   },
   {
    "duration": 5,
    "start_time": "2022-10-01T22:11:05.672Z"
   },
   {
    "duration": 188,
    "start_time": "2022-10-01T22:11:05.681Z"
   },
   {
    "duration": 15,
    "start_time": "2022-10-01T22:11:05.870Z"
   },
   {
    "duration": 17,
    "start_time": "2022-10-01T22:11:05.887Z"
   },
   {
    "duration": 172,
    "start_time": "2022-10-01T22:11:05.906Z"
   },
   {
    "duration": 14,
    "start_time": "2022-10-01T22:11:06.080Z"
   },
   {
    "duration": 13,
    "start_time": "2022-10-01T22:11:06.096Z"
   },
   {
    "duration": 45,
    "start_time": "2022-10-01T22:11:06.111Z"
   },
   {
    "duration": 159,
    "start_time": "2022-10-01T22:11:06.157Z"
   },
   {
    "duration": 14,
    "start_time": "2022-10-01T22:11:06.318Z"
   },
   {
    "duration": 31,
    "start_time": "2022-10-01T22:11:06.334Z"
   },
   {
    "duration": 15,
    "start_time": "2022-10-01T22:11:06.367Z"
   },
   {
    "duration": 172,
    "start_time": "2022-10-01T22:11:06.383Z"
   },
   {
    "duration": 14,
    "start_time": "2022-10-01T22:11:06.557Z"
   },
   {
    "duration": 13,
    "start_time": "2022-10-01T22:11:08.659Z"
   },
   {
    "duration": 14,
    "start_time": "2022-10-01T22:12:20.754Z"
   },
   {
    "duration": 194,
    "start_time": "2022-10-01T22:14:25.145Z"
   },
   {
    "duration": 162,
    "start_time": "2022-10-01T22:33:57.055Z"
   },
   {
    "duration": 1147,
    "start_time": "2022-10-01T22:39:58.785Z"
   },
   {
    "duration": 27,
    "start_time": "2022-10-01T22:40:10.798Z"
   },
   {
    "duration": 8,
    "start_time": "2022-10-01T22:40:19.902Z"
   },
   {
    "duration": 9,
    "start_time": "2022-10-01T22:40:28.242Z"
   },
   {
    "duration": 27,
    "start_time": "2022-10-01T22:44:30.442Z"
   },
   {
    "duration": 9,
    "start_time": "2022-10-01T22:44:34.327Z"
   },
   {
    "duration": 9,
    "start_time": "2022-10-01T22:44:40.375Z"
   },
   {
    "duration": 234,
    "start_time": "2022-10-01T22:47:11.513Z"
   },
   {
    "duration": 15,
    "start_time": "2022-10-01T22:47:45.161Z"
   },
   {
    "duration": 3,
    "start_time": "2022-10-01T22:56:34.882Z"
   },
   {
    "duration": 3,
    "start_time": "2022-10-01T23:01:10.028Z"
   },
   {
    "duration": 54,
    "start_time": "2022-10-01T23:01:10.033Z"
   },
   {
    "duration": 14,
    "start_time": "2022-10-01T23:01:10.089Z"
   },
   {
    "duration": 14,
    "start_time": "2022-10-01T23:01:10.105Z"
   },
   {
    "duration": 7,
    "start_time": "2022-10-01T23:01:10.121Z"
   },
   {
    "duration": 31,
    "start_time": "2022-10-01T23:01:10.130Z"
   },
   {
    "duration": 11,
    "start_time": "2022-10-01T23:01:10.162Z"
   },
   {
    "duration": 10,
    "start_time": "2022-10-01T23:01:10.174Z"
   },
   {
    "duration": 9,
    "start_time": "2022-10-01T23:01:10.186Z"
   },
   {
    "duration": 11,
    "start_time": "2022-10-01T23:01:10.196Z"
   },
   {
    "duration": 16,
    "start_time": "2022-10-01T23:01:10.210Z"
   },
   {
    "duration": 28,
    "start_time": "2022-10-01T23:01:10.228Z"
   },
   {
    "duration": 15,
    "start_time": "2022-10-01T23:01:10.259Z"
   },
   {
    "duration": 5,
    "start_time": "2022-10-01T23:01:10.275Z"
   },
   {
    "duration": 13,
    "start_time": "2022-10-01T23:01:10.282Z"
   },
   {
    "duration": 12,
    "start_time": "2022-10-01T23:01:10.297Z"
   },
   {
    "duration": 12,
    "start_time": "2022-10-01T23:01:10.311Z"
   },
   {
    "duration": 68,
    "start_time": "2022-10-01T23:01:10.324Z"
   },
   {
    "duration": 5,
    "start_time": "2022-10-01T23:01:10.393Z"
   },
   {
    "duration": 350,
    "start_time": "2022-10-01T23:01:10.400Z"
   },
   {
    "duration": 7,
    "start_time": "2022-10-01T23:01:10.754Z"
   },
   {
    "duration": 350,
    "start_time": "2022-10-01T23:01:10.762Z"
   },
   {
    "duration": 501,
    "start_time": "2022-10-01T23:01:11.114Z"
   },
   {
    "duration": 8,
    "start_time": "2022-10-01T23:01:11.617Z"
   },
   {
    "duration": 416,
    "start_time": "2022-10-01T23:01:11.628Z"
   },
   {
    "duration": 46,
    "start_time": "2022-10-01T23:01:12.046Z"
   },
   {
    "duration": 257,
    "start_time": "2022-10-01T23:01:12.094Z"
   },
   {
    "duration": 240,
    "start_time": "2022-10-01T23:01:12.353Z"
   },
   {
    "duration": 187,
    "start_time": "2022-10-01T23:01:12.595Z"
   },
   {
    "duration": 5,
    "start_time": "2022-10-01T23:01:12.784Z"
   },
   {
    "duration": 183,
    "start_time": "2022-10-01T23:01:12.790Z"
   },
   {
    "duration": 5,
    "start_time": "2022-10-01T23:01:12.974Z"
   },
   {
    "duration": 177,
    "start_time": "2022-10-01T23:01:12.981Z"
   },
   {
    "duration": 5,
    "start_time": "2022-10-01T23:01:13.160Z"
   },
   {
    "duration": 175,
    "start_time": "2022-10-01T23:01:13.166Z"
   },
   {
    "duration": 13,
    "start_time": "2022-10-01T23:01:13.343Z"
   },
   {
    "duration": 166,
    "start_time": "2022-10-01T23:01:13.360Z"
   },
   {
    "duration": 6,
    "start_time": "2022-10-01T23:01:13.528Z"
   },
   {
    "duration": 180,
    "start_time": "2022-10-01T23:01:13.536Z"
   },
   {
    "duration": 5,
    "start_time": "2022-10-01T23:01:13.718Z"
   },
   {
    "duration": 186,
    "start_time": "2022-10-01T23:01:13.725Z"
   },
   {
    "duration": 16,
    "start_time": "2022-10-01T23:01:13.913Z"
   },
   {
    "duration": 34,
    "start_time": "2022-10-01T23:01:13.930Z"
   },
   {
    "duration": 173,
    "start_time": "2022-10-01T23:01:13.966Z"
   },
   {
    "duration": 24,
    "start_time": "2022-10-01T23:01:14.142Z"
   },
   {
    "duration": 19,
    "start_time": "2022-10-01T23:01:14.168Z"
   },
   {
    "duration": 17,
    "start_time": "2022-10-01T23:01:14.190Z"
   },
   {
    "duration": 1995,
    "start_time": "2022-10-01T23:01:14.209Z"
   },
   {
    "duration": 0,
    "start_time": "2022-10-01T23:01:16.206Z"
   },
   {
    "duration": 0,
    "start_time": "2022-10-01T23:01:16.207Z"
   },
   {
    "duration": 0,
    "start_time": "2022-10-01T23:01:16.208Z"
   },
   {
    "duration": 0,
    "start_time": "2022-10-01T23:01:16.210Z"
   },
   {
    "duration": 0,
    "start_time": "2022-10-01T23:01:16.211Z"
   },
   {
    "duration": 0,
    "start_time": "2022-10-01T23:01:16.212Z"
   },
   {
    "duration": 0,
    "start_time": "2022-10-01T23:01:16.213Z"
   },
   {
    "duration": 1,
    "start_time": "2022-10-01T23:01:16.213Z"
   },
   {
    "duration": 51,
    "start_time": "2022-10-02T08:09:08.882Z"
   },
   {
    "duration": 1306,
    "start_time": "2022-10-02T08:09:16.719Z"
   },
   {
    "duration": 179,
    "start_time": "2022-10-02T08:09:18.027Z"
   },
   {
    "duration": 17,
    "start_time": "2022-10-02T08:09:18.207Z"
   },
   {
    "duration": 22,
    "start_time": "2022-10-02T08:09:18.226Z"
   },
   {
    "duration": 3,
    "start_time": "2022-10-02T08:09:18.251Z"
   },
   {
    "duration": 18,
    "start_time": "2022-10-02T08:09:18.256Z"
   },
   {
    "duration": 17,
    "start_time": "2022-10-02T08:09:18.288Z"
   },
   {
    "duration": 19,
    "start_time": "2022-10-02T08:09:18.307Z"
   },
   {
    "duration": 8,
    "start_time": "2022-10-02T08:09:18.328Z"
   },
   {
    "duration": 7,
    "start_time": "2022-10-02T08:09:18.338Z"
   },
   {
    "duration": 16,
    "start_time": "2022-10-02T08:09:18.346Z"
   },
   {
    "duration": 4,
    "start_time": "2022-10-02T08:09:18.364Z"
   },
   {
    "duration": 30,
    "start_time": "2022-10-02T08:09:18.369Z"
   },
   {
    "duration": 13,
    "start_time": "2022-10-02T08:09:18.403Z"
   },
   {
    "duration": 10,
    "start_time": "2022-10-02T08:09:18.418Z"
   },
   {
    "duration": 32,
    "start_time": "2022-10-02T08:09:18.431Z"
   },
   {
    "duration": 9,
    "start_time": "2022-10-02T08:09:18.465Z"
   },
   {
    "duration": 89,
    "start_time": "2022-10-02T08:09:18.476Z"
   },
   {
    "duration": 6,
    "start_time": "2022-10-02T08:09:18.567Z"
   },
   {
    "duration": 370,
    "start_time": "2022-10-02T08:09:18.575Z"
   },
   {
    "duration": 7,
    "start_time": "2022-10-02T08:09:18.947Z"
   },
   {
    "duration": 377,
    "start_time": "2022-10-02T08:09:18.956Z"
   },
   {
    "duration": 526,
    "start_time": "2022-10-02T08:09:19.335Z"
   },
   {
    "duration": 6,
    "start_time": "2022-10-02T08:09:19.863Z"
   },
   {
    "duration": 397,
    "start_time": "2022-10-02T08:09:19.871Z"
   },
   {
    "duration": 58,
    "start_time": "2022-10-02T08:09:20.270Z"
   },
   {
    "duration": 304,
    "start_time": "2022-10-02T08:09:23.707Z"
   },
   {
    "duration": 313,
    "start_time": "2022-10-02T08:09:39.640Z"
   },
   {
    "duration": 4,
    "start_time": "2022-10-02T08:25:57.292Z"
   },
   {
    "duration": 74,
    "start_time": "2022-10-02T08:25:57.298Z"
   },
   {
    "duration": 16,
    "start_time": "2022-10-02T08:25:57.375Z"
   },
   {
    "duration": 40,
    "start_time": "2022-10-02T08:25:57.392Z"
   },
   {
    "duration": 14,
    "start_time": "2022-10-02T08:25:57.434Z"
   },
   {
    "duration": 14,
    "start_time": "2022-10-02T08:25:57.450Z"
   },
   {
    "duration": 29,
    "start_time": "2022-10-02T08:25:57.466Z"
   },
   {
    "duration": 37,
    "start_time": "2022-10-02T08:25:57.497Z"
   },
   {
    "duration": 22,
    "start_time": "2022-10-02T08:25:57.536Z"
   },
   {
    "duration": 41,
    "start_time": "2022-10-02T08:25:57.560Z"
   },
   {
    "duration": 39,
    "start_time": "2022-10-02T08:25:57.602Z"
   },
   {
    "duration": 40,
    "start_time": "2022-10-02T08:25:57.643Z"
   },
   {
    "duration": 32,
    "start_time": "2022-10-02T08:25:57.686Z"
   },
   {
    "duration": 42,
    "start_time": "2022-10-02T08:25:57.719Z"
   },
   {
    "duration": 35,
    "start_time": "2022-10-02T08:25:57.762Z"
   },
   {
    "duration": 45,
    "start_time": "2022-10-02T08:25:57.798Z"
   },
   {
    "duration": 45,
    "start_time": "2022-10-02T08:25:57.845Z"
   },
   {
    "duration": 83,
    "start_time": "2022-10-02T08:25:57.891Z"
   },
   {
    "duration": 5,
    "start_time": "2022-10-02T08:25:57.976Z"
   },
   {
    "duration": 372,
    "start_time": "2022-10-02T08:25:57.982Z"
   },
   {
    "duration": 7,
    "start_time": "2022-10-02T08:25:58.356Z"
   },
   {
    "duration": 379,
    "start_time": "2022-10-02T08:25:58.364Z"
   },
   {
    "duration": 487,
    "start_time": "2022-10-02T08:25:58.745Z"
   },
   {
    "duration": 7,
    "start_time": "2022-10-02T08:25:59.233Z"
   },
   {
    "duration": 399,
    "start_time": "2022-10-02T08:25:59.241Z"
   },
   {
    "duration": 50,
    "start_time": "2022-10-02T08:25:59.642Z"
   },
   {
    "duration": 267,
    "start_time": "2022-10-02T08:25:59.694Z"
   },
   {
    "duration": 371,
    "start_time": "2022-10-02T08:25:59.963Z"
   },
   {
    "duration": 194,
    "start_time": "2022-10-02T08:26:00.335Z"
   },
   {
    "duration": 5,
    "start_time": "2022-10-02T08:26:00.532Z"
   },
   {
    "duration": 265,
    "start_time": "2022-10-02T08:26:00.538Z"
   },
   {
    "duration": 6,
    "start_time": "2022-10-02T08:26:00.805Z"
   },
   {
    "duration": 246,
    "start_time": "2022-10-02T08:26:00.813Z"
   },
   {
    "duration": 5,
    "start_time": "2022-10-02T08:26:01.061Z"
   },
   {
    "duration": 200,
    "start_time": "2022-10-02T08:26:01.068Z"
   },
   {
    "duration": 4,
    "start_time": "2022-10-02T08:26:01.270Z"
   },
   {
    "duration": 267,
    "start_time": "2022-10-02T08:26:01.278Z"
   },
   {
    "duration": 5,
    "start_time": "2022-10-02T08:26:01.547Z"
   },
   {
    "duration": 217,
    "start_time": "2022-10-02T08:26:01.555Z"
   },
   {
    "duration": 5,
    "start_time": "2022-10-02T08:26:01.774Z"
   },
   {
    "duration": 288,
    "start_time": "2022-10-02T08:26:01.790Z"
   },
   {
    "duration": 27,
    "start_time": "2022-10-02T08:26:02.080Z"
   },
   {
    "duration": 52,
    "start_time": "2022-10-02T08:26:02.109Z"
   },
   {
    "duration": 199,
    "start_time": "2022-10-02T08:26:02.164Z"
   },
   {
    "duration": 14,
    "start_time": "2022-10-02T08:26:02.365Z"
   },
   {
    "duration": 23,
    "start_time": "2022-10-02T08:26:02.381Z"
   },
   {
    "duration": 25,
    "start_time": "2022-10-02T08:26:02.405Z"
   },
   {
    "duration": 1469,
    "start_time": "2022-10-02T08:26:05.629Z"
   },
   {
    "duration": 1522,
    "start_time": "2022-10-02T08:28:20.576Z"
   },
   {
    "duration": 163,
    "start_time": "2022-10-02T08:28:53.060Z"
   },
   {
    "duration": 15,
    "start_time": "2022-10-02T08:29:04.768Z"
   },
   {
    "duration": 15,
    "start_time": "2022-10-02T08:29:10.342Z"
   },
   {
    "duration": 15,
    "start_time": "2022-10-02T08:29:16.840Z"
   },
   {
    "duration": 15,
    "start_time": "2022-10-02T08:29:19.445Z"
   },
   {
    "duration": 19,
    "start_time": "2022-10-02T08:29:21.926Z"
   },
   {
    "duration": 154,
    "start_time": "2022-10-02T08:29:28.781Z"
   },
   {
    "duration": 13,
    "start_time": "2022-10-02T08:29:32.369Z"
   },
   {
    "duration": 3,
    "start_time": "2022-10-02T08:55:20.567Z"
   },
   {
    "duration": 97,
    "start_time": "2022-10-02T08:55:22.473Z"
   },
   {
    "duration": 16,
    "start_time": "2022-10-02T08:55:36.833Z"
   },
   {
    "duration": 13,
    "start_time": "2022-10-02T08:55:47.442Z"
   },
   {
    "duration": 3,
    "start_time": "2022-10-02T09:07:08.610Z"
   },
   {
    "duration": 56,
    "start_time": "2022-10-02T09:07:08.615Z"
   },
   {
    "duration": 14,
    "start_time": "2022-10-02T09:07:08.673Z"
   },
   {
    "duration": 17,
    "start_time": "2022-10-02T09:07:08.689Z"
   },
   {
    "duration": 4,
    "start_time": "2022-10-02T09:07:08.709Z"
   },
   {
    "duration": 13,
    "start_time": "2022-10-02T09:07:08.714Z"
   },
   {
    "duration": 9,
    "start_time": "2022-10-02T09:07:08.729Z"
   },
   {
    "duration": 17,
    "start_time": "2022-10-02T09:07:08.740Z"
   },
   {
    "duration": 36,
    "start_time": "2022-10-02T09:07:08.758Z"
   },
   {
    "duration": 8,
    "start_time": "2022-10-02T09:07:08.796Z"
   },
   {
    "duration": 17,
    "start_time": "2022-10-02T09:07:08.806Z"
   },
   {
    "duration": 4,
    "start_time": "2022-10-02T09:07:08.825Z"
   },
   {
    "duration": 13,
    "start_time": "2022-10-02T09:07:08.831Z"
   },
   {
    "duration": 6,
    "start_time": "2022-10-02T09:07:08.849Z"
   },
   {
    "duration": 34,
    "start_time": "2022-10-02T09:07:08.856Z"
   },
   {
    "duration": 13,
    "start_time": "2022-10-02T09:07:08.892Z"
   },
   {
    "duration": 15,
    "start_time": "2022-10-02T09:07:08.907Z"
   },
   {
    "duration": 81,
    "start_time": "2022-10-02T09:07:08.923Z"
   },
   {
    "duration": 7,
    "start_time": "2022-10-02T09:07:09.006Z"
   },
   {
    "duration": 374,
    "start_time": "2022-10-02T09:07:09.015Z"
   },
   {
    "duration": 7,
    "start_time": "2022-10-02T09:07:09.391Z"
   },
   {
    "duration": 362,
    "start_time": "2022-10-02T09:07:09.400Z"
   },
   {
    "duration": 498,
    "start_time": "2022-10-02T09:07:09.764Z"
   },
   {
    "duration": 7,
    "start_time": "2022-10-02T09:07:10.264Z"
   },
   {
    "duration": 372,
    "start_time": "2022-10-02T09:07:10.272Z"
   },
   {
    "duration": 50,
    "start_time": "2022-10-02T09:07:10.645Z"
   },
   {
    "duration": 284,
    "start_time": "2022-10-02T09:07:10.696Z"
   },
   {
    "duration": 261,
    "start_time": "2022-10-02T09:07:10.981Z"
   },
   {
    "duration": 193,
    "start_time": "2022-10-02T09:07:11.243Z"
   },
   {
    "duration": 5,
    "start_time": "2022-10-02T09:07:11.438Z"
   },
   {
    "duration": 361,
    "start_time": "2022-10-02T09:07:11.445Z"
   },
   {
    "duration": 9,
    "start_time": "2022-10-02T09:07:11.808Z"
   },
   {
    "duration": 260,
    "start_time": "2022-10-02T09:07:11.820Z"
   },
   {
    "duration": 12,
    "start_time": "2022-10-02T09:07:12.082Z"
   },
   {
    "duration": 225,
    "start_time": "2022-10-02T09:07:12.096Z"
   },
   {
    "duration": 5,
    "start_time": "2022-10-02T09:07:12.322Z"
   },
   {
    "duration": 195,
    "start_time": "2022-10-02T09:07:12.329Z"
   },
   {
    "duration": 5,
    "start_time": "2022-10-02T09:07:12.525Z"
   },
   {
    "duration": 178,
    "start_time": "2022-10-02T09:07:12.531Z"
   },
   {
    "duration": 4,
    "start_time": "2022-10-02T09:07:12.711Z"
   },
   {
    "duration": 208,
    "start_time": "2022-10-02T09:07:12.719Z"
   },
   {
    "duration": 16,
    "start_time": "2022-10-02T09:07:12.929Z"
   },
   {
    "duration": 24,
    "start_time": "2022-10-02T09:07:12.947Z"
   },
   {
    "duration": 204,
    "start_time": "2022-10-02T09:07:12.989Z"
   },
   {
    "duration": 15,
    "start_time": "2022-10-02T09:07:13.195Z"
   },
   {
    "duration": 46,
    "start_time": "2022-10-02T09:07:13.211Z"
   },
   {
    "duration": 22,
    "start_time": "2022-10-02T09:07:13.259Z"
   },
   {
    "duration": 191,
    "start_time": "2022-10-02T09:07:13.283Z"
   },
   {
    "duration": 18,
    "start_time": "2022-10-02T09:07:13.476Z"
   },
   {
    "duration": 23,
    "start_time": "2022-10-02T09:07:13.496Z"
   },
   {
    "duration": 14,
    "start_time": "2022-10-02T09:07:13.520Z"
   },
   {
    "duration": 169,
    "start_time": "2022-10-02T09:07:13.536Z"
   },
   {
    "duration": 15,
    "start_time": "2022-10-02T09:07:13.706Z"
   },
   {
    "duration": 4,
    "start_time": "2022-10-02T09:07:13.723Z"
   },
   {
    "duration": 15,
    "start_time": "2022-10-02T09:07:13.729Z"
   },
   {
    "duration": 44,
    "start_time": "2022-10-02T09:07:13.746Z"
   },
   {
    "duration": 1263,
    "start_time": "2022-10-02T09:24:38.650Z"
   },
   {
    "duration": 41,
    "start_time": "2022-10-02T09:25:00.126Z"
   },
   {
    "duration": 9,
    "start_time": "2022-10-02T09:25:33.486Z"
   },
   {
    "duration": 15,
    "start_time": "2022-10-02T09:25:45.695Z"
   },
   {
    "duration": 5,
    "start_time": "2022-10-02T09:34:05.723Z"
   },
   {
    "duration": 313,
    "start_time": "2022-10-02T09:34:11.558Z"
   },
   {
    "duration": 3,
    "start_time": "2022-10-02T10:54:59.179Z"
   },
   {
    "duration": 54,
    "start_time": "2022-10-02T10:54:59.185Z"
   },
   {
    "duration": 15,
    "start_time": "2022-10-02T10:54:59.241Z"
   },
   {
    "duration": 17,
    "start_time": "2022-10-02T10:54:59.258Z"
   },
   {
    "duration": 18,
    "start_time": "2022-10-02T10:54:59.276Z"
   },
   {
    "duration": 13,
    "start_time": "2022-10-02T10:54:59.296Z"
   },
   {
    "duration": 8,
    "start_time": "2022-10-02T10:54:59.310Z"
   },
   {
    "duration": 9,
    "start_time": "2022-10-02T10:54:59.320Z"
   },
   {
    "duration": 16,
    "start_time": "2022-10-02T10:54:59.331Z"
   },
   {
    "duration": 8,
    "start_time": "2022-10-02T10:54:59.349Z"
   },
   {
    "duration": 38,
    "start_time": "2022-10-02T10:54:59.359Z"
   },
   {
    "duration": 7,
    "start_time": "2022-10-02T10:54:59.399Z"
   },
   {
    "duration": 17,
    "start_time": "2022-10-02T10:54:59.408Z"
   },
   {
    "duration": 5,
    "start_time": "2022-10-02T10:54:59.427Z"
   },
   {
    "duration": 7,
    "start_time": "2022-10-02T10:54:59.434Z"
   },
   {
    "duration": 6,
    "start_time": "2022-10-02T10:54:59.444Z"
   },
   {
    "duration": 37,
    "start_time": "2022-10-02T10:54:59.452Z"
   },
   {
    "duration": 58,
    "start_time": "2022-10-02T10:54:59.491Z"
   },
   {
    "duration": 6,
    "start_time": "2022-10-02T10:54:59.550Z"
   },
   {
    "duration": 3,
    "start_time": "2022-10-02T10:54:59.558Z"
   },
   {
    "duration": 345,
    "start_time": "2022-10-02T10:54:59.590Z"
   },
   {
    "duration": 7,
    "start_time": "2022-10-02T10:54:59.938Z"
   },
   {
    "duration": 457,
    "start_time": "2022-10-02T10:54:59.947Z"
   },
   {
    "duration": 474,
    "start_time": "2022-10-02T10:55:00.408Z"
   },
   {
    "duration": 6,
    "start_time": "2022-10-02T10:55:00.888Z"
   },
   {
    "duration": 376,
    "start_time": "2022-10-02T10:55:00.896Z"
   },
   {
    "duration": 47,
    "start_time": "2022-10-02T10:55:01.274Z"
   },
   {
    "duration": 269,
    "start_time": "2022-10-02T10:55:01.323Z"
   },
   {
    "duration": 296,
    "start_time": "2022-10-02T10:55:01.594Z"
   },
   {
    "duration": 235,
    "start_time": "2022-10-02T10:55:01.892Z"
   },
   {
    "duration": 6,
    "start_time": "2022-10-02T10:55:02.129Z"
   },
   {
    "duration": 203,
    "start_time": "2022-10-02T10:55:02.138Z"
   },
   {
    "duration": 6,
    "start_time": "2022-10-02T10:55:02.342Z"
   },
   {
    "duration": 206,
    "start_time": "2022-10-02T10:55:02.350Z"
   },
   {
    "duration": 4,
    "start_time": "2022-10-02T10:55:02.558Z"
   },
   {
    "duration": 301,
    "start_time": "2022-10-02T10:55:02.564Z"
   },
   {
    "duration": 5,
    "start_time": "2022-10-02T10:55:02.867Z"
   },
   {
    "duration": 231,
    "start_time": "2022-10-02T10:55:02.874Z"
   },
   {
    "duration": 5,
    "start_time": "2022-10-02T10:55:03.107Z"
   },
   {
    "duration": 209,
    "start_time": "2022-10-02T10:55:03.113Z"
   },
   {
    "duration": 4,
    "start_time": "2022-10-02T10:55:03.324Z"
   },
   {
    "duration": 233,
    "start_time": "2022-10-02T10:55:03.330Z"
   },
   {
    "duration": 26,
    "start_time": "2022-10-02T10:55:03.565Z"
   },
   {
    "duration": 26,
    "start_time": "2022-10-02T10:55:03.593Z"
   },
   {
    "duration": 201,
    "start_time": "2022-10-02T10:55:03.621Z"
   },
   {
    "duration": 14,
    "start_time": "2022-10-02T10:55:03.824Z"
   },
   {
    "duration": 37,
    "start_time": "2022-10-02T10:55:03.840Z"
   },
   {
    "duration": 38,
    "start_time": "2022-10-02T10:55:03.878Z"
   },
   {
    "duration": 183,
    "start_time": "2022-10-02T10:55:03.918Z"
   },
   {
    "duration": 14,
    "start_time": "2022-10-02T10:55:04.103Z"
   },
   {
    "duration": 49,
    "start_time": "2022-10-02T10:55:04.119Z"
   },
   {
    "duration": 27,
    "start_time": "2022-10-02T10:55:04.170Z"
   },
   {
    "duration": 181,
    "start_time": "2022-10-02T10:55:04.199Z"
   },
   {
    "duration": 17,
    "start_time": "2022-10-02T10:55:04.381Z"
   },
   {
    "duration": 8,
    "start_time": "2022-10-02T10:55:04.399Z"
   },
   {
    "duration": 30,
    "start_time": "2022-10-02T10:55:04.409Z"
   },
   {
    "duration": 29,
    "start_time": "2022-10-02T10:55:04.441Z"
   },
   {
    "duration": 1077,
    "start_time": "2022-10-02T13:41:27.214Z"
   },
   {
    "duration": 52,
    "start_time": "2022-10-02T13:41:28.293Z"
   },
   {
    "duration": 13,
    "start_time": "2022-10-02T13:41:28.347Z"
   },
   {
    "duration": 15,
    "start_time": "2022-10-02T13:41:28.362Z"
   },
   {
    "duration": 3,
    "start_time": "2022-10-02T13:41:28.379Z"
   },
   {
    "duration": 10,
    "start_time": "2022-10-02T13:41:28.383Z"
   },
   {
    "duration": 10,
    "start_time": "2022-10-02T13:41:28.400Z"
   },
   {
    "duration": 12,
    "start_time": "2022-10-02T13:41:28.412Z"
   },
   {
    "duration": 11,
    "start_time": "2022-10-02T13:41:28.426Z"
   },
   {
    "duration": 26,
    "start_time": "2022-10-02T13:41:33.354Z"
   },
   {
    "duration": 11,
    "start_time": "2022-10-02T13:41:45.998Z"
   },
   {
    "duration": 2,
    "start_time": "2022-10-02T13:42:22.682Z"
   },
   {
    "duration": 56,
    "start_time": "2022-10-02T13:42:22.688Z"
   },
   {
    "duration": 12,
    "start_time": "2022-10-02T13:42:22.746Z"
   },
   {
    "duration": 14,
    "start_time": "2022-10-02T13:42:22.759Z"
   },
   {
    "duration": 8,
    "start_time": "2022-10-02T13:42:22.775Z"
   },
   {
    "duration": 14,
    "start_time": "2022-10-02T13:42:22.784Z"
   },
   {
    "duration": 8,
    "start_time": "2022-10-02T13:42:22.799Z"
   },
   {
    "duration": 7,
    "start_time": "2022-10-02T13:42:22.808Z"
   },
   {
    "duration": 17,
    "start_time": "2022-10-02T13:42:22.817Z"
   },
   {
    "duration": 11,
    "start_time": "2022-10-02T13:42:22.835Z"
   },
   {
    "duration": 14,
    "start_time": "2022-10-02T13:42:22.848Z"
   },
   {
    "duration": 1189,
    "start_time": "2022-10-02T13:46:44.101Z"
   },
   {
    "duration": 56,
    "start_time": "2022-10-02T13:46:45.292Z"
   },
   {
    "duration": 15,
    "start_time": "2022-10-02T13:46:45.350Z"
   },
   {
    "duration": 16,
    "start_time": "2022-10-02T13:46:45.366Z"
   },
   {
    "duration": 3,
    "start_time": "2022-10-02T13:46:45.385Z"
   },
   {
    "duration": 20,
    "start_time": "2022-10-02T13:46:45.390Z"
   },
   {
    "duration": 20,
    "start_time": "2022-10-02T13:46:45.412Z"
   },
   {
    "duration": 10,
    "start_time": "2022-10-02T13:46:45.433Z"
   },
   {
    "duration": 11,
    "start_time": "2022-10-02T13:46:45.445Z"
   },
   {
    "duration": 7,
    "start_time": "2022-10-02T13:46:45.458Z"
   },
   {
    "duration": 24,
    "start_time": "2022-10-02T13:46:45.467Z"
   },
   {
    "duration": 7,
    "start_time": "2022-10-02T13:46:45.493Z"
   },
   {
    "duration": 9,
    "start_time": "2022-10-02T13:46:45.502Z"
   },
   {
    "duration": 7,
    "start_time": "2022-10-02T13:46:45.514Z"
   },
   {
    "duration": 7,
    "start_time": "2022-10-02T13:46:45.523Z"
   },
   {
    "duration": 7,
    "start_time": "2022-10-02T13:46:45.532Z"
   },
   {
    "duration": 27,
    "start_time": "2022-10-02T13:46:45.540Z"
   },
   {
    "duration": 32,
    "start_time": "2022-10-02T13:46:45.569Z"
   },
   {
    "duration": 6,
    "start_time": "2022-10-02T13:46:45.603Z"
   },
   {
    "duration": 67,
    "start_time": "2022-10-02T13:46:45.611Z"
   },
   {
    "duration": 7,
    "start_time": "2022-10-02T13:46:45.680Z"
   },
   {
    "duration": 6,
    "start_time": "2022-10-02T13:46:45.688Z"
   },
   {
    "duration": 358,
    "start_time": "2022-10-02T13:46:45.699Z"
   },
   {
    "duration": 7,
    "start_time": "2022-10-02T13:46:46.059Z"
   },
   {
    "duration": 372,
    "start_time": "2022-10-02T13:46:46.068Z"
   },
   {
    "duration": 697,
    "start_time": "2022-10-02T13:46:46.442Z"
   },
   {
    "duration": 5,
    "start_time": "2022-10-02T13:46:47.140Z"
   },
   {
    "duration": 699,
    "start_time": "2022-10-02T13:46:47.147Z"
   },
   {
    "duration": 35,
    "start_time": "2022-10-02T13:46:47.900Z"
   },
   {
    "duration": 489,
    "start_time": "2022-10-02T13:46:47.937Z"
   },
   {
    "duration": 327,
    "start_time": "2022-10-02T13:46:48.428Z"
   },
   {
    "duration": 163,
    "start_time": "2022-10-02T13:46:48.756Z"
   },
   {
    "duration": 5,
    "start_time": "2022-10-02T13:46:48.921Z"
   },
   {
    "duration": 165,
    "start_time": "2022-10-02T13:46:48.928Z"
   },
   {
    "duration": 8,
    "start_time": "2022-10-02T13:46:49.095Z"
   },
   {
    "duration": 161,
    "start_time": "2022-10-02T13:46:49.105Z"
   },
   {
    "duration": 4,
    "start_time": "2022-10-02T13:46:49.268Z"
   },
   {
    "duration": 162,
    "start_time": "2022-10-02T13:46:49.273Z"
   },
   {
    "duration": 4,
    "start_time": "2022-10-02T13:46:49.437Z"
   },
   {
    "duration": 168,
    "start_time": "2022-10-02T13:46:49.443Z"
   },
   {
    "duration": 5,
    "start_time": "2022-10-02T13:46:49.615Z"
   },
   {
    "duration": 169,
    "start_time": "2022-10-02T13:46:49.621Z"
   },
   {
    "duration": 4,
    "start_time": "2022-10-02T13:46:49.791Z"
   },
   {
    "duration": 179,
    "start_time": "2022-10-02T13:46:49.800Z"
   },
   {
    "duration": 22,
    "start_time": "2022-10-02T13:46:49.981Z"
   },
   {
    "duration": 18,
    "start_time": "2022-10-02T13:46:50.005Z"
   },
   {
    "duration": 181,
    "start_time": "2022-10-02T13:46:50.024Z"
   },
   {
    "duration": 17,
    "start_time": "2022-10-02T13:46:50.207Z"
   },
   {
    "duration": 13,
    "start_time": "2022-10-02T13:46:50.226Z"
   },
   {
    "duration": 13,
    "start_time": "2022-10-02T13:46:50.241Z"
   },
   {
    "duration": 171,
    "start_time": "2022-10-02T13:46:50.255Z"
   },
   {
    "duration": 13,
    "start_time": "2022-10-02T13:46:50.427Z"
   },
   {
    "duration": 25,
    "start_time": "2022-10-02T13:46:50.441Z"
   },
   {
    "duration": 13,
    "start_time": "2022-10-02T13:46:50.467Z"
   },
   {
    "duration": 263,
    "start_time": "2022-10-02T13:46:50.481Z"
   },
   {
    "duration": 13,
    "start_time": "2022-10-02T13:46:50.745Z"
   },
   {
    "duration": 7,
    "start_time": "2022-10-02T13:46:50.760Z"
   },
   {
    "duration": 12,
    "start_time": "2022-10-02T13:46:50.769Z"
   },
   {
    "duration": 30,
    "start_time": "2022-10-02T13:46:50.783Z"
   },
   {
    "duration": 3,
    "start_time": "2022-10-02T13:48:17.825Z"
   },
   {
    "duration": 54,
    "start_time": "2022-10-02T13:48:17.831Z"
   },
   {
    "duration": 15,
    "start_time": "2022-10-02T13:48:17.887Z"
   },
   {
    "duration": 20,
    "start_time": "2022-10-02T13:48:17.905Z"
   },
   {
    "duration": 4,
    "start_time": "2022-10-02T13:48:17.927Z"
   },
   {
    "duration": 11,
    "start_time": "2022-10-02T13:48:17.932Z"
   },
   {
    "duration": 7,
    "start_time": "2022-10-02T13:48:17.945Z"
   },
   {
    "duration": 8,
    "start_time": "2022-10-02T13:48:17.953Z"
   },
   {
    "duration": 8,
    "start_time": "2022-10-02T13:48:17.962Z"
   },
   {
    "duration": 33,
    "start_time": "2022-10-02T13:48:17.972Z"
   },
   {
    "duration": 19,
    "start_time": "2022-10-02T13:48:18.009Z"
   },
   {
    "duration": 4,
    "start_time": "2022-10-02T13:48:18.029Z"
   },
   {
    "duration": 6,
    "start_time": "2022-10-02T13:48:18.035Z"
   },
   {
    "duration": 4,
    "start_time": "2022-10-02T13:48:26.448Z"
   },
   {
    "duration": 4,
    "start_time": "2022-10-02T13:49:29.884Z"
   }
  ],
  "kernelspec": {
   "display_name": "Python 3 (ipykernel)",
   "language": "python",
   "name": "python3"
  },
  "language_info": {
   "codemirror_mode": {
    "name": "ipython",
    "version": 3
   },
   "file_extension": ".py",
   "mimetype": "text/x-python",
   "name": "python",
   "nbconvert_exporter": "python",
   "pygments_lexer": "ipython3",
   "version": "3.9.16"
  },
  "toc": {
   "base_numbering": 1,
   "nav_menu": {
    "height": "531px",
    "width": "264px"
   },
   "number_sections": true,
   "sideBar": true,
   "skip_h1_title": true,
   "title_cell": "Содержание",
   "title_sidebar": "Contents",
   "toc_cell": true,
   "toc_position": {
    "height": "559.2px",
    "left": "27px",
    "top": "110.525px",
    "width": "371.4px"
   },
   "toc_section_display": true,
   "toc_window_display": true
  }
 },
 "nbformat": 4,
 "nbformat_minor": 2
}
