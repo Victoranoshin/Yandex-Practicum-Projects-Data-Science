{
 "cells": [
  {
   "cell_type": "markdown",
   "metadata": {
    "toc": true
   },
   "source": [
    "<h1>Содержание<span class=\"tocSkip\"></span></h1>\n",
    "<div class=\"toc\"><ul class=\"toc-item\"><li><span><a href=\"#Условия-задачи\" data-toc-modified-id=\"Условия-задачи-1\"><span class=\"toc-item-num\">1&nbsp;&nbsp;</span>Условия задачи</a></span></li><li><span><a href=\"#Алгоритм-выполнения-проекта\" data-toc-modified-id=\"Алгоритм-выполнения-проекта-2\"><span class=\"toc-item-num\">2&nbsp;&nbsp;</span>Алгоритм выполнения проекта</a></span></li><li><span><a href=\"#Загрузка-и-подготовка-данных\" data-toc-modified-id=\"Загрузка-и-подготовка-данных-3\"><span class=\"toc-item-num\">3&nbsp;&nbsp;</span>Загрузка и подготовка данных</a></span></li><li><span><a href=\"#Обучение-и-проверка-модели\" data-toc-modified-id=\"Обучение-и-проверка-модели-4\"><span class=\"toc-item-num\">4&nbsp;&nbsp;</span>Обучение и проверка модели</a></span></li><li><span><a href=\"#Подготовка-к-расчёту-прибыли\" data-toc-modified-id=\"Подготовка-к-расчёту-прибыли-5\"><span class=\"toc-item-num\">5&nbsp;&nbsp;</span>Подготовка к расчёту прибыли</a></span></li><li><span><a href=\"#Расчёт-прибыли-и-рисков\" data-toc-modified-id=\"Расчёт-прибыли-и-рисков-6\"><span class=\"toc-item-num\">6&nbsp;&nbsp;</span>Расчёт прибыли и рисков</a></span></li><li><span><a href=\"#Выводы\" data-toc-modified-id=\"Выводы-7\"><span class=\"toc-item-num\">7&nbsp;&nbsp;</span>Выводы</a></span></li></ul></div>"
   ]
  },
  {
   "cell_type": "markdown",
   "metadata": {},
   "source": [
    "# Выбор локации для скважины"
   ]
  },
  {
   "cell_type": "markdown",
   "metadata": {},
   "source": [
    "Допустим, вы работаете в добывающей компании «ГлавРосГосНефть». Нужно решить, где бурить новую скважину.\n",
    "\n",
    "Вам предоставлены пробы нефти в трёх регионах: в каждом 10 000 месторождений, где измерили качество нефти и объём её запасов. Постройте модель машинного обучения, которая поможет определить регион, где добыча принесёт наибольшую прибыль. Проанализируйте возможную прибыль и риски.\n",
    "\n",
    "Шаги для выбора локации:\n",
    "\n",
    "- В избранном регионе ищут месторождения, для каждого определяют значения признаков;\n",
    "- Строят модель и оценивают объём запасов;\n",
    "- Выбирают месторождения с самым высокими оценками значений. Количество месторождений зависит от бюджета компании и стоимости разработки одной скважины;\n",
    "- Прибыль равна суммарной прибыли отобранных месторождений."
   ]
  },
  {
   "cell_type": "markdown",
   "metadata": {},
   "source": [
    "## Условия задачи\n",
    "1. Для обучения модели подходит только линейная регрессия (остальные — недостаточно предсказуемые).\n",
    "2. При разведке региона исследуют 500 точек, из которых с помощью машинного обучения выбирают 200 лучших для разработки.\n",
    "3. Бюджет на разработку скважин в регионе — 10 млрд рублей.\n",
    "4. При нынешних ценах один баррель сырья приносит 450 рублей дохода. Доход с каждой единицы продукта составляет 450 тыс. рублей, поскольку объём указан в тысячах баррелей.\n",
    "5. После оценки рисков нужно оставить лишь те регионы, в которых вероятность убытков меньше 2.5%. Среди них выбирают регион с наибольшей средней прибылью.\n",
    "Данные синтетические: детали контрактов и характеристики месторождений не разглашаются."
   ]
  },
  {
   "cell_type": "markdown",
   "metadata": {},
   "source": [
    "## Алгоритм выполнения проекта"
   ]
  },
  {
   "cell_type": "markdown",
   "metadata": {},
   "source": [
    "1. Загрузить и подготовить данные.\n",
    "2. Обучить и проверить модель для каждого региона:\n",
    "    1. Разбить данные на обучающую и валидационную выборки.\n",
    "    2. Обучить модель и сделайте предсказания на валидационной выборке.\n",
    "    3. Сохраните предсказания и правильные ответы на валидационной выборке.\n",
    "    4. Напечатать на экране средний запас предсказанного сырья и RMSE модели.\n",
    "    5. Проанализировать результаты.\n",
    "3. Подготовится к расчёту прибыли:\n",
    "    1. Все ключевые значения для расчётов сохранить в отдельных переменных.\n",
    "    2. Рассчитайть достаточный объём сырья для безубыточной разработки новой скважины. Сравнить полученный объём сырья со средним запасом в каждом регионе.\n",
    "    3. Напишисать выводы по этапу подготовки расчёта прибыли.\n",
    "4. Написать функцию для расчёта прибыли по выбранным скважинам и предсказаниям модели:\n",
    "    1. Выбрать скважины с максимальными значениями предсказаний.\n",
    "    2. Просуммировать целевое значение объёма сырья, соответствующее этим предсказаниям.\n",
    "    3. Рассчитайть прибыль для полученного объёма сырья.\n",
    "5. Посчитайть риски и прибыль для каждого региона:\n",
    "    1. Применить технику Bootstrap с 1000 выборок, чтобы найти распределение прибыли.\n",
    "    2. Найти среднюю прибыль, 95%-й доверительный интервал и риск убытков. Убыток — это отрицательная прибыль.\n",
    "    3. Написать выводы: предложить регион для разработки скважин и обосновать выбор."
   ]
  },
  {
   "cell_type": "markdown",
   "metadata": {},
   "source": [
    "## Загрузка и подготовка данных"
   ]
  },
  {
   "cell_type": "code",
   "execution_count": 5,
   "metadata": {},
   "outputs": [],
   "source": [
    "import pandas as pd\n",
    "import numpy as np\n",
    "import os\n",
    "import matplotlib.pyplot as plt\n",
    "import seaborn as sns\n",
    "from sklearn.linear_model import LinearRegression\n",
    "from sklearn.dummy import DummyClassifier\n",
    "from sklearn.preprocessing import StandardScaler\n",
    "from sklearn.model_selection import GridSearchCV, KFold, StratifiedKFold, cross_validate, cross_val_predict, train_test_split\n",
    "from sklearn.utils import shuffle\n",
    "from sklearn.metrics import mean_squared_error, make_scorer"
   ]
  },
  {
   "cell_type": "code",
   "execution_count": 6,
   "metadata": {},
   "outputs": [],
   "source": [
    "data_regions = []\n",
    "\n",
    "for i in range(3):\n",
    "    path = f'datasets/geo_data_{i}.csv'\n",
    "    if os.path.exists(path):\n",
    "        data_regions.append(pd.read_csv(path))\n",
    "    else:\n",
    "        print('Что-то пошло не так')"
   ]
  },
  {
   "cell_type": "code",
   "execution_count": 7,
   "metadata": {},
   "outputs": [
    {
     "name": "stdout",
     "output_type": "stream",
     "text": [
      "Регион 1\n",
      "Информация о данных\n",
      "<class 'pandas.core.frame.DataFrame'>\n",
      "RangeIndex: 100000 entries, 0 to 99999\n",
      "Data columns (total 5 columns):\n",
      " #   Column   Non-Null Count   Dtype  \n",
      "---  ------   --------------   -----  \n",
      " 0   id       100000 non-null  object \n",
      " 1   f0       100000 non-null  float64\n",
      " 2   f1       100000 non-null  float64\n",
      " 3   f2       100000 non-null  float64\n",
      " 4   product  100000 non-null  float64\n",
      "dtypes: float64(4), object(1)\n",
      "memory usage: 3.8+ MB\n"
     ]
    },
    {
     "data": {
      "text/plain": [
       "None"
      ]
     },
     "metadata": {},
     "output_type": "display_data"
    },
    {
     "name": "stdout",
     "output_type": "stream",
     "text": [
      "Первые пять записей\n"
     ]
    },
    {
     "data": {
      "text/html": [
       "<div>\n",
       "<style scoped>\n",
       "    .dataframe tbody tr th:only-of-type {\n",
       "        vertical-align: middle;\n",
       "    }\n",
       "\n",
       "    .dataframe tbody tr th {\n",
       "        vertical-align: top;\n",
       "    }\n",
       "\n",
       "    .dataframe thead th {\n",
       "        text-align: right;\n",
       "    }\n",
       "</style>\n",
       "<table border=\"1\" class=\"dataframe\">\n",
       "  <thead>\n",
       "    <tr style=\"text-align: right;\">\n",
       "      <th></th>\n",
       "      <th>id</th>\n",
       "      <th>f0</th>\n",
       "      <th>f1</th>\n",
       "      <th>f2</th>\n",
       "      <th>product</th>\n",
       "    </tr>\n",
       "  </thead>\n",
       "  <tbody>\n",
       "    <tr>\n",
       "      <th>0</th>\n",
       "      <td>txEyH</td>\n",
       "      <td>0.705745</td>\n",
       "      <td>-0.497823</td>\n",
       "      <td>1.221170</td>\n",
       "      <td>105.280062</td>\n",
       "    </tr>\n",
       "    <tr>\n",
       "      <th>1</th>\n",
       "      <td>2acmU</td>\n",
       "      <td>1.334711</td>\n",
       "      <td>-0.340164</td>\n",
       "      <td>4.365080</td>\n",
       "      <td>73.037750</td>\n",
       "    </tr>\n",
       "    <tr>\n",
       "      <th>2</th>\n",
       "      <td>409Wp</td>\n",
       "      <td>1.022732</td>\n",
       "      <td>0.151990</td>\n",
       "      <td>1.419926</td>\n",
       "      <td>85.265647</td>\n",
       "    </tr>\n",
       "    <tr>\n",
       "      <th>3</th>\n",
       "      <td>iJLyR</td>\n",
       "      <td>-0.032172</td>\n",
       "      <td>0.139033</td>\n",
       "      <td>2.978566</td>\n",
       "      <td>168.620776</td>\n",
       "    </tr>\n",
       "    <tr>\n",
       "      <th>4</th>\n",
       "      <td>Xdl7t</td>\n",
       "      <td>1.988431</td>\n",
       "      <td>0.155413</td>\n",
       "      <td>4.751769</td>\n",
       "      <td>154.036647</td>\n",
       "    </tr>\n",
       "  </tbody>\n",
       "</table>\n",
       "</div>"
      ],
      "text/plain": [
       "      id        f0        f1        f2     product\n",
       "0  txEyH  0.705745 -0.497823  1.221170  105.280062\n",
       "1  2acmU  1.334711 -0.340164  4.365080   73.037750\n",
       "2  409Wp  1.022732  0.151990  1.419926   85.265647\n",
       "3  iJLyR -0.032172  0.139033  2.978566  168.620776\n",
       "4  Xdl7t  1.988431  0.155413  4.751769  154.036647"
      ]
     },
     "metadata": {},
     "output_type": "display_data"
    },
    {
     "name": "stdout",
     "output_type": "stream",
     "text": [
      "Число дубликатов\n",
      "0\n",
      "Пустые значения\n",
      "id         0\n",
      "f0         0\n",
      "f1         0\n",
      "f2         0\n",
      "product    0\n",
      "dtype: int64\n",
      "Регион 2\n",
      "Информация о данных\n",
      "<class 'pandas.core.frame.DataFrame'>\n",
      "RangeIndex: 100000 entries, 0 to 99999\n",
      "Data columns (total 5 columns):\n",
      " #   Column   Non-Null Count   Dtype  \n",
      "---  ------   --------------   -----  \n",
      " 0   id       100000 non-null  object \n",
      " 1   f0       100000 non-null  float64\n",
      " 2   f1       100000 non-null  float64\n",
      " 3   f2       100000 non-null  float64\n",
      " 4   product  100000 non-null  float64\n",
      "dtypes: float64(4), object(1)\n",
      "memory usage: 3.8+ MB\n"
     ]
    },
    {
     "data": {
      "text/plain": [
       "None"
      ]
     },
     "metadata": {},
     "output_type": "display_data"
    },
    {
     "name": "stdout",
     "output_type": "stream",
     "text": [
      "Первые пять записей\n"
     ]
    },
    {
     "data": {
      "text/html": [
       "<div>\n",
       "<style scoped>\n",
       "    .dataframe tbody tr th:only-of-type {\n",
       "        vertical-align: middle;\n",
       "    }\n",
       "\n",
       "    .dataframe tbody tr th {\n",
       "        vertical-align: top;\n",
       "    }\n",
       "\n",
       "    .dataframe thead th {\n",
       "        text-align: right;\n",
       "    }\n",
       "</style>\n",
       "<table border=\"1\" class=\"dataframe\">\n",
       "  <thead>\n",
       "    <tr style=\"text-align: right;\">\n",
       "      <th></th>\n",
       "      <th>id</th>\n",
       "      <th>f0</th>\n",
       "      <th>f1</th>\n",
       "      <th>f2</th>\n",
       "      <th>product</th>\n",
       "    </tr>\n",
       "  </thead>\n",
       "  <tbody>\n",
       "    <tr>\n",
       "      <th>0</th>\n",
       "      <td>kBEdx</td>\n",
       "      <td>-15.001348</td>\n",
       "      <td>-8.276000</td>\n",
       "      <td>-0.005876</td>\n",
       "      <td>3.179103</td>\n",
       "    </tr>\n",
       "    <tr>\n",
       "      <th>1</th>\n",
       "      <td>62mP7</td>\n",
       "      <td>14.272088</td>\n",
       "      <td>-3.475083</td>\n",
       "      <td>0.999183</td>\n",
       "      <td>26.953261</td>\n",
       "    </tr>\n",
       "    <tr>\n",
       "      <th>2</th>\n",
       "      <td>vyE1P</td>\n",
       "      <td>6.263187</td>\n",
       "      <td>-5.948386</td>\n",
       "      <td>5.001160</td>\n",
       "      <td>134.766305</td>\n",
       "    </tr>\n",
       "    <tr>\n",
       "      <th>3</th>\n",
       "      <td>KcrkZ</td>\n",
       "      <td>-13.081196</td>\n",
       "      <td>-11.506057</td>\n",
       "      <td>4.999415</td>\n",
       "      <td>137.945408</td>\n",
       "    </tr>\n",
       "    <tr>\n",
       "      <th>4</th>\n",
       "      <td>AHL4O</td>\n",
       "      <td>12.702195</td>\n",
       "      <td>-8.147433</td>\n",
       "      <td>5.004363</td>\n",
       "      <td>134.766305</td>\n",
       "    </tr>\n",
       "  </tbody>\n",
       "</table>\n",
       "</div>"
      ],
      "text/plain": [
       "      id         f0         f1        f2     product\n",
       "0  kBEdx -15.001348  -8.276000 -0.005876    3.179103\n",
       "1  62mP7  14.272088  -3.475083  0.999183   26.953261\n",
       "2  vyE1P   6.263187  -5.948386  5.001160  134.766305\n",
       "3  KcrkZ -13.081196 -11.506057  4.999415  137.945408\n",
       "4  AHL4O  12.702195  -8.147433  5.004363  134.766305"
      ]
     },
     "metadata": {},
     "output_type": "display_data"
    },
    {
     "name": "stdout",
     "output_type": "stream",
     "text": [
      "Число дубликатов\n",
      "0\n",
      "Пустые значения\n",
      "id         0\n",
      "f0         0\n",
      "f1         0\n",
      "f2         0\n",
      "product    0\n",
      "dtype: int64\n",
      "Регион 3\n",
      "Информация о данных\n",
      "<class 'pandas.core.frame.DataFrame'>\n",
      "RangeIndex: 100000 entries, 0 to 99999\n",
      "Data columns (total 5 columns):\n",
      " #   Column   Non-Null Count   Dtype  \n",
      "---  ------   --------------   -----  \n",
      " 0   id       100000 non-null  object \n",
      " 1   f0       100000 non-null  float64\n",
      " 2   f1       100000 non-null  float64\n",
      " 3   f2       100000 non-null  float64\n",
      " 4   product  100000 non-null  float64\n",
      "dtypes: float64(4), object(1)\n",
      "memory usage: 3.8+ MB\n"
     ]
    },
    {
     "data": {
      "text/plain": [
       "None"
      ]
     },
     "metadata": {},
     "output_type": "display_data"
    },
    {
     "name": "stdout",
     "output_type": "stream",
     "text": [
      "Первые пять записей\n"
     ]
    },
    {
     "data": {
      "text/html": [
       "<div>\n",
       "<style scoped>\n",
       "    .dataframe tbody tr th:only-of-type {\n",
       "        vertical-align: middle;\n",
       "    }\n",
       "\n",
       "    .dataframe tbody tr th {\n",
       "        vertical-align: top;\n",
       "    }\n",
       "\n",
       "    .dataframe thead th {\n",
       "        text-align: right;\n",
       "    }\n",
       "</style>\n",
       "<table border=\"1\" class=\"dataframe\">\n",
       "  <thead>\n",
       "    <tr style=\"text-align: right;\">\n",
       "      <th></th>\n",
       "      <th>id</th>\n",
       "      <th>f0</th>\n",
       "      <th>f1</th>\n",
       "      <th>f2</th>\n",
       "      <th>product</th>\n",
       "    </tr>\n",
       "  </thead>\n",
       "  <tbody>\n",
       "    <tr>\n",
       "      <th>0</th>\n",
       "      <td>fwXo0</td>\n",
       "      <td>-1.146987</td>\n",
       "      <td>0.963328</td>\n",
       "      <td>-0.828965</td>\n",
       "      <td>27.758673</td>\n",
       "    </tr>\n",
       "    <tr>\n",
       "      <th>1</th>\n",
       "      <td>WJtFt</td>\n",
       "      <td>0.262778</td>\n",
       "      <td>0.269839</td>\n",
       "      <td>-2.530187</td>\n",
       "      <td>56.069697</td>\n",
       "    </tr>\n",
       "    <tr>\n",
       "      <th>2</th>\n",
       "      <td>ovLUW</td>\n",
       "      <td>0.194587</td>\n",
       "      <td>0.289035</td>\n",
       "      <td>-5.586433</td>\n",
       "      <td>62.871910</td>\n",
       "    </tr>\n",
       "    <tr>\n",
       "      <th>3</th>\n",
       "      <td>q6cA6</td>\n",
       "      <td>2.236060</td>\n",
       "      <td>-0.553760</td>\n",
       "      <td>0.930038</td>\n",
       "      <td>114.572842</td>\n",
       "    </tr>\n",
       "    <tr>\n",
       "      <th>4</th>\n",
       "      <td>WPMUX</td>\n",
       "      <td>-0.515993</td>\n",
       "      <td>1.716266</td>\n",
       "      <td>5.899011</td>\n",
       "      <td>149.600746</td>\n",
       "    </tr>\n",
       "  </tbody>\n",
       "</table>\n",
       "</div>"
      ],
      "text/plain": [
       "      id        f0        f1        f2     product\n",
       "0  fwXo0 -1.146987  0.963328 -0.828965   27.758673\n",
       "1  WJtFt  0.262778  0.269839 -2.530187   56.069697\n",
       "2  ovLUW  0.194587  0.289035 -5.586433   62.871910\n",
       "3  q6cA6  2.236060 -0.553760  0.930038  114.572842\n",
       "4  WPMUX -0.515993  1.716266  5.899011  149.600746"
      ]
     },
     "metadata": {},
     "output_type": "display_data"
    },
    {
     "name": "stdout",
     "output_type": "stream",
     "text": [
      "Число дубликатов\n",
      "0\n",
      "Пустые значения\n",
      "id         0\n",
      "f0         0\n",
      "f1         0\n",
      "f2         0\n",
      "product    0\n",
      "dtype: int64\n"
     ]
    }
   ],
   "source": [
    "ids = []\n",
    "for i in range(3):\n",
    "    print(f\"Регион {i+1}\")\n",
    "    print(\"Информация о данных\")\n",
    "    display(data_regions[i].info())\n",
    "    print(\"Первые пять записей\")\n",
    "    display(data_regions[i].head())\n",
    "    print(\"Число дубликатов\")\n",
    "    print(data_regions[i].duplicated().sum()) \n",
    "    print(\"Пустые значения\")\n",
    "    print(data_regions[i].isna().sum()) \n",
    "    ids.append(data_regions[i]['id'])\n",
    "    data_regions[i] = data_regions[i].drop('id', axis=1) "
   ]
  },
  {
   "cell_type": "markdown",
   "metadata": {},
   "source": [
    "**Вывод:** Менять типы данных не требуется, дубликатов нет, пропущенные значения отсутствуют."
   ]
  },
  {
   "cell_type": "markdown",
   "metadata": {},
   "source": [
    "## Обучение и проверка модели"
   ]
  },
  {
   "cell_type": "code",
   "execution_count": 8,
   "metadata": {},
   "outputs": [],
   "source": [
    "features_regions = []\n",
    "target_regions = []\n",
    "for i in range(3):\n",
    "    features_regions.append(data_regions[i].drop(['product'], axis=1))\n",
    "    target_regions.append(data_regions[i]['product']) \n",
    "    "
   ]
  },
  {
   "cell_type": "code",
   "execution_count": 9,
   "metadata": {},
   "outputs": [],
   "source": [
    "features_train_regions = []\n",
    "features_valid_regions = []\n",
    "target_train_regions = []\n",
    "target_valid_regions = []\n",
    "for i in range(3):\n",
    "    features_train, features_valid, target_train, target_valid = train_test_split(\n",
    "        features_regions[i], target_regions[i], test_size=0.25, random_state=12345)\n",
    "    features_train_regions.append(features_train)\n",
    "    features_valid_regions.append(features_valid)\n",
    "    target_train_regions.append(target_train)\n",
    "    target_valid_regions.append(target_valid.reset_index(drop=True))"
   ]
  },
  {
   "cell_type": "code",
   "execution_count": 10,
   "metadata": {},
   "outputs": [
    {
     "name": "stdout",
     "output_type": "stream",
     "text": [
      "(75000, 3) (25000, 3)\n"
     ]
    }
   ],
   "source": [
    "print(features_train_regions[0].shape, features_valid_regions[0].shape)"
   ]
  },
  {
   "cell_type": "code",
   "execution_count": 11,
   "metadata": {},
   "outputs": [],
   "source": [
    "scaler = StandardScaler() \n",
    "features_train_regions_tmp = []\n",
    "features_valid_regions_tmp = []\n",
    "for i in range(3):\n",
    "    scaler.fit(features_train_regions[i])\n",
    "    features_train_regions_tmp.append(scaler.transform(features_train_regions[i])) \n",
    "    features_valid_regions_tmp.append(scaler.transform(features_valid_regions[i]))\n"
   ]
  },
  {
   "cell_type": "code",
   "execution_count": 12,
   "metadata": {},
   "outputs": [
    {
     "name": "stdout",
     "output_type": "stream",
     "text": [
      "(75000, 3) (25000, 3)\n"
     ]
    }
   ],
   "source": [
    "print(features_train_regions_tmp[0].shape, features_valid_regions_tmp[0].shape)"
   ]
  },
  {
   "cell_type": "code",
   "execution_count": 13,
   "metadata": {},
   "outputs": [],
   "source": [
    "model = LinearRegression()\n",
    "predictions = [] \n",
    "RMSE_values = [] \n",
    "region_prediction_sum = [] \n",
    "mean_region_prediction = [] \n",
    "\n",
    "for k in range(3):\n",
    "    model.fit(features_train_regions_tmp[k], target_train_regions[k])\n",
    "    \n",
    "    predictions.append(pd.Series(model.predict(features_valid_regions_tmp[k])))\n",
    "    \n",
    "    \n",
    "    RMSE_values.append(mean_squared_error(target_valid_regions[k], predictions[k])**0.5)\n",
    "    region_prediction_sum.append(predictions[k].sum())\n",
    "    mean_region_prediction.append(predictions[k].mean())\n",
    "    "
   ]
  },
  {
   "cell_type": "code",
   "execution_count": 35,
   "metadata": {},
   "outputs": [
    {
     "data": {
      "image/png": "[encoded data removed]",
      "text/plain": [
       "<Figure size 1000x1200 with 3 Axes>"
      ]
     },
     "metadata": {},
     "output_type": "display_data"
    }
   ],
   "source": [
    "fig, axs = plt.subplots(nrows= 3 , ncols= 1, figsize=(15, 5))\n",
    "\n",
    "region_names = ['Регион 1', 'Регион 2', 'Регион 3']\n",
    "axs[0].barh(region_names, RMSE_values, color='slateblue')\n",
    "axs[1].barh(region_names, region_prediction_sum, color='slateblue')\n",
    "axs[2].barh(region_names, mean_region_prediction, color='slateblue')\n",
    "\n",
    "for k in range(3):\n",
    "    for i in axs[k].patches:\n",
    "        axs[k].text(i.get_width(), i.get_y()+0.4,\n",
    "                 str(round((i.get_width()), 2)),\n",
    "                 fontsize=9, fontweight='bold',\n",
    "                 color='black')\n",
    "    \n",
    "axs[0].set_title('Значение RMSE')\n",
    "axs[1].set_title('Запас предсказанного сырья в регионе')\n",
    "axs[2].set_title('Средний запас предсказанного сырья в регионе в скважине')\n",
    "\n",
    "fig.set_figheight(12)\n",
    "fig.set_figwidth(10)\n"
   ]
  },
  {
   "cell_type": "markdown",
   "metadata": {},
   "source": [
    "**Вывод:** Лучше всего модель делает предсказания для данных региона 2. Самое высокий запас сырья в регионе 3, а самый низкий в регионе 2."
   ]
  },
  {
   "cell_type": "markdown",
   "metadata": {},
   "source": [
    "## Подготовка к расчёту прибыли"
   ]
  },
  {
   "cell_type": "code",
   "execution_count": 36,
   "metadata": {},
   "outputs": [],
   "source": [
    "BUDGET = 10_000_000_000\n",
    "INCOME_PER_THOUSAND_BAREL = 450_000 \n",
    "NUMBER_OF_POINTS = 200 \n",
    "\n",
    "NEEDED_NUMBER_OF_PRODUCTS_PER_POINT = BUDGET / (NUMBER_OF_POINTS * INCOME_PER_THOUSAND_BAREL)\n"
   ]
  },
  {
   "cell_type": "code",
   "execution_count": 37,
   "metadata": {},
   "outputs": [
    {
     "name": "stdout",
     "output_type": "stream",
     "text": [
      "Нужное число продуктов в точке добычи для получения нулевого дохода: 111.11111111111111\n"
     ]
    }
   ],
   "source": [
    "print('Нужное число продуктов в точке добычи для получения нулевого дохода:', NEEDED_NUMBER_OF_PRODUCTS_PER_POINT)"
   ]
  },
  {
   "cell_type": "code",
   "execution_count": 38,
   "metadata": {},
   "outputs": [],
   "source": [
    "def income(predictions, valid, price, budget): \n",
    "    best_200_indexes = predictions.sort_values(ascending=False)[:200].index\n",
    "    best_200 = valid.loc[best_200_indexes]\n",
    "    return best_200.sum() * price - budget"
   ]
  },
  {
   "cell_type": "markdown",
   "metadata": {},
   "source": [
    "**Вывод:** Во всех регионах средний объем запасов недостаточно высокий для безубыточной деятельности."
   ]
  },
  {
   "cell_type": "markdown",
   "metadata": {},
   "source": [
    "## Расчёт прибыли и рисков "
   ]
  },
  {
   "cell_type": "code",
   "execution_count": 39,
   "metadata": {},
   "outputs": [
    {
     "name": "stdout",
     "output_type": "stream",
     "text": [
      "Риск убытков в 200 лучших точках из 500 выбранных в регионе 1: 6.9%\n",
      "Риск убытков в 200 лучших точках из 500 выбранных в регионе 2: 0.7%\n",
      "Риск убытков в 200 лучших точках из 500 выбранных в регионе 3: 6.5%\n"
     ]
    }
   ],
   "source": [
    "state = np.random.RandomState(12345)\n",
    "lowers = []\n",
    "uppers = []\n",
    "means =[]\n",
    "for k in range(3):\n",
    "    incomes = []\n",
    "    for i in range(1000):\n",
    "        subsample = predictions[k].sample(n=500, replace=True, random_state=state)\n",
    "        incomes.append(income(subsample, target_valid_regions[k], INCOME_PER_THOUSAND_BAREL, BUDGET))\n",
    "\n",
    "    incomes = pd.Series(incomes)  \n",
    "    \n",
    "   \n",
    "    means.append(incomes.mean()) \n",
    "    lower = incomes.quantile(0.025)\n",
    "    lowers.append(lower)\n",
    "    \n",
    "    upper = incomes.quantile(0.975)\n",
    "    uppers.append(upper)\n",
    "\n",
    "    print(f\"Риск убытков в 200 лучших точках из 500 выбранных в регионе {(k+1)}: {sum(incomes<0)*100/incomes.shape[0]}%\")"
   ]
  },
  {
   "cell_type": "code",
   "execution_count": 41,
   "metadata": {},
   "outputs": [
    {
     "data": {
      "image/png": "[encoded data removed]",
      "text/plain": [
       "<Figure size 1000x1400 with 3 Axes>"
      ]
     },
     "metadata": {},
     "output_type": "display_data"
    }
   ],
   "source": [
    "fig, axs = plt.subplots(nrows= 3 , ncols= 1, figsize=(15, 5))\n",
    "\n",
    "axs[0].barh(region_names, means, color='blue')\n",
    "axs[1].barh(region_names, lowers, color='blue')\n",
    "axs[2].barh(region_names, uppers, color='blue')\n",
    "\n",
    "for k in range(3):\n",
    "    for i in axs[k].patches:\n",
    "        axs[k].text(i.get_width(), i.get_y()+0.4,\n",
    "                 str(round((i.get_width()), 2)),\n",
    "                 fontsize=9, fontweight='bold',\n",
    "                 color='red')\n",
    "    \n",
    "axs[0].set_title('Среднее значение дохода для лучших 200 точек из 500 выбранных')\n",
    "axs[1].set_title('Нижняя граница 95% доверительного интервала для прибыли от лучших 200 точек из 500 выбранных')\n",
    "axs[2].set_title('Верхняя граница 95% доверительного интервала для прибыли от лучших 200 точек из 500 выбранных')\n",
    "\n",
    "fig.set_figheight(14)\n",
    "fig.set_figwidth(10)"
   ]
  },
  {
   "cell_type": "markdown",
   "metadata": {},
   "source": [
    "**Вывод:**\n",
    "В регионе 2 самая маленькая вероятность потерять деньги при разработке месторождения, среднее значение дохода самое большое. В регионе 2 самая высокая нижняя граница доверительного интервала, верхняя граница самая маленькая. При этом во всех регионах в 200 лучших точках вероятность потерять деньги ниже 7 %.\n",
    "\n",
    "Имеет смысл выбрать регион 2, в 200 лучших точках из 500 случайно выбранных там самая высокая прибыль, а вероятность потерять деньги самая маленькая. В отличии от остальных регионов, нижняя граница 95 % доверительного интервала положительная."
   ]
  },
  {
   "cell_type": "markdown",
   "metadata": {},
   "source": [
    "## Выводы"
   ]
  },
  {
   "cell_type": "markdown",
   "metadata": {},
   "source": [
    "1. Лучше всего модель делает предсказания для данных региона 2. Самое высокий запас сырья в регионе 3, а самый низкий во втором регионе.\n",
    "2. Во всех регионах средний объем запасов недостаточно высок для безубыточной деятельности.\n",
    "3. Имеет смысл выбрать регион 2, в 200 лучших точка там самая высокая прибыль, а вероятность потерять деньги самая маленькая, в отличии от остальных регионов, нижняя граница 95 % доверительного интервала положительная. "
   ]
  }
 ],
 "metadata": {
  "ExecuteTimeLog": [
   {
    "duration": 386,
    "start_time": "2022-11-25T18:13:41.969Z"
   },
   {
    "duration": 63,
    "start_time": "2022-11-25T18:14:54.521Z"
   },
   {
    "duration": 533,
    "start_time": "2022-11-25T18:15:03.193Z"
   },
   {
    "duration": 550,
    "start_time": "2022-11-25T18:15:26.825Z"
   },
   {
    "duration": 15,
    "start_time": "2022-11-25T18:15:47.777Z"
   },
   {
    "duration": 18,
    "start_time": "2022-11-25T18:16:02.938Z"
   },
   {
    "duration": 12,
    "start_time": "2022-11-25T18:16:03.867Z"
   },
   {
    "duration": 13,
    "start_time": "2022-11-25T18:16:06.563Z"
   },
   {
    "duration": 14,
    "start_time": "2022-11-25T18:16:28.347Z"
   },
   {
    "duration": 13,
    "start_time": "2022-11-25T18:16:32.012Z"
   },
   {
    "duration": 8,
    "start_time": "2022-11-25T18:23:38.836Z"
   },
   {
    "duration": 9,
    "start_time": "2022-11-25T18:23:45.335Z"
   },
   {
    "duration": 9,
    "start_time": "2022-11-25T18:23:51.790Z"
   },
   {
    "duration": 11,
    "start_time": "2022-11-25T18:24:58.757Z"
   },
   {
    "duration": 9,
    "start_time": "2022-11-25T18:25:03.468Z"
   },
   {
    "duration": 7,
    "start_time": "2022-11-25T18:25:09.903Z"
   },
   {
    "duration": 50,
    "start_time": "2022-11-25T18:26:03.806Z"
   },
   {
    "duration": 44,
    "start_time": "2022-11-25T18:26:08.301Z"
   },
   {
    "duration": 48,
    "start_time": "2022-11-25T18:26:11.874Z"
   },
   {
    "duration": 9,
    "start_time": "2022-11-25T18:26:38.668Z"
   },
   {
    "duration": 46,
    "start_time": "2022-11-25T18:26:44.771Z"
   },
   {
    "duration": 45,
    "start_time": "2022-11-25T18:26:53.431Z"
   },
   {
    "duration": 45,
    "start_time": "2022-11-25T18:27:01.042Z"
   },
   {
    "duration": 46,
    "start_time": "2022-11-25T18:27:05.374Z"
   },
   {
    "duration": 16,
    "start_time": "2022-11-25T18:28:33.594Z"
   },
   {
    "duration": 10,
    "start_time": "2022-11-25T18:28:37.871Z"
   },
   {
    "duration": 9,
    "start_time": "2022-11-25T18:28:59.191Z"
   },
   {
    "duration": 10,
    "start_time": "2022-11-25T18:28:59.791Z"
   },
   {
    "duration": 1171,
    "start_time": "2022-11-25T20:06:11.597Z"
   },
   {
    "duration": 367,
    "start_time": "2022-11-25T20:06:13.005Z"
   },
   {
    "duration": 16,
    "start_time": "2022-11-25T20:06:13.925Z"
   },
   {
    "duration": 10,
    "start_time": "2022-11-25T20:06:14.592Z"
   },
   {
    "duration": 14,
    "start_time": "2022-11-25T20:06:15.253Z"
   },
   {
    "duration": 9,
    "start_time": "2022-11-25T20:06:15.805Z"
   },
   {
    "duration": 15,
    "start_time": "2022-11-25T20:06:16.157Z"
   },
   {
    "duration": 9,
    "start_time": "2022-11-25T20:06:16.365Z"
   },
   {
    "duration": 44,
    "start_time": "2022-11-25T20:06:16.524Z"
   },
   {
    "duration": 37,
    "start_time": "2022-11-25T20:06:17.003Z"
   },
   {
    "duration": 39,
    "start_time": "2022-11-25T20:06:17.510Z"
   },
   {
    "duration": 10,
    "start_time": "2022-11-25T20:06:17.795Z"
   },
   {
    "duration": 10,
    "start_time": "2022-11-25T20:06:18.020Z"
   },
   {
    "duration": 11,
    "start_time": "2022-11-25T20:06:18.244Z"
   },
   {
    "duration": 11,
    "start_time": "2022-11-25T20:10:08.213Z"
   },
   {
    "duration": 382,
    "start_time": "2022-11-25T20:41:11.546Z"
   },
   {
    "duration": 113,
    "start_time": "2022-11-25T20:43:27.302Z"
   },
   {
    "duration": 190,
    "start_time": "2022-11-25T20:43:43.888Z"
   },
   {
    "duration": 185,
    "start_time": "2022-11-25T20:45:26.101Z"
   },
   {
    "duration": 217,
    "start_time": "2022-11-25T20:45:33.764Z"
   },
   {
    "duration": 235,
    "start_time": "2022-11-25T20:45:59.579Z"
   },
   {
    "duration": 312,
    "start_time": "2022-11-25T20:47:52.393Z"
   },
   {
    "duration": 206,
    "start_time": "2022-11-25T20:48:23.092Z"
   },
   {
    "duration": 231,
    "start_time": "2022-11-25T20:48:29.523Z"
   },
   {
    "duration": 53,
    "start_time": "2022-11-25T20:49:42.390Z"
   },
   {
    "duration": 226,
    "start_time": "2022-11-25T20:49:54.718Z"
   },
   {
    "duration": 14,
    "start_time": "2022-11-25T20:58:08.040Z"
   },
   {
    "duration": 4,
    "start_time": "2022-11-25T21:03:53.808Z"
   },
   {
    "duration": 371,
    "start_time": "2022-11-25T21:03:54.176Z"
   },
   {
    "duration": 228,
    "start_time": "2022-11-25T21:03:54.873Z"
   },
   {
    "duration": 73,
    "start_time": "2022-11-25T21:04:13.507Z"
   },
   {
    "duration": 3,
    "start_time": "2022-11-25T21:04:18.618Z"
   },
   {
    "duration": 434,
    "start_time": "2022-11-25T21:04:19.010Z"
   },
   {
    "duration": 241,
    "start_time": "2022-11-25T21:04:19.451Z"
   },
   {
    "duration": 13,
    "start_time": "2022-11-25T21:04:21.098Z"
   },
   {
    "duration": 10,
    "start_time": "2022-11-25T21:04:21.785Z"
   },
   {
    "duration": 10,
    "start_time": "2022-11-25T21:08:49.972Z"
   },
   {
    "duration": 4,
    "start_time": "2022-11-25T21:09:20.315Z"
   },
   {
    "duration": 384,
    "start_time": "2022-11-25T21:09:21.602Z"
   },
   {
    "duration": 256,
    "start_time": "2022-11-25T21:09:21.990Z"
   },
   {
    "duration": 8,
    "start_time": "2022-11-25T21:09:23.465Z"
   },
   {
    "duration": 22,
    "start_time": "2022-11-25T21:09:24.074Z"
   },
   {
    "duration": 15,
    "start_time": "2022-11-25T21:11:40.988Z"
   },
   {
    "duration": 19,
    "start_time": "2022-11-25T21:11:57.012Z"
   },
   {
    "duration": 5,
    "start_time": "2022-11-25T21:12:37.535Z"
   },
   {
    "duration": 5,
    "start_time": "2022-11-25T21:12:53.211Z"
   },
   {
    "duration": 6,
    "start_time": "2022-11-25T21:17:53.263Z"
   },
   {
    "duration": 8,
    "start_time": "2022-11-25T21:17:53.724Z"
   },
   {
    "duration": 24,
    "start_time": "2022-11-25T21:18:08.993Z"
   },
   {
    "duration": 11,
    "start_time": "2022-11-25T21:20:40.221Z"
   },
   {
    "duration": 20,
    "start_time": "2022-11-25T21:20:52.309Z"
   },
   {
    "duration": 4,
    "start_time": "2022-11-25T21:21:36.638Z"
   },
   {
    "duration": 405,
    "start_time": "2022-11-25T21:21:36.645Z"
   },
   {
    "duration": 248,
    "start_time": "2022-11-25T21:21:37.052Z"
   },
   {
    "duration": 10,
    "start_time": "2022-11-25T21:21:37.302Z"
   },
   {
    "duration": 30,
    "start_time": "2022-11-25T21:21:55.806Z"
   },
   {
    "duration": 16,
    "start_time": "2022-11-25T21:23:48.790Z"
   },
   {
    "duration": 19,
    "start_time": "2022-11-25T21:24:05.486Z"
   },
   {
    "duration": 28,
    "start_time": "2022-11-25T21:24:13.310Z"
   },
   {
    "duration": 22,
    "start_time": "2022-11-25T21:24:39.110Z"
   },
   {
    "duration": 21,
    "start_time": "2022-11-25T21:24:46.486Z"
   },
   {
    "duration": 20,
    "start_time": "2022-11-25T21:24:54.197Z"
   },
   {
    "duration": 20,
    "start_time": "2022-11-25T21:28:00.351Z"
   },
   {
    "duration": 4,
    "start_time": "2022-11-25T21:28:18.984Z"
   },
   {
    "duration": 413,
    "start_time": "2022-11-25T21:28:18.990Z"
   },
   {
    "duration": 277,
    "start_time": "2022-11-25T21:28:19.405Z"
   },
   {
    "duration": 8,
    "start_time": "2022-11-25T21:28:19.685Z"
   },
   {
    "duration": 6,
    "start_time": "2022-11-25T21:28:20.926Z"
   },
   {
    "duration": 27,
    "start_time": "2022-11-25T21:28:21.687Z"
   },
   {
    "duration": 29,
    "start_time": "2022-11-25T21:28:49.977Z"
   },
   {
    "duration": 29,
    "start_time": "2022-11-25T21:29:02.598Z"
   },
   {
    "duration": 27,
    "start_time": "2022-11-25T21:29:12.950Z"
   },
   {
    "duration": 22,
    "start_time": "2022-11-25T21:29:22.799Z"
   },
   {
    "duration": 23,
    "start_time": "2022-11-25T21:29:39.374Z"
   },
   {
    "duration": 24,
    "start_time": "2022-11-25T21:29:48.556Z"
   },
   {
    "duration": 35,
    "start_time": "2022-11-25T21:30:48.726Z"
   },
   {
    "duration": 3,
    "start_time": "2022-11-25T22:11:38.775Z"
   },
   {
    "duration": 4,
    "start_time": "2022-11-25T22:30:34.139Z"
   },
   {
    "duration": 11,
    "start_time": "2022-11-25T22:33:35.130Z"
   },
   {
    "duration": 10,
    "start_time": "2022-11-25T22:34:07.467Z"
   },
   {
    "duration": 10,
    "start_time": "2022-11-25T22:34:55.410Z"
   },
   {
    "duration": 1352,
    "start_time": "2022-11-25T22:35:18.982Z"
   },
   {
    "duration": 4,
    "start_time": "2022-11-25T22:36:07.674Z"
   },
   {
    "duration": 394,
    "start_time": "2022-11-25T22:36:07.681Z"
   },
   {
    "duration": 262,
    "start_time": "2022-11-25T22:36:08.076Z"
   },
   {
    "duration": 8,
    "start_time": "2022-11-25T22:36:08.340Z"
   },
   {
    "duration": 7,
    "start_time": "2022-11-25T22:36:11.870Z"
   },
   {
    "duration": 23,
    "start_time": "2022-11-25T22:36:12.642Z"
   },
   {
    "duration": 1201,
    "start_time": "2022-11-25T22:36:13.537Z"
   },
   {
    "duration": 1704,
    "start_time": "2022-11-25T22:37:33.437Z"
   },
   {
    "duration": 1505,
    "start_time": "2022-11-25T22:37:42.034Z"
   },
   {
    "duration": 4,
    "start_time": "2022-11-25T22:54:26.219Z"
   },
   {
    "duration": 364,
    "start_time": "2022-11-25T22:54:26.225Z"
   },
   {
    "duration": 256,
    "start_time": "2022-11-25T22:54:26.591Z"
   },
   {
    "duration": 8,
    "start_time": "2022-11-25T22:54:26.849Z"
   },
   {
    "duration": 31,
    "start_time": "2022-11-25T22:54:26.859Z"
   },
   {
    "duration": 24,
    "start_time": "2022-11-25T22:54:30.963Z"
   },
   {
    "duration": 1197,
    "start_time": "2022-11-25T22:54:31.639Z"
   },
   {
    "duration": 1254,
    "start_time": "2022-11-25T22:56:28.684Z"
   },
   {
    "duration": 1274,
    "start_time": "2022-11-25T22:56:38.270Z"
   },
   {
    "duration": 1314,
    "start_time": "2022-11-25T22:56:54.226Z"
   },
   {
    "duration": 1599,
    "start_time": "2022-11-25T22:57:16.842Z"
   },
   {
    "duration": 4,
    "start_time": "2022-11-25T22:58:21.010Z"
   },
   {
    "duration": 381,
    "start_time": "2022-11-25T22:58:21.015Z"
   },
   {
    "duration": 239,
    "start_time": "2022-11-25T22:58:21.397Z"
   },
   {
    "duration": 8,
    "start_time": "2022-11-25T22:58:21.638Z"
   },
   {
    "duration": 29,
    "start_time": "2022-11-25T22:58:21.648Z"
   },
   {
    "duration": 6,
    "start_time": "2022-11-25T22:58:33.809Z"
   },
   {
    "duration": 6,
    "start_time": "2022-11-25T22:58:37.363Z"
   },
   {
    "duration": 6,
    "start_time": "2022-11-25T22:58:39.526Z"
   },
   {
    "duration": 1272,
    "start_time": "2022-11-25T22:59:48.569Z"
   },
   {
    "duration": 16,
    "start_time": "2022-11-25T23:00:09.977Z"
   },
   {
    "duration": 1414,
    "start_time": "2022-11-25T23:00:16.328Z"
   },
   {
    "duration": 1163,
    "start_time": "2022-11-25T23:02:07.578Z"
   },
   {
    "duration": 1311,
    "start_time": "2022-11-25T23:02:37.633Z"
   },
   {
    "duration": 1375,
    "start_time": "2022-11-25T23:03:27.562Z"
   },
   {
    "duration": 1229,
    "start_time": "2022-11-25T23:03:43.513Z"
   },
   {
    "duration": 1213,
    "start_time": "2022-11-25T23:03:55.729Z"
   },
   {
    "duration": 344,
    "start_time": "2022-11-25T23:04:30.193Z"
   },
   {
    "duration": 1255,
    "start_time": "2022-11-25T23:04:33.582Z"
   },
   {
    "duration": 1046,
    "start_time": "2022-11-25T23:05:18.098Z"
   },
   {
    "duration": 124,
    "start_time": "2022-11-25T23:06:07.523Z"
   },
   {
    "duration": 1216,
    "start_time": "2022-11-25T23:06:15.327Z"
   },
   {
    "duration": 4,
    "start_time": "2022-11-25T23:08:18.906Z"
   },
   {
    "duration": 371,
    "start_time": "2022-11-25T23:08:19.360Z"
   },
   {
    "duration": 234,
    "start_time": "2022-11-25T23:08:19.930Z"
   },
   {
    "duration": 9,
    "start_time": "2022-11-25T23:08:39.802Z"
   },
   {
    "duration": 23,
    "start_time": "2022-11-25T23:08:41.026Z"
   },
   {
    "duration": 1379,
    "start_time": "2022-11-25T23:08:42.259Z"
   },
   {
    "duration": 3,
    "start_time": "2022-11-25T23:17:04.837Z"
   },
   {
    "duration": 10,
    "start_time": "2022-11-25T23:18:01.974Z"
   },
   {
    "duration": 1305,
    "start_time": "2022-11-25T23:25:59.336Z"
   },
   {
    "duration": 10,
    "start_time": "2022-11-25T23:26:06.599Z"
   },
   {
    "duration": 10,
    "start_time": "2022-11-25T23:26:13.598Z"
   },
   {
    "duration": 3,
    "start_time": "2022-11-25T23:26:26.802Z"
   },
   {
    "duration": 10,
    "start_time": "2022-11-25T23:26:33.895Z"
   },
   {
    "duration": 1352,
    "start_time": "2022-11-25T23:28:35.496Z"
   },
   {
    "duration": 558,
    "start_time": "2022-11-25T23:29:36.879Z"
   },
   {
    "duration": 40,
    "start_time": "2022-11-25T23:29:40.348Z"
   },
   {
    "duration": 1586,
    "start_time": "2022-11-25T23:29:43.059Z"
   },
   {
    "duration": 1464,
    "start_time": "2022-11-25T23:33:23.980Z"
   },
   {
    "duration": 8,
    "start_time": "2022-11-25T23:33:49.040Z"
   },
   {
    "duration": 4,
    "start_time": "2022-11-25T23:33:51.818Z"
   },
   {
    "duration": 413,
    "start_time": "2022-11-25T23:51:17.825Z"
   },
   {
    "duration": 345,
    "start_time": "2022-11-25T23:51:37.494Z"
   },
   {
    "duration": 457,
    "start_time": "2022-11-25T23:52:17.383Z"
   },
   {
    "duration": 340,
    "start_time": "2022-11-25T23:55:14.503Z"
   },
   {
    "duration": 327,
    "start_time": "2022-11-25T23:55:54.910Z"
   },
   {
    "duration": 3,
    "start_time": "2022-11-25T23:56:04.646Z"
   },
   {
    "duration": 464,
    "start_time": "2022-11-25T23:57:32.273Z"
   },
   {
    "duration": 436,
    "start_time": "2022-11-25T23:57:58.007Z"
   },
   {
    "duration": 436,
    "start_time": "2022-11-25T23:58:50.404Z"
   },
   {
    "duration": 7,
    "start_time": "2022-11-25T23:59:02.677Z"
   },
   {
    "duration": 8,
    "start_time": "2022-11-25T23:59:10.265Z"
   },
   {
    "duration": 8,
    "start_time": "2022-11-25T23:59:16.641Z"
   },
   {
    "duration": 8,
    "start_time": "2022-11-25T23:59:22.666Z"
   },
   {
    "duration": 421,
    "start_time": "2022-11-26T00:00:30.821Z"
   },
   {
    "duration": 417,
    "start_time": "2022-11-26T00:01:02.920Z"
   },
   {
    "duration": 494,
    "start_time": "2022-11-26T00:01:26.944Z"
   },
   {
    "duration": 1415,
    "start_time": "2022-11-26T00:01:31.421Z"
   },
   {
    "duration": 1152,
    "start_time": "2022-11-26T00:01:46.792Z"
   },
   {
    "duration": 16,
    "start_time": "2022-11-26T00:04:32.389Z"
   },
   {
    "duration": 515,
    "start_time": "2022-11-26T00:04:48.922Z"
   },
   {
    "duration": 438,
    "start_time": "2022-11-26T00:05:12.808Z"
   },
   {
    "duration": 499,
    "start_time": "2022-11-26T00:05:28.545Z"
   },
   {
    "duration": 1426,
    "start_time": "2022-11-26T00:05:51.610Z"
   },
   {
    "duration": 10,
    "start_time": "2022-11-26T00:07:03.386Z"
   },
   {
    "duration": 501,
    "start_time": "2022-11-26T00:07:26.543Z"
   },
   {
    "duration": 1513,
    "start_time": "2022-11-26T00:07:38.624Z"
   },
   {
    "duration": 1459,
    "start_time": "2022-11-26T00:07:47.177Z"
   },
   {
    "duration": 1233,
    "start_time": "2022-11-26T00:18:43.005Z"
   },
   {
    "duration": 1622,
    "start_time": "2022-11-26T00:25:45.623Z"
   },
   {
    "duration": 1511,
    "start_time": "2022-11-26T00:26:23.029Z"
   },
   {
    "duration": 1658,
    "start_time": "2022-11-26T00:30:49.785Z"
   },
   {
    "duration": 1604,
    "start_time": "2022-11-26T00:31:22.433Z"
   },
   {
    "duration": 1602,
    "start_time": "2022-11-26T00:32:18.735Z"
   },
   {
    "duration": 1696,
    "start_time": "2022-11-26T00:37:15.640Z"
   },
   {
    "duration": 3,
    "start_time": "2022-11-26T00:40:26.610Z"
   },
   {
    "duration": 405,
    "start_time": "2022-11-26T00:40:26.615Z"
   },
   {
    "duration": 231,
    "start_time": "2022-11-26T00:40:27.022Z"
   },
   {
    "duration": 6,
    "start_time": "2022-11-26T00:40:27.255Z"
   },
   {
    "duration": 29,
    "start_time": "2022-11-26T00:40:27.263Z"
   },
   {
    "duration": 4,
    "start_time": "2022-11-26T00:40:27.294Z"
   },
   {
    "duration": 1537,
    "start_time": "2022-11-26T00:40:27.299Z"
   },
   {
    "duration": 1587,
    "start_time": "2022-11-26T16:22:57.817Z"
   },
   {
    "duration": 1607,
    "start_time": "2022-11-26T16:22:59.407Z"
   },
   {
    "duration": 253,
    "start_time": "2022-11-26T16:23:01.016Z"
   },
   {
    "duration": 11,
    "start_time": "2022-11-26T16:23:01.271Z"
   },
   {
    "duration": 53,
    "start_time": "2022-11-26T16:23:01.285Z"
   },
   {
    "duration": 6,
    "start_time": "2022-11-26T16:23:01.339Z"
   },
   {
    "duration": 1614,
    "start_time": "2022-11-26T16:23:01.346Z"
   },
   {
    "duration": 7,
    "start_time": "2022-11-26T18:26:10.542Z"
   },
   {
    "duration": 976,
    "start_time": "2022-11-26T18:26:10.554Z"
   },
   {
    "duration": 277,
    "start_time": "2022-11-26T18:26:11.532Z"
   },
   {
    "duration": 12,
    "start_time": "2022-11-26T18:26:11.812Z"
   },
   {
    "duration": 69,
    "start_time": "2022-11-26T18:26:11.828Z"
   },
   {
    "duration": 5,
    "start_time": "2022-11-26T18:26:11.900Z"
   },
   {
    "duration": 1055,
    "start_time": "2022-11-26T18:26:11.906Z"
   },
   {
    "duration": 4,
    "start_time": "2022-11-26T21:34:17.053Z"
   },
   {
    "duration": 3,
    "start_time": "2022-11-26T21:40:22.494Z"
   },
   {
    "duration": 3,
    "start_time": "2022-11-26T21:40:23.070Z"
   },
   {
    "duration": 101,
    "start_time": "2022-11-26T21:45:18.033Z"
   },
   {
    "duration": 3,
    "start_time": "2022-11-26T21:45:24.513Z"
   },
   {
    "duration": 79,
    "start_time": "2022-11-26T21:48:21.923Z"
   },
   {
    "duration": 18,
    "start_time": "2022-11-26T21:48:27.043Z"
   },
   {
    "duration": 3,
    "start_time": "2022-11-26T21:51:24.745Z"
   },
   {
    "duration": 19,
    "start_time": "2022-11-26T21:51:26.812Z"
   },
   {
    "duration": 5,
    "start_time": "2022-11-26T21:57:47.372Z"
   },
   {
    "duration": 3,
    "start_time": "2022-11-26T21:57:53.433Z"
   },
   {
    "duration": 3,
    "start_time": "2022-11-26T22:18:58.343Z"
   },
   {
    "duration": 3,
    "start_time": "2022-11-26T22:18:58.830Z"
   },
   {
    "duration": 18,
    "start_time": "2022-11-26T22:18:59.368Z"
   },
   {
    "duration": 2,
    "start_time": "2022-11-26T22:28:08.032Z"
   },
   {
    "duration": 2,
    "start_time": "2022-11-26T22:32:07.298Z"
   },
   {
    "duration": 12,
    "start_time": "2022-11-26T23:05:04.134Z"
   },
   {
    "duration": 5,
    "start_time": "2022-11-26T23:06:46.673Z"
   },
   {
    "duration": 3,
    "start_time": "2022-11-26T23:08:00.524Z"
   },
   {
    "duration": 355,
    "start_time": "2022-11-26T23:08:00.529Z"
   },
   {
    "duration": 213,
    "start_time": "2022-11-26T23:08:00.886Z"
   },
   {
    "duration": 6,
    "start_time": "2022-11-26T23:08:01.101Z"
   },
   {
    "duration": 44,
    "start_time": "2022-11-26T23:08:01.109Z"
   },
   {
    "duration": 4,
    "start_time": "2022-11-26T23:08:01.155Z"
   },
   {
    "duration": 4,
    "start_time": "2022-11-26T23:08:06.469Z"
   },
   {
    "duration": 1257,
    "start_time": "2022-11-26T23:08:07.400Z"
   },
   {
    "duration": 1239,
    "start_time": "2022-11-26T23:08:13.025Z"
   },
   {
    "duration": 3,
    "start_time": "2022-11-26T23:08:18.448Z"
   },
   {
    "duration": 4,
    "start_time": "2022-11-26T23:08:18.984Z"
   },
   {
    "duration": 19,
    "start_time": "2022-11-26T23:08:19.544Z"
   },
   {
    "duration": 3,
    "start_time": "2022-11-26T23:08:20.069Z"
   },
   {
    "duration": 395,
    "start_time": "2022-11-26T23:08:21.899Z"
   },
   {
    "duration": 394,
    "start_time": "2022-11-26T23:08:36.912Z"
   },
   {
    "duration": 394,
    "start_time": "2022-11-26T23:10:16.254Z"
   },
   {
    "duration": 394,
    "start_time": "2022-11-26T23:11:23.407Z"
   },
   {
    "duration": 401,
    "start_time": "2022-11-26T23:11:35.227Z"
   },
   {
    "duration": 4,
    "start_time": "2022-11-26T23:11:43.756Z"
   },
   {
    "duration": 390,
    "start_time": "2022-11-26T23:13:09.123Z"
   },
   {
    "duration": 18,
    "start_time": "2022-11-26T23:15:49.004Z"
   },
   {
    "duration": 415,
    "start_time": "2022-11-26T23:15:54.702Z"
   },
   {
    "duration": 382,
    "start_time": "2022-11-26T23:16:05.746Z"
   },
   {
    "duration": 56,
    "start_time": "2022-11-26T23:19:51.979Z"
   },
   {
    "duration": 4,
    "start_time": "2022-11-26T23:20:00.893Z"
   },
   {
    "duration": 394,
    "start_time": "2022-11-26T23:21:40.216Z"
   },
   {
    "duration": 1175,
    "start_time": "2022-11-26T23:22:23.704Z"
   },
   {
    "duration": 1190,
    "start_time": "2022-11-26T23:23:03.786Z"
   },
   {
    "duration": 1471,
    "start_time": "2022-11-26T23:56:04.787Z"
   },
   {
    "duration": 115,
    "start_time": "2022-11-27T00:07:38.263Z"
   },
   {
    "duration": 114,
    "start_time": "2022-11-27T00:10:14.840Z"
   },
   {
    "duration": 86,
    "start_time": "2022-11-27T00:10:25.207Z"
   },
   {
    "duration": 74,
    "start_time": "2022-11-27T00:10:35.740Z"
   },
   {
    "duration": 85,
    "start_time": "2022-11-27T00:11:04.191Z"
   },
   {
    "duration": 148,
    "start_time": "2022-11-27T00:11:13.207Z"
   },
   {
    "duration": 69,
    "start_time": "2022-11-27T00:11:33.759Z"
   },
   {
    "duration": 206,
    "start_time": "2022-11-27T00:14:57.552Z"
   },
   {
    "duration": 195,
    "start_time": "2022-11-27T00:15:23.239Z"
   },
   {
    "duration": 213,
    "start_time": "2022-11-27T00:15:57.575Z"
   },
   {
    "duration": 205,
    "start_time": "2022-11-27T00:16:06.144Z"
   },
   {
    "duration": 198,
    "start_time": "2022-11-27T00:16:20.489Z"
   },
   {
    "duration": 202,
    "start_time": "2022-11-27T00:16:31.920Z"
   },
   {
    "duration": 197,
    "start_time": "2022-11-27T00:17:39.937Z"
   },
   {
    "duration": 299,
    "start_time": "2022-11-27T00:19:06.587Z"
   },
   {
    "duration": 225,
    "start_time": "2022-11-27T00:19:14.193Z"
   },
   {
    "duration": 201,
    "start_time": "2022-11-27T00:21:36.856Z"
   },
   {
    "duration": 212,
    "start_time": "2022-11-27T00:22:56.278Z"
   },
   {
    "duration": 177,
    "start_time": "2022-11-27T00:23:05.922Z"
   },
   {
    "duration": 215,
    "start_time": "2022-11-27T00:23:16.218Z"
   },
   {
    "duration": 314,
    "start_time": "2022-11-27T00:23:55.890Z"
   },
   {
    "duration": 223,
    "start_time": "2022-11-27T00:24:02.456Z"
   },
   {
    "duration": 316,
    "start_time": "2022-11-27T00:24:23.690Z"
   },
   {
    "duration": 315,
    "start_time": "2022-11-27T00:24:42.065Z"
   },
   {
    "duration": 216,
    "start_time": "2022-11-27T00:25:53.298Z"
   },
   {
    "duration": 258,
    "start_time": "2022-11-27T00:26:32.226Z"
   },
   {
    "duration": 320,
    "start_time": "2022-11-27T00:26:39.547Z"
   },
   {
    "duration": 350,
    "start_time": "2022-11-27T00:28:44.412Z"
   },
   {
    "duration": 319,
    "start_time": "2022-11-27T00:28:55.668Z"
   },
   {
    "duration": 217,
    "start_time": "2022-11-27T00:29:11.283Z"
   },
   {
    "duration": 204,
    "start_time": "2022-11-27T00:30:15.611Z"
   },
   {
    "duration": 224,
    "start_time": "2022-11-27T00:30:49.715Z"
   },
   {
    "duration": 285,
    "start_time": "2022-11-27T00:31:26.654Z"
   },
   {
    "duration": 189,
    "start_time": "2022-11-27T00:31:39.236Z"
   },
   {
    "duration": 186,
    "start_time": "2022-11-27T00:31:49.163Z"
   },
   {
    "duration": 184,
    "start_time": "2022-11-27T00:31:53.571Z"
   },
   {
    "duration": 449,
    "start_time": "2022-11-27T00:32:01.163Z"
   },
   {
    "duration": 232,
    "start_time": "2022-11-27T00:32:05.115Z"
   },
   {
    "duration": 238,
    "start_time": "2022-11-27T00:34:13.588Z"
   },
   {
    "duration": 349,
    "start_time": "2022-11-27T00:34:30.300Z"
   },
   {
    "duration": 270,
    "start_time": "2022-11-27T00:34:48.667Z"
   },
   {
    "duration": 256,
    "start_time": "2022-11-27T00:34:57.555Z"
   },
   {
    "duration": 245,
    "start_time": "2022-11-27T00:35:03.772Z"
   },
   {
    "duration": 262,
    "start_time": "2022-11-27T00:35:14.589Z"
   },
   {
    "duration": 249,
    "start_time": "2022-11-27T00:37:19.630Z"
   },
   {
    "duration": 347,
    "start_time": "2022-11-27T00:37:32.757Z"
   },
   {
    "duration": 298,
    "start_time": "2022-11-27T00:37:42.348Z"
   },
   {
    "duration": 252,
    "start_time": "2022-11-27T00:38:08.038Z"
   },
   {
    "duration": 1185,
    "start_time": "2022-11-27T00:39:09.070Z"
   },
   {
    "duration": 257,
    "start_time": "2022-11-27T00:39:10.257Z"
   },
   {
    "duration": 18,
    "start_time": "2022-11-27T00:42:02.198Z"
   },
   {
    "duration": 235,
    "start_time": "2022-11-27T00:47:01.448Z"
   },
   {
    "duration": 264,
    "start_time": "2022-11-27T00:47:13.936Z"
   },
   {
    "duration": 368,
    "start_time": "2022-11-27T00:47:43.856Z"
   },
   {
    "duration": 262,
    "start_time": "2022-11-27T00:47:59.225Z"
   },
   {
    "duration": 265,
    "start_time": "2022-11-27T00:48:16.429Z"
   },
   {
    "duration": 292,
    "start_time": "2022-11-27T00:48:24.359Z"
   },
   {
    "duration": 260,
    "start_time": "2022-11-27T00:49:49.699Z"
   },
   {
    "duration": 268,
    "start_time": "2022-11-27T00:50:05.040Z"
   },
   {
    "duration": 371,
    "start_time": "2022-11-27T00:50:25.591Z"
   },
   {
    "duration": 302,
    "start_time": "2022-11-27T00:50:44.622Z"
   },
   {
    "duration": 263,
    "start_time": "2022-11-27T00:50:51.614Z"
   },
   {
    "duration": 264,
    "start_time": "2022-11-27T00:51:06.405Z"
   },
   {
    "duration": 261,
    "start_time": "2022-11-27T00:51:14.721Z"
   },
   {
    "duration": 261,
    "start_time": "2022-11-27T00:51:19.603Z"
   },
   {
    "duration": 381,
    "start_time": "2022-11-27T00:51:25.097Z"
   },
   {
    "duration": 273,
    "start_time": "2022-11-27T00:51:43.645Z"
   },
   {
    "duration": 262,
    "start_time": "2022-11-27T00:51:54.822Z"
   },
   {
    "duration": 260,
    "start_time": "2022-11-27T00:52:23.526Z"
   },
   {
    "duration": 296,
    "start_time": "2022-11-27T00:52:28.206Z"
   },
   {
    "duration": 75,
    "start_time": "2022-11-27T00:53:06.698Z"
   },
   {
    "duration": 384,
    "start_time": "2022-11-27T00:53:11.278Z"
   },
   {
    "duration": 332,
    "start_time": "2022-11-27T00:57:46.783Z"
   },
   {
    "duration": 294,
    "start_time": "2022-11-27T00:57:54.911Z"
   },
   {
    "duration": 1194,
    "start_time": "2022-11-27T01:30:11.655Z"
   },
   {
    "duration": 1198,
    "start_time": "2022-11-27T01:30:55.288Z"
   },
   {
    "duration": 290,
    "start_time": "2022-11-27T01:32:58.357Z"
   },
   {
    "duration": 299,
    "start_time": "2022-11-27T01:33:35.505Z"
   },
   {
    "duration": 3,
    "start_time": "2022-11-27T01:33:55.876Z"
   },
   {
    "duration": 338,
    "start_time": "2022-11-27T01:33:55.881Z"
   },
   {
    "duration": 208,
    "start_time": "2022-11-27T01:33:56.220Z"
   },
   {
    "duration": 7,
    "start_time": "2022-11-27T01:33:56.430Z"
   },
   {
    "duration": 35,
    "start_time": "2022-11-27T01:33:56.438Z"
   },
   {
    "duration": 4,
    "start_time": "2022-11-27T01:33:56.475Z"
   },
   {
    "duration": 1283,
    "start_time": "2022-11-27T01:33:56.481Z"
   },
   {
    "duration": 374,
    "start_time": "2022-11-27T01:33:57.766Z"
   },
   {
    "duration": 3,
    "start_time": "2022-11-27T01:33:58.142Z"
   },
   {
    "duration": 4,
    "start_time": "2022-11-27T01:33:58.152Z"
   },
   {
    "duration": 7,
    "start_time": "2022-11-27T01:33:58.157Z"
   },
   {
    "duration": 1273,
    "start_time": "2022-11-27T01:33:58.166Z"
   },
   {
    "duration": 408,
    "start_time": "2022-11-27T01:33:59.441Z"
   },
   {
    "duration": 1447,
    "start_time": "2022-11-27T08:07:16.485Z"
   },
   {
    "duration": 740,
    "start_time": "2022-11-27T08:07:17.934Z"
   },
   {
    "duration": 224,
    "start_time": "2022-11-27T08:07:18.675Z"
   },
   {
    "duration": 8,
    "start_time": "2022-11-27T08:07:18.900Z"
   },
   {
    "duration": 39,
    "start_time": "2022-11-27T08:07:18.911Z"
   },
   {
    "duration": 5,
    "start_time": "2022-11-27T08:07:18.952Z"
   },
   {
    "duration": 1438,
    "start_time": "2022-11-27T08:07:18.959Z"
   },
   {
    "duration": 274,
    "start_time": "2022-11-27T08:07:20.399Z"
   },
   {
    "duration": 2,
    "start_time": "2022-11-27T08:07:20.675Z"
   },
   {
    "duration": 8,
    "start_time": "2022-11-27T08:07:20.679Z"
   },
   {
    "duration": 11,
    "start_time": "2022-11-27T08:07:20.688Z"
   },
   {
    "duration": 490,
    "start_time": "2022-11-27T08:08:08.867Z"
   },
   {
    "duration": 1093,
    "start_time": "2022-11-27T08:08:15.563Z"
   },
   {
    "duration": 1112,
    "start_time": "2022-11-27T08:09:30.938Z"
   },
   {
    "duration": 285,
    "start_time": "2022-11-27T08:10:39.159Z"
   },
   {
    "duration": 362,
    "start_time": "2022-11-27T08:10:57.963Z"
   },
   {
    "duration": 1158,
    "start_time": "2022-11-27T08:26:44.399Z"
   },
   {
    "duration": 1085,
    "start_time": "2022-11-27T08:26:56.070Z"
   },
   {
    "duration": 1118,
    "start_time": "2022-11-27T08:27:09.409Z"
   },
   {
    "duration": 1148,
    "start_time": "2022-11-27T08:27:25.290Z"
   },
   {
    "duration": 1117,
    "start_time": "2022-11-27T08:28:00.395Z"
   },
   {
    "duration": 3,
    "start_time": "2022-11-27T08:34:32.812Z"
   },
   {
    "duration": 360,
    "start_time": "2022-11-27T08:34:32.817Z"
   },
   {
    "duration": 235,
    "start_time": "2022-11-27T08:34:33.179Z"
   },
   {
    "duration": 7,
    "start_time": "2022-11-27T08:34:33.415Z"
   },
   {
    "duration": 26,
    "start_time": "2022-11-27T08:34:33.424Z"
   },
   {
    "duration": 4,
    "start_time": "2022-11-27T08:34:33.451Z"
   },
   {
    "duration": 1056,
    "start_time": "2022-11-27T08:34:33.456Z"
   },
   {
    "duration": 348,
    "start_time": "2022-11-27T08:34:34.599Z"
   },
   {
    "duration": 3,
    "start_time": "2022-11-27T08:34:34.949Z"
   },
   {
    "duration": 7,
    "start_time": "2022-11-27T08:34:34.953Z"
   },
   {
    "duration": 5,
    "start_time": "2022-11-27T08:34:34.961Z"
   },
   {
    "duration": 1224,
    "start_time": "2022-11-27T08:34:34.967Z"
   },
   {
    "duration": 340,
    "start_time": "2022-11-27T08:34:36.196Z"
   },
   {
    "duration": 2042,
    "start_time": "2022-11-28T07:15:03.616Z"
   },
   {
    "duration": 729,
    "start_time": "2022-11-28T07:15:05.661Z"
   },
   {
    "duration": 222,
    "start_time": "2022-11-28T07:15:06.392Z"
   },
   {
    "duration": 9,
    "start_time": "2022-11-28T07:15:06.615Z"
   },
   {
    "duration": 28,
    "start_time": "2022-11-28T07:15:06.626Z"
   },
   {
    "duration": 4,
    "start_time": "2022-11-28T07:15:06.656Z"
   },
   {
    "duration": 1340,
    "start_time": "2022-11-28T07:15:06.662Z"
   },
   {
    "duration": 345,
    "start_time": "2022-11-28T07:15:08.004Z"
   },
   {
    "duration": 3,
    "start_time": "2022-11-28T07:15:08.351Z"
   },
   {
    "duration": 17,
    "start_time": "2022-11-28T07:15:08.355Z"
   },
   {
    "duration": 31,
    "start_time": "2022-11-28T07:15:08.373Z"
   },
   {
    "duration": 1139,
    "start_time": "2022-11-28T07:15:08.406Z"
   },
   {
    "duration": 328,
    "start_time": "2022-11-28T07:15:09.547Z"
   },
   {
    "duration": 1705,
    "start_time": "2022-11-28T12:35:37.635Z"
   },
   {
    "duration": 3,
    "start_time": "2022-11-28T12:41:25.602Z"
   },
   {
    "duration": 7,
    "start_time": "2022-11-28T12:41:39.220Z"
   },
   {
    "duration": 3,
    "start_time": "2022-11-28T12:41:49.494Z"
   },
   {
    "duration": 3,
    "start_time": "2022-11-28T12:43:34.983Z"
   },
   {
    "duration": 181,
    "start_time": "2022-11-28T12:44:29.407Z"
   },
   {
    "duration": 54,
    "start_time": "2022-11-28T12:45:01.272Z"
   },
   {
    "duration": 96,
    "start_time": "2022-11-28T12:46:49.345Z"
   },
   {
    "duration": 87,
    "start_time": "2022-11-28T12:52:33.317Z"
   },
   {
    "duration": 1909,
    "start_time": "2022-11-28T13:06:29.594Z"
   },
   {
    "duration": 1521,
    "start_time": "2022-12-03T09:54:53.494Z"
   },
   {
    "duration": 602,
    "start_time": "2022-12-03T09:54:55.017Z"
   },
   {
    "duration": 231,
    "start_time": "2022-12-03T09:54:59.733Z"
   },
   {
    "duration": 978,
    "start_time": "2022-12-03T09:55:14.669Z"
   },
   {
    "duration": 351,
    "start_time": "2022-12-03T09:55:28.067Z"
   },
   {
    "duration": 198,
    "start_time": "2022-12-03T09:55:29.252Z"
   },
   {
    "duration": 11,
    "start_time": "2022-12-03T10:00:52.383Z"
   },
   {
    "duration": 10,
    "start_time": "2022-12-03T10:00:52.886Z"
   },
   {
    "duration": 26,
    "start_time": "2022-12-03T10:01:23.373Z"
   },
   {
    "duration": 8,
    "start_time": "2022-12-03T10:01:25.536Z"
   },
   {
    "duration": 28,
    "start_time": "2022-12-03T10:01:26.141Z"
   },
   {
    "duration": 12,
    "start_time": "2022-12-03T10:01:34.269Z"
   },
   {
    "duration": 26,
    "start_time": "2022-12-03T10:01:45.390Z"
   },
   {
    "duration": 13,
    "start_time": "2022-12-03T10:02:16.494Z"
   },
   {
    "duration": 9,
    "start_time": "2022-12-03T10:19:02.692Z"
   },
   {
    "duration": 24,
    "start_time": "2022-12-03T10:19:04.976Z"
   },
   {
    "duration": 9,
    "start_time": "2022-12-03T10:19:05.576Z"
   },
   {
    "duration": 66,
    "start_time": "2022-12-03T10:19:10.603Z"
   },
   {
    "duration": 9,
    "start_time": "2022-12-03T10:19:13.807Z"
   },
   {
    "duration": 8,
    "start_time": "2022-12-03T10:19:22.209Z"
   },
   {
    "duration": 8,
    "start_time": "2022-12-03T10:19:26.562Z"
   },
   {
    "duration": 4,
    "start_time": "2022-12-03T10:20:32.924Z"
   },
   {
    "duration": 26,
    "start_time": "2022-12-03T10:24:52.323Z"
   },
   {
    "duration": 3,
    "start_time": "2022-12-03T10:25:58.874Z"
   },
   {
    "duration": 118,
    "start_time": "2022-12-03T10:44:14.488Z"
   },
   {
    "duration": 68,
    "start_time": "2022-12-03T10:51:52.730Z"
   },
   {
    "duration": 51,
    "start_time": "2022-12-03T10:52:09.647Z"
   },
   {
    "duration": 22,
    "start_time": "2022-12-03T10:52:53.766Z"
   },
   {
    "duration": 32,
    "start_time": "2022-12-03T10:52:58.281Z"
   },
   {
    "duration": 339,
    "start_time": "2022-12-03T10:53:49.834Z"
   },
   {
    "duration": 27,
    "start_time": "2022-12-03T10:56:03.291Z"
   },
   {
    "duration": 4,
    "start_time": "2022-12-03T10:56:05.649Z"
   },
   {
    "duration": 25,
    "start_time": "2022-12-03T10:56:06.673Z"
   },
   {
    "duration": 317,
    "start_time": "2022-12-03T10:56:08.226Z"
   },
   {
    "duration": 5,
    "start_time": "2022-12-03T10:56:38.639Z"
   },
   {
    "duration": 391,
    "start_time": "2022-12-03T10:56:38.646Z"
   },
   {
    "duration": 325,
    "start_time": "2022-12-03T10:56:39.039Z"
   },
   {
    "duration": 7,
    "start_time": "2022-12-03T10:56:40.730Z"
   },
   {
    "duration": 24,
    "start_time": "2022-12-03T10:56:41.166Z"
   },
   {
    "duration": 4,
    "start_time": "2022-12-03T10:56:41.546Z"
   },
   {
    "duration": 27,
    "start_time": "2022-12-03T10:56:41.953Z"
   },
   {
    "duration": 4,
    "start_time": "2022-12-03T10:56:42.850Z"
   },
   {
    "duration": 46,
    "start_time": "2022-12-03T10:56:43.354Z"
   },
   {
    "duration": 354,
    "start_time": "2022-12-03T10:56:44.313Z"
   },
   {
    "duration": 4,
    "start_time": "2022-12-03T11:07:14.896Z"
   },
   {
    "duration": 370,
    "start_time": "2022-12-03T11:07:14.902Z"
   },
   {
    "duration": 230,
    "start_time": "2022-12-03T11:07:15.274Z"
   },
   {
    "duration": 7,
    "start_time": "2022-12-03T11:07:15.507Z"
   },
   {
    "duration": 36,
    "start_time": "2022-12-03T11:07:15.516Z"
   },
   {
    "duration": 4,
    "start_time": "2022-12-03T11:07:15.553Z"
   },
   {
    "duration": 42,
    "start_time": "2022-12-03T11:07:15.558Z"
   },
   {
    "duration": 3,
    "start_time": "2022-12-03T11:07:15.602Z"
   },
   {
    "duration": 92,
    "start_time": "2022-12-03T11:07:15.607Z"
   },
   {
    "duration": 530,
    "start_time": "2022-12-03T11:07:15.700Z"
   },
   {
    "duration": 3,
    "start_time": "2022-12-03T11:07:16.231Z"
   },
   {
    "duration": 7,
    "start_time": "2022-12-03T11:07:16.235Z"
   },
   {
    "duration": 4,
    "start_time": "2022-12-03T11:16:04.278Z"
   },
   {
    "duration": 13,
    "start_time": "2022-12-03T11:16:06.803Z"
   },
   {
    "duration": 105,
    "start_time": "2022-12-03T11:17:34.095Z"
   },
   {
    "duration": 310,
    "start_time": "2022-12-03T11:17:37.208Z"
   },
   {
    "duration": 3,
    "start_time": "2022-12-03T11:17:38.550Z"
   },
   {
    "duration": 4,
    "start_time": "2022-12-03T11:17:39.003Z"
   },
   {
    "duration": 3,
    "start_time": "2022-12-03T11:17:39.919Z"
   },
   {
    "duration": 13,
    "start_time": "2022-12-03T11:17:51.008Z"
   },
   {
    "duration": 4,
    "start_time": "2022-12-03T11:20:17.250Z"
   },
   {
    "duration": 6,
    "start_time": "2022-12-03T11:20:30.923Z"
   },
   {
    "duration": 5,
    "start_time": "2022-12-03T11:21:35.971Z"
   },
   {
    "duration": 5,
    "start_time": "2022-12-03T11:21:50.770Z"
   },
   {
    "duration": 86,
    "start_time": "2022-12-03T11:32:30.114Z"
   },
   {
    "duration": 4,
    "start_time": "2022-12-03T11:32:35.813Z"
   },
   {
    "duration": 420,
    "start_time": "2022-12-03T11:32:35.819Z"
   },
   {
    "duration": 220,
    "start_time": "2022-12-03T11:32:36.241Z"
   },
   {
    "duration": 8,
    "start_time": "2022-12-03T11:32:36.462Z"
   },
   {
    "duration": 47,
    "start_time": "2022-12-03T11:32:36.471Z"
   },
   {
    "duration": 4,
    "start_time": "2022-12-03T11:32:36.520Z"
   },
   {
    "duration": 31,
    "start_time": "2022-12-03T11:32:36.525Z"
   },
   {
    "duration": 4,
    "start_time": "2022-12-03T11:32:36.558Z"
   },
   {
    "duration": 140,
    "start_time": "2022-12-03T11:32:36.563Z"
   },
   {
    "duration": 95,
    "start_time": "2022-12-03T11:32:36.705Z"
   },
   {
    "duration": 6,
    "start_time": "2022-12-03T11:32:43.426Z"
   },
   {
    "duration": 4,
    "start_time": "2022-12-03T11:33:59.854Z"
   },
   {
    "duration": 374,
    "start_time": "2022-12-03T11:33:59.860Z"
   },
   {
    "duration": 239,
    "start_time": "2022-12-03T11:34:00.236Z"
   },
   {
    "duration": 23,
    "start_time": "2022-12-03T11:34:00.477Z"
   },
   {
    "duration": 51,
    "start_time": "2022-12-03T11:34:00.502Z"
   },
   {
    "duration": 7,
    "start_time": "2022-12-03T11:34:00.555Z"
   },
   {
    "duration": 68,
    "start_time": "2022-12-03T11:34:00.564Z"
   },
   {
    "duration": 9,
    "start_time": "2022-12-03T11:34:00.634Z"
   },
   {
    "duration": 151,
    "start_time": "2022-12-03T11:34:00.645Z"
   },
   {
    "duration": 117,
    "start_time": "2022-12-03T11:34:00.799Z"
   },
   {
    "duration": 6,
    "start_time": "2022-12-03T11:34:06.690Z"
   },
   {
    "duration": 5,
    "start_time": "2022-12-03T11:34:07.570Z"
   },
   {
    "duration": 289,
    "start_time": "2022-12-03T11:34:24.281Z"
   },
   {
    "duration": 354,
    "start_time": "2022-12-03T11:34:33.042Z"
   },
   {
    "duration": 3,
    "start_time": "2022-12-03T11:34:34.521Z"
   },
   {
    "duration": 4,
    "start_time": "2022-12-03T11:34:35.393Z"
   },
   {
    "duration": 14,
    "start_time": "2022-12-03T11:34:36.393Z"
   },
   {
    "duration": 14,
    "start_time": "2022-12-03T11:34:45.698Z"
   },
   {
    "duration": 14,
    "start_time": "2022-12-03T11:35:24.114Z"
   },
   {
    "duration": 3885,
    "start_time": "2022-12-03T11:38:33.882Z"
   },
   {
    "duration": 2035,
    "start_time": "2022-12-03T11:38:55.300Z"
   },
   {
    "duration": 1968,
    "start_time": "2022-12-03T11:39:38.498Z"
   },
   {
    "duration": 662,
    "start_time": "2022-12-03T11:40:44.342Z"
   },
   {
    "duration": 2024,
    "start_time": "2022-12-03T11:40:49.709Z"
   },
   {
    "duration": 4,
    "start_time": "2022-12-03T11:41:51.268Z"
   },
   {
    "duration": 4086,
    "start_time": "2022-12-03T11:41:52.810Z"
   },
   {
    "duration": 4,
    "start_time": "2022-12-03T11:42:36.411Z"
   },
   {
    "duration": 2041,
    "start_time": "2022-12-03T11:42:38.364Z"
   },
   {
    "duration": 3,
    "start_time": "2022-12-03T11:42:46.188Z"
   },
   {
    "duration": 2074,
    "start_time": "2022-12-03T11:42:47.770Z"
   },
   {
    "duration": 4,
    "start_time": "2022-12-03T11:43:00.856Z"
   },
   {
    "duration": 4,
    "start_time": "2022-12-03T11:43:09.469Z"
   },
   {
    "duration": 2075,
    "start_time": "2022-12-03T11:43:14.140Z"
   },
   {
    "duration": 2035,
    "start_time": "2022-12-03T11:43:20.579Z"
   },
   {
    "duration": 3,
    "start_time": "2022-12-03T11:43:31.348Z"
   },
   {
    "duration": 2010,
    "start_time": "2022-12-03T11:43:33.603Z"
   },
   {
    "duration": 1998,
    "start_time": "2022-12-03T11:43:46.187Z"
   },
   {
    "duration": 2155,
    "start_time": "2022-12-03T11:45:09.636Z"
   },
   {
    "duration": 473,
    "start_time": "2022-12-03T11:45:45.668Z"
   },
   {
    "duration": 328,
    "start_time": "2022-12-03T11:49:28.289Z"
   },
   {
    "duration": 3,
    "start_time": "2022-12-03T12:04:08.463Z"
   },
   {
    "duration": 2041,
    "start_time": "2022-12-03T12:13:40.850Z"
   },
   {
    "duration": 4,
    "start_time": "2022-12-03T12:22:58.857Z"
   },
   {
    "duration": 350,
    "start_time": "2022-12-03T12:22:58.863Z"
   },
   {
    "duration": 225,
    "start_time": "2022-12-03T12:22:59.215Z"
   },
   {
    "duration": 8,
    "start_time": "2022-12-03T12:22:59.442Z"
   },
   {
    "duration": 46,
    "start_time": "2022-12-03T12:22:59.453Z"
   },
   {
    "duration": 4,
    "start_time": "2022-12-03T12:22:59.501Z"
   },
   {
    "duration": 29,
    "start_time": "2022-12-03T12:22:59.506Z"
   },
   {
    "duration": 3,
    "start_time": "2022-12-03T12:22:59.537Z"
   },
   {
    "duration": 155,
    "start_time": "2022-12-03T12:22:59.542Z"
   },
   {
    "duration": 393,
    "start_time": "2022-12-03T12:22:59.699Z"
   },
   {
    "duration": 4,
    "start_time": "2022-12-03T12:23:00.096Z"
   },
   {
    "duration": 27,
    "start_time": "2022-12-03T12:23:00.101Z"
   },
   {
    "duration": 38,
    "start_time": "2022-12-03T12:23:00.130Z"
   },
   {
    "duration": 2099,
    "start_time": "2022-12-03T12:23:00.170Z"
   },
   {
    "duration": 341,
    "start_time": "2022-12-03T12:23:02.271Z"
   },
   {
    "duration": 1452,
    "start_time": "2022-12-03T15:10:31.160Z"
   },
   {
    "duration": 761,
    "start_time": "2022-12-03T15:10:32.614Z"
   },
   {
    "duration": 240,
    "start_time": "2022-12-03T15:10:33.377Z"
   },
   {
    "duration": 13,
    "start_time": "2022-12-03T15:10:33.621Z"
   },
   {
    "duration": 44,
    "start_time": "2022-12-03T15:10:33.636Z"
   },
   {
    "duration": 4,
    "start_time": "2022-12-03T15:10:33.682Z"
   },
   {
    "duration": 35,
    "start_time": "2022-12-03T15:10:33.688Z"
   },
   {
    "duration": 4,
    "start_time": "2022-12-03T15:10:33.725Z"
   },
   {
    "duration": 98,
    "start_time": "2022-12-03T15:10:33.731Z"
   },
   {
    "duration": 538,
    "start_time": "2022-12-03T15:10:33.832Z"
   },
   {
    "duration": 3,
    "start_time": "2022-12-03T15:10:34.372Z"
   },
   {
    "duration": 7,
    "start_time": "2022-12-03T15:10:34.376Z"
   },
   {
    "duration": 8,
    "start_time": "2022-12-03T15:10:34.384Z"
   },
   {
    "duration": 2078,
    "start_time": "2022-12-03T15:10:34.393Z"
   },
   {
    "duration": 398,
    "start_time": "2022-12-03T15:10:36.473Z"
   },
   {
    "duration": 1460,
    "start_time": "2022-12-03T22:39:41.250Z"
   },
   {
    "duration": 618,
    "start_time": "2022-12-03T22:41:59.887Z"
   },
   {
    "duration": 4,
    "start_time": "2022-12-03T23:04:20.729Z"
   },
   {
    "duration": 380,
    "start_time": "2022-12-03T23:04:20.734Z"
   },
   {
    "duration": 222,
    "start_time": "2022-12-03T23:04:21.115Z"
   },
   {
    "duration": 9,
    "start_time": "2022-12-03T23:04:21.339Z"
   },
   {
    "duration": 39,
    "start_time": "2022-12-03T23:04:21.349Z"
   },
   {
    "duration": 3,
    "start_time": "2022-12-03T23:04:21.390Z"
   },
   {
    "duration": 44,
    "start_time": "2022-12-03T23:04:21.395Z"
   },
   {
    "duration": 2,
    "start_time": "2022-12-03T23:04:21.441Z"
   },
   {
    "duration": 183,
    "start_time": "2022-12-03T23:04:21.445Z"
   },
   {
    "duration": 488,
    "start_time": "2022-12-03T23:04:21.629Z"
   },
   {
    "duration": 3,
    "start_time": "2022-12-03T23:04:22.119Z"
   },
   {
    "duration": 7,
    "start_time": "2022-12-03T23:04:22.123Z"
   },
   {
    "duration": 17,
    "start_time": "2022-12-03T23:04:22.132Z"
   },
   {
    "duration": 1848,
    "start_time": "2022-12-03T23:04:22.151Z"
   },
   {
    "duration": 303,
    "start_time": "2022-12-03T23:04:24.001Z"
   }
  ],
  "kernelspec": {
   "display_name": "Python 3 (ipykernel)",
   "language": "python",
   "name": "python3"
  },
  "language_info": {
   "codemirror_mode": {
    "name": "ipython",
    "version": 3
   },
   "file_extension": ".py",
   "mimetype": "text/x-python",
   "name": "python",
   "nbconvert_exporter": "python",
   "pygments_lexer": "ipython3",
   "version": "3.9.16"
  },
  "toc": {
   "base_numbering": 1,
   "nav_menu": {
    "height": "237px",
    "width": "240px"
   },
   "number_sections": true,
   "sideBar": true,
   "skip_h1_title": true,
   "title_cell": "Содержание",
   "title_sidebar": "Contents",
   "toc_cell": true,
   "toc_position": {
    "height": "calc(100% - 180px)",
    "left": "10px",
    "top": "150px",
    "width": "165px"
   },
   "toc_section_display": true,
   "toc_window_display": true
  }
 },
 "nbformat": 4,
 "nbformat_minor": 2
}
