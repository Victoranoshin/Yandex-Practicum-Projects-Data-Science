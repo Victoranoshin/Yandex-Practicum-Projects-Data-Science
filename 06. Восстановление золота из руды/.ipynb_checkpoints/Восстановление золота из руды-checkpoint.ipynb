{
 "cells": [
  {
   "cell_type": "markdown",
   "metadata": {
    "toc": true
   },
   "source": [
    "<h1>Содержание<span class=\"tocSkip\"></span></h1>\n",
    "<div class=\"toc\"><ul class=\"toc-item\"><li><span><a href=\"#Подготовка-данных\" data-toc-modified-id=\"Подготовка-данных-1\"><span class=\"toc-item-num\">1&nbsp;&nbsp;</span>Подготовка данных</a></span></li><li><span><a href=\"#Анализ-данных\" data-toc-modified-id=\"Анализ-данных-2\"><span class=\"toc-item-num\">2&nbsp;&nbsp;</span>Анализ данных</a></span></li><li><span><a href=\"#Модель\" data-toc-modified-id=\"Модель-3\"><span class=\"toc-item-num\">3&nbsp;&nbsp;</span>Модель</a></span><ul class=\"toc-item\"><li><span><a href=\"#Линейная-регрессия\" data-toc-modified-id=\"Линейная-регрессия-3.1\"><span class=\"toc-item-num\">3.1&nbsp;&nbsp;</span>Линейная регрессия</a></span></li><li><span><a href=\"#Случайный-лес\" data-toc-modified-id=\"Случайный-лес-3.2\"><span class=\"toc-item-num\">3.2&nbsp;&nbsp;</span>Случайный лес</a></span></li><li><span><a href=\"#Проверка-лучшей-модели-на-тестовой-выборке\" data-toc-modified-id=\"Проверка-лучшей-модели-на-тестовой-выборке-3.3\"><span class=\"toc-item-num\">3.3&nbsp;&nbsp;</span>Проверка лучшей модели на тестовой выборке</a></span></li><li><span><a href=\"#Проверка-адекватности-модели\" data-toc-modified-id=\"Проверка-адекватности-модели-3.4\"><span class=\"toc-item-num\">3.4&nbsp;&nbsp;</span>Проверка адекватности модели</a></span></li></ul></li><li><span><a href=\"#Выводы\" data-toc-modified-id=\"Выводы-4\"><span class=\"toc-item-num\">4&nbsp;&nbsp;</span>Выводы</a></span></li></ul></div>"
   ]
  },
  {
   "cell_type": "markdown",
   "metadata": {},
   "source": [
    "# Восстановление золота из руды"
   ]
  },
  {
   "cell_type": "markdown",
   "metadata": {},
   "source": [
    "Подготовьте прототип модели машинного обучения для «Цифры». Компания разрабатывает решения для эффективной работы промышленных предприятий.\n",
    "\n",
    "Модель должна предсказать коэффициент восстановления золота из золотосодержащей руды. Предоставлены данные с параметрами добычи и очистки. \n",
    "\n",
    "Модель поможет оптимизировать производство, чтобы не запускать предприятие с убыточными характеристиками.\n",
    "\n",
    "Нужно:\n",
    "\n",
    "1. Подготовить данные;\n",
    "2. Провести исследовательский анализ данных;\n",
    "3. Построить и обучить модель."
   ]
  },
  {
   "cell_type": "markdown",
   "metadata": {},
   "source": [
    "## Подготовка данных"
   ]
  },
  {
   "cell_type": "code",
   "execution_count": 190,
   "metadata": {},
   "outputs": [],
   "source": [
    "import pandas as pd\n",
    "import numpy as np\n",
    "import matplotlib.pyplot as plt\n",
    "import seaborn as sns\n",
    "import os\n",
    "\n",
    "from sklearn.preprocessing import StandardScaler \n",
    "from sklearn.utils import shuffle\n",
    "from sklearn.model_selection import GridSearchCV, KFold, cross_val_score, StratifiedKFold\n",
    "from sklearn.tree import DecisionTreeRegressor\n",
    "from sklearn.ensemble import RandomForestRegressor \n",
    "from sklearn.linear_model import LinearRegression \n",
    "from sklearn.dummy import DummyRegressor\n",
    "from sklearn.metrics import mean_absolute_error, make_scorer"
   ]
  },
  {
   "cell_type": "code",
   "execution_count": 191,
   "metadata": {},
   "outputs": [],
   "source": [
    "for path in ['datasets/gold_recovery_train_new.csv','datasets/gold_recovery_test_new.csv', \n",
    "             'datasets/gold_recovery_full_new.csv']:\n",
    "    if os.path.exists(path):\n",
    "        if 'train' in path:\n",
    "            data_train = pd.read_csv(path)\n",
    "        elif 'test'in path:\n",
    "            data_test = pd.read_csv(path)\n",
    "        elif 'full'in path:\n",
    "            data_full = pd.read_csv(path)\n",
    "    else:\n",
    "        print('Что-то пошло не так')\n"
   ]
  },
  {
   "cell_type": "code",
   "execution_count": 192,
   "metadata": {},
   "outputs": [
    {
     "name": "stdout",
     "output_type": "stream",
     "text": [
      "<class 'pandas.core.frame.DataFrame'>\n",
      "RangeIndex: 14149 entries, 0 to 14148\n",
      "Data columns (total 87 columns):\n",
      " #   Column                                              Non-Null Count  Dtype  \n",
      "---  ------                                              --------------  -----  \n",
      " 0   date                                                14149 non-null  object \n",
      " 1   final.output.concentrate_ag                         14148 non-null  float64\n",
      " 2   final.output.concentrate_pb                         14148 non-null  float64\n",
      " 3   final.output.concentrate_sol                        13938 non-null  float64\n",
      " 4   final.output.concentrate_au                         14149 non-null  float64\n",
      " 5   final.output.recovery                               14149 non-null  float64\n",
      " 6   final.output.tail_ag                                14149 non-null  float64\n",
      " 7   final.output.tail_pb                                14049 non-null  float64\n",
      " 8   final.output.tail_sol                               14144 non-null  float64\n",
      " 9   final.output.tail_au                                14149 non-null  float64\n",
      " 10  primary_cleaner.input.sulfate                       14129 non-null  float64\n",
      " 11  primary_cleaner.input.depressant                    14117 non-null  float64\n",
      " 12  primary_cleaner.input.feed_size                     14149 non-null  float64\n",
      " 13  primary_cleaner.input.xanthate                      14049 non-null  float64\n",
      " 14  primary_cleaner.output.concentrate_ag               14149 non-null  float64\n",
      " 15  primary_cleaner.output.concentrate_pb               14063 non-null  float64\n",
      " 16  primary_cleaner.output.concentrate_sol              13863 non-null  float64\n",
      " 17  primary_cleaner.output.concentrate_au               14149 non-null  float64\n",
      " 18  primary_cleaner.output.tail_ag                      14148 non-null  float64\n",
      " 19  primary_cleaner.output.tail_pb                      14134 non-null  float64\n",
      " 20  primary_cleaner.output.tail_sol                     14103 non-null  float64\n",
      " 21  primary_cleaner.output.tail_au                      14149 non-null  float64\n",
      " 22  primary_cleaner.state.floatbank8_a_air              14145 non-null  float64\n",
      " 23  primary_cleaner.state.floatbank8_a_level            14148 non-null  float64\n",
      " 24  primary_cleaner.state.floatbank8_b_air              14145 non-null  float64\n",
      " 25  primary_cleaner.state.floatbank8_b_level            14148 non-null  float64\n",
      " 26  primary_cleaner.state.floatbank8_c_air              14147 non-null  float64\n",
      " 27  primary_cleaner.state.floatbank8_c_level            14148 non-null  float64\n",
      " 28  primary_cleaner.state.floatbank8_d_air              14146 non-null  float64\n",
      " 29  primary_cleaner.state.floatbank8_d_level            14148 non-null  float64\n",
      " 30  rougher.calculation.sulfate_to_au_concentrate       14148 non-null  float64\n",
      " 31  rougher.calculation.floatbank10_sulfate_to_au_feed  14148 non-null  float64\n",
      " 32  rougher.calculation.floatbank11_sulfate_to_au_feed  14148 non-null  float64\n",
      " 33  rougher.calculation.au_pb_ratio                     14149 non-null  float64\n",
      " 34  rougher.input.feed_ag                               14149 non-null  float64\n",
      " 35  rougher.input.feed_pb                               14049 non-null  float64\n",
      " 36  rougher.input.feed_rate                             14141 non-null  float64\n",
      " 37  rougher.input.feed_size                             14005 non-null  float64\n",
      " 38  rougher.input.feed_sol                              14071 non-null  float64\n",
      " 39  rougher.input.feed_au                               14149 non-null  float64\n",
      " 40  rougher.input.floatbank10_sulfate                   14120 non-null  float64\n",
      " 41  rougher.input.floatbank10_xanthate                  14141 non-null  float64\n",
      " 42  rougher.input.floatbank11_sulfate                   14113 non-null  float64\n",
      " 43  rougher.input.floatbank11_xanthate                  13721 non-null  float64\n",
      " 44  rougher.output.concentrate_ag                       14149 non-null  float64\n",
      " 45  rougher.output.concentrate_pb                       14149 non-null  float64\n",
      " 46  rougher.output.concentrate_sol                      14127 non-null  float64\n",
      " 47  rougher.output.concentrate_au                       14149 non-null  float64\n",
      " 48  rougher.output.recovery                             14149 non-null  float64\n",
      " 49  rougher.output.tail_ag                              14148 non-null  float64\n",
      " 50  rougher.output.tail_pb                              14149 non-null  float64\n",
      " 51  rougher.output.tail_sol                             14149 non-null  float64\n",
      " 52  rougher.output.tail_au                              14149 non-null  float64\n",
      " 53  rougher.state.floatbank10_a_air                     14148 non-null  float64\n",
      " 54  rougher.state.floatbank10_a_level                   14148 non-null  float64\n",
      " 55  rougher.state.floatbank10_b_air                     14148 non-null  float64\n",
      " 56  rougher.state.floatbank10_b_level                   14148 non-null  float64\n",
      " 57  rougher.state.floatbank10_c_air                     14148 non-null  float64\n",
      " 58  rougher.state.floatbank10_c_level                   14148 non-null  float64\n",
      " 59  rougher.state.floatbank10_d_air                     14149 non-null  float64\n",
      " 60  rougher.state.floatbank10_d_level                   14149 non-null  float64\n",
      " 61  rougher.state.floatbank10_e_air                     13713 non-null  float64\n",
      " 62  rougher.state.floatbank10_e_level                   14149 non-null  float64\n",
      " 63  rougher.state.floatbank10_f_air                     14149 non-null  float64\n",
      " 64  rougher.state.floatbank10_f_level                   14149 non-null  float64\n",
      " 65  secondary_cleaner.output.tail_ag                    14147 non-null  float64\n",
      " 66  secondary_cleaner.output.tail_pb                    14139 non-null  float64\n",
      " 67  secondary_cleaner.output.tail_sol                   12544 non-null  float64\n",
      " 68  secondary_cleaner.output.tail_au                    14149 non-null  float64\n",
      " 69  secondary_cleaner.state.floatbank2_a_air            13932 non-null  float64\n",
      " 70  secondary_cleaner.state.floatbank2_a_level          14148 non-null  float64\n",
      " 71  secondary_cleaner.state.floatbank2_b_air            14128 non-null  float64\n",
      " 72  secondary_cleaner.state.floatbank2_b_level          14148 non-null  float64\n",
      " 73  secondary_cleaner.state.floatbank3_a_air            14145 non-null  float64\n",
      " 74  secondary_cleaner.state.floatbank3_a_level          14148 non-null  float64\n",
      " 75  secondary_cleaner.state.floatbank3_b_air            14148 non-null  float64\n",
      " 76  secondary_cleaner.state.floatbank3_b_level          14148 non-null  float64\n",
      " 77  secondary_cleaner.state.floatbank4_a_air            14143 non-null  float64\n",
      " 78  secondary_cleaner.state.floatbank4_a_level          14148 non-null  float64\n",
      " 79  secondary_cleaner.state.floatbank4_b_air            14148 non-null  float64\n",
      " 80  secondary_cleaner.state.floatbank4_b_level          14148 non-null  float64\n",
      " 81  secondary_cleaner.state.floatbank5_a_air            14148 non-null  float64\n",
      " 82  secondary_cleaner.state.floatbank5_a_level          14148 non-null  float64\n",
      " 83  secondary_cleaner.state.floatbank5_b_air            14148 non-null  float64\n",
      " 84  secondary_cleaner.state.floatbank5_b_level          14148 non-null  float64\n",
      " 85  secondary_cleaner.state.floatbank6_a_air            14147 non-null  float64\n",
      " 86  secondary_cleaner.state.floatbank6_a_level          14148 non-null  float64\n",
      "dtypes: float64(86), object(1)\n",
      "memory usage: 9.4+ MB\n"
     ]
    },
    {
     "data": {
      "text/plain": [
       "None"
      ]
     },
     "metadata": {},
     "output_type": "display_data"
    },
    {
     "name": "stdout",
     "output_type": "stream",
     "text": [
      "<class 'pandas.core.frame.DataFrame'>\n",
      "RangeIndex: 5290 entries, 0 to 5289\n",
      "Data columns (total 53 columns):\n",
      " #   Column                                      Non-Null Count  Dtype  \n",
      "---  ------                                      --------------  -----  \n",
      " 0   date                                        5290 non-null   object \n",
      " 1   primary_cleaner.input.sulfate               5286 non-null   float64\n",
      " 2   primary_cleaner.input.depressant            5285 non-null   float64\n",
      " 3   primary_cleaner.input.feed_size             5290 non-null   float64\n",
      " 4   primary_cleaner.input.xanthate              5286 non-null   float64\n",
      " 5   primary_cleaner.state.floatbank8_a_air      5290 non-null   float64\n",
      " 6   primary_cleaner.state.floatbank8_a_level    5290 non-null   float64\n",
      " 7   primary_cleaner.state.floatbank8_b_air      5290 non-null   float64\n",
      " 8   primary_cleaner.state.floatbank8_b_level    5290 non-null   float64\n",
      " 9   primary_cleaner.state.floatbank8_c_air      5290 non-null   float64\n",
      " 10  primary_cleaner.state.floatbank8_c_level    5290 non-null   float64\n",
      " 11  primary_cleaner.state.floatbank8_d_air      5290 non-null   float64\n",
      " 12  primary_cleaner.state.floatbank8_d_level    5290 non-null   float64\n",
      " 13  rougher.input.feed_ag                       5290 non-null   float64\n",
      " 14  rougher.input.feed_pb                       5290 non-null   float64\n",
      " 15  rougher.input.feed_rate                     5287 non-null   float64\n",
      " 16  rougher.input.feed_size                     5289 non-null   float64\n",
      " 17  rougher.input.feed_sol                      5269 non-null   float64\n",
      " 18  rougher.input.feed_au                       5290 non-null   float64\n",
      " 19  rougher.input.floatbank10_sulfate           5285 non-null   float64\n",
      " 20  rougher.input.floatbank10_xanthate          5290 non-null   float64\n",
      " 21  rougher.input.floatbank11_sulfate           5282 non-null   float64\n",
      " 22  rougher.input.floatbank11_xanthate          5265 non-null   float64\n",
      " 23  rougher.state.floatbank10_a_air             5290 non-null   float64\n",
      " 24  rougher.state.floatbank10_a_level           5290 non-null   float64\n",
      " 25  rougher.state.floatbank10_b_air             5290 non-null   float64\n",
      " 26  rougher.state.floatbank10_b_level           5290 non-null   float64\n",
      " 27  rougher.state.floatbank10_c_air             5290 non-null   float64\n",
      " 28  rougher.state.floatbank10_c_level           5290 non-null   float64\n",
      " 29  rougher.state.floatbank10_d_air             5290 non-null   float64\n",
      " 30  rougher.state.floatbank10_d_level           5290 non-null   float64\n",
      " 31  rougher.state.floatbank10_e_air             5290 non-null   float64\n",
      " 32  rougher.state.floatbank10_e_level           5290 non-null   float64\n",
      " 33  rougher.state.floatbank10_f_air             5290 non-null   float64\n",
      " 34  rougher.state.floatbank10_f_level           5290 non-null   float64\n",
      " 35  secondary_cleaner.state.floatbank2_a_air    5287 non-null   float64\n",
      " 36  secondary_cleaner.state.floatbank2_a_level  5290 non-null   float64\n",
      " 37  secondary_cleaner.state.floatbank2_b_air    5288 non-null   float64\n",
      " 38  secondary_cleaner.state.floatbank2_b_level  5290 non-null   float64\n",
      " 39  secondary_cleaner.state.floatbank3_a_air    5281 non-null   float64\n",
      " 40  secondary_cleaner.state.floatbank3_a_level  5290 non-null   float64\n",
      " 41  secondary_cleaner.state.floatbank3_b_air    5290 non-null   float64\n",
      " 42  secondary_cleaner.state.floatbank3_b_level  5290 non-null   float64\n",
      " 43  secondary_cleaner.state.floatbank4_a_air    5290 non-null   float64\n",
      " 44  secondary_cleaner.state.floatbank4_a_level  5290 non-null   float64\n",
      " 45  secondary_cleaner.state.floatbank4_b_air    5290 non-null   float64\n",
      " 46  secondary_cleaner.state.floatbank4_b_level  5290 non-null   float64\n",
      " 47  secondary_cleaner.state.floatbank5_a_air    5290 non-null   float64\n",
      " 48  secondary_cleaner.state.floatbank5_a_level  5290 non-null   float64\n",
      " 49  secondary_cleaner.state.floatbank5_b_air    5290 non-null   float64\n",
      " 50  secondary_cleaner.state.floatbank5_b_level  5290 non-null   float64\n",
      " 51  secondary_cleaner.state.floatbank6_a_air    5290 non-null   float64\n",
      " 52  secondary_cleaner.state.floatbank6_a_level  5290 non-null   float64\n",
      "dtypes: float64(52), object(1)\n",
      "memory usage: 2.1+ MB\n"
     ]
    },
    {
     "data": {
      "text/plain": [
       "None"
      ]
     },
     "metadata": {},
     "output_type": "display_data"
    },
    {
     "name": "stdout",
     "output_type": "stream",
     "text": [
      "<class 'pandas.core.frame.DataFrame'>\n",
      "RangeIndex: 19439 entries, 0 to 19438\n",
      "Data columns (total 87 columns):\n",
      " #   Column                                              Non-Null Count  Dtype  \n",
      "---  ------                                              --------------  -----  \n",
      " 0   date                                                19439 non-null  object \n",
      " 1   final.output.concentrate_ag                         19438 non-null  float64\n",
      " 2   final.output.concentrate_pb                         19438 non-null  float64\n",
      " 3   final.output.concentrate_sol                        19228 non-null  float64\n",
      " 4   final.output.concentrate_au                         19439 non-null  float64\n",
      " 5   final.output.recovery                               19439 non-null  float64\n",
      " 6   final.output.tail_ag                                19438 non-null  float64\n",
      " 7   final.output.tail_pb                                19338 non-null  float64\n",
      " 8   final.output.tail_sol                               19433 non-null  float64\n",
      " 9   final.output.tail_au                                19439 non-null  float64\n",
      " 10  primary_cleaner.input.sulfate                       19415 non-null  float64\n",
      " 11  primary_cleaner.input.depressant                    19402 non-null  float64\n",
      " 12  primary_cleaner.input.feed_size                     19439 non-null  float64\n",
      " 13  primary_cleaner.input.xanthate                      19335 non-null  float64\n",
      " 14  primary_cleaner.output.concentrate_ag               19439 non-null  float64\n",
      " 15  primary_cleaner.output.concentrate_pb               19323 non-null  float64\n",
      " 16  primary_cleaner.output.concentrate_sol              19069 non-null  float64\n",
      " 17  primary_cleaner.output.concentrate_au               19439 non-null  float64\n",
      " 18  primary_cleaner.output.tail_ag                      19435 non-null  float64\n",
      " 19  primary_cleaner.output.tail_pb                      19418 non-null  float64\n",
      " 20  primary_cleaner.output.tail_sol                     19377 non-null  float64\n",
      " 21  primary_cleaner.output.tail_au                      19439 non-null  float64\n",
      " 22  primary_cleaner.state.floatbank8_a_air              19435 non-null  float64\n",
      " 23  primary_cleaner.state.floatbank8_a_level            19438 non-null  float64\n",
      " 24  primary_cleaner.state.floatbank8_b_air              19435 non-null  float64\n",
      " 25  primary_cleaner.state.floatbank8_b_level            19438 non-null  float64\n",
      " 26  primary_cleaner.state.floatbank8_c_air              19437 non-null  float64\n",
      " 27  primary_cleaner.state.floatbank8_c_level            19438 non-null  float64\n",
      " 28  primary_cleaner.state.floatbank8_d_air              19436 non-null  float64\n",
      " 29  primary_cleaner.state.floatbank8_d_level            19438 non-null  float64\n",
      " 30  rougher.calculation.sulfate_to_au_concentrate       19437 non-null  float64\n",
      " 31  rougher.calculation.floatbank10_sulfate_to_au_feed  19437 non-null  float64\n",
      " 32  rougher.calculation.floatbank11_sulfate_to_au_feed  19437 non-null  float64\n",
      " 33  rougher.calculation.au_pb_ratio                     19439 non-null  float64\n",
      " 34  rougher.input.feed_ag                               19439 non-null  float64\n",
      " 35  rougher.input.feed_pb                               19339 non-null  float64\n",
      " 36  rougher.input.feed_rate                             19428 non-null  float64\n",
      " 37  rougher.input.feed_size                             19294 non-null  float64\n",
      " 38  rougher.input.feed_sol                              19340 non-null  float64\n",
      " 39  rougher.input.feed_au                               19439 non-null  float64\n",
      " 40  rougher.input.floatbank10_sulfate                   19405 non-null  float64\n",
      " 41  rougher.input.floatbank10_xanthate                  19431 non-null  float64\n",
      " 42  rougher.input.floatbank11_sulfate                   19395 non-null  float64\n",
      " 43  rougher.input.floatbank11_xanthate                  18986 non-null  float64\n",
      " 44  rougher.output.concentrate_ag                       19439 non-null  float64\n",
      " 45  rougher.output.concentrate_pb                       19439 non-null  float64\n",
      " 46  rougher.output.concentrate_sol                      19416 non-null  float64\n",
      " 47  rougher.output.concentrate_au                       19439 non-null  float64\n",
      " 48  rougher.output.recovery                             19439 non-null  float64\n",
      " 49  rougher.output.tail_ag                              19438 non-null  float64\n",
      " 50  rougher.output.tail_pb                              19439 non-null  float64\n",
      " 51  rougher.output.tail_sol                             19439 non-null  float64\n",
      " 52  rougher.output.tail_au                              19439 non-null  float64\n",
      " 53  rougher.state.floatbank10_a_air                     19438 non-null  float64\n",
      " 54  rougher.state.floatbank10_a_level                   19438 non-null  float64\n",
      " 55  rougher.state.floatbank10_b_air                     19438 non-null  float64\n",
      " 56  rougher.state.floatbank10_b_level                   19438 non-null  float64\n",
      " 57  rougher.state.floatbank10_c_air                     19438 non-null  float64\n",
      " 58  rougher.state.floatbank10_c_level                   19438 non-null  float64\n",
      " 59  rougher.state.floatbank10_d_air                     19439 non-null  float64\n",
      " 60  rougher.state.floatbank10_d_level                   19439 non-null  float64\n",
      " 61  rougher.state.floatbank10_e_air                     19003 non-null  float64\n",
      " 62  rougher.state.floatbank10_e_level                   19439 non-null  float64\n",
      " 63  rougher.state.floatbank10_f_air                     19439 non-null  float64\n",
      " 64  rougher.state.floatbank10_f_level                   19439 non-null  float64\n",
      " 65  secondary_cleaner.output.tail_ag                    19437 non-null  float64\n",
      " 66  secondary_cleaner.output.tail_pb                    19427 non-null  float64\n",
      " 67  secondary_cleaner.output.tail_sol                   17691 non-null  float64\n",
      " 68  secondary_cleaner.output.tail_au                    19439 non-null  float64\n",
      " 69  secondary_cleaner.state.floatbank2_a_air            19219 non-null  float64\n",
      " 70  secondary_cleaner.state.floatbank2_a_level          19438 non-null  float64\n",
      " 71  secondary_cleaner.state.floatbank2_b_air            19416 non-null  float64\n",
      " 72  secondary_cleaner.state.floatbank2_b_level          19438 non-null  float64\n",
      " 73  secondary_cleaner.state.floatbank3_a_air            19426 non-null  float64\n",
      " 74  secondary_cleaner.state.floatbank3_a_level          19438 non-null  float64\n",
      " 75  secondary_cleaner.state.floatbank3_b_air            19438 non-null  float64\n",
      " 76  secondary_cleaner.state.floatbank3_b_level          19438 non-null  float64\n",
      " 77  secondary_cleaner.state.floatbank4_a_air            19433 non-null  float64\n",
      " 78  secondary_cleaner.state.floatbank4_a_level          19438 non-null  float64\n",
      " 79  secondary_cleaner.state.floatbank4_b_air            19438 non-null  float64\n",
      " 80  secondary_cleaner.state.floatbank4_b_level          19438 non-null  float64\n",
      " 81  secondary_cleaner.state.floatbank5_a_air            19438 non-null  float64\n",
      " 82  secondary_cleaner.state.floatbank5_a_level          19438 non-null  float64\n",
      " 83  secondary_cleaner.state.floatbank5_b_air            19438 non-null  float64\n",
      " 84  secondary_cleaner.state.floatbank5_b_level          19438 non-null  float64\n",
      " 85  secondary_cleaner.state.floatbank6_a_air            19437 non-null  float64\n",
      " 86  secondary_cleaner.state.floatbank6_a_level          19438 non-null  float64\n",
      "dtypes: float64(86), object(1)\n",
      "memory usage: 12.9+ MB\n"
     ]
    },
    {
     "data": {
      "text/plain": [
       "None"
      ]
     },
     "metadata": {},
     "output_type": "display_data"
    }
   ],
   "source": [
    "display(data_train.info())  \n",
    "display(data_test.info())\n",
    "display(data_full.info())"
   ]
  },
  {
   "cell_type": "code",
   "execution_count": 193,
   "metadata": {},
   "outputs": [
    {
     "data": {
      "text/html": [
       "<div>\n",
       "<style scoped>\n",
       "    .dataframe tbody tr th:only-of-type {\n",
       "        vertical-align: middle;\n",
       "    }\n",
       "\n",
       "    .dataframe tbody tr th {\n",
       "        vertical-align: top;\n",
       "    }\n",
       "\n",
       "    .dataframe thead th {\n",
       "        text-align: right;\n",
       "    }\n",
       "</style>\n",
       "<table border=\"1\" class=\"dataframe\">\n",
       "  <thead>\n",
       "    <tr style=\"text-align: right;\">\n",
       "      <th></th>\n",
       "      <th>date</th>\n",
       "      <th>final.output.concentrate_ag</th>\n",
       "      <th>final.output.concentrate_pb</th>\n",
       "      <th>final.output.concentrate_sol</th>\n",
       "      <th>final.output.concentrate_au</th>\n",
       "      <th>final.output.recovery</th>\n",
       "      <th>final.output.tail_ag</th>\n",
       "      <th>final.output.tail_pb</th>\n",
       "      <th>final.output.tail_sol</th>\n",
       "      <th>final.output.tail_au</th>\n",
       "      <th>...</th>\n",
       "      <th>secondary_cleaner.state.floatbank4_a_air</th>\n",
       "      <th>secondary_cleaner.state.floatbank4_a_level</th>\n",
       "      <th>secondary_cleaner.state.floatbank4_b_air</th>\n",
       "      <th>secondary_cleaner.state.floatbank4_b_level</th>\n",
       "      <th>secondary_cleaner.state.floatbank5_a_air</th>\n",
       "      <th>secondary_cleaner.state.floatbank5_a_level</th>\n",
       "      <th>secondary_cleaner.state.floatbank5_b_air</th>\n",
       "      <th>secondary_cleaner.state.floatbank5_b_level</th>\n",
       "      <th>secondary_cleaner.state.floatbank6_a_air</th>\n",
       "      <th>secondary_cleaner.state.floatbank6_a_level</th>\n",
       "    </tr>\n",
       "  </thead>\n",
       "  <tbody>\n",
       "    <tr>\n",
       "      <th>0</th>\n",
       "      <td>2016-01-15 00:00:00</td>\n",
       "      <td>6.055403</td>\n",
       "      <td>9.889648</td>\n",
       "      <td>5.507324</td>\n",
       "      <td>42.192020</td>\n",
       "      <td>70.541216</td>\n",
       "      <td>10.411962</td>\n",
       "      <td>0.895447</td>\n",
       "      <td>16.904297</td>\n",
       "      <td>2.143149</td>\n",
       "      <td>...</td>\n",
       "      <td>14.016835</td>\n",
       "      <td>-502.488007</td>\n",
       "      <td>12.099931</td>\n",
       "      <td>-504.715942</td>\n",
       "      <td>9.925633</td>\n",
       "      <td>-498.310211</td>\n",
       "      <td>8.079666</td>\n",
       "      <td>-500.470978</td>\n",
       "      <td>14.151341</td>\n",
       "      <td>-605.841980</td>\n",
       "    </tr>\n",
       "    <tr>\n",
       "      <th>1</th>\n",
       "      <td>2016-01-15 01:00:00</td>\n",
       "      <td>6.029369</td>\n",
       "      <td>9.968944</td>\n",
       "      <td>5.257781</td>\n",
       "      <td>42.701629</td>\n",
       "      <td>69.266198</td>\n",
       "      <td>10.462676</td>\n",
       "      <td>0.927452</td>\n",
       "      <td>16.634514</td>\n",
       "      <td>2.224930</td>\n",
       "      <td>...</td>\n",
       "      <td>13.992281</td>\n",
       "      <td>-505.503262</td>\n",
       "      <td>11.950531</td>\n",
       "      <td>-501.331529</td>\n",
       "      <td>10.039245</td>\n",
       "      <td>-500.169983</td>\n",
       "      <td>7.984757</td>\n",
       "      <td>-500.582168</td>\n",
       "      <td>13.998353</td>\n",
       "      <td>-599.787184</td>\n",
       "    </tr>\n",
       "    <tr>\n",
       "      <th>2</th>\n",
       "      <td>2016-01-15 02:00:00</td>\n",
       "      <td>6.055926</td>\n",
       "      <td>10.213995</td>\n",
       "      <td>5.383759</td>\n",
       "      <td>42.657501</td>\n",
       "      <td>68.116445</td>\n",
       "      <td>10.507046</td>\n",
       "      <td>0.953716</td>\n",
       "      <td>16.208849</td>\n",
       "      <td>2.257889</td>\n",
       "      <td>...</td>\n",
       "      <td>14.015015</td>\n",
       "      <td>-502.520901</td>\n",
       "      <td>11.912783</td>\n",
       "      <td>-501.133383</td>\n",
       "      <td>10.070913</td>\n",
       "      <td>-500.129135</td>\n",
       "      <td>8.013877</td>\n",
       "      <td>-500.517572</td>\n",
       "      <td>14.028663</td>\n",
       "      <td>-601.427363</td>\n",
       "    </tr>\n",
       "    <tr>\n",
       "      <th>3</th>\n",
       "      <td>2016-01-15 03:00:00</td>\n",
       "      <td>6.047977</td>\n",
       "      <td>9.977019</td>\n",
       "      <td>4.858634</td>\n",
       "      <td>42.689819</td>\n",
       "      <td>68.347543</td>\n",
       "      <td>10.422762</td>\n",
       "      <td>0.883763</td>\n",
       "      <td>16.532835</td>\n",
       "      <td>2.146849</td>\n",
       "      <td>...</td>\n",
       "      <td>14.036510</td>\n",
       "      <td>-500.857308</td>\n",
       "      <td>11.999550</td>\n",
       "      <td>-501.193686</td>\n",
       "      <td>9.970366</td>\n",
       "      <td>-499.201640</td>\n",
       "      <td>7.977324</td>\n",
       "      <td>-500.255908</td>\n",
       "      <td>14.005551</td>\n",
       "      <td>-599.996129</td>\n",
       "    </tr>\n",
       "    <tr>\n",
       "      <th>4</th>\n",
       "      <td>2016-01-15 04:00:00</td>\n",
       "      <td>6.148599</td>\n",
       "      <td>10.142511</td>\n",
       "      <td>4.939416</td>\n",
       "      <td>42.774141</td>\n",
       "      <td>66.927016</td>\n",
       "      <td>10.360302</td>\n",
       "      <td>0.792826</td>\n",
       "      <td>16.525686</td>\n",
       "      <td>2.055292</td>\n",
       "      <td>...</td>\n",
       "      <td>14.027298</td>\n",
       "      <td>-499.838632</td>\n",
       "      <td>11.953070</td>\n",
       "      <td>-501.053894</td>\n",
       "      <td>9.925709</td>\n",
       "      <td>-501.686727</td>\n",
       "      <td>7.894242</td>\n",
       "      <td>-500.356035</td>\n",
       "      <td>13.996647</td>\n",
       "      <td>-601.496691</td>\n",
       "    </tr>\n",
       "  </tbody>\n",
       "</table>\n",
       "<p>5 rows × 87 columns</p>\n",
       "</div>"
      ],
      "text/plain": [
       "                  date  final.output.concentrate_ag  \\\n",
       "0  2016-01-15 00:00:00                     6.055403   \n",
       "1  2016-01-15 01:00:00                     6.029369   \n",
       "2  2016-01-15 02:00:00                     6.055926   \n",
       "3  2016-01-15 03:00:00                     6.047977   \n",
       "4  2016-01-15 04:00:00                     6.148599   \n",
       "\n",
       "   final.output.concentrate_pb  final.output.concentrate_sol  \\\n",
       "0                     9.889648                      5.507324   \n",
       "1                     9.968944                      5.257781   \n",
       "2                    10.213995                      5.383759   \n",
       "3                     9.977019                      4.858634   \n",
       "4                    10.142511                      4.939416   \n",
       "\n",
       "   final.output.concentrate_au  final.output.recovery  final.output.tail_ag  \\\n",
       "0                    42.192020              70.541216             10.411962   \n",
       "1                    42.701629              69.266198             10.462676   \n",
       "2                    42.657501              68.116445             10.507046   \n",
       "3                    42.689819              68.347543             10.422762   \n",
       "4                    42.774141              66.927016             10.360302   \n",
       "\n",
       "   final.output.tail_pb  final.output.tail_sol  final.output.tail_au  ...  \\\n",
       "0              0.895447              16.904297              2.143149  ...   \n",
       "1              0.927452              16.634514              2.224930  ...   \n",
       "2              0.953716              16.208849              2.257889  ...   \n",
       "3              0.883763              16.532835              2.146849  ...   \n",
       "4              0.792826              16.525686              2.055292  ...   \n",
       "\n",
       "   secondary_cleaner.state.floatbank4_a_air  \\\n",
       "0                                 14.016835   \n",
       "1                                 13.992281   \n",
       "2                                 14.015015   \n",
       "3                                 14.036510   \n",
       "4                                 14.027298   \n",
       "\n",
       "   secondary_cleaner.state.floatbank4_a_level  \\\n",
       "0                                 -502.488007   \n",
       "1                                 -505.503262   \n",
       "2                                 -502.520901   \n",
       "3                                 -500.857308   \n",
       "4                                 -499.838632   \n",
       "\n",
       "   secondary_cleaner.state.floatbank4_b_air  \\\n",
       "0                                 12.099931   \n",
       "1                                 11.950531   \n",
       "2                                 11.912783   \n",
       "3                                 11.999550   \n",
       "4                                 11.953070   \n",
       "\n",
       "   secondary_cleaner.state.floatbank4_b_level  \\\n",
       "0                                 -504.715942   \n",
       "1                                 -501.331529   \n",
       "2                                 -501.133383   \n",
       "3                                 -501.193686   \n",
       "4                                 -501.053894   \n",
       "\n",
       "   secondary_cleaner.state.floatbank5_a_air  \\\n",
       "0                                  9.925633   \n",
       "1                                 10.039245   \n",
       "2                                 10.070913   \n",
       "3                                  9.970366   \n",
       "4                                  9.925709   \n",
       "\n",
       "   secondary_cleaner.state.floatbank5_a_level  \\\n",
       "0                                 -498.310211   \n",
       "1                                 -500.169983   \n",
       "2                                 -500.129135   \n",
       "3                                 -499.201640   \n",
       "4                                 -501.686727   \n",
       "\n",
       "   secondary_cleaner.state.floatbank5_b_air  \\\n",
       "0                                  8.079666   \n",
       "1                                  7.984757   \n",
       "2                                  8.013877   \n",
       "3                                  7.977324   \n",
       "4                                  7.894242   \n",
       "\n",
       "   secondary_cleaner.state.floatbank5_b_level  \\\n",
       "0                                 -500.470978   \n",
       "1                                 -500.582168   \n",
       "2                                 -500.517572   \n",
       "3                                 -500.255908   \n",
       "4                                 -500.356035   \n",
       "\n",
       "   secondary_cleaner.state.floatbank6_a_air  \\\n",
       "0                                 14.151341   \n",
       "1                                 13.998353   \n",
       "2                                 14.028663   \n",
       "3                                 14.005551   \n",
       "4                                 13.996647   \n",
       "\n",
       "   secondary_cleaner.state.floatbank6_a_level  \n",
       "0                                 -605.841980  \n",
       "1                                 -599.787184  \n",
       "2                                 -601.427363  \n",
       "3                                 -599.996129  \n",
       "4                                 -601.496691  \n",
       "\n",
       "[5 rows x 87 columns]"
      ]
     },
     "metadata": {},
     "output_type": "display_data"
    },
    {
     "data": {
      "text/html": [
       "<div>\n",
       "<style scoped>\n",
       "    .dataframe tbody tr th:only-of-type {\n",
       "        vertical-align: middle;\n",
       "    }\n",
       "\n",
       "    .dataframe tbody tr th {\n",
       "        vertical-align: top;\n",
       "    }\n",
       "\n",
       "    .dataframe thead th {\n",
       "        text-align: right;\n",
       "    }\n",
       "</style>\n",
       "<table border=\"1\" class=\"dataframe\">\n",
       "  <thead>\n",
       "    <tr style=\"text-align: right;\">\n",
       "      <th></th>\n",
       "      <th>date</th>\n",
       "      <th>primary_cleaner.input.sulfate</th>\n",
       "      <th>primary_cleaner.input.depressant</th>\n",
       "      <th>primary_cleaner.input.feed_size</th>\n",
       "      <th>primary_cleaner.input.xanthate</th>\n",
       "      <th>primary_cleaner.state.floatbank8_a_air</th>\n",
       "      <th>primary_cleaner.state.floatbank8_a_level</th>\n",
       "      <th>primary_cleaner.state.floatbank8_b_air</th>\n",
       "      <th>primary_cleaner.state.floatbank8_b_level</th>\n",
       "      <th>primary_cleaner.state.floatbank8_c_air</th>\n",
       "      <th>...</th>\n",
       "      <th>secondary_cleaner.state.floatbank4_a_air</th>\n",
       "      <th>secondary_cleaner.state.floatbank4_a_level</th>\n",
       "      <th>secondary_cleaner.state.floatbank4_b_air</th>\n",
       "      <th>secondary_cleaner.state.floatbank4_b_level</th>\n",
       "      <th>secondary_cleaner.state.floatbank5_a_air</th>\n",
       "      <th>secondary_cleaner.state.floatbank5_a_level</th>\n",
       "      <th>secondary_cleaner.state.floatbank5_b_air</th>\n",
       "      <th>secondary_cleaner.state.floatbank5_b_level</th>\n",
       "      <th>secondary_cleaner.state.floatbank6_a_air</th>\n",
       "      <th>secondary_cleaner.state.floatbank6_a_level</th>\n",
       "    </tr>\n",
       "  </thead>\n",
       "  <tbody>\n",
       "    <tr>\n",
       "      <th>0</th>\n",
       "      <td>2016-09-01 00:59:59</td>\n",
       "      <td>210.800909</td>\n",
       "      <td>14.993118</td>\n",
       "      <td>8.080000</td>\n",
       "      <td>1.005021</td>\n",
       "      <td>1398.981301</td>\n",
       "      <td>-500.225577</td>\n",
       "      <td>1399.144926</td>\n",
       "      <td>-499.919735</td>\n",
       "      <td>1400.102998</td>\n",
       "      <td>...</td>\n",
       "      <td>12.023554</td>\n",
       "      <td>-497.795834</td>\n",
       "      <td>8.016656</td>\n",
       "      <td>-501.289139</td>\n",
       "      <td>7.946562</td>\n",
       "      <td>-432.317850</td>\n",
       "      <td>4.872511</td>\n",
       "      <td>-500.037437</td>\n",
       "      <td>26.705889</td>\n",
       "      <td>-499.709414</td>\n",
       "    </tr>\n",
       "    <tr>\n",
       "      <th>1</th>\n",
       "      <td>2016-09-01 01:59:59</td>\n",
       "      <td>215.392455</td>\n",
       "      <td>14.987471</td>\n",
       "      <td>8.080000</td>\n",
       "      <td>0.990469</td>\n",
       "      <td>1398.777912</td>\n",
       "      <td>-500.057435</td>\n",
       "      <td>1398.055362</td>\n",
       "      <td>-499.778182</td>\n",
       "      <td>1396.151033</td>\n",
       "      <td>...</td>\n",
       "      <td>12.058140</td>\n",
       "      <td>-498.695773</td>\n",
       "      <td>8.130979</td>\n",
       "      <td>-499.634209</td>\n",
       "      <td>7.958270</td>\n",
       "      <td>-525.839648</td>\n",
       "      <td>4.878850</td>\n",
       "      <td>-500.162375</td>\n",
       "      <td>25.019940</td>\n",
       "      <td>-499.819438</td>\n",
       "    </tr>\n",
       "    <tr>\n",
       "      <th>2</th>\n",
       "      <td>2016-09-01 02:59:59</td>\n",
       "      <td>215.259946</td>\n",
       "      <td>12.884934</td>\n",
       "      <td>7.786667</td>\n",
       "      <td>0.996043</td>\n",
       "      <td>1398.493666</td>\n",
       "      <td>-500.868360</td>\n",
       "      <td>1398.860436</td>\n",
       "      <td>-499.764529</td>\n",
       "      <td>1398.075709</td>\n",
       "      <td>...</td>\n",
       "      <td>11.962366</td>\n",
       "      <td>-498.767484</td>\n",
       "      <td>8.096893</td>\n",
       "      <td>-500.827423</td>\n",
       "      <td>8.071056</td>\n",
       "      <td>-500.801673</td>\n",
       "      <td>4.905125</td>\n",
       "      <td>-499.828510</td>\n",
       "      <td>24.994862</td>\n",
       "      <td>-500.622559</td>\n",
       "    </tr>\n",
       "    <tr>\n",
       "      <th>3</th>\n",
       "      <td>2016-09-01 03:59:59</td>\n",
       "      <td>215.336236</td>\n",
       "      <td>12.006805</td>\n",
       "      <td>7.640000</td>\n",
       "      <td>0.863514</td>\n",
       "      <td>1399.618111</td>\n",
       "      <td>-498.863574</td>\n",
       "      <td>1397.440120</td>\n",
       "      <td>-499.211024</td>\n",
       "      <td>1400.129303</td>\n",
       "      <td>...</td>\n",
       "      <td>12.033091</td>\n",
       "      <td>-498.350935</td>\n",
       "      <td>8.074946</td>\n",
       "      <td>-499.474407</td>\n",
       "      <td>7.897085</td>\n",
       "      <td>-500.868509</td>\n",
       "      <td>4.931400</td>\n",
       "      <td>-499.963623</td>\n",
       "      <td>24.948919</td>\n",
       "      <td>-498.709987</td>\n",
       "    </tr>\n",
       "    <tr>\n",
       "      <th>4</th>\n",
       "      <td>2016-09-01 04:59:59</td>\n",
       "      <td>199.099327</td>\n",
       "      <td>10.682530</td>\n",
       "      <td>7.530000</td>\n",
       "      <td>0.805575</td>\n",
       "      <td>1401.268123</td>\n",
       "      <td>-500.808305</td>\n",
       "      <td>1398.128818</td>\n",
       "      <td>-499.504543</td>\n",
       "      <td>1402.172226</td>\n",
       "      <td>...</td>\n",
       "      <td>12.025367</td>\n",
       "      <td>-500.786497</td>\n",
       "      <td>8.054678</td>\n",
       "      <td>-500.397500</td>\n",
       "      <td>8.107890</td>\n",
       "      <td>-509.526725</td>\n",
       "      <td>4.957674</td>\n",
       "      <td>-500.360026</td>\n",
       "      <td>25.003331</td>\n",
       "      <td>-500.856333</td>\n",
       "    </tr>\n",
       "  </tbody>\n",
       "</table>\n",
       "<p>5 rows × 53 columns</p>\n",
       "</div>"
      ],
      "text/plain": [
       "                  date  primary_cleaner.input.sulfate  \\\n",
       "0  2016-09-01 00:59:59                     210.800909   \n",
       "1  2016-09-01 01:59:59                     215.392455   \n",
       "2  2016-09-01 02:59:59                     215.259946   \n",
       "3  2016-09-01 03:59:59                     215.336236   \n",
       "4  2016-09-01 04:59:59                     199.099327   \n",
       "\n",
       "   primary_cleaner.input.depressant  primary_cleaner.input.feed_size  \\\n",
       "0                         14.993118                         8.080000   \n",
       "1                         14.987471                         8.080000   \n",
       "2                         12.884934                         7.786667   \n",
       "3                         12.006805                         7.640000   \n",
       "4                         10.682530                         7.530000   \n",
       "\n",
       "   primary_cleaner.input.xanthate  primary_cleaner.state.floatbank8_a_air  \\\n",
       "0                        1.005021                             1398.981301   \n",
       "1                        0.990469                             1398.777912   \n",
       "2                        0.996043                             1398.493666   \n",
       "3                        0.863514                             1399.618111   \n",
       "4                        0.805575                             1401.268123   \n",
       "\n",
       "   primary_cleaner.state.floatbank8_a_level  \\\n",
       "0                               -500.225577   \n",
       "1                               -500.057435   \n",
       "2                               -500.868360   \n",
       "3                               -498.863574   \n",
       "4                               -500.808305   \n",
       "\n",
       "   primary_cleaner.state.floatbank8_b_air  \\\n",
       "0                             1399.144926   \n",
       "1                             1398.055362   \n",
       "2                             1398.860436   \n",
       "3                             1397.440120   \n",
       "4                             1398.128818   \n",
       "\n",
       "   primary_cleaner.state.floatbank8_b_level  \\\n",
       "0                               -499.919735   \n",
       "1                               -499.778182   \n",
       "2                               -499.764529   \n",
       "3                               -499.211024   \n",
       "4                               -499.504543   \n",
       "\n",
       "   primary_cleaner.state.floatbank8_c_air  ...  \\\n",
       "0                             1400.102998  ...   \n",
       "1                             1396.151033  ...   \n",
       "2                             1398.075709  ...   \n",
       "3                             1400.129303  ...   \n",
       "4                             1402.172226  ...   \n",
       "\n",
       "   secondary_cleaner.state.floatbank4_a_air  \\\n",
       "0                                 12.023554   \n",
       "1                                 12.058140   \n",
       "2                                 11.962366   \n",
       "3                                 12.033091   \n",
       "4                                 12.025367   \n",
       "\n",
       "   secondary_cleaner.state.floatbank4_a_level  \\\n",
       "0                                 -497.795834   \n",
       "1                                 -498.695773   \n",
       "2                                 -498.767484   \n",
       "3                                 -498.350935   \n",
       "4                                 -500.786497   \n",
       "\n",
       "   secondary_cleaner.state.floatbank4_b_air  \\\n",
       "0                                  8.016656   \n",
       "1                                  8.130979   \n",
       "2                                  8.096893   \n",
       "3                                  8.074946   \n",
       "4                                  8.054678   \n",
       "\n",
       "   secondary_cleaner.state.floatbank4_b_level  \\\n",
       "0                                 -501.289139   \n",
       "1                                 -499.634209   \n",
       "2                                 -500.827423   \n",
       "3                                 -499.474407   \n",
       "4                                 -500.397500   \n",
       "\n",
       "   secondary_cleaner.state.floatbank5_a_air  \\\n",
       "0                                  7.946562   \n",
       "1                                  7.958270   \n",
       "2                                  8.071056   \n",
       "3                                  7.897085   \n",
       "4                                  8.107890   \n",
       "\n",
       "   secondary_cleaner.state.floatbank5_a_level  \\\n",
       "0                                 -432.317850   \n",
       "1                                 -525.839648   \n",
       "2                                 -500.801673   \n",
       "3                                 -500.868509   \n",
       "4                                 -509.526725   \n",
       "\n",
       "   secondary_cleaner.state.floatbank5_b_air  \\\n",
       "0                                  4.872511   \n",
       "1                                  4.878850   \n",
       "2                                  4.905125   \n",
       "3                                  4.931400   \n",
       "4                                  4.957674   \n",
       "\n",
       "   secondary_cleaner.state.floatbank5_b_level  \\\n",
       "0                                 -500.037437   \n",
       "1                                 -500.162375   \n",
       "2                                 -499.828510   \n",
       "3                                 -499.963623   \n",
       "4                                 -500.360026   \n",
       "\n",
       "   secondary_cleaner.state.floatbank6_a_air  \\\n",
       "0                                 26.705889   \n",
       "1                                 25.019940   \n",
       "2                                 24.994862   \n",
       "3                                 24.948919   \n",
       "4                                 25.003331   \n",
       "\n",
       "   secondary_cleaner.state.floatbank6_a_level  \n",
       "0                                 -499.709414  \n",
       "1                                 -499.819438  \n",
       "2                                 -500.622559  \n",
       "3                                 -498.709987  \n",
       "4                                 -500.856333  \n",
       "\n",
       "[5 rows x 53 columns]"
      ]
     },
     "metadata": {},
     "output_type": "display_data"
    },
    {
     "data": {
      "text/html": [
       "<div>\n",
       "<style scoped>\n",
       "    .dataframe tbody tr th:only-of-type {\n",
       "        vertical-align: middle;\n",
       "    }\n",
       "\n",
       "    .dataframe tbody tr th {\n",
       "        vertical-align: top;\n",
       "    }\n",
       "\n",
       "    .dataframe thead th {\n",
       "        text-align: right;\n",
       "    }\n",
       "</style>\n",
       "<table border=\"1\" class=\"dataframe\">\n",
       "  <thead>\n",
       "    <tr style=\"text-align: right;\">\n",
       "      <th></th>\n",
       "      <th>date</th>\n",
       "      <th>final.output.concentrate_ag</th>\n",
       "      <th>final.output.concentrate_pb</th>\n",
       "      <th>final.output.concentrate_sol</th>\n",
       "      <th>final.output.concentrate_au</th>\n",
       "      <th>final.output.recovery</th>\n",
       "      <th>final.output.tail_ag</th>\n",
       "      <th>final.output.tail_pb</th>\n",
       "      <th>final.output.tail_sol</th>\n",
       "      <th>final.output.tail_au</th>\n",
       "      <th>...</th>\n",
       "      <th>secondary_cleaner.state.floatbank4_a_air</th>\n",
       "      <th>secondary_cleaner.state.floatbank4_a_level</th>\n",
       "      <th>secondary_cleaner.state.floatbank4_b_air</th>\n",
       "      <th>secondary_cleaner.state.floatbank4_b_level</th>\n",
       "      <th>secondary_cleaner.state.floatbank5_a_air</th>\n",
       "      <th>secondary_cleaner.state.floatbank5_a_level</th>\n",
       "      <th>secondary_cleaner.state.floatbank5_b_air</th>\n",
       "      <th>secondary_cleaner.state.floatbank5_b_level</th>\n",
       "      <th>secondary_cleaner.state.floatbank6_a_air</th>\n",
       "      <th>secondary_cleaner.state.floatbank6_a_level</th>\n",
       "    </tr>\n",
       "  </thead>\n",
       "  <tbody>\n",
       "    <tr>\n",
       "      <th>0</th>\n",
       "      <td>2016-01-15 00:00:00</td>\n",
       "      <td>6.055403</td>\n",
       "      <td>9.889648</td>\n",
       "      <td>5.507324</td>\n",
       "      <td>42.192020</td>\n",
       "      <td>70.541216</td>\n",
       "      <td>10.411962</td>\n",
       "      <td>0.895447</td>\n",
       "      <td>16.904297</td>\n",
       "      <td>2.143149</td>\n",
       "      <td>...</td>\n",
       "      <td>14.016835</td>\n",
       "      <td>-502.488007</td>\n",
       "      <td>12.099931</td>\n",
       "      <td>-504.715942</td>\n",
       "      <td>9.925633</td>\n",
       "      <td>-498.310211</td>\n",
       "      <td>8.079666</td>\n",
       "      <td>-500.470978</td>\n",
       "      <td>14.151341</td>\n",
       "      <td>-605.841980</td>\n",
       "    </tr>\n",
       "    <tr>\n",
       "      <th>1</th>\n",
       "      <td>2016-01-15 01:00:00</td>\n",
       "      <td>6.029369</td>\n",
       "      <td>9.968944</td>\n",
       "      <td>5.257781</td>\n",
       "      <td>42.701629</td>\n",
       "      <td>69.266198</td>\n",
       "      <td>10.462676</td>\n",
       "      <td>0.927452</td>\n",
       "      <td>16.634514</td>\n",
       "      <td>2.224930</td>\n",
       "      <td>...</td>\n",
       "      <td>13.992281</td>\n",
       "      <td>-505.503262</td>\n",
       "      <td>11.950531</td>\n",
       "      <td>-501.331529</td>\n",
       "      <td>10.039245</td>\n",
       "      <td>-500.169983</td>\n",
       "      <td>7.984757</td>\n",
       "      <td>-500.582168</td>\n",
       "      <td>13.998353</td>\n",
       "      <td>-599.787184</td>\n",
       "    </tr>\n",
       "    <tr>\n",
       "      <th>2</th>\n",
       "      <td>2016-01-15 02:00:00</td>\n",
       "      <td>6.055926</td>\n",
       "      <td>10.213995</td>\n",
       "      <td>5.383759</td>\n",
       "      <td>42.657501</td>\n",
       "      <td>68.116445</td>\n",
       "      <td>10.507046</td>\n",
       "      <td>0.953716</td>\n",
       "      <td>16.208849</td>\n",
       "      <td>2.257889</td>\n",
       "      <td>...</td>\n",
       "      <td>14.015015</td>\n",
       "      <td>-502.520901</td>\n",
       "      <td>11.912783</td>\n",
       "      <td>-501.133383</td>\n",
       "      <td>10.070913</td>\n",
       "      <td>-500.129135</td>\n",
       "      <td>8.013877</td>\n",
       "      <td>-500.517572</td>\n",
       "      <td>14.028663</td>\n",
       "      <td>-601.427363</td>\n",
       "    </tr>\n",
       "    <tr>\n",
       "      <th>3</th>\n",
       "      <td>2016-01-15 03:00:00</td>\n",
       "      <td>6.047977</td>\n",
       "      <td>9.977019</td>\n",
       "      <td>4.858634</td>\n",
       "      <td>42.689819</td>\n",
       "      <td>68.347543</td>\n",
       "      <td>10.422762</td>\n",
       "      <td>0.883763</td>\n",
       "      <td>16.532835</td>\n",
       "      <td>2.146849</td>\n",
       "      <td>...</td>\n",
       "      <td>14.036510</td>\n",
       "      <td>-500.857308</td>\n",
       "      <td>11.999550</td>\n",
       "      <td>-501.193686</td>\n",
       "      <td>9.970366</td>\n",
       "      <td>-499.201640</td>\n",
       "      <td>7.977324</td>\n",
       "      <td>-500.255908</td>\n",
       "      <td>14.005551</td>\n",
       "      <td>-599.996129</td>\n",
       "    </tr>\n",
       "    <tr>\n",
       "      <th>4</th>\n",
       "      <td>2016-01-15 04:00:00</td>\n",
       "      <td>6.148599</td>\n",
       "      <td>10.142511</td>\n",
       "      <td>4.939416</td>\n",
       "      <td>42.774141</td>\n",
       "      <td>66.927016</td>\n",
       "      <td>10.360302</td>\n",
       "      <td>0.792826</td>\n",
       "      <td>16.525686</td>\n",
       "      <td>2.055292</td>\n",
       "      <td>...</td>\n",
       "      <td>14.027298</td>\n",
       "      <td>-499.838632</td>\n",
       "      <td>11.953070</td>\n",
       "      <td>-501.053894</td>\n",
       "      <td>9.925709</td>\n",
       "      <td>-501.686727</td>\n",
       "      <td>7.894242</td>\n",
       "      <td>-500.356035</td>\n",
       "      <td>13.996647</td>\n",
       "      <td>-601.496691</td>\n",
       "    </tr>\n",
       "  </tbody>\n",
       "</table>\n",
       "<p>5 rows × 87 columns</p>\n",
       "</div>"
      ],
      "text/plain": [
       "                  date  final.output.concentrate_ag  \\\n",
       "0  2016-01-15 00:00:00                     6.055403   \n",
       "1  2016-01-15 01:00:00                     6.029369   \n",
       "2  2016-01-15 02:00:00                     6.055926   \n",
       "3  2016-01-15 03:00:00                     6.047977   \n",
       "4  2016-01-15 04:00:00                     6.148599   \n",
       "\n",
       "   final.output.concentrate_pb  final.output.concentrate_sol  \\\n",
       "0                     9.889648                      5.507324   \n",
       "1                     9.968944                      5.257781   \n",
       "2                    10.213995                      5.383759   \n",
       "3                     9.977019                      4.858634   \n",
       "4                    10.142511                      4.939416   \n",
       "\n",
       "   final.output.concentrate_au  final.output.recovery  final.output.tail_ag  \\\n",
       "0                    42.192020              70.541216             10.411962   \n",
       "1                    42.701629              69.266198             10.462676   \n",
       "2                    42.657501              68.116445             10.507046   \n",
       "3                    42.689819              68.347543             10.422762   \n",
       "4                    42.774141              66.927016             10.360302   \n",
       "\n",
       "   final.output.tail_pb  final.output.tail_sol  final.output.tail_au  ...  \\\n",
       "0              0.895447              16.904297              2.143149  ...   \n",
       "1              0.927452              16.634514              2.224930  ...   \n",
       "2              0.953716              16.208849              2.257889  ...   \n",
       "3              0.883763              16.532835              2.146849  ...   \n",
       "4              0.792826              16.525686              2.055292  ...   \n",
       "\n",
       "   secondary_cleaner.state.floatbank4_a_air  \\\n",
       "0                                 14.016835   \n",
       "1                                 13.992281   \n",
       "2                                 14.015015   \n",
       "3                                 14.036510   \n",
       "4                                 14.027298   \n",
       "\n",
       "   secondary_cleaner.state.floatbank4_a_level  \\\n",
       "0                                 -502.488007   \n",
       "1                                 -505.503262   \n",
       "2                                 -502.520901   \n",
       "3                                 -500.857308   \n",
       "4                                 -499.838632   \n",
       "\n",
       "   secondary_cleaner.state.floatbank4_b_air  \\\n",
       "0                                 12.099931   \n",
       "1                                 11.950531   \n",
       "2                                 11.912783   \n",
       "3                                 11.999550   \n",
       "4                                 11.953070   \n",
       "\n",
       "   secondary_cleaner.state.floatbank4_b_level  \\\n",
       "0                                 -504.715942   \n",
       "1                                 -501.331529   \n",
       "2                                 -501.133383   \n",
       "3                                 -501.193686   \n",
       "4                                 -501.053894   \n",
       "\n",
       "   secondary_cleaner.state.floatbank5_a_air  \\\n",
       "0                                  9.925633   \n",
       "1                                 10.039245   \n",
       "2                                 10.070913   \n",
       "3                                  9.970366   \n",
       "4                                  9.925709   \n",
       "\n",
       "   secondary_cleaner.state.floatbank5_a_level  \\\n",
       "0                                 -498.310211   \n",
       "1                                 -500.169983   \n",
       "2                                 -500.129135   \n",
       "3                                 -499.201640   \n",
       "4                                 -501.686727   \n",
       "\n",
       "   secondary_cleaner.state.floatbank5_b_air  \\\n",
       "0                                  8.079666   \n",
       "1                                  7.984757   \n",
       "2                                  8.013877   \n",
       "3                                  7.977324   \n",
       "4                                  7.894242   \n",
       "\n",
       "   secondary_cleaner.state.floatbank5_b_level  \\\n",
       "0                                 -500.470978   \n",
       "1                                 -500.582168   \n",
       "2                                 -500.517572   \n",
       "3                                 -500.255908   \n",
       "4                                 -500.356035   \n",
       "\n",
       "   secondary_cleaner.state.floatbank6_a_air  \\\n",
       "0                                 14.151341   \n",
       "1                                 13.998353   \n",
       "2                                 14.028663   \n",
       "3                                 14.005551   \n",
       "4                                 13.996647   \n",
       "\n",
       "   secondary_cleaner.state.floatbank6_a_level  \n",
       "0                                 -605.841980  \n",
       "1                                 -599.787184  \n",
       "2                                 -601.427363  \n",
       "3                                 -599.996129  \n",
       "4                                 -601.496691  \n",
       "\n",
       "[5 rows x 87 columns]"
      ]
     },
     "metadata": {},
     "output_type": "display_data"
    }
   ],
   "source": [
    "display(data_train.head()) \n",
    "display(data_test.head())\n",
    "display(data_full.head())"
   ]
  },
  {
   "cell_type": "code",
   "execution_count": 194,
   "metadata": {},
   "outputs": [],
   "source": [
    "columns_drop_zero = [column_concentrate for column_concentrate in data_train.columns if 'concentrate' in column_concentrate] \n",
    "for col in columns_drop_zero:\n",
    "    data_train = data_train[data_train[col] > 0]"
   ]
  },
  {
   "cell_type": "markdown",
   "metadata": {},
   "source": [
    "Значения концентраций = 0 является аномальными, поэтому такие значения нужно удалить (если концентрация какого-либо металла = 0, то она не измениться в последующие этапы очистки, а такой случай нас не интересует)."
   ]
  },
  {
   "cell_type": "code",
   "execution_count": 195,
   "metadata": {},
   "outputs": [],
   "source": [
    "def efficiency(С, F, T):\n",
    "    return 100 * C * ( F- T) / (F * (C - T))"
   ]
  },
  {
   "cell_type": "code",
   "execution_count": 196,
   "metadata": {},
   "outputs": [
    {
     "name": "stdout",
     "output_type": "stream",
     "text": [
      "1.1772723136629234e-14\n"
     ]
    }
   ],
   "source": [
    "\n",
    "C = data_train['rougher.output.concentrate_au']\n",
    "F = data_train['rougher.input.feed_au']\n",
    "T = data_train['rougher.output.tail_au']\n",
    "\n",
    "data_train_recovery_real = efficiency(C, F, T)\n",
    "\n",
    "MAE = mean_absolute_error(data_train['rougher.output.recovery'], data_train_recovery_real)\n",
    "print(MAE)"
   ]
  },
  {
   "cell_type": "markdown",
   "metadata": {},
   "source": [
    "Значение 'rougher.output.recovery' расчитано правильно."
   ]
  },
  {
   "cell_type": "code",
   "execution_count": 197,
   "metadata": {},
   "outputs": [
    {
     "data": {
      "text/plain": [
       "{'final.output.concentrate_ag',\n",
       " 'final.output.concentrate_au',\n",
       " 'final.output.concentrate_pb',\n",
       " 'final.output.concentrate_sol',\n",
       " 'final.output.recovery',\n",
       " 'final.output.tail_ag',\n",
       " 'final.output.tail_au',\n",
       " 'final.output.tail_pb',\n",
       " 'final.output.tail_sol',\n",
       " 'primary_cleaner.output.concentrate_ag',\n",
       " 'primary_cleaner.output.concentrate_au',\n",
       " 'primary_cleaner.output.concentrate_pb',\n",
       " 'primary_cleaner.output.concentrate_sol',\n",
       " 'primary_cleaner.output.tail_ag',\n",
       " 'primary_cleaner.output.tail_au',\n",
       " 'primary_cleaner.output.tail_pb',\n",
       " 'primary_cleaner.output.tail_sol',\n",
       " 'rougher.calculation.au_pb_ratio',\n",
       " 'rougher.calculation.floatbank10_sulfate_to_au_feed',\n",
       " 'rougher.calculation.floatbank11_sulfate_to_au_feed',\n",
       " 'rougher.calculation.sulfate_to_au_concentrate',\n",
       " 'rougher.output.concentrate_ag',\n",
       " 'rougher.output.concentrate_au',\n",
       " 'rougher.output.concentrate_pb',\n",
       " 'rougher.output.concentrate_sol',\n",
       " 'rougher.output.recovery',\n",
       " 'rougher.output.tail_ag',\n",
       " 'rougher.output.tail_au',\n",
       " 'rougher.output.tail_pb',\n",
       " 'rougher.output.tail_sol',\n",
       " 'secondary_cleaner.output.tail_ag',\n",
       " 'secondary_cleaner.output.tail_au',\n",
       " 'secondary_cleaner.output.tail_pb',\n",
       " 'secondary_cleaner.output.tail_sol'}"
      ]
     },
     "metadata": {},
     "output_type": "display_data"
    }
   ],
   "source": [
    "delta_columns = set(data_train.columns) - set(data_test.columns)\n",
    "display(delta_columns)"
   ]
  },
  {
   "cell_type": "markdown",
   "metadata": {},
   "source": [
    "В тестовой выборке отсутствуют некоторые calculation и output характеристики процесса, поскольку их невозможно получить во время выполнения процесса. "
   ]
  },
  {
   "cell_type": "code",
   "execution_count": 198,
   "metadata": {},
   "outputs": [
    {
     "name": "stdout",
     "output_type": "stream",
     "text": [
      "2918\n",
      "90\n",
      "4481\n"
     ]
    }
   ],
   "source": [
    "print(data_train.isna().sum().sum())\n",
    "print(data_test.isna().sum().sum())\n",
    "print(data_full.isna().sum().sum())"
   ]
  },
  {
   "cell_type": "code",
   "execution_count": 199,
   "metadata": {},
   "outputs": [
    {
     "data": {
      "text/plain": [
       "0"
      ]
     },
     "execution_count": 199,
     "metadata": {},
     "output_type": "execute_result"
    }
   ],
   "source": [
    "data_train['date'].isna().sum()"
   ]
  },
  {
   "cell_type": "code",
   "execution_count": 200,
   "metadata": {},
   "outputs": [
    {
     "data": {
      "text/plain": [
       "0"
      ]
     },
     "execution_count": 200,
     "metadata": {},
     "output_type": "execute_result"
    }
   ],
   "source": [
    "data_train.loc[:, data_train.columns != 'date'] = data_train.loc[:, data_train.columns != 'date'].interpolate()\n",
    "data_train.isna().sum().sum()"
   ]
  },
  {
   "cell_type": "code",
   "execution_count": 201,
   "metadata": {},
   "outputs": [
    {
     "data": {
      "text/plain": [
       "0"
      ]
     },
     "execution_count": 201,
     "metadata": {},
     "output_type": "execute_result"
    }
   ],
   "source": [
    "data_test = data_test.dropna()\n",
    "data_test.isna().sum().sum()"
   ]
  },
  {
   "cell_type": "code",
   "execution_count": 202,
   "metadata": {},
   "outputs": [
    {
     "data": {
      "text/plain": [
       "4481"
      ]
     },
     "execution_count": 202,
     "metadata": {},
     "output_type": "execute_result"
    }
   ],
   "source": [
    "data_full.isna().sum().sum()"
   ]
  },
  {
   "cell_type": "markdown",
   "metadata": {},
   "source": [
    "Пропуски в `df_train` заполняются с помощью интерполяции.\n",
    "В `df_test` малое число пропущенных значений, поэтому их можно удалить."
   ]
  },
  {
   "cell_type": "markdown",
   "metadata": {},
   "source": [
    "**Вывод:** \n",
    "1. Значения концентраций = 0 является аномальными, поэтому такие значения удалили.\n",
    "2. Проверили, что значения в столбце 'rougher.output.recovery' рассчитаны правильно.\n",
    "3. В тестовой выборке отсутствуют некоторые calculation и output характеристики процесса, поскольку их невозможно получить во время выполнения процесса. \n",
    "4. Пропуски в `df_train` заполнили с помощью интерполяции. В `df_test` малое число пропущенных значений, поэтому их удалили."
   ]
  },
  {
   "cell_type": "markdown",
   "metadata": {},
   "source": [
    "## Анализ данных"
   ]
  },
  {
   "cell_type": "code",
   "execution_count": 203,
   "metadata": {},
   "outputs": [
    {
     "data": {
      "image/png": "[encoded data removed]",
      "text/plain": [
       "<Figure size 1100x700 with 1 Axes>"
      ]
     },
     "metadata": {},
     "output_type": "display_data"
    },
    {
     "data": {
      "image/png": "[encoded data removed]",
      "text/plain": [
       "<Figure size 1100x700 with 1 Axes>"
      ]
     },
     "metadata": {},
     "output_type": "display_data"
    },
    {
     "data": {
      "image/png": "[encoded data removed]",
      "text/plain": [
       "<Figure size 1100x700 with 1 Axes>"
      ]
     },
     "metadata": {},
     "output_type": "display_data"
    }
   ],
   "source": [
    "metals = {'au': 'золота', 'ag': 'серебра', 'pb': 'свинца'}\n",
    "stages = [\n",
    "        'rougher.input.feed_',\n",
    "        'rougher.output.concentrate_',\n",
    "        'primary_cleaner.output.concentrate_',\n",
    "        'final.output.concentrate_']\n",
    "for key_g, values_g in metals.items():\n",
    "    plt.figure(figsize=(11, 7))\n",
    "    plt.grid(True)\n",
    "    for stage in stages:\n",
    "        concentration = data_train[f'{stage}{key_g}']\n",
    "        \n",
    "        plt.hist(concentration, bins=40,edgecolor = 'black',  alpha=0.5)\n",
    "        plt.title(f'Распределение содержания {values_g} на каждом этапам очистки', fontsize=18); \n",
    "        plt.ylabel('Число измерений, шт.', fontsize=16)\n",
    "        plt.xlabel(f'Процентное содержание в материале', fontsize=16)\n",
    "        plt.legend(['сырьё', 'после флотации', 'после первичной очистки', 'после вторичной очистки'], fontsize=12);"
   ]
  },
  {
   "cell_type": "markdown",
   "metadata": {},
   "source": [
    "Концентрация золота при обогащении руды повышается, концентрация свинца увеличивается медленнее, а концентрация серебра падет с каждым следующим этапом получения золота."
   ]
  },
  {
   "cell_type": "code",
   "execution_count": 204,
   "metadata": {},
   "outputs": [
    {
     "data": {
      "image/png": "[encoded data removed]",
      "text/plain": [
       "<Figure size 1400x600 with 1 Axes>"
      ]
     },
     "metadata": {},
     "output_type": "display_data"
    }
   ],
   "source": [
    "data_train['primary_cleaner.input.feed_size'].plot.hist(range=(5, 10), bins=50, \n",
    "                                                      figsize=(16, 6), edgecolor = 'black', density=True, alpha = 0.4)\n",
    "data_test['primary_cleaner.input.feed_size'].plot.hist(range=(5, 10), bins=50,  \n",
    "                                                     figsize=(14, 6),edgecolor = 'black',  density=True, alpha = 0.4, grid=True)\n",
    "plt.title('Распределение размера гранул сырья в тренировочной и тестовой выборках на этапе первичной очистки', fontsize=15) \n",
    "plt.ylabel('Частота', fontsize=15)\n",
    "plt.xlabel('Размер гранул сырья', fontsize=15);\n",
    "plt.legend([ 'тренировочная', 'тестовая'], fontsize=12);"
   ]
  },
  {
   "cell_type": "markdown",
   "metadata": {},
   "source": [
    "Распределения размера гранул сырья на тренировочных и тестовых выборках похожи. "
   ]
  },
  {
   "cell_type": "code",
   "execution_count": 205,
   "metadata": {},
   "outputs": [
    {
     "data": {
      "image/png": "[encoded data removed]",
      "text/plain": [
       "<Figure size 1600x600 with 1 Axes>"
      ]
     },
     "metadata": {},
     "output_type": "display_data"
    }
   ],
   "source": [
    "data_train['rougher.input.feed_size'].plot.hist(range=(25, 100), bins=80, \n",
    "                                                      figsize=(16, 6), edgecolor = 'black', density=True, alpha = 0.4)\n",
    "data_test['rougher.input.feed_size'].plot.hist(range=(25, 100), bins=80, \n",
    "                                                      figsize=(16, 6), edgecolor = 'black', density=True, alpha = 0.4)\n",
    "plt.title('Распределение размера гранул сырья в тренировочной и тестовой выборках на этапе флотации', fontsize=15) \n",
    "plt.ylabel('Частота', fontsize=15)\n",
    "plt.xlabel('Размер гранул сырья', fontsize=15);\n",
    "plt.legend([ 'тренировочная', 'тестовая'], fontsize=12);"
   ]
  },
  {
   "cell_type": "markdown",
   "metadata": {},
   "source": [
    "В тестовой выборке доля гранул с размером примерно от 36 до 48 больше, чем в тренировочной на этапе флотации. А гранулы размером примерно от 48 до 58 чаще встречаются в тренировочной выборке. Распределение доли гранул других размеров во многом похоже."
   ]
  },
  {
   "cell_type": "code",
   "execution_count": 206,
   "metadata": {},
   "outputs": [],
   "source": [
    "name_sum = []\n",
    "\n",
    "for stage in stages:    \n",
    "\n",
    "    data_train[f'{stage}sum'] = 0\n",
    "    name_sum.append(f'{stage}sum')\n",
    "    for key_g, values_g in metals.items():      \n",
    "        data_train[f'{stage}sum'] += data_train[f'{stage}{key_g}']\n",
    "        \n",
    "concentration = data_train[name_sum]"
   ]
  },
  {
   "cell_type": "code",
   "execution_count": 207,
   "metadata": {},
   "outputs": [],
   "source": [
    "stages = ['сырьё', 'после флотации', 'после первичной очистки', 'после вторичной очистки']"
   ]
  },
  {
   "cell_type": "code",
   "execution_count": 208,
   "metadata": {},
   "outputs": [],
   "source": [
    "concentration.columns = stages"
   ]
  },
  {
   "cell_type": "code",
   "execution_count": 209,
   "metadata": {},
   "outputs": [
    {
     "data": {
      "image/png": "[encoded data removed]",
      "text/plain": [
       "<Figure size 1500x800 with 1 Axes>"
      ]
     },
     "metadata": {},
     "output_type": "display_data"
    }
   ],
   "source": [
    "plt.figure(figsize=(15,8))\n",
    "\n",
    "ax = sns.boxplot(concentration)\n",
    "plt.title('\"Ящики с усами\" для суммарной концентрации на разных стадиях очистки', fontsize=15)\n",
    "plt.xlabel('Стадия очиски', fontsize=13)\n",
    "plt.ylabel('Cуммарная концентрация', fontsize=13);"
   ]
  },
  {
   "cell_type": "markdown",
   "metadata": {},
   "source": [
    "На гистограммах распределений суммарных концентраций есть выбросы, их нужно удалить для всех видов концентрации для обучающей выборке. "
   ]
  },
  {
   "cell_type": "code",
   "execution_count": 210,
   "metadata": {},
   "outputs": [],
   "source": [
    "\n",
    "for name in name_sum:    \n",
    "    data_train = data_train[data_train[name] > data_train[name].quantile(0.05)]\n",
    "    "
   ]
  },
  {
   "cell_type": "code",
   "execution_count": 211,
   "metadata": {},
   "outputs": [],
   "source": [
    "concentration2 = data_train[name_sum]\n",
    "concentration2.columns = stages"
   ]
  },
  {
   "cell_type": "code",
   "execution_count": 212,
   "metadata": {},
   "outputs": [
    {
     "data": {
      "image/png": "[encoded data removed]",
      "text/plain": [
       "<Figure size 1500x800 with 1 Axes>"
      ]
     },
     "metadata": {},
     "output_type": "display_data"
    }
   ],
   "source": [
    "plt.figure(figsize=(15,8))\n",
    "\n",
    "ax = sns.boxplot(concentration2)\n",
    "plt.title('\"Ящики с усами\" для суммарной концентрации на разных стадиях очистки после удаления выбросов', fontsize=15)\n",
    "plt.xlabel('Стадия очиски', fontsize=13)\n",
    "plt.ylabel('Cуммарная концентрация', fontsize=13);"
   ]
  },
  {
   "cell_type": "markdown",
   "metadata": {},
   "source": [
    "Удалили данные, для которых суммарная концентрация меньше квантиля 0.05."
   ]
  },
  {
   "cell_type": "markdown",
   "metadata": {},
   "source": [
    "**Вывод:**\n",
    "\n",
    "1. Концентрация золота при обогащении руды повышается, концентрация свинца увеличивается медленнее, а концентрация серебра падет с каждым следующим этапом получения золота.\n",
    "2. Распределения размера гранул сырья на тренировочных и тестовых выборках похожи на этапе первичной очистки.  \n",
    "3. В тестовой выборке доля гранул с размером примерно от 36 до 48 больше, чем в тренировочной на этапе флотации. А гранулы размером примерно от 48 до 58 чаще встречаются в тренировочной выборке. Распределение доли гранул других размеров во многом похоже.\n",
    "4. Построили гистограммы распределений суммарных концентраций для обучающей выборки. Удалили данные о всех видов концентрации обучающей выборки, для которых суммарная концентрация меньше квантиля 0.05."
   ]
  },
  {
   "cell_type": "markdown",
   "metadata": {},
   "source": [
    "## Модель"
   ]
  },
  {
   "cell_type": "code",
   "execution_count": 213,
   "metadata": {},
   "outputs": [],
   "source": [
    "def smape(prediction, target): \n",
    "    return np.mean(np.abs(prediction - target)/(np.abs(prediction) + np.abs(target))) * 200"
   ]
  },
  {
   "cell_type": "code",
   "execution_count": 214,
   "metadata": {},
   "outputs": [],
   "source": [
    "scoring = make_scorer(smape, greater_is_better=False)"
   ]
  },
  {
   "cell_type": "code",
   "execution_count": 215,
   "metadata": {},
   "outputs": [],
   "source": [
    "def smape_final(smape1, smape2):\n",
    "    return 0.25 * smape1 + 0.75 * smape2"
   ]
  },
  {
   "cell_type": "code",
   "execution_count": 216,
   "metadata": {},
   "outputs": [],
   "source": [
    "features = data_test.columns.drop('date') \n",
    "targets = ['rougher.output.recovery', 'final.output.recovery'] "
   ]
  },
  {
   "cell_type": "code",
   "execution_count": 217,
   "metadata": {},
   "outputs": [],
   "source": [
    "data_test = data_test.merge(\n",
    "    data_full[['date', 'final.output.recovery', 'rougher.output.recovery']], on='date', how='left')\n"
   ]
  },
  {
   "cell_type": "code",
   "execution_count": 218,
   "metadata": {},
   "outputs": [],
   "source": [
    "data_train = data_train.drop('date', axis=1)\n",
    "data_test = data_test.drop('date', axis=1)"
   ]
  },
  {
   "cell_type": "code",
   "execution_count": 219,
   "metadata": {},
   "outputs": [],
   "source": [
    "features_train = data_train[features]\n",
    "features_test = data_test[features]\n",
    "\n",
    "target_train = data_train[targets]\n",
    "\n",
    "target_test_rougher = data_test[targets[0]] \n",
    "target_test_final  = data_test[targets[1]] \n"
   ]
  },
  {
   "cell_type": "code",
   "execution_count": 220,
   "metadata": {},
   "outputs": [
    {
     "data": {
      "text/html": [
       "<div>\n",
       "<style scoped>\n",
       "    .dataframe tbody tr th:only-of-type {\n",
       "        vertical-align: middle;\n",
       "    }\n",
       "\n",
       "    .dataframe tbody tr th {\n",
       "        vertical-align: top;\n",
       "    }\n",
       "\n",
       "    .dataframe thead th {\n",
       "        text-align: right;\n",
       "    }\n",
       "</style>\n",
       "<table border=\"1\" class=\"dataframe\">\n",
       "  <thead>\n",
       "    <tr style=\"text-align: right;\">\n",
       "      <th></th>\n",
       "      <th>primary_cleaner.input.sulfate</th>\n",
       "      <th>primary_cleaner.input.depressant</th>\n",
       "      <th>primary_cleaner.input.feed_size</th>\n",
       "      <th>primary_cleaner.input.xanthate</th>\n",
       "      <th>primary_cleaner.state.floatbank8_a_air</th>\n",
       "      <th>primary_cleaner.state.floatbank8_a_level</th>\n",
       "      <th>primary_cleaner.state.floatbank8_b_air</th>\n",
       "      <th>primary_cleaner.state.floatbank8_b_level</th>\n",
       "      <th>primary_cleaner.state.floatbank8_c_air</th>\n",
       "      <th>primary_cleaner.state.floatbank8_c_level</th>\n",
       "      <th>...</th>\n",
       "      <th>secondary_cleaner.state.floatbank4_a_air</th>\n",
       "      <th>secondary_cleaner.state.floatbank4_a_level</th>\n",
       "      <th>secondary_cleaner.state.floatbank4_b_air</th>\n",
       "      <th>secondary_cleaner.state.floatbank4_b_level</th>\n",
       "      <th>secondary_cleaner.state.floatbank5_a_air</th>\n",
       "      <th>secondary_cleaner.state.floatbank5_a_level</th>\n",
       "      <th>secondary_cleaner.state.floatbank5_b_air</th>\n",
       "      <th>secondary_cleaner.state.floatbank5_b_level</th>\n",
       "      <th>secondary_cleaner.state.floatbank6_a_air</th>\n",
       "      <th>secondary_cleaner.state.floatbank6_a_level</th>\n",
       "    </tr>\n",
       "  </thead>\n",
       "  <tbody>\n",
       "    <tr>\n",
       "      <th>0</th>\n",
       "      <td>210.800909</td>\n",
       "      <td>14.993118</td>\n",
       "      <td>8.080000</td>\n",
       "      <td>1.005021</td>\n",
       "      <td>1398.981301</td>\n",
       "      <td>-500.225577</td>\n",
       "      <td>1399.144926</td>\n",
       "      <td>-499.919735</td>\n",
       "      <td>1400.102998</td>\n",
       "      <td>-500.704369</td>\n",
       "      <td>...</td>\n",
       "      <td>12.023554</td>\n",
       "      <td>-497.795834</td>\n",
       "      <td>8.016656</td>\n",
       "      <td>-501.289139</td>\n",
       "      <td>7.946562</td>\n",
       "      <td>-432.317850</td>\n",
       "      <td>4.872511</td>\n",
       "      <td>-500.037437</td>\n",
       "      <td>26.705889</td>\n",
       "      <td>-499.709414</td>\n",
       "    </tr>\n",
       "    <tr>\n",
       "      <th>1</th>\n",
       "      <td>215.392455</td>\n",
       "      <td>14.987471</td>\n",
       "      <td>8.080000</td>\n",
       "      <td>0.990469</td>\n",
       "      <td>1398.777912</td>\n",
       "      <td>-500.057435</td>\n",
       "      <td>1398.055362</td>\n",
       "      <td>-499.778182</td>\n",
       "      <td>1396.151033</td>\n",
       "      <td>-499.240168</td>\n",
       "      <td>...</td>\n",
       "      <td>12.058140</td>\n",
       "      <td>-498.695773</td>\n",
       "      <td>8.130979</td>\n",
       "      <td>-499.634209</td>\n",
       "      <td>7.958270</td>\n",
       "      <td>-525.839648</td>\n",
       "      <td>4.878850</td>\n",
       "      <td>-500.162375</td>\n",
       "      <td>25.019940</td>\n",
       "      <td>-499.819438</td>\n",
       "    </tr>\n",
       "    <tr>\n",
       "      <th>2</th>\n",
       "      <td>215.259946</td>\n",
       "      <td>12.884934</td>\n",
       "      <td>7.786667</td>\n",
       "      <td>0.996043</td>\n",
       "      <td>1398.493666</td>\n",
       "      <td>-500.868360</td>\n",
       "      <td>1398.860436</td>\n",
       "      <td>-499.764529</td>\n",
       "      <td>1398.075709</td>\n",
       "      <td>-502.151509</td>\n",
       "      <td>...</td>\n",
       "      <td>11.962366</td>\n",
       "      <td>-498.767484</td>\n",
       "      <td>8.096893</td>\n",
       "      <td>-500.827423</td>\n",
       "      <td>8.071056</td>\n",
       "      <td>-500.801673</td>\n",
       "      <td>4.905125</td>\n",
       "      <td>-499.828510</td>\n",
       "      <td>24.994862</td>\n",
       "      <td>-500.622559</td>\n",
       "    </tr>\n",
       "    <tr>\n",
       "      <th>3</th>\n",
       "      <td>215.336236</td>\n",
       "      <td>12.006805</td>\n",
       "      <td>7.640000</td>\n",
       "      <td>0.863514</td>\n",
       "      <td>1399.618111</td>\n",
       "      <td>-498.863574</td>\n",
       "      <td>1397.440120</td>\n",
       "      <td>-499.211024</td>\n",
       "      <td>1400.129303</td>\n",
       "      <td>-498.355873</td>\n",
       "      <td>...</td>\n",
       "      <td>12.033091</td>\n",
       "      <td>-498.350935</td>\n",
       "      <td>8.074946</td>\n",
       "      <td>-499.474407</td>\n",
       "      <td>7.897085</td>\n",
       "      <td>-500.868509</td>\n",
       "      <td>4.931400</td>\n",
       "      <td>-499.963623</td>\n",
       "      <td>24.948919</td>\n",
       "      <td>-498.709987</td>\n",
       "    </tr>\n",
       "    <tr>\n",
       "      <th>4</th>\n",
       "      <td>199.099327</td>\n",
       "      <td>10.682530</td>\n",
       "      <td>7.530000</td>\n",
       "      <td>0.805575</td>\n",
       "      <td>1401.268123</td>\n",
       "      <td>-500.808305</td>\n",
       "      <td>1398.128818</td>\n",
       "      <td>-499.504543</td>\n",
       "      <td>1402.172226</td>\n",
       "      <td>-500.810606</td>\n",
       "      <td>...</td>\n",
       "      <td>12.025367</td>\n",
       "      <td>-500.786497</td>\n",
       "      <td>8.054678</td>\n",
       "      <td>-500.397500</td>\n",
       "      <td>8.107890</td>\n",
       "      <td>-509.526725</td>\n",
       "      <td>4.957674</td>\n",
       "      <td>-500.360026</td>\n",
       "      <td>25.003331</td>\n",
       "      <td>-500.856333</td>\n",
       "    </tr>\n",
       "  </tbody>\n",
       "</table>\n",
       "<p>5 rows × 52 columns</p>\n",
       "</div>"
      ],
      "text/plain": [
       "   primary_cleaner.input.sulfate  primary_cleaner.input.depressant  \\\n",
       "0                     210.800909                         14.993118   \n",
       "1                     215.392455                         14.987471   \n",
       "2                     215.259946                         12.884934   \n",
       "3                     215.336236                         12.006805   \n",
       "4                     199.099327                         10.682530   \n",
       "\n",
       "   primary_cleaner.input.feed_size  primary_cleaner.input.xanthate  \\\n",
       "0                         8.080000                        1.005021   \n",
       "1                         8.080000                        0.990469   \n",
       "2                         7.786667                        0.996043   \n",
       "3                         7.640000                        0.863514   \n",
       "4                         7.530000                        0.805575   \n",
       "\n",
       "   primary_cleaner.state.floatbank8_a_air  \\\n",
       "0                             1398.981301   \n",
       "1                             1398.777912   \n",
       "2                             1398.493666   \n",
       "3                             1399.618111   \n",
       "4                             1401.268123   \n",
       "\n",
       "   primary_cleaner.state.floatbank8_a_level  \\\n",
       "0                               -500.225577   \n",
       "1                               -500.057435   \n",
       "2                               -500.868360   \n",
       "3                               -498.863574   \n",
       "4                               -500.808305   \n",
       "\n",
       "   primary_cleaner.state.floatbank8_b_air  \\\n",
       "0                             1399.144926   \n",
       "1                             1398.055362   \n",
       "2                             1398.860436   \n",
       "3                             1397.440120   \n",
       "4                             1398.128818   \n",
       "\n",
       "   primary_cleaner.state.floatbank8_b_level  \\\n",
       "0                               -499.919735   \n",
       "1                               -499.778182   \n",
       "2                               -499.764529   \n",
       "3                               -499.211024   \n",
       "4                               -499.504543   \n",
       "\n",
       "   primary_cleaner.state.floatbank8_c_air  \\\n",
       "0                             1400.102998   \n",
       "1                             1396.151033   \n",
       "2                             1398.075709   \n",
       "3                             1400.129303   \n",
       "4                             1402.172226   \n",
       "\n",
       "   primary_cleaner.state.floatbank8_c_level  ...  \\\n",
       "0                               -500.704369  ...   \n",
       "1                               -499.240168  ...   \n",
       "2                               -502.151509  ...   \n",
       "3                               -498.355873  ...   \n",
       "4                               -500.810606  ...   \n",
       "\n",
       "   secondary_cleaner.state.floatbank4_a_air  \\\n",
       "0                                 12.023554   \n",
       "1                                 12.058140   \n",
       "2                                 11.962366   \n",
       "3                                 12.033091   \n",
       "4                                 12.025367   \n",
       "\n",
       "   secondary_cleaner.state.floatbank4_a_level  \\\n",
       "0                                 -497.795834   \n",
       "1                                 -498.695773   \n",
       "2                                 -498.767484   \n",
       "3                                 -498.350935   \n",
       "4                                 -500.786497   \n",
       "\n",
       "   secondary_cleaner.state.floatbank4_b_air  \\\n",
       "0                                  8.016656   \n",
       "1                                  8.130979   \n",
       "2                                  8.096893   \n",
       "3                                  8.074946   \n",
       "4                                  8.054678   \n",
       "\n",
       "   secondary_cleaner.state.floatbank4_b_level  \\\n",
       "0                                 -501.289139   \n",
       "1                                 -499.634209   \n",
       "2                                 -500.827423   \n",
       "3                                 -499.474407   \n",
       "4                                 -500.397500   \n",
       "\n",
       "   secondary_cleaner.state.floatbank5_a_air  \\\n",
       "0                                  7.946562   \n",
       "1                                  7.958270   \n",
       "2                                  8.071056   \n",
       "3                                  7.897085   \n",
       "4                                  8.107890   \n",
       "\n",
       "   secondary_cleaner.state.floatbank5_a_level  \\\n",
       "0                                 -432.317850   \n",
       "1                                 -525.839648   \n",
       "2                                 -500.801673   \n",
       "3                                 -500.868509   \n",
       "4                                 -509.526725   \n",
       "\n",
       "   secondary_cleaner.state.floatbank5_b_air  \\\n",
       "0                                  4.872511   \n",
       "1                                  4.878850   \n",
       "2                                  4.905125   \n",
       "3                                  4.931400   \n",
       "4                                  4.957674   \n",
       "\n",
       "   secondary_cleaner.state.floatbank5_b_level  \\\n",
       "0                                 -500.037437   \n",
       "1                                 -500.162375   \n",
       "2                                 -499.828510   \n",
       "3                                 -499.963623   \n",
       "4                                 -500.360026   \n",
       "\n",
       "   secondary_cleaner.state.floatbank6_a_air  \\\n",
       "0                                 26.705889   \n",
       "1                                 25.019940   \n",
       "2                                 24.994862   \n",
       "3                                 24.948919   \n",
       "4                                 25.003331   \n",
       "\n",
       "   secondary_cleaner.state.floatbank6_a_level  \n",
       "0                                 -499.709414  \n",
       "1                                 -499.819438  \n",
       "2                                 -500.622559  \n",
       "3                                 -498.709987  \n",
       "4                                 -500.856333  \n",
       "\n",
       "[5 rows x 52 columns]"
      ]
     },
     "execution_count": 220,
     "metadata": {},
     "output_type": "execute_result"
    }
   ],
   "source": [
    "features_test.head(5)"
   ]
  },
  {
   "cell_type": "markdown",
   "metadata": {},
   "source": [
    "### Линейная регрессия "
   ]
  },
  {
   "cell_type": "code",
   "execution_count": 221,
   "metadata": {},
   "outputs": [],
   "source": [
    "model = LinearRegression()"
   ]
  },
  {
   "cell_type": "code",
   "execution_count": 222,
   "metadata": {},
   "outputs": [],
   "source": [
    "smape1 = cross_val_score(model, features_train, \n",
    "                         target_train['rougher.output.recovery'], scoring = scoring, cv = 5).mean()"
   ]
  },
  {
   "cell_type": "code",
   "execution_count": 223,
   "metadata": {},
   "outputs": [
    {
     "name": "stdout",
     "output_type": "stream",
     "text": [
      "Cреднее sMAPE для различных валидационных и тренировочных выборок на данных чернового концентрата: 6.850298634042031\n"
     ]
    }
   ],
   "source": [
    "print('Cреднее sMAPE для различных валидационных и тренировочных выборок на данных чернового концентрата:', -smape1)"
   ]
  },
  {
   "cell_type": "code",
   "execution_count": 224,
   "metadata": {},
   "outputs": [],
   "source": [
    "smape2 = cross_val_score(model, features_train, \n",
    "                         target_train['final.output.recovery'], scoring = scoring, cv = 5).mean()"
   ]
  },
  {
   "cell_type": "code",
   "execution_count": 225,
   "metadata": {},
   "outputs": [
    {
     "name": "stdout",
     "output_type": "stream",
     "text": [
      "Cреднее sMAPE для различных валидационных и тренировочных выборок на данных финального концентрата: 9.816051364174054\n"
     ]
    }
   ],
   "source": [
    "print('Cреднее sMAPE для различных валидационных и тренировочных выборок на данных финального концентрата:', -smape2)"
   ]
  },
  {
   "cell_type": "code",
   "execution_count": 226,
   "metadata": {},
   "outputs": [
    {
     "name": "stdout",
     "output_type": "stream",
     "text": [
      "Итоговое sMAPE для линейной регрессии: 9.074613181641048\n"
     ]
    }
   ],
   "source": [
    "print('Итоговое sMAPE для линейной регрессии:', -smape_final(smape1, smape2))"
   ]
  },
  {
   "cell_type": "markdown",
   "metadata": {},
   "source": [
    "### Случайный лес"
   ]
  },
  {
   "cell_type": "code",
   "execution_count": 227,
   "metadata": {},
   "outputs": [],
   "source": [
    "grid = GridSearchCV(\n",
    "    RandomForestRegressor(random_state=12345),\n",
    "    param_grid={'max_depth':range(1, 9, 2), 'n_estimators':range(10, 51, 10)}, \n",
    "    scoring = scoring, \n",
    "    cv = 5 \n",
    ")"
   ]
  },
  {
   "cell_type": "code",
   "execution_count": 228,
   "metadata": {},
   "outputs": [
    {
     "name": "stdout",
     "output_type": "stream",
     "text": [
      "CPU times: total: 8min 50s\n",
      "Wall time: 8min 58s\n"
     ]
    },
    {
     "data": {
      "text/html": [
       "<style>#sk-container-id-1 {color: black;}#sk-container-id-1 pre{padding: 0;}#sk-container-id-1 div.sk-toggleable {background-color: white;}#sk-container-id-1 label.sk-toggleable__label {cursor: pointer;display: block;width: 100%;margin-bottom: 0;padding: 0.3em;box-sizing: border-box;text-align: center;}#sk-container-id-1 label.sk-toggleable__label-arrow:before {content: \"▸\";float: left;margin-right: 0.25em;color: #696969;}#sk-container-id-1 label.sk-toggleable__label-arrow:hover:before {color: black;}#sk-container-id-1 div.sk-estimator:hover label.sk-toggleable__label-arrow:before {color: black;}#sk-container-id-1 div.sk-toggleable__content {max-height: 0;max-width: 0;overflow: hidden;text-align: left;background-color: #f0f8ff;}#sk-container-id-1 div.sk-toggleable__content pre {margin: 0.2em;color: black;border-radius: 0.25em;background-color: #f0f8ff;}#sk-container-id-1 input.sk-toggleable__control:checked~div.sk-toggleable__content {max-height: 200px;max-width: 100%;overflow: auto;}#sk-container-id-1 input.sk-toggleable__control:checked~label.sk-toggleable__label-arrow:before {content: \"▾\";}#sk-container-id-1 div.sk-estimator input.sk-toggleable__control:checked~label.sk-toggleable__label {background-color: #d4ebff;}#sk-container-id-1 div.sk-label input.sk-toggleable__control:checked~label.sk-toggleable__label {background-color: #d4ebff;}#sk-container-id-1 input.sk-hidden--visually {border: 0;clip: rect(1px 1px 1px 1px);clip: rect(1px, 1px, 1px, 1px);height: 1px;margin: -1px;overflow: hidden;padding: 0;position: absolute;width: 1px;}#sk-container-id-1 div.sk-estimator {font-family: monospace;background-color: #f0f8ff;border: 1px dotted black;border-radius: 0.25em;box-sizing: border-box;margin-bottom: 0.5em;}#sk-container-id-1 div.sk-estimator:hover {background-color: #d4ebff;}#sk-container-id-1 div.sk-parallel-item::after {content: \"\";width: 100%;border-bottom: 1px solid gray;flex-grow: 1;}#sk-container-id-1 div.sk-label:hover label.sk-toggleable__label {background-color: #d4ebff;}#sk-container-id-1 div.sk-serial::before {content: \"\";position: absolute;border-left: 1px solid gray;box-sizing: border-box;top: 0;bottom: 0;left: 50%;z-index: 0;}#sk-container-id-1 div.sk-serial {display: flex;flex-direction: column;align-items: center;background-color: white;padding-right: 0.2em;padding-left: 0.2em;position: relative;}#sk-container-id-1 div.sk-item {position: relative;z-index: 1;}#sk-container-id-1 div.sk-parallel {display: flex;align-items: stretch;justify-content: center;background-color: white;position: relative;}#sk-container-id-1 div.sk-item::before, #sk-container-id-1 div.sk-parallel-item::before {content: \"\";position: absolute;border-left: 1px solid gray;box-sizing: border-box;top: 0;bottom: 0;left: 50%;z-index: -1;}#sk-container-id-1 div.sk-parallel-item {display: flex;flex-direction: column;z-index: 1;position: relative;background-color: white;}#sk-container-id-1 div.sk-parallel-item:first-child::after {align-self: flex-end;width: 50%;}#sk-container-id-1 div.sk-parallel-item:last-child::after {align-self: flex-start;width: 50%;}#sk-container-id-1 div.sk-parallel-item:only-child::after {width: 0;}#sk-container-id-1 div.sk-dashed-wrapped {border: 1px dashed gray;margin: 0 0.4em 0.5em 0.4em;box-sizing: border-box;padding-bottom: 0.4em;background-color: white;}#sk-container-id-1 div.sk-label label {font-family: monospace;font-weight: bold;display: inline-block;line-height: 1.2em;}#sk-container-id-1 div.sk-label-container {text-align: center;}#sk-container-id-1 div.sk-container {/* jupyter's `normalize.less` sets `[hidden] { display: none; }` but bootstrap.min.css set `[hidden] { display: none !important; }` so we also need the `!important` here to be able to override the default hidden behavior on the sphinx rendered scikit-learn.org. See: https://github.com/scikit-learn/scikit-learn/issues/21755 */display: inline-block !important;position: relative;}#sk-container-id-1 div.sk-text-repr-fallback {display: none;}</style><div id=\"sk-container-id-1\" class=\"sk-top-container\"><div class=\"sk-text-repr-fallback\"><pre>GridSearchCV(cv=5, estimator=RandomForestRegressor(random_state=12345),\n",
       "             param_grid={&#x27;max_depth&#x27;: range(1, 9, 2),\n",
       "                         &#x27;n_estimators&#x27;: range(10, 51, 10)},\n",
       "             scoring=make_scorer(smape, greater_is_better=False))</pre><b>In a Jupyter environment, please rerun this cell to show the HTML representation or trust the notebook. <br />On GitHub, the HTML representation is unable to render, please try loading this page with nbviewer.org.</b></div><div class=\"sk-container\" hidden><div class=\"sk-item sk-dashed-wrapped\"><div class=\"sk-label-container\"><div class=\"sk-label sk-toggleable\"><input class=\"sk-toggleable__control sk-hidden--visually\" id=\"sk-estimator-id-1\" type=\"checkbox\" ><label for=\"sk-estimator-id-1\" class=\"sk-toggleable__label sk-toggleable__label-arrow\">GridSearchCV</label><div class=\"sk-toggleable__content\"><pre>GridSearchCV(cv=5, estimator=RandomForestRegressor(random_state=12345),\n",
       "             param_grid={&#x27;max_depth&#x27;: range(1, 9, 2),\n",
       "                         &#x27;n_estimators&#x27;: range(10, 51, 10)},\n",
       "             scoring=make_scorer(smape, greater_is_better=False))</pre></div></div></div><div class=\"sk-parallel\"><div class=\"sk-parallel-item\"><div class=\"sk-item\"><div class=\"sk-label-container\"><div class=\"sk-label sk-toggleable\"><input class=\"sk-toggleable__control sk-hidden--visually\" id=\"sk-estimator-id-2\" type=\"checkbox\" ><label for=\"sk-estimator-id-2\" class=\"sk-toggleable__label sk-toggleable__label-arrow\">estimator: RandomForestRegressor</label><div class=\"sk-toggleable__content\"><pre>RandomForestRegressor(random_state=12345)</pre></div></div></div><div class=\"sk-serial\"><div class=\"sk-item\"><div class=\"sk-estimator sk-toggleable\"><input class=\"sk-toggleable__control sk-hidden--visually\" id=\"sk-estimator-id-3\" type=\"checkbox\" ><label for=\"sk-estimator-id-3\" class=\"sk-toggleable__label sk-toggleable__label-arrow\">RandomForestRegressor</label><div class=\"sk-toggleable__content\"><pre>RandomForestRegressor(random_state=12345)</pre></div></div></div></div></div></div></div></div></div></div>"
      ],
      "text/plain": [
       "GridSearchCV(cv=5, estimator=RandomForestRegressor(random_state=12345),\n",
       "             param_grid={'max_depth': range(1, 9, 2),\n",
       "                         'n_estimators': range(10, 51, 10)},\n",
       "             scoring=make_scorer(smape, greater_is_better=False))"
      ]
     },
     "execution_count": 228,
     "metadata": {},
     "output_type": "execute_result"
    }
   ],
   "source": [
    "%%time\n",
    "grid.fit(features_train, target_train['rougher.output.recovery'])\n"
   ]
  },
  {
   "cell_type": "code",
   "execution_count": 229,
   "metadata": {},
   "outputs": [
    {
     "data": {
      "text/html": [
       "<style>#sk-container-id-2 {color: black;}#sk-container-id-2 pre{padding: 0;}#sk-container-id-2 div.sk-toggleable {background-color: white;}#sk-container-id-2 label.sk-toggleable__label {cursor: pointer;display: block;width: 100%;margin-bottom: 0;padding: 0.3em;box-sizing: border-box;text-align: center;}#sk-container-id-2 label.sk-toggleable__label-arrow:before {content: \"▸\";float: left;margin-right: 0.25em;color: #696969;}#sk-container-id-2 label.sk-toggleable__label-arrow:hover:before {color: black;}#sk-container-id-2 div.sk-estimator:hover label.sk-toggleable__label-arrow:before {color: black;}#sk-container-id-2 div.sk-toggleable__content {max-height: 0;max-width: 0;overflow: hidden;text-align: left;background-color: #f0f8ff;}#sk-container-id-2 div.sk-toggleable__content pre {margin: 0.2em;color: black;border-radius: 0.25em;background-color: #f0f8ff;}#sk-container-id-2 input.sk-toggleable__control:checked~div.sk-toggleable__content {max-height: 200px;max-width: 100%;overflow: auto;}#sk-container-id-2 input.sk-toggleable__control:checked~label.sk-toggleable__label-arrow:before {content: \"▾\";}#sk-container-id-2 div.sk-estimator input.sk-toggleable__control:checked~label.sk-toggleable__label {background-color: #d4ebff;}#sk-container-id-2 div.sk-label input.sk-toggleable__control:checked~label.sk-toggleable__label {background-color: #d4ebff;}#sk-container-id-2 input.sk-hidden--visually {border: 0;clip: rect(1px 1px 1px 1px);clip: rect(1px, 1px, 1px, 1px);height: 1px;margin: -1px;overflow: hidden;padding: 0;position: absolute;width: 1px;}#sk-container-id-2 div.sk-estimator {font-family: monospace;background-color: #f0f8ff;border: 1px dotted black;border-radius: 0.25em;box-sizing: border-box;margin-bottom: 0.5em;}#sk-container-id-2 div.sk-estimator:hover {background-color: #d4ebff;}#sk-container-id-2 div.sk-parallel-item::after {content: \"\";width: 100%;border-bottom: 1px solid gray;flex-grow: 1;}#sk-container-id-2 div.sk-label:hover label.sk-toggleable__label {background-color: #d4ebff;}#sk-container-id-2 div.sk-serial::before {content: \"\";position: absolute;border-left: 1px solid gray;box-sizing: border-box;top: 0;bottom: 0;left: 50%;z-index: 0;}#sk-container-id-2 div.sk-serial {display: flex;flex-direction: column;align-items: center;background-color: white;padding-right: 0.2em;padding-left: 0.2em;position: relative;}#sk-container-id-2 div.sk-item {position: relative;z-index: 1;}#sk-container-id-2 div.sk-parallel {display: flex;align-items: stretch;justify-content: center;background-color: white;position: relative;}#sk-container-id-2 div.sk-item::before, #sk-container-id-2 div.sk-parallel-item::before {content: \"\";position: absolute;border-left: 1px solid gray;box-sizing: border-box;top: 0;bottom: 0;left: 50%;z-index: -1;}#sk-container-id-2 div.sk-parallel-item {display: flex;flex-direction: column;z-index: 1;position: relative;background-color: white;}#sk-container-id-2 div.sk-parallel-item:first-child::after {align-self: flex-end;width: 50%;}#sk-container-id-2 div.sk-parallel-item:last-child::after {align-self: flex-start;width: 50%;}#sk-container-id-2 div.sk-parallel-item:only-child::after {width: 0;}#sk-container-id-2 div.sk-dashed-wrapped {border: 1px dashed gray;margin: 0 0.4em 0.5em 0.4em;box-sizing: border-box;padding-bottom: 0.4em;background-color: white;}#sk-container-id-2 div.sk-label label {font-family: monospace;font-weight: bold;display: inline-block;line-height: 1.2em;}#sk-container-id-2 div.sk-label-container {text-align: center;}#sk-container-id-2 div.sk-container {/* jupyter's `normalize.less` sets `[hidden] { display: none; }` but bootstrap.min.css set `[hidden] { display: none !important; }` so we also need the `!important` here to be able to override the default hidden behavior on the sphinx rendered scikit-learn.org. See: https://github.com/scikit-learn/scikit-learn/issues/21755 */display: inline-block !important;position: relative;}#sk-container-id-2 div.sk-text-repr-fallback {display: none;}</style><div id=\"sk-container-id-2\" class=\"sk-top-container\"><div class=\"sk-text-repr-fallback\"><pre>RandomForestRegressor(max_depth=7, n_estimators=30, random_state=12345)</pre><b>In a Jupyter environment, please rerun this cell to show the HTML representation or trust the notebook. <br />On GitHub, the HTML representation is unable to render, please try loading this page with nbviewer.org.</b></div><div class=\"sk-container\" hidden><div class=\"sk-item\"><div class=\"sk-estimator sk-toggleable\"><input class=\"sk-toggleable__control sk-hidden--visually\" id=\"sk-estimator-id-4\" type=\"checkbox\" checked><label for=\"sk-estimator-id-4\" class=\"sk-toggleable__label sk-toggleable__label-arrow\">RandomForestRegressor</label><div class=\"sk-toggleable__content\"><pre>RandomForestRegressor(max_depth=7, n_estimators=30, random_state=12345)</pre></div></div></div></div></div>"
      ],
      "text/plain": [
       "RandomForestRegressor(max_depth=7, n_estimators=30, random_state=12345)"
      ]
     },
     "metadata": {},
     "output_type": "display_data"
    }
   ],
   "source": [
    "best_rougher = grid.best_estimator_\n",
    "display(best_rougher)"
   ]
  },
  {
   "cell_type": "code",
   "execution_count": 230,
   "metadata": {},
   "outputs": [
    {
     "name": "stdout",
     "output_type": "stream",
     "text": [
      "Значение sMAPE для лучших параметров случайного леса на данных чернового концентрата: 6.181304892708541\n"
     ]
    }
   ],
   "source": [
    "smape1 = grid.best_score_\n",
    "print('Значение sMAPE для лучших параметров случайного леса на данных чернового концентрата:', -smape1)"
   ]
  },
  {
   "cell_type": "code",
   "execution_count": 231,
   "metadata": {},
   "outputs": [
    {
     "name": "stdout",
     "output_type": "stream",
     "text": [
      "CPU times: total: 9min 5s\n",
      "Wall time: 9min 17s\n"
     ]
    },
    {
     "data": {
      "text/html": [
       "<style>#sk-container-id-3 {color: black;}#sk-container-id-3 pre{padding: 0;}#sk-container-id-3 div.sk-toggleable {background-color: white;}#sk-container-id-3 label.sk-toggleable__label {cursor: pointer;display: block;width: 100%;margin-bottom: 0;padding: 0.3em;box-sizing: border-box;text-align: center;}#sk-container-id-3 label.sk-toggleable__label-arrow:before {content: \"▸\";float: left;margin-right: 0.25em;color: #696969;}#sk-container-id-3 label.sk-toggleable__label-arrow:hover:before {color: black;}#sk-container-id-3 div.sk-estimator:hover label.sk-toggleable__label-arrow:before {color: black;}#sk-container-id-3 div.sk-toggleable__content {max-height: 0;max-width: 0;overflow: hidden;text-align: left;background-color: #f0f8ff;}#sk-container-id-3 div.sk-toggleable__content pre {margin: 0.2em;color: black;border-radius: 0.25em;background-color: #f0f8ff;}#sk-container-id-3 input.sk-toggleable__control:checked~div.sk-toggleable__content {max-height: 200px;max-width: 100%;overflow: auto;}#sk-container-id-3 input.sk-toggleable__control:checked~label.sk-toggleable__label-arrow:before {content: \"▾\";}#sk-container-id-3 div.sk-estimator input.sk-toggleable__control:checked~label.sk-toggleable__label {background-color: #d4ebff;}#sk-container-id-3 div.sk-label input.sk-toggleable__control:checked~label.sk-toggleable__label {background-color: #d4ebff;}#sk-container-id-3 input.sk-hidden--visually {border: 0;clip: rect(1px 1px 1px 1px);clip: rect(1px, 1px, 1px, 1px);height: 1px;margin: -1px;overflow: hidden;padding: 0;position: absolute;width: 1px;}#sk-container-id-3 div.sk-estimator {font-family: monospace;background-color: #f0f8ff;border: 1px dotted black;border-radius: 0.25em;box-sizing: border-box;margin-bottom: 0.5em;}#sk-container-id-3 div.sk-estimator:hover {background-color: #d4ebff;}#sk-container-id-3 div.sk-parallel-item::after {content: \"\";width: 100%;border-bottom: 1px solid gray;flex-grow: 1;}#sk-container-id-3 div.sk-label:hover label.sk-toggleable__label {background-color: #d4ebff;}#sk-container-id-3 div.sk-serial::before {content: \"\";position: absolute;border-left: 1px solid gray;box-sizing: border-box;top: 0;bottom: 0;left: 50%;z-index: 0;}#sk-container-id-3 div.sk-serial {display: flex;flex-direction: column;align-items: center;background-color: white;padding-right: 0.2em;padding-left: 0.2em;position: relative;}#sk-container-id-3 div.sk-item {position: relative;z-index: 1;}#sk-container-id-3 div.sk-parallel {display: flex;align-items: stretch;justify-content: center;background-color: white;position: relative;}#sk-container-id-3 div.sk-item::before, #sk-container-id-3 div.sk-parallel-item::before {content: \"\";position: absolute;border-left: 1px solid gray;box-sizing: border-box;top: 0;bottom: 0;left: 50%;z-index: -1;}#sk-container-id-3 div.sk-parallel-item {display: flex;flex-direction: column;z-index: 1;position: relative;background-color: white;}#sk-container-id-3 div.sk-parallel-item:first-child::after {align-self: flex-end;width: 50%;}#sk-container-id-3 div.sk-parallel-item:last-child::after {align-self: flex-start;width: 50%;}#sk-container-id-3 div.sk-parallel-item:only-child::after {width: 0;}#sk-container-id-3 div.sk-dashed-wrapped {border: 1px dashed gray;margin: 0 0.4em 0.5em 0.4em;box-sizing: border-box;padding-bottom: 0.4em;background-color: white;}#sk-container-id-3 div.sk-label label {font-family: monospace;font-weight: bold;display: inline-block;line-height: 1.2em;}#sk-container-id-3 div.sk-label-container {text-align: center;}#sk-container-id-3 div.sk-container {/* jupyter's `normalize.less` sets `[hidden] { display: none; }` but bootstrap.min.css set `[hidden] { display: none !important; }` so we also need the `!important` here to be able to override the default hidden behavior on the sphinx rendered scikit-learn.org. See: https://github.com/scikit-learn/scikit-learn/issues/21755 */display: inline-block !important;position: relative;}#sk-container-id-3 div.sk-text-repr-fallback {display: none;}</style><div id=\"sk-container-id-3\" class=\"sk-top-container\"><div class=\"sk-text-repr-fallback\"><pre>GridSearchCV(cv=5, estimator=RandomForestRegressor(random_state=12345),\n",
       "             param_grid={&#x27;max_depth&#x27;: range(1, 9, 2),\n",
       "                         &#x27;n_estimators&#x27;: range(10, 51, 10)},\n",
       "             scoring=make_scorer(smape, greater_is_better=False))</pre><b>In a Jupyter environment, please rerun this cell to show the HTML representation or trust the notebook. <br />On GitHub, the HTML representation is unable to render, please try loading this page with nbviewer.org.</b></div><div class=\"sk-container\" hidden><div class=\"sk-item sk-dashed-wrapped\"><div class=\"sk-label-container\"><div class=\"sk-label sk-toggleable\"><input class=\"sk-toggleable__control sk-hidden--visually\" id=\"sk-estimator-id-5\" type=\"checkbox\" ><label for=\"sk-estimator-id-5\" class=\"sk-toggleable__label sk-toggleable__label-arrow\">GridSearchCV</label><div class=\"sk-toggleable__content\"><pre>GridSearchCV(cv=5, estimator=RandomForestRegressor(random_state=12345),\n",
       "             param_grid={&#x27;max_depth&#x27;: range(1, 9, 2),\n",
       "                         &#x27;n_estimators&#x27;: range(10, 51, 10)},\n",
       "             scoring=make_scorer(smape, greater_is_better=False))</pre></div></div></div><div class=\"sk-parallel\"><div class=\"sk-parallel-item\"><div class=\"sk-item\"><div class=\"sk-label-container\"><div class=\"sk-label sk-toggleable\"><input class=\"sk-toggleable__control sk-hidden--visually\" id=\"sk-estimator-id-6\" type=\"checkbox\" ><label for=\"sk-estimator-id-6\" class=\"sk-toggleable__label sk-toggleable__label-arrow\">estimator: RandomForestRegressor</label><div class=\"sk-toggleable__content\"><pre>RandomForestRegressor(random_state=12345)</pre></div></div></div><div class=\"sk-serial\"><div class=\"sk-item\"><div class=\"sk-estimator sk-toggleable\"><input class=\"sk-toggleable__control sk-hidden--visually\" id=\"sk-estimator-id-7\" type=\"checkbox\" ><label for=\"sk-estimator-id-7\" class=\"sk-toggleable__label sk-toggleable__label-arrow\">RandomForestRegressor</label><div class=\"sk-toggleable__content\"><pre>RandomForestRegressor(random_state=12345)</pre></div></div></div></div></div></div></div></div></div></div>"
      ],
      "text/plain": [
       "GridSearchCV(cv=5, estimator=RandomForestRegressor(random_state=12345),\n",
       "             param_grid={'max_depth': range(1, 9, 2),\n",
       "                         'n_estimators': range(10, 51, 10)},\n",
       "             scoring=make_scorer(smape, greater_is_better=False))"
      ]
     },
     "execution_count": 231,
     "metadata": {},
     "output_type": "execute_result"
    }
   ],
   "source": [
    "%%time\n",
    "grid.fit(features_train, target_train['final.output.recovery'])"
   ]
  },
  {
   "cell_type": "code",
   "execution_count": 232,
   "metadata": {},
   "outputs": [
    {
     "data": {
      "text/html": [
       "<style>#sk-container-id-4 {color: black;}#sk-container-id-4 pre{padding: 0;}#sk-container-id-4 div.sk-toggleable {background-color: white;}#sk-container-id-4 label.sk-toggleable__label {cursor: pointer;display: block;width: 100%;margin-bottom: 0;padding: 0.3em;box-sizing: border-box;text-align: center;}#sk-container-id-4 label.sk-toggleable__label-arrow:before {content: \"▸\";float: left;margin-right: 0.25em;color: #696969;}#sk-container-id-4 label.sk-toggleable__label-arrow:hover:before {color: black;}#sk-container-id-4 div.sk-estimator:hover label.sk-toggleable__label-arrow:before {color: black;}#sk-container-id-4 div.sk-toggleable__content {max-height: 0;max-width: 0;overflow: hidden;text-align: left;background-color: #f0f8ff;}#sk-container-id-4 div.sk-toggleable__content pre {margin: 0.2em;color: black;border-radius: 0.25em;background-color: #f0f8ff;}#sk-container-id-4 input.sk-toggleable__control:checked~div.sk-toggleable__content {max-height: 200px;max-width: 100%;overflow: auto;}#sk-container-id-4 input.sk-toggleable__control:checked~label.sk-toggleable__label-arrow:before {content: \"▾\";}#sk-container-id-4 div.sk-estimator input.sk-toggleable__control:checked~label.sk-toggleable__label {background-color: #d4ebff;}#sk-container-id-4 div.sk-label input.sk-toggleable__control:checked~label.sk-toggleable__label {background-color: #d4ebff;}#sk-container-id-4 input.sk-hidden--visually {border: 0;clip: rect(1px 1px 1px 1px);clip: rect(1px, 1px, 1px, 1px);height: 1px;margin: -1px;overflow: hidden;padding: 0;position: absolute;width: 1px;}#sk-container-id-4 div.sk-estimator {font-family: monospace;background-color: #f0f8ff;border: 1px dotted black;border-radius: 0.25em;box-sizing: border-box;margin-bottom: 0.5em;}#sk-container-id-4 div.sk-estimator:hover {background-color: #d4ebff;}#sk-container-id-4 div.sk-parallel-item::after {content: \"\";width: 100%;border-bottom: 1px solid gray;flex-grow: 1;}#sk-container-id-4 div.sk-label:hover label.sk-toggleable__label {background-color: #d4ebff;}#sk-container-id-4 div.sk-serial::before {content: \"\";position: absolute;border-left: 1px solid gray;box-sizing: border-box;top: 0;bottom: 0;left: 50%;z-index: 0;}#sk-container-id-4 div.sk-serial {display: flex;flex-direction: column;align-items: center;background-color: white;padding-right: 0.2em;padding-left: 0.2em;position: relative;}#sk-container-id-4 div.sk-item {position: relative;z-index: 1;}#sk-container-id-4 div.sk-parallel {display: flex;align-items: stretch;justify-content: center;background-color: white;position: relative;}#sk-container-id-4 div.sk-item::before, #sk-container-id-4 div.sk-parallel-item::before {content: \"\";position: absolute;border-left: 1px solid gray;box-sizing: border-box;top: 0;bottom: 0;left: 50%;z-index: -1;}#sk-container-id-4 div.sk-parallel-item {display: flex;flex-direction: column;z-index: 1;position: relative;background-color: white;}#sk-container-id-4 div.sk-parallel-item:first-child::after {align-self: flex-end;width: 50%;}#sk-container-id-4 div.sk-parallel-item:last-child::after {align-self: flex-start;width: 50%;}#sk-container-id-4 div.sk-parallel-item:only-child::after {width: 0;}#sk-container-id-4 div.sk-dashed-wrapped {border: 1px dashed gray;margin: 0 0.4em 0.5em 0.4em;box-sizing: border-box;padding-bottom: 0.4em;background-color: white;}#sk-container-id-4 div.sk-label label {font-family: monospace;font-weight: bold;display: inline-block;line-height: 1.2em;}#sk-container-id-4 div.sk-label-container {text-align: center;}#sk-container-id-4 div.sk-container {/* jupyter's `normalize.less` sets `[hidden] { display: none; }` but bootstrap.min.css set `[hidden] { display: none !important; }` so we also need the `!important` here to be able to override the default hidden behavior on the sphinx rendered scikit-learn.org. See: https://github.com/scikit-learn/scikit-learn/issues/21755 */display: inline-block !important;position: relative;}#sk-container-id-4 div.sk-text-repr-fallback {display: none;}</style><div id=\"sk-container-id-4\" class=\"sk-top-container\"><div class=\"sk-text-repr-fallback\"><pre>RandomForestRegressor(max_depth=5, n_estimators=50, random_state=12345)</pre><b>In a Jupyter environment, please rerun this cell to show the HTML representation or trust the notebook. <br />On GitHub, the HTML representation is unable to render, please try loading this page with nbviewer.org.</b></div><div class=\"sk-container\" hidden><div class=\"sk-item\"><div class=\"sk-estimator sk-toggleable\"><input class=\"sk-toggleable__control sk-hidden--visually\" id=\"sk-estimator-id-8\" type=\"checkbox\" checked><label for=\"sk-estimator-id-8\" class=\"sk-toggleable__label sk-toggleable__label-arrow\">RandomForestRegressor</label><div class=\"sk-toggleable__content\"><pre>RandomForestRegressor(max_depth=5, n_estimators=50, random_state=12345)</pre></div></div></div></div></div>"
      ],
      "text/plain": [
       "RandomForestRegressor(max_depth=5, n_estimators=50, random_state=12345)"
      ]
     },
     "metadata": {},
     "output_type": "display_data"
    }
   ],
   "source": [
    "best_final = grid.best_estimator_\n",
    "display(best_final)"
   ]
  },
  {
   "cell_type": "code",
   "execution_count": 233,
   "metadata": {},
   "outputs": [
    {
     "name": "stdout",
     "output_type": "stream",
     "text": [
      "Значение sMAPE для лучших параметров случайного леса на данных финального концентрата: 8.186306493367287\n"
     ]
    }
   ],
   "source": [
    "smape2 = grid.best_score_\n",
    "print('Значение sMAPE для лучших параметров случайного леса на данных финального концентрата:', -smape2)"
   ]
  },
  {
   "cell_type": "code",
   "execution_count": 234,
   "metadata": {},
   "outputs": [
    {
     "name": "stdout",
     "output_type": "stream",
     "text": [
      "Итоговое sMAPE для случайного леса: 7.685056093202601\n"
     ]
    }
   ],
   "source": [
    "print('Итоговое sMAPE для случайного леса:', -smape_final(smape1, smape2))"
   ]
  },
  {
   "cell_type": "markdown",
   "metadata": {},
   "source": [
    "Лучшие результаты позазали случайные леса с параметрами, укзанными выше."
   ]
  },
  {
   "cell_type": "markdown",
   "metadata": {},
   "source": [
    "### Проверка лучшей модели на тестовой выборке"
   ]
  },
  {
   "cell_type": "code",
   "execution_count": 235,
   "metadata": {},
   "outputs": [
    {
     "name": "stdout",
     "output_type": "stream",
     "text": [
      "Значение sMAPE для лучших параметров случайного леса на данных чернового концентрата для тестовой выборки: 7.825758009824388\n",
      "Значение sMAPE для лучших параметров случайного леса на данных финального концентрата для тестовой выборки: 9.381277485428468\n",
      "Итоговое sMAPE для случайного леса для тестовой выборки: 8.992397616527448\n"
     ]
    }
   ],
   "source": [
    "predicted_test_rougher = best_rougher.predict(features_test)\n",
    "\n",
    "test_smape1 = smape(target_test_rougher, predicted_test_rougher)\n",
    "print('Значение sMAPE для лучших параметров случайного леса на данных чернового концентрата для тестовой выборки:',\n",
    "      test_smape1)\n",
    "\n",
    "predicted_test_final = best_final.predict(features_test)\n",
    "\n",
    "test_smape2 = smape(target_test_final, predicted_test_final)\n",
    "\n",
    "print('Значение sMAPE для лучших параметров случайного леса на данных финального концентрата для тестовой выборки:',\n",
    "      test_smape2)\n",
    "print('Итоговое sMAPE для случайного леса для тестовой выборки:', smape_final(test_smape1, test_smape2))"
   ]
  },
  {
   "cell_type": "markdown",
   "metadata": {},
   "source": [
    "### Проверка адекватности модели"
   ]
  },
  {
   "cell_type": "code",
   "execution_count": 236,
   "metadata": {},
   "outputs": [
    {
     "name": "stdout",
     "output_type": "stream",
     "text": [
      "Итоговое sMAPE для DummyRegressor для тестовой выборки: 9.093777796113807\n"
     ]
    }
   ],
   "source": [
    "model = DummyRegressor(strategy=\"mean\")\n",
    "\n",
    "model.fit(features_train, target_train['rougher.output.recovery'])\n",
    "\n",
    "predicted_test =model.predict(features_test)\n",
    "smape1 = smape(target_test_rougher, predicted_test)\n",
    "\n",
    "\n",
    "model.fit(features_train, target_train['final.output.recovery'])\n",
    "predicted_test =model.predict(features_test)\n",
    "smape2 = smape(target_test_final, predicted_test)\n",
    "\n",
    "print('Итоговое sMAPE для DummyRegressor для тестовой выборки:', smape_final(smape1, smape2))"
   ]
  },
  {
   "cell_type": "markdown",
   "metadata": {},
   "source": [
    "Модели случайного леса адекватны, поскольку величина sMAPE для DummyRegressor заметно больше, чем для моделей случайного леса."
   ]
  },
  {
   "cell_type": "markdown",
   "metadata": {},
   "source": [
    "**Вывод:**\n",
    "Получили лучшие модели случайного леса для различных тренировочных и валидационных выборок. Проверили модели на тестовой выборке и проверили адекватность модели."
   ]
  },
  {
   "cell_type": "markdown",
   "metadata": {},
   "source": [
    "## Выводы"
   ]
  },
  {
   "cell_type": "markdown",
   "metadata": {},
   "source": [
    "1. Концентрация золота при обогащении руды повышается, концентрация свинца увеличивается медленнее, а концентрация серебра падет с каждым следующим этапом получения золота.\n",
    "2. Распределения гранул сырья на тренировочных и тестовых выборках похожи на этапе первичной очистки. \n",
    "3. В тестовой выборке доля гранул с размером примерно от 36 до 48 больше, чем в тренировочной на этапе флотации. А гранулы размером примерно от 48 до 58 чаще встречаются в тренировочной выборке. Распределение доли гранул других размеров во многом похоже на этапе флотации.\n",
    "4. Лучшие результаты показали случайные леса с параметрами, указанными выше, полученные модели оказались адекватными."
   ]
  }
 ],
 "metadata": {
  "ExecuteTimeLog": [
   {
    "duration": 1364,
    "start_time": "2022-12-03T23:09:25.578Z"
   },
   {
    "duration": 3046,
    "start_time": "2022-12-03T23:09:26.944Z"
   },
   {
    "duration": 39,
    "start_time": "2022-12-03T23:09:40.602Z"
   },
   {
    "duration": 27,
    "start_time": "2022-12-03T23:09:52.963Z"
   },
   {
    "duration": 3,
    "start_time": "2022-12-03T23:10:39.139Z"
   },
   {
    "duration": 106,
    "start_time": "2022-12-03T23:10:50.796Z"
   },
   {
    "duration": 9,
    "start_time": "2022-12-03T23:11:25.371Z"
   },
   {
    "duration": 8,
    "start_time": "2022-12-03T23:11:47.515Z"
   },
   {
    "duration": 9,
    "start_time": "2022-12-03T23:12:29.724Z"
   },
   {
    "duration": 2,
    "start_time": "2022-12-03T23:12:42.492Z"
   },
   {
    "duration": 4,
    "start_time": "2022-12-03T23:13:02.011Z"
   },
   {
    "duration": 13,
    "start_time": "2022-12-03T23:13:28.827Z"
   },
   {
    "duration": 43,
    "start_time": "2022-12-03T23:14:04.141Z"
   },
   {
    "duration": 9,
    "start_time": "2022-12-03T23:14:18.844Z"
   },
   {
    "duration": 24,
    "start_time": "2022-12-03T23:14:29.300Z"
   },
   {
    "duration": 9,
    "start_time": "2022-12-03T23:14:55.940Z"
   },
   {
    "duration": 9,
    "start_time": "2022-12-03T23:15:48.750Z"
   },
   {
    "duration": 124,
    "start_time": "2022-12-03T23:16:24.180Z"
   },
   {
    "duration": 1123,
    "start_time": "2022-12-03T23:16:56.020Z"
   },
   {
    "duration": 4,
    "start_time": "2022-12-03T23:17:36.134Z"
   },
   {
    "duration": 758,
    "start_time": "2022-12-03T23:17:36.140Z"
   },
   {
    "duration": 38,
    "start_time": "2022-12-03T23:17:36.900Z"
   },
   {
    "duration": 29,
    "start_time": "2022-12-03T23:17:36.940Z"
   },
   {
    "duration": 33,
    "start_time": "2022-12-03T23:17:36.971Z"
   },
   {
    "duration": 47,
    "start_time": "2022-12-03T23:17:37.005Z"
   },
   {
    "duration": 32,
    "start_time": "2022-12-03T23:17:37.054Z"
   },
   {
    "duration": 56,
    "start_time": "2022-12-03T23:17:37.088Z"
   },
   {
    "duration": 50,
    "start_time": "2022-12-03T23:17:37.146Z"
   },
   {
    "duration": 9,
    "start_time": "2022-12-03T23:17:37.197Z"
   },
   {
    "duration": 18,
    "start_time": "2022-12-03T23:17:37.208Z"
   },
   {
    "duration": 988,
    "start_time": "2022-12-03T23:17:37.227Z"
   },
   {
    "duration": 455,
    "start_time": "2022-12-03T23:18:39.911Z"
   },
   {
    "duration": 12,
    "start_time": "2022-12-03T23:19:18.637Z"
   },
   {
    "duration": 11,
    "start_time": "2022-12-03T23:19:38.114Z"
   },
   {
    "duration": 19,
    "start_time": "2022-12-03T23:19:51.021Z"
   },
   {
    "duration": 183,
    "start_time": "2022-12-03T23:20:05.965Z"
   },
   {
    "duration": 4,
    "start_time": "2022-12-03T23:21:48.114Z"
   },
   {
    "duration": 776,
    "start_time": "2022-12-03T23:22:05.942Z"
   },
   {
    "duration": 38,
    "start_time": "2022-12-03T23:22:28.478Z"
   },
   {
    "duration": 34,
    "start_time": "2022-12-03T23:22:43.701Z"
   },
   {
    "duration": 27,
    "start_time": "2022-12-03T23:22:44.613Z"
   },
   {
    "duration": 7,
    "start_time": "2022-12-03T23:23:07.765Z"
   },
   {
    "duration": 3,
    "start_time": "2022-12-03T23:23:27.078Z"
   },
   {
    "duration": 60,
    "start_time": "2022-12-05T19:20:34.112Z"
   },
   {
    "duration": 1522,
    "start_time": "2022-12-05T19:20:39.050Z"
   },
   {
    "duration": 2006,
    "start_time": "2022-12-05T19:20:40.574Z"
   },
   {
    "duration": 45,
    "start_time": "2022-12-05T19:20:42.582Z"
   },
   {
    "duration": 52,
    "start_time": "2022-12-05T19:21:09.667Z"
   },
   {
    "duration": 67,
    "start_time": "2022-12-05T19:21:24.611Z"
   },
   {
    "duration": 3,
    "start_time": "2022-12-05T19:21:29.330Z"
   },
   {
    "duration": 7,
    "start_time": "2022-12-05T19:21:30.146Z"
   },
   {
    "duration": 4,
    "start_time": "2022-12-05T19:21:38.067Z"
   },
   {
    "duration": 4,
    "start_time": "2022-12-05T19:21:41.212Z"
   },
   {
    "duration": 10,
    "start_time": "2022-12-05T19:22:23.179Z"
   },
   {
    "duration": 9,
    "start_time": "2022-12-05T19:22:30.403Z"
   },
   {
    "duration": 1026,
    "start_time": "2022-12-05T19:29:20.966Z"
   },
   {
    "duration": 1013,
    "start_time": "2022-12-05T19:29:48.341Z"
   },
   {
    "duration": 71,
    "start_time": "2022-12-05T19:30:53.197Z"
   },
   {
    "duration": 1162,
    "start_time": "2022-12-05T19:31:02.653Z"
   },
   {
    "duration": 998,
    "start_time": "2022-12-05T19:31:21.855Z"
   },
   {
    "duration": 1228,
    "start_time": "2022-12-05T19:31:33.939Z"
   },
   {
    "duration": 1043,
    "start_time": "2022-12-05T19:31:38.376Z"
   },
   {
    "duration": 1148,
    "start_time": "2022-12-05T19:31:49.158Z"
   },
   {
    "duration": 1124,
    "start_time": "2022-12-05T19:32:16.877Z"
   },
   {
    "duration": 1124,
    "start_time": "2022-12-05T19:32:23.582Z"
   },
   {
    "duration": 1185,
    "start_time": "2022-12-05T19:32:41.197Z"
   },
   {
    "duration": 1079,
    "start_time": "2022-12-05T19:47:33.874Z"
   },
   {
    "duration": 1448,
    "start_time": "2022-12-05T19:47:49.816Z"
   },
   {
    "duration": 324,
    "start_time": "2022-12-05T19:52:15.185Z"
   },
   {
    "duration": 1494,
    "start_time": "2022-12-05T19:57:35.404Z"
   },
   {
    "duration": 1281,
    "start_time": "2022-12-05T19:57:57.187Z"
   },
   {
    "duration": 458,
    "start_time": "2022-12-05T19:58:41.846Z"
   },
   {
    "duration": 6,
    "start_time": "2022-12-05T21:09:46.907Z"
   },
   {
    "duration": 101,
    "start_time": "2022-12-05T21:09:48.282Z"
   },
   {
    "duration": 6,
    "start_time": "2022-12-05T21:10:05.106Z"
   },
   {
    "duration": 103,
    "start_time": "2022-12-05T21:10:05.932Z"
   },
   {
    "duration": 5,
    "start_time": "2022-12-05T21:10:24.719Z"
   },
   {
    "duration": 1075,
    "start_time": "2022-12-05T21:11:13.211Z"
   },
   {
    "duration": 0,
    "start_time": "2022-12-05T21:11:14.287Z"
   },
   {
    "duration": 1099,
    "start_time": "2022-12-05T21:11:22.769Z"
   },
   {
    "duration": 21,
    "start_time": "2022-12-05T21:11:32.594Z"
   },
   {
    "duration": 4,
    "start_time": "2022-12-05T21:11:34.874Z"
   },
   {
    "duration": 191,
    "start_time": "2022-12-05T21:11:44.922Z"
   },
   {
    "duration": 117,
    "start_time": "2022-12-05T21:21:18.308Z"
   },
   {
    "duration": 36,
    "start_time": "2022-12-05T21:22:45.980Z"
   },
   {
    "duration": 123,
    "start_time": "2022-12-05T21:22:47.068Z"
   },
   {
    "duration": 187,
    "start_time": "2022-12-05T21:22:54.909Z"
   },
   {
    "duration": 98,
    "start_time": "2022-12-05T21:23:09.335Z"
   },
   {
    "duration": 180,
    "start_time": "2022-12-05T21:23:15.421Z"
   },
   {
    "duration": 33,
    "start_time": "2022-12-05T21:23:52.165Z"
   },
   {
    "duration": 10,
    "start_time": "2022-12-05T21:23:55.301Z"
   },
   {
    "duration": 8,
    "start_time": "2022-12-05T21:47:14.243Z"
   },
   {
    "duration": 11,
    "start_time": "2022-12-05T21:47:17.908Z"
   },
   {
    "duration": 4,
    "start_time": "2022-12-05T21:47:19.605Z"
   },
   {
    "duration": 33,
    "start_time": "2022-12-05T21:53:52.563Z"
   },
   {
    "duration": 3,
    "start_time": "2022-12-05T21:53:53.043Z"
   },
   {
    "duration": 214,
    "start_time": "2022-12-05T21:53:54.095Z"
   },
   {
    "duration": 31,
    "start_time": "2022-12-05T22:50:39.624Z"
   },
   {
    "duration": 3,
    "start_time": "2022-12-05T22:50:40.359Z"
   },
   {
    "duration": 270,
    "start_time": "2022-12-05T22:50:41.120Z"
   },
   {
    "duration": 15,
    "start_time": "2022-12-05T22:50:43.312Z"
   },
   {
    "duration": 14,
    "start_time": "2022-12-05T22:52:10.375Z"
   },
   {
    "duration": 21,
    "start_time": "2022-12-05T22:52:20.201Z"
   },
   {
    "duration": 21,
    "start_time": "2022-12-05T22:57:19.832Z"
   },
   {
    "duration": 12,
    "start_time": "2022-12-05T22:57:36.298Z"
   },
   {
    "duration": 21,
    "start_time": "2022-12-05T23:01:19.266Z"
   },
   {
    "duration": 15,
    "start_time": "2022-12-05T23:07:16.327Z"
   },
   {
    "duration": 14,
    "start_time": "2022-12-05T23:07:54.067Z"
   },
   {
    "duration": 14,
    "start_time": "2022-12-05T23:14:07.174Z"
   },
   {
    "duration": 76,
    "start_time": "2022-12-05T23:15:35.717Z"
   },
   {
    "duration": 13,
    "start_time": "2022-12-05T23:15:45.068Z"
   },
   {
    "duration": 11,
    "start_time": "2022-12-05T23:16:12.972Z"
   },
   {
    "duration": 16,
    "start_time": "2022-12-05T23:16:34.942Z"
   },
   {
    "duration": 13,
    "start_time": "2022-12-05T23:16:57.821Z"
   },
   {
    "duration": 11,
    "start_time": "2022-12-05T23:17:02.476Z"
   },
   {
    "duration": 13,
    "start_time": "2022-12-05T23:17:14.330Z"
   },
   {
    "duration": 16,
    "start_time": "2022-12-05T23:17:50.478Z"
   },
   {
    "duration": 29,
    "start_time": "2022-12-05T23:20:53.840Z"
   },
   {
    "duration": 23,
    "start_time": "2022-12-05T23:22:34.415Z"
   },
   {
    "duration": 4,
    "start_time": "2022-12-05T23:22:35.006Z"
   },
   {
    "duration": 144,
    "start_time": "2022-12-05T23:22:35.551Z"
   },
   {
    "duration": 2,
    "start_time": "2022-12-05T23:23:36.815Z"
   },
   {
    "duration": 2,
    "start_time": "2022-12-05T23:23:47.255Z"
   },
   {
    "duration": 147,
    "start_time": "2022-12-05T23:23:47.911Z"
   },
   {
    "duration": 4,
    "start_time": "2022-12-05T23:24:22.426Z"
   },
   {
    "duration": 646,
    "start_time": "2022-12-05T23:24:22.431Z"
   },
   {
    "duration": 51,
    "start_time": "2022-12-05T23:24:23.078Z"
   },
   {
    "duration": 47,
    "start_time": "2022-12-05T23:24:23.130Z"
   },
   {
    "duration": 2,
    "start_time": "2022-12-05T23:24:23.179Z"
   },
   {
    "duration": 7,
    "start_time": "2022-12-05T23:24:23.183Z"
   },
   {
    "duration": 31,
    "start_time": "2022-12-05T23:24:23.192Z"
   },
   {
    "duration": 15,
    "start_time": "2022-12-05T23:24:23.225Z"
   },
   {
    "duration": 37,
    "start_time": "2022-12-05T23:24:23.242Z"
   },
   {
    "duration": 10,
    "start_time": "2022-12-05T23:24:23.281Z"
   },
   {
    "duration": 38,
    "start_time": "2022-12-05T23:24:23.293Z"
   },
   {
    "duration": 1252,
    "start_time": "2022-12-05T23:24:23.333Z"
   },
   {
    "duration": 406,
    "start_time": "2022-12-05T23:24:24.587Z"
   },
   {
    "duration": 29,
    "start_time": "2022-12-05T23:24:24.997Z"
   },
   {
    "duration": 3,
    "start_time": "2022-12-05T23:24:25.028Z"
   },
   {
    "duration": 10,
    "start_time": "2022-12-05T23:24:25.033Z"
   },
   {
    "duration": 169,
    "start_time": "2022-12-05T23:24:26.648Z"
   },
   {
    "duration": 25,
    "start_time": "2022-12-05T23:24:28.263Z"
   },
   {
    "duration": 5,
    "start_time": "2022-12-05T23:24:28.815Z"
   },
   {
    "duration": 149,
    "start_time": "2022-12-05T23:24:32.254Z"
   },
   {
    "duration": 3,
    "start_time": "2022-12-05T23:32:14.150Z"
   },
   {
    "duration": 9,
    "start_time": "2022-12-05T23:33:40.411Z"
   },
   {
    "duration": 20,
    "start_time": "2022-12-05T23:34:00.217Z"
   },
   {
    "duration": 3,
    "start_time": "2022-12-05T23:34:01.011Z"
   },
   {
    "duration": 150,
    "start_time": "2022-12-05T23:34:01.650Z"
   },
   {
    "duration": 3,
    "start_time": "2022-12-05T23:34:55.868Z"
   },
   {
    "duration": 644,
    "start_time": "2022-12-05T23:34:55.874Z"
   },
   {
    "duration": 39,
    "start_time": "2022-12-05T23:34:56.522Z"
   },
   {
    "duration": 68,
    "start_time": "2022-12-05T23:34:56.563Z"
   },
   {
    "duration": 3,
    "start_time": "2022-12-05T23:34:56.633Z"
   },
   {
    "duration": 9,
    "start_time": "2022-12-05T23:34:56.638Z"
   },
   {
    "duration": 14,
    "start_time": "2022-12-05T23:34:56.648Z"
   },
   {
    "duration": 27,
    "start_time": "2022-12-05T23:34:56.663Z"
   },
   {
    "duration": 44,
    "start_time": "2022-12-05T23:34:56.691Z"
   },
   {
    "duration": 9,
    "start_time": "2022-12-05T23:34:56.736Z"
   },
   {
    "duration": 16,
    "start_time": "2022-12-05T23:34:56.746Z"
   },
   {
    "duration": 1362,
    "start_time": "2022-12-05T23:34:56.763Z"
   },
   {
    "duration": 307,
    "start_time": "2022-12-05T23:34:58.126Z"
   },
   {
    "duration": 17,
    "start_time": "2022-12-05T23:34:58.436Z"
   },
   {
    "duration": 6,
    "start_time": "2022-12-05T23:34:58.454Z"
   },
   {
    "duration": 13,
    "start_time": "2022-12-05T23:34:58.461Z"
   },
   {
    "duration": 193,
    "start_time": "2022-12-05T23:34:58.476Z"
   },
   {
    "duration": 19,
    "start_time": "2022-12-05T23:35:02.194Z"
   },
   {
    "duration": 4,
    "start_time": "2022-12-05T23:35:02.986Z"
   },
   {
    "duration": 161,
    "start_time": "2022-12-05T23:35:03.594Z"
   },
   {
    "duration": 17,
    "start_time": "2022-12-05T23:35:13.418Z"
   },
   {
    "duration": 3,
    "start_time": "2022-12-05T23:35:13.882Z"
   },
   {
    "duration": 148,
    "start_time": "2022-12-05T23:35:14.490Z"
   },
   {
    "duration": 4,
    "start_time": "2022-12-06T00:00:53.416Z"
   },
   {
    "duration": 2,
    "start_time": "2022-12-06T00:07:06.210Z"
   },
   {
    "duration": 5,
    "start_time": "2022-12-06T00:29:32.496Z"
   },
   {
    "duration": 594,
    "start_time": "2022-12-06T00:29:32.503Z"
   },
   {
    "duration": 43,
    "start_time": "2022-12-06T00:29:33.098Z"
   },
   {
    "duration": 49,
    "start_time": "2022-12-06T00:29:33.143Z"
   },
   {
    "duration": 2,
    "start_time": "2022-12-06T00:29:33.194Z"
   },
   {
    "duration": 6,
    "start_time": "2022-12-06T00:29:33.222Z"
   },
   {
    "duration": 11,
    "start_time": "2022-12-06T00:29:33.229Z"
   },
   {
    "duration": 30,
    "start_time": "2022-12-06T00:29:33.241Z"
   },
   {
    "duration": 33,
    "start_time": "2022-12-06T00:29:33.273Z"
   },
   {
    "duration": 15,
    "start_time": "2022-12-06T00:29:33.308Z"
   },
   {
    "duration": 8,
    "start_time": "2022-12-06T00:29:33.325Z"
   },
   {
    "duration": 1422,
    "start_time": "2022-12-06T00:29:33.334Z"
   },
   {
    "duration": 335,
    "start_time": "2022-12-06T00:29:34.757Z"
   },
   {
    "duration": 17,
    "start_time": "2022-12-06T00:29:35.093Z"
   },
   {
    "duration": 36,
    "start_time": "2022-12-06T00:29:35.112Z"
   },
   {
    "duration": 21,
    "start_time": "2022-12-06T00:29:35.149Z"
   },
   {
    "duration": 186,
    "start_time": "2022-12-06T00:29:35.171Z"
   },
   {
    "duration": 17,
    "start_time": "2022-12-06T00:29:35.358Z"
   },
   {
    "duration": 3,
    "start_time": "2022-12-06T00:29:35.377Z"
   },
   {
    "duration": 180,
    "start_time": "2022-12-06T00:29:35.382Z"
   },
   {
    "duration": 4,
    "start_time": "2022-12-06T00:29:35.564Z"
   },
   {
    "duration": 3,
    "start_time": "2022-12-06T00:29:39.047Z"
   },
   {
    "duration": 3,
    "start_time": "2022-12-06T00:29:39.495Z"
   },
   {
    "duration": 50,
    "start_time": "2022-12-06T00:38:15.722Z"
   },
   {
    "duration": 3,
    "start_time": "2022-12-06T00:44:53.684Z"
   },
   {
    "duration": 592,
    "start_time": "2022-12-06T00:44:53.689Z"
   },
   {
    "duration": 50,
    "start_time": "2022-12-06T00:44:54.283Z"
   },
   {
    "duration": 50,
    "start_time": "2022-12-06T00:44:54.335Z"
   },
   {
    "duration": 8,
    "start_time": "2022-12-06T00:44:54.387Z"
   },
   {
    "duration": 0,
    "start_time": "2022-12-06T00:44:54.397Z"
   },
   {
    "duration": 0,
    "start_time": "2022-12-06T00:44:54.398Z"
   },
   {
    "duration": 0,
    "start_time": "2022-12-06T00:44:54.422Z"
   },
   {
    "duration": 0,
    "start_time": "2022-12-06T00:44:54.423Z"
   },
   {
    "duration": 0,
    "start_time": "2022-12-06T00:44:54.424Z"
   },
   {
    "duration": 0,
    "start_time": "2022-12-06T00:44:54.425Z"
   },
   {
    "duration": 0,
    "start_time": "2022-12-06T00:44:54.425Z"
   },
   {
    "duration": 0,
    "start_time": "2022-12-06T00:44:54.426Z"
   },
   {
    "duration": 0,
    "start_time": "2022-12-06T00:44:54.427Z"
   },
   {
    "duration": 0,
    "start_time": "2022-12-06T00:44:54.428Z"
   },
   {
    "duration": 0,
    "start_time": "2022-12-06T00:44:54.429Z"
   },
   {
    "duration": 0,
    "start_time": "2022-12-06T00:44:54.430Z"
   },
   {
    "duration": 0,
    "start_time": "2022-12-06T00:44:54.430Z"
   },
   {
    "duration": 0,
    "start_time": "2022-12-06T00:44:54.431Z"
   },
   {
    "duration": 0,
    "start_time": "2022-12-06T00:44:54.432Z"
   },
   {
    "duration": 0,
    "start_time": "2022-12-06T00:44:54.433Z"
   },
   {
    "duration": 0,
    "start_time": "2022-12-06T00:44:54.434Z"
   },
   {
    "duration": 0,
    "start_time": "2022-12-06T00:44:54.434Z"
   },
   {
    "duration": 0,
    "start_time": "2022-12-06T00:44:54.435Z"
   },
   {
    "duration": 9,
    "start_time": "2022-12-06T00:46:46.434Z"
   },
   {
    "duration": 10,
    "start_time": "2022-12-06T00:47:21.861Z"
   },
   {
    "duration": 12,
    "start_time": "2022-12-06T00:47:33.888Z"
   },
   {
    "duration": 13,
    "start_time": "2022-12-06T00:47:49.238Z"
   },
   {
    "duration": 12,
    "start_time": "2022-12-06T00:48:12.711Z"
   },
   {
    "duration": 13,
    "start_time": "2022-12-06T00:48:22.164Z"
   },
   {
    "duration": 33,
    "start_time": "2022-12-06T00:48:40.970Z"
   },
   {
    "duration": 16,
    "start_time": "2022-12-06T00:49:03.912Z"
   },
   {
    "duration": 867,
    "start_time": "2022-12-06T00:49:20.180Z"
   },
   {
    "duration": 3,
    "start_time": "2022-12-06T00:49:25.942Z"
   },
   {
    "duration": 561,
    "start_time": "2022-12-06T00:49:25.947Z"
   },
   {
    "duration": 47,
    "start_time": "2022-12-06T00:49:26.509Z"
   },
   {
    "duration": 71,
    "start_time": "2022-12-06T00:49:26.557Z"
   },
   {
    "duration": 13,
    "start_time": "2022-12-06T00:49:26.629Z"
   },
   {
    "duration": 13,
    "start_time": "2022-12-06T00:49:28.835Z"
   },
   {
    "duration": 39,
    "start_time": "2022-12-06T00:49:39.131Z"
   },
   {
    "duration": 33,
    "start_time": "2022-12-06T00:49:52.444Z"
   },
   {
    "duration": 2,
    "start_time": "2022-12-06T00:49:53.284Z"
   },
   {
    "duration": 7,
    "start_time": "2022-12-06T00:49:56.059Z"
   },
   {
    "duration": 4,
    "start_time": "2022-12-06T00:50:00.676Z"
   },
   {
    "duration": 592,
    "start_time": "2022-12-06T00:50:00.682Z"
   },
   {
    "duration": 58,
    "start_time": "2022-12-06T00:50:01.276Z"
   },
   {
    "duration": 52,
    "start_time": "2022-12-06T00:50:01.336Z"
   },
   {
    "duration": 59,
    "start_time": "2022-12-06T00:50:01.390Z"
   },
   {
    "duration": 3,
    "start_time": "2022-12-06T00:50:01.451Z"
   },
   {
    "duration": 17,
    "start_time": "2022-12-06T00:50:01.456Z"
   },
   {
    "duration": 4,
    "start_time": "2022-12-06T00:50:03.230Z"
   },
   {
    "duration": 576,
    "start_time": "2022-12-06T00:50:03.236Z"
   },
   {
    "duration": 57,
    "start_time": "2022-12-06T00:50:03.814Z"
   },
   {
    "duration": 87,
    "start_time": "2022-12-06T00:50:03.873Z"
   },
   {
    "duration": 39,
    "start_time": "2022-12-06T00:50:03.962Z"
   },
   {
    "duration": 3,
    "start_time": "2022-12-06T00:50:04.003Z"
   },
   {
    "duration": 11,
    "start_time": "2022-12-06T00:50:04.021Z"
   },
   {
    "duration": 10,
    "start_time": "2022-12-06T00:50:04.034Z"
   },
   {
    "duration": 28,
    "start_time": "2022-12-06T00:50:04.046Z"
   },
   {
    "duration": 29,
    "start_time": "2022-12-06T00:50:04.076Z"
   },
   {
    "duration": 11,
    "start_time": "2022-12-06T00:50:04.123Z"
   },
   {
    "duration": 21,
    "start_time": "2022-12-06T00:50:04.135Z"
   },
   {
    "duration": 1348,
    "start_time": "2022-12-06T00:50:04.159Z"
   },
   {
    "duration": 307,
    "start_time": "2022-12-06T00:50:05.509Z"
   },
   {
    "duration": 17,
    "start_time": "2022-12-06T00:50:05.823Z"
   },
   {
    "duration": 3,
    "start_time": "2022-12-06T00:50:05.842Z"
   },
   {
    "duration": 8,
    "start_time": "2022-12-06T00:50:05.847Z"
   },
   {
    "duration": 188,
    "start_time": "2022-12-06T00:50:05.857Z"
   },
   {
    "duration": 17,
    "start_time": "2022-12-06T00:50:06.046Z"
   },
   {
    "duration": 5,
    "start_time": "2022-12-06T00:50:06.066Z"
   },
   {
    "duration": 169,
    "start_time": "2022-12-06T00:50:06.073Z"
   },
   {
    "duration": 3,
    "start_time": "2022-12-06T00:50:06.244Z"
   },
   {
    "duration": 4,
    "start_time": "2022-12-06T00:50:06.249Z"
   },
   {
    "duration": 71,
    "start_time": "2022-12-06T00:50:06.255Z"
   },
   {
    "duration": 18,
    "start_time": "2022-12-06T01:02:41.295Z"
   },
   {
    "duration": 4,
    "start_time": "2022-12-06T01:30:40.930Z"
   },
   {
    "duration": 555,
    "start_time": "2022-12-06T01:30:40.935Z"
   },
   {
    "duration": 46,
    "start_time": "2022-12-06T01:30:41.491Z"
   },
   {
    "duration": 48,
    "start_time": "2022-12-06T01:30:41.539Z"
   },
   {
    "duration": 62,
    "start_time": "2022-12-06T01:30:41.589Z"
   },
   {
    "duration": 4,
    "start_time": "2022-12-06T01:30:41.653Z"
   },
   {
    "duration": 8,
    "start_time": "2022-12-06T01:30:41.658Z"
   },
   {
    "duration": 5,
    "start_time": "2022-12-06T01:30:41.667Z"
   },
   {
    "duration": 15,
    "start_time": "2022-12-06T01:30:41.674Z"
   },
   {
    "duration": 43,
    "start_time": "2022-12-06T01:30:41.691Z"
   },
   {
    "duration": 9,
    "start_time": "2022-12-06T01:30:41.735Z"
   },
   {
    "duration": 8,
    "start_time": "2022-12-06T01:30:41.745Z"
   },
   {
    "duration": 1325,
    "start_time": "2022-12-06T01:30:41.754Z"
   },
   {
    "duration": 311,
    "start_time": "2022-12-06T01:30:43.080Z"
   },
   {
    "duration": 16,
    "start_time": "2022-12-06T01:30:43.393Z"
   },
   {
    "duration": 11,
    "start_time": "2022-12-06T01:30:43.411Z"
   },
   {
    "duration": 2,
    "start_time": "2022-12-06T01:30:43.424Z"
   },
   {
    "duration": 179,
    "start_time": "2022-12-06T01:30:43.428Z"
   },
   {
    "duration": 24,
    "start_time": "2022-12-06T01:30:43.608Z"
   },
   {
    "duration": 3,
    "start_time": "2022-12-06T01:30:43.634Z"
   },
   {
    "duration": 162,
    "start_time": "2022-12-06T01:30:43.639Z"
   },
   {
    "duration": 3,
    "start_time": "2022-12-06T01:30:43.802Z"
   },
   {
    "duration": 16,
    "start_time": "2022-12-06T01:30:43.807Z"
   },
   {
    "duration": 9,
    "start_time": "2022-12-06T01:30:46.015Z"
   },
   {
    "duration": 3,
    "start_time": "2022-12-06T01:30:57.375Z"
   },
   {
    "duration": 14,
    "start_time": "2022-12-06T01:30:58.214Z"
   },
   {
    "duration": 7,
    "start_time": "2022-12-06T01:30:58.751Z"
   },
   {
    "duration": 8,
    "start_time": "2022-12-06T01:30:59.334Z"
   },
   {
    "duration": 3,
    "start_time": "2022-12-06T01:40:45.016Z"
   },
   {
    "duration": 86,
    "start_time": "2022-12-06T01:45:31.842Z"
   },
   {
    "duration": 83,
    "start_time": "2022-12-06T01:45:51.865Z"
   },
   {
    "duration": 80,
    "start_time": "2022-12-06T01:46:10.706Z"
   },
   {
    "duration": 4,
    "start_time": "2022-12-06T01:46:55.189Z"
   },
   {
    "duration": 4,
    "start_time": "2022-12-06T01:47:01.106Z"
   },
   {
    "duration": 105,
    "start_time": "2022-12-06T02:00:10.301Z"
   },
   {
    "duration": 96,
    "start_time": "2022-12-06T02:01:13.101Z"
   },
   {
    "duration": 4,
    "start_time": "2022-12-06T02:01:54.101Z"
   },
   {
    "duration": 10569,
    "start_time": "2022-12-06T02:01:55.086Z"
   },
   {
    "duration": 13,
    "start_time": "2022-12-06T02:02:18.613Z"
   },
   {
    "duration": 14,
    "start_time": "2022-12-06T02:02:22.141Z"
   },
   {
    "duration": 3,
    "start_time": "2022-12-06T02:03:20.758Z"
   },
   {
    "duration": 70770,
    "start_time": "2022-12-06T02:03:26.326Z"
   },
   {
    "duration": 3,
    "start_time": "2022-12-06T02:04:38.470Z"
   },
   {
    "duration": 0,
    "start_time": "2022-12-06T02:06:03.630Z"
   },
   {
    "duration": 0,
    "start_time": "2022-12-06T02:06:03.631Z"
   },
   {
    "duration": 3,
    "start_time": "2022-12-06T02:06:05.382Z"
   },
   {
    "duration": 3225,
    "start_time": "2022-12-06T02:06:06.118Z"
   },
   {
    "duration": 2,
    "start_time": "2022-12-06T02:07:31.895Z"
   },
   {
    "duration": 3,
    "start_time": "2022-12-06T02:07:32.342Z"
   },
   {
    "duration": 62653,
    "start_time": "2022-12-06T02:07:32.879Z"
   },
   {
    "duration": 3,
    "start_time": "2022-12-06T02:08:35.534Z"
   },
   {
    "duration": 588,
    "start_time": "2022-12-06T02:08:35.539Z"
   },
   {
    "duration": 45,
    "start_time": "2022-12-06T02:08:36.129Z"
   },
   {
    "duration": 74,
    "start_time": "2022-12-06T02:08:36.175Z"
   },
   {
    "duration": 32,
    "start_time": "2022-12-06T02:08:36.251Z"
   },
   {
    "duration": 3,
    "start_time": "2022-12-06T02:08:36.285Z"
   },
   {
    "duration": 8,
    "start_time": "2022-12-06T02:08:36.289Z"
   },
   {
    "duration": 25,
    "start_time": "2022-12-06T02:08:36.298Z"
   },
   {
    "duration": 13,
    "start_time": "2022-12-06T02:08:36.325Z"
   },
   {
    "duration": 24,
    "start_time": "2022-12-06T02:08:36.339Z"
   },
   {
    "duration": 9,
    "start_time": "2022-12-06T02:08:36.365Z"
   },
   {
    "duration": 9,
    "start_time": "2022-12-06T02:08:36.376Z"
   },
   {
    "duration": 1191,
    "start_time": "2022-12-06T02:08:36.422Z"
   },
   {
    "duration": 350,
    "start_time": "2022-12-06T02:08:37.622Z"
   },
   {
    "duration": 0,
    "start_time": "2022-12-06T02:08:37.974Z"
   },
   {
    "duration": 0,
    "start_time": "2022-12-06T02:08:37.976Z"
   },
   {
    "duration": 0,
    "start_time": "2022-12-06T02:08:37.977Z"
   },
   {
    "duration": 0,
    "start_time": "2022-12-06T02:08:37.978Z"
   },
   {
    "duration": 0,
    "start_time": "2022-12-06T02:08:37.980Z"
   },
   {
    "duration": 0,
    "start_time": "2022-12-06T02:08:37.981Z"
   },
   {
    "duration": 0,
    "start_time": "2022-12-06T02:08:37.982Z"
   },
   {
    "duration": 0,
    "start_time": "2022-12-06T02:08:37.983Z"
   },
   {
    "duration": 0,
    "start_time": "2022-12-06T02:08:37.985Z"
   },
   {
    "duration": 0,
    "start_time": "2022-12-06T02:08:37.986Z"
   },
   {
    "duration": 0,
    "start_time": "2022-12-06T02:08:37.987Z"
   },
   {
    "duration": 0,
    "start_time": "2022-12-06T02:08:37.989Z"
   },
   {
    "duration": 0,
    "start_time": "2022-12-06T02:08:37.990Z"
   },
   {
    "duration": 0,
    "start_time": "2022-12-06T02:08:38.022Z"
   },
   {
    "duration": 0,
    "start_time": "2022-12-06T02:08:38.024Z"
   },
   {
    "duration": 81,
    "start_time": "2022-12-06T02:08:43.086Z"
   },
   {
    "duration": 3,
    "start_time": "2022-12-06T02:08:58.367Z"
   },
   {
    "duration": 3,
    "start_time": "2022-12-06T02:08:59.375Z"
   },
   {
    "duration": 47800,
    "start_time": "2022-12-06T02:09:00.375Z"
   },
   {
    "duration": 4,
    "start_time": "2022-12-06T02:09:48.176Z"
   },
   {
    "duration": 563,
    "start_time": "2022-12-06T02:09:48.181Z"
   },
   {
    "duration": 40,
    "start_time": "2022-12-06T02:09:48.746Z"
   },
   {
    "duration": 70,
    "start_time": "2022-12-06T02:09:48.788Z"
   },
   {
    "duration": 35,
    "start_time": "2022-12-06T02:09:48.859Z"
   },
   {
    "duration": 3,
    "start_time": "2022-12-06T02:09:48.896Z"
   },
   {
    "duration": 26,
    "start_time": "2022-12-06T02:09:48.900Z"
   },
   {
    "duration": 8,
    "start_time": "2022-12-06T02:09:48.927Z"
   },
   {
    "duration": 16,
    "start_time": "2022-12-06T02:09:48.938Z"
   },
   {
    "duration": 25,
    "start_time": "2022-12-06T02:09:48.956Z"
   },
   {
    "duration": 12,
    "start_time": "2022-12-06T02:09:48.983Z"
   },
   {
    "duration": 14,
    "start_time": "2022-12-06T02:09:49.021Z"
   },
   {
    "duration": 1232,
    "start_time": "2022-12-06T02:09:49.037Z"
   },
   {
    "duration": 302,
    "start_time": "2022-12-06T02:09:50.270Z"
   },
   {
    "duration": 16,
    "start_time": "2022-12-06T02:09:50.573Z"
   },
   {
    "duration": 3,
    "start_time": "2022-12-06T02:09:50.590Z"
   },
   {
    "duration": 6,
    "start_time": "2022-12-06T02:09:50.594Z"
   },
   {
    "duration": 288,
    "start_time": "2022-12-06T02:09:50.601Z"
   },
   {
    "duration": 17,
    "start_time": "2022-12-06T02:09:50.891Z"
   },
   {
    "duration": 12,
    "start_time": "2022-12-06T02:09:50.910Z"
   },
   {
    "duration": 155,
    "start_time": "2022-12-06T02:09:50.923Z"
   },
   {
    "duration": 3,
    "start_time": "2022-12-06T02:09:51.079Z"
   },
   {
    "duration": 27,
    "start_time": "2022-12-06T02:09:51.083Z"
   },
   {
    "duration": 6,
    "start_time": "2022-12-06T02:09:51.112Z"
   },
   {
    "duration": 17,
    "start_time": "2022-12-06T02:09:51.120Z"
   },
   {
    "duration": 7,
    "start_time": "2022-12-06T02:09:51.139Z"
   },
   {
    "duration": 10,
    "start_time": "2022-12-06T02:09:51.148Z"
   },
   {
    "duration": 4,
    "start_time": "2022-12-06T02:09:57.226Z"
   },
   {
    "duration": 614,
    "start_time": "2022-12-06T02:09:57.233Z"
   },
   {
    "duration": 41,
    "start_time": "2022-12-06T02:09:57.849Z"
   },
   {
    "duration": 69,
    "start_time": "2022-12-06T02:09:57.892Z"
   },
   {
    "duration": 38,
    "start_time": "2022-12-06T02:09:57.963Z"
   },
   {
    "duration": 19,
    "start_time": "2022-12-06T02:09:58.003Z"
   },
   {
    "duration": 7,
    "start_time": "2022-12-06T02:09:58.024Z"
   },
   {
    "duration": 7,
    "start_time": "2022-12-06T02:09:58.032Z"
   },
   {
    "duration": 15,
    "start_time": "2022-12-06T02:09:58.042Z"
   },
   {
    "duration": 25,
    "start_time": "2022-12-06T02:09:58.059Z"
   },
   {
    "duration": 41,
    "start_time": "2022-12-06T02:09:58.085Z"
   },
   {
    "duration": 8,
    "start_time": "2022-12-06T02:09:58.128Z"
   },
   {
    "duration": 1306,
    "start_time": "2022-12-06T02:09:58.137Z"
   },
   {
    "duration": 436,
    "start_time": "2022-12-06T02:09:59.444Z"
   },
   {
    "duration": 16,
    "start_time": "2022-12-06T02:09:59.882Z"
   },
   {
    "duration": 3,
    "start_time": "2022-12-06T02:09:59.899Z"
   },
   {
    "duration": 5,
    "start_time": "2022-12-06T02:09:59.903Z"
   },
   {
    "duration": 185,
    "start_time": "2022-12-06T02:09:59.909Z"
   },
   {
    "duration": 31,
    "start_time": "2022-12-06T02:10:00.095Z"
   },
   {
    "duration": 5,
    "start_time": "2022-12-06T02:10:00.127Z"
   },
   {
    "duration": 174,
    "start_time": "2022-12-06T02:10:00.133Z"
   },
   {
    "duration": 3,
    "start_time": "2022-12-06T02:10:00.309Z"
   },
   {
    "duration": 21,
    "start_time": "2022-12-06T02:10:00.321Z"
   },
   {
    "duration": 17,
    "start_time": "2022-12-06T02:10:00.345Z"
   },
   {
    "duration": 50,
    "start_time": "2022-12-06T02:10:00.364Z"
   },
   {
    "duration": 34,
    "start_time": "2022-12-06T02:10:00.415Z"
   },
   {
    "duration": 35,
    "start_time": "2022-12-06T02:10:00.451Z"
   },
   {
    "duration": 2,
    "start_time": "2022-12-06T02:10:03.607Z"
   },
   {
    "duration": 3,
    "start_time": "2022-12-06T02:10:04.463Z"
   },
   {
    "duration": 7880,
    "start_time": "2022-12-06T02:10:05.200Z"
   },
   {
    "duration": 3,
    "start_time": "2022-12-06T02:10:27.295Z"
   },
   {
    "duration": 3,
    "start_time": "2022-12-06T02:10:38.663Z"
   },
   {
    "duration": 4,
    "start_time": "2022-12-06T02:10:41.111Z"
   },
   {
    "duration": 4725,
    "start_time": "2022-12-06T02:10:50.768Z"
   },
   {
    "duration": 3,
    "start_time": "2022-12-06T02:11:39.466Z"
   },
   {
    "duration": 3,
    "start_time": "2022-12-06T02:11:41.929Z"
   },
   {
    "duration": 9,
    "start_time": "2022-12-06T02:11:42.378Z"
   },
   {
    "duration": 14,
    "start_time": "2022-12-06T02:11:42.584Z"
   },
   {
    "duration": 13,
    "start_time": "2022-12-06T02:11:42.783Z"
   },
   {
    "duration": 4,
    "start_time": "2022-12-06T02:11:48.051Z"
   },
   {
    "duration": 664,
    "start_time": "2022-12-06T02:11:48.057Z"
   },
   {
    "duration": 41,
    "start_time": "2022-12-06T02:11:48.723Z"
   },
   {
    "duration": 71,
    "start_time": "2022-12-06T02:11:48.766Z"
   },
   {
    "duration": 36,
    "start_time": "2022-12-06T02:11:48.838Z"
   },
   {
    "duration": 3,
    "start_time": "2022-12-06T02:11:48.876Z"
   },
   {
    "duration": 12,
    "start_time": "2022-12-06T02:11:48.880Z"
   },
   {
    "duration": 4,
    "start_time": "2022-12-06T02:11:48.894Z"
   },
   {
    "duration": 35,
    "start_time": "2022-12-06T02:11:48.900Z"
   },
   {
    "duration": 25,
    "start_time": "2022-12-06T02:11:48.938Z"
   },
   {
    "duration": 10,
    "start_time": "2022-12-06T02:11:48.964Z"
   },
   {
    "duration": 9,
    "start_time": "2022-12-06T02:11:48.975Z"
   },
   {
    "duration": 1271,
    "start_time": "2022-12-06T02:11:48.986Z"
   },
   {
    "duration": 405,
    "start_time": "2022-12-06T02:11:50.259Z"
   },
   {
    "duration": 17,
    "start_time": "2022-12-06T02:11:50.666Z"
   },
   {
    "duration": 3,
    "start_time": "2022-12-06T02:11:50.684Z"
   },
   {
    "duration": 19,
    "start_time": "2022-12-06T02:11:50.688Z"
   },
   {
    "duration": 173,
    "start_time": "2022-12-06T02:11:50.708Z"
   },
   {
    "duration": 18,
    "start_time": "2022-12-06T02:11:50.883Z"
   },
   {
    "duration": 4,
    "start_time": "2022-12-06T02:11:50.902Z"
   },
   {
    "duration": 169,
    "start_time": "2022-12-06T02:11:50.908Z"
   },
   {
    "duration": 4,
    "start_time": "2022-12-06T02:11:51.078Z"
   },
   {
    "duration": 12,
    "start_time": "2022-12-06T02:11:51.084Z"
   },
   {
    "duration": 5,
    "start_time": "2022-12-06T02:11:51.097Z"
   },
   {
    "duration": 22,
    "start_time": "2022-12-06T02:11:51.103Z"
   },
   {
    "duration": 14,
    "start_time": "2022-12-06T02:11:56.199Z"
   },
   {
    "duration": 8,
    "start_time": "2022-12-06T02:11:56.807Z"
   },
   {
    "duration": 1130,
    "start_time": "2022-12-06T02:11:57.784Z"
   },
   {
    "duration": 3,
    "start_time": "2022-12-06T02:11:58.976Z"
   },
   {
    "duration": 3,
    "start_time": "2022-12-06T02:12:03.544Z"
   },
   {
    "duration": 15814,
    "start_time": "2022-12-06T02:12:05.699Z"
   },
   {
    "duration": 3,
    "start_time": "2022-12-06T02:12:42.122Z"
   },
   {
    "duration": 622,
    "start_time": "2022-12-06T02:12:42.127Z"
   },
   {
    "duration": 41,
    "start_time": "2022-12-06T02:12:42.751Z"
   },
   {
    "duration": 70,
    "start_time": "2022-12-06T02:12:42.793Z"
   },
   {
    "duration": 36,
    "start_time": "2022-12-06T02:12:42.865Z"
   },
   {
    "duration": 3,
    "start_time": "2022-12-06T02:12:42.903Z"
   },
   {
    "duration": 7,
    "start_time": "2022-12-06T02:12:42.922Z"
   },
   {
    "duration": 7,
    "start_time": "2022-12-06T02:12:42.930Z"
   },
   {
    "duration": 16,
    "start_time": "2022-12-06T02:12:42.939Z"
   },
   {
    "duration": 23,
    "start_time": "2022-12-06T02:12:42.956Z"
   },
   {
    "duration": 9,
    "start_time": "2022-12-06T02:12:42.980Z"
   },
   {
    "duration": 36,
    "start_time": "2022-12-06T02:12:42.991Z"
   },
   {
    "duration": 1333,
    "start_time": "2022-12-06T02:12:43.028Z"
   },
   {
    "duration": 301,
    "start_time": "2022-12-06T02:12:44.364Z"
   },
   {
    "duration": 17,
    "start_time": "2022-12-06T02:12:44.667Z"
   },
   {
    "duration": 2,
    "start_time": "2022-12-06T02:12:44.686Z"
   },
   {
    "duration": 5,
    "start_time": "2022-12-06T02:12:44.690Z"
   },
   {
    "duration": 189,
    "start_time": "2022-12-06T02:12:44.696Z"
   },
   {
    "duration": 18,
    "start_time": "2022-12-06T02:12:44.886Z"
   },
   {
    "duration": 4,
    "start_time": "2022-12-06T02:12:44.905Z"
   },
   {
    "duration": 176,
    "start_time": "2022-12-06T02:12:44.910Z"
   },
   {
    "duration": 4,
    "start_time": "2022-12-06T02:12:45.087Z"
   },
   {
    "duration": 11,
    "start_time": "2022-12-06T02:12:45.092Z"
   },
   {
    "duration": 9,
    "start_time": "2022-12-06T02:12:45.104Z"
   },
   {
    "duration": 26,
    "start_time": "2022-12-06T02:12:45.115Z"
   },
   {
    "duration": 8,
    "start_time": "2022-12-06T02:12:45.143Z"
   },
   {
    "duration": 12,
    "start_time": "2022-12-06T02:12:48.617Z"
   },
   {
    "duration": 7,
    "start_time": "2022-12-06T02:12:49.538Z"
   },
   {
    "duration": 3,
    "start_time": "2022-12-06T02:12:51.232Z"
   },
   {
    "duration": 3,
    "start_time": "2022-12-06T02:12:51.928Z"
   },
   {
    "duration": 3,
    "start_time": "2022-12-06T02:14:21.799Z"
   },
   {
    "duration": 13031,
    "start_time": "2022-12-06T02:14:21.803Z"
   },
   {
    "duration": 8,
    "start_time": "2022-12-06T02:14:34.836Z"
   },
   {
    "duration": 0,
    "start_time": "2022-12-06T02:14:34.846Z"
   },
   {
    "duration": 0,
    "start_time": "2022-12-06T02:14:34.850Z"
   },
   {
    "duration": 0,
    "start_time": "2022-12-06T02:14:34.851Z"
   },
   {
    "duration": 0,
    "start_time": "2022-12-06T02:14:34.852Z"
   },
   {
    "duration": 0,
    "start_time": "2022-12-06T02:14:34.854Z"
   },
   {
    "duration": 0,
    "start_time": "2022-12-06T02:14:34.855Z"
   },
   {
    "duration": 0,
    "start_time": "2022-12-06T02:14:34.856Z"
   },
   {
    "duration": 0,
    "start_time": "2022-12-06T02:14:34.857Z"
   },
   {
    "duration": 0,
    "start_time": "2022-12-06T02:14:34.859Z"
   },
   {
    "duration": 0,
    "start_time": "2022-12-06T02:14:34.860Z"
   },
   {
    "duration": 0,
    "start_time": "2022-12-06T02:14:34.861Z"
   },
   {
    "duration": 0,
    "start_time": "2022-12-06T02:14:34.862Z"
   },
   {
    "duration": 1,
    "start_time": "2022-12-06T02:14:34.863Z"
   },
   {
    "duration": 0,
    "start_time": "2022-12-06T02:14:34.865Z"
   },
   {
    "duration": 0,
    "start_time": "2022-12-06T02:14:34.866Z"
   },
   {
    "duration": 0,
    "start_time": "2022-12-06T02:14:34.867Z"
   },
   {
    "duration": 0,
    "start_time": "2022-12-06T02:14:34.868Z"
   },
   {
    "duration": 0,
    "start_time": "2022-12-06T02:14:34.869Z"
   },
   {
    "duration": 0,
    "start_time": "2022-12-06T02:14:34.870Z"
   },
   {
    "duration": 0,
    "start_time": "2022-12-06T02:14:34.870Z"
   },
   {
    "duration": 0,
    "start_time": "2022-12-06T02:14:34.871Z"
   },
   {
    "duration": 0,
    "start_time": "2022-12-06T02:14:34.872Z"
   },
   {
    "duration": 0,
    "start_time": "2022-12-06T02:14:34.873Z"
   },
   {
    "duration": 0,
    "start_time": "2022-12-06T02:14:34.922Z"
   },
   {
    "duration": 0,
    "start_time": "2022-12-06T02:14:34.923Z"
   },
   {
    "duration": 0,
    "start_time": "2022-12-06T02:14:34.924Z"
   },
   {
    "duration": 0,
    "start_time": "2022-12-06T02:14:34.925Z"
   },
   {
    "duration": 0,
    "start_time": "2022-12-06T02:14:34.926Z"
   },
   {
    "duration": 1,
    "start_time": "2022-12-06T02:14:34.926Z"
   },
   {
    "duration": 4,
    "start_time": "2022-12-06T02:14:40.516Z"
   },
   {
    "duration": 631,
    "start_time": "2022-12-06T02:14:40.522Z"
   },
   {
    "duration": 41,
    "start_time": "2022-12-06T02:14:41.155Z"
   },
   {
    "duration": 68,
    "start_time": "2022-12-06T02:14:41.197Z"
   },
   {
    "duration": 35,
    "start_time": "2022-12-06T02:14:41.266Z"
   },
   {
    "duration": 3,
    "start_time": "2022-12-06T02:14:41.303Z"
   },
   {
    "duration": 7,
    "start_time": "2022-12-06T02:14:41.322Z"
   },
   {
    "duration": 6,
    "start_time": "2022-12-06T02:14:41.330Z"
   },
   {
    "duration": 16,
    "start_time": "2022-12-06T02:14:41.337Z"
   },
   {
    "duration": 26,
    "start_time": "2022-12-06T02:14:41.354Z"
   },
   {
    "duration": 42,
    "start_time": "2022-12-06T02:14:41.382Z"
   },
   {
    "duration": 9,
    "start_time": "2022-12-06T02:14:41.425Z"
   },
   {
    "duration": 1353,
    "start_time": "2022-12-06T02:14:41.436Z"
   },
   {
    "duration": 299,
    "start_time": "2022-12-06T02:14:42.792Z"
   },
   {
    "duration": 16,
    "start_time": "2022-12-06T02:14:43.093Z"
   },
   {
    "duration": 11,
    "start_time": "2022-12-06T02:14:43.111Z"
   },
   {
    "duration": 3,
    "start_time": "2022-12-06T02:14:43.123Z"
   },
   {
    "duration": 173,
    "start_time": "2022-12-06T02:14:43.127Z"
   },
   {
    "duration": 25,
    "start_time": "2022-12-06T02:14:43.302Z"
   },
   {
    "duration": 4,
    "start_time": "2022-12-06T02:14:43.328Z"
   },
   {
    "duration": 156,
    "start_time": "2022-12-06T02:14:43.333Z"
   },
   {
    "duration": 3,
    "start_time": "2022-12-06T02:14:43.490Z"
   },
   {
    "duration": 5,
    "start_time": "2022-12-06T02:14:43.494Z"
   },
   {
    "duration": 7,
    "start_time": "2022-12-06T02:14:43.501Z"
   },
   {
    "duration": 22,
    "start_time": "2022-12-06T02:14:43.509Z"
   },
   {
    "duration": 7,
    "start_time": "2022-12-06T02:14:43.532Z"
   },
   {
    "duration": 8,
    "start_time": "2022-12-06T02:14:43.541Z"
   },
   {
    "duration": 2,
    "start_time": "2022-12-06T02:14:46.560Z"
   },
   {
    "duration": 3,
    "start_time": "2022-12-06T02:14:47.714Z"
   },
   {
    "duration": 20005,
    "start_time": "2022-12-06T02:14:52.762Z"
   },
   {
    "duration": 4,
    "start_time": "2022-12-06T02:16:22.877Z"
   },
   {
    "duration": 591,
    "start_time": "2022-12-06T02:16:22.883Z"
   },
   {
    "duration": 52,
    "start_time": "2022-12-06T02:16:23.475Z"
   },
   {
    "duration": 50,
    "start_time": "2022-12-06T02:16:23.529Z"
   },
   {
    "duration": 58,
    "start_time": "2022-12-06T02:16:23.581Z"
   },
   {
    "duration": 3,
    "start_time": "2022-12-06T02:16:23.641Z"
   },
   {
    "duration": 9,
    "start_time": "2022-12-06T02:16:23.645Z"
   },
   {
    "duration": 7,
    "start_time": "2022-12-06T02:16:23.655Z"
   },
   {
    "duration": 18,
    "start_time": "2022-12-06T02:16:23.663Z"
   },
   {
    "duration": 40,
    "start_time": "2022-12-06T02:16:23.683Z"
   },
   {
    "duration": 10,
    "start_time": "2022-12-06T02:16:23.724Z"
   },
   {
    "duration": 8,
    "start_time": "2022-12-06T02:16:23.735Z"
   },
   {
    "duration": 1373,
    "start_time": "2022-12-06T02:16:23.745Z"
   },
   {
    "duration": 303,
    "start_time": "2022-12-06T02:16:25.121Z"
   },
   {
    "duration": 17,
    "start_time": "2022-12-06T02:16:25.426Z"
   },
   {
    "duration": 3,
    "start_time": "2022-12-06T02:16:25.445Z"
   },
   {
    "duration": 6,
    "start_time": "2022-12-06T02:16:25.449Z"
   },
   {
    "duration": 182,
    "start_time": "2022-12-06T02:16:25.456Z"
   },
   {
    "duration": 17,
    "start_time": "2022-12-06T02:16:25.640Z"
   },
   {
    "duration": 4,
    "start_time": "2022-12-06T02:16:25.658Z"
   },
   {
    "duration": 174,
    "start_time": "2022-12-06T02:16:25.663Z"
   },
   {
    "duration": 3,
    "start_time": "2022-12-06T02:16:29.137Z"
   },
   {
    "duration": 3,
    "start_time": "2022-12-06T02:16:30.289Z"
   },
   {
    "duration": 3,
    "start_time": "2022-12-06T02:16:35.337Z"
   },
   {
    "duration": 12,
    "start_time": "2022-12-06T02:16:36.033Z"
   },
   {
    "duration": 7,
    "start_time": "2022-12-06T02:16:40.921Z"
   },
   {
    "duration": 7,
    "start_time": "2022-12-06T02:16:41.786Z"
   },
   {
    "duration": 3,
    "start_time": "2022-12-06T02:16:43.761Z"
   },
   {
    "duration": 3,
    "start_time": "2022-12-06T02:16:44.313Z"
   },
   {
    "duration": 18204,
    "start_time": "2022-12-06T02:16:44.994Z"
   },
   {
    "duration": 9,
    "start_time": "2022-12-06T02:19:12.370Z"
   },
   {
    "duration": 3,
    "start_time": "2022-12-06T02:19:25.362Z"
   },
   {
    "duration": 9,
    "start_time": "2022-12-06T02:19:26.001Z"
   },
   {
    "duration": 5,
    "start_time": "2022-12-06T02:20:02.603Z"
   },
   {
    "duration": 3,
    "start_time": "2022-12-06T02:20:11.378Z"
   },
   {
    "duration": 3,
    "start_time": "2022-12-06T02:20:11.941Z"
   },
   {
    "duration": 10,
    "start_time": "2022-12-06T02:20:12.271Z"
   },
   {
    "duration": 14,
    "start_time": "2022-12-06T02:20:12.739Z"
   },
   {
    "duration": 4,
    "start_time": "2022-12-06T02:20:16.893Z"
   },
   {
    "duration": 601,
    "start_time": "2022-12-06T02:20:16.898Z"
   },
   {
    "duration": 48,
    "start_time": "2022-12-06T02:20:17.501Z"
   },
   {
    "duration": 49,
    "start_time": "2022-12-06T02:20:17.550Z"
   },
   {
    "duration": 37,
    "start_time": "2022-12-06T02:20:17.621Z"
   },
   {
    "duration": 3,
    "start_time": "2022-12-06T02:20:17.659Z"
   },
   {
    "duration": 7,
    "start_time": "2022-12-06T02:20:17.664Z"
   },
   {
    "duration": 5,
    "start_time": "2022-12-06T02:20:17.673Z"
   },
   {
    "duration": 18,
    "start_time": "2022-12-06T02:20:17.680Z"
   },
   {
    "duration": 44,
    "start_time": "2022-12-06T02:20:17.700Z"
   },
   {
    "duration": 10,
    "start_time": "2022-12-06T02:20:17.746Z"
   },
   {
    "duration": 9,
    "start_time": "2022-12-06T02:20:17.758Z"
   },
   {
    "duration": 1374,
    "start_time": "2022-12-06T02:20:17.769Z"
   },
   {
    "duration": 307,
    "start_time": "2022-12-06T02:20:19.146Z"
   },
   {
    "duration": 17,
    "start_time": "2022-12-06T02:20:19.455Z"
   },
   {
    "duration": 2,
    "start_time": "2022-12-06T02:20:19.474Z"
   },
   {
    "duration": 7,
    "start_time": "2022-12-06T02:20:19.477Z"
   },
   {
    "duration": 180,
    "start_time": "2022-12-06T02:20:19.486Z"
   },
   {
    "duration": 17,
    "start_time": "2022-12-06T02:20:19.668Z"
   },
   {
    "duration": 3,
    "start_time": "2022-12-06T02:20:19.687Z"
   },
   {
    "duration": 164,
    "start_time": "2022-12-06T02:20:19.692Z"
   },
   {
    "duration": 3,
    "start_time": "2022-12-06T02:20:23.634Z"
   },
   {
    "duration": 3,
    "start_time": "2022-12-06T02:20:24.041Z"
   },
   {
    "duration": 3,
    "start_time": "2022-12-06T02:20:24.530Z"
   },
   {
    "duration": 13,
    "start_time": "2022-12-06T02:20:25.482Z"
   },
   {
    "duration": 8,
    "start_time": "2022-12-06T02:20:26.394Z"
   },
   {
    "duration": 7,
    "start_time": "2022-12-06T02:20:26.875Z"
   },
   {
    "duration": 2,
    "start_time": "2022-12-06T02:20:31.146Z"
   },
   {
    "duration": 3,
    "start_time": "2022-12-06T02:20:36.667Z"
   },
   {
    "duration": 95563,
    "start_time": "2022-12-06T02:21:31.700Z"
   },
   {
    "duration": 3,
    "start_time": "2022-12-06T02:23:07.264Z"
   },
   {
    "duration": 4,
    "start_time": "2022-12-06T02:23:13.782Z"
   },
   {
    "duration": 588,
    "start_time": "2022-12-06T02:23:13.788Z"
   },
   {
    "duration": 56,
    "start_time": "2022-12-06T02:23:14.377Z"
   },
   {
    "duration": 52,
    "start_time": "2022-12-06T02:23:14.435Z"
   },
   {
    "duration": 61,
    "start_time": "2022-12-06T02:23:14.489Z"
   },
   {
    "duration": 3,
    "start_time": "2022-12-06T02:23:14.552Z"
   },
   {
    "duration": 9,
    "start_time": "2022-12-06T02:23:14.556Z"
   },
   {
    "duration": 7,
    "start_time": "2022-12-06T02:23:14.566Z"
   },
   {
    "duration": 22,
    "start_time": "2022-12-06T02:23:14.574Z"
   },
   {
    "duration": 40,
    "start_time": "2022-12-06T02:23:14.599Z"
   },
   {
    "duration": 9,
    "start_time": "2022-12-06T02:23:14.641Z"
   },
   {
    "duration": 7,
    "start_time": "2022-12-06T02:23:14.652Z"
   },
   {
    "duration": 1354,
    "start_time": "2022-12-06T02:23:14.660Z"
   },
   {
    "duration": 293,
    "start_time": "2022-12-06T02:23:16.021Z"
   },
   {
    "duration": 19,
    "start_time": "2022-12-06T02:23:16.316Z"
   },
   {
    "duration": 2,
    "start_time": "2022-12-06T02:23:16.336Z"
   },
   {
    "duration": 5,
    "start_time": "2022-12-06T02:23:16.340Z"
   },
   {
    "duration": 182,
    "start_time": "2022-12-06T02:23:16.346Z"
   },
   {
    "duration": 18,
    "start_time": "2022-12-06T02:23:16.529Z"
   },
   {
    "duration": 3,
    "start_time": "2022-12-06T02:23:16.549Z"
   },
   {
    "duration": 165,
    "start_time": "2022-12-06T02:23:16.554Z"
   },
   {
    "duration": 3,
    "start_time": "2022-12-06T02:23:16.720Z"
   },
   {
    "duration": 6,
    "start_time": "2022-12-06T02:23:16.724Z"
   },
   {
    "duration": 6,
    "start_time": "2022-12-06T02:23:16.731Z"
   },
   {
    "duration": 15,
    "start_time": "2022-12-06T02:23:16.738Z"
   },
   {
    "duration": 7,
    "start_time": "2022-12-06T02:23:16.754Z"
   },
   {
    "duration": 7,
    "start_time": "2022-12-06T02:23:16.763Z"
   },
   {
    "duration": 4,
    "start_time": "2022-12-06T02:23:16.773Z"
   },
   {
    "duration": 2,
    "start_time": "2022-12-06T02:24:28.235Z"
   },
   {
    "duration": 3,
    "start_time": "2022-12-06T02:24:50.099Z"
   },
   {
    "duration": 10,
    "start_time": "2022-12-06T02:24:50.540Z"
   },
   {
    "duration": 3,
    "start_time": "2022-12-06T02:24:59.876Z"
   },
   {
    "duration": 19,
    "start_time": "2022-12-06T02:26:20.283Z"
   },
   {
    "duration": 1,
    "start_time": "2022-12-06T02:31:00.441Z"
   },
   {
    "duration": 0,
    "start_time": "2022-12-06T02:31:00.443Z"
   },
   {
    "duration": 3,
    "start_time": "2022-12-06T02:31:04.287Z"
   },
   {
    "duration": 549,
    "start_time": "2022-12-06T02:31:04.292Z"
   },
   {
    "duration": 38,
    "start_time": "2022-12-06T02:31:04.842Z"
   },
   {
    "duration": 67,
    "start_time": "2022-12-06T02:31:04.882Z"
   },
   {
    "duration": 37,
    "start_time": "2022-12-06T02:31:04.950Z"
   },
   {
    "duration": 3,
    "start_time": "2022-12-06T02:31:04.988Z"
   },
   {
    "duration": 11,
    "start_time": "2022-12-06T02:31:04.992Z"
   },
   {
    "duration": 4,
    "start_time": "2022-12-06T02:31:05.022Z"
   },
   {
    "duration": 19,
    "start_time": "2022-12-06T02:31:05.028Z"
   },
   {
    "duration": 23,
    "start_time": "2022-12-06T02:31:05.049Z"
   },
   {
    "duration": 10,
    "start_time": "2022-12-06T02:31:05.073Z"
   },
   {
    "duration": 8,
    "start_time": "2022-12-06T02:31:05.084Z"
   },
   {
    "duration": 1278,
    "start_time": "2022-12-06T02:31:05.093Z"
   },
   {
    "duration": 308,
    "start_time": "2022-12-06T02:31:06.372Z"
   },
   {
    "duration": 16,
    "start_time": "2022-12-06T02:31:06.682Z"
   },
   {
    "duration": 2,
    "start_time": "2022-12-06T02:31:06.700Z"
   },
   {
    "duration": 19,
    "start_time": "2022-12-06T02:31:06.703Z"
   },
   {
    "duration": 272,
    "start_time": "2022-12-06T02:31:06.723Z"
   },
   {
    "duration": 17,
    "start_time": "2022-12-06T02:31:06.996Z"
   },
   {
    "duration": 9,
    "start_time": "2022-12-06T02:31:07.015Z"
   },
   {
    "duration": 160,
    "start_time": "2022-12-06T02:31:07.025Z"
   },
   {
    "duration": 3,
    "start_time": "2022-12-06T02:31:07.187Z"
   },
   {
    "duration": 7,
    "start_time": "2022-12-06T02:31:07.191Z"
   },
   {
    "duration": 5,
    "start_time": "2022-12-06T02:31:07.199Z"
   },
   {
    "duration": 24,
    "start_time": "2022-12-06T02:31:07.205Z"
   },
   {
    "duration": 8,
    "start_time": "2022-12-06T02:31:07.230Z"
   },
   {
    "duration": 7,
    "start_time": "2022-12-06T02:31:07.240Z"
   },
   {
    "duration": 19,
    "start_time": "2022-12-06T02:31:07.250Z"
   },
   {
    "duration": 4,
    "start_time": "2022-12-06T02:31:07.270Z"
   },
   {
    "duration": 5,
    "start_time": "2022-12-06T02:31:07.276Z"
   },
   {
    "duration": 204378,
    "start_time": "2022-12-06T02:31:09.429Z"
   },
   {
    "duration": 2,
    "start_time": "2022-12-06T02:35:05.557Z"
   },
   {
    "duration": 3,
    "start_time": "2022-12-06T02:35:06.061Z"
   },
   {
    "duration": 78455,
    "start_time": "2022-12-06T02:35:06.702Z"
   },
   {
    "duration": 2,
    "start_time": "2022-12-06T02:36:38.520Z"
   },
   {
    "duration": 3,
    "start_time": "2022-12-06T02:36:42.405Z"
   },
   {
    "duration": 3,
    "start_time": "2022-12-06T02:36:43.095Z"
   },
   {
    "duration": 34638,
    "start_time": "2022-12-06T02:36:43.735Z"
   },
   {
    "duration": 4,
    "start_time": "2022-12-06T02:37:24.298Z"
   },
   {
    "duration": 633,
    "start_time": "2022-12-06T02:37:24.304Z"
   },
   {
    "duration": 41,
    "start_time": "2022-12-06T02:37:24.939Z"
   },
   {
    "duration": 69,
    "start_time": "2022-12-06T02:37:24.981Z"
   },
   {
    "duration": 40,
    "start_time": "2022-12-06T02:37:25.052Z"
   },
   {
    "duration": 2,
    "start_time": "2022-12-06T02:37:25.094Z"
   },
   {
    "duration": 24,
    "start_time": "2022-12-06T02:37:25.098Z"
   },
   {
    "duration": 5,
    "start_time": "2022-12-06T02:37:25.123Z"
   },
   {
    "duration": 19,
    "start_time": "2022-12-06T02:37:25.130Z"
   },
   {
    "duration": 24,
    "start_time": "2022-12-06T02:37:25.151Z"
   },
   {
    "duration": 9,
    "start_time": "2022-12-06T02:37:25.176Z"
   },
   {
    "duration": 36,
    "start_time": "2022-12-06T02:37:25.187Z"
   },
   {
    "duration": 1248,
    "start_time": "2022-12-06T02:37:25.224Z"
   },
   {
    "duration": 407,
    "start_time": "2022-12-06T02:37:26.475Z"
   },
   {
    "duration": 18,
    "start_time": "2022-12-06T02:37:26.883Z"
   },
   {
    "duration": 2,
    "start_time": "2022-12-06T02:37:26.903Z"
   },
   {
    "duration": 17,
    "start_time": "2022-12-06T02:37:26.906Z"
   },
   {
    "duration": 170,
    "start_time": "2022-12-06T02:37:26.925Z"
   },
   {
    "duration": 25,
    "start_time": "2022-12-06T02:37:27.097Z"
   },
   {
    "duration": 4,
    "start_time": "2022-12-06T02:37:27.123Z"
   },
   {
    "duration": 162,
    "start_time": "2022-12-06T02:37:27.128Z"
   },
   {
    "duration": 3,
    "start_time": "2022-12-06T02:37:27.291Z"
   },
   {
    "duration": 5,
    "start_time": "2022-12-06T02:37:27.296Z"
   },
   {
    "duration": 5,
    "start_time": "2022-12-06T02:37:27.302Z"
   },
   {
    "duration": 22,
    "start_time": "2022-12-06T02:37:27.309Z"
   },
   {
    "duration": 7,
    "start_time": "2022-12-06T02:37:27.333Z"
   },
   {
    "duration": 7,
    "start_time": "2022-12-06T02:37:27.341Z"
   },
   {
    "duration": 20,
    "start_time": "2022-12-06T02:37:27.350Z"
   },
   {
    "duration": 2,
    "start_time": "2022-12-06T02:37:31.672Z"
   },
   {
    "duration": 3,
    "start_time": "2022-12-06T02:37:32.142Z"
   },
   {
    "duration": 68222,
    "start_time": "2022-12-06T02:37:32.694Z"
   },
   {
    "duration": 4,
    "start_time": "2022-12-06T02:39:55.514Z"
   },
   {
    "duration": 639,
    "start_time": "2022-12-06T02:39:55.519Z"
   },
   {
    "duration": 41,
    "start_time": "2022-12-06T02:39:56.160Z"
   },
   {
    "duration": 64,
    "start_time": "2022-12-06T02:39:56.203Z"
   },
   {
    "duration": 35,
    "start_time": "2022-12-06T02:39:56.269Z"
   },
   {
    "duration": 3,
    "start_time": "2022-12-06T02:39:56.321Z"
   },
   {
    "duration": 9,
    "start_time": "2022-12-06T02:39:56.325Z"
   },
   {
    "duration": 6,
    "start_time": "2022-12-06T02:39:56.335Z"
   },
   {
    "duration": 16,
    "start_time": "2022-12-06T02:39:56.343Z"
   },
   {
    "duration": 24,
    "start_time": "2022-12-06T02:39:56.361Z"
   },
   {
    "duration": 10,
    "start_time": "2022-12-06T02:39:56.387Z"
   },
   {
    "duration": 10,
    "start_time": "2022-12-06T02:39:56.423Z"
   },
   {
    "duration": 1314,
    "start_time": "2022-12-06T02:39:56.435Z"
   },
   {
    "duration": 324,
    "start_time": "2022-12-06T02:39:57.753Z"
   },
   {
    "duration": 17,
    "start_time": "2022-12-06T02:39:58.079Z"
   },
   {
    "duration": 3,
    "start_time": "2022-12-06T02:39:58.097Z"
   },
   {
    "duration": 8,
    "start_time": "2022-12-06T02:39:58.101Z"
   },
   {
    "duration": 175,
    "start_time": "2022-12-06T02:39:58.122Z"
   },
   {
    "duration": 31,
    "start_time": "2022-12-06T02:39:58.299Z"
   },
   {
    "duration": 4,
    "start_time": "2022-12-06T02:39:58.332Z"
   },
   {
    "duration": 162,
    "start_time": "2022-12-06T02:39:58.338Z"
   },
   {
    "duration": 3,
    "start_time": "2022-12-06T02:39:58.502Z"
   },
   {
    "duration": 3,
    "start_time": "2022-12-06T02:40:02.190Z"
   },
   {
    "duration": 3,
    "start_time": "2022-12-06T02:40:02.966Z"
   },
   {
    "duration": 3,
    "start_time": "2022-12-06T02:40:03.328Z"
   },
   {
    "duration": 12,
    "start_time": "2022-12-06T02:40:03.763Z"
   },
   {
    "duration": 7,
    "start_time": "2022-12-06T02:40:04.404Z"
   },
   {
    "duration": 7,
    "start_time": "2022-12-06T02:40:06.191Z"
   },
   {
    "duration": 19,
    "start_time": "2022-12-06T02:40:06.688Z"
   },
   {
    "duration": 3,
    "start_time": "2022-12-06T02:40:07.735Z"
   },
   {
    "duration": 28257,
    "start_time": "2022-12-06T02:40:08.326Z"
   },
   {
    "duration": 3,
    "start_time": "2022-12-06T02:40:39.867Z"
   },
   {
    "duration": 628,
    "start_time": "2022-12-06T02:40:39.873Z"
   },
   {
    "duration": 53,
    "start_time": "2022-12-06T02:40:40.503Z"
   },
   {
    "duration": 69,
    "start_time": "2022-12-06T02:40:40.558Z"
   },
   {
    "duration": 35,
    "start_time": "2022-12-06T02:40:40.628Z"
   },
   {
    "duration": 3,
    "start_time": "2022-12-06T02:40:40.665Z"
   },
   {
    "duration": 11,
    "start_time": "2022-12-06T02:40:40.670Z"
   },
   {
    "duration": 5,
    "start_time": "2022-12-06T02:40:40.683Z"
   },
   {
    "duration": 40,
    "start_time": "2022-12-06T02:40:40.690Z"
   },
   {
    "duration": 24,
    "start_time": "2022-12-06T02:40:40.733Z"
   },
   {
    "duration": 9,
    "start_time": "2022-12-06T02:40:40.759Z"
   },
   {
    "duration": 8,
    "start_time": "2022-12-06T02:40:40.770Z"
   },
   {
    "duration": 1395,
    "start_time": "2022-12-06T02:40:40.779Z"
   },
   {
    "duration": 302,
    "start_time": "2022-12-06T02:40:42.176Z"
   },
   {
    "duration": 18,
    "start_time": "2022-12-06T02:40:42.480Z"
   },
   {
    "duration": 3,
    "start_time": "2022-12-06T02:40:42.499Z"
   },
   {
    "duration": 19,
    "start_time": "2022-12-06T02:40:42.503Z"
   },
   {
    "duration": 172,
    "start_time": "2022-12-06T02:40:42.524Z"
   },
   {
    "duration": 25,
    "start_time": "2022-12-06T02:40:42.697Z"
   },
   {
    "duration": 4,
    "start_time": "2022-12-06T02:40:42.723Z"
   },
   {
    "duration": 155,
    "start_time": "2022-12-06T02:40:42.729Z"
   },
   {
    "duration": 3,
    "start_time": "2022-12-06T02:40:42.886Z"
   },
   {
    "duration": 11,
    "start_time": "2022-12-06T02:40:42.891Z"
   },
   {
    "duration": 9,
    "start_time": "2022-12-06T02:40:42.903Z"
   },
   {
    "duration": 11,
    "start_time": "2022-12-06T02:40:42.913Z"
   },
   {
    "duration": 21,
    "start_time": "2022-12-06T02:40:42.925Z"
   },
   {
    "duration": 8,
    "start_time": "2022-12-06T02:40:42.948Z"
   },
   {
    "duration": 8,
    "start_time": "2022-12-06T02:40:42.958Z"
   },
   {
    "duration": 21,
    "start_time": "2022-12-06T02:40:42.967Z"
   },
   {
    "duration": 6,
    "start_time": "2022-12-06T02:40:42.989Z"
   },
   {
    "duration": 3,
    "start_time": "2022-12-06T02:40:46.151Z"
   },
   {
    "duration": 71300,
    "start_time": "2022-12-06T02:40:46.696Z"
   },
   {
    "duration": 3,
    "start_time": "2022-12-06T02:42:03.952Z"
   },
   {
    "duration": 4,
    "start_time": "2022-12-06T02:43:34.591Z"
   },
   {
    "duration": 7528,
    "start_time": "2022-12-06T02:43:37.008Z"
   },
   {
    "duration": 3,
    "start_time": "2022-12-06T02:43:44.538Z"
   },
   {
    "duration": 3,
    "start_time": "2022-12-06T02:43:45.999Z"
   },
   {
    "duration": 258069,
    "start_time": "2022-12-06T02:43:46.507Z"
   },
   {
    "duration": 4,
    "start_time": "2022-12-06T02:48:04.578Z"
   },
   {
    "duration": 46,
    "start_time": "2022-12-06T02:48:04.584Z"
   },
   {
    "duration": 3,
    "start_time": "2022-12-06T02:48:18.306Z"
   },
   {
    "duration": 3,
    "start_time": "2022-12-06T02:48:30.521Z"
   },
   {
    "duration": 3490,
    "start_time": "2022-12-06T02:48:34.481Z"
   },
   {
    "duration": 17505,
    "start_time": "2022-12-06T02:50:05.738Z"
   },
   {
    "duration": 3,
    "start_time": "2022-12-06T02:50:23.244Z"
   },
   {
    "duration": 262856,
    "start_time": "2022-12-06T02:50:25.730Z"
   },
   {
    "duration": 3,
    "start_time": "2022-12-06T02:54:48.588Z"
   },
   {
    "duration": 6,
    "start_time": "2022-12-06T02:54:48.593Z"
   },
   {
    "duration": 2,
    "start_time": "2022-12-06T02:59:35.601Z"
   },
   {
    "duration": 1193,
    "start_time": "2022-12-06T02:59:36.229Z"
   },
   {
    "duration": 2,
    "start_time": "2022-12-06T02:59:38.315Z"
   },
   {
    "duration": 1396,
    "start_time": "2022-12-06T02:59:39.627Z"
   },
   {
    "duration": 4,
    "start_time": "2022-12-06T02:59:41.025Z"
   },
   {
    "duration": 3,
    "start_time": "2022-12-06T03:00:30.548Z"
   },
   {
    "duration": 4,
    "start_time": "2022-12-06T03:02:21.860Z"
   },
   {
    "duration": 3,
    "start_time": "2022-12-06T03:04:46.324Z"
   },
   {
    "duration": 861,
    "start_time": "2022-12-06T03:04:46.964Z"
   },
   {
    "duration": 3,
    "start_time": "2022-12-06T03:04:47.923Z"
   },
   {
    "duration": 1170,
    "start_time": "2022-12-06T03:04:48.852Z"
   },
   {
    "duration": 3,
    "start_time": "2022-12-06T03:04:50.025Z"
   },
   {
    "duration": 4,
    "start_time": "2022-12-06T03:04:50.852Z"
   },
   {
    "duration": 3,
    "start_time": "2022-12-06T03:04:59.477Z"
   },
   {
    "duration": 3,
    "start_time": "2022-12-06T03:05:07.436Z"
   },
   {
    "duration": 4,
    "start_time": "2022-12-06T03:08:49.265Z"
   },
   {
    "duration": 652,
    "start_time": "2022-12-06T03:08:49.271Z"
   },
   {
    "duration": 39,
    "start_time": "2022-12-06T03:08:49.925Z"
   },
   {
    "duration": 69,
    "start_time": "2022-12-06T03:08:49.966Z"
   },
   {
    "duration": 37,
    "start_time": "2022-12-06T03:08:50.037Z"
   },
   {
    "duration": 2,
    "start_time": "2022-12-06T03:08:50.076Z"
   },
   {
    "duration": 21,
    "start_time": "2022-12-06T03:08:50.080Z"
   },
   {
    "duration": 5,
    "start_time": "2022-12-06T03:08:50.102Z"
   },
   {
    "duration": 15,
    "start_time": "2022-12-06T03:08:50.121Z"
   },
   {
    "duration": 25,
    "start_time": "2022-12-06T03:08:50.138Z"
   },
   {
    "duration": 9,
    "start_time": "2022-12-06T03:08:50.165Z"
   },
   {
    "duration": 11,
    "start_time": "2022-12-06T03:08:50.176Z"
   },
   {
    "duration": 1357,
    "start_time": "2022-12-06T03:08:50.188Z"
   },
   {
    "duration": 325,
    "start_time": "2022-12-06T03:08:51.547Z"
   },
   {
    "duration": 18,
    "start_time": "2022-12-06T03:08:51.873Z"
   },
   {
    "duration": 8,
    "start_time": "2022-12-06T03:08:51.892Z"
   },
   {
    "duration": 9,
    "start_time": "2022-12-06T03:08:51.901Z"
   },
   {
    "duration": 170,
    "start_time": "2022-12-06T03:08:51.912Z"
   },
   {
    "duration": 18,
    "start_time": "2022-12-06T03:08:52.083Z"
   },
   {
    "duration": 4,
    "start_time": "2022-12-06T03:08:52.102Z"
   },
   {
    "duration": 156,
    "start_time": "2022-12-06T03:08:52.121Z"
   },
   {
    "duration": 3,
    "start_time": "2022-12-06T03:08:52.278Z"
   },
   {
    "duration": 7,
    "start_time": "2022-12-06T03:08:52.282Z"
   },
   {
    "duration": 5,
    "start_time": "2022-12-06T03:08:52.290Z"
   },
   {
    "duration": 5,
    "start_time": "2022-12-06T03:08:52.296Z"
   },
   {
    "duration": 27,
    "start_time": "2022-12-06T03:08:52.302Z"
   },
   {
    "duration": 8,
    "start_time": "2022-12-06T03:08:52.330Z"
   },
   {
    "duration": 6,
    "start_time": "2022-12-06T03:08:52.341Z"
   },
   {
    "duration": 20,
    "start_time": "2022-12-06T03:08:52.351Z"
   },
   {
    "duration": 4,
    "start_time": "2022-12-06T03:08:52.373Z"
   },
   {
    "duration": 260633,
    "start_time": "2022-12-06T03:08:52.379Z"
   },
   {
    "duration": 4,
    "start_time": "2022-12-06T03:13:13.013Z"
   },
   {
    "duration": 12,
    "start_time": "2022-12-06T03:13:13.022Z"
   },
   {
    "duration": 210738,
    "start_time": "2022-12-06T03:13:13.036Z"
   },
   {
    "duration": 4,
    "start_time": "2022-12-06T03:16:43.776Z"
   },
   {
    "duration": 7,
    "start_time": "2022-12-06T03:16:43.781Z"
   },
   {
    "duration": 77,
    "start_time": "2022-12-06T03:16:43.789Z"
   },
   {
    "duration": 0,
    "start_time": "2022-12-06T03:16:43.867Z"
   },
   {
    "duration": 0,
    "start_time": "2022-12-06T03:16:43.868Z"
   },
   {
    "duration": 0,
    "start_time": "2022-12-06T03:16:43.870Z"
   },
   {
    "duration": 0,
    "start_time": "2022-12-06T03:16:43.870Z"
   },
   {
    "duration": 0,
    "start_time": "2022-12-06T03:16:43.872Z"
   },
   {
    "duration": 3,
    "start_time": "2022-12-06T03:20:14.012Z"
   },
   {
    "duration": 593,
    "start_time": "2022-12-06T03:20:14.017Z"
   },
   {
    "duration": 47,
    "start_time": "2022-12-06T03:20:14.611Z"
   },
   {
    "duration": 64,
    "start_time": "2022-12-06T03:20:14.659Z"
   },
   {
    "duration": 41,
    "start_time": "2022-12-06T03:20:14.724Z"
   },
   {
    "duration": 3,
    "start_time": "2022-12-06T03:20:14.767Z"
   },
   {
    "duration": 8,
    "start_time": "2022-12-06T03:20:14.771Z"
   },
   {
    "duration": 7,
    "start_time": "2022-12-06T03:20:14.780Z"
   },
   {
    "duration": 35,
    "start_time": "2022-12-06T03:20:14.789Z"
   },
   {
    "duration": 24,
    "start_time": "2022-12-06T03:20:14.825Z"
   },
   {
    "duration": 9,
    "start_time": "2022-12-06T03:20:14.850Z"
   },
   {
    "duration": 9,
    "start_time": "2022-12-06T03:20:14.860Z"
   },
   {
    "duration": 1260,
    "start_time": "2022-12-06T03:20:14.870Z"
   },
   {
    "duration": 291,
    "start_time": "2022-12-06T03:20:16.132Z"
   },
   {
    "duration": 20,
    "start_time": "2022-12-06T03:20:16.424Z"
   },
   {
    "duration": 3,
    "start_time": "2022-12-06T03:20:16.445Z"
   },
   {
    "duration": 23,
    "start_time": "2022-12-06T03:20:16.449Z"
   },
   {
    "duration": 280,
    "start_time": "2022-12-06T03:20:16.474Z"
   },
   {
    "duration": 17,
    "start_time": "2022-12-06T03:20:16.756Z"
   },
   {
    "duration": 20,
    "start_time": "2022-12-06T03:20:16.774Z"
   },
   {
    "duration": 161,
    "start_time": "2022-12-06T03:20:16.796Z"
   },
   {
    "duration": 4,
    "start_time": "2022-12-06T03:20:16.958Z"
   },
   {
    "duration": 14,
    "start_time": "2022-12-06T03:20:16.963Z"
   },
   {
    "duration": 19,
    "start_time": "2022-12-06T03:20:16.980Z"
   },
   {
    "duration": 20,
    "start_time": "2022-12-06T03:20:17.000Z"
   },
   {
    "duration": 28,
    "start_time": "2022-12-06T03:20:17.021Z"
   },
   {
    "duration": 25,
    "start_time": "2022-12-06T03:20:17.050Z"
   },
   {
    "duration": 10,
    "start_time": "2022-12-06T03:20:17.077Z"
   },
   {
    "duration": 39,
    "start_time": "2022-12-06T03:20:17.088Z"
   },
   {
    "duration": 12,
    "start_time": "2022-12-06T03:20:17.129Z"
   },
   {
    "duration": 1082,
    "start_time": "2022-12-06T03:20:17.143Z"
   },
   {
    "duration": 3,
    "start_time": "2022-12-06T03:20:18.227Z"
   },
   {
    "duration": 1194,
    "start_time": "2022-12-06T03:20:18.232Z"
   },
   {
    "duration": 3,
    "start_time": "2022-12-06T03:20:19.428Z"
   },
   {
    "duration": 9,
    "start_time": "2022-12-06T03:20:19.432Z"
   },
   {
    "duration": 3,
    "start_time": "2022-12-06T03:20:19.523Z"
   },
   {
    "duration": 259167,
    "start_time": "2022-12-06T03:20:19.528Z"
   },
   {
    "duration": 4,
    "start_time": "2022-12-06T03:24:38.696Z"
   },
   {
    "duration": 7,
    "start_time": "2022-12-06T03:24:38.701Z"
   },
   {
    "duration": 264206,
    "start_time": "2022-12-06T03:24:38.709Z"
   },
   {
    "duration": 4,
    "start_time": "2022-12-06T03:29:02.923Z"
   },
   {
    "duration": 15,
    "start_time": "2022-12-06T03:29:02.928Z"
   },
   {
    "duration": 69,
    "start_time": "2022-12-06T03:29:02.945Z"
   },
   {
    "duration": 3,
    "start_time": "2022-12-06T03:29:18.459Z"
   },
   {
    "duration": 7,
    "start_time": "2022-12-06T03:38:46.811Z"
   },
   {
    "duration": 8,
    "start_time": "2022-12-06T03:41:31.324Z"
   },
   {
    "duration": 4,
    "start_time": "2022-12-06T03:51:54.953Z"
   },
   {
    "duration": 665,
    "start_time": "2022-12-06T03:51:54.958Z"
   },
   {
    "duration": 42,
    "start_time": "2022-12-06T03:51:55.624Z"
   },
   {
    "duration": 75,
    "start_time": "2022-12-06T03:51:55.668Z"
   },
   {
    "duration": 41,
    "start_time": "2022-12-06T03:51:55.745Z"
   },
   {
    "duration": 2,
    "start_time": "2022-12-06T03:51:55.788Z"
   },
   {
    "duration": 11,
    "start_time": "2022-12-06T03:51:55.792Z"
   },
   {
    "duration": 5,
    "start_time": "2022-12-06T03:51:55.821Z"
   },
   {
    "duration": 16,
    "start_time": "2022-12-06T03:51:55.830Z"
   },
   {
    "duration": 26,
    "start_time": "2022-12-06T03:51:55.847Z"
   },
   {
    "duration": 11,
    "start_time": "2022-12-06T03:51:55.875Z"
   },
   {
    "duration": 43,
    "start_time": "2022-12-06T03:51:55.888Z"
   },
   {
    "duration": 1373,
    "start_time": "2022-12-06T03:51:55.932Z"
   },
   {
    "duration": 318,
    "start_time": "2022-12-06T03:51:57.307Z"
   },
   {
    "duration": 19,
    "start_time": "2022-12-06T03:51:57.627Z"
   },
   {
    "duration": 3,
    "start_time": "2022-12-06T03:51:57.648Z"
   },
   {
    "duration": 5,
    "start_time": "2022-12-06T03:51:57.653Z"
   },
   {
    "duration": 196,
    "start_time": "2022-12-06T03:51:57.659Z"
   },
   {
    "duration": 17,
    "start_time": "2022-12-06T03:51:57.856Z"
   },
   {
    "duration": 4,
    "start_time": "2022-12-06T03:51:57.875Z"
   },
   {
    "duration": 163,
    "start_time": "2022-12-06T03:51:57.880Z"
   },
   {
    "duration": 3,
    "start_time": "2022-12-06T03:51:58.045Z"
   },
   {
    "duration": 6,
    "start_time": "2022-12-06T03:51:58.049Z"
   },
   {
    "duration": 4,
    "start_time": "2022-12-06T03:51:58.058Z"
   },
   {
    "duration": 6,
    "start_time": "2022-12-06T03:51:58.064Z"
   },
   {
    "duration": 16,
    "start_time": "2022-12-06T03:51:58.071Z"
   },
   {
    "duration": 10,
    "start_time": "2022-12-06T03:51:58.089Z"
   },
   {
    "duration": 24,
    "start_time": "2022-12-06T03:51:58.100Z"
   },
   {
    "duration": 20,
    "start_time": "2022-12-06T03:51:58.125Z"
   },
   {
    "duration": 8,
    "start_time": "2022-12-06T03:51:58.147Z"
   },
   {
    "duration": 865,
    "start_time": "2022-12-06T03:51:58.156Z"
   },
   {
    "duration": 5,
    "start_time": "2022-12-06T03:51:59.023Z"
   },
   {
    "duration": 1095,
    "start_time": "2022-12-06T03:51:59.029Z"
   },
   {
    "duration": 3,
    "start_time": "2022-12-06T03:52:00.127Z"
   },
   {
    "duration": 91,
    "start_time": "2022-12-06T03:52:00.132Z"
   },
   {
    "duration": 97,
    "start_time": "2022-12-06T03:52:00.225Z"
   },
   {
    "duration": 231,
    "start_time": "2022-12-06T03:52:00.324Z"
   },
   {
    "duration": 9,
    "start_time": "2022-12-06T03:52:00.556Z"
   },
   {
    "duration": 0,
    "start_time": "2022-12-06T03:52:00.567Z"
   },
   {
    "duration": 0,
    "start_time": "2022-12-06T03:52:00.568Z"
   },
   {
    "duration": 0,
    "start_time": "2022-12-06T03:52:00.569Z"
   },
   {
    "duration": 0,
    "start_time": "2022-12-06T03:52:00.570Z"
   },
   {
    "duration": 0,
    "start_time": "2022-12-06T03:52:00.571Z"
   },
   {
    "duration": 0,
    "start_time": "2022-12-06T03:52:00.571Z"
   },
   {
    "duration": 0,
    "start_time": "2022-12-06T03:52:00.572Z"
   },
   {
    "duration": 3,
    "start_time": "2022-12-06T03:53:22.854Z"
   },
   {
    "duration": 32,
    "start_time": "2022-12-06T03:54:27.999Z"
   },
   {
    "duration": 651,
    "start_time": "2022-12-06T03:59:13.273Z"
   },
   {
    "duration": 4,
    "start_time": "2022-12-06T03:59:50.588Z"
   },
   {
    "duration": 672,
    "start_time": "2022-12-06T03:59:50.594Z"
   },
   {
    "duration": 56,
    "start_time": "2022-12-06T03:59:51.267Z"
   },
   {
    "duration": 53,
    "start_time": "2022-12-06T03:59:51.325Z"
   },
   {
    "duration": 65,
    "start_time": "2022-12-06T03:59:51.380Z"
   },
   {
    "duration": 2,
    "start_time": "2022-12-06T03:59:51.447Z"
   },
   {
    "duration": 14,
    "start_time": "2022-12-06T03:59:51.451Z"
   },
   {
    "duration": 4,
    "start_time": "2022-12-06T03:59:51.467Z"
   },
   {
    "duration": 25,
    "start_time": "2022-12-06T03:59:51.473Z"
   },
   {
    "duration": 36,
    "start_time": "2022-12-06T03:59:51.500Z"
   },
   {
    "duration": 11,
    "start_time": "2022-12-06T03:59:51.537Z"
   },
   {
    "duration": 12,
    "start_time": "2022-12-06T03:59:51.549Z"
   },
   {
    "duration": 1465,
    "start_time": "2022-12-06T03:59:51.562Z"
   },
   {
    "duration": 306,
    "start_time": "2022-12-06T03:59:53.028Z"
   },
   {
    "duration": 15,
    "start_time": "2022-12-06T03:59:53.336Z"
   },
   {
    "duration": 2,
    "start_time": "2022-12-06T03:59:53.353Z"
   },
   {
    "duration": 19,
    "start_time": "2022-12-06T03:59:53.357Z"
   },
   {
    "duration": 169,
    "start_time": "2022-12-06T03:59:53.378Z"
   },
   {
    "duration": 16,
    "start_time": "2022-12-06T03:59:53.549Z"
   },
   {
    "duration": 24,
    "start_time": "2022-12-06T03:59:53.567Z"
   },
   {
    "duration": 168,
    "start_time": "2022-12-06T03:59:53.593Z"
   },
   {
    "duration": 3,
    "start_time": "2022-12-06T03:59:53.762Z"
   },
   {
    "duration": 16,
    "start_time": "2022-12-06T03:59:53.767Z"
   },
   {
    "duration": 27,
    "start_time": "2022-12-06T03:59:53.786Z"
   },
   {
    "duration": 25,
    "start_time": "2022-12-06T03:59:53.815Z"
   },
   {
    "duration": 30,
    "start_time": "2022-12-06T03:59:53.841Z"
   },
   {
    "duration": 9,
    "start_time": "2022-12-06T03:59:53.873Z"
   },
   {
    "duration": 21,
    "start_time": "2022-12-06T03:59:53.884Z"
   },
   {
    "duration": 46,
    "start_time": "2022-12-06T03:59:53.907Z"
   },
   {
    "duration": 10,
    "start_time": "2022-12-06T03:59:53.954Z"
   },
   {
    "duration": 1157,
    "start_time": "2022-12-06T03:59:53.965Z"
   },
   {
    "duration": 3,
    "start_time": "2022-12-06T03:59:55.124Z"
   },
   {
    "duration": 1193,
    "start_time": "2022-12-06T03:59:55.129Z"
   },
   {
    "duration": 6,
    "start_time": "2022-12-06T03:59:56.324Z"
   },
   {
    "duration": 9,
    "start_time": "2022-12-06T03:59:56.422Z"
   },
   {
    "duration": 5,
    "start_time": "2022-12-06T03:59:56.432Z"
   },
   {
    "duration": 277161,
    "start_time": "2022-12-06T03:59:56.438Z"
   },
   {
    "duration": 4,
    "start_time": "2022-12-06T04:04:33.600Z"
   },
   {
    "duration": 17,
    "start_time": "2022-12-06T04:04:33.606Z"
   },
   {
    "duration": 278151,
    "start_time": "2022-12-06T04:04:33.625Z"
   },
   {
    "duration": 4,
    "start_time": "2022-12-06T04:09:11.777Z"
   },
   {
    "duration": 11,
    "start_time": "2022-12-06T04:09:11.782Z"
   },
   {
    "duration": 14,
    "start_time": "2022-12-06T04:09:11.794Z"
   },
   {
    "duration": 54,
    "start_time": "2022-12-06T04:09:11.809Z"
   },
   {
    "duration": 8,
    "start_time": "2022-12-06T04:09:11.865Z"
   },
   {
    "duration": 35,
    "start_time": "2022-12-06T04:09:48.307Z"
   },
   {
    "duration": 9,
    "start_time": "2022-12-06T04:09:57.315Z"
   },
   {
    "duration": 1657,
    "start_time": "2022-12-06T07:28:13.250Z"
   },
   {
    "duration": 2188,
    "start_time": "2022-12-06T07:28:14.909Z"
   },
   {
    "duration": 69,
    "start_time": "2022-12-06T07:28:17.098Z"
   },
   {
    "duration": 85,
    "start_time": "2022-12-06T07:28:17.170Z"
   },
   {
    "duration": 60,
    "start_time": "2022-12-06T07:28:25.657Z"
   },
   {
    "duration": 5,
    "start_time": "2022-12-06T07:28:31.714Z"
   },
   {
    "duration": 4,
    "start_time": "2022-12-06T07:39:12.976Z"
   },
   {
    "duration": 706,
    "start_time": "2022-12-06T07:39:12.982Z"
   },
   {
    "duration": 83,
    "start_time": "2022-12-06T07:39:13.690Z"
   },
   {
    "duration": 96,
    "start_time": "2022-12-06T07:39:13.776Z"
   },
   {
    "duration": 48,
    "start_time": "2022-12-06T07:39:13.875Z"
   },
   {
    "duration": 4,
    "start_time": "2022-12-06T07:39:13.925Z"
   },
   {
    "duration": 21,
    "start_time": "2022-12-06T07:39:13.931Z"
   },
   {
    "duration": 16,
    "start_time": "2022-12-06T07:39:13.954Z"
   },
   {
    "duration": 5,
    "start_time": "2022-12-06T07:39:13.973Z"
   },
   {
    "duration": 30,
    "start_time": "2022-12-06T07:39:13.980Z"
   },
   {
    "duration": 55,
    "start_time": "2022-12-06T07:39:14.013Z"
   },
   {
    "duration": 14,
    "start_time": "2022-12-06T07:39:14.069Z"
   },
   {
    "duration": 10,
    "start_time": "2022-12-06T07:39:14.085Z"
   },
   {
    "duration": 1674,
    "start_time": "2022-12-06T07:39:14.097Z"
   },
   {
    "duration": 384,
    "start_time": "2022-12-06T07:39:15.773Z"
   },
   {
    "duration": 411,
    "start_time": "2022-12-06T07:39:30.043Z"
   },
   {
    "duration": 7,
    "start_time": "2022-12-06T07:39:54.380Z"
   },
   {
    "duration": 7,
    "start_time": "2022-12-06T07:40:01.531Z"
   },
   {
    "duration": 276,
    "start_time": "2022-12-06T07:40:51.957Z"
   },
   {
    "duration": 7,
    "start_time": "2022-12-06T07:41:21.628Z"
   },
   {
    "duration": 276,
    "start_time": "2022-12-06T07:41:42.900Z"
   },
   {
    "duration": 423,
    "start_time": "2022-12-06T07:41:53.779Z"
   },
   {
    "duration": 342,
    "start_time": "2022-12-06T07:42:05.660Z"
   },
   {
    "duration": 7,
    "start_time": "2022-12-06T07:42:26.900Z"
   },
   {
    "duration": 383,
    "start_time": "2022-12-06T07:42:50.541Z"
   },
   {
    "duration": 343,
    "start_time": "2022-12-06T07:43:11.217Z"
   },
   {
    "duration": 271,
    "start_time": "2022-12-06T07:43:18.225Z"
   },
   {
    "duration": 367,
    "start_time": "2022-12-06T07:44:06.596Z"
   },
   {
    "duration": 532,
    "start_time": "2022-12-06T08:01:40.473Z"
   },
   {
    "duration": 414,
    "start_time": "2022-12-06T08:02:10.970Z"
   },
   {
    "duration": 557,
    "start_time": "2022-12-06T08:05:06.117Z"
   },
   {
    "duration": 490,
    "start_time": "2022-12-06T08:06:24.652Z"
   },
   {
    "duration": 92,
    "start_time": "2022-12-06T08:20:56.119Z"
   },
   {
    "duration": 638,
    "start_time": "2022-12-06T08:21:08.080Z"
   },
   {
    "duration": 471,
    "start_time": "2022-12-06T08:21:26.266Z"
   },
   {
    "duration": 471,
    "start_time": "2022-12-06T08:21:36.414Z"
   },
   {
    "duration": 444,
    "start_time": "2022-12-06T08:26:44.825Z"
   }
  ],
  "kernelspec": {
   "display_name": "Python 3 (ipykernel)",
   "language": "python",
   "name": "python3"
  },
  "language_info": {
   "codemirror_mode": {
    "name": "ipython",
    "version": 3
   },
   "file_extension": ".py",
   "mimetype": "text/x-python",
   "name": "python",
   "nbconvert_exporter": "python",
   "pygments_lexer": "ipython3",
   "version": "3.9.16"
  },
  "toc": {
   "base_numbering": 1,
   "nav_menu": {},
   "number_sections": true,
   "sideBar": true,
   "skip_h1_title": true,
   "title_cell": "Содержание",
   "title_sidebar": "Contents",
   "toc_cell": true,
   "toc_position": {
    "height": "calc(100% - 180px)",
    "left": "10px",
    "top": "150px",
    "width": "289.438px"
   },
   "toc_section_display": true,
   "toc_window_display": true
  }
 },
 "nbformat": 4,
 "nbformat_minor": 2
}
