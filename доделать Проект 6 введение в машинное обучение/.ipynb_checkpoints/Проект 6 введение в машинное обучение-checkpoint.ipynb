{
 "cells": [
  {
   "cell_type": "markdown",
   "metadata": {},
   "source": [
    "# Рекомендация тарифов"
   ]
  },
  {
   "cell_type": "markdown",
   "metadata": {},
   "source": [
    "В вашем распоряжении данные о поведении клиентов, которые уже перешли на эти тарифы (из проекта курса «Статистический анализ данных»). Нужно построить модель для задачи классификации, которая выберет подходящий тариф. Предобработка данных не понадобится — вы её уже сделали.\n",
    "\n",
    "Постройте модель с максимально большим значением *accuracy*. "
   ]
  },
  {
   "cell_type": "markdown",
   "metadata": {},
   "source": [
    "# Инструкция по выполнению проекта"
   ]
  },
  {
   "cell_type": "markdown",
   "metadata": {},
   "source": [
    "1. Откройть файл с данными и изучите его.\n",
    "2. Разделить исходные данные на обучающую, валидационную и тестовую выборки.\n",
    "3. Исследовать качество разных моделей, меняя гиперпараметры. Кратко написать выводы исследования.\n",
    "4. Проверить качество модели на тестовой выборке.\n",
    "5. Дополнительное задание: проверить модели на вменяемость. "
   ]
  },
  {
   "cell_type": "markdown",
   "metadata": {},
   "source": [
    "## Откройте и изучите файл"
   ]
  },
  {
   "cell_type": "code",
   "execution_count": 1,
   "metadata": {},
   "outputs": [],
   "source": [
    "import pandas as pd\n",
    "from sklearn.tree import DecisionTreeClassifier\n",
    "from sklearn.metrics import accuracy_score\n",
    "from sklearn.ensemble import RandomForestClassifier\n",
    "from sklearn.linear_model import LogisticRegression\n",
    "from sklearn.dummy import DummyClassifier\n",
    "from sklearn.model_selection import train_test_split\n",
    "import matplotlib.pyplot as plt\n",
    "import seaborn as sns\n",
    "from sklearn import tree\n"
   ]
  },
  {
   "cell_type": "code",
   "execution_count": 2,
   "metadata": {},
   "outputs": [],
   "source": [
    "data = pd.read_csv('/datasets/users_behavior.csv')# Получение таблицы"
   ]
  },
  {
   "cell_type": "code",
   "execution_count": 3,
   "metadata": {},
   "outputs": [
    {
     "name": "stdout",
     "output_type": "stream",
     "text": [
      "<class 'pandas.core.frame.DataFrame'>\n",
      "RangeIndex: 3214 entries, 0 to 3213\n",
      "Data columns (total 5 columns):\n",
      " #   Column    Non-Null Count  Dtype  \n",
      "---  ------    --------------  -----  \n",
      " 0   calls     3214 non-null   float64\n",
      " 1   minutes   3214 non-null   float64\n",
      " 2   messages  3214 non-null   float64\n",
      " 3   mb_used   3214 non-null   float64\n",
      " 4   is_ultra  3214 non-null   int64  \n",
      "dtypes: float64(4), int64(1)\n",
      "memory usage: 125.7 KB\n"
     ]
    }
   ],
   "source": [
    "data.info() # Информация о данных в таблице"
   ]
  },
  {
   "cell_type": "code",
   "execution_count": 4,
   "metadata": {},
   "outputs": [
    {
     "data": {
      "text/html": [
       "<div>\n",
       "<style scoped>\n",
       "    .dataframe tbody tr th:only-of-type {\n",
       "        vertical-align: middle;\n",
       "    }\n",
       "\n",
       "    .dataframe tbody tr th {\n",
       "        vertical-align: top;\n",
       "    }\n",
       "\n",
       "    .dataframe thead th {\n",
       "        text-align: right;\n",
       "    }\n",
       "</style>\n",
       "<table border=\"1\" class=\"dataframe\">\n",
       "  <thead>\n",
       "    <tr style=\"text-align: right;\">\n",
       "      <th></th>\n",
       "      <th>calls</th>\n",
       "      <th>minutes</th>\n",
       "      <th>messages</th>\n",
       "      <th>mb_used</th>\n",
       "      <th>is_ultra</th>\n",
       "    </tr>\n",
       "  </thead>\n",
       "  <tbody>\n",
       "    <tr>\n",
       "      <th>0</th>\n",
       "      <td>40.0</td>\n",
       "      <td>311.90</td>\n",
       "      <td>83.0</td>\n",
       "      <td>19915.42</td>\n",
       "      <td>0</td>\n",
       "    </tr>\n",
       "    <tr>\n",
       "      <th>1</th>\n",
       "      <td>85.0</td>\n",
       "      <td>516.75</td>\n",
       "      <td>56.0</td>\n",
       "      <td>22696.96</td>\n",
       "      <td>0</td>\n",
       "    </tr>\n",
       "    <tr>\n",
       "      <th>2</th>\n",
       "      <td>77.0</td>\n",
       "      <td>467.66</td>\n",
       "      <td>86.0</td>\n",
       "      <td>21060.45</td>\n",
       "      <td>0</td>\n",
       "    </tr>\n",
       "    <tr>\n",
       "      <th>3</th>\n",
       "      <td>106.0</td>\n",
       "      <td>745.53</td>\n",
       "      <td>81.0</td>\n",
       "      <td>8437.39</td>\n",
       "      <td>1</td>\n",
       "    </tr>\n",
       "    <tr>\n",
       "      <th>4</th>\n",
       "      <td>66.0</td>\n",
       "      <td>418.74</td>\n",
       "      <td>1.0</td>\n",
       "      <td>14502.75</td>\n",
       "      <td>0</td>\n",
       "    </tr>\n",
       "  </tbody>\n",
       "</table>\n",
       "</div>"
      ],
      "text/plain": [
       "   calls  minutes  messages   mb_used  is_ultra\n",
       "0   40.0   311.90      83.0  19915.42         0\n",
       "1   85.0   516.75      56.0  22696.96         0\n",
       "2   77.0   467.66      86.0  21060.45         0\n",
       "3  106.0   745.53      81.0   8437.39         1\n",
       "4   66.0   418.74       1.0  14502.75         0"
      ]
     },
     "execution_count": 4,
     "metadata": {},
     "output_type": "execute_result"
    }
   ],
   "source": [
    "data.head()"
   ]
  },
  {
   "cell_type": "code",
   "execution_count": 5,
   "metadata": {},
   "outputs": [],
   "source": [
    "data = data.astype({'calls': 'int64', 'messages':'int64', 'is_ultra':'bool'})# изменение типов данных "
   ]
  },
  {
   "cell_type": "code",
   "execution_count": 6,
   "metadata": {},
   "outputs": [
    {
     "data": {
      "text/plain": [
       "0"
      ]
     },
     "execution_count": 6,
     "metadata": {},
     "output_type": "execute_result"
    }
   ],
   "source": [
    "data.duplicated().sum() # количество дубликатов в таблице"
   ]
  },
  {
   "cell_type": "code",
   "execution_count": 7,
   "metadata": {},
   "outputs": [
    {
     "data": {
      "text/plain": [
       "calls       0\n",
       "minutes     0\n",
       "messages    0\n",
       "mb_used     0\n",
       "is_ultra    0\n",
       "dtype: int64"
      ]
     },
     "execution_count": 7,
     "metadata": {},
     "output_type": "execute_result"
    }
   ],
   "source": [
    "data.isna().sum() # число пропущенных значения по столбцам"
   ]
  },
  {
   "cell_type": "markdown",
   "metadata": {},
   "source": [
    "В таблице отсутствуют дубликаты и пропущенные значения. Изменим тип данных в столбцах `calls` и `messages` на `int`, поскольку данные в этих столбцах могут принимать только целочисленные значения. Также значения в столбце `is_ultra` могут принимать только два значения, поэтому поменяем тип данных на `bool`."
   ]
  },
  {
   "cell_type": "markdown",
   "metadata": {},
   "source": [
    "## Разбейте данные на выборки"
   ]
  },
  {
   "cell_type": "code",
   "execution_count": 8,
   "metadata": {},
   "outputs": [],
   "source": [
    "features = data.drop('is_ultra', axis=1) # признаки кроме целевого\n",
    "target = data['is_ultra'] # целевой признак"
   ]
  },
  {
   "cell_type": "code",
   "execution_count": 9,
   "metadata": {},
   "outputs": [],
   "source": [
    "features_train, features_valid_test, target_train, target_valid_test = train_test_split(\n",
    "    features, target, test_size=0.4, random_state=12345, stratify=target)# отделяем 60% данных для обучающей выборки\n",
    "\n",
    "features_valid, features_test, target_valid, target_test = train_test_split(\n",
    "    features_valid_test, target_valid_test, test_size=0.5, random_state=12345,stratify=target_valid_test) # получаем по 20% от начальных данных для тестовой и валидационной выборки"
   ]
  },
  {
   "cell_type": "markdown",
   "metadata": {},
   "source": [
    "Исходные данные разбили в соотношении 3:1:1 для обучающей, тестовой и валидационной выборок соответственно."
   ]
  },
  {
   "cell_type": "code",
   "execution_count": 10,
   "metadata": {},
   "outputs": [
    {
     "name": "stdout",
     "output_type": "stream",
     "text": [
      "Shape для features_train (1928, 4)\n",
      "Shape для features_valid (643, 4)\n",
      "Shape для features_test (643, 4)\n"
     ]
    }
   ],
   "source": [
    "print('Shape для features_train', features_train.shape)\n",
    "print('Shape для features_valid', features_valid.shape)\n",
    "print('Shape для features_test', features_test.shape)"
   ]
  },
  {
   "cell_type": "markdown",
   "metadata": {},
   "source": [
    "## Исследуйте модели"
   ]
  },
  {
   "cell_type": "markdown",
   "metadata": {},
   "source": [
    "### Дерево"
   ]
  },
  {
   "cell_type": "code",
   "execution_count": 11,
   "metadata": {},
   "outputs": [
    {
     "name": "stdout",
     "output_type": "stream",
     "text": [
      "Лучшее мнимальное значение глубины дерева для значений глубины от 1 до 10: 8\n",
      "Accuracy наилучшей модели на валидационной выборке: 0.80248833592535\n"
     ]
    }
   ],
   "source": [
    "best_max_depth_tree = 0\n",
    "best_accuracy_tree = 0\n",
    "accuracy_tree_list_valid = []\n",
    "accuracy_tree_list_train= []\n",
    "best_model_tree = None\n",
    "for depth in range(1, 11):\n",
    "    model = DecisionTreeClassifier(random_state=12345, max_depth=depth) #меняем максимально возможную глубину дерева\n",
    "    model.fit(features_train, target_train) # обучение модели \n",
    "    \n",
    "    predictions_valid = model.predict(features_valid) # получение предсказания\n",
    "    predictions_train = model.predict(features_train) # получение предсказания\n",
    "    accuracy_value_valid = accuracy_score(target_valid, predictions_valid) # вычисление значения accuracy\n",
    "    accuracy_value_train = accuracy_score(target_train, predictions_train)\n",
    "    \n",
    "    accuracy_tree_list_valid.append(accuracy_value_valid)\n",
    "    accuracy_tree_list_train.append(accuracy_value_train)\n",
    "    \n",
    "    if accuracy_value_valid > best_accuracy_tree: #поиск наилучшей глубины, наилучшего значения accuracy\n",
    "        best_accuracy_tree = accuracy_value_valid\n",
    "        best_max_depth_tree = depth\n",
    "        best_model_tree = model\n",
    "        \n",
    "print('Лучшее мнимальное значение глубины дерева для значений глубины от 1 до 10:', best_max_depth_tree)\n",
    "print(\"Accuracy наилучшей модели на валидационной выборке:\", best_accuracy_tree)"
   ]
  },
  {
   "cell_type": "markdown",
   "metadata": {},
   "source": [
    "Наибольшая точность получается при глубине дерва 3, если рассматривать дервья с максимальной глубиной от 1 до 5."
   ]
  },
  {
   "cell_type": "code",
   "execution_count": 12,
   "metadata": {},
   "outputs": [
    {
     "data": {
      "image/png": "[encoded data removed]",
      "text/plain": [
       "<Figure size 720x576 with 1 Axes>"
      ]
     },
     "metadata": {
      "needs_background": "light"
     },
     "output_type": "display_data"
    }
   ],
   "source": [
    "plt.figure(figsize=(10,8))\n",
    "plt.title('График изменения accuracy в зависимости от глубины дерева для значений глубины от 1 до 10')\n",
    "plt.plot(range(1, 11, 1), accuracy_tree_list_valid,'-o', label='Валидационная выборка')\n",
    "plt.plot(range(1, 11, 1), accuracy_tree_list_train,'-o', label='Тренировочная выборка')\n",
    "plt.legend()\n",
    "plt.xlabel('depth')\n",
    "plt.ylabel('accuracy')\n",
    "plt.show()"
   ]
  },
  {
   "cell_type": "markdown",
   "metadata": {},
   "source": [
    "При увеличении `depth`, начиная с 8, происходит переобучение модели для валидационной выборки, для тренировочной выборки переобучение не происходит."
   ]
  },
  {
   "cell_type": "code",
   "execution_count": 21,
   "metadata": {},
   "outputs": [
    {
     "data": {
      "image/png": "[encoded data removed]",
      "text/plain": [
       "<Figure size 1800x1440 with 1 Axes>"
      ]
     },
     "metadata": {
      "needs_background": "light"
     },
     "output_type": "display_data"
    }
   ],
   "source": [
    "fig = plt.figure(figsize=(25,20))\n",
    "tree_plot = tree.plot_tree(best_model_tree, max_depth=3, filled=True);\n",
    "plt.title(\"График лучшего дерева\");"
   ]
  },
  {
   "cell_type": "markdown",
   "metadata": {},
   "source": [
    "### Случайный лес"
   ]
  },
  {
   "cell_type": "code",
   "execution_count": 14,
   "metadata": {},
   "outputs": [
    {
     "name": "stdout",
     "output_type": "stream",
     "text": [
      "Лучшее число деревьев для значений от 10 до 50 c шагом 10: 40\n",
      "Лучший вариант глубины деревьев от 1 до 10: 9\n",
      "Accuracy наилучшей модели на валидационной выборке: 0.8211508553654744\n",
      "CPU times: user 3.58 s, sys: 20 ms, total: 3.6 s\n",
      "Wall time: 3.6 s\n"
     ]
    }
   ],
   "source": [
    "%%time\n",
    "best_number_forest = 0\n",
    "best_max_depth_forest = 0\n",
    "best_accuracy_forest = 0\n",
    "best_model_forest = None\n",
    "accuracy_forest_list_valid = []\n",
    "accuracy_forest_list_train= []\n",
    "\n",
    "for est in range(10, 51, 10):# меняем число деревьев от 10 до 50 с шагом 10\n",
    "    for depth in range(1, 11): # меняем глубину дервьев от 1 до 10\n",
    "        model = RandomForestClassifier(random_state=12345, n_estimators=est, max_depth=depth) \n",
    "        model.fit(features_train, target_train) \n",
    "        result_valid = model.score(features_valid, target_valid) # вычисление значения accuracy\n",
    "        result_train = model.score(features_train, target_train)\n",
    "        \n",
    "        accuracy_forest_list_valid.append(result_valid)\n",
    "        accuracy_forest_list_train.append(result_train)\n",
    "\n",
    "        if result_valid > best_accuracy_forest:\n",
    "            best_max_depth_forest = depth\n",
    "            best_number_forest = est\n",
    "            best_accuracy_forest = result_valid#  сохраняем наилучшее значение метрики accuracy на валидационных данных\n",
    "            best_model_forest = model\n",
    "        \n",
    "print('Лучшее число деревьев для значений от 10 до 50 c шагом 10:', best_number_forest)\n",
    "print('Лучший вариант глубины деревьев от 1 до 10:', best_max_depth_forest )\n",
    "print(\"Accuracy наилучшей модели на валидационной выборке:\", best_accuracy_forest)"
   ]
  },
  {
   "cell_type": "markdown",
   "metadata": {},
   "source": [
    "Наибольшая точность получается, когда максимальное количество дервьев = 40 (для деревьев с максимальной высотой от 10 до 50 с шагом 10), если глубина деревьев = 8 (для деревьев с глубиной от 1 до 10)."
   ]
  },
  {
   "cell_type": "code",
   "execution_count": 15,
   "metadata": {
    "scrolled": true
   },
   "outputs": [
    {
     "data": {
      "image/png": "[encoded data removed]",
      "text/plain": [
       "<Figure size 576x576 with 1 Axes>"
      ]
     },
     "metadata": {
      "needs_background": "light"
     },
     "output_type": "display_data"
    }
   ],
   "source": [
    "fig = plt.figure(figsize=(8, 8))\n",
    "ax = fig.add_subplot(projection='3d')\n",
    "ax.set_title(\"График изменения accuracy в зависимости от глубины деревьев и их количества\") \n",
    "ax.set_xlabel(\"Значение n_estimators\")\n",
    "ax.set_ylabel(\"Значение max_depth\")\n",
    "ax.set_zlabel(\"Величина accuracy\")\n",
    "\n",
    "x = []\n",
    "y= []\n",
    "for k in range(10, 51, 10):\n",
    "    x += [k]*10\n",
    "    \n",
    "    y += list(range(1, 11)) \n",
    "   \n",
    "ax.scatter(x, y, accuracy_forest_list_valid, label='Валидационная выборка')\n",
    "ax.scatter(x, y, accuracy_forest_list_train, label='Тренировочная выборка')\n",
    "plt.legend()\n",
    "plt.show();"
   ]
  },
  {
   "cell_type": "markdown",
   "metadata": {},
   "source": [
    "### Логистическая регрессия"
   ]
  },
  {
   "cell_type": "code",
   "execution_count": 16,
   "metadata": {},
   "outputs": [
    {
     "name": "stdout",
     "output_type": "stream",
     "text": [
      "Лучшее минимальное значение максимального числа итераций для значений от 100 до 1000 с шагом 100: 100\n",
      "Accuracy наилучшей модели на валидационной выборке: 0.7387247278382582\n"
     ]
    }
   ],
   "source": [
    "best_max_iter_number = 0\n",
    "best_accuracy_regression = 0\n",
    "best_model_regression = None\n",
    "accuracy_regression_list_valid =[]\n",
    "for iter_number in range(100, 1001, 100):#меняем максимальное число итераций\n",
    "    model = LogisticRegression(random_state=12345, solver='lbfgs', max_iter=iter_number) # Логистическая регрессия с алгоритмом 'lbfgs'\n",
    "    model.fit(features_train, target_train)\n",
    "    result = model.score(features_valid, target_valid)\n",
    "    accuracy_regression_list_valid.append(result)\n",
    "    if result > best_accuracy_regression:\n",
    "        best_max_iter_number = iter_number\n",
    "        best_accuracy_regression = result#  сохраняем наилучшее значение метрики accuracy на валидационных данных\n",
    "        best_model_regression = model\n",
    "\n",
    "    \n",
    "print('Лучшее минимальное значение максимального числа итераций для значений от 100 до 1000 с шагом 100:', best_max_iter_number)\n",
    "print(\"Accuracy наилучшей модели на валидационной выборке:\", best_accuracy_regression) "
   ]
  },
  {
   "cell_type": "markdown",
   "metadata": {},
   "source": [
    "Наибольшая точность получается при максимальном числе итераций 100, если использовать логистические регрессии со значениями от 100 до 1000 и шагом 100 для алгоритма 'lbfgs'."
   ]
  },
  {
   "cell_type": "markdown",
   "metadata": {},
   "source": [
    "## Проверьте модель на тестовой выборке"
   ]
  },
  {
   "cell_type": "markdown",
   "metadata": {},
   "source": [
    "Обучим лучшую модель на тренировочных и валидационных данных."
   ]
  },
  {
   "cell_type": "code",
   "execution_count": 17,
   "metadata": {},
   "outputs": [],
   "source": [
    "best_model_forest.fit(pd.concat([features_train, features_valid]), pd.concat([target_train, target_valid]));"
   ]
  },
  {
   "cell_type": "code",
   "execution_count": 18,
   "metadata": {},
   "outputs": [
    {
     "name": "stdout",
     "output_type": "stream",
     "text": [
      "Accuracy для лучшего случайного леса: 0.8289269051321928\n"
     ]
    }
   ],
   "source": [
    "print('Accuracy для лучшего случайного леса:', best_model_forest.score(features_test, target_test))"
   ]
  },
  {
   "cell_type": "markdown",
   "metadata": {},
   "source": [
    "Лучший результат показала модель случайного леса среди трех наилучших моделей (дерево, случайный лес, логическая регрессия). "
   ]
  },
  {
   "cell_type": "markdown",
   "metadata": {},
   "source": [
    "## (бонус) Проверьте модели на адекватность"
   ]
  },
  {
   "cell_type": "code",
   "execution_count": 19,
   "metadata": {},
   "outputs": [
    {
     "name": "stdout",
     "output_type": "stream",
     "text": [
      "Разница между accuracy наилучшей модели и \"моделью-пустышкой\" для дерева: 0.09020217729393476\n",
      "Разница между accuracy наилучшей модели и \"моделью-пустышкой\" для случайного леса: 0.13530326594090203\n",
      "Разница между accuracy наилучшей модели и \"моделью-пустышкой\" для логической регрессии : 0.05287713841368591\n"
     ]
    }
   ],
   "source": [
    "dummy_clf = DummyClassifier(strategy=\"most_frequent\") # \"модель-пустышка\"\n",
    "dummy_clf.fit(features_train, target_train)\n",
    "dummy_clf_accuracy = dummy_clf.score(features_test, target_test) \n",
    "\n",
    "decision_tree_difference = best_model_tree.score(features_test, target_test) - dummy_clf_accuracy \n",
    "    \n",
    "decision_forest_difference = best_model_forest.score(features_test, target_test) - dummy_clf_accuracy \n",
    "    \n",
    "regression_difference = best_model_regression.score(features_test, target_test) - dummy_clf_accuracy \n",
    "                                 \n",
    "                                 \n",
    "print('Разница между accuracy наилучшей модели и \"моделью-пустышкой\" для дерева:',\n",
    "      decision_tree_difference)\n",
    "print('Разница между accuracy наилучшей модели и \"моделью-пустышкой\" для случайного леса:',\n",
    "      decision_forest_difference)\n",
    "print('Разница между accuracy наилучшей модели и \"моделью-пустышкой\" для логической регрессии :', \n",
    "      regression_difference)\n"
   ]
  },
  {
   "cell_type": "markdown",
   "metadata": {},
   "source": [
    "Наибольшая разница значений accuracy получилась для лучшей модели случайного леса и \"модели-пустышки\" для трех вариантов модели (дерево, случайный лес, логическая регрессия). Это может означать, что полученная модель случайного леса наиболее адекватна. "
   ]
  },
  {
   "cell_type": "markdown",
   "metadata": {},
   "source": [
    "## Вывод"
   ]
  },
  {
   "cell_type": "markdown",
   "metadata": {},
   "source": [
    "В ходе исследования найдена модель с наибольшим значением accuracy для валидационной выборки — \"случайный лес\" c числом деревьев 40 и глубиной 8. Наибольшая разница значений accuracy получилась для данной модели и \"модели-пустышки\" среди трех лучших моделей  (\"дерево\", \"случайный лес\", \"логическая регрессия\") случайный лес обладает самой высокой адекватностью для тестовой выборки.\n",
    "\n",
    "Возможно, для предоставленных данных случайный лес показывает лучший результат, поскольку в результате голосования деревьев, выбираются лучшие предсказания, чем при использовании одного дерева или логистической регрессии, которая осуществляет классификацию, вычисляя вероятность попадания значений в определенный класс. Вероятно, у модели логистической регрессии хуже возвращаемые предсказания, поскольку меньше гиперпараметров, чем у случайного леса и ее сложнее настроить для получения наиболее точных значений. "
   ]
  }
 ],
 "metadata": {
  "ExecuteTimeLog": [
   {
    "duration": 515,
    "start_time": "2022-10-16T14:22:03.196Z"
   },
   {
    "duration": 3,
    "start_time": "2022-10-16T14:22:15.951Z"
   },
   {
    "duration": 41,
    "start_time": "2022-10-16T14:22:48.506Z"
   },
   {
    "duration": 11,
    "start_time": "2022-10-16T14:23:10.601Z"
   },
   {
    "duration": 16,
    "start_time": "2022-10-16T14:23:54.422Z"
   },
   {
    "duration": 4,
    "start_time": "2022-10-16T14:30:24.620Z"
   },
   {
    "duration": 5,
    "start_time": "2022-10-16T14:34:34.967Z"
   },
   {
    "duration": 15,
    "start_time": "2022-10-16T14:41:10.318Z"
   },
   {
    "duration": 9,
    "start_time": "2022-10-16T14:41:21.757Z"
   },
   {
    "duration": 11,
    "start_time": "2022-10-16T14:44:21.501Z"
   },
   {
    "duration": 7,
    "start_time": "2022-10-16T14:44:26.707Z"
   },
   {
    "duration": 5,
    "start_time": "2022-10-16T14:51:50.930Z"
   },
   {
    "duration": 8,
    "start_time": "2022-10-16T14:51:54.016Z"
   },
   {
    "duration": 5,
    "start_time": "2022-10-16T14:52:10.771Z"
   },
   {
    "duration": 713,
    "start_time": "2022-10-16T15:25:34.682Z"
   },
   {
    "duration": 3,
    "start_time": "2022-10-16T15:26:13.259Z"
   },
   {
    "duration": 14,
    "start_time": "2022-10-16T15:26:52.788Z"
   },
   {
    "duration": 7,
    "start_time": "2022-10-16T15:27:08.006Z"
   },
   {
    "duration": 9,
    "start_time": "2022-10-16T15:27:44.176Z"
   },
   {
    "duration": 3,
    "start_time": "2022-10-16T15:27:46.895Z"
   },
   {
    "duration": 4,
    "start_time": "2022-10-16T15:28:05.506Z"
   },
   {
    "duration": 46,
    "start_time": "2022-10-16T15:38:47.419Z"
   },
   {
    "duration": 20,
    "start_time": "2022-10-16T15:59:00.051Z"
   },
   {
    "duration": 3,
    "start_time": "2022-10-16T15:59:10.170Z"
   },
   {
    "duration": 55,
    "start_time": "2022-10-16T15:59:14.320Z"
   },
   {
    "duration": 36,
    "start_time": "2022-10-16T16:11:17.869Z"
   },
   {
    "duration": 37,
    "start_time": "2022-10-16T16:17:21.035Z"
   },
   {
    "duration": 35,
    "start_time": "2022-10-16T16:17:45.514Z"
   },
   {
    "duration": 35,
    "start_time": "2022-10-16T16:29:40.970Z"
   },
   {
    "duration": 271,
    "start_time": "2022-10-16T16:30:36.287Z"
   },
   {
    "duration": 266,
    "start_time": "2022-10-16T16:31:33.571Z"
   },
   {
    "duration": 862,
    "start_time": "2022-10-16T16:31:48.649Z"
   },
   {
    "duration": 281,
    "start_time": "2022-10-16T16:32:02.956Z"
   },
   {
    "duration": 266,
    "start_time": "2022-10-16T16:32:25.221Z"
   },
   {
    "duration": 161,
    "start_time": "2022-10-16T17:00:43.354Z"
   },
   {
    "duration": 151,
    "start_time": "2022-10-16T17:03:53.865Z"
   },
   {
    "duration": 187,
    "start_time": "2022-10-16T17:03:59.954Z"
   },
   {
    "duration": 149,
    "start_time": "2022-10-16T17:07:28.419Z"
   },
   {
    "duration": 146,
    "start_time": "2022-10-16T17:07:58.451Z"
   },
   {
    "duration": 47,
    "start_time": "2022-10-16T17:10:26.283Z"
   },
   {
    "duration": 3,
    "start_time": "2022-10-16T20:08:29.760Z"
   },
   {
    "duration": 35,
    "start_time": "2022-10-16T20:08:29.765Z"
   },
   {
    "duration": 11,
    "start_time": "2022-10-16T20:08:29.802Z"
   },
   {
    "duration": 17,
    "start_time": "2022-10-16T20:08:29.815Z"
   },
   {
    "duration": 11,
    "start_time": "2022-10-16T20:08:29.833Z"
   },
   {
    "duration": 8,
    "start_time": "2022-10-16T20:08:29.846Z"
   },
   {
    "duration": 8,
    "start_time": "2022-10-16T20:08:29.855Z"
   },
   {
    "duration": 5,
    "start_time": "2022-10-16T20:08:29.865Z"
   },
   {
    "duration": 11,
    "start_time": "2022-10-16T20:08:29.872Z"
   },
   {
    "duration": 52,
    "start_time": "2022-10-16T20:08:29.885Z"
   },
   {
    "duration": 283,
    "start_time": "2022-10-16T20:08:29.939Z"
   },
   {
    "duration": 167,
    "start_time": "2022-10-16T20:08:30.224Z"
   },
   {
    "duration": 3,
    "start_time": "2022-10-16T20:08:48.806Z"
   },
   {
    "duration": 24,
    "start_time": "2022-10-16T20:08:48.811Z"
   },
   {
    "duration": 12,
    "start_time": "2022-10-16T20:08:48.837Z"
   },
   {
    "duration": 10,
    "start_time": "2022-10-16T20:08:48.850Z"
   },
   {
    "duration": 8,
    "start_time": "2022-10-16T20:08:48.862Z"
   },
   {
    "duration": 9,
    "start_time": "2022-10-16T20:08:48.872Z"
   },
   {
    "duration": 4,
    "start_time": "2022-10-16T20:08:48.883Z"
   },
   {
    "duration": 20,
    "start_time": "2022-10-16T20:08:48.889Z"
   },
   {
    "duration": 9,
    "start_time": "2022-10-16T20:08:48.910Z"
   },
   {
    "duration": 34,
    "start_time": "2022-10-16T20:08:48.920Z"
   },
   {
    "duration": 284,
    "start_time": "2022-10-16T20:08:48.956Z"
   },
   {
    "duration": 155,
    "start_time": "2022-10-16T20:08:49.241Z"
   },
   {
    "duration": 184,
    "start_time": "2022-10-16T20:50:09.056Z"
   },
   {
    "duration": 155,
    "start_time": "2022-10-16T20:50:12.208Z"
   },
   {
    "duration": 228,
    "start_time": "2022-10-16T20:50:26.113Z"
   },
   {
    "duration": 266,
    "start_time": "2022-10-16T20:50:34.173Z"
   },
   {
    "duration": 45,
    "start_time": "2022-10-16T20:50:45.152Z"
   },
   {
    "duration": 36,
    "start_time": "2022-10-16T20:50:55.372Z"
   },
   {
    "duration": 196,
    "start_time": "2022-10-16T20:51:52.183Z"
   },
   {
    "duration": 140,
    "start_time": "2022-10-16T20:52:35.451Z"
   },
   {
    "duration": 154,
    "start_time": "2022-10-16T20:52:56.349Z"
   },
   {
    "duration": 39,
    "start_time": "2022-10-16T20:55:24.829Z"
   },
   {
    "duration": 278,
    "start_time": "2022-10-16T20:56:24.107Z"
   },
   {
    "duration": 152,
    "start_time": "2022-10-16T20:56:27.050Z"
   },
   {
    "duration": 7,
    "start_time": "2022-10-16T21:00:06.754Z"
   },
   {
    "duration": 6,
    "start_time": "2022-10-16T21:00:53.394Z"
   },
   {
    "duration": 10,
    "start_time": "2022-10-16T21:01:50.302Z"
   },
   {
    "duration": 17,
    "start_time": "2022-10-16T21:03:01.343Z"
   },
   {
    "duration": 183,
    "start_time": "2022-10-16T21:03:20.802Z"
   },
   {
    "duration": 12,
    "start_time": "2022-10-16T21:03:25.442Z"
   },
   {
    "duration": 79,
    "start_time": "2022-10-16T21:11:26.980Z"
   },
   {
    "duration": 625,
    "start_time": "2022-10-16T21:12:09.475Z"
   },
   {
    "duration": 3840,
    "start_time": "2022-10-16T21:14:07.869Z"
   },
   {
    "duration": 70,
    "start_time": "2022-10-16T21:20:00.487Z"
   },
   {
    "duration": 3807,
    "start_time": "2022-10-16T21:20:08.740Z"
   },
   {
    "duration": 3791,
    "start_time": "2022-10-16T21:20:37.257Z"
   },
   {
    "duration": 3730,
    "start_time": "2022-10-16T21:22:06.269Z"
   },
   {
    "duration": 79,
    "start_time": "2022-10-16T21:27:54.592Z"
   },
   {
    "duration": 3886,
    "start_time": "2022-10-16T21:27:58.603Z"
   },
   {
    "duration": 201,
    "start_time": "2022-10-16T21:28:02.491Z"
   },
   {
    "duration": 16,
    "start_time": "2022-10-16T21:28:09.943Z"
   },
   {
    "duration": 9,
    "start_time": "2022-10-16T21:59:36.585Z"
   },
   {
    "duration": 3,
    "start_time": "2022-10-16T21:59:46.002Z"
   },
   {
    "duration": 11,
    "start_time": "2022-10-16T21:59:55.332Z"
   },
   {
    "duration": 4,
    "start_time": "2022-10-16T22:00:42.051Z"
   },
   {
    "duration": 14,
    "start_time": "2022-10-16T22:00:48.149Z"
   },
   {
    "duration": 12,
    "start_time": "2022-10-16T22:01:10.223Z"
   },
   {
    "duration": 9,
    "start_time": "2022-10-16T22:01:11.042Z"
   },
   {
    "duration": 11,
    "start_time": "2022-10-16T22:01:11.490Z"
   },
   {
    "duration": 11,
    "start_time": "2022-10-16T22:01:11.802Z"
   },
   {
    "duration": 10,
    "start_time": "2022-10-16T22:01:12.021Z"
   },
   {
    "duration": 9,
    "start_time": "2022-10-16T22:01:12.211Z"
   },
   {
    "duration": 14,
    "start_time": "2022-10-16T22:01:12.394Z"
   },
   {
    "duration": 12,
    "start_time": "2022-10-16T22:01:12.548Z"
   },
   {
    "duration": 13,
    "start_time": "2022-10-16T22:01:12.711Z"
   },
   {
    "duration": 15,
    "start_time": "2022-10-16T22:01:12.868Z"
   },
   {
    "duration": 15,
    "start_time": "2022-10-16T22:01:13.035Z"
   },
   {
    "duration": 15,
    "start_time": "2022-10-16T22:01:13.178Z"
   },
   {
    "duration": 11,
    "start_time": "2022-10-16T22:01:13.337Z"
   },
   {
    "duration": 12,
    "start_time": "2022-10-16T22:01:13.495Z"
   },
   {
    "duration": 13,
    "start_time": "2022-10-16T22:01:13.660Z"
   },
   {
    "duration": 12,
    "start_time": "2022-10-16T22:01:13.826Z"
   },
   {
    "duration": 14,
    "start_time": "2022-10-16T22:01:14.005Z"
   },
   {
    "duration": 13,
    "start_time": "2022-10-16T22:01:14.182Z"
   },
   {
    "duration": 13,
    "start_time": "2022-10-16T22:01:14.370Z"
   },
   {
    "duration": 10,
    "start_time": "2022-10-16T22:01:14.532Z"
   },
   {
    "duration": 16,
    "start_time": "2022-10-16T22:01:14.835Z"
   },
   {
    "duration": 12,
    "start_time": "2022-10-16T22:01:15.022Z"
   },
   {
    "duration": 14,
    "start_time": "2022-10-16T22:01:15.192Z"
   },
   {
    "duration": 13,
    "start_time": "2022-10-16T22:01:15.350Z"
   },
   {
    "duration": 13,
    "start_time": "2022-10-16T22:01:15.501Z"
   },
   {
    "duration": 11,
    "start_time": "2022-10-16T22:01:15.654Z"
   },
   {
    "duration": 11,
    "start_time": "2022-10-16T22:01:15.962Z"
   },
   {
    "duration": 10,
    "start_time": "2022-10-16T22:01:16.130Z"
   },
   {
    "duration": 9,
    "start_time": "2022-10-16T22:01:16.300Z"
   },
   {
    "duration": 14,
    "start_time": "2022-10-16T22:01:16.408Z"
   },
   {
    "duration": 15,
    "start_time": "2022-10-16T22:01:16.900Z"
   },
   {
    "duration": 12,
    "start_time": "2022-10-16T22:01:17.084Z"
   },
   {
    "duration": 10,
    "start_time": "2022-10-16T22:01:17.271Z"
   },
   {
    "duration": 625,
    "start_time": "2022-10-16T22:15:29.960Z"
   },
   {
    "duration": 2,
    "start_time": "2022-10-16T22:23:43.785Z"
   },
   {
    "duration": 773,
    "start_time": "2022-10-16T22:23:45.466Z"
   },
   {
    "duration": 3,
    "start_time": "2022-10-16T22:25:00.770Z"
   },
   {
    "duration": 773,
    "start_time": "2022-10-16T22:25:03.981Z"
   },
   {
    "duration": 3738,
    "start_time": "2022-10-16T22:29:05.264Z"
   },
   {
    "duration": 2,
    "start_time": "2022-10-16T22:38:40.016Z"
   },
   {
    "duration": 86,
    "start_time": "2022-10-16T22:38:41.092Z"
   },
   {
    "duration": 48,
    "start_time": "2022-10-16T22:39:00.490Z"
   },
   {
    "duration": 156,
    "start_time": "2022-10-16T22:39:30.256Z"
   },
   {
    "duration": 2,
    "start_time": "2022-10-16T22:41:00.503Z"
   },
   {
    "duration": 9026,
    "start_time": "2022-10-16T22:41:01.475Z"
   },
   {
    "duration": 429,
    "start_time": "2022-10-16T22:47:29.122Z"
   },
   {
    "duration": 24,
    "start_time": "2022-10-16T22:56:37.986Z"
   },
   {
    "duration": 4,
    "start_time": "2022-10-16T22:57:00.814Z"
   },
   {
    "duration": 125,
    "start_time": "2022-10-16T22:57:06.653Z"
   },
   {
    "duration": 186,
    "start_time": "2022-10-16T22:57:26.007Z"
   },
   {
    "duration": 5,
    "start_time": "2022-10-16T22:57:52.806Z"
   },
   {
    "duration": 116,
    "start_time": "2022-10-16T22:59:53.253Z"
   },
   {
    "duration": 137,
    "start_time": "2022-10-16T23:00:11.512Z"
   },
   {
    "duration": 104,
    "start_time": "2022-10-16T23:00:38.262Z"
   },
   {
    "duration": 97,
    "start_time": "2022-10-16T23:00:59.662Z"
   },
   {
    "duration": 54,
    "start_time": "2022-10-16T23:01:24.453Z"
   },
   {
    "duration": 122,
    "start_time": "2022-10-16T23:01:29.441Z"
   },
   {
    "duration": 124,
    "start_time": "2022-10-16T23:01:49.521Z"
   },
   {
    "duration": 123,
    "start_time": "2022-10-16T23:02:28.920Z"
   },
   {
    "duration": 94,
    "start_time": "2022-10-16T23:02:58.477Z"
   },
   {
    "duration": 98,
    "start_time": "2022-10-16T23:04:17.644Z"
   },
   {
    "duration": 98,
    "start_time": "2022-10-16T23:05:53.378Z"
   },
   {
    "duration": 126,
    "start_time": "2022-10-16T23:06:09.395Z"
   },
   {
    "duration": 135,
    "start_time": "2022-10-16T23:06:14.507Z"
   },
   {
    "duration": 103,
    "start_time": "2022-10-16T23:06:22.207Z"
   },
   {
    "duration": 52,
    "start_time": "2022-10-16T23:09:04.128Z"
   },
   {
    "duration": 4,
    "start_time": "2022-10-16T23:09:09.375Z"
   },
   {
    "duration": 4,
    "start_time": "2022-10-16T23:09:46.573Z"
   },
   {
    "duration": 4,
    "start_time": "2022-10-16T23:10:46.241Z"
   },
   {
    "duration": 11,
    "start_time": "2022-10-16T23:10:49.455Z"
   },
   {
    "duration": 128,
    "start_time": "2022-10-16T23:11:55.843Z"
   },
   {
    "duration": 3,
    "start_time": "2022-10-16T23:12:28.845Z"
   },
   {
    "duration": 9596,
    "start_time": "2022-10-16T23:12:29.390Z"
   },
   {
    "duration": 4,
    "start_time": "2022-10-16T23:12:48.973Z"
   },
   {
    "duration": 130,
    "start_time": "2022-10-16T23:12:49.772Z"
   },
   {
    "duration": 1489,
    "start_time": "2022-10-16T23:13:23.828Z"
   },
   {
    "duration": 153,
    "start_time": "2022-10-16T23:13:38.286Z"
   },
   {
    "duration": 1506,
    "start_time": "2022-10-16T23:13:47.271Z"
   },
   {
    "duration": 3,
    "start_time": "2022-10-16T23:14:18.880Z"
   },
   {
    "duration": 9065,
    "start_time": "2022-10-16T23:14:19.414Z"
   },
   {
    "duration": 5,
    "start_time": "2022-10-16T23:14:32.310Z"
   },
   {
    "duration": 133,
    "start_time": "2022-10-16T23:14:33.590Z"
   },
   {
    "duration": 5,
    "start_time": "2022-10-16T23:14:55.319Z"
   },
   {
    "duration": 169,
    "start_time": "2022-10-16T23:17:35.916Z"
   },
   {
    "duration": 153,
    "start_time": "2022-10-16T23:17:45.526Z"
   },
   {
    "duration": 301,
    "start_time": "2022-10-16T23:17:59.215Z"
   },
   {
    "duration": 155,
    "start_time": "2022-10-16T23:18:20.195Z"
   },
   {
    "duration": 297,
    "start_time": "2022-10-16T23:18:28.741Z"
   },
   {
    "duration": 300,
    "start_time": "2022-10-16T23:18:53.451Z"
   },
   {
    "duration": 308,
    "start_time": "2022-10-16T23:18:59.202Z"
   },
   {
    "duration": 304,
    "start_time": "2022-10-16T23:19:04.550Z"
   },
   {
    "duration": 1467,
    "start_time": "2022-10-16T23:19:31.130Z"
   },
   {
    "duration": 157,
    "start_time": "2022-10-16T23:20:23.194Z"
   },
   {
    "duration": 3,
    "start_time": "2022-10-16T23:26:54.699Z"
   },
   {
    "duration": 9514,
    "start_time": "2022-10-16T23:26:55.275Z"
   },
   {
    "duration": 4,
    "start_time": "2022-10-16T23:27:04.790Z"
   },
   {
    "duration": 141,
    "start_time": "2022-10-16T23:27:04.796Z"
   },
   {
    "duration": 1462,
    "start_time": "2022-10-25T10:41:51.686Z"
   },
   {
    "duration": 4,
    "start_time": "2022-10-25T10:50:10.510Z"
   },
   {
    "duration": 72,
    "start_time": "2022-10-25T10:50:10.515Z"
   },
   {
    "duration": 12,
    "start_time": "2022-10-25T10:50:10.589Z"
   },
   {
    "duration": 15,
    "start_time": "2022-10-25T10:50:10.602Z"
   },
   {
    "duration": 5,
    "start_time": "2022-10-25T10:50:10.618Z"
   },
   {
    "duration": 9,
    "start_time": "2022-10-25T10:50:10.624Z"
   },
   {
    "duration": 5,
    "start_time": "2022-10-25T10:50:10.634Z"
   },
   {
    "duration": 6,
    "start_time": "2022-10-25T10:50:10.640Z"
   },
   {
    "duration": 8,
    "start_time": "2022-10-25T10:50:10.648Z"
   },
   {
    "duration": 85,
    "start_time": "2022-10-25T10:50:10.657Z"
   },
   {
    "duration": 3325,
    "start_time": "2022-10-25T10:50:10.744Z"
   },
   {
    "duration": 166,
    "start_time": "2022-10-25T10:50:14.071Z"
   },
   {
    "duration": 15,
    "start_time": "2022-10-25T10:50:14.238Z"
   },
   {
    "duration": 5,
    "start_time": "2022-10-25T10:50:14.254Z"
   },
   {
    "duration": 1000,
    "start_time": "2022-10-25T10:50:14.260Z"
   },
   {
    "duration": 3,
    "start_time": "2022-10-25T10:50:15.262Z"
   },
   {
    "duration": 145,
    "start_time": "2022-10-25T10:50:15.266Z"
   },
   {
    "duration": 3,
    "start_time": "2022-10-25T10:51:48.259Z"
   },
   {
    "duration": 35,
    "start_time": "2022-10-25T10:51:48.263Z"
   },
   {
    "duration": 9,
    "start_time": "2022-10-25T10:51:48.299Z"
   },
   {
    "duration": 11,
    "start_time": "2022-10-25T10:51:48.309Z"
   },
   {
    "duration": 5,
    "start_time": "2022-10-25T10:51:48.322Z"
   },
   {
    "duration": 6,
    "start_time": "2022-10-25T10:51:48.328Z"
   },
   {
    "duration": 6,
    "start_time": "2022-10-25T10:51:48.335Z"
   },
   {
    "duration": 6,
    "start_time": "2022-10-25T10:51:48.342Z"
   },
   {
    "duration": 9,
    "start_time": "2022-10-25T10:51:48.349Z"
   },
   {
    "duration": 72,
    "start_time": "2022-10-25T10:51:48.359Z"
   },
   {
    "duration": 3220,
    "start_time": "2022-10-25T10:51:48.432Z"
   },
   {
    "duration": 181,
    "start_time": "2022-10-25T10:51:51.654Z"
   },
   {
    "duration": 18,
    "start_time": "2022-10-25T10:51:51.837Z"
   },
   {
    "duration": 3,
    "start_time": "2022-10-25T10:51:51.857Z"
   },
   {
    "duration": 38,
    "start_time": "2022-10-25T10:51:51.862Z"
   },
   {
    "duration": 20,
    "start_time": "2022-10-25T10:59:40.701Z"
   },
   {
    "duration": 18,
    "start_time": "2022-10-25T11:01:31.225Z"
   },
   {
    "duration": 17,
    "start_time": "2022-10-25T11:01:45.340Z"
   },
   {
    "duration": 17,
    "start_time": "2022-10-25T11:02:13.741Z"
   },
   {
    "duration": 18,
    "start_time": "2022-10-25T11:25:24.617Z"
   },
   {
    "duration": 19,
    "start_time": "2022-10-25T11:33:27.995Z"
   },
   {
    "duration": 3,
    "start_time": "2022-10-25T12:07:17.506Z"
   },
   {
    "duration": 38,
    "start_time": "2022-10-25T12:07:17.511Z"
   },
   {
    "duration": 9,
    "start_time": "2022-10-25T12:07:17.551Z"
   },
   {
    "duration": 10,
    "start_time": "2022-10-25T12:07:17.561Z"
   },
   {
    "duration": 5,
    "start_time": "2022-10-25T12:07:17.573Z"
   },
   {
    "duration": 7,
    "start_time": "2022-10-25T12:07:17.580Z"
   },
   {
    "duration": 5,
    "start_time": "2022-10-25T12:07:17.588Z"
   },
   {
    "duration": 5,
    "start_time": "2022-10-25T12:07:17.594Z"
   },
   {
    "duration": 9,
    "start_time": "2022-10-25T12:07:17.600Z"
   },
   {
    "duration": 69,
    "start_time": "2022-10-25T12:07:17.611Z"
   },
   {
    "duration": 3337,
    "start_time": "2022-10-25T12:07:17.682Z"
   },
   {
    "duration": 185,
    "start_time": "2022-10-25T12:07:21.020Z"
   },
   {
    "duration": 18,
    "start_time": "2022-10-25T12:07:21.209Z"
   },
   {
    "duration": 18,
    "start_time": "2022-10-25T12:07:21.229Z"
   },
   {
    "duration": 2076,
    "start_time": "2022-10-25T12:26:22.393Z"
   },
   {
    "duration": 38,
    "start_time": "2022-10-25T12:26:24.471Z"
   },
   {
    "duration": 12,
    "start_time": "2022-10-25T12:26:24.510Z"
   },
   {
    "duration": 28,
    "start_time": "2022-10-25T12:26:24.524Z"
   },
   {
    "duration": 19,
    "start_time": "2022-10-25T12:26:24.553Z"
   },
   {
    "duration": 25,
    "start_time": "2022-10-25T12:26:24.573Z"
   },
   {
    "duration": 20,
    "start_time": "2022-10-25T12:26:24.600Z"
   },
   {
    "duration": 46,
    "start_time": "2022-10-25T12:26:24.622Z"
   },
   {
    "duration": 23,
    "start_time": "2022-10-25T12:26:24.670Z"
   },
   {
    "duration": 82,
    "start_time": "2022-10-25T12:26:24.695Z"
   },
   {
    "duration": 3769,
    "start_time": "2022-10-25T12:26:24.779Z"
   },
   {
    "duration": 202,
    "start_time": "2022-10-25T12:26:28.549Z"
   },
   {
    "duration": 18,
    "start_time": "2022-10-25T12:26:28.752Z"
   },
   {
    "duration": 31,
    "start_time": "2022-10-25T12:26:28.772Z"
   },
   {
    "duration": 1783,
    "start_time": "2022-10-28T09:52:40.326Z"
   },
   {
    "duration": 125,
    "start_time": "2022-10-28T09:52:42.112Z"
   },
   {
    "duration": 14,
    "start_time": "2022-10-28T09:52:42.239Z"
   },
   {
    "duration": 26,
    "start_time": "2022-10-28T09:52:42.255Z"
   },
   {
    "duration": 6,
    "start_time": "2022-10-28T09:52:42.283Z"
   },
   {
    "duration": 24,
    "start_time": "2022-10-28T09:52:42.291Z"
   },
   {
    "duration": 20,
    "start_time": "2022-10-28T09:52:42.317Z"
   },
   {
    "duration": 12,
    "start_time": "2022-10-28T09:52:42.339Z"
   },
   {
    "duration": 18,
    "start_time": "2022-10-28T09:52:42.354Z"
   },
   {
    "duration": 85,
    "start_time": "2022-10-28T09:52:42.374Z"
   },
   {
    "duration": 4125,
    "start_time": "2022-10-28T09:52:42.461Z"
   },
   {
    "duration": 237,
    "start_time": "2022-10-28T09:52:46.588Z"
   },
   {
    "duration": 32,
    "start_time": "2022-10-28T09:52:46.827Z"
   },
   {
    "duration": 22,
    "start_time": "2022-10-28T09:52:46.862Z"
   },
   {
    "duration": 4,
    "start_time": "2022-10-28T09:55:17.091Z"
   },
   {
    "duration": 19,
    "start_time": "2022-10-28T10:03:52.259Z"
   },
   {
    "duration": 4,
    "start_time": "2022-10-28T10:04:06.297Z"
   },
   {
    "duration": 1696,
    "start_time": "2022-10-28T15:11:58.071Z"
   },
   {
    "duration": 67,
    "start_time": "2022-10-28T15:11:59.769Z"
   },
   {
    "duration": 13,
    "start_time": "2022-10-28T15:11:59.838Z"
   },
   {
    "duration": 14,
    "start_time": "2022-10-28T15:11:59.853Z"
   },
   {
    "duration": 5,
    "start_time": "2022-10-28T15:11:59.869Z"
   },
   {
    "duration": 8,
    "start_time": "2022-10-28T15:11:59.875Z"
   },
   {
    "duration": 6,
    "start_time": "2022-10-28T15:11:59.885Z"
   },
   {
    "duration": 5,
    "start_time": "2022-10-28T15:11:59.892Z"
   },
   {
    "duration": 8,
    "start_time": "2022-10-28T15:11:59.899Z"
   },
   {
    "duration": 3,
    "start_time": "2022-10-28T15:11:59.909Z"
   },
   {
    "duration": 95,
    "start_time": "2022-10-28T15:11:59.914Z"
   },
   {
    "duration": 3822,
    "start_time": "2022-10-28T15:12:00.011Z"
   },
   {
    "duration": 335,
    "start_time": "2022-10-28T15:12:03.834Z"
   },
   {
    "duration": 23,
    "start_time": "2022-10-28T15:12:04.171Z"
   },
   {
    "duration": 19,
    "start_time": "2022-10-28T15:12:04.196Z"
   },
   {
    "duration": 115,
    "start_time": "2022-10-28T15:12:53.890Z"
   },
   {
    "duration": 3,
    "start_time": "2022-10-28T15:14:37.991Z"
   },
   {
    "duration": 12,
    "start_time": "2022-10-28T15:15:40.104Z"
   },
   {
    "duration": 5339,
    "start_time": "2022-10-28T15:17:04.620Z"
   },
   {
    "duration": 95,
    "start_time": "2022-10-28T15:17:18.143Z"
   },
   {
    "duration": 1797,
    "start_time": "2022-10-28T15:17:22.947Z"
   },
   {
    "duration": 984,
    "start_time": "2022-10-28T15:17:35.643Z"
   },
   {
    "duration": 994,
    "start_time": "2022-10-28T15:17:45.248Z"
   },
   {
    "duration": 1056,
    "start_time": "2022-10-28T15:18:03.551Z"
   },
   {
    "duration": 1735,
    "start_time": "2022-10-28T15:18:19.815Z"
   },
   {
    "duration": 1005,
    "start_time": "2022-10-28T15:18:27.727Z"
   },
   {
    "duration": 986,
    "start_time": "2022-10-28T15:18:49.676Z"
   },
   {
    "duration": 1017,
    "start_time": "2022-10-28T15:19:07.318Z"
   },
   {
    "duration": 990,
    "start_time": "2022-10-28T15:20:25.119Z"
   },
   {
    "duration": 1005,
    "start_time": "2022-10-28T15:20:37.152Z"
   },
   {
    "duration": 1039,
    "start_time": "2022-10-28T15:21:13.703Z"
   },
   {
    "duration": 12,
    "start_time": "2022-10-28T15:21:32.004Z"
   },
   {
    "duration": 1098,
    "start_time": "2022-10-28T15:21:59.657Z"
   },
   {
    "duration": 1051,
    "start_time": "2022-10-28T15:23:46.593Z"
   },
   {
    "duration": 1042,
    "start_time": "2022-10-28T15:23:58.352Z"
   },
   {
    "duration": 1062,
    "start_time": "2022-10-28T15:24:03.446Z"
   },
   {
    "duration": 1062,
    "start_time": "2022-10-28T15:25:11.978Z"
   },
   {
    "duration": 982,
    "start_time": "2022-10-28T15:25:19.816Z"
   },
   {
    "duration": 12,
    "start_time": "2022-10-28T15:25:27.203Z"
   },
   {
    "duration": 996,
    "start_time": "2022-10-28T15:25:31.916Z"
   },
   {
    "duration": 1017,
    "start_time": "2022-10-28T15:25:52.217Z"
   },
   {
    "duration": 1014,
    "start_time": "2022-10-28T15:26:54.161Z"
   },
   {
    "duration": 1003,
    "start_time": "2022-10-28T15:27:08.401Z"
   },
   {
    "duration": 999,
    "start_time": "2022-10-28T15:27:17.502Z"
   },
   {
    "duration": 1026,
    "start_time": "2022-10-28T15:27:36.793Z"
   },
   {
    "duration": 1075,
    "start_time": "2022-10-28T15:29:36.195Z"
   },
   {
    "duration": 1111,
    "start_time": "2022-10-28T15:29:59.002Z"
   },
   {
    "duration": 1005,
    "start_time": "2022-10-28T15:30:07.770Z"
   },
   {
    "duration": 1092,
    "start_time": "2022-10-28T15:30:13.977Z"
   },
   {
    "duration": 815,
    "start_time": "2022-10-28T15:30:24.121Z"
   },
   {
    "duration": 1011,
    "start_time": "2022-10-28T15:30:28.770Z"
   },
   {
    "duration": 83,
    "start_time": "2022-10-28T15:38:38.861Z"
   },
   {
    "duration": 78,
    "start_time": "2022-10-28T15:40:30.409Z"
   },
   {
    "duration": 71,
    "start_time": "2022-10-28T15:40:42.548Z"
   },
   {
    "duration": 138,
    "start_time": "2022-10-28T15:41:01.080Z"
   },
   {
    "duration": 134,
    "start_time": "2022-10-28T15:41:13.420Z"
   },
   {
    "duration": 118,
    "start_time": "2022-10-28T15:41:23.620Z"
   },
   {
    "duration": 79,
    "start_time": "2022-10-28T15:41:32.404Z"
   },
   {
    "duration": 75,
    "start_time": "2022-10-28T15:41:44.373Z"
   },
   {
    "duration": 127,
    "start_time": "2022-10-28T15:41:47.213Z"
   },
   {
    "duration": 137,
    "start_time": "2022-10-28T15:42:00.571Z"
   },
   {
    "duration": 136,
    "start_time": "2022-10-28T15:42:13.863Z"
   },
   {
    "duration": 153,
    "start_time": "2022-10-28T15:42:32.540Z"
   },
   {
    "duration": 158,
    "start_time": "2022-10-28T15:42:42.429Z"
   },
   {
    "duration": 143,
    "start_time": "2022-10-28T15:42:52.144Z"
   },
   {
    "duration": 140,
    "start_time": "2022-10-28T15:43:03.336Z"
   },
   {
    "duration": 269,
    "start_time": "2022-10-28T15:43:19.497Z"
   },
   {
    "duration": 156,
    "start_time": "2022-10-28T15:43:35.035Z"
   },
   {
    "duration": 162,
    "start_time": "2022-10-28T15:43:59.408Z"
   },
   {
    "duration": 17,
    "start_time": "2022-10-28T15:46:49.750Z"
   },
   {
    "duration": 27,
    "start_time": "2022-10-28T15:47:36.366Z"
   },
   {
    "duration": 84,
    "start_time": "2022-10-28T15:48:13.508Z"
   },
   {
    "duration": 106,
    "start_time": "2022-10-28T16:50:34.355Z"
   },
   {
    "duration": 197,
    "start_time": "2022-10-28T16:50:42.307Z"
   },
   {
    "duration": 172,
    "start_time": "2022-10-28T16:53:19.661Z"
   },
   {
    "duration": 159,
    "start_time": "2022-10-28T16:53:39.977Z"
   },
   {
    "duration": 158,
    "start_time": "2022-10-28T16:53:44.270Z"
   },
   {
    "duration": 182,
    "start_time": "2022-10-28T16:54:14.261Z"
   },
   {
    "duration": 173,
    "start_time": "2022-10-28T16:54:21.487Z"
   },
   {
    "duration": 168,
    "start_time": "2022-10-28T16:54:43.853Z"
   },
   {
    "duration": 164,
    "start_time": "2022-10-28T16:54:49.251Z"
   },
   {
    "duration": 217,
    "start_time": "2022-10-28T16:54:53.593Z"
   },
   {
    "duration": 170,
    "start_time": "2022-10-28T16:55:10.375Z"
   },
   {
    "duration": 158,
    "start_time": "2022-10-28T16:55:14.874Z"
   },
   {
    "duration": 176,
    "start_time": "2022-10-28T16:55:21.581Z"
   },
   {
    "duration": 195,
    "start_time": "2022-10-28T16:56:14.177Z"
   },
   {
    "duration": 74,
    "start_time": "2022-10-28T16:56:57.159Z"
   },
   {
    "duration": 165,
    "start_time": "2022-10-28T16:57:03.913Z"
   },
   {
    "duration": 300,
    "start_time": "2022-10-28T16:57:24.191Z"
   },
   {
    "duration": 181,
    "start_time": "2022-10-28T16:57:59.875Z"
   },
   {
    "duration": 216,
    "start_time": "2022-10-28T16:58:30.857Z"
   },
   {
    "duration": 226,
    "start_time": "2022-10-28T16:58:37.456Z"
   },
   {
    "duration": 214,
    "start_time": "2022-10-28T16:58:40.763Z"
   },
   {
    "duration": 206,
    "start_time": "2022-10-28T16:58:48.452Z"
   },
   {
    "duration": 204,
    "start_time": "2022-10-28T16:58:55.603Z"
   },
   {
    "duration": 161,
    "start_time": "2022-10-28T16:59:35.271Z"
   },
   {
    "duration": 159,
    "start_time": "2022-10-28T16:59:42.406Z"
   },
   {
    "duration": 203,
    "start_time": "2022-10-28T17:00:05.305Z"
   },
   {
    "duration": 174,
    "start_time": "2022-10-28T17:01:06.008Z"
   },
   {
    "duration": 203,
    "start_time": "2022-10-28T17:01:58.627Z"
   },
   {
    "duration": 92,
    "start_time": "2022-10-28T17:02:30.982Z"
   },
   {
    "duration": 81,
    "start_time": "2022-10-28T17:03:55.557Z"
   },
   {
    "duration": 212,
    "start_time": "2022-10-28T17:04:02.022Z"
   },
   {
    "duration": 193,
    "start_time": "2022-10-28T17:04:07.567Z"
   },
   {
    "duration": 196,
    "start_time": "2022-10-28T17:04:28.762Z"
   },
   {
    "duration": 211,
    "start_time": "2022-10-28T17:04:52.013Z"
   },
   {
    "duration": 205,
    "start_time": "2022-10-28T17:04:59.804Z"
   },
   {
    "duration": 16,
    "start_time": "2022-10-28T17:13:54.152Z"
   },
   {
    "duration": 332,
    "start_time": "2022-10-28T17:14:06.218Z"
   },
   {
    "duration": 85,
    "start_time": "2022-10-28T17:14:10.017Z"
   },
   {
    "duration": 4,
    "start_time": "2022-10-28T17:14:15.787Z"
   },
   {
    "duration": 30,
    "start_time": "2022-10-28T17:14:15.793Z"
   },
   {
    "duration": 10,
    "start_time": "2022-10-28T17:14:15.825Z"
   },
   {
    "duration": 10,
    "start_time": "2022-10-28T17:14:15.836Z"
   },
   {
    "duration": 7,
    "start_time": "2022-10-28T17:14:15.848Z"
   },
   {
    "duration": 6,
    "start_time": "2022-10-28T17:14:15.856Z"
   },
   {
    "duration": 28,
    "start_time": "2022-10-28T17:14:15.864Z"
   },
   {
    "duration": 4,
    "start_time": "2022-10-28T17:14:15.894Z"
   },
   {
    "duration": 9,
    "start_time": "2022-10-28T17:14:15.899Z"
   },
   {
    "duration": 3,
    "start_time": "2022-10-28T17:14:15.910Z"
   },
   {
    "duration": 115,
    "start_time": "2022-10-28T17:14:15.915Z"
   },
   {
    "duration": 194,
    "start_time": "2022-10-28T17:14:16.032Z"
   },
   {
    "duration": 1225,
    "start_time": "2022-10-28T17:14:16.228Z"
   },
   {
    "duration": 82,
    "start_time": "2022-10-28T17:14:17.456Z"
   },
   {
    "duration": 295,
    "start_time": "2022-10-28T17:14:17.539Z"
   },
   {
    "duration": 9,
    "start_time": "2022-10-28T17:14:17.835Z"
   },
   {
    "duration": 0,
    "start_time": "2022-10-28T17:14:17.845Z"
   },
   {
    "duration": 3604,
    "start_time": "2022-10-28T17:14:38.111Z"
   },
   {
    "duration": 3611,
    "start_time": "2022-10-28T17:14:46.888Z"
   },
   {
    "duration": 13,
    "start_time": "2022-10-28T17:15:21.585Z"
   },
   {
    "duration": 3,
    "start_time": "2022-10-28T17:15:30.285Z"
   },
   {
    "duration": 53,
    "start_time": "2022-10-28T17:15:30.290Z"
   },
   {
    "duration": 11,
    "start_time": "2022-10-28T17:15:30.344Z"
   },
   {
    "duration": 18,
    "start_time": "2022-10-28T17:15:30.357Z"
   },
   {
    "duration": 22,
    "start_time": "2022-10-28T17:15:30.377Z"
   },
   {
    "duration": 17,
    "start_time": "2022-10-28T17:15:30.401Z"
   },
   {
    "duration": 9,
    "start_time": "2022-10-28T17:15:30.420Z"
   },
   {
    "duration": 9,
    "start_time": "2022-10-28T17:15:30.431Z"
   },
   {
    "duration": 17,
    "start_time": "2022-10-28T17:15:30.442Z"
   },
   {
    "duration": 9,
    "start_time": "2022-10-28T17:15:30.460Z"
   },
   {
    "duration": 90,
    "start_time": "2022-10-28T17:15:30.470Z"
   },
   {
    "duration": 204,
    "start_time": "2022-10-28T17:15:30.562Z"
   },
   {
    "duration": 1001,
    "start_time": "2022-10-28T17:15:30.768Z"
   },
   {
    "duration": 3696,
    "start_time": "2022-10-28T17:15:31.771Z"
   },
   {
    "duration": 337,
    "start_time": "2022-10-28T17:15:35.469Z"
   },
   {
    "duration": 16,
    "start_time": "2022-10-28T17:15:35.808Z"
   },
   {
    "duration": 26,
    "start_time": "2022-10-28T17:15:35.827Z"
   },
   {
    "duration": 15,
    "start_time": "2022-10-28T17:22:07.530Z"
   },
   {
    "duration": 137,
    "start_time": "2022-10-28T17:23:01.267Z"
   },
   {
    "duration": 160,
    "start_time": "2022-10-28T17:23:06.428Z"
   },
   {
    "duration": 13,
    "start_time": "2022-10-28T17:23:13.618Z"
   },
   {
    "duration": 10,
    "start_time": "2022-10-28T17:41:05.404Z"
   },
   {
    "duration": 5,
    "start_time": "2022-10-28T17:41:15.161Z"
   },
   {
    "duration": 3994,
    "start_time": "2022-10-28T17:48:09.710Z"
   },
   {
    "duration": 4268,
    "start_time": "2022-10-28T17:48:56.154Z"
   },
   {
    "duration": 16,
    "start_time": "2022-10-28T17:49:33.665Z"
   },
   {
    "duration": 424,
    "start_time": "2022-10-28T17:50:06.635Z"
   },
   {
    "duration": 299,
    "start_time": "2022-10-28T17:50:17.614Z"
   },
   {
    "duration": 299,
    "start_time": "2022-10-28T17:51:40.257Z"
   },
   {
    "duration": 306,
    "start_time": "2022-10-28T17:52:09.616Z"
   },
   {
    "duration": 354,
    "start_time": "2022-10-28T17:52:22.071Z"
   },
   {
    "duration": 361,
    "start_time": "2022-10-28T17:53:24.684Z"
   },
   {
    "duration": 317,
    "start_time": "2022-10-28T17:53:55.313Z"
   },
   {
    "duration": 314,
    "start_time": "2022-10-28T17:54:10.726Z"
   },
   {
    "duration": 344,
    "start_time": "2022-10-28T17:54:25.934Z"
   },
   {
    "duration": 385,
    "start_time": "2022-10-28T17:54:38.680Z"
   },
   {
    "duration": 364,
    "start_time": "2022-10-28T19:17:46.714Z"
   },
   {
    "duration": 349,
    "start_time": "2022-10-28T19:18:12.214Z"
   },
   {
    "duration": 508,
    "start_time": "2022-10-28T19:18:28.954Z"
   },
   {
    "duration": 344,
    "start_time": "2022-10-28T19:18:40.109Z"
   },
   {
    "duration": 363,
    "start_time": "2022-10-28T19:19:00.008Z"
   },
   {
    "duration": 341,
    "start_time": "2022-10-28T19:28:34.572Z"
   },
   {
    "duration": 313,
    "start_time": "2022-10-28T19:29:58.450Z"
   },
   {
    "duration": 306,
    "start_time": "2022-10-28T19:30:20.299Z"
   },
   {
    "duration": 2,
    "start_time": "2022-10-28T19:30:50.026Z"
   },
   {
    "duration": 4,
    "start_time": "2022-10-28T19:30:55.542Z"
   },
   {
    "duration": 287,
    "start_time": "2022-10-28T19:31:18.546Z"
   },
   {
    "duration": 294,
    "start_time": "2022-10-28T19:31:22.612Z"
   },
   {
    "duration": 321,
    "start_time": "2022-10-28T19:32:09.896Z"
   },
   {
    "duration": 400,
    "start_time": "2022-10-28T19:32:27.986Z"
   },
   {
    "duration": 380,
    "start_time": "2022-10-28T19:33:06.981Z"
   },
   {
    "duration": 363,
    "start_time": "2022-10-28T19:33:44.096Z"
   },
   {
    "duration": 292,
    "start_time": "2022-10-28T20:41:15.816Z"
   },
   {
    "duration": 4,
    "start_time": "2022-10-28T20:41:28.368Z"
   },
   {
    "duration": 1440,
    "start_time": "2022-10-29T09:51:01.134Z"
   },
   {
    "duration": 69,
    "start_time": "2022-10-29T09:51:02.576Z"
   },
   {
    "duration": 11,
    "start_time": "2022-10-29T09:51:02.646Z"
   },
   {
    "duration": 20,
    "start_time": "2022-10-29T09:51:02.658Z"
   },
   {
    "duration": 10,
    "start_time": "2022-10-29T09:51:02.680Z"
   },
   {
    "duration": 16,
    "start_time": "2022-10-29T09:51:02.692Z"
   },
   {
    "duration": 8,
    "start_time": "2022-10-29T09:51:02.709Z"
   },
   {
    "duration": 4,
    "start_time": "2022-10-29T09:51:02.719Z"
   },
   {
    "duration": 14,
    "start_time": "2022-10-29T09:51:02.724Z"
   },
   {
    "duration": 18,
    "start_time": "2022-10-29T09:51:02.739Z"
   },
   {
    "duration": 78,
    "start_time": "2022-10-29T09:51:02.758Z"
   },
   {
    "duration": 202,
    "start_time": "2022-10-29T09:51:02.838Z"
   },
   {
    "duration": 919,
    "start_time": "2022-10-29T09:51:03.041Z"
   },
   {
    "duration": 3603,
    "start_time": "2022-10-29T09:51:03.962Z"
   },
   {
    "duration": 443,
    "start_time": "2022-10-29T09:51:07.566Z"
   },
   {
    "duration": 254,
    "start_time": "2022-10-29T09:51:08.010Z"
   },
   {
    "duration": 128,
    "start_time": "2022-10-29T09:51:08.265Z"
   },
   {
    "duration": 11,
    "start_time": "2022-10-29T09:51:08.395Z"
   },
   {
    "duration": 26,
    "start_time": "2022-10-29T09:51:08.408Z"
   },
   {
    "duration": 109,
    "start_time": "2022-10-29T09:52:29.420Z"
   },
   {
    "duration": 968,
    "start_time": "2022-10-29T09:52:53.591Z"
   }
  ],
  "kernelspec": {
   "display_name": "Python 3 (ipykernel)",
   "language": "python",
   "name": "python3"
  },
  "language_info": {
   "codemirror_mode": {
    "name": "ipython",
    "version": 3
   },
   "file_extension": ".py",
   "mimetype": "text/x-python",
   "name": "python",
   "nbconvert_exporter": "python",
   "pygments_lexer": "ipython3",
   "version": "3.9.16"
  },
  "toc": {
   "base_numbering": 1,
   "nav_menu": {
    "height": "227.4px",
    "width": "306.4px"
   },
   "number_sections": true,
   "sideBar": true,
   "skip_h1_title": true,
   "title_cell": "Table of Contents",
   "title_sidebar": "Contents",
   "toc_cell": false,
   "toc_position": {
    "height": "calc(100% - 180px)",
    "left": "10px",
    "top": "150px",
    "width": "320px"
   },
   "toc_section_display": true,
   "toc_window_display": true
  }
 },
 "nbformat": 4,
 "nbformat_minor": 2
}
