{
 "cells": [
  {
   "cell_type": "markdown",
   "metadata": {
    "toc": true
   },
   "source": [
    "<h1>Содержание<span class=\"tocSkip\"></span></h1>\n",
    "<div class=\"toc\"><ul class=\"toc-item\"><li><span><a href=\"#Загрузка-данных\" data-toc-modified-id=\"Загрузка-данных-1\"><span class=\"toc-item-num\">1&nbsp;&nbsp;</span>Загрузка данных</a></span></li><li><span><a href=\"#Умножение-матриц\" data-toc-modified-id=\"Умножение-матриц-2\"><span class=\"toc-item-num\">2&nbsp;&nbsp;</span>Умножение матриц</a></span></li><li><span><a href=\"#Алгоритм-преобразования\" data-toc-modified-id=\"Алгоритм-преобразования-3\"><span class=\"toc-item-num\">3&nbsp;&nbsp;</span>Алгоритм преобразования</a></span></li><li><span><a href=\"#Проверка-алгоритма\" data-toc-modified-id=\"Проверка-алгоритма-4\"><span class=\"toc-item-num\">4&nbsp;&nbsp;</span>Проверка алгоритма</a></span></li><li><span><a href=\"#Выводы\" data-toc-modified-id=\"Выводы-5\"><span class=\"toc-item-num\">5&nbsp;&nbsp;</span>Выводы</a></span></li></ul></div>"
   ]
  },
  {
   "cell_type": "markdown",
   "metadata": {},
   "source": [
    "# Защита персональных данных клиентов"
   ]
  },
  {
   "cell_type": "markdown",
   "metadata": {},
   "source": [
    "Требуется защитить данные клиентов страховой компании «Хоть потоп». Разработайте такой метод преобразования данных, чтобы по ним было сложно восстановить персональную информацию. Обоснуйте корректность его работы.\n",
    "\n",
    "Нужно защитить данные, чтобы при преобразовании качество моделей машинного обучения не ухудшилось."
   ]
  },
  {
   "cell_type": "markdown",
   "metadata": {},
   "source": [
    "## Загрузка данных"
   ]
  },
  {
   "cell_type": "code",
   "execution_count": 1,
   "metadata": {},
   "outputs": [],
   "source": [
    "import pandas as pd\n",
    "import numpy as np\n",
    "import os\n",
    "from sklearn.metrics import r2_score\n",
    "from sklearn.model_selection import train_test_split"
   ]
  },
  {
   "cell_type": "code",
   "execution_count": 2,
   "metadata": {},
   "outputs": [],
   "source": [
    "path = '/datasets/insurance.csv'\n",
    "if os.path.exists(path):\n",
    "    data = pd.read_csv(path)\n",
    "else:\n",
    "    print('Что-то пошло не так')"
   ]
  },
  {
   "cell_type": "code",
   "execution_count": 3,
   "metadata": {},
   "outputs": [
    {
     "name": "stdout",
     "output_type": "stream",
     "text": [
      "<class 'pandas.core.frame.DataFrame'>\n",
      "RangeIndex: 5000 entries, 0 to 4999\n",
      "Data columns (total 5 columns):\n",
      " #   Column             Non-Null Count  Dtype  \n",
      "---  ------             --------------  -----  \n",
      " 0   Пол                5000 non-null   int64  \n",
      " 1   Возраст            5000 non-null   float64\n",
      " 2   Зарплата           5000 non-null   float64\n",
      " 3   Члены семьи        5000 non-null   int64  \n",
      " 4   Страховые выплаты  5000 non-null   int64  \n",
      "dtypes: float64(2), int64(3)\n",
      "memory usage: 195.4 KB\n"
     ]
    }
   ],
   "source": [
    "data.info()"
   ]
  },
  {
   "cell_type": "code",
   "execution_count": 4,
   "metadata": {},
   "outputs": [
    {
     "data": {
      "text/html": [
       "<div>\n",
       "<style scoped>\n",
       "    .dataframe tbody tr th:only-of-type {\n",
       "        vertical-align: middle;\n",
       "    }\n",
       "\n",
       "    .dataframe tbody tr th {\n",
       "        vertical-align: top;\n",
       "    }\n",
       "\n",
       "    .dataframe thead th {\n",
       "        text-align: right;\n",
       "    }\n",
       "</style>\n",
       "<table border=\"1\" class=\"dataframe\">\n",
       "  <thead>\n",
       "    <tr style=\"text-align: right;\">\n",
       "      <th></th>\n",
       "      <th>Пол</th>\n",
       "      <th>Возраст</th>\n",
       "      <th>Зарплата</th>\n",
       "      <th>Члены семьи</th>\n",
       "      <th>Страховые выплаты</th>\n",
       "    </tr>\n",
       "  </thead>\n",
       "  <tbody>\n",
       "    <tr>\n",
       "      <th>0</th>\n",
       "      <td>1</td>\n",
       "      <td>41.0</td>\n",
       "      <td>49600.0</td>\n",
       "      <td>1</td>\n",
       "      <td>0</td>\n",
       "    </tr>\n",
       "    <tr>\n",
       "      <th>1</th>\n",
       "      <td>0</td>\n",
       "      <td>46.0</td>\n",
       "      <td>38000.0</td>\n",
       "      <td>1</td>\n",
       "      <td>1</td>\n",
       "    </tr>\n",
       "    <tr>\n",
       "      <th>2</th>\n",
       "      <td>0</td>\n",
       "      <td>29.0</td>\n",
       "      <td>21000.0</td>\n",
       "      <td>0</td>\n",
       "      <td>0</td>\n",
       "    </tr>\n",
       "    <tr>\n",
       "      <th>3</th>\n",
       "      <td>0</td>\n",
       "      <td>21.0</td>\n",
       "      <td>41700.0</td>\n",
       "      <td>2</td>\n",
       "      <td>0</td>\n",
       "    </tr>\n",
       "    <tr>\n",
       "      <th>4</th>\n",
       "      <td>1</td>\n",
       "      <td>28.0</td>\n",
       "      <td>26100.0</td>\n",
       "      <td>0</td>\n",
       "      <td>0</td>\n",
       "    </tr>\n",
       "  </tbody>\n",
       "</table>\n",
       "</div>"
      ],
      "text/plain": [
       "   Пол  Возраст  Зарплата  Члены семьи  Страховые выплаты\n",
       "0    1     41.0   49600.0            1                  0\n",
       "1    0     46.0   38000.0            1                  1\n",
       "2    0     29.0   21000.0            0                  0\n",
       "3    0     21.0   41700.0            2                  0\n",
       "4    1     28.0   26100.0            0                  0"
      ]
     },
     "execution_count": 4,
     "metadata": {},
     "output_type": "execute_result"
    }
   ],
   "source": [
    "data.head()"
   ]
  },
  {
   "cell_type": "code",
   "execution_count": 5,
   "metadata": {},
   "outputs": [],
   "source": [
    "data.columns = [column.lower() for column in data.columns]"
   ]
  },
  {
   "cell_type": "code",
   "execution_count": 6,
   "metadata": {},
   "outputs": [],
   "source": [
    "data = data.rename(columns={'члены семьи': 'члены_семьи', 'страховые выплаты': 'страховые_выплаты'})"
   ]
  },
  {
   "cell_type": "code",
   "execution_count": 7,
   "metadata": {},
   "outputs": [
    {
     "data": {
      "text/plain": [
       "0"
      ]
     },
     "execution_count": 7,
     "metadata": {},
     "output_type": "execute_result"
    }
   ],
   "source": [
    "data.isna().sum().sum() # число пропущенных значений"
   ]
  },
  {
   "cell_type": "code",
   "execution_count": 8,
   "metadata": {},
   "outputs": [
    {
     "data": {
      "text/plain": [
       "153"
      ]
     },
     "execution_count": 8,
     "metadata": {},
     "output_type": "execute_result"
    }
   ],
   "source": [
    "data.duplicated().sum() # число дубликатов"
   ]
  },
  {
   "cell_type": "code",
   "execution_count": 9,
   "metadata": {},
   "outputs": [],
   "source": [
    "data = data.drop_duplicates() # удалили дубликаты"
   ]
  },
  {
   "cell_type": "code",
   "execution_count": 10,
   "metadata": {},
   "outputs": [
    {
     "data": {
      "text/html": [
       "<div>\n",
       "<style scoped>\n",
       "    .dataframe tbody tr th:only-of-type {\n",
       "        vertical-align: middle;\n",
       "    }\n",
       "\n",
       "    .dataframe tbody tr th {\n",
       "        vertical-align: top;\n",
       "    }\n",
       "\n",
       "    .dataframe thead th {\n",
       "        text-align: right;\n",
       "    }\n",
       "</style>\n",
       "<table border=\"1\" class=\"dataframe\">\n",
       "  <thead>\n",
       "    <tr style=\"text-align: right;\">\n",
       "      <th></th>\n",
       "      <th>пол</th>\n",
       "      <th>возраст</th>\n",
       "      <th>зарплата</th>\n",
       "      <th>члены_семьи</th>\n",
       "      <th>страховые_выплаты</th>\n",
       "    </tr>\n",
       "  </thead>\n",
       "  <tbody>\n",
       "    <tr>\n",
       "      <th>count</th>\n",
       "      <td>4847.000000</td>\n",
       "      <td>4847.000000</td>\n",
       "      <td>4847.000000</td>\n",
       "      <td>4847.000000</td>\n",
       "      <td>4847.000000</td>\n",
       "    </tr>\n",
       "    <tr>\n",
       "      <th>mean</th>\n",
       "      <td>0.498453</td>\n",
       "      <td>31.023932</td>\n",
       "      <td>39895.811842</td>\n",
       "      <td>1.203425</td>\n",
       "      <td>0.152259</td>\n",
       "    </tr>\n",
       "    <tr>\n",
       "      <th>std</th>\n",
       "      <td>0.500049</td>\n",
       "      <td>8.487995</td>\n",
       "      <td>9972.953985</td>\n",
       "      <td>1.098664</td>\n",
       "      <td>0.468934</td>\n",
       "    </tr>\n",
       "    <tr>\n",
       "      <th>min</th>\n",
       "      <td>0.000000</td>\n",
       "      <td>18.000000</td>\n",
       "      <td>5300.000000</td>\n",
       "      <td>0.000000</td>\n",
       "      <td>0.000000</td>\n",
       "    </tr>\n",
       "    <tr>\n",
       "      <th>25%</th>\n",
       "      <td>0.000000</td>\n",
       "      <td>24.000000</td>\n",
       "      <td>33200.000000</td>\n",
       "      <td>0.000000</td>\n",
       "      <td>0.000000</td>\n",
       "    </tr>\n",
       "    <tr>\n",
       "      <th>50%</th>\n",
       "      <td>0.000000</td>\n",
       "      <td>30.000000</td>\n",
       "      <td>40200.000000</td>\n",
       "      <td>1.000000</td>\n",
       "      <td>0.000000</td>\n",
       "    </tr>\n",
       "    <tr>\n",
       "      <th>75%</th>\n",
       "      <td>1.000000</td>\n",
       "      <td>37.000000</td>\n",
       "      <td>46600.000000</td>\n",
       "      <td>2.000000</td>\n",
       "      <td>0.000000</td>\n",
       "    </tr>\n",
       "    <tr>\n",
       "      <th>max</th>\n",
       "      <td>1.000000</td>\n",
       "      <td>65.000000</td>\n",
       "      <td>79000.000000</td>\n",
       "      <td>6.000000</td>\n",
       "      <td>5.000000</td>\n",
       "    </tr>\n",
       "  </tbody>\n",
       "</table>\n",
       "</div>"
      ],
      "text/plain": [
       "               пол      возраст      зарплата  члены_семьи  страховые_выплаты\n",
       "count  4847.000000  4847.000000   4847.000000  4847.000000        4847.000000\n",
       "mean      0.498453    31.023932  39895.811842     1.203425           0.152259\n",
       "std       0.500049     8.487995   9972.953985     1.098664           0.468934\n",
       "min       0.000000    18.000000   5300.000000     0.000000           0.000000\n",
       "25%       0.000000    24.000000  33200.000000     0.000000           0.000000\n",
       "50%       0.000000    30.000000  40200.000000     1.000000           0.000000\n",
       "75%       1.000000    37.000000  46600.000000     2.000000           0.000000\n",
       "max       1.000000    65.000000  79000.000000     6.000000           5.000000"
      ]
     },
     "execution_count": 10,
     "metadata": {},
     "output_type": "execute_result"
    }
   ],
   "source": [
    "data.describe()"
   ]
  },
  {
   "cell_type": "code",
   "execution_count": 11,
   "metadata": {},
   "outputs": [
    {
     "data": {
      "text/html": [
       "<div>\n",
       "<style scoped>\n",
       "    .dataframe tbody tr th:only-of-type {\n",
       "        vertical-align: middle;\n",
       "    }\n",
       "\n",
       "    .dataframe tbody tr th {\n",
       "        vertical-align: top;\n",
       "    }\n",
       "\n",
       "    .dataframe thead th {\n",
       "        text-align: right;\n",
       "    }\n",
       "</style>\n",
       "<table border=\"1\" class=\"dataframe\">\n",
       "  <thead>\n",
       "    <tr style=\"text-align: right;\">\n",
       "      <th></th>\n",
       "      <th>пол</th>\n",
       "      <th>возраст</th>\n",
       "      <th>зарплата</th>\n",
       "      <th>члены_семьи</th>\n",
       "      <th>страховые_выплаты</th>\n",
       "    </tr>\n",
       "  </thead>\n",
       "  <tbody>\n",
       "    <tr>\n",
       "      <th>пол</th>\n",
       "      <td>1.000000</td>\n",
       "      <td>0.001953</td>\n",
       "      <td>0.015456</td>\n",
       "      <td>-0.007315</td>\n",
       "      <td>0.011565</td>\n",
       "    </tr>\n",
       "    <tr>\n",
       "      <th>возраст</th>\n",
       "      <td>0.001953</td>\n",
       "      <td>1.000000</td>\n",
       "      <td>-0.017386</td>\n",
       "      <td>-0.009064</td>\n",
       "      <td>0.654964</td>\n",
       "    </tr>\n",
       "    <tr>\n",
       "      <th>зарплата</th>\n",
       "      <td>0.015456</td>\n",
       "      <td>-0.017386</td>\n",
       "      <td>1.000000</td>\n",
       "      <td>-0.031687</td>\n",
       "      <td>-0.013123</td>\n",
       "    </tr>\n",
       "    <tr>\n",
       "      <th>члены_семьи</th>\n",
       "      <td>-0.007315</td>\n",
       "      <td>-0.009064</td>\n",
       "      <td>-0.031687</td>\n",
       "      <td>1.000000</td>\n",
       "      <td>-0.039303</td>\n",
       "    </tr>\n",
       "    <tr>\n",
       "      <th>страховые_выплаты</th>\n",
       "      <td>0.011565</td>\n",
       "      <td>0.654964</td>\n",
       "      <td>-0.013123</td>\n",
       "      <td>-0.039303</td>\n",
       "      <td>1.000000</td>\n",
       "    </tr>\n",
       "  </tbody>\n",
       "</table>\n",
       "</div>"
      ],
      "text/plain": [
       "                        пол   возраст  зарплата  члены_семьи  \\\n",
       "пол                1.000000  0.001953  0.015456    -0.007315   \n",
       "возраст            0.001953  1.000000 -0.017386    -0.009064   \n",
       "зарплата           0.015456 -0.017386  1.000000    -0.031687   \n",
       "члены_семьи       -0.007315 -0.009064 -0.031687     1.000000   \n",
       "страховые_выплаты  0.011565  0.654964 -0.013123    -0.039303   \n",
       "\n",
       "                   страховые_выплаты  \n",
       "пол                         0.011565  \n",
       "возраст                     0.654964  \n",
       "зарплата                   -0.013123  \n",
       "члены_семьи                -0.039303  \n",
       "страховые_выплаты           1.000000  "
      ]
     },
     "execution_count": 11,
     "metadata": {},
     "output_type": "execute_result"
    }
   ],
   "source": [
    "data.corr()# корреляция между столбцами"
   ]
  },
  {
   "cell_type": "markdown",
   "metadata": {},
   "source": [
    "Поменяли названия колонок, чтобы они соответствовали стилю snake_case. В данных отсутствуют пропуски. Удалили дубликаты."
   ]
  },
  {
   "cell_type": "markdown",
   "metadata": {},
   "source": [
    "## Умножение матриц"
   ]
  },
  {
   "cell_type": "markdown",
   "metadata": {},
   "source": [
    "В этом задании вы можете записывать формулы в *Jupyter Notebook.*\n",
    "\n",
    "Чтобы записать формулу внутри текста, окружите её символами доллара \\\\$; если снаружи —  двойными символами \\\\$\\\\$. Эти формулы записываются на языке вёрстки *LaTeX.* \n",
    "\n",
    "Для примера мы записали формулы линейной регрессии. Можете их скопировать и отредактировать, чтобы решить задачу.\n",
    "\n",
    "Работать в *LaTeX* необязательно."
   ]
  },
  {
   "cell_type": "markdown",
   "metadata": {},
   "source": [
    "Обозначения:\n",
    "\n",
    "- $X$ — матрица признаков (нулевой столбец состоит из единиц)\n",
    "\n",
    "- $y$ — вектор целевого признака\n",
    "\n",
    "- $P$ — матрица, на которую умножаются признаки\n",
    "\n",
    "- $w$ — вектор весов линейной регрессии (нулевой элемент равен сдвигу)"
   ]
  },
  {
   "cell_type": "markdown",
   "metadata": {},
   "source": [
    "Предсказания:\n",
    "\n",
    "\n",
    "$$\n",
    "a = Xw\n",
    "$$\n",
    "\n",
    "Задача обучения:\n",
    "\n",
    "$$\n",
    "w = \\arg\\min_w MSE(Xw, y)\n",
    "$$\n",
    "\n",
    "Формула обучения:\n",
    "\n",
    "$$\n",
    "w = (X^T X)^{-1} X^T y\n",
    "$$"
   ]
  },
  {
   "cell_type": "markdown",
   "metadata": {},
   "source": [
    "**Ответ:** $w =P^{-1} (X^T X)^{-1} X^T y$\n",
    "\n",
    "\n",
    "**Обоснование:** Пусть $P$ квадратная обратимая матрица. Подставим вместо $X$, $XP$ в $w = (X^T X)^{-1} X^T y$, тогда: $w = ((XP)^T XP)^{-1} (XP)^T y  = (P^T (X^T X) P)^{-1} (XP)^T y = P^{-1} (X^T X)^{-1} (P^T)^{-1} P^T X^T y = P^{-1} (X^T X)^{-1} X^T y$.\n",
    "\n",
    "\n",
    "Подставим $w =P^{-1} (X^T X)^{-1} X^T y$ в $a = XP w$, тогда: $ a = X (X^T X)^{-1} X^T y$.\n",
    "\n",
    "Подставим $w = (X^T X)^{-1} X^T y $ в $a = Xw$, тогда: $a = X (X^T X)^{-1} X^T y$.\n",
    "\n",
    "Получаем одинаковые предсказания с преобразованием данных и без него."
   ]
  },
  {
   "cell_type": "markdown",
   "metadata": {},
   "source": [
    "## Алгоритм преобразования"
   ]
  },
  {
   "cell_type": "markdown",
   "metadata": {},
   "source": [
    "**Алгоритм**\n",
    "1. Закодируем матрицу признаков с помощью квадратной обратимой матрицы $P$: $\\hat X = XP$, тогда $a = \\hat X \\omega$.\n",
    "2. Добавляем в $\\hat X$ столбец из единиц. \n",
    "3. Пользуясь формулой $w = (X^T X)^{-1} X^T y$ для обучающих данных, находим вектор весов $\\omega$.\n",
    "4. Для валидационных данных получим предсказания, пользуясь формулой $a = Xw$.\n",
    "5. Сравниваем значения метрики R2 на валидационных данных для кодированных и некодированных значений."
   ]
  },
  {
   "cell_type": "markdown",
   "metadata": {},
   "source": [
    "## Проверка алгоритма"
   ]
  },
  {
   "cell_type": "code",
   "execution_count": 12,
   "metadata": {},
   "outputs": [],
   "source": [
    "target = data['страховые_выплаты']\n",
    "features = data.drop('страховые_выплаты',axis=1) # признаки без целевого\n"
   ]
  },
  {
   "cell_type": "code",
   "execution_count": 13,
   "metadata": {},
   "outputs": [],
   "source": [
    "np.random.seed(12345)\n",
    "P = np.random.random((features.shape[1], features.shape[1])) # случайная квадратная матрица P"
   ]
  },
  {
   "cell_type": "code",
   "execution_count": 14,
   "metadata": {},
   "outputs": [
    {
     "data": {
      "text/plain": [
       "-0.05543310984078479"
      ]
     },
     "execution_count": 14,
     "metadata": {},
     "output_type": "execute_result"
    }
   ],
   "source": [
    "np.linalg.det(P) # определитель"
   ]
  },
  {
   "cell_type": "markdown",
   "metadata": {},
   "source": [
    "Определитель матрицы P не равен 0, поэтому она обратима."
   ]
  },
  {
   "cell_type": "code",
   "execution_count": 15,
   "metadata": {},
   "outputs": [],
   "source": [
    "features_cod = features @ P # кодируем признаки"
   ]
  },
  {
   "cell_type": "code",
   "execution_count": 16,
   "metadata": {},
   "outputs": [
    {
     "data": {
      "text/plain": [
       "(4847, 4)"
      ]
     },
     "execution_count": 16,
     "metadata": {},
     "output_type": "execute_result"
    }
   ],
   "source": [
    "features_cod.shape"
   ]
  },
  {
   "cell_type": "code",
   "execution_count": 17,
   "metadata": {},
   "outputs": [],
   "source": [
    "class LinearRegression:\n",
    "    def fit(self, train_features, train_target): # обучаем модель\n",
    "        X = np.concatenate((np.ones((train_features.shape[0], 1)), train_features), axis=1)\n",
    "        y = train_target\n",
    "        w = np.linalg.inv(X.T @ X) @ X.T @ y\n",
    "        self.w = w\n",
    "\n",
    "        \n",
    "    def predict(self, test_features): # предсказание значений\n",
    "        return np.concatenate((np.ones((test_features.shape[0], 1)), test_features), axis=1).dot(self.w) \n",
    "    \n",
    "\n",
    "        "
   ]
  },
  {
   "cell_type": "code",
   "execution_count": 18,
   "metadata": {},
   "outputs": [],
   "source": [
    "features_train, features_valid, target_train, target_valid = train_test_split(\n",
    "    features, target, test_size=0.25, random_state=12345)# отделяем 25% данных для обучающей и валидацианной выборки"
   ]
  },
  {
   "cell_type": "code",
   "execution_count": 19,
   "metadata": {},
   "outputs": [],
   "source": [
    "features_train_cod, features_valid_cod, target_train, target_valid = train_test_split(\n",
    "    features_cod, target, test_size=0.25, random_state=12345)# отделяем 5% кодированных данных для обучающей и валидацианной выборки"
   ]
  },
  {
   "cell_type": "code",
   "execution_count": 20,
   "metadata": {},
   "outputs": [
    {
     "name": "stdout",
     "output_type": "stream",
     "text": [
      "Величина R2 для для валидационной выборки линейной регрессии без кодирования данных 0.4230772749214827\n"
     ]
    }
   ],
   "source": [
    "model = LinearRegression()\n",
    "model.fit(features_train, target_train)\n",
    "predictions = model.predict(features_valid)\n",
    "r2_usuall = r2_score(target_valid, predictions)\n",
    "print('Величина R2 для для валидационной выборки линейной регрессии без кодирования данных',r2_usuall)"
   ]
  },
  {
   "cell_type": "code",
   "execution_count": 21,
   "metadata": {},
   "outputs": [
    {
     "name": "stdout",
     "output_type": "stream",
     "text": [
      "Величина R2 для валидационной выборки линейной регрессии с кодированием данных 0.4230772729876545\n"
     ]
    }
   ],
   "source": [
    "model.fit(features_train_cod, target_train)\n",
    "predictions = model.predict(features_valid_cod)\n",
    "r2_cod = r2_score(target_valid, predictions)\n",
    "print('Величина R2 для валидационной выборки линейной регрессии с кодированием данных',r2_cod)"
   ]
  },
  {
   "cell_type": "code",
   "execution_count": 22,
   "metadata": {},
   "outputs": [
    {
     "name": "stdout",
     "output_type": "stream",
     "text": [
      "Разница величин метрик R2 1.9338282086778236e-09\n"
     ]
    }
   ],
   "source": [
    "print(\"Разница величин метрик R2\",  r2_usuall - r2_cod)"
   ]
  },
  {
   "cell_type": "markdown",
   "metadata": {},
   "source": [
    "Судя по значению для метрики R2, модель обучилась на кодированных данных примерно так же как на некодированных. "
   ]
  },
  {
   "cell_type": "markdown",
   "metadata": {},
   "source": [
    "## Выводы"
   ]
  },
  {
   "cell_type": "markdown",
   "metadata": {},
   "source": [
    "1. Был предложен и обоснован алгоритм кодирования данных.\n",
    "2. Найдены значения метрики R2 для линейной регрессии, работающей с кодированными и некодированными данными. Значения метрик немного различаются, что видимо связано с малой вычислительной ошибкой при поиске предсказаний на кодированных и некодированных данных."
   ]
  }
 ],
 "metadata": {
  "ExecuteTimeLog": [
   {
    "duration": 1265,
    "start_time": "2022-12-10T13:58:52.023Z"
   },
   {
    "duration": 105,
    "start_time": "2022-12-10T14:00:15.410Z"
   },
   {
    "duration": 13,
    "start_time": "2022-12-10T14:00:28.232Z"
   },
   {
    "duration": 8,
    "start_time": "2022-12-10T14:00:37.297Z"
   },
   {
    "duration": 11,
    "start_time": "2022-12-10T14:00:48.718Z"
   },
   {
    "duration": 3,
    "start_time": "2022-12-10T14:03:06.578Z"
   },
   {
    "duration": 6,
    "start_time": "2022-12-10T14:03:13.897Z"
   },
   {
    "duration": 5,
    "start_time": "2022-12-10T14:05:00.681Z"
   },
   {
    "duration": 13,
    "start_time": "2022-12-10T14:05:33.298Z"
   },
   {
    "duration": 4,
    "start_time": "2022-12-10T14:05:39.267Z"
   },
   {
    "duration": 15,
    "start_time": "2022-12-10T14:05:44.701Z"
   },
   {
    "duration": 109,
    "start_time": "2022-12-10T14:07:34.473Z"
   },
   {
    "duration": 6,
    "start_time": "2022-12-10T14:07:37.995Z"
   },
   {
    "duration": 6,
    "start_time": "2022-12-10T14:07:43.115Z"
   },
   {
    "duration": 6,
    "start_time": "2022-12-10T14:07:49.282Z"
   },
   {
    "duration": 12,
    "start_time": "2022-12-10T14:08:51.772Z"
   },
   {
    "duration": 9,
    "start_time": "2022-12-10T14:08:56.522Z"
   },
   {
    "duration": 11,
    "start_time": "2022-12-10T14:09:00.634Z"
   },
   {
    "duration": 9,
    "start_time": "2022-12-10T14:10:04.648Z"
   },
   {
    "duration": 6,
    "start_time": "2022-12-10T14:10:09.189Z"
   },
   {
    "duration": 18,
    "start_time": "2022-12-10T14:10:34.000Z"
   },
   {
    "duration": 20,
    "start_time": "2022-12-10T14:10:51.368Z"
   },
   {
    "duration": 9,
    "start_time": "2022-12-10T14:11:08.479Z"
   },
   {
    "duration": 7,
    "start_time": "2022-12-10T14:11:15.001Z"
   },
   {
    "duration": 16,
    "start_time": "2022-12-10T14:11:38.637Z"
   },
   {
    "duration": 6,
    "start_time": "2022-12-10T14:16:44.268Z"
   },
   {
    "duration": 6,
    "start_time": "2022-12-10T14:16:52.305Z"
   },
   {
    "duration": 11,
    "start_time": "2022-12-10T14:16:57.793Z"
   },
   {
    "duration": 10,
    "start_time": "2022-12-10T14:17:01.347Z"
   },
   {
    "duration": 7,
    "start_time": "2022-12-10T14:17:03.559Z"
   },
   {
    "duration": 7,
    "start_time": "2022-12-10T14:17:13.204Z"
   },
   {
    "duration": 15,
    "start_time": "2022-12-10T14:17:22.126Z"
   },
   {
    "duration": 16,
    "start_time": "2022-12-10T14:18:21.350Z"
   },
   {
    "duration": 14,
    "start_time": "2022-12-10T14:18:56.242Z"
   },
   {
    "duration": 13,
    "start_time": "2022-12-10T14:21:20.255Z"
   },
   {
    "duration": 85,
    "start_time": "2022-12-10T14:22:10.709Z"
   },
   {
    "duration": 1119,
    "start_time": "2022-12-10T14:22:16.623Z"
   },
   {
    "duration": 9,
    "start_time": "2022-12-10T14:23:46.392Z"
   },
   {
    "duration": 7,
    "start_time": "2022-12-10T14:23:52.951Z"
   },
   {
    "duration": 19,
    "start_time": "2022-12-10T14:24:04.117Z"
   },
   {
    "duration": 8,
    "start_time": "2022-12-10T14:24:52.247Z"
   },
   {
    "duration": 13,
    "start_time": "2022-12-10T14:25:09.371Z"
   },
   {
    "duration": 15,
    "start_time": "2022-12-10T14:25:24.598Z"
   },
   {
    "duration": 11,
    "start_time": "2022-12-10T14:25:29.948Z"
   },
   {
    "duration": 11,
    "start_time": "2022-12-10T14:25:33.704Z"
   },
   {
    "duration": 10,
    "start_time": "2022-12-10T14:25:40.058Z"
   },
   {
    "duration": 17,
    "start_time": "2022-12-10T14:25:50.992Z"
   },
   {
    "duration": 13,
    "start_time": "2022-12-10T14:26:28.086Z"
   },
   {
    "duration": 20,
    "start_time": "2022-12-10T14:26:58.162Z"
   },
   {
    "duration": 16,
    "start_time": "2022-12-10T14:27:33.718Z"
   },
   {
    "duration": 15,
    "start_time": "2022-12-10T14:28:04.552Z"
   },
   {
    "duration": 16,
    "start_time": "2022-12-10T14:28:09.447Z"
   },
   {
    "duration": 17,
    "start_time": "2022-12-10T14:28:38.865Z"
   },
   {
    "duration": 9,
    "start_time": "2022-12-10T14:29:10.487Z"
   },
   {
    "duration": 14,
    "start_time": "2022-12-10T14:29:16.150Z"
   },
   {
    "duration": 11,
    "start_time": "2022-12-10T14:29:36.821Z"
   },
   {
    "duration": 11,
    "start_time": "2022-12-10T14:29:43.449Z"
   },
   {
    "duration": 15,
    "start_time": "2022-12-10T14:29:55.721Z"
   },
   {
    "duration": 5,
    "start_time": "2022-12-10T14:30:33.155Z"
   },
   {
    "duration": 74,
    "start_time": "2022-12-10T14:30:53.863Z"
   },
   {
    "duration": 11,
    "start_time": "2022-12-10T14:30:58.759Z"
   },
   {
    "duration": 14,
    "start_time": "2022-12-10T14:34:28.778Z"
   },
   {
    "duration": 5,
    "start_time": "2022-12-10T14:34:36.755Z"
   },
   {
    "duration": 9,
    "start_time": "2022-12-10T14:34:44.454Z"
   },
   {
    "duration": 4,
    "start_time": "2022-12-10T14:34:47.270Z"
   },
   {
    "duration": 7,
    "start_time": "2022-12-10T14:35:39.305Z"
   },
   {
    "duration": 7,
    "start_time": "2022-12-10T14:35:45.182Z"
   },
   {
    "duration": 5,
    "start_time": "2022-12-10T14:36:01.967Z"
   },
   {
    "duration": 6,
    "start_time": "2022-12-10T14:36:08.066Z"
   },
   {
    "duration": 2,
    "start_time": "2022-12-10T14:36:41.519Z"
   },
   {
    "duration": 33,
    "start_time": "2022-12-10T14:36:41.524Z"
   },
   {
    "duration": 10,
    "start_time": "2022-12-10T14:36:41.559Z"
   },
   {
    "duration": 36,
    "start_time": "2022-12-10T14:36:41.572Z"
   },
   {
    "duration": 8,
    "start_time": "2022-12-10T14:36:41.610Z"
   },
   {
    "duration": 8,
    "start_time": "2022-12-10T14:36:41.620Z"
   },
   {
    "duration": 11,
    "start_time": "2022-12-10T14:36:41.630Z"
   },
   {
    "duration": 9,
    "start_time": "2022-12-10T14:36:41.643Z"
   },
   {
    "duration": 7,
    "start_time": "2022-12-10T14:36:41.653Z"
   },
   {
    "duration": 6,
    "start_time": "2022-12-10T14:36:41.663Z"
   },
   {
    "duration": 7,
    "start_time": "2022-12-10T14:37:02.599Z"
   },
   {
    "duration": 7,
    "start_time": "2022-12-10T14:37:10.796Z"
   },
   {
    "duration": 8,
    "start_time": "2022-12-10T14:37:22.222Z"
   },
   {
    "duration": 3,
    "start_time": "2022-12-10T14:37:28.093Z"
   },
   {
    "duration": 51,
    "start_time": "2022-12-10T14:37:28.098Z"
   },
   {
    "duration": 10,
    "start_time": "2022-12-10T14:37:28.151Z"
   },
   {
    "duration": 59,
    "start_time": "2022-12-10T14:37:28.163Z"
   },
   {
    "duration": 33,
    "start_time": "2022-12-10T14:37:28.224Z"
   },
   {
    "duration": 35,
    "start_time": "2022-12-10T14:37:28.259Z"
   },
   {
    "duration": 40,
    "start_time": "2022-12-10T14:37:28.296Z"
   },
   {
    "duration": 50,
    "start_time": "2022-12-10T14:37:28.338Z"
   },
   {
    "duration": 13,
    "start_time": "2022-12-10T14:37:31.009Z"
   },
   {
    "duration": 1172,
    "start_time": "2022-12-10T14:37:56.552Z"
   },
   {
    "duration": 11,
    "start_time": "2022-12-10T14:38:22.202Z"
   },
   {
    "duration": 62,
    "start_time": "2022-12-11T13:34:47.734Z"
   },
   {
    "duration": 1302,
    "start_time": "2022-12-11T13:34:57.617Z"
   },
   {
    "duration": 147,
    "start_time": "2022-12-11T13:34:58.921Z"
   },
   {
    "duration": 13,
    "start_time": "2022-12-11T13:34:59.069Z"
   },
   {
    "duration": 19,
    "start_time": "2022-12-11T13:34:59.084Z"
   },
   {
    "duration": 4,
    "start_time": "2022-12-11T13:34:59.105Z"
   },
   {
    "duration": 6,
    "start_time": "2022-12-11T13:34:59.110Z"
   },
   {
    "duration": 8,
    "start_time": "2022-12-11T13:34:59.118Z"
   },
   {
    "duration": 8,
    "start_time": "2022-12-11T13:34:59.128Z"
   },
   {
    "duration": 6,
    "start_time": "2022-12-11T13:34:59.137Z"
   },
   {
    "duration": 5,
    "start_time": "2022-12-11T13:35:00.146Z"
   },
   {
    "duration": 12,
    "start_time": "2022-12-11T13:35:08.771Z"
   },
   {
    "duration": 5,
    "start_time": "2022-12-11T13:35:19.802Z"
   },
   {
    "duration": 6,
    "start_time": "2022-12-11T14:30:29.668Z"
   },
   {
    "duration": 249,
    "start_time": "2022-12-11T14:31:33.973Z"
   },
   {
    "duration": 6,
    "start_time": "2022-12-11T14:35:19.241Z"
   },
   {
    "duration": 5,
    "start_time": "2022-12-11T14:35:26.035Z"
   },
   {
    "duration": 4,
    "start_time": "2022-12-11T14:35:29.739Z"
   },
   {
    "duration": 8,
    "start_time": "2022-12-11T14:35:31.519Z"
   },
   {
    "duration": 5,
    "start_time": "2022-12-11T14:35:47.372Z"
   },
   {
    "duration": 117,
    "start_time": "2022-12-11T14:42:50.116Z"
   },
   {
    "duration": 13,
    "start_time": "2022-12-11T14:42:58.934Z"
   },
   {
    "duration": 4,
    "start_time": "2022-12-11T14:43:11.808Z"
   },
   {
    "duration": 13,
    "start_time": "2022-12-11T14:43:20.241Z"
   },
   {
    "duration": 5,
    "start_time": "2022-12-11T14:44:49.044Z"
   },
   {
    "duration": 264,
    "start_time": "2022-12-11T14:47:34.593Z"
   },
   {
    "duration": 16633,
    "start_time": "2022-12-11T14:47:35.585Z"
   },
   {
    "duration": 315,
    "start_time": "2022-12-11T14:47:53.507Z"
   },
   {
    "duration": 107,
    "start_time": "2022-12-11T14:48:04.430Z"
   },
   {
    "duration": 80,
    "start_time": "2022-12-11T14:49:20.137Z"
   },
   {
    "duration": 74,
    "start_time": "2022-12-11T14:50:17.747Z"
   },
   {
    "duration": 47,
    "start_time": "2022-12-11T14:50:31.969Z"
   },
   {
    "duration": 103,
    "start_time": "2022-12-11T14:51:40.212Z"
   },
   {
    "duration": 16,
    "start_time": "2022-12-11T14:51:45.259Z"
   },
   {
    "duration": 27,
    "start_time": "2022-12-11T14:51:48.394Z"
   },
   {
    "duration": 55,
    "start_time": "2022-12-11T14:52:15.065Z"
   },
   {
    "duration": 91,
    "start_time": "2022-12-11T14:52:38.726Z"
   },
   {
    "duration": 19601,
    "start_time": "2022-12-11T14:52:51.414Z"
   },
   {
    "duration": 16,
    "start_time": "2022-12-11T14:55:18.473Z"
   },
   {
    "duration": 25,
    "start_time": "2022-12-11T14:55:22.742Z"
   },
   {
    "duration": 130,
    "start_time": "2022-12-11T14:55:36.313Z"
   },
   {
    "duration": 12,
    "start_time": "2022-12-11T14:55:39.061Z"
   },
   {
    "duration": 18,
    "start_time": "2022-12-11T14:55:43.430Z"
   },
   {
    "duration": 22,
    "start_time": "2022-12-11T14:55:49.156Z"
   },
   {
    "duration": 5,
    "start_time": "2022-12-11T14:56:09.906Z"
   },
   {
    "duration": 25,
    "start_time": "2022-12-11T14:56:40.358Z"
   },
   {
    "duration": 7,
    "start_time": "2022-12-11T14:56:54.131Z"
   },
   {
    "duration": 18,
    "start_time": "2022-12-11T14:57:22.794Z"
   },
   {
    "duration": 5,
    "start_time": "2022-12-11T15:05:08.845Z"
   },
   {
    "duration": 9,
    "start_time": "2022-12-11T15:05:09.093Z"
   },
   {
    "duration": 8,
    "start_time": "2022-12-11T15:05:44.827Z"
   },
   {
    "duration": 12,
    "start_time": "2022-12-11T15:05:50.422Z"
   },
   {
    "duration": 6,
    "start_time": "2022-12-11T15:06:05.597Z"
   },
   {
    "duration": 5,
    "start_time": "2022-12-11T15:06:06.325Z"
   },
   {
    "duration": 6,
    "start_time": "2022-12-11T15:08:41.022Z"
   },
   {
    "duration": 6,
    "start_time": "2022-12-11T15:10:18.932Z"
   },
   {
    "duration": 29833,
    "start_time": "2022-12-11T15:14:05.181Z"
   },
   {
    "duration": 27665,
    "start_time": "2022-12-11T15:15:13.674Z"
   },
   {
    "duration": 13,
    "start_time": "2022-12-11T15:15:45.336Z"
   },
   {
    "duration": 15,
    "start_time": "2022-12-11T15:16:56.101Z"
   },
   {
    "duration": 4,
    "start_time": "2022-12-11T15:17:41.890Z"
   },
   {
    "duration": 6,
    "start_time": "2022-12-11T15:17:42.636Z"
   },
   {
    "duration": 6,
    "start_time": "2022-12-11T15:17:43.616Z"
   },
   {
    "duration": 6,
    "start_time": "2022-12-11T15:17:44.808Z"
   },
   {
    "duration": 5,
    "start_time": "2022-12-11T15:18:39.752Z"
   },
   {
    "duration": 6,
    "start_time": "2022-12-11T15:18:40.568Z"
   },
   {
    "duration": 6,
    "start_time": "2022-12-11T15:18:41.064Z"
   },
   {
    "duration": 17,
    "start_time": "2022-12-11T15:18:41.537Z"
   },
   {
    "duration": 5,
    "start_time": "2022-12-11T15:19:02.249Z"
   },
   {
    "duration": 6,
    "start_time": "2022-12-11T15:19:02.665Z"
   },
   {
    "duration": 5,
    "start_time": "2022-12-11T15:19:03.168Z"
   },
   {
    "duration": 7,
    "start_time": "2022-12-11T15:19:03.800Z"
   },
   {
    "duration": 11,
    "start_time": "2022-12-11T15:19:08.842Z"
   },
   {
    "duration": 4,
    "start_time": "2022-12-11T15:19:37.353Z"
   },
   {
    "duration": 5,
    "start_time": "2022-12-11T15:19:37.848Z"
   },
   {
    "duration": 5,
    "start_time": "2022-12-11T15:19:38.289Z"
   },
   {
    "duration": 6,
    "start_time": "2022-12-11T15:19:38.721Z"
   },
   {
    "duration": 8,
    "start_time": "2022-12-11T15:19:40.410Z"
   },
   {
    "duration": 10,
    "start_time": "2022-12-11T15:23:35.602Z"
   },
   {
    "duration": 6,
    "start_time": "2022-12-11T15:23:38.633Z"
   },
   {
    "duration": 9,
    "start_time": "2022-12-11T15:23:39.137Z"
   },
   {
    "duration": 4,
    "start_time": "2022-12-11T15:23:43.178Z"
   },
   {
    "duration": 5,
    "start_time": "2022-12-11T15:25:25.238Z"
   },
   {
    "duration": 5,
    "start_time": "2022-12-11T15:25:25.730Z"
   },
   {
    "duration": 5,
    "start_time": "2022-12-11T15:25:26.418Z"
   },
   {
    "duration": 5,
    "start_time": "2022-12-11T15:25:27.082Z"
   },
   {
    "duration": 9,
    "start_time": "2022-12-11T15:36:24.549Z"
   },
   {
    "duration": 9,
    "start_time": "2022-12-11T15:37:11.041Z"
   },
   {
    "duration": 14117,
    "start_time": "2022-12-11T15:37:18.198Z"
   },
   {
    "duration": 10,
    "start_time": "2022-12-11T15:38:21.701Z"
   },
   {
    "duration": 3,
    "start_time": "2022-12-11T15:38:34.149Z"
   },
   {
    "duration": 22,
    "start_time": "2022-12-11T15:38:42.604Z"
   },
   {
    "duration": 4,
    "start_time": "2022-12-11T15:38:51.330Z"
   },
   {
    "duration": 4,
    "start_time": "2022-12-11T15:39:01.565Z"
   },
   {
    "duration": 3,
    "start_time": "2022-12-11T15:39:24.026Z"
   },
   {
    "duration": 4,
    "start_time": "2022-12-11T15:39:27.829Z"
   },
   {
    "duration": 4,
    "start_time": "2022-12-11T15:39:29.550Z"
   },
   {
    "duration": 213,
    "start_time": "2022-12-11T15:40:05.252Z"
   },
   {
    "duration": 178,
    "start_time": "2022-12-11T15:40:08.049Z"
   },
   {
    "duration": 3,
    "start_time": "2022-12-11T15:40:11.961Z"
   },
   {
    "duration": 4,
    "start_time": "2022-12-11T15:40:13.747Z"
   },
   {
    "duration": 87,
    "start_time": "2022-12-11T15:44:37.950Z"
   },
   {
    "duration": 5,
    "start_time": "2022-12-11T15:44:44.197Z"
   },
   {
    "duration": 10,
    "start_time": "2022-12-11T15:44:54.555Z"
   },
   {
    "duration": 97,
    "start_time": "2022-12-11T15:44:57.872Z"
   },
   {
    "duration": 5,
    "start_time": "2022-12-11T15:44:59.789Z"
   },
   {
    "duration": 5,
    "start_time": "2022-12-11T15:53:40.270Z"
   },
   {
    "duration": 4,
    "start_time": "2022-12-11T15:56:53.562Z"
   },
   {
    "duration": 4,
    "start_time": "2022-12-11T15:56:54.660Z"
   },
   {
    "duration": 4,
    "start_time": "2022-12-11T15:56:55.807Z"
   },
   {
    "duration": 12,
    "start_time": "2022-12-11T15:57:12.762Z"
   },
   {
    "duration": 5,
    "start_time": "2022-12-11T15:57:25.436Z"
   },
   {
    "duration": 3,
    "start_time": "2022-12-11T15:57:25.928Z"
   },
   {
    "duration": 4,
    "start_time": "2022-12-11T15:57:35.792Z"
   },
   {
    "duration": 4,
    "start_time": "2022-12-11T15:57:36.192Z"
   },
   {
    "duration": 5,
    "start_time": "2022-12-11T15:57:41.570Z"
   },
   {
    "duration": 6,
    "start_time": "2022-12-11T15:57:43.872Z"
   },
   {
    "duration": 5,
    "start_time": "2022-12-11T15:57:44.276Z"
   },
   {
    "duration": 3,
    "start_time": "2022-12-11T15:58:48.418Z"
   },
   {
    "duration": 4,
    "start_time": "2022-12-11T15:58:50.492Z"
   },
   {
    "duration": 4,
    "start_time": "2022-12-11T15:58:50.894Z"
   },
   {
    "duration": 4,
    "start_time": "2022-12-11T16:01:43.440Z"
   },
   {
    "duration": 5,
    "start_time": "2022-12-11T16:01:54.607Z"
   },
   {
    "duration": 3,
    "start_time": "2022-12-11T16:02:01.200Z"
   },
   {
    "duration": 5,
    "start_time": "2022-12-11T16:04:15.459Z"
   },
   {
    "duration": 3,
    "start_time": "2022-12-11T16:05:14.286Z"
   },
   {
    "duration": 4,
    "start_time": "2022-12-11T16:05:25.793Z"
   },
   {
    "duration": 14,
    "start_time": "2022-12-11T16:06:42.361Z"
   },
   {
    "duration": 4,
    "start_time": "2022-12-11T16:06:52.653Z"
   },
   {
    "duration": 6,
    "start_time": "2022-12-11T16:06:53.385Z"
   },
   {
    "duration": 4,
    "start_time": "2022-12-11T16:06:55.252Z"
   },
   {
    "duration": 9,
    "start_time": "2022-12-11T16:06:56.951Z"
   },
   {
    "duration": 4,
    "start_time": "2022-12-11T16:06:57.802Z"
   },
   {
    "duration": 6,
    "start_time": "2022-12-11T16:06:58.978Z"
   },
   {
    "duration": 6,
    "start_time": "2022-12-11T16:09:08.870Z"
   },
   {
    "duration": 6,
    "start_time": "2022-12-11T16:09:13.967Z"
   },
   {
    "duration": 6,
    "start_time": "2022-12-11T16:09:38.913Z"
   },
   {
    "duration": 6,
    "start_time": "2022-12-11T16:10:45.965Z"
   },
   {
    "duration": 7,
    "start_time": "2022-12-11T16:10:48.102Z"
   },
   {
    "duration": 6,
    "start_time": "2022-12-11T16:20:38.318Z"
   },
   {
    "duration": 6,
    "start_time": "2022-12-11T16:20:38.837Z"
   },
   {
    "duration": 3,
    "start_time": "2022-12-11T16:21:54.561Z"
   },
   {
    "duration": 5,
    "start_time": "2022-12-11T16:32:54.370Z"
   },
   {
    "duration": 4,
    "start_time": "2022-12-11T16:33:23.881Z"
   },
   {
    "duration": 10,
    "start_time": "2022-12-11T16:33:24.666Z"
   },
   {
    "duration": 5,
    "start_time": "2022-12-11T16:33:25.122Z"
   },
   {
    "duration": 4,
    "start_time": "2022-12-11T16:33:25.680Z"
   },
   {
    "duration": 8,
    "start_time": "2022-12-11T16:33:26.177Z"
   },
   {
    "duration": 10,
    "start_time": "2022-12-11T16:33:26.784Z"
   },
   {
    "duration": 4,
    "start_time": "2022-12-11T16:49:09.141Z"
   },
   {
    "duration": 1483,
    "start_time": "2022-12-11T17:28:57.119Z"
   },
   {
    "duration": 70,
    "start_time": "2022-12-11T17:28:58.604Z"
   },
   {
    "duration": 13,
    "start_time": "2022-12-11T17:28:58.676Z"
   },
   {
    "duration": 48,
    "start_time": "2022-12-11T17:28:58.691Z"
   },
   {
    "duration": 34,
    "start_time": "2022-12-11T17:28:58.741Z"
   },
   {
    "duration": 16,
    "start_time": "2022-12-11T17:28:58.778Z"
   },
   {
    "duration": 31,
    "start_time": "2022-12-11T17:28:58.796Z"
   },
   {
    "duration": 24,
    "start_time": "2022-12-11T17:28:58.828Z"
   },
   {
    "duration": 22,
    "start_time": "2022-12-11T17:28:58.853Z"
   },
   {
    "duration": 14,
    "start_time": "2022-12-11T17:28:58.877Z"
   },
   {
    "duration": 23,
    "start_time": "2022-12-11T17:28:58.893Z"
   },
   {
    "duration": 29,
    "start_time": "2022-12-11T17:28:58.917Z"
   },
   {
    "duration": 23,
    "start_time": "2022-12-11T17:28:58.947Z"
   },
   {
    "duration": 26,
    "start_time": "2022-12-11T17:28:58.973Z"
   },
   {
    "duration": 13,
    "start_time": "2022-12-11T17:28:59.001Z"
   },
   {
    "duration": 40,
    "start_time": "2022-12-11T17:28:59.016Z"
   },
   {
    "duration": 9,
    "start_time": "2022-12-11T17:28:59.057Z"
   },
   {
    "duration": 17,
    "start_time": "2022-12-11T17:28:59.067Z"
   },
   {
    "duration": 54,
    "start_time": "2022-12-11T17:28:59.086Z"
   },
   {
    "duration": 95,
    "start_time": "2022-12-11T17:28:59.142Z"
   },
   {
    "duration": 7,
    "start_time": "2022-12-11T17:31:36.314Z"
   },
   {
    "duration": 6,
    "start_time": "2022-12-11T17:31:48.323Z"
   },
   {
    "duration": 5,
    "start_time": "2022-12-11T17:44:42.434Z"
   },
   {
    "duration": 4,
    "start_time": "2022-12-11T17:46:33.434Z"
   },
   {
    "duration": 1467,
    "start_time": "2022-12-11T17:46:41.913Z"
   },
   {
    "duration": 29,
    "start_time": "2022-12-11T17:46:43.382Z"
   },
   {
    "duration": 12,
    "start_time": "2022-12-11T17:46:43.413Z"
   },
   {
    "duration": 29,
    "start_time": "2022-12-11T17:46:43.427Z"
   },
   {
    "duration": 9,
    "start_time": "2022-12-11T17:46:43.459Z"
   },
   {
    "duration": 29,
    "start_time": "2022-12-11T17:46:43.469Z"
   },
   {
    "duration": 19,
    "start_time": "2022-12-11T17:46:43.500Z"
   },
   {
    "duration": 24,
    "start_time": "2022-12-11T17:46:43.521Z"
   },
   {
    "duration": 17,
    "start_time": "2022-12-11T17:46:43.547Z"
   },
   {
    "duration": 19,
    "start_time": "2022-12-11T17:46:43.566Z"
   },
   {
    "duration": 16,
    "start_time": "2022-12-11T17:46:43.587Z"
   },
   {
    "duration": 13,
    "start_time": "2022-12-11T17:46:43.605Z"
   },
   {
    "duration": 19,
    "start_time": "2022-12-11T17:46:43.620Z"
   },
   {
    "duration": 28,
    "start_time": "2022-12-11T17:46:43.642Z"
   },
   {
    "duration": 12,
    "start_time": "2022-12-11T17:46:43.672Z"
   },
   {
    "duration": 9,
    "start_time": "2022-12-11T17:46:43.686Z"
   },
   {
    "duration": 14,
    "start_time": "2022-12-11T17:46:43.697Z"
   },
   {
    "duration": 11,
    "start_time": "2022-12-11T17:46:43.712Z"
   },
   {
    "duration": 24,
    "start_time": "2022-12-11T17:46:43.724Z"
   },
   {
    "duration": 87,
    "start_time": "2022-12-11T17:46:43.750Z"
   },
   {
    "duration": 9,
    "start_time": "2022-12-11T17:46:43.839Z"
   },
   {
    "duration": 1527,
    "start_time": "2022-12-11T17:46:51.526Z"
   },
   {
    "duration": 30,
    "start_time": "2022-12-11T17:46:53.055Z"
   },
   {
    "duration": 13,
    "start_time": "2022-12-11T17:46:53.087Z"
   },
   {
    "duration": 19,
    "start_time": "2022-12-11T17:46:53.102Z"
   },
   {
    "duration": 5,
    "start_time": "2022-12-11T17:46:53.124Z"
   },
   {
    "duration": 22,
    "start_time": "2022-12-11T17:46:53.130Z"
   },
   {
    "duration": 13,
    "start_time": "2022-12-11T17:46:53.153Z"
   },
   {
    "duration": 9,
    "start_time": "2022-12-11T17:46:53.168Z"
   },
   {
    "duration": 17,
    "start_time": "2022-12-11T17:46:53.179Z"
   },
   {
    "duration": 12,
    "start_time": "2022-12-11T17:46:53.198Z"
   },
   {
    "duration": 11,
    "start_time": "2022-12-11T17:46:53.212Z"
   },
   {
    "duration": 17,
    "start_time": "2022-12-11T17:46:53.224Z"
   },
   {
    "duration": 18,
    "start_time": "2022-12-11T17:46:53.243Z"
   },
   {
    "duration": 7,
    "start_time": "2022-12-11T17:46:53.264Z"
   },
   {
    "duration": 13,
    "start_time": "2022-12-11T17:46:53.272Z"
   },
   {
    "duration": 13,
    "start_time": "2022-12-11T17:46:53.286Z"
   },
   {
    "duration": 16,
    "start_time": "2022-12-11T17:46:53.300Z"
   },
   {
    "duration": 5,
    "start_time": "2022-12-11T17:46:53.318Z"
   },
   {
    "duration": 13,
    "start_time": "2022-12-11T17:46:53.325Z"
   },
   {
    "duration": 12,
    "start_time": "2022-12-11T17:46:53.340Z"
   },
   {
    "duration": 14,
    "start_time": "2022-12-11T17:46:53.435Z"
   },
   {
    "duration": 99,
    "start_time": "2022-12-11T17:48:18.873Z"
   },
   {
    "duration": 4,
    "start_time": "2022-12-11T17:48:33.114Z"
   },
   {
    "duration": 4,
    "start_time": "2022-12-11T17:48:51.593Z"
   },
   {
    "duration": 4,
    "start_time": "2022-12-11T17:54:33.442Z"
   },
   {
    "duration": 12,
    "start_time": "2022-12-11T18:00:52.673Z"
   },
   {
    "duration": 4,
    "start_time": "2022-12-11T18:02:13.314Z"
   },
   {
    "duration": 27,
    "start_time": "2022-12-11T19:19:36.545Z"
   },
   {
    "duration": 15,
    "start_time": "2022-12-11T19:21:19.134Z"
   },
   {
    "duration": 13,
    "start_time": "2022-12-11T19:23:10.999Z"
   },
   {
    "duration": 11,
    "start_time": "2022-12-11T19:23:59.767Z"
   },
   {
    "duration": 12,
    "start_time": "2022-12-11T19:24:05.246Z"
   },
   {
    "duration": 14,
    "start_time": "2022-12-11T19:24:13.054Z"
   },
   {
    "duration": 22,
    "start_time": "2022-12-11T19:24:22.934Z"
   },
   {
    "duration": 23,
    "start_time": "2022-12-11T19:27:12.245Z"
   },
   {
    "duration": 13,
    "start_time": "2022-12-11T19:28:27.880Z"
   },
   {
    "duration": 3,
    "start_time": "2022-12-11T19:33:05.105Z"
   },
   {
    "duration": 36,
    "start_time": "2022-12-11T19:33:05.110Z"
   },
   {
    "duration": 10,
    "start_time": "2022-12-11T19:33:05.147Z"
   },
   {
    "duration": 10,
    "start_time": "2022-12-11T19:33:05.159Z"
   },
   {
    "duration": 6,
    "start_time": "2022-12-11T19:33:05.171Z"
   },
   {
    "duration": 7,
    "start_time": "2022-12-11T19:33:05.178Z"
   },
   {
    "duration": 9,
    "start_time": "2022-12-11T19:33:05.187Z"
   },
   {
    "duration": 7,
    "start_time": "2022-12-11T19:33:05.197Z"
   },
   {
    "duration": 6,
    "start_time": "2022-12-11T19:33:05.206Z"
   },
   {
    "duration": 21,
    "start_time": "2022-12-11T19:33:05.213Z"
   },
   {
    "duration": 9,
    "start_time": "2022-12-11T19:33:05.236Z"
   },
   {
    "duration": 3,
    "start_time": "2022-12-11T19:33:05.246Z"
   },
   {
    "duration": 67,
    "start_time": "2022-12-11T19:33:05.251Z"
   },
   {
    "duration": 0,
    "start_time": "2022-12-11T19:33:05.319Z"
   },
   {
    "duration": 11,
    "start_time": "2022-12-11T19:33:08.261Z"
   },
   {
    "duration": 3,
    "start_time": "2022-12-11T19:33:25.142Z"
   },
   {
    "duration": 12,
    "start_time": "2022-12-11T19:33:37.422Z"
   },
   {
    "duration": 3,
    "start_time": "2022-12-11T19:33:50.709Z"
   },
   {
    "duration": 3,
    "start_time": "2022-12-11T19:33:53.077Z"
   },
   {
    "duration": 4,
    "start_time": "2022-12-11T19:33:53.556Z"
   },
   {
    "duration": 3,
    "start_time": "2022-12-11T19:33:55.684Z"
   },
   {
    "duration": 4,
    "start_time": "2022-12-11T19:33:57.173Z"
   },
   {
    "duration": 3,
    "start_time": "2022-12-11T19:34:03.119Z"
   },
   {
    "duration": 4,
    "start_time": "2022-12-11T19:38:34.006Z"
   },
   {
    "duration": 5,
    "start_time": "2022-12-11T19:38:34.653Z"
   },
   {
    "duration": 4,
    "start_time": "2022-12-11T19:38:35.645Z"
   },
   {
    "duration": 5,
    "start_time": "2022-12-11T19:38:36.780Z"
   },
   {
    "duration": 5,
    "start_time": "2022-12-11T19:38:39.957Z"
   },
   {
    "duration": 6,
    "start_time": "2022-12-11T19:38:51.557Z"
   },
   {
    "duration": 5,
    "start_time": "2022-12-11T19:38:53.350Z"
   },
   {
    "duration": 4,
    "start_time": "2022-12-11T19:38:59.837Z"
   },
   {
    "duration": 4,
    "start_time": "2022-12-11T19:52:30.974Z"
   },
   {
    "duration": 988,
    "start_time": "2022-12-28T10:30:53.531Z"
   },
   {
    "duration": 76,
    "start_time": "2022-12-28T10:30:54.521Z"
   },
   {
    "duration": 15,
    "start_time": "2022-12-28T10:30:54.599Z"
   },
   {
    "duration": 30,
    "start_time": "2022-12-28T10:30:54.616Z"
   },
   {
    "duration": 13,
    "start_time": "2022-12-28T10:30:54.648Z"
   },
   {
    "duration": 14,
    "start_time": "2022-12-28T10:30:54.663Z"
   },
   {
    "duration": 17,
    "start_time": "2022-12-28T10:30:54.679Z"
   },
   {
    "duration": 16,
    "start_time": "2022-12-28T10:30:54.698Z"
   },
   {
    "duration": 12,
    "start_time": "2022-12-28T10:30:54.716Z"
   },
   {
    "duration": 40,
    "start_time": "2022-12-28T10:30:54.731Z"
   },
   {
    "duration": 12,
    "start_time": "2022-12-28T10:30:54.773Z"
   },
   {
    "duration": 17,
    "start_time": "2022-12-28T10:30:54.787Z"
   },
   {
    "duration": 9,
    "start_time": "2022-12-28T10:30:54.806Z"
   },
   {
    "duration": 18,
    "start_time": "2022-12-28T10:30:54.816Z"
   },
   {
    "duration": 11,
    "start_time": "2022-12-28T10:30:54.835Z"
   },
   {
    "duration": 6,
    "start_time": "2022-12-28T10:30:54.847Z"
   },
   {
    "duration": 10,
    "start_time": "2022-12-28T10:30:54.854Z"
   },
   {
    "duration": 9,
    "start_time": "2022-12-28T10:30:54.866Z"
   },
   {
    "duration": 7,
    "start_time": "2022-12-28T10:30:54.876Z"
   },
   {
    "duration": 17,
    "start_time": "2022-12-28T10:30:54.884Z"
   },
   {
    "duration": 99,
    "start_time": "2022-12-28T10:30:54.903Z"
   },
   {
    "duration": 94,
    "start_time": "2022-12-28T10:30:55.004Z"
   },
   {
    "duration": 1594,
    "start_time": "2022-12-28T15:32:16.490Z"
   },
   {
    "duration": 85,
    "start_time": "2022-12-28T15:32:18.086Z"
   },
   {
    "duration": 14,
    "start_time": "2022-12-28T15:32:18.173Z"
   },
   {
    "duration": 21,
    "start_time": "2022-12-28T15:32:18.189Z"
   },
   {
    "duration": 33,
    "start_time": "2022-12-28T15:32:18.212Z"
   },
   {
    "duration": 13,
    "start_time": "2022-12-28T15:32:18.247Z"
   },
   {
    "duration": 10,
    "start_time": "2022-12-28T15:32:18.261Z"
   },
   {
    "duration": 12,
    "start_time": "2022-12-28T15:32:18.273Z"
   },
   {
    "duration": 7,
    "start_time": "2022-12-28T15:32:18.287Z"
   },
   {
    "duration": 27,
    "start_time": "2022-12-28T15:32:18.297Z"
   },
   {
    "duration": 12,
    "start_time": "2022-12-28T15:32:18.326Z"
   },
   {
    "duration": 3,
    "start_time": "2022-12-28T15:32:18.340Z"
   },
   {
    "duration": 5,
    "start_time": "2022-12-28T15:32:18.345Z"
   },
   {
    "duration": 7,
    "start_time": "2022-12-28T15:32:18.351Z"
   },
   {
    "duration": 29,
    "start_time": "2022-12-28T15:32:18.360Z"
   },
   {
    "duration": 7,
    "start_time": "2022-12-28T15:32:18.391Z"
   },
   {
    "duration": 12,
    "start_time": "2022-12-28T15:32:18.400Z"
   },
   {
    "duration": 20,
    "start_time": "2022-12-28T15:32:18.413Z"
   },
   {
    "duration": 10,
    "start_time": "2022-12-28T15:32:18.434Z"
   },
   {
    "duration": 7,
    "start_time": "2022-12-28T15:32:18.446Z"
   },
   {
    "duration": 85,
    "start_time": "2022-12-28T15:32:18.455Z"
   },
   {
    "duration": 98,
    "start_time": "2022-12-28T15:32:18.614Z"
   },
   {
    "duration": 12,
    "start_time": "2022-12-28T15:37:32.905Z"
   },
   {
    "duration": 1532,
    "start_time": "2022-12-28T15:48:49.833Z"
   },
   {
    "duration": 31,
    "start_time": "2022-12-28T15:48:51.367Z"
   },
   {
    "duration": 14,
    "start_time": "2022-12-28T15:48:51.399Z"
   },
   {
    "duration": 34,
    "start_time": "2022-12-28T15:48:51.415Z"
   },
   {
    "duration": 5,
    "start_time": "2022-12-28T15:48:51.450Z"
   },
   {
    "duration": 9,
    "start_time": "2022-12-28T15:48:51.456Z"
   },
   {
    "duration": 14,
    "start_time": "2022-12-28T15:48:51.466Z"
   },
   {
    "duration": 11,
    "start_time": "2022-12-28T15:48:51.482Z"
   },
   {
    "duration": 14,
    "start_time": "2022-12-28T15:48:51.495Z"
   },
   {
    "duration": 43,
    "start_time": "2022-12-28T15:48:51.511Z"
   },
   {
    "duration": 9,
    "start_time": "2022-12-28T15:48:51.556Z"
   },
   {
    "duration": 9,
    "start_time": "2022-12-28T15:48:51.567Z"
   },
   {
    "duration": 12,
    "start_time": "2022-12-28T15:48:51.578Z"
   },
   {
    "duration": 12,
    "start_time": "2022-12-28T15:48:51.592Z"
   },
   {
    "duration": 50,
    "start_time": "2022-12-28T15:48:51.605Z"
   },
   {
    "duration": 28,
    "start_time": "2022-12-28T15:48:51.657Z"
   },
   {
    "duration": 11,
    "start_time": "2022-12-28T15:48:51.687Z"
   },
   {
    "duration": 11,
    "start_time": "2022-12-28T15:48:51.699Z"
   },
   {
    "duration": 32,
    "start_time": "2022-12-28T15:48:51.712Z"
   },
   {
    "duration": 9,
    "start_time": "2022-12-28T15:48:51.746Z"
   },
   {
    "duration": 13,
    "start_time": "2022-12-28T15:48:51.757Z"
   },
   {
    "duration": 44,
    "start_time": "2022-12-28T15:48:51.772Z"
   },
   {
    "duration": 22,
    "start_time": "2022-12-28T15:48:51.817Z"
   },
   {
    "duration": 1508,
    "start_time": "2022-12-28T15:49:23.972Z"
   },
   {
    "duration": 31,
    "start_time": "2022-12-28T15:49:25.483Z"
   },
   {
    "duration": 22,
    "start_time": "2022-12-28T15:49:25.516Z"
   },
   {
    "duration": 15,
    "start_time": "2022-12-28T15:49:25.540Z"
   },
   {
    "duration": 36,
    "start_time": "2022-12-28T15:49:25.556Z"
   },
   {
    "duration": 20,
    "start_time": "2022-12-28T15:49:25.594Z"
   },
   {
    "duration": 48,
    "start_time": "2022-12-28T15:49:25.616Z"
   },
   {
    "duration": 27,
    "start_time": "2022-12-28T15:49:25.665Z"
   },
   {
    "duration": 17,
    "start_time": "2022-12-28T15:49:25.694Z"
   },
   {
    "duration": 57,
    "start_time": "2022-12-28T15:49:25.715Z"
   },
   {
    "duration": 64,
    "start_time": "2022-12-28T15:49:25.774Z"
   },
   {
    "duration": 19,
    "start_time": "2022-12-28T15:49:25.840Z"
   },
   {
    "duration": 11,
    "start_time": "2022-12-28T15:49:25.861Z"
   },
   {
    "duration": 17,
    "start_time": "2022-12-28T15:49:25.873Z"
   },
   {
    "duration": 60,
    "start_time": "2022-12-28T15:49:25.892Z"
   },
   {
    "duration": 29,
    "start_time": "2022-12-28T15:49:25.954Z"
   },
   {
    "duration": 13,
    "start_time": "2022-12-28T15:49:25.985Z"
   },
   {
    "duration": 30,
    "start_time": "2022-12-28T15:49:26.000Z"
   },
   {
    "duration": 12,
    "start_time": "2022-12-28T15:49:26.032Z"
   },
   {
    "duration": 9,
    "start_time": "2022-12-28T15:49:26.045Z"
   },
   {
    "duration": 10,
    "start_time": "2022-12-28T15:49:26.056Z"
   },
   {
    "duration": 48,
    "start_time": "2022-12-28T15:49:26.068Z"
   },
   {
    "duration": 98,
    "start_time": "2022-12-28T15:49:26.117Z"
   },
   {
    "duration": 1561,
    "start_time": "2022-12-28T16:19:42.352Z"
   },
   {
    "duration": 30,
    "start_time": "2022-12-28T16:19:43.916Z"
   },
   {
    "duration": 14,
    "start_time": "2022-12-28T16:19:43.948Z"
   },
   {
    "duration": 19,
    "start_time": "2022-12-28T16:19:43.964Z"
   },
   {
    "duration": 4,
    "start_time": "2022-12-28T16:19:43.985Z"
   },
   {
    "duration": 7,
    "start_time": "2022-12-28T16:19:43.990Z"
   },
   {
    "duration": 8,
    "start_time": "2022-12-28T16:19:43.999Z"
   },
   {
    "duration": 13,
    "start_time": "2022-12-28T16:19:44.011Z"
   },
   {
    "duration": 6,
    "start_time": "2022-12-28T16:19:44.025Z"
   },
   {
    "duration": 28,
    "start_time": "2022-12-28T16:19:44.032Z"
   },
   {
    "duration": 11,
    "start_time": "2022-12-28T16:19:44.061Z"
   },
   {
    "duration": 3,
    "start_time": "2022-12-28T16:19:44.074Z"
   },
   {
    "duration": 7,
    "start_time": "2022-12-28T16:19:44.079Z"
   },
   {
    "duration": 24,
    "start_time": "2022-12-28T16:19:44.089Z"
   },
   {
    "duration": 7,
    "start_time": "2022-12-28T16:19:44.114Z"
   },
   {
    "duration": 8,
    "start_time": "2022-12-28T16:19:44.123Z"
   },
   {
    "duration": 12,
    "start_time": "2022-12-28T16:19:44.133Z"
   },
   {
    "duration": 13,
    "start_time": "2022-12-28T16:19:44.146Z"
   },
   {
    "duration": 15,
    "start_time": "2022-12-28T16:19:44.161Z"
   },
   {
    "duration": 14,
    "start_time": "2022-12-28T16:19:44.178Z"
   },
   {
    "duration": 22,
    "start_time": "2022-12-28T16:19:44.194Z"
   },
   {
    "duration": 201,
    "start_time": "2022-12-28T16:19:44.217Z"
   },
   {
    "duration": 96,
    "start_time": "2022-12-28T16:19:44.420Z"
   },
   {
    "duration": 1527,
    "start_time": "2022-12-28T17:02:39.181Z"
   },
   {
    "duration": 31,
    "start_time": "2022-12-28T17:02:40.710Z"
   },
   {
    "duration": 23,
    "start_time": "2022-12-28T17:02:40.743Z"
   },
   {
    "duration": 20,
    "start_time": "2022-12-28T17:02:40.769Z"
   },
   {
    "duration": 12,
    "start_time": "2022-12-28T17:02:40.791Z"
   },
   {
    "duration": 9,
    "start_time": "2022-12-28T17:02:40.805Z"
   },
   {
    "duration": 11,
    "start_time": "2022-12-28T17:02:40.815Z"
   },
   {
    "duration": 8,
    "start_time": "2022-12-28T17:02:40.827Z"
   },
   {
    "duration": 5,
    "start_time": "2022-12-28T17:02:40.837Z"
   },
   {
    "duration": 22,
    "start_time": "2022-12-28T17:02:40.844Z"
   },
   {
    "duration": 9,
    "start_time": "2022-12-28T17:02:40.868Z"
   },
   {
    "duration": 3,
    "start_time": "2022-12-28T17:02:40.879Z"
   },
   {
    "duration": 31,
    "start_time": "2022-12-28T17:02:40.884Z"
   },
   {
    "duration": 7,
    "start_time": "2022-12-28T17:02:40.917Z"
   },
   {
    "duration": 7,
    "start_time": "2022-12-28T17:02:40.925Z"
   },
   {
    "duration": 7,
    "start_time": "2022-12-28T17:02:40.933Z"
   },
   {
    "duration": 8,
    "start_time": "2022-12-28T17:02:40.941Z"
   },
   {
    "duration": 10,
    "start_time": "2022-12-28T17:02:40.951Z"
   },
   {
    "duration": 6,
    "start_time": "2022-12-28T17:02:40.963Z"
   },
   {
    "duration": 8,
    "start_time": "2022-12-28T17:02:40.970Z"
   },
   {
    "duration": 7,
    "start_time": "2022-12-28T17:02:41.012Z"
   },
   {
    "duration": 93,
    "start_time": "2022-12-28T17:02:41.021Z"
   },
   {
    "duration": 1523,
    "start_time": "2022-12-28T17:08:56.418Z"
   },
   {
    "duration": 31,
    "start_time": "2022-12-28T17:08:57.944Z"
   },
   {
    "duration": 12,
    "start_time": "2022-12-28T17:08:57.977Z"
   },
   {
    "duration": 16,
    "start_time": "2022-12-28T17:08:57.991Z"
   },
   {
    "duration": 3,
    "start_time": "2022-12-28T17:08:58.009Z"
   },
   {
    "duration": 8,
    "start_time": "2022-12-28T17:08:58.013Z"
   },
   {
    "duration": 8,
    "start_time": "2022-12-28T17:08:58.022Z"
   },
   {
    "duration": 7,
    "start_time": "2022-12-28T17:08:58.032Z"
   },
   {
    "duration": 6,
    "start_time": "2022-12-28T17:08:58.041Z"
   },
   {
    "duration": 23,
    "start_time": "2022-12-28T17:08:58.049Z"
   },
   {
    "duration": 10,
    "start_time": "2022-12-28T17:08:58.074Z"
   },
   {
    "duration": 26,
    "start_time": "2022-12-28T17:08:58.086Z"
   },
   {
    "duration": 4,
    "start_time": "2022-12-28T17:08:58.114Z"
   },
   {
    "duration": 7,
    "start_time": "2022-12-28T17:08:58.120Z"
   },
   {
    "duration": 8,
    "start_time": "2022-12-28T17:08:58.128Z"
   },
   {
    "duration": 6,
    "start_time": "2022-12-28T17:08:58.138Z"
   },
   {
    "duration": 6,
    "start_time": "2022-12-28T17:08:58.146Z"
   },
   {
    "duration": 10,
    "start_time": "2022-12-28T17:08:58.153Z"
   },
   {
    "duration": 6,
    "start_time": "2022-12-28T17:08:58.165Z"
   },
   {
    "duration": 42,
    "start_time": "2022-12-28T17:08:58.173Z"
   },
   {
    "duration": 6,
    "start_time": "2022-12-28T17:08:58.217Z"
   },
   {
    "duration": 98,
    "start_time": "2022-12-28T17:08:58.225Z"
   },
   {
    "duration": 398,
    "start_time": "2022-12-28T17:20:27.002Z"
   },
   {
    "duration": 138,
    "start_time": "2022-12-28T17:29:21.340Z"
   },
   {
    "duration": 21,
    "start_time": "2022-12-28T17:32:32.600Z"
   },
   {
    "duration": 127,
    "start_time": "2022-12-28T17:33:38.691Z"
   },
   {
    "duration": 1487,
    "start_time": "2022-12-28T17:41:01.159Z"
   },
   {
    "duration": 31,
    "start_time": "2022-12-28T17:41:02.648Z"
   },
   {
    "duration": 12,
    "start_time": "2022-12-28T17:41:02.680Z"
   },
   {
    "duration": 14,
    "start_time": "2022-12-28T17:41:02.693Z"
   },
   {
    "duration": 3,
    "start_time": "2022-12-28T17:41:02.710Z"
   },
   {
    "duration": 6,
    "start_time": "2022-12-28T17:41:02.714Z"
   },
   {
    "duration": 10,
    "start_time": "2022-12-28T17:41:02.722Z"
   },
   {
    "duration": 8,
    "start_time": "2022-12-28T17:41:02.733Z"
   },
   {
    "duration": 5,
    "start_time": "2022-12-28T17:41:02.742Z"
   },
   {
    "duration": 22,
    "start_time": "2022-12-28T17:41:02.748Z"
   },
   {
    "duration": 9,
    "start_time": "2022-12-28T17:41:02.771Z"
   },
   {
    "duration": 31,
    "start_time": "2022-12-28T17:41:02.781Z"
   },
   {
    "duration": 6,
    "start_time": "2022-12-28T17:41:02.814Z"
   },
   {
    "duration": 7,
    "start_time": "2022-12-28T17:41:02.823Z"
   },
   {
    "duration": 5,
    "start_time": "2022-12-28T17:41:02.831Z"
   },
   {
    "duration": 7,
    "start_time": "2022-12-28T17:41:02.838Z"
   },
   {
    "duration": 4,
    "start_time": "2022-12-28T17:41:02.847Z"
   },
   {
    "duration": 7,
    "start_time": "2022-12-28T17:41:02.853Z"
   },
   {
    "duration": 5,
    "start_time": "2022-12-28T17:41:02.861Z"
   },
   {
    "duration": 45,
    "start_time": "2022-12-28T17:41:02.867Z"
   },
   {
    "duration": 7,
    "start_time": "2022-12-28T17:41:02.914Z"
   },
   {
    "duration": 89,
    "start_time": "2022-12-28T17:41:02.923Z"
   }
  ],
  "kernelspec": {
   "display_name": "Python 3 (ipykernel)",
   "language": "python",
   "name": "python3"
  },
  "language_info": {
   "codemirror_mode": {
    "name": "ipython",
    "version": 3
   },
   "file_extension": ".py",
   "mimetype": "text/x-python",
   "name": "python",
   "nbconvert_exporter": "python",
   "pygments_lexer": "ipython3",
   "version": "3.9.16"
  },
  "toc": {
   "base_numbering": 1,
   "nav_menu": {},
   "number_sections": true,
   "sideBar": true,
   "skip_h1_title": true,
   "title_cell": "Содержание",
   "title_sidebar": "Contents",
   "toc_cell": true,
   "toc_position": {},
   "toc_section_display": true,
   "toc_window_display": true
  }
 },
 "nbformat": 4,
 "nbformat_minor": 2
}
